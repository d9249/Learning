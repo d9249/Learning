{
 "cells": [
  {
   "cell_type": "code",
   "execution_count": 1,
   "id": "cc615215",
   "metadata": {},
   "outputs": [],
   "source": [
    "from specific_dataset import *\n",
    "from specific_train import *\n",
    "\n",
    "import matplotlib.pyplot as plt\n",
    "\n",
    "import torch, torchvision\n",
    "import torchvision.transforms as transforms"
   ]
  },
  {
   "cell_type": "code",
   "execution_count": 2,
   "id": "d7fed971",
   "metadata": {},
   "outputs": [],
   "source": [
    "import warnings\n",
    "\n",
    "warnings.filterwarnings('ignore')"
   ]
  },
  {
   "cell_type": "code",
   "execution_count": null,
   "id": "400d8de5",
   "metadata": {},
   "outputs": [],
   "source": []
  },
  {
   "cell_type": "code",
   "execution_count": 3,
   "id": "d7f97ab6",
   "metadata": {},
   "outputs": [],
   "source": [
    "batch_size = 32\n",
    "\n",
    "\n",
    "train_transform = transforms.Compose([\n",
    "    transforms.Resize(256), transforms.RandomHorizontalFlip(),\n",
    "    transforms.ToTensor(), transforms.Normalize(mean=[0.485, 0.456, 0.406], std=[0.229, 0.224, 0.225])])\n",
    "\n",
    "val_transform = transforms.Compose([\n",
    "    transforms.Resize(256), \n",
    "    transforms.ToTensor(), transforms.Normalize(mean=[0.485, 0.456, 0.406], std=[0.229, 0.224, 0.225])])\n",
    "\n",
    "\n",
    "train_dataset = MDataset(data_type='train', transform=train_transform)\n",
    "val_dataset = MDataset(data_type='val', transform=val_transform)\n",
    "\n",
    "train_loader = torch.utils.data.DataLoader(train_dataset, batch_size=batch_size, shuffle=True)\n",
    "val_loader = torch.utils.data.DataLoader(val_dataset, batch_size=batch_size, shuffle=False)"
   ]
  },
  {
   "cell_type": "code",
   "execution_count": null,
   "id": "8bae3214",
   "metadata": {},
   "outputs": [],
   "source": []
  },
  {
   "cell_type": "code",
   "execution_count": 4,
   "id": "ff8fd340",
   "metadata": {},
   "outputs": [],
   "source": [
    "model = Baseline(model='resnet18', num_classes=39, print_freq=5, save=True, tag='M')"
   ]
  },
  {
   "cell_type": "code",
   "execution_count": 5,
   "id": "cb07767c",
   "metadata": {},
   "outputs": [],
   "source": [
    "epochs = 10\n",
    "lr = 0.0005\n",
    "weight_decay = 0.00001"
   ]
  },
  {
   "cell_type": "code",
   "execution_count": 6,
   "id": "3ae6f71d",
   "metadata": {
    "scrolled": false
   },
   "outputs": [
    {
     "name": "stdout",
     "output_type": "stream",
     "text": [
      "Epoch 1 Started...\n",
      "Best Model Saved\n",
      "Iteration : 1 - Train Loss : 3.869495, Test Loss : 3.621652, Train Acc : 6.250000, Test Acc : 8.117326\n",
      "Best Model Saved\n",
      "Iteration : 6 - Train Loss : 2.855311, Test Loss : 2.836160, Train Acc : 31.250000, Test Acc : 29.263302\n",
      "Best Model Saved\n",
      "Iteration : 11 - Train Loss : 1.758312, Test Loss : 2.015212, Train Acc : 46.875000, Test Acc : 43.451569\n",
      "Best Model Saved\n",
      "Iteration : 16 - Train Loss : 1.560661, Test Loss : 1.519559, Train Acc : 62.500000, Test Acc : 56.343793\n",
      "Best Model Saved\n",
      "Iteration : 21 - Train Loss : 1.236533, Test Loss : 1.077570, Train Acc : 68.750000, Test Acc : 66.848568\n",
      "Best Model Saved\n",
      "Iteration : 26 - Train Loss : 0.960187, Test Loss : 0.946622, Train Acc : 75.000000, Test Acc : 70.532060\n",
      "Best Model Saved\n",
      "Iteration : 31 - Train Loss : 1.041540, Test Loss : 0.724882, Train Acc : 65.625000, Test Acc : 78.444748\n",
      "Best Model Saved\n",
      "Iteration : 36 - Train Loss : 0.553922, Test Loss : 0.680493, Train Acc : 84.375000, Test Acc : 80.150068\n",
      "Best Model Saved\n",
      "Iteration : 41 - Train Loss : 0.536125, Test Loss : 0.597032, Train Acc : 81.250000, Test Acc : 81.991814\n",
      "Best Model Saved\n",
      "Iteration : 46 - Train Loss : 0.397796, Test Loss : 0.436311, Train Acc : 87.500000, Test Acc : 88.813097\n",
      "Best Model Saved\n",
      "Iteration : 51 - Train Loss : 0.490219, Test Loss : 0.455045, Train Acc : 93.750000, Test Acc : 89.358799\n",
      "Iteration : 56 - Train Loss : 0.287206, Test Loss : 0.607762, Train Acc : 96.875000, Test Acc : 83.219645\n",
      "Best Model Saved\n",
      "Iteration : 61 - Train Loss : 0.273516, Test Loss : 0.368306, Train Acc : 93.750000, Test Acc : 90.518417\n",
      "Iteration : 66 - Train Loss : 0.268738, Test Loss : 0.416948, Train Acc : 93.750000, Test Acc : 88.881310\n",
      "Best Model Saved\n",
      "Iteration : 71 - Train Loss : 0.400213, Test Loss : 0.344028, Train Acc : 90.625000, Test Acc : 91.132333\n",
      "Best Model Saved\n",
      "Iteration : 76 - Train Loss : 0.283436, Test Loss : 0.317068, Train Acc : 96.875000, Test Acc : 93.451569\n",
      "Best Model Saved\n",
      "Iteration : 81 - Train Loss : 0.343286, Test Loss : 0.302768, Train Acc : 84.375000, Test Acc : 93.587995\n",
      "Best Model Saved\n",
      "Iteration : 86 - Train Loss : 0.253647, Test Loss : 0.250364, Train Acc : 90.625000, Test Acc : 94.065484\n",
      "Iteration : 91 - Train Loss : 0.330796, Test Loss : 0.277857, Train Acc : 90.625000, Test Acc : 92.428377\n",
      "Iteration : 96 - Train Loss : 0.273351, Test Loss : 0.295135, Train Acc : 90.625000, Test Acc : 91.132333\n",
      "Best Model Saved\n",
      "Iteration : 101 - Train Loss : 0.160894, Test Loss : 0.231187, Train Acc : 96.875000, Test Acc : 95.429741\n",
      "Best Model Saved\n",
      "Iteration : 106 - Train Loss : 0.163820, Test Loss : 0.209285, Train Acc : 100.000000, Test Acc : 95.088677\n",
      "Iteration : 111 - Train Loss : 0.241565, Test Loss : 0.214691, Train Acc : 93.750000, Test Acc : 93.860846\n",
      "Iteration : 116 - Train Loss : 0.224776, Test Loss : 0.231243, Train Acc : 96.875000, Test Acc : 93.383356\n",
      "Best Model Saved\n",
      "Iteration : 121 - Train Loss : 0.128598, Test Loss : 0.163448, Train Acc : 96.875000, Test Acc : 95.975443\n",
      "Best Model Saved\n",
      "Iteration : 126 - Train Loss : 0.137869, Test Loss : 0.147369, Train Acc : 100.000000, Test Acc : 96.589359\n",
      "Iteration : 131 - Train Loss : 0.074377, Test Loss : 0.166457, Train Acc : 100.000000, Test Acc : 95.907231\n",
      "Best Model Saved\n",
      "Iteration : 136 - Train Loss : 0.084817, Test Loss : 0.118796, Train Acc : 100.000000, Test Acc : 97.476126\n",
      "\n",
      "Epoch 2 Started...\n",
      "Best Model Saved\n",
      "Iteration : 1 - Train Loss : 0.161194, Test Loss : 0.120454, Train Acc : 93.750000, Test Acc : 97.885402\n",
      "Iteration : 6 - Train Loss : 0.060648, Test Loss : 0.157192, Train Acc : 100.000000, Test Acc : 96.521146\n",
      "Iteration : 11 - Train Loss : 0.055904, Test Loss : 0.294786, Train Acc : 100.000000, Test Acc : 91.814461\n",
      "Iteration : 16 - Train Loss : 0.060601, Test Loss : 0.214889, Train Acc : 96.875000, Test Acc : 93.383356\n",
      "Best Model Saved\n",
      "Iteration : 21 - Train Loss : 0.083020, Test Loss : 0.113649, Train Acc : 96.875000, Test Acc : 97.339700\n",
      "Best Model Saved\n",
      "Iteration : 26 - Train Loss : 0.111349, Test Loss : 0.113623, Train Acc : 96.875000, Test Acc : 96.930423\n",
      "Iteration : 31 - Train Loss : 0.170316, Test Loss : 0.175426, Train Acc : 96.875000, Test Acc : 95.702592\n",
      "Iteration : 36 - Train Loss : 0.226196, Test Loss : 0.160137, Train Acc : 93.750000, Test Acc : 95.839018\n",
      "Iteration : 41 - Train Loss : 0.048378, Test Loss : 0.227227, Train Acc : 100.000000, Test Acc : 93.724420\n",
      "Iteration : 46 - Train Loss : 0.060747, Test Loss : 0.172389, Train Acc : 100.000000, Test Acc : 96.248295\n",
      "Iteration : 51 - Train Loss : 0.051764, Test Loss : 0.168125, Train Acc : 100.000000, Test Acc : 95.975443\n",
      "Iteration : 56 - Train Loss : 0.058761, Test Loss : 0.204745, Train Acc : 100.000000, Test Acc : 94.338336\n",
      "Best Model Saved\n",
      "Iteration : 61 - Train Loss : 0.021057, Test Loss : 0.116612, Train Acc : 100.000000, Test Acc : 96.998636\n",
      "Best Model Saved\n",
      "Iteration : 66 - Train Loss : 0.048811, Test Loss : 0.115008, Train Acc : 100.000000, Test Acc : 97.271487\n",
      "Iteration : 71 - Train Loss : 0.071461, Test Loss : 0.138191, Train Acc : 96.875000, Test Acc : 96.998636\n",
      "Iteration : 76 - Train Loss : 0.042694, Test Loss : 0.151845, Train Acc : 100.000000, Test Acc : 97.203274\n",
      "Best Model Saved\n",
      "Iteration : 81 - Train Loss : 0.072593, Test Loss : 0.113245, Train Acc : 100.000000, Test Acc : 97.271487\n",
      "Iteration : 86 - Train Loss : 0.029547, Test Loss : 0.121761, Train Acc : 100.000000, Test Acc : 96.998636\n",
      "Best Model Saved\n",
      "Iteration : 91 - Train Loss : 0.227650, Test Loss : 0.106265, Train Acc : 93.750000, Test Acc : 96.862210\n",
      "Best Model Saved\n",
      "Iteration : 96 - Train Loss : 0.105682, Test Loss : 0.075709, Train Acc : 96.875000, Test Acc : 98.567531\n",
      "Iteration : 101 - Train Loss : 0.041611, Test Loss : 0.080740, Train Acc : 100.000000, Test Acc : 98.362892\n",
      "Iteration : 106 - Train Loss : 0.022507, Test Loss : 0.090921, Train Acc : 100.000000, Test Acc : 98.090041\n",
      "Iteration : 111 - Train Loss : 0.020121, Test Loss : 0.089487, Train Acc : 100.000000, Test Acc : 97.953615\n",
      "Iteration : 116 - Train Loss : 0.036173, Test Loss : 0.131845, Train Acc : 100.000000, Test Acc : 96.657572\n",
      "Iteration : 121 - Train Loss : 0.075249, Test Loss : 0.084980, Train Acc : 93.750000, Test Acc : 97.817190\n",
      "Iteration : 126 - Train Loss : 0.020186, Test Loss : 0.126817, Train Acc : 100.000000, Test Acc : 97.135061\n",
      "Iteration : 131 - Train Loss : 0.081181, Test Loss : 0.168393, Train Acc : 100.000000, Test Acc : 96.384720\n",
      "Iteration : 136 - Train Loss : 0.045280, Test Loss : 0.330295, Train Acc : 100.000000, Test Acc : 93.315143\n",
      "\n",
      "Epoch 3 Started...\n",
      "Iteration : 1 - Train Loss : 0.034927, Test Loss : 0.277422, Train Acc : 100.000000, Test Acc : 92.633015\n",
      "Iteration : 6 - Train Loss : 0.033316, Test Loss : 0.109455, Train Acc : 100.000000, Test Acc : 97.203274\n",
      "Iteration : 11 - Train Loss : 0.039655, Test Loss : 0.099520, Train Acc : 100.000000, Test Acc : 97.407913\n",
      "Iteration : 16 - Train Loss : 0.015195, Test Loss : 0.078460, Train Acc : 100.000000, Test Acc : 98.294679\n",
      "Iteration : 21 - Train Loss : 0.195212, Test Loss : 0.092105, Train Acc : 96.875000, Test Acc : 97.339700\n",
      "Iteration : 26 - Train Loss : 0.009667, Test Loss : 0.083547, Train Acc : 100.000000, Test Acc : 97.544338\n",
      "Best Model Saved\n",
      "Iteration : 31 - Train Loss : 0.015956, Test Loss : 0.063936, Train Acc : 100.000000, Test Acc : 98.840382\n",
      "Iteration : 36 - Train Loss : 0.136460, Test Loss : 0.078984, Train Acc : 96.875000, Test Acc : 98.362892\n",
      "Iteration : 41 - Train Loss : 0.026597, Test Loss : 0.079734, Train Acc : 100.000000, Test Acc : 98.226467\n",
      "Iteration : 46 - Train Loss : 0.094820, Test Loss : 0.130818, Train Acc : 96.875000, Test Acc : 96.998636\n",
      "Iteration : 51 - Train Loss : 0.104767, Test Loss : 0.192744, Train Acc : 93.750000, Test Acc : 94.884038\n",
      "Iteration : 56 - Train Loss : 0.044494, Test Loss : 0.489294, Train Acc : 100.000000, Test Acc : 86.630286\n",
      "Iteration : 61 - Train Loss : 0.165616, Test Loss : 0.230152, Train Acc : 96.875000, Test Acc : 95.293315\n",
      "Iteration : 66 - Train Loss : 0.044497, Test Loss : 0.162298, Train Acc : 100.000000, Test Acc : 96.111869\n",
      "Iteration : 71 - Train Loss : 0.241942, Test Loss : 0.127444, Train Acc : 93.750000, Test Acc : 96.657572\n",
      "Iteration : 76 - Train Loss : 0.025332, Test Loss : 0.106204, Train Acc : 100.000000, Test Acc : 97.271487\n"
     ]
    },
    {
     "name": "stdout",
     "output_type": "stream",
     "text": [
      "Iteration : 81 - Train Loss : 0.041231, Test Loss : 0.113905, Train Acc : 100.000000, Test Acc : 97.339700\n",
      "Iteration : 86 - Train Loss : 0.008542, Test Loss : 0.100727, Train Acc : 100.000000, Test Acc : 97.203274\n",
      "Iteration : 91 - Train Loss : 0.212367, Test Loss : 0.090597, Train Acc : 93.750000, Test Acc : 97.612551\n",
      "Iteration : 96 - Train Loss : 0.036365, Test Loss : 0.234555, Train Acc : 100.000000, Test Acc : 94.815825\n",
      "Iteration : 101 - Train Loss : 0.054734, Test Loss : 0.177305, Train Acc : 96.875000, Test Acc : 96.180082\n",
      "Iteration : 106 - Train Loss : 0.022159, Test Loss : 0.142015, Train Acc : 100.000000, Test Acc : 97.612551\n",
      "Iteration : 111 - Train Loss : 0.017910, Test Loss : 0.105184, Train Acc : 100.000000, Test Acc : 96.930423\n",
      "Iteration : 116 - Train Loss : 0.086720, Test Loss : 0.068712, Train Acc : 93.750000, Test Acc : 98.362892\n",
      "Iteration : 121 - Train Loss : 0.040650, Test Loss : 0.324493, Train Acc : 100.000000, Test Acc : 91.746248\n",
      "Best Model Saved\n",
      "Iteration : 126 - Train Loss : 0.079833, Test Loss : 0.059222, Train Acc : 96.875000, Test Acc : 98.635744\n",
      "Best Model Saved\n",
      "Iteration : 131 - Train Loss : 0.012576, Test Loss : 0.056154, Train Acc : 100.000000, Test Acc : 99.181446\n",
      "Iteration : 136 - Train Loss : 0.086541, Test Loss : 0.095076, Train Acc : 96.875000, Test Acc : 98.294679\n",
      "\n",
      "Epoch 4 Started...\n",
      "Iteration : 1 - Train Loss : 0.011095, Test Loss : 0.060203, Train Acc : 100.000000, Test Acc : 98.908595\n",
      "Iteration : 6 - Train Loss : 0.091704, Test Loss : 0.100094, Train Acc : 96.875000, Test Acc : 97.680764\n",
      "Iteration : 11 - Train Loss : 0.009847, Test Loss : 0.071672, Train Acc : 100.000000, Test Acc : 98.703956\n",
      "Iteration : 16 - Train Loss : 0.015945, Test Loss : 0.120168, Train Acc : 100.000000, Test Acc : 96.384720\n",
      "Iteration : 21 - Train Loss : 0.018544, Test Loss : 0.162975, Train Acc : 100.000000, Test Acc : 95.770805\n",
      "Iteration : 26 - Train Loss : 0.021999, Test Loss : 0.097474, Train Acc : 100.000000, Test Acc : 97.066849\n",
      "Iteration : 31 - Train Loss : 0.022938, Test Loss : 0.107943, Train Acc : 100.000000, Test Acc : 96.998636\n"
     ]
    },
    {
     "ename": "KeyboardInterrupt",
     "evalue": "",
     "output_type": "error",
     "traceback": [
      "\u001b[0;31m---------------------------------------------------------------------------\u001b[0m",
      "\u001b[0;31mKeyboardInterrupt\u001b[0m                         Traceback (most recent call last)",
      "\u001b[0;32m/tmp/ipykernel_18348/2650767145.py\u001b[0m in \u001b[0;36m<module>\u001b[0;34m\u001b[0m\n\u001b[0;32m----> 1\u001b[0;31m \u001b[0mmodel\u001b[0m\u001b[0;34m.\u001b[0m\u001b[0mtrain\u001b[0m\u001b[0;34m(\u001b[0m\u001b[0mtrain_loader\u001b[0m\u001b[0;34m,\u001b[0m \u001b[0mval_loader\u001b[0m\u001b[0;34m,\u001b[0m \u001b[0mepochs\u001b[0m\u001b[0;34m=\u001b[0m\u001b[0mepochs\u001b[0m\u001b[0;34m,\u001b[0m \u001b[0mlr\u001b[0m\u001b[0;34m=\u001b[0m\u001b[0mlr\u001b[0m\u001b[0;34m,\u001b[0m \u001b[0mweight_decay\u001b[0m\u001b[0;34m=\u001b[0m\u001b[0mweight_decay\u001b[0m\u001b[0;34m)\u001b[0m\u001b[0;34m\u001b[0m\u001b[0;34m\u001b[0m\u001b[0m\n\u001b[0m",
      "\u001b[0;32m/workspace/Desktop/Docker/DACON/specific_train.py\u001b[0m in \u001b[0;36mtrain\u001b[0;34m(self, train_data, test_data, epochs, lr, weight_decay)\u001b[0m\n\u001b[1;32m     62\u001b[0m                 \u001b[0;32mif\u001b[0m \u001b[0;34m(\u001b[0m\u001b[0mepoch\u001b[0m \u001b[0;34m%\u001b[0m \u001b[0mself\u001b[0m\u001b[0;34m.\u001b[0m\u001b[0mepoch_print\u001b[0m \u001b[0;34m==\u001b[0m \u001b[0;36m0\u001b[0m\u001b[0;34m)\u001b[0m \u001b[0;32mand\u001b[0m \u001b[0;34m(\u001b[0m\u001b[0mi\u001b[0m \u001b[0;34m%\u001b[0m \u001b[0mself\u001b[0m\u001b[0;34m.\u001b[0m\u001b[0mprint_freq\u001b[0m \u001b[0;34m==\u001b[0m \u001b[0;36m0\u001b[0m\u001b[0;34m)\u001b[0m\u001b[0;34m:\u001b[0m\u001b[0;34m\u001b[0m\u001b[0;34m\u001b[0m\u001b[0m\n\u001b[1;32m     63\u001b[0m                     \u001b[0mtrain_acc\u001b[0m \u001b[0;34m=\u001b[0m \u001b[0;36m100\u001b[0m \u001b[0;34m*\u001b[0m \u001b[0mcount\u001b[0m\u001b[0;34m(\u001b[0m\u001b[0moutput\u001b[0m\u001b[0;34m,\u001b[0m \u001b[0my\u001b[0m\u001b[0;34m)\u001b[0m \u001b[0;34m/\u001b[0m \u001b[0my\u001b[0m\u001b[0;34m.\u001b[0m\u001b[0msize\u001b[0m\u001b[0;34m(\u001b[0m\u001b[0;36m0\u001b[0m\u001b[0;34m)\u001b[0m\u001b[0;34m\u001b[0m\u001b[0;34m\u001b[0m\u001b[0m\n\u001b[0;32m---> 64\u001b[0;31m                     \u001b[0mtest_acc\u001b[0m\u001b[0;34m,\u001b[0m \u001b[0mtest_loss\u001b[0m \u001b[0;34m=\u001b[0m \u001b[0mself\u001b[0m\u001b[0;34m.\u001b[0m\u001b[0mtest\u001b[0m\u001b[0;34m(\u001b[0m\u001b[0mtest_data\u001b[0m\u001b[0;34m)\u001b[0m\u001b[0;34m\u001b[0m\u001b[0;34m\u001b[0m\u001b[0m\n\u001b[0m\u001b[1;32m     65\u001b[0m \u001b[0;34m\u001b[0m\u001b[0m\n\u001b[1;32m     66\u001b[0m                     \u001b[0;32mif\u001b[0m \u001b[0mself\u001b[0m\u001b[0;34m.\u001b[0m\u001b[0msave\u001b[0m \u001b[0;32mand\u001b[0m \u001b[0;34m(\u001b[0m\u001b[0;34m(\u001b[0m\u001b[0mself\u001b[0m\u001b[0;34m.\u001b[0m\u001b[0mbest_acc\u001b[0m \u001b[0;34m==\u001b[0m \u001b[0;32mNone\u001b[0m\u001b[0;34m)\u001b[0m \u001b[0;32mor\u001b[0m \u001b[0;34m(\u001b[0m\u001b[0mself\u001b[0m\u001b[0;34m.\u001b[0m\u001b[0mbest_acc\u001b[0m \u001b[0;34m<\u001b[0m \u001b[0mtest_acc\u001b[0m\u001b[0;34m)\u001b[0m \u001b[0;32mor\u001b[0m \u001b[0;34m(\u001b[0m\u001b[0mtest_loss\u001b[0m \u001b[0;34m<\u001b[0m \u001b[0mself\u001b[0m\u001b[0;34m.\u001b[0m\u001b[0mbest_loss\u001b[0m\u001b[0;34m)\u001b[0m\u001b[0;34m)\u001b[0m\u001b[0;34m:\u001b[0m\u001b[0;34m\u001b[0m\u001b[0;34m\u001b[0m\u001b[0m\n",
      "\u001b[0;32m/workspace/Desktop/Docker/DACON/specific_train.py\u001b[0m in \u001b[0;36mtest\u001b[0;34m(self, test_data)\u001b[0m\n\u001b[1;32m     86\u001b[0m         \u001b[0mself\u001b[0m\u001b[0;34m.\u001b[0m\u001b[0mmodel\u001b[0m\u001b[0;34m.\u001b[0m\u001b[0meval\u001b[0m\u001b[0;34m(\u001b[0m\u001b[0;34m)\u001b[0m\u001b[0;34m\u001b[0m\u001b[0;34m\u001b[0m\u001b[0m\n\u001b[1;32m     87\u001b[0m         \u001b[0;32mwith\u001b[0m \u001b[0mtorch\u001b[0m\u001b[0;34m.\u001b[0m\u001b[0mno_grad\u001b[0m\u001b[0;34m(\u001b[0m\u001b[0;34m)\u001b[0m\u001b[0;34m:\u001b[0m\u001b[0;34m\u001b[0m\u001b[0;34m\u001b[0m\u001b[0m\n\u001b[0;32m---> 88\u001b[0;31m             \u001b[0;32mfor\u001b[0m \u001b[0mi\u001b[0m\u001b[0;34m,\u001b[0m \u001b[0;34m(\u001b[0m\u001b[0mX\u001b[0m\u001b[0;34m,\u001b[0m \u001b[0my\u001b[0m\u001b[0;34m)\u001b[0m \u001b[0;32min\u001b[0m \u001b[0menumerate\u001b[0m\u001b[0;34m(\u001b[0m\u001b[0mtest_data\u001b[0m\u001b[0;34m)\u001b[0m\u001b[0;34m:\u001b[0m\u001b[0;34m\u001b[0m\u001b[0;34m\u001b[0m\u001b[0m\n\u001b[0m\u001b[1;32m     89\u001b[0m                 \u001b[0mX\u001b[0m\u001b[0;34m,\u001b[0m \u001b[0my\u001b[0m \u001b[0;34m=\u001b[0m \u001b[0mX\u001b[0m\u001b[0;34m.\u001b[0m\u001b[0mcuda\u001b[0m\u001b[0;34m(\u001b[0m\u001b[0mself\u001b[0m\u001b[0;34m.\u001b[0m\u001b[0mgpu\u001b[0m\u001b[0;34m)\u001b[0m\u001b[0;34m,\u001b[0m \u001b[0my\u001b[0m\u001b[0;34m.\u001b[0m\u001b[0mcuda\u001b[0m\u001b[0;34m(\u001b[0m\u001b[0mself\u001b[0m\u001b[0;34m.\u001b[0m\u001b[0mgpu\u001b[0m\u001b[0;34m)\u001b[0m\u001b[0;34m\u001b[0m\u001b[0;34m\u001b[0m\u001b[0m\n\u001b[1;32m     90\u001b[0m                 \u001b[0moutput\u001b[0m \u001b[0;34m=\u001b[0m \u001b[0mself\u001b[0m\u001b[0;34m.\u001b[0m\u001b[0mmodel\u001b[0m\u001b[0;34m(\u001b[0m\u001b[0mX\u001b[0m\u001b[0;34m)\u001b[0m\u001b[0;34m\u001b[0m\u001b[0;34m\u001b[0m\u001b[0m\n",
      "\u001b[0;32m/opt/conda/lib/python3.8/site-packages/torch/utils/data/dataloader.py\u001b[0m in \u001b[0;36m__next__\u001b[0;34m(self)\u001b[0m\n\u001b[1;32m    515\u001b[0m             \u001b[0;32mif\u001b[0m \u001b[0mself\u001b[0m\u001b[0;34m.\u001b[0m\u001b[0m_sampler_iter\u001b[0m \u001b[0;32mis\u001b[0m \u001b[0;32mNone\u001b[0m\u001b[0;34m:\u001b[0m\u001b[0;34m\u001b[0m\u001b[0;34m\u001b[0m\u001b[0m\n\u001b[1;32m    516\u001b[0m                 \u001b[0mself\u001b[0m\u001b[0;34m.\u001b[0m\u001b[0m_reset\u001b[0m\u001b[0;34m(\u001b[0m\u001b[0;34m)\u001b[0m\u001b[0;34m\u001b[0m\u001b[0;34m\u001b[0m\u001b[0m\n\u001b[0;32m--> 517\u001b[0;31m             \u001b[0mdata\u001b[0m \u001b[0;34m=\u001b[0m \u001b[0mself\u001b[0m\u001b[0;34m.\u001b[0m\u001b[0m_next_data\u001b[0m\u001b[0;34m(\u001b[0m\u001b[0;34m)\u001b[0m\u001b[0;34m\u001b[0m\u001b[0;34m\u001b[0m\u001b[0m\n\u001b[0m\u001b[1;32m    518\u001b[0m             \u001b[0mself\u001b[0m\u001b[0;34m.\u001b[0m\u001b[0m_num_yielded\u001b[0m \u001b[0;34m+=\u001b[0m \u001b[0;36m1\u001b[0m\u001b[0;34m\u001b[0m\u001b[0;34m\u001b[0m\u001b[0m\n\u001b[1;32m    519\u001b[0m             \u001b[0;32mif\u001b[0m \u001b[0mself\u001b[0m\u001b[0;34m.\u001b[0m\u001b[0m_dataset_kind\u001b[0m \u001b[0;34m==\u001b[0m \u001b[0m_DatasetKind\u001b[0m\u001b[0;34m.\u001b[0m\u001b[0mIterable\u001b[0m \u001b[0;32mand\u001b[0m\u001b[0;31m \u001b[0m\u001b[0;31m\\\u001b[0m\u001b[0;34m\u001b[0m\u001b[0;34m\u001b[0m\u001b[0m\n",
      "\u001b[0;32m/opt/conda/lib/python3.8/site-packages/torch/utils/data/dataloader.py\u001b[0m in \u001b[0;36m_next_data\u001b[0;34m(self)\u001b[0m\n\u001b[1;32m    555\u001b[0m     \u001b[0;32mdef\u001b[0m \u001b[0m_next_data\u001b[0m\u001b[0;34m(\u001b[0m\u001b[0mself\u001b[0m\u001b[0;34m)\u001b[0m\u001b[0;34m:\u001b[0m\u001b[0;34m\u001b[0m\u001b[0;34m\u001b[0m\u001b[0m\n\u001b[1;32m    556\u001b[0m         \u001b[0mindex\u001b[0m \u001b[0;34m=\u001b[0m \u001b[0mself\u001b[0m\u001b[0;34m.\u001b[0m\u001b[0m_next_index\u001b[0m\u001b[0;34m(\u001b[0m\u001b[0;34m)\u001b[0m  \u001b[0;31m# may raise StopIteration\u001b[0m\u001b[0;34m\u001b[0m\u001b[0;34m\u001b[0m\u001b[0m\n\u001b[0;32m--> 557\u001b[0;31m         \u001b[0mdata\u001b[0m \u001b[0;34m=\u001b[0m \u001b[0mself\u001b[0m\u001b[0;34m.\u001b[0m\u001b[0m_dataset_fetcher\u001b[0m\u001b[0;34m.\u001b[0m\u001b[0mfetch\u001b[0m\u001b[0;34m(\u001b[0m\u001b[0mindex\u001b[0m\u001b[0;34m)\u001b[0m  \u001b[0;31m# may raise StopIteration\u001b[0m\u001b[0;34m\u001b[0m\u001b[0;34m\u001b[0m\u001b[0m\n\u001b[0m\u001b[1;32m    558\u001b[0m         \u001b[0;32mif\u001b[0m \u001b[0mself\u001b[0m\u001b[0;34m.\u001b[0m\u001b[0m_pin_memory\u001b[0m\u001b[0;34m:\u001b[0m\u001b[0;34m\u001b[0m\u001b[0;34m\u001b[0m\u001b[0m\n\u001b[1;32m    559\u001b[0m             \u001b[0mdata\u001b[0m \u001b[0;34m=\u001b[0m \u001b[0m_utils\u001b[0m\u001b[0;34m.\u001b[0m\u001b[0mpin_memory\u001b[0m\u001b[0;34m.\u001b[0m\u001b[0mpin_memory\u001b[0m\u001b[0;34m(\u001b[0m\u001b[0mdata\u001b[0m\u001b[0;34m)\u001b[0m\u001b[0;34m\u001b[0m\u001b[0;34m\u001b[0m\u001b[0m\n",
      "\u001b[0;32m/opt/conda/lib/python3.8/site-packages/torch/utils/data/_utils/fetch.py\u001b[0m in \u001b[0;36mfetch\u001b[0;34m(self, possibly_batched_index)\u001b[0m\n\u001b[1;32m     42\u001b[0m     \u001b[0;32mdef\u001b[0m \u001b[0mfetch\u001b[0m\u001b[0;34m(\u001b[0m\u001b[0mself\u001b[0m\u001b[0;34m,\u001b[0m \u001b[0mpossibly_batched_index\u001b[0m\u001b[0;34m)\u001b[0m\u001b[0;34m:\u001b[0m\u001b[0;34m\u001b[0m\u001b[0;34m\u001b[0m\u001b[0m\n\u001b[1;32m     43\u001b[0m         \u001b[0;32mif\u001b[0m \u001b[0mself\u001b[0m\u001b[0;34m.\u001b[0m\u001b[0mauto_collation\u001b[0m\u001b[0;34m:\u001b[0m\u001b[0;34m\u001b[0m\u001b[0;34m\u001b[0m\u001b[0m\n\u001b[0;32m---> 44\u001b[0;31m             \u001b[0mdata\u001b[0m \u001b[0;34m=\u001b[0m \u001b[0;34m[\u001b[0m\u001b[0mself\u001b[0m\u001b[0;34m.\u001b[0m\u001b[0mdataset\u001b[0m\u001b[0;34m[\u001b[0m\u001b[0midx\u001b[0m\u001b[0;34m]\u001b[0m \u001b[0;32mfor\u001b[0m \u001b[0midx\u001b[0m \u001b[0;32min\u001b[0m \u001b[0mpossibly_batched_index\u001b[0m\u001b[0;34m]\u001b[0m\u001b[0;34m\u001b[0m\u001b[0;34m\u001b[0m\u001b[0m\n\u001b[0m\u001b[1;32m     45\u001b[0m         \u001b[0;32melse\u001b[0m\u001b[0;34m:\u001b[0m\u001b[0;34m\u001b[0m\u001b[0;34m\u001b[0m\u001b[0m\n\u001b[1;32m     46\u001b[0m             \u001b[0mdata\u001b[0m \u001b[0;34m=\u001b[0m \u001b[0mself\u001b[0m\u001b[0;34m.\u001b[0m\u001b[0mdataset\u001b[0m\u001b[0;34m[\u001b[0m\u001b[0mpossibly_batched_index\u001b[0m\u001b[0;34m]\u001b[0m\u001b[0;34m\u001b[0m\u001b[0;34m\u001b[0m\u001b[0m\n",
      "\u001b[0;32m/opt/conda/lib/python3.8/site-packages/torch/utils/data/_utils/fetch.py\u001b[0m in \u001b[0;36m<listcomp>\u001b[0;34m(.0)\u001b[0m\n\u001b[1;32m     42\u001b[0m     \u001b[0;32mdef\u001b[0m \u001b[0mfetch\u001b[0m\u001b[0;34m(\u001b[0m\u001b[0mself\u001b[0m\u001b[0;34m,\u001b[0m \u001b[0mpossibly_batched_index\u001b[0m\u001b[0;34m)\u001b[0m\u001b[0;34m:\u001b[0m\u001b[0;34m\u001b[0m\u001b[0;34m\u001b[0m\u001b[0m\n\u001b[1;32m     43\u001b[0m         \u001b[0;32mif\u001b[0m \u001b[0mself\u001b[0m\u001b[0;34m.\u001b[0m\u001b[0mauto_collation\u001b[0m\u001b[0;34m:\u001b[0m\u001b[0;34m\u001b[0m\u001b[0;34m\u001b[0m\u001b[0m\n\u001b[0;32m---> 44\u001b[0;31m             \u001b[0mdata\u001b[0m \u001b[0;34m=\u001b[0m \u001b[0;34m[\u001b[0m\u001b[0mself\u001b[0m\u001b[0;34m.\u001b[0m\u001b[0mdataset\u001b[0m\u001b[0;34m[\u001b[0m\u001b[0midx\u001b[0m\u001b[0;34m]\u001b[0m \u001b[0;32mfor\u001b[0m \u001b[0midx\u001b[0m \u001b[0;32min\u001b[0m \u001b[0mpossibly_batched_index\u001b[0m\u001b[0;34m]\u001b[0m\u001b[0;34m\u001b[0m\u001b[0;34m\u001b[0m\u001b[0m\n\u001b[0m\u001b[1;32m     45\u001b[0m         \u001b[0;32melse\u001b[0m\u001b[0;34m:\u001b[0m\u001b[0;34m\u001b[0m\u001b[0;34m\u001b[0m\u001b[0m\n\u001b[1;32m     46\u001b[0m             \u001b[0mdata\u001b[0m \u001b[0;34m=\u001b[0m \u001b[0mself\u001b[0m\u001b[0;34m.\u001b[0m\u001b[0mdataset\u001b[0m\u001b[0;34m[\u001b[0m\u001b[0mpossibly_batched_index\u001b[0m\u001b[0;34m]\u001b[0m\u001b[0;34m\u001b[0m\u001b[0;34m\u001b[0m\u001b[0m\n",
      "\u001b[0;32m/workspace/Desktop/Docker/DACON/specific_dataset.py\u001b[0m in \u001b[0;36m__getitem__\u001b[0;34m(self, idx)\u001b[0m\n\u001b[1;32m    103\u001b[0m     \u001b[0;32mdef\u001b[0m \u001b[0m__getitem__\u001b[0m\u001b[0;34m(\u001b[0m\u001b[0mself\u001b[0m\u001b[0;34m,\u001b[0m \u001b[0midx\u001b[0m\u001b[0;34m)\u001b[0m\u001b[0;34m:\u001b[0m\u001b[0;34m\u001b[0m\u001b[0;34m\u001b[0m\u001b[0m\n\u001b[1;32m    104\u001b[0m         \u001b[0mimg\u001b[0m \u001b[0;34m=\u001b[0m \u001b[0mself\u001b[0m\u001b[0;34m.\u001b[0m\u001b[0mimgs\u001b[0m\u001b[0;34m[\u001b[0m\u001b[0midx\u001b[0m\u001b[0;34m]\u001b[0m\u001b[0;34m\u001b[0m\u001b[0;34m\u001b[0m\u001b[0m\n\u001b[0;32m--> 105\u001b[0;31m         \u001b[0;32mif\u001b[0m \u001b[0mself\u001b[0m\u001b[0;34m.\u001b[0m\u001b[0mtransform\u001b[0m\u001b[0;34m:\u001b[0m \u001b[0mimg\u001b[0m \u001b[0;34m=\u001b[0m \u001b[0mself\u001b[0m\u001b[0;34m.\u001b[0m\u001b[0mtransform\u001b[0m\u001b[0;34m(\u001b[0m\u001b[0mimg\u001b[0m\u001b[0;34m)\u001b[0m\u001b[0;34m\u001b[0m\u001b[0;34m\u001b[0m\u001b[0m\n\u001b[0m\u001b[1;32m    106\u001b[0m \u001b[0;34m\u001b[0m\u001b[0m\n\u001b[1;32m    107\u001b[0m         \u001b[0mlabel\u001b[0m \u001b[0;34m=\u001b[0m \u001b[0mself\u001b[0m\u001b[0;34m.\u001b[0m\u001b[0mmeaning2num\u001b[0m\u001b[0;34m[\u001b[0m\u001b[0mself\u001b[0m\u001b[0;34m.\u001b[0m\u001b[0mlabels\u001b[0m\u001b[0;34m[\u001b[0m\u001b[0midx\u001b[0m\u001b[0;34m]\u001b[0m\u001b[0;34m]\u001b[0m\u001b[0;34m\u001b[0m\u001b[0;34m\u001b[0m\u001b[0m\n",
      "\u001b[0;32m/opt/conda/lib/python3.8/site-packages/torchvision/transforms/transforms.py\u001b[0m in \u001b[0;36m__call__\u001b[0;34m(self, img)\u001b[0m\n\u001b[1;32m     58\u001b[0m     \u001b[0;32mdef\u001b[0m \u001b[0m__call__\u001b[0m\u001b[0;34m(\u001b[0m\u001b[0mself\u001b[0m\u001b[0;34m,\u001b[0m \u001b[0mimg\u001b[0m\u001b[0;34m)\u001b[0m\u001b[0;34m:\u001b[0m\u001b[0;34m\u001b[0m\u001b[0;34m\u001b[0m\u001b[0m\n\u001b[1;32m     59\u001b[0m         \u001b[0;32mfor\u001b[0m \u001b[0mt\u001b[0m \u001b[0;32min\u001b[0m \u001b[0mself\u001b[0m\u001b[0;34m.\u001b[0m\u001b[0mtransforms\u001b[0m\u001b[0;34m:\u001b[0m\u001b[0;34m\u001b[0m\u001b[0;34m\u001b[0m\u001b[0m\n\u001b[0;32m---> 60\u001b[0;31m             \u001b[0mimg\u001b[0m \u001b[0;34m=\u001b[0m \u001b[0mt\u001b[0m\u001b[0;34m(\u001b[0m\u001b[0mimg\u001b[0m\u001b[0;34m)\u001b[0m\u001b[0;34m\u001b[0m\u001b[0;34m\u001b[0m\u001b[0m\n\u001b[0m\u001b[1;32m     61\u001b[0m         \u001b[0;32mreturn\u001b[0m \u001b[0mimg\u001b[0m\u001b[0;34m\u001b[0m\u001b[0;34m\u001b[0m\u001b[0m\n\u001b[1;32m     62\u001b[0m \u001b[0;34m\u001b[0m\u001b[0m\n",
      "\u001b[0;32m/opt/conda/lib/python3.8/site-packages/torch/nn/modules/module.py\u001b[0m in \u001b[0;36m_call_impl\u001b[0;34m(self, *input, **kwargs)\u001b[0m\n\u001b[1;32m    887\u001b[0m             \u001b[0mresult\u001b[0m \u001b[0;34m=\u001b[0m \u001b[0mself\u001b[0m\u001b[0;34m.\u001b[0m\u001b[0m_slow_forward\u001b[0m\u001b[0;34m(\u001b[0m\u001b[0;34m*\u001b[0m\u001b[0minput\u001b[0m\u001b[0;34m,\u001b[0m \u001b[0;34m**\u001b[0m\u001b[0mkwargs\u001b[0m\u001b[0;34m)\u001b[0m\u001b[0;34m\u001b[0m\u001b[0;34m\u001b[0m\u001b[0m\n\u001b[1;32m    888\u001b[0m         \u001b[0;32melse\u001b[0m\u001b[0;34m:\u001b[0m\u001b[0;34m\u001b[0m\u001b[0;34m\u001b[0m\u001b[0m\n\u001b[0;32m--> 889\u001b[0;31m             \u001b[0mresult\u001b[0m \u001b[0;34m=\u001b[0m \u001b[0mself\u001b[0m\u001b[0;34m.\u001b[0m\u001b[0mforward\u001b[0m\u001b[0;34m(\u001b[0m\u001b[0;34m*\u001b[0m\u001b[0minput\u001b[0m\u001b[0;34m,\u001b[0m \u001b[0;34m**\u001b[0m\u001b[0mkwargs\u001b[0m\u001b[0;34m)\u001b[0m\u001b[0;34m\u001b[0m\u001b[0;34m\u001b[0m\u001b[0m\n\u001b[0m\u001b[1;32m    890\u001b[0m         for hook in itertools.chain(\n\u001b[1;32m    891\u001b[0m                 \u001b[0m_global_forward_hooks\u001b[0m\u001b[0;34m.\u001b[0m\u001b[0mvalues\u001b[0m\u001b[0;34m(\u001b[0m\u001b[0;34m)\u001b[0m\u001b[0;34m,\u001b[0m\u001b[0;34m\u001b[0m\u001b[0;34m\u001b[0m\u001b[0m\n",
      "\u001b[0;32m/opt/conda/lib/python3.8/site-packages/torchvision/transforms/transforms.py\u001b[0m in \u001b[0;36mforward\u001b[0;34m(self, img)\u001b[0m\n\u001b[1;32m    271\u001b[0m             \u001b[0mPIL\u001b[0m \u001b[0mImage\u001b[0m \u001b[0;32mor\u001b[0m \u001b[0mTensor\u001b[0m\u001b[0;34m:\u001b[0m \u001b[0mRescaled\u001b[0m \u001b[0mimage\u001b[0m\u001b[0;34m.\u001b[0m\u001b[0;34m\u001b[0m\u001b[0;34m\u001b[0m\u001b[0m\n\u001b[1;32m    272\u001b[0m         \"\"\"\n\u001b[0;32m--> 273\u001b[0;31m         \u001b[0;32mreturn\u001b[0m \u001b[0mF\u001b[0m\u001b[0;34m.\u001b[0m\u001b[0mresize\u001b[0m\u001b[0;34m(\u001b[0m\u001b[0mimg\u001b[0m\u001b[0;34m,\u001b[0m \u001b[0mself\u001b[0m\u001b[0;34m.\u001b[0m\u001b[0msize\u001b[0m\u001b[0;34m,\u001b[0m \u001b[0mself\u001b[0m\u001b[0;34m.\u001b[0m\u001b[0minterpolation\u001b[0m\u001b[0;34m)\u001b[0m\u001b[0;34m\u001b[0m\u001b[0;34m\u001b[0m\u001b[0m\n\u001b[0m\u001b[1;32m    274\u001b[0m \u001b[0;34m\u001b[0m\u001b[0m\n\u001b[1;32m    275\u001b[0m     \u001b[0;32mdef\u001b[0m \u001b[0m__repr__\u001b[0m\u001b[0;34m(\u001b[0m\u001b[0mself\u001b[0m\u001b[0;34m)\u001b[0m\u001b[0;34m:\u001b[0m\u001b[0;34m\u001b[0m\u001b[0;34m\u001b[0m\u001b[0m\n",
      "\u001b[0;32m/opt/conda/lib/python3.8/site-packages/torchvision/transforms/functional.py\u001b[0m in \u001b[0;36mresize\u001b[0;34m(img, size, interpolation)\u001b[0m\n\u001b[1;32m    373\u001b[0m     \u001b[0;32mif\u001b[0m \u001b[0;32mnot\u001b[0m \u001b[0misinstance\u001b[0m\u001b[0;34m(\u001b[0m\u001b[0mimg\u001b[0m\u001b[0;34m,\u001b[0m \u001b[0mtorch\u001b[0m\u001b[0;34m.\u001b[0m\u001b[0mTensor\u001b[0m\u001b[0;34m)\u001b[0m\u001b[0;34m:\u001b[0m\u001b[0;34m\u001b[0m\u001b[0;34m\u001b[0m\u001b[0m\n\u001b[1;32m    374\u001b[0m         \u001b[0mpil_interpolation\u001b[0m \u001b[0;34m=\u001b[0m \u001b[0mpil_modes_mapping\u001b[0m\u001b[0;34m[\u001b[0m\u001b[0minterpolation\u001b[0m\u001b[0;34m]\u001b[0m\u001b[0;34m\u001b[0m\u001b[0;34m\u001b[0m\u001b[0m\n\u001b[0;32m--> 375\u001b[0;31m         \u001b[0;32mreturn\u001b[0m \u001b[0mF_pil\u001b[0m\u001b[0;34m.\u001b[0m\u001b[0mresize\u001b[0m\u001b[0;34m(\u001b[0m\u001b[0mimg\u001b[0m\u001b[0;34m,\u001b[0m \u001b[0msize\u001b[0m\u001b[0;34m=\u001b[0m\u001b[0msize\u001b[0m\u001b[0;34m,\u001b[0m \u001b[0minterpolation\u001b[0m\u001b[0;34m=\u001b[0m\u001b[0mpil_interpolation\u001b[0m\u001b[0;34m)\u001b[0m\u001b[0;34m\u001b[0m\u001b[0;34m\u001b[0m\u001b[0m\n\u001b[0m\u001b[1;32m    376\u001b[0m \u001b[0;34m\u001b[0m\u001b[0m\n\u001b[1;32m    377\u001b[0m     \u001b[0;32mreturn\u001b[0m \u001b[0mF_t\u001b[0m\u001b[0;34m.\u001b[0m\u001b[0mresize\u001b[0m\u001b[0;34m(\u001b[0m\u001b[0mimg\u001b[0m\u001b[0;34m,\u001b[0m \u001b[0msize\u001b[0m\u001b[0;34m=\u001b[0m\u001b[0msize\u001b[0m\u001b[0;34m,\u001b[0m \u001b[0minterpolation\u001b[0m\u001b[0;34m=\u001b[0m\u001b[0minterpolation\u001b[0m\u001b[0;34m.\u001b[0m\u001b[0mvalue\u001b[0m\u001b[0;34m)\u001b[0m\u001b[0;34m\u001b[0m\u001b[0;34m\u001b[0m\u001b[0m\n",
      "\u001b[0;32m/opt/conda/lib/python3.8/site-packages/torchvision/transforms/functional_pil.py\u001b[0m in \u001b[0;36mresize\u001b[0;34m(img, size, interpolation)\u001b[0m\n\u001b[1;32m    224\u001b[0m             \u001b[0moh\u001b[0m \u001b[0;34m=\u001b[0m \u001b[0msize\u001b[0m\u001b[0;34m\u001b[0m\u001b[0;34m\u001b[0m\u001b[0m\n\u001b[1;32m    225\u001b[0m             \u001b[0mow\u001b[0m \u001b[0;34m=\u001b[0m \u001b[0mint\u001b[0m\u001b[0;34m(\u001b[0m\u001b[0msize\u001b[0m \u001b[0;34m*\u001b[0m \u001b[0mw\u001b[0m \u001b[0;34m/\u001b[0m \u001b[0mh\u001b[0m\u001b[0;34m)\u001b[0m\u001b[0;34m\u001b[0m\u001b[0;34m\u001b[0m\u001b[0m\n\u001b[0;32m--> 226\u001b[0;31m             \u001b[0;32mreturn\u001b[0m \u001b[0mimg\u001b[0m\u001b[0;34m.\u001b[0m\u001b[0mresize\u001b[0m\u001b[0;34m(\u001b[0m\u001b[0;34m(\u001b[0m\u001b[0mow\u001b[0m\u001b[0;34m,\u001b[0m \u001b[0moh\u001b[0m\u001b[0;34m)\u001b[0m\u001b[0;34m,\u001b[0m \u001b[0minterpolation\u001b[0m\u001b[0;34m)\u001b[0m\u001b[0;34m\u001b[0m\u001b[0;34m\u001b[0m\u001b[0m\n\u001b[0m\u001b[1;32m    227\u001b[0m     \u001b[0;32melse\u001b[0m\u001b[0;34m:\u001b[0m\u001b[0;34m\u001b[0m\u001b[0;34m\u001b[0m\u001b[0m\n\u001b[1;32m    228\u001b[0m         \u001b[0;32mreturn\u001b[0m \u001b[0mimg\u001b[0m\u001b[0;34m.\u001b[0m\u001b[0mresize\u001b[0m\u001b[0;34m(\u001b[0m\u001b[0msize\u001b[0m\u001b[0;34m[\u001b[0m\u001b[0;34m:\u001b[0m\u001b[0;34m:\u001b[0m\u001b[0;34m-\u001b[0m\u001b[0;36m1\u001b[0m\u001b[0;34m]\u001b[0m\u001b[0;34m,\u001b[0m \u001b[0minterpolation\u001b[0m\u001b[0;34m)\u001b[0m\u001b[0;34m\u001b[0m\u001b[0;34m\u001b[0m\u001b[0m\n",
      "\u001b[0;32m/opt/conda/lib/python3.8/site-packages/PIL/Image.py\u001b[0m in \u001b[0;36mresize\u001b[0;34m(self, size, resample, box, reducing_gap)\u001b[0m\n\u001b[1;32m   1933\u001b[0m                 )\n\u001b[1;32m   1934\u001b[0m \u001b[0;34m\u001b[0m\u001b[0m\n\u001b[0;32m-> 1935\u001b[0;31m         \u001b[0;32mreturn\u001b[0m \u001b[0mself\u001b[0m\u001b[0;34m.\u001b[0m\u001b[0m_new\u001b[0m\u001b[0;34m(\u001b[0m\u001b[0mself\u001b[0m\u001b[0;34m.\u001b[0m\u001b[0mim\u001b[0m\u001b[0;34m.\u001b[0m\u001b[0mresize\u001b[0m\u001b[0;34m(\u001b[0m\u001b[0msize\u001b[0m\u001b[0;34m,\u001b[0m \u001b[0mresample\u001b[0m\u001b[0;34m,\u001b[0m \u001b[0mbox\u001b[0m\u001b[0;34m)\u001b[0m\u001b[0;34m)\u001b[0m\u001b[0;34m\u001b[0m\u001b[0;34m\u001b[0m\u001b[0m\n\u001b[0m\u001b[1;32m   1936\u001b[0m \u001b[0;34m\u001b[0m\u001b[0m\n\u001b[1;32m   1937\u001b[0m     \u001b[0;32mdef\u001b[0m \u001b[0mreduce\u001b[0m\u001b[0;34m(\u001b[0m\u001b[0mself\u001b[0m\u001b[0;34m,\u001b[0m \u001b[0mfactor\u001b[0m\u001b[0;34m,\u001b[0m \u001b[0mbox\u001b[0m\u001b[0;34m=\u001b[0m\u001b[0;32mNone\u001b[0m\u001b[0;34m)\u001b[0m\u001b[0;34m:\u001b[0m\u001b[0;34m\u001b[0m\u001b[0;34m\u001b[0m\u001b[0m\n",
      "\u001b[0;31mKeyboardInterrupt\u001b[0m: "
     ]
    }
   ],
   "source": [
    "model.train(train_loader, val_loader, epochs=epochs, lr=lr, weight_decay=weight_decay)"
   ]
  },
  {
   "cell_type": "code",
   "execution_count": null,
   "id": "d61de36c",
   "metadata": {},
   "outputs": [],
   "source": []
  },
  {
   "cell_type": "code",
   "execution_count": null,
   "id": "6e1f37fc",
   "metadata": {},
   "outputs": [],
   "source": [
    "label_fontsize = 25\n",
    "\n",
    "plt.figure(figsize=(20, 10))\n",
    "train_lossline, = plt.plot(model.train_losses, label='Train')\n",
    "test_lossline, = plt.plot(model.test_losses, color='red', label='Test')\n",
    "plt.legend(handles=[train_lossline, test_lossline], fontsize=20)\n",
    "plt.xlabel('Step', fontsize=label_fontsize)\n",
    "plt.ylabel('Loss', fontsize=label_fontsize)\n",
    "plt.show()"
   ]
  },
  {
   "cell_type": "code",
   "execution_count": null,
   "id": "c76d7e20",
   "metadata": {},
   "outputs": [],
   "source": [
    "plt.figure(figsize=(20, 10))\n",
    "train_accline, = plt.plot(model.train_acc, label='Train')\n",
    "test_accline, = plt.plot(model.test_acc, color='red', label='Test')\n",
    "plt.legend(handles=[train_accline, test_accline], fontsize=20)\n",
    "plt.xlabel('Step', fontsize=label_fontsize)\n",
    "plt.ylabel('Acc', fontsize=label_fontsize)\n",
    "plt.show()"
   ]
  }
 ],
 "metadata": {
  "kernelspec": {
   "display_name": "Python 3 (ipykernel)",
   "language": "python",
   "name": "python3"
  },
  "language_info": {
   "codemirror_mode": {
    "name": "ipython",
    "version": 3
   },
   "file_extension": ".py",
   "mimetype": "text/x-python",
   "name": "python",
   "nbconvert_exporter": "python",
   "pygments_lexer": "ipython3",
   "version": "3.8.8"
  }
 },
 "nbformat": 4,
 "nbformat_minor": 5
}
