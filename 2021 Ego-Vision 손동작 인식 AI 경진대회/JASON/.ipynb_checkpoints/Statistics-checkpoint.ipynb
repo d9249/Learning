{
 "cells": [
  {
   "cell_type": "code",
   "execution_count": 1,
   "id": "b58dff6f",
   "metadata": {},
   "outputs": [],
   "source": [
    "import os, json, PIL\n",
    "import torchvision.transforms as transforms\n",
    "\n",
    "from torch.utils.data import Dataset, DataLoader"
   ]
  },
  {
   "cell_type": "code",
   "execution_count": 2,
   "id": "4a7f26a8",
   "metadata": {},
   "outputs": [],
   "source": [
    "class Statistics(Dataset):\n",
    "    def __init__(self):\n",
    "        train_dir = './train/'\n",
    "        test_dir = './test/'\n",
    "        \n",
    "        self.imgs = []\n",
    "        for num in sorted(os.listdir(train_dir)):\n",
    "            with open(train_dir + '{}/{}.json'.format(num, num), 'r') as j:\n",
    "                temp = json.load(j)\n",
    "                for info in temp['annotations']:\n",
    "                    self.imgs.append(train_dir + '{}/{}.png'.format(num, info['image_id']))\n",
    "                    \n",
    "        for num in sorted(os.listdir(test_dir)):\n",
    "            with open(test_dir + '{}/{}.json'.format(num, num), 'r') as j:\n",
    "                temp = json.load(j)\n",
    "                for info in temp['annotations']:\n",
    "                    self.imgs.append(test_dir + '{}/{}.png'.format(num, info['image_id']))\n",
    "\n",
    "    def __getitem__(self, idx):\n",
    "        img_path = self.imgs[idx]\n",
    "        img = PIL.Image.open(img_path).convert('RGB')\n",
    "        return transforms.ToTensor()(img)\n",
    "\n",
    "    def __len__(self):\n",
    "        return len(self.imgs)"
   ]
  },
  {
   "cell_type": "code",
   "execution_count": 3,
   "id": "6060222c",
   "metadata": {},
   "outputs": [
    {
     "name": "stdout",
     "output_type": "stream",
     "text": [
      "tensor([0.3005, 0.3035, 0.2712]) tensor([0.1519, 0.1252, 0.0996])\n"
     ]
    }
   ],
   "source": [
    "dataset = Statistics()\n",
    "loader = DataLoader(dataset, batch_size=64, shuffle=False)\n",
    "\n",
    "mean = 0.\n",
    "std = 0.\n",
    "nb_samples = 0.\n",
    "for data in loader:\n",
    "    batch_samples = data.size(0)\n",
    "    data = data.view(batch_samples, data.size(1), -1)\n",
    "    mean += data.mean(2).sum(0)\n",
    "    std += data.std(2).sum(0)\n",
    "    nb_samples += batch_samples\n",
    "\n",
    "mean /= nb_samples\n",
    "std /= nb_samples\n",
    "print(mean, std)"
   ]
  }
 ],
 "metadata": {
  "kernelspec": {
   "display_name": "Python 3 (ipykernel)",
   "language": "python",
   "name": "python3"
  },
  "language_info": {
   "codemirror_mode": {
    "name": "ipython",
    "version": 3
   },
   "file_extension": ".py",
   "mimetype": "text/x-python",
   "name": "python",
   "nbconvert_exporter": "python",
   "pygments_lexer": "ipython3",
   "version": "3.8.8"
  }
 },
 "nbformat": 4,
 "nbformat_minor": 5
}
