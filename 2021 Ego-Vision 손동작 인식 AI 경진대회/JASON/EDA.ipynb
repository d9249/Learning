{
 "cells": [
  {
   "cell_type": "code",
   "execution_count": 1,
   "id": "242446e0",
   "metadata": {},
   "outputs": [],
   "source": [
    "import os, csv, json, collections\n",
    "import matplotlib.pyplot as plt\n",
    "\n",
    "from PIL import Image"
   ]
  },
  {
   "cell_type": "code",
   "execution_count": null,
   "id": "79a01b52",
   "metadata": {},
   "outputs": [],
   "source": []
  },
  {
   "cell_type": "code",
   "execution_count": 2,
   "id": "6afcc75c",
   "metadata": {},
   "outputs": [],
   "source": [
    "csv_file = './hand_gesture_pose.csv'\n",
    "\n",
    "label_info = {}\n",
    "with open(csv_file, 'r') as c:\n",
    "    temp = csv.reader(c)\n",
    "    for i, row in enumerate(temp):\n",
    "        if i == 0: continue\n",
    "        if int(row[0]) not in label_info:\n",
    "            label_info[int(row[0])] = [row[1]] + row[-3:-1]"
   ]
  },
  {
   "cell_type": "code",
   "execution_count": 3,
   "id": "72be8b01",
   "metadata": {
    "scrolled": false
   },
   "outputs": [
    {
     "name": "stdout",
     "output_type": "stream",
     "text": [
      "(0, '숫자 1') ['number', 'my_hand', 'left'] ['0', '1']\n",
      "(1, '숫자 2') ['number', 'my_hand', 'left'] ['53', '54', '55', '56', '57']\n",
      "(2, '숫자 3') ['number', 'my_hand', 'left'] ['93', '94', '95', '96', '97']\n",
      "(3, '숫자 4') ['number', 'my_hand', 'left'] ['131', '132', '133', '134', '135']\n",
      "(4, '숫자 5') ['number', 'my_hand', 'left'] ['174', '175', '176', '177', '178']\n",
      "(5, '숫자 6') ['number', 'my_hand', 'left'] ['212', '213', '214', '215']\n",
      "(6, '숫자 7') ['number', 'my_hand', 'left'] ['253', '254', '255', '256', '257']\n",
      "(7, '숫자 8') ['number', 'my_hand', 'left'] ['288', '289', '290', '291', '292']\n",
      "(8, '숫자 9') ['number', 'my_hand', 'left'] ['319', '320', '321', '322', '323', '324']\n",
      "(9, '숫자 0') ['number', 'my_hand', 'left'] ['347', '348', '349', '350', '351']\n",
      "(10, '숫자 1') ['number', 'my_hand', 'right'] ['2', '3', '4', '5', '6']\n",
      "(11, '숫자 2') ['number', 'my_hand', 'right'] ['10', '7', '8', '9']\n",
      "(12, '숫자 3') ['number', 'my_hand', 'right'] ['11', '12', '13', '14', '15', '16']\n",
      "(13, '숫자 4') ['number', 'my_hand', 'right'] ['17', '18', '19', '20', '21', '22']\n",
      "(14, '숫자 5') ['number', 'my_hand', 'right'] ['23', '24', '25', '26', '27']\n",
      "(15, '숫자 6') ['number', 'my_hand', 'right'] ['28', '29', '30', '31']\n",
      "(16, '숫자 7') ['number', 'my_hand', 'right'] ['32', '33', '34', '35']\n",
      "(17, '숫자 8') ['number', 'my_hand', 'right'] ['36', '37', '38', '39', '40', '41']\n",
      "(18, '숫자 9') ['number', 'my_hand', 'right'] ['42', '43', '44', '45', '46']\n",
      "(19, '숫자 0') ['number', 'my_hand', 'right'] ['47', '48', '49', '50', '51', '52']\n",
      "(22, '손가락 오므리기') ['meaning', 'my_hand', 'left'] ['58', '59', '60', '61']\n",
      "(23, '전화모양') ['meaning', 'my_hand', 'left'] ['62', '63', '64', '65', '66', '67']\n",
      "(25, '손 안경') ['meaning', 'my_hand', 'left'] ['68', '69', '70', '71', '72', '73']\n",
      "(26, '손가락 접기') ['meaning', 'my_hand', 'left'] ['74', '75', '76', '77']\n",
      "(27, '손 토끼') ['meaning', 'my_hand', 'left'] ['78', '79', '80', '81']\n",
      "(28, '최고') ['meaning', 'my_hand', 'left'] ['82', '83', '84', '85', '86', '87']\n",
      "(29, '약속') ['meaning', 'my_hand', 'left'] ['88', '89', '90', '91', '92']\n",
      "(31, '검지,중지 교차') ['meaning', 'my_hand', 'left'] ['100', '101', '98', '99']\n",
      "(32, '엄지,중지 붙이기') ['meaning', 'my_hand', 'left'] ['102', '103', '104', '105', '106']\n",
      "(34, '엄지,소지 붙이기') ['meaning', 'my_hand', 'left'] ['107', '108']\n",
      "(35, '파이팅') ['meaning', 'my_hand', 'left'] ['109', '110', '111', '112', '113']\n",
      "(36, '총') ['meaning', 'my_hand', 'left'] ['114', '115', '116', '117', '118', '119']\n",
      "(37, '동그라미') ['meaning', 'my_hand', 'left'] ['120', '121', '122', '123', '124', '125']\n",
      "(39, 'OK') ['meaning', 'my_hand', 'left'] ['126', '127', '128', '129', '130']\n",
      "(40, '빅토리') ['meaning', 'my_hand', 'left'] ['136', '137', '138', '139', '140', '141']\n",
      "(41, '부정(엄지손 아래로)') ['meaning', 'my_hand', 'left'] ['142', '143', '144', '145', '146']\n",
      "(42, '부정(검지 흔들기)') ['meaning', 'my_hand', 'left'] ['147', '148', '149', '150', '151', '152']\n",
      "(43, '손바닥') ['meaning', 'my_hand', 'left'] ['153', '154', '155', '156', '157', '158']\n",
      "(44, '약지,소지 가위') ['meaning', 'my_hand', 'left'] ['159', '160', '161', '162']\n",
      "(47, '손가락 오므리기') ['meaning', 'my_hand', 'right'] ['163']\n",
      "(48, '전화모양') ['meaning', 'my_hand', 'right'] ['164', '165', '166', '167', '168']\n",
      "(49, '약속') ['meaning', 'my_hand', 'right'] ['169', '170', '171', '172', '173']\n",
      "(50, '손 안경') ['meaning', 'my_hand', 'right'] ['179', '180', '181', '182', '183', '184']\n",
      "(51, '손가락 접기') ['meaning', 'my_hand', 'right'] ['185', '186', '187', '188', '189', '190']\n",
      "(53, '최고') ['meaning', 'my_hand', 'right'] ['191', '192', '193']\n",
      "(54, '약속') ['meaning', 'my_hand', 'right'] ['194', '195', '196']\n",
      "(55, '꼬집기') ['meaning', 'my_hand', 'right'] ['197', '198', '199']\n",
      "(56, '검지,중지 교차') ['meaning', 'my_hand', 'right'] ['200', '201', '202']\n",
      "(57, '엄지,중지 붙이기') ['meaning', 'my_hand', 'right'] ['203', '204', '205', '206']\n",
      "(58, '엄지,약지 붙이기') ['meaning', 'my_hand', 'right'] ['207', '208', '209']\n",
      "(59, '엄지,소지 붙이기') ['meaning', 'my_hand', 'right'] ['210', '211']\n",
      "(60, '파이팅') ['meaning', 'my_hand', 'right'] ['216', '217', '218', '219']\n",
      "(61, '총') ['meaning', 'my_hand', 'right'] ['220', '221', '222']\n",
      "(62, '동그라미') ['meaning', 'my_hand', 'right'] ['223', '224', '225', '226']\n",
      "(64, 'OK') ['meaning', 'my_hand', 'right'] ['227', '228', '229', '230']\n",
      "(65, '빅토리') ['meaning', 'my_hand', 'right'] ['231', '232', '233', '234']\n",
      "(66, '부정(엄지손 아래로)') ['meaning', 'my_hand', 'right'] ['235', '236', '237', '238']\n",
      "(67, '부정(검지 흔들기)') ['meaning', 'my_hand', 'right'] ['239', '240', '241', '242', '243']\n",
      "(68, '손바닥') ['meaning', 'my_hand', 'right'] ['244', '245', '246', '247']\n",
      "(69, '약지,소지 가위') ['meaning', 'my_hand', 'right'] ['248', '249', '250', '251', '252']\n",
      "(70, '손하트') ['meaning', 'my_hand', 'both'] ['258', '259', '260']\n",
      "(72, '손가락 오므리기') ['meaning', 'my_hand', 'both'] ['261', '262']\n",
      "(73, '전화모양') ['meaning', 'my_hand', 'both'] ['263', '264', '265', '266']\n",
      "(74, '약속') ['meaning', 'my_hand', 'both'] ['267', '268', '269', '270']\n",
      "(75, '손 안경') ['meaning', 'my_hand', 'both'] ['271', '272']\n",
      "(77, '손 토끼') ['meaning', 'my_hand', 'both'] ['273', '274', '275', '276', '277']\n",
      "(78, '최고') ['meaning', 'my_hand', 'both'] ['278', '279', '280', '281']\n",
      "(79, '약속') ['meaning', 'my_hand', 'both'] ['282', '283', '284', '285', '286', '287']\n",
      "(80, '꼬집기') ['meaning', 'my_hand', 'both'] ['293', '294', '295', '296', '297']\n",
      "(81, '검지,중지 교차') ['meaning', 'my_hand', 'both'] ['298', '299']\n",
      "(82, '엄지,중지 붙이기') ['meaning', 'my_hand', 'both'] ['300', '301']\n",
      "(83, '엄지,약지 붙이기') ['meaning', 'my_hand', 'both'] ['302', '303']\n",
      "(85, '파이팅') ['meaning', 'my_hand', 'both'] ['304', '305', '306', '307']\n",
      "(87, '총') ['meaning', 'my_hand', 'both'] ['308', '309', '310', '311']\n",
      "(88, '네모') ['meaning', 'my_hand', 'both'] ['312', '313', '314', '315', '316']\n",
      "(89, '세모') ['meaning', 'my_hand', 'both'] ['317', '318']\n",
      "(90, '동그라미') ['meaning', 'my_hand', 'both'] ['325', '326']\n",
      "(92, 'X') ['meaning', 'my_hand', 'both'] ['327']\n",
      "(93, 'OK') ['meaning', 'my_hand', 'both'] ['328', '329', '330', '331']\n",
      "(94, '빅토리') ['meaning', 'my_hand', 'both'] ['332', '333', '334', '335']\n",
      "(95, '부정(엄지손 아래로)') ['meaning', 'my_hand', 'both'] ['336', '337', '338', '339']\n",
      "(97, '손바닥') ['meaning', 'my_hand', 'both'] ['340', '341', '342', '343']\n",
      "(98, '약지,소지 가위') ['meaning', 'my_hand', 'both'] ['344', '345', '346']\n",
      "(100, '숫자1') ['number', 'your_hand', 'left'] ['352', '353']\n",
      "(101, '숫자2') ['number', 'your_hand', 'left'] ['354', '355', '356']\n",
      "(105, '숫자6') ['number', 'your_hand', 'left'] ['357', '358']\n",
      "(106, '숫자7') ['number', 'your_hand', 'left'] ['359', '360', '361', '362']\n",
      "(107, '숫자8') ['number', 'your_hand', 'left'] ['363', '364', '365', '366']\n",
      "(109, '숫자0') ['number', 'your_hand', 'left'] ['367', '368']\n",
      "(110, '숫자1') ['number', 'your_hand', 'right'] ['369', '370', '371', '372']\n",
      "(111, '숫자2') ['number', 'your_hand', 'right'] ['373', '374', '375']\n",
      "(112, '숫자3') ['number', 'your_hand', 'right'] ['376', '377', '378', '379']\n",
      "(113, '숫자4') ['number', 'your_hand', 'right'] ['380', '381', '382', '383', '384']\n",
      "(114, '숫자5') ['number', 'your_hand', 'right'] ['385', '386', '387']\n",
      "(115, '숫자6') ['number', 'your_hand', 'right'] ['388', '389', '390']\n",
      "(116, '숫자7') ['number', 'your_hand', 'right'] ['391', '392', '393', '394', '395']\n",
      "(117, '숫자8') ['number', 'your_hand', 'right'] ['396', '397', '398', '399', '400']\n",
      "(118, '숫자9') ['number', 'your_hand', 'right'] ['401', '402', '403', '404', '405']\n",
      "(119, '숫자0') ['number', 'your_hand', 'right'] ['406', '407', '408', '409', '410']\n",
      "(122, '손가락 오므리기') ['meaning', 'your_hand', 'left'] ['411', '412']\n",
      "(123, '전화모양') ['meaning', 'your_hand', 'left'] ['413', '414', '415', '416', '417']\n",
      "(124, '약속') ['meaning', 'your_hand', 'left'] ['418', '419', '420', '421', '422']\n",
      "(125, '손 안경') ['meaning', 'your_hand', 'left'] ['423', '424', '425', '426', '427', '428']\n",
      "(126, '손가락 접기') ['meaning', 'your_hand', 'left'] ['429', '430', '431', '432', '433', '434']\n",
      "(128, '최고') ['meaning', 'your_hand', 'left'] ['435', '436', '437', '438', '439']\n",
      "(129, '약속') ['meaning', 'your_hand', 'left'] ['440', '441', '442', '443']\n",
      "(131, '검지,중지 교차') ['meaning', 'your_hand', 'left'] ['444']\n",
      "(132, '엄지,중지 붙이기') ['meaning', 'your_hand', 'left'] ['445', '446', '447']\n",
      "(133, '엄지,약지 붙이기') ['meaning', 'your_hand', 'left'] ['448', '449', '450', '451']\n",
      "(134, '엄지,소지 붙이기') ['meaning', 'your_hand', 'left'] ['452', '453', '454', '455', '456']\n",
      "(135, '파이팅') ['meaning', 'your_hand', 'left'] ['457', '458', '459', '460']\n",
      "(136, '총') ['meaning', 'your_hand', 'left'] ['461', '462', '463', '464', '465']\n",
      "(137, '동그라미') ['meaning', 'your_hand', 'left'] ['466', '467', '468']\n",
      "(138, '경고(주먹 내밀기)') ['meaning', 'your_hand', 'left'] ['469', '470', '471', '472', '473']\n",
      "(139, 'OK') ['meaning', 'your_hand', 'left'] ['474', '475', '476', '477', '478']\n",
      "(140, '빅토리') ['meaning', 'your_hand', 'left'] ['479', '480', '481', '482']\n",
      "(141, '부정(엄지손 아래로)') ['meaning', 'your_hand', 'left'] ['483', '484', '485', '486', '487', '488']\n",
      "(142, '부정(검지 흔들기)') ['meaning', 'your_hand', 'left'] ['489', '490', '491', '492']\n",
      "(143, '손바닥') ['meaning', 'your_hand', 'left'] ['493', '494', '495', '496', '497', '498']\n",
      "(144, '약지,소지 가위') ['meaning', 'your_hand', 'left'] ['499', '500', '501', '502']\n",
      "(145, '손하트') ['meaning', 'your_hand', 'right'] ['503']\n",
      "(146, '주먹쥐기') ['meaning', 'your_hand', 'right'] ['504', '505', '506', '507']\n",
      "(147, '손가락 오므리기') ['meaning', 'your_hand', 'right'] ['508', '509']\n",
      "(148, '전화모양') ['meaning', 'your_hand', 'right'] ['510', '511', '512', '513', '514']\n",
      "(149, '약속') ['meaning', 'your_hand', 'right'] ['515', '516', '517', '518', '519']\n",
      "(150, '손 안경') ['meaning', 'your_hand', 'right'] ['520', '521', '522', '523', '524', '525']\n",
      "(151, '손가락 접기') ['meaning', 'your_hand', 'right'] ['526', '527', '528', '529']\n",
      "(153, '최고') ['meaning', 'your_hand', 'right'] ['530', '531', '532', '533', '534']\n",
      "(154, '약속') ['meaning', 'your_hand', 'right'] ['535', '536', '537', '538', '539']\n",
      "(155, '꼬집기') ['meaning', 'your_hand', 'right'] ['540', '541', '542', '543']\n",
      "(156, '검지,중지 교차') ['meaning', 'your_hand', 'right'] ['544', '545', '546']\n",
      "(157, '엄지,중지 붙이기') ['meaning', 'your_hand', 'right'] ['547', '548', '549', '550']\n",
      "(158, '엄지,약지 붙이기') ['meaning', 'your_hand', 'right'] ['551', '552', '553', '554', '555', '556']\n",
      "(159, '엄지,소지 붙이기') ['meaning', 'your_hand', 'right'] ['557', '558', '559', '560']\n",
      "(160, '파이팅') ['meaning', 'your_hand', 'right'] ['561', '562', '563', '564']\n",
      "(161, '총') ['meaning', 'your_hand', 'right'] ['565', '566', '567', '568']\n",
      "(162, '동그라미') ['meaning', 'your_hand', 'right'] ['569', '570', '571', '572']\n",
      "(163, '경고(주먹 내밀기)') ['meaning', 'your_hand', 'right'] ['573', '574', '575', '576', '577']\n",
      "(165, '빅토리') ['meaning', 'your_hand', 'right'] ['578', '579', '580', '581', '582']\n",
      "(167, '부정(검지 흔들기)') ['meaning', 'your_hand', 'right'] ['583', '584', '585', '586', '587']\n",
      "(168, '손바닥') ['meaning', 'your_hand', 'right'] ['588', '589', '590', '591']\n",
      "(169, '약지,소지 가위') ['meaning', 'your_hand', 'right'] ['592', '593', '594', '595']\n",
      "(171, '주먹쥐기') ['meaning', 'your_hand', 'both'] ['596', '597', '598']\n",
      "(172, '손가락 오므리기') ['meaning', 'your_hand', 'both'] ['599', '600', '601']\n",
      "(173, '전화모양') ['meaning', 'your_hand', 'both'] ['602', '603', '604', '605', '606']\n",
      "(174, '약속') ['meaning', 'your_hand', 'both'] ['607', '608', '609', '610']\n",
      "(175, '손 안경') ['meaning', 'your_hand', 'both'] ['611', '612', '613', '614']\n",
      "(177, '손 토끼') ['meaning', 'your_hand', 'both'] ['615', '616', '617']\n",
      "(186, '큰하트') ['meaning', 'your_hand', 'both'] ['618', '619', '620', '621']\n",
      "(188, '네모') ['meaning', 'your_hand', 'both'] ['622']\n",
      "(189, '세모') ['meaning', 'your_hand', 'both'] ['623', '624', '625']\n",
      "(190, '동그라미') ['meaning', 'your_hand', 'both'] ['626', '627', '628']\n",
      "(191, '경고(주먹 내밀기)') ['meaning', 'your_hand', 'both'] ['629', '630', '631']\n",
      "(192, 'X') ['meaning', 'your_hand', 'both'] ['632', '633', '634', '635']\n",
      "(193, 'OK') ['meaning', 'your_hand', 'both'] ['636', '637', '638', '639', '640']\n",
      "(194, '빅토리') ['meaning', 'your_hand', 'both'] ['641', '642', '643', '644']\n",
      "(195, '부정(엄지손 아래로)') ['meaning', 'your_hand', 'both'] ['645', '646', '647', '648']\n"
     ]
    }
   ],
   "source": [
    "train_dir = './train/'\n",
    "\n",
    "dic = {}\n",
    "for num in sorted(os.listdir(train_dir)):\n",
    "    with open(train_dir + '{}/{}.json'.format(num, num), 'r') as j:\n",
    "        temp = json.load(j)\n",
    "        if tuple(temp['action']) not in dic: dic[tuple(temp['action'])] = []\n",
    "        dic[tuple(temp['action'])].append(num)\n",
    "            \n",
    "for label in sorted(dic.keys()):\n",
    "    print(label, label_info[label[0]], dic[label])"
   ]
  },
  {
   "cell_type": "code",
   "execution_count": null,
   "id": "44e693a0",
   "metadata": {},
   "outputs": [],
   "source": []
  },
  {
   "cell_type": "code",
   "execution_count": 4,
   "id": "0975a522",
   "metadata": {},
   "outputs": [
    {
     "name": "stdout",
     "output_type": "stream",
     "text": [
      "649\n",
      "5887 5887 5887\n"
     ]
    }
   ],
   "source": [
    "train_dir = './train/'\n",
    "\n",
    "images, labels, meanings = [], [], []\n",
    "for num in sorted(os.listdir(train_dir)):\n",
    "    with open(train_dir + '{}/{}.json'.format(num, num), 'r') as j:\n",
    "        temp = json.load(j)\n",
    "        for info in temp['annotations']:\n",
    "            images.append(train_dir + '{}/{}.png'.format(num, info['image_id']))\n",
    "            labels.append(temp['action'][0])\n",
    "            meanings.append(temp['action'][1])\n",
    "            \n",
    "print(len(sorted(os.listdir(train_dir))))\n",
    "print(len(images), len(labels), len(meanings))"
   ]
  },
  {
   "cell_type": "code",
   "execution_count": null,
   "id": "0e323c12",
   "metadata": {},
   "outputs": [],
   "source": []
  },
  {
   "cell_type": "code",
   "execution_count": 5,
   "id": "02a2bf65",
   "metadata": {},
   "outputs": [
    {
     "data": {
      "image/png": "[encoded data removed]",
      "text/plain": [
       "<Figure size 1440x720 with 1 Axes>"
      ]
     },
     "metadata": {
      "needs_background": "light"
     },
     "output_type": "display_data"
    }
   ],
   "source": [
    "f = collections.Counter(labels)\n",
    "\n",
    "plt.figure(figsize=(20, 10))\n",
    "plt.bar(f.keys(), f.values(), alpha=0.5)\n",
    "plt.show()"
   ]
  },
  {
   "cell_type": "code",
   "execution_count": 6,
   "id": "5902bd92",
   "metadata": {},
   "outputs": [
    {
     "data": {
      "text/plain": [
       "39"
      ]
     },
     "execution_count": 6,
     "metadata": {},
     "output_type": "execute_result"
    }
   ],
   "source": [
    "len(sorted(set(range(196)) - set(f.keys())))"
   ]
  },
  {
   "cell_type": "code",
   "execution_count": 7,
   "id": "2edd40fb",
   "metadata": {},
   "outputs": [
    {
     "data": {
      "text/plain": [
       "[20,\n",
       " 21,\n",
       " 24,\n",
       " 30,\n",
       " 33,\n",
       " 38,\n",
       " 45,\n",
       " 46,\n",
       " 52,\n",
       " 63,\n",
       " 71,\n",
       " 76,\n",
       " 84,\n",
       " 86,\n",
       " 91,\n",
       " 96,\n",
       " 99,\n",
       " 102,\n",
       " 103,\n",
       " 104,\n",
       " 108,\n",
       " 120,\n",
       " 121,\n",
       " 127,\n",
       " 130,\n",
       " 152,\n",
       " 164,\n",
       " 166,\n",
       " 170,\n",
       " 176,\n",
       " 178,\n",
       " 179,\n",
       " 180,\n",
       " 181,\n",
       " 182,\n",
       " 183,\n",
       " 184,\n",
       " 185,\n",
       " 187]"
      ]
     },
     "execution_count": 7,
     "metadata": {},
     "output_type": "execute_result"
    }
   ],
   "source": [
    "sorted(set(range(196)) - set(f.keys()))"
   ]
  },
  {
   "cell_type": "code",
   "execution_count": null,
   "id": "462cfb03",
   "metadata": {},
   "outputs": [],
   "source": []
  },
  {
   "cell_type": "code",
   "execution_count": 8,
   "id": "8eafbf5b",
   "metadata": {},
   "outputs": [],
   "source": [
    "temp = 'Label_0,Label_1,Label_2,Label_3,Label_4,Label_5,Label_6,Label_7,Label_8,Label_9,Label_10,Label_11,Label_12,Label_13,Label_14,Label_15,Label_16,Label_17,Label_18,Label_19,Label_22,Label_23,Label_25,Label_26,Label_27,Label_28,Label_29,Label_31,Label_32,Label_34,Label_35,Label_36,Label_37,Label_39,Label_40,Label_41,Label_42,Label_43,Label_44,Label_47,Label_48,Label_49,Label_50,Label_51,Label_53,Label_54,Label_55,Label_56,Label_57,Label_58,Label_59,Label_60,Label_61,Label_62,Label_64,Label_65,Label_66,Label_67,Label_68,Label_69,Label_70,Label_72,Label_73,Label_74,Label_75,Label_77,Label_78,Label_79,Label_80,Label_81,Label_82,Label_83,Label_85,Label_87,Label_88,Label_89,Label_90,Label_92,Label_93,Label_94,Label_95,Label_97,Label_98,Label_100,Label_101,Label_105,Label_106,Label_107,Label_109,Label_110,Label_111,Label_112,Label_113,Label_114,Label_115,Label_116,Label_117,Label_118,Label_119,Label_122,Label_123,Label_124,Label_125,Label_126,Label_128,Label_129,Label_131,Label_132,Label_133,Label_134,Label_135,Label_136,Label_137,Label_138,Label_139,Label_140,Label_141,Label_142,Label_143,Label_144,Label_145,Label_146,Label_147,Label_148,Label_149,Label_150,Label_151,Label_153,Label_154,Label_155,Label_156,Label_157,Label_158,Label_159,Label_160,Label_161,Label_162,Label_163,Label_165,Label_167,Label_168,Label_169,Label_171,Label_172,Label_173,Label_174,Label_175,Label_177,Label_186,Label_188,Label_189,Label_190,Label_191,Label_192,Label_193,Label_194,Label_195'"
   ]
  },
  {
   "cell_type": "code",
   "execution_count": 9,
   "id": "c9c0c1a2",
   "metadata": {},
   "outputs": [],
   "source": [
    "labels = []\n",
    "for label in temp.split(','):\n",
    "    l = label.split('_')[1]\n",
    "    labels.append(int(l))"
   ]
  },
  {
   "cell_type": "code",
   "execution_count": 10,
   "id": "6befd88c",
   "metadata": {},
   "outputs": [
    {
     "data": {
      "text/plain": [
       "39"
      ]
     },
     "execution_count": 10,
     "metadata": {},
     "output_type": "execute_result"
    }
   ],
   "source": [
    "len(set(range(196)) - set(labels))"
   ]
  },
  {
   "cell_type": "code",
   "execution_count": 11,
   "id": "e40a63ea",
   "metadata": {},
   "outputs": [
    {
     "data": {
      "text/plain": [
       "{20,\n",
       " 21,\n",
       " 24,\n",
       " 30,\n",
       " 33,\n",
       " 38,\n",
       " 45,\n",
       " 46,\n",
       " 52,\n",
       " 63,\n",
       " 71,\n",
       " 76,\n",
       " 84,\n",
       " 86,\n",
       " 91,\n",
       " 96,\n",
       " 99,\n",
       " 102,\n",
       " 103,\n",
       " 104,\n",
       " 108,\n",
       " 120,\n",
       " 121,\n",
       " 127,\n",
       " 130,\n",
       " 152,\n",
       " 164,\n",
       " 166,\n",
       " 170,\n",
       " 176,\n",
       " 178,\n",
       " 179,\n",
       " 180,\n",
       " 181,\n",
       " 182,\n",
       " 183,\n",
       " 184,\n",
       " 185,\n",
       " 187}"
      ]
     },
     "execution_count": 11,
     "metadata": {},
     "output_type": "execute_result"
    }
   ],
   "source": [
    "set(range(196)) - set(labels)"
   ]
  },
  {
   "cell_type": "code",
   "execution_count": null,
   "id": "6f65790b",
   "metadata": {},
   "outputs": [],
   "source": []
  },
  {
   "cell_type": "code",
   "execution_count": 12,
   "id": "07724869",
   "metadata": {},
   "outputs": [
    {
     "name": "stdout",
     "output_type": "stream",
     "text": [
      "{(1920, 1080): 7925}\n"
     ]
    }
   ],
   "source": [
    "train_dir = './train/'\n",
    "test_dir = './test/'\n",
    "\n",
    "images_size = {}\n",
    "for num in sorted(os.listdir(train_dir)):\n",
    "    with open(train_dir + '{}/{}.json'.format(num, num), 'r') as j:\n",
    "        temp = json.load(j)\n",
    "        for info in temp['annotations']:\n",
    "            image = Image.open(train_dir + '{}/{}.png'.format(num, info['image_id']))\n",
    "            if image.size not in images_size: images_size[image.size] = 0\n",
    "            images_size[image.size] += 1\n",
    "            \n",
    "for num in sorted(os.listdir(test_dir)):\n",
    "    with open(test_dir + '{}/{}.json'.format(num, num), 'r') as j:\n",
    "        temp = json.load(j)\n",
    "        for info in temp['annotations']:\n",
    "            image = Image.open(test_dir + '{}/{}.png'.format(num, info['image_id']))\n",
    "            if image.size not in images_size: images_size[image.size] = 0\n",
    "            images_size[image.size] += 1\n",
    "            \n",
    "print(images_size)"
   ]
  },
  {
   "cell_type": "code",
   "execution_count": 14,
   "id": "9db32c7a",
   "metadata": {},
   "outputs": [
    {
     "data": {
      "text/plain": [
       "Counter({'숫자 1': 2,\n",
       "         '숫자 2': 2,\n",
       "         '검지,중지 교차': 5,\n",
       "         '엄지,중지 붙이기': 5,\n",
       "         '엄지,소지 붙이기': 4,\n",
       "         '파이팅': 5,\n",
       "         '숫자 3': 2,\n",
       "         '총': 5,\n",
       "         '동그라미': 6,\n",
       "         'OK': 5,\n",
       "         '숫자 4': 2,\n",
       "         '빅토리': 6,\n",
       "         '부정(엄지손 아래로)': 5,\n",
       "         '부정(검지 흔들기)': 4,\n",
       "         '손바닥': 5,\n",
       "         '약지,소지 가위': 5,\n",
       "         '손가락 오므리기': 6,\n",
       "         '전화모양': 6,\n",
       "         '약속': 10,\n",
       "         '숫자 5': 2,\n",
       "         '손 안경': 6,\n",
       "         '손가락 접기': 4,\n",
       "         '최고': 5,\n",
       "         '꼬집기': 3,\n",
       "         '엄지,약지 붙이기': 4,\n",
       "         '숫자 6': 2,\n",
       "         '숫자 7': 2,\n",
       "         '손하트': 2,\n",
       "         '손 토끼': 3,\n",
       "         '숫자 8': 2,\n",
       "         '네모': 2,\n",
       "         '세모': 2,\n",
       "         '숫자 9': 2,\n",
       "         'X': 2,\n",
       "         '숫자 0': 2,\n",
       "         '숫자1': 2,\n",
       "         '숫자2': 2,\n",
       "         '숫자6': 2,\n",
       "         '숫자7': 2,\n",
       "         '숫자8': 2,\n",
       "         '숫자0': 2,\n",
       "         '숫자3': 1,\n",
       "         '숫자4': 1,\n",
       "         '숫자5': 1,\n",
       "         '숫자9': 1,\n",
       "         '경고(주먹 내밀기)': 3,\n",
       "         '주먹쥐기': 2,\n",
       "         '큰하트': 1})"
      ]
     },
     "execution_count": 14,
     "metadata": {},
     "output_type": "execute_result"
    }
   ],
   "source": [
    "count = []\n",
    "for label in dic.keys():\n",
    "    count.append(label[1])\n",
    "    \n",
    "\n",
    "import collections\n",
    "collections.Counter(count)"
   ]
  },
  {
   "cell_type": "code",
   "execution_count": null,
   "id": "a92f0149",
   "metadata": {},
   "outputs": [],
   "source": []
  }
 ],
 "metadata": {
  "kernelspec": {
   "display_name": "Python 3 (ipykernel)",
   "language": "python",
   "name": "python3"
  },
  "language_info": {
   "codemirror_mode": {
    "name": "ipython",
    "version": 3
   },
   "file_extension": ".py",
   "mimetype": "text/x-python",
   "name": "python",
   "nbconvert_exporter": "python",
   "pygments_lexer": "ipython3",
   "version": "3.8.8"
  }
 },
 "nbformat": 4,
 "nbformat_minor": 5
}
