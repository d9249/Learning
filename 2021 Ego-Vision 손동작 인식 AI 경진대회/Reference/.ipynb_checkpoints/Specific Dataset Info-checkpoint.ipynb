{
 "cells": [
  {
   "cell_type": "code",
   "execution_count": 1,
   "id": "b129bf96",
   "metadata": {},
   "outputs": [],
   "source": [
    "import specific_dataset"
   ]
  },
  {
   "cell_type": "code",
   "execution_count": null,
   "id": "928cfff7",
   "metadata": {},
   "outputs": [],
   "source": []
  },
  {
   "cell_type": "code",
   "execution_count": 2,
   "id": "19ad8815",
   "metadata": {},
   "outputs": [
    {
     "data": {
      "text/plain": [
       "48"
      ]
     },
     "execution_count": 2,
     "metadata": {},
     "output_type": "execute_result"
    }
   ],
   "source": [
    "len(set(specific_dataset.MDataset().labels))"
   ]
  },
  {
   "cell_type": "code",
   "execution_count": 3,
   "id": "df5131ef",
   "metadata": {},
   "outputs": [
    {
     "data": {
      "text/plain": [
       "2"
      ]
     },
     "execution_count": 3,
     "metadata": {},
     "output_type": "execute_result"
    }
   ],
   "source": [
    "len(set(specific_dataset.HDataset().labels))"
   ]
  },
  {
   "cell_type": "code",
   "execution_count": 4,
   "id": "4fcf6427",
   "metadata": {},
   "outputs": [
    {
     "data": {
      "text/plain": [
       "3"
      ]
     },
     "execution_count": 4,
     "metadata": {},
     "output_type": "execute_result"
    }
   ],
   "source": [
    "len(set(specific_dataset.LDataset().labels))"
   ]
  },
  {
   "cell_type": "code",
   "execution_count": null,
   "id": "35557c35",
   "metadata": {},
   "outputs": [],
   "source": []
  },
  {
   "cell_type": "code",
   "execution_count": 5,
   "id": "62903a69",
   "metadata": {},
   "outputs": [
    {
     "data": {
      "text/plain": [
       "{'OK',\n",
       " 'X',\n",
       " '검지,중지 교차',\n",
       " '경고(주먹 내밀기)',\n",
       " '꼬집기',\n",
       " '네모',\n",
       " '동그라미',\n",
       " '부정(검지 흔들기)',\n",
       " '부정(엄지손 아래로)',\n",
       " '빅토리',\n",
       " '세모',\n",
       " '손 안경',\n",
       " '손 토끼',\n",
       " '손가락 오므리기',\n",
       " '손가락 접기',\n",
       " '손바닥',\n",
       " '손하트',\n",
       " '숫자 0',\n",
       " '숫자 1',\n",
       " '숫자 2',\n",
       " '숫자 3',\n",
       " '숫자 4',\n",
       " '숫자 5',\n",
       " '숫자 6',\n",
       " '숫자 7',\n",
       " '숫자 8',\n",
       " '숫자 9',\n",
       " '숫자0',\n",
       " '숫자1',\n",
       " '숫자2',\n",
       " '숫자3',\n",
       " '숫자4',\n",
       " '숫자5',\n",
       " '숫자6',\n",
       " '숫자7',\n",
       " '숫자8',\n",
       " '숫자9',\n",
       " '약속',\n",
       " '약지,소지 가위',\n",
       " '엄지,소지 붙이기',\n",
       " '엄지,약지 붙이기',\n",
       " '엄지,중지 붙이기',\n",
       " '전화모양',\n",
       " '주먹쥐기',\n",
       " '총',\n",
       " '최고',\n",
       " '큰하트',\n",
       " '파이팅'}"
      ]
     },
     "execution_count": 5,
     "metadata": {},
     "output_type": "execute_result"
    }
   ],
   "source": [
    "set(specific_dataset.MDataset().labels)"
   ]
  },
  {
   "cell_type": "code",
   "execution_count": 6,
   "id": "dde2fe9f",
   "metadata": {},
   "outputs": [
    {
     "data": {
      "text/plain": [
       "{'my_hand', 'your_hand'}"
      ]
     },
     "execution_count": 6,
     "metadata": {},
     "output_type": "execute_result"
    }
   ],
   "source": [
    "set(specific_dataset.HDataset().labels)"
   ]
  },
  {
   "cell_type": "code",
   "execution_count": 7,
   "id": "f41da183",
   "metadata": {},
   "outputs": [
    {
     "data": {
      "text/plain": [
       "{'both', 'left', 'right'}"
      ]
     },
     "execution_count": 7,
     "metadata": {},
     "output_type": "execute_result"
    }
   ],
   "source": [
    "set(specific_dataset.LDataset().labels)"
   ]
  },
  {
   "cell_type": "code",
   "execution_count": null,
   "id": "4545bf26",
   "metadata": {},
   "outputs": [],
   "source": []
  },
  {
   "cell_type": "code",
   "execution_count": 8,
   "id": "a59e26b9",
   "metadata": {},
   "outputs": [
    {
     "data": {
      "text/plain": [
       "{'OK': 0,\n",
       " 'X': 1,\n",
       " '검지,중지 교차': 2,\n",
       " '경고(주먹 내밀기)': 3,\n",
       " '꼬집기': 4,\n",
       " '네모': 5,\n",
       " '동그라미': 6,\n",
       " '부정(검지 흔들기)': 7,\n",
       " '부정(엄지손 아래로)': 8,\n",
       " '빅토리': 9,\n",
       " '세모': 10,\n",
       " '손 안경': 11,\n",
       " '손 토끼': 12,\n",
       " '손가락 오므리기': 13,\n",
       " '손가락 접기': 14,\n",
       " '손바닥': 15,\n",
       " '손하트': 16,\n",
       " '숫자 0': 17,\n",
       " '숫자0': 17,\n",
       " '숫자 1': 18,\n",
       " '숫자1': 18,\n",
       " '숫자 2': 19,\n",
       " '숫자2': 19,\n",
       " '숫자 3': 20,\n",
       " '숫자3': 20,\n",
       " '숫자 4': 21,\n",
       " '숫자4': 21,\n",
       " '숫자 5': 22,\n",
       " '숫자5': 22,\n",
       " '숫자 6': 23,\n",
       " '숫자6': 23,\n",
       " '숫자 7': 24,\n",
       " '숫자7': 24,\n",
       " '숫자 8': 25,\n",
       " '숫자8': 25,\n",
       " '숫자 9': 26,\n",
       " '숫자9': 26,\n",
       " '약속': 27,\n",
       " '약지,소지 가위': 28,\n",
       " '엄지,소지 붙이기': 29,\n",
       " '엄지,약지 붙이기': 30,\n",
       " '엄지,중지 붙이기': 31,\n",
       " '전화모양': 32,\n",
       " '주먹쥐기': 33,\n",
       " '총': 34,\n",
       " '최고': 35,\n",
       " '큰하트': 36,\n",
       " '파이팅': 37}"
      ]
     },
     "execution_count": 8,
     "metadata": {},
     "output_type": "execute_result"
    }
   ],
   "source": [
    "specific_dataset.MDataset().meaning2num"
   ]
  },
  {
   "cell_type": "code",
   "execution_count": 9,
   "id": "150f447c",
   "metadata": {},
   "outputs": [
    {
     "data": {
      "text/plain": [
       "{'my_hand': 0, 'your_hand': 1}"
      ]
     },
     "execution_count": 9,
     "metadata": {},
     "output_type": "execute_result"
    }
   ],
   "source": [
    "specific_dataset.HDataset().hand2num"
   ]
  },
  {
   "cell_type": "code",
   "execution_count": 10,
   "id": "3935ac4b",
   "metadata": {},
   "outputs": [
    {
     "data": {
      "text/plain": [
       "{'both': 0, 'left': 1, 'right': 2}"
      ]
     },
     "execution_count": 10,
     "metadata": {},
     "output_type": "execute_result"
    }
   ],
   "source": [
    "specific_dataset.LDataset().lrb2num"
   ]
  },
  {
   "cell_type": "code",
   "execution_count": 11,
   "id": "9e6fd81e",
   "metadata": {},
   "outputs": [],
   "source": [
    "import os, csv, json, PIL\n",
    "\n",
    "from torch.utils.data import Dataset\n",
    "from sklearn.model_selection import train_test_split\n",
    "\n",
    "\n",
    "csv_file = './hand_gesture_pose.csv'\n",
    "label2info, info2label = {}, {}\n",
    "with open(csv_file, 'r') as c:\n",
    "    temp = csv.reader(c)\n",
    "    for i, row in enumerate(temp):\n",
    "        if i == 0: continue\n",
    "        label2info[int(row[0])] = tuple(row[-4:-1])\n",
    "        info2label[tuple(row[-4:-1])] = int(row[0])\n",
    "\n",
    "data_dir = './train/'\n",
    "imgs, meanings, hands, lrbs = [], [], [], []\n",
    "for num in sorted(os.listdir(data_dir)):\n",
    "    with open(data_dir + '{}/{}.json'.format(num, num), 'r') as j:\n",
    "        temp = json.load(j)\n",
    "        for info in temp['annotations']:\n",
    "            imgs.append(data_dir + '{}/{}.png'.format(num, info['image_id']))\n",
    "            meanings.append(label2info[temp['action'][0]][0])\n",
    "            hands.append(label2info[temp['action'][0]][1])\n",
    "            lrbs.append(label2info[temp['action'][0]][2])"
   ]
  },
  {
   "cell_type": "code",
   "execution_count": 12,
   "id": "c76d79f5",
   "metadata": {},
   "outputs": [
    {
     "data": {
      "text/plain": [
       "['OK',\n",
       " 'X',\n",
       " '검지,중지 교차',\n",
       " '경고(주먹 내밀기)',\n",
       " '꼬집기',\n",
       " '네모',\n",
       " '동그라미',\n",
       " '부정(검지 흔들기)',\n",
       " '부정(엄지손 아래로)',\n",
       " '빅토리',\n",
       " '세모',\n",
       " '손 안경',\n",
       " '손 토끼',\n",
       " '손가락 오므리기',\n",
       " '손가락 접기',\n",
       " '손바닥',\n",
       " '손하트',\n",
       " '숫자 0',\n",
       " '숫자 1',\n",
       " '숫자 2',\n",
       " '숫자 3',\n",
       " '숫자 4',\n",
       " '숫자 5',\n",
       " '숫자 6',\n",
       " '숫자 7',\n",
       " '숫자 8',\n",
       " '숫자 9',\n",
       " '숫자0',\n",
       " '숫자1',\n",
       " '숫자2',\n",
       " '숫자3',\n",
       " '숫자4',\n",
       " '숫자5',\n",
       " '숫자6',\n",
       " '숫자7',\n",
       " '숫자8',\n",
       " '숫자9',\n",
       " '약속',\n",
       " '약지,소지 가위',\n",
       " '엄지,소지 붙이기',\n",
       " '엄지,약지 붙이기',\n",
       " '엄지,중지 붙이기',\n",
       " '전화모양',\n",
       " '주먹쥐기',\n",
       " '총',\n",
       " '최고',\n",
       " '큰하트',\n",
       " '파이팅']"
      ]
     },
     "execution_count": 12,
     "metadata": {},
     "output_type": "execute_result"
    }
   ],
   "source": [
    "sorted(set(meanings))"
   ]
  },
  {
   "cell_type": "code",
   "execution_count": 13,
   "id": "52d52ff1",
   "metadata": {},
   "outputs": [],
   "source": [
    "meaning2num = {'OK': 0, 'X': 1, '검지,중지 교차': 2, '경고(주먹 내밀기)': 3, '꼬집기': 4, '네모': 5,\n",
    "               '동그라미': 6, '부정(검지 흔들기)': 7, '부정(엄지손 아래로)': 8, '빅토리': 9, '세모': 10, \n",
    "               '손 안경': 11, '손 토끼': 12, '손가락 오므리기': 13, '손가락 접기': 14, '손바닥': 15, '손하트': 16,\n",
    "               '숫자 0': 17, '숫자0': 17,\n",
    "               '숫자 1': 18, '숫자1': 18,\n",
    "               '숫자 2': 19, '숫자2': 19,\n",
    "               '숫자 3': 20, '숫자3': 20, \n",
    "               '숫자 4': 21, '숫자4': 21,\n",
    "               '숫자 5': 22, '숫자5': 22,\n",
    "               '숫자 6': 23, '숫자6': 23,\n",
    "               '숫자 7': 24, '숫자7': 24,\n",
    "               '숫자 8': 25, '숫자8': 25,\n",
    "               '숫자 9': 26, '숫자9': 26,\n",
    "               '약속': 27, '약지,소지 가위': 28, '엄지,소지 붙이기': 29, '엄지,약지 붙이기': 30, '엄지,중지 붙이기': 31,\n",
    "               '전화모양': 32, '주먹쥐기': 33, '총': 34, '최고': 35, '큰하트': 36, '파이팅': 37}"
   ]
  },
  {
   "cell_type": "code",
   "execution_count": null,
   "id": "f967793b",
   "metadata": {},
   "outputs": [],
   "source": []
  }
 ],
 "metadata": {
  "kernelspec": {
   "display_name": "Python 3 (ipykernel)",
   "language": "python",
   "name": "python3"
  },
  "language_info": {
   "codemirror_mode": {
    "name": "ipython",
    "version": 3
   },
   "file_extension": ".py",
   "mimetype": "text/x-python",
   "name": "python",
   "nbconvert_exporter": "python",
   "pygments_lexer": "ipython3",
   "version": "3.8.8"
  }
 },
 "nbformat": 4,
 "nbformat_minor": 5
}
