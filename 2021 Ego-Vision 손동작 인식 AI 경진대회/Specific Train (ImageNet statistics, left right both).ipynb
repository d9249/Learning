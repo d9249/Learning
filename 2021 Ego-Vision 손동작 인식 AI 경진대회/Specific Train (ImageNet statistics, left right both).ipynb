{
  "nbformat": 4,
  "nbformat_minor": 5,
  "metadata": {
    "kernelspec": {
      "display_name": "Python 3 (ipykernel)",
      "language": "python",
      "name": "python3"
    },
    "language_info": {
      "codemirror_mode": {
        "name": "ipython",
        "version": 3
      },
      "file_extension": ".py",
      "mimetype": "text/x-python",
      "name": "python",
      "nbconvert_exporter": "python",
      "pygments_lexer": "ipython3",
      "version": "3.8.8"
    },
    "colab": {
      "name": "Specific Train (ImageNet statistics, left right both).ipynb",
      "provenance": [],
      "include_colab_link": true
    },
    "accelerator": "GPU",
    "widgets": {
      "application/vnd.jupyter.widget-state+json": {
        "29f3f85326584440808d5d4f9e80f89c": {
          "model_module": "@jupyter-widgets/controls",
          "model_name": "HBoxModel",
          "model_module_version": "1.5.0",
          "state": {
            "_view_name": "HBoxView",
            "_dom_classes": [],
            "_model_name": "HBoxModel",
            "_view_module": "@jupyter-widgets/controls",
            "_model_module_version": "1.5.0",
            "_view_count": null,
            "_view_module_version": "1.5.0",
            "box_style": "",
            "layout": "IPY_MODEL_364b6547433a41878bf1351b51ed9d8a",
            "_model_module": "@jupyter-widgets/controls",
            "children": [
              "IPY_MODEL_55dab7f944764ad0920be7db5af2dea1",
              "IPY_MODEL_417226418e0e416c9eb7671d1c5507fd",
              "IPY_MODEL_01428e42c7c04dd78f1126fa6974ecaa"
            ]
          }
        },
        "364b6547433a41878bf1351b51ed9d8a": {
          "model_module": "@jupyter-widgets/base",
          "model_name": "LayoutModel",
          "model_module_version": "1.2.0",
          "state": {
            "_view_name": "LayoutView",
            "grid_template_rows": null,
            "right": null,
            "justify_content": null,
            "_view_module": "@jupyter-widgets/base",
            "overflow": null,
            "_model_module_version": "1.2.0",
            "_view_count": null,
            "flex_flow": null,
            "width": null,
            "min_width": null,
            "border": null,
            "align_items": null,
            "bottom": null,
            "_model_module": "@jupyter-widgets/base",
            "top": null,
            "grid_column": null,
            "overflow_y": null,
            "overflow_x": null,
            "grid_auto_flow": null,
            "grid_area": null,
            "grid_template_columns": null,
            "flex": null,
            "_model_name": "LayoutModel",
            "justify_items": null,
            "grid_row": null,
            "max_height": null,
            "align_content": null,
            "visibility": null,
            "align_self": null,
            "height": null,
            "min_height": null,
            "padding": null,
            "grid_auto_rows": null,
            "grid_gap": null,
            "max_width": null,
            "order": null,
            "_view_module_version": "1.2.0",
            "grid_template_areas": null,
            "object_position": null,
            "object_fit": null,
            "grid_auto_columns": null,
            "margin": null,
            "display": null,
            "left": null
          }
        },
        "55dab7f944764ad0920be7db5af2dea1": {
          "model_module": "@jupyter-widgets/controls",
          "model_name": "HTMLModel",
          "model_module_version": "1.5.0",
          "state": {
            "_view_name": "HTMLView",
            "style": "IPY_MODEL_bbc7c247a9e642188da60ccc91d09b81",
            "_dom_classes": [],
            "description": "",
            "_model_name": "HTMLModel",
            "placeholder": "​",
            "_view_module": "@jupyter-widgets/controls",
            "_model_module_version": "1.5.0",
            "value": "100%",
            "_view_count": null,
            "_view_module_version": "1.5.0",
            "description_tooltip": null,
            "_model_module": "@jupyter-widgets/controls",
            "layout": "IPY_MODEL_48935a3c57654224b0da64b2142a83cd"
          }
        },
        "417226418e0e416c9eb7671d1c5507fd": {
          "model_module": "@jupyter-widgets/controls",
          "model_name": "FloatProgressModel",
          "model_module_version": "1.5.0",
          "state": {
            "_view_name": "ProgressView",
            "style": "IPY_MODEL_f01803121786474ba83a12f93bbd9058",
            "_dom_classes": [],
            "description": "",
            "_model_name": "FloatProgressModel",
            "bar_style": "success",
            "max": 46830571,
            "_view_module": "@jupyter-widgets/controls",
            "_model_module_version": "1.5.0",
            "value": 46830571,
            "_view_count": null,
            "_view_module_version": "1.5.0",
            "orientation": "horizontal",
            "min": 0,
            "description_tooltip": null,
            "_model_module": "@jupyter-widgets/controls",
            "layout": "IPY_MODEL_a7aaa9947f7b4cdc9c9010d5f64fb608"
          }
        },
        "01428e42c7c04dd78f1126fa6974ecaa": {
          "model_module": "@jupyter-widgets/controls",
          "model_name": "HTMLModel",
          "model_module_version": "1.5.0",
          "state": {
            "_view_name": "HTMLView",
            "style": "IPY_MODEL_14b5447397614236bfe2c0be14be82a5",
            "_dom_classes": [],
            "description": "",
            "_model_name": "HTMLModel",
            "placeholder": "​",
            "_view_module": "@jupyter-widgets/controls",
            "_model_module_version": "1.5.0",
            "value": " 44.7M/44.7M [00:01&lt;00:00, 28.9MB/s]",
            "_view_count": null,
            "_view_module_version": "1.5.0",
            "description_tooltip": null,
            "_model_module": "@jupyter-widgets/controls",
            "layout": "IPY_MODEL_a42396d2456444ca843f8256c6415fdd"
          }
        },
        "bbc7c247a9e642188da60ccc91d09b81": {
          "model_module": "@jupyter-widgets/controls",
          "model_name": "DescriptionStyleModel",
          "model_module_version": "1.5.0",
          "state": {
            "_view_name": "StyleView",
            "_model_name": "DescriptionStyleModel",
            "description_width": "",
            "_view_module": "@jupyter-widgets/base",
            "_model_module_version": "1.5.0",
            "_view_count": null,
            "_view_module_version": "1.2.0",
            "_model_module": "@jupyter-widgets/controls"
          }
        },
        "48935a3c57654224b0da64b2142a83cd": {
          "model_module": "@jupyter-widgets/base",
          "model_name": "LayoutModel",
          "model_module_version": "1.2.0",
          "state": {
            "_view_name": "LayoutView",
            "grid_template_rows": null,
            "right": null,
            "justify_content": null,
            "_view_module": "@jupyter-widgets/base",
            "overflow": null,
            "_model_module_version": "1.2.0",
            "_view_count": null,
            "flex_flow": null,
            "width": null,
            "min_width": null,
            "border": null,
            "align_items": null,
            "bottom": null,
            "_model_module": "@jupyter-widgets/base",
            "top": null,
            "grid_column": null,
            "overflow_y": null,
            "overflow_x": null,
            "grid_auto_flow": null,
            "grid_area": null,
            "grid_template_columns": null,
            "flex": null,
            "_model_name": "LayoutModel",
            "justify_items": null,
            "grid_row": null,
            "max_height": null,
            "align_content": null,
            "visibility": null,
            "align_self": null,
            "height": null,
            "min_height": null,
            "padding": null,
            "grid_auto_rows": null,
            "grid_gap": null,
            "max_width": null,
            "order": null,
            "_view_module_version": "1.2.0",
            "grid_template_areas": null,
            "object_position": null,
            "object_fit": null,
            "grid_auto_columns": null,
            "margin": null,
            "display": null,
            "left": null
          }
        },
        "f01803121786474ba83a12f93bbd9058": {
          "model_module": "@jupyter-widgets/controls",
          "model_name": "ProgressStyleModel",
          "model_module_version": "1.5.0",
          "state": {
            "_view_name": "StyleView",
            "_model_name": "ProgressStyleModel",
            "description_width": "",
            "_view_module": "@jupyter-widgets/base",
            "_model_module_version": "1.5.0",
            "_view_count": null,
            "_view_module_version": "1.2.0",
            "bar_color": null,
            "_model_module": "@jupyter-widgets/controls"
          }
        },
        "a7aaa9947f7b4cdc9c9010d5f64fb608": {
          "model_module": "@jupyter-widgets/base",
          "model_name": "LayoutModel",
          "model_module_version": "1.2.0",
          "state": {
            "_view_name": "LayoutView",
            "grid_template_rows": null,
            "right": null,
            "justify_content": null,
            "_view_module": "@jupyter-widgets/base",
            "overflow": null,
            "_model_module_version": "1.2.0",
            "_view_count": null,
            "flex_flow": null,
            "width": null,
            "min_width": null,
            "border": null,
            "align_items": null,
            "bottom": null,
            "_model_module": "@jupyter-widgets/base",
            "top": null,
            "grid_column": null,
            "overflow_y": null,
            "overflow_x": null,
            "grid_auto_flow": null,
            "grid_area": null,
            "grid_template_columns": null,
            "flex": null,
            "_model_name": "LayoutModel",
            "justify_items": null,
            "grid_row": null,
            "max_height": null,
            "align_content": null,
            "visibility": null,
            "align_self": null,
            "height": null,
            "min_height": null,
            "padding": null,
            "grid_auto_rows": null,
            "grid_gap": null,
            "max_width": null,
            "order": null,
            "_view_module_version": "1.2.0",
            "grid_template_areas": null,
            "object_position": null,
            "object_fit": null,
            "grid_auto_columns": null,
            "margin": null,
            "display": null,
            "left": null
          }
        },
        "14b5447397614236bfe2c0be14be82a5": {
          "model_module": "@jupyter-widgets/controls",
          "model_name": "DescriptionStyleModel",
          "model_module_version": "1.5.0",
          "state": {
            "_view_name": "StyleView",
            "_model_name": "DescriptionStyleModel",
            "description_width": "",
            "_view_module": "@jupyter-widgets/base",
            "_model_module_version": "1.5.0",
            "_view_count": null,
            "_view_module_version": "1.2.0",
            "_model_module": "@jupyter-widgets/controls"
          }
        },
        "a42396d2456444ca843f8256c6415fdd": {
          "model_module": "@jupyter-widgets/base",
          "model_name": "LayoutModel",
          "model_module_version": "1.2.0",
          "state": {
            "_view_name": "LayoutView",
            "grid_template_rows": null,
            "right": null,
            "justify_content": null,
            "_view_module": "@jupyter-widgets/base",
            "overflow": null,
            "_model_module_version": "1.2.0",
            "_view_count": null,
            "flex_flow": null,
            "width": null,
            "min_width": null,
            "border": null,
            "align_items": null,
            "bottom": null,
            "_model_module": "@jupyter-widgets/base",
            "top": null,
            "grid_column": null,
            "overflow_y": null,
            "overflow_x": null,
            "grid_auto_flow": null,
            "grid_area": null,
            "grid_template_columns": null,
            "flex": null,
            "_model_name": "LayoutModel",
            "justify_items": null,
            "grid_row": null,
            "max_height": null,
            "align_content": null,
            "visibility": null,
            "align_self": null,
            "height": null,
            "min_height": null,
            "padding": null,
            "grid_auto_rows": null,
            "grid_gap": null,
            "max_width": null,
            "order": null,
            "_view_module_version": "1.2.0",
            "grid_template_areas": null,
            "object_position": null,
            "object_fit": null,
            "grid_auto_columns": null,
            "margin": null,
            "display": null,
            "left": null
          }
        }
      }
    }
  },
  "cells": [
    {
      "cell_type": "markdown",
      "metadata": {
        "id": "view-in-github",
        "colab_type": "text"
      },
      "source": [
        "<a href=\"https://colab.research.google.com/github/d9249/DACON/blob/main/Specific%20Train%20(ImageNet%20statistics%2C%20left%20right%20both).ipynb\" target=\"_parent\"><img src=\"https://colab.research.google.com/assets/colab-badge.svg\" alt=\"Open In Colab\"/></a>"
      ]
    },
    {
      "cell_type": "code",
      "metadata": {
        "colab": {
          "base_uri": "https://localhost:8080/"
        },
        "id": "MRmwJ7v-s4NO",
        "outputId": "7d2a4a44-f7bd-43a8-f10d-949649a2cc52"
      },
      "source": [
        "!nvidia-smi"
      ],
      "id": "MRmwJ7v-s4NO",
      "execution_count": 1,
      "outputs": [
        {
          "output_type": "stream",
          "name": "stdout",
          "text": [
            "Tue Oct  5 19:10:31 2021       \n",
            "+-----------------------------------------------------------------------------+\n",
            "| NVIDIA-SMI 470.74       Driver Version: 460.32.03    CUDA Version: 11.2     |\n",
            "|-------------------------------+----------------------+----------------------+\n",
            "| GPU  Name        Persistence-M| Bus-Id        Disp.A | Volatile Uncorr. ECC |\n",
            "| Fan  Temp  Perf  Pwr:Usage/Cap|         Memory-Usage | GPU-Util  Compute M. |\n",
            "|                               |                      |               MIG M. |\n",
            "|===============================+======================+======================|\n",
            "|   0  Tesla P100-PCIE...  Off  | 00000000:00:04.0 Off |                    0 |\n",
            "| N/A   34C    P0    28W / 250W |      0MiB / 16280MiB |      0%      Default |\n",
            "|                               |                      |                  N/A |\n",
            "+-------------------------------+----------------------+----------------------+\n",
            "                                                                               \n",
            "+-----------------------------------------------------------------------------+\n",
            "| Processes:                                                                  |\n",
            "|  GPU   GI   CI        PID   Type   Process name                  GPU Memory |\n",
            "|        ID   ID                                                   Usage      |\n",
            "|=============================================================================|\n",
            "|  No running processes found                                                 |\n",
            "+-----------------------------------------------------------------------------+\n"
          ]
        }
      ]
    },
    {
      "cell_type": "code",
      "metadata": {
        "colab": {
          "base_uri": "https://localhost:8080/"
        },
        "id": "vl7w9Wass7ah",
        "outputId": "13db5be6-f597-4fc8-aa4f-a6bb6c606d1f"
      },
      "source": [
        "from google.colab import drive\n",
        "drive.mount('/content/drive')"
      ],
      "id": "vl7w9Wass7ah",
      "execution_count": 2,
      "outputs": [
        {
          "output_type": "stream",
          "name": "stdout",
          "text": [
            "Mounted at /content/drive\n"
          ]
        }
      ]
    },
    {
      "cell_type": "code",
      "metadata": {
        "id": "dbOlLdrZtUhy"
      },
      "source": [
        "# !mkdir open_data\n",
        "!unzip -uq \"/content/drive/MyDrive/DACON_2021_recognize_traffic_signal_motion/new_open.zip\" -d \"/content/\""
      ],
      "id": "dbOlLdrZtUhy",
      "execution_count": 3,
      "outputs": []
    },
    {
      "cell_type": "code",
      "metadata": {
        "id": "t6JPrj7etciK"
      },
      "source": [
        "!cp /content/drive/MyDrive/pytorch_python/dataset.py .\n",
        "!cp /content/drive/MyDrive/pytorch_python/specific_augmentation.py .\n",
        "!cp /content/drive/MyDrive/pytorch_python/specific_dataset.py .\n",
        "!cp /content/drive/MyDrive/pytorch_python/specific_train.py .\n",
        "!cp /content/drive/MyDrive/pytorch_python/train.py ."
      ],
      "id": "t6JPrj7etciK",
      "execution_count": 4,
      "outputs": []
    },
    {
      "cell_type": "code",
      "metadata": {
        "id": "cc615215"
      },
      "source": [
        "from specific_dataset import *\n",
        "from specific_train import *\n",
        "from specific_augmentation import *\n",
        "\n",
        "import matplotlib.pyplot as plt\n",
        "\n",
        "import torch, torchvision\n",
        "import torchvision.transforms as transforms"
      ],
      "id": "cc615215",
      "execution_count": 5,
      "outputs": []
    },
    {
      "cell_type": "code",
      "metadata": {
        "id": "d7fed971"
      },
      "source": [
        "import warnings\n",
        "\n",
        "warnings.filterwarnings('ignore')"
      ],
      "id": "d7fed971",
      "execution_count": 6,
      "outputs": []
    },
    {
      "cell_type": "code",
      "metadata": {
        "id": "d7f97ab6"
      },
      "source": [
        "batch_size = 32\n",
        "\n",
        "\n",
        "train_transform = Compose([\n",
        "    Resize(256), RandomCrop((224, 400)),\n",
        "    RandomHorizontalFlip(), RandomRotation(10),\n",
        "    ToTensor(), Normalize(mean=[0.485, 0.456, 0.406], std=[0.229, 0.224, 0.225])])\n",
        "\n",
        "val_transform = Compose([\n",
        "    Resize(256), CenterCrop((224, 400)),\n",
        "    ToTensor(), Normalize(mean=[0.485, 0.456, 0.406], std=[0.229, 0.224, 0.225])])\n",
        "\n",
        "\n",
        "train_dataset = LDataset(data_type='train', transform=train_transform)\n",
        "val_dataset = LDataset(data_type='val', transform=val_transform)\n",
        "\n",
        "train_loader = torch.utils.data.DataLoader(train_dataset, batch_size=batch_size, shuffle=True)\n",
        "val_loader = torch.utils.data.DataLoader(val_dataset, batch_size=batch_size, shuffle=False)"
      ],
      "id": "d7f97ab6",
      "execution_count": 7,
      "outputs": []
    },
    {
      "cell_type": "code",
      "metadata": {
        "colab": {
          "base_uri": "https://localhost:8080/",
          "height": 67,
          "referenced_widgets": [
            "29f3f85326584440808d5d4f9e80f89c",
            "364b6547433a41878bf1351b51ed9d8a",
            "55dab7f944764ad0920be7db5af2dea1",
            "417226418e0e416c9eb7671d1c5507fd",
            "01428e42c7c04dd78f1126fa6974ecaa",
            "bbc7c247a9e642188da60ccc91d09b81",
            "48935a3c57654224b0da64b2142a83cd",
            "f01803121786474ba83a12f93bbd9058",
            "a7aaa9947f7b4cdc9c9010d5f64fb608",
            "14b5447397614236bfe2c0be14be82a5",
            "a42396d2456444ca843f8256c6415fdd"
          ]
        },
        "id": "ff8fd340",
        "outputId": "c6e5ad58-0645-4483-cf44-39ac9dea7499"
      },
      "source": [
        "model = Baseline(model='resnet18', num_classes=3, print_freq=5, save=True, tag='LRB')"
      ],
      "id": "ff8fd340",
      "execution_count": 8,
      "outputs": [
        {
          "output_type": "stream",
          "name": "stderr",
          "text": [
            "Downloading: \"https://download.pytorch.org/models/resnet18-f37072fd.pth\" to /root/.cache/torch/hub/checkpoints/resnet18-f37072fd.pth\n"
          ]
        },
        {
          "output_type": "display_data",
          "data": {
            "application/vnd.jupyter.widget-view+json": {
              "model_id": "29f3f85326584440808d5d4f9e80f89c",
              "version_minor": 0,
              "version_major": 2
            },
            "text/plain": [
              "  0%|          | 0.00/44.7M [00:00<?, ?B/s]"
            ]
          },
          "metadata": {}
        }
      ]
    },
    {
      "cell_type": "code",
      "metadata": {
        "id": "cb07767c"
      },
      "source": [
        "epochs = 5\n",
        "lr = 0.0005\n",
        "weight_decay = 0.00001"
      ],
      "id": "cb07767c",
      "execution_count": 9,
      "outputs": []
    },
    {
      "cell_type": "code",
      "metadata": {
        "colab": {
          "base_uri": "https://localhost:8080/"
        },
        "id": "3ae6f71d",
        "outputId": "e2accbee-b79a-44c1-99ea-788884e0dd13"
      },
      "source": [
        "model.train(train_loader, val_loader, epochs=epochs, lr=lr, weight_decay=weight_decay)"
      ],
      "id": "3ae6f71d",
      "execution_count": 10,
      "outputs": [
        {
          "output_type": "stream",
          "name": "stdout",
          "text": [
            "Epoch 1 Started...\n",
            "Best Model Saved\n",
            "Iteration : 1 - Train Loss : 1.187234, Test Loss : 0.964633, Train Acc : 31.250000, Test Acc : 53.600543\n",
            "Best Model Saved\n",
            "Iteration : 6 - Train Loss : 0.338725, Test Loss : 0.340606, Train Acc : 90.625000, Test Acc : 85.258152\n",
            "Best Model Saved\n",
            "Iteration : 11 - Train Loss : 0.122746, Test Loss : 0.176844, Train Acc : 96.875000, Test Acc : 94.225543\n",
            "Best Model Saved\n",
            "Iteration : 16 - Train Loss : 0.036464, Test Loss : 0.043057, Train Acc : 100.000000, Test Acc : 98.777174\n",
            "Iteration : 21 - Train Loss : 0.043943, Test Loss : 0.077953, Train Acc : 96.875000, Test Acc : 97.214674\n",
            "Iteration : 26 - Train Loss : 0.020850, Test Loss : 0.093638, Train Acc : 100.000000, Test Acc : 96.807065\n",
            "Iteration : 31 - Train Loss : 0.016394, Test Loss : 0.075971, Train Acc : 100.000000, Test Acc : 97.146739\n",
            "Iteration : 36 - Train Loss : 0.020620, Test Loss : 0.047442, Train Acc : 100.000000, Test Acc : 98.777174\n",
            "Best Model Saved\n",
            "Iteration : 41 - Train Loss : 0.170335, Test Loss : 0.011019, Train Acc : 96.875000, Test Acc : 99.728261\n",
            "Iteration : 46 - Train Loss : 0.017278, Test Loss : 0.016174, Train Acc : 100.000000, Test Acc : 99.660326\n",
            "Iteration : 51 - Train Loss : 0.005303, Test Loss : 0.019726, Train Acc : 100.000000, Test Acc : 99.184783\n",
            "Iteration : 56 - Train Loss : 0.007583, Test Loss : 0.071545, Train Acc : 100.000000, Test Acc : 96.739130\n",
            "Iteration : 61 - Train Loss : 0.012215, Test Loss : 0.013201, Train Acc : 100.000000, Test Acc : 99.456522\n",
            "Iteration : 66 - Train Loss : 0.062829, Test Loss : 0.016056, Train Acc : 96.875000, Test Acc : 99.456522\n",
            "Best Model Saved\n",
            "Iteration : 71 - Train Loss : 0.022755, Test Loss : 0.009501, Train Acc : 100.000000, Test Acc : 99.932065\n",
            "Iteration : 76 - Train Loss : 0.010809, Test Loss : 0.046764, Train Acc : 100.000000, Test Acc : 98.913043\n",
            "Iteration : 81 - Train Loss : 0.015681, Test Loss : 0.085080, Train Acc : 100.000000, Test Acc : 98.777174\n",
            "Iteration : 86 - Train Loss : 0.010898, Test Loss : 0.020528, Train Acc : 100.000000, Test Acc : 99.796196\n",
            "Iteration : 91 - Train Loss : 0.029981, Test Loss : 0.010976, Train Acc : 96.875000, Test Acc : 99.864130\n",
            "Iteration : 96 - Train Loss : 0.004096, Test Loss : 0.016830, Train Acc : 100.000000, Test Acc : 99.456522\n",
            "Best Model Saved\n",
            "Iteration : 101 - Train Loss : 0.005682, Test Loss : 0.007032, Train Acc : 100.000000, Test Acc : 99.932065\n",
            "Best Model Saved\n",
            "Iteration : 106 - Train Loss : 0.004060, Test Loss : 0.004862, Train Acc : 100.000000, Test Acc : 99.796196\n",
            "Best Model Saved\n",
            "Iteration : 111 - Train Loss : 0.003968, Test Loss : 0.003513, Train Acc : 100.000000, Test Acc : 99.864130\n",
            "Best Model Saved\n",
            "Iteration : 116 - Train Loss : 0.011320, Test Loss : 0.002326, Train Acc : 100.000000, Test Acc : 99.932065\n",
            "Iteration : 121 - Train Loss : 0.001536, Test Loss : 0.002455, Train Acc : 100.000000, Test Acc : 99.932065\n",
            "Iteration : 126 - Train Loss : 0.000927, Test Loss : 0.003948, Train Acc : 100.000000, Test Acc : 99.932065\n",
            "Iteration : 131 - Train Loss : 0.026545, Test Loss : 0.014215, Train Acc : 100.000000, Test Acc : 99.456522\n",
            "Best Model Saved\n",
            "Iteration : 136 - Train Loss : 0.000971, Test Loss : 0.002946, Train Acc : 100.000000, Test Acc : 100.000000\n",
            "\n",
            "Epoch 2 Started...\n",
            "Best Model Saved\n",
            "Iteration : 1 - Train Loss : 0.001780, Test Loss : 0.002118, Train Acc : 100.000000, Test Acc : 100.000000\n",
            "Iteration : 6 - Train Loss : 0.003046, Test Loss : 0.003364, Train Acc : 100.000000, Test Acc : 100.000000\n",
            "Iteration : 11 - Train Loss : 0.001326, Test Loss : 0.007266, Train Acc : 100.000000, Test Acc : 100.000000\n",
            "Iteration : 16 - Train Loss : 0.000624, Test Loss : 0.007262, Train Acc : 100.000000, Test Acc : 100.000000\n",
            "Iteration : 21 - Train Loss : 0.002151, Test Loss : 0.005151, Train Acc : 100.000000, Test Acc : 99.864130\n",
            "Iteration : 26 - Train Loss : 0.001116, Test Loss : 0.003542, Train Acc : 100.000000, Test Acc : 99.864130\n",
            "Best Model Saved\n",
            "Iteration : 31 - Train Loss : 0.002571, Test Loss : 0.001637, Train Acc : 100.000000, Test Acc : 100.000000\n",
            "Best Model Saved\n",
            "Iteration : 36 - Train Loss : 0.000421, Test Loss : 0.000770, Train Acc : 100.000000, Test Acc : 100.000000\n",
            "Best Model Saved\n",
            "Iteration : 41 - Train Loss : 0.000513, Test Loss : 0.000741, Train Acc : 100.000000, Test Acc : 100.000000\n",
            "Iteration : 46 - Train Loss : 0.003759, Test Loss : 0.004789, Train Acc : 100.000000, Test Acc : 100.000000\n",
            "Iteration : 51 - Train Loss : 0.001396, Test Loss : 0.002674, Train Acc : 100.000000, Test Acc : 100.000000\n",
            "Iteration : 56 - Train Loss : 0.001127, Test Loss : 0.006050, Train Acc : 100.000000, Test Acc : 99.796196\n",
            "Iteration : 61 - Train Loss : 0.001138, Test Loss : 0.003348, Train Acc : 100.000000, Test Acc : 99.864130\n",
            "Iteration : 66 - Train Loss : 0.002892, Test Loss : 0.001573, Train Acc : 100.000000, Test Acc : 100.000000\n",
            "Iteration : 71 - Train Loss : 0.000647, Test Loss : 0.001320, Train Acc : 100.000000, Test Acc : 100.000000\n",
            "Iteration : 76 - Train Loss : 0.001243, Test Loss : 0.001428, Train Acc : 100.000000, Test Acc : 100.000000\n",
            "Iteration : 81 - Train Loss : 0.001415, Test Loss : 0.002045, Train Acc : 100.000000, Test Acc : 100.000000\n",
            "Iteration : 86 - Train Loss : 0.001857, Test Loss : 0.001708, Train Acc : 100.000000, Test Acc : 100.000000\n",
            "Iteration : 91 - Train Loss : 0.000643, Test Loss : 0.001130, Train Acc : 100.000000, Test Acc : 100.000000\n",
            "Best Model Saved\n",
            "Iteration : 96 - Train Loss : 0.000350, Test Loss : 0.000639, Train Acc : 100.000000, Test Acc : 100.000000\n",
            "Best Model Saved\n",
            "Iteration : 101 - Train Loss : 0.000249, Test Loss : 0.000524, Train Acc : 100.000000, Test Acc : 100.000000\n",
            "Best Model Saved\n",
            "Iteration : 106 - Train Loss : 0.000684, Test Loss : 0.000410, Train Acc : 100.000000, Test Acc : 100.000000\n",
            "Best Model Saved\n",
            "Iteration : 111 - Train Loss : 0.016096, Test Loss : 0.000385, Train Acc : 100.000000, Test Acc : 100.000000\n",
            "Iteration : 116 - Train Loss : 0.007926, Test Loss : 0.000524, Train Acc : 100.000000, Test Acc : 100.000000\n",
            "Iteration : 121 - Train Loss : 0.000145, Test Loss : 0.001001, Train Acc : 100.000000, Test Acc : 100.000000\n",
            "Iteration : 126 - Train Loss : 0.007901, Test Loss : 0.007828, Train Acc : 100.000000, Test Acc : 99.728261\n",
            "Iteration : 131 - Train Loss : 0.002165, Test Loss : 0.000943, Train Acc : 100.000000, Test Acc : 100.000000\n",
            "Iteration : 136 - Train Loss : 0.000981, Test Loss : 0.001461, Train Acc : 100.000000, Test Acc : 100.000000\n",
            "\n",
            "Epoch 3 Started...\n",
            "Iteration : 1 - Train Loss : 0.001026, Test Loss : 0.002278, Train Acc : 100.000000, Test Acc : 100.000000\n",
            "Iteration : 6 - Train Loss : 0.010839, Test Loss : 0.001130, Train Acc : 100.000000, Test Acc : 100.000000\n",
            "Iteration : 11 - Train Loss : 0.002942, Test Loss : 0.001229, Train Acc : 100.000000, Test Acc : 100.000000\n",
            "Iteration : 16 - Train Loss : 0.000822, Test Loss : 0.001923, Train Acc : 100.000000, Test Acc : 100.000000\n",
            "Iteration : 21 - Train Loss : 0.000944, Test Loss : 0.001870, Train Acc : 100.000000, Test Acc : 100.000000\n",
            "Iteration : 26 - Train Loss : 0.001073, Test Loss : 0.000525, Train Acc : 100.000000, Test Acc : 100.000000\n",
            "Iteration : 31 - Train Loss : 0.000522, Test Loss : 0.000535, Train Acc : 100.000000, Test Acc : 100.000000\n",
            "Iteration : 36 - Train Loss : 0.000420, Test Loss : 0.000543, Train Acc : 100.000000, Test Acc : 100.000000\n",
            "Best Model Saved\n",
            "Iteration : 41 - Train Loss : 0.000136, Test Loss : 0.000299, Train Acc : 100.000000, Test Acc : 100.000000\n",
            "Best Model Saved\n",
            "Iteration : 46 - Train Loss : 0.000703, Test Loss : 0.000257, Train Acc : 100.000000, Test Acc : 100.000000\n",
            "Iteration : 51 - Train Loss : 0.003652, Test Loss : 0.000283, Train Acc : 100.000000, Test Acc : 100.000000\n",
            "Best Model Saved\n",
            "Iteration : 56 - Train Loss : 0.000391, Test Loss : 0.000132, Train Acc : 100.000000, Test Acc : 100.000000\n",
            "Best Model Saved\n",
            "Iteration : 61 - Train Loss : 0.001540, Test Loss : 0.000112, Train Acc : 100.000000, Test Acc : 100.000000\n",
            "Iteration : 66 - Train Loss : 0.000296, Test Loss : 0.000128, Train Acc : 100.000000, Test Acc : 100.000000\n",
            "Iteration : 71 - Train Loss : 0.000117, Test Loss : 0.000143, Train Acc : 100.000000, Test Acc : 100.000000\n",
            "Iteration : 76 - Train Loss : 0.000503, Test Loss : 0.000133, Train Acc : 100.000000, Test Acc : 100.000000\n",
            "Iteration : 81 - Train Loss : 0.001642, Test Loss : 0.000124, Train Acc : 100.000000, Test Acc : 100.000000\n",
            "Best Model Saved\n",
            "Iteration : 86 - Train Loss : 0.000199, Test Loss : 0.000105, Train Acc : 100.000000, Test Acc : 100.000000\n",
            "Best Model Saved\n",
            "Iteration : 91 - Train Loss : 0.000131, Test Loss : 0.000096, Train Acc : 100.000000, Test Acc : 100.000000\n",
            "Best Model Saved\n",
            "Iteration : 96 - Train Loss : 0.000217, Test Loss : 0.000085, Train Acc : 100.000000, Test Acc : 100.000000\n",
            "Iteration : 101 - Train Loss : 0.000164, Test Loss : 0.000087, Train Acc : 100.000000, Test Acc : 100.000000\n",
            "Best Model Saved\n",
            "Iteration : 106 - Train Loss : 0.001525, Test Loss : 0.000072, Train Acc : 100.000000, Test Acc : 100.000000\n",
            "Iteration : 111 - Train Loss : 0.000089, Test Loss : 0.000080, Train Acc : 100.000000, Test Acc : 100.000000\n",
            "Iteration : 116 - Train Loss : 0.000288, Test Loss : 0.000086, Train Acc : 100.000000, Test Acc : 100.000000\n",
            "Iteration : 121 - Train Loss : 0.000150, Test Loss : 0.000087, Train Acc : 100.000000, Test Acc : 100.000000\n",
            "Iteration : 126 - Train Loss : 0.000090, Test Loss : 0.000090, Train Acc : 100.000000, Test Acc : 100.000000\n",
            "Iteration : 131 - Train Loss : 0.000073, Test Loss : 0.000077, Train Acc : 100.000000, Test Acc : 100.000000\n",
            "Iteration : 136 - Train Loss : 0.000241, Test Loss : 0.000076, Train Acc : 100.000000, Test Acc : 100.000000\n",
            "\n",
            "Epoch 4 Started...\n",
            "Iteration : 1 - Train Loss : 0.000582, Test Loss : 0.000081, Train Acc : 100.000000, Test Acc : 100.000000\n",
            "Iteration : 6 - Train Loss : 0.000103, Test Loss : 0.000093, Train Acc : 100.000000, Test Acc : 100.000000\n",
            "Best Model Saved\n",
            "Iteration : 11 - Train Loss : 0.000061, Test Loss : 0.000067, Train Acc : 100.000000, Test Acc : 100.000000\n",
            "Best Model Saved\n",
            "Iteration : 16 - Train Loss : 0.000145, Test Loss : 0.000056, Train Acc : 100.000000, Test Acc : 100.000000\n",
            "Iteration : 21 - Train Loss : 0.000745, Test Loss : 0.000060, Train Acc : 100.000000, Test Acc : 100.000000\n",
            "Iteration : 26 - Train Loss : 0.000131, Test Loss : 0.000058, Train Acc : 100.000000, Test Acc : 100.000000\n",
            "Iteration : 31 - Train Loss : 0.000107, Test Loss : 0.000058, Train Acc : 100.000000, Test Acc : 100.000000\n",
            "Iteration : 36 - Train Loss : 0.000079, Test Loss : 0.000059, Train Acc : 100.000000, Test Acc : 100.000000\n",
            "Iteration : 41 - Train Loss : 0.000184, Test Loss : 0.000064, Train Acc : 100.000000, Test Acc : 100.000000\n",
            "Iteration : 46 - Train Loss : 0.001654, Test Loss : 0.000073, Train Acc : 100.000000, Test Acc : 100.000000\n",
            "Best Model Saved\n",
            "Iteration : 51 - Train Loss : 0.000133, Test Loss : 0.000054, Train Acc : 100.000000, Test Acc : 100.000000\n",
            "Iteration : 56 - Train Loss : 0.000103, Test Loss : 0.000061, Train Acc : 100.000000, Test Acc : 100.000000\n",
            "Best Model Saved\n",
            "Iteration : 61 - Train Loss : 0.000722, Test Loss : 0.000053, Train Acc : 100.000000, Test Acc : 100.000000\n",
            "Best Model Saved\n",
            "Iteration : 66 - Train Loss : 0.000631, Test Loss : 0.000046, Train Acc : 100.000000, Test Acc : 100.000000\n",
            "Best Model Saved\n",
            "Iteration : 71 - Train Loss : 0.000054, Test Loss : 0.000045, Train Acc : 100.000000, Test Acc : 100.000000\n",
            "Iteration : 76 - Train Loss : 0.000179, Test Loss : 0.000056, Train Acc : 100.000000, Test Acc : 100.000000\n",
            "Iteration : 81 - Train Loss : 0.000129, Test Loss : 0.000047, Train Acc : 100.000000, Test Acc : 100.000000\n",
            "Iteration : 86 - Train Loss : 0.000131, Test Loss : 0.000049, Train Acc : 100.000000, Test Acc : 100.000000\n",
            "Best Model Saved\n",
            "Iteration : 91 - Train Loss : 0.000112, Test Loss : 0.000043, Train Acc : 100.000000, Test Acc : 100.000000\n",
            "Iteration : 96 - Train Loss : 0.000084, Test Loss : 0.000051, Train Acc : 100.000000, Test Acc : 100.000000\n",
            "Iteration : 101 - Train Loss : 0.000086, Test Loss : 0.000044, Train Acc : 100.000000, Test Acc : 100.000000\n",
            "Iteration : 106 - Train Loss : 0.000122, Test Loss : 0.000049, Train Acc : 100.000000, Test Acc : 100.000000\n",
            "Best Model Saved\n",
            "Iteration : 111 - Train Loss : 0.000041, Test Loss : 0.000040, Train Acc : 100.000000, Test Acc : 100.000000\n",
            "Best Model Saved\n",
            "Iteration : 116 - Train Loss : 0.000762, Test Loss : 0.000038, Train Acc : 100.000000, Test Acc : 100.000000\n",
            "Best Model Saved\n",
            "Iteration : 121 - Train Loss : 0.000037, Test Loss : 0.000036, Train Acc : 100.000000, Test Acc : 100.000000\n",
            "Best Model Saved\n",
            "Iteration : 126 - Train Loss : 0.000123, Test Loss : 0.000036, Train Acc : 100.000000, Test Acc : 100.000000\n",
            "Iteration : 131 - Train Loss : 0.000058, Test Loss : 0.000038, Train Acc : 100.000000, Test Acc : 100.000000\n",
            "Iteration : 136 - Train Loss : 0.000068, Test Loss : 0.000041, Train Acc : 100.000000, Test Acc : 100.000000\n",
            "\n",
            "Epoch 5 Started...\n",
            "Best Model Saved\n",
            "Iteration : 1 - Train Loss : 0.000106, Test Loss : 0.000034, Train Acc : 100.000000, Test Acc : 100.000000\n",
            "Iteration : 6 - Train Loss : 0.000186, Test Loss : 0.000034, Train Acc : 100.000000, Test Acc : 100.000000\n",
            "Best Model Saved\n",
            "Iteration : 11 - Train Loss : 0.000161, Test Loss : 0.000033, Train Acc : 100.000000, Test Acc : 100.000000\n",
            "Iteration : 16 - Train Loss : 0.000124, Test Loss : 0.000039, Train Acc : 100.000000, Test Acc : 100.000000\n",
            "Iteration : 21 - Train Loss : 0.000130, Test Loss : 0.000049, Train Acc : 100.000000, Test Acc : 100.000000\n",
            "Iteration : 26 - Train Loss : 0.000332, Test Loss : 0.000034, Train Acc : 100.000000, Test Acc : 100.000000\n",
            "Iteration : 31 - Train Loss : 0.000580, Test Loss : 0.000037, Train Acc : 100.000000, Test Acc : 100.000000\n",
            "Iteration : 36 - Train Loss : 0.000087, Test Loss : 0.000038, Train Acc : 100.000000, Test Acc : 100.000000\n",
            "Iteration : 41 - Train Loss : 0.000028, Test Loss : 0.000035, Train Acc : 100.000000, Test Acc : 100.000000\n",
            "Best Model Saved\n",
            "Iteration : 46 - Train Loss : 0.000158, Test Loss : 0.000032, Train Acc : 100.000000, Test Acc : 100.000000\n",
            "Iteration : 51 - Train Loss : 0.000147, Test Loss : 0.000032, Train Acc : 100.000000, Test Acc : 100.000000\n",
            "Iteration : 56 - Train Loss : 0.000156, Test Loss : 0.000037, Train Acc : 100.000000, Test Acc : 100.000000\n",
            "Iteration : 61 - Train Loss : 0.000131, Test Loss : 0.000037, Train Acc : 100.000000, Test Acc : 100.000000\n",
            "Iteration : 66 - Train Loss : 0.000216, Test Loss : 0.000039, Train Acc : 100.000000, Test Acc : 100.000000\n",
            "Iteration : 71 - Train Loss : 0.000127, Test Loss : 0.000040, Train Acc : 100.000000, Test Acc : 100.000000\n",
            "Iteration : 76 - Train Loss : 0.000132, Test Loss : 0.000037, Train Acc : 100.000000, Test Acc : 100.000000\n",
            "Iteration : 81 - Train Loss : 0.000134, Test Loss : 0.000037, Train Acc : 100.000000, Test Acc : 100.000000\n",
            "Iteration : 86 - Train Loss : 0.000106, Test Loss : 0.000034, Train Acc : 100.000000, Test Acc : 100.000000\n",
            "Iteration : 91 - Train Loss : 0.000428, Test Loss : 0.000032, Train Acc : 100.000000, Test Acc : 100.000000\n",
            "Best Model Saved\n",
            "Iteration : 96 - Train Loss : 0.000062, Test Loss : 0.000030, Train Acc : 100.000000, Test Acc : 100.000000\n",
            "Iteration : 101 - Train Loss : 0.000108, Test Loss : 0.000031, Train Acc : 100.000000, Test Acc : 100.000000\n",
            "Iteration : 106 - Train Loss : 0.000050, Test Loss : 0.000031, Train Acc : 100.000000, Test Acc : 100.000000\n",
            "Best Model Saved\n",
            "Iteration : 111 - Train Loss : 0.000048, Test Loss : 0.000030, Train Acc : 100.000000, Test Acc : 100.000000\n",
            "Iteration : 116 - Train Loss : 0.000021, Test Loss : 0.000030, Train Acc : 100.000000, Test Acc : 100.000000\n",
            "Iteration : 121 - Train Loss : 0.000079, Test Loss : 0.000032, Train Acc : 100.000000, Test Acc : 100.000000\n",
            "Iteration : 126 - Train Loss : 0.000045, Test Loss : 0.000035, Train Acc : 100.000000, Test Acc : 100.000000\n",
            "Best Model Saved\n",
            "Iteration : 131 - Train Loss : 0.000213, Test Loss : 0.000029, Train Acc : 100.000000, Test Acc : 100.000000\n",
            "Best Model Saved\n",
            "Iteration : 136 - Train Loss : 0.000102, Test Loss : 0.000026, Train Acc : 100.000000, Test Acc : 100.000000\n",
            "\n"
          ]
        }
      ]
    },
    {
      "cell_type": "code",
      "metadata": {
        "colab": {
          "base_uri": "https://localhost:8080/",
          "height": 620
        },
        "id": "6e1f37fc",
        "outputId": "3d5dee7c-6bc4-4c1c-cf81-a89cc2a4ce83"
      },
      "source": [
        "label_fontsize = 25\n",
        "\n",
        "plt.figure(figsize=(20, 10))\n",
        "train_lossline, = plt.plot(model.train_losses, label='Train')\n",
        "test_lossline, = plt.plot(model.test_losses, color='red', label='Test')\n",
        "plt.legend(handles=[train_lossline, test_lossline], fontsize=20)\n",
        "plt.xlabel('Step', fontsize=label_fontsize)\n",
        "plt.ylabel('Loss', fontsize=label_fontsize)\n",
        "plt.show()"
      ],
      "id": "6e1f37fc",
      "execution_count": 11,
      "outputs": [
        {
          "output_type": "display_data",
          "data": {
            "image/png": "[encoded data removed]",
            "text/plain": [
              "<Figure size 1440x720 with 1 Axes>"
            ]
          },
          "metadata": {
            "needs_background": "light"
          }
        }
      ]
    },
    {
      "cell_type": "code",
      "metadata": {
        "colab": {
          "base_uri": "https://localhost:8080/",
          "height": 620
        },
        "id": "c76d7e20",
        "outputId": "406cb489-2971-47a1-a132-2f4f79989058"
      },
      "source": [
        "plt.figure(figsize=(20, 10))\n",
        "train_accline, = plt.plot(model.train_acc, label='Train')\n",
        "test_accline, = plt.plot(model.test_acc, color='red', label='Test')\n",
        "plt.legend(handles=[train_accline, test_accline], fontsize=20)\n",
        "plt.xlabel('Step', fontsize=label_fontsize)\n",
        "plt.ylabel('Acc', fontsize=label_fontsize)\n",
        "plt.show()"
      ],
      "id": "c76d7e20",
      "execution_count": 12,
      "outputs": [
        {
          "output_type": "display_data",
          "data": {
            "image/png": "[encoded data removed]",
            "text/plain": [
              "<Figure size 1440x720 with 1 Axes>"
            ]
          },
          "metadata": {
            "needs_background": "light"
          }
        }
      ]
    }
  ]
}