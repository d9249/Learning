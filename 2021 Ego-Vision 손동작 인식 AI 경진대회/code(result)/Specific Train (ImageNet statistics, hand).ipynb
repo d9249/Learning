{
  "nbformat": 4,
  "nbformat_minor": 5,
  "metadata": {
    "kernelspec": {
      "display_name": "Python 3 (ipykernel)",
      "language": "python",
      "name": "python3"
    },
    "language_info": {
      "codemirror_mode": {
        "name": "ipython",
        "version": 3
      },
      "file_extension": ".py",
      "mimetype": "text/x-python",
      "name": "python",
      "nbconvert_exporter": "python",
      "pygments_lexer": "ipython3",
      "version": "3.8.8"
    },
    "colab": {
      "name": "Specific Train (ImageNet statistics, hand).ipynb",
      "provenance": [],
      "include_colab_link": true
    },
    "accelerator": "GPU",
    "widgets": {
      "application/vnd.jupyter.widget-state+json": {
        "0ba20475ef784d7da5d2282e9134ae06": {
          "model_module": "@jupyter-widgets/controls",
          "model_name": "HBoxModel",
          "model_module_version": "1.5.0",
          "state": {
            "_view_name": "HBoxView",
            "_dom_classes": [],
            "_model_name": "HBoxModel",
            "_view_module": "@jupyter-widgets/controls",
            "_model_module_version": "1.5.0",
            "_view_count": null,
            "_view_module_version": "1.5.0",
            "box_style": "",
            "layout": "IPY_MODEL_384023d40cb04827ae83f2d087caca84",
            "_model_module": "@jupyter-widgets/controls",
            "children": [
              "IPY_MODEL_f3a6cce835214444b64880532db3bb5f",
              "IPY_MODEL_41a0567568b14b80885df404b850cb2a",
              "IPY_MODEL_1db3a855ed9347e88a501d850e4e52b6"
            ]
          }
        },
        "384023d40cb04827ae83f2d087caca84": {
          "model_module": "@jupyter-widgets/base",
          "model_name": "LayoutModel",
          "model_module_version": "1.2.0",
          "state": {
            "_view_name": "LayoutView",
            "grid_template_rows": null,
            "right": null,
            "justify_content": null,
            "_view_module": "@jupyter-widgets/base",
            "overflow": null,
            "_model_module_version": "1.2.0",
            "_view_count": null,
            "flex_flow": null,
            "width": null,
            "min_width": null,
            "border": null,
            "align_items": null,
            "bottom": null,
            "_model_module": "@jupyter-widgets/base",
            "top": null,
            "grid_column": null,
            "overflow_y": null,
            "overflow_x": null,
            "grid_auto_flow": null,
            "grid_area": null,
            "grid_template_columns": null,
            "flex": null,
            "_model_name": "LayoutModel",
            "justify_items": null,
            "grid_row": null,
            "max_height": null,
            "align_content": null,
            "visibility": null,
            "align_self": null,
            "height": null,
            "min_height": null,
            "padding": null,
            "grid_auto_rows": null,
            "grid_gap": null,
            "max_width": null,
            "order": null,
            "_view_module_version": "1.2.0",
            "grid_template_areas": null,
            "object_position": null,
            "object_fit": null,
            "grid_auto_columns": null,
            "margin": null,
            "display": null,
            "left": null
          }
        },
        "f3a6cce835214444b64880532db3bb5f": {
          "model_module": "@jupyter-widgets/controls",
          "model_name": "HTMLModel",
          "model_module_version": "1.5.0",
          "state": {
            "_view_name": "HTMLView",
            "style": "IPY_MODEL_3ecccd86f0ab41e8ac848f6739472b18",
            "_dom_classes": [],
            "description": "",
            "_model_name": "HTMLModel",
            "placeholder": "​",
            "_view_module": "@jupyter-widgets/controls",
            "_model_module_version": "1.5.0",
            "value": "100%",
            "_view_count": null,
            "_view_module_version": "1.5.0",
            "description_tooltip": null,
            "_model_module": "@jupyter-widgets/controls",
            "layout": "IPY_MODEL_b0f359de797347a6b22b970289baf3ea"
          }
        },
        "41a0567568b14b80885df404b850cb2a": {
          "model_module": "@jupyter-widgets/controls",
          "model_name": "FloatProgressModel",
          "model_module_version": "1.5.0",
          "state": {
            "_view_name": "ProgressView",
            "style": "IPY_MODEL_418211299a904cc5b5ed24ef8d717a02",
            "_dom_classes": [],
            "description": "",
            "_model_name": "FloatProgressModel",
            "bar_style": "success",
            "max": 46830571,
            "_view_module": "@jupyter-widgets/controls",
            "_model_module_version": "1.5.0",
            "value": 46830571,
            "_view_count": null,
            "_view_module_version": "1.5.0",
            "orientation": "horizontal",
            "min": 0,
            "description_tooltip": null,
            "_model_module": "@jupyter-widgets/controls",
            "layout": "IPY_MODEL_db125ff1fc5f4bba85a7ef0aa62c1a14"
          }
        },
        "1db3a855ed9347e88a501d850e4e52b6": {
          "model_module": "@jupyter-widgets/controls",
          "model_name": "HTMLModel",
          "model_module_version": "1.5.0",
          "state": {
            "_view_name": "HTMLView",
            "style": "IPY_MODEL_d69b71b2cb534619ae0d147b649960b2",
            "_dom_classes": [],
            "description": "",
            "_model_name": "HTMLModel",
            "placeholder": "​",
            "_view_module": "@jupyter-widgets/controls",
            "_model_module_version": "1.5.0",
            "value": " 44.7M/44.7M [00:00&lt;00:00, 65.7MB/s]",
            "_view_count": null,
            "_view_module_version": "1.5.0",
            "description_tooltip": null,
            "_model_module": "@jupyter-widgets/controls",
            "layout": "IPY_MODEL_28294afdd2544005be7647acffc8049d"
          }
        },
        "3ecccd86f0ab41e8ac848f6739472b18": {
          "model_module": "@jupyter-widgets/controls",
          "model_name": "DescriptionStyleModel",
          "model_module_version": "1.5.0",
          "state": {
            "_view_name": "StyleView",
            "_model_name": "DescriptionStyleModel",
            "description_width": "",
            "_view_module": "@jupyter-widgets/base",
            "_model_module_version": "1.5.0",
            "_view_count": null,
            "_view_module_version": "1.2.0",
            "_model_module": "@jupyter-widgets/controls"
          }
        },
        "b0f359de797347a6b22b970289baf3ea": {
          "model_module": "@jupyter-widgets/base",
          "model_name": "LayoutModel",
          "model_module_version": "1.2.0",
          "state": {
            "_view_name": "LayoutView",
            "grid_template_rows": null,
            "right": null,
            "justify_content": null,
            "_view_module": "@jupyter-widgets/base",
            "overflow": null,
            "_model_module_version": "1.2.0",
            "_view_count": null,
            "flex_flow": null,
            "width": null,
            "min_width": null,
            "border": null,
            "align_items": null,
            "bottom": null,
            "_model_module": "@jupyter-widgets/base",
            "top": null,
            "grid_column": null,
            "overflow_y": null,
            "overflow_x": null,
            "grid_auto_flow": null,
            "grid_area": null,
            "grid_template_columns": null,
            "flex": null,
            "_model_name": "LayoutModel",
            "justify_items": null,
            "grid_row": null,
            "max_height": null,
            "align_content": null,
            "visibility": null,
            "align_self": null,
            "height": null,
            "min_height": null,
            "padding": null,
            "grid_auto_rows": null,
            "grid_gap": null,
            "max_width": null,
            "order": null,
            "_view_module_version": "1.2.0",
            "grid_template_areas": null,
            "object_position": null,
            "object_fit": null,
            "grid_auto_columns": null,
            "margin": null,
            "display": null,
            "left": null
          }
        },
        "418211299a904cc5b5ed24ef8d717a02": {
          "model_module": "@jupyter-widgets/controls",
          "model_name": "ProgressStyleModel",
          "model_module_version": "1.5.0",
          "state": {
            "_view_name": "StyleView",
            "_model_name": "ProgressStyleModel",
            "description_width": "",
            "_view_module": "@jupyter-widgets/base",
            "_model_module_version": "1.5.0",
            "_view_count": null,
            "_view_module_version": "1.2.0",
            "bar_color": null,
            "_model_module": "@jupyter-widgets/controls"
          }
        },
        "db125ff1fc5f4bba85a7ef0aa62c1a14": {
          "model_module": "@jupyter-widgets/base",
          "model_name": "LayoutModel",
          "model_module_version": "1.2.0",
          "state": {
            "_view_name": "LayoutView",
            "grid_template_rows": null,
            "right": null,
            "justify_content": null,
            "_view_module": "@jupyter-widgets/base",
            "overflow": null,
            "_model_module_version": "1.2.0",
            "_view_count": null,
            "flex_flow": null,
            "width": null,
            "min_width": null,
            "border": null,
            "align_items": null,
            "bottom": null,
            "_model_module": "@jupyter-widgets/base",
            "top": null,
            "grid_column": null,
            "overflow_y": null,
            "overflow_x": null,
            "grid_auto_flow": null,
            "grid_area": null,
            "grid_template_columns": null,
            "flex": null,
            "_model_name": "LayoutModel",
            "justify_items": null,
            "grid_row": null,
            "max_height": null,
            "align_content": null,
            "visibility": null,
            "align_self": null,
            "height": null,
            "min_height": null,
            "padding": null,
            "grid_auto_rows": null,
            "grid_gap": null,
            "max_width": null,
            "order": null,
            "_view_module_version": "1.2.0",
            "grid_template_areas": null,
            "object_position": null,
            "object_fit": null,
            "grid_auto_columns": null,
            "margin": null,
            "display": null,
            "left": null
          }
        },
        "d69b71b2cb534619ae0d147b649960b2": {
          "model_module": "@jupyter-widgets/controls",
          "model_name": "DescriptionStyleModel",
          "model_module_version": "1.5.0",
          "state": {
            "_view_name": "StyleView",
            "_model_name": "DescriptionStyleModel",
            "description_width": "",
            "_view_module": "@jupyter-widgets/base",
            "_model_module_version": "1.5.0",
            "_view_count": null,
            "_view_module_version": "1.2.0",
            "_model_module": "@jupyter-widgets/controls"
          }
        },
        "28294afdd2544005be7647acffc8049d": {
          "model_module": "@jupyter-widgets/base",
          "model_name": "LayoutModel",
          "model_module_version": "1.2.0",
          "state": {
            "_view_name": "LayoutView",
            "grid_template_rows": null,
            "right": null,
            "justify_content": null,
            "_view_module": "@jupyter-widgets/base",
            "overflow": null,
            "_model_module_version": "1.2.0",
            "_view_count": null,
            "flex_flow": null,
            "width": null,
            "min_width": null,
            "border": null,
            "align_items": null,
            "bottom": null,
            "_model_module": "@jupyter-widgets/base",
            "top": null,
            "grid_column": null,
            "overflow_y": null,
            "overflow_x": null,
            "grid_auto_flow": null,
            "grid_area": null,
            "grid_template_columns": null,
            "flex": null,
            "_model_name": "LayoutModel",
            "justify_items": null,
            "grid_row": null,
            "max_height": null,
            "align_content": null,
            "visibility": null,
            "align_self": null,
            "height": null,
            "min_height": null,
            "padding": null,
            "grid_auto_rows": null,
            "grid_gap": null,
            "max_width": null,
            "order": null,
            "_view_module_version": "1.2.0",
            "grid_template_areas": null,
            "object_position": null,
            "object_fit": null,
            "grid_auto_columns": null,
            "margin": null,
            "display": null,
            "left": null
          }
        }
      }
    }
  },
  "cells": [
    {
      "cell_type": "markdown",
      "metadata": {
        "id": "view-in-github",
        "colab_type": "text"
      },
      "source": [
        "<a href=\"https://colab.research.google.com/github/d9249/DACON/blob/main/Specific%20Train%20(ImageNet%20statistics%2C%20hand).ipynb\" target=\"_parent\"><img src=\"https://colab.research.google.com/assets/colab-badge.svg\" alt=\"Open In Colab\"/></a>"
      ]
    },
    {
      "cell_type": "code",
      "metadata": {
        "colab": {
          "base_uri": "https://localhost:8080/"
        },
        "id": "MRmwJ7v-s4NO",
        "outputId": "78e975df-f7b5-4d54-a8af-a712b03f9000"
      },
      "source": [
        "!nvidia-smi"
      ],
      "id": "MRmwJ7v-s4NO",
      "execution_count": 1,
      "outputs": [
        {
          "output_type": "stream",
          "name": "stdout",
          "text": [
            "Tue Oct  5 19:15:54 2021       \n",
            "+-----------------------------------------------------------------------------+\n",
            "| NVIDIA-SMI 470.74       Driver Version: 460.32.03    CUDA Version: 11.2     |\n",
            "|-------------------------------+----------------------+----------------------+\n",
            "| GPU  Name        Persistence-M| Bus-Id        Disp.A | Volatile Uncorr. ECC |\n",
            "| Fan  Temp  Perf  Pwr:Usage/Cap|         Memory-Usage | GPU-Util  Compute M. |\n",
            "|                               |                      |               MIG M. |\n",
            "|===============================+======================+======================|\n",
            "|   0  Tesla P100-PCIE...  Off  | 00000000:00:04.0 Off |                    0 |\n",
            "| N/A   32C    P0    25W / 250W |      0MiB / 16280MiB |      0%      Default |\n",
            "|                               |                      |                  N/A |\n",
            "+-------------------------------+----------------------+----------------------+\n",
            "                                                                               \n",
            "+-----------------------------------------------------------------------------+\n",
            "| Processes:                                                                  |\n",
            "|  GPU   GI   CI        PID   Type   Process name                  GPU Memory |\n",
            "|        ID   ID                                                   Usage      |\n",
            "|=============================================================================|\n",
            "|  No running processes found                                                 |\n",
            "+-----------------------------------------------------------------------------+\n"
          ]
        }
      ]
    },
    {
      "cell_type": "code",
      "metadata": {
        "colab": {
          "base_uri": "https://localhost:8080/"
        },
        "id": "vl7w9Wass7ah",
        "outputId": "db6ae54e-8852-4c67-eebb-99f8849322dc"
      },
      "source": [
        "from google.colab import drive\n",
        "drive.mount('/content/drive')"
      ],
      "id": "vl7w9Wass7ah",
      "execution_count": 2,
      "outputs": [
        {
          "output_type": "stream",
          "name": "stdout",
          "text": [
            "Mounted at /content/drive\n"
          ]
        }
      ]
    },
    {
      "cell_type": "code",
      "metadata": {
        "id": "dbOlLdrZtUhy"
      },
      "source": [
        "# !mkdir open_data\n",
        "!unzip -uq \"/content/drive/MyDrive/DACON_2021_recognize_traffic_signal_motion/new_open.zip\" -d \"/content/\""
      ],
      "id": "dbOlLdrZtUhy",
      "execution_count": 3,
      "outputs": []
    },
    {
      "cell_type": "code",
      "metadata": {
        "id": "t6JPrj7etciK"
      },
      "source": [
        "!cp /content/drive/MyDrive/pytorch_python/dataset.py .\n",
        "!cp /content/drive/MyDrive/pytorch_python/specific_augmentation.py .\n",
        "!cp /content/drive/MyDrive/pytorch_python/specific_dataset.py .\n",
        "!cp /content/drive/MyDrive/pytorch_python/specific_train.py .\n",
        "!cp /content/drive/MyDrive/pytorch_python/train.py ."
      ],
      "id": "t6JPrj7etciK",
      "execution_count": 4,
      "outputs": []
    },
    {
      "cell_type": "code",
      "metadata": {
        "id": "cc615215"
      },
      "source": [
        "from specific_dataset import *\n",
        "from specific_train import *\n",
        "\n",
        "import matplotlib.pyplot as plt\n",
        "\n",
        "import torch, torchvision\n",
        "import torchvision.transforms as transforms"
      ],
      "id": "cc615215",
      "execution_count": 5,
      "outputs": []
    },
    {
      "cell_type": "code",
      "metadata": {
        "id": "d7fed971"
      },
      "source": [
        "import warnings\n",
        "\n",
        "warnings.filterwarnings('ignore')"
      ],
      "id": "d7fed971",
      "execution_count": 6,
      "outputs": []
    },
    {
      "cell_type": "code",
      "metadata": {
        "id": "d7f97ab6"
      },
      "source": [
        "batch_size = 32\n",
        "\n",
        "\n",
        "train_transform = transforms.Compose([\n",
        "    transforms.Resize(256), transforms.RandomCrop((224, 400)),\n",
        "    transforms.RandomHorizontalFlip(), transforms.RandomRotation(10),\n",
        "    transforms.ToTensor(), transforms.Normalize(mean=[0.485, 0.456, 0.406], std=[0.229, 0.224, 0.225])])\n",
        "\n",
        "val_transform = transforms.Compose([\n",
        "    transforms.Resize(256), transforms.CenterCrop((224, 400)),\n",
        "    transforms.ToTensor(), transforms.Normalize(mean=[0.485, 0.456, 0.406], std=[0.229, 0.224, 0.225])])\n",
        "\n",
        "\n",
        "train_dataset = HDataset(data_type='train', transform=train_transform)\n",
        "val_dataset = HDataset(data_type='val', transform=val_transform)\n",
        "\n",
        "train_loader = torch.utils.data.DataLoader(train_dataset, batch_size=batch_size, shuffle=True)\n",
        "val_loader = torch.utils.data.DataLoader(val_dataset, batch_size=batch_size, shuffle=False)"
      ],
      "id": "d7f97ab6",
      "execution_count": 7,
      "outputs": []
    },
    {
      "cell_type": "code",
      "metadata": {
        "colab": {
          "base_uri": "https://localhost:8080/",
          "height": 67,
          "referenced_widgets": [
            "0ba20475ef784d7da5d2282e9134ae06",
            "384023d40cb04827ae83f2d087caca84",
            "f3a6cce835214444b64880532db3bb5f",
            "41a0567568b14b80885df404b850cb2a",
            "1db3a855ed9347e88a501d850e4e52b6",
            "3ecccd86f0ab41e8ac848f6739472b18",
            "b0f359de797347a6b22b970289baf3ea",
            "418211299a904cc5b5ed24ef8d717a02",
            "db125ff1fc5f4bba85a7ef0aa62c1a14",
            "d69b71b2cb534619ae0d147b649960b2",
            "28294afdd2544005be7647acffc8049d"
          ]
        },
        "id": "ff8fd340",
        "outputId": "af4d2bb6-8fc7-447f-ecfa-b0c128f9ab59"
      },
      "source": [
        "model = Baseline(model='resnet18', num_classes=2, print_freq=5, save=True, tag='H')"
      ],
      "id": "ff8fd340",
      "execution_count": 8,
      "outputs": [
        {
          "output_type": "stream",
          "name": "stderr",
          "text": [
            "Downloading: \"https://download.pytorch.org/models/resnet18-f37072fd.pth\" to /root/.cache/torch/hub/checkpoints/resnet18-f37072fd.pth\n"
          ]
        },
        {
          "output_type": "display_data",
          "data": {
            "application/vnd.jupyter.widget-view+json": {
              "model_id": "0ba20475ef784d7da5d2282e9134ae06",
              "version_minor": 0,
              "version_major": 2
            },
            "text/plain": [
              "  0%|          | 0.00/44.7M [00:00<?, ?B/s]"
            ]
          },
          "metadata": {}
        }
      ]
    },
    {
      "cell_type": "code",
      "metadata": {
        "id": "cb07767c"
      },
      "source": [
        "epochs = 1\n",
        "lr = 0.0005\n",
        "weight_decay = 0.00001"
      ],
      "id": "cb07767c",
      "execution_count": 9,
      "outputs": []
    },
    {
      "cell_type": "code",
      "metadata": {
        "colab": {
          "base_uri": "https://localhost:8080/"
        },
        "id": "3ae6f71d",
        "outputId": "e7bcd5a8-c400-44f7-d139-3b3f905b81ce"
      },
      "source": [
        "model.train(train_loader, val_loader, epochs=epochs, lr=lr, weight_decay=weight_decay)"
      ],
      "id": "3ae6f71d",
      "execution_count": 10,
      "outputs": [
        {
          "output_type": "stream",
          "name": "stdout",
          "text": [
            "Epoch 1 Started...\n",
            "Best Model Saved\n",
            "Iteration : 1 - Train Loss : 0.685008, Test Loss : 0.177955, Train Acc : 53.125000, Test Acc : 93.546196\n",
            "Best Model Saved\n",
            "Iteration : 6 - Train Loss : 0.000956, Test Loss : 0.000295, Train Acc : 100.000000, Test Acc : 100.000000\n",
            "Iteration : 11 - Train Loss : 0.000021, Test Loss : 0.001011, Train Acc : 100.000000, Test Acc : 100.000000\n",
            "Best Model Saved\n",
            "Iteration : 16 - Train Loss : 0.000031, Test Loss : 0.000001, Train Acc : 100.000000, Test Acc : 100.000000\n",
            "Best Model Saved\n",
            "Iteration : 21 - Train Loss : 0.000011, Test Loss : 0.000000, Train Acc : 100.000000, Test Acc : 100.000000\n",
            "Iteration : 26 - Train Loss : 0.000081, Test Loss : 0.000001, Train Acc : 100.000000, Test Acc : 100.000000\n",
            "Best Model Saved\n",
            "Iteration : 31 - Train Loss : 0.000012, Test Loss : 0.000000, Train Acc : 100.000000, Test Acc : 100.000000\n",
            "Iteration : 36 - Train Loss : 0.000578, Test Loss : 0.000001, Train Acc : 100.000000, Test Acc : 100.000000\n",
            "Iteration : 41 - Train Loss : 0.000018, Test Loss : 0.000002, Train Acc : 100.000000, Test Acc : 100.000000\n",
            "Iteration : 46 - Train Loss : 0.000042, Test Loss : 0.000011, Train Acc : 100.000000, Test Acc : 100.000000\n",
            "Iteration : 51 - Train Loss : 0.000174, Test Loss : 0.000014, Train Acc : 100.000000, Test Acc : 100.000000\n",
            "Iteration : 56 - Train Loss : 0.000013, Test Loss : 0.000019, Train Acc : 100.000000, Test Acc : 100.000000\n",
            "Iteration : 61 - Train Loss : 0.000022, Test Loss : 0.000026, Train Acc : 100.000000, Test Acc : 100.000000\n",
            "Iteration : 66 - Train Loss : 0.000027, Test Loss : 0.000018, Train Acc : 100.000000, Test Acc : 100.000000\n",
            "Iteration : 71 - Train Loss : 0.000342, Test Loss : 0.000010, Train Acc : 100.000000, Test Acc : 100.000000\n",
            "Iteration : 76 - Train Loss : 0.000017, Test Loss : 0.000007, Train Acc : 100.000000, Test Acc : 100.000000\n",
            "Iteration : 81 - Train Loss : 0.000201, Test Loss : 0.000008, Train Acc : 100.000000, Test Acc : 100.000000\n",
            "Iteration : 86 - Train Loss : 0.000010, Test Loss : 0.000007, Train Acc : 100.000000, Test Acc : 100.000000\n",
            "Iteration : 91 - Train Loss : 0.000027, Test Loss : 0.000007, Train Acc : 100.000000, Test Acc : 100.000000\n",
            "Iteration : 96 - Train Loss : 0.000014, Test Loss : 0.000007, Train Acc : 100.000000, Test Acc : 100.000000\n",
            "Iteration : 101 - Train Loss : 0.000015, Test Loss : 0.000006, Train Acc : 100.000000, Test Acc : 100.000000\n",
            "Iteration : 106 - Train Loss : 0.000008, Test Loss : 0.000004, Train Acc : 100.000000, Test Acc : 100.000000\n",
            "Iteration : 111 - Train Loss : 0.000008, Test Loss : 0.000003, Train Acc : 100.000000, Test Acc : 100.000000\n",
            "Iteration : 116 - Train Loss : 0.000007, Test Loss : 0.000004, Train Acc : 100.000000, Test Acc : 100.000000\n",
            "Iteration : 121 - Train Loss : 0.000005, Test Loss : 0.000005, Train Acc : 100.000000, Test Acc : 100.000000\n",
            "Iteration : 126 - Train Loss : 0.000003, Test Loss : 0.000005, Train Acc : 100.000000, Test Acc : 100.000000\n",
            "Iteration : 131 - Train Loss : 0.000002, Test Loss : 0.000005, Train Acc : 100.000000, Test Acc : 100.000000\n",
            "Iteration : 136 - Train Loss : 0.000003, Test Loss : 0.000006, Train Acc : 100.000000, Test Acc : 100.000000\n",
            "\n"
          ]
        }
      ]
    },
    {
      "cell_type": "code",
      "metadata": {
        "colab": {
          "base_uri": "https://localhost:8080/",
          "height": 620
        },
        "id": "6e1f37fc",
        "outputId": "f073b4a8-bf2e-4bb7-f1dc-11574ac3b5ab"
      },
      "source": [
        "label_fontsize = 25\n",
        "\n",
        "plt.figure(figsize=(20, 10))\n",
        "train_lossline, = plt.plot(model.train_losses, label='Train')\n",
        "test_lossline, = plt.plot(model.test_losses, color='red', label='Test')\n",
        "plt.legend(handles=[train_lossline, test_lossline], fontsize=20)\n",
        "plt.xlabel('Step', fontsize=label_fontsize)\n",
        "plt.ylabel('Loss', fontsize=label_fontsize)\n",
        "plt.show()"
      ],
      "id": "6e1f37fc",
      "execution_count": 11,
      "outputs": [
        {
          "output_type": "display_data",
          "data": {
            "image/png": "[encoded data removed]",
            "text/plain": [
              "<Figure size 1440x720 with 1 Axes>"
            ]
          },
          "metadata": {
            "needs_background": "light"
          }
        }
      ]
    },
    {
      "cell_type": "code",
      "metadata": {
        "colab": {
          "base_uri": "https://localhost:8080/",
          "height": 620
        },
        "id": "c76d7e20",
        "outputId": "e73d2068-3e44-4873-d509-dfc1eda21b0c"
      },
      "source": [
        "plt.figure(figsize=(20, 10))\n",
        "train_accline, = plt.plot(model.train_acc, label='Train')\n",
        "test_accline, = plt.plot(model.test_acc, color='red', label='Test')\n",
        "plt.legend(handles=[train_accline, test_accline], fontsize=20)\n",
        "plt.xlabel('Step', fontsize=label_fontsize)\n",
        "plt.ylabel('Acc', fontsize=label_fontsize)\n",
        "plt.show()"
      ],
      "id": "c76d7e20",
      "execution_count": 12,
      "outputs": [
        {
          "output_type": "display_data",
          "data": {
            "image/png": "[encoded data removed]",
            "text/plain": [
              "<Figure size 1440x720 with 1 Axes>"
            ]
          },
          "metadata": {
            "needs_background": "light"
          }
        }
      ]
    }
  ]
}