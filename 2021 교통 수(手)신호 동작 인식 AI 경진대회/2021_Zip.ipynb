{
  "nbformat": 4,
  "nbformat_minor": 0,
  "metadata": {
    "colab": {
      "name": "2021_Zip.ipynb",
      "provenance": [],
      "collapsed_sections": [],
      "authorship_tag": "ABX9TyM4ejp+AkH9bDrbhTWmM0sL",
      "include_colab_link": true
    },
    "kernelspec": {
      "name": "python3",
      "display_name": "Python 3"
    },
    "language_info": {
      "name": "python"
    }
  },
  "cells": [
    {
      "cell_type": "markdown",
      "metadata": {
        "id": "view-in-github",
        "colab_type": "text"
      },
      "source": [
        "<a href=\"https://colab.research.google.com/github/d9249/DACON/blob/main/2021_Zip.ipynb\" target=\"_parent\"><img src=\"https://colab.research.google.com/assets/colab-badge.svg\" alt=\"Open In Colab\"/></a>"
      ]
    },
    {
      "cell_type": "code",
      "metadata": {
        "colab": {
          "base_uri": "https://localhost:8080/"
        },
        "id": "c3sX-wE7zNf9",
        "outputId": "168d74c7-52fe-4a1e-9fdd-08c1965985f5"
      },
      "source": [
        "from google.colab import drive\n",
        "drive.mount('/content/drive')"
      ],
      "execution_count": 1,
      "outputs": [
        {
          "output_type": "stream",
          "name": "stdout",
          "text": [
            "Mounted at /content/drive\n"
          ]
        }
      ]
    },
    {
      "cell_type": "code",
      "metadata": {
        "colab": {
          "base_uri": "https://localhost:8080/"
        },
        "id": "dmtkzTGsz4TT",
        "outputId": "5552ac31-faa0-4a06-acc7-6ac12ed0303c"
      },
      "source": [
        "cd 'drive/MyDrive'"
      ],
      "execution_count": 11,
      "outputs": [
        {
          "output_type": "stream",
          "name": "stdout",
          "text": [
            "/content/drive/MyDrive\n"
          ]
        }
      ]
    },
    {
      "cell_type": "code",
      "metadata": {
        "colab": {
          "base_uri": "https://localhost:8080/"
        },
        "id": "ikTd_bpH0VxX",
        "outputId": "b30087b4-6342-4078-cbcc-ea06f3907259"
      },
      "source": [
        "ls"
      ],
      "execution_count": 12,
      "outputs": [
        {
          "output_type": "stream",
          "name": "stdout",
          "text": [
            "\u001b[0m\u001b[01;34m'Colab Notebooks'\u001b[0m/   \u001b[01;34mDACON_CVLC\u001b[0m/   \u001b[01;34mDIYA\u001b[0m/        \u001b[01;34mMBTI\u001b[0m/           open.zip\n",
            " com.jpg             \u001b[01;34mData\u001b[0m/         \u001b[01;34mGoodNotes\u001b[0m/  'open (1).zip'   \u001b[01;34mSynShadow\u001b[0m/\n"
          ]
        }
      ]
    },
    {
      "cell_type": "markdown",
      "metadata": {
        "id": "pVLKnqF01s-i"
      },
      "source": [
        "20GB(open.zip) = 2021 Ego-Vision 손동작 인식 AI 경진대회(2021 Ego-vision Hand gesture recognition)\n",
        "\n",
        "50GB(open (1).zip) = 2021 교통 수(手)신호 동작 인식 AI 경진대회(2021_recognize_traffic_signal_motion)"
      ]
    },
    {
      "cell_type": "code",
      "metadata": {
        "id": "8D7_AJm80SXz"
      },
      "source": [
        "!unzip -qq \"/content/drive/MyDrive/open.zip\""
      ],
      "execution_count": 15,
      "outputs": []
    },
    {
      "cell_type": "code",
      "metadata": {
        "id": "mrDCPb642e50"
      },
      "source": [
        "!unzip -qq \"/content/drive/MyDrive/open (1).zip\""
      ],
      "execution_count": 16,
      "outputs": []
    }
  ]
}