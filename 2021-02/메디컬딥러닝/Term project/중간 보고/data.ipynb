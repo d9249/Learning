{
 "cells": [
  {
   "cell_type": "markdown",
   "metadata": {
    "id": "RP4A14qISFCM"
   },
   "source": [
    "# **Getting Started Code For [Data Sprint #35](https://dphi.tech/challenges/data-sprint-35-osteoarthritis-knee-x-ray/81/overview/about) on DPhi**"
   ]
  },
  {
   "cell_type": "markdown",
   "metadata": {
    "id": "SfMK5FEhUGde"
   },
   "source": [
    "## Download the images\n",
    "We are given google drive link in the '[Data](https://dphi.tech/challenges/data-sprint-35-osteoarthritis-knee-x-ray/81/data)' section of problem page which has all the required train images (to build the model) and test images to predict the label of these images and submit the predictions on the [DPhi platform](https://dphi.tech/challenges/data-sprint-35-osteoarthritis-knee-x-ray/81/overview/about).\n",
    "\n",
    "We can use **GoogleDriveDownloader** form **google_drive_downloader** library in Python to download the shared files from the shared Google drive link: https://drive.google.com/file/d/1NdDqPK4NLn2aV8ZdF5ilux1sfG6IyebC/view?usp=sharing\n",
    "\n",
    "The file id in the above link is: **1NdDqPK4NLn2aV8ZdF5ilux1sfG6IyebC**"
   ]
  },
  {
   "cell_type": "code",
   "execution_count": 2,
   "metadata": {
    "colab": {
     "base_uri": "https://localhost:8080/"
    },
    "id": "5_1BysB4Re7f",
    "outputId": "e48cbc3d-4afd-48a1-9643-65aa2ef25820"
   },
   "outputs": [
    {
     "name": "stdout",
     "output_type": "stream",
     "text": [
      "Downloading 1NdDqPK4NLn2aV8ZdF5ilux1sfG6IyebC into content/KneeXray.zip... Done.\n",
      "Unzipping...Done.\n"
     ]
    }
   ],
   "source": [
    "from google_drive_downloader import GoogleDriveDownloader as gdd\n",
    "\n",
    "gdd.download_file_from_google_drive(file_id='1NdDqPK4NLn2aV8ZdF5ilux1sfG6IyebC',\n",
    "                                    dest_path='content/KneeXray.zip',\n",
    "                                    unzip=True)"
   ]
  },
  {
   "cell_type": "markdown",
   "metadata": {
    "id": "SM_FDQgXbh_-"
   },
   "source": [
    "We have all the files from the shared Google drive link downloaded in the colab environment."
   ]
  },
  {
   "cell_type": "markdown",
   "metadata": {
    "id": "wsIqjb7Ebs3B"
   },
   "source": [
    "## Loading Libraries\n",
    "All Python capabilities are not loaded to our working environment by default (even they are already installed in your system). So, we import each and every library that we want to use.\n",
    "\n",
    "We chose alias names for our libraries for the sake of our convenience (numpy --> np and pandas --> pd, tensorlow --> tf).\n",
    "\n",
    "Note: You can import all the libraries that you think will be required or can import it as you go along."
   ]
  },
  {
   "cell_type": "code",
   "execution_count": 3,
   "metadata": {
    "id": "BIe16kmoUmhr"
   },
   "outputs": [],
   "source": [
    "import pandas as pd                                     # Data analysis and manipultion tool\n",
    "import numpy as np                                      # Fundamental package for linear algebra and multidimensional arrays\n",
    "import tensorflow as tf                                 # Deep Learning Tool\n",
    "import os                                               # OS module in Python provides a way of using operating system dependent functionality\n",
    "import cv2                                              # Library for image processing\n",
    "from sklearn.model_selection import train_test_split    # For splitting the data into train and validation set\n",
    "from sklearn.metrics import f1_score"
   ]
  },
  {
   "cell_type": "markdown",
   "metadata": {
    "id": "IAXqCpedduVx"
   },
   "source": [
    "## Loading and preparing training data\n",
    "The train and test images are given in two different folders - 'train' and 'test'. The labels of train images are given in a csv file 'Train.csv' with respective image id (i.e. image file name)."
   ]
  },
  {
   "cell_type": "code",
   "execution_count": 4,
   "metadata": {
    "id": "eHWuStQXzdAC"
   },
   "outputs": [],
   "source": [
    "from tensorflow.keras.applications import DenseNet121\n",
    "from tensorflow.keras.applications.densenet import preprocess_input\n",
    "from tensorflow.keras.preprocessing.image import ImageDataGenerator\n",
    "from tensorflow.keras.callbacks import ModelCheckpoint, ReduceLROnPlateau, EarlyStopping\n",
    "import h5py\n",
    "import matplotlib.pyplot as plt\n",
    "import pandas as pd\n",
    "import cv2\n",
    "import warnings\n",
    "warnings.filterwarnings('ignore')"
   ]
  },
  {
   "cell_type": "code",
   "execution_count": 5,
   "metadata": {
    "id": "JEMk7KPYy-Ox"
   },
   "outputs": [],
   "source": [
    "#training data direcotry \n",
    "\n",
    "training_dir = '/content/content/KneeXray/train'\n",
    "testing_dir= '/content/content/KneeXray/test'\n",
    "BATCH_SIZE = 32"
   ]
  },
  {
   "cell_type": "markdown",
   "metadata": {
    "id": "Wjw1Z9Uqesey"
   },
   "source": [
    "#### Getting the labels of the images"
   ]
  },
  {
   "cell_type": "code",
   "execution_count": 6,
   "metadata": {
    "colab": {
     "base_uri": "https://localhost:8080/",
     "height": 204
    },
    "id": "vMXmX8g3dflK",
    "outputId": "98a3f589-786f-4f2e-96c7-2386d090548c"
   },
   "outputs": [
    {
     "data": {
      "text/html": [
       "<div>\n",
       "<style scoped>\n",
       "    .dataframe tbody tr th:only-of-type {\n",
       "        vertical-align: middle;\n",
       "    }\n",
       "\n",
       "    .dataframe tbody tr th {\n",
       "        vertical-align: top;\n",
       "    }\n",
       "\n",
       "    .dataframe thead th {\n",
       "        text-align: right;\n",
       "    }\n",
       "</style>\n",
       "<table border=\"1\" class=\"dataframe\">\n",
       "  <thead>\n",
       "    <tr style=\"text-align: right;\">\n",
       "      <th></th>\n",
       "      <th>filename</th>\n",
       "      <th>label</th>\n",
       "    </tr>\n",
       "  </thead>\n",
       "  <tbody>\n",
       "    <tr>\n",
       "      <th>0</th>\n",
       "      <td>Image_1.jpg</td>\n",
       "      <td>0</td>\n",
       "    </tr>\n",
       "    <tr>\n",
       "      <th>1</th>\n",
       "      <td>Image_2.jpg</td>\n",
       "      <td>1</td>\n",
       "    </tr>\n",
       "    <tr>\n",
       "      <th>2</th>\n",
       "      <td>Image_3.jpg</td>\n",
       "      <td>0</td>\n",
       "    </tr>\n",
       "    <tr>\n",
       "      <th>3</th>\n",
       "      <td>Image_4.jpg</td>\n",
       "      <td>1</td>\n",
       "    </tr>\n",
       "    <tr>\n",
       "      <th>4</th>\n",
       "      <td>Image_5.jpg</td>\n",
       "      <td>2</td>\n",
       "    </tr>\n",
       "  </tbody>\n",
       "</table>\n",
       "</div>"
      ],
      "text/plain": [
       "      filename  label\n",
       "0  Image_1.jpg      0\n",
       "1  Image_2.jpg      1\n",
       "2  Image_3.jpg      0\n",
       "3  Image_4.jpg      1\n",
       "4  Image_5.jpg      2"
      ]
     },
     "execution_count": 6,
     "metadata": {
      "tags": []
     },
     "output_type": "execute_result"
    }
   ],
   "source": [
    "train = pd.read_csv(\"/content/content/KneeXray/Train.csv\")   # loading the labels\n",
    "train.head()           # will display the first five rows in labels dataframe"
   ]
  },
  {
   "cell_type": "code",
   "execution_count": 7,
   "metadata": {
    "colab": {
     "base_uri": "https://localhost:8080/",
     "height": 286
    },
    "id": "Eu1GjPr0arlS",
    "outputId": "b02a4ce3-781b-48d3-e72c-7db8503984db"
   },
   "outputs": [
    {
     "data": {
      "text/plain": [
       "<matplotlib.image.AxesImage at 0x7fd9b1d8c750>"
      ]
     },
     "execution_count": 7,
     "metadata": {
      "tags": []
     },
     "output_type": "execute_result"
    },
    {
     "data": {
      "image/png": "[encoded data removed]",
      "text/plain": [
       "<Figure size 432x288 with 1 Axes>"
      ]
     },
     "metadata": {
      "needs_background": "light",
      "tags": []
     },
     "output_type": "display_data"
    }
   ],
   "source": [
    "img = cv2.imread('/content/content/KneeXray/train/Image_1.jpg')\n",
    "plt.imshow(img)"
   ]
  },
  {
   "cell_type": "code",
   "execution_count": 8,
   "metadata": {
    "colab": {
     "base_uri": "https://localhost:8080/"
    },
    "id": "xP2Q57zkhUW_",
    "outputId": "7a3c3e80-c326-4998-d1c8-24c574781f41"
   },
   "outputs": [
    {
     "data": {
      "text/plain": [
       "(224, 224, 3)"
      ]
     },
     "execution_count": 8,
     "metadata": {
      "tags": []
     },
     "output_type": "execute_result"
    }
   ],
   "source": [
    "img.shape"
   ]
  },
  {
   "cell_type": "markdown",
   "metadata": {
    "id": "S-bMgFBIfUdP"
   },
   "source": [
    "#### Getting images file path"
   ]
  },
  {
   "cell_type": "code",
   "execution_count": 9,
   "metadata": {
    "id": "JrBUv83CcXy8"
   },
   "outputs": [],
   "source": [
    "train_datagen = ImageDataGenerator(\n",
    "    rescale=1./255,\n",
    "    validation_split=0.15,\n",
    "    shear_range=0.2,\n",
    "    zoom_range=0.2,\n",
    "    horizontal_flip=True\n",
    ")\n"
   ]
  },
  {
   "cell_type": "code",
   "execution_count": 10,
   "metadata": {
    "colab": {
     "base_uri": "https://localhost:8080/"
    },
    "id": "rNV6NO7QgqOh",
    "outputId": "a90e14bb-1a05-4065-990d-838f02a28996"
   },
   "outputs": [
    {
     "name": "stdout",
     "output_type": "stream",
     "text": [
      "Found 6654 validated image filenames belonging to 5 classes.\n"
     ]
    }
   ],
   "source": [
    "train['label'] = train['label'].astype(str)\n",
    "train_gen = train_datagen.flow_from_dataframe(\n",
    "    train,\n",
    "    directory = training_dir,\n",
    "    subset='training',\n",
    "    x_col = 'filename',\n",
    "    y_col = 'label',\n",
    "    target_size=(224,224),\n",
    "    class_mode='categorical'\n",
    ")"
   ]
  },
  {
   "cell_type": "code",
   "execution_count": 11,
   "metadata": {
    "colab": {
     "base_uri": "https://localhost:8080/"
    },
    "id": "_IgsnZ2MgqLk",
    "outputId": "54e67d78-88e7-442b-f78d-8e8126c7d68a"
   },
   "outputs": [
    {
     "name": "stdout",
     "output_type": "stream",
     "text": [
      "Found 1174 validated image filenames belonging to 5 classes.\n"
     ]
    }
   ],
   "source": [
    "val_generator = train_datagen.flow_from_dataframe(\n",
    "    train,\n",
    "    directory = training_dir,\n",
    "    subset = 'validation',\n",
    "    x_col = 'filename',\n",
    "    y_col = 'label',\n",
    "    target_size = (224,224),\n",
    "    class_mode = 'categorical'\n",
    ")"
   ]
  },
  {
   "cell_type": "code",
   "execution_count": 12,
   "metadata": {
    "id": "ie87Kmmqjon6"
   },
   "outputs": [],
   "source": [
    "from tensorflow.keras.applications import InceptionV3,DenseNet201,EfficientNetB7, MobileNetV2,Xception,VGG16,NASNetMobile,DenseNet169,DenseNet121\n",
    "from keras.applications.inception_resnet_v2 import InceptionResNetV2\n",
    "from tensorflow.keras.callbacks import ModelCheckpoint, EarlyStopping, ReduceLROnPlateau\n",
    "from keras.regularizers import *\n",
    "from tensorflow.keras.models import Model\n",
    "from tensorflow.keras.layers import Dense, Flatten, GlobalAveragePooling2D, BatchNormalization, Dropout,AveragePooling2D"
   ]
  },
  {
   "cell_type": "code",
   "execution_count": 13,
   "metadata": {
    "colab": {
     "base_uri": "https://localhost:8080/"
    },
    "id": "Gxry7x48gqFR",
    "outputId": "86e95346-11d4-4887-f4d5-6a3a42e34515"
   },
   "outputs": [
    {
     "name": "stdout",
     "output_type": "stream",
     "text": [
      "Downloading data from https://storage.googleapis.com/tensorflow/keras-applications/xception/xception_weights_tf_dim_ordering_tf_kernels.h5\n",
      "91889664/91884032 [==============================] - 3s 0us/step\n"
     ]
    }
   ],
   "source": [
    "resnet= Xception(weights=\"imagenet\",)\n",
    "x=resnet.layers[-2].output\n",
    "fc1=Dense(5,activation='softmax',kernel_initializer='glorot_uniform')(x)\n",
    "my_model=Model(inputs=resnet.input,outputs=fc1)"
   ]
  },
  {
   "cell_type": "code",
   "execution_count": 14,
   "metadata": {
    "id": "plJ35QySgqAp"
   },
   "outputs": [],
   "source": [
    "STEP_SIZE_TRAIN=train_gen.n//train_gen.batch_size\n",
    "STEP_SIZE_VALID=val_generator.n//val_generator.batch_size"
   ]
  },
  {
   "cell_type": "code",
   "execution_count": 15,
   "metadata": {
    "id": "W_2nfzZVgp9c"
   },
   "outputs": [],
   "source": [
    "my_model.compile(optimizer =tf.keras.optimizers.Adam(learning_rate=0.0001),\n",
    "                 metrics=['accuracy'],\n",
    "                 loss= tf.keras.losses.CategoricalCrossentropy())"
   ]
  },
  {
   "cell_type": "code",
   "execution_count": 16,
   "metadata": {
    "id": "znyb9d-Igp6m"
   },
   "outputs": [],
   "source": [
    "checkpoint_path = \"training_0/cp.ckpt\"\n",
    "checkpoint_dir = os.path.dirname(checkpoint_path)\n",
    "my_callbacks = [\n",
    "ModelCheckpoint(checkpoint_path, monitor = 'accuracy',verbose = 1,save_weights_only=True, save_best_only = True,mode=\"max\"),\n",
    "EarlyStopping(monitor='val_loss', patience=5, verbose=0, mode='min'),\n",
    "ReduceLROnPlateau(monitor='val_loss', factor=0.1, patience=5, verbose=1, mode='min',min_delta=1e-4)]"
   ]
  },
  {
   "cell_type": "code",
   "execution_count": 17,
   "metadata": {
    "colab": {
     "base_uri": "https://localhost:8080/"
    },
    "id": "97HA-JTdgp3n",
    "outputId": "9c7ed2ec-d19d-483d-ff75-1687bc9ece11"
   },
   "outputs": [
    {
     "name": "stdout",
     "output_type": "stream",
     "text": [
      "Epoch 1/40\n",
      "207/207 [==============================] - 346s 1s/step - loss: 1.1274 - accuracy: 0.5239 - val_loss: 0.9393 - val_accuracy: 0.5990\n",
      "\n",
      "Epoch 00001: accuracy improved from -inf to 0.52386, saving model to training_0/cp.ckpt\n",
      "Epoch 2/40\n",
      "207/207 [==============================] - 305s 1s/step - loss: 0.8613 - accuracy: 0.6321 - val_loss: 0.8839 - val_accuracy: 0.6311\n",
      "\n",
      "Epoch 00002: accuracy improved from 0.52386 to 0.63214, saving model to training_0/cp.ckpt\n",
      "Epoch 3/40\n",
      "207/207 [==============================] - 305s 1s/step - loss: 0.7752 - accuracy: 0.6731 - val_loss: 0.8006 - val_accuracy: 0.6528\n",
      "\n",
      "Epoch 00003: accuracy improved from 0.63214 to 0.67306, saving model to training_0/cp.ckpt\n",
      "Epoch 4/40\n",
      "207/207 [==============================] - 305s 1s/step - loss: 0.6866 - accuracy: 0.7122 - val_loss: 0.8363 - val_accuracy: 0.6632\n",
      "\n",
      "Epoch 00004: accuracy improved from 0.67306 to 0.71217, saving model to training_0/cp.ckpt\n",
      "Epoch 5/40\n",
      "207/207 [==============================] - 305s 1s/step - loss: 0.6349 - accuracy: 0.7362 - val_loss: 0.8171 - val_accuracy: 0.6780\n",
      "\n",
      "Epoch 00005: accuracy improved from 0.71217 to 0.73618, saving model to training_0/cp.ckpt\n",
      "Epoch 6/40\n",
      "207/207 [==============================] - 305s 1s/step - loss: 0.5720 - accuracy: 0.7634 - val_loss: 0.8456 - val_accuracy: 0.6528\n",
      "\n",
      "Epoch 00006: accuracy improved from 0.73618 to 0.76336, saving model to training_0/cp.ckpt\n",
      "Epoch 7/40\n",
      "207/207 [==============================] - 302s 1s/step - loss: 0.5101 - accuracy: 0.7973 - val_loss: 0.9124 - val_accuracy: 0.6528\n",
      "\n",
      "Epoch 00007: accuracy improved from 0.76336 to 0.79734, saving model to training_0/cp.ckpt\n",
      "Epoch 8/40\n",
      "207/207 [==============================] - 303s 1s/step - loss: 0.4825 - accuracy: 0.8056 - val_loss: 0.9364 - val_accuracy: 0.6806\n",
      "\n",
      "Epoch 00008: accuracy improved from 0.79734 to 0.80565, saving model to training_0/cp.ckpt\n",
      "\n",
      "Epoch 00008: ReduceLROnPlateau reducing learning rate to 9.999999747378752e-06.\n"
     ]
    },
    {
     "data": {
      "text/plain": [
       "<tensorflow.python.keras.callbacks.History at 0x7fd9a0420b50>"
      ]
     },
     "execution_count": 17,
     "metadata": {
      "tags": []
     },
     "output_type": "execute_result"
    }
   ],
   "source": [
    "my_model.fit(\n",
    "train_gen,\n",
    "steps_per_epoch=STEP_SIZE_TRAIN,\n",
    "epochs=40,\n",
    "validation_data=val_generator,\n",
    "validation_steps=STEP_SIZE_VALID,callbacks=[my_callbacks])"
   ]
  },
  {
   "cell_type": "code",
   "execution_count": 18,
   "metadata": {
    "id": "HD-3U9FVgppn"
   },
   "outputs": [],
   "source": [
    "my_model.save_weights(\"Xceptionnet.h5\")"
   ]
  },
  {
   "cell_type": "code",
   "execution_count": 19,
   "metadata": {
    "colab": {
     "base_uri": "https://localhost:8080/"
    },
    "id": "HcT-YS6Mgpbp",
    "outputId": "552e5eb8-6305-4712-ab69-1c9ef6526496"
   },
   "outputs": [
    {
     "name": "stdout",
     "output_type": "stream",
     "text": [
      "37/37 [==============================] - 19s 512ms/step - loss: 0.9427 - accuracy: 0.6627\n"
     ]
    },
    {
     "data": {
      "text/plain": [
       "[0.9426553249359131, 0.6626916527748108]"
      ]
     },
     "execution_count": 19,
     "metadata": {
      "tags": []
     },
     "output_type": "execute_result"
    }
   ],
   "source": [
    "my_model.evaluate(val_generator,verbose=1)"
   ]
  },
  {
   "cell_type": "code",
   "execution_count": 20,
   "metadata": {
    "id": "KnXihvVg4z_W"
   },
   "outputs": [],
   "source": [
    "test = pd.read_csv('/content/content/KneeXray/Test.csv')"
   ]
  },
  {
   "cell_type": "code",
   "execution_count": 21,
   "metadata": {
    "colab": {
     "base_uri": "https://localhost:8080/",
     "height": 204
    },
    "id": "AVLWgP_I4_F1",
    "outputId": "1c0375b1-7aab-4086-9eb3-5c2272ae4f8e"
   },
   "outputs": [
    {
     "data": {
      "text/html": [
       "<div>\n",
       "<style scoped>\n",
       "    .dataframe tbody tr th:only-of-type {\n",
       "        vertical-align: middle;\n",
       "    }\n",
       "\n",
       "    .dataframe tbody tr th {\n",
       "        vertical-align: top;\n",
       "    }\n",
       "\n",
       "    .dataframe thead th {\n",
       "        text-align: right;\n",
       "    }\n",
       "</style>\n",
       "<table border=\"1\" class=\"dataframe\">\n",
       "  <thead>\n",
       "    <tr style=\"text-align: right;\">\n",
       "      <th></th>\n",
       "      <th>filename</th>\n",
       "    </tr>\n",
       "  </thead>\n",
       "  <tbody>\n",
       "    <tr>\n",
       "      <th>0</th>\n",
       "      <td>Image_1.jpg</td>\n",
       "    </tr>\n",
       "    <tr>\n",
       "      <th>1</th>\n",
       "      <td>Image_2.jpg</td>\n",
       "    </tr>\n",
       "    <tr>\n",
       "      <th>2</th>\n",
       "      <td>Image_3.jpg</td>\n",
       "    </tr>\n",
       "    <tr>\n",
       "      <th>3</th>\n",
       "      <td>Image_4.jpg</td>\n",
       "    </tr>\n",
       "    <tr>\n",
       "      <th>4</th>\n",
       "      <td>Image_5.jpg</td>\n",
       "    </tr>\n",
       "  </tbody>\n",
       "</table>\n",
       "</div>"
      ],
      "text/plain": [
       "      filename\n",
       "0  Image_1.jpg\n",
       "1  Image_2.jpg\n",
       "2  Image_3.jpg\n",
       "3  Image_4.jpg\n",
       "4  Image_5.jpg"
      ]
     },
     "execution_count": 21,
     "metadata": {
      "tags": []
     },
     "output_type": "execute_result"
    }
   ],
   "source": [
    "test.head()"
   ]
  },
  {
   "cell_type": "code",
   "execution_count": 22,
   "metadata": {
    "colab": {
     "base_uri": "https://localhost:8080/"
    },
    "id": "hGM5tQng4YD-",
    "outputId": "4f177c2f-84d2-4ac8-8cc1-81a21e60f9a6"
   },
   "outputs": [
    {
     "name": "stdout",
     "output_type": "stream",
     "text": [
      "Found 1958 validated image filenames.\n"
     ]
    }
   ],
   "source": [
    "test_generator=train_datagen.flow_from_dataframe(\n",
    "dataframe=test,\n",
    "directory=testing_dir,\n",
    "x_col=\"filename\",\n",
    "y_col=None,\n",
    "batch_size=1,\n",
    "seed=42,\n",
    "shuffle=False,\n",
    "class_mode=None,\n",
    "target_size=(224,224))\n",
    "STEP_SIZE_TEST=test_generator.n//test_generator.batch_size"
   ]
  },
  {
   "cell_type": "code",
   "execution_count": 23,
   "metadata": {
    "colab": {
     "base_uri": "https://localhost:8080/"
    },
    "id": "F9PgXEsJ4SYd",
    "outputId": "26d4827f-ce85-426b-a5ca-d96aa2f9b420"
   },
   "outputs": [
    {
     "name": "stdout",
     "output_type": "stream",
     "text": [
      "1958/1958 [==============================] - 39s 19ms/step\n"
     ]
    }
   ],
   "source": [
    "pred1=np.argmax(my_model.predict(test_generator,steps=STEP_SIZE_TEST,verbose=1),axis=1)"
   ]
  },
  {
   "cell_type": "code",
   "execution_count": 24,
   "metadata": {
    "colab": {
     "base_uri": "https://localhost:8080/"
    },
    "id": "mbE-9a7e5VAa",
    "outputId": "42bfa29a-1e6d-4d05-abaf-27bfb204f9c1"
   },
   "outputs": [
    {
     "data": {
      "text/plain": [
       "array([2, 0, 0, ..., 0, 3, 0])"
      ]
     },
     "execution_count": 24,
     "metadata": {
      "tags": []
     },
     "output_type": "execute_result"
    }
   ],
   "source": [
    "pred1"
   ]
  },
  {
   "cell_type": "code",
   "execution_count": 25,
   "metadata": {
    "id": "mE4jpuai4SVV"
   },
   "outputs": [],
   "source": [
    "sub=pd.read_csv(\"/content/content/KneeXray/sample_submission.csv\")\n",
    "sub[\"label\"]=pred1"
   ]
  },
  {
   "cell_type": "code",
   "execution_count": 26,
   "metadata": {
    "colab": {
     "base_uri": "https://localhost:8080/"
    },
    "id": "-BpBi4RS4SOc",
    "outputId": "e503a8ac-74d2-412c-8171-06baa9129fda"
   },
   "outputs": [
    {
     "data": {
      "text/plain": [
       "0    834\n",
       "2    681\n",
       "3    279\n",
       "4     82\n",
       "1     82\n",
       "Name: label, dtype: int64"
      ]
     },
     "execution_count": 26,
     "metadata": {
      "tags": []
     },
     "output_type": "execute_result"
    }
   ],
   "source": [
    "sub[\"label\"].value_counts()"
   ]
  },
  {
   "cell_type": "code",
   "execution_count": 27,
   "metadata": {
    "id": "BfXy83wx4SLK"
   },
   "outputs": [],
   "source": [
    "sub.to_csv(\"sub2.csv\",index=False)"
   ]
  }
 ],
 "metadata": {
  "accelerator": "GPU",
  "colab": {
   "collapsed_sections": [],
   "name": "data-sprint-35-osteoarthritis-knee-x-ray.ipynb",
   "provenance": []
  },
  "kernelspec": {
   "display_name": "Python 3",
   "language": "python",
   "name": "python3"
  },
  "language_info": {
   "codemirror_mode": {
    "name": "ipython",
    "version": 3
   },
   "file_extension": ".py",
   "mimetype": "text/x-python",
   "name": "python",
   "nbconvert_exporter": "python",
   "pygments_lexer": "ipython3",
   "version": "3.8.8"
  }
 },
 "nbformat": 4,
 "nbformat_minor": 1
}
