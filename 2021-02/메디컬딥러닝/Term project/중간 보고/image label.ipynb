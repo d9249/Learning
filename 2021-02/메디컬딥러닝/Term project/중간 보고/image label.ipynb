{
 "cells": [
  {
   "cell_type": "code",
   "execution_count": 2,
   "id": "022a5c7a",
   "metadata": {},
   "outputs": [],
   "source": [
    "import pandas as pd"
   ]
  },
  {
   "cell_type": "code",
   "execution_count": 10,
   "id": "36b6376c",
   "metadata": {},
   "outputs": [
    {
     "data": {
      "text/plain": [
       "'C:\\\\Users\\\\dodo9\\\\Downloads\\\\data\\\\KneeXray'"
      ]
     },
     "execution_count": 10,
     "metadata": {},
     "output_type": "execute_result"
    }
   ],
   "source": [
    "pwd"
   ]
  },
  {
   "cell_type": "code",
   "execution_count": 13,
   "id": "de9ea386",
   "metadata": {},
   "outputs": [],
   "source": [
    "train_label = pd.read_csv(\"C:\\\\Users\\\\dodo9\\\\Downloads\\\\data\\\\KneeXray\\\\Train.csv\")"
   ]
  },
  {
   "cell_type": "code",
   "execution_count": 14,
   "id": "81936874",
   "metadata": {},
   "outputs": [
    {
     "data": {
      "text/html": [
       "<div>\n",
       "<style scoped>\n",
       "    .dataframe tbody tr th:only-of-type {\n",
       "        vertical-align: middle;\n",
       "    }\n",
       "\n",
       "    .dataframe tbody tr th {\n",
       "        vertical-align: top;\n",
       "    }\n",
       "\n",
       "    .dataframe thead th {\n",
       "        text-align: right;\n",
       "    }\n",
       "</style>\n",
       "<table border=\"1\" class=\"dataframe\">\n",
       "  <thead>\n",
       "    <tr style=\"text-align: right;\">\n",
       "      <th></th>\n",
       "      <th>filename</th>\n",
       "      <th>label</th>\n",
       "    </tr>\n",
       "  </thead>\n",
       "  <tbody>\n",
       "    <tr>\n",
       "      <th>0</th>\n",
       "      <td>Image_1.jpg</td>\n",
       "      <td>0</td>\n",
       "    </tr>\n",
       "    <tr>\n",
       "      <th>1</th>\n",
       "      <td>Image_2.jpg</td>\n",
       "      <td>1</td>\n",
       "    </tr>\n",
       "    <tr>\n",
       "      <th>2</th>\n",
       "      <td>Image_3.jpg</td>\n",
       "      <td>0</td>\n",
       "    </tr>\n",
       "    <tr>\n",
       "      <th>3</th>\n",
       "      <td>Image_4.jpg</td>\n",
       "      <td>1</td>\n",
       "    </tr>\n",
       "    <tr>\n",
       "      <th>4</th>\n",
       "      <td>Image_5.jpg</td>\n",
       "      <td>2</td>\n",
       "    </tr>\n",
       "    <tr>\n",
       "      <th>...</th>\n",
       "      <td>...</td>\n",
       "      <td>...</td>\n",
       "    </tr>\n",
       "    <tr>\n",
       "      <th>7823</th>\n",
       "      <td>Image_7824.jpg</td>\n",
       "      <td>0</td>\n",
       "    </tr>\n",
       "    <tr>\n",
       "      <th>7824</th>\n",
       "      <td>Image_7825.jpg</td>\n",
       "      <td>4</td>\n",
       "    </tr>\n",
       "    <tr>\n",
       "      <th>7825</th>\n",
       "      <td>Image_7826.jpg</td>\n",
       "      <td>0</td>\n",
       "    </tr>\n",
       "    <tr>\n",
       "      <th>7826</th>\n",
       "      <td>Image_7827.jpg</td>\n",
       "      <td>2</td>\n",
       "    </tr>\n",
       "    <tr>\n",
       "      <th>7827</th>\n",
       "      <td>Image_7828.jpg</td>\n",
       "      <td>1</td>\n",
       "    </tr>\n",
       "  </tbody>\n",
       "</table>\n",
       "<p>7828 rows × 2 columns</p>\n",
       "</div>"
      ],
      "text/plain": [
       "            filename  label\n",
       "0        Image_1.jpg      0\n",
       "1        Image_2.jpg      1\n",
       "2        Image_3.jpg      0\n",
       "3        Image_4.jpg      1\n",
       "4        Image_5.jpg      2\n",
       "...              ...    ...\n",
       "7823  Image_7824.jpg      0\n",
       "7824  Image_7825.jpg      4\n",
       "7825  Image_7826.jpg      0\n",
       "7826  Image_7827.jpg      2\n",
       "7827  Image_7828.jpg      1\n",
       "\n",
       "[7828 rows x 2 columns]"
      ]
     },
     "execution_count": 14,
     "metadata": {},
     "output_type": "execute_result"
    }
   ],
   "source": [
    "train_label"
   ]
  },
  {
   "cell_type": "code",
   "execution_count": 26,
   "id": "c8b17667",
   "metadata": {},
   "outputs": [
    {
     "data": {
      "text/plain": [
       "numpy.int64"
      ]
     },
     "execution_count": 26,
     "metadata": {},
     "output_type": "execute_result"
    }
   ],
   "source": [
    "type(train_label.label[0])"
   ]
  },
  {
   "cell_type": "code",
   "execution_count": 50,
   "id": "1d5eb6fd",
   "metadata": {},
   "outputs": [],
   "source": [
    "zero_image, one_image, two_image, tre_image, four_image = [], [], [], [], []\n",
    "for i in range(len(train_label)):\n",
    "    if train_label.label[i] == 0:\n",
    "        zero_image.append(train_label.filename[i])\n",
    "    elif train_label.label[i] == 1:\n",
    "        one_image.append(train_label.filename[i])\n",
    "    elif train_label.label[i] == 2:\n",
    "        two_image.append(train_label.filename[i])\n",
    "    elif train_label.label[i] == 3:\n",
    "        tre_image.append(train_label.filename[i])\n",
    "    elif train_label.label[i] == 4:\n",
    "        four_image.append(train_label.filename[i])"
   ]
  },
  {
   "cell_type": "code",
   "execution_count": 46,
   "id": "a3533cf7",
   "metadata": {},
   "outputs": [
    {
     "name": "stdout",
     "output_type": "stream",
     "text": [
      "3085\n"
     ]
    }
   ],
   "source": [
    "print(len(zero_image))"
   ]
  },
  {
   "cell_type": "code",
   "execution_count": 51,
   "id": "94d2574e",
   "metadata": {},
   "outputs": [
    {
     "name": "stdout",
     "output_type": "stream",
     "text": [
      "1416\n"
     ]
    }
   ],
   "source": [
    "print(len(one_image))"
   ]
  },
  {
   "cell_type": "code",
   "execution_count": 53,
   "id": "fb5fade3",
   "metadata": {},
   "outputs": [
    {
     "name": "stdout",
     "output_type": "stream",
     "text": [
      "2062\n"
     ]
    }
   ],
   "source": [
    "print(len(two_image))"
   ]
  },
  {
   "cell_type": "code",
   "execution_count": 55,
   "id": "61d59cff",
   "metadata": {},
   "outputs": [
    {
     "name": "stdout",
     "output_type": "stream",
     "text": [
      "1029\n"
     ]
    }
   ],
   "source": [
    "print(len(tre_image))"
   ]
  },
  {
   "cell_type": "code",
   "execution_count": 54,
   "id": "bcc0e02d",
   "metadata": {
    "scrolled": true
   },
   "outputs": [
    {
     "name": "stdout",
     "output_type": "stream",
     "text": [
      "236\n"
     ]
    }
   ],
   "source": [
    "print(len(four_image))"
   ]
  },
  {
   "cell_type": "code",
   "execution_count": 56,
   "id": "b966833f",
   "metadata": {},
   "outputs": [
    {
     "data": {
      "text/plain": [
       "7828"
      ]
     },
     "execution_count": 56,
     "metadata": {},
     "output_type": "execute_result"
    }
   ],
   "source": [
    "sum = len(zero_image)+len(one_image)+len(two_image)+len(tre_image)+len(four_image)\n",
    "sum"
   ]
  },
  {
   "cell_type": "code",
   "execution_count": 57,
   "id": "e77d8163",
   "metadata": {},
   "outputs": [],
   "source": [
    "import shutil"
   ]
  },
  {
   "cell_type": "code",
   "execution_count": 59,
   "id": "14a5a597",
   "metadata": {},
   "outputs": [
    {
     "data": {
      "text/plain": [
       "'C:\\\\Users\\\\dodo9\\\\Downloads\\\\data\\\\KneeXray'"
      ]
     },
     "execution_count": 59,
     "metadata": {},
     "output_type": "execute_result"
    }
   ],
   "source": [
    "pwd"
   ]
  },
  {
   "cell_type": "code",
   "execution_count": 62,
   "id": "8799f13c",
   "metadata": {},
   "outputs": [],
   "source": [
    "for i in range(len(zero_image)):\n",
    "    source = r'C:\\\\Users\\\\dodo9\\\\Downloads\\\\data\\\\KneeXray\\\\train\\\\'+zero_image[i]\n",
    "    destination = r'C:\\\\Users\\\\dodo9\\\\Downloads\\\\data\\\\KneeXray\\\\0\\\\'+zero_image[i]\n",
    "    shutil.move(source,destination)"
   ]
  },
  {
   "cell_type": "code",
   "execution_count": 63,
   "id": "318711ef",
   "metadata": {},
   "outputs": [],
   "source": [
    "for i in range(len(one_image)):\n",
    "    source = r'C:\\\\Users\\\\dodo9\\\\Downloads\\\\data\\\\KneeXray\\\\train\\\\'+one_image[i]\n",
    "    destination = r'C:\\\\Users\\\\dodo9\\\\Downloads\\\\data\\\\KneeXray\\\\1\\\\'+one_image[i]\n",
    "    shutil.move(source,destination)"
   ]
  },
  {
   "cell_type": "code",
   "execution_count": 64,
   "id": "6d7dfa71",
   "metadata": {},
   "outputs": [],
   "source": [
    "for i in range(len(two_image)):\n",
    "    source = r'C:\\\\Users\\\\dodo9\\\\Downloads\\\\data\\\\KneeXray\\\\train\\\\'+two_image[i]\n",
    "    destination = r'C:\\\\Users\\\\dodo9\\\\Downloads\\\\data\\\\KneeXray\\\\2\\\\'+two_image[i]\n",
    "    shutil.move(source,destination)"
   ]
  },
  {
   "cell_type": "code",
   "execution_count": 65,
   "id": "9d8e7be4",
   "metadata": {},
   "outputs": [],
   "source": [
    "for i in range(len(tre_image)):\n",
    "    source = r'C:\\\\Users\\\\dodo9\\\\Downloads\\\\data\\\\KneeXray\\\\train\\\\'+tre_image[i]\n",
    "    destination = r'C:\\\\Users\\\\dodo9\\\\Downloads\\\\data\\\\KneeXray\\\\3\\\\'+tre_image[i]\n",
    "    shutil.move(source,destination)"
   ]
  },
  {
   "cell_type": "code",
   "execution_count": 66,
   "id": "b547820b",
   "metadata": {},
   "outputs": [],
   "source": [
    "for i in range(len(four_image)):\n",
    "    source = r'C:\\\\Users\\\\dodo9\\\\Downloads\\\\data\\\\KneeXray\\\\train\\\\'+four_image[i]\n",
    "    destination = r'C:\\\\Users\\\\dodo9\\\\Downloads\\\\data\\\\KneeXray\\\\4\\\\'+four_image[i]\n",
    "    shutil.move(source,destination)"
   ]
  }
 ],
 "metadata": {
  "kernelspec": {
   "display_name": "MDL",
   "language": "python",
   "name": "mdl"
  },
  "language_info": {
   "codemirror_mode": {
    "name": "ipython",
    "version": 3
   },
   "file_extension": ".py",
   "mimetype": "text/x-python",
   "name": "python",
   "nbconvert_exporter": "python",
   "pygments_lexer": "ipython3",
   "version": "3.8.8"
  }
 },
 "nbformat": 4,
 "nbformat_minor": 5
}
