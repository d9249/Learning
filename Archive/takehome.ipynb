{
 "cells": [
  {
   "cell_type": "markdown",
   "metadata": {
    "colab_type": "text",
    "id": "Pz0nmd3UoYzY"
   },
   "source": [
    "# DIYA Take-Home Assignment\n",
    "*ver. 210216*<br><br>\n",
    "\n",
    "안녕하세요! Do It Yourself AI - 인공지능 연합동아리 DIYA에 관심을 가지고 지원해주시는 여러분 모두 감사드립니다.\n",
    "\n",
    "이 Take-Home Assignment는 논문 요약, 프로그래밍 문제와 이론 문제 각각 하나씩, 총 3문제로 구성되어 있습니다.\n",
    "* 논문 요약: 5개의 논문 중 하나를 선택해 요약하기\n",
    "* 프로그래밍 문제: Torch Implementation\n",
    "* 이론 문제: Back to basic\n",
    "\n",
    "이 문제들은 지원해주시는 여러분의 **배경지식과 실력을 판단하고자 함이 아니라**, 앞으로 DIYA에서 활동하시는 동안 저희가 주로 마주하는 문제들을 미리 보여드림으로써 DIYA에서의 활동을 조금 더 구체적으로 소개해드리고자 지원서에 넣어보았습니다. **따라서 문제를 전부 풀지 못하더라도 괜찮습니다.** 문제를 풀면서 어려웠던 점이나 생각하신 바를 적어주세요. 웹 검색을 통해 문제에 대한 답을 찾아, 이를 그대로 가져와 답안으로 사용해주셔도 괜찮습니다. 이 경우 참고하신 문헌이나 코드의 위치를 함께 표기해주세요. 구글링도 아주 중요한 능력이니까요!\n",
    "\n",
    "최신 딥러닝/머신러닝 알고리즘들이 모두 Python 언어로 구현되고 있는만큼, 이 문제들 또한 기초적인 Python 문법에 대한 이해를 전제로 만들어졌습니다. 아래에 Python 문법을 친절하게 가르쳐주는 사이트들을 모아보았습니다.\n",
    "\n",
    "* [Learn Python 3 | Codecademy](https://www.codecademy.com/learn/learn-python-3)\n",
    "* [1. 파이썬 시작하기 - 왕초보를 위한 Python](https://wikidocs.net/43)\n",
    "* [파이썬 자습서 — Python 3.8.2 문서](https://docs.python.org/ko/3/tutorial/index.html)"
   ]
  },
  {
   "cell_type": "markdown",
   "metadata": {
    "colab_type": "text",
    "id": "b52yNiscHTze"
   },
   "source": [
    "## 논문 요약\n",
    "\n",
    "**아래 5개의 논문 중 하나를 선택하여 요약해주세요.**\n",
    "\n",
    "다음은 지난 기수에서 DIYA의 회원들이 프로젝트를 진행하며 참고한 논문들 중 일부입니다.\n",
    "* [REFORMER: THE EFFICIENT TRANSFORMER](https://arxiv.org/pdf/2001.04451.pdf)\n",
    "* [Multi-Agent Actor-Critic for Mixed Cooperative-Competitive Environments](https://arxiv.org/pdf/1706.02275.pdf)\n",
    "* [Generative Adversarial Networks](https://arxiv.org/pdf/1406.2661.pdf)\n",
    "* [Solving the Quantum Many-Body Problem with Artificial Neural Networks](https://arxiv.org/pdf/1606.02318.pdf)\n",
    "* [GloVe: Global Vectors for Word Representation](https://www.aclweb.org/anthology/D14-1162.pdf)\n",
    "\n",
    "이 중 하나를 선택해 아래의 3가지 질문에 대한 답을 해주세요.  \n",
    "1. 이 논문이 참고한 문헌 중 하나를 선택해 간단히 설명해주세요.  \n",
    "2. 이 논문은 해당 참고문헌으로부터 어떤 점을 발전시켰나요?  \n",
    "3. 어떤 점을 추가로 더 발전시킬 수 있을까요?  \n",
    "\n",
    "질문에 대한 답은 아래 셀에 작성하되, 꼭 순서대로 하실 필요 없이 내용을 자유롭게 배치해주시면 됩니다. 전체 답변의 길이는 총 500자를 넘지 않도록 해주세요."
   ]
  },
  {
   "cell_type": "code",
   "execution_count": null,
   "metadata": {
    "colab": {},
    "colab_type": "code",
    "id": "1shdD0Y4PEx-"
   },
   "outputs": [],
   "source": [
    "#@title 답변\n",
    "\n",
    "# 우측의 목록에서 논문을 선택해주세요.\n",
    "title = 'Generative Adversarial Networks' #@param [\"REFORMER: THE EFFICIENT TRANSFORMER\", \"Multi-Agent Actor-Critic for Mixed Cooperative-Competitive Environments\", \"Generative Adversarial Networks\", \"Solving the Quantum Many-Body Problem with Artificial Neural Networks\", \"GloVe: Global Vectors for Word Representation\"]\n",
    "\n",
    "# 여기에 답변을 작성해주세요.\n",
    "summary = \"\"\"\n",
    "\n",
    "TODO\n",
    "\n",
    "\"\"\"\n",
    "\n",
    "# 작성을 마치신 뒤 셀을 실행해주시면 총 글자수가 출력됩니다.\n",
    "import re\n",
    "pattern = re.compile(r'\\s+')\n",
    "length = len(re.sub(pattern, '', summary))\n",
    "\n",
    "print(\"논문명: {}\".format(title))\n",
    "print(\"답변 길이: {}자\".format(length))\n",
    "assert length <= 500, \"답변의 길이가 500자를 넘었습니다\"\n",
    "print(summary)"
   ]
  },
  {
   "cell_type": "markdown",
   "metadata": {
    "colab_type": "text",
    "id": "e_dXBtQIq-96"
   },
   "source": [
    "## 프로그래밍 문제\n",
    "문제를 풀기전에 아래 셀을 실행해주세요."
   ]
  },
  {
   "cell_type": "code",
   "execution_count": null,
   "metadata": {},
   "outputs": [],
   "source": [
    "!pip install wget\n",
    "import wget, pickle, os\n",
    "\n",
    "def load_data():\n",
    "    # Load dataset from DIYA GitLab\n",
    "    url = \"https://gitlab.diyaml.com/moong1234/application/raw/release/data.pkl\"\n",
    "    if not os.path.isfile(\"data.pkl\"):\n",
    "        wget.download(url, 'data.pkl')\n",
    "    \n",
    "    path = \"data.pkl\"\n",
    "    with open(path, 'rb') as f:\n",
    "        data = pickle.load(f)\n",
    "    return data\n",
    "\n",
    "data, label = load_data()\n",
    "print(data.shape, label.shape)\n",
    "data, label"
   ]
  },
  {
   "cell_type": "markdown",
   "metadata": {},
   "source": [
    "### PyTorch implementation 1\n",
    "    \n",
    "주어진 data의 각 sample은 1 또는 -1을 원소로 갖는 n-dim binary vector(np.array)와 one-hot vector로 표현된 label로 이루어져 있습니다. \n",
    "(n = 12)\n",
    "\n",
    "XOR 연산을 일반화할 수 있는 여러 문제들 중 하나는 홀/짝 문제입니다.  \n",
    "**$n$개의 원소를 갖는 1차원 bool 벡터의 $L_0-norm$의 값이 홀/짝인지 판단하는 문제**에서, $n=2$일 때, XOR 연산과 동일합니다.  \n",
    "(여기서 $L_0-norm$은 벡터 내에 0이 아닌 원소의 갯수를 의미합니다.)  \n",
    "\n",
    "**PyTorch를 이용하여 주어진 data에 대해 위 문제의 답을 출력하는 머신을 지도학습 기반으로 학습시켜주세요.**\n",
    "\n",
    "단, 여기에선 $2^n$개의 samples, $U$를 전부 이용하여 학습시키지 않고 그 중 일부만을 사용하여야 합니다.  \n",
    "**train, test, validation sets를 본인의 기준에 맞게 나누고 그렇게 나눈 이유를 정성적으로 설명해주세요.**  \n",
    "  \n",
    "  \n",
    "$2^n$개의 samples를 갖고있는 dataset $U$를 가정합니다. i.e. $|U|$ = #($U$) = $2^n$  \n",
    "such that #(train) + #(test) + #(validation) = $2^n$ and train $\\cup$ test $\\cup$ validation = $U$\n",
    "\n",
    "\n",
    "**참고자료**\n",
    "* [XOR_gate | wikipedia](https://en.wikipedia.org/wiki/XOR_gate)\n",
    "* [Lp-norm | wikipedia](https://en.wikipedia.org/wiki/Lp_space#When_p_=_0)"
   ]
  },
  {
   "cell_type": "code",
   "execution_count": null,
   "metadata": {},
   "outputs": [],
   "source": [
    "import torch\n",
    "device = torch.device('cuda' if torch.cuda.is_available() else 'cpu')\n",
    "\n",
    "# TODO\n",
    "train_data_x = \n",
    "test_data_x =\n",
    "validation_data_x =\n",
    "\n",
    "train_data_y =\n",
    "test_data_y =\n",
    "validation_data_y =\n",
    "\n",
    "train_data_x = torch.tensor(train_data_x, dtype=torch.float64, device=device).double()\n",
    "train_data_y = torch.tensor(train_data_y, dtype=torch.float64, device=device).double()\n",
    "test_data_x = torch.tensor(test_data_x, dtype=torch.float64, device=device).double()\n",
    "test_data_y = torch.tensor(test_data_y, dtype=torch.float64, device=device).double()\n",
    "validation_data_x = torch.tensor(validation_data_x, dtype=torch.float64, device=device).double()\n",
    "validation_data_y = torch.tensor(validation_data_y, dtype=torch.float64, device=device).double()"
   ]
  },
  {
   "cell_type": "code",
   "execution_count": null,
   "metadata": {},
   "outputs": [],
   "source": [
    "from torch.utils.data import TensorDataset, DataLoader\n",
    "\n",
    "dataset = TensorDataset(train_data_x, train_data_y)\n",
    "# TODO\n",
    "dataloader = DataLoader(dataset, batch_size=, shuffle=)"
   ]
  },
  {
   "cell_type": "code",
   "execution_count": null,
   "metadata": {},
   "outputs": [],
   "source": [
    "class MLP(torch.nn.Module):\n",
    "    def __init__(self, input_dim, hidden_dim, output_dim):\n",
    "        super().__init__()\n",
    "        # TODO\n",
    "\n",
    "    def forward(self, x):\n",
    "        # TODO\n"
   ]
  },
  {
   "cell_type": "markdown",
   "metadata": {},
   "source": [
    "### PyTorch implementation 2\n",
    "\n",
    "2차원 bool 벡터에 대해 CNN architecture를 이용하여 동일한 과정을 시행해주세요. "
   ]
  },
  {
   "cell_type": "code",
   "execution_count": null,
   "metadata": {},
   "outputs": [],
   "source": [
    "# TODO"
   ]
  },
  {
   "cell_type": "code",
   "execution_count": null,
   "metadata": {},
   "outputs": [],
   "source": [
    "train_data_x = train_data_x.view(-1, 1, 4, 3)\n",
    "test_data_x = test_data_x.view(-1, 1, 4, 3)\n",
    "validation_data_x = validation_data_x.view(-1, 1, 4, 3)"
   ]
  },
  {
   "cell_type": "code",
   "execution_count": null,
   "metadata": {},
   "outputs": [],
   "source": [
    "dataset = TensorDataset(train_data_x, train_data_y)\n",
    "# TODO\n",
    "dataloader = DataLoader(dataset, batch_size=, shuffle=)"
   ]
  },
  {
   "cell_type": "code",
   "execution_count": null,
   "metadata": {},
   "outputs": [],
   "source": [
    "class CNN(torch.nn.Module):\n",
    "    def __init__(self, hidden_channel, hidden_dim, output_dim):\n",
    "        super().__init__()\n",
    "        # TODO\n",
    "        \n",
    "    def forward(self, x):\n",
    "        # TODO\n",
    "    "
   ]
  },
  {
   "source": [
    "## 이론 문제\n",
    "### Back to basic\n",
    "\n",
    "XOR연산은 AND 나 OR 연산과 달리 single perceptron만으로는 풀 수 없습니다.  \n",
    "\n",
    "이는 decision boudary가 linear하게 정해질 수 없기 때문인데요, DNN이 필요한 간단한 예시로 자주 사용되곤 합니다.  \n",
    "\n",
    "c/c++ 혹은 python의 기본 함수들(STL, numpy 등 사용 가능)을 이용하여 다음 XOR 연산을 수행하는 머신을 지도학습 기반으로 만들어주세요.  \n",
    "\n",
    "autograd 기능이 없는 libarary라면 필요에 따라 사용하셔도 됩니다.  \n",
    "\n",
    "code와 실행파일 그리고 정확도 등을 포함하는 그림 한 장을 첨부해주세요.\n",
    "   \n",
    ".ipynb 파일을 제출하실 때 함께 제출하셔도 좋습니다. \n",
    "\n",
    "** XOR ** \n",
    " \n",
    "| $input_1$ | $input_2$ |  $output$  |\n",
    "| :---: | :---: | :---: |\n",
    "| 0     | 0     | 0     |\n",
    "| 0     | 1     | 1     |\n",
    "| 1     | 0     | 1     |\n",
    "| 1     | 1     | 0     |\n",
    "\n",
    "문제를 푸는 데 도움이 될만한 링크를 아래 남겨두었습니다. \n",
    "   \n",
    "**참고자료**\n",
    "* [XOR_gate | wikipedia](https://en.wikipedia.org/wiki/XOR_gate)\n",
    "* [Speech and Language Processing, Ch.7 | Daniel Jurafsky & James H. Martin](https://web.stanford.edu/~jurafsky/slp3/7.pdf)"
   ],
   "cell_type": "markdown",
   "metadata": {}
  },
  {
   "cell_type": "code",
   "execution_count": null,
   "metadata": {},
   "outputs": [],
   "source": [
    "# TODO\n",
    "# In this stage, you are allowed to take the training phase only, since there are only four samples. "
   ]
  },
  {
   "source": [
    "### 더 생각해볼 점..\n",
    "* Dataset split ratio\n",
    "* Overfitting\n",
    "* Effect of sample size in above problems\n",
    "* When to stop\n",
    "* etc"
   ],
   "cell_type": "markdown",
   "metadata": {}
  },
  {
   "cell_type": "markdown",
   "metadata": {
    "colab_type": "text",
    "id": "R_bWecfkgFBF"
   },
   "source": [
    "## 제출 방법\n",
    "\n",
    "작성을 완료하신 이후에는 이 IPython notebook을 .ipynb 형식으로 저장해주세요. 새로 저장한 .ipynb 파일은 지원서(Google 설문지)의 두번째 섹션에 업로드해주시면 됩니다.\n",
    "\n",
    "혹시나 단 한문제도 풀지 못했더라도, .ipynb 파일의 제출을 부탁드립니다.\n",
    "\n",
    "수고하셨습니다!"
   ]
  }
 ],
 "metadata": {
  "colab": {
   "collapsed_sections": [],
   "name": "takehome.ipynb",
   "provenance": [],
   "toc_visible": true
  },
  "kernelspec": {
   "display_name": "Python 3",
   "language": "python",
   "name": "python3"
  },
  "language_info": {
   "codemirror_mode": {
    "name": "ipython",
    "version": 3
   },
   "file_extension": ".py",
   "mimetype": "text/x-python",
   "name": "python",
   "nbconvert_exporter": "python",
   "pygments_lexer": "ipython3",
   "version": "3.8.5-final"
  }
 },
 "nbformat": 4,
 "nbformat_minor": 4
}