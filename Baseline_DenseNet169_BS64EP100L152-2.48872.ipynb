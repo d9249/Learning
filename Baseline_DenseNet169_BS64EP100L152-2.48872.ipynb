{
  "nbformat": 4,
  "nbformat_minor": 0,
  "metadata": {
    "colab": {
      "name": "Baseline_DenseNet169_BS64EP100L152-2.48872.ipynb",
      "provenance": [],
      "collapsed_sections": [],
      "machine_shape": "hm",
      "include_colab_link": true
    },
    "kernelspec": {
      "name": "python3",
      "display_name": "Python 3"
    },
    "language_info": {
      "name": "python"
    },
    "accelerator": "GPU"
  },
  "cells": [
    {
      "cell_type": "markdown",
      "metadata": {
        "id": "view-in-github",
        "colab_type": "text"
      },
      "source": [
        "<a href=\"https://colab.research.google.com/github/d9249/DACON/blob/main/Baseline_DenseNet169_BS64EP100L152-2.48872.ipynb\" target=\"_parent\"><img src=\"https://colab.research.google.com/assets/colab-badge.svg\" alt=\"Open In Colab\"/></a>"
      ]
    },
    {
      "cell_type": "code",
      "metadata": {
        "colab": {
          "base_uri": "https://localhost:8080/"
        },
        "id": "Gg_xKC99n3jX",
        "outputId": "e799b5d8-998e-4895-fdaf-d47012f3c05c"
      },
      "source": [
        "!nvidia-smi"
      ],
      "execution_count": 1,
      "outputs": [
        {
          "output_type": "stream",
          "name": "stdout",
          "text": [
            "Tue Oct  5 00:35:13 2021       \n",
            "+-----------------------------------------------------------------------------+\n",
            "| NVIDIA-SMI 470.74       Driver Version: 460.32.03    CUDA Version: 11.2     |\n",
            "|-------------------------------+----------------------+----------------------+\n",
            "| GPU  Name        Persistence-M| Bus-Id        Disp.A | Volatile Uncorr. ECC |\n",
            "| Fan  Temp  Perf  Pwr:Usage/Cap|         Memory-Usage | GPU-Util  Compute M. |\n",
            "|                               |                      |               MIG M. |\n",
            "|===============================+======================+======================|\n",
            "|   0  Tesla P100-PCIE...  Off  | 00000000:00:04.0 Off |                    0 |\n",
            "| N/A   43C    P0    27W / 250W |      0MiB / 16280MiB |      0%      Default |\n",
            "|                               |                      |                  N/A |\n",
            "+-------------------------------+----------------------+----------------------+\n",
            "                                                                               \n",
            "+-----------------------------------------------------------------------------+\n",
            "| Processes:                                                                  |\n",
            "|  GPU   GI   CI        PID   Type   Process name                  GPU Memory |\n",
            "|        ID   ID                                                   Usage      |\n",
            "|=============================================================================|\n",
            "|  No running processes found                                                 |\n",
            "+-----------------------------------------------------------------------------+\n"
          ]
        }
      ]
    },
    {
      "cell_type": "code",
      "metadata": {
        "colab": {
          "base_uri": "https://localhost:8080/"
        },
        "id": "WXckPH3On8tq",
        "outputId": "a94d74e8-f7fd-4acc-e041-2655307eac3f"
      },
      "source": [
        "    from google.colab import drive\n",
        "drive.mount('/content/drive')"
      ],
      "execution_count": 2,
      "outputs": [
        {
          "output_type": "stream",
          "name": "stdout",
          "text": [
            "Drive already mounted at /content/drive; to attempt to forcibly remount, call drive.mount(\"/content/drive\", force_remount=True).\n"
          ]
        }
      ]
    },
    {
      "cell_type": "code",
      "metadata": {
        "id": "XZ5gidLsn99k"
      },
      "source": [
        "import pandas as pd\n",
        "import numpy as np\n",
        "from glob import glob\n",
        "\n",
        "from PIL import Image\n",
        "import cv2\n",
        "from tqdm import tqdm\n",
        "\n",
        "import os\n",
        "import shutil\n",
        "import json\n",
        "\n",
        "from sklearn.model_selection import train_test_split\n",
        "import tensorflow as tf\n",
        "from tensorflow.keras.applications import *\n",
        "from tensorflow.keras.layers import *\n",
        "from tensorflow.keras.models import Model\n",
        "from tensorflow.keras.optimizers import Adam\n",
        "\n",
        "import warnings\n",
        "warnings.filterwarnings(\"ignore\")\n",
        "warnings.simplefilter('ignore')"
      ],
      "execution_count": 3,
      "outputs": []
    },
    {
      "cell_type": "code",
      "metadata": {
        "id": "MfrWUL9xBFtf",
        "colab": {
          "base_uri": "https://localhost:8080/"
        },
        "outputId": "6338a17c-7cb3-4f78-88b7-a09fa4da7238"
      },
      "source": [
        "!mkdir open_data\n",
        "!unzip -uq \"/content/drive/MyDrive/DACON_2021_recognize_traffic_signal_motion/open.zip\" -d \"/content/open_data/\""
      ],
      "execution_count": 4,
      "outputs": [
        {
          "output_type": "stream",
          "name": "stdout",
          "text": [
            "mkdir: cannot create directory ‘open_data’: File exists\n"
          ]
        }
      ]
    },
    {
      "cell_type": "code",
      "metadata": {
        "id": "6pji0ltDoAHg"
      },
      "source": [
        "data_path = '/content/open_data/open'\n",
        "train_path = data_path + '/train'\n",
        "test_path = data_path + '/test'\n",
        "hand_gesture = pd.read_csv(data_path + '/hand_gesture_pose.csv')\n",
        "sample_submission = pd.read_csv(data_path + '/sample_submission.csv')"
      ],
      "execution_count": 5,
      "outputs": []
    },
    {
      "cell_type": "code",
      "metadata": {
        "id": "iiMwwbPdoCDX"
      },
      "source": [
        "train_folders = sorted(glob(train_path + '/*'), key = lambda x : int(x.split('/')[-1]))\n",
        "test_folders  = sorted(glob(test_path + '/*'), key = lambda x : int(x.split('/')[-1]))"
      ],
      "execution_count": 6,
      "outputs": []
    },
    {
      "cell_type": "code",
      "metadata": {
        "id": "7iZ8NnDgoEbO"
      },
      "source": [
        "train_folder = train_folders[0]\n",
        "\n",
        "image_paths = sorted(glob(train_folder + '/*.png'), key = lambda x : int(x.split('/')[-1].replace('.png','')))\n",
        "json_path   = glob(train_folder + '/*.json')[0]"
      ],
      "execution_count": 7,
      "outputs": []
    },
    {
      "cell_type": "code",
      "metadata": {
        "id": "RdJRZnRAoN-l"
      },
      "source": [
        "answers = []\n",
        "for train_folder in train_folders :\n",
        "    json_path = glob(train_folder + '/*.json')[0]\n",
        "    js = json.load(open(json_path))\n",
        "    cat = js.get('annotations')[0].get('category_id')\n",
        "    cat_name = js.get('annotations')[0].get('category_name')\n",
        "    answers.append([train_folder.replace(data_path,''),cat, cat_name])\n",
        "\n",
        "answers = pd.DataFrame(answers, columns = ['train_path','answer', 'answer_name'])"
      ],
      "execution_count": 8,
      "outputs": []
    },
    {
      "cell_type": "code",
      "metadata": {
        "id": "gQC7yCLjoPuY"
      },
      "source": [
        "classes = pd.get_dummies(answers[['answer']], columns = ['answer']).to_numpy()"
      ],
      "execution_count": 9,
      "outputs": []
    },
    {
      "cell_type": "code",
      "metadata": {
        "id": "LYcekz5coRiq"
      },
      "source": [
        "np.random.shuffle(train_folders) # 일반화 가능성 높이기"
      ],
      "execution_count": 10,
      "outputs": []
    },
    {
      "cell_type": "code",
      "metadata": {
        "colab": {
          "base_uri": "https://localhost:8080/"
        },
        "id": "54zJICg-oS3k",
        "outputId": "5a8d66c2-69a0-411d-98ec-1c0d0740ab1b"
      },
      "source": [
        "from keras.preprocessing import image\n",
        "\n",
        "images  = []\n",
        "targets = []\n",
        "for train_folder in tqdm(train_folders) :\n",
        "    image_paths = sorted(glob(train_folder + '/*.png'), key = lambda x : int(x.split('/')[-1].replace('.png','')))\n",
        "    query_path  = train_folder.replace(data_path,'')\n",
        "    target = classes[int(train_folder.split('/')[-1])]\n",
        "    for image_path in image_paths:\n",
        "        img = image.load_img(image_path, target_size=(224,224,3))\n",
        "        img = image.img_to_array(img)\n",
        "        img = img/255\n",
        "        images.append(img)\n",
        "        targets.append(target)"
      ],
      "execution_count": 11,
      "outputs": [
        {
          "output_type": "stream",
          "name": "stderr",
          "text": [
            "100%|██████████| 649/649 [05:02<00:00,  2.14it/s]\n"
          ]
        }
      ]
    },
    {
      "cell_type": "code",
      "metadata": {
        "colab": {
          "base_uri": "https://localhost:8080/"
        },
        "id": "bCPCD-fUoUPH",
        "outputId": "aa6bc6a3-f4fa-402c-f01c-28faa5e3beb0"
      },
      "source": [
        "X = np.array(images)\n",
        "print('Train X Shape : ', X.shape)\n",
        "y = np.array(targets)\n",
        "print('Train y Shape : ', y.shape)\n",
        "\n",
        "X_train, X_valid, y_train, y_valid = train_test_split(\n",
        "      X, \n",
        "      y, \n",
        "      random_state = 2021, \n",
        "      test_size = 0.2, \n",
        "      stratify = y\n",
        "    )"
      ],
      "execution_count": 12,
      "outputs": [
        {
          "output_type": "stream",
          "name": "stdout",
          "text": [
            "Train X Shape :  (5887, 224, 224, 3)\n",
            "Train y Shape :  (5887, 157)\n"
          ]
        }
      ]
    },
    {
      "cell_type": "code",
      "metadata": {
        "colab": {
          "base_uri": "https://localhost:8080/"
        },
        "id": "87OUZaLJoWOJ",
        "outputId": "c8c9193a-ca06-487e-f78f-7b8e6278e154"
      },
      "source": [
        "from keras.preprocessing import image\n",
        "from PIL import ImageFile, Image\n",
        "ImageFile.LOAD_TRUNCATED_IMAGES = True\n",
        "\n",
        "test_images  = []\n",
        "for test_folder in tqdm(test_folders, total = len(test_folders)) :\n",
        "    image_paths = sorted(glob(test_folder + '/*.png'), key = lambda x : int(x.split('/')[-1].replace('.png','')))\n",
        "    query_path  = test_folder.replace(data_path,'')\n",
        "    test_image = []\n",
        "    for image_path in image_paths:\n",
        "        img = image.load_img(image_path, target_size=(224,224,3))\n",
        "        img = image.img_to_array(img)\n",
        "        img = img/255\n",
        "        test_image.append(img)\n",
        "    test_images.append(test_image)\n",
        "\n",
        "test_images = np.array(test_images)\n",
        "print(test_images.shape)"
      ],
      "execution_count": 13,
      "outputs": [
        {
          "output_type": "stream",
          "name": "stderr",
          "text": [
            "100%|██████████| 217/217 [01:43<00:00,  2.10it/s]"
          ]
        },
        {
          "output_type": "stream",
          "name": "stdout",
          "text": [
            "(217,)\n"
          ]
        },
        {
          "output_type": "stream",
          "name": "stderr",
          "text": [
            "\n"
          ]
        }
      ]
    },
    {
      "cell_type": "code",
      "metadata": {
        "id": "obZPl4oPE2FL"
      },
      "source": [
        "baseModel = DenseNet169(weights='imagenet', include_top=False)\n",
        "baseModel.trainable = False\n",
        "\n",
        "model_in = Input(shape = (224,224,3))\n",
        "base_model = baseModel(model_in)\n",
        "head_model = AveragePooling2D(pool_size=(5, 5))(base_model)\n",
        "head_model = Flatten(name=\"flatten\")(head_model)\n",
        "head_model = Dense(1024, activation=\"relu\")(head_model)\n",
        "head_model = Dropout(0.2)(head_model)\n",
        "head_model = Dense(512, activation=\"relu\")(head_model)\n",
        "head_model = Dropout(0.2)(head_model)\n",
        "head_model = Dense(256, activation=\"relu\")(head_model)\n",
        "head_model = Dropout(0.2)(head_model)\n",
        "model_out = Dense(classes.shape[1], activation=\"softmax\")(head_model)\n",
        "\n",
        "model = Model(inputs=model_in, outputs=model_out)"
      ],
      "execution_count": 14,
      "outputs": []
    },
    {
      "cell_type": "code",
      "metadata": {
        "id": "TVI-PcA0E3YI"
      },
      "source": [
        "model.compile(loss = 'categorical_crossentropy', optimizer = 'Adam', metrics = ['accuracy'])"
      ],
      "execution_count": 15,
      "outputs": []
    },
    {
      "cell_type": "code",
      "metadata": {
        "id": "D3esTCKcFX-X",
        "colab": {
          "base_uri": "https://localhost:8080/"
        },
        "outputId": "8e963920-afe2-462a-d756-eb3d81cb5059"
      },
      "source": [
        "model.fit(\n",
        "        X_train,\n",
        "        y_train, \n",
        "        validation_data = (X_valid, y_valid),\n",
        "        epochs = 100,\n",
        "        verbose = 1,\n",
        "        batch_size = 64\n",
        "        )"
      ],
      "execution_count": 16,
      "outputs": [
        {
          "output_type": "stream",
          "name": "stdout",
          "text": [
            "Epoch 1/100\n",
            "74/74 [==============================] - 39s 210ms/step - loss: 4.3492 - accuracy: 0.0769 - val_loss: 2.9302 - val_accuracy: 0.2615\n",
            "Epoch 2/100\n",
            "74/74 [==============================] - 11s 154ms/step - loss: 2.4441 - accuracy: 0.3221 - val_loss: 1.2968 - val_accuracy: 0.6333\n",
            "Epoch 3/100\n",
            "74/74 [==============================] - 11s 154ms/step - loss: 1.4055 - accuracy: 0.5617 - val_loss: 0.7345 - val_accuracy: 0.7878\n",
            "Epoch 4/100\n",
            "74/74 [==============================] - 11s 154ms/step - loss: 0.9142 - accuracy: 0.7035 - val_loss: 0.5177 - val_accuracy: 0.8531\n",
            "Epoch 5/100\n",
            "74/74 [==============================] - 11s 154ms/step - loss: 0.6338 - accuracy: 0.7955 - val_loss: 0.3489 - val_accuracy: 0.8854\n",
            "Epoch 6/100\n",
            "74/74 [==============================] - 11s 153ms/step - loss: 0.4528 - accuracy: 0.8492 - val_loss: 0.2409 - val_accuracy: 0.9236\n",
            "Epoch 7/100\n",
            "74/74 [==============================] - 11s 153ms/step - loss: 0.3410 - accuracy: 0.8938 - val_loss: 0.1767 - val_accuracy: 0.9448\n",
            "Epoch 8/100\n",
            "74/74 [==============================] - 11s 154ms/step - loss: 0.3058 - accuracy: 0.8974 - val_loss: 0.1611 - val_accuracy: 0.9508\n",
            "Epoch 9/100\n",
            "74/74 [==============================] - 11s 153ms/step - loss: 0.2128 - accuracy: 0.9306 - val_loss: 0.1140 - val_accuracy: 0.9669\n",
            "Epoch 10/100\n",
            "74/74 [==============================] - 11s 154ms/step - loss: 0.1800 - accuracy: 0.9393 - val_loss: 0.1100 - val_accuracy: 0.9643\n",
            "Epoch 11/100\n",
            "74/74 [==============================] - 11s 154ms/step - loss: 0.1691 - accuracy: 0.9469 - val_loss: 0.0820 - val_accuracy: 0.9754\n",
            "Epoch 12/100\n",
            "74/74 [==============================] - 11s 154ms/step - loss: 0.1280 - accuracy: 0.9558 - val_loss: 0.1233 - val_accuracy: 0.9703\n",
            "Epoch 13/100\n",
            "74/74 [==============================] - 11s 154ms/step - loss: 0.1360 - accuracy: 0.9565 - val_loss: 0.0833 - val_accuracy: 0.9754\n",
            "Epoch 14/100\n",
            "74/74 [==============================] - 11s 154ms/step - loss: 0.1361 - accuracy: 0.9563 - val_loss: 0.0782 - val_accuracy: 0.9796\n",
            "Epoch 15/100\n",
            "74/74 [==============================] - 11s 153ms/step - loss: 0.1167 - accuracy: 0.9609 - val_loss: 0.0745 - val_accuracy: 0.9754\n",
            "Epoch 16/100\n",
            "74/74 [==============================] - 11s 154ms/step - loss: 0.1126 - accuracy: 0.9605 - val_loss: 0.0580 - val_accuracy: 0.9822\n",
            "Epoch 17/100\n",
            "74/74 [==============================] - 11s 154ms/step - loss: 0.0912 - accuracy: 0.9701 - val_loss: 0.0925 - val_accuracy: 0.9754\n",
            "Epoch 18/100\n",
            "74/74 [==============================] - 11s 153ms/step - loss: 0.1016 - accuracy: 0.9637 - val_loss: 0.0602 - val_accuracy: 0.9796\n",
            "Epoch 19/100\n",
            "74/74 [==============================] - 11s 154ms/step - loss: 0.0965 - accuracy: 0.9701 - val_loss: 0.0822 - val_accuracy: 0.9694\n",
            "Epoch 20/100\n",
            "74/74 [==============================] - 11s 154ms/step - loss: 0.0840 - accuracy: 0.9745 - val_loss: 0.0785 - val_accuracy: 0.9779\n",
            "Epoch 21/100\n",
            "74/74 [==============================] - 11s 153ms/step - loss: 0.1197 - accuracy: 0.9614 - val_loss: 0.0712 - val_accuracy: 0.9788\n",
            "Epoch 22/100\n",
            "74/74 [==============================] - 11s 154ms/step - loss: 0.0733 - accuracy: 0.9758 - val_loss: 0.0570 - val_accuracy: 0.9847\n",
            "Epoch 23/100\n",
            "74/74 [==============================] - 11s 153ms/step - loss: 0.0717 - accuracy: 0.9781 - val_loss: 0.0692 - val_accuracy: 0.9754\n",
            "Epoch 24/100\n",
            "74/74 [==============================] - 11s 154ms/step - loss: 0.0776 - accuracy: 0.9762 - val_loss: 0.0395 - val_accuracy: 0.9856\n",
            "Epoch 25/100\n",
            "74/74 [==============================] - 11s 154ms/step - loss: 0.0585 - accuracy: 0.9800 - val_loss: 0.0518 - val_accuracy: 0.9822\n",
            "Epoch 26/100\n",
            "74/74 [==============================] - 11s 153ms/step - loss: 0.0667 - accuracy: 0.9764 - val_loss: 0.0495 - val_accuracy: 0.9813\n",
            "Epoch 27/100\n",
            "74/74 [==============================] - 11s 153ms/step - loss: 0.0880 - accuracy: 0.9692 - val_loss: 0.0789 - val_accuracy: 0.9720\n",
            "Epoch 28/100\n",
            "74/74 [==============================] - 11s 153ms/step - loss: 0.1112 - accuracy: 0.9654 - val_loss: 0.0694 - val_accuracy: 0.9762\n",
            "Epoch 29/100\n",
            "74/74 [==============================] - 11s 153ms/step - loss: 0.0730 - accuracy: 0.9762 - val_loss: 0.0558 - val_accuracy: 0.9813\n",
            "Epoch 30/100\n",
            "74/74 [==============================] - 11s 153ms/step - loss: 0.0638 - accuracy: 0.9792 - val_loss: 0.1098 - val_accuracy: 0.9754\n",
            "Epoch 31/100\n",
            "74/74 [==============================] - 11s 153ms/step - loss: 0.0699 - accuracy: 0.9766 - val_loss: 0.0393 - val_accuracy: 0.9839\n",
            "Epoch 32/100\n",
            "74/74 [==============================] - 11s 153ms/step - loss: 0.1050 - accuracy: 0.9658 - val_loss: 0.0782 - val_accuracy: 0.9788\n",
            "Epoch 33/100\n",
            "74/74 [==============================] - 11s 153ms/step - loss: 0.1054 - accuracy: 0.9662 - val_loss: 0.0549 - val_accuracy: 0.9822\n",
            "Epoch 34/100\n",
            "74/74 [==============================] - 11s 153ms/step - loss: 0.0961 - accuracy: 0.9705 - val_loss: 0.0550 - val_accuracy: 0.9796\n",
            "Epoch 35/100\n",
            "74/74 [==============================] - 11s 153ms/step - loss: 0.0611 - accuracy: 0.9794 - val_loss: 0.0317 - val_accuracy: 0.9907\n",
            "Epoch 36/100\n",
            "74/74 [==============================] - 11s 153ms/step - loss: 0.0651 - accuracy: 0.9805 - val_loss: 0.0594 - val_accuracy: 0.9813\n",
            "Epoch 37/100\n",
            "74/74 [==============================] - 11s 154ms/step - loss: 0.0769 - accuracy: 0.9769 - val_loss: 0.0330 - val_accuracy: 0.9941\n",
            "Epoch 38/100\n",
            "74/74 [==============================] - 11s 154ms/step - loss: 0.0784 - accuracy: 0.9760 - val_loss: 0.1106 - val_accuracy: 0.9703\n",
            "Epoch 39/100\n",
            "74/74 [==============================] - 11s 153ms/step - loss: 0.0809 - accuracy: 0.9735 - val_loss: 0.0546 - val_accuracy: 0.9864\n",
            "Epoch 40/100\n",
            "74/74 [==============================] - 11s 153ms/step - loss: 0.0814 - accuracy: 0.9743 - val_loss: 0.0377 - val_accuracy: 0.9881\n",
            "Epoch 41/100\n",
            "74/74 [==============================] - 11s 153ms/step - loss: 0.0793 - accuracy: 0.9754 - val_loss: 0.0532 - val_accuracy: 0.9822\n",
            "Epoch 42/100\n",
            "74/74 [==============================] - 11s 154ms/step - loss: 0.0552 - accuracy: 0.9828 - val_loss: 0.0921 - val_accuracy: 0.9779\n",
            "Epoch 43/100\n",
            "74/74 [==============================] - 11s 153ms/step - loss: 0.0458 - accuracy: 0.9856 - val_loss: 0.0682 - val_accuracy: 0.9864\n",
            "Epoch 44/100\n",
            "74/74 [==============================] - 11s 153ms/step - loss: 0.0582 - accuracy: 0.9807 - val_loss: 0.0655 - val_accuracy: 0.9839\n",
            "Epoch 45/100\n",
            "74/74 [==============================] - 11s 153ms/step - loss: 0.0482 - accuracy: 0.9830 - val_loss: 0.0607 - val_accuracy: 0.9839\n",
            "Epoch 46/100\n",
            "74/74 [==============================] - 11s 153ms/step - loss: 0.0760 - accuracy: 0.9775 - val_loss: 0.0702 - val_accuracy: 0.9822\n",
            "Epoch 47/100\n",
            "74/74 [==============================] - 11s 153ms/step - loss: 0.0805 - accuracy: 0.9769 - val_loss: 0.0792 - val_accuracy: 0.9813\n",
            "Epoch 48/100\n",
            "74/74 [==============================] - 11s 153ms/step - loss: 0.0831 - accuracy: 0.9739 - val_loss: 0.0621 - val_accuracy: 0.9847\n",
            "Epoch 49/100\n",
            "74/74 [==============================] - 11s 153ms/step - loss: 0.0976 - accuracy: 0.9677 - val_loss: 0.0376 - val_accuracy: 0.9890\n",
            "Epoch 50/100\n",
            "74/74 [==============================] - 11s 154ms/step - loss: 0.0839 - accuracy: 0.9758 - val_loss: 0.0733 - val_accuracy: 0.9796\n",
            "Epoch 51/100\n",
            "74/74 [==============================] - 11s 153ms/step - loss: 0.0693 - accuracy: 0.9781 - val_loss: 0.0647 - val_accuracy: 0.9830\n",
            "Epoch 52/100\n",
            "74/74 [==============================] - 11s 154ms/step - loss: 0.0465 - accuracy: 0.9870 - val_loss: 0.0942 - val_accuracy: 0.9847\n",
            "Epoch 53/100\n",
            "74/74 [==============================] - 11s 154ms/step - loss: 0.0366 - accuracy: 0.9898 - val_loss: 0.0465 - val_accuracy: 0.9873\n",
            "Epoch 54/100\n",
            "74/74 [==============================] - 11s 153ms/step - loss: 0.0281 - accuracy: 0.9919 - val_loss: 0.0365 - val_accuracy: 0.9924\n",
            "Epoch 55/100\n",
            "74/74 [==============================] - 11s 155ms/step - loss: 0.0264 - accuracy: 0.9913 - val_loss: 0.0604 - val_accuracy: 0.9847\n",
            "Epoch 56/100\n",
            "74/74 [==============================] - 11s 154ms/step - loss: 0.0566 - accuracy: 0.9807 - val_loss: 0.0569 - val_accuracy: 0.9847\n",
            "Epoch 57/100\n",
            "74/74 [==============================] - 11s 155ms/step - loss: 0.1074 - accuracy: 0.9677 - val_loss: 0.0747 - val_accuracy: 0.9796\n",
            "Epoch 58/100\n",
            "74/74 [==============================] - 11s 154ms/step - loss: 0.0979 - accuracy: 0.9718 - val_loss: 0.1000 - val_accuracy: 0.9737\n",
            "Epoch 59/100\n",
            "74/74 [==============================] - 11s 154ms/step - loss: 0.0663 - accuracy: 0.9794 - val_loss: 0.0626 - val_accuracy: 0.9839\n",
            "Epoch 60/100\n",
            "74/74 [==============================] - 11s 155ms/step - loss: 0.0534 - accuracy: 0.9834 - val_loss: 0.0581 - val_accuracy: 0.9839\n",
            "Epoch 61/100\n",
            "74/74 [==============================] - 11s 155ms/step - loss: 0.0879 - accuracy: 0.9747 - val_loss: 0.0990 - val_accuracy: 0.9796\n",
            "Epoch 62/100\n",
            "74/74 [==============================] - 11s 154ms/step - loss: 0.1007 - accuracy: 0.9735 - val_loss: 0.0778 - val_accuracy: 0.9771\n",
            "Epoch 63/100\n",
            "74/74 [==============================] - 11s 154ms/step - loss: 0.0901 - accuracy: 0.9745 - val_loss: 0.0409 - val_accuracy: 0.9856\n",
            "Epoch 64/100\n",
            "74/74 [==============================] - 11s 154ms/step - loss: 0.0585 - accuracy: 0.9819 - val_loss: 0.0596 - val_accuracy: 0.9813\n",
            "Epoch 65/100\n",
            "74/74 [==============================] - 11s 155ms/step - loss: 0.0629 - accuracy: 0.9834 - val_loss: 0.0393 - val_accuracy: 0.9907\n",
            "Epoch 66/100\n",
            "74/74 [==============================] - 11s 155ms/step - loss: 0.0577 - accuracy: 0.9822 - val_loss: 0.0837 - val_accuracy: 0.9788\n",
            "Epoch 67/100\n",
            "74/74 [==============================] - 11s 155ms/step - loss: 0.0737 - accuracy: 0.9800 - val_loss: 0.0775 - val_accuracy: 0.9856\n",
            "Epoch 68/100\n",
            "74/74 [==============================] - 11s 154ms/step - loss: 0.0512 - accuracy: 0.9843 - val_loss: 0.0722 - val_accuracy: 0.9813\n",
            "Epoch 69/100\n",
            "74/74 [==============================] - 11s 152ms/step - loss: 0.0518 - accuracy: 0.9853 - val_loss: 0.0588 - val_accuracy: 0.9890\n",
            "Epoch 70/100\n",
            "74/74 [==============================] - 11s 153ms/step - loss: 0.0815 - accuracy: 0.9756 - val_loss: 0.0713 - val_accuracy: 0.9830\n",
            "Epoch 71/100\n",
            "74/74 [==============================] - 11s 154ms/step - loss: 0.0616 - accuracy: 0.9822 - val_loss: 0.0703 - val_accuracy: 0.9839\n",
            "Epoch 72/100\n",
            "74/74 [==============================] - 11s 154ms/step - loss: 0.0480 - accuracy: 0.9847 - val_loss: 0.0656 - val_accuracy: 0.9839\n",
            "Epoch 73/100\n",
            "74/74 [==============================] - 11s 154ms/step - loss: 0.0610 - accuracy: 0.9817 - val_loss: 0.1171 - val_accuracy: 0.9754\n",
            "Epoch 74/100\n",
            "74/74 [==============================] - 11s 154ms/step - loss: 0.0470 - accuracy: 0.9832 - val_loss: 0.0856 - val_accuracy: 0.9796\n",
            "Epoch 75/100\n",
            "74/74 [==============================] - 11s 155ms/step - loss: 0.0549 - accuracy: 0.9832 - val_loss: 0.0744 - val_accuracy: 0.9847\n",
            "Epoch 76/100\n",
            "74/74 [==============================] - 11s 155ms/step - loss: 0.0471 - accuracy: 0.9839 - val_loss: 0.0529 - val_accuracy: 0.9847\n",
            "Epoch 77/100\n",
            "74/74 [==============================] - 11s 154ms/step - loss: 0.0546 - accuracy: 0.9839 - val_loss: 0.0859 - val_accuracy: 0.9822\n",
            "Epoch 78/100\n",
            "74/74 [==============================] - 11s 153ms/step - loss: 0.0991 - accuracy: 0.9730 - val_loss: 0.0902 - val_accuracy: 0.9788\n",
            "Epoch 79/100\n",
            "74/74 [==============================] - 11s 153ms/step - loss: 0.0651 - accuracy: 0.9805 - val_loss: 0.0713 - val_accuracy: 0.9856\n",
            "Epoch 80/100\n",
            "74/74 [==============================] - 11s 153ms/step - loss: 0.0463 - accuracy: 0.9866 - val_loss: 0.0451 - val_accuracy: 0.9873\n",
            "Epoch 81/100\n",
            "74/74 [==============================] - 11s 153ms/step - loss: 0.0404 - accuracy: 0.9870 - val_loss: 0.0769 - val_accuracy: 0.9822\n",
            "Epoch 82/100\n",
            "74/74 [==============================] - 11s 153ms/step - loss: 0.0596 - accuracy: 0.9839 - val_loss: 0.1135 - val_accuracy: 0.9754\n",
            "Epoch 83/100\n",
            "74/74 [==============================] - 11s 153ms/step - loss: 0.0435 - accuracy: 0.9870 - val_loss: 0.0460 - val_accuracy: 0.9890\n",
            "Epoch 84/100\n",
            "74/74 [==============================] - 11s 153ms/step - loss: 0.0352 - accuracy: 0.9898 - val_loss: 0.0669 - val_accuracy: 0.9839\n",
            "Epoch 85/100\n",
            "74/74 [==============================] - 11s 153ms/step - loss: 0.0466 - accuracy: 0.9862 - val_loss: 0.0834 - val_accuracy: 0.9839\n",
            "Epoch 86/100\n",
            "74/74 [==============================] - 11s 153ms/step - loss: 0.0626 - accuracy: 0.9817 - val_loss: 0.0876 - val_accuracy: 0.9847\n",
            "Epoch 87/100\n",
            "74/74 [==============================] - 11s 153ms/step - loss: 0.1017 - accuracy: 0.9743 - val_loss: 0.0932 - val_accuracy: 0.9847\n",
            "Epoch 88/100\n",
            "74/74 [==============================] - 11s 153ms/step - loss: 0.0454 - accuracy: 0.9847 - val_loss: 0.0767 - val_accuracy: 0.9839\n",
            "Epoch 89/100\n",
            "74/74 [==============================] - 11s 154ms/step - loss: 0.0394 - accuracy: 0.9887 - val_loss: 0.0819 - val_accuracy: 0.9830\n",
            "Epoch 90/100\n",
            "74/74 [==============================] - 11s 153ms/step - loss: 0.0418 - accuracy: 0.9873 - val_loss: 0.0587 - val_accuracy: 0.9924\n",
            "Epoch 91/100\n",
            "74/74 [==============================] - 11s 153ms/step - loss: 0.0306 - accuracy: 0.9894 - val_loss: 0.0942 - val_accuracy: 0.9839\n",
            "Epoch 92/100\n",
            "74/74 [==============================] - 11s 153ms/step - loss: 0.0760 - accuracy: 0.9830 - val_loss: 0.0603 - val_accuracy: 0.9822\n",
            "Epoch 93/100\n",
            "74/74 [==============================] - 11s 154ms/step - loss: 0.0639 - accuracy: 0.9811 - val_loss: 0.0849 - val_accuracy: 0.9864\n",
            "Epoch 94/100\n",
            "74/74 [==============================] - 11s 154ms/step - loss: 0.0535 - accuracy: 0.9845 - val_loss: 0.0506 - val_accuracy: 0.9847\n",
            "Epoch 95/100\n",
            "74/74 [==============================] - 11s 155ms/step - loss: 0.0624 - accuracy: 0.9822 - val_loss: 0.0992 - val_accuracy: 0.9813\n",
            "Epoch 96/100\n",
            "74/74 [==============================] - 11s 155ms/step - loss: 0.0638 - accuracy: 0.9843 - val_loss: 0.0717 - val_accuracy: 0.9839\n",
            "Epoch 97/100\n",
            "74/74 [==============================] - 11s 155ms/step - loss: 0.0448 - accuracy: 0.9870 - val_loss: 0.0934 - val_accuracy: 0.9864\n",
            "Epoch 98/100\n",
            "74/74 [==============================] - 11s 154ms/step - loss: 0.0304 - accuracy: 0.9896 - val_loss: 0.0665 - val_accuracy: 0.9890\n",
            "Epoch 99/100\n",
            "74/74 [==============================] - 11s 154ms/step - loss: 0.0386 - accuracy: 0.9894 - val_loss: 0.0486 - val_accuracy: 0.9873\n",
            "Epoch 100/100\n",
            "74/74 [==============================] - 11s 154ms/step - loss: 0.0555 - accuracy: 0.9856 - val_loss: 0.0586 - val_accuracy: 0.9924\n"
          ]
        },
        {
          "output_type": "execute_result",
          "data": {
            "text/plain": [
              "<keras.callbacks.History at 0x7ff960230f90>"
            ]
          },
          "metadata": {},
          "execution_count": 16
        }
      ]
    },
    {
      "cell_type": "code",
      "metadata": {
        "id": "tDm9asveoZ6J",
        "colab": {
          "base_uri": "https://localhost:8080/"
        },
        "outputId": "9368ae4a-ce58-4d62-b56a-6db129498fb2"
      },
      "source": [
        "predictions = []\n",
        "for test_image in tqdm(test_images, total = len(test_images)) : \n",
        "    prediction = np.mean(model.predict(np.array(test_image)), axis = 0)\n",
        "    predictions.append(prediction)\n",
        "\n",
        "sample_submission.iloc[:,1:] = predictions\n",
        "sample_submission.to_csv('./Baseline_DenseNet169_BS64EP50.csv', index=False)"
      ],
      "execution_count": 17,
      "outputs": [
        {
          "output_type": "stream",
          "name": "stderr",
          "text": [
            "100%|██████████| 217/217 [00:21<00:00, 10.26it/s]\n"
          ]
        }
      ]
    },
    {
      "cell_type": "code",
      "metadata": {
        "colab": {
          "base_uri": "https://localhost:8080/",
          "height": 17
        },
        "id": "ldQ0RAmk4ipR",
        "outputId": "4747a4f3-85ab-4088-b083-6763f726daf7"
      },
      "source": [
        "from google.colab import files\n",
        "files.download('./Baseline_DenseNet169_BS64EP50.csv')"
      ],
      "execution_count": 18,
      "outputs": [
        {
          "output_type": "display_data",
          "data": {
            "application/javascript": [
              "\n",
              "    async function download(id, filename, size) {\n",
              "      if (!google.colab.kernel.accessAllowed) {\n",
              "        return;\n",
              "      }\n",
              "      const div = document.createElement('div');\n",
              "      const label = document.createElement('label');\n",
              "      label.textContent = `Downloading \"${filename}\": `;\n",
              "      div.appendChild(label);\n",
              "      const progress = document.createElement('progress');\n",
              "      progress.max = size;\n",
              "      div.appendChild(progress);\n",
              "      document.body.appendChild(div);\n",
              "\n",
              "      const buffers = [];\n",
              "      let downloaded = 0;\n",
              "\n",
              "      const channel = await google.colab.kernel.comms.open(id);\n",
              "      // Send a message to notify the kernel that we're ready.\n",
              "      channel.send({})\n",
              "\n",
              "      for await (const message of channel.messages) {\n",
              "        // Send a message to notify the kernel that we're ready.\n",
              "        channel.send({})\n",
              "        if (message.buffers) {\n",
              "          for (const buffer of message.buffers) {\n",
              "            buffers.push(buffer);\n",
              "            downloaded += buffer.byteLength;\n",
              "            progress.value = downloaded;\n",
              "          }\n",
              "        }\n",
              "      }\n",
              "      const blob = new Blob(buffers, {type: 'application/binary'});\n",
              "      const a = document.createElement('a');\n",
              "      a.href = window.URL.createObjectURL(blob);\n",
              "      a.download = filename;\n",
              "      div.appendChild(a);\n",
              "      a.click();\n",
              "      div.remove();\n",
              "    }\n",
              "  "
            ],
            "text/plain": [
              "<IPython.core.display.Javascript object>"
            ]
          },
          "metadata": {}
        },
        {
          "output_type": "display_data",
          "data": {
            "application/javascript": [
              "download(\"download_532f0c67-4416-45ae-86fc-4a9ce96c1689\", \"Baseline_DenseNet169_BS64EP50.csv\", 762928)"
            ],
            "text/plain": [
              "<IPython.core.display.Javascript object>"
            ]
          },
          "metadata": {}
        }
      ]
    }
  ]
}