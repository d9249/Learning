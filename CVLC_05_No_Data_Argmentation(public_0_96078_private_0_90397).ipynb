{
  "nbformat": 4,
  "nbformat_minor": 0,
  "metadata": {
    "colab": {
      "name": "CVLC_05_No Data Argmentation(public_0.96078-private_0.90397).ipynb",
      "provenance": [],
      "collapsed_sections": [],
      "machine_shape": "hm",
      "include_colab_link": true
    },
    "kernelspec": {
      "name": "python3",
      "display_name": "Python 3"
    },
    "accelerator": "GPU"
  },
  "cells": [
    {
      "cell_type": "markdown",
      "metadata": {
        "id": "view-in-github",
        "colab_type": "text"
      },
      "source": [
        "<a href=\"https://colab.research.google.com/github/d9249/DACON/blob/main/CVLC_05_No_Data_Argmentation(public_0_96078_private_0_90397).ipynb\" target=\"_parent\"><img src=\"https://colab.research.google.com/assets/colab-badge.svg\" alt=\"Open In Colab\"/></a>"
      ]
    },
    {
      "cell_type": "code",
      "metadata": {
        "id": "LmEaPJckuX-D",
        "colab": {
          "base_uri": "https://localhost:8080/"
        },
        "outputId": "ea113c0b-834d-496f-fd66-9b61d3a0ce09"
      },
      "source": [
        "from google.colab import drive\n",
        "drive.mount('/content/drive')"
      ],
      "execution_count": 1,
      "outputs": [
        {
          "output_type": "stream",
          "text": [
            "Mounted at /content/drive\n"
          ],
          "name": "stdout"
        }
      ]
    },
    {
      "cell_type": "code",
      "metadata": {
        "id": "742aRTq7uC_D"
      },
      "source": [
        "import pandas as pd\n",
        "import numpy as np\n",
        "import matplotlib.pyplot as plt\n",
        "import warnings \n",
        "warnings.filterwarnings('ignore')\n",
        "import tensorflow as tf\n",
        "from tensorflow.keras import Sequential\n",
        "from keras.layers.convolutional import Conv2D\n",
        "from keras.layers import Dense\n",
        "from keras.layers.convolutional import MaxPooling2D\n",
        "from keras.layers import Flatten\n",
        "from tensorflow.keras.layers import BatchNormalization\n",
        "from keras.layers import Activation, Dense\n",
        "from keras.layers import Dropout\n",
        "from tensorflow.keras.optimizers import Adam\n",
        "from tensorflow.keras.utils import to_categorical"
      ],
      "execution_count": 18,
      "outputs": []
    },
    {
      "cell_type": "code",
      "metadata": {
        "id": "88GAtllsufPj"
      },
      "source": [
        "train = pd.read_csv('/content/drive/MyDrive/DACON_CVLC/data/train.csv')\n",
        "test = pd.read_csv('/content/drive/MyDrive/DACON_CVLC/data/test.csv')\n",
        "sub = pd.read_csv('/content/drive/MyDrive/DACON_CVLC/data/submission.csv')"
      ],
      "execution_count": 3,
      "outputs": []
    },
    {
      "cell_type": "code",
      "metadata": {
        "id": "dDXCBS3aviCs"
      },
      "source": [
        "# drop columns\n",
        "x_train = train.drop(['id','digit','letter'],1)\n",
        "x_train = x_train.values"
      ],
      "execution_count": 4,
      "outputs": []
    },
    {
      "cell_type": "code",
      "metadata": {
        "id": "QnuBxHdPwSBb"
      },
      "source": [
        "# reshape\n",
        "x_train = x_train.reshape(-1,28,28,1)"
      ],
      "execution_count": 5,
      "outputs": []
    },
    {
      "cell_type": "code",
      "metadata": {
        "id": "h4XLGVeXwY8b"
      },
      "source": [
        "# 정규화\n",
        "x_train = x_train/255"
      ],
      "execution_count": 6,
      "outputs": []
    },
    {
      "cell_type": "code",
      "metadata": {
        "id": "ytP23B6ywaVD"
      },
      "source": [
        "# one hot encoder\n",
        "def one_hot_encoder(x):\n",
        "    y = np.zeros((len(x), len(np.unique(x))))  # 모든 값이 0인 백터\n",
        "    for i, num in enumerate(x):\n",
        "        y[i][num] = 1  # Label에 해당하는 인덱스에 1을 입력\n",
        "    return y"
      ],
      "execution_count": 7,
      "outputs": []
    },
    {
      "cell_type": "code",
      "metadata": {
        "id": "W-53igZvwe0T"
      },
      "source": [
        "y_train = one_hot_encoder(train['digit'])"
      ],
      "execution_count": 8,
      "outputs": []
    },
    {
      "cell_type": "code",
      "metadata": {
        "id": "yOWG2PbUEnay"
      },
      "source": [
        "from tensorflow.keras.preprocessing.image import ImageDataGenerator\n",
        "idg = ImageDataGenerator(height_shift_range=(-1,1), width_shift_range=(-1,1))"
      ],
      "execution_count": 9,
      "outputs": []
    },
    {
      "cell_type": "code",
      "metadata": {
        "id": "NBZlXaJvETTA"
      },
      "source": [
        "def create_cnn_model(x_train):\n",
        "    inputs = tf.keras.layers.Input(x_train.shape[1:])\n",
        "    # add로 모델을 점진적으로 추가하기 위한 함수.\n",
        "    model = Sequential()\n",
        "    \n",
        "    model.add(Conv2D(16,(3,3),activation='relu',input_shape=(28,28,1),padding='same'))\n",
        "    model.add(BatchNormalization())\n",
        "    model.add(Dropout(0.3))\n",
        "    \n",
        "    model.add(Conv2D(32,(3,3),activation='relu',padding='same'))\n",
        "    model.add(BatchNormalization())\n",
        "    model.add(Conv2D(32,(5,5),activation='relu',padding='same')) \n",
        "    model.add(BatchNormalization())\n",
        "    model.add(Conv2D(32,(5,5),activation='relu',padding='same'))\n",
        "    model.add(BatchNormalization())\n",
        "    model.add(Conv2D(32,(5,5),activation='relu',padding='same'))\n",
        "    model.add(BatchNormalization())\n",
        "    model.add(MaxPooling2D((3,3)))\n",
        "    model.add(Dropout(0.3))\n",
        "    \n",
        "    model.add(Conv2D(64,(3,3),activation='relu',padding='same'))\n",
        "    model.add(BatchNormalization())\n",
        "    model.add(Conv2D(64,(5,5),activation='relu',padding='same')) \n",
        "    model.add(BatchNormalization())\n",
        "    model.add(MaxPooling2D((3,3)))\n",
        "    model.add(Dropout(0.3))\n",
        "    \n",
        "    model.add(Flatten())\n",
        "\n",
        "    model.add(Dense(128,activation='relu'))\n",
        "    model.add(BatchNormalization())\n",
        "    model.add(Dropout(0.3))\n",
        "    model.add(Dense(64,activation='relu'))\n",
        "    model.add(BatchNormalization())\n",
        "    model.add(Dropout(0.3))\n",
        "\n",
        "    model.add(Dense(10,activation='softmax'))\n",
        "\n",
        "    return model"
      ],
      "execution_count": 10,
      "outputs": []
    },
    {
      "cell_type": "code",
      "metadata": {
        "id": "Y88ID-UMwoRL"
      },
      "source": [
        "# 모델만들기\n",
        "model = create_cnn_model(x_train)"
      ],
      "execution_count": 11,
      "outputs": []
    },
    {
      "cell_type": "code",
      "metadata": {
        "id": "DlkGiNEjxNmb"
      },
      "source": [
        "model.compile(loss='categorical_crossentropy', optimizer=Adam(lr=0.002,epsilon=None), metrics=['accuracy'])"
      ],
      "execution_count": 22,
      "outputs": []
    },
    {
      "cell_type": "code",
      "metadata": {
        "colab": {
          "base_uri": "https://localhost:8080/"
        },
        "id": "8j0z40CXxSXj",
        "outputId": "ee344965-7d6c-4a1c-90ff-e2c762a53f89"
      },
      "source": [
        "model.fit(x_train, y_train, epochs=100)"
      ],
      "execution_count": 23,
      "outputs": [
        {
          "output_type": "stream",
          "text": [
            "Epoch 1/100\n",
            "64/64 [==============================] - 17s 8ms/step - loss: 2.8055 - accuracy: 0.1260\n",
            "Epoch 2/100\n",
            "64/64 [==============================] - 0s 8ms/step - loss: 2.1609 - accuracy: 0.2378\n",
            "Epoch 3/100\n",
            "64/64 [==============================] - 0s 7ms/step - loss: 1.7915 - accuracy: 0.3701\n",
            "Epoch 4/100\n",
            "64/64 [==============================] - 0s 8ms/step - loss: 1.5081 - accuracy: 0.4746\n",
            "Epoch 5/100\n",
            "64/64 [==============================] - 1s 8ms/step - loss: 1.2312 - accuracy: 0.5796\n",
            "Epoch 6/100\n",
            "64/64 [==============================] - 0s 7ms/step - loss: 1.0163 - accuracy: 0.6567\n",
            "Epoch 7/100\n",
            "64/64 [==============================] - 0s 8ms/step - loss: 0.8851 - accuracy: 0.7075\n",
            "Epoch 8/100\n",
            "64/64 [==============================] - 0s 8ms/step - loss: 0.8005 - accuracy: 0.7300\n",
            "Epoch 9/100\n",
            "64/64 [==============================] - 0s 8ms/step - loss: 0.7063 - accuracy: 0.7607\n",
            "Epoch 10/100\n",
            "64/64 [==============================] - 0s 7ms/step - loss: 0.6357 - accuracy: 0.7866\n",
            "Epoch 11/100\n",
            "64/64 [==============================] - 0s 8ms/step - loss: 0.6058 - accuracy: 0.8062\n",
            "Epoch 12/100\n",
            "64/64 [==============================] - 0s 8ms/step - loss: 0.5273 - accuracy: 0.8384\n",
            "Epoch 13/100\n",
            "64/64 [==============================] - 0s 8ms/step - loss: 0.4947 - accuracy: 0.8315\n",
            "Epoch 14/100\n",
            "64/64 [==============================] - 0s 8ms/step - loss: 0.4946 - accuracy: 0.8433\n",
            "Epoch 15/100\n",
            "64/64 [==============================] - 0s 8ms/step - loss: 0.4392 - accuracy: 0.8535\n",
            "Epoch 16/100\n",
            "64/64 [==============================] - 0s 8ms/step - loss: 0.4266 - accuracy: 0.8662\n",
            "Epoch 17/100\n",
            "64/64 [==============================] - 0s 8ms/step - loss: 0.3866 - accuracy: 0.8687\n",
            "Epoch 18/100\n",
            "64/64 [==============================] - 0s 8ms/step - loss: 0.3912 - accuracy: 0.8730\n",
            "Epoch 19/100\n",
            "64/64 [==============================] - 0s 8ms/step - loss: 0.3809 - accuracy: 0.8799\n",
            "Epoch 20/100\n",
            "64/64 [==============================] - 0s 8ms/step - loss: 0.3369 - accuracy: 0.8848\n",
            "Epoch 21/100\n",
            "64/64 [==============================] - 0s 7ms/step - loss: 0.3154 - accuracy: 0.8882\n",
            "Epoch 22/100\n",
            "64/64 [==============================] - 0s 8ms/step - loss: 0.2991 - accuracy: 0.9043\n",
            "Epoch 23/100\n",
            "64/64 [==============================] - 0s 8ms/step - loss: 0.3010 - accuracy: 0.8994\n",
            "Epoch 24/100\n",
            "64/64 [==============================] - 1s 8ms/step - loss: 0.2604 - accuracy: 0.9062\n",
            "Epoch 25/100\n",
            "64/64 [==============================] - 0s 7ms/step - loss: 0.2771 - accuracy: 0.9082\n",
            "Epoch 26/100\n",
            "64/64 [==============================] - 0s 8ms/step - loss: 0.2645 - accuracy: 0.9146\n",
            "Epoch 27/100\n",
            "64/64 [==============================] - 0s 8ms/step - loss: 0.2560 - accuracy: 0.9150\n",
            "Epoch 28/100\n",
            "64/64 [==============================] - 1s 8ms/step - loss: 0.2325 - accuracy: 0.9165\n",
            "Epoch 29/100\n",
            "64/64 [==============================] - 0s 8ms/step - loss: 0.2209 - accuracy: 0.9277\n",
            "Epoch 30/100\n",
            "64/64 [==============================] - 0s 8ms/step - loss: 0.2259 - accuracy: 0.9277\n",
            "Epoch 31/100\n",
            "64/64 [==============================] - 0s 8ms/step - loss: 0.2346 - accuracy: 0.9248\n",
            "Epoch 32/100\n",
            "64/64 [==============================] - 0s 8ms/step - loss: 0.2020 - accuracy: 0.9312\n",
            "Epoch 33/100\n",
            "64/64 [==============================] - 0s 8ms/step - loss: 0.1943 - accuracy: 0.9385\n",
            "Epoch 34/100\n",
            "64/64 [==============================] - 0s 8ms/step - loss: 0.1766 - accuracy: 0.9370\n",
            "Epoch 35/100\n",
            "64/64 [==============================] - 0s 8ms/step - loss: 0.1548 - accuracy: 0.9502\n",
            "Epoch 36/100\n",
            "64/64 [==============================] - 0s 8ms/step - loss: 0.1532 - accuracy: 0.9507\n",
            "Epoch 37/100\n",
            "64/64 [==============================] - 0s 8ms/step - loss: 0.1641 - accuracy: 0.9448\n",
            "Epoch 38/100\n",
            "64/64 [==============================] - 0s 8ms/step - loss: 0.1292 - accuracy: 0.9556\n",
            "Epoch 39/100\n",
            "64/64 [==============================] - 0s 8ms/step - loss: 0.2184 - accuracy: 0.9282\n",
            "Epoch 40/100\n",
            "64/64 [==============================] - 0s 8ms/step - loss: 0.2188 - accuracy: 0.9307\n",
            "Epoch 41/100\n",
            "64/64 [==============================] - 0s 8ms/step - loss: 0.1401 - accuracy: 0.9541\n",
            "Epoch 42/100\n",
            "64/64 [==============================] - 0s 8ms/step - loss: 0.1287 - accuracy: 0.9561\n",
            "Epoch 43/100\n",
            "64/64 [==============================] - 1s 8ms/step - loss: 0.1343 - accuracy: 0.9517\n",
            "Epoch 44/100\n",
            "64/64 [==============================] - 0s 8ms/step - loss: 0.1519 - accuracy: 0.9521\n",
            "Epoch 45/100\n",
            "64/64 [==============================] - 0s 8ms/step - loss: 0.1501 - accuracy: 0.9487\n",
            "Epoch 46/100\n",
            "64/64 [==============================] - 1s 8ms/step - loss: 0.1203 - accuracy: 0.9590\n",
            "Epoch 47/100\n",
            "64/64 [==============================] - 1s 8ms/step - loss: 0.1354 - accuracy: 0.9521\n",
            "Epoch 48/100\n",
            "64/64 [==============================] - 1s 8ms/step - loss: 0.1202 - accuracy: 0.9619\n",
            "Epoch 49/100\n",
            "64/64 [==============================] - 1s 8ms/step - loss: 0.1212 - accuracy: 0.9624\n",
            "Epoch 50/100\n",
            "64/64 [==============================] - 1s 8ms/step - loss: 0.0950 - accuracy: 0.9702\n",
            "Epoch 51/100\n",
            "64/64 [==============================] - 0s 8ms/step - loss: 0.0849 - accuracy: 0.9736\n",
            "Epoch 52/100\n",
            "64/64 [==============================] - 0s 8ms/step - loss: 0.0822 - accuracy: 0.9727\n",
            "Epoch 53/100\n",
            "64/64 [==============================] - 0s 8ms/step - loss: 0.0974 - accuracy: 0.9658\n",
            "Epoch 54/100\n",
            "64/64 [==============================] - 1s 8ms/step - loss: 0.1187 - accuracy: 0.9600\n",
            "Epoch 55/100\n",
            "64/64 [==============================] - 0s 8ms/step - loss: 0.1625 - accuracy: 0.9497\n",
            "Epoch 56/100\n",
            "64/64 [==============================] - 0s 8ms/step - loss: 0.1306 - accuracy: 0.9580\n",
            "Epoch 57/100\n",
            "64/64 [==============================] - 0s 8ms/step - loss: 0.1225 - accuracy: 0.9580\n",
            "Epoch 58/100\n",
            "64/64 [==============================] - 0s 8ms/step - loss: 0.1055 - accuracy: 0.9653\n",
            "Epoch 59/100\n",
            "64/64 [==============================] - 1s 8ms/step - loss: 0.1079 - accuracy: 0.9629\n",
            "Epoch 60/100\n",
            "64/64 [==============================] - 0s 7ms/step - loss: 0.0912 - accuracy: 0.9668\n",
            "Epoch 61/100\n",
            "64/64 [==============================] - 0s 8ms/step - loss: 0.0997 - accuracy: 0.9668\n",
            "Epoch 62/100\n",
            "64/64 [==============================] - 0s 8ms/step - loss: 0.0867 - accuracy: 0.9697\n",
            "Epoch 63/100\n",
            "64/64 [==============================] - 0s 8ms/step - loss: 0.1124 - accuracy: 0.9619\n",
            "Epoch 64/100\n",
            "64/64 [==============================] - 0s 7ms/step - loss: 0.0964 - accuracy: 0.9697\n",
            "Epoch 65/100\n",
            "64/64 [==============================] - 0s 7ms/step - loss: 0.0837 - accuracy: 0.9727\n",
            "Epoch 66/100\n",
            "64/64 [==============================] - 0s 8ms/step - loss: 0.0738 - accuracy: 0.9780\n",
            "Epoch 67/100\n",
            "64/64 [==============================] - 0s 8ms/step - loss: 0.0718 - accuracy: 0.9756\n",
            "Epoch 68/100\n",
            "64/64 [==============================] - 0s 8ms/step - loss: 0.0591 - accuracy: 0.9814\n",
            "Epoch 69/100\n",
            "64/64 [==============================] - 0s 7ms/step - loss: 0.0448 - accuracy: 0.9834\n",
            "Epoch 70/100\n",
            "64/64 [==============================] - 0s 8ms/step - loss: 0.0772 - accuracy: 0.9790\n",
            "Epoch 71/100\n",
            "64/64 [==============================] - 1s 8ms/step - loss: 0.0871 - accuracy: 0.9736\n",
            "Epoch 72/100\n",
            "64/64 [==============================] - 0s 8ms/step - loss: 0.0725 - accuracy: 0.9761\n",
            "Epoch 73/100\n",
            "64/64 [==============================] - 0s 8ms/step - loss: 0.1004 - accuracy: 0.9688\n",
            "Epoch 74/100\n",
            "64/64 [==============================] - 0s 8ms/step - loss: 0.0865 - accuracy: 0.9741\n",
            "Epoch 75/100\n",
            "64/64 [==============================] - 1s 8ms/step - loss: 0.0869 - accuracy: 0.9751\n",
            "Epoch 76/100\n",
            "64/64 [==============================] - 0s 8ms/step - loss: 0.0733 - accuracy: 0.9800\n",
            "Epoch 77/100\n",
            "64/64 [==============================] - 1s 8ms/step - loss: 0.0700 - accuracy: 0.9785\n",
            "Epoch 78/100\n",
            "64/64 [==============================] - 0s 8ms/step - loss: 0.0970 - accuracy: 0.9658\n",
            "Epoch 79/100\n",
            "64/64 [==============================] - 0s 8ms/step - loss: 0.0803 - accuracy: 0.9717\n",
            "Epoch 80/100\n",
            "64/64 [==============================] - 0s 8ms/step - loss: 0.0893 - accuracy: 0.9712\n",
            "Epoch 81/100\n",
            "64/64 [==============================] - 1s 8ms/step - loss: 0.1011 - accuracy: 0.9727\n",
            "Epoch 82/100\n",
            "64/64 [==============================] - 0s 8ms/step - loss: 0.1011 - accuracy: 0.9653\n",
            "Epoch 83/100\n",
            "64/64 [==============================] - 0s 8ms/step - loss: 0.0754 - accuracy: 0.9761\n",
            "Epoch 84/100\n",
            "64/64 [==============================] - 0s 8ms/step - loss: 0.0825 - accuracy: 0.9756\n",
            "Epoch 85/100\n",
            "64/64 [==============================] - 0s 8ms/step - loss: 0.0630 - accuracy: 0.9766\n",
            "Epoch 86/100\n",
            "64/64 [==============================] - 0s 8ms/step - loss: 0.0844 - accuracy: 0.9731\n",
            "Epoch 87/100\n",
            "64/64 [==============================] - 0s 8ms/step - loss: 0.0855 - accuracy: 0.9707\n",
            "Epoch 88/100\n",
            "64/64 [==============================] - 0s 8ms/step - loss: 0.0629 - accuracy: 0.9775\n",
            "Epoch 89/100\n",
            "64/64 [==============================] - 0s 8ms/step - loss: 0.0831 - accuracy: 0.9756\n",
            "Epoch 90/100\n",
            "64/64 [==============================] - 0s 8ms/step - loss: 0.0686 - accuracy: 0.9780\n",
            "Epoch 91/100\n",
            "64/64 [==============================] - 0s 8ms/step - loss: 0.0688 - accuracy: 0.9810\n",
            "Epoch 92/100\n",
            "64/64 [==============================] - 0s 7ms/step - loss: 0.0426 - accuracy: 0.9883\n",
            "Epoch 93/100\n",
            "64/64 [==============================] - 0s 8ms/step - loss: 0.0425 - accuracy: 0.9873\n",
            "Epoch 94/100\n",
            "64/64 [==============================] - 0s 8ms/step - loss: 0.0660 - accuracy: 0.9775\n",
            "Epoch 95/100\n",
            "64/64 [==============================] - 0s 8ms/step - loss: 0.0638 - accuracy: 0.9746\n",
            "Epoch 96/100\n",
            "64/64 [==============================] - 0s 8ms/step - loss: 0.0612 - accuracy: 0.9810\n",
            "Epoch 97/100\n",
            "64/64 [==============================] - 0s 8ms/step - loss: 0.0852 - accuracy: 0.9727\n",
            "Epoch 98/100\n",
            "64/64 [==============================] - 0s 8ms/step - loss: 0.0504 - accuracy: 0.9849\n",
            "Epoch 99/100\n",
            "64/64 [==============================] - 1s 8ms/step - loss: 0.0493 - accuracy: 0.9849\n",
            "Epoch 100/100\n",
            "64/64 [==============================] - 0s 8ms/step - loss: 0.0541 - accuracy: 0.9834\n"
          ],
          "name": "stdout"
        },
        {
          "output_type": "execute_result",
          "data": {
            "text/plain": [
              "<tensorflow.python.keras.callbacks.History at 0x7f4d80057f50>"
            ]
          },
          "metadata": {
            "tags": []
          },
          "execution_count": 23
        }
      ]
    },
    {
      "cell_type": "code",
      "metadata": {
        "colab": {
          "base_uri": "https://localhost:8080/"
        },
        "id": "ul79yhhSK7oB",
        "outputId": "ccbbeea9-9fa3-4dde-ce91-e1a46ad2b56f"
      },
      "source": [
        "model.summary()"
      ],
      "execution_count": 28,
      "outputs": [
        {
          "output_type": "stream",
          "text": [
            "Model: \"sequential\"\n",
            "_________________________________________________________________\n",
            "Layer (type)                 Output Shape              Param #   \n",
            "=================================================================\n",
            "module_wrapper (ModuleWrappe (32, 28, 28, 16)          160       \n",
            "_________________________________________________________________\n",
            "batch_normalization (BatchNo (32, 28, 28, 16)          64        \n",
            "_________________________________________________________________\n",
            "module_wrapper_1 (ModuleWrap (32, 28, 28, 16)          0         \n",
            "_________________________________________________________________\n",
            "module_wrapper_2 (ModuleWrap (32, 28, 28, 32)          4640      \n",
            "_________________________________________________________________\n",
            "batch_normalization_1 (Batch (32, 28, 28, 32)          128       \n",
            "_________________________________________________________________\n",
            "module_wrapper_3 (ModuleWrap (32, 28, 28, 32)          25632     \n",
            "_________________________________________________________________\n",
            "batch_normalization_2 (Batch (32, 28, 28, 32)          128       \n",
            "_________________________________________________________________\n",
            "module_wrapper_4 (ModuleWrap (32, 28, 28, 32)          25632     \n",
            "_________________________________________________________________\n",
            "batch_normalization_3 (Batch (32, 28, 28, 32)          128       \n",
            "_________________________________________________________________\n",
            "module_wrapper_5 (ModuleWrap (32, 28, 28, 32)          25632     \n",
            "_________________________________________________________________\n",
            "batch_normalization_4 (Batch (32, 28, 28, 32)          128       \n",
            "_________________________________________________________________\n",
            "module_wrapper_6 (ModuleWrap (32, 9, 9, 32)            0         \n",
            "_________________________________________________________________\n",
            "module_wrapper_7 (ModuleWrap (32, 9, 9, 32)            0         \n",
            "_________________________________________________________________\n",
            "module_wrapper_8 (ModuleWrap (32, 9, 9, 64)            18496     \n",
            "_________________________________________________________________\n",
            "batch_normalization_5 (Batch (32, 9, 9, 64)            256       \n",
            "_________________________________________________________________\n",
            "module_wrapper_9 (ModuleWrap (32, 9, 9, 64)            102464    \n",
            "_________________________________________________________________\n",
            "batch_normalization_6 (Batch (32, 9, 9, 64)            256       \n",
            "_________________________________________________________________\n",
            "module_wrapper_10 (ModuleWra (32, 3, 3, 64)            0         \n",
            "_________________________________________________________________\n",
            "module_wrapper_11 (ModuleWra (32, 3, 3, 64)            0         \n",
            "_________________________________________________________________\n",
            "module_wrapper_12 (ModuleWra (32, 576)                 0         \n",
            "_________________________________________________________________\n",
            "module_wrapper_13 (ModuleWra (32, 128)                 73856     \n",
            "_________________________________________________________________\n",
            "batch_normalization_7 (Batch (32, 128)                 512       \n",
            "_________________________________________________________________\n",
            "module_wrapper_14 (ModuleWra (32, 128)                 0         \n",
            "_________________________________________________________________\n",
            "module_wrapper_15 (ModuleWra (32, 64)                  8256      \n",
            "_________________________________________________________________\n",
            "batch_normalization_8 (Batch (32, 64)                  256       \n",
            "_________________________________________________________________\n",
            "module_wrapper_16 (ModuleWra (32, 64)                  0         \n",
            "_________________________________________________________________\n",
            "module_wrapper_17 (ModuleWra (32, 10)                  650       \n",
            "=================================================================\n",
            "Total params: 287,274\n",
            "Trainable params: 286,346\n",
            "Non-trainable params: 928\n",
            "_________________________________________________________________\n"
          ],
          "name": "stdout"
        }
      ]
    },
    {
      "cell_type": "code",
      "metadata": {
        "colab": {
          "base_uri": "https://localhost:8080/",
          "height": 265
        },
        "id": "juikb2mj5w-o",
        "outputId": "49f35f81-3167-41ae-8116-40da35c18bc1"
      },
      "source": [
        "import matplotlib.pyplot as plt\n",
        "\n",
        "plt.plot(model.history.history[\"accuracy\"], label='model_acc')\n",
        "plt.legend()\n",
        "plt.show()"
      ],
      "execution_count": 24,
      "outputs": [
        {
          "output_type": "display_data",
          "data": {
            "image/png": "[encoded data removed]",
            "text/plain": [
              "<Figure size 432x288 with 1 Axes>"
            ]
          },
          "metadata": {
            "tags": [],
            "needs_background": "light"
          }
        }
      ]
    },
    {
      "cell_type": "code",
      "metadata": {
        "id": "GEQGTle1xdE6"
      },
      "source": [
        "x_test = test.drop(['id', 'letter'], axis=1).values\n",
        "x_test = x_test.reshape(-1, 28, 28, 1)\n",
        "x_test = x_test/255"
      ],
      "execution_count": 25,
      "outputs": []
    },
    {
      "cell_type": "code",
      "metadata": {
        "colab": {
          "base_uri": "https://localhost:8080/",
          "height": 204
        },
        "id": "hLb6SW4G2rAb",
        "outputId": "fce1500e-68c5-46e1-8fed-d2ebb99db563"
      },
      "source": [
        "# 적용\n",
        "sub['digit'] = np.argmax(model.predict(x_test), axis=1)\n",
        "sub.head()"
      ],
      "execution_count": 26,
      "outputs": [
        {
          "output_type": "execute_result",
          "data": {
            "text/html": [
              "<div>\n",
              "<style scoped>\n",
              "    .dataframe tbody tr th:only-of-type {\n",
              "        vertical-align: middle;\n",
              "    }\n",
              "\n",
              "    .dataframe tbody tr th {\n",
              "        vertical-align: top;\n",
              "    }\n",
              "\n",
              "    .dataframe thead th {\n",
              "        text-align: right;\n",
              "    }\n",
              "</style>\n",
              "<table border=\"1\" class=\"dataframe\">\n",
              "  <thead>\n",
              "    <tr style=\"text-align: right;\">\n",
              "      <th></th>\n",
              "      <th>id</th>\n",
              "      <th>digit</th>\n",
              "    </tr>\n",
              "  </thead>\n",
              "  <tbody>\n",
              "    <tr>\n",
              "      <th>0</th>\n",
              "      <td>2049</td>\n",
              "      <td>6</td>\n",
              "    </tr>\n",
              "    <tr>\n",
              "      <th>1</th>\n",
              "      <td>2050</td>\n",
              "      <td>9</td>\n",
              "    </tr>\n",
              "    <tr>\n",
              "      <th>2</th>\n",
              "      <td>2051</td>\n",
              "      <td>8</td>\n",
              "    </tr>\n",
              "    <tr>\n",
              "      <th>3</th>\n",
              "      <td>2052</td>\n",
              "      <td>0</td>\n",
              "    </tr>\n",
              "    <tr>\n",
              "      <th>4</th>\n",
              "      <td>2053</td>\n",
              "      <td>3</td>\n",
              "    </tr>\n",
              "  </tbody>\n",
              "</table>\n",
              "</div>"
            ],
            "text/plain": [
              "     id  digit\n",
              "0  2049      6\n",
              "1  2050      9\n",
              "2  2051      8\n",
              "3  2052      0\n",
              "4  2053      3"
            ]
          },
          "metadata": {
            "tags": []
          },
          "execution_count": 26
        }
      ]
    },
    {
      "cell_type": "code",
      "metadata": {
        "id": "4ByvzIOl2yC6"
      },
      "source": [
        "# 파일저장\n",
        "sub.to_csv('baseline.csv', index=False)"
      ],
      "execution_count": 27,
      "outputs": []
    }
  ]
}