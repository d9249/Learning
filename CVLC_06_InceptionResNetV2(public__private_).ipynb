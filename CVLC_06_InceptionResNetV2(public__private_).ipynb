{
  "nbformat": 4,
  "nbformat_minor": 0,
  "metadata": {
    "colab": {
      "name": "CVLC_06_InceptionResNetV2(public_-private_).ipynb",
      "provenance": [],
      "collapsed_sections": [],
      "machine_shape": "hm",
      "include_colab_link": true
    },
    "kernelspec": {
      "name": "python3",
      "display_name": "Python 3"
    },
    "accelerator": "GPU"
  },
  "cells": [
    {
      "cell_type": "markdown",
      "metadata": {
        "id": "view-in-github",
        "colab_type": "text"
      },
      "source": [
        "<a href=\"https://colab.research.google.com/github/d9249/DACON/blob/main/CVLC_06_InceptionResNetV2(public__private_).ipynb\" target=\"_parent\"><img src=\"https://colab.research.google.com/assets/colab-badge.svg\" alt=\"Open In Colab\"/></a>"
      ]
    },
    {
      "cell_type": "code",
      "metadata": {
        "id": "LmEaPJckuX-D"
      },
      "source": [
        "from google.colab import drive\n",
        "drive.mount('/content/drive')"
      ],
      "execution_count": null,
      "outputs": []
    },
    {
      "cell_type": "code",
      "metadata": {
        "id": "88GAtllsufPj"
      },
      "source": [
        "train = pd.read_csv('/content/drive/MyDrive/DACON_CVLC/data/train.csv')\n",
        "test = pd.read_csv('/content/drive/MyDrive/DACON_CVLC/data/test.csv')\n",
        "sub = pd.read_csv('/content/drive/MyDrive/DACON_CVLC/data/submission.csv')"
      ],
      "execution_count": 105,
      "outputs": []
    },
    {
      "cell_type": "code",
      "metadata": {
        "id": "jhxQt2hlphSW"
      },
      "source": [
        "!mkdir /content/drive/MyDrive/DACON_CVLC/data/images_train\n",
        "!mkdir /content/drive/MyDrive/DACON_CVLC/data/images_train/0\n",
        "!mkdir /content/drive/MyDrive/DACON_CVLC/data/images_train/1\n",
        "!mkdir /content/drive/MyDrive/DACON_CVLC/data/images_train/2\n",
        "!mkdir /content/drive/MyDrive/DACON_CVLC/data/images_train/3\n",
        "!mkdir /content/drive/MyDrive/DACON_CVLC/data/images_train/4\n",
        "!mkdir /content/drive/MyDrive/DACON_CVLC/data/images_train/5\n",
        "!mkdir /content/drive/MyDrive/DACON_CVLC/data/images_train/6\n",
        "!mkdir /content/drive/MyDrive/DACON_CVLC/data/images_train/7\n",
        "!mkdir /content/drive/MyDrive/DACON_CVLC/data/images_train/8\n",
        "!mkdir /content/drive/MyDrive/DACON_CVLC/data/images_train/9\n",
        "!mkdir /content/drive/MyDrive/DACON_CVLC/data/images_test"
      ],
      "execution_count": null,
      "outputs": []
    },
    {
      "cell_type": "code",
      "metadata": {
        "id": "qMWI-_1Up21E"
      },
      "source": [
        "import cv2\n",
        "\n",
        "for idx in range(len(train)) :\n",
        "    img = train.loc[idx, '0':].values.reshape(28, 28).astype(int)\n",
        "    digit = train.loc[idx, 'digit']\n",
        "    cv2.imwrite(f'/content/drive/MyDrive/DACON_CVLC/data/images_train/{digit}/{train[\"id\"][idx]}.png', img)\n",
        "\n",
        "for idx in range(len(test)) :\n",
        "    img = test.loc[idx, '0':].values.reshape(28, 28).astype(int)\n",
        "    cv2.imwrite(f'/content/drive/MyDrive/DACON_CVLC/data/images_test/{test[\"id\"][idx]}.png', img)"
      ],
      "execution_count": 107,
      "outputs": []
    },
    {
      "cell_type": "code",
      "metadata": {
        "id": "HUJTlJ6GxNmK"
      },
      "source": [
        "model =  tf.keras.applications.InceptionResNetV2(weights=None, include_top=True, input_shape=(224, 224, 1), classes=10)"
      ],
      "execution_count": 108,
      "outputs": []
    },
    {
      "cell_type": "code",
      "metadata": {
        "id": "KlVMd30ZxUMQ"
      },
      "source": [
        "from tensorflow.keras.optimizers import Adam\n",
        "model.compile(loss='categorical_crossentropy', optimizer=Adam(lr=0.002,epsilon=None), metrics=['accuracy'])"
      ],
      "execution_count": 109,
      "outputs": []
    },
    {
      "cell_type": "code",
      "metadata": {
        "colab": {
          "base_uri": "https://localhost:8080/"
        },
        "id": "w1haI0Zjxa74",
        "outputId": "136d764e-a11a-480f-b8bf-1ecb6f36fb99"
      },
      "source": [
        "from tensorflow.keras.preprocessing.image import ImageDataGenerator\n",
        "\n",
        "datagen = ImageDataGenerator(rescale=1./255, validation_split=0.2,\n",
        "                             rotation_range=10,\n",
        "                             width_shift_range=0.1,\n",
        "                             height_shift_range=0.1)\n",
        "\n",
        "train_generator = datagen.flow_from_directory('/content/drive/MyDrive/DACON_CVLC/data/images_train', target_size=(224,224), color_mode='grayscale', class_mode='categorical', subset='training')\n",
        "val_generator = datagen.flow_from_directory('/content/drive/MyDrive/DACON_CVLC/data/images_train', target_size=(224,224), color_mode='grayscale', class_mode='categorical', subset='validation')"
      ],
      "execution_count": 110,
      "outputs": [
        {
          "output_type": "stream",
          "text": [
            "Found 1642 images belonging to 10 classes.\n",
            "Found 406 images belonging to 10 classes.\n"
          ],
          "name": "stdout"
        }
      ]
    },
    {
      "cell_type": "code",
      "metadata": {
        "id": "SRP2R9hdxsyY"
      },
      "source": [
        "checkpoint = tf.keras.callbacks.ModelCheckpoint(f'/content/drive/MyDrive/DACON_CVLC/Checkpoint/model.h5', monitor='val_accuracy', save_best_only=True, verbose=1)"
      ],
      "execution_count": 111,
      "outputs": []
    },
    {
      "cell_type": "code",
      "metadata": {
        "colab": {
          "base_uri": "https://localhost:8080/"
        },
        "id": "DKMJhbFnxotA",
        "outputId": "bebc45ee-e39a-403d-e09a-21d77fb0ac6a"
      },
      "source": [
        "model.fit_generator(train_generator, epochs=5, validation_data=val_generator, callbacks=[checkpoint])"
      ],
      "execution_count": 112,
      "outputs": [
        {
          "output_type": "stream",
          "text": [
            "Epoch 1/5\n",
            "52/52 [==============================] - 36s 407ms/step - loss: 2.1102 - accuracy: 0.2850 - val_loss: 3.3244 - val_accuracy: 0.0985\n",
            "\n",
            "Epoch 00001: val_accuracy improved from -inf to 0.09852, saving model to /content/drive/MyDrive/DACON_CVLC/Checkpoint/model.h5\n",
            "Epoch 2/5\n",
            "52/52 [==============================] - 19s 357ms/step - loss: 1.2725 - accuracy: 0.5572 - val_loss: 17.1637 - val_accuracy: 0.1034\n",
            "\n",
            "Epoch 00002: val_accuracy improved from 0.09852 to 0.10345, saving model to /content/drive/MyDrive/DACON_CVLC/Checkpoint/model.h5\n",
            "Epoch 3/5\n",
            "52/52 [==============================] - 19s 364ms/step - loss: 0.9574 - accuracy: 0.6717 - val_loss: 5.4484 - val_accuracy: 0.0985\n",
            "\n",
            "Epoch 00003: val_accuracy did not improve from 0.10345\n",
            "Epoch 4/5\n",
            "52/52 [==============================] - 19s 364ms/step - loss: 0.8473 - accuracy: 0.7162 - val_loss: 5.0813 - val_accuracy: 0.0985\n",
            "\n",
            "Epoch 00004: val_accuracy did not improve from 0.10345\n",
            "Epoch 5/5\n",
            "52/52 [==============================] - 19s 357ms/step - loss: 0.6875 - accuracy: 0.7649 - val_loss: 3.7263 - val_accuracy: 0.0985\n",
            "\n",
            "Epoch 00005: val_accuracy did not improve from 0.10345\n"
          ],
          "name": "stdout"
        },
        {
          "output_type": "execute_result",
          "data": {
            "text/plain": [
              "<tensorflow.python.keras.callbacks.History at 0x7f90ee53cc50>"
            ]
          },
          "metadata": {
            "tags": []
          },
          "execution_count": 112
        }
      ]
    },
    {
      "cell_type": "code",
      "metadata": {
        "colab": {
          "base_uri": "https://localhost:8080/",
          "height": 265
        },
        "id": "kHmpkzRJyCrf",
        "outputId": "a52cfba3-901e-46e1-8c10-259004f43824"
      },
      "source": [
        "import matplotlib.pyplot as plt\n",
        "\n",
        "plt.plot(model.history.history[\"accuracy\"], label='accuracy')\n",
        "plt.plot(model.history.history[\"val_accuracy\"], label='valid_accuracy')\n",
        "\n",
        "plt.legend()\n",
        "plt.show()"
      ],
      "execution_count": 113,
      "outputs": [
        {
          "output_type": "display_data",
          "data": {
            "image/png": "[encoded data removed]",
            "text/plain": [
              "<Figure size 432x288 with 1 Axes>"
            ]
          },
          "metadata": {
            "tags": [],
            "needs_background": "light"
          }
        }
      ]
    },
    {
      "cell_type": "code",
      "metadata": {
        "id": "qcElIu93yIQU"
      },
      "source": [
        "model = tf.keras.models.load_model('/content/drive/MyDrive/DACON_CVLC/Checkpoint/model.h5', compile=False)"
      ],
      "execution_count": 114,
      "outputs": []
    },
    {
      "cell_type": "code",
      "metadata": {
        "colab": {
          "base_uri": "https://localhost:8080/"
        },
        "id": "hR4N2pAZyiR-",
        "outputId": "4912b51c-a66f-49f2-a1ba-9e3c102e7bcf"
      },
      "source": [
        "!mkdir /content/drive/MyDrive/DACON_CVLC/data/images_test/none\n",
        "!mv /content/drive/MyDrive/DACON_CVLC/data/images_test/*.png /content/drive/MyDrive/DACON_CVLC/data/images_test/none"
      ],
      "execution_count": 115,
      "outputs": [
        {
          "output_type": "stream",
          "text": [
            "mkdir: cannot create directory ‘/content/drive/MyDrive/DACON_CVLC/data/images_test/none’: File exists\n"
          ],
          "name": "stdout"
        }
      ]
    },
    {
      "cell_type": "code",
      "metadata": {
        "colab": {
          "base_uri": "https://localhost:8080/"
        },
        "id": "rxH98QOgyu1z",
        "outputId": "61408e99-4d57-460c-df2d-16d23b77e751"
      },
      "source": [
        "datagen = ImageDataGenerator(rescale=1./255)\n",
        "test_generator = datagen.flow_from_directory('/content/drive/MyDrive/DACON_CVLC/data/images_test', target_size=(224,224), color_mode='grayscale', class_mode='categorical', shuffle=False)"
      ],
      "execution_count": 116,
      "outputs": [
        {
          "output_type": "stream",
          "text": [
            "Found 20480 images belonging to 1 classes.\n"
          ],
          "name": "stdout"
        }
      ]
    },
    {
      "cell_type": "code",
      "metadata": {
        "id": "WxxxMnN3y2Wb"
      },
      "source": [
        "test_generator.reset()\n",
        "predict = model.predict_generator(test_generator).argmax(axis=1)"
      ],
      "execution_count": 117,
      "outputs": []
    },
    {
      "cell_type": "code",
      "metadata": {
        "id": "7NH-xmmay9Hd"
      },
      "source": [
        "submission = pd.read_csv('/content/drive/MyDrive/DACON_CVLC/data/submission.csv')\n",
        "submission['digit'] = predict\n",
        "submission.to_csv('/content/drive/MyDrive/DACON_CVLC/Submission/submission.csv', index=False)"
      ],
      "execution_count": 118,
      "outputs": []
    }
  ]
}