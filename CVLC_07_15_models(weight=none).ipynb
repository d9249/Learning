{
  "nbformat": 4,
  "nbformat_minor": 0,
  "metadata": {
    "accelerator": "TPU",
    "colab": {
      "name": "CVLC_07_15-models(weight=none).ipynb",
      "provenance": [],
      "collapsed_sections": [],
      "machine_shape": "hm",
      "authorship_tag": "ABX9TyNJzQFgRhieXf5Mb8B4eXNZ",
      "include_colab_link": true
    },
    "kernelspec": {
      "display_name": "Python 3",
      "name": "python3"
    },
    "language_info": {
      "name": "python"
    }
  },
  "cells": [
    {
      "cell_type": "markdown",
      "metadata": {
        "id": "view-in-github",
        "colab_type": "text"
      },
      "source": [
        "<a href=\"https://colab.research.google.com/github/d9249/DACON/blob/main/CVLC_07_15_models(weight%3Dnone).ipynb\" target=\"_parent\"><img src=\"https://colab.research.google.com/assets/colab-badge.svg\" alt=\"Open In Colab\"/></a>"
      ]
    },
    {
      "cell_type": "code",
      "metadata": {
        "id": "LmEaPJckuX-D",
        "colab": {
          "base_uri": "https://localhost:8080/"
        },
        "outputId": "6b8b35f6-3e8f-4c88-8b87-2626e1266a2c"
      },
      "source": [
        "from google.colab import drive\n",
        "drive.mount('/content/drive')"
      ],
      "execution_count": null,
      "outputs": [
        {
          "output_type": "stream",
          "text": [
            "Mounted at /content/drive\n"
          ],
          "name": "stdout"
        }
      ]
    },
    {
      "cell_type": "code",
      "metadata": {
        "id": "88GAtllsufPj"
      },
      "source": [
        "import pandas as pd\n",
        "train = pd.read_csv('/content/drive/MyDrive/DACON_CVLC/data/train.csv')\n",
        "test = pd.read_csv('/content/drive/MyDrive/DACON_CVLC/data/test.csv')\n",
        "sub = pd.read_csv('/content/drive/MyDrive/DACON_CVLC/data/submission.csv')"
      ],
      "execution_count": null,
      "outputs": []
    },
    {
      "cell_type": "code",
      "metadata": {
        "id": "jhxQt2hlphSW"
      },
      "source": [
        "!mkdir /content/drive/MyDrive/DACON_CVLC/data/images_train\n",
        "!mkdir /content/drive/MyDrive/DACON_CVLC/data/images_train/0\n",
        "!mkdir /content/drive/MyDrive/DACON_CVLC/data/images_train/1\n",
        "!mkdir /content/drive/MyDrive/DACON_CVLC/data/images_train/2\n",
        "!mkdir /content/drive/MyDrive/DACON_CVLC/data/images_train/3\n",
        "!mkdir /content/drive/MyDrive/DACON_CVLC/data/images_train/4\n",
        "!mkdir /content/drive/MyDrive/DACON_CVLC/data/images_train/5\n",
        "!mkdir /content/drive/MyDrive/DACON_CVLC/data/images_train/6\n",
        "!mkdir /content/drive/MyDrive/DACON_CVLC/data/images_train/7\n",
        "!mkdir /content/drive/MyDrive/DACON_CVLC/data/images_train/8\n",
        "!mkdir /content/drive/MyDrive/DACON_CVLC/data/images_train/9\n",
        "!mkdir /content/drive/MyDrive/DACON_CVLC/data/images_test"
      ],
      "execution_count": null,
      "outputs": []
    },
    {
      "cell_type": "code",
      "metadata": {
        "id": "qMWI-_1Up21E"
      },
      "source": [
        "import cv2\n",
        "\n",
        "for idx in range(len(train)) :\n",
        "    img = train.loc[idx, '0':].values.reshape(28, 28).astype(int)\n",
        "    digit = train.loc[idx, 'digit']\n",
        "    cv2.imwrite(f'/content/drive/MyDrive/DACON_CVLC/data/images_train/{digit}/{train[\"id\"][idx]}.png', img)\n",
        "\n",
        "for idx in range(len(test)) :\n",
        "    img = test.loc[idx, '0':].values.reshape(28, 28).astype(int)\n",
        "    cv2.imwrite(f'/content/drive/MyDrive/DACON_CVLC/data/images_test/{test[\"id\"][idx]}.png', img)"
      ],
      "execution_count": null,
      "outputs": []
    },
    {
      "cell_type": "code",
      "metadata": {
        "id": "xsFqbWY-t4c_"
      },
      "source": [
        "!pip install git+https://github.com/qubvel/classification_models.git"
      ],
      "execution_count": null,
      "outputs": []
    },
    {
      "cell_type": "code",
      "metadata": {
        "id": "TGB0MOWnt8mk"
      },
      "source": [
        "# for keras\n",
        "from classification_models.keras import Classifiers\n",
        "\n",
        "# for tensorflow keras\n",
        "from classification_models.tfkeras import Classifiers\n",
        "\n",
        "Classifiers.models_names()"
      ],
      "execution_count": null,
      "outputs": []
    },
    {
      "cell_type": "code",
      "metadata": {
        "id": "HUJTlJ6GxNmK"
      },
      "source": [
        "import tensorflow as tf\n",
        "from keras.applications.resnet import ResNet101, ResNet152\n",
        "from keras.applications.resnet50 import ResNet50\n",
        "from keras.applications.resnet_v2 import ResNet50V2\n",
        "from keras.applications.resnet_v2 import ResNet101V2\n",
        "from keras.applications.resnet_v2 import ResNet152V2\n",
        "from keras.applications.vgg16 import VGG16\n",
        "from keras.applications.vgg19 import VGG19\n",
        "from keras.applications.densenet import DenseNet121, DenseNet169, DenseNet201\n",
        "\n",
        "ResNet50_model =  tf.keras.applications.resnet.ResNet50(weights=None, include_top=True, input_shape=(224, 224, 1), classes=10)\n",
        "ResNet101_model =  tf.keras.applications.resnet.ResNet101(weights=None, include_top=True, input_shape=(224, 224, 1), classes=10)\n",
        "ResNet152_model =  tf.keras.applications.resnet.ResNet152(weights=None, include_top=True, input_shape=(224, 224, 1), classes=10)\n",
        "ResNet50V2_model =  tf.keras.applications.resnet_v2.ResNet50V2(weights=None, include_top=True, input_shape=(224, 224, 1), classes=10)\n",
        "ResNet101V2_model =  tf.keras.applications.resnet_v2.ResNet101V2(weights=None, include_top=True, input_shape=(224, 224, 1), classes=10)\n",
        "ResNet152V2_model =  tf.keras.applications.resnet_v2.ResNet152V2(weights=None, include_top=True, input_shape=(224, 224, 1), classes=10)\n",
        "\n",
        "VGG16_model = tf.keras.applications.vgg16.VGG16(weights=None, include_top=True, input_shape=(224, 224, 1), classes=10)\n",
        "VGG19_model = tf.keras.applications.vgg19.VGG19(weights=None, include_top=True, input_shape=(224, 224, 1), classes=10)\n",
        "\n",
        "DenseNet121_model = tf.keras.applications.densenet.DenseNet121(weights=None, include_top=True, input_shape=(224, 224, 1), classes=10)\n",
        "DenseNet169_model = tf.keras.applications.densenet.DenseNet169(weights=None, include_top=True, input_shape=(224, 224, 1), classes=10)\n",
        "DenseNet201_model = tf.keras.applications.densenet.DenseNet201(weights=None, include_top=True, input_shape=(224, 224, 1), classes=10)"
      ],
      "execution_count": null,
      "outputs": []
    },
    {
      "cell_type": "code",
      "metadata": {
        "id": "du38cvrzuClx"
      },
      "source": [
        "ResNeXt50, preprocess_input = Classifiers.get('resnext50')\n",
        "ResNeXt50_model =  ResNeXt50(weights=None, include_top=True, input_shape=(224, 224, 1), classes=10)\n",
        "\n",
        "ResNeXt101, preprocess_input = Classifiers.get('resnext101')\n",
        "ResNeXt101_model =  ResNeXt101(weights=None, include_top=True, input_shape=(224, 224, 1), classes=10)\n",
        "\n",
        "InceptionResNetV2, preprocess_input = Classifiers.get('inceptionresnetv2')\n",
        "InceptionV2_model =  InceptionResNetV2(weights=None, include_top=True, input_shape=(224, 224, 1), classes=10)\n",
        "\n",
        "InceptionV3, preprocess_input = Classifiers.get('inceptionv3')\n",
        "InceptionV3_model =  ResNeXt101(weights=None, include_top=True, input_shape=(224, 224, 1), classes=10)"
      ],
      "execution_count": null,
      "outputs": []
    },
    {
      "cell_type": "code",
      "metadata": {
        "id": "KlVMd30ZxUMQ"
      },
      "source": [
        "from tensorflow.keras.optimizers import Adam\n",
        "ResNet50_model.compile(loss='categorical_crossentropy', optimizer=Adam(lr=0.002,epsilon=None), metrics=['accuracy'])\n",
        "ResNet101_model.compile(loss='categorical_crossentropy', optimizer=Adam(lr=0.002,epsilon=None), metrics=['accuracy'])\n",
        "ResNet152_model.compile(loss='categorical_crossentropy', optimizer=Adam(lr=0.002,epsilon=None), metrics=['accuracy'])\n",
        "ResNet50V2_model.compile(loss='categorical_crossentropy', optimizer=Adam(lr=0.002,epsilon=None), metrics=['accuracy'])\n",
        "ResNet101V2_model.compile(loss='categorical_crossentropy', optimizer=Adam(lr=0.002,epsilon=None), metrics=['accuracy'])\n",
        "ResNet152V2_model.compile(loss='categorical_crossentropy', optimizer=Adam(lr=0.002,epsilon=None), metrics=['accuracy'])\n",
        "ResNeXt50_model.compile(loss='categorical_crossentropy', optimizer=Adam(lr=0.002,epsilon=None), metrics=['accuracy'])\n",
        "ResNeXt101_model.compile(loss='categorical_crossentropy', optimizer=Adam(lr=0.002,epsilon=None), metrics=['accuracy'])\n",
        "VGG16_model.compile(loss='categorical_crossentropy', optimizer=Adam(lr=0.002,epsilon=None), metrics=['accuracy'])\n",
        "VGG19_model.compile(loss='categorical_crossentropy', optimizer=Adam(lr=0.002,epsilon=None), metrics=['accuracy'])\n",
        "InceptionV3_model.compile(loss='categorical_crossentropy', optimizer=Adam(lr=0.002,epsilon=None), metrics=['accuracy'])\n",
        "InceptionV2_model.compile(loss='categorical_crossentropy', optimizer=Adam(lr=0.002,epsilon=None), metrics=['accuracy'])\n",
        "DenseNet121_model.compile(loss='categorical_crossentropy', optimizer=Adam(lr=0.002,epsilon=None), metrics=['accuracy'])\n",
        "DenseNet169_model.compile(loss='categorical_crossentropy', optimizer=Adam(lr=0.002,epsilon=None), metrics=['accuracy'])\n",
        "DenseNet201_model.compile(loss='categorical_crossentropy', optimizer=Adam(lr=0.002,epsilon=None), metrics=['accuracy'])"
      ],
      "execution_count": null,
      "outputs": []
    },
    {
      "cell_type": "code",
      "metadata": {
        "id": "w1haI0Zjxa74"
      },
      "source": [
        "from tensorflow.keras.preprocessing.image import ImageDataGenerator\n",
        "\n",
        "datagen = ImageDataGenerator(rescale=1./255, validation_split=0.2,\n",
        "                             rotation_range=10,\n",
        "                             width_shift_range=0.1,\n",
        "                             height_shift_range=0.1)\n",
        "\n",
        "train_generator = datagen.flow_from_directory('/content/drive/MyDrive/DACON_CVLC/data/images_train', target_size=(224,224), color_mode='grayscale', class_mode='categorical', subset='training')\n",
        "val_generator = datagen.flow_from_directory('/content/drive/MyDrive/DACON_CVLC/data/images_train', target_size=(224,224), color_mode='grayscale', class_mode='categorical', subset='validation')"
      ],
      "execution_count": null,
      "outputs": []
    },
    {
      "cell_type": "code",
      "metadata": {
        "id": "SRP2R9hdxsyY"
      },
      "source": [
        "ResNet50_checkpoint = tf.keras.callbacks.ModelCheckpoint(f'/content/drive/MyDrive/DACON_CVLC/Checkpoint/CVLC_07_ResNet50.h5', monitor='val_accuracy', save_best_only=True, verbose=1)\n",
        "ResNet101_checkpoint = tf.keras.callbacks.ModelCheckpoint(f'/content/drive/MyDrive/DACON_CVLC/Checkpoint/CVLC_07_ResNet101.h5', monitor='val_accuracy', save_best_only=True, verbose=1)\n",
        "ResNet152_checkpoint = tf.keras.callbacks.ModelCheckpoint(f'/content/drive/MyDrive/DACON_CVLC/Checkpoint/CVLC_07_ResNet152.h5', monitor='val_accuracy', save_best_only=True, verbose=1)\n",
        "ResNet50V2_checkpoint = tf.keras.callbacks.ModelCheckpoint(f'/content/drive/MyDrive/DACON_CVLC/Checkpoint/CVLC_07_ResNet50V2.h5', monitor='val_accuracy', save_best_only=True, verbose=1)\n",
        "ResNet101V2_checkpoint = tf.keras.callbacks.ModelCheckpoint(f'/content/drive/MyDrive/DACON_CVLC/Checkpoint/CVLC_07_ResNet101V2.h5', monitor='val_accuracy', save_best_only=True, verbose=1)\n",
        "ResNet152V2_checkpoint = tf.keras.callbacks.ModelCheckpoint(f'/content/drive/MyDrive/DACON_CVLC/Checkpoint/CVLC_07_ResNet152V2.h5', monitor='val_accuracy', save_best_only=True, verbose=1)\n",
        "ResNeXt50_checkpoint = tf.keras.callbacks.ModelCheckpoint(f'/content/drive/MyDrive/DACON_CVLC/Checkpoint/CVLC_07_ResNeXt50.h5', monitor='val_accuracy', save_best_only=True, verbose=1)\n",
        "ResNeXt101_checkpoint = tf.keras.callbacks.ModelCheckpoint(f'/content/drive/MyDrive/DACON_CVLC/Checkpoint/CVLC_07_ResNeXt101.h5', monitor='val_accuracy', save_best_only=True, verbose=1)\n",
        "VGG16_checkpoint = tf.keras.callbacks.ModelCheckpoint(f'/content/drive/MyDrive/DACON_CVLC/Checkpoint/CVLC_07_VGG16.h5', monitor='val_accuracy', save_best_only=True, verbose=1)\n",
        "VGG19_checkpoint = tf.keras.callbacks.ModelCheckpoint(f'/content/drive/MyDrive/DACON_CVLC/Checkpoint/CVLC_07_VGG19.h5', monitor='val_accuracy', save_best_only=True, verbose=1)\n",
        "InceptionV3_checkpoint = tf.keras.callbacks.ModelCheckpoint(f'/content/drive/MyDrive/DACON_CVLC/Checkpoint/CVLC_07_InceptionV3.h5', monitor='val_accuracy', save_best_only=True, verbose=1)\n",
        "InceptionV2_checkpoint = tf.keras.callbacks.ModelCheckpoint(f'/content/drive/MyDrive/DACON_CVLC/Checkpoint/CVLC_07_InceptionV2.h5', monitor='val_accuracy', save_best_only=True, verbose=1)\n",
        "DenseNet121_checkpoint = tf.keras.callbacks.ModelCheckpoint(f'/content/drive/MyDrive/DACON_CVLC/Checkpoint/CVLC_07_DenseNet121.h5', monitor='val_accuracy', save_best_only=True, verbose=1)\n",
        "DenseNet169_checkpoint = tf.keras.callbacks.ModelCheckpoint(f'/content/drive/MyDrive/DACON_CVLC/Checkpoint/CVLC_07_DenseNet169.h5', monitor='val_accuracy', save_best_only=True, verbose=1)\n",
        "DenseNet201_checkpoint = tf.keras.callbacks.ModelCheckpoint(f'/content/drive/MyDrive/DACON_CVLC/Checkpoint/CVLC_07_DenseNet201.h5', monitor='val_accuracy', save_best_only=True, verbose=1)"
      ],
      "execution_count": null,
      "outputs": []
    },
    {
      "cell_type": "code",
      "metadata": {
        "id": "DKMJhbFnxotA"
      },
      "source": [
        "ResNet50_model.fit_generator(train_generator, epochs = 150, validation_data = val_generator, callbacks = [ResNet50_checkpoint])\n",
        "files.download('/content/drive/MyDrive/DACON_CVLC/Checkpoint/CVLC_07_ResNet50.h5')"
      ],
      "execution_count": null,
      "outputs": []
    },
    {
      "cell_type": "code",
      "metadata": {
        "id": "YJxUYksADFFc"
      },
      "source": [
        "ResNet101_model.fit_generator(train_generator, epochs = 150, validation_data = val_generator, callbacks = [ResNet101_checkpoint])\n",
        "files.download('/content/drive/MyDrive/DACON_CVLC/Checkpoint/CVLC_07_ResNet101.h5')"
      ],
      "execution_count": null,
      "outputs": []
    },
    {
      "cell_type": "code",
      "metadata": {
        "id": "7NJ8F7HNDGlD"
      },
      "source": [
        "ResNet152_model.fit_generator(train_generator, epochs = 150, validation_data=val_generator, callbacks=[ResNet152_checkpoint])\n",
        "files.download('/content/drive/MyDrive/DACON_CVLC/Checkpoint/CVLC_07_ResNet152.h5')"
      ],
      "execution_count": null,
      "outputs": []
    },
    {
      "cell_type": "code",
      "metadata": {
        "id": "TDQDcGhdDHnI"
      },
      "source": [
        "ResNet50V2_model.fit_generator(train_generator, epochs = 150, validation_data=val_generator, callbacks=[ResNet50V2_checkpoint])\n",
        "files.download('/content/drive/MyDrive/DACON_CVLC/Checkpoint/CVLC_07_ResNet50V2.h5')"
      ],
      "execution_count": null,
      "outputs": []
    },
    {
      "cell_type": "code",
      "metadata": {
        "id": "OfeQPdbJDI9h"
      },
      "source": [
        "ResNet101V2_model.fit_generator(train_generator, epochs = 150, validation_data=val_generator, callbacks=[ResNet101V2_checkpoint])\n",
        "files.download('/content/drive/MyDrive/DACON_CVLC/Checkpoint/CVLC_07_ResNet101V2.h5')"
      ],
      "execution_count": null,
      "outputs": []
    },
    {
      "cell_type": "code",
      "metadata": {
        "id": "zSmniqeJDKe2"
      },
      "source": [
        "ResNet152V2_model.fit_generator(train_generator, epochs = 150, validation_data=val_generator, callbacks=[ResNet152V2_checkpoint])\n",
        "files.download('/content/drive/MyDrive/DACON_CVLC/Checkpoint/CVLC_07_ResNet152V2.h5')"
      ],
      "execution_count": null,
      "outputs": []
    },
    {
      "cell_type": "code",
      "metadata": {
        "id": "3Rx0qV-_DLpj"
      },
      "source": [
        "ResNeXt50_model.fit_generator(train_generator, epochs = 150, validation_data=val_generator, callbacks=[ResNeXt50_checkpoint])\n",
        "files.download('/content/drive/MyDrive/DACON_CVLC/Checkpoint/CVLC_07_ResNeXt50.h5')"
      ],
      "execution_count": null,
      "outputs": []
    },
    {
      "cell_type": "code",
      "metadata": {
        "id": "il25kZVxDNDp"
      },
      "source": [
        "ResNeXt101_model.fit_generator(train_generator, epochs = 150, validation_data=val_generator, callbacks=[ResNeXt101_checkpoint])\n",
        "files.download('/content/drive/MyDrive/DACON_CVLC/Checkpoint/CVLC_07_ResNeXt101.h5')"
      ],
      "execution_count": null,
      "outputs": []
    },
    {
      "cell_type": "code",
      "metadata": {
        "id": "0yzpywaoDN_n"
      },
      "source": [
        "VGG16_model.fit_generator(train_generator, epochs = 150, validation_data=val_generator, callbacks=[VGG16_checkpoint])\n",
        "files.download('/content/drive/MyDrive/DACON_CVLC/Checkpoint/CVLC_07_VGG16.h5')"
      ],
      "execution_count": null,
      "outputs": []
    },
    {
      "cell_type": "code",
      "metadata": {
        "id": "obGf3yw0DPH6"
      },
      "source": [
        "VGG19_model.fit_generator(train_generator, epochs = 150, validation_data=val_generator, callbacks=[VGG19_checkpoint])\n",
        "files.download('/content/drive/MyDrive/DACON_CVLC/Checkpoint/CVLC_07_VGG19.h5')"
      ],
      "execution_count": null,
      "outputs": []
    },
    {
      "cell_type": "code",
      "metadata": {
        "id": "JAeDavrKDQTO"
      },
      "source": [
        "InceptionV3_model.fit_generator(train_generator, epochs = 150, validation_data=val_generator, callbacks=[InceptionV3_checkpoint])\n",
        "files.download('/content/drive/MyDrive/DACON_CVLC/Checkpoint/CVLC_07_InceptionV3.h5')"
      ],
      "execution_count": null,
      "outputs": []
    },
    {
      "cell_type": "code",
      "metadata": {
        "id": "b6o5FeM3DRNl"
      },
      "source": [
        "InceptionV2_model.fit_generator(train_generator, epochs = 150, validation_data=val_generator, callbacks=[InceptionV2_checkpoint])\n",
        "files.download('/content/drive/MyDrive/DACON_CVLC/Checkpoint/CVLC_07_InceptionV2.h5')"
      ],
      "execution_count": null,
      "outputs": []
    },
    {
      "cell_type": "code",
      "metadata": {
        "id": "U46jOdS6DSbn"
      },
      "source": [
        "DenseNet121_model.fit_generator(train_generator, epochs = 150, validation_data=val_generator, callbacks=[DenseNet121_checkpoint])\n",
        "files.download('/content/drive/MyDrive/DACON_CVLC/Checkpoint/CVLC_07_DenseNet121.h5')"
      ],
      "execution_count": null,
      "outputs": []
    },
    {
      "cell_type": "code",
      "metadata": {
        "id": "xyijRlNCDTaO"
      },
      "source": [
        "DenseNet169_model.fit_generator(train_generator, epochs = 150, validation_data=val_generator, callbacks=[DenseNet169_checkpoint])\n",
        "files.download('/content/drive/MyDrive/DACON_CVLC/Checkpoint/CVLC_07_DenseNet169.h5')"
      ],
      "execution_count": null,
      "outputs": []
    },
    {
      "cell_type": "code",
      "metadata": {
        "id": "pdc05G6CDCmp"
      },
      "source": [
        "DenseNet201_model.fit_generator(train_generator, epochs = 150, validation_data=val_generator, callbacks=[DenseNet201_checkpoint])\n",
        "files.download('/content/drive/MyDrive/DACON_CVLC/Checkpoint/CVLC_07_DenseNet201.h5')"
      ],
      "execution_count": null,
      "outputs": []
    },
    {
      "cell_type": "markdown",
      "metadata": {
        "id": "vawM8j_H9z2Q"
      },
      "source": [
        "# 결과 확인"
      ]
    },
    {
      "cell_type": "code",
      "metadata": {
        "id": "qcElIu93yIQU"
      },
      "source": [
        "ResNet50_model = tf.keras.models.load_model('/content/drive/MyDrive/DACON_CVLC/Checkpoint/CVLC_07_ResNet50.h5', compile=False)\n",
        "ResNet101_model = tf.keras.models.load_model('/content/drive/MyDrive/DACON_CVLC/Checkpoint/CVLC_07_ResNet101.h5', compile=False)\n",
        "ResNet152_model = tf.keras.models.load_model('/content/drive/MyDrive/DACON_CVLC/Checkpoint/CVLC_07_ResNet152.h5', compile=False)\n",
        "ResNet50V2_model = tf.keras.models.load_model('/content/drive/MyDrive/DACON_CVLC/Checkpoint/CVLC_07_ResNet50V2.h5', compile=False)\n",
        "ResNet101V2_model = tf.keras.models.load_model('/content/drive/MyDrive/DACON_CVLC/Checkpoint/CVLC_07_ResNet101V2.h5', compile=False)\n",
        "ResNeXt50_model = tf.keras.models.load_model('/content/drive/MyDrive/DACON_CVLC/Checkpoint/CVLC_07_ResNeXt50.h5', compile=False)\n",
        "ResNeXt101_model = tf.keras.models.load_model('/content/drive/MyDrive/DACON_CVLC/Checkpoint/CVLC_07_ResNeXt101.h5', compile=False)\n",
        "VGG16_model = tf.keras.models.load_model('/content/drive/MyDrive/DACON_CVLC/Checkpoint/CVLC_07_VGG16.h5', compile=False)\n",
        "VGG19_model = tf.keras.models.load_model('/content/drive/MyDrive/DACON_CVLC/Checkpoint/CVLC_07_VGG19.h5', compile=False)\n",
        "InceptionV3_model = tf.keras.models.load_model('/content/drive/MyDrive/DACON_CVLC/Checkpoint/CVLC_07_InceptionV3.h5', compile=False)\n",
        "InceptionV2_model = tf.keras.models.load_model('/content/drive/MyDrive/DACON_CVLC/Checkpoint/CVLC_07_InceptionV2.h5', compile=False)\n",
        "DenseNet121_model = tf.keras.models.load_model('/content/drive/MyDrive/DACON_CVLC/Checkpoint/CVLC_07_DenseNet121.h5', compile=False)\n",
        "DenseNet169_model = tf.keras.models.load_model('/content/drive/MyDrive/DACON_CVLC/Checkpoint/CVLC_07_DenseNet169.h5', compile=False)\n",
        "DenseNet201_model = tf.keras.models.load_model('/content/drive/MyDrive/DACON_CVLC/Checkpoint/CVLC_07_DenseNet201.h5', compile=False)"
      ],
      "execution_count": null,
      "outputs": []
    },
    {
      "cell_type": "code",
      "metadata": {
        "id": "kHmpkzRJyCrf"
      },
      "source": [
        "import matplotlib.pyplot as plt\n",
        "\n",
        "plt.plot(ResNet50_model.history.history[\"accuracy\"], label='ResNet50_ACC')\n",
        "plt.plot(ResNet50_model.history.history[\"val_accuracy\"], label='ResNet50_VAL')\n",
        "\n",
        "plt.plot(ResNet101_model.history.history[\"accuracy\"], label='ResNet101_ACC')\n",
        "plt.plot(ResNet101_model.history.history[\"val_accuracy\"], label='ResNet101_VAL')\n",
        "\n",
        "plt.plot(ResNet152_model.history.history[\"accuracy\"], label='ResNet152_ACC')\n",
        "plt.plot(ResNet152_model.history.history[\"val_accuracy\"], label='ResNet152_VAL')\n",
        "\n",
        "plt.plot(ResNet50V2_model.history.history[\"accuracy\"], label='ResNet50V2_ACC')\n",
        "plt.plot(ResNet50V2_model.history.history[\"val_accuracy\"], label='ResNet50V2_VAL')\n",
        "\n",
        "plt.plot(ResNet101V2_model.history.history[\"accuracy\"], label='ResNet101V2_ACC')\n",
        "plt.plot(ResNet101V2_model.history.history[\"val_accuracy\"], label='ResNet101V2_VAL')\n",
        "\n",
        "plt.plot(ResNet152V2_model.history.history[\"accuracy\"], label='ResNet152V2_ACC')\n",
        "plt.plot(ResNet152V2_model.history.history[\"val_accuracy\"], label='ResNet152V2_VAL')\n",
        "\n",
        "plt.plot(ResNeXt50_model.history.history[\"accuracy\"], label='ResNeXt50_ACC')\n",
        "plt.plot(ResNeXt50_model.history.history[\"val_accuracy\"], label='ResNeXt50_VAL')\n",
        "\n",
        "plt.plot(ResNeXt101_model.history.history[\"accuracy\"], label='ResNeXt101_ACC')\n",
        "plt.plot(ResNeXt101_model.history.history[\"val_accuracy\"], label='ResNeXt101_VAL')\n",
        "\n",
        "plt.plot(VGG16_model.history.history[\"accuracy\"], label='VGG16_ACC')\n",
        "plt.plot(VGG16_model.history.history[\"val_accuracy\"], label='VGG16_VAL')\n",
        "\n",
        "plt.plot(VGG19_model.history.history[\"accuracy\"], label='VGG19_ACC')\n",
        "plt.plot(VGG19_model.history.history[\"val_accuracy\"], label='VGG19_VAL')\n",
        "\n",
        "plt.plot(InceptionV3_model.history.history[\"accuracy\"], label='InceptionV3_ACC')\n",
        "plt.plot(InceptionV3_model.history.history[\"val_accuracy\"], label='InceptionV3_VAL')\n",
        "\n",
        "plt.plot(InceptionV2_model.history.history[\"accuracy\"], label='InceptionV2_ACC')\n",
        "plt.plot(InceptionV2_model.history.history[\"val_accuracy\"], label='InceptionV2_VAL')\n",
        "\n",
        "plt.plot(DenseNet121_model.history.history[\"accuracy\"], label='DenseNet121_ACC')\n",
        "plt.plot(DenseNet121_model.history.history[\"val_accuracy\"], label='DenseNet121_VAL')\n",
        "\n",
        "plt.plot(DenseNet169_model.history.history[\"accuracy\"], label='DenseNet169_ACC')\n",
        "plt.plot(DenseNet169_model.history.history[\"val_accuracy\"], label='DenseNet169_VAL')\n",
        "\n",
        "plt.plot(DenseNet201_model.history.history[\"accuracy\"], label='DenseNet201_ACC')\n",
        "plt.plot(DenseNet201_model.history.history[\"val_accuracy\"], label='DenseNet201_VAL')\n",
        "\n",
        "plt.legend()\n",
        "plt.show()"
      ],
      "execution_count": null,
      "outputs": []
    },
    {
      "cell_type": "code",
      "metadata": {
        "id": "hR4N2pAZyiR-"
      },
      "source": [
        "!mkdir /content/drive/MyDrive/DACON_CVLC/data/images_test/none\n",
        "!mv /content/drive/MyDrive/DACON_CVLC/data/images_test/*.png /content/drive/MyDrive/DACON_CVLC/data/images_test/none"
      ],
      "execution_count": null,
      "outputs": []
    },
    {
      "cell_type": "code",
      "metadata": {
        "id": "rxH98QOgyu1z"
      },
      "source": [
        "datagen = ImageDataGenerator(rescale=1./255)\n",
        "test_generator = datagen.flow_from_directory('/content/drive/MyDrive/DACON_CVLC/data/images_test', target_size=(224,224), color_mode='grayscale', class_mode='categorical', shuffle=False)"
      ],
      "execution_count": null,
      "outputs": []
    },
    {
      "cell_type": "code",
      "metadata": {
        "id": "WxxxMnN3y2Wb"
      },
      "source": [
        "test_generator.reset()\n",
        "ResNet50_predict = ResNet50_model.predict_generator(test_generator).argmax(axis=1)\n",
        "ResNet101_predict = ResNet101_model.predict_generator(test_generator).argmax(axis=1)\n",
        "ResNet152_predict = ResNet152_model.predict_generator(test_generator).argmax(axis=1)\n",
        "ResNet50V2_predict = ResNet50V2_model.predict_generator(test_generator).argmax(axis=1)\n",
        "ResNet101V2_predict = ResNet101V2_model.predict_generator(test_generator).argmax(axis=1)\n",
        "ResNeXt50_predict = ResNeXt50_model.predict_generator(test_generator).argmax(axis=1)\n",
        "ResNeXt101_predict = ResNeXt101_model.predict_generator(test_generator).argmax(axis=1)\n",
        "VGG16_predict = VGG16_model.predict_generator(test_generator).argmax(axis=1)\n",
        "VGG19_predict = VGG19_model.predict_generator(test_generator).argmax(axis=1)\n",
        "InceptionV3_predict = InceptionV3_model.predict_generator(test_generator).argmax(axis=1)\n",
        "InceptionV2_predict = InceptionV2_model.predict_generator(test_generator).argmax(axis=1)\n",
        "DenseNet121_predict = DenseNet121_model.predict_generator(test_generator).argmax(axis=1)\n",
        "DenseNet169_predict = DenseNet169_model.predict_generator(test_generator).argmax(axis=1)\n",
        "DenseNet201_predict = DenseNet201_model.predict_generator(test_generator).argmax(axis=1)"
      ],
      "execution_count": null,
      "outputs": []
    },
    {
      "cell_type": "code",
      "metadata": {
        "id": "yS_FkqQXky0N"
      },
      "source": [
        "submission = pd.read_csv('/content/drive/MyDrive/DACON_CVLC/data/submission.csv')\n",
        "submission.head()"
      ],
      "execution_count": null,
      "outputs": []
    },
    {
      "cell_type": "code",
      "metadata": {
        "id": "FuO66ssGk2Mr"
      },
      "source": [
        "submission[\"ResNet50_predict\"] = ResNet50_predict\n",
        "submission[\"ResNet101_predict\"] = ResNet101_predict\n",
        "submission[\"ResNet152_predict\"] = ResNet152_predict\n",
        "submission[\"ResNet50V2_predict\"] = ResNet50V2_predict\n",
        "submission[\"ResNet101V2_predict\"] = ResNet101V2_predict\n",
        "submission[\"ResNeXt50_predict\"] = ResNeXt50_predict\n",
        "submission[\"ResNeXt101_predict\"] = ResNeXt101_predict\n",
        "submission[\"VGG16_predict\"] = VGG16_predict\n",
        "submission[\"VGG19_predict\"] = VGG19_predict\n",
        "submission[\"InceptionV3_predict\"] = InceptionV3_predict\n",
        "submission[\"InceptionV2_predict\"] = InceptionV2_predict\n",
        "submission[\"DenseNet121_predict\"] = DenseNet121_predict\n",
        "submission[\"DenseNet169_predict\"] = DenseNet169_predict\n",
        "submission[\"DenseNet201_predict\"] = DenseNet201_predict\n",
        "submission.head()"
      ],
      "execution_count": null,
      "outputs": []
    },
    {
      "cell_type": "code",
      "metadata": {
        "id": "ZHR6GhZGlKaU"
      },
      "source": [
        "from collections import Counter\n",
        "\n",
        "for i in range(len(submission)) :\n",
        "    predicts = submission.loc[i, ['ResNet50_predict','ResNet101_predict','ResNet152_predict','ResNet50V2_predict','ResNet101V2_predict','ResNeXt50_predict','ResNeXt101_predict','VGG16_predict','VGG19_predict','InceptionV3_predict','InceptionV2_predict','DenseNet121_predict','DenseNet169_predict','DenseNet201_predict']]\n",
        "    submission.at[i, \"digit\"] = Counter(predicts).most_common(n=1)[0][0]\n",
        "\n",
        "submission.head()"
      ],
      "execution_count": null,
      "outputs": []
    },
    {
      "cell_type": "code",
      "metadata": {
        "id": "5nP3JeCWlc4V"
      },
      "source": [
        "submission = submission[['id', 'digit']]\n",
        "submission.head()"
      ],
      "execution_count": null,
      "outputs": []
    },
    {
      "cell_type": "code",
      "metadata": {
        "id": "hemVp1ZGlejO"
      },
      "source": [
        "from google.colab import files\n",
        "submission.to_csv('/content/drive/MyDrive/DACON_CVLC/Submission/07_submission(weight=none).csv', index=False)\n",
        "files.download('/content/drive/MyDrive/DACON_CVLC/Submission/07_submission(weight=none).csv')"
      ],
      "execution_count": null,
      "outputs": []
    },
    {
      "cell_type": "markdown",
      "metadata": {
        "id": "i1cRY-xHjn1m"
      },
      "source": [
        "# Submission Test"
      ]
    },
    {
      "cell_type": "code",
      "metadata": {
        "id": "iUFEPL_ojfmy"
      },
      "source": [
        "model = tf.keras.models.load_model('/content/drive/MyDrive/DACON_CVLC/Checkpoint/CVLC_06_ResNet50.h5', compile=False)"
      ],
      "execution_count": null,
      "outputs": []
    },
    {
      "cell_type": "code",
      "metadata": {
        "id": "PvakfVIZ6827"
      },
      "source": [
        "from keras.models import load_model\n",
        "model = load_model('/content/drive/MyDrive/DACON_CVLC/Checkpoint/CVLC_06_ResNet50.h5', compile=False)"
      ],
      "execution_count": null,
      "outputs": []
    },
    {
      "cell_type": "code",
      "metadata": {
        "id": "P5P13ZQe7Crd"
      },
      "source": [
        "model.summary()"
      ],
      "execution_count": null,
      "outputs": []
    },
    {
      "cell_type": "code",
      "metadata": {
        "colab": {
          "base_uri": "https://localhost:8080/"
        },
        "id": "Qe6yIZzUjv1A",
        "outputId": "78bdd6b3-62cf-4ce2-9bf3-7d76ff73bf43"
      },
      "source": [
        "datagen = ImageDataGenerator(rescale=1./255)\n",
        "test_generator = datagen.flow_from_directory('/content/drive/MyDrive/DACON_CVLC/data/images_test', target_size=(224,224), color_mode='grayscale', class_mode='categorical', shuffle=False)"
      ],
      "execution_count": null,
      "outputs": [
        {
          "output_type": "stream",
          "text": [
            "Found 20480 images belonging to 1 classes.\n"
          ],
          "name": "stdout"
        }
      ]
    },
    {
      "cell_type": "code",
      "metadata": {
        "colab": {
          "background_save": true,
          "base_uri": "https://localhost:8080/"
        },
        "id": "5CJ1-3phjysG",
        "outputId": "a96d7195-a20f-4c4b-e8a5-d79b931a6767"
      },
      "source": [
        "predict = model.predict_generator(test_generator).argmax(axis=1)"
      ],
      "execution_count": null,
      "outputs": [
        {
          "output_type": "stream",
          "text": [
            "/usr/local/lib/python3.7/dist-packages/keras/engine/training.py:1976: UserWarning: `Model.predict_generator` is deprecated and will be removed in a future version. Please use `Model.predict`, which supports generators.\n",
            "  warnings.warn('`Model.predict_generator` is deprecated and '\n"
          ],
          "name": "stderr"
        }
      ]
    },
    {
      "cell_type": "code",
      "metadata": {
        "id": "K9G_r870j5Ss",
        "colab": {
          "base_uri": "https://localhost:8080/",
          "height": 426
        },
        "outputId": "2d1012e6-457b-47a1-9cff-77bb92e17a92"
      },
      "source": [
        "import pandas as pd\n",
        "import numpy as np\n",
        "submission = pd.read_csv('/content/drive/MyDrive/DACON_CVLC/data/submission.csv')\n",
        "submission.head()"
      ],
      "execution_count": null,
      "outputs": [
        {
          "output_type": "error",
          "ename": "FileNotFoundError",
          "evalue": "ignored",
          "traceback": [
            "\u001b[0;31m---------------------------------------------------------------------------\u001b[0m",
            "\u001b[0;31mFileNotFoundError\u001b[0m                         Traceback (most recent call last)",
            "\u001b[0;32m<ipython-input-3-e50243d69eae>\u001b[0m in \u001b[0;36m<module>\u001b[0;34m()\u001b[0m\n\u001b[1;32m      1\u001b[0m \u001b[0;32mimport\u001b[0m \u001b[0mpandas\u001b[0m \u001b[0;32mas\u001b[0m \u001b[0mpd\u001b[0m\u001b[0;34m\u001b[0m\u001b[0;34m\u001b[0m\u001b[0m\n\u001b[1;32m      2\u001b[0m \u001b[0;32mimport\u001b[0m \u001b[0mnumpy\u001b[0m \u001b[0;32mas\u001b[0m \u001b[0mnp\u001b[0m\u001b[0;34m\u001b[0m\u001b[0;34m\u001b[0m\u001b[0m\n\u001b[0;32m----> 3\u001b[0;31m \u001b[0msubmission\u001b[0m \u001b[0;34m=\u001b[0m \u001b[0mpd\u001b[0m\u001b[0;34m.\u001b[0m\u001b[0mread_csv\u001b[0m\u001b[0;34m(\u001b[0m\u001b[0;34m'/content/drive/MyDrive/DACON_CVLC/data/submission.csv'\u001b[0m\u001b[0;34m)\u001b[0m\u001b[0;34m\u001b[0m\u001b[0;34m\u001b[0m\u001b[0m\n\u001b[0m\u001b[1;32m      4\u001b[0m \u001b[0msubmission\u001b[0m\u001b[0;34m.\u001b[0m\u001b[0mhead\u001b[0m\u001b[0;34m(\u001b[0m\u001b[0;34m)\u001b[0m\u001b[0;34m\u001b[0m\u001b[0;34m\u001b[0m\u001b[0m\n",
            "\u001b[0;32m/usr/local/lib/python3.7/dist-packages/pandas/io/parsers.py\u001b[0m in \u001b[0;36mread_csv\u001b[0;34m(filepath_or_buffer, sep, delimiter, header, names, index_col, usecols, squeeze, prefix, mangle_dupe_cols, dtype, engine, converters, true_values, false_values, skipinitialspace, skiprows, skipfooter, nrows, na_values, keep_default_na, na_filter, verbose, skip_blank_lines, parse_dates, infer_datetime_format, keep_date_col, date_parser, dayfirst, cache_dates, iterator, chunksize, compression, thousands, decimal, lineterminator, quotechar, quoting, doublequote, escapechar, comment, encoding, dialect, error_bad_lines, warn_bad_lines, delim_whitespace, low_memory, memory_map, float_precision)\u001b[0m\n\u001b[1;32m    686\u001b[0m     )\n\u001b[1;32m    687\u001b[0m \u001b[0;34m\u001b[0m\u001b[0m\n\u001b[0;32m--> 688\u001b[0;31m     \u001b[0;32mreturn\u001b[0m \u001b[0m_read\u001b[0m\u001b[0;34m(\u001b[0m\u001b[0mfilepath_or_buffer\u001b[0m\u001b[0;34m,\u001b[0m \u001b[0mkwds\u001b[0m\u001b[0;34m)\u001b[0m\u001b[0;34m\u001b[0m\u001b[0;34m\u001b[0m\u001b[0m\n\u001b[0m\u001b[1;32m    689\u001b[0m \u001b[0;34m\u001b[0m\u001b[0m\n\u001b[1;32m    690\u001b[0m \u001b[0;34m\u001b[0m\u001b[0m\n",
            "\u001b[0;32m/usr/local/lib/python3.7/dist-packages/pandas/io/parsers.py\u001b[0m in \u001b[0;36m_read\u001b[0;34m(filepath_or_buffer, kwds)\u001b[0m\n\u001b[1;32m    452\u001b[0m \u001b[0;34m\u001b[0m\u001b[0m\n\u001b[1;32m    453\u001b[0m     \u001b[0;31m# Create the parser.\u001b[0m\u001b[0;34m\u001b[0m\u001b[0;34m\u001b[0m\u001b[0;34m\u001b[0m\u001b[0m\n\u001b[0;32m--> 454\u001b[0;31m     \u001b[0mparser\u001b[0m \u001b[0;34m=\u001b[0m \u001b[0mTextFileReader\u001b[0m\u001b[0;34m(\u001b[0m\u001b[0mfp_or_buf\u001b[0m\u001b[0;34m,\u001b[0m \u001b[0;34m**\u001b[0m\u001b[0mkwds\u001b[0m\u001b[0;34m)\u001b[0m\u001b[0;34m\u001b[0m\u001b[0;34m\u001b[0m\u001b[0m\n\u001b[0m\u001b[1;32m    455\u001b[0m \u001b[0;34m\u001b[0m\u001b[0m\n\u001b[1;32m    456\u001b[0m     \u001b[0;32mif\u001b[0m \u001b[0mchunksize\u001b[0m \u001b[0;32mor\u001b[0m \u001b[0miterator\u001b[0m\u001b[0;34m:\u001b[0m\u001b[0;34m\u001b[0m\u001b[0;34m\u001b[0m\u001b[0m\n",
            "\u001b[0;32m/usr/local/lib/python3.7/dist-packages/pandas/io/parsers.py\u001b[0m in \u001b[0;36m__init__\u001b[0;34m(self, f, engine, **kwds)\u001b[0m\n\u001b[1;32m    946\u001b[0m             \u001b[0mself\u001b[0m\u001b[0;34m.\u001b[0m\u001b[0moptions\u001b[0m\u001b[0;34m[\u001b[0m\u001b[0;34m\"has_index_names\"\u001b[0m\u001b[0;34m]\u001b[0m \u001b[0;34m=\u001b[0m \u001b[0mkwds\u001b[0m\u001b[0;34m[\u001b[0m\u001b[0;34m\"has_index_names\"\u001b[0m\u001b[0;34m]\u001b[0m\u001b[0;34m\u001b[0m\u001b[0;34m\u001b[0m\u001b[0m\n\u001b[1;32m    947\u001b[0m \u001b[0;34m\u001b[0m\u001b[0m\n\u001b[0;32m--> 948\u001b[0;31m         \u001b[0mself\u001b[0m\u001b[0;34m.\u001b[0m\u001b[0m_make_engine\u001b[0m\u001b[0;34m(\u001b[0m\u001b[0mself\u001b[0m\u001b[0;34m.\u001b[0m\u001b[0mengine\u001b[0m\u001b[0;34m)\u001b[0m\u001b[0;34m\u001b[0m\u001b[0;34m\u001b[0m\u001b[0m\n\u001b[0m\u001b[1;32m    949\u001b[0m \u001b[0;34m\u001b[0m\u001b[0m\n\u001b[1;32m    950\u001b[0m     \u001b[0;32mdef\u001b[0m \u001b[0mclose\u001b[0m\u001b[0;34m(\u001b[0m\u001b[0mself\u001b[0m\u001b[0;34m)\u001b[0m\u001b[0;34m:\u001b[0m\u001b[0;34m\u001b[0m\u001b[0;34m\u001b[0m\u001b[0m\n",
            "\u001b[0;32m/usr/local/lib/python3.7/dist-packages/pandas/io/parsers.py\u001b[0m in \u001b[0;36m_make_engine\u001b[0;34m(self, engine)\u001b[0m\n\u001b[1;32m   1178\u001b[0m     \u001b[0;32mdef\u001b[0m \u001b[0m_make_engine\u001b[0m\u001b[0;34m(\u001b[0m\u001b[0mself\u001b[0m\u001b[0;34m,\u001b[0m \u001b[0mengine\u001b[0m\u001b[0;34m=\u001b[0m\u001b[0;34m\"c\"\u001b[0m\u001b[0;34m)\u001b[0m\u001b[0;34m:\u001b[0m\u001b[0;34m\u001b[0m\u001b[0;34m\u001b[0m\u001b[0m\n\u001b[1;32m   1179\u001b[0m         \u001b[0;32mif\u001b[0m \u001b[0mengine\u001b[0m \u001b[0;34m==\u001b[0m \u001b[0;34m\"c\"\u001b[0m\u001b[0;34m:\u001b[0m\u001b[0;34m\u001b[0m\u001b[0;34m\u001b[0m\u001b[0m\n\u001b[0;32m-> 1180\u001b[0;31m             \u001b[0mself\u001b[0m\u001b[0;34m.\u001b[0m\u001b[0m_engine\u001b[0m \u001b[0;34m=\u001b[0m \u001b[0mCParserWrapper\u001b[0m\u001b[0;34m(\u001b[0m\u001b[0mself\u001b[0m\u001b[0;34m.\u001b[0m\u001b[0mf\u001b[0m\u001b[0;34m,\u001b[0m \u001b[0;34m**\u001b[0m\u001b[0mself\u001b[0m\u001b[0;34m.\u001b[0m\u001b[0moptions\u001b[0m\u001b[0;34m)\u001b[0m\u001b[0;34m\u001b[0m\u001b[0;34m\u001b[0m\u001b[0m\n\u001b[0m\u001b[1;32m   1181\u001b[0m         \u001b[0;32melse\u001b[0m\u001b[0;34m:\u001b[0m\u001b[0;34m\u001b[0m\u001b[0;34m\u001b[0m\u001b[0m\n\u001b[1;32m   1182\u001b[0m             \u001b[0;32mif\u001b[0m \u001b[0mengine\u001b[0m \u001b[0;34m==\u001b[0m \u001b[0;34m\"python\"\u001b[0m\u001b[0;34m:\u001b[0m\u001b[0;34m\u001b[0m\u001b[0;34m\u001b[0m\u001b[0m\n",
            "\u001b[0;32m/usr/local/lib/python3.7/dist-packages/pandas/io/parsers.py\u001b[0m in \u001b[0;36m__init__\u001b[0;34m(self, src, **kwds)\u001b[0m\n\u001b[1;32m   2008\u001b[0m         \u001b[0mkwds\u001b[0m\u001b[0;34m[\u001b[0m\u001b[0;34m\"usecols\"\u001b[0m\u001b[0;34m]\u001b[0m \u001b[0;34m=\u001b[0m \u001b[0mself\u001b[0m\u001b[0;34m.\u001b[0m\u001b[0musecols\u001b[0m\u001b[0;34m\u001b[0m\u001b[0;34m\u001b[0m\u001b[0m\n\u001b[1;32m   2009\u001b[0m \u001b[0;34m\u001b[0m\u001b[0m\n\u001b[0;32m-> 2010\u001b[0;31m         \u001b[0mself\u001b[0m\u001b[0;34m.\u001b[0m\u001b[0m_reader\u001b[0m \u001b[0;34m=\u001b[0m \u001b[0mparsers\u001b[0m\u001b[0;34m.\u001b[0m\u001b[0mTextReader\u001b[0m\u001b[0;34m(\u001b[0m\u001b[0msrc\u001b[0m\u001b[0;34m,\u001b[0m \u001b[0;34m**\u001b[0m\u001b[0mkwds\u001b[0m\u001b[0;34m)\u001b[0m\u001b[0;34m\u001b[0m\u001b[0;34m\u001b[0m\u001b[0m\n\u001b[0m\u001b[1;32m   2011\u001b[0m         \u001b[0mself\u001b[0m\u001b[0;34m.\u001b[0m\u001b[0munnamed_cols\u001b[0m \u001b[0;34m=\u001b[0m \u001b[0mself\u001b[0m\u001b[0;34m.\u001b[0m\u001b[0m_reader\u001b[0m\u001b[0;34m.\u001b[0m\u001b[0munnamed_cols\u001b[0m\u001b[0;34m\u001b[0m\u001b[0;34m\u001b[0m\u001b[0m\n\u001b[1;32m   2012\u001b[0m \u001b[0;34m\u001b[0m\u001b[0m\n",
            "\u001b[0;32mpandas/_libs/parsers.pyx\u001b[0m in \u001b[0;36mpandas._libs.parsers.TextReader.__cinit__\u001b[0;34m()\u001b[0m\n",
            "\u001b[0;32mpandas/_libs/parsers.pyx\u001b[0m in \u001b[0;36mpandas._libs.parsers.TextReader._setup_parser_source\u001b[0;34m()\u001b[0m\n",
            "\u001b[0;31mFileNotFoundError\u001b[0m: [Errno 2] No such file or directory: '/content/drive/MyDrive/DACON_CVLC/data/submission.csv'"
          ]
        }
      ]
    },
    {
      "cell_type": "code",
      "metadata": {
        "id": "5uJ7jFp2j7PC"
      },
      "source": [
        "submission[\"predict\"] = predict"
      ],
      "execution_count": null,
      "outputs": []
    },
    {
      "cell_type": "code",
      "metadata": {
        "id": "C4QKCvVZj-jQ"
      },
      "source": [
        "from collections import Counter\n",
        "\n",
        "for i in range(len(submission)) :\n",
        "    predicts = submission.loc[i, ['predict']]\n",
        "    submission.at[i, \"digit\"] = Counter(predicts).most_common(n=1)[0][0]\n",
        "\n",
        "submission.head()"
      ],
      "execution_count": null,
      "outputs": []
    },
    {
      "cell_type": "code",
      "metadata": {
        "id": "AWibr6MNkEkw"
      },
      "source": [
        "submission = submission[['id', 'digit']]\n",
        "submission.head()"
      ],
      "execution_count": null,
      "outputs": []
    },
    {
      "cell_type": "code",
      "metadata": {
        "id": "juvGphWJkH5g"
      },
      "source": [
        "from google.colab import files\n",
        "submission.to_csv('/content/drive/MyDrive/DACON_CVLC/Submission/test_submission(weight=none).csv', index=False)\n",
        "files.download('/content/drive/MyDrive/DACON_CVLC/Submission/test_submission(weight=none).csv')"
      ],
      "execution_count": null,
      "outputs": []
    }
  ]
}