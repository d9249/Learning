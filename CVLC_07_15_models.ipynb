{
  "nbformat": 4,
  "nbformat_minor": 0,
  "metadata": {
    "colab": {
      "name": "CVLC_07_15-models.ipynb",
      "provenance": [],
      "collapsed_sections": [],
      "machine_shape": "hm",
      "authorship_tag": "ABX9TyMh6Vx1AOjrVshTvzqLGMaM",
      "include_colab_link": true
    },
    "kernelspec": {
      "name": "python3",
      "display_name": "Python 3"
    },
    "language_info": {
      "name": "python"
    },
    "accelerator": "TPU"
  },
  "cells": [
    {
      "cell_type": "markdown",
      "metadata": {
        "id": "view-in-github",
        "colab_type": "text"
      },
      "source": [
        "<a href=\"https://colab.research.google.com/github/d9249/DACON/blob/main/CVLC_07_15_models.ipynb\" target=\"_parent\"><img src=\"https://colab.research.google.com/assets/colab-badge.svg\" alt=\"Open In Colab\"/></a>"
      ]
    },
    {
      "cell_type": "code",
      "metadata": {
        "id": "LmEaPJckuX-D",
        "colab": {
          "base_uri": "https://localhost:8080/"
        },
        "outputId": "32c4cb57-624d-4516-b9b4-c837242ef5d4"
      },
      "source": [
        "from google.colab import drive\n",
        "drive.mount('/content/drive')"
      ],
      "execution_count": 1,
      "outputs": [
        {
          "output_type": "stream",
          "text": [
            "Mounted at /content/drive\n"
          ],
          "name": "stdout"
        }
      ]
    },
    {
      "cell_type": "code",
      "metadata": {
        "id": "88GAtllsufPj"
      },
      "source": [
        "import pandas as pd\n",
        "train = pd.read_csv('/content/drive/MyDrive/DACON_CVLC/data/train.csv')\n",
        "test = pd.read_csv('/content/drive/MyDrive/DACON_CVLC/data/test.csv')\n",
        "sub = pd.read_csv('/content/drive/MyDrive/DACON_CVLC/data/submission.csv')"
      ],
      "execution_count": 2,
      "outputs": []
    },
    {
      "cell_type": "code",
      "metadata": {
        "id": "jhxQt2hlphSW"
      },
      "source": [
        "!mkdir /content/drive/MyDrive/DACON_CVLC/data/images_train\n",
        "!mkdir /content/drive/MyDrive/DACON_CVLC/data/images_train/0\n",
        "!mkdir /content/drive/MyDrive/DACON_CVLC/data/images_train/1\n",
        "!mkdir /content/drive/MyDrive/DACON_CVLC/data/images_train/2\n",
        "!mkdir /content/drive/MyDrive/DACON_CVLC/data/images_train/3\n",
        "!mkdir /content/drive/MyDrive/DACON_CVLC/data/images_train/4\n",
        "!mkdir /content/drive/MyDrive/DACON_CVLC/data/images_train/5\n",
        "!mkdir /content/drive/MyDrive/DACON_CVLC/data/images_train/6\n",
        "!mkdir /content/drive/MyDrive/DACON_CVLC/data/images_train/7\n",
        "!mkdir /content/drive/MyDrive/DACON_CVLC/data/images_train/8\n",
        "!mkdir /content/drive/MyDrive/DACON_CVLC/data/images_train/9\n",
        "!mkdir /content/drive/MyDrive/DACON_CVLC/data/images_test"
      ],
      "execution_count": 3,
      "outputs": []
    },
    {
      "cell_type": "code",
      "metadata": {
        "id": "qMWI-_1Up21E"
      },
      "source": [
        "import cv2\n",
        "\n",
        "for idx in range(len(train)) :\n",
        "    img = train.loc[idx, '0':].values.reshape(28, 28).astype(int)\n",
        "    digit = train.loc[idx, 'digit']\n",
        "    cv2.imwrite(f'/content/drive/MyDrive/DACON_CVLC/data/images_train/{digit}/{train[\"id\"][idx]}.png', img)\n",
        "\n",
        "for idx in range(len(test)) :\n",
        "    img = test.loc[idx, '0':].values.reshape(28, 28).astype(int)\n",
        "    cv2.imwrite(f'/content/drive/MyDrive/DACON_CVLC/data/images_test/{test[\"id\"][idx]}.png', img)"
      ],
      "execution_count": 4,
      "outputs": []
    },
    {
      "cell_type": "code",
      "metadata": {
        "colab": {
          "base_uri": "https://localhost:8080/"
        },
        "id": "xsFqbWY-t4c_",
        "outputId": "78a8a1a6-cfaa-4880-b9aa-fba6184c2d15"
      },
      "source": [
        "!pip install git+https://github.com/qubvel/classification_models.git"
      ],
      "execution_count": 5,
      "outputs": [
        {
          "output_type": "stream",
          "text": [
            "Collecting git+https://github.com/qubvel/classification_models.git\n",
            "  Cloning https://github.com/qubvel/classification_models.git to /tmp/pip-req-build-_hf8uw1s\n",
            "  Running command git clone -q https://github.com/qubvel/classification_models.git /tmp/pip-req-build-_hf8uw1s\n",
            "  Running command git submodule update --init --recursive -q\n",
            "Collecting keras_applications<=1.0.8,>=1.0.7\n",
            "  Downloading Keras_Applications-1.0.8-py3-none-any.whl (50 kB)\n",
            "\u001b[K     |████████████████████████████████| 50 kB 1.5 MB/s \n",
            "\u001b[?25hRequirement already satisfied: h5py in /usr/local/lib/python3.7/dist-packages (from keras_applications<=1.0.8,>=1.0.7->image-classifiers==1.0.0) (3.1.0)\n",
            "Requirement already satisfied: numpy>=1.9.1 in /usr/local/lib/python3.7/dist-packages (from keras_applications<=1.0.8,>=1.0.7->image-classifiers==1.0.0) (1.19.5)\n",
            "Requirement already satisfied: cached-property in /usr/local/lib/python3.7/dist-packages (from h5py->keras_applications<=1.0.8,>=1.0.7->image-classifiers==1.0.0) (1.5.2)\n",
            "Building wheels for collected packages: image-classifiers\n",
            "  Building wheel for image-classifiers (setup.py) ... \u001b[?25l\u001b[?25hdone\n",
            "  Created wheel for image-classifiers: filename=image_classifiers-1.0.0-py3-none-any.whl size=20045 sha256=c2a79e59840b7c999be3773ee7b0e253ef28ecdb420623290caf59cc300f1963\n",
            "  Stored in directory: /tmp/pip-ephem-wheel-cache-84_4ixt1/wheels/0b/96/56/27b17c903efc647c51e4f364bfc20aa67f8d3dccad63c4fb4e\n",
            "Successfully built image-classifiers\n",
            "Installing collected packages: keras-applications, image-classifiers\n",
            "Successfully installed image-classifiers-1.0.0 keras-applications-1.0.8\n"
          ],
          "name": "stdout"
        }
      ]
    },
    {
      "cell_type": "code",
      "metadata": {
        "colab": {
          "base_uri": "https://localhost:8080/"
        },
        "id": "TGB0MOWnt8mk",
        "outputId": "b86ae05c-b7e6-4b0d-83be-0b2296514271"
      },
      "source": [
        "# for keras\n",
        "from classification_models.keras import Classifiers\n",
        "\n",
        "# for tensorflow keras\n",
        "from classification_models.tfkeras import Classifiers\n",
        "\n",
        "Classifiers.models_names()"
      ],
      "execution_count": 6,
      "outputs": [
        {
          "output_type": "execute_result",
          "data": {
            "text/plain": [
              "['resnet18',\n",
              " 'resnet34',\n",
              " 'resnet50',\n",
              " 'resnet101',\n",
              " 'resnet152',\n",
              " 'seresnet18',\n",
              " 'seresnet34',\n",
              " 'seresnet50',\n",
              " 'seresnet101',\n",
              " 'seresnet152',\n",
              " 'seresnext50',\n",
              " 'seresnext101',\n",
              " 'senet154',\n",
              " 'resnet50v2',\n",
              " 'resnet101v2',\n",
              " 'resnet152v2',\n",
              " 'resnext50',\n",
              " 'resnext101',\n",
              " 'vgg16',\n",
              " 'vgg19',\n",
              " 'densenet121',\n",
              " 'densenet169',\n",
              " 'densenet201',\n",
              " 'inceptionresnetv2',\n",
              " 'inceptionv3',\n",
              " 'xception',\n",
              " 'nasnetlarge',\n",
              " 'nasnetmobile',\n",
              " 'mobilenet',\n",
              " 'mobilenetv2']"
            ]
          },
          "metadata": {
            "tags": []
          },
          "execution_count": 6
        }
      ]
    },
    {
      "cell_type": "code",
      "metadata": {
        "id": "HUJTlJ6GxNmK"
      },
      "source": [
        "import tensorflow as tf\n",
        "from keras.applications.resnet import ResNet101, ResNet152\n",
        "from keras.applications.resnet50 import ResNet50\n",
        "from keras.applications.resnet_v2 import ResNet50V2\n",
        "from keras.applications.resnet_v2 import ResNet101V2\n",
        "from keras.applications.resnet_v2 import ResNet152V2\n",
        "from keras.applications.vgg16 import VGG16\n",
        "from keras.applications.vgg19 import VGG19\n",
        "from keras.applications.densenet import DenseNet121, DenseNet169, DenseNet201\n",
        "\n",
        "ResNet50_model =  tf.keras.applications.resnet.ResNet50(weights=None, include_top=True, input_shape=(224, 224, 1), classes=10)\n",
        "ResNet101_model =  tf.keras.applications.resnet.ResNet101(weights=None, include_top=True, input_shape=(224, 224, 1), classes=10)\n",
        "ResNet152_model =  tf.keras.applications.resnet.ResNet152(weights=None, include_top=True, input_shape=(224, 224, 1), classes=10)\n",
        "ResNet50V2_model =  tf.keras.applications.resnet_v2.ResNet50V2(weights=None, include_top=True, input_shape=(224, 224, 1), classes=10)\n",
        "ResNet101V2_model =  tf.keras.applications.resnet_v2.ResNet101V2(weights=None, include_top=True, input_shape=(224, 224, 1), classes=10)\n",
        "ResNet152V2_model =  tf.keras.applications.resnet_v2.ResNet152V2(weights=None, include_top=True, input_shape=(224, 224, 1), classes=10)\n",
        "\n",
        "VGG16_model = tf.keras.applications.vgg16.VGG16(weights=None, include_top=True, input_shape=(224, 224, 1), classes=10)\n",
        "VGG19_model = tf.keras.applications.vgg19.VGG19(weights=None, include_top=True, input_shape=(224, 224, 1), classes=10)\n",
        "\n",
        "DenseNet121_model = tf.keras.applications.densenet.DenseNet121(weights=None, include_top=True, input_shape=(224, 224, 1), classes=10)\n",
        "DenseNet169_model = tf.keras.applications.densenet.DenseNet169(weights=None, include_top=True, input_shape=(224, 224, 1), classes=10)\n",
        "DenseNet201_model = tf.keras.applications.densenet.DenseNet201(weights=None, include_top=True, input_shape=(224, 224, 1), classes=10)"
      ],
      "execution_count": 7,
      "outputs": []
    },
    {
      "cell_type": "code",
      "metadata": {
        "id": "du38cvrzuClx"
      },
      "source": [
        "ResNeXt50, preprocess_input = Classifiers.get('resnext50')\n",
        "ResNeXt50_model =  ResNeXt50(weights=None, include_top=True, input_shape=(224, 224, 1), classes=10)\n",
        "\n",
        "ResNeXt101, preprocess_input = Classifiers.get('resnext101')\n",
        "ResNeXt101_model =  ResNeXt101(weights=None, include_top=True, input_shape=(224, 224, 1), classes=10)\n",
        "\n",
        "InceptionResNetV2, preprocess_input = Classifiers.get('inceptionresnetv2')\n",
        "InceptionV2_model =  InceptionResNetV2(weights=None, include_top=True, input_shape=(224, 224, 1), classes=10)\n",
        "\n",
        "InceptionV3, preprocess_input = Classifiers.get('inceptionv3')\n",
        "InceptionV3_model =  ResNeXt101(weights=None, include_top=True, input_shape=(224, 224, 1), classes=10)"
      ],
      "execution_count": 8,
      "outputs": []
    },
    {
      "cell_type": "code",
      "metadata": {
        "colab": {
          "base_uri": "https://localhost:8080/"
        },
        "id": "KlVMd30ZxUMQ",
        "outputId": "0b89fb96-22e0-4d54-afb1-e39c3bb67317"
      },
      "source": [
        "from tensorflow.keras.optimizers import Adam\n",
        "ResNet50_model.compile(loss='categorical_crossentropy', optimizer=Adam(lr=0.002,epsilon=None), metrics=['accuracy'])\n",
        "ResNet101_model.compile(loss='categorical_crossentropy', optimizer=Adam(lr=0.002,epsilon=None), metrics=['accuracy'])\n",
        "ResNet152_model.compile(loss='categorical_crossentropy', optimizer=Adam(lr=0.002,epsilon=None), metrics=['accuracy'])\n",
        "ResNet50V2_model.compile(loss='categorical_crossentropy', optimizer=Adam(lr=0.002,epsilon=None), metrics=['accuracy'])\n",
        "ResNet101V2_model.compile(loss='categorical_crossentropy', optimizer=Adam(lr=0.002,epsilon=None), metrics=['accuracy'])\n",
        "ResNet152V2_model.compile(loss='categorical_crossentropy', optimizer=Adam(lr=0.002,epsilon=None), metrics=['accuracy'])\n",
        "ResNeXt50_model.compile(loss='categorical_crossentropy', optimizer=Adam(lr=0.002,epsilon=None), metrics=['accuracy'])\n",
        "ResNeXt101_model.compile(loss='categorical_crossentropy', optimizer=Adam(lr=0.002,epsilon=None), metrics=['accuracy'])\n",
        "VGG16_model.compile(loss='categorical_crossentropy', optimizer=Adam(lr=0.002,epsilon=None), metrics=['accuracy'])\n",
        "VGG19_model.compile(loss='categorical_crossentropy', optimizer=Adam(lr=0.002,epsilon=None), metrics=['accuracy'])\n",
        "InceptionV3_model.compile(loss='categorical_crossentropy', optimizer=Adam(lr=0.002,epsilon=None), metrics=['accuracy'])\n",
        "InceptionV2_model.compile(loss='categorical_crossentropy', optimizer=Adam(lr=0.002,epsilon=None), metrics=['accuracy'])\n",
        "DenseNet121_model.compile(loss='categorical_crossentropy', optimizer=Adam(lr=0.002,epsilon=None), metrics=['accuracy'])\n",
        "DenseNet169_model.compile(loss='categorical_crossentropy', optimizer=Adam(lr=0.002,epsilon=None), metrics=['accuracy'])\n",
        "DenseNet201_model.compile(loss='categorical_crossentropy', optimizer=Adam(lr=0.002,epsilon=None), metrics=['accuracy'])"
      ],
      "execution_count": 9,
      "outputs": [
        {
          "output_type": "stream",
          "text": [
            "/usr/local/lib/python3.7/dist-packages/tensorflow/python/keras/optimizer_v2/optimizer_v2.py:375: UserWarning: The `lr` argument is deprecated, use `learning_rate` instead.\n",
            "  \"The `lr` argument is deprecated, use `learning_rate` instead.\")\n"
          ],
          "name": "stderr"
        }
      ]
    },
    {
      "cell_type": "code",
      "metadata": {
        "colab": {
          "base_uri": "https://localhost:8080/"
        },
        "id": "w1haI0Zjxa74",
        "outputId": "2f74119d-b55e-4963-ae35-07bf15efd832"
      },
      "source": [
        "from tensorflow.keras.preprocessing.image import ImageDataGenerator\n",
        "\n",
        "datagen = ImageDataGenerator(rescale=1./255, validation_split=0.2,\n",
        "                             rotation_range=10,\n",
        "                             width_shift_range=0.1,\n",
        "                             height_shift_range=0.1)\n",
        "\n",
        "train_generator = datagen.flow_from_directory('/content/drive/MyDrive/DACON_CVLC/data/images_train', target_size=(224,224), color_mode='grayscale', class_mode='categorical', subset='training')\n",
        "val_generator = datagen.flow_from_directory('/content/drive/MyDrive/DACON_CVLC/data/images_train', target_size=(224,224), color_mode='grayscale', class_mode='categorical', subset='validation')"
      ],
      "execution_count": 10,
      "outputs": [
        {
          "output_type": "stream",
          "text": [
            "Found 1642 images belonging to 10 classes.\n",
            "Found 406 images belonging to 10 classes.\n"
          ],
          "name": "stdout"
        }
      ]
    },
    {
      "cell_type": "code",
      "metadata": {
        "id": "SRP2R9hdxsyY"
      },
      "source": [
        "ResNet50_checkpoint = tf.keras.callbacks.ModelCheckpoint(f'/content/drive/MyDrive/DACON_CVLC/Checkpoint/CVLC_06_ResNet50.h5', monitor='val_accuracy', save_best_only=True, verbose=1)\n",
        "ResNet101_checkpoint = tf.keras.callbacks.ModelCheckpoint(f'/content/drive/MyDrive/DACON_CVLC/Checkpoint/CVLC_06_ResNet101.h5', monitor='val_accuracy', save_best_only=True, verbose=1)\n",
        "ResNet152_checkpoint = tf.keras.callbacks.ModelCheckpoint(f'/content/drive/MyDrive/DACON_CVLC/Checkpoint/CVLC_06_ResNet152.h5', monitor='val_accuracy', save_best_only=True, verbose=1)\n",
        "ResNet50V2_checkpoint = tf.keras.callbacks.ModelCheckpoint(f'/content/drive/MyDrive/DACON_CVLC/Checkpoint/CVLC_06_ResNet50V2.h5', monitor='val_accuracy', save_best_only=True, verbose=1)\n",
        "ResNet101V2_checkpoint = tf.keras.callbacks.ModelCheckpoint(f'/content/drive/MyDrive/DACON_CVLC/Checkpoint/CVLC_06_ResNet101V2.h5', monitor='val_accuracy', save_best_only=True, verbose=1)\n",
        "ResNet152V2_checkpoint = tf.keras.callbacks.ModelCheckpoint(f'/content/drive/MyDrive/DACON_CVLC/Checkpoint/CVLC_06_ResNet152V2.h5', monitor='val_accuracy', save_best_only=True, verbose=1)\n",
        "ResNeXt50_checkpoint = tf.keras.callbacks.ModelCheckpoint(f'/content/drive/MyDrive/DACON_CVLC/Checkpoint/CVLC_06_ResNeXt50.h5', monitor='val_accuracy', save_best_only=True, verbose=1)\n",
        "ResNeXt101_checkpoint = tf.keras.callbacks.ModelCheckpoint(f'/content/drive/MyDrive/DACON_CVLC/Checkpoint/CVLC_06_ResNeXt101.h5', monitor='val_accuracy', save_best_only=True, verbose=1)\n",
        "VGG16_checkpoint = tf.keras.callbacks.ModelCheckpoint(f'/content/drive/MyDrive/DACON_CVLC/Checkpoint/CVLC_06_VGG16.h5', monitor='val_accuracy', save_best_only=True, verbose=1)\n",
        "VGG19_checkpoint = tf.keras.callbacks.ModelCheckpoint(f'/content/drive/MyDrive/DACON_CVLC/Checkpoint/CVLC_06_VGG19.h5', monitor='val_accuracy', save_best_only=True, verbose=1)\n",
        "InceptionV3_checkpoint = tf.keras.callbacks.ModelCheckpoint(f'/content/drive/MyDrive/DACON_CVLC/Checkpoint/CVLC_06_InceptionV3.h5', monitor='val_accuracy', save_best_only=True, verbose=1)\n",
        "InceptionV2_checkpoint = tf.keras.callbacks.ModelCheckpoint(f'/content/drive/MyDrive/DACON_CVLC/Checkpoint/CVLC_06_InceptionV2.h5', monitor='val_accuracy', save_best_only=True, verbose=1)\n",
        "DenseNet121_checkpoint = tf.keras.callbacks.ModelCheckpoint(f'/content/drive/MyDrive/DACON_CVLC/Checkpoint/CVLC_06_DenseNet121.h5', monitor='val_accuracy', save_best_only=True, verbose=1)\n",
        "DenseNet169_checkpoint = tf.keras.callbacks.ModelCheckpoint(f'/content/drive/MyDrive/DACON_CVLC/Checkpoint/CVLC_06_DenseNet169.h5', monitor='val_accuracy', save_best_only=True, verbose=1)\n",
        "DenseNet201_checkpoint = tf.keras.callbacks.ModelCheckpoint(f'/content/drive/MyDrive/DACON_CVLC/Checkpoint/CVLC_06_DenseNet201.h5', monitor='val_accuracy', save_best_only=True, verbose=1)"
      ],
      "execution_count": 11,
      "outputs": []
    },
    {
      "cell_type": "code",
      "metadata": {
        "colab": {
          "base_uri": "https://localhost:8080/"
        },
        "id": "DKMJhbFnxotA",
        "outputId": "8d8f5ead-743c-4b36-fa5c-da9194ca0953"
      },
      "source": [
        "ResNet50_model.fit_generator(train_generator, epochs = 500, validation_data = val_generator, callbacks = [ResNet50_checkpoint])\n",
        "files.download('/content/drive/MyDrive/DACON_CVLC/Checkpoint/CVLC_06_ResNet50.h5')"
      ],
      "execution_count": null,
      "outputs": [
        {
          "output_type": "stream",
          "text": [
            "/usr/local/lib/python3.7/dist-packages/tensorflow/python/keras/engine/training.py:1940: UserWarning: `Model.fit_generator` is deprecated and will be removed in a future version. Please use `Model.fit`, which supports generators.\n",
            "  warnings.warn('`Model.fit_generator` is deprecated and '\n"
          ],
          "name": "stderr"
        },
        {
          "output_type": "stream",
          "text": [
            "Epoch 1/500\n",
            "52/52 [==============================] - 126s 2s/step - loss: 3.1322 - accuracy: 0.2022 - val_loss: 9.8554 - val_accuracy: 0.1010\n",
            "\n",
            "Epoch 00001: val_accuracy improved from -inf to 0.10099, saving model to /content/drive/MyDrive/DACON_CVLC/Checkpoint/CVLC_06_ResNet50.h5\n"
          ],
          "name": "stdout"
        },
        {
          "output_type": "stream",
          "text": [
            "/usr/local/lib/python3.7/dist-packages/tensorflow/python/keras/utils/generic_utils.py:497: CustomMaskWarning: Custom mask layers require a config and must override get_config. When loading, the custom mask layer must be passed to the custom_objects argument.\n",
            "  category=CustomMaskWarning)\n"
          ],
          "name": "stderr"
        },
        {
          "output_type": "stream",
          "text": [
            "Epoch 2/500\n",
            "52/52 [==============================] - 117s 2s/step - loss: 1.6891 - accuracy: 0.4086 - val_loss: 6.1889 - val_accuracy: 0.1034\n",
            "\n",
            "Epoch 00002: val_accuracy improved from 0.10099 to 0.10345, saving model to /content/drive/MyDrive/DACON_CVLC/Checkpoint/CVLC_06_ResNet50.h5\n",
            "Epoch 3/500\n",
            "52/52 [==============================] - 116s 2s/step - loss: 1.3752 - accuracy: 0.5615 - val_loss: 5.3726 - val_accuracy: 0.0985\n",
            "\n",
            "Epoch 00003: val_accuracy did not improve from 0.10345\n",
            "Epoch 4/500\n",
            "52/52 [==============================] - 118s 2s/step - loss: 1.0639 - accuracy: 0.6583 - val_loss: 9.4503 - val_accuracy: 0.0936\n",
            "\n",
            "Epoch 00004: val_accuracy did not improve from 0.10345\n",
            "Epoch 5/500\n",
            "52/52 [==============================] - 119s 2s/step - loss: 1.0210 - accuracy: 0.6766 - val_loss: 9.1903 - val_accuracy: 0.1182\n",
            "\n",
            "Epoch 00005: val_accuracy improved from 0.10345 to 0.11823, saving model to /content/drive/MyDrive/DACON_CVLC/Checkpoint/CVLC_06_ResNet50.h5\n",
            "Epoch 6/500\n",
            "52/52 [==============================] - 117s 2s/step - loss: 0.8187 - accuracy: 0.7326 - val_loss: 7.1618 - val_accuracy: 0.1379\n",
            "\n",
            "Epoch 00006: val_accuracy improved from 0.11823 to 0.13793, saving model to /content/drive/MyDrive/DACON_CVLC/Checkpoint/CVLC_06_ResNet50.h5\n",
            "Epoch 7/500\n",
            "52/52 [==============================] - 118s 2s/step - loss: 0.7926 - accuracy: 0.7339 - val_loss: 4.1087 - val_accuracy: 0.2537\n",
            "\n",
            "Epoch 00007: val_accuracy improved from 0.13793 to 0.25369, saving model to /content/drive/MyDrive/DACON_CVLC/Checkpoint/CVLC_06_ResNet50.h5\n",
            "Epoch 8/500\n",
            "52/52 [==============================] - 116s 2s/step - loss: 0.7552 - accuracy: 0.7613 - val_loss: 4.4387 - val_accuracy: 0.2537\n",
            "\n",
            "Epoch 00008: val_accuracy did not improve from 0.25369\n",
            "Epoch 9/500\n",
            "52/52 [==============================] - 117s 2s/step - loss: 0.7392 - accuracy: 0.7540 - val_loss: 1.9819 - val_accuracy: 0.5764\n",
            "\n",
            "Epoch 00009: val_accuracy improved from 0.25369 to 0.57635, saving model to /content/drive/MyDrive/DACON_CVLC/Checkpoint/CVLC_06_ResNet50.h5\n",
            "Epoch 10/500\n",
            "52/52 [==============================] - 116s 2s/step - loss: 0.6602 - accuracy: 0.7917 - val_loss: 2.3908 - val_accuracy: 0.5419\n",
            "\n",
            "Epoch 00010: val_accuracy did not improve from 0.57635\n",
            "Epoch 11/500\n",
            "52/52 [==============================] - 117s 2s/step - loss: 0.6499 - accuracy: 0.7948 - val_loss: 1.4719 - val_accuracy: 0.6921\n",
            "\n",
            "Epoch 00011: val_accuracy improved from 0.57635 to 0.69212, saving model to /content/drive/MyDrive/DACON_CVLC/Checkpoint/CVLC_06_ResNet50.h5\n",
            "Epoch 12/500\n",
            "52/52 [==============================] - ETA: 0s - loss: 0.5704 - accuracy: 0.8155"
          ],
          "name": "stdout"
        }
      ]
    },
    {
      "cell_type": "code",
      "metadata": {
        "id": "YJxUYksADFFc"
      },
      "source": [
        "ResNet101_model.fit_generator(train_generator, epochs = 500, validation_data = val_generator, callbacks = [ResNet101_checkpoint])\n",
        "files.download('/content/drive/MyDrive/DACON_CVLC/Checkpoint/CVLC_06_ResNet101.h5')"
      ],
      "execution_count": null,
      "outputs": []
    },
    {
      "cell_type": "code",
      "metadata": {
        "id": "7NJ8F7HNDGlD"
      },
      "source": [
        "ResNet152_model.fit_generator(train_generator, epochs = 500, validation_data=val_generator, callbacks=[ResNet152_checkpoint])\n",
        "files.download('/content/drive/MyDrive/DACON_CVLC/Checkpoint/CVLC_06_ResNet152.h5')"
      ],
      "execution_count": null,
      "outputs": []
    },
    {
      "cell_type": "code",
      "metadata": {
        "id": "TDQDcGhdDHnI"
      },
      "source": [
        "ResNet50V2_model.fit_generator(train_generator, epochs = 500, validation_data=val_generator, callbacks=[ResNet50V2_checkpoint])\n",
        "files.download('/content/drive/MyDrive/DACON_CVLC/Checkpoint/CVLC_06_ResNet50V2.h5')"
      ],
      "execution_count": null,
      "outputs": []
    },
    {
      "cell_type": "code",
      "metadata": {
        "id": "OfeQPdbJDI9h"
      },
      "source": [
        "ResNet101V2_model.fit_generator(train_generator, epochs = 500, validation_data=val_generator, callbacks=[ResNet101V2_checkpoint])\n",
        "files.download('/content/drive/MyDrive/DACON_CVLC/Checkpoint/CVLC_06_ResNet101V2.h5')"
      ],
      "execution_count": null,
      "outputs": []
    },
    {
      "cell_type": "code",
      "metadata": {
        "id": "zSmniqeJDKe2"
      },
      "source": [
        "ResNet152V2_model.fit_generator(train_generator, epochs = 500, validation_data=val_generator, callbacks=[ResNet152V2_checkpoint])\n",
        "files.download('/content/drive/MyDrive/DACON_CVLC/Checkpoint/CVLC_06_ResNet152V2.h5')"
      ],
      "execution_count": null,
      "outputs": []
    },
    {
      "cell_type": "code",
      "metadata": {
        "id": "3Rx0qV-_DLpj"
      },
      "source": [
        "ResNeXt50_model.fit_generator(train_generator, epochs = 500, validation_data=val_generator, callbacks=[ResNeXt50_checkpoint])\n",
        "files.download('/content/drive/MyDrive/DACON_CVLC/Checkpoint/CVLC_06_ResNeXt50.h5')"
      ],
      "execution_count": null,
      "outputs": []
    },
    {
      "cell_type": "code",
      "metadata": {
        "id": "il25kZVxDNDp"
      },
      "source": [
        "ResNeXt101_model.fit_generator(train_generator, epochs = 500, validation_data=val_generator, callbacks=[ResNeXt101_checkpoint])\n",
        "files.download('/content/drive/MyDrive/DACON_CVLC/Checkpoint/CVLC_06_ResNeXt101.h5')"
      ],
      "execution_count": null,
      "outputs": []
    },
    {
      "cell_type": "code",
      "metadata": {
        "id": "0yzpywaoDN_n"
      },
      "source": [
        "VGG16_model.fit_generator(train_generator, epochs = 500, validation_data=val_generator, callbacks=[VGG16_checkpoint])\n",
        "files.download('/content/drive/MyDrive/DACON_CVLC/Checkpoint/CVLC_06_VGG16.h5')"
      ],
      "execution_count": null,
      "outputs": []
    },
    {
      "cell_type": "code",
      "metadata": {
        "id": "obGf3yw0DPH6"
      },
      "source": [
        "VGG19_model.fit_generator(train_generator, epochs = 500, validation_data=val_generator, callbacks=[VGG19_checkpoint])\n",
        "files.download('/content/drive/MyDrive/DACON_CVLC/Checkpoint/CVLC_06_VGG19.h5')"
      ],
      "execution_count": null,
      "outputs": []
    },
    {
      "cell_type": "code",
      "metadata": {
        "id": "JAeDavrKDQTO"
      },
      "source": [
        "InceptionV3_model.fit_generator(train_generator, epochs = 500, validation_data=val_generator, callbacks=[InceptionV3_checkpoint])\n",
        "files.download('/content/drive/MyDrive/DACON_CVLC/Checkpoint/CVLC_06_InceptionV3.h5')"
      ],
      "execution_count": null,
      "outputs": []
    },
    {
      "cell_type": "code",
      "metadata": {
        "id": "b6o5FeM3DRNl"
      },
      "source": [
        "InceptionV2_model.fit_generator(train_generator, epochs = 500, validation_data=val_generator, callbacks=[InceptionV2_checkpoint])\n",
        "files.download('/content/drive/MyDrive/DACON_CVLC/Checkpoint/CVLC_06_InceptionV2.h5')"
      ],
      "execution_count": null,
      "outputs": []
    },
    {
      "cell_type": "code",
      "metadata": {
        "id": "U46jOdS6DSbn"
      },
      "source": [
        "DenseNet121_model.fit_generator(train_generator, epochs = 500, validation_data=val_generator, callbacks=[DenseNet121_checkpoint])\n",
        "files.download('/content/drive/MyDrive/DACON_CVLC/Checkpoint/CVLC_06_DenseNet121.h5')"
      ],
      "execution_count": null,
      "outputs": []
    },
    {
      "cell_type": "code",
      "metadata": {
        "id": "xyijRlNCDTaO"
      },
      "source": [
        "DenseNet169_model.fit_generator(train_generator, epochs = 500, validation_data=val_generator, callbacks=[DenseNet169_checkpoint])\n",
        "files.download('/content/drive/MyDrive/DACON_CVLC/Checkpoint/CVLC_06_DenseNet169.h5')"
      ],
      "execution_count": null,
      "outputs": []
    },
    {
      "cell_type": "code",
      "metadata": {
        "id": "pdc05G6CDCmp"
      },
      "source": [
        "DenseNet201_model.fit_generator(train_generator, epochs = 500, validation_data=val_generator, callbacks=[DenseNet201_checkpoint])\n",
        "files.download('/content/drive/MyDrive/DACON_CVLC/Checkpoint/CVLC_06_DenseNet201.h5')"
      ],
      "execution_count": null,
      "outputs": []
    },
    {
      "cell_type": "markdown",
      "metadata": {
        "id": "vawM8j_H9z2Q"
      },
      "source": [
        "# 결과 확인"
      ]
    },
    {
      "cell_type": "code",
      "metadata": {
        "id": "qcElIu93yIQU"
      },
      "source": [
        "ResNet50_model = tf.keras.models.load_model('/content/drive/MyDrive/DACON_CVLC/Checkpoint/CVLC_06_ResNet50.h5', compile=False)\n",
        "ResNet101_model = tf.keras.models.load_model('/content/drive/MyDrive/DACON_CVLC/Checkpoint/CVLC_06_ResNet101.h5', compile=False)\n",
        "ResNet152_model = tf.keras.models.load_model('/content/drive/MyDrive/DACON_CVLC/Checkpoint/CVLC_06_ResNet152.h5', compile=False)\n",
        "ResNet50V2_model = tf.keras.models.load_model('/content/drive/MyDrive/DACON_CVLC/Checkpoint/CVLC_06_ResNet50V2.h5', compile=False)\n",
        "ResNet101V2_model = tf.keras.models.load_model('/content/drive/MyDrive/DACON_CVLC/Checkpoint/CVLC_06_ResNet101V2.h5', compile=False)\n",
        "ResNeXt50_model = tf.keras.models.load_model('/content/drive/MyDrive/DACON_CVLC/Checkpoint/CVLC_06_ResNeXt50.h5', compile=False)\n",
        "ResNeXt101_model = tf.keras.models.load_model('/content/drive/MyDrive/DACON_CVLC/Checkpoint/CVLC_06_ResNeXt101.h5', compile=False)\n",
        "VGG16_model = tf.keras.models.load_model('/content/drive/MyDrive/DACON_CVLC/Checkpoint/CVLC_06_VGG16.h5', compile=False)\n",
        "VGG19_model = tf.keras.models.load_model('/content/drive/MyDrive/DACON_CVLC/Checkpoint/CVLC_06_VGG19.h5', compile=False)\n",
        "InceptionV3_model = tf.keras.models.load_model('/content/drive/MyDrive/DACON_CVLC/Checkpoint/CVLC_06_InceptionV3.h5', compile=False)\n",
        "InceptionV2_model = tf.keras.models.load_model('/content/drive/MyDrive/DACON_CVLC/Checkpoint/CVLC_06_InceptionV2.h5', compile=False)\n",
        "DenseNet121_model = tf.keras.models.load_model('/content/drive/MyDrive/DACON_CVLC/Checkpoint/CVLC_06_DenseNet121.h5', compile=False)\n",
        "DenseNet169_model = tf.keras.models.load_model('/content/drive/MyDrive/DACON_CVLC/Checkpoint/CVLC_06_DenseNet169.h5', compile=False)\n",
        "DenseNet201_model = tf.keras.models.load_model('/content/drive/MyDrive/DACON_CVLC/Checkpoint/CVLC_06_DenseNet201.h5', compile=False)"
      ],
      "execution_count": null,
      "outputs": []
    },
    {
      "cell_type": "code",
      "metadata": {
        "id": "kHmpkzRJyCrf"
      },
      "source": [
        "import matplotlib.pyplot as plt\n",
        "\n",
        "plt.plot(ResNet50_model.history.history[\"accuracy\"], label='ResNet50_ACC')\n",
        "plt.plot(ResNet50_model.history.history[\"val_accuracy\"], label='ResNet50_VAL')\n",
        "\n",
        "plt.plot(ResNet101_model.history.history[\"accuracy\"], label='ResNet101_ACC')\n",
        "plt.plot(ResNet101_model.history.history[\"val_accuracy\"], label='ResNet101_VAL')\n",
        "\n",
        "plt.plot(ResNet152_model.history.history[\"accuracy\"], label='ResNet152_ACC')\n",
        "plt.plot(ResNet152_model.history.history[\"val_accuracy\"], label='ResNet152_VAL')\n",
        "\n",
        "plt.plot(ResNet50V2_model.history.history[\"accuracy\"], label='ResNet50V2_ACC')\n",
        "plt.plot(ResNet50V2_model.history.history[\"val_accuracy\"], label='ResNet50V2_VAL')\n",
        "\n",
        "plt.plot(ResNet101V2_model.history.history[\"accuracy\"], label='ResNet101V2_ACC')\n",
        "plt.plot(ResNet101V2_model.history.history[\"val_accuracy\"], label='ResNet101V2_VAL')\n",
        "\n",
        "plt.plot(ResNet152V2_model.history.history[\"accuracy\"], label='ResNet152V2_ACC')\n",
        "plt.plot(ResNet152V2_model.history.history[\"val_accuracy\"], label='ResNet152V2_VAL')\n",
        "\n",
        "plt.plot(ResNeXt50_model.history.history[\"accuracy\"], label='ResNeXt50_ACC')\n",
        "plt.plot(ResNeXt50_model.history.history[\"val_accuracy\"], label='ResNeXt50_VAL')\n",
        "\n",
        "plt.plot(ResNeXt101_model.history.history[\"accuracy\"], label='ResNeXt101_ACC')\n",
        "plt.plot(ResNeXt101_model.history.history[\"val_accuracy\"], label='ResNeXt101_VAL')\n",
        "\n",
        "plt.plot(VGG16_model.history.history[\"accuracy\"], label='VGG16_ACC')\n",
        "plt.plot(VGG16_model.history.history[\"val_accuracy\"], label='VGG16_VAL')\n",
        "\n",
        "plt.plot(VGG19_model.history.history[\"accuracy\"], label='VGG19_ACC')\n",
        "plt.plot(VGG19_model.history.history[\"val_accuracy\"], label='VGG19_VAL')\n",
        "\n",
        "plt.plot(InceptionV3_model.history.history[\"accuracy\"], label='InceptionV3_ACC')\n",
        "plt.plot(InceptionV3_model.history.history[\"val_accuracy\"], label='InceptionV3_VAL')\n",
        "\n",
        "plt.plot(InceptionV2_model.history.history[\"accuracy\"], label='InceptionV2_ACC')\n",
        "plt.plot(InceptionV2_model.history.history[\"val_accuracy\"], label='InceptionV2_VAL')\n",
        "\n",
        "plt.plot(DenseNet121_model.history.history[\"accuracy\"], label='DenseNet121_ACC')\n",
        "plt.plot(DenseNet121_model.history.history[\"val_accuracy\"], label='DenseNet121_VAL')\n",
        "\n",
        "plt.plot(DenseNet169_model.history.history[\"accuracy\"], label='DenseNet169_ACC')\n",
        "plt.plot(DenseNet169_model.history.history[\"val_accuracy\"], label='DenseNet169_VAL')\n",
        "\n",
        "plt.plot(DenseNet201_model.history.history[\"accuracy\"], label='DenseNet201_ACC')\n",
        "plt.plot(DenseNet201_model.history.history[\"val_accuracy\"], label='DenseNet201_VAL')\n",
        "\n",
        "plt.legend()\n",
        "plt.show()"
      ],
      "execution_count": null,
      "outputs": []
    },
    {
      "cell_type": "code",
      "metadata": {
        "id": "hR4N2pAZyiR-"
      },
      "source": [
        "!mkdir /content/drive/MyDrive/DACON_CVLC/data/images_test/none\n",
        "!mv /content/drive/MyDrive/DACON_CVLC/data/images_test/*.png /content/drive/MyDrive/DACON_CVLC/data/images_test/none"
      ],
      "execution_count": null,
      "outputs": []
    },
    {
      "cell_type": "code",
      "metadata": {
        "id": "rxH98QOgyu1z"
      },
      "source": [
        "datagen = ImageDataGenerator(rescale=1./255)\n",
        "test_generator = datagen.flow_from_directory('/content/drive/MyDrive/DACON_CVLC/data/images_test', target_size=(224,224), color_mode='grayscale', class_mode='categorical', shuffle=False)"
      ],
      "execution_count": null,
      "outputs": []
    },
    {
      "cell_type": "code",
      "metadata": {
        "id": "WxxxMnN3y2Wb"
      },
      "source": [
        "test_generator.reset()\n",
        "ResNet50_predict = ResNet50_model.predict_generator(test_generator).argmax(axis=1)\n",
        "ResNet101_predict = ResNet101_model.predict_generator(test_generator).argmax(axis=1)\n",
        "ResNet152_predict = ResNet152_model.predict_generator(test_generator).argmax(axis=1)\n",
        "ResNet50V2_predict = ResNet50V2_model.predict_generator(test_generator).argmax(axis=1)\n",
        "ResNet101V2_predict = ResNet101V2_model.predict_generator(test_generator).argmax(axis=1)\n",
        "ResNeXt50_predict = ResNeXt50_model.predict_generator(test_generator).argmax(axis=1)\n",
        "ResNeXt101_predict = ResNeXt101_model.predict_generator(test_generator).argmax(axis=1)\n",
        "VGG16_predict = VGG16_model.predict_generator(test_generator).argmax(axis=1)\n",
        "VGG19_predict = VGG19_model.predict_generator(test_generator).argmax(axis=1)\n",
        "InceptionV3_predict = InceptionV3_model.predict_generator(test_generator).argmax(axis=1)\n",
        "InceptionV2_predict = InceptionV2_model.predict_generator(test_generator).argmax(axis=1)\n",
        "DenseNet121_predict = DenseNet121_model.predict_generator(test_generator).argmax(axis=1)\n",
        "DenseNet169_predict = DenseNet169_model.predict_generator(test_generator).argmax(axis=1)\n",
        "DenseNet201_predict = DenseNet201_model.predict_generator(test_generator).argmax(axis=1)"
      ],
      "execution_count": null,
      "outputs": []
    },
    {
      "cell_type": "code",
      "metadata": {
        "id": "yS_FkqQXky0N"
      },
      "source": [
        "submission = pd.read_csv('/content/drive/MyDrive/DACON_CVLC/data/submission.csv')\n",
        "submission.head()"
      ],
      "execution_count": null,
      "outputs": []
    },
    {
      "cell_type": "code",
      "metadata": {
        "id": "FuO66ssGk2Mr"
      },
      "source": [
        "submission[\"ResNet50_predict\"] = ResNet50_predict\n",
        "submission[\"ResNet101_predict\"] = ResNet101_predict\n",
        "submission[\"ResNet152_predict\"] = ResNet152_predict\n",
        "submission[\"ResNet50V2_predict\"] = ResNet50V2_predict\n",
        "submission[\"ResNet101V2_predict\"] = ResNet101V2_predict\n",
        "submission[\"ResNeXt50_predict\"] = ResNeXt50_predict\n",
        "submission[\"ResNeXt101_predict\"] = ResNeXt101_predict\n",
        "submission[\"VGG16_predict\"] = VGG16_predict\n",
        "submission[\"VGG19_predict\"] = VGG19_predict\n",
        "submission[\"InceptionV3_predict\"] = InceptionV3_predict\n",
        "submission[\"InceptionV2_predict\"] = InceptionV2_predict\n",
        "submission[\"DenseNet121_predict\"] = DenseNet121_predict\n",
        "submission[\"DenseNet169_predict\"] = DenseNet169_predict\n",
        "submission[\"DenseNet201_predict\"] = DenseNet201_predict\n",
        "submission.head()"
      ],
      "execution_count": null,
      "outputs": []
    },
    {
      "cell_type": "code",
      "metadata": {
        "id": "ZHR6GhZGlKaU"
      },
      "source": [
        "from collections import Counter\n",
        "\n",
        "for i in range(len(submission)) :\n",
        "    predicts = submission.loc[i, ['ResNet50_predict','ResNet101_predict','ResNet152_predict','ResNet50V2_predict','ResNet101V2_predict','ResNeXt50_predict','ResNeXt101_predict','VGG16_predict','VGG19_predict','InceptionV3_predict','InceptionV2_predict','DenseNet121_predict','DenseNet169_predict','DenseNet201_predict']]\n",
        "    submission.at[i, \"digit\"] = Counter(predicts).most_common(n=1)[0][0]\n",
        "\n",
        "submission.head()"
      ],
      "execution_count": null,
      "outputs": []
    },
    {
      "cell_type": "code",
      "metadata": {
        "id": "5nP3JeCWlc4V"
      },
      "source": [
        "submission = submission[['id', 'digit']]\n",
        "submission.head()"
      ],
      "execution_count": null,
      "outputs": []
    },
    {
      "cell_type": "code",
      "metadata": {
        "id": "hemVp1ZGlejO"
      },
      "source": [
        "from google.colab import files\n",
        "submission.to_csv('/content/drive/MyDrive/DACON_CVLC/Submission/06_submission.csv', index=False)\n",
        "files.download('/content/drive/MyDrive/DACON_CVLC/Submission/06_submission.csv')"
      ],
      "execution_count": null,
      "outputs": []
    }
  ]
}