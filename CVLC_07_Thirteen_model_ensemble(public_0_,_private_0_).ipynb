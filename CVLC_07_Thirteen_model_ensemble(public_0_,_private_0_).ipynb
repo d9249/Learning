{
  "nbformat": 4,
  "nbformat_minor": 0,
  "metadata": {
    "colab": {
      "name": "CVLC-07-Thirteen model ensemble(public-0., private-0.).ipynb",
      "provenance": [],
      "collapsed_sections": [],
      "machine_shape": "hm",
      "include_colab_link": true
    },
    "kernelspec": {
      "name": "python3",
      "display_name": "Python 3"
    },
    "accelerator": "GPU"
  },
  "cells": [
    {
      "cell_type": "markdown",
      "metadata": {
        "id": "view-in-github",
        "colab_type": "text"
      },
      "source": [
        "<a href=\"https://colab.research.google.com/github/d9249/DACON/blob/main/CVLC_07_Thirteen_model_ensemble(public_0_%2C_private_0_).ipynb\" target=\"_parent\"><img src=\"https://colab.research.google.com/assets/colab-badge.svg\" alt=\"Open In Colab\"/></a>"
      ]
    },
    {
      "cell_type": "code",
      "metadata": {
        "id": "mYaBdU_2v9A3",
        "colab": {
          "base_uri": "https://localhost:8080/"
        },
        "outputId": "9813ea27-9d37-4b72-db17-3451d1a05573"
      },
      "source": [
        "from google.colab import drive\n",
        "drive.mount('/content/drive')"
      ],
      "execution_count": 195,
      "outputs": [
        {
          "output_type": "stream",
          "text": [
            "Drive already mounted at /content/drive; to attempt to forcibly remount, call drive.mount(\"/content/drive\", force_remount=True).\n"
          ],
          "name": "stdout"
        }
      ]
    },
    {
      "cell_type": "code",
      "metadata": {
        "id": "nHkfaJbVq51_"
      },
      "source": [
        "import pandas as pd\n",
        "\n",
        "train = pd.read_csv('/content/drive/MyDrive/DACON_CVLC/data/train.csv')\n",
        "test = pd.read_csv('/content/drive/MyDrive/DACON_CVLC/data/test.csv')"
      ],
      "execution_count": 196,
      "outputs": []
    },
    {
      "cell_type": "code",
      "metadata": {
        "id": "IbhE79B3q54r",
        "colab": {
          "base_uri": "https://localhost:8080/",
          "height": 253
        },
        "outputId": "7c0f8d2d-f4eb-4a63-ffbc-f5b11d2606a6"
      },
      "source": [
        "train.head()"
      ],
      "execution_count": 197,
      "outputs": [
        {
          "output_type": "execute_result",
          "data": {
            "text/html": [
              "<div>\n",
              "<style scoped>\n",
              "    .dataframe tbody tr th:only-of-type {\n",
              "        vertical-align: middle;\n",
              "    }\n",
              "\n",
              "    .dataframe tbody tr th {\n",
              "        vertical-align: top;\n",
              "    }\n",
              "\n",
              "    .dataframe thead th {\n",
              "        text-align: right;\n",
              "    }\n",
              "</style>\n",
              "<table border=\"1\" class=\"dataframe\">\n",
              "  <thead>\n",
              "    <tr style=\"text-align: right;\">\n",
              "      <th></th>\n",
              "      <th>id</th>\n",
              "      <th>digit</th>\n",
              "      <th>letter</th>\n",
              "      <th>0</th>\n",
              "      <th>1</th>\n",
              "      <th>2</th>\n",
              "      <th>3</th>\n",
              "      <th>4</th>\n",
              "      <th>5</th>\n",
              "      <th>6</th>\n",
              "      <th>7</th>\n",
              "      <th>8</th>\n",
              "      <th>9</th>\n",
              "      <th>10</th>\n",
              "      <th>11</th>\n",
              "      <th>12</th>\n",
              "      <th>13</th>\n",
              "      <th>14</th>\n",
              "      <th>15</th>\n",
              "      <th>16</th>\n",
              "      <th>17</th>\n",
              "      <th>18</th>\n",
              "      <th>19</th>\n",
              "      <th>20</th>\n",
              "      <th>21</th>\n",
              "      <th>22</th>\n",
              "      <th>23</th>\n",
              "      <th>24</th>\n",
              "      <th>25</th>\n",
              "      <th>26</th>\n",
              "      <th>27</th>\n",
              "      <th>28</th>\n",
              "      <th>29</th>\n",
              "      <th>30</th>\n",
              "      <th>31</th>\n",
              "      <th>32</th>\n",
              "      <th>33</th>\n",
              "      <th>34</th>\n",
              "      <th>35</th>\n",
              "      <th>36</th>\n",
              "      <th>...</th>\n",
              "      <th>744</th>\n",
              "      <th>745</th>\n",
              "      <th>746</th>\n",
              "      <th>747</th>\n",
              "      <th>748</th>\n",
              "      <th>749</th>\n",
              "      <th>750</th>\n",
              "      <th>751</th>\n",
              "      <th>752</th>\n",
              "      <th>753</th>\n",
              "      <th>754</th>\n",
              "      <th>755</th>\n",
              "      <th>756</th>\n",
              "      <th>757</th>\n",
              "      <th>758</th>\n",
              "      <th>759</th>\n",
              "      <th>760</th>\n",
              "      <th>761</th>\n",
              "      <th>762</th>\n",
              "      <th>763</th>\n",
              "      <th>764</th>\n",
              "      <th>765</th>\n",
              "      <th>766</th>\n",
              "      <th>767</th>\n",
              "      <th>768</th>\n",
              "      <th>769</th>\n",
              "      <th>770</th>\n",
              "      <th>771</th>\n",
              "      <th>772</th>\n",
              "      <th>773</th>\n",
              "      <th>774</th>\n",
              "      <th>775</th>\n",
              "      <th>776</th>\n",
              "      <th>777</th>\n",
              "      <th>778</th>\n",
              "      <th>779</th>\n",
              "      <th>780</th>\n",
              "      <th>781</th>\n",
              "      <th>782</th>\n",
              "      <th>783</th>\n",
              "    </tr>\n",
              "  </thead>\n",
              "  <tbody>\n",
              "    <tr>\n",
              "      <th>0</th>\n",
              "      <td>1</td>\n",
              "      <td>5</td>\n",
              "      <td>L</td>\n",
              "      <td>1</td>\n",
              "      <td>1</td>\n",
              "      <td>1</td>\n",
              "      <td>4</td>\n",
              "      <td>3</td>\n",
              "      <td>0</td>\n",
              "      <td>0</td>\n",
              "      <td>4</td>\n",
              "      <td>4</td>\n",
              "      <td>3</td>\n",
              "      <td>0</td>\n",
              "      <td>4</td>\n",
              "      <td>3</td>\n",
              "      <td>3</td>\n",
              "      <td>3</td>\n",
              "      <td>4</td>\n",
              "      <td>4</td>\n",
              "      <td>0</td>\n",
              "      <td>0</td>\n",
              "      <td>1</td>\n",
              "      <td>1</td>\n",
              "      <td>3</td>\n",
              "      <td>4</td>\n",
              "      <td>0</td>\n",
              "      <td>4</td>\n",
              "      <td>2</td>\n",
              "      <td>0</td>\n",
              "      <td>4</td>\n",
              "      <td>0</td>\n",
              "      <td>1</td>\n",
              "      <td>3</td>\n",
              "      <td>1</td>\n",
              "      <td>0</td>\n",
              "      <td>4</td>\n",
              "      <td>1</td>\n",
              "      <td>1</td>\n",
              "      <td>3</td>\n",
              "      <td>...</td>\n",
              "      <td>4</td>\n",
              "      <td>3</td>\n",
              "      <td>4</td>\n",
              "      <td>1</td>\n",
              "      <td>3</td>\n",
              "      <td>0</td>\n",
              "      <td>0</td>\n",
              "      <td>1</td>\n",
              "      <td>3</td>\n",
              "      <td>3</td>\n",
              "      <td>3</td>\n",
              "      <td>0</td>\n",
              "      <td>3</td>\n",
              "      <td>2</td>\n",
              "      <td>2</td>\n",
              "      <td>1</td>\n",
              "      <td>0</td>\n",
              "      <td>1</td>\n",
              "      <td>0</td>\n",
              "      <td>0</td>\n",
              "      <td>3</td>\n",
              "      <td>0</td>\n",
              "      <td>0</td>\n",
              "      <td>4</td>\n",
              "      <td>2</td>\n",
              "      <td>0</td>\n",
              "      <td>3</td>\n",
              "      <td>4</td>\n",
              "      <td>1</td>\n",
              "      <td>1</td>\n",
              "      <td>2</td>\n",
              "      <td>1</td>\n",
              "      <td>0</td>\n",
              "      <td>1</td>\n",
              "      <td>2</td>\n",
              "      <td>4</td>\n",
              "      <td>4</td>\n",
              "      <td>4</td>\n",
              "      <td>3</td>\n",
              "      <td>4</td>\n",
              "    </tr>\n",
              "    <tr>\n",
              "      <th>1</th>\n",
              "      <td>2</td>\n",
              "      <td>0</td>\n",
              "      <td>B</td>\n",
              "      <td>0</td>\n",
              "      <td>4</td>\n",
              "      <td>0</td>\n",
              "      <td>0</td>\n",
              "      <td>4</td>\n",
              "      <td>1</td>\n",
              "      <td>1</td>\n",
              "      <td>1</td>\n",
              "      <td>4</td>\n",
              "      <td>2</td>\n",
              "      <td>0</td>\n",
              "      <td>3</td>\n",
              "      <td>4</td>\n",
              "      <td>0</td>\n",
              "      <td>0</td>\n",
              "      <td>2</td>\n",
              "      <td>3</td>\n",
              "      <td>4</td>\n",
              "      <td>0</td>\n",
              "      <td>3</td>\n",
              "      <td>4</td>\n",
              "      <td>3</td>\n",
              "      <td>0</td>\n",
              "      <td>2</td>\n",
              "      <td>2</td>\n",
              "      <td>1</td>\n",
              "      <td>4</td>\n",
              "      <td>2</td>\n",
              "      <td>3</td>\n",
              "      <td>3</td>\n",
              "      <td>4</td>\n",
              "      <td>1</td>\n",
              "      <td>2</td>\n",
              "      <td>4</td>\n",
              "      <td>2</td>\n",
              "      <td>0</td>\n",
              "      <td>3</td>\n",
              "      <td>...</td>\n",
              "      <td>4</td>\n",
              "      <td>2</td>\n",
              "      <td>3</td>\n",
              "      <td>0</td>\n",
              "      <td>0</td>\n",
              "      <td>0</td>\n",
              "      <td>0</td>\n",
              "      <td>4</td>\n",
              "      <td>3</td>\n",
              "      <td>2</td>\n",
              "      <td>2</td>\n",
              "      <td>4</td>\n",
              "      <td>2</td>\n",
              "      <td>1</td>\n",
              "      <td>1</td>\n",
              "      <td>1</td>\n",
              "      <td>3</td>\n",
              "      <td>3</td>\n",
              "      <td>1</td>\n",
              "      <td>2</td>\n",
              "      <td>4</td>\n",
              "      <td>4</td>\n",
              "      <td>4</td>\n",
              "      <td>2</td>\n",
              "      <td>2</td>\n",
              "      <td>4</td>\n",
              "      <td>4</td>\n",
              "      <td>0</td>\n",
              "      <td>4</td>\n",
              "      <td>2</td>\n",
              "      <td>0</td>\n",
              "      <td>3</td>\n",
              "      <td>0</td>\n",
              "      <td>1</td>\n",
              "      <td>4</td>\n",
              "      <td>1</td>\n",
              "      <td>4</td>\n",
              "      <td>2</td>\n",
              "      <td>1</td>\n",
              "      <td>2</td>\n",
              "    </tr>\n",
              "    <tr>\n",
              "      <th>2</th>\n",
              "      <td>3</td>\n",
              "      <td>4</td>\n",
              "      <td>L</td>\n",
              "      <td>1</td>\n",
              "      <td>1</td>\n",
              "      <td>2</td>\n",
              "      <td>2</td>\n",
              "      <td>1</td>\n",
              "      <td>1</td>\n",
              "      <td>1</td>\n",
              "      <td>0</td>\n",
              "      <td>2</td>\n",
              "      <td>1</td>\n",
              "      <td>3</td>\n",
              "      <td>2</td>\n",
              "      <td>2</td>\n",
              "      <td>2</td>\n",
              "      <td>4</td>\n",
              "      <td>1</td>\n",
              "      <td>1</td>\n",
              "      <td>4</td>\n",
              "      <td>1</td>\n",
              "      <td>0</td>\n",
              "      <td>1</td>\n",
              "      <td>3</td>\n",
              "      <td>4</td>\n",
              "      <td>2</td>\n",
              "      <td>2</td>\n",
              "      <td>2</td>\n",
              "      <td>4</td>\n",
              "      <td>1</td>\n",
              "      <td>1</td>\n",
              "      <td>2</td>\n",
              "      <td>0</td>\n",
              "      <td>3</td>\n",
              "      <td>0</td>\n",
              "      <td>2</td>\n",
              "      <td>3</td>\n",
              "      <td>4</td>\n",
              "      <td>0</td>\n",
              "      <td>...</td>\n",
              "      <td>3</td>\n",
              "      <td>0</td>\n",
              "      <td>4</td>\n",
              "      <td>0</td>\n",
              "      <td>3</td>\n",
              "      <td>0</td>\n",
              "      <td>2</td>\n",
              "      <td>0</td>\n",
              "      <td>1</td>\n",
              "      <td>4</td>\n",
              "      <td>2</td>\n",
              "      <td>3</td>\n",
              "      <td>4</td>\n",
              "      <td>4</td>\n",
              "      <td>4</td>\n",
              "      <td>0</td>\n",
              "      <td>2</td>\n",
              "      <td>0</td>\n",
              "      <td>4</td>\n",
              "      <td>4</td>\n",
              "      <td>1</td>\n",
              "      <td>3</td>\n",
              "      <td>0</td>\n",
              "      <td>3</td>\n",
              "      <td>2</td>\n",
              "      <td>0</td>\n",
              "      <td>2</td>\n",
              "      <td>3</td>\n",
              "      <td>0</td>\n",
              "      <td>2</td>\n",
              "      <td>3</td>\n",
              "      <td>3</td>\n",
              "      <td>3</td>\n",
              "      <td>0</td>\n",
              "      <td>2</td>\n",
              "      <td>0</td>\n",
              "      <td>3</td>\n",
              "      <td>0</td>\n",
              "      <td>2</td>\n",
              "      <td>2</td>\n",
              "    </tr>\n",
              "    <tr>\n",
              "      <th>3</th>\n",
              "      <td>4</td>\n",
              "      <td>9</td>\n",
              "      <td>D</td>\n",
              "      <td>1</td>\n",
              "      <td>2</td>\n",
              "      <td>0</td>\n",
              "      <td>2</td>\n",
              "      <td>0</td>\n",
              "      <td>4</td>\n",
              "      <td>0</td>\n",
              "      <td>3</td>\n",
              "      <td>4</td>\n",
              "      <td>3</td>\n",
              "      <td>1</td>\n",
              "      <td>0</td>\n",
              "      <td>3</td>\n",
              "      <td>2</td>\n",
              "      <td>2</td>\n",
              "      <td>0</td>\n",
              "      <td>3</td>\n",
              "      <td>4</td>\n",
              "      <td>1</td>\n",
              "      <td>0</td>\n",
              "      <td>4</td>\n",
              "      <td>1</td>\n",
              "      <td>2</td>\n",
              "      <td>2</td>\n",
              "      <td>3</td>\n",
              "      <td>2</td>\n",
              "      <td>2</td>\n",
              "      <td>0</td>\n",
              "      <td>2</td>\n",
              "      <td>0</td>\n",
              "      <td>3</td>\n",
              "      <td>0</td>\n",
              "      <td>3</td>\n",
              "      <td>2</td>\n",
              "      <td>4</td>\n",
              "      <td>0</td>\n",
              "      <td>0</td>\n",
              "      <td>...</td>\n",
              "      <td>0</td>\n",
              "      <td>3</td>\n",
              "      <td>0</td>\n",
              "      <td>1</td>\n",
              "      <td>4</td>\n",
              "      <td>1</td>\n",
              "      <td>3</td>\n",
              "      <td>1</td>\n",
              "      <td>2</td>\n",
              "      <td>1</td>\n",
              "      <td>1</td>\n",
              "      <td>1</td>\n",
              "      <td>2</td>\n",
              "      <td>2</td>\n",
              "      <td>2</td>\n",
              "      <td>4</td>\n",
              "      <td>3</td>\n",
              "      <td>4</td>\n",
              "      <td>3</td>\n",
              "      <td>0</td>\n",
              "      <td>4</td>\n",
              "      <td>1</td>\n",
              "      <td>2</td>\n",
              "      <td>4</td>\n",
              "      <td>1</td>\n",
              "      <td>4</td>\n",
              "      <td>0</td>\n",
              "      <td>1</td>\n",
              "      <td>0</td>\n",
              "      <td>4</td>\n",
              "      <td>3</td>\n",
              "      <td>3</td>\n",
              "      <td>2</td>\n",
              "      <td>0</td>\n",
              "      <td>1</td>\n",
              "      <td>4</td>\n",
              "      <td>0</td>\n",
              "      <td>0</td>\n",
              "      <td>1</td>\n",
              "      <td>1</td>\n",
              "    </tr>\n",
              "    <tr>\n",
              "      <th>4</th>\n",
              "      <td>5</td>\n",
              "      <td>6</td>\n",
              "      <td>A</td>\n",
              "      <td>3</td>\n",
              "      <td>0</td>\n",
              "      <td>2</td>\n",
              "      <td>4</td>\n",
              "      <td>0</td>\n",
              "      <td>3</td>\n",
              "      <td>0</td>\n",
              "      <td>4</td>\n",
              "      <td>2</td>\n",
              "      <td>4</td>\n",
              "      <td>2</td>\n",
              "      <td>1</td>\n",
              "      <td>4</td>\n",
              "      <td>1</td>\n",
              "      <td>1</td>\n",
              "      <td>4</td>\n",
              "      <td>4</td>\n",
              "      <td>0</td>\n",
              "      <td>2</td>\n",
              "      <td>3</td>\n",
              "      <td>4</td>\n",
              "      <td>4</td>\n",
              "      <td>3</td>\n",
              "      <td>3</td>\n",
              "      <td>3</td>\n",
              "      <td>3</td>\n",
              "      <td>4</td>\n",
              "      <td>1</td>\n",
              "      <td>0</td>\n",
              "      <td>3</td>\n",
              "      <td>0</td>\n",
              "      <td>3</td>\n",
              "      <td>0</td>\n",
              "      <td>0</td>\n",
              "      <td>0</td>\n",
              "      <td>1</td>\n",
              "      <td>1</td>\n",
              "      <td>...</td>\n",
              "      <td>2</td>\n",
              "      <td>1</td>\n",
              "      <td>3</td>\n",
              "      <td>2</td>\n",
              "      <td>1</td>\n",
              "      <td>4</td>\n",
              "      <td>2</td>\n",
              "      <td>3</td>\n",
              "      <td>2</td>\n",
              "      <td>2</td>\n",
              "      <td>1</td>\n",
              "      <td>0</td>\n",
              "      <td>4</td>\n",
              "      <td>2</td>\n",
              "      <td>2</td>\n",
              "      <td>1</td>\n",
              "      <td>2</td>\n",
              "      <td>1</td>\n",
              "      <td>0</td>\n",
              "      <td>3</td>\n",
              "      <td>2</td>\n",
              "      <td>2</td>\n",
              "      <td>2</td>\n",
              "      <td>2</td>\n",
              "      <td>1</td>\n",
              "      <td>4</td>\n",
              "      <td>2</td>\n",
              "      <td>1</td>\n",
              "      <td>2</td>\n",
              "      <td>1</td>\n",
              "      <td>4</td>\n",
              "      <td>4</td>\n",
              "      <td>3</td>\n",
              "      <td>2</td>\n",
              "      <td>1</td>\n",
              "      <td>3</td>\n",
              "      <td>4</td>\n",
              "      <td>3</td>\n",
              "      <td>1</td>\n",
              "      <td>2</td>\n",
              "    </tr>\n",
              "  </tbody>\n",
              "</table>\n",
              "<p>5 rows × 787 columns</p>\n",
              "</div>"
            ],
            "text/plain": [
              "   id  digit letter  0  1  2  3  4  ...  776  777  778  779  780  781  782  783\n",
              "0   1      5      L  1  1  1  4  3  ...    0    1    2    4    4    4    3    4\n",
              "1   2      0      B  0  4  0  0  4  ...    0    1    4    1    4    2    1    2\n",
              "2   3      4      L  1  1  2  2  1  ...    3    0    2    0    3    0    2    2\n",
              "3   4      9      D  1  2  0  2  0  ...    2    0    1    4    0    0    1    1\n",
              "4   5      6      A  3  0  2  4  0  ...    3    2    1    3    4    3    1    2\n",
              "\n",
              "[5 rows x 787 columns]"
            ]
          },
          "metadata": {
            "tags": []
          },
          "execution_count": 197
        }
      ]
    },
    {
      "cell_type": "code",
      "metadata": {
        "id": "8qBWziyZrqBo"
      },
      "source": [
        "!mkdir /content/drive/MyDrive/DACON_CVLC/data/images_train\n",
        "!mkdir /content/drive/MyDrive/DACON_CVLC/data/images_train/0\n",
        "!mkdir /content/drive/MyDrive/DACON_CVLC/data/images_train/1\n",
        "!mkdir /content/drive/MyDrive/DACON_CVLC/data/images_train/2\n",
        "!mkdir /content/drive/MyDrive/DACON_CVLC/data/images_train/3\n",
        "!mkdir /content/drive/MyDrive/DACON_CVLC/data/images_train/4\n",
        "!mkdir /content/drive/MyDrive/DACON_CVLC/data/images_train/5\n",
        "!mkdir /content/drive/MyDrive/DACON_CVLC/data/images_train/6\n",
        "!mkdir /content/drive/MyDrive/DACON_CVLC/data/images_train/7\n",
        "!mkdir /content/drive/MyDrive/DACON_CVLC/data/images_train/8\n",
        "!mkdir /content/drive/MyDrive/DACON_CVLC/data/images_train/9\n",
        "!mkdir /content/drive/MyDrive/DACON_CVLC/data/images_test"
      ],
      "execution_count": 198,
      "outputs": []
    },
    {
      "cell_type": "code",
      "metadata": {
        "id": "3fjN8mIDrazg"
      },
      "source": [
        "import cv2\n",
        "\n",
        "for idx in range(len(train)) :\n",
        "    img = train.loc[idx, '0':].values.reshape(28, 28).astype(int)\n",
        "    digit = train.loc[idx, 'digit']\n",
        "    cv2.imwrite(f'/content/drive/MyDrive/DACON_CVLC/data/images_train/{digit}/{train[\"id\"][idx]}.png', img)"
      ],
      "execution_count": 199,
      "outputs": []
    },
    {
      "cell_type": "code",
      "metadata": {
        "id": "k4P9AD1gyotc"
      },
      "source": [
        "import cv2\n",
        "\n",
        "for idx in range(len(test)) :\n",
        "    img = test.loc[idx, '0':].values.reshape(28, 28).astype(int)\n",
        "    cv2.imwrite(f'/content/drive/MyDrive/DACON_CVLC/data/images_test/{test[\"id\"][idx]}.png', img)"
      ],
      "execution_count": 200,
      "outputs": []
    },
    {
      "cell_type": "code",
      "metadata": {
        "id": "ACO-d4DhwS4g"
      },
      "source": [
        "import tensorflow as tf\n",
        "\n",
        "ResNet50_model =  tf.keras.applications.ResNet50(weights=None, include_top=True, input_shape=(224, 224, 1), classes=10)\n",
        "ResNet101_model =  tf.keras.applications.ResNet101(weights=None, include_top=True, input_shape=(224, 224, 1), classes=10)\n",
        "ResNet152_model =  tf.keras.applications.ResNet152(weights=None, include_top=True, input_shape=(224, 224, 1), classes=10)\n",
        "ResNet50V2_model =  tf.keras.applications.ResNet50V2(weights=None, include_top=True, input_shape=(224, 224, 1), classes=10)\n",
        "ResNet101V2_model =  tf.keras.applications.ResNet101V2(weights=None, include_top=True, input_shape=(224, 224, 1), classes=10)\n",
        "ResNet152V2_model =  tf.keras.applications.ResNet152V2(weights=None, include_top=True, input_shape=(224, 224, 1), classes=10)\n",
        "InceptionResNetV2_model = tf.keras.applications.InceptionResNetV2(weights=None, include_top=True, input_shape=(224, 224, 1), classes=10)\n",
        "InceptionV3_model =  tf.keras.applications.InceptionV3(weights=None, include_top=True, input_shape=(224, 224, 1), classes=10)\n",
        "VGG16_model = tf.keras.applications.VGG16(weights=None, include_top=True, input_shape=(224, 224, 1), classes=10)\n",
        "VGG19_model = tf.keras.applications.VGG19(weights=None, include_top=True, input_shape=(224, 224, 1), classes=10)\n",
        "DenseNet121_model = tf.keras.applications.DenseNet121(weights=None, include_top=True, input_shape=(224, 224, 1), classes=10)\n",
        "DenseNet169_model = tf.keras.applications.DenseNet169(weights=None, include_top=True, input_shape=(224, 224, 1), classes=10)\n",
        "DenseNet201_model = tf.keras.applications.DenseNet201(weights=None, include_top=True, input_shape=(224, 224, 1), classes=10)"
      ],
      "execution_count": 201,
      "outputs": []
    },
    {
      "cell_type": "code",
      "metadata": {
        "id": "Fa0a8wTXzD3z"
      },
      "source": [
        "# model_2 = tf.keras.Sequential([\n",
        "#                                tf.keras.applications.InceptionV3(weights=None, include_top=False, input_shape=(224, 224, 1)),\n",
        "#                                tf.keras.layers.GlobalAveragePooling2D(),\n",
        "#                                tf.keras.layers.Dense(1024, kernel_initializer='he_normal'),\n",
        "#                                tf.keras.layers.BatchNormalization(),\n",
        "#                                tf.keras.layers.Activation('relu'),\n",
        "#                                tf.keras.layers.Dense(512, kernel_initializer='he_normal'),\n",
        "#                                tf.keras.layers.BatchNormalization(),\n",
        "#                                tf.keras.layers.Activation('relu'),\n",
        "#                                tf.keras.layers.Dense(256, kernel_initializer='he_normal'),\n",
        "#                                tf.keras.layers.BatchNormalization(),\n",
        "#                                tf.keras.layers.Activation('relu'),\n",
        "#                                tf.keras.layers.Dense(10, kernel_initializer='he_normal', activation='softmax', name='predictions')\n",
        "#                                ])"
      ],
      "execution_count": 202,
      "outputs": []
    },
    {
      "cell_type": "code",
      "metadata": {
        "id": "oKOzLTBwzFmr"
      },
      "source": [
        "# model_3 = tf.keras.Sequential([\n",
        "#                                tf.keras.applications.Xception(weights=None, include_top=False, input_shape=(224, 224, 1)),\n",
        "#                                tf.keras.layers.GlobalAveragePooling2D(),\n",
        "#                                tf.keras.layers.Dense(1024, kernel_initializer='he_normal'),\n",
        "#                                tf.keras.layers.BatchNormalization(),\n",
        "#                                tf.keras.layers.Activation('relu'),\n",
        "#                                tf.keras.layers.Dense(512, kernel_initializer='he_normal'),\n",
        "#                                tf.keras.layers.BatchNormalization(),\n",
        "#                                tf.keras.layers.Activation('relu'),\n",
        "#                                tf.keras.layers.Dense(256, kernel_initializer='he_normal'),\n",
        "#                                tf.keras.layers.BatchNormalization(),\n",
        "#                                tf.keras.layers.Activation('relu'),\n",
        "#                                tf.keras.layers.Dense(10, kernel_initializer='he_normal', activation='softmax', name='predictions')\n",
        "#                                ])"
      ],
      "execution_count": 203,
      "outputs": []
    },
    {
      "cell_type": "code",
      "metadata": {
        "id": "L_vZLSC7wv1I",
        "colab": {
          "base_uri": "https://localhost:8080/"
        },
        "outputId": "cefcec15-d8b2-47ee-cfb7-d34d515cf773"
      },
      "source": [
        "# model_1.compile(loss='categorical_crossentropy', optimizer='adam', metrics=['accuracy'])\n",
        "# model_2.compile(loss='categorical_crossentropy', optimizer='adam', metrics=['accuracy'])\n",
        "# model_3.compile(loss='categorical_crossentropy', optimizer='adam', metrics=['accuracy'])\n",
        "\n",
        "from tensorflow.keras.optimizers import Adam\n",
        "ResNet50_model.compile(loss='categorical_crossentropy', optimizer=Adam(lr=0.002,epsilon=None), metrics=['accuracy'])\n",
        "ResNet101_model.compile(loss='categorical_crossentropy', optimizer=Adam(lr=0.002,epsilon=None), metrics=['accuracy'])\n",
        "ResNet152_model.compile(loss='categorical_crossentropy', optimizer=Adam(lr=0.002,epsilon=None), metrics=['accuracy'])\n",
        "ResNet50V2_model.compile(loss='categorical_crossentropy', optimizer=Adam(lr=0.002,epsilon=None), metrics=['accuracy'])\n",
        "ResNet101V2_model.compile(loss='categorical_crossentropy', optimizer=Adam(lr=0.002,epsilon=None), metrics=['accuracy'])\n",
        "ResNet152V2_model.compile(loss='categorical_crossentropy', optimizer=Adam(lr=0.002,epsilon=None), metrics=['accuracy'])\n",
        "VGG16_model.compile(loss='categorical_crossentropy', optimizer=Adam(lr=0.002,epsilon=None), metrics=['accuracy'])\n",
        "VGG19_model.compile(loss='categorical_crossentropy', optimizer=Adam(lr=0.002,epsilon=None), metrics=['accuracy'])\n",
        "InceptionV3_model.compile(loss='categorical_crossentropy', optimizer=Adam(lr=0.002,epsilon=None), metrics=['accuracy'])\n",
        "InceptionResNetV2_model.compile(loss='categorical_crossentropy', optimizer=Adam(lr=0.002,epsilon=None), metrics=['accuracy'])\n",
        "DenseNet121_model.compile(loss='categorical_crossentropy', optimizer=Adam(lr=0.002,epsilon=None), metrics=['accuracy'])\n",
        "DenseNet169_model.compile(loss='categorical_crossentropy', optimizer=Adam(lr=0.002,epsilon=None), metrics=['accuracy'])\n",
        "DenseNet201_model.compile(loss='categorical_crossentropy', optimizer=Adam(lr=0.002,epsilon=None), metrics=['accuracy'])"
      ],
      "execution_count": 204,
      "outputs": [
        {
          "output_type": "stream",
          "text": [
            "/usr/local/lib/python3.7/dist-packages/tensorflow/python/keras/optimizer_v2/optimizer_v2.py:375: UserWarning: The `lr` argument is deprecated, use `learning_rate` instead.\n",
            "  \"The `lr` argument is deprecated, use `learning_rate` instead.\")\n"
          ],
          "name": "stderr"
        }
      ]
    },
    {
      "cell_type": "code",
      "metadata": {
        "id": "mFfY3blSw62V",
        "colab": {
          "base_uri": "https://localhost:8080/"
        },
        "outputId": "4b61acfa-9645-4662-f482-01b0d9fec61a"
      },
      "source": [
        "from tensorflow.keras.preprocessing.image import ImageDataGenerator\n",
        "\n",
        "datagen = ImageDataGenerator(rescale=1./255, validation_split=0.2,\n",
        "                             rotation_range=10,\n",
        "                             width_shift_range=0.1,\n",
        "                             height_shift_range=0.1)\n",
        "\n",
        "train_generator = datagen.flow_from_directory('./images_train', target_size=(224,224), color_mode='grayscale', class_mode='categorical', subset='training')\n",
        "val_generator = datagen.flow_from_directory('./images_train', target_size=(224,224), color_mode='grayscale', class_mode='categorical', subset='validation')"
      ],
      "execution_count": 205,
      "outputs": [
        {
          "output_type": "stream",
          "text": [
            "Found 1642 images belonging to 10 classes.\n",
            "Found 406 images belonging to 10 classes.\n"
          ],
          "name": "stdout"
        }
      ]
    },
    {
      "cell_type": "code",
      "metadata": {
        "id": "ih_pVNUqyQDE"
      },
      "source": [
        "ResNet50_checkpoint = tf.keras.callbacks.ModelCheckpoint(f'/content/drive/MyDrive/DACON_CVLC/Checkpoint/CVLC_07_ResNet50.h5', monitor='val_accuracy', save_best_only=True, verbose=1)\n",
        "ResNet101_checkpoint = tf.keras.callbacks.ModelCheckpoint(f'/content/drive/MyDrive/DACON_CVLC/Checkpoint/CVLC_07_ResNet101.h5', monitor='val_accuracy', save_best_only=True, verbose=1)\n",
        "ResNet152_checkpoint = tf.keras.callbacks.ModelCheckpoint(f'/content/drive/MyDrive/DACON_CVLC/Checkpoint/CVLC_07_ResNet152.h5', monitor='val_accuracy', save_best_only=True, verbose=1)\n",
        "ResNet50V2_checkpoint = tf.keras.callbacks.ModelCheckpoint(f'/content/drive/MyDrive/DACON_CVLC/Checkpoint/CVLC_07_ResNet50V2.h5', monitor='val_accuracy', save_best_only=True, verbose=1)\n",
        "ResNet101V2_checkpoint = tf.keras.callbacks.ModelCheckpoint(f'/content/drive/MyDrive/DACON_CVLC/Checkpoint/CVLC_07_ResNet101V2.h5', monitor='val_accuracy', save_best_only=True, verbose=1)\n",
        "ResNet152V2_checkpoint = tf.keras.callbacks.ModelCheckpoint(f'/content/drive/MyDrive/DACON_CVLC/Checkpoint/CVLC_07_ResNet152V2.h5', monitor='val_accuracy', save_best_only=True, verbose=1)\n",
        "VGG16_checkpoint = tf.keras.callbacks.ModelCheckpoint(f'/content/drive/MyDrive/DACON_CVLC/Checkpoint/CVLC_07_VGG16.h5', monitor='val_accuracy', save_best_only=True, verbose=1)\n",
        "VGG19_checkpoint = tf.keras.callbacks.ModelCheckpoint(f'/content/drive/MyDrive/DACON_CVLC/Checkpoint/CVLC_07_VGG19.h5', monitor='val_accuracy', save_best_only=True, verbose=1)\n",
        "InceptionV3_checkpoint = tf.keras.callbacks.ModelCheckpoint(f'/content/drive/MyDrive/DACON_CVLC/Checkpoint/CVLC_07_InceptionV3.h5', monitor='val_accuracy', save_best_only=True, verbose=1)\n",
        "InceptionResNetV2_checkpoint = tf.keras.callbacks.ModelCheckpoint(f'/content/drive/MyDrive/DACON_CVLC/Checkpoint/CVLC_07_InceptionResNetV2.h5', monitor='val_accuracy', save_best_only=True, verbose=1)\n",
        "DenseNet121_checkpoint = tf.keras.callbacks.ModelCheckpoint(f'/content/drive/MyDrive/DACON_CVLC/Checkpoint/CVLC_07_DenseNet121.h5', monitor='val_accuracy', save_best_only=True, verbose=1)\n",
        "DenseNet169_checkpoint = tf.keras.callbacks.ModelCheckpoint(f'/content/drive/MyDrive/DACON_CVLC/Checkpoint/CVLC_07_DenseNet169.h5', monitor='val_accuracy', save_best_only=True, verbose=1)\n",
        "DenseNet201_checkpoint = tf.keras.callbacks.ModelCheckpoint(f'/content/drive/MyDrive/DACON_CVLC/Checkpoint/CVLC_07_DenseNet201.h5', monitor='val_accuracy', save_best_only=True, verbose=1)"
      ],
      "execution_count": 206,
      "outputs": []
    },
    {
      "cell_type": "code",
      "metadata": {
        "id": "-BsFym7MwYeM"
      },
      "source": [
        "# model_1.fit_generator(train_generator, epochs=500, validation_data=val_generator, callbacks=[checkpoint_1])"
      ],
      "execution_count": 207,
      "outputs": []
    },
    {
      "cell_type": "code",
      "metadata": {
        "id": "L0W-dn1ezJnS"
      },
      "source": [
        "# model_2.fit_generator(train_generator, epochs=500, validation_data=val_generator, callbacks=[checkpoint_2])"
      ],
      "execution_count": 208,
      "outputs": []
    },
    {
      "cell_type": "code",
      "metadata": {
        "id": "vOszhUVAzLEY"
      },
      "source": [
        "# model_3.fit_generator(train_generator, epochs=500, validation_data=val_generator, callbacks=[checkpoint_3])"
      ],
      "execution_count": 209,
      "outputs": []
    },
    {
      "cell_type": "code",
      "metadata": {
        "id": "DKMJhbFnxotA",
        "colab": {
          "base_uri": "https://localhost:8080/"
        },
        "outputId": "ad9c24c1-7dfd-46fe-8b66-0735f9ff2d35"
      },
      "source": [
        "ResNet50_model.fit_generator(train_generator, epochs = 500, validation_data = val_generator, callbacks = [ResNet50_checkpoint])\n",
        "files.download('/content/drive/MyDrive/DACON_CVLC/Checkpoint/CVLC_07_ResNet50.h5')"
      ],
      "execution_count": null,
      "outputs": [
        {
          "output_type": "stream",
          "text": [
            "/usr/local/lib/python3.7/dist-packages/tensorflow/python/keras/engine/training.py:1940: UserWarning: `Model.fit_generator` is deprecated and will be removed in a future version. Please use `Model.fit`, which supports generators.\n",
            "  warnings.warn('`Model.fit_generator` is deprecated and '\n"
          ],
          "name": "stderr"
        },
        {
          "output_type": "stream",
          "text": [
            "Epoch 1/500\n",
            "52/52 [==============================] - 10s 196ms/step - loss: 1.8661 - accuracy: 0.3459 - val_loss: 5.1434 - val_accuracy: 0.0985\n",
            "\n",
            "Epoch 00001: val_accuracy did not improve from 0.11330\n",
            "Epoch 2/500\n",
            "52/52 [==============================] - 10s 196ms/step - loss: 1.4754 - accuracy: 0.4878 - val_loss: 10.3838 - val_accuracy: 0.0936\n",
            "\n",
            "Epoch 00002: val_accuracy did not improve from 0.11330\n",
            "Epoch 3/500\n",
            "52/52 [==============================] - 10s 195ms/step - loss: 1.2965 - accuracy: 0.5615 - val_loss: 9.3204 - val_accuracy: 0.0936\n",
            "\n",
            "Epoch 00003: val_accuracy did not improve from 0.11330\n",
            "Epoch 4/500\n",
            "52/52 [==============================] - 10s 197ms/step - loss: 0.9959 - accuracy: 0.6571 - val_loss: 15.2106 - val_accuracy: 0.0936\n",
            "\n",
            "Epoch 00004: val_accuracy did not improve from 0.11330\n",
            "Epoch 5/500\n",
            "52/52 [==============================] - 10s 199ms/step - loss: 0.9414 - accuracy: 0.6754 - val_loss: 8.0241 - val_accuracy: 0.1355\n",
            "\n",
            "Epoch 00005: val_accuracy improved from 0.11330 to 0.13547, saving model to /content/drive/MyDrive/DACON_CVLC/Checkpoint/CVLC_07_ResNet50.h5\n"
          ],
          "name": "stdout"
        },
        {
          "output_type": "stream",
          "text": [
            "/usr/local/lib/python3.7/dist-packages/tensorflow/python/keras/utils/generic_utils.py:497: CustomMaskWarning: Custom mask layers require a config and must override get_config. When loading, the custom mask layer must be passed to the custom_objects argument.\n",
            "  category=CustomMaskWarning)\n"
          ],
          "name": "stderr"
        },
        {
          "output_type": "stream",
          "text": [
            "Epoch 6/500\n",
            "52/52 [==============================] - 10s 198ms/step - loss: 0.8847 - accuracy: 0.7083 - val_loss: 17.3816 - val_accuracy: 0.1798\n",
            "\n",
            "Epoch 00006: val_accuracy improved from 0.13547 to 0.17980, saving model to /content/drive/MyDrive/DACON_CVLC/Checkpoint/CVLC_07_ResNet50.h5\n",
            "Epoch 7/500\n",
            "52/52 [==============================] - 10s 195ms/step - loss: 0.7950 - accuracy: 0.7381 - val_loss: 1.1676 - val_accuracy: 0.6059\n",
            "\n",
            "Epoch 00007: val_accuracy improved from 0.17980 to 0.60591, saving model to /content/drive/MyDrive/DACON_CVLC/Checkpoint/CVLC_07_ResNet50.h5\n",
            "Epoch 8/500\n",
            "28/52 [===============>..............] - ETA: 4s - loss: 0.7303 - accuracy: 0.7574"
          ],
          "name": "stdout"
        }
      ]
    },
    {
      "cell_type": "code",
      "metadata": {
        "id": "YJxUYksADFFc"
      },
      "source": [
        "ResNet101_model.fit_generator(train_generator, epochs = 500, validation_data = val_generator, callbacks = [ResNet101_checkpoint])\n",
        "files.download('/content/drive/MyDrive/DACON_CVLC/Checkpoint/CVLC_07_ResNet101.h5')"
      ],
      "execution_count": null,
      "outputs": []
    },
    {
      "cell_type": "code",
      "metadata": {
        "id": "7NJ8F7HNDGlD"
      },
      "source": [
        "ResNet152_model.fit_generator(train_generator, epochs = 500, validation_data=val_generator, callbacks=[ResNet152_checkpoint])\n",
        "files.download('/content/drive/MyDrive/DACON_CVLC/Checkpoint/CVLC_07_ResNet152.h5')"
      ],
      "execution_count": null,
      "outputs": []
    },
    {
      "cell_type": "code",
      "metadata": {
        "id": "TDQDcGhdDHnI"
      },
      "source": [
        "ResNet50V2_model.fit_generator(train_generator, epochs = 500, validation_data=val_generator, callbacks=[ResNet50V2_checkpoint])\n",
        "files.download('/content/drive/MyDrive/DACON_CVLC/Checkpoint/CVLC_07_ResNet50V2.h5')"
      ],
      "execution_count": null,
      "outputs": []
    },
    {
      "cell_type": "code",
      "metadata": {
        "id": "OfeQPdbJDI9h"
      },
      "source": [
        "ResNet101V2_model.fit_generator(train_generator, epochs = 500, validation_data=val_generator, callbacks=[ResNet101V2_checkpoint])\n",
        "files.download('/content/drive/MyDrive/DACON_CVLC/Checkpoint/CVLC_07_ResNet101V2.h5')"
      ],
      "execution_count": null,
      "outputs": []
    },
    {
      "cell_type": "code",
      "metadata": {
        "id": "zSmniqeJDKe2"
      },
      "source": [
        "ResNet152V2_model.fit_generator(train_generator, epochs = 500, validation_data=val_generator, callbacks=[ResNet152V2_checkpoint])\n",
        "files.download('/content/drive/MyDrive/DACON_CVLC/Checkpoint/CVLC_07_ResNet152V2.h5')"
      ],
      "execution_count": null,
      "outputs": []
    },
    {
      "cell_type": "code",
      "metadata": {
        "id": "0yzpywaoDN_n"
      },
      "source": [
        "VGG16_model.fit_generator(train_generator, epochs = 500, validation_data=val_generator, callbacks=[VGG16_checkpoint])\n",
        "files.download('/content/drive/MyDrive/DACON_CVLC/Checkpoint/CVLC_07_VGG16.h5')"
      ],
      "execution_count": null,
      "outputs": []
    },
    {
      "cell_type": "code",
      "metadata": {
        "id": "obGf3yw0DPH6"
      },
      "source": [
        "VGG19_model.fit_generator(train_generator, epochs = 500, validation_data=val_generator, callbacks=[VGG19_checkpoint])\n",
        "files.download('/content/drive/MyDrive/DACON_CVLC/Checkpoint/CVLC_07_VGG19.h5')"
      ],
      "execution_count": null,
      "outputs": []
    },
    {
      "cell_type": "code",
      "metadata": {
        "id": "JAeDavrKDQTO"
      },
      "source": [
        "InceptionV3_model.fit_generator(train_generator, epochs = 500, validation_data=val_generator, callbacks=[InceptionV3_checkpoint])\n",
        "files.download('/content/drive/MyDrive/DACON_CVLC/Checkpoint/CVLC_07_InceptionV3.h5')"
      ],
      "execution_count": null,
      "outputs": []
    },
    {
      "cell_type": "code",
      "metadata": {
        "id": "b6o5FeM3DRNl"
      },
      "source": [
        "InceptionResNetV2_model.fit_generator(train_generator, epochs = 500, validation_data=val_generator, callbacks=[InceptionResNetV2_checkpoint])\n",
        "files.download('/content/drive/MyDrive/DACON_CVLC/Checkpoint/CVLC_07_InceptionResNetV2.h5')"
      ],
      "execution_count": null,
      "outputs": []
    },
    {
      "cell_type": "code",
      "metadata": {
        "id": "U46jOdS6DSbn"
      },
      "source": [
        "DenseNet121_model.fit_generator(train_generator, epochs = 500, validation_data=val_generator, callbacks=[DenseNet121_checkpoint])\n",
        "files.download('/content/drive/MyDrive/DACON_CVLC/Checkpoint/CVLC_07_DenseNet121.h5')"
      ],
      "execution_count": null,
      "outputs": []
    },
    {
      "cell_type": "code",
      "metadata": {
        "id": "xyijRlNCDTaO"
      },
      "source": [
        "DenseNet169_model.fit_generator(train_generator, epochs = 500, validation_data=val_generator, callbacks=[DenseNet169_checkpoint])\n",
        "files.download('/content/drive/MyDrive/DACON_CVLC/Checkpoint/CVLC_07_DenseNet169.h5')"
      ],
      "execution_count": null,
      "outputs": []
    },
    {
      "cell_type": "code",
      "metadata": {
        "id": "pdc05G6CDCmp"
      },
      "source": [
        "DenseNet201_model.fit_generator(train_generator, epochs = 500, validation_data=val_generator, callbacks=[DenseNet201_checkpoint])\n",
        "files.download('/content/drive/MyDrive/DACON_CVLC/Checkpoint/CVLC_07_DenseNet201.h5')"
      ],
      "execution_count": null,
      "outputs": []
    },
    {
      "cell_type": "code",
      "metadata": {
        "id": "AKw8NPyflIbf"
      },
      "source": [
        "# import matplotlib.pyplot as plt\n",
        "\n",
        "# plt.plot(model_1.history.history[\"accuracy\"], label='m1_acc')\n",
        "# plt.plot(model_1.history.history[\"val_accuracy\"], label='m1_vacc')\n",
        "\n",
        "# plt.plot(model_2.history.history[\"accuracy\"], label='m2_acc')\n",
        "# plt.plot(model_2.history.history[\"val_accuracy\"], label='m2_vacc')\n",
        "\n",
        "# plt.plot(model_3.history.history[\"accuracy\"], label='m3_acc')\n",
        "# plt.plot(model_3.history.history[\"val_accuracy\"], label='m3_acc')\n",
        "\n",
        "# plt.legend()\n",
        "# plt.show()"
      ],
      "execution_count": null,
      "outputs": []
    },
    {
      "cell_type": "code",
      "metadata": {
        "id": "jwCU-wIQ2ov5"
      },
      "source": [
        "import matplotlib.pyplot as plt\n",
        "\n",
        "plt.plot(ResNet50_model.history.history[\"accuracy\"], label='ResNet50_ACC')\n",
        "plt.plot(ResNet50_model.history.history[\"val_accuracy\"], label='ResNet50_VAL')\n",
        "\n",
        "plt.plot(ResNet101_model.history.history[\"accuracy\"], label='ResNet101_ACC')\n",
        "plt.plot(ResNet101_model.history.history[\"val_accuracy\"], label='ResNet101_VAL')\n",
        "\n",
        "plt.plot(ResNet152_model.history.history[\"accuracy\"], label='ResNet152_ACC')\n",
        "plt.plot(ResNet152_model.history.history[\"val_accuracy\"], label='ResNet152_VAL')\n",
        "\n",
        "plt.plot(ResNet50V2_model.history.history[\"accuracy\"], label='ResNet50V2_ACC')\n",
        "plt.plot(ResNet50V2_model.history.history[\"val_accuracy\"], label='ResNet50V2_VAL')\n",
        "\n",
        "plt.plot(ResNet101V2_model.history.history[\"accuracy\"], label='ResNet101V2_ACC')\n",
        "plt.plot(ResNet101V2_model.history.history[\"val_accuracy\"], label='ResNet101V2_VAL')\n",
        "\n",
        "plt.plot(ResNet152V2_model.history.history[\"accuracy\"], label='ResNet152V2_ACC')\n",
        "plt.plot(ResNet152V2_model.history.history[\"val_accuracy\"], label='ResNet152V2_VAL')\n",
        "\n",
        "plt.plot(VGG16_model.history.history[\"accuracy\"], label='VGG16_ACC')\n",
        "plt.plot(VGG16_model.history.history[\"val_accuracy\"], label='VGG16_VAL')\n",
        "\n",
        "plt.plot(VGG19_model.history.history[\"accuracy\"], label='VGG19_ACC')\n",
        "plt.plot(VGG19_model.history.history[\"val_accuracy\"], label='VGG19_VAL')\n",
        "\n",
        "plt.plot(InceptionV3_model.history.history[\"accuracy\"], label='InceptionV3_ACC')\n",
        "plt.plot(InceptionV3_model.history.history[\"val_accuracy\"], label='InceptionV3_VAL')\n",
        "\n",
        "plt.plot(InceptionV2_model.history.history[\"accuracy\"], label='InceptionResNetV2_ACC')\n",
        "plt.plot(InceptionV2_model.history.history[\"val_accuracy\"], label='InceptionResNetV2_VAL')\n",
        "\n",
        "plt.plot(DenseNet121_model.history.history[\"accuracy\"], label='DenseNet121_ACC')\n",
        "plt.plot(DenseNet121_model.history.history[\"val_accuracy\"], label='DenseNet121_VAL')\n",
        "\n",
        "plt.plot(DenseNet169_model.history.history[\"accuracy\"], label='DenseNet169_ACC')\n",
        "plt.plot(DenseNet169_model.history.history[\"val_accuracy\"], label='DenseNet169_VAL')\n",
        "\n",
        "plt.plot(DenseNet201_model.history.history[\"accuracy\"], label='DenseNet201_ACC')\n",
        "plt.plot(DenseNet201_model.history.history[\"val_accuracy\"], label='DenseNet201_VAL')\n",
        "\n",
        "plt.legend()\n",
        "plt.show()"
      ],
      "execution_count": null,
      "outputs": []
    },
    {
      "cell_type": "code",
      "metadata": {
        "id": "SUxHcaWl0z30"
      },
      "source": [
        "# model_1 = tf.keras.models.load_model('/content/drive/MyDrive/DACON_CVLC/Checkpoint/model_1.h5', compile=False)\n",
        "# model_2 = tf.keras.models.load_model('/content/drive/MyDrive/DACON_CVLC/Checkpoint/model_2.h5', compile=False)\n",
        "# model_3 = tf.keras.models.load_model('/content/drive/MyDrive/DACON_CVLC/Checkpoint/model_3.h5', compile=False)"
      ],
      "execution_count": null,
      "outputs": []
    },
    {
      "cell_type": "code",
      "metadata": {
        "id": "2_ixogRq2rPq"
      },
      "source": [
        "ResNet50_model = tf.keras.models.load_model('/content/drive/MyDrive/DACON_CVLC/Checkpoint/CVLC_07_ResNet50.h5', compile=False)\n",
        "ResNet101_model = tf.keras.models.load_model('/content/drive/MyDrive/DACON_CVLC/Checkpoint/CVLC_07_ResNet101.h5', compile=False)\n",
        "ResNet152_model = tf.keras.models.load_model('/content/drive/MyDrive/DACON_CVLC/Checkpoint/CVLC_07_ResNet152.h5', compile=False)\n",
        "ResNet50V2_model = tf.keras.models.load_model('/content/drive/MyDrive/DACON_CVLC/Checkpoint/CVLC_07_ResNet50V2.h5', compile=False)\n",
        "ResNet101V2_model = tf.keras.models.load_model('/content/drive/MyDrive/DACON_CVLC/Checkpoint/CVLC_07_ResNet101V2.h5', compile=False)\n",
        "ResNet152V2_model = tf.keras.models.load_model('/content/drive/MyDrive/DACON_CVLC/Checkpoint/CVLC_07_ResNet152V2.h5', compile=False)\n",
        "VGG16_model = tf.keras.models.load_model('/content/drive/MyDrive/DACON_CVLC/Checkpoint/CVLC_07_VGG16.h5', compile=False)\n",
        "VGG19_model = tf.keras.models.load_model('/content/drive/MyDrive/DACON_CVLC/Checkpoint/CVLC_07_VGG19.h5', compile=False)\n",
        "InceptionV3_model = tf.keras.models.load_model('/content/drive/MyDrive/DACON_CVLC/Checkpoint/CVLC_07_InceptionV3.h5', compile=False)\n",
        "InceptionResNetV2_model = tf.keras.models.load_model('/content/drive/MyDrive/DACON_CVLC/Checkpoint/CVLC_07_InceptionResNetV2.h5', compile=False)\n",
        "DenseNet121_model = tf.keras.models.load_model('/content/drive/MyDrive/DACON_CVLC/Checkpoint/CVLC_07_DenseNet121.h5', compile=False)\n",
        "DenseNet169_model = tf.keras.models.load_model('/content/drive/MyDrive/DACON_CVLC/Checkpoint/CVLC_07_DenseNet169.h5', compile=False)\n",
        "DenseNet201_model = tf.keras.models.load_model('/content/drive/MyDrive/DACON_CVLC/Checkpoint/CVLC_07_DenseNet201.h5', compile=False)"
      ],
      "execution_count": null,
      "outputs": []
    },
    {
      "cell_type": "code",
      "metadata": {
        "id": "fh6zt68w12-Q"
      },
      "source": [
        "!mkdir images_test/none\n",
        "!mv images_test/*.png images_test/none"
      ],
      "execution_count": null,
      "outputs": []
    },
    {
      "cell_type": "code",
      "metadata": {
        "id": "4O3HCJC21Act"
      },
      "source": [
        "datagen = ImageDataGenerator(rescale=1./255)\n",
        "test_generator = datagen.flow_from_directory('./images_test', target_size=(224,224), color_mode='grayscale', class_mode='categorical', shuffle=False)"
      ],
      "execution_count": null,
      "outputs": []
    },
    {
      "cell_type": "code",
      "metadata": {
        "id": "VNcRHVsg1Ale"
      },
      "source": [
        "# predict_1 = model_1.predict_generator(test_generator).argmax(axis=1)\n",
        "# predict_2 = model_2.predict_generator(test_generator).argmax(axis=1)\n",
        "# predict_3 = model_3.predict_generator(test_generator).argmax(axis=1)"
      ],
      "execution_count": null,
      "outputs": []
    },
    {
      "cell_type": "code",
      "metadata": {
        "id": "nFEcoCR-3DNH"
      },
      "source": [
        "ResNet50_predict = ResNet50_model.predict_generator(test_generator).argmax(axis=1)\n",
        "ResNet101_predict = ResNet101_model.predict_generator(test_generator).argmax(axis=1)\n",
        "ResNet152_predict = ResNet152_model.predict_generator(test_generator).argmax(axis=1)\n",
        "ResNet50V2_predict = ResNet50V2_model.predict_generator(test_generator).argmax(axis=1)\n",
        "ResNet101V2_predict = ResNet101V2_model.predict_generator(test_generator).argmax(axis=1)\n",
        "ResNet152V2_predict = ResNet152V2_model.predict_generator(test_generator).argmax(axis=1)\n",
        "VGG16_predict = VGG16_model.predict_generator(test_generator).argmax(axis=1)\n",
        "VGG19_predict = VGG19_model.predict_generator(test_generator).argmax(axis=1)\n",
        "InceptionV3_predict = InceptionV3_model.predict_generator(test_generator).argmax(axis=1)\n",
        "InceptionResNetV2_predict = InceptionResNetV2_model.predict_generator(test_generator).argmax(axis=1)\n",
        "DenseNet121_predict = DenseNet121_model.predict_generator(test_generator).argmax(axis=1)\n",
        "DenseNet169_predict = DenseNet169_model.predict_generator(test_generator).argmax(axis=1)\n",
        "DenseNet201_predict = DenseNet201_model.predict_generator(test_generator).argmax(axis=1)"
      ],
      "execution_count": null,
      "outputs": []
    },
    {
      "cell_type": "code",
      "metadata": {
        "id": "qYhGZuzr1AjD"
      },
      "source": [
        "submission = pd.read_csv('/content/drive/MyDrive/DACON_CVLC/data/submission.csv')\n",
        "submission.head()"
      ],
      "execution_count": null,
      "outputs": []
    },
    {
      "cell_type": "code",
      "metadata": {
        "id": "VWALVGA1shFz"
      },
      "source": [
        "import numpy as np\n",
        "mylist = []\n",
        "\n",
        "for i in range(len(submission)):\n",
        "    name =  test_generator.filenames\n",
        "    id = name[i].split('/')[1].rstrip('.').split('.')[0]\n",
        "    mylist.append(id)\n",
        "print(mylist)"
      ],
      "execution_count": null,
      "outputs": []
    },
    {
      "cell_type": "code",
      "metadata": {
        "id": "7xjLSWZJvuVK"
      },
      "source": [
        "for i in range(len(submission)):\n",
        "    submission[\"id\"][i] = mylist[i]"
      ],
      "execution_count": null,
      "outputs": []
    },
    {
      "cell_type": "code",
      "metadata": {
        "id": "jSjwhrzw4SJD"
      },
      "source": [
        "# submission[\"predict_1\"] = predict_1\n",
        "# submission[\"predict_2\"] = predict_2\n",
        "# submission[\"predict_3\"] = predict_3\n",
        "# submission.head()"
      ],
      "execution_count": null,
      "outputs": []
    },
    {
      "cell_type": "code",
      "metadata": {
        "id": "WNg9gk9z3Noq"
      },
      "source": [
        "submission[\"ResNet50_predict\"] = ResNet50_predict\n",
        "submission[\"ResNet101_predict\"] = ResNet101_predict\n",
        "submission[\"ResNet152_predict\"] = ResNet152_predict\n",
        "submission[\"ResNet50V2_predict\"] = ResNet50V2_predict\n",
        "submission[\"ResNet101V2_predict\"] = ResNet101V2_predict\n",
        "submission[\"ResNet152V2_predict\"] = ResNet152V2_predict\n",
        "submission[\"VGG16_predict\"] = VGG16_predict\n",
        "submission[\"VGG19_predict\"] = VGG19_predict\n",
        "submission[\"InceptionV3_predict\"] = InceptionV3_predict\n",
        "submission[\"InceptionResNetV2_predict\"] = InceptionResNetV2_predict\n",
        "submission[\"DenseNet121_predict\"] = DenseNet121_predict\n",
        "submission[\"DenseNet169_predict\"] = DenseNet169_predict\n",
        "submission[\"DenseNet201_predict\"] = DenseNet201_predict\n",
        "submission.head()"
      ],
      "execution_count": null,
      "outputs": []
    },
    {
      "cell_type": "code",
      "metadata": {
        "id": "-Smd-xg6deOK"
      },
      "source": [
        "from collections import Counter\n",
        "\n",
        "for i in range(len(submission)) :\n",
        "    predicts = submission.loc[i, ['ResNet50_predict','ResNet101_predict','ResNet152_predict','ResNet50V2_predict','ResNet101V2_predict','ResNet152V2_predict','VGG16_predict','VGG19_predict','InceptionV3_predict','InceptionResNetV2_predict','DenseNet121_predict','DenseNet169_predict','DenseNet201_predict']]\n",
        "    submission.at[i, \"digit\"] = Counter(predicts).most_common(n=1)[0][0]\n",
        "\n",
        "submission.head()"
      ],
      "execution_count": null,
      "outputs": []
    },
    {
      "cell_type": "code",
      "metadata": {
        "id": "Pg9m6Zgk4foS"
      },
      "source": [
        "submission = submission[['id', 'digit']]\n",
        "submission.head()"
      ],
      "execution_count": null,
      "outputs": []
    },
    {
      "cell_type": "code",
      "metadata": {
        "id": "flAHWrtH4flu"
      },
      "source": [
        "from google.colab import files\n",
        "\n",
        "submission.to_csv('/content/drive/MyDrive/DACON_CVLC/Submission/submission_ensemble_13.csv', index=False)\n",
        "files.download('/content/drive/MyDrive/DACON_CVLC/Submission/submission_ensemble_13.csv')"
      ],
      "execution_count": null,
      "outputs": []
    }
  ]
}