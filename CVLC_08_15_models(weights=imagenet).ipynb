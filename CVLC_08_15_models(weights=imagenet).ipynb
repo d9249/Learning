{
  "nbformat": 4,
  "nbformat_minor": 0,
  "metadata": {
    "colab": {
      "name": "CVLC_08_15-models(weights=imagenet).ipynb",
      "provenance": [],
      "collapsed_sections": [],
      "machine_shape": "hm",
      "authorship_tag": "ABX9TyNndP5YZX5HhVeGJdfucKN9",
      "include_colab_link": true
    },
    "kernelspec": {
      "name": "python3",
      "display_name": "Python 3"
    },
    "language_info": {
      "name": "python"
    },
    "accelerator": "TPU"
  },
  "cells": [
    {
      "cell_type": "markdown",
      "metadata": {
        "id": "view-in-github",
        "colab_type": "text"
      },
      "source": [
        "<a href=\"https://colab.research.google.com/github/d9249/DACON/blob/main/CVLC_08_15_models(weights%3Dimagenet).ipynb\" target=\"_parent\"><img src=\"https://colab.research.google.com/assets/colab-badge.svg\" alt=\"Open In Colab\"/></a>"
      ]
    },
    {
      "cell_type": "code",
      "metadata": {
        "id": "LmEaPJckuX-D"
      },
      "source": [
        "from google.colab import drive\n",
        "drive.mount('/content/drive')"
      ],
      "execution_count": null,
      "outputs": []
    },
    {
      "cell_type": "code",
      "metadata": {
        "id": "88GAtllsufPj"
      },
      "source": [
        "import pandas as pd\n",
        "train = pd.read_csv('/content/drive/MyDrive/DACON_CVLC/data/train.csv')\n",
        "test = pd.read_csv('/content/drive/MyDrive/DACON_CVLC/data/test.csv')\n",
        "sub = pd.read_csv('/content/drive/MyDrive/DACON_CVLC/data/submission.csv')"
      ],
      "execution_count": null,
      "outputs": []
    },
    {
      "cell_type": "code",
      "metadata": {
        "id": "jhxQt2hlphSW"
      },
      "source": [
        "!mkdir /content/drive/MyDrive/DACON_CVLC/data/images_train\n",
        "!mkdir /content/drive/MyDrive/DACON_CVLC/data/images_train/0\n",
        "!mkdir /content/drive/MyDrive/DACON_CVLC/data/images_train/1\n",
        "!mkdir /content/drive/MyDrive/DACON_CVLC/data/images_train/2\n",
        "!mkdir /content/drive/MyDrive/DACON_CVLC/data/images_train/3\n",
        "!mkdir /content/drive/MyDrive/DACON_CVLC/data/images_train/4\n",
        "!mkdir /content/drive/MyDrive/DACON_CVLC/data/images_train/5\n",
        "!mkdir /content/drive/MyDrive/DACON_CVLC/data/images_train/6\n",
        "!mkdir /content/drive/MyDrive/DACON_CVLC/data/images_train/7\n",
        "!mkdir /content/drive/MyDrive/DACON_CVLC/data/images_train/8\n",
        "!mkdir /content/drive/MyDrive/DACON_CVLC/data/images_train/9\n",
        "!mkdir /content/drive/MyDrive/DACON_CVLC/data/images_test"
      ],
      "execution_count": null,
      "outputs": []
    },
    {
      "cell_type": "code",
      "metadata": {
        "id": "qMWI-_1Up21E"
      },
      "source": [
        "import cv2\n",
        "\n",
        "for idx in range(len(train)) :\n",
        "    img = train.loc[idx, '0':].values.reshape(28, 28).astype(int)\n",
        "    digit = train.loc[idx, 'digit']\n",
        "    cv2.imwrite(f'/content/drive/MyDrive/DACON_CVLC/data/images_train/{digit}/{train[\"id\"][idx]}.png', img)\n",
        "\n",
        "for idx in range(len(test)) :\n",
        "    img = test.loc[idx, '0':].values.reshape(28, 28).astype(int)\n",
        "    cv2.imwrite(f'/content/drive/MyDrive/DACON_CVLC/data/images_test/{test[\"id\"][idx]}.png', img)"
      ],
      "execution_count": null,
      "outputs": []
    },
    {
      "cell_type": "code",
      "metadata": {
        "id": "xsFqbWY-t4c_"
      },
      "source": [
        "!pip install git+https://github.com/qubvel/classification_models.git"
      ],
      "execution_count": null,
      "outputs": []
    },
    {
      "cell_type": "code",
      "metadata": {
        "id": "TGB0MOWnt8mk"
      },
      "source": [
        "# for keras\n",
        "from classification_models.keras import Classifiers\n",
        "\n",
        "# for tensorflow keras\n",
        "from classification_models.tfkeras import Classifiers\n",
        "\n",
        "Classifiers.models_names()"
      ],
      "execution_count": null,
      "outputs": []
    },
    {
      "cell_type": "code",
      "metadata": {
        "id": "HUJTlJ6GxNmK"
      },
      "source": [
        "import tensorflow as tf\n",
        "from keras.applications.resnet import ResNet101, ResNet152\n",
        "from keras.applications.resnet50 import ResNet50\n",
        "from keras.applications.resnet_v2 import ResNet50V2\n",
        "from keras.applications.resnet_v2 import ResNet101V2\n",
        "from keras.applications.resnet_v2 import ResNet152V2\n",
        "from keras.applications.vgg16 import VGG16\n",
        "from keras.applications.vgg19 import VGG19\n",
        "from keras.applications.densenet import DenseNet121, DenseNet169, DenseNet201\n",
        "\n",
        "ResNet50_model =  tf.keras.applications.resnet.ResNet50(weights='imagenet', include_top=True, input_shape=(224, 224, 1), classes=10)\n",
        "ResNet101_model =  tf.keras.applications.resnet.ResNet101(weights='imagenet', include_top=True, input_shape=(224, 224, 1), classes=10)\n",
        "ResNet152_model =  tf.keras.applications.resnet.ResNet152(weights='imagenet', include_top=True, input_shape=(224, 224, 1), classes=10)\n",
        "ResNet50V2_model =  tf.keras.applications.resnet_v2.ResNet50V2(weights='imagenet', include_top=True, input_shape=(224, 224, 1), classes=10)\n",
        "ResNet101V2_model =  tf.keras.applications.resnet_v2.ResNet101V2(weights='imagenet', include_top=True, input_shape=(224, 224, 1), classes=10)\n",
        "ResNet152V2_model =  tf.keras.applications.resnet_v2.ResNet152V2(weights='imagenet', include_top=True, input_shape=(224, 224, 1), classes=10)\n",
        "\n",
        "VGG16_model = tf.keras.applications.vgg16.VGG16(weights='imagenet', include_top=True, input_shape=(224, 224, 1), classes=10)\n",
        "VGG19_model = tf.keras.applications.vgg19.VGG19(weights='imagenet', include_top=True, input_shape=(224, 224, 1), classes=10)\n",
        "\n",
        "DenseNet121_model = tf.keras.applications.densenet.DenseNet121(weights='imagenet', include_top=True, input_shape=(224, 224, 1), classes=10)\n",
        "DenseNet169_model = tf.keras.applications.densenet.DenseNet169(weights='imagenet', include_top=True, input_shape=(224, 224, 1), classes=10)\n",
        "DenseNet201_model = tf.keras.applications.densenet.DenseNet201(weights='imagenet', include_top=True, input_shape=(224, 224, 1), classes=10)"
      ],
      "execution_count": null,
      "outputs": []
    },
    {
      "cell_type": "code",
      "metadata": {
        "id": "du38cvrzuClx"
      },
      "source": [
        "ResNeXt50, preprocess_input = Classifiers.get('resnext50')\n",
        "ResNeXt50_model =  ResNeXt50(weights='imagenet', include_top=True, input_shape=(224, 224, 1), classes=10)\n",
        "\n",
        "ResNeXt101, preprocess_input = Classifiers.get('resnext101')\n",
        "ResNeXt101_model =  ResNeXt101(weights='imagenet', include_top=True, input_shape=(224, 224, 1), classes=10)\n",
        "\n",
        "InceptionResNetV2, preprocess_input = Classifiers.get('inceptionresnetv2')\n",
        "InceptionV2_model =  InceptionResNetV2(weights='imagenet', include_top=True, input_shape=(224, 224, 1), classes=10)\n",
        "\n",
        "InceptionV3, preprocess_input = Classifiers.get('inceptionv3')\n",
        "InceptionV3_model =  ResNeXt101(weights='imagenet', include_top=True, input_shape=(224, 224, 1), classes=10)"
      ],
      "execution_count": null,
      "outputs": []
    },
    {
      "cell_type": "code",
      "metadata": {
        "colab": {
          "base_uri": "https://localhost:8080/"
        },
        "id": "KlVMd30ZxUMQ",
        "outputId": "0b89fb96-22e0-4d54-afb1-e39c3bb67317"
      },
      "source": [
        "from tensorflow.keras.optimizers import Adam\n",
        "ResNet50_model.compile(loss='categorical_crossentropy', optimizer=Adam(lr=0.002,epsilon=None), metrics=['accuracy'])\n",
        "ResNet101_model.compile(loss='categorical_crossentropy', optimizer=Adam(lr=0.002,epsilon=None), metrics=['accuracy'])\n",
        "ResNet152_model.compile(loss='categorical_crossentropy', optimizer=Adam(lr=0.002,epsilon=None), metrics=['accuracy'])\n",
        "ResNet50V2_model.compile(loss='categorical_crossentropy', optimizer=Adam(lr=0.002,epsilon=None), metrics=['accuracy'])\n",
        "ResNet101V2_model.compile(loss='categorical_crossentropy', optimizer=Adam(lr=0.002,epsilon=None), metrics=['accuracy'])\n",
        "ResNet152V2_model.compile(loss='categorical_crossentropy', optimizer=Adam(lr=0.002,epsilon=None), metrics=['accuracy'])\n",
        "ResNeXt50_model.compile(loss='categorical_crossentropy', optimizer=Adam(lr=0.002,epsilon=None), metrics=['accuracy'])\n",
        "ResNeXt101_model.compile(loss='categorical_crossentropy', optimizer=Adam(lr=0.002,epsilon=None), metrics=['accuracy'])\n",
        "VGG16_model.compile(loss='categorical_crossentropy', optimizer=Adam(lr=0.002,epsilon=None), metrics=['accuracy'])\n",
        "VGG19_model.compile(loss='categorical_crossentropy', optimizer=Adam(lr=0.002,epsilon=None), metrics=['accuracy'])\n",
        "InceptionV3_model.compile(loss='categorical_crossentropy', optimizer=Adam(lr=0.002,epsilon=None), metrics=['accuracy'])\n",
        "InceptionV2_model.compile(loss='categorical_crossentropy', optimizer=Adam(lr=0.002,epsilon=None), metrics=['accuracy'])\n",
        "DenseNet121_model.compile(loss='categorical_crossentropy', optimizer=Adam(lr=0.002,epsilon=None), metrics=['accuracy'])\n",
        "DenseNet169_model.compile(loss='categorical_crossentropy', optimizer=Adam(lr=0.002,epsilon=None), metrics=['accuracy'])\n",
        "DenseNet201_model.compile(loss='categorical_crossentropy', optimizer=Adam(lr=0.002,epsilon=None), metrics=['accuracy'])"
      ],
      "execution_count": null,
      "outputs": [
        {
          "output_type": "stream",
          "text": [
            "/usr/local/lib/python3.7/dist-packages/tensorflow/python/keras/optimizer_v2/optimizer_v2.py:375: UserWarning: The `lr` argument is deprecated, use `learning_rate` instead.\n",
            "  \"The `lr` argument is deprecated, use `learning_rate` instead.\")\n"
          ],
          "name": "stderr"
        }
      ]
    },
    {
      "cell_type": "code",
      "metadata": {
        "colab": {
          "base_uri": "https://localhost:8080/"
        },
        "id": "w1haI0Zjxa74",
        "outputId": "2f74119d-b55e-4963-ae35-07bf15efd832"
      },
      "source": [
        "from tensorflow.keras.preprocessing.image import ImageDataGenerator\n",
        "\n",
        "datagen = ImageDataGenerator(rescale=1./255, validation_split=0.2,\n",
        "                             rotation_range=10,\n",
        "                             width_shift_range=0.1,\n",
        "                             height_shift_range=0.1)\n",
        "\n",
        "train_generator = datagen.flow_from_directory('/content/drive/MyDrive/DACON_CVLC/data/images_train', target_size=(224,224), color_mode='grayscale', class_mode='categorical', subset='training')\n",
        "val_generator = datagen.flow_from_directory('/content/drive/MyDrive/DACON_CVLC/data/images_train', target_size=(224,224), color_mode='grayscale', class_mode='categorical', subset='validation')"
      ],
      "execution_count": null,
      "outputs": [
        {
          "output_type": "stream",
          "text": [
            "Found 1642 images belonging to 10 classes.\n",
            "Found 406 images belonging to 10 classes.\n"
          ],
          "name": "stdout"
        }
      ]
    },
    {
      "cell_type": "code",
      "metadata": {
        "id": "SRP2R9hdxsyY"
      },
      "source": [
        "ResNet50_checkpoint = tf.keras.callbacks.ModelCheckpoint(f'/content/drive/MyDrive/DACON_CVLC/Checkpoint/CVLC_08_ResNet50.h5', monitor='val_accuracy', save_best_only=True, verbose=1)\n",
        "ResNet101_checkpoint = tf.keras.callbacks.ModelCheckpoint(f'/content/drive/MyDrive/DACON_CVLC/Checkpoint/CVLC_08_ResNet101.h5', monitor='val_accuracy', save_best_only=True, verbose=1)\n",
        "ResNet152_checkpoint = tf.keras.callbacks.ModelCheckpoint(f'/content/drive/MyDrive/DACON_CVLC/Checkpoint/CVLC_08_ResNet152.h5', monitor='val_accuracy', save_best_only=True, verbose=1)\n",
        "ResNet50V2_checkpoint = tf.keras.callbacks.ModelCheckpoint(f'/content/drive/MyDrive/DACON_CVLC/Checkpoint/CVLC_08_ResNet50V2.h5', monitor='val_accuracy', save_best_only=True, verbose=1)\n",
        "ResNet101V2_checkpoint = tf.keras.callbacks.ModelCheckpoint(f'/content/drive/MyDrive/DACON_CVLC/Checkpoint/CVLC_08_ResNet101V2.h5', monitor='val_accuracy', save_best_only=True, verbose=1)\n",
        "ResNet152V2_checkpoint = tf.keras.callbacks.ModelCheckpoint(f'/content/drive/MyDrive/DACON_CVLC/Checkpoint/CVLC_08_ResNet152V2.h5', monitor='val_accuracy', save_best_only=True, verbose=1)\n",
        "ResNeXt50_checkpoint = tf.keras.callbacks.ModelCheckpoint(f'/content/drive/MyDrive/DACON_CVLC/Checkpoint/CVLC_08_ResNeXt50.h5', monitor='val_accuracy', save_best_only=True, verbose=1)\n",
        "ResNeXt101_checkpoint = tf.keras.callbacks.ModelCheckpoint(f'/content/drive/MyDrive/DACON_CVLC/Checkpoint/CVLC_08_ResNeXt101.h5', monitor='val_accuracy', save_best_only=True, verbose=1)\n",
        "VGG16_checkpoint = tf.keras.callbacks.ModelCheckpoint(f'/content/drive/MyDrive/DACON_CVLC/Checkpoint/CVLC_08_VGG16.h5', monitor='val_accuracy', save_best_only=True, verbose=1)\n",
        "VGG19_checkpoint = tf.keras.callbacks.ModelCheckpoint(f'/content/drive/MyDrive/DACON_CVLC/Checkpoint/CVLC_08_VGG19.h5', monitor='val_accuracy', save_best_only=True, verbose=1)\n",
        "InceptionV3_checkpoint = tf.keras.callbacks.ModelCheckpoint(f'/content/drive/MyDrive/DACON_CVLC/Checkpoint/CVLC_08_InceptionV3.h5', monitor='val_accuracy', save_best_only=True, verbose=1)\n",
        "InceptionV2_checkpoint = tf.keras.callbacks.ModelCheckpoint(f'/content/drive/MyDrive/DACON_CVLC/Checkpoint/CVLC_08_InceptionV2.h5', monitor='val_accuracy', save_best_only=True, verbose=1)\n",
        "DenseNet121_checkpoint = tf.keras.callbacks.ModelCheckpoint(f'/content/drive/MyDrive/DACON_CVLC/Checkpoint/CVLC_08_DenseNet121.h5', monitor='val_accuracy', save_best_only=True, verbose=1)\n",
        "DenseNet169_checkpoint = tf.keras.callbacks.ModelCheckpoint(f'/content/drive/MyDrive/DACON_CVLC/Checkpoint/CVLC_08_DenseNet169.h5', monitor='val_accuracy', save_best_only=True, verbose=1)\n",
        "DenseNet201_checkpoint = tf.keras.callbacks.ModelCheckpoint(f'/content/drive/MyDrive/DACON_CVLC/Checkpoint/CVLC_08_DenseNet201.h5', monitor='val_accuracy', save_best_only=True, verbose=1)"
      ],
      "execution_count": null,
      "outputs": []
    },
    {
      "cell_type": "code",
      "metadata": {
        "id": "DKMJhbFnxotA"
      },
      "source": [
        "ResNet50_model.fit_generator(train_generator, epochs = 500, validation_data = val_generator, callbacks = [ResNet50_checkpoint])\n",
        "files.download('/content/drive/MyDrive/DACON_CVLC/Checkpoint/CVLC_08_ResNet50.h5')"
      ],
      "execution_count": null,
      "outputs": []
    },
    {
      "cell_type": "code",
      "metadata": {
        "id": "YJxUYksADFFc"
      },
      "source": [
        "ResNet101_model.fit_generator(train_generator, epochs = 500, validation_data = val_generator, callbacks = [ResNet101_checkpoint])\n",
        "files.download('/content/drive/MyDrive/DACON_CVLC/Checkpoint/CVLC_08_ResNet101.h5')"
      ],
      "execution_count": null,
      "outputs": []
    },
    {
      "cell_type": "code",
      "metadata": {
        "id": "7NJ8F7HNDGlD"
      },
      "source": [
        "ResNet152_model.fit_generator(train_generator, epochs = 500, validation_data=val_generator, callbacks=[ResNet152_checkpoint])\n",
        "files.download('/content/drive/MyDrive/DACON_CVLC/Checkpoint/CVLC_08_ResNet152.h5')"
      ],
      "execution_count": null,
      "outputs": []
    },
    {
      "cell_type": "code",
      "metadata": {
        "id": "TDQDcGhdDHnI"
      },
      "source": [
        "ResNet50V2_model.fit_generator(train_generator, epochs = 500, validation_data=val_generator, callbacks=[ResNet50V2_checkpoint])\n",
        "files.download('/content/drive/MyDrive/DACON_CVLC/Checkpoint/CVLC_08_ResNet50V2.h5')"
      ],
      "execution_count": null,
      "outputs": []
    },
    {
      "cell_type": "code",
      "metadata": {
        "id": "OfeQPdbJDI9h"
      },
      "source": [
        "ResNet101V2_model.fit_generator(train_generator, epochs = 500, validation_data=val_generator, callbacks=[ResNet101V2_checkpoint])\n",
        "files.download('/content/drive/MyDrive/DACON_CVLC/Checkpoint/CVLC_08_ResNet101V2.h5')"
      ],
      "execution_count": null,
      "outputs": []
    },
    {
      "cell_type": "code",
      "metadata": {
        "id": "zSmniqeJDKe2"
      },
      "source": [
        "ResNet152V2_model.fit_generator(train_generator, epochs = 500, validation_data=val_generator, callbacks=[ResNet152V2_checkpoint])\n",
        "files.download('/content/drive/MyDrive/DACON_CVLC/Checkpoint/CVLC_08_ResNet152V2.h5')"
      ],
      "execution_count": null,
      "outputs": []
    },
    {
      "cell_type": "code",
      "metadata": {
        "id": "3Rx0qV-_DLpj"
      },
      "source": [
        "ResNeXt50_model.fit_generator(train_generator, epochs = 500, validation_data=val_generator, callbacks=[ResNeXt50_checkpoint])\n",
        "files.download('/content/drive/MyDrive/DACON_CVLC/Checkpoint/CVLC_08_ResNeXt50.h5')"
      ],
      "execution_count": null,
      "outputs": []
    },
    {
      "cell_type": "code",
      "metadata": {
        "id": "il25kZVxDNDp"
      },
      "source": [
        "ResNeXt101_model.fit_generator(train_generator, epochs = 500, validation_data=val_generator, callbacks=[ResNeXt101_checkpoint])\n",
        "files.download('/content/drive/MyDrive/DACON_CVLC/Checkpoint/CVLC_08_ResNeXt101.h5')"
      ],
      "execution_count": null,
      "outputs": []
    },
    {
      "cell_type": "code",
      "metadata": {
        "id": "0yzpywaoDN_n"
      },
      "source": [
        "VGG16_model.fit_generator(train_generator, epochs = 500, validation_data=val_generator, callbacks=[VGG16_checkpoint])\n",
        "files.download('/content/drive/MyDrive/DACON_CVLC/Checkpoint/CVLC_08_VGG16.h5')"
      ],
      "execution_count": null,
      "outputs": []
    },
    {
      "cell_type": "code",
      "metadata": {
        "id": "obGf3yw0DPH6"
      },
      "source": [
        "VGG19_model.fit_generator(train_generator, epochs = 500, validation_data=val_generator, callbacks=[VGG19_checkpoint])\n",
        "files.download('/content/drive/MyDrive/DACON_CVLC/Checkpoint/CVLC_08_VGG19.h5')"
      ],
      "execution_count": null,
      "outputs": []
    },
    {
      "cell_type": "code",
      "metadata": {
        "id": "JAeDavrKDQTO"
      },
      "source": [
        "InceptionV3_model.fit_generator(train_generator, epochs = 500, validation_data=val_generator, callbacks=[InceptionV3_checkpoint])\n",
        "files.download('/content/drive/MyDrive/DACON_CVLC/Checkpoint/CVLC_08_InceptionV3.h5')"
      ],
      "execution_count": null,
      "outputs": []
    },
    {
      "cell_type": "code",
      "metadata": {
        "id": "b6o5FeM3DRNl"
      },
      "source": [
        "InceptionV2_model.fit_generator(train_generator, epochs = 500, validation_data=val_generator, callbacks=[InceptionV2_checkpoint])\n",
        "files.download('/content/drive/MyDrive/DACON_CVLC/Checkpoint/CVLC_08_InceptionV2.h5')"
      ],
      "execution_count": null,
      "outputs": []
    },
    {
      "cell_type": "code",
      "metadata": {
        "id": "U46jOdS6DSbn"
      },
      "source": [
        "DenseNet121_model.fit_generator(train_generator, epochs = 500, validation_data=val_generator, callbacks=[DenseNet121_checkpoint])\n",
        "files.download('/content/drive/MyDrive/DACON_CVLC/Checkpoint/CVLC_08_DenseNet121.h5')"
      ],
      "execution_count": null,
      "outputs": []
    },
    {
      "cell_type": "code",
      "metadata": {
        "id": "xyijRlNCDTaO"
      },
      "source": [
        "DenseNet169_model.fit_generator(train_generator, epochs = 500, validation_data=val_generator, callbacks=[DenseNet169_checkpoint])\n",
        "files.download('/content/drive/MyDrive/DACON_CVLC/Checkpoint/CVLC_08_DenseNet169.h5')"
      ],
      "execution_count": null,
      "outputs": []
    },
    {
      "cell_type": "code",
      "metadata": {
        "id": "pdc05G6CDCmp"
      },
      "source": [
        "DenseNet201_model.fit_generator(train_generator, epochs = 500, validation_data=val_generator, callbacks=[DenseNet201_checkpoint])\n",
        "files.download('/content/drive/MyDrive/DACON_CVLC/Checkpoint/CVLC_08_DenseNet201.h5')"
      ],
      "execution_count": null,
      "outputs": []
    },
    {
      "cell_type": "markdown",
      "metadata": {
        "id": "vawM8j_H9z2Q"
      },
      "source": [
        "# 결과 확인"
      ]
    },
    {
      "cell_type": "code",
      "metadata": {
        "id": "qcElIu93yIQU"
      },
      "source": [
        "ResNet50_model = tf.keras.models.load_model('/content/drive/MyDrive/DACON_CVLC/Checkpoint/CVLC_08_ResNet50.h5', compile=False)\n",
        "ResNet101_model = tf.keras.models.load_model('/content/drive/MyDrive/DACON_CVLC/Checkpoint/CVLC_08_ResNet101.h5', compile=False)\n",
        "ResNet152_model = tf.keras.models.load_model('/content/drive/MyDrive/DACON_CVLC/Checkpoint/CVLC_08_ResNet152.h5', compile=False)\n",
        "ResNet50V2_model = tf.keras.models.load_model('/content/drive/MyDrive/DACON_CVLC/Checkpoint/CVLC_08_ResNet50V2.h5', compile=False)\n",
        "ResNet101V2_model = tf.keras.models.load_model('/content/drive/MyDrive/DACON_CVLC/Checkpoint/CVLC_08_ResNet101V2.h5', compile=False)\n",
        "ResNeXt50_model = tf.keras.models.load_model('/content/drive/MyDrive/DACON_CVLC/Checkpoint/CVLC_08_ResNeXt50.h5', compile=False)\n",
        "ResNeXt101_model = tf.keras.models.load_model('/content/drive/MyDrive/DACON_CVLC/Checkpoint/CVLC_08_ResNeXt101.h5', compile=False)\n",
        "VGG16_model = tf.keras.models.load_model('/content/drive/MyDrive/DACON_CVLC/Checkpoint/CVLC_08_VGG16.h5', compile=False)\n",
        "VGG19_model = tf.keras.models.load_model('/content/drive/MyDrive/DACON_CVLC/Checkpoint/CVLC_08_VGG19.h5', compile=False)\n",
        "InceptionV3_model = tf.keras.models.load_model('/content/drive/MyDrive/DACON_CVLC/Checkpoint/CVLC_08_InceptionV3.h5', compile=False)\n",
        "InceptionV2_model = tf.keras.models.load_model('/content/drive/MyDrive/DACON_CVLC/Checkpoint/CVLC_08_InceptionV2.h5', compile=False)\n",
        "DenseNet121_model = tf.keras.models.load_model('/content/drive/MyDrive/DACON_CVLC/Checkpoint/CVLC_08_DenseNet121.h5', compile=False)\n",
        "DenseNet169_model = tf.keras.models.load_model('/content/drive/MyDrive/DACON_CVLC/Checkpoint/CVLC_08_DenseNet169.h5', compile=False)\n",
        "DenseNet201_model = tf.keras.models.load_model('/content/drive/MyDrive/DACON_CVLC/Checkpoint/CVLC_08_DenseNet201.h5', compile=False)"
      ],
      "execution_count": null,
      "outputs": []
    },
    {
      "cell_type": "code",
      "metadata": {
        "id": "kHmpkzRJyCrf"
      },
      "source": [
        "import matplotlib.pyplot as plt\n",
        "\n",
        "plt.plot(ResNet50_model.history.history[\"accuracy\"], label='ResNet50_ACC')\n",
        "plt.plot(ResNet50_model.history.history[\"val_accuracy\"], label='ResNet50_VAL')\n",
        "\n",
        "plt.plot(ResNet101_model.history.history[\"accuracy\"], label='ResNet101_ACC')\n",
        "plt.plot(ResNet101_model.history.history[\"val_accuracy\"], label='ResNet101_VAL')\n",
        "\n",
        "plt.plot(ResNet152_model.history.history[\"accuracy\"], label='ResNet152_ACC')\n",
        "plt.plot(ResNet152_model.history.history[\"val_accuracy\"], label='ResNet152_VAL')\n",
        "\n",
        "plt.plot(ResNet50V2_model.history.history[\"accuracy\"], label='ResNet50V2_ACC')\n",
        "plt.plot(ResNet50V2_model.history.history[\"val_accuracy\"], label='ResNet50V2_VAL')\n",
        "\n",
        "plt.plot(ResNet101V2_model.history.history[\"accuracy\"], label='ResNet101V2_ACC')\n",
        "plt.plot(ResNet101V2_model.history.history[\"val_accuracy\"], label='ResNet101V2_VAL')\n",
        "\n",
        "plt.plot(ResNet152V2_model.history.history[\"accuracy\"], label='ResNet152V2_ACC')\n",
        "plt.plot(ResNet152V2_model.history.history[\"val_accuracy\"], label='ResNet152V2_VAL')\n",
        "\n",
        "plt.plot(ResNeXt50_model.history.history[\"accuracy\"], label='ResNeXt50_ACC')\n",
        "plt.plot(ResNeXt50_model.history.history[\"val_accuracy\"], label='ResNeXt50_VAL')\n",
        "\n",
        "plt.plot(ResNeXt101_model.history.history[\"accuracy\"], label='ResNeXt101_ACC')\n",
        "plt.plot(ResNeXt101_model.history.history[\"val_accuracy\"], label='ResNeXt101_VAL')\n",
        "\n",
        "plt.plot(VGG16_model.history.history[\"accuracy\"], label='VGG16_ACC')\n",
        "plt.plot(VGG16_model.history.history[\"val_accuracy\"], label='VGG16_VAL')\n",
        "\n",
        "plt.plot(VGG19_model.history.history[\"accuracy\"], label='VGG19_ACC')\n",
        "plt.plot(VGG19_model.history.history[\"val_accuracy\"], label='VGG19_VAL')\n",
        "\n",
        "plt.plot(InceptionV3_model.history.history[\"accuracy\"], label='InceptionV3_ACC')\n",
        "plt.plot(InceptionV3_model.history.history[\"val_accuracy\"], label='InceptionV3_VAL')\n",
        "\n",
        "plt.plot(InceptionV2_model.history.history[\"accuracy\"], label='InceptionV2_ACC')\n",
        "plt.plot(InceptionV2_model.history.history[\"val_accuracy\"], label='InceptionV2_VAL')\n",
        "\n",
        "plt.plot(DenseNet121_model.history.history[\"accuracy\"], label='DenseNet121_ACC')\n",
        "plt.plot(DenseNet121_model.history.history[\"val_accuracy\"], label='DenseNet121_VAL')\n",
        "\n",
        "plt.plot(DenseNet169_model.history.history[\"accuracy\"], label='DenseNet169_ACC')\n",
        "plt.plot(DenseNet169_model.history.history[\"val_accuracy\"], label='DenseNet169_VAL')\n",
        "\n",
        "plt.plot(DenseNet201_model.history.history[\"accuracy\"], label='DenseNet201_ACC')\n",
        "plt.plot(DenseNet201_model.history.history[\"val_accuracy\"], label='DenseNet201_VAL')\n",
        "\n",
        "plt.legend()\n",
        "plt.show()"
      ],
      "execution_count": null,
      "outputs": []
    },
    {
      "cell_type": "code",
      "metadata": {
        "id": "hR4N2pAZyiR-"
      },
      "source": [
        "!mkdir /content/drive/MyDrive/DACON_CVLC/data/images_test/none\n",
        "!mv /content/drive/MyDrive/DACON_CVLC/data/images_test/*.png /content/drive/MyDrive/DACON_CVLC/data/images_test/none"
      ],
      "execution_count": null,
      "outputs": []
    },
    {
      "cell_type": "code",
      "metadata": {
        "id": "rxH98QOgyu1z"
      },
      "source": [
        "datagen = ImageDataGenerator(rescale=1./255)\n",
        "test_generator = datagen.flow_from_directory('/content/drive/MyDrive/DACON_CVLC/data/images_test', target_size=(224,224), color_mode='grayscale', class_mode='categorical', shuffle=False)"
      ],
      "execution_count": null,
      "outputs": []
    },
    {
      "cell_type": "code",
      "metadata": {
        "id": "WxxxMnN3y2Wb"
      },
      "source": [
        "test_generator.reset()\n",
        "ResNet50_predict = ResNet50_model.predict_generator(test_generator).argmax(axis=1)\n",
        "ResNet101_predict = ResNet101_model.predict_generator(test_generator).argmax(axis=1)\n",
        "ResNet152_predict = ResNet152_model.predict_generator(test_generator).argmax(axis=1)\n",
        "ResNet50V2_predict = ResNet50V2_model.predict_generator(test_generator).argmax(axis=1)\n",
        "ResNet101V2_predict = ResNet101V2_model.predict_generator(test_generator).argmax(axis=1)\n",
        "ResNeXt50_predict = ResNeXt50_model.predict_generator(test_generator).argmax(axis=1)\n",
        "ResNeXt101_predict = ResNeXt101_model.predict_generator(test_generator).argmax(axis=1)\n",
        "VGG16_predict = VGG16_model.predict_generator(test_generator).argmax(axis=1)\n",
        "VGG19_predict = VGG19_model.predict_generator(test_generator).argmax(axis=1)\n",
        "InceptionV3_predict = InceptionV3_model.predict_generator(test_generator).argmax(axis=1)\n",
        "InceptionV2_predict = InceptionV2_model.predict_generator(test_generator).argmax(axis=1)\n",
        "DenseNet121_predict = DenseNet121_model.predict_generator(test_generator).argmax(axis=1)\n",
        "DenseNet169_predict = DenseNet169_model.predict_generator(test_generator).argmax(axis=1)\n",
        "DenseNet201_predict = DenseNet201_model.predict_generator(test_generator).argmax(axis=1)"
      ],
      "execution_count": null,
      "outputs": []
    },
    {
      "cell_type": "code",
      "metadata": {
        "id": "yS_FkqQXky0N"
      },
      "source": [
        "submission = pd.read_csv('/content/drive/MyDrive/DACON_CVLC/data/submission.csv')\n",
        "submission.head()"
      ],
      "execution_count": null,
      "outputs": []
    },
    {
      "cell_type": "code",
      "metadata": {
        "id": "FuO66ssGk2Mr"
      },
      "source": [
        "submission[\"ResNet50_predict\"] = ResNet50_predict\n",
        "submission[\"ResNet101_predict\"] = ResNet101_predict\n",
        "submission[\"ResNet152_predict\"] = ResNet152_predict\n",
        "submission[\"ResNet50V2_predict\"] = ResNet50V2_predict\n",
        "submission[\"ResNet101V2_predict\"] = ResNet101V2_predict\n",
        "submission[\"ResNeXt50_predict\"] = ResNeXt50_predict\n",
        "submission[\"ResNeXt101_predict\"] = ResNeXt101_predict\n",
        "submission[\"VGG16_predict\"] = VGG16_predict\n",
        "submission[\"VGG19_predict\"] = VGG19_predict\n",
        "submission[\"InceptionV3_predict\"] = InceptionV3_predict\n",
        "submission[\"InceptionV2_predict\"] = InceptionV2_predict\n",
        "submission[\"DenseNet121_predict\"] = DenseNet121_predict\n",
        "submission[\"DenseNet169_predict\"] = DenseNet169_predict\n",
        "submission[\"DenseNet201_predict\"] = DenseNet201_predict\n",
        "submission.head()"
      ],
      "execution_count": null,
      "outputs": []
    },
    {
      "cell_type": "code",
      "metadata": {
        "id": "ZHR6GhZGlKaU"
      },
      "source": [
        "from collections import Counter\n",
        "\n",
        "for i in range(len(submission)) :\n",
        "    predicts = submission.loc[i, ['ResNet50_predict','ResNet101_predict','ResNet152_predict','ResNet50V2_predict','ResNet101V2_predict','ResNeXt50_predict','ResNeXt101_predict','VGG16_predict','VGG19_predict','InceptionV3_predict','InceptionV2_predict','DenseNet121_predict','DenseNet169_predict','DenseNet201_predict']]\n",
        "    submission.at[i, \"digit\"] = Counter(predicts).most_common(n=1)[0][0]\n",
        "\n",
        "submission.head()"
      ],
      "execution_count": null,
      "outputs": []
    },
    {
      "cell_type": "code",
      "metadata": {
        "id": "5nP3JeCWlc4V"
      },
      "source": [
        "submission = submission[['id', 'digit']]\n",
        "submission.head()"
      ],
      "execution_count": null,
      "outputs": []
    },
    {
      "cell_type": "code",
      "metadata": {
        "id": "hemVp1ZGlejO"
      },
      "source": [
        "from google.colab import files\n",
        "submission.to_csv('/content/drive/MyDrive/DACON_CVLC/Submission/08_submission.csv', index=False)\n",
        "files.download('/content/drive/MyDrive/DACON_CVLC/Submission/08_submission.csv')"
      ],
      "execution_count": null,
      "outputs": []
    }
  ]
}