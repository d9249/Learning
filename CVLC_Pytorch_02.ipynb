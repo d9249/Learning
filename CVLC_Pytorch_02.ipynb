{
  "nbformat": 4,
  "nbformat_minor": 0,
  "metadata": {
    "colab": {
      "name": "CVLC_Pytorch_02.ipynb",
      "provenance": [],
      "collapsed_sections": [],
      "machine_shape": "hm",
      "authorship_tag": "ABX9TyMIxAwlmiP8qfD6v06lanKs",
      "include_colab_link": true
    },
    "kernelspec": {
      "name": "python3",
      "display_name": "Python 3"
    },
    "language_info": {
      "name": "python"
    },
    "accelerator": "GPU"
  },
  "cells": [
    {
      "cell_type": "markdown",
      "metadata": {
        "id": "view-in-github",
        "colab_type": "text"
      },
      "source": [
        "<a href=\"https://colab.research.google.com/github/d9249/DACON/blob/main/CVLC_Pytorch_02.ipynb\" target=\"_parent\"><img src=\"https://colab.research.google.com/assets/colab-badge.svg\" alt=\"Open In Colab\"/></a>"
      ]
    },
    {
      "cell_type": "markdown",
      "metadata": {
        "id": "GMgLOYiLw9g9"
      },
      "source": [
        "# Google Drive accept"
      ]
    },
    {
      "cell_type": "code",
      "metadata": {
        "colab": {
          "base_uri": "https://localhost:8080/"
        },
        "id": "Tv5t1T61ZPV-",
        "outputId": "1ea628e4-8062-4183-d272-f6776eeded01"
      },
      "source": [
        "from google.colab import drive\n",
        "drive.mount('/content/drive')"
      ],
      "execution_count": 29,
      "outputs": [
        {
          "output_type": "stream",
          "text": [
            "Drive already mounted at /content/drive; to attempt to forcibly remount, call drive.mount(\"/content/drive\", force_remount=True).\n"
          ],
          "name": "stdout"
        }
      ]
    },
    {
      "cell_type": "markdown",
      "metadata": {
        "id": "91d_dwL5ocGu"
      },
      "source": [
        "# Lib install"
      ]
    },
    {
      "cell_type": "code",
      "metadata": {
        "colab": {
          "base_uri": "https://localhost:8080/"
        },
        "id": "dmANAJ-fewWM",
        "outputId": "16d97a42-e47b-41c3-92bd-e0ac3b91b496"
      },
      "source": [
        "!pip install -U statsmodels"
      ],
      "execution_count": 30,
      "outputs": [
        {
          "output_type": "stream",
          "text": [
            "Requirement already up-to-date: statsmodels in /usr/local/lib/python3.7/dist-packages (0.12.2)\n",
            "Requirement already satisfied, skipping upgrade: scipy>=1.1 in /usr/local/lib/python3.7/dist-packages (from statsmodels) (1.4.1)\n",
            "Requirement already satisfied, skipping upgrade: patsy>=0.5 in /usr/local/lib/python3.7/dist-packages (from statsmodels) (0.5.1)\n",
            "Requirement already satisfied, skipping upgrade: pandas>=0.21 in /usr/local/lib/python3.7/dist-packages (from statsmodels) (1.1.5)\n",
            "Requirement already satisfied, skipping upgrade: numpy>=1.15 in /usr/local/lib/python3.7/dist-packages (from statsmodels) (1.19.5)\n",
            "Requirement already satisfied, skipping upgrade: six in /usr/local/lib/python3.7/dist-packages (from patsy>=0.5->statsmodels) (1.15.0)\n",
            "Requirement already satisfied, skipping upgrade: python-dateutil>=2.7.3 in /usr/local/lib/python3.7/dist-packages (from pandas>=0.21->statsmodels) (2.8.1)\n",
            "Requirement already satisfied, skipping upgrade: pytz>=2017.2 in /usr/local/lib/python3.7/dist-packages (from pandas>=0.21->statsmodels) (2018.9)\n"
          ],
          "name": "stdout"
        }
      ]
    },
    {
      "cell_type": "markdown",
      "metadata": {
        "id": "0DvN0vcOoYnX"
      },
      "source": [
        "# Lib"
      ]
    },
    {
      "cell_type": "code",
      "metadata": {
        "id": "N6auO9bAY77q"
      },
      "source": [
        "import time\n",
        "import random\n",
        "import datetime\n",
        "\n",
        "import numpy as np\n",
        "import pandas as pd\n",
        "import matplotlib.pyplot as plt\n",
        "%matplotlib inline\n",
        "\n",
        "import torch\n",
        "import torch.nn as nn\n",
        "import torch.nn.functional as F\n",
        "\n",
        "from sklearn.model_selection import train_test_split\n",
        "import seaborn as sns\n",
        "\n",
        "from tensorflow.keras.utils import to_categorical\n",
        "import cv2"
      ],
      "execution_count": 31,
      "outputs": []
    },
    {
      "cell_type": "markdown",
      "metadata": {
        "id": "nhxAp6ZbogjJ"
      },
      "source": [
        "## Data Load"
      ]
    },
    {
      "cell_type": "code",
      "metadata": {
        "id": "d8St-tE0Ziee"
      },
      "source": [
        "train = pd.read_csv('/content/drive/MyDrive/DACON_CVLC/data/train.csv')\n",
        "train_digit = train['digit'].values\n",
        "train_letter = train['letter'].values\n",
        "train_img = train.iloc[:,3:].values.reshape(-1, 28, 28, 1).astype(np.int)\n",
        "\n",
        "test  = pd.read_csv('/content/drive/MyDrive/DACON_CVLC/data/test.csv')\n",
        "test_img = test.iloc[:,2:].values.reshape(-1, 28, 28, 1).astype(np.int)\n",
        "X_test_letter = test['letter'].values\n",
        "\n",
        "submission = pd.read_csv('/content/drive/MyDrive/DACON_CVLC/data/submission.csv')\n",
        "\n",
        "train_data = pd.read_csv('/content/drive/MyDrive/DACON_CVLC/data/train.csv')\n",
        "test_data = pd.read_csv('/content/drive/MyDrive/DACON_CVLC/data/test.csv')"
      ],
      "execution_count": null,
      "outputs": []
    },
    {
      "cell_type": "code",
      "metadata": {
        "id": "bhvcUWF97FfR"
      },
      "source": [
        "print('digit  : ', np.unique(train_digit))\n",
        "print('letter : ', np.unique(train_letter))"
      ],
      "execution_count": null,
      "outputs": []
    },
    {
      "cell_type": "code",
      "metadata": {
        "colab": {
          "base_uri": "https://localhost:8080/"
        },
        "id": "s88JaV2nZxZk",
        "outputId": "54bd3f98-a5b5-4e1b-d2f4-53f2ec0f308d"
      },
      "source": [
        "torch.cuda.is_available()"
      ],
      "execution_count": 33,
      "outputs": [
        {
          "output_type": "execute_result",
          "data": {
            "text/plain": [
              "True"
            ]
          },
          "metadata": {
            "tags": []
          },
          "execution_count": 33
        }
      ]
    },
    {
      "cell_type": "code",
      "metadata": {
        "colab": {
          "base_uri": "https://localhost:8080/",
          "height": 0
        },
        "id": "VIcM8WHzZ4st",
        "outputId": "8be42072-4ed3-4235-9e24-3e3a307648a0"
      },
      "source": [
        "train.set_index('id').head()"
      ],
      "execution_count": 34,
      "outputs": [
        {
          "output_type": "execute_result",
          "data": {
            "text/html": [
              "<div>\n",
              "<style scoped>\n",
              "    .dataframe tbody tr th:only-of-type {\n",
              "        vertical-align: middle;\n",
              "    }\n",
              "\n",
              "    .dataframe tbody tr th {\n",
              "        vertical-align: top;\n",
              "    }\n",
              "\n",
              "    .dataframe thead th {\n",
              "        text-align: right;\n",
              "    }\n",
              "</style>\n",
              "<table border=\"1\" class=\"dataframe\">\n",
              "  <thead>\n",
              "    <tr style=\"text-align: right;\">\n",
              "      <th></th>\n",
              "      <th>digit</th>\n",
              "      <th>letter</th>\n",
              "      <th>0</th>\n",
              "      <th>1</th>\n",
              "      <th>2</th>\n",
              "      <th>3</th>\n",
              "      <th>4</th>\n",
              "      <th>5</th>\n",
              "      <th>6</th>\n",
              "      <th>7</th>\n",
              "      <th>8</th>\n",
              "      <th>9</th>\n",
              "      <th>10</th>\n",
              "      <th>11</th>\n",
              "      <th>12</th>\n",
              "      <th>13</th>\n",
              "      <th>14</th>\n",
              "      <th>15</th>\n",
              "      <th>16</th>\n",
              "      <th>17</th>\n",
              "      <th>18</th>\n",
              "      <th>19</th>\n",
              "      <th>20</th>\n",
              "      <th>21</th>\n",
              "      <th>22</th>\n",
              "      <th>23</th>\n",
              "      <th>24</th>\n",
              "      <th>25</th>\n",
              "      <th>26</th>\n",
              "      <th>27</th>\n",
              "      <th>28</th>\n",
              "      <th>29</th>\n",
              "      <th>30</th>\n",
              "      <th>31</th>\n",
              "      <th>32</th>\n",
              "      <th>33</th>\n",
              "      <th>34</th>\n",
              "      <th>35</th>\n",
              "      <th>36</th>\n",
              "      <th>37</th>\n",
              "      <th>...</th>\n",
              "      <th>744</th>\n",
              "      <th>745</th>\n",
              "      <th>746</th>\n",
              "      <th>747</th>\n",
              "      <th>748</th>\n",
              "      <th>749</th>\n",
              "      <th>750</th>\n",
              "      <th>751</th>\n",
              "      <th>752</th>\n",
              "      <th>753</th>\n",
              "      <th>754</th>\n",
              "      <th>755</th>\n",
              "      <th>756</th>\n",
              "      <th>757</th>\n",
              "      <th>758</th>\n",
              "      <th>759</th>\n",
              "      <th>760</th>\n",
              "      <th>761</th>\n",
              "      <th>762</th>\n",
              "      <th>763</th>\n",
              "      <th>764</th>\n",
              "      <th>765</th>\n",
              "      <th>766</th>\n",
              "      <th>767</th>\n",
              "      <th>768</th>\n",
              "      <th>769</th>\n",
              "      <th>770</th>\n",
              "      <th>771</th>\n",
              "      <th>772</th>\n",
              "      <th>773</th>\n",
              "      <th>774</th>\n",
              "      <th>775</th>\n",
              "      <th>776</th>\n",
              "      <th>777</th>\n",
              "      <th>778</th>\n",
              "      <th>779</th>\n",
              "      <th>780</th>\n",
              "      <th>781</th>\n",
              "      <th>782</th>\n",
              "      <th>783</th>\n",
              "    </tr>\n",
              "    <tr>\n",
              "      <th>id</th>\n",
              "      <th></th>\n",
              "      <th></th>\n",
              "      <th></th>\n",
              "      <th></th>\n",
              "      <th></th>\n",
              "      <th></th>\n",
              "      <th></th>\n",
              "      <th></th>\n",
              "      <th></th>\n",
              "      <th></th>\n",
              "      <th></th>\n",
              "      <th></th>\n",
              "      <th></th>\n",
              "      <th></th>\n",
              "      <th></th>\n",
              "      <th></th>\n",
              "      <th></th>\n",
              "      <th></th>\n",
              "      <th></th>\n",
              "      <th></th>\n",
              "      <th></th>\n",
              "      <th></th>\n",
              "      <th></th>\n",
              "      <th></th>\n",
              "      <th></th>\n",
              "      <th></th>\n",
              "      <th></th>\n",
              "      <th></th>\n",
              "      <th></th>\n",
              "      <th></th>\n",
              "      <th></th>\n",
              "      <th></th>\n",
              "      <th></th>\n",
              "      <th></th>\n",
              "      <th></th>\n",
              "      <th></th>\n",
              "      <th></th>\n",
              "      <th></th>\n",
              "      <th></th>\n",
              "      <th></th>\n",
              "      <th></th>\n",
              "      <th></th>\n",
              "      <th></th>\n",
              "      <th></th>\n",
              "      <th></th>\n",
              "      <th></th>\n",
              "      <th></th>\n",
              "      <th></th>\n",
              "      <th></th>\n",
              "      <th></th>\n",
              "      <th></th>\n",
              "      <th></th>\n",
              "      <th></th>\n",
              "      <th></th>\n",
              "      <th></th>\n",
              "      <th></th>\n",
              "      <th></th>\n",
              "      <th></th>\n",
              "      <th></th>\n",
              "      <th></th>\n",
              "      <th></th>\n",
              "      <th></th>\n",
              "      <th></th>\n",
              "      <th></th>\n",
              "      <th></th>\n",
              "      <th></th>\n",
              "      <th></th>\n",
              "      <th></th>\n",
              "      <th></th>\n",
              "      <th></th>\n",
              "      <th></th>\n",
              "      <th></th>\n",
              "      <th></th>\n",
              "      <th></th>\n",
              "      <th></th>\n",
              "      <th></th>\n",
              "      <th></th>\n",
              "      <th></th>\n",
              "      <th></th>\n",
              "      <th></th>\n",
              "      <th></th>\n",
              "    </tr>\n",
              "  </thead>\n",
              "  <tbody>\n",
              "    <tr>\n",
              "      <th>1</th>\n",
              "      <td>5</td>\n",
              "      <td>L</td>\n",
              "      <td>1</td>\n",
              "      <td>1</td>\n",
              "      <td>1</td>\n",
              "      <td>4</td>\n",
              "      <td>3</td>\n",
              "      <td>0</td>\n",
              "      <td>0</td>\n",
              "      <td>4</td>\n",
              "      <td>4</td>\n",
              "      <td>3</td>\n",
              "      <td>0</td>\n",
              "      <td>4</td>\n",
              "      <td>3</td>\n",
              "      <td>3</td>\n",
              "      <td>3</td>\n",
              "      <td>4</td>\n",
              "      <td>4</td>\n",
              "      <td>0</td>\n",
              "      <td>0</td>\n",
              "      <td>1</td>\n",
              "      <td>1</td>\n",
              "      <td>3</td>\n",
              "      <td>4</td>\n",
              "      <td>0</td>\n",
              "      <td>4</td>\n",
              "      <td>2</td>\n",
              "      <td>0</td>\n",
              "      <td>4</td>\n",
              "      <td>0</td>\n",
              "      <td>1</td>\n",
              "      <td>3</td>\n",
              "      <td>1</td>\n",
              "      <td>0</td>\n",
              "      <td>4</td>\n",
              "      <td>1</td>\n",
              "      <td>1</td>\n",
              "      <td>3</td>\n",
              "      <td>1</td>\n",
              "      <td>...</td>\n",
              "      <td>4</td>\n",
              "      <td>3</td>\n",
              "      <td>4</td>\n",
              "      <td>1</td>\n",
              "      <td>3</td>\n",
              "      <td>0</td>\n",
              "      <td>0</td>\n",
              "      <td>1</td>\n",
              "      <td>3</td>\n",
              "      <td>3</td>\n",
              "      <td>3</td>\n",
              "      <td>0</td>\n",
              "      <td>3</td>\n",
              "      <td>2</td>\n",
              "      <td>2</td>\n",
              "      <td>1</td>\n",
              "      <td>0</td>\n",
              "      <td>1</td>\n",
              "      <td>0</td>\n",
              "      <td>0</td>\n",
              "      <td>3</td>\n",
              "      <td>0</td>\n",
              "      <td>0</td>\n",
              "      <td>4</td>\n",
              "      <td>2</td>\n",
              "      <td>0</td>\n",
              "      <td>3</td>\n",
              "      <td>4</td>\n",
              "      <td>1</td>\n",
              "      <td>1</td>\n",
              "      <td>2</td>\n",
              "      <td>1</td>\n",
              "      <td>0</td>\n",
              "      <td>1</td>\n",
              "      <td>2</td>\n",
              "      <td>4</td>\n",
              "      <td>4</td>\n",
              "      <td>4</td>\n",
              "      <td>3</td>\n",
              "      <td>4</td>\n",
              "    </tr>\n",
              "    <tr>\n",
              "      <th>2</th>\n",
              "      <td>0</td>\n",
              "      <td>B</td>\n",
              "      <td>0</td>\n",
              "      <td>4</td>\n",
              "      <td>0</td>\n",
              "      <td>0</td>\n",
              "      <td>4</td>\n",
              "      <td>1</td>\n",
              "      <td>1</td>\n",
              "      <td>1</td>\n",
              "      <td>4</td>\n",
              "      <td>2</td>\n",
              "      <td>0</td>\n",
              "      <td>3</td>\n",
              "      <td>4</td>\n",
              "      <td>0</td>\n",
              "      <td>0</td>\n",
              "      <td>2</td>\n",
              "      <td>3</td>\n",
              "      <td>4</td>\n",
              "      <td>0</td>\n",
              "      <td>3</td>\n",
              "      <td>4</td>\n",
              "      <td>3</td>\n",
              "      <td>0</td>\n",
              "      <td>2</td>\n",
              "      <td>2</td>\n",
              "      <td>1</td>\n",
              "      <td>4</td>\n",
              "      <td>2</td>\n",
              "      <td>3</td>\n",
              "      <td>3</td>\n",
              "      <td>4</td>\n",
              "      <td>1</td>\n",
              "      <td>2</td>\n",
              "      <td>4</td>\n",
              "      <td>2</td>\n",
              "      <td>0</td>\n",
              "      <td>3</td>\n",
              "      <td>2</td>\n",
              "      <td>...</td>\n",
              "      <td>4</td>\n",
              "      <td>2</td>\n",
              "      <td>3</td>\n",
              "      <td>0</td>\n",
              "      <td>0</td>\n",
              "      <td>0</td>\n",
              "      <td>0</td>\n",
              "      <td>4</td>\n",
              "      <td>3</td>\n",
              "      <td>2</td>\n",
              "      <td>2</td>\n",
              "      <td>4</td>\n",
              "      <td>2</td>\n",
              "      <td>1</td>\n",
              "      <td>1</td>\n",
              "      <td>1</td>\n",
              "      <td>3</td>\n",
              "      <td>3</td>\n",
              "      <td>1</td>\n",
              "      <td>2</td>\n",
              "      <td>4</td>\n",
              "      <td>4</td>\n",
              "      <td>4</td>\n",
              "      <td>2</td>\n",
              "      <td>2</td>\n",
              "      <td>4</td>\n",
              "      <td>4</td>\n",
              "      <td>0</td>\n",
              "      <td>4</td>\n",
              "      <td>2</td>\n",
              "      <td>0</td>\n",
              "      <td>3</td>\n",
              "      <td>0</td>\n",
              "      <td>1</td>\n",
              "      <td>4</td>\n",
              "      <td>1</td>\n",
              "      <td>4</td>\n",
              "      <td>2</td>\n",
              "      <td>1</td>\n",
              "      <td>2</td>\n",
              "    </tr>\n",
              "    <tr>\n",
              "      <th>3</th>\n",
              "      <td>4</td>\n",
              "      <td>L</td>\n",
              "      <td>1</td>\n",
              "      <td>1</td>\n",
              "      <td>2</td>\n",
              "      <td>2</td>\n",
              "      <td>1</td>\n",
              "      <td>1</td>\n",
              "      <td>1</td>\n",
              "      <td>0</td>\n",
              "      <td>2</td>\n",
              "      <td>1</td>\n",
              "      <td>3</td>\n",
              "      <td>2</td>\n",
              "      <td>2</td>\n",
              "      <td>2</td>\n",
              "      <td>4</td>\n",
              "      <td>1</td>\n",
              "      <td>1</td>\n",
              "      <td>4</td>\n",
              "      <td>1</td>\n",
              "      <td>0</td>\n",
              "      <td>1</td>\n",
              "      <td>3</td>\n",
              "      <td>4</td>\n",
              "      <td>2</td>\n",
              "      <td>2</td>\n",
              "      <td>2</td>\n",
              "      <td>4</td>\n",
              "      <td>1</td>\n",
              "      <td>1</td>\n",
              "      <td>2</td>\n",
              "      <td>0</td>\n",
              "      <td>3</td>\n",
              "      <td>0</td>\n",
              "      <td>2</td>\n",
              "      <td>3</td>\n",
              "      <td>4</td>\n",
              "      <td>0</td>\n",
              "      <td>1</td>\n",
              "      <td>...</td>\n",
              "      <td>3</td>\n",
              "      <td>0</td>\n",
              "      <td>4</td>\n",
              "      <td>0</td>\n",
              "      <td>3</td>\n",
              "      <td>0</td>\n",
              "      <td>2</td>\n",
              "      <td>0</td>\n",
              "      <td>1</td>\n",
              "      <td>4</td>\n",
              "      <td>2</td>\n",
              "      <td>3</td>\n",
              "      <td>4</td>\n",
              "      <td>4</td>\n",
              "      <td>4</td>\n",
              "      <td>0</td>\n",
              "      <td>2</td>\n",
              "      <td>0</td>\n",
              "      <td>4</td>\n",
              "      <td>4</td>\n",
              "      <td>1</td>\n",
              "      <td>3</td>\n",
              "      <td>0</td>\n",
              "      <td>3</td>\n",
              "      <td>2</td>\n",
              "      <td>0</td>\n",
              "      <td>2</td>\n",
              "      <td>3</td>\n",
              "      <td>0</td>\n",
              "      <td>2</td>\n",
              "      <td>3</td>\n",
              "      <td>3</td>\n",
              "      <td>3</td>\n",
              "      <td>0</td>\n",
              "      <td>2</td>\n",
              "      <td>0</td>\n",
              "      <td>3</td>\n",
              "      <td>0</td>\n",
              "      <td>2</td>\n",
              "      <td>2</td>\n",
              "    </tr>\n",
              "    <tr>\n",
              "      <th>4</th>\n",
              "      <td>9</td>\n",
              "      <td>D</td>\n",
              "      <td>1</td>\n",
              "      <td>2</td>\n",
              "      <td>0</td>\n",
              "      <td>2</td>\n",
              "      <td>0</td>\n",
              "      <td>4</td>\n",
              "      <td>0</td>\n",
              "      <td>3</td>\n",
              "      <td>4</td>\n",
              "      <td>3</td>\n",
              "      <td>1</td>\n",
              "      <td>0</td>\n",
              "      <td>3</td>\n",
              "      <td>2</td>\n",
              "      <td>2</td>\n",
              "      <td>0</td>\n",
              "      <td>3</td>\n",
              "      <td>4</td>\n",
              "      <td>1</td>\n",
              "      <td>0</td>\n",
              "      <td>4</td>\n",
              "      <td>1</td>\n",
              "      <td>2</td>\n",
              "      <td>2</td>\n",
              "      <td>3</td>\n",
              "      <td>2</td>\n",
              "      <td>2</td>\n",
              "      <td>0</td>\n",
              "      <td>2</td>\n",
              "      <td>0</td>\n",
              "      <td>3</td>\n",
              "      <td>0</td>\n",
              "      <td>3</td>\n",
              "      <td>2</td>\n",
              "      <td>4</td>\n",
              "      <td>0</td>\n",
              "      <td>0</td>\n",
              "      <td>4</td>\n",
              "      <td>...</td>\n",
              "      <td>0</td>\n",
              "      <td>3</td>\n",
              "      <td>0</td>\n",
              "      <td>1</td>\n",
              "      <td>4</td>\n",
              "      <td>1</td>\n",
              "      <td>3</td>\n",
              "      <td>1</td>\n",
              "      <td>2</td>\n",
              "      <td>1</td>\n",
              "      <td>1</td>\n",
              "      <td>1</td>\n",
              "      <td>2</td>\n",
              "      <td>2</td>\n",
              "      <td>2</td>\n",
              "      <td>4</td>\n",
              "      <td>3</td>\n",
              "      <td>4</td>\n",
              "      <td>3</td>\n",
              "      <td>0</td>\n",
              "      <td>4</td>\n",
              "      <td>1</td>\n",
              "      <td>2</td>\n",
              "      <td>4</td>\n",
              "      <td>1</td>\n",
              "      <td>4</td>\n",
              "      <td>0</td>\n",
              "      <td>1</td>\n",
              "      <td>0</td>\n",
              "      <td>4</td>\n",
              "      <td>3</td>\n",
              "      <td>3</td>\n",
              "      <td>2</td>\n",
              "      <td>0</td>\n",
              "      <td>1</td>\n",
              "      <td>4</td>\n",
              "      <td>0</td>\n",
              "      <td>0</td>\n",
              "      <td>1</td>\n",
              "      <td>1</td>\n",
              "    </tr>\n",
              "    <tr>\n",
              "      <th>5</th>\n",
              "      <td>6</td>\n",
              "      <td>A</td>\n",
              "      <td>3</td>\n",
              "      <td>0</td>\n",
              "      <td>2</td>\n",
              "      <td>4</td>\n",
              "      <td>0</td>\n",
              "      <td>3</td>\n",
              "      <td>0</td>\n",
              "      <td>4</td>\n",
              "      <td>2</td>\n",
              "      <td>4</td>\n",
              "      <td>2</td>\n",
              "      <td>1</td>\n",
              "      <td>4</td>\n",
              "      <td>1</td>\n",
              "      <td>1</td>\n",
              "      <td>4</td>\n",
              "      <td>4</td>\n",
              "      <td>0</td>\n",
              "      <td>2</td>\n",
              "      <td>3</td>\n",
              "      <td>4</td>\n",
              "      <td>4</td>\n",
              "      <td>3</td>\n",
              "      <td>3</td>\n",
              "      <td>3</td>\n",
              "      <td>3</td>\n",
              "      <td>4</td>\n",
              "      <td>1</td>\n",
              "      <td>0</td>\n",
              "      <td>3</td>\n",
              "      <td>0</td>\n",
              "      <td>3</td>\n",
              "      <td>0</td>\n",
              "      <td>0</td>\n",
              "      <td>0</td>\n",
              "      <td>1</td>\n",
              "      <td>1</td>\n",
              "      <td>2</td>\n",
              "      <td>...</td>\n",
              "      <td>2</td>\n",
              "      <td>1</td>\n",
              "      <td>3</td>\n",
              "      <td>2</td>\n",
              "      <td>1</td>\n",
              "      <td>4</td>\n",
              "      <td>2</td>\n",
              "      <td>3</td>\n",
              "      <td>2</td>\n",
              "      <td>2</td>\n",
              "      <td>1</td>\n",
              "      <td>0</td>\n",
              "      <td>4</td>\n",
              "      <td>2</td>\n",
              "      <td>2</td>\n",
              "      <td>1</td>\n",
              "      <td>2</td>\n",
              "      <td>1</td>\n",
              "      <td>0</td>\n",
              "      <td>3</td>\n",
              "      <td>2</td>\n",
              "      <td>2</td>\n",
              "      <td>2</td>\n",
              "      <td>2</td>\n",
              "      <td>1</td>\n",
              "      <td>4</td>\n",
              "      <td>2</td>\n",
              "      <td>1</td>\n",
              "      <td>2</td>\n",
              "      <td>1</td>\n",
              "      <td>4</td>\n",
              "      <td>4</td>\n",
              "      <td>3</td>\n",
              "      <td>2</td>\n",
              "      <td>1</td>\n",
              "      <td>3</td>\n",
              "      <td>4</td>\n",
              "      <td>3</td>\n",
              "      <td>1</td>\n",
              "      <td>2</td>\n",
              "    </tr>\n",
              "  </tbody>\n",
              "</table>\n",
              "<p>5 rows × 786 columns</p>\n",
              "</div>"
            ],
            "text/plain": [
              "    digit letter  0  1  2  3  4  5  ...  776  777  778  779  780  781  782  783\n",
              "id                                  ...                                        \n",
              "1       5      L  1  1  1  4  3  0  ...    0    1    2    4    4    4    3    4\n",
              "2       0      B  0  4  0  0  4  1  ...    0    1    4    1    4    2    1    2\n",
              "3       4      L  1  1  2  2  1  1  ...    3    0    2    0    3    0    2    2\n",
              "4       9      D  1  2  0  2  0  4  ...    2    0    1    4    0    0    1    1\n",
              "5       6      A  3  0  2  4  0  3  ...    3    2    1    3    4    3    1    2\n",
              "\n",
              "[5 rows x 786 columns]"
            ]
          },
          "metadata": {
            "tags": []
          },
          "execution_count": 34
        }
      ]
    },
    {
      "cell_type": "code",
      "metadata": {
        "colab": {
          "base_uri": "https://localhost:8080/",
          "height": 0
        },
        "id": "F0u48q_ZZQ5j",
        "outputId": "828aa565-1f3e-4124-e9d9-233e9be4b534"
      },
      "source": [
        "test.set_index('id').head()"
      ],
      "execution_count": 35,
      "outputs": [
        {
          "output_type": "execute_result",
          "data": {
            "text/html": [
              "<div>\n",
              "<style scoped>\n",
              "    .dataframe tbody tr th:only-of-type {\n",
              "        vertical-align: middle;\n",
              "    }\n",
              "\n",
              "    .dataframe tbody tr th {\n",
              "        vertical-align: top;\n",
              "    }\n",
              "\n",
              "    .dataframe thead th {\n",
              "        text-align: right;\n",
              "    }\n",
              "</style>\n",
              "<table border=\"1\" class=\"dataframe\">\n",
              "  <thead>\n",
              "    <tr style=\"text-align: right;\">\n",
              "      <th></th>\n",
              "      <th>letter</th>\n",
              "      <th>0</th>\n",
              "      <th>1</th>\n",
              "      <th>2</th>\n",
              "      <th>3</th>\n",
              "      <th>4</th>\n",
              "      <th>5</th>\n",
              "      <th>6</th>\n",
              "      <th>7</th>\n",
              "      <th>8</th>\n",
              "      <th>9</th>\n",
              "      <th>10</th>\n",
              "      <th>11</th>\n",
              "      <th>12</th>\n",
              "      <th>13</th>\n",
              "      <th>14</th>\n",
              "      <th>15</th>\n",
              "      <th>16</th>\n",
              "      <th>17</th>\n",
              "      <th>18</th>\n",
              "      <th>19</th>\n",
              "      <th>20</th>\n",
              "      <th>21</th>\n",
              "      <th>22</th>\n",
              "      <th>23</th>\n",
              "      <th>24</th>\n",
              "      <th>25</th>\n",
              "      <th>26</th>\n",
              "      <th>27</th>\n",
              "      <th>28</th>\n",
              "      <th>29</th>\n",
              "      <th>30</th>\n",
              "      <th>31</th>\n",
              "      <th>32</th>\n",
              "      <th>33</th>\n",
              "      <th>34</th>\n",
              "      <th>35</th>\n",
              "      <th>36</th>\n",
              "      <th>37</th>\n",
              "      <th>38</th>\n",
              "      <th>...</th>\n",
              "      <th>744</th>\n",
              "      <th>745</th>\n",
              "      <th>746</th>\n",
              "      <th>747</th>\n",
              "      <th>748</th>\n",
              "      <th>749</th>\n",
              "      <th>750</th>\n",
              "      <th>751</th>\n",
              "      <th>752</th>\n",
              "      <th>753</th>\n",
              "      <th>754</th>\n",
              "      <th>755</th>\n",
              "      <th>756</th>\n",
              "      <th>757</th>\n",
              "      <th>758</th>\n",
              "      <th>759</th>\n",
              "      <th>760</th>\n",
              "      <th>761</th>\n",
              "      <th>762</th>\n",
              "      <th>763</th>\n",
              "      <th>764</th>\n",
              "      <th>765</th>\n",
              "      <th>766</th>\n",
              "      <th>767</th>\n",
              "      <th>768</th>\n",
              "      <th>769</th>\n",
              "      <th>770</th>\n",
              "      <th>771</th>\n",
              "      <th>772</th>\n",
              "      <th>773</th>\n",
              "      <th>774</th>\n",
              "      <th>775</th>\n",
              "      <th>776</th>\n",
              "      <th>777</th>\n",
              "      <th>778</th>\n",
              "      <th>779</th>\n",
              "      <th>780</th>\n",
              "      <th>781</th>\n",
              "      <th>782</th>\n",
              "      <th>783</th>\n",
              "    </tr>\n",
              "    <tr>\n",
              "      <th>id</th>\n",
              "      <th></th>\n",
              "      <th></th>\n",
              "      <th></th>\n",
              "      <th></th>\n",
              "      <th></th>\n",
              "      <th></th>\n",
              "      <th></th>\n",
              "      <th></th>\n",
              "      <th></th>\n",
              "      <th></th>\n",
              "      <th></th>\n",
              "      <th></th>\n",
              "      <th></th>\n",
              "      <th></th>\n",
              "      <th></th>\n",
              "      <th></th>\n",
              "      <th></th>\n",
              "      <th></th>\n",
              "      <th></th>\n",
              "      <th></th>\n",
              "      <th></th>\n",
              "      <th></th>\n",
              "      <th></th>\n",
              "      <th></th>\n",
              "      <th></th>\n",
              "      <th></th>\n",
              "      <th></th>\n",
              "      <th></th>\n",
              "      <th></th>\n",
              "      <th></th>\n",
              "      <th></th>\n",
              "      <th></th>\n",
              "      <th></th>\n",
              "      <th></th>\n",
              "      <th></th>\n",
              "      <th></th>\n",
              "      <th></th>\n",
              "      <th></th>\n",
              "      <th></th>\n",
              "      <th></th>\n",
              "      <th></th>\n",
              "      <th></th>\n",
              "      <th></th>\n",
              "      <th></th>\n",
              "      <th></th>\n",
              "      <th></th>\n",
              "      <th></th>\n",
              "      <th></th>\n",
              "      <th></th>\n",
              "      <th></th>\n",
              "      <th></th>\n",
              "      <th></th>\n",
              "      <th></th>\n",
              "      <th></th>\n",
              "      <th></th>\n",
              "      <th></th>\n",
              "      <th></th>\n",
              "      <th></th>\n",
              "      <th></th>\n",
              "      <th></th>\n",
              "      <th></th>\n",
              "      <th></th>\n",
              "      <th></th>\n",
              "      <th></th>\n",
              "      <th></th>\n",
              "      <th></th>\n",
              "      <th></th>\n",
              "      <th></th>\n",
              "      <th></th>\n",
              "      <th></th>\n",
              "      <th></th>\n",
              "      <th></th>\n",
              "      <th></th>\n",
              "      <th></th>\n",
              "      <th></th>\n",
              "      <th></th>\n",
              "      <th></th>\n",
              "      <th></th>\n",
              "      <th></th>\n",
              "      <th></th>\n",
              "      <th></th>\n",
              "    </tr>\n",
              "  </thead>\n",
              "  <tbody>\n",
              "    <tr>\n",
              "      <th>2049</th>\n",
              "      <td>L</td>\n",
              "      <td>0</td>\n",
              "      <td>4</td>\n",
              "      <td>0</td>\n",
              "      <td>2</td>\n",
              "      <td>4</td>\n",
              "      <td>2</td>\n",
              "      <td>3</td>\n",
              "      <td>1</td>\n",
              "      <td>0</td>\n",
              "      <td>0</td>\n",
              "      <td>1</td>\n",
              "      <td>0</td>\n",
              "      <td>1</td>\n",
              "      <td>3</td>\n",
              "      <td>4</td>\n",
              "      <td>4</td>\n",
              "      <td>0</td>\n",
              "      <td>0</td>\n",
              "      <td>2</td>\n",
              "      <td>4</td>\n",
              "      <td>4</td>\n",
              "      <td>1</td>\n",
              "      <td>3</td>\n",
              "      <td>3</td>\n",
              "      <td>2</td>\n",
              "      <td>2</td>\n",
              "      <td>4</td>\n",
              "      <td>1</td>\n",
              "      <td>0</td>\n",
              "      <td>1</td>\n",
              "      <td>2</td>\n",
              "      <td>2</td>\n",
              "      <td>1</td>\n",
              "      <td>2</td>\n",
              "      <td>2</td>\n",
              "      <td>1</td>\n",
              "      <td>4</td>\n",
              "      <td>0</td>\n",
              "      <td>4</td>\n",
              "      <td>...</td>\n",
              "      <td>1</td>\n",
              "      <td>3</td>\n",
              "      <td>1</td>\n",
              "      <td>1</td>\n",
              "      <td>3</td>\n",
              "      <td>3</td>\n",
              "      <td>4</td>\n",
              "      <td>1</td>\n",
              "      <td>3</td>\n",
              "      <td>1</td>\n",
              "      <td>2</td>\n",
              "      <td>4</td>\n",
              "      <td>1</td>\n",
              "      <td>2</td>\n",
              "      <td>0</td>\n",
              "      <td>3</td>\n",
              "      <td>1</td>\n",
              "      <td>2</td>\n",
              "      <td>4</td>\n",
              "      <td>0</td>\n",
              "      <td>2</td>\n",
              "      <td>1</td>\n",
              "      <td>2</td>\n",
              "      <td>4</td>\n",
              "      <td>1</td>\n",
              "      <td>1</td>\n",
              "      <td>3</td>\n",
              "      <td>2</td>\n",
              "      <td>1</td>\n",
              "      <td>0</td>\n",
              "      <td>2</td>\n",
              "      <td>0</td>\n",
              "      <td>4</td>\n",
              "      <td>2</td>\n",
              "      <td>2</td>\n",
              "      <td>4</td>\n",
              "      <td>3</td>\n",
              "      <td>4</td>\n",
              "      <td>1</td>\n",
              "      <td>4</td>\n",
              "    </tr>\n",
              "    <tr>\n",
              "      <th>2050</th>\n",
              "      <td>C</td>\n",
              "      <td>4</td>\n",
              "      <td>1</td>\n",
              "      <td>4</td>\n",
              "      <td>0</td>\n",
              "      <td>1</td>\n",
              "      <td>1</td>\n",
              "      <td>0</td>\n",
              "      <td>2</td>\n",
              "      <td>2</td>\n",
              "      <td>1</td>\n",
              "      <td>0</td>\n",
              "      <td>3</td>\n",
              "      <td>0</td>\n",
              "      <td>1</td>\n",
              "      <td>1</td>\n",
              "      <td>4</td>\n",
              "      <td>1</td>\n",
              "      <td>2</td>\n",
              "      <td>0</td>\n",
              "      <td>2</td>\n",
              "      <td>2</td>\n",
              "      <td>0</td>\n",
              "      <td>4</td>\n",
              "      <td>3</td>\n",
              "      <td>4</td>\n",
              "      <td>0</td>\n",
              "      <td>2</td>\n",
              "      <td>4</td>\n",
              "      <td>4</td>\n",
              "      <td>2</td>\n",
              "      <td>1</td>\n",
              "      <td>2</td>\n",
              "      <td>4</td>\n",
              "      <td>0</td>\n",
              "      <td>4</td>\n",
              "      <td>2</td>\n",
              "      <td>0</td>\n",
              "      <td>2</td>\n",
              "      <td>3</td>\n",
              "      <td>...</td>\n",
              "      <td>3</td>\n",
              "      <td>4</td>\n",
              "      <td>2</td>\n",
              "      <td>6</td>\n",
              "      <td>2</td>\n",
              "      <td>2</td>\n",
              "      <td>0</td>\n",
              "      <td>1</td>\n",
              "      <td>2</td>\n",
              "      <td>4</td>\n",
              "      <td>1</td>\n",
              "      <td>1</td>\n",
              "      <td>3</td>\n",
              "      <td>3</td>\n",
              "      <td>2</td>\n",
              "      <td>3</td>\n",
              "      <td>4</td>\n",
              "      <td>2</td>\n",
              "      <td>2</td>\n",
              "      <td>4</td>\n",
              "      <td>3</td>\n",
              "      <td>1</td>\n",
              "      <td>3</td>\n",
              "      <td>3</td>\n",
              "      <td>3</td>\n",
              "      <td>1</td>\n",
              "      <td>3</td>\n",
              "      <td>4</td>\n",
              "      <td>4</td>\n",
              "      <td>2</td>\n",
              "      <td>0</td>\n",
              "      <td>3</td>\n",
              "      <td>2</td>\n",
              "      <td>4</td>\n",
              "      <td>2</td>\n",
              "      <td>4</td>\n",
              "      <td>2</td>\n",
              "      <td>2</td>\n",
              "      <td>1</td>\n",
              "      <td>2</td>\n",
              "    </tr>\n",
              "    <tr>\n",
              "      <th>2051</th>\n",
              "      <td>S</td>\n",
              "      <td>0</td>\n",
              "      <td>4</td>\n",
              "      <td>0</td>\n",
              "      <td>1</td>\n",
              "      <td>3</td>\n",
              "      <td>2</td>\n",
              "      <td>3</td>\n",
              "      <td>0</td>\n",
              "      <td>2</td>\n",
              "      <td>1</td>\n",
              "      <td>2</td>\n",
              "      <td>0</td>\n",
              "      <td>1</td>\n",
              "      <td>0</td>\n",
              "      <td>3</td>\n",
              "      <td>0</td>\n",
              "      <td>1</td>\n",
              "      <td>4</td>\n",
              "      <td>3</td>\n",
              "      <td>0</td>\n",
              "      <td>0</td>\n",
              "      <td>3</td>\n",
              "      <td>0</td>\n",
              "      <td>4</td>\n",
              "      <td>1</td>\n",
              "      <td>0</td>\n",
              "      <td>3</td>\n",
              "      <td>2</td>\n",
              "      <td>0</td>\n",
              "      <td>4</td>\n",
              "      <td>1</td>\n",
              "      <td>2</td>\n",
              "      <td>0</td>\n",
              "      <td>0</td>\n",
              "      <td>1</td>\n",
              "      <td>3</td>\n",
              "      <td>0</td>\n",
              "      <td>2</td>\n",
              "      <td>1</td>\n",
              "      <td>...</td>\n",
              "      <td>0</td>\n",
              "      <td>4</td>\n",
              "      <td>4</td>\n",
              "      <td>3</td>\n",
              "      <td>4</td>\n",
              "      <td>1</td>\n",
              "      <td>4</td>\n",
              "      <td>2</td>\n",
              "      <td>3</td>\n",
              "      <td>4</td>\n",
              "      <td>1</td>\n",
              "      <td>2</td>\n",
              "      <td>0</td>\n",
              "      <td>2</td>\n",
              "      <td>2</td>\n",
              "      <td>3</td>\n",
              "      <td>3</td>\n",
              "      <td>1</td>\n",
              "      <td>1</td>\n",
              "      <td>4</td>\n",
              "      <td>1</td>\n",
              "      <td>2</td>\n",
              "      <td>4</td>\n",
              "      <td>0</td>\n",
              "      <td>0</td>\n",
              "      <td>0</td>\n",
              "      <td>0</td>\n",
              "      <td>2</td>\n",
              "      <td>3</td>\n",
              "      <td>2</td>\n",
              "      <td>1</td>\n",
              "      <td>3</td>\n",
              "      <td>2</td>\n",
              "      <td>0</td>\n",
              "      <td>3</td>\n",
              "      <td>2</td>\n",
              "      <td>3</td>\n",
              "      <td>0</td>\n",
              "      <td>1</td>\n",
              "      <td>4</td>\n",
              "    </tr>\n",
              "    <tr>\n",
              "      <th>2052</th>\n",
              "      <td>K</td>\n",
              "      <td>2</td>\n",
              "      <td>1</td>\n",
              "      <td>3</td>\n",
              "      <td>3</td>\n",
              "      <td>3</td>\n",
              "      <td>4</td>\n",
              "      <td>3</td>\n",
              "      <td>0</td>\n",
              "      <td>0</td>\n",
              "      <td>2</td>\n",
              "      <td>3</td>\n",
              "      <td>2</td>\n",
              "      <td>3</td>\n",
              "      <td>4</td>\n",
              "      <td>4</td>\n",
              "      <td>4</td>\n",
              "      <td>0</td>\n",
              "      <td>1</td>\n",
              "      <td>4</td>\n",
              "      <td>2</td>\n",
              "      <td>2</td>\n",
              "      <td>0</td>\n",
              "      <td>1</td>\n",
              "      <td>4</td>\n",
              "      <td>3</td>\n",
              "      <td>1</td>\n",
              "      <td>3</td>\n",
              "      <td>0</td>\n",
              "      <td>2</td>\n",
              "      <td>3</td>\n",
              "      <td>2</td>\n",
              "      <td>4</td>\n",
              "      <td>3</td>\n",
              "      <td>1</td>\n",
              "      <td>1</td>\n",
              "      <td>4</td>\n",
              "      <td>0</td>\n",
              "      <td>0</td>\n",
              "      <td>3</td>\n",
              "      <td>...</td>\n",
              "      <td>0</td>\n",
              "      <td>4</td>\n",
              "      <td>1</td>\n",
              "      <td>1</td>\n",
              "      <td>2</td>\n",
              "      <td>3</td>\n",
              "      <td>2</td>\n",
              "      <td>3</td>\n",
              "      <td>3</td>\n",
              "      <td>0</td>\n",
              "      <td>0</td>\n",
              "      <td>1</td>\n",
              "      <td>3</td>\n",
              "      <td>3</td>\n",
              "      <td>0</td>\n",
              "      <td>2</td>\n",
              "      <td>0</td>\n",
              "      <td>0</td>\n",
              "      <td>2</td>\n",
              "      <td>3</td>\n",
              "      <td>2</td>\n",
              "      <td>2</td>\n",
              "      <td>3</td>\n",
              "      <td>1</td>\n",
              "      <td>1</td>\n",
              "      <td>2</td>\n",
              "      <td>4</td>\n",
              "      <td>0</td>\n",
              "      <td>1</td>\n",
              "      <td>2</td>\n",
              "      <td>3</td>\n",
              "      <td>0</td>\n",
              "      <td>3</td>\n",
              "      <td>2</td>\n",
              "      <td>4</td>\n",
              "      <td>1</td>\n",
              "      <td>0</td>\n",
              "      <td>4</td>\n",
              "      <td>4</td>\n",
              "      <td>4</td>\n",
              "    </tr>\n",
              "    <tr>\n",
              "      <th>2053</th>\n",
              "      <td>W</td>\n",
              "      <td>1</td>\n",
              "      <td>0</td>\n",
              "      <td>1</td>\n",
              "      <td>1</td>\n",
              "      <td>2</td>\n",
              "      <td>2</td>\n",
              "      <td>1</td>\n",
              "      <td>4</td>\n",
              "      <td>1</td>\n",
              "      <td>1</td>\n",
              "      <td>4</td>\n",
              "      <td>3</td>\n",
              "      <td>4</td>\n",
              "      <td>1</td>\n",
              "      <td>2</td>\n",
              "      <td>1</td>\n",
              "      <td>4</td>\n",
              "      <td>3</td>\n",
              "      <td>3</td>\n",
              "      <td>4</td>\n",
              "      <td>0</td>\n",
              "      <td>4</td>\n",
              "      <td>4</td>\n",
              "      <td>2</td>\n",
              "      <td>0</td>\n",
              "      <td>0</td>\n",
              "      <td>0</td>\n",
              "      <td>0</td>\n",
              "      <td>3</td>\n",
              "      <td>4</td>\n",
              "      <td>0</td>\n",
              "      <td>1</td>\n",
              "      <td>4</td>\n",
              "      <td>2</td>\n",
              "      <td>2</td>\n",
              "      <td>2</td>\n",
              "      <td>1</td>\n",
              "      <td>4</td>\n",
              "      <td>4</td>\n",
              "      <td>...</td>\n",
              "      <td>4</td>\n",
              "      <td>1</td>\n",
              "      <td>3</td>\n",
              "      <td>2</td>\n",
              "      <td>1</td>\n",
              "      <td>2</td>\n",
              "      <td>1</td>\n",
              "      <td>4</td>\n",
              "      <td>4</td>\n",
              "      <td>1</td>\n",
              "      <td>2</td>\n",
              "      <td>3</td>\n",
              "      <td>2</td>\n",
              "      <td>4</td>\n",
              "      <td>2</td>\n",
              "      <td>1</td>\n",
              "      <td>4</td>\n",
              "      <td>3</td>\n",
              "      <td>4</td>\n",
              "      <td>3</td>\n",
              "      <td>0</td>\n",
              "      <td>1</td>\n",
              "      <td>0</td>\n",
              "      <td>1</td>\n",
              "      <td>1</td>\n",
              "      <td>2</td>\n",
              "      <td>1</td>\n",
              "      <td>1</td>\n",
              "      <td>0</td>\n",
              "      <td>2</td>\n",
              "      <td>4</td>\n",
              "      <td>3</td>\n",
              "      <td>1</td>\n",
              "      <td>4</td>\n",
              "      <td>0</td>\n",
              "      <td>2</td>\n",
              "      <td>1</td>\n",
              "      <td>2</td>\n",
              "      <td>3</td>\n",
              "      <td>4</td>\n",
              "    </tr>\n",
              "  </tbody>\n",
              "</table>\n",
              "<p>5 rows × 785 columns</p>\n",
              "</div>"
            ],
            "text/plain": [
              "     letter  0  1  2  3  4  5  6  ...  776  777  778  779  780  781  782  783\n",
              "id                                ...                                        \n",
              "2049      L  0  4  0  2  4  2  3  ...    4    2    2    4    3    4    1    4\n",
              "2050      C  4  1  4  0  1  1  0  ...    2    4    2    4    2    2    1    2\n",
              "2051      S  0  4  0  1  3  2  3  ...    2    0    3    2    3    0    1    4\n",
              "2052      K  2  1  3  3  3  4  3  ...    3    2    4    1    0    4    4    4\n",
              "2053      W  1  0  1  1  2  2  1  ...    1    4    0    2    1    2    3    4\n",
              "\n",
              "[5 rows x 785 columns]"
            ]
          },
          "metadata": {
            "tags": []
          },
          "execution_count": 35
        }
      ]
    },
    {
      "cell_type": "code",
      "metadata": {
        "colab": {
          "base_uri": "https://localhost:8080/"
        },
        "id": "Gf0lDELBZMrZ",
        "outputId": "4111d772-d9b2-4f05-fc58-868f6db54ba9"
      },
      "source": [
        "train.shape"
      ],
      "execution_count": 36,
      "outputs": [
        {
          "output_type": "execute_result",
          "data": {
            "text/plain": [
              "(2048, 787)"
            ]
          },
          "metadata": {
            "tags": []
          },
          "execution_count": 36
        }
      ]
    },
    {
      "cell_type": "code",
      "metadata": {
        "colab": {
          "base_uri": "https://localhost:8080/"
        },
        "id": "ROdMh5WTZUdh",
        "outputId": "98487beb-fbc1-4472-fca2-c774ff54f216"
      },
      "source": [
        "test.shape"
      ],
      "execution_count": 37,
      "outputs": [
        {
          "output_type": "execute_result",
          "data": {
            "text/plain": [
              "(20480, 786)"
            ]
          },
          "metadata": {
            "tags": []
          },
          "execution_count": 37
        }
      ]
    },
    {
      "cell_type": "markdown",
      "metadata": {
        "id": "WIZHbK4Bcfi_"
      },
      "source": [
        "# visualize\n",
        "### 시각화를 통해 추측할 수 있는 내용\n",
        "- fig\n",
        "    - left fig : 원본 데이터\n",
        "    - right fig : 숫자 부분이라 생각되는 부분을 임의로 추출\n",
        "- letter는 영어 알파벳인데 데이터에는 모두 대문자로 있지만 이미지는 대소문자 구분이 없는 것을 확인 했습니다. 즉, 실제로는 A-Z(26), a-z(26) 으로 52개가 있는 것으로 보입니다.\n",
        "- 이미지를 봤을 때 데이터가 만들어진 과정을 추측해보면 letter가 먼저 그려지고 digit을 그리는데 이 때 digit은 letter와 겹치는 부분만 남기고 나머지 부분은 제거하는 방식 인 것 같습니다. -> 단지 제 생각입니다...!\n",
        "- 겹쳐져 있는 부분의 pixel 값은 약간 다른 것을 확인할 수 있었습니다.\n",
        "- 임의로 일정 pixel 이상의 값을 가진 것만 남겨 이미지를 출력해보면 어떤 형태로 데이터가 생성 됐을지 예상할 수 있습니다."
      ]
    },
    {
      "cell_type": "code",
      "metadata": {
        "ExecuteTime": {
          "end_time": "2020-08-21T09:24:18.156040Z",
          "start_time": "2020-08-21T09:23:55.848457Z"
        },
        "code_folding": [],
        "run_control": {
          "marked": false
        },
        "scrolled": true,
        "id": "KYN63gckcfjA"
      },
      "source": [
        "for idx in range(0, 300, 3):\n",
        "    plt.figure(figsize=(20,30))\n",
        "    plt.subplot(1,9,1)\n",
        "    plt.imshow(train_img[idx].reshape(28,28),cmap='gray')\n",
        "    plt.axis('off')\n",
        "    \n",
        "    plt.title('digit:{}   letter:{}'.format(train_digit[idx], train_letter[idx]), loc='left', fontsize=20)\n",
        "\n",
        "    plt.subplot(1,9,2)\n",
        "    data = np.where(train_img>=150, train_img, 0)\n",
        "    plt.imshow(data[idx].reshape(28,28),cmap='gray')\n",
        "    plt.axis('off')\n",
        "\n",
        "    plt.subplot(1,9,3)\n",
        "    plt.imshow(np.zeros((28,28,3))+1,cmap='gray')\n",
        "    plt.axis('off')\n",
        "    \n",
        "    \n",
        "    plt.subplot(1,9,4)\n",
        "    plt.imshow(train_img[idx+1].reshape(28,28),cmap='gray')\n",
        "    plt.axis('off')\n",
        "    \n",
        "    plt.title('digit:{}   letter:{}'.format(train_digit[idx+1], train_letter[idx+1]), loc='left', fontsize=20)\n",
        "\n",
        "    plt.subplot(1,9,5)\n",
        "    data = np.where(train_img>=150, train_img, 0)\n",
        "    plt.imshow(data[idx+1].reshape(28,28),cmap='gray')\n",
        "    plt.axis('off')\n",
        "\n",
        "    plt.subplot(1,9,6)\n",
        "    plt.imshow(np.zeros((28,28,3))+1,cmap='gray')\n",
        "    plt.axis('off')\n",
        "    \n",
        "    \n",
        "    plt.subplot(1,9,7)\n",
        "    plt.imshow(train_img[idx+2].reshape(28,28),cmap='gray')\n",
        "    plt.axis('off')\n",
        "    \n",
        "    plt.title('digit:{}   letter:{}'.format(train_digit[idx+2], train_letter[idx+2]), loc='left', fontsize=20)\n",
        "\n",
        "    plt.subplot(1,9,8)\n",
        "    data = np.where(train_img>=150, train_img, 0)\n",
        "    plt.imshow(data[idx+2].reshape(28,28),cmap='gray')\n",
        "    plt.axis('off')\n",
        "\n",
        "    plt.subplot(1,9,9)\n",
        "    plt.imshow(np.zeros((28,28,3))+1,cmap='gray')\n",
        "    plt.axis('off')\n",
        "    \n",
        "plt.show()"
      ],
      "execution_count": null,
      "outputs": []
    },
    {
      "cell_type": "markdown",
      "metadata": {
        "id": "IApWhFzgcfjA"
      },
      "source": [
        "- letter 정보를 어떻게 활용할 수 있을지. -> letter의 값을 one-hot-vector로 만든 후 layer의 입력으로 활용해 보는 것도 ? ..\n",
        "- 적은 데이터를 통해 어떤 방식을 활용하면 효율적인 학습을 할 수 있을지.\n",
        "- public LB는 20480개중 1%의 데이터로 약 205개 정도로만 측정이되니 나중에 전체 데이터로 측정 될 때는 또 다르게 나올 수 있을 것 같습니다."
      ]
    },
    {
      "cell_type": "markdown",
      "metadata": {
        "id": "Pkcyf36Jd34E"
      },
      "source": [
        "# Dataset의 분포 "
      ]
    },
    {
      "cell_type": "code",
      "metadata": {
        "id": "ggBTfBTnd9Or"
      },
      "source": [
        "train_df_letter = train['letter'].values"
      ],
      "execution_count": 38,
      "outputs": []
    },
    {
      "cell_type": "code",
      "metadata": {
        "colab": {
          "base_uri": "https://localhost:8080/",
          "height": 0
        },
        "id": "MComU5wieI8C",
        "outputId": "8e40f715-9237-412e-938a-9cf03f373ba7"
      },
      "source": [
        "sns.countplot(train.digit.values)"
      ],
      "execution_count": 39,
      "outputs": [
        {
          "output_type": "stream",
          "text": [
            "/usr/local/lib/python3.7/dist-packages/seaborn/_decorators.py:43: FutureWarning: Pass the following variable as a keyword arg: x. From version 0.12, the only valid positional argument will be `data`, and passing other arguments without an explicit keyword will result in an error or misinterpretation.\n",
            "  FutureWarning\n"
          ],
          "name": "stderr"
        },
        {
          "output_type": "execute_result",
          "data": {
            "text/plain": [
              "<matplotlib.axes._subplots.AxesSubplot at 0x7f89bde16810>"
            ]
          },
          "metadata": {
            "tags": []
          },
          "execution_count": 39
        },
        {
          "output_type": "display_data",
          "data": {
            "image/png": "[encoded data removed]",
            "text/plain": [
              "<Figure size 432x288 with 1 Axes>"
            ]
          },
          "metadata": {
            "tags": [],
            "needs_background": "light"
          }
        }
      ]
    },
    {
      "cell_type": "markdown",
      "metadata": {
        "id": "joy5m1Lsfhce"
      },
      "source": [
        "# 숫자별 알파벳 빈도"
      ]
    },
    {
      "cell_type": "code",
      "metadata": {
        "colab": {
          "base_uri": "https://localhost:8080/",
          "height": 0
        },
        "id": "4WqX5xzMfRRd",
        "outputId": "97fae602-2416-4eba-f193-dcbe5539fbca"
      },
      "source": [
        "fig, axes = plt.subplots(nrows=5, ncols=2,figsize=(12,20))\n",
        "\n",
        "col = 0\n",
        "row = 0\n",
        "\n",
        "for target_number in range(10): \n",
        "    if row == 5 and col==0:\n",
        "        col+=1\n",
        "        row = 0\n",
        "    \n",
        "    sns.countplot(sorted(train.loc[train.digit==target_number,'letter'].values), ax=axes[row,col]).set_title(str(target_number))\n",
        "    row+=1"
      ],
      "execution_count": 40,
      "outputs": [
        {
          "output_type": "stream",
          "text": [
            "/usr/local/lib/python3.7/dist-packages/seaborn/_decorators.py:43: FutureWarning: Pass the following variable as a keyword arg: x. From version 0.12, the only valid positional argument will be `data`, and passing other arguments without an explicit keyword will result in an error or misinterpretation.\n",
            "  FutureWarning\n",
            "/usr/local/lib/python3.7/dist-packages/seaborn/_decorators.py:43: FutureWarning: Pass the following variable as a keyword arg: x. From version 0.12, the only valid positional argument will be `data`, and passing other arguments without an explicit keyword will result in an error or misinterpretation.\n",
            "  FutureWarning\n",
            "/usr/local/lib/python3.7/dist-packages/seaborn/_decorators.py:43: FutureWarning: Pass the following variable as a keyword arg: x. From version 0.12, the only valid positional argument will be `data`, and passing other arguments without an explicit keyword will result in an error or misinterpretation.\n",
            "  FutureWarning\n",
            "/usr/local/lib/python3.7/dist-packages/seaborn/_decorators.py:43: FutureWarning: Pass the following variable as a keyword arg: x. From version 0.12, the only valid positional argument will be `data`, and passing other arguments without an explicit keyword will result in an error or misinterpretation.\n",
            "  FutureWarning\n",
            "/usr/local/lib/python3.7/dist-packages/seaborn/_decorators.py:43: FutureWarning: Pass the following variable as a keyword arg: x. From version 0.12, the only valid positional argument will be `data`, and passing other arguments without an explicit keyword will result in an error or misinterpretation.\n",
            "  FutureWarning\n",
            "/usr/local/lib/python3.7/dist-packages/seaborn/_decorators.py:43: FutureWarning: Pass the following variable as a keyword arg: x. From version 0.12, the only valid positional argument will be `data`, and passing other arguments without an explicit keyword will result in an error or misinterpretation.\n",
            "  FutureWarning\n",
            "/usr/local/lib/python3.7/dist-packages/seaborn/_decorators.py:43: FutureWarning: Pass the following variable as a keyword arg: x. From version 0.12, the only valid positional argument will be `data`, and passing other arguments without an explicit keyword will result in an error or misinterpretation.\n",
            "  FutureWarning\n",
            "/usr/local/lib/python3.7/dist-packages/seaborn/_decorators.py:43: FutureWarning: Pass the following variable as a keyword arg: x. From version 0.12, the only valid positional argument will be `data`, and passing other arguments without an explicit keyword will result in an error or misinterpretation.\n",
            "  FutureWarning\n",
            "/usr/local/lib/python3.7/dist-packages/seaborn/_decorators.py:43: FutureWarning: Pass the following variable as a keyword arg: x. From version 0.12, the only valid positional argument will be `data`, and passing other arguments without an explicit keyword will result in an error or misinterpretation.\n",
            "  FutureWarning\n",
            "/usr/local/lib/python3.7/dist-packages/seaborn/_decorators.py:43: FutureWarning: Pass the following variable as a keyword arg: x. From version 0.12, the only valid positional argument will be `data`, and passing other arguments without an explicit keyword will result in an error or misinterpretation.\n",
            "  FutureWarning\n"
          ],
          "name": "stderr"
        },
        {
          "output_type": "display_data",
          "data": {
            "image/png": "[encoded data removed]",
            "text/plain": [
              "<Figure size 864x1440 with 10 Axes>"
            ]
          },
          "metadata": {
            "tags": [],
            "needs_background": "light"
          }
        }
      ]
    },
    {
      "cell_type": "markdown",
      "metadata": {
        "id": "VyCBtcBHf4pq"
      },
      "source": [
        "# 알파벳별 숫자 빈도"
      ]
    },
    {
      "cell_type": "code",
      "metadata": {
        "id": "zV-FdiBEfvP9"
      },
      "source": [
        "letter_unique = train['letter'].values\n",
        "unique_letter = set(letter_unique)"
      ],
      "execution_count": 41,
      "outputs": []
    },
    {
      "cell_type": "code",
      "metadata": {
        "colab": {
          "base_uri": "https://localhost:8080/",
          "height": 0
        },
        "id": "YFQEHVJkf1Y1",
        "outputId": "17a243bf-bbb6-4629-de86-369ed72e55f8"
      },
      "source": [
        "fig, axes = plt.subplots(nrows=10, ncols=3,figsize=(30,30))\n",
        "\n",
        "col = 0\n",
        "row = 0\n",
        "\n",
        "for target_letter in sorted(list(unique_letter)): \n",
        "    if row == 10: #and col==0:\n",
        "        col+=1\n",
        "        row = 0\n",
        "    \n",
        "    sns.countplot(train.loc[train.letter==target_letter,'digit'].values, ax=axes[row,col]).set_title(str(target_letter))\n",
        "    row+=1"
      ],
      "execution_count": 42,
      "outputs": [
        {
          "output_type": "stream",
          "text": [
            "/usr/local/lib/python3.7/dist-packages/seaborn/_decorators.py:43: FutureWarning: Pass the following variable as a keyword arg: x. From version 0.12, the only valid positional argument will be `data`, and passing other arguments without an explicit keyword will result in an error or misinterpretation.\n",
            "  FutureWarning\n",
            "/usr/local/lib/python3.7/dist-packages/seaborn/_decorators.py:43: FutureWarning: Pass the following variable as a keyword arg: x. From version 0.12, the only valid positional argument will be `data`, and passing other arguments without an explicit keyword will result in an error or misinterpretation.\n",
            "  FutureWarning\n",
            "/usr/local/lib/python3.7/dist-packages/seaborn/_decorators.py:43: FutureWarning: Pass the following variable as a keyword arg: x. From version 0.12, the only valid positional argument will be `data`, and passing other arguments without an explicit keyword will result in an error or misinterpretation.\n",
            "  FutureWarning\n",
            "/usr/local/lib/python3.7/dist-packages/seaborn/_decorators.py:43: FutureWarning: Pass the following variable as a keyword arg: x. From version 0.12, the only valid positional argument will be `data`, and passing other arguments without an explicit keyword will result in an error or misinterpretation.\n",
            "  FutureWarning\n",
            "/usr/local/lib/python3.7/dist-packages/seaborn/_decorators.py:43: FutureWarning: Pass the following variable as a keyword arg: x. From version 0.12, the only valid positional argument will be `data`, and passing other arguments without an explicit keyword will result in an error or misinterpretation.\n",
            "  FutureWarning\n",
            "/usr/local/lib/python3.7/dist-packages/seaborn/_decorators.py:43: FutureWarning: Pass the following variable as a keyword arg: x. From version 0.12, the only valid positional argument will be `data`, and passing other arguments without an explicit keyword will result in an error or misinterpretation.\n",
            "  FutureWarning\n",
            "/usr/local/lib/python3.7/dist-packages/seaborn/_decorators.py:43: FutureWarning: Pass the following variable as a keyword arg: x. From version 0.12, the only valid positional argument will be `data`, and passing other arguments without an explicit keyword will result in an error or misinterpretation.\n",
            "  FutureWarning\n",
            "/usr/local/lib/python3.7/dist-packages/seaborn/_decorators.py:43: FutureWarning: Pass the following variable as a keyword arg: x. From version 0.12, the only valid positional argument will be `data`, and passing other arguments without an explicit keyword will result in an error or misinterpretation.\n",
            "  FutureWarning\n",
            "/usr/local/lib/python3.7/dist-packages/seaborn/_decorators.py:43: FutureWarning: Pass the following variable as a keyword arg: x. From version 0.12, the only valid positional argument will be `data`, and passing other arguments without an explicit keyword will result in an error or misinterpretation.\n",
            "  FutureWarning\n",
            "/usr/local/lib/python3.7/dist-packages/seaborn/_decorators.py:43: FutureWarning: Pass the following variable as a keyword arg: x. From version 0.12, the only valid positional argument will be `data`, and passing other arguments without an explicit keyword will result in an error or misinterpretation.\n",
            "  FutureWarning\n",
            "/usr/local/lib/python3.7/dist-packages/seaborn/_decorators.py:43: FutureWarning: Pass the following variable as a keyword arg: x. From version 0.12, the only valid positional argument will be `data`, and passing other arguments without an explicit keyword will result in an error or misinterpretation.\n",
            "  FutureWarning\n",
            "/usr/local/lib/python3.7/dist-packages/seaborn/_decorators.py:43: FutureWarning: Pass the following variable as a keyword arg: x. From version 0.12, the only valid positional argument will be `data`, and passing other arguments without an explicit keyword will result in an error or misinterpretation.\n",
            "  FutureWarning\n",
            "/usr/local/lib/python3.7/dist-packages/seaborn/_decorators.py:43: FutureWarning: Pass the following variable as a keyword arg: x. From version 0.12, the only valid positional argument will be `data`, and passing other arguments without an explicit keyword will result in an error or misinterpretation.\n",
            "  FutureWarning\n",
            "/usr/local/lib/python3.7/dist-packages/seaborn/_decorators.py:43: FutureWarning: Pass the following variable as a keyword arg: x. From version 0.12, the only valid positional argument will be `data`, and passing other arguments without an explicit keyword will result in an error or misinterpretation.\n",
            "  FutureWarning\n",
            "/usr/local/lib/python3.7/dist-packages/seaborn/_decorators.py:43: FutureWarning: Pass the following variable as a keyword arg: x. From version 0.12, the only valid positional argument will be `data`, and passing other arguments without an explicit keyword will result in an error or misinterpretation.\n",
            "  FutureWarning\n",
            "/usr/local/lib/python3.7/dist-packages/seaborn/_decorators.py:43: FutureWarning: Pass the following variable as a keyword arg: x. From version 0.12, the only valid positional argument will be `data`, and passing other arguments without an explicit keyword will result in an error or misinterpretation.\n",
            "  FutureWarning\n",
            "/usr/local/lib/python3.7/dist-packages/seaborn/_decorators.py:43: FutureWarning: Pass the following variable as a keyword arg: x. From version 0.12, the only valid positional argument will be `data`, and passing other arguments without an explicit keyword will result in an error or misinterpretation.\n",
            "  FutureWarning\n",
            "/usr/local/lib/python3.7/dist-packages/seaborn/_decorators.py:43: FutureWarning: Pass the following variable as a keyword arg: x. From version 0.12, the only valid positional argument will be `data`, and passing other arguments without an explicit keyword will result in an error or misinterpretation.\n",
            "  FutureWarning\n",
            "/usr/local/lib/python3.7/dist-packages/seaborn/_decorators.py:43: FutureWarning: Pass the following variable as a keyword arg: x. From version 0.12, the only valid positional argument will be `data`, and passing other arguments without an explicit keyword will result in an error or misinterpretation.\n",
            "  FutureWarning\n",
            "/usr/local/lib/python3.7/dist-packages/seaborn/_decorators.py:43: FutureWarning: Pass the following variable as a keyword arg: x. From version 0.12, the only valid positional argument will be `data`, and passing other arguments without an explicit keyword will result in an error or misinterpretation.\n",
            "  FutureWarning\n",
            "/usr/local/lib/python3.7/dist-packages/seaborn/_decorators.py:43: FutureWarning: Pass the following variable as a keyword arg: x. From version 0.12, the only valid positional argument will be `data`, and passing other arguments without an explicit keyword will result in an error or misinterpretation.\n",
            "  FutureWarning\n",
            "/usr/local/lib/python3.7/dist-packages/seaborn/_decorators.py:43: FutureWarning: Pass the following variable as a keyword arg: x. From version 0.12, the only valid positional argument will be `data`, and passing other arguments without an explicit keyword will result in an error or misinterpretation.\n",
            "  FutureWarning\n",
            "/usr/local/lib/python3.7/dist-packages/seaborn/_decorators.py:43: FutureWarning: Pass the following variable as a keyword arg: x. From version 0.12, the only valid positional argument will be `data`, and passing other arguments without an explicit keyword will result in an error or misinterpretation.\n",
            "  FutureWarning\n",
            "/usr/local/lib/python3.7/dist-packages/seaborn/_decorators.py:43: FutureWarning: Pass the following variable as a keyword arg: x. From version 0.12, the only valid positional argument will be `data`, and passing other arguments without an explicit keyword will result in an error or misinterpretation.\n",
            "  FutureWarning\n",
            "/usr/local/lib/python3.7/dist-packages/seaborn/_decorators.py:43: FutureWarning: Pass the following variable as a keyword arg: x. From version 0.12, the only valid positional argument will be `data`, and passing other arguments without an explicit keyword will result in an error or misinterpretation.\n",
            "  FutureWarning\n",
            "/usr/local/lib/python3.7/dist-packages/seaborn/_decorators.py:43: FutureWarning: Pass the following variable as a keyword arg: x. From version 0.12, the only valid positional argument will be `data`, and passing other arguments without an explicit keyword will result in an error or misinterpretation.\n",
            "  FutureWarning\n"
          ],
          "name": "stderr"
        },
        {
          "output_type": "display_data",
          "data": {
            "image/png": "[encoded data removed]",
            "text/plain": [
              "<Figure size 2160x2160 with 30 Axes>"
            ]
          },
          "metadata": {
            "tags": [],
            "needs_background": "light"
          }
        }
      ]
    },
    {
      "cell_type": "markdown",
      "metadata": {
        "id": "q1Xi8z80o77T"
      },
      "source": [
        "# Train 이미지 분석"
      ]
    },
    {
      "cell_type": "code",
      "metadata": {
        "id": "vJ8QD56ufE0j"
      },
      "source": [
        "def show_10_imgs(imgs):\n",
        "    plt.figure(figsize=(20, 5))\n",
        "    for i in range(10):\n",
        "        ax = plt.subplot(2, 10, i + 1)\n",
        "        plt.imshow(imgs[i])\n",
        "        ax.get_xaxis().set_visible(False)\n",
        "        ax.get_yaxis().set_visible(False)\n",
        "\n",
        "    plt.show()"
      ],
      "execution_count": 43,
      "outputs": []
    },
    {
      "cell_type": "code",
      "metadata": {
        "id": "GRq8-gI9fE0k"
      },
      "source": [
        "def save_10_imgs(imgs):\n",
        "    plt.figure(figsize=(20, 5))\n",
        "    for i in range(10):\n",
        "        plt.imshow(imgs[i])\n",
        "        plt.savefig(f\"{i}.png\")\n",
        "\n",
        "    plt.show()"
      ],
      "execution_count": 44,
      "outputs": []
    },
    {
      "cell_type": "code",
      "metadata": {
        "id": "3dQpD8b7fE0l"
      },
      "source": [
        "def imgs_save(imgs):\n",
        "    plt.figure(figsize=(20, 5))\n",
        "    for i in range(10):\n",
        "        ax = plt.subplot(2, 10, i + 1)\n",
        "        plt.imshow(imgs[i])\n",
        "        ax.get_xaxis().set_visible(False)\n",
        "        ax.get_yaxis().set_visible(False)\n",
        "        plt.savefig(i+'.png', imgs[i])"
      ],
      "execution_count": 45,
      "outputs": []
    },
    {
      "cell_type": "code",
      "metadata": {
        "id": "XU2psAMpfE0l"
      },
      "source": [
        "X_train = np.array(train_data.drop(['id', 'digit', 'letter'], axis=1)).astype('float32')\n",
        "X_test = np.array(test_data.drop(['id', 'letter'], axis=1)).astype('float32')\n",
        "\n",
        "y_train = to_categorical(np.array(train_data['digit']), num_classes=10)\n",
        "\n",
        "X_train, X_val, y_train, y_val = train_test_split(X_train, y_train, test_size=0.2, random_state=1004)\n",
        "\n",
        "X_train = X_train.reshape((X_train.shape[0], 28, 28))\n",
        "X_val = X_val.reshape((X_val.shape[0], 28, 28))\n",
        "X_test = X_test.reshape((X_test.shape[0], 28, 28))"
      ],
      "execution_count": 46,
      "outputs": []
    },
    {
      "cell_type": "markdown",
      "metadata": {
        "id": "X_Hu04rtp-ej"
      },
      "source": [
        "## 원본 숫자 이미지"
      ]
    },
    {
      "cell_type": "code",
      "metadata": {
        "scrolled": false,
        "colab": {
          "base_uri": "https://localhost:8080/",
          "height": 0
        },
        "id": "LU9jtqS6fE0l",
        "outputId": "641de054-621a-4fa0-b5cb-9a875c588c01"
      },
      "source": [
        "show_10_imgs(X_train)"
      ],
      "execution_count": 47,
      "outputs": [
        {
          "output_type": "display_data",
          "data": {
            "image/png": "[encoded data removed]",
            "text/plain": [
              "<Figure size 1440x360 with 10 Axes>"
            ]
          },
          "metadata": {
            "tags": [],
            "needs_background": "light"
          }
        }
      ]
    },
    {
      "cell_type": "code",
      "metadata": {
        "id": "98zLH1ncfE0m"
      },
      "source": [
        "X_train = X_train / 255.\n",
        "X_val = X_val / 255.\n",
        "X_test = X_test / 255.\n",
        "\n",
        "threshold = 0.6\n",
        "X_train[X_train > threshold] = 0\n",
        "X_val[X_val > threshold] = 0\n",
        "X_test[X_test > threshold] = 0"
      ],
      "execution_count": 48,
      "outputs": []
    },
    {
      "cell_type": "markdown",
      "metadata": {
        "id": "PFxh2b0jqbUd"
      },
      "source": [
        "## 숫자가 있어서는 안되는 영역"
      ]
    },
    {
      "cell_type": "code",
      "metadata": {
        "scrolled": false,
        "colab": {
          "base_uri": "https://localhost:8080/",
          "height": 0
        },
        "id": "DF3W9RbnfE0m",
        "outputId": "76b93ba5-e406-4d33-8bbc-984dfa8ee600"
      },
      "source": [
        "show_10_imgs(X_train)"
      ],
      "execution_count": 49,
      "outputs": [
        {
          "output_type": "display_data",
          "data": {
            "image/png": "[encoded data removed]",
            "text/plain": [
              "<Figure size 1440x360 with 10 Axes>"
            ]
          },
          "metadata": {
            "tags": [],
            "needs_background": "light"
          }
        }
      ]
    },
    {
      "cell_type": "code",
      "metadata": {
        "id": "2Q4c4elSfE0m"
      },
      "source": [
        "X_train = np.array(train_data.drop(['id', 'digit', 'letter'], axis=1)).astype('float32')\n",
        "X_test = np.array(test_data.drop(['id', 'letter'], axis=1)).astype('float32')\n",
        "\n",
        "y_train = to_categorical(np.array(train_data['digit']), num_classes=10)\n",
        "\n",
        "X_train, X_val, y_train, y_val = train_test_split(X_train, y_train, test_size=0.2, random_state=1004)\n",
        "\n",
        "X_train = X_train.reshape((X_train.shape[0], 28, 28))\n",
        "X_val = X_val.reshape((X_val.shape[0], 28, 28))\n",
        "X_test = X_test.reshape((X_test.shape[0], 28, 28))"
      ],
      "execution_count": 50,
      "outputs": []
    },
    {
      "cell_type": "code",
      "metadata": {
        "colab": {
          "base_uri": "https://localhost:8080/",
          "height": 0
        },
        "id": "iq77oCUbfE0n",
        "outputId": "f12e80ef-1b13-4220-87d5-1ea55ad1a4a9"
      },
      "source": [
        "show_10_imgs(X_train)"
      ],
      "execution_count": 51,
      "outputs": [
        {
          "output_type": "display_data",
          "data": {
            "image/png": "[encoded data removed]",
            "text/plain": [
              "<Figure size 1440x360 with 10 Axes>"
            ]
          },
          "metadata": {
            "tags": [],
            "needs_background": "light"
          }
        }
      ]
    },
    {
      "cell_type": "code",
      "metadata": {
        "id": "mHDrlrRifE0n"
      },
      "source": [
        "X_train = X_train / 255.\n",
        "X_val = X_val / 255.\n",
        "X_test = X_test / 255.\n",
        "\n",
        "threshold = 0.6\n",
        "X_train[X_train < threshold] = 0\n",
        "X_val[X_val < threshold] = 0\n",
        "X_test[X_test < threshold] = 0"
      ],
      "execution_count": 52,
      "outputs": []
    },
    {
      "cell_type": "markdown",
      "metadata": {
        "id": "S7SrcLuXqp8G"
      },
      "source": [
        "## 숫자가 무조건 있는 영역"
      ]
    },
    {
      "cell_type": "code",
      "metadata": {
        "colab": {
          "base_uri": "https://localhost:8080/",
          "height": 0
        },
        "id": "2bBTjTx7fE0n",
        "outputId": "cb5f4170-3910-4f86-df09-2c219e49629a"
      },
      "source": [
        "show_10_imgs(X_train)"
      ],
      "execution_count": 53,
      "outputs": [
        {
          "output_type": "display_data",
          "data": {
            "image/png": "[encoded data removed]",
            "text/plain": [
              "<Figure size 1440x360 with 10 Axes>"
            ]
          },
          "metadata": {
            "tags": [],
            "needs_background": "light"
          }
        }
      ]
    },
    {
      "cell_type": "code",
      "metadata": {
        "id": "5YY_q90MfE0n"
      },
      "source": [
        "digit_ref = np.zeros((10, 28, 28))\n",
        "for (idx, digit) in enumerate(y_train):\n",
        "    digit = np.argmax(digit)\n",
        "    digit_ref[digit] += X_train[idx]\n",
        "\n",
        "digit_ref = digit_ref / np.max(digit_ref)"
      ],
      "execution_count": 54,
      "outputs": []
    },
    {
      "cell_type": "markdown",
      "metadata": {
        "id": "OUUln_j8rDpA"
      },
      "source": [
        "## 전체  Train Data에서 보이는 숫자 부분의 모든 이미지를 겹친 이미지 \n",
        "( 0~9의 숫자를 가장 잘 나타내는 영역의 시각화 )  "
      ]
    },
    {
      "cell_type": "code",
      "metadata": {
        "scrolled": true,
        "colab": {
          "base_uri": "https://localhost:8080/",
          "height": 0
        },
        "id": "mUWs6oXQfE0n",
        "outputId": "c8a45161-8192-4ccb-a07a-2a5688135556"
      },
      "source": [
        "show_10_imgs(digit_ref)"
      ],
      "execution_count": 55,
      "outputs": [
        {
          "output_type": "display_data",
          "data": {
            "image/png": "[encoded data removed]",
            "text/plain": [
              "<Figure size 1440x360 with 10 Axes>"
            ]
          },
          "metadata": {
            "tags": [],
            "needs_background": "light"
          }
        }
      ]
    },
    {
      "cell_type": "code",
      "metadata": {
        "id": "FPDueeghfE0o"
      },
      "source": [
        "digit_ref[digit_ref < 0.1] = 0"
      ],
      "execution_count": 56,
      "outputs": []
    },
    {
      "cell_type": "code",
      "metadata": {
        "scrolled": true,
        "colab": {
          "base_uri": "https://localhost:8080/",
          "height": 0
        },
        "id": "ybpPTYoMfE0o",
        "outputId": "ab488d1e-b2a4-4297-b145-cbe59d99a079"
      },
      "source": [
        "show_10_imgs(digit_ref)"
      ],
      "execution_count": 57,
      "outputs": [
        {
          "output_type": "display_data",
          "data": {
            "image/png": "[encoded data removed]",
            "text/plain": [
              "<Figure size 1440x360 with 10 Axes>"
            ]
          },
          "metadata": {
            "tags": [],
            "needs_background": "light"
          }
        }
      ]
    },
    {
      "cell_type": "code",
      "metadata": {
        "id": "0tSi85N7fE0o"
      },
      "source": [
        "digit_ref[digit_ref < 0.2] = 0"
      ],
      "execution_count": 58,
      "outputs": []
    },
    {
      "cell_type": "code",
      "metadata": {
        "scrolled": true,
        "colab": {
          "base_uri": "https://localhost:8080/",
          "height": 0
        },
        "id": "OubF3uCMfE0o",
        "outputId": "b20d3f54-5419-4129-a93f-bafca1833360"
      },
      "source": [
        "show_10_imgs(digit_ref)"
      ],
      "execution_count": 59,
      "outputs": [
        {
          "output_type": "display_data",
          "data": {
            "image/png": "[encoded data removed]",
            "text/plain": [
              "<Figure size 1440x360 with 10 Axes>"
            ]
          },
          "metadata": {
            "tags": [],
            "needs_background": "light"
          }
        }
      ]
    },
    {
      "cell_type": "code",
      "metadata": {
        "id": "yIIHcgSIfE0o"
      },
      "source": [
        "digit_ref[digit_ref < 0.2] = 0"
      ],
      "execution_count": 60,
      "outputs": []
    },
    {
      "cell_type": "code",
      "metadata": {
        "colab": {
          "base_uri": "https://localhost:8080/",
          "height": 0
        },
        "id": "frv1MdkGfE0o",
        "outputId": "1790c433-2e48-48be-d1c6-816506e928b2"
      },
      "source": [
        "show_10_imgs(digit_ref)"
      ],
      "execution_count": 61,
      "outputs": [
        {
          "output_type": "display_data",
          "data": {
            "image/png": "[encoded data removed]",
            "text/plain": [
              "<Figure size 1440x360 with 10 Axes>"
            ]
          },
          "metadata": {
            "tags": [],
            "needs_background": "light"
          }
        }
      ]
    },
    {
      "cell_type": "code",
      "metadata": {
        "id": "Y0caMEBLfE0p"
      },
      "source": [
        "digit_ref[digit_ref < 0.3] = 0"
      ],
      "execution_count": 62,
      "outputs": []
    },
    {
      "cell_type": "code",
      "metadata": {
        "colab": {
          "base_uri": "https://localhost:8080/",
          "height": 0
        },
        "id": "usE3CRlYfE0p",
        "outputId": "39280a88-dc56-4156-dff7-da44dd6021ea"
      },
      "source": [
        "show_10_imgs(digit_ref)"
      ],
      "execution_count": 63,
      "outputs": [
        {
          "output_type": "display_data",
          "data": {
            "image/png": "[encoded data removed]",
            "text/plain": [
              "<Figure size 1440x360 with 10 Axes>"
            ]
          },
          "metadata": {
            "tags": [],
            "needs_background": "light"
          }
        }
      ]
    },
    {
      "cell_type": "code",
      "metadata": {
        "id": "R_9yjtucfE0p"
      },
      "source": [
        "digit_ref[digit_ref < 0.4] = 0"
      ],
      "execution_count": 64,
      "outputs": []
    },
    {
      "cell_type": "code",
      "metadata": {
        "colab": {
          "base_uri": "https://localhost:8080/",
          "height": 0
        },
        "id": "sTh6Dcy9fE0p",
        "outputId": "c34f1c60-639b-48ad-9ba2-24dd590c986d"
      },
      "source": [
        "show_10_imgs(digit_ref)"
      ],
      "execution_count": 65,
      "outputs": [
        {
          "output_type": "display_data",
          "data": {
            "image/png": "[encoded data removed]",
            "text/plain": [
              "<Figure size 1440x360 with 10 Axes>"
            ]
          },
          "metadata": {
            "tags": [],
            "needs_background": "light"
          }
        }
      ]
    },
    {
      "cell_type": "code",
      "metadata": {
        "id": "qSd-twUEfE0p"
      },
      "source": [
        "digit_ref[digit_ref < 0.5] = 0"
      ],
      "execution_count": 66,
      "outputs": []
    },
    {
      "cell_type": "code",
      "metadata": {
        "colab": {
          "base_uri": "https://localhost:8080/",
          "height": 0
        },
        "id": "wIA3zs-3fE0p",
        "outputId": "e6ba48a7-20b4-4ffd-9585-dbf376a631f5"
      },
      "source": [
        "show_10_imgs(digit_ref)"
      ],
      "execution_count": 67,
      "outputs": [
        {
          "output_type": "display_data",
          "data": {
            "image/png": "[encoded data removed]",
            "text/plain": [
              "<Figure size 1440x360 with 10 Axes>"
            ]
          },
          "metadata": {
            "tags": [],
            "needs_background": "light"
          }
        }
      ]
    },
    {
      "cell_type": "code",
      "metadata": {
        "id": "-4FrEX3ofE0q"
      },
      "source": [
        "digit_ref[digit_ref < 0.6] = 0"
      ],
      "execution_count": 68,
      "outputs": []
    },
    {
      "cell_type": "code",
      "metadata": {
        "scrolled": false,
        "colab": {
          "base_uri": "https://localhost:8080/",
          "height": 0
        },
        "id": "SGkj4K8CfE0q",
        "outputId": "b51cf761-5ab4-45cd-939a-55e3ceaab282"
      },
      "source": [
        "show_10_imgs(digit_ref)"
      ],
      "execution_count": 69,
      "outputs": [
        {
          "output_type": "display_data",
          "data": {
            "image/png": "[encoded data removed]",
            "text/plain": [
              "<Figure size 1440x360 with 10 Axes>"
            ]
          },
          "metadata": {
            "tags": [],
            "needs_background": "light"
          }
        }
      ]
    },
    {
      "cell_type": "markdown",
      "metadata": {
        "id": "phNejEisumac"
      },
      "source": [
        "## 위의 예시 중 0~9의 숫자를 가장 잘 나타내는 이미지 "
      ]
    },
    {
      "cell_type": "code",
      "metadata": {
        "id": "OFIWLDOAfE0q"
      },
      "source": [
        "digit_ref = np.zeros((10, 28, 28))\n",
        "for (idx, digit) in enumerate(y_train):\n",
        "    digit = np.argmax(digit)\n",
        "    digit_ref[digit] += X_train[idx]\n",
        "\n",
        "digit_ref = digit_ref / np.max(digit_ref)"
      ],
      "execution_count": 70,
      "outputs": []
    },
    {
      "cell_type": "code",
      "metadata": {
        "scrolled": true,
        "colab": {
          "base_uri": "https://localhost:8080/",
          "height": 0
        },
        "id": "Wh5uNk4pfE0q",
        "outputId": "ae258fb0-761b-4d3d-9946-ed55e1ebd7ac"
      },
      "source": [
        "show_10_imgs(digit_ref)"
      ],
      "execution_count": 71,
      "outputs": [
        {
          "output_type": "display_data",
          "data": {
            "image/png": "[encoded data removed]",
            "text/plain": [
              "<Figure size 1440x360 with 10 Axes>"
            ]
          },
          "metadata": {
            "tags": [],
            "needs_background": "light"
          }
        }
      ]
    },
    {
      "cell_type": "code",
      "metadata": {
        "id": "LeCuaCiwfE0q"
      },
      "source": [
        "digit_ref[digit_ref < 0.25] = 0"
      ],
      "execution_count": 72,
      "outputs": []
    },
    {
      "cell_type": "code",
      "metadata": {
        "colab": {
          "base_uri": "https://localhost:8080/",
          "height": 0
        },
        "id": "9Dr4SYynfE0q",
        "outputId": "f6896771-a776-44f9-fe17-54738d7bb098"
      },
      "source": [
        "show_10_imgs(digit_ref)"
      ],
      "execution_count": 73,
      "outputs": [
        {
          "output_type": "display_data",
          "data": {
            "image/png": "[encoded data removed]",
            "text/plain": [
              "<Figure size 1440x360 with 10 Axes>"
            ]
          },
          "metadata": {
            "tags": [],
            "needs_background": "light"
          }
        }
      ]
    },
    {
      "cell_type": "code",
      "metadata": {
        "id": "T44SS3HifE0r"
      },
      "source": [
        "digit_ref[digit_ref != 0] = 1"
      ],
      "execution_count": 74,
      "outputs": []
    },
    {
      "cell_type": "code",
      "metadata": {
        "colab": {
          "base_uri": "https://localhost:8080/",
          "height": 0
        },
        "id": "6SUnvyasfE0r",
        "outputId": "cfc85bec-4595-41e9-e847-ff2e476bc822"
      },
      "source": [
        "show_10_imgs(digit_ref)"
      ],
      "execution_count": 75,
      "outputs": [
        {
          "output_type": "display_data",
          "data": {
            "image/png": "[encoded data removed]",
            "text/plain": [
              "<Figure size 1440x360 with 10 Axes>"
            ]
          },
          "metadata": {
            "tags": [],
            "needs_background": "light"
          }
        }
      ]
    },
    {
      "cell_type": "markdown",
      "metadata": {
        "id": "q_FjieBAgKIK"
      },
      "source": [
        "# IDEA"
      ]
    },
    {
      "cell_type": "code",
      "metadata": {
        "colab": {
          "base_uri": "https://localhost:8080/",
          "height": 0
        },
        "id": "Y5LYb3tkZX_7",
        "outputId": "24fe10ab-149d-4fcb-c34f-6cfe331a1d29"
      },
      "source": [
        "i = 0\n",
        "img = train.query(\"letter == 'A'\")[\n",
        "        [(str(i)) for i in range(784)]\n",
        "    ].iloc[28].values.reshape(28, 28)\n",
        "plt.imshow(img)\n",
        "plt.title(train.query(\"letter == 'A'\").iloc[i]['digit'], fontsize=15)\n",
        "plt.show()"
      ],
      "execution_count": 76,
      "outputs": [
        {
          "output_type": "display_data",
          "data": {
            "image/png": "[encoded data removed]",
            "text/plain": [
              "<Figure size 432x288 with 1 Axes>"
            ]
          },
          "metadata": {
            "tags": [],
            "needs_background": "light"
          }
        }
      ]
    },
    {
      "cell_type": "markdown",
      "metadata": {
        "id": "sAuOKSyvbLw0"
      },
      "source": [
        "![image.png](data:image/png;base64,iVBORw0KGgoAAAANSUhEUgAAAVAAAAGpCAYAAADbdW4IAAAgAElEQVR4AexdB5gURdru2QSYczrJOWfYnGZmE3HzLkEkiAIqmSWnXeLu7IJ6ZsWcT+/OLGcAczhzQBREkJwW1PPuv7v//Z/3q66ZntmZ3dkFFPxnnqee6u7prq741vuFqjYyMjIQHh4eCqE6CPWBUB8I9YF69gEjLy8vVGn1rLTQhBOacEN9INQH2AdCABoCz9AEGuoDoT7QwD4QAtAGVlyIgYQYSKgPhPpACEBDABpiH6E+EOoDDewDIQBtYMWF2EeIfYT6QKgPhAA0BKAh9hHqA6E+0MA+EALQBlZciH2E2EeoD4T6QAhAQwAaYh+hPhDqAw3sA0Zubi7CwsJCIVQHoT4Q6gO/2z5woqQFIycnB4ZhhEKoDurdB2w2W72fCfW10Fj7LfpACEBDABcCq1+pD/hODL7nvwUAhN55bBNPCEB/pcET6qh1d9R27dphxowZ+MMf/vC7BHUC5rnnnouuXbsiBJ5194dTYcyEADQEoCcNWN1///3gb8GCBV55OpFgcyLTJgBY0+fxunXrcOjQIaSnp3uV8XiDBd9lfffxTj+UnpoAQgAaAtATOpCDHWjdunXDli1bsG/fPtxwww1o2rSpFwAcL0DwBZXjlW4w5WzUqBFeffVV/OMf/4DL5Top6j2YfIfuCcyWQwAaAtCTYiAvXLgQBw4cwLfffos9e/bg+++/x1//+ldceeWVuOSSS45rHouKivD6668jPj5e0vUF1eMFGOeffz7OPvtsd9452J599ln8+OOPqKqqcl8/Xu+zptOkSRNwUrJe+62OzzzzzJMiH/Up/3nnnYfY2FiwHmt7zh+AWu/3938w10JW+BAw19rxrJ3sjDPOwMaNG1FdXS3Awq0QKc7v2LED//M//4NvvvkGBNjIyEi/abZp08aLrVrT9nc8f/58URVs2LABZ511lt80/T1X2zVfEG7VqhXeeOMNKVf37t3lHbzn6aefxk8//YTy8vIGvdf6Husx8xYVFSVp0n3wlltukQkpKyurQe+praz1+Y867U8//RSdO3f+TfNRnzzzXk5w7HuTJk2qNd++YMi6p567uLgYLVq0kH7pe08w5yEADQForR3P2qEHDx4sojsBs1+/fu7nCIyTJ0/G+++/jz//+c9+AZQdnMx16tSp7uesafs77t+/vzBcqgu48be/expyjYPH6XRi7dq1+Pjjj4VJHz58WPSeTI//P//88wKgZWVlx+29jRs3xp133omXXnoJl112mbznmWeeEVXBPffcc9ze05A64YTxv//7v5gzZ85vmo/65J0T+ltvvRXUREcw9E17+vTpMkHfd9990hac6IIBTes9IQANAWiNjuXb0fT5vffeK2ItRXZ/HZIi4Omnn+43vUWLFuHnn38W/WmnTp383qPfo2MOELLDI0eOYNmyZUE9o58NFBOIyWi3bt2KJ598EuPHj8eKFSuwf/9+0XsSPC+66CJ89NFHIKheddVVAd9LVrx8+XJMmzatxj2nnXYa/vjHP2LevHmgTpX5oaj+ww8/CGCOGTNGrt111104evSoTDyB8vxrXL/11lslXzfffHONstT3/Wzf5s2bH3M6db2X0sNXX32FgwcP4pprrqnzfeyzbNsOHToIYN5+++3Sn1955RV3G1nBMZjjEICGALTOjseOTNelzZs3i2V6woQJ8oyvaKo7fMeOHaVDWv8n4/rwww8FLFauXBnUO5keBzQB5i9/+Uu9xH8+a30/9Zy33XYb9u7dK8yTrFnn9+qrr5aBRGDlNYrT1O9u27YNffr0CVhW1glBdufOnTX0mBQN//nPf8qEQUMb042JiZE0OeDHjRsnojwZFFUiZMM6P4ypBrHm3/rf8TjmRGFNh0ybRrMHH3zQ67r1Hoq8c+fOxZIlSwSA+J9vHqlL/uCDD4TZX3755QHTsqYb7DH1nUlJSe407Xa71P3u3btForCmY81X69atxe2O7fvll1+K/p6sk0SAUtFTTz0l5eAzwYCm9Z4QgIYA1N0hrR3Q95guSxzon3zyiYifvv/37t0b1Fm++eabArQEF997yNbIJskqgzVYzJw5UwD0vffeAweQb5rBnBO4PvvsM7zzzjticLA+w0HzxBNPiBhI8Zr/ESCYz7ffftute9UDkoYyGiw4kCl2E2TJXjWj1GlTt8k0qDPWZR04cCA42KmScDgckgYBfdeuXYiLi5N3M13mg+XVOlmd5vGKKboSTMiOdbnYvtT5Pv744151TCbNPK1evVrqg2Wl4ZATos7PhRdeKPcQWMjKWc/sK2lpae579L3HEq9atUpAntIIJ6XrrrtOJvQvvvhC9Jg6bV0mno8ePVp082T+lDQqKysFNDnxkRCwPXS7c1KxgmMwxyEADQFonZ2crIJMiYBgZY+XXnopyN7Wr18vIjEHJUG0Z8+eXmnqDk2fSnbY7du3ewGZ/p8dniA5YMAAtG/fXtIYOnSosEYaqBpi4OBSZQIWmSxVAr6DrKCgQNIniBFomRda4Ml6KV7r+xknJibi888/F1GfBheqAKj3JaMkM9P3UnwlYHOQWuuLA56Mh+qDvn37gmIzzzmhDB8+XFg2wYkgRtUBWbNOs74xy6GDfvbiiy8Woxi9CwjcZNlal838U8Xy2GOPud9J9QbBiWWh9MB2Y36XLl2KiIgI932cLP71r3+BbcV3Pffcc1J/+fn57ntYJ5xkdV7qGxMwKWoTCNmHOMFwcmIZyCB9GTX1zWvWrJH8sk450en3s49y8uAESV9f3UYhAA2BYYM7aG0dmtZ2Dpyvv/4aXbp0EWbETkfwoBGG4h/ZkhUIyVC4kseaLgcRByQ7Ld2e9H98jgOSeiz9P+O2bdsKGNNoRTGZ7ir6mWDilJQUyTctzNb7dT7JkgmEZF7a35PATRctlteaR4LZn/70JwFFAubIkSMlTYqBfJ4+sfodJSUlch/TYX3p66wzPst6Y94oThIAWD7q8qgzPV6s0xc8OdGRcRE0CGwEHeZbq2MIoJw0WEZuMER1B8X5sWPHihsZ3cnIKnldl0fH1CX++9//FobHay+88IKkRaMjz2lA5ATFtPUztcW6fXgP2f7ixYulrlhfLAOBnEyYExEnR0oMvFc/R/XHI488InrsYcOGidTEeifz1u9lPdOfmde1/jQYxul7T4iBhkDX3al05/KNKyoqpKNRt0XWxY7HwcRB6MuSyHIoqpO1EPSSk5Pd6ZMVkK1yoPIe/R52fIpRZBYTJ04U3dQvv/wiLKFly5byPgINLef6mbpiipVki8y7vlcPMJ7zfzIa6v1efPFFt6g+YsQIKSsHKnVnvJdskRMFmRUZGvOvV2FR/Cej02IgjWhklKwfXwbL+uKA5fvOOecc3HTTTXj33XfF9YsGEZ3P4xlzuS3bjCBNDwi2AdMnOFJHe/3118t5aWmpsFIyNZaVIK83GiJokp0y3zSIUSVBPbfOJ/W3TIvMlNdefvllmYCio6MFnAh2BKn6qmCo1iDTZF7YLwj+7CP0kKD7Eicogik9P6wqI06G7KNkrcwvJ0lKAxpAOXmxL/NZ9lHtQuYLjsGchwA0BKDS6a3gogcGY/rIUa9J0CBLol8kBx0HmlUs4r0UvXkPRSt2fIr81DtZ06Mln8znjjvucF9nRyWL1WBLkZAAyoFwwQUXCBhzEGZnZ7uf0Wn65lufX3vttcJANGDo63yOejoCId/BfGqg5H8cqPzRv5XnNAaR5ZBlkdkQOCmuasZJpkMAvfvuu+V+AjDZq7VuCCQEz++++04A4OGHH5Z7KTJSx6jLYo1ZbtZHIK8G672BjglyZPKcKMjm9X2UDgiSBHO9VJX5Zxszb9Y9DshAORmQ7RHkqbZ57bXXpJ21HpTMmQBK0Zjv4ATC+5kmxechQ4a4321tB50f35j9gYyY9c6+wHOyWPYBivC0olMcJ6tlPXOi1IstKC3xPi2t0NDEZziBUCXBdNkOBGOCLFVDWlIKBjB97wkBaAhApXOzY1OMpthKXSBnfzIozvIEUK4N17pNDmwyAXZK3VFnzZolszwd6ZmOdkS3MkAOFDIdAg7ZnHYotw4gghR1kARZ+iQSYP7+97/LYOfgoB6TQErgomuU9Vke6wFKNkRR0vd/AgkZC0GQ4OnrUkXgoghLdxcOWqobGOt0CKx8luXkNYqlLA91rCwPwYX6RRpSrrjiCgFe1iFZIEGLg1urC3SaOiazIxsi8HAi2rRpkxfT0/cFE5ORkUXT0KUnEf0cDXNklGSKFJEJCqwr1rnVGEb1A/NO9kY2yrqjexfLQGDUHgqPPvqoMHktClOtwfTJ8Dih6PeybXT76Gu+MfXcf/vb3wTctA6VEgCBkoDJfkhA5lJbps/86XzQwEdQtPqysr3YV6l+YmBfSk1Nhe6vbCctRfmCYzDnIQANAai7g1PcoWhDJsLBS/GUndWXBVG3RXbJQUQ2wEFAPZTWGbJDc5Yn+NA4Yh0khYWFAoZ8D9OlWDdo0CARqXkfLb4cKBStOHCYJ3ZyDhaCLp8jMDBvmj1Z09fHNPgQ4KdMmQI65HMwUhRlvgiAHPS1udkw38w/jUw6TbIZDkYOZq3bZJ4IoARUlo2sieyLdUPmRuML309VBOuUrM9XJ8s6pGWZag8CwkMPPQQuY60tfzpP/mKCIic9grYGLB2TlTIfzJsGKIq6ZHEsG8VbpknQ5fNUcVB3y0mTbI31ThBlGzB/nNDYJgRVbXUn0NJNS+tzqa5gWxGQ/OVXX2N+2O40ojFPvE42TDUHr7PtKI6zTsly2b4U77VqgO3LCUxPzJmZmfIcGSjbhLpUvWSXdcwf24+SAOsnGMD0vScEoCEA9erUBAkyJ6tYqzu4jps1ayYDlOKeL7iy83J1DVkLmYTusPpZslt2aA5CimccEOzc2kLKjk0mxIHKTs2BTLbBwc2BQ+NNsGvuCehMn2BGUCY7IXAyDTJsgprOF0Vz6mWZf4Ij32dlYxRfyVgp9mvHeTJGDmQyToqxFJUJuiwXLe4EU4IOy9ajRw+ZBCjek+HyvcwDVRkETU4SFJdZtzpPjLXngAZA63+BjmnEosGFbNp6D8GIbcIJhHnUaVL8JUDxGe0ATy8AgizLR4s1JzDqEFk3rE8alfg8y8X2JAD75p3v5uTAeqOHRiB1Be9jXftOLtSnc9UW64z5Yx1R1UPVAfPHSZxps47YPpzYOAEzPT5LMZ3PknWyrq11QUZN32JOVNbrlJ58QbK28xCAhgDU3YH0gLJ2KOsxRR/q8hISEkT0o7jN/63PcZbnQCBYkXlZn+cxQYuDjeyBBiWCtQZEdmY+y/+oN+T97NA0GpDl1WcZqH4vAZyqB+q5qL/jdW1YIHPi4KNBifmloYqsiuI4gVanwfJyoGrgYZ74HwctQYcAyAmB+aborScfGlf4oxqDbIjpc7KgrpCO3HwngYgx80Lmpt/JmOI82ZfWNVr/C3RM/S4nDS0N6PvorsR3cd04mSWd4vV/FLNZvwQr3aZ0sfrPf/4j+WWZCO68n0yS9zINnpN1E8gIzKxXnaa+l6DGutR1b/1fH7NfEeisq76oQqEqR+tf6c+pRW0+R7ZKyz9ZKctChkwGz77IMnAi5iTONtGsmkyTQb+XMeuLIE+2rMlAbYDp+18IQEMA6u5QViC0djJ9TP0Tf9rAwuvWZyjukumRebFjU99JXZwWqXi/9imlyEcxW6dN9yEaPMg+tX5R/0c9HkVJGob0tbpia75876Wujjo6MhTmjSoHskiyJIqbvE5DGfVxNIIR1BnIUq1lIZiQGZFlEkQJAtQv6vdRlJ49e7awNupRWS+8j+Iv65LsjZZ4PkeA1mIrnydrJQumaG99p047UMzJgO9gW/D9nDyoD2ZaLDONXwQN6/NkmPzdeOON7utsN9YB3ZyswM5JjBOJ1m1TdcNz67MEMNYDy8U+oNuCsT7W76f4zclH+2LyOsGMkyuBmmzXqkbRz7Gc1HVqFREnawI9VU56yTH7It2Y+IwVOKkaorRB8Z19jm3I9/CcEzzz6AuUgc5DABoCUPeg0Z3TGusOz0FHYOGsrgeP9T7O8mRSHDQUv8lIyEwIGtodhvczPYpOZBbaT5CDgY76//3vf8Vw5ctkOAjJnKyDzPruYI51OcgyKGozb9SP8lmKj7Qiax9HAjgHFEVTAivZlhYNre8i8LB8ZJUsD8vgC076frJO/jhg9TJSMiees041w+P9NGxxAiK46ueDjVlOgi7zRKMV24PgTxck7ejumxZFbwKjtkb7/m89p7sW1RgENapXyPQ4uY0aNUoMb5xkNKvWOlHr877HtIwzn7xOkGJb0NjDd5BJ16bnpmRArxDmn3mhSokTMAMnJGu/Y/os3wMPPCDtSrbNfkX2zbqneojv5DXeS8ANBJrW6yEADQFoUIOUohpFUIpkZFBaj8fORvBkp+dAorsPGRP1XWSYFF0pomsA4/10ISJgaWZBcY3WbLqYkDXxHmugaE+WQ8u+lUlY7wn2mOBIQCHrIBMlG6HOlkBIJkT/Qg5iqhYoQmsjmU7fWg6CBwGKzJWsnGXV9/nGFPf5buugJvuiEYRGO04qZKlk2axLivgcqL7pBHPOOuKmKUyPDIxMV6fFd1IPrc+DSc96D9UpnCjJPOmuRvZNsKdxiv2AkxNBiKyV3hLaS8OahvWYwE3wIlOnJwBZMvXIBDor89XPcAJkuaibJasmWFKtxD7H/2iQ5MRsVVHwWRq1yGhpZNIuTzpNxpz0+W7tjhYCUJ9BaK2s0LE3QNVVH9T5EWQIoARPgg2NCmQHnPk54AmIBJ9A4qYVeMgkCWBWEb62PFAvSXAjIzsWAKWagINfG0F4zHJQT0b9GXWWtF7TSq1dtgLliwYaskeWmy4xge7jdWvZfe9jHdCtirpUskayLrJVrYv0vf9YzwkQnIy0BZ7pkRFzotD51LHvuyjeUjwm26Yem6oV5pl6Wqt+ks+RHVKHSnDzTYdMmBME+w71uwROgiHLTgd/+hPrZ6x5oZ6TBiHWFcV3rs9nn9QArp/xFxOoaYy0+rjqSYTiPycCSgJcscXn+V8wIcRAQ0Dr7qz+Oh6vaWdygg1nd4pp7GwMFIHICKwGgEDpcDAwkGVS7KoPGJKlEsitAyrQe/xdJzvhYKaYRv9W6mLJmsh+aIxgmfgcgYsqhboAjAybm1sQ2H19Sf29v65rZOkEE+azrnuP5X8CDwGUEwXfSZbHSVGLrtb6JSgS4PkMQY66VT5HnSrBlBuiMC0yUd/6ImBR7UJjlM4vJx0tAVDNoJ9hf+CCDV/WyOd0fvguqlO4vl3fxwmVbJUTmRUY9ft0zDTYd3R/08DI65ycKc5TCtAr0nhd31NXHALQEIC6O7jucNaYwEWGQfHHujSRDIZsQAOPfkZ3eH1ujflfbf9b77UeW5+xHlvvqe2Yg4f5JHjS2m0dbBSpqdP11bvWlp71PxqdrOf1PW5Ieer7Duv99DqguEp1C5k2QZG6Qw1KvJcTAhcqEJgIrhTLCXgU0fXOUryPzJXqCxqQCDS8pstDqzknJrJrMkfWP99Hpq9VN9b7eRwosA+SdVp14HQlI2vlJE7VT6Bn9Tt0vqyAyP+YDn+UorQrnfWeuo5DAFpLw9XWKP9f/qNhhbMzRTbq8azlprhOcLJeOxmPOdBp9edgsy4rPBnz+mvkieybUgUt5dRla2am300dIUVs/kemqa/7iwO1P9krQZg6c6pKyFJprOG7/aVT2zWuOCNQ8x6yZrJQticNgfRnDZQHa5r+gJCgSgZK1Q0ZLu/3d19t10IAGgJQvx2anYaiGkUk6plOZeChqEgxVLu0cOBoRmIdZP8fjusqd13/16eOOMFSt0o1gRbX6/O8vpeGK/rmksVyIqfemTp0nut068p3IBDU72Ac6J7arocANASgfgGUHZN6LwIoXVTYwdhJbb+D+qprsFkH1e/pmG2ngppAbIatRttLG9vUdbm3AW2un/OtO/W+mu/0vc/3nBZ/ss1f/vELvt70tagMrCuLrHn2fVaf+wNBMm9e17G/e+q6Vi8AZQVIJdgMGNZgNgwzqxtJZ9zfNd6j//e9P9B//u7T99b+n5ln6Sz6WL3f33M6X4HyHdw7VT3otPQzgdK03ud7r7///OVbX9PP67g+79TPaIBp1boV4uI9S+BsNk+59PsCpe9Oy9I39L2+ZdL36v/1ufUd9f1Pv4P9VPVbrncOM489/VS/Q8fu58w+Wldeavtfp+Wbtn7Gt0z63N9zOg3rs/o+71j1cQ1WKvYebzJ2LeWzpqnfo/NyvP5T6XnnTb9D59/fu9nnGjWKQkZ6BgYNHOy187x6zgL2FlzRaeq4LiBs6P/1AlANmqpDhsNmMIR5g6kVWEPHp2zdsOPqzifxKdeW1sFqKUtd5TAnWoNxXff+lv/7A4vfMj8n6N22sACM1fo+f3Xhc62hAFnXc8cAoFxTanYya6f7lY4ViLNyT55gnfX18a+dP/1eHTfk/ZwU3UFYm9nWJ1FdB1cuBZyJSYlYe8MaP+5GnsFpZVpq4lD96ljqMVAeT0Sagd7l7zrf/1vlob7vdfdDa5/0yr8pDVsAU73DMmk2UL9ZF3jy/3oBqKp4b/GdYlGYEfGbhXAjAoFDOMKNMD+htmca/l+96sEWAZul3jxl0Pll3uufl3rlwfJ+63M25s0n8P+G5Oe3eiZMpCO61thwz7p7xVVl9crV3qzaMug02w7jYDNUnz5RebfWdUOP2Xe82ihAW9aW/okqn790a8uH739SLpbHpnCF6bE9VTCPiTuin+U4MldskZVKm3omRt2uwYBhQ+5pMIDabOE4zTgD5xgX4DzjYpz7K4VzjIvBcK5xkbzzPOMiy/t5TV1XsT4/EXHdZWa96KDrR59LOWy+ZWGaF5pBlUvVbX3y76kb/c76xrqOvWNrHuoue/3qP5j0arvHmjd1fI70g0vQ2DgLd/3xXuzZtxebvt6EZ555Fvfdcx/mzZqPK4aNQu7AXNgTHejZpRdaXdYaZ4adhTAjEhHGaVBp6Pqs+Q7vMlrvqy2v6j6VNtOs617//3u3je5H6l7Vxy7BecYlONe4BOewn9lq9kX/77aWU79bX7Oe62Nr7Huf9T9PHpkvnTfVv9V97rFhuxhnGxeZ49yTBsvsyfNFONu4AE1sZyDciIKhVYknM4C60Z2e/UYULrE1Q/fIWPSJTEXvyJRfJfSKTEHP8CT0DE9E77Ak9A5Tca+wJPQKT1RBjtU57+0Vnnxcg3o/86Dywbx4rvE4UdVFVCp6m6FPVCqsgdd76RCRjJ7uPPrmN6VheY/wtAfrrCHt434ugnWejJ5hvmXW5VZl1vXQK8g6lzSlDgPVo+/7rOfWY50PnY7nv9ZGD9xT8RD2H9iPt199H28+8y6q9x3F/oMH8MP3P2D71ztxaMdR7N2xH9u+3YaNz7+BOyruxTVDpqBno3j0CEtAsOVhP/PuE9Z86bypupI0LW3UkPbxfkb1r95RdvSJVEGOo+w1+mBvaU9rfnyPzXOzvb3GlR5njN3H1nIGOmaaSea4sKOPn3xxfOjxwrGhxkSi+R6dR/Ve9rXuEbG4LKwFogx+58nKOq3HipU2hF0G80y9GKimw0R7ZrpZWDsknjYEaY2L4WxUBGfjIhXrY577u2b9n8e+54Ge4/WoQtgjcmEPz4EjLAeO8Bw55nnNkAtHZB6ckQVwSMiHIyIfjkgz8Nj3XP/H2N//Efmwy/VcOCLy4IjkO3isguSN16MK4GhcJIF1kGaWibE+lrrhPY0KVZ4kXebVkj/rsc5rgHx55TeqwLtedTtYY33sW/+NPPmWvPP/qALYI/Kk7qWskXnuMqtzsz5Y9ogCT736y6ulTEzT/bylHq116lvHXv9JvXvSYP2zHpyRhbCH5yM6LAPP3/MyfvrxZ/xx7jq0NfrippnrcGh3Nb7+YjOmDpuDEX0mYF7eMty24B68ePer+PL1b/DNK9sw4LwCJBmDzH7AMvm0jbVsuszu8ph9w+wX1jJKHiPzpX2sfcQ9Vsy+IuNCtw1jfazbTd9n9indr6x9TB/r2NmoUMaQ9F3mTde5pR9LH47M9YwzjjU93swxZx137mOOS9/ymu+QNCNy5d0sp6OJiQ2W8aDzr+qhUI1b1qeZN5UG21r1w8SoQWht64LGNv1dKWWTqanPbpiP5wkDUCp2IwVA2yOxyVCkRQ6HM3LYrxSK4LDlw2HkwWkGHvsLdl4PK4AjrBCOsKJjDs5wlYY9rAD2sPwaQfJlU9edEUW11kdaxDCkRargjChGWlgRnMcjjzqd8CI4IxrYJpbn3HkML4Iqdx7sYQy+5dfXWTd113dddVkzfd/3BTiX+i+AM6wYSUYOsluMwtd/34p9uw5hRtZi9DTs6B+Wjr/c9CJ+qv4H3vzre0g+cwC6GXHox/8MB5JOG4ihl16BVFs2HEYuHLZCaRu2T8A2cvcN5stf/XjyK/0knABRXGsfqXVMsY3MIG1kaTPf5/i/vibH4cVmW3rypOtb8ma2rSNMjTN/Y8t6jeOQ506OS7P/6/R07LBxLOaD40LnR8c6b9aY48MRXqjGupkun2fdypgOz0NyxBC0sXVDo1MNQEmXCaDNwzogqXE20qJ+XQBlo1gbMOAxGy28QDUEO/hxCgEB1Ox4qcxfHQBq7SyOiGIQUGRwHqc8OsKPYXBaBhzzyc7Mju8NoFaQ0ODJ2ATQIMsRqC71wGtYrAC0r5GO0lEVOHzwR3y48XOkn1eIZCMXiUY2Us/Nxmt/fRu//PgLXli3HtERaUg1cpBmFEicYgw1+1gunLYC1T5so1rLVWhOLNb6qAlS0n+PFUB92sjan+o8jqgFQH0mxoBjyw9pIYAGai+HAJ83gNaVTwFQjiUJqk5Tw80+dmoDqCE60MttbZHYaCicUcPgiCr+VYIzkgM5D3ZbrrADu5HrPha2QMZgBt5DcdseUQB7OGJ8VL4AACAASURBVEU6iv+WY32tnnFqeAHYkL7BHpYreeN1RyRFpcB1otgHQa5YwFY6Sz3z4S6T5TmdjgLw4lrzEKjNJE9m3nU+HRGFZnlzkRqeYwbWgfWcx7yW76lvS9785Zf3+tZjw8/V+ym6p9ryEd9oAF55dCN+PvoLbp//APoYTqTZhiHDNhzRRhqKu16JbZ/uQPWBo1g2pgK9jBTYjXxQcmHfSbXlSCysJzyYfqP7BfOhQ81+ksr+K2qGIsuYsR4H7jeB2qy2617tyXaNKJI28lfPLKu+rseZjCOOJT/Ba6wJ8/Y8r9NhbA/LAceHjAth3ixjLWWOLJY6Yl2pdFifqt9JvsJzkRQ5GK3JQI0zPNZ3y2IPj8rxJBPh6WAcbkSiqa0NkhoNQbqIosVIizxxQQ/ktAiK8BQZcuE0g25Ef7EzjGyEItjxCw5bgcoD8+EncBZWoooCSH/1ossjMdnqccyfpBVOUUm1B9+hj+sT6+fS+TyZl4hSLDPFWt+y62sU44Kvc0+avunV55zv1PfnC2OMMwbiqn5TsHfrPnz32TYUtr0K8cYgYZAyqYYVoKeRivKJf8Thg9XY/O63yG46ErFGFhxGgRtIhYGx3BQnGUSM99eXVBsGWx72S7aF7gf1aRfrc/p53Vb+0vG9h31TWJ27znTdeWKZNPi/ZZzp8abjGuON95Np+klXQM9nXATKs86vSI+se2GvKm0BYWmPPCQLgHY/FQGURqRGaE4jUuMhSIuijsXTGfwfU8xnqO0+GiuoO9T38Jx6Qs5UDBQnTQZqYZo1GlL/x4Eebun8ehAcY1xTlFXiBTsOOwpnTDcDdJdFl0nHrDNT9cEOfYx50s8TPHlsBXBPfep3B459B6cekM4IiqeqfN4xWTfZhf5Pi/Am4FjLFVZsqlE8/ymRTz/bsFjXu8oDB1whKL6vvupm4N/APUseRD/DIddFAqFUEl4kOtLE07Pw7rMf4+fqf+LuxQ+jr5GCNJFq8oSJCoBYAdRaHj/HgfqGp35MgAnP9wLQ+rTRMd8rY0jpE6358ncccGzpMWaV9tx9IHA7sl968u8fN5R9gH2lpkpEsVm2Xx6SIoYIA21inG7u0XCKGJEMW0MAVCuyAw9eT8Wqezh4HZEjkB4xQnW2qGJTF6dmxjob91cGUN0BgwNQllF1IIItxVsNgscj9u6o9atzf+0QGEA5WJTqQpX/1wdQXe8qVgCaZMtGfquxuH3mAxjaYiSSjKFICxsGRxgNdjQsFsBpFKCXkYhFw5ajet8RbP77VgxpWoxEY4BbDUQGSh1osG0SDIAyn5zYfev51zqX/mYaZLzrribw1TnGLEBaV1r8vz79UgOoZrSqn+UohksAFQbaFY3/fwBo4EGsWY6V/dBCl2LLQW8jHYlGDjJFp6gsy9IBLQ0XsJHdABr8AAhmoNQ1SIIHUFUnGkCPK4h6zfSB6z7YQUsdaDADRDHK4CeD48FAvfNFZlUIZzhdkIYIE2X/ofEnTdQkjKnPzIfdlg8xFp09BB+98gmOHP4Jrsk3o49hh9MUXx2GUgkE0y/0gPfOT01Qkv57kgKot7gcJFEx7RDBlLshAMq2kPYQhmuqigRA6cbUFacsA20mRqTBSKMVmQM2QKir85HdqFCkDCoRRUgKy0H25aOwbv6juLLnZCTa6I/H/4thd3du05BEoPQDqKL0lkrnoCIzYrAe62sqriuf+v9A5XTSMOD21WR9BK4XVRazvMeZfep8ig5J+yqKNwInEmtQQGc17nieVUY3dz5pOAvLrRF8DQuKLWjLqf+4RhvUYWiy5i/wMUExTwGjtDNF5XykGcPgsNFooplygbjb8JwhzShELyMVN02/UwD07Zc+ROrpQ5FC0LVRz67cczz9h+zVf7m0/s+3TnzPpa+anhru+m3g2LG2V+B+6RlXnDD5DMeQb754btVvErR0uQOVWVyXTMu98v8tdI9h77J51Ere12vihvt/c1w4qZJyjxGTDEXkIyVqKNqEdUFjo4mPCH+yO9KbIjwBND5yoOnaEZh1qEbwPxPLbEzrnACdHtAF6Guk4abJ64D/AC/c/SqiwwbATlGKvpI+gMmGrx1A+W4CJ0OgfASvKw3E2jSTlk4aSVAO9C7r9eDfax0sdR2zzlPFkkxrsv/60XXmm09vnaLKqwCjn0lKpxFcnAOHwcA85Umwu93MAvefusrq+Z91qSZDpi9+wOJu4yk/gSPNUFZ6AihBIsYYiBFdJmDHph+we/seTEyahf5Ghqf9pP7IxnTwpKfLbQUefa3WmCTADQqBy157n7X2o2CPtQtgzTLUzC8NNzpvdbsBapVUoPEh40L0r5q4BBqPynebE4JHKvWoAEVHGlWElMY5aBNOBnqqAaheiWS0QXyEsmzW7Aya6RTBbtPKYIpDCsjElYM6ERuvkZZTj6asnBxUvQ0nHlz1FA4fPYA3n3sPyadlI9XIR4atAGnujqwGpMymMihzYDd0oNuF1bjh6WBkUgo0TFcTOVdARiMDy6Idvembqa/Rj5QMyO2/5mXwooFL+8MqVxHR2ZiGJV+Qsp7rutMGIH1+LLFMWsECnk8e/QGoL+vXg00Dh2+s//eKbdRfKQBV7mdWP109UI81VvpNBZ6qDxC0Vf6USKr7j1h0w3KRYuQiPiILrzz6Bo4e/RH3LH0YvY1UYWhqYifYqHx7lcdP/frWg79zlUaehVUFLvPxBlDFkhV4Bs6bYqIyYVBfTA+MQIs89H+UtiLpzujfMKRBleyyLjIjngzhBWIwrgmgHGcjkBZVrAA0rBsaG6e5N4qmh9BJuxuTZ70pjUhN0Mxog4SIwXCGK7HAa8C7Zy6Cp2JjbDwlSnFmI+vkkkyl06Auiq4n/Y0BiDeGCgN4ePUTOHK4Gm/95V3YT6NjcwHSbUXCGoRV2bLhNLhaRDMDTyyrI3yAQYMWffRoRFDnBFzFBrSPaFpYMdJtXAmhZt3UyDwB7zhjMPoZmUiNKFSrKaKKkB45Asm2HEQbg8Syq2dhUTWwjAHyoPPCWInVgQeRV70GwVp4P+s8mMHOe2QCCoIt15Vevf+vh3W7PnUgRh8/4OabP3cb2PIEMFdPuhmHDx/F39d/CsdZ2Ug2hronWg2gBB3fdBp0/psxUKo26lEGAdAg+maQOvdgdeliZBNQ9qe/Hy7+zWSgrcO6ixGJPp8CnL8fAC0Wi6eAQ1gOnFxDSx2agJdiolz5EWNkiItJSqOBKOw0GkuLXZgUOxvdjXg8dtPTqD78I15/6j3ER2aJHx+X5/Uzn2HHdRr0ARwCh4CpqbMSR+hspHq513gYqIAWDQq2QsQbTHcAEoyhSA8bBoKnsE86jtvyEGsMRG/DAfs5OZiethBzB5ciofFA2CML4CR4hhcip+loTEwsQTJBPqIQ9JvUAOoepLUAVAhAgxigQU4cBNp6A2gYxfhMXNFrArZ/sx27v9uD8bHT0N/IdKt9NEiGADRAW50EACoE7/cCoPSzUwxOs086n3Nta67M7PTTiw3Pwui+k3Dvkofx6Uub8M0HW3F4/xF8tXELEs/JwjN3rRcA/fPdz6H/GU7ktxmPIS2uwJzBpVhdeANSI7JhN5guV4xoEUuJaVxFIitJ/ACXAHlYHmJtAzAveznefOQDDO96DRKMwQKgyUY2+hgOcaqeEDsDj5U/i81v78Ce7ftxZPfPWDn2JsTQ1SW8GDHhg/H0Devx7wP/xYqxa+V6Ov1WTWdlzbhrA9IQgAYYlPUATStDrS+AUp2UTNXPaUPw7vPvi9Szdsod6GXYhYEq/a/qVxpIjzkOMVCT3XsTGz1OGsJAf2cAalrLRJwsBNeHxxiD0NuwI/2iXFk698Gzn2LPF9V4/+kvUDppNZ554nns278P7z37MVLPG4LX//wWduzaho/e+RAfv/wZ9nx1AD98vhe7Pj2ADXe9i5Qmg8VaSksqxfh4YyD6GWkSc00z/fx0g1hjGg7oF8hVVB888xn+/a//4Jnb/4YeRpIAp/2MbMzOK8U7T32M/ZsPY+Pj72HJNavwyosbsf/gIbz28HtICqNKoRDxUYPx2uNv4MjRajx7zyuIDRskHgUCoDYu7fOvh7XmJwSgvy2AUrVESYbuS/eWPYyfqn/CS/e/hpiwdOlfIQANon1CDFTv5lxbrN0DgtCBWqyrNNr0NVKR23Ik7l3yKLZ/sA/bP9qLB1c9gTF9J6GzEY0r4q/Bts3bcWTXjyjJWYKk8wfhq/e+xY4dO/DB3z7GyvFrMXPoIizIX4HBzYYhPnwQkoyBiDXSRcSOMZwobDcG05wLUNBmDOLDspSbhslA6YZB0OJgIbjSTaWrkYCHb3gS+w8fwHsvfoyc7iNRMelmbH59O/Z8fgh/vvEFjI6+Dr0MB7oY8XjtqbdQfbgaz965HrFhA+G0DRMx78GKx4Upb3z6fSSflqPW20cWwWlw/bg2WPmfaSVPlrqyMqljOQ7pQOvW8+lJTBky86Ufzc5dikO7j+CLtzZh4CV0qh9k0Rl6jGAhBuoDqiEArQ049X/BA6gyyNDlqAixYZm4efI6HP36J3z66iYsG70GWRezw9rRzUjAwMsK8Plbm1FdfRTP3LJemOCInpOwbdNO7N+1HzOGLkA7IwbRJsOkeN3DSEXa2XmYlDALJbmL8debnsfeTQfxv0eAzeu/g/Ns+vINUQxUG41suehvpImFn0yVOq/Xn3kb323fhm++2oadX+/F5re/wy2z70d285HoazhEJO9lpGF6xhLs+m4PDuw9hCXDKxBtZMEZMUIA9M7Fj+DQocP46LVPkHFBMVK4FpwbNgh4/zYMVLb8Mg0edentajO4aZARoD9eBhRJJ19YX7CeB7K+32KYtE4udIyXdLhUVNaq04DmMShaj62uTVq9QomEgevgi7teje+/3IFdW3dhTPRUxBoDkEYVUZ1lp1+lJYge3vS1pKFOO5vrdCjC08ODW8uZ3h3i4WHxeRSf11pd7wJPytZ28z0O3ohkdWPyAUwf9Yr4oLp3iPJn+FHXlBWekmEgFyZVJgddzLxAWbkxcdMUsehHFYoVvnUYNxOx7AeqjUk+n2sJZm/PhtxTzw2VgwdQiqXcMIF6z5TwHKwdtQ7LR6xBUuPBsisOwS3RGILYRhl4ed0GHD3yIz557SsMuLRImGHJoDLs3rUP33+zHWP7Xo84Y4iIzPTZu7LPZDxZ+Vd8++ZW7NyyG4f3HcbHGz/FpKxpuL1kHW6cdDsSIgbJ1mU0AlGnmRw2FMnhQzFv8ArMKSjDS/dtxO4v9mPzl5uxeetmbPnie1Re90fZG7KPkSYiPjfFoG7MccFQfLD+Yxw8uA+vP/UOUs/KQ0oYt3gbgX6GE7fOu1cA9OPXP0XWJcORQtcsAVB2kt+KgXJXobpZGJkUwcN3kPk7P2bW5ZMfcVIP1srrM2CtAKr2h9R7kDLmZiAsOz00agbluZGt1vDblMM8XWcSjcHIurQIn7/5BQ7vOYSSoWXob6SLpwfd49RzOUjldng+gf8rdynep4LvufU61QJqUvBsJMMy8ZpaMaWOteTkrz0aeu3EAWhg4PR2YyKA+lev6TIpALWmZ/qBRpkb5PzeAZRL6RjYKTjbKMu5UwxIVPKzA/YyknDXogdw9MBRfL9pB8bHTEV/Iwv9jHRUXXcbDu6vxpdvfYOhl1yBeGMw7Gfk4flbXsfB747inSfex8JRpXh1/QYcPHQYD1c9gY5GP2GY1GVx67KEMwbh+qR5GHL+FehoRGNWwSIc3vcjDu45gufvexnFMaPxwNpHcWD/Qbz/ykfo38SORO4DaW56kWorAMF03bJHcODAAWzZtAVXJkxAZyMO0cYA2Ywi2sjErXM1gH6GrIuHITksV/SgIkb7MWLpTqJjteGJR2fsBQ4yqJSDuL6uV+Poc2vM/5ge067LkV6tRAkOPJne8QRQDe5OrsipDRwt/6my1WRC/uojNawAKeF5Esg03cdme8i1qAKkRBaKW1pyZBESbXlIOScP7730IaoPVGPF+BvRy0iXe5IiCpASUYDkiEKJU8KZvrrGmNcZUsMZqPvOl/vUMc89gffzPrusrDPLw6Wy9JGUa8oISW+QQExNs2bdh2r3rfRmfMEDqHL3C6Z9vNmiFfi8jz0M1DtPnnJoBkoS4v2sBmHxDQ0EoL8nK7wSTdhZlHO7iJIc2EY2ehrJKJ9wIw7uOYR9uw9gUfEKEenJWDnr3132IA4dOYzXnnoHSZGKrTrPyMPNk+7FjKyF6G6kIKtZITZ98jWqDx7BLbPWiWjOtfOp52WjYtyN2LRhC/Z+Vo3RcZNQeuVq7Px8L7Zu3YqdO3dhcuZstDR64E83PYeDB4/g3Wc+gv1Mshbu+lQogeBZklOG3dv244edO/H95h/w4p824J7Vj2HxiNUY3XM6uhlpuG3+Azh8uBofvvYp0s8vQgrZhbkihszGt3P4OxdDBcU6+kb6BM9goeuUdTcbfx2M/xfJvotinNKfmpDJjCBtDWp5HRcu+MuT77VgAdQpO2BZ3+PvmMCp6sa3vKrOKL2owBVoAp5eIl3Nsiun62HIOH0UMs8Zh/RzzeB7zPPzxyPj0klIv+xaZFx2rcTpl0xE8sWj8Nyjr6O6+gjuLv8LYs4ZifSmk5HWYgoymk9BeoupyGheM6jrU5DGNC+agPSLr0HaxddInH7RNZDA84uuQcbF1yDjgvFwnjMG6WePtoQxSDtbhfSzxyDjzNGwRxYpbxLtu2nuyWltC5kIa5uIvFQfrNPgJkNZ4ccJPOCOYp42IDASROnGFziYE4N5r7rf9FixTBzcM1SAlvfJlxV0mtYJpgApjbiUk9vZWUT43wuAysoFcWVSa6jJOERkM/LR00jC3Lzl2P/9fhzZW40bpt2B3kYKUqknEoOTEw8sf0I+RfvEzc8Im6Qei/orcX8yBspSz8dveEbAc9Nb38Bx8WAknzcYVdffhi0f7MAPH+/DjSV3ojhuDJ65bz32f1mNypIb8MHbH+LggWpUTrxNDEMvPrQR+w8dxIbH30JKE/qqcvu8QvQ20nBV3DRs/fx77N+3F39/5SM8dftz+PSNr7Bv6378vP2feHbtK+hgxOKBlTQiHcGGP7+FxKghkk8yK7IgGq18gch6HlRnFhctGjCUaiCYDl3zHr0UzhMTcBjIMKx5CnRsHbS1HafJoPO8x71yy9x9ypM3rlKrfTBr/S3zVNvk4S5L1DABzgGXTkJmgEDgzGg2BVntSpDZcQ6y2s9GZofZSG8/G6ltrsNfH34D1Yeq8dBtLyKx+QRkdVqAzB6LkdljATJ6LDTDohrHWd0WIqNdCTJaTkdmK4ZpZqzPVTyg1QxkNZ8qAEsg1SFTH184HlkXXo3M86+CvVExUkQNoVcHqY2NZUWX+ckRAp18BcHC1r1Yo+iGPYtdOCEHaj/Wt7vOSQTqmLQ8bUldrrnGPmCfr1//pX5Y4YiWOjgR56vPq4QXIjkyB21s3f180kOrGrXt5qTZUFlnLBgrvCq0KPfp7G6Qeeagp5GImQMX4Idv9uLIoWrcveA+9OOyOeo4ZaVSLigWX580F+vvfg1T7PNFkc8BJHojG9fJO8Uiv3f7AWz99nuUTl6JxWNW4bsPdmHHB7txy/R1SDpvCPqfnYY3/vQ+tryzE4M6DkdB79HY/s0POLDrEGYPLUOfMCfeeuYDHDh0AM+sewGxEQNgDysWcL6y73X46v0tOFL9Iz5Y/wkGtx4uoJp+XhGK2l+Nws5XY8D5IxFjZOH5e9fjSPURPHnLs7JSiTo46n+VWFW7DpRlpkilO66/WC1/NAE0CDZg7dSeY/+AdvwBVK3q8gZN9W61zI/Hirk4uOs4JwVz0FpjPcB5TY65GW8t7FsDqJ2TwjljkXnpRGQECOmXTkRas8lIbz8LaR1LkNZhNpwM7ecgsfX1ePLe13DkYDUeu3s9EltOQFqneXD2WIC0HvNV3H0B0nxDjwVI7zYfae1mIr3lNGS0nIoMiacLoBJUPWEGMppNhZNsVIPmBeOhATTdPM48TwEo/Zl1feiY+lT3stg6AdRcimkCrGwAouvVJ9ZtwPdwcqsPgFK60ePUI1Gpcasn5fqkJ77kXELKCVmCkmTk21RUmUT9jgFUgJMzEgsu1slsRNvSMXPwQuz+Zh9+OvQzHlj5KHobSbLtGFcFkYFS/8nVSfYLB+P6QSUY0W08EgwCW4EMNrouFbe7Cl++9R227/wBX376JT7e+Bm+fOMbrJi4FmkX56GrkYLEMwbj4+e+wKZXv0P6ZQXCNl99+G0cOnAQH778CeznFsB5bgH+/uqHAqCPr3kG3Y1U9DTSMX3gImz9aCt+OvITPlr/GYa0pbV9ANLCRiDFVogEIwdxxiAkGNlIP7sI7778MaoPHcENU8mk05SYLAa02tmn7lQiKllmfj1IdOwGEYJNgwHUI275pnF8Gaj+HlTg93ne7/m6gC6rb+wuOyelIMruiByGjLPHIvOSugD0eqS3m4X0DrOR1oEgWoL0dnMQ3/JaPHzHizh8qBpPPbgBya2vRVqnOQKead0XQgU/ANp9ATK6zUd6u5nIaDENmS0IooHCdGQ0m4y0i64WANXASTDlMQE0/cLxIIDS6kxdtrseAvQTTtZerDMQG5XxqL0UajcyinRgrnEPqu5NlYy7X/thovUB0EDl8QDoUNSwwv9eRHjPB9K4+oguIpm4ssN1qP72R/ka4v3LHkWv8HjER2UiQSzlQ9DfcGKSfSb+ds9GbH5/Cw7uPoyPX/4CaWfTj5RLPtPRwYjGqgk34pcj/8D+nbvw/osfonLhbXjm/hdQOsYl7LV/2BA8f8fr+O7tbUhvWoj2RhxuLVmHg7v3Y9+OfZgxhF9ndGLI5Vfi8ze/xKEDB3DLgruQfMlg3LHwIez6fi+OHjmC1554G4OaDxdXJbWpMzdLoM5muIj6ycYQ5LQchS//vgUHdh7AtIz5siZelP/UNUoHCkIHauq3rIPECiTu6yEArRNECaDpxwSgk/DAbc/h8MHDIsqntrk+BKA1VC/+J0et0/61ADQp6vcOoGLNVgCaZAxG+lkFeO6WV3HzjHXoasRg5RVrseX1HRjZ42rENLHjrze9iCPf/YLHb3ka69Y8gl07d+Obj7/DoD8UY3rKQkx0TMUdC+7D1k934sNXPseyK9ag/1lO3Ljwbvx0+BdsfmcbEpoMxIJhq3Bo688Y1n08Whu9sXLiH7Fn5x5U7z+Iuxc9IoCYbBRgwGXDsfndLfip+kfcU/UAPnj+E/znp//ih2924e7FjyDlTAL/IPXNJ36ZMqoA6dzYWXQzxeDmImP7X4cD2w9j2xc/YGDzIsQb2fJJXW2YoW6qtg4l/4UAtIaIqicQ9+RRDwZ6XAD00GH89ZE3kBICUPeXE+pioSEA9XE+tX7VTh0HrwPVIrzQcFNpTT87OiszRBsZ+Nu61/HLP37B+idfxUsPb8CW93ZiTMK1iDvdjpcffxX/+PEXPFz1FLpFxeHL57bgP/v+F5+9sAkrxt6A1HNz0dVwILvNGGz5fDv27z2Em2beiT6NHfj61S2omnkTOofF4daZ92D/rsM4fPAIHi5/ErGRg5Sje/hwxDcaiLvmP4yPnvsK1+fMwQv3vIkX7tuIET3Hy+YS3D5PffN+JJxRw5EcliO748tmI+EFApYju0zANxu24bkHXkF+91FwNKIeiEF9uykEoP7ZihqMJ0aEPzYAvRYP3fECDh86jL88tBEpra8LMdAQA0UgJ/sT6EjvMSJxTbqsdqFimgzNXHe8cMRK7P3hIHbu+QGfvvo5BrcYhi5GAgqajcWWd7bjwxc/wcBLh4v4fl3SXJQMKhWGyZVItMj3NwZiQfFq7N9zENs378DwHuORcPoQbH5jB1587GW88cz7+MeR/8GB7w/jrvkPIDYyC8m2XNlLkHt30t0iIXwIHKflI9Y2EMlNckCxgMzSGW7u7Sl7fg5DSkQuBl40AkVtJyAxfKj7K5oJtiGIbpyOtTNvxf4Pj2J424myKYmT7JubBgexlDOkAw2si/PLQKmX0z6C+tiMtQifRR1ogEB3pbSmpg60/WyktS+RkNFuDhJbXYcn798gOtDH1q1HUouJSO84F+nd5yO9W9060Iy2Fh0o9aB+QmaL6cika9RFtLSP9wpZdK9ioD7UrQNV+5nWYOUWA9D/Rx3oKSjC0y2ALNQmX+VU+4EG2lBZux4oEV43vto1KV99YvacbHz0yufYV70PD1U+ht5GsmwA0sNIxqBmw5HbfqQw1QxjuFi7uQyTa9gdkQXIiBgmzuwLKa7vPyjr6EfHXYceRgoW5Fdg81vf46u3v8HTd76ESakl4sjPb4VzI1YtivC7SxTH7bYicJdrUU6HcRds02LNe6OKxZruOCMHGx54B/u//hETU+Yg1hgs3xfnxruT7CX48Zt/oerq2xAbPhCpYjkkA1VuWXWJ8DQSaMdyXU/W2A0iXCIahCEl2Hvclms6f1PVQElBLLp5sgxVvslNPS4nAvHf9bi/WPPLY2uQVWj+8un+Dji/tqp8/WRneiNbXHXoruNZ4aN8h/ldLHpvcHVXUlQRkqPovmIG8zglskic3Xk9MWoYUs4dA8el1yDl0gl+Q9KlE5DU/DqkdJiOlI4zkNp+JlI6lCCp/SzEt5+AF//ydxw+dBR3rf0z+jQbi6Quc5DaYz5SesxFUs95SGHoYcb6vOdcpHafjZR205DScrKE1FZTkNJqco1gbzUZjmbXIuWi8Ui9cBzsF4yF44KxSL1gnJw7LhgH+4VXwX7+OKQ0Kpbyc1WTuPlx43CvY24ITSu9Wtkk/rK1GJCUwZAG2cCTlu57ygpPVzeP54S1b8m36C3tLF8XoDFL+pGyvutjJZWpJc663/nz1OA1/k+PC3GLcpeFFnhNypRlXlnh+VG5U2pH+jAYNgJoFJoZ7ZAUNcTvN5G0Yy2tbuK8pgee2QAAIABJREFUTXcdcVPiumOCC7+ImIL7Vz6GQ4eP4LPXv0bK2YPRzUhEfqfReP62V/Fc5WuIjxioAIzfG5LloXQSZ0MUghsZD2g6DJ9t+Bq//PwvvHjHRsSGZamt5s7Kg/O8fETbsoSpin9nOAFTO+UWwPMNF3VN8up28lW70jvDhiPRyEN2i1H49tNtOLrvCEoGLxZXKq54yus8Gvu/PIJ1Sx5BdyNBOneabPpMQKL11FwPbTpA8xqD2hVfHdfVmT0Aevyt8HQlcpw2As4zRklIO/0K97Hn2ig4mowQ52ZxJzGdpdkG/pymxd3InHw4AXlCERyNhqkQVQhno2FwnjUGjvPGwXHeWAnOc8eCwXHeGDjPHYPU88fAft4YJF9yNZLaTUZSh+uR1N4TEuV4MpLaXychruNkxPebifiUuYhNneM3xKTOQbRzHqIHLEL0wEWIHrAY/QYuRp/MRUgeOg9vvP0l9u49gGU3PoIuqdPQb+hS9M8pRf/cJejHOIfnNUN0zlJED1iI6Iz5iGHInI9ov2EBYhzzEBszC3H9Z0p+E/rNREK/WZbjEiT1noXky8bDfsYVcJ45CvazRiGN7XTmKDjOMuMzR8HJ66dfoZzP3YBjITA+1xSYefqe7pPSDy0Wfw2gCug8xEODqC+AypiXd/lZOCE4oBztxRJvdZz3OZZ+JePU2/Ge6StcIaCbn/Sw7Eh/CmxnRwZKAKUfaCM0t7VHUuPsoL4Lz2+7M/C77/rTF1zeuWr0TfjHgf/B+3/7GMXRY3H/8idwcPNP+Oi5LzHFvkBWITnc/n/czn8YHPKhNFq5i4SFFncZj5fveQMrR9yIONtAYZQ0EnHGlvXIMtuSPdEflaHu2VffQ3+7BGMQclpeiS1fbsfePXtxfdYstDR6oqjHOGz/YDc23P824qOcoKGM6gp+V1yDnlZd6PR0bGVw+lqgWKcljvSWGV935IbHRbBHFSHj3LEYcMkkcf2h6EsXIB2yLp6o/jtvPJxNRiCt8XB3SG/kObZeD3Ss7ldpOBoPg+OMKzCw+TQMaD8HWe1me4XM9rOQ1W4mMtvPFNcgR58FsA8qR1JOOZKyvUOinK9G8tBViMtZif7jKtFnxo3oMWtNgFCF7rOr0GXuWgld565Ft7lr0XlmJTJKb8S7X32L73buwnXrHkHHKavQdUEVui5kWIOuC9ei86I16Lx4jYp5vGgNOi2qkrjrgjXoNn8NujIsMGN97o7XoteMNeg7rhzRoyoQc2Uloq+sRNwVLsTyfFQF4q6sREpRBew9S5De9DpkNrsemc0mY0DTychqOlmOs5pNEVXAgGaTwXayRw0XYqKZWqBYAWgwLnZ0SSNw+meg9e13ZJZuBizG1VoMrHSYt/R1xUoViAt+0L2rSY6sROInPdw2GnFj8jjQaztOIB3msV6vpw7UCqBN0DysIxKDBFBPZbAxuCW/+mRG8plDcMuSO/D5u1/g+0934tOXv8bcgmVi4OGmxUL3+a0hsYKbbEaWI/LLiMVwhg0Tn0zuKB7Prcessy1XA1EEDMtGqi0bdtm1vqZTciDgkus27vuZjfjIAbKN3T9/+hc+2/gFnrzlaez74jBevvtNJJ8zWHa15/6gIkrJu+r+mFut77WA/IkCUE5odMvKOHccsrg6x4/juQbSjPOugrPJSAFPR5PhcDapH3h6QNUDoKlnXgnqAzM6zlH+mB3pkzkbaR1nI73jbGS0n4OMDnPgbF+C5P4LkZBdgZh8M+RVIMYdXIjJL0dsXjn6FqxC94mV6DTvBnSYX1UjtJ9XhQ7zqtB+QSXaLa6S0NaMW81djYGVN+PTrd9j07YfkHfDXWg1uxxtSivQelkF2ixzoW1ZJdqWMQ4QSivQdmllraHd0kp0nutC92tWoffYCgk9x7nQa1wFeo6rQI+rKtDrKhdiR5Qjqc9sOOj032wK0ptPQaYZc1lpRrNpEjKbT0XmJZOQ2ujkBlBigALQusFbVhxZANSDH8VCoqiKUwDaA42MM05NAG0qAJoTUEdiLbTnmL6UxSrYimE/PQ+v3P82Pt/wNUpHuZByGr+HlCXLIJUFXM1+nhmIKgGlA/HEXELG9dJqzbTSZSonfm4IQms6gY1slCAaLHCp+5QOkCx0yGXD8PCyJ7Dhkbex8bG3UDaiHDFhGeJVIDpC7rgvn8MlWHM3JG7UW0/AtgCnzueJA9Bi2KOKZelj5mX+Hc/9AaizsQLQ+jJQDaLpjYvhbFwM+xkmgHZQAKqc2hWIZrTn0so5SG8/F2ntZyG5/3zEZ5ejf0E5+ud7QnR+OaLzytHPvNa7YDW6TahEp7lr0WFuVY3QXl+btwbtF65B20VVEtosrkKzkhUYfef9+PaHXXh38xakrroRLea50Lq0HK3LKs1QgbalrsBhaQXaLamsM3SeU4UuE8rRQ4Mm47EV6DVGxT01gPYugbOpAtA0E0AZcykqVzOlNZ8GBaATkNpo2HFnoMpYd3wYaLAAKnpTYaD+931QX+UslqXXrcN6IkoAVNlm1EflTmoGapgifBM0qxeAshFU0ABKA0766cW4Lm4hsi5U1nbumsOK1jRdHNcp9pvrtgWIucEAv2kkK508y7tkKZnJQJUCmopsWv09SyXr0jdq0LLGKWFD5cuhScYg9DXsiLFlykfv+OlbbsvHr4pSbNcgrUCTSxSDB1Cth7K+Vx+fKABlXRJA084bJ0sfucQxEAsVBtp4BKygaT3W4BhMnNFoGNIamQDafLqwTAFMrkc3A8/TOsyR4DQBNHHoamGaMXnlsIbY3HIQSHmtX/5q9LiGDM8/gLpBlSx0YRWEfS6qRLtFVWgxswzzHnoKO3fvxsuffIm+i8rReoELbZe40G5pFdotdaEdGWYgAF2q7m27pBK1hfZL1qDL7DXodjUB04XeY1wCnj3IRseoQACNGVGBpD4lSGt2vaxcUqxzCgRAm08WEE2XjU2mIPOSCbAfJwAlgCnDp94R6bcA0MB7H4jBN6oYyU1y0Tr8FAbQ5rYOSGpcXwbqrYymjoVf4UwRn8vgGkqUyVZRPeBx3V+m1CBVn1h9Ojl4PWp90vZ374kGUCXCe8CTQErmqcFUjulS02SkG0AbIsITcD161GLYzxzlJcJr8HTHAqJco64YaMLQ8sAAaoJqn/zV6F4bA6UIP7cKFOUJoAROAdJFlWhbsgx3vfIWdu/bg3teexvtZi9Hm0UutKFIXspAIK2NfQYHoO2WVKHznDXodo1inARNsk9hoGNdIsZTlI8dUYGEPrNlNyjFODXz9MSZTadCQPSSifJJYeo3vdRYfsZGfXSgvy0D9cYKIU9CrrioRQFoq/DuiDLOVLYZ+rGf3Es5TWosRqQmOB4AqiulPvFvDaD+QO5EXjvRAJpuMlANmL8GgIoIfyIAlDrQCa7AIrwfAG23cC1az6tE9JIKvPr51/hhzx6UPPJnNJ+5DG0Xm2zSBNCA7JOsNEgGGhhAy9ErBKDKDcrHiGTFBzcDPS0HIQANoCi2VpjvcQhA/c/MvvUUzLnoQH0AlEBK1im7FvGYor3JQLWIfqwM9GQC0DaL1qLZnHLkr70dX27bLgak3BvuRIvZK4WhUqcphqFAoru+flwBtFyMSGSg1IGGGKinz4cAtAGgaQWDEIB6OpO1XhpyHAyAElDTzz++IvzJBKBtF61Bs1nLUPLgE9i+dy9e+mQT+i0sR+v5FRYA1aL7setAQwxU61j9x7JjPn2+A+BECEADVEygCvO9HgLQIAHUvShA7RauHZitMXc8Tz93LDIumYD0SyYg42IVMmVX9QlI4zX+R2d3GpGiaAAaBmdjFfM42MBnacGX58WIdAUym08TdyVuZpzenlvKzbYELrGcDWe7mUjuNw8JQ0zjUW45YiwhNqcc0eZ5n/xV6H6NK6ARSdyYfHSgbRdWof2sMqx75S3sPLAfN7zwCtrMXApeFx0p3ZxE91mBNmXlx2xEEgDVRqTRFeg9ugI9qQcdUy5GJa0PjR1egYTeJUi/fDIymk7xGzIvnyIuTmw3LmOlN4qDO9B7Be9rvxsd6KkuwjcLoxEpOEd6XxBs+Dm39VcuSlpZrpavcft//R0m5W/mDDeXk4kLk9Xoo92atMO7cjnydW6vr8Vef4PIN53g9KPa0d+aT31MVyq1w30w9UaPBQeXADYZjpTGI5DcZIQcpzYe7okbD0dyk+FIOm04Ui4eh+SWE5HcYiKSm09CcnPG1yK12SRZC57S/FqkXHIVUs4YgdTTRyL19BGwn87jEbCfVjPwOu+VoI8Znz5SAtNIOW0kks65EintpyCp+2wkdJ+FxO6zkNSNoQSJ3UqQ1H0WkrvNQkK3mYhOmIfo/JXoXaxCn6KVYOC5Ol4lcbfhy9Hl2gp0mrcG7ea7aoZ5LrSb50KbhS60WVIpoeUCF2KXVmDDF9/gu117MP6Oe9Fsdpn5P3WbyojUpsyF1mUVfkObUhfalFZ6wlJ9zOvegbrSjvMq0GnSKnS7ajW6jy9H16vL0e3q1eg23oyvKUfvK8sRHV2ChNbXI6XVFNi5NLT1FCS3ZjxVQmqrqbC3mQLH5ZOkrVNltU6xOMDbI3RchNTIYqSYQcZNMLuEhXEzHeUBE1y/K1SLZfwQJO1Fo/xA9YY7gRzplSHM47roTRg0A01pkoc24fykx+mnkh+oxY3J1gEJXMrJCquF7Qhj9FmuZb0mH9OiSxLT8FP5ga55VXBUERKNbAnpdLrX6dSSL1oYdRqqYfm5AE+w89s+lnP9n/oKpJ/lau7vDak0ggNO9VVMfpo3zcYvMXre7z42vwnEicJdLl0+P7Eszzx/LLLa0UVoBhwdZ0pwdvDEzg6zYO8wAymdpyM5eSHihpYhJrsUMdmMlyI6u8y8thRx2aVITF2AlC4zkNppJhydpsPZcTocHZn2LDN9HfMds+DopEOJeVyC1M6z4Og8E85Os5DSaSYSe5cgPncZ+l25Cn2vXCGh3ygV9x21Ev2uXIH+o1agz6iV6D5hFbqW0DhkhjkudGIwzzvPcYGh49xytF1SgTYrKtF6hatGaLvchTbL+X8FWq9yoeUqFy5fugJFt92NTTt24s1vv0WCqwpNl69Gq1UuCa1XV6L1ahdar65Aq3IGF1qtNoN5zP95rXV5JVpXVKF1OUOld6gwzytcaLOyAu0WEuir0HleFTrOr0QnCVUqXlApq6j6Fq9AdNYSJGQuRUJmKeKzShGXVYoEicsQl1mGpKwypCQuREqzSUi7cDwyuFHzRVcj3Yzl/ELPefpZo9UKo1rHhpJaOD70GKmr78mSbfcY8B0fgZeWaiLkGxNTrDjBY8EZbicpSzmzA3wT6ZTwA22MpkY7xEdy5yLt2F7/SqpRaX4AwX/DKZ9S+S+qGHFhgzGs0ySM6nadLP9UPqfcUcl79lL3cwUOHfpHSFBrtbk+3zv/itl6X2N+pRH9pWteY4fjfeob5JpFBo7pc6fYc813yft0voKYYMgYZEK6fCIyYpciLX45nAnLkRa/rGaIW4aUpFLEDXehz9Qb0WPaGgk9p1Wh+7S16DV1DXpMr0Tv6WsRO8KF5KQyOJhOQhnSEkrN9Ji2GeQ96n2OxOVwJK6A0ww8diTxfDnSE5bDnsjBvwx9p9yArkvWojNde5ZUoctihjUS1LVKWTbZflkV2roq0brKVSO0qTSvVbrA41aV5WhRVY7mfkLLqnK0rCxHKxf/r0CzNRW4vGwpyl58Hrv278Vtb29EyxXL0NLlkvuYRovKCjluWbUaDC2YfqCw1oWWaytrDS3WVqBFlQstBVCr0KacgeCqgbcKrV1V6LR8LXpOViuU+o91of+YSvQby+CS0HecC33HVSJ2bBWSclcjudMMpLeYgkx++K7FVKS3nKqOzZjXB/D6hdfATpeyWvpwQ/6rez/Q4HfNt+KC8un2jA3ZrF0+6aE2VG58yjFQQ62Fb2a0RXzkwN8IQE1gJPMMy8aAy0Zg04at2L/pMK6KmYl4m8mM/XYSMl0CKJeUmtvWmbu/+Dac9VwfBwJQLhDQHY/31gdA1ezt6ST6XYzde6sGC6D8kuMfJsIZWwp7/HLY45bDEVdWM8QuQ0JSKfqNKEfXaWvQaXoFukxjcKHT9Cp0nepC52kV6D51LfqNdCExqRT22GVwxC2DnenJcc10UxPKkJy0zCukJC1DasIKpCYshyN+BVISytA/qxQ9pqxBh6VrzJU7LrRfXIn2S6rQ3tQ7tlvCa1WyhLJ1hcsvcLVyKVATsDMBjwDqF+SqVqNZFQG0QuLLXSvRZ/VKvPj5F9i2Zy9GP3APLiWACkCuViDsBssKAVMCas1QLuk1X+tC8xtcaLE2cGi51oVWVS60qKhAi4pKtKxwoVUFAdWFluXqvIXLhfbLq9B1cjm6j6N7E4Na6kkfUdGTjnPJSqY+41xIyFmF5I4zTCd7E0AJlhKmIb3FNKS1nIosbq93wTWybl731eMV1w2g/F5W3X6q1r6vj2UTG9OnNS2MTJTfRBqKNrZufr7KeVIz0DDYjDA0MhqBAJoYcewA6gaIcOpQPCBUZ8Nyr85GhehjZMB17a04sv8otn6+A8WdrkES9x3l7vF+0kuLGi4iAHeb57Z07hVSfpyOdQNa47oAVMpA8d/Pskzfa7ICiTtVmctQre/Rx+76CQJA1TZxhXBcNhFpsUuFMTrjypAa7yfELUdCUhn6DS9Ht2lr0HmaC12mutB1aiU6TauSYw2gfUe6EJ+0BM5YgucySY8g6i9dgqM/AE1JVKCakrACyQKgS9F9ShU6LllrrkuvFAClkUVAc4k6b7+oCm3KKtHKVYnmVa4aoWVlBZpXKgAjaBJICZJ+AVTuc6GVi+msxh+WL8HsZ5/F9h9/xgPvf4guK8rQtFKBbItKX7ZZIcy0JngSUM33rQkMnBpUCaBk0q0qKtwifqvySgHRVuVV4DHZafvla9Dt+gr0EPAsV6uVuFZeANSFXmMrxem+91UuxOWuQlLHGWJQ4tJOYaDmJ5g1iCoAnYqMC66GnQY9P2PjWK7VG0DND8bpfh5sLEu1LQy05meNT2oAtZkA2hhqP9DjA6AaJOoDoFzmmRKej9QzcvDWc+/jUPWPeOym52QLO+o3FSPUHYU7QSlw5jeNEqOycV3KXExOXYSEiBzZoDfoBgwAZJqBWgHU7QQfAEw1gOp1/P7yoOtGdEB1dXr5ZlMhnCaAkg3a40uFMRLwrIEMMimxFP2Hl6PHlLUCnF2mEjgr0XlapRtA+V+/kRVISFoMZ4xinKmSpv90BVQTlyGVIcESJ5SKGiAlcTlSEkoRk7kUPaZUosOSKg8D5bJJslBhohXosFix0tbLXCZ4+QdGgmELitiVKvDcnwhPoGtWpQBP7llZiunrX0TVO28hYU0Vmq1aLuK/ZqBM0w2OGiQDxARxMlANlLXGVRVoWVFhgmalMFHRrZoMlCqEdiuq0G0ygZPWecVAyUJ16MNln2PL0eeqCsTlrkQSddPmt+sJmgRMBZ4aUKcgi9+3v3D8KQ2g8qljAdDsAB+VO2kBNPhPevgDgmCu1TkDyrp4LuUiIHL9fBZmDV6MAz/sw/dbfsD42JnyYTkysbSIEbKmnlY7gho3huVxnJGNcdHTcHBLNXZuOogCYaxDZQPXoPIYAEC98m4y0LoAlIzUvZt4gBm5vgBK1yT7HyYgPXYp7PFK3LYCpz5WALoUfUesRo+pawU4CZ4U4Rl3ExHeJf8pAF0iYrswUFMloNOyxgRQsk3/oQz2hGVITihFdBYBtAodlqxRgLm4Eh00eAqAKvDkrkkEUIrdwYJZoPsUMHpAmLrQlqtXoNnypWhWvhwtK6km8K8qCJSmvl4fAG1JAKUBisyToGmyTnVOdqoYqFuEH0PGqcFTrZ3nOdkoRfh4MlATQDX7pA40o7kCUR1nElQvPEkYaJASn++Y9DDQQACqccoDpMe6bV2g5+u5nZ3OWPDfhfctfF3nXiAUkG0NAy3t3GnJfm4e3n3+IxzYcwBvrH8XQ9oPR3KjIbLFnXJ3UPpObqGngZSi+8SkEuzZug/7dh/CnPyVArrW3Z1qy2cgEd4r7ycBgFKEDxZAe06xAChBdGoluk6hLrRCDEr9uS47qRSOmGVwxFKvSibqH5xrB9BlsCcsFxE+JtPUgS5ZI6yTzPPXBlDNNJtVrhKxvxlVBJXK0KSBMdj4RAGoiPA+AMpt8LhzkwZQEeEtDJTsUzNQd9xiKtwAyo2t9a5oltirDwccf/7VbPUW4Y8RQE/BT3qcLACq2GRvw4GVV63Fvj378f2O77F7xz58//lufPDSZ1g+di3iwwbL1nf2cGUwEhG7USGSjBwMbTUKX76/CfsP7Mfa6Xehr5H2+2Cg3OMzQjHQYwNQGpEqBUCpH+0nALrUZKDHCqBKBxqTWaaMSEvWyO5FWnTn0kklwmsGWnncGKgVDAl46pw6VAalX6X+VFnf9f/Bxb8lgAoD7TjdY0Qy9aBknmSkWi9KAKUOlF4oSipTbkp1HQcDrCEAPY5f5ayNwdX2XzANRV1mjDEQuR1G4ev3v8XBvYfx1F3PYtGoVXjpwdfxz5/+i8+e/1b26ezD7yhF5SMpPE++xslt8rhaI+3cQnzw0kc4eOgQHqt6Wj517OvGFCifJzUD9QHQ1HiPwccqZguDjF2GxCSLCC96T7JP6kHXiBW+03QamKrQV3SgFOGpR1Vp0rLvmybP62KgtMTTiBSdWYrutMLXCaDHT4S3AqjnuEKMSmSjWsQXEHUD7G8LoGKF92GgWpzXDFQDqGy67GNE0gBKfai4OF1wtWxo7g80gxp/AZhpCEBPAQCln2NyWC4SmwzFKw+/iUOHD+LzN77GoD+MQBcjCX1sDkwdMB9XxE3ExMyZeNz1DN556BPkdBgJ+1m5SLLRYFSIuIghWP/QBhw6fAjP3fca4iIHiUogEGhar/+2AGo6E8tnTnyO5RoXJBQi9bJr4IhZosAsrhSpfoI9tgwJiUvQe/hqdJ+yFp1pPJrqQpcpVehMAKUIP60c3aZWoe+IcsQnLoY9hq5MpUiJW4LU2KXe6caWIlX+KxWAJEjWDKVIiS9DUvxS9M9YIlb4GgDKHZBkFyRlUOKena2W04h07DpQD2h6QJHM0RcwFSOt3/tOCAO9vhzdxpabSz1pka9AD+4fOsYU4WVHe5d8yiSh4zTYm14PZ/PJXsFhnjNOazEZzvOvQjId0cMLkRJR6I5T+XFBa+CKP/lqgX+R3RdsQwBaF4DalFKWbkyRhnKkT6AjPVcM1KrP4FpctcJGO8X6i5mGV6Pw+0fSgHReN7fyDy9CXyMdt855ENX7jmD3d3swyTkLnYw4RBtZGN5lPG6Yfjs+e3UTdny8Ey/c/wpuXXov/nzPs/h64zZMTJwtnzCOMQbjqdteQPWhg3j1sTeRGDVUPgnC3fD5ETk7DU8ByhQMgLIsXH6pNlXmxsreQbsz8cNdsocjN4jmjvZea5jVuaxSYv3xI26NR8Bx2hVmGAnHad7ByaWVTYYjueW1SHQuRUxWGWIzlyEmowyxGWXumMcMfQcuQc9xq9GlpArtZ1egY4nLHXeYXQGGziWV6DF+tdwbm840ShEroQyx6aWI00FfzypD9MCaod/AMsQMLJX/+g0sRY/8UnSdVYm2y2oukWxFo9GyCrRaVo6Wy8vRYmX5cQHQZqZ1XrsiCShbgFmzULpGeY4VM63tnOnVB0Bb0N2pgpZ45bJk9QcV96aKSrRdWYkOM1ej87Xl6DKpQkLXSeVg6DKpHJ2vrUDXSRXoMakCva9YiT5xsxDXawbie81Egg69ZyK+9wwzTEdS7xmI63gt+jUbg+imo93h/9h77/ioynx/fBIQ1F1d9+6qCKT3RnpvUzKTAgktld4JCaGElkZ6nR6sKxYUFWEVXFfFuoqCiqAui42ilJBQXOu6q977+9737/V5nnNmzrQkKNyVe/nj/fo855kwJKe8z6d/Ej1t18me85E6fi4ybqRxOsMgUMp6oXue+pE6hXBvC8+Umv0ML8m25wJ6Bpg1SKPB6XvZd1urkqgROxsqN2oa/NypHyiN9BDci7/ofqA2BDoanm5ByBg9ZfCRHuSPY6NxeSUOIwwiDaegkahWaGSlUFNzBBqPQSfcrQQ0+2i1pg7nT57HhbN/R9tSAwJlSViUvAbP3PMyLnzyFd5//gO0zutGYexM1M1pxetPv42B/j58d+47rNO0spEhSbJcPHHXs/j6y6/w4hOvIPYaFaZ6LsD67CaUeCxgY3758Lth3DxOTBrmhxSS4CmKbg8iRXYTUf4n1SWzen2qh3cCOlcUrb+mlM0Kp0YfuTeXI/cWAbQWkHNLOZS3LEF60gaklpsQvdKI6BUmRBFW2sroFWZMIC2TOrP39IJyEP21lIdogp8odSYEas0suEM/G1tlZt8XW2VETJWJY4URMRJEUSXTOrNTRK81I2odR2idEYE9JviZ9PCl1CKKTBOomojyJAlG+kwHqiByzMu0apHONEtne2JqEyNQMXmdEZmQyG7Zu/hjb4MeXmY9vDbpwaqNevmajm0hpDpRMr3ByCFE/4nQyRdLmQD+VPLZZUBAhwmB7SYESUDHAR1mBLeZENLOB9hFVekRs8yA2AoD4pYJENa0F1uhR3y5HvH0MlzUgwQ70F7c4m7ELulBwpIepM/uRErAEmTSvceeQZo0a30+s8RnU/jMUmpJhOuAGWyPpetZelM45wF6Buh5Z0FgccS45Bmj55LNRLpWJNArpaGyDYFeC0/qSE8EOlhSLhEozYl2kQc52D7NkKcZRtQBns0Pd5uGaJkK92/cju8+/yeeeWw3Vk5bh+e2PI/zfZ/j0F8+wjLVWiSMUmB1Tg3++uJHOP3xGZw49SkGzg3guftfRuo1uWxaZ5JMgyfufAbnzn+OA/sO4qWte3Dqr+fw9cf/Qm1eBxuNrKLZ5ZaJoBdJpIK9TwF2AAAgAElEQVRWbklBstNmpfs0T2mwBiT0mYJu4lFlyL15KXLHViL3NoLQq1MyioP6eCpvW4YkeQ1i1tHcHyOCG0TQkDXrOqjBjICNRvaQ+pgN8NykgzcRAFXTMPC1r9kAvx49gjbqEV5nRkiDCaH1Rla/TWuq4xbBvr/ZxB/sNltJD3swNSZuJ2lGYCeRpg5et+vgebtWAuux1+1aeG/SwWsT5XUOPyfTGXla9/SgSh/S/ixpQ0I6ET8W9y9OeusNAoHS36TlYL87/f628CRyZRVN4ktAz0pL6Xf0oEIAsyRp36ADfTf9ziIsRCsQrn+PEcGNdC3o+pgRage+34uQhl6ENfQilLDREWENZvZ5WOMmxK01ISFiKTJlU/gLfJBnmMZ0s2dFUo1nY00KNfXUX2Kwe53zwTSmNJGP1v476FgkUMV1nEBHu12xBBrECXSwsac/k0CpNyDTQmXFSJVNQqQsDXMSl+DwgY9w9NBxHD34KT49egLnPz+Lp+58HoGyGJQFLMHf3/8Od7bfj2eefAFn+0/i4zePYpLPHKbB0kVKlqnx1B92Y+DseRz76DPs2vQMqgvqUei3FKprqVlBGUuVcnYBh7U3BIFKXR5DvWAol9Sigd68FDlsgqbzKZoTb61A1m3lSMrcgJg1fAJlcJ2Zj7CgMRb1JgQKkgasBdbrEUimMqsL18LLrGMkQNqgt7AmrdC324CAjXqE1JkR0GBCgPA99F3i9/E1ny8USOWZDNQKzoqAVhN824TjNtI29fC6nTQ0KcHQnkiogvZGhDNIdZGVHEVCGkxycrISKBEl17x/uuSmuJeZSjklLwCbv4v/jZ70wujl9fri7y2+HMhNQHu8koon21PCPeWJErmzfFEh2Z7Mfm+dAV4GA3y7TQikSaPi0Dxq2Se07RPnQEmvFb/2/NqJ+0zSC7aOEzFZEjETylmDHmf5zLQn3pvDIVAyu1UjJMqC2yADF92oE5QrAhVHelxpHekdNNDLR6DkM6Q3X6JMwxArU2K67xw8WL8Npw4M4NCLH8BQeTfyw4qx97m38Pcvv8I27S4kybKQO7oUmlsLsbqwBn0n+nC+/wKaFmjhJ4tDmiwPCtkUJMly8PR9L+DrL77ES0++ihiZnJn2ZK6Qr1E9qphVa1CPxWERpv3F/gkE6uwmFTV0NodpVCnySAOlBscSrVMcxcHkmEoobitHMhFotQlBDfQgmRFSa0IIPRgShNaaEVhPXYuM8Oo1wmOTHkwzIi3UzNd07G02wq/bgKB66oBkZt/HHjL6XvH7hO9n84aazAhodQQFi6jqiD6jdWAbNewwWAjUu1ckUTKBdQyi6cuqei4yKi6Sk40UtFiq9GF+x0ugeYpaK6ttFwjU9oUg/l2i5Jq9Tb2+4JsVCdTysqDyVTLz9Sb46E1M0jGRJtvT0drECJRGNfPrwq8zuxYSQhWvFe1LId0nEg2o51ps7Coj4iOWIV1GViCZ8a4b4tAgumHFBtytJc6u7ne2PwiBstLr0TQT6YokUF7KeQ3VwrsFutRAxbJGOqmihuXqhIkkIZVy2WRMvmU22ouNWKZZhafu2I3PP/wKH+05gbaFemTdOAkRskwofjsVRw4exdeff41N1feCckNJU1X9vgAf7zuCgb5+DJy9gH0v7cft6/+AOTHLkDFiEhKIQO9/Ht989QV2b/0L0tyncif4tUWgKqZs6qg0iDkyJKleQgIlV4aC3BiCCc86xLsg0GyaD37bMiRnrEdstQFBDUR8RobgeiNE0B5pppxAyWQ3MvLkmif3RzJ/HpmS5IvsNiBwo449ePRvQghMw+Hfyf8P3n8zqMkImn3uCBOChN6a9Jlvp9ARSTDhyUznpjwnTyJRpq3dTiWS9LOXwIS/TARK2iz3gXIN9KcSKJE9C0YxbZtMdmo4QmTJCZ9pnXo9vIR9CjiRWe9PL7iNBhtiFAmUXnzBhDq65pxk2Wc0H0qYEUWSEWmtYF1sNCN2lQHxEUuRLprwbtwSkj6nljUjUNIYB1c4WIBJMiXX8u8l7gFOoMUuNVD2f1yRQ+WYBurOmpeOcBsFD5k/MkcXXBYfaIosFwsiq/D9Z/+NL09+i33b38H6SU1Iv24iYmUqpkWygFJ+A04ePYWvLnyB5lk6kKYaL5Pj0e4n8OWFL3Hk/SPYde8zOP7+Cfz41X/i/50HNq98FDEyBfY8sQ9ffv0ldt7zZ6TIJiGLRfecmw1DEuZl10ApiDTDooHaaJ1SMqXpjIIGGrVW8HlKHhqp5iESqH+nAd4mK4GKxMlkLxGokRNog14gXauGY/NAkkuACJsRqNVsl5rwtA4STHtf5gO1N99FLc1ODmLCi1qbjabpUlvlJMza1Vl8oNz8ZhFxoaRSNJlF7XI4kshNNOGtGrTd3yGa9IP8Pda/w544ec08J1FOqFQOStoo9T8N3EjNokWSFF6Wdtomv/5mB6KV3hekhQZtNCNmNSdQ6rPrjOhs9kg7HUaJs0igNv9WQp6WfcpgsX+mhGNeYXglTuWUEqhsFDzc/JFxmQiUTNa0EXmoTF+P8rRqZponybJZQClbVsxSlkpC5+PMB2dx6vQpfPDuJ5gbVYlwWRoqVdU4d2IAX5//Br1r7kWoLAmTx81iNfNUubQoZiVSr5mIt547iK+++QbbTU8iQZY9vHQNFxfV4WJfQg2UbiruAx0mgY4pR3LGBkSvMTFNUUpy0gfFKYEK5ruFRAUCpebEgQ3cB0p+VNJWbL9LGBfcYByEQMkvymvfyT/KGoQwE94FyYhkQ3JYhDOY35N/xpuNUEqUYx36zyVQpg2are4Hq0vCyd/Xy9vpWcnS2e8+GIEKZj0z4SkQSD5Qk40P1EqWRJhS0pSuba+j5bo2cAKNYxroL5RAr7iRHiKBuskw0o2nMWVeO4w0pp8QhScfaLaM0pZyQBFzIlS1jFIoyB8zFQnuudjS/Dj+3n8Bp06dwp7db2KyTwkUNxbg8J5P8O0332L/s39Fxk2U1zmZmcDkTyUNNVWWh3T3POzZthf4L+C++scRQwQ6hPnhQJKDkem/kUBVl5BAmQ/UxLu7D4tASXtxqYFeJgI19cCbYKd1iilLtpJ3aWJ5m6IfVOwUL+kgP5jGyYhWyN+0rJnmSr5jidtB+gKwX19yAhU0UIuZLtFExZedaMrXU+d+7oJhZrvoxxYkI96rBApXDUSk+xfXTMRCoO4CgQppTIMRj8QHalHPnansTva401pMgSLnMxEoaWPTkOaeh9d3vIUzZ07j5IlT+OLzL/DJ25/g9pZ7cOzQaex/+q+Y6juHmeYat1JkUaqQO0+PoLzUdLfJmB9TBf3iu1E8fj4y3Se7NBkuijhFUv03EWg2mfBEoJkbIJrw3N9pq2mI2gmZfDYmvAsNlPlA7Ux4+ygvi/APqoFazXoWjacEedPPN+F5yzmrf5QFiMTEdtGnKEhe504VRtY0JjLXuVksTWp3ncLkyrznaUxiFJ60Tltt1MasZ13pnWmd0r3haKDcT0r5ooENFIUXtU1R9iKkVlzTPWBmP0PXzqkFwTIzJCZ8+FJkyKb8Mk34K1YDlbljpEySB3qZCFTJ8kCJQCnhlqc8qGUlSJNNRP74Qhx++yOcP/t3aFeZcH/7Vnx7/jv88M8fsPPu55D261ykyLJBvQMpKVflTm3jKK+0GMoRVBVVglTZRETLsiAnHw9F3kXyuxTychHo78Uo/DJobqtwxJgKqMYsZWlMkeQDrTcyv5hNqoqYeiQEkYZLoAENegSxyL0JwbViCgxPnaH0mcA6IwJoaBuVYbaZOFop6i6sKQe0zcCCSzSojYJILA/UXjtzdiyY8OTvtAdpnnxPSE8icjQa4cvGe1AyvhVE2HTsbzAiQCgSCNSaEKAzuwB9RsUEvKCA1s5hhh/5VM00zoPGenB4U3d6B+jhQ6a+ncbseDwYgQo+UCGg5Neth39DD/xruxFoh6DaLgTWdbH9gJoe+NPcqHrDICBt1oiYVTokhFMi/VUClWqd0vVP0EApCu/GSjktifQ/k0At0XnSLtm0QKo8Im2Tqo/4BD+luC8rQrxMhYc7t+Gbr77Dey8fRsa12YiTKVEzuQ0HdryP9XmNiJOpeKXPyCJkjaRpnUWSuUOl0Iwg8MFXKqFkbDgEynLTiByHACtPY8QtTiC0l8LfSCWagouDzoMzcB/oNChHz0DO2ErkeK9CttcKZHuuRLbXSi5pLRwrvauQqK7DhFojAlr5bHNWWy7WmAvSv9kA31YdG4ZGaUIsciykD4nakijZ2AmaSNlmhB9NnGw1wL9VD79WgyM6KO3JxNFlgh+hmwJRPBhFKVH0wPv28NEaLPIvVCJZ1wK5slxULRt3QUPg6N/ZoIe+hw+IoyFwNCSOpmcGNlE9PZE5h3WtQ1CzHmH1ekxYrUPkSh0mrOKS1lJE0WeE1TpMWKMXIF2Le3pErDEgdL0eQS28esi/k14QVMPP08T86JgG3XUa4d9B54MCd0Llkr3WLx7T5wSmTQuSNYOmNeWK0nfo4Gk0INjcjZR7NiL93jpk3LsBGX8g1DCZeU8tMv5Qj8x76pHxhzpE3d4Gvx4t/Lp1tueSzi3tE3Q6RDfpEB89TAKVTYeGnjEqN3bybNDML1JSWLmnZPCcOElXKnmONH/G+HPKn1dWMj5SWF9TAvnoqcJQOSrlpOA2D3C7OSlJl5LepVz/BAKVgX5BqoXnBEqzhwZJXRiGCS8SKDPZB52ZUspM8lVZdfjizFf4euAbrC1oYrXxKlkx4mU5SHEvQKrbZKjdy6Bx47+Xs64z4t5wSFP6M/TveM0vJ0Ap4UvXRPhUPcVTuLgWLS3TpH3WjZ6il0SgQ4D97HUzkee9BnlBNcgNWo/cwA3ICdrAJK0ZgtZDGbQGSfnNiGwxgyZKBnSZENDFa6upvppBOCZSovEWVHo4WOoNVShR9Qv9LM3voflEDAYD/AjCXB+mhZH2ZxZAEXwCaWZmswATfM0mts8qgnQ0C8gR5Ifk84L0fLomkVOzHYQ9mt/OXxIGBK/XI2x5DyIqtVYs5+vwSgMmLDcher4e8ZN4j4CkXOoL0OGA5NwOJOZ1IDG/C4lTu5E4lWQXEqZ2I16AuE6Y2onY4nZMqNQiZIMeIesMCFpvQNAGvQMC1uvh26iFH2nKUm3VWTd7pr3q4U3uACnY9TKyKi0PsxaR97Vixqs1WPB2FRa8VYEFb1ZyvFWBhW9WYP5bVVjw5nIsfGsl1M/Uwu/+Fnjf3w0fB2jhc58OPg/qEdlrQHTKEqTKJrMX+/BccK7KMymPlHJFbbNcxOdQKql3L8UjmBJlce3xZ4S79ejZm47MkQXwc4sQxhpTLbw7ZKwW3tpIWSaQ6aUkTel3XWEEWsKi5ebyzfj65D9wR/V9rBGykoZMuZeAhk0pZSXIciuFRqw/vxTmuOQ7OIGSNkk+VVsQCdrsWS7+IAnIFGG3+x6HY5oJ71YI5XWzkOdDo4prkR28AZrgGqeQB69BQkEzIlqoukYPfyJJGslrB0aepLWRhuPMbJbsefZq4WmmpsNapv1QXTobicESwHvgZSLQXg+8zFoX32eE1yYOb5JEGJJouH3ghtfj00hhIwI7KThFpamOCGgyI7CxF4FNZgQ39iJ0jRERFQZELnNERIURURVm1p4vNbsDCkUnFMoOyFWdjlB2IlPViYzsHmRM1CJ9khZp+YQepE0SIKzTJ/YgeUo3opYZEbLOhJC1BoSsNSLUCeizgAYdAmj8MXvRGOBLPlEnBMoLCZxE8anaSSDX8b1diHygDjP3VWHRu/Ox6MAcAXOx6MBcLH5nLhYenItFB+dg4buLkfX8Wvhs2QiPLR3wZOgUZAc8HqJ1Jzy3diHijh5EpS5gTXaGR55D3OfDTLbnCgvvoeHs/yWFi1x6mSPz4ecWjmvdrr9C5sKzINK/UwMtAdWNZ99YgkLfxaxePUtWjGzWwUgkURoRbB3SJtUeL8V62AR6EZkHDoTphFCVbtOhvH4mcn3WQBNSy4gzO7gGDgiqgSJ4LRLymzGBEaiOzSBn5i+ZwHYgUqVGHYM9qESuVHpI5CmWGIr+Ojq2B6VAOSMD+z3yAzKt1kk1EAVkeNkipRsZQPPcybdKmqY9/IV9IlIi2LA1Bkxg5GlE5DJbTKgwIKpCj4TZWqTmtEOhbIdC1Q5FVocjVB3IzOpARk4nMvJ7kJ7fjbT8biYz8rtBoD22nqRF8tQeRqCh64wIX2tgIE3UAWuNIH+yv8HE/aOMOJ2fM5fXhZW68vSu8b06THigDjPeWI6FBxdgIREmwzwsfGceFu2fjwXvzMPCA7Ox4OAiqJ6vhveWRng82AXPLV3wfLAbnsKaSJXg9XAHJtzeg5jkhUiXFQwdRBqGssA1UJoQYauFOj8eikCnMgL1dwvDtbLrrhIo8/OROTuoCV/CRiiTlpkmo4h6GdM6mX/FfQay3MuYn5O30yJT2/mF+jkVRoMRqA0RXnICnQolmfA+a5AtaKAO5Blcg5xgTqCJAoH6aXUIoABDjxF+duCaKXU6GloDpTxMkTTFKDc/pn07kG+u1+gAakpCJqs49ncwArXkZLK5QTxRnEx0e/Kk46AmA2uaEkTNNBpNzB8ZJRDohAorgYrrqGUmNqY5JacLmSpCJxSqLgdkZnUjnZBL5KkTtE9RC3WUidO6Eb3MiLB1RoStNSB0nQFha/UO4BqolUD5+bhIAiXrgBqt9OrACbSeE+gBewKdi0X752HBO3Ox6J3ZWMgIdDW8HmrAuIfaMZ6hA+MfErClC+Mf6sL4rZ0Iv12LqJRFSLsoE965Fsq1xmGWewoVgPQ8OddAeVCZa6CcQLnf0+1KM+FDkDl68s+uRBq+D5Sc0PRmKoVqJGmZFE2nBgW0L8ybZuY8aaPktC5mTUH4LCQaQkeR9pms16CC+nOyYXPkJ5X6cKVrx7flxRHoIM0SJG9sdqMIQTJKt3LEdFBGgvL6GWyud25wLXKCNwhESua8FTlMA+UmvKiBWrVOChJY4d9N5rFQj85arg2iibLmF9ZUIZFMnUoKdDgxR0XyJDOeItM+Zkof4pqmaL5btU7e3IOO/XSUakU+ThMCKDhkB9JASfv0p1nyTWZmNk9YZmTaIJnUUnAN1IjE2XqkZpP53gW5oGmStikFmfWZWZ3IyOlCxiQi0R5BE+1hZjwdi8gQNNCYctI+yXTnflDSPkOJTMmkF9Yha/UIbNCyTAAWoe81wNdGa6eXD51DerFJIZrytCcE/W4nAu1B5AO1Fg2UyJJjvqCJzsb8A3OweP88LDqwBKoX1sBnSyM8H+Tmupcgmen+YDc8SCt9uAMRd3QjKoVM+IJh+kAHv9+Hq4HSuBHSSl0RKMUSyCJzTaDi6CGrL1Tqt7yU64vzgcq4+U5sP0p2HbzcQpBxCQg0i6Uo0cknUuSRuouVnETt/q1AoGygHGtLRxVMk6H6dSEKxs9GgixPaJs1C1nUum5UGYt0U9eYHNZQxHlqE+tp6MzMpk4zln0KDk0F/9sc38rsjUxt6tyJHMlBTo5xakY7GIHOYgSaHVIDTcgGZAfVOkEd5MFrEV/QhAktvfDX8gg1aZ+MMJkJz7VRCiZRBJtNoqTEbkGjIa3GwScqpN1QuhCRJiWnk/l9MQTKCYF8nybm82M9QA280xD5O0WfJwWUiDR58wwiUAPzgXINlLRQWwQws74XJMlPGrbGqnXam/B0TNopTRlNzREJlPs/FUwTtV0Tgabnkqku+D7J5+kEIoGKGmi4RfMkLdQWogZKPlDS1OmF4iMQpncv7RHEZiriS83WSuCfGzD+diM8yAd6v2jCE2nOEQh0HhbvJ81zjoVAFzICXclNeBsfqOgH7YIXM+E7EcE0UKsJzwM4jvcy1xLJIhQgUQ5EDZIpANRZjaLowzLhiUCLHTRQ3grPSqD+buG47oox4cX0ADci0GsHJVCLmSyJwouapnhSHeWlJVA1kfGoEqiunQml2wwkynKwNK0ae3e9g+PvnoZh5T2QX5ePTFkRstmQrVLQrHn1aGpkQORpr51yl8BgBKoUSXQYJjzdDPQmZfmp7oWgf+sc06BwnwoF84GuFvyePJBEwSQp1MG1UAatRWJBI8JbNsG/x8z8nmTCE4FaJGmfoj+URYM5aRKJ2pKnoAEJJrxIoESc0rUNkbrQQEkrJa2TTHlfIggiZTGIJBAoJ1HSPrnmSeRJYFkEZMI3mmxB0XdGqCRNCG40I3wNDx6RFuoIE8iEJw00LbsdKkUblMp2KFWdDiBC5RooESiZ8BwUTHJAfg+SBBM+dB0ncR5AsmqgoiZK+1TVFUDVTL0meG0iiC4P6Vx52rdqmvy60ItObJfHq568TN2IeKABZXursOiASKCcRIlMRX/ogncWYP67i6F6oQo+DzbBg4JFDIIvdEsnRG3UY2sXM+FjkhchXTaZKTe8Jy+1oxNg051JmmniimSnQzMMAhW5QyRQ4g0pd7C121TIR+bjyiZQ9yBkXuvchBdPgrQbkyNh8hPN6rxZvXfRT9ZA7TVWRp5MiyxDmmwKkkdORO+qe9F/fADn+8/j1JEz+P6L/w9P3vUs0n41CQpZMXJGzmImftZobu7zN6XUpL90BCq+zdUy3jSaFQ0wQqXm0bZQuE1lDZXlo2dC47UC6sB10PhvQFbAOmQFrrORav/1UPqvRuykGgQ3a+FDjUK6epzCi/apIxLlFN7ONR5PalzMIHRAErqre/XyCLuUNKXr4RAo07TMJsEPSt/PO6+zunQqp6REdAGkffoL8KOkd+p32WJCkB1oj03xpPZ4LWaENPcifJ0RkZUGRFWanCKm0oTEuQak5XVBmdUNhdo5lOpuyNXdyMzTIqNAj/TJemRM1rF1ZoEeUtB+UmEPYirMCF9Hv4MBYYT1BrZmx+KaCHSjHn5GI3zIlUHngbk1eFoST1fiASYqpfXo1cGjtwcevVphTcc6jN/UA8qOGG/qRtj9DSh5fTkWkL/z7TmY//ZszNs/B/P2z8bc/bMx/21az8G8d+ZDuXslvB5oxvgHO+DB0InxDxI64PlAJ8Zt6cK4hzsRsakLUUkLkCorYOXTShndh1NBkmMKlDICL6929Xxb9wttCNTCEXYaKe1TP17nBEol3dy6Ewn0ygkiOWigNNIjX1DJyV/oBJRUS/49ISdSmispXfNEecGP+RPNeHsSpfQmyg2d4jcTz215CV9/8R0GBs5h//Pvoih+NvbtOoAfv/t/2GH+E1JHFSDDjS6wOAOmBBoX1Unkb7Wa6lKz3W4t/s1OJGtASzcCaZ7XlSHzhtmQ3zAHmTfMQuaNAoS1nOSvZiNlzHykJ69EsroaKcq1SFGucUCaYj2S5GuRsrAKOZuqoLmzEpo7K6C+ywnuXAblXcsRfk8dPO7phPddnfC6uxued3cJsgded/XA+64eeN1BaUzdNmM1BiVQmvlDxEBSAA+WGFn6Dfn2KAod1E6jiw0IaTYyhAoyuNmMsEYzQsmn2WxGZF0volcaELNC54Bo2quiz4yIW2FAwsIeJJV1IaW02wHJpZ1IKetCxuQOyFObkJXYgqykZqgTG50iK6kRqvQWqOStUClakSVvRVamI5TyVjaDKnUWjc0wstEZceV6xC01Il6AdB2+RodALa+Wojxayq/l1VPcpcJeKqZuBNzdjsDNLQja3IjAzRsRyGQTgu9tRtC9jQi6twV+925E2mPLsf7NMrS9OwntB3LRdiAXLQfz0HowBy0Hc9B2IAdtB7PR9m4+Sl9egOBHaxDw6EYEPkZoRMBjjWxNMuCxJgQ+vhFxf2hCZNYiJN1Qwu7JjBtnQQTdo/IbZiLzxhnI/M1MyH9VBhUVrbBUPsccaQrsEiGSQuU86m4b8LUQqEXLJTcX70nKuETIAyUN9IojUPKBjmYmfADSR+ZBzeakuEgGdx9e5G04J5X9jEjIYmWSRVrJiwg7UzYVMbIsrMypw/EDn+GHb/4Tz/zxBXz0zhFsqr4fgbJETPWejb+98hF+/OY/cX/zNtZohLQ9PoeJqqC4b1I6p4mvnUcHxTctS3pnQ+CEqZl009ghi1wEI4qgGF2KbL+VyInfiKyERmgI8RuhSSDwdXZcI1Rx9UjNq4WypRupd3Ug6Y42JN/R7oDEO9uR1NuIpduXYeuhKdjxgRLb/6bCjsOOeOKwAg8dnozS5yrgu6UZfg+3wWdrN3y2dsLnkQ74bO2C79Yu+JHcTNpOD7yMlMrEu8O7JNBBSxSFLkQmA4I7jQhZ3onIeV2ImteD6HlaxMzVIWqeFlHzexAzl6QW0fO1SCzsQkJGHVKSa5CSUmuD5NQapCXXISWlDqkpNUiLWoPUwCqkBixHauBypAVWIS2oisnUwBVIDapChlc5Mm+aB/mNs5F+0xxk/mYuMm8UQGvhOOM3c5Hx+wXIvGUh5LcshEKQtJYi8+aFSBu3BJmJtUhXtyJN1YZUVTtSVa02SFO1IkXZgsjiNoRtpLlGVJlkgB9VbxE6aW2Gbzv1+GxH2o5m5LzUAM2LG5D94noGzUvrQch+cR00L9ZA8WI1Kl6fjVdPZeOjgSR8dCZOQDw+OhOLj/sS8NGZeHzUH4MPBzKw6XAhNC9UIPOF9ZC/sB6ZL3JkvLQe6S9tQMaLNZC/vAHZf2pBRnkN5Ek1yEpuhjq5CVnJTUzSWp3cDFVKM7JTmpE3oQaKG+e6bGlHhEgY9nNOP8uemWKoryHQYMlSsOeGyWJWiRTgHnGl+UApVcANo2Sj4SULQPqIiWzipEgeorT4LIhch/nWGe7Jda4BToeSJdPT6I+JSBmdh3tqH8ZXA9/im7P/gHHl3WzI3GcH+rA4eQ1SZBNZV/qZ4cvw2Xun8I8v/oX2eTrEytJZ1ycVNS6hVCkG1z4d8e91kCPootMN4+gCEP9OmiEjv34m1OHroM7qgiKrC0qVAFoLxyplFzKV7Uic0YKk+3sQ+dStH5UAACAASURBVOd2hP+5hePpFoSL+HMLwv7cgohd67HijRK8cSYGh8544v0+b7zf5+OAQ/1e2Nsfi2V/KYP/1nr4bGuHz+Md8HlcKtvht60Tvg90MwJlpjprSuwigDQoeVIAihMw5Z4GtxsQubAbiYXdSC7U2yClUIvkQh2SinRILtKx6Lg8lNwW66EOdA0NuTc8qpD1+yXI+t1iDlqL+N1SqGku+o3zefaGZVhaMeuTQL0SpFDSMVlW184YFFmjy6D49RyoQ9ZBldQCVXwLlAmEZhuoEpohj29EQl4LIjf08tlQQr8A6wiUTQggV0VXG7L+VItpb67C5L2VmLJ3OabsrcTkfRxTSO5djoI9S1H3zhQcO5uIH8/74fuzPvj+rC9+OOeFH8764sezfvjXOTr2wT/+HoYdRzSY9pd50LxWhZzXViL7tRUCaL0Smj0rkfP6SuQ/3wD52o3I0LRBkaODIkcLRa6Wyxwt5MJamadHdkoL5L9dcMmfdfasUFqTpbk5PU8zoR5VCsW10+DvPgHXyn7F8kCpxJxXIv2Co/C8XMr9Ign0It88Q7ypyFS3N6HJJCYTIVmWjSneZXhl2xv4r3/8Nz55+xhW5jQgQJaEzrlGHN17EqqbCplPkco9qZnI2smN+PLs1zjxtz6UBC9kzUpY27zBZrY4iTTakOgwCFQ1qhTy62ZCHboWKqqEUXawqhiqjLGBohPp8lYklDYjbnMHwv7UgpCnGp1jVzNCnlyLZXsK8dqpSPz11DgcPDneKd49PQ57TkVi6cvF8NtaB+9tHfB+vJ3BZ1sHfLa1wefxNvg91gnf+7tZJZKVQMl/Ke0cNPSad1qnaiaevB/cYUDUwh4kFvUgpciAlCK9BDqkFPLj1CID5OoOKMNqoQ5yUjwgKSig0tZszxVQ37wUGmf4fTmyby6H5qaFfOb5EO4iyu6ghzj7ulmDQkOByhvmQR26AarkVqgSW1xCntCIJEagZgTRcD3LzChxjpSVQFVP1WDKvioUvFGOgjcqUfDGMhS8USGsBfnaUtTsn4wjA3H48aw3/jXgiX8NeOFfA+MF6YnvznrghwEvfHMhCNs/VmHqK/OgfnU5NK+ugOY1QhVbZ7+6Amoi1NerkL+7FhnVDUhTtyJT04PM7G4HyDXdkOfomIYq/+18lmYoKgiXTxKBljECpbHGIoGy0ca/6LHGFh/oL41Ai6BxK0G6bBIKfGfh6N5P8d//+G82932SVymLvtMs+T/UPoz9u/6G1BGToJKRb7YMCrdiNgZkm3YnfvzXj3jijmeQ7K6BUjaZRch5/frl0UAZgZIGGjY4gSoZgbYxAo3f3IHwP7Ug9KlGpwjZ1YRQRqBFeO1UFN4/ReTp4RTvnh6PPaejsPSVEpcE6v3vJNAiPZKJVIv/rxPoCoE4hyLQePxw1kcgTSJSD/xrgKQXvjvrie8ZgQZj+8dZl45AiVRztVYCvcTWpnMSvkqgF+cLsdNInWmgpH3SLKSSoHJ8uPs4zFV3I9E9lyUBU408jQF5rGMnXnzgDVZPTzPmVSOLoXEvQ4asAPnjZuDEe2fw5cmvUOgzj32XRlZkkz5ho2FeKg30KoG61kCvEii4BnqVQG2J9IomUOp48kvTQKdDPpKS1kuRScPXrqWpm9nMTM92L2O+rmiZGo+178LzD7yKBJkaRKDKkbwvaLZbGevotDanGa/e/yYm3VrGeoRSV/yLIk0pqV4mE35oDbT54jTQU1FY+rJrDfSqCf9LMOF/6QQqMeGvaqDW8iexFZSt5H33Li6IdLl9oDwdSE2d592mQ065aSydohiqkSWgjvTxMjW2NG3HXx59iwWPiGyVlKZEPi73MihHFrL9FFkeaCJotow6IFGO5uDlaS4JdhgEyoJI5ANlJnyHSx+oUtGFDHkb4kubEb+5E2FPtzL/pzMzPmTX8An0PTLhiUCZCV/LfKAskETBJKc+UKGUk43PuHgfKO8GTz5Qqr/XYXAfqN7OB9p5xfhAs5IG94FmJrr2gfKBe71CEKndiQZKfk8pKlFg8YEO14RXOzHhuT9U9IHmvL5c8IHWIXUoHygz4ZuQST7Q/xECpbnwFD+gINIV5wMdHoESsbAEeTH3i5JjLZG0n0eozk14axqTGGBiuWesmXIJ84Pevf4h7H/6EFKvEXygI0pZ4j5pqexnKZH9p0bdpdonrYXgg6u/mXqoUlqH/LoZVgKlahiFNYBEa3bMCLQFcWVNSGAEyoNIoeTvtEPIrhaEPbkOFXum4bWT0YP6QMk/aiHQRziB+j5G5NkGUfpsa2VReL/7u4XyTapAovlDRKDWSDylNPG0Jt7mTkxxYoEjofUdI072b7WsgUlwhxFRC7uRwIJIRJgGJJHZXkyRdwMj0NRCHVKZD7QLqrAa10GkoFrkBNax/qjUbFp9yxLnQSQxsMSCSLy3K10rV7iYIJL8xrnQhNRAndQOZVILlEnNTgNJmYkbkTiRovCbENTWyzr0+7eZ4N/WywoFgltMCGgxI6irA1m7eBApf28FJr9BWIb8vdJAEhHoYtS8TUGkePxwjvs8/9Xvje8HPPB9Px2TX9QbP/R74psL5ANVY8orc5H16nKoX62C+jVCJbJfrULOqyuh3lOJnD3LUfBcLTLW1CBV3TZEEKkH6pRGZP523mUk0BmgGnnxecoaXXIFE+gwTHgHArXzY9r6NC6OUDmBUrKuI2lK90QCpQYkVMapXXoHPt7zGZQ3UhTemrRPflDViCJG+C41SnuCHOqYGp2w5iUu/jb2QilF5vUzkRW6DmplN1SKLigUHZALoDU7VrYjQ96MxNImJApR+LBdTQh+ygl2tSL0yRose30ai8K/b4nCOwaSKIj06ukoLJEEkbjmKWqgPCIvRuGp36ePgTrFiwTqGHnnWibfp07qFHGnPXGfky8flRzUYbJE4VOLdEi1ROGJQAUiLeYEqlBbCZT6oDp0ogqiFn91rBtVjudKl+Sppgj8LeVQD4NAqccsexGOskbhNde7iMaPnsnyIDWhIoG2QZVImqgjFAmNSMltQdQGisIbEdjKx5wEsZHPvNoqsKUXIZ0dUO+qZVF4IlDSPDmBViD/DQIFlSpR8OoS1DohUBZEYgRKEXkv/NDvjX8wAqUo/FxoXl0O0jgpAp9NKU2vrmAkqnltOXL2rED+c7VIX0MaaLtTAs3I7gZDXg9UqY2QX1YC5c+RSKDq0SVCGtMVp4FSrhX3gXq6BSDNRR7oL4FAWaWToF0kyfKwZlITPn27DxNvmwE5aZpCBydmwl8WAqWSUBeVF2yfE2hmxFpkqNqRoWhHurLNEYo2pGW2Iq6kCfH3tiLk6Y0I3rURoTvrEbqr3ip31SNkZwPCnliNytcKsOfkBBw6OQ7vnRiP9z4bj/dO0HocX382Du+fGos9pyag/OUi+G2tgfc2Isw2BpbCtK0V3o+TBtoB3/s7hUokIlDK5TQwjVRMZaLmIh7UV9RIlTQ0d4jPHvJls4mMvGEJS1/Swou6MJlNCOk0I2ahFilFOmQU6ZFRZEC6AFqnluiZ9plebIJK042scN6uLyekBrnBVuQJa8u+5yqWqpRzczkcsQw5t0jSmKhhhdjJy4kmaqOBXj8LgxPoPOSE1iAnqQ3qxDZkJ7RCk+gIVUITUia2IbqmF8HtvQhpJWxCaKuZ5YUGt/YiuPl2hHR1IosIdG8VOIEuw2SWzrQM+aSJiqb8a4tR+/YUHBlIYBooRdt59J2i8DwC/88BT06g50OZBjr1LwugZuS5ChrK/aR80FdJ8rSmnD2rkL+7AfLqemSo26HQaKHI7nGAUtPDckM1Kc1Q3DSPu8QuobLkTNFiJdajSqBkeaBXHIHKJAQaiLSR+bx1nH0XIeaDLGQBHGcnwdUe86GQH2UQ2Gqg9rOGpMdUW08PCI0CyceChBU4+e4ASoKEBgkjeO39RROoi3I10n5ZNyWqYBJMeFd/J90E1Fgh49czkJa2AQmzexA7qwtxM7sdQPvRM9sRvWIjVNtroHp5JeQvElZA/tIKW/nCKih3l6Px7Yk41DcBJ/o88elpb3x62sMBJ/rG49CZKKx6tRCBj62Hzx/b4L+jFX47WuC/nUu/P7YgcHsb/KlzT283vKkDk4RAWfNkNp+H12fT+A7/Lj0CWrUIbNEjuJkjiNYtOgS30L4Bwa0GRK/VIWFiI9JS6pGZ2gB5aoNFKpNpvRHylAYoUzZCFbkeWR6V0IzlyB5bCQI7HleB7LEV0IytQPa4Cmh+vxiaGxdAc8MCZN+4ANn28jfzofn1HG5uUlWLC1juQbpW1GxmEKhHzYDyV7Og8ViO7MA1UAdUQ+NfzSStpVAGrEJqUg0SF+oRXWVCdKUR0TRmZLkBkVV6JqMqDYhc24y87Rsw/c3lmLx3GabsXYKpe5diyt5yTHmDjpdh8t6lmLxnIepYHmg8ywO1JVBvfHfWC/8c8MCP/Z749kIoHvkwG7kvLEbGy2uQ+co6ZL6yFpmvrIH8ZS4zX6mG/C/rkP3nBqRXbEBm8kaoUtqgSm21QxvUKe3ISm9HdnQdVDfOZf16Xd3zP2VfygfidWLX5ZoSKEZPQ4B7JEbL7DvS/6IT6UUCpW5MwcgYPcVpP1ANq4t33g5usBNJxMPIx4k2IH5GkjUaEAiQ75M/0x7UHo5/HzWFnRG2FGf+dh5LU9fxbvZkZo+gUSAXacJTddUQvx+/yC7Md/aGnsEe3OSbSpEyrRExLXcitNWEsFazI1iTDD3izK2Y+epaLHp3CessvuDgQhAWHuBywQG+XrR/Lu77MA/nzk/AP8954x/nfPHdWV98R1Jcn/XF9+d80X8+HvV7SxC2Yz0CdrUieGcrgne1IGRnK8ifGvxUC8J2tiFwayc8N9H8daptp2FoRhB5elK9O5np1LF+kwH+RjOC67UIqepB2HItwgWEVdFah/DlPQit0jOiSJjTifjgSqT/dj7k/7EA8t8tQObvFrC14j/4miTDjbMhH1mEzBFFkAtQCDJjZBFoTXNyFCOms45W5JJRjqAJrBwKy7qQZV+oWLctO7PQhebEHlx6IQpwdu3pM/o51eiZrPG14rqZEEHVZrSmogmSGdfOQPpti5FJZZ0Tu5GS14kkms80sRNJEzuRSse57YgvqcXkLetQ+tZyTNu3FNP2LcH0fUvYunBvOabvLWd7U99YiLp3CnC03zmB/nPAlxHoDwPj8c3n4XjwcC4yny5H9DM1iH22DrHP1iL22RrECZKtKYl+x0Ykz6pGZvA6qENqkRVaY4EqtAbK0FqoQ2qQRQUOvquh/NVsrvi4OI+DPffOPhPPs/W8U1C4iE3apQF1imumw98tEqMdRnr8UgnUMtJDMpXTRTcmdkJcma8uTjBpZdKTJq6dS6sPk39uT548QMROvnspqIFy1m+m4ZPXjqNjnok1GeE+LsoFpSbNw/WBkpZp/387CUIMIxpJD1zSTSWILdmI0K5e3naum1q3UR00l+Lat1OPqDsbMXvPclS8NwfLDs5CxcHZDmD7+4vw8Acq/P1cOP7zrA/TSn4c8IY9/uusFy6ci8XGvUUI/eNaBO1sRsjOJgkaEbKrkRPoIx0WAvUy04gPAyNQIlGmhbI93iAkpFaPCeV6RC2l1nFGRJcbEVVuQmQ579NJLeaiK0xIntGDFN8KKH81F+ob5iHrxnlMqm+YD0LWjaKcB/X1s4QBfWJ5rVWqhJJb6mzFSm+FcdhSf7i4JguBWQqWLInBXnICwZKGSgRJc7ZcvDjpXmL32iCWk6jRKkYWQ37LImRltkORrUWmhlf4ZGho3cOOM1TdSJ7WgKkPEIFWMuIk8py+bylf7yXJ19NeX4iGd/JxvJ9XIpEG+s8BHkQiKZrzFFT69kIYHjw0EWlPVyLqmXpEP7sR0c82IPrZekQ/Q7IBUc82IGZ3A9K2tyBlxhooAtciJ7AW1KxbCvJFs+OQWjYpVnX95SZQes5owi7VyZdAPmrqlUqgFzGV0wVZOnvj0J5zsnRCUC5uZOm/Z/4rd54sr3IrQbIsF/sefwePdj6JeJkGajfSPOmCkEY7fALl2u8Qv9MwCFRNroXflCCmpAFhnWb4E3G6gG+HHlF3NGDWnkpGoOUHZ6L84CwHLKW9/UV46AMVPj8XzuqgiTh/cIL/POeF8wKBhvxxLYJ3NiN4lx2B7pQQ6O3dTAN1SqAUKOrVwc9oQnCdHhEVekSVG0FjNKjJcOQykzCfyATqCk9ma/JMLVL9KqD69VxobpyPrN/MRzaRJxGnFGRyXz+bNZ0eTpCPN3MZIsA4hItFen+KGqj03nK1lv47V2tKn5PfupgTaE4PC8TIqaJHUi6ZkdWNlGn1FgIl7bNwLydQJi0EuhQigX7aH2fxgdoSqBe+H6BKJE/840IYtjACrUDUs3VW8mRrIlROppxAW5E8sxryoDW8cbez4B2R6GUmUPtzTVMoiEAzR02Bn/uEK8iEt2igVwaBkklPoz2IqEh7oFzQR9qewL4d7yJ5RB6IVJmPlKZ5UrutoSLr7HN6MC+NBvpTCXTZe3Pw7yBQr9splYk0Tyca6DAIlM8kujgCJVJVXyVQZqpfHgIl0iQQmV4l0Isd93FxIz2uSALlmiKRVYIsFy0z9Ti+rw9Z/1EIOREiBZkokf4qgQ6pgV4l0CGsjmFqtaSBZv5iNNCrBHqxpCn9+f8jBFrMhs+lyiZjadpaFokvDJiPdNkUNk+eovCkVV4pGij5QP8dGqjnVRN+SBeTK7Ndun/VhB/a70zny950F4+vmvCD+EXFk3QpJGmdPFDEa94zZdOR7zETJ949g5r8dlBuKF2Miw0iXQ4TPrSzF37dg/tAI218oDME/+dslB+U4AD5QIvx0AdZQhDJlwWPXPtAY9CwtwjkA6UgUrB9EEnwgQZREIlMeLNzE57yQMkH6uvgA+WBJKsPlPyhNG7DiCSJD5T5PMlU/x/zgYr9Wod+mP/nfKAUTOpiPtHMrC6JD7RCYsIvwfS9izFd8IGSb1T0gVIQiSqRxDQm8nnyINJP8YHWsyBS8sw1Q/tAaUqs9ypcriCSPRdcuQQqaWd3jexaeA6SxiR94w61ZjmRlGsneeuIVSD2J+/ij8kHytOVaAJmqnse3tr5Hh5q+aMlkKRxp5QXaqDM29ZRM2ixIbR0bfl8EB8o/d4UvKKHbrC/W0WjW0eUIO3GYhZECuncxAjUr8sAK4xsTYElml004c56FoWvPDgX5e+WcQIlwiRQ8OjALCw7MAPL3i7Flg85gVJ/yO8HfJ0GkSgKf+58DBr2FSF0x1oEUi9RFolvROiTTQje2YggStintKat7fCiGTxsPIeWB5PYYDhKjKdIPJ+pRInzwXU6RC7TI7Kc/J088k6D3CIreCCJpmJGV5otQSTFDTyIJA0g0dpy/Jt5LIGdTQhw4qcW50uJ14eOLcP9XFSrkeuG7rfBrpH42eUgUIsJn61FBkXis3tAvTUVmk5kZOsgz+pA8nQKIq1H2VtEoBRxX4yivYtRuG8xpu0rx9Q3Kai0CFNfX4yN+ykKH8MaJ/OAEU+i531BhbJOFkSKsAaRnqlnEXfu+6R1PaKe4yZ97O5apO2gKPw6KIOqWRCJou7OkCMQ6GBpTPxci0MaeZNxV+dfrDZy9ayLBEpReD9KY7qS80AzXeSBijffxUgpgbo6eRe3L6SfCJUmlBsYJ1PjgaZtOPCnQ0gbOQlZbmIUvkTo/zl070+1u/M8UCJORp4CgWZRN/qRBBeFAW4lSL2xGLHF9Qjr6IV/p4EhQCL52gifdgOibm/ErD1VKH93HpYenInFLrBkfwke+EiJC+cj8CNpJGedR+E5gVIaUzHCdqxDwC4ehQ/e1chSmaQEGvwIJ1DKA/Ux83xQRppmCYGadfAziQSqZeODIysMiKKIfIUBkUSmDAbELDchZWYPUv2WQUkEesN8Fom3ib4LkXiK0P9visKrRpRao/CMQDl5yjVdkGdzAs3I6rIS6JuVmMryQMvB8z+XYtrecmFvKabtWYSN+wtwrD8O35+jundPfN8vNlWmqiQfSRQ+XCBQnsYkEmaMJYjEg0kxu+uQtqMVKTPWQhFYjezAWmiCapwiO7gW2d6roKQ0JuYHdpyNRo1z+My04b20iDdcPesigV55UXiJBsq6MbkFIZPmwg8ytmK4BErkeXkJlOeJJsrysEJTh4G/nkehH828ngy6obPcygYlUHFyKO/yNDiBatxLoBxVirTrZ7Ja94xflSFdgozryyC/vhRp15Uh+uYSRM7cgJCebvjoOuCj7YJvT5dF8nU3vDu7EXvHesx/fR5WvjsNKw9MxqoDU7HqHVusPFCI6rcm4bHDqbhwbgJ+pDxQKu2jRrt2IHIduBCPjW+UInx7DQJ3tiN4ZxtDyM42lkxPSfVhOzsQtLUbXr1UnkmD0HgtOxuCZjLCx2SCD5NGBOjNCN9gQOwSA+IXmxC/xIg4BhM7jl1qQuxSIxLKe5FR2oMM33Jk/Xou0zZJ42RkaSdZNdF1rtOYxGsjSqaJutA8eT4oz6IY6t60aEhiHugwUueG+k76nDqEURqTSt6OzNwepOfwmnJmvud0Ii1XizRNN1Kn16DogZWY++ZCzNg3C2V7Z6Ns71yU7ZuDGWw9ByX75qJsTxla9mfjWH+shUCJRP/JSjopJ5Q3E6E9qkTacmgS0p6uQuQzPOdTTF0iGcO00o2I3t2AlB3tSJi1Dukh1VCFUOK8LXgyPSXS1yDLbxXkv5rDp2mOngGVHeTXzoByNG+gw4tshibS//UESrXwGddMYm8dFs1mmh7dnD8VjtP8pJM7+VqY7Cdodcy8cqXhjRQvEmmANNRqBuRuhci9pQyn9p9ByxwDEmW5fNjVCAokCUnWYkmmRdLvxf8mFmyigJNlmJ31d2YJ9u5FkLsXIt1zMdLk9UhR1SNFWecIVS0SlXWIyV2LuKYWxG7twoStrYjY2uyA8K0tCH+oCbl/XAbj4XxsP5qGxz9JwmNHObYdkcgjydj+SQxe/zQEff2+uHBmPC70eeBCH0lbfNE/DscHorH25WIEbNkA70fb4ftIO3wfbYffIwIebYP/I50IuKsLfq09CNpoQFCjFoGNBgQ36hHUqENgkwGBTbTWI6zeiKh5XUjMbUVKTgdScgntTKbmtCMpj9ZtSJ3Yjkx5IyMS5bWzoLluDtSE6+cIa9qbzdfXz4F69EymkahZ3i5ZDVZY7zd6sVGliuCOoYmOTsDmmtO1pU5d1NLQ5f3DLQdXD7LTfUlZKH2veH9KJWV8ZNy6CKqsDmQW6JBaoEV6fg/S87VIL+hBWoEWKRO1yCjbgFU7FqP7w2loP5yD9sN5aD88SZB5aP/bJLTQ8aFsbPkwCScGQvDtWU982z8O3/aPxzf9HoIcj2/P0P54fHk+CPe+l4f4J6sQsmsjwp5qRNhTDQh/qgFhT21E+C6SjQh/uhFx29oQV96INEUzMpVtyFTZQq5sQwbtZbVDldoEpe8KXlo7vhIaByxHHpXe/no2ax3JrtOQPCFkPbhTGqJoTVL7ySs1D5RpoJKGykSgIyY5HSon+qMuWg6qORDBFbEb3qIdDOrH4j4Xan3Fm3qQOV2GJNlEPHvPi3jx4deRLMtn30cmhsX8dqFpUAUEpTypyM/p5PcUJ3ZmuE9FStRypJb3Im5FL+KqnMGEmOVmxFR3IfG+TiTvbkHi7nqnSNjdwMrsSl+ZjT99loaP+gJw6LQ3DvX5cJy2lYdPe+Lj0+Pxad9YnOy7FSdPj7GibwxOneY43XcLDvdNQNXuInjdU4vx93XBc3MXPJjsZmvP+zrhvbkH/voeBK7XImy1EaFrdAhZY0D4aj3CVusRWm1kx2HVBkStNCG+oA0ZMXVQRm+EIqYBith6JpUxjZDHNvL9uI1QRtRA9ZsFTCMjzYxNbrS0PCy1+ChFnxi/5lI/Gl9zC4j71chMZA+nE1+pw70o9mtwci1FTVV8YTolS8l9cjE+e4V7ITJuXQBVThfSCw1seF7qdC1SpuuQMl2L1Ok6JE/RInPOOnT+eRZ2nFBh2/EEPHo8CY8dS8FjxxPxyPEkPH4sCY8cT8GjxxPw/GcTcHrAD18OjMOX/WMZ6AX5Vf9t+JJwxgNfDYzD5+cDcefBPERtXwn/PzbD/4kWBD7RjMAnmhDwRBMCn2xEwJMtCHqyGRGPtiNqXSeSC7VIK9KzblnUMSu1mK9pL6VYj7RiAxSTeqCMrWfNVPJCayFFbmgtcsLqURBcA/Vv5yOTzS8bvNCBnnPLOWftJq0m/f8eAh1kKqfDzTqcG5p+xuXNbD3hTGMYlDhFzVOQdiWlRKAbCtvQd+gCJnvMQwaNMh4GgYq19vyhsv4+IpmKvzsRaHJkJRKpEmelCRErjA6IrDIivMqAsDWdiL+vDYkv1CHu+XWI373BCWoQ89x6lL5cimeOxzFy/ODUrfjw5G0O+ODkWLZ35NRtONF3GyfLvltxom+MA07134q/nYlE1e5SeN/TAI/NOnjdq4XnZoIO3mzdA5979fDT6xC0Xo/wVWaErTEgrNqE8NUEI8JWm/lxtQnRK3qRnN8OZXQ9NFFNUEc3QR3TCFWMsI5ugiaqGZqYZqjD66C8iU9ylL4Q+dpKoLZmsSOB2kw+HcX7Ggzr/huSQPkLm1sfg+eAku/P8sAPsVa4FSFjzEIocruQyqaR6pA8nU8hpUmkKdP1SJzSA/nsanQ/XYYnPkvD40ej8PjRGDx+NBaPH43GtqMx2EHyWAwePxKFF46H4fSADyPQrywEOpYR6BcDRKjj8NXAbYxA73p3IiJ3iATahoAnCC0IeKKVSf8nWxmJhj3ahYh1XYgv6kZSsc4lkkv0yMgnAm1ANpFlaJ0NskPrkB3WgNyQGqiot8HFEqilxwU/xyKBXqFBJIkGehkIVCSjweRFE6gd2crdpiNnXCn63juP1tkGxMvyoBk5HfFLeAAAIABJREFUY0gNVHxAhiTQEdOQHLmcE+gKEyZUGR0QuZwTaOiaLiTc247E5+sR97wz8tyA+Oc3IOa5dSh9uQzPHIvHR6c9GUkSWTpiHNv75NQYnBS0TZLOcNqGQDdiPBHo5h4Gj/u08N7cDc/7uuGzWQ8/gw7B63QIX2VCeDVpn1YCpXVYtRER1QbErDQjJb8diph6ZEU3ceIUCDQrppGRKe2rY5qgCa+F6qb5bDqmI4HavQTtrqEtqdr+7HA10MHuMdvPuM9UvP4/V1oINI8I1MA0Tq59cg2UCDRpipYRaNfTM/DHz9IZYW47GguOOCa3H43BtmNx2HYkBs8zAvVmWiYRqEiiTA7Q8Th83T9GQqAr4M+0TiJNTpxEooFPtMD/yRYE7GxG+CPdiFzXhYSibtafNalYDykSi/nQv6QSA3M/KGMakB1SC0aYRJoS5IRaCVTpRhN0HRUQ2z2JBmr3QhIJ9AoNIln7gQ42F35YGoATrdT2JDo/yT+XQMlUpFr4P92+G3ufPIiUEZO4aW53oVw9KJeaQOM3XyXQqwRK5PlzCDQUpwf+nQTaA2VM/VUCtZ1/5GI+0jA70v8UEv2fIdAZSJUVYFnGWlz45BvMi1uBFFnBv00DvUqgtua6lEwH0zRdffZ/UwO9SqBXyFz4K9+Ep2g8NRdJGzUJB575AI/rn2IaqTTS50r7pP1LrYFeNeGvEuhVE97e2rxqwlsqey5GE/2f0EApaqu5pgQJsolomq1H/wfnMcVjDjLYmA8xGODa7+WKQMXfPWMEBZGkPlADJlTZYbkREUIQKeHeNokPtAbxu+3wPA8ilbw8Q/CBerj0gX4o+EUpiCRG2535P2mPfKCHz1AUXgwiae18oD3w3NwDn82Gy+YDVV5yH+gMnkbnxD1kfx+K12to6fpeGOxF6+oz8oFmjlkAhVMfaA8LInEf6GpIfaCPHbP6QCmYtJ0FkWLtfKDjmf9T9IGyiPwAReMpiDQGfz8fiLtZEGkoH2gTwh8lH2gnCyLRjCqp/1Ncs/1h+kBp5AoFkf7v+kCFbkziTKSL8YE6K4m0v6HpWE3jMIaIjv5cHyiZiJTMq6TZ8L8vxGf7+7Fp5d1IkGmQRc1amS+UvwGp0Qg/Lma9Q1m1EZV+uhXa/K5K90IoKTfUrRCZblORFFWJ+GVmRK4wgwJGFHVnENYRVWZEVOkQXk1R+FbEv9DAgkVxz9fAAbupY/h6lLw8E88cj8fHfRQo4sEi+yDShyfH4G8nPXDk1DicPn0LTgqReJbORClNFtyC0/234IO+CCx/vhhef6i3RN2JNL1YJJ5H5H3uNbAofOAGIYi02ogJq8yIWE3ReCGgVG3EhNVGHkQqaGepSyohiETBI4rCa6I3Qh3dCDrOJoTXsCi8ilWp8ECQmLJE5rloyvPrRZ/bpi2J6UsUACTQ52yPrh810HZKorQvwEkur21+rxjsEAjULh9RSpA8BY56L5TyahzBn84qc6g6RwIF3SO3zocyrxNphUakTTMI/k/RB6pDyhQdCyJ1/rkUTx5Pw7Zj0Xj0OEXgeeBoOwWUjkXjsWMx2PZJHF48HoE+5gPlBPp1/21CCtNYfHVmPL6myPzZW/HFuUDc9e4kRO0gAqX0JYq+E5oFyY/9dzYh4rFOlsYUX6RFsl0AiQiUJqfSfnKxARmTtFDENoBIUho8EtdiEClLIFBWljvEcy49v/z80XWwdqSXj5p2hTVUZnmgFERyA1UiDTVUzvkNPHipJBHoUCRKScmu/F/D3ecP5wzEyjS4c+0WNmwu67dTIKeHi93s4kPD888oz48qjDRuJVDJilgrPIVsOmxRyDo6pcqmID6yAvGUxrTChIjljoisNLIRF8HV3Yjb3IL43XWI2b0Osc+td8SzGxD359UoeakETx9PwAd9Hjh8ciwOMxIdhw9OWHH45G04dGocPj51G06euQ2nzoxHX99tOH1mjAP6+sfgwzNRqHq+FN53b4T3vTp43EegfNBuJmntvVkHf4OYxsSj8FYCNfKIvF0UngIKWUSWFHGPbmTpTBomeSSeCDQnrBbK38wHdSfKokIHVuxA3cYFUORdLIZgkq47jYlxDrFckL2AZdNAneoHBYsGT4fSnYM1YqY6enHfbRqUblPZqBD24LKxIVQ4wbvTkxvIuqaGNUVQuxFEJYBeqMWsXFgqM2VFSLt1ITLy2lgOaMpUHVKm9iB5mg7J07RImqZD4mQdFLOq0fl0KZ74NAXbjkbhsaMx2H4kBo8djcOjR+PwyLFYPHo0Hts+jsELx8LQd84XX58bj68HxuHrgbECxuGbAcJYfHVuLD6/EIY738tH1I4qWwJ9UiDQJ5tYClPAzlZEPqJFzJpuxBd2I6lI54DEIh0IRKZpk3ogpyg8lXVSJN4OuSH1yA3eAPVN89n5pV4FpHQMpv07EihZh9R+kgoUrsSO9K4IlGYECTeNVTqvAnFaGcJu2kKmvYkEym5CSyWQMKxNOOE/m0BHcZ8baTtyWRHyxpbh9KFzMFTcxWrlGYFS8i5Vu9CoBrbmlRBUhpd20wwk3zILSbfORNItM5FyMwetk26ZgagxpYhQrER0tRYhG7oRsr7HAWHruhC0rhNBDc1QPlyNaS8tweSX56PgpfmY/JKtnPTyQuS/MAtVr+Xi5eMxOHbaA8dOjMGRk7fhKOGEVR47MRaED0+Nx3t9vjjYF4j3TwfgvdNBeO90sA0O9QVi7+lkLH5uNrzvaoLnvZQ8381yQSkH1OveHgafP+gRoDMgeJ0BEUIaEydQI0tfkqYxRa80I2lyB+TxDVDFNkMV14ysuCaLVMY3QRnXhKz4ZmRF1kHx+8VQXj8LWdRx/vrZUNFcHXEtkdTph31+3SyoaLwHSbs1fQ/bGz0DSrIwnIBmIRGUhFFlUI4mUJlhGZQ0GE4E2yuFcjShzFKayH92Jpt9xOYfjeZry/71s9jfo2ByNhTXz4b8V7Yy89pZSPVagqTiVkQv6EbMXEIXQ/S8TkTP68GE2V1IW1oF7e7p+POJBPzpWDh2Ho/AU8cisOtYBJ4+GoanjoUzPH0kBC8dD8Gh/jAcGQjG0f5gHD0TgmNnQpg80k8yCMfOBOPjcwnQHpyKCdtWwW97OwK2t8N/B4EGCrYjcEcbAna0we+P7QjfqkdYXSci5rYLv6P4u4qyB9H0u8/rQVJRN1JTGtg1zYqqhz0oxUkdVQvl78iEJ+Lk1X22Gr+1qo/cZFICdViPLIaCjfS4kjrSSwj0GtkoeFIe6Egq5bSWWVn/UDoBHLxcjkrmnIMRolBvTCbwYJor0xJGkDktadwxaPoRN73F34WkaiQfTkVS4z4TMTIlNlVvRt+BC8j+/XRWHy92s9ewkSBUSlbGhpmlX1+KzIz1SJ3Tgfg5bUiY04bkWW1IIsxuQ8rMNsTNbmH5c2G9JvjfpUMA4U5BCmv/O/XwuVOLyHtqsHrPXDxwNBf3HZHjviMKB2w+osL9H8ux80gijpwJxvl+D1w4Mw7n+sfiHEm25vL8mXE4O+CJd04E4cEPYnHXB+m453A67vkgxQF/+DAZmz7IRsGTy+Bpboc3taMza+G9iXdW8tqkhfftWvj26lmTk5C1BkRQ4vwaPSJWkwlP2qcREZI8UCLQ5OndkKe1QJXSwZCVSqV+HVCltkOZ2g5FWjtUaR3QJLZA47MaOWMrkTd2OXLHcdBaeizuMzm2Crl2yBlbBRHss1srkXPzUuTevJRJWovHuTeXw4JbKpBzK6HSKm+htQDJ57m3VoJhTCVyx1Q44tZKaG6rRK5PNfIC1yM3YANyA9YjN3CdA2haZ3rGBsTXmBDaZUZIh4khtN2AkE4DQtpNCGwzIElXjXvemoR3+4Px7ikvvHPaBwdOe+PAKW8cPEXSB++c9sU7p/2w50QItn0Ugwc/TMaWD1MYHhLkAx+lYMtHyXj4wyQ89IkcS16bAf8tNfB8qANeD3XB66FOeD3UDu+HOuCzpRPeWzrhubUdvg90I1CnRUiTHqFNJgeENfayvfCmXsRW9yKxsBOZ2Z3IzO12CnVWB5Se5czisLplbHN4uQU5uIXJ/u2o4itzrLGbzNaET78m3wWBkrpNxFoKzUjyZwn+KcGPJfqzbKpIRpJfcggClZFfyvp2It8ImdZW4pauyXySjBoWtGR66ylHkIZMExuLkCbLR/bvCnHyQD/uWbeFaaHUYIT6hHLiLUE2NQhxL0LqDSVImdKIuLpNCK83M0TWmhFRZ0Z4nRlRNWaE1RkQoNMj4EEjvB7pgs/Wbgd4be2Bx8PdiNy6Cu0HJuPV0zH4y8lAvHIqFK+cDOVSXJ8MxWufBWH/SX/0D3jhq7Pj8RVLjh6LLwVpSZ4eGIsvznth74koaP+qQtPf8tFyaCKaD+U54vBE1B8qgnr7SnjrO+Fl1MLHoIO3UQ9vo4Ede5l64Gs0IIAe7jWDEygl2DMNtLAHmZltUKZ3QpHeCWVGBxQZnVCmk+yAIrMDyoxOqFPaoAlcxzr55HqvRg7BZzXYmojVAdXI8XGObGE/z7sauR4rkT1uOXKcgEiY9nPHr0Cuxyrkeq7iUrqmPXFfuhZ/xnMl+z/o/8mVrKkjUW5YLXKjG5Ed1YgchiZkRzUhRwLSzpLyGjGhywzvu43wvtMgQAevO3XwusOA8bfrEXPPKjxwUIMjZ31w7NQYfNJ3mwUfnRmHI31jcaRvDD7qH4/XT4bg9sNp6PhbNjoPZ6PjcC46DudY0P4B7eWg48MClLy8GL73NcLjvm543q+F5/0ku7i8rwdebN0F7/t08N5kgK/eCD8n8DGY4WMwIUDfi4jGTYiZo0PqVB1SpzlBoR6qfC0yfSugECaicjeaMwIV92YKfm/u/84aNQMWH/noEiiu3Lnwgg90UA3USqBsip5T4rQryxtJ/sXBfaSiBioSpuicF48dJNXU2rkCRL8LNZ3gfSOpzZ0GHQuM+OLDb1HgPRupsnxo3IWILvlEiUzdipFyQwmSCxoQs8GM0BojwjYYEb7BiLAaI0JrDAjbYEJQjQ5+2h74bumB9//P3nuHVXml+9+aNjnn/M7vmvO+ZyyU3ehFsYsoHQF7QZoKCEixgQUFG0hve2+wpmmiYkk11ST2KEqxV5pR2HtTTJ8kk5l5T5L5vte91vPsDuqcnDMx4x/fa63n2SSScPHxe5e17poiyPaWWFExcwBDalag8PwMnOgYhhN3nXH8rrPFeuyuK47ddUJ9uwK6bim+7hHPOPMzz+LZZ1rZ2eceDtDK68HYdIMunJiM/BtTLFRwcxo2XI9F2OuZkKoKIGHz3isgVVdCTvPf1QTTCnYDk1MhnXcn58nDdnKd5D5FB8r2K9UYllmNsQRQv0IGTwIngyYB1K8YAf4coIH+HKATXVZjomw5wmQrEEqSr+B7Od/T88OIQdh+GbvUIsxmKSzF58mH2S1FuH3mL6gMhEmXI9x9LcKGUbi6EaFeGzHRKxcTh+Xy1SsXoV65CBq6HmMm0yDBKkh3KCHdXgHJtkpItlVAQvvtFbDbUoERz2Vg18WJaOmWo1UzCM1aGzTrbNCitUETWwehTTuAQfWMxhVbb/ozeJbcnIzim1PA1luT2Vp0axKYmmYh5kQaFDvzYL+zHJJdogiiJHoug3QXP4Em26KGvFINRaXKQnKlGnKlCo5KNTxzqzB8fjnGz6zA+FmWojYtOi/vp1iMAKOR0n3XLIgPIkyN13nsbgtzgHJz1w9sZdGyoY/deAzHL7l/uJEe4jclFpH6OcGv1xDe4ATvXzUXQErFhIcEqAUwzcL5+7UccZhGgY53+v7bVNw81oo3txzmfaH9hTG2rPpKF4lEYpwA0OE5HKAMngJAPQSAumUr4VheDjkDaLEVeHKgUgjlWbMKhY0zcFzjJYDTBcfvmouDtf4uBygVCagtxRic4p4A+uU9KWo7hqHyeqAAUEt4ElALb05mAA19YzkkqgIGTIIn3S7PAUoXJ5MrVcOxUA3XrEohXK/Sh++eVDwSYcouE7k/QJkj9S9BqE8hCKChAkAJov9diQANsxFA2cvK3OkvCNBJdplGACVQcoCar2FeGxE0dB3GTF4PjxI1ByiDJwGU3KdSAGilANAQtHbL0aIdhBbtYEE2aNYSUAeilVadLc50uGDbTT+UkNO8RfCcgtKbHJ4cpFNQfCsMxU0zOUB35cKeAVMEp+Uq21kB+WYCJwG0dzkqq+CZq8bwuDKMn2EJTwbU2QaAkgO9v/s0Bqb5ngAayxyowxNeeLbfv4EOAD0iADUK4e/rQDlEHwWAEohH9wtHRuhafNfxF6RPWI2x/cJ4AYlamYQbmMb9ewy8p+fitw5QGXOgjwH6oC71lwGokgN0GzlQJUY8l4ldF00B2qwdzJ0oAycHaMv9AMpcKAE0/DcN0F/9SaT+rA+0P6M9FZHs+zui7xzoowNQ5lT7xzBofvD8UVw72YqAf5uGwH5zWMGKxiNTPpUDNO+3D1CWB/37Aern33sI/9iB9uZARYBWmgFUoXegzTpyngRRcp6PAWrsQH/1AO1nBNCn+j0tALS3KvyjFcIHs46BaPj2m4WpdjHovvEFXsrZhxH9AlmelBzqRJYDjf2ncKCPQ/iHy4/+Mg60txDeAFAeyhNEDQB9kBCehfS3wlEihPAOv8EQ/tEBaP/+eKr/72Df3wm+z/RVhX9UHCgVmqgtik/vHN1vIjZFl+Dbu39FivdydkKJilUh/aLh8++xGDd9vd6BUhGJSSgoURHJkAOtgKzml8iBuuD4HWf88jnQKdhwLRbGOVCqwD9sDlS8F5Sq8KZFJKHqLlbhhSKS3oGO+2fNga4VikhmOVCxmERFpK08B/ryxYlo7bYEKIHU1IG6YttNX4scaDHLg07iOdFbk1DSNAMxJ1OheAxQ/BLFpIcsIvVHf1ZIegLP9PsXSPo5wvep6WA3tZsVb4yLO/ocKE2itFpV40li6ge9fxsTNeEa2piM/xxre/a1QhXeuPpO4Tg989MQdHqE30gf1j+GgXJUvyB88NwxtJ7RIOD3M+HfbyZC+0Vj/P/hAB2Rsxme2VWgwhHNAKJikueaKrhnV8E1pwJO5ZWQ71ZBWlMK6d4yKyqB/Z4yeLAi0jQc0wzD8XYnKwUkKii5coC2K9DZJWUnTKiNiY7nmevbzsH4qkeC2vZhUF6jItIkNvah4MYUmKv4xhRsvD4Xoa9nQKoqhJQVjFSQq1S8oMSelVCoquBYRI30SngtpwKScP8nKx5Ra1MVO8ZJd4KOyNgMn4hy+AUUsKp7kG8RAv2KjCryVJWninwJwryLEOKyBqFSXoWnAlK4lBeSqBhkraDEikRS/nX0tfzr6Z9fzopRNF433G4ZwgYvRthgoZBkvNJ+8FKE2WYg3C6TKUxYxWf9ak9fY/g6cpkk/edGe2qLCpUsR7jbOoQP3cSq7VRxN1eYVy6Ch+ZgbHge3MyKSPbbK2G/TQnpVhVstiox/LlMvHKBA5RC9xYNFZEGsio8VeWb6B09d9qgtsMd226O55X3m1NReiucFZGKKf9JzpMVlaagrGkaYk+kQb5LrMKLlXdD9Z1X48tYG5O8WgVFhfUCEq/OU4uTCh55aoycXwbvWRXwmc1lUo2nItK0MvgpFrE2pjDW2mheHOr9Wd++REd8n5qHUKGI5PjEEDzb/19YWvHX70CpB/S/AdDQ+wCUQEsA7auViRrt/x6A0skmPUCN9hyikQh8IhK+T86B/xNzENA/BqP7TUXgf87GnTot3tz8Abz6hcC332yM/PcIjJyxAV7UxpSthEuOkjlOcp1uORVwzVbCNbscLqUlcNhVCOmejZDuzrPUnjxIXsnHkN2LUVQ/GSfavXDijgNO3HHS6+SnTiAdv+uI43ccUH9XBm2PAl/fo1Yme3x1zw5f3aPVsP+mR4IvP5fjjGYMlDfCkX9zBgpuzbKqwqYZWHczAaFvrIBMWcTamKh1ydDCVAk5DZCjKnyRCs5ZFfBcroLHChXcVtI4DzoLr2SjPYaw0R5KDMuowtg5pfDx3wQ/v0LWzkSrn2+RXr5+hQjwK0TwuHz4u2QhSJqBYGkmU4g0EyTxWb/KMhEsy0SQIHpPe/PPQyQZCLFbimCbRQgSRHvDczqCbNIRbLMYwfR19qKWIdhOkP0yBJOE5yD7ZSCxr7dbiiB7SwXbLUGAdCmC3Fch0Csb/kw5CPBai4ChBgUOXYsJQ1djRPh6uBcVQ7qtEJItRZBuLmKrZEshZNVFsNm8CcN2pOHlC8HMgTbrxOIRX5t0A9CkG4xWjQ3atINR2+GK7U0BKLk1EyVNs1DSNI25TQrZS5vo3UyUNk9DSescxJ5canCgL5tV38Xnl8sg3VkO2ZYKyFkLkyVEZayNSQ2FSg33PDVG05TVmYYe0AmzKiHKd7YSwcZtTM/EGno6ezFVvTXbiwANejYC/xQAFU8aMSfa6wAvHu73frTLcMyr73+P6QhhBlvj8/VCM73hyOkcNgRuwoB4jPNIx+ih6RgzZDHGeC6Bi3we4pLz0d35LdZnbIGnNBZDR6dh6OJ8eJZXwKW8DE4VpXAhlZcxOZeXw6W8CGNfXIvJ72ZgyvspmPx+Gia/l2ZY30vDpPfTMOm9NES9H4tXrvrjitYdV9vlVnWlQ4YrHXJc7nDEJa0bLmg9cEnjjotakocgvr+k8cCFTi/sbg5B+plYxNUuREJtCltpb6yEswsx70wmvPetg1RVAklVJesB5f2f1APKRRBVlCnhQAPkNijhvLESzhsr4LJRCZcNtFfCla2VcFungldaKUbGFmNMdBnGRJdidEwJRkeXYTTto0vY85iYUoybU4yxYRvgHbQW44LWYVygINqzd/TeWPR+PVeg0cr+ufUYF7gePoHr4OOfg3F+a+6jbIzzz4Z3QA682Up7M/nn8M8Dc+AdlIOxTNnCKj4b1jETszA+KhsTFqzB+ITVmECKzzYoge/HxWVhwsqVmL4nE9PeTMPU19Mx7fV0TH6DlIYpb6Qj/PVUxL4VgbdueON2lwytusEMlATLNq0NWqiApBuE21obfNppi6N3hmNN3XQk1SYi6exCJJ1bgKRzyUzJ55IMa30aQt5fDfmL+ZC8WG4ifnS3gl0qQ3vZC9TGVAF5Re+tTORCqcneY6MaYyJL4TupHH6Ty5hMTiRNLkdIaAn8JYsQSCcSaQaWfv5VL85Tzwo++I84wlhCs8mejkHg72YLAP3XR9SBUhX+qWk8f9jXzTbk+EhU0Rb3JmsEWIP8ExHslqT/Xo+Y6Q+DAGrN0bI/j/Wczma3J00YlYHxmVUYuboKo1YpMSJLheFZajin56Pw9Q/Qeu8bxOc/D7fMfHjuqIDngTK4HiiF64ESuB4sYXv3/WVwo+cDGzDr2BIUNc2Fqmk6KptnorJppunaPB2Vt6Zj261w1GtH4rPPFPiiW4IvuqVW9VW3Am2dHjjUPBQv3hqDnbd8sOvmeAu9fNMHO5v9kVEbiWH7lsC5Zh1catbBtWYtXPcJoj17Xge3vRvg8Hw+JFXl7PQRnUASwWm6KuFQVQVHdTUc1Wo40ukkCu1pzDF7r4aiWsneuRSr4bZJDY/canjQEUDa59FefKZ3VRi6sQpe69TwWquGV44aw3L4yp7p3Vo1hgqrV46KfT5sTRVMlF0FLyMNy6bP1Ri+RoXhbKW9QfyfrQb7uhzhn6U1R2VF9F4Nr3VV8KLvNVeNoblqvqdnIw3doMbQglJMeKUCgW8Ww/+tTQh405ryEfjaekR9uBSlN+ZiR/NUbG+ajG1Nk7C1eTK2Nk3Cluap2NI0DbuaAlHf4Yn2Tnu0i7doaWm21WB0aG3ZmJa7ugFo75binRZfhL4+H657V8Nt/1q4HRDW/WvgdiALrgfWwnPfOnjsXwfHl/Mh2VbKGvel2yog3cqb+MU9PYuiaMShXNWnnCrUGJKjxtgpBfD3peiigCnQtwBBgiiNEzJ+EwIHpyP4KdP7X62m9ehiGTp2Ld5/wQ7EcBNF02+DKVp8egYc+tNZeN4HagjhDQ304gXxv0S+09q/46FzoCYhvB6g9B9GRyyNZRQy36c5PoTu4aSveWIOA6jV/6G92Pz7fS1zoGZ/Pl2tZwxVv/4zMXp8BoZv2ALngq1wz6uGyyY1XDZVw2njFniuLkTN2Us4eacLE4qK4fD8Jri8VQjHNwvYVEO6Dozv6R1dxrAOkaeSsLl1Cl5q88eLrQEWer7VHy+0+GJv8zhc07rjj/dkbOzsd922MNe3PTb4vtsedzrdsa95FNRNgdjSFITqpkALbaZ3LWFIro2H894c2O0uZSee7PcWw1IlkO4uh3RHOXOfMrVaH8abwpOa65WQbqliojPzsi1KsFMqm1WQ0nG/zfQsHP2rVEJRWsnOzzuUKuHA9nSenoveKUpVcC5RwaVQDeeCKrgIor2TkehZ/3l+FZw3VcM5v9pkpZ8TvaeV79Vw3lSlfxbfi1/HPstXw7WgCq75hj+b9uIzX6vZn+1UXAWn0io4CiBxKlPDXI70uboII98swLhjG+B9bA28j+XA+1i2mXIw9qPVmH06GVtaJ6Hm9ljsbfXGnraxeOU2rWPwyu2x2N3mjYOtw3Fe6wSNzgYa3UBodAOg0dKk1UHQ0A1bNF1VN4idTnu7xR++B1Nhv7sAkhp+ll1aUwJpTTGkNUWQ1BRDvpf2pWzOlXRLOaRbKgXRz5ZEz0rIhJ8p/TwVyspe4elYxsHqWKnG0BwVxk0qQJAP3XtgEN2DQJo4oRhh3gUIHryI3bp1PwdKN3Mx86MHKD+STYxh0eOTEQh4ejoc+g95tABqUkTqE6DiXYp9n203OXlE14EZ3Q15Pzg+yOfsGjEzgBKwDQCdDd/+MzHKZxm81lfDadNmuORWwTmvCs659FwFxbpKTNhYiWO3NdjbWI8hW9fD8TUOTafXC8D0Rj6c3siH4o18OL+2FlEnklDdMhlIvolGAAAgAElEQVTPt/rhuRZL7Wj1w47mCdjdNAZXGUAl+K7bRrh6TLyCjK90Ndm3PXb4tMsV+1pGgSC5lUGUQGoq9r4lHCm1CXDduxaSPWW9noRiv1xU4NpRDmqcl9D5d+ZEK0xcKJ2RJ4DKNqsh3aKGjGDJpIKsWsV+4eTV/J18M+XKVJATOEuUUJBKK9lKzyT6TF6qgmOxGk4FajjlV1nIMb8KJPEzBr+8KjiRNpmuznnVMEj42dHPz+Q9/xr2z+ep4ZxHf0Eai4BrKed8yv+q4ViqhkOpCg5lKjjS924mh2K6M7UYI17fBO+jazHm6BqMOZJtRTkY8+FqzD6VyP6i2902Fi+3jsUrrWPwSstY7G4Zg92to/FKy2gcaBmK8xoHaDptGSj5iGobNl21o3MguzCbYNrJHKgf/F9NhXR3EeQ1dP9CCWQ1pVDUlDDJ9xVDvq+I3c3Az7hXGAFUBKm4cqCyy2X6cKD0F4qiQgUHAaDekwotACrCNEQAaIjgQPsCKIX2DKBGDpQ7UdGgRTIHGiA4UDqJxLlEh3zoRNIj50ANVlu03MarCSQtYGY4+075zweB4sN8DZ1fN//zKXzn7wjuszHhiZkYO24Zhq2thgu5TxGgeVVs75pbDWl2EWaptuPCvS9QdOY9OL+8FgqaZvhGARwFOb9eAIc3CuD82jpEnUhGdctUPN/i3ztAW3yxu2ksrmg88cd7ElZd53c3mgKUgVUP0JHYcos7UHN40jMDaGsYB2gN3bhT2itAqcWKdQgwgFZCQpAU8p7mKwcohyU5FFHkPsU9u3iimgNUIQBUhCaDqQlUlUYAJYj2LRGg7C82BkdjUP59e1OAGsOU7103kZNVsQKaOTAtnovpTHgJRr6eD+8jOQI4LSE6+ghNG8hCxKlEVLWEY0+btwBQAaIE0tYx7N2BVi9225JGZ8ccKL8Mm4+n1l+M3TkAuh4J3mnxh/+raSzaIHgSOKUMmgROLtm+Isjochu6MGRrXwDlIKW/JBXK3sN3EaCOFdyBEkADzRyoCFC6fSvcOx8hg9NYCH/f32GzEN6YJ6xOYhTCPwaoANVfI0BdN1bDfaMaDvlqyFYVIGPPa7jy1edY9PErkO9dy0P3NwichQykBoCSA+0doORKd4gA1Xri2x4Ju/T2MUCtg/TRAug6jPlYhKilCyWAzj6VBLUA0F2tIkQ5PB8DlF+kbZwDtQ5QHsI/BuivGKCOeRTSq0EgdV2/FU7ZeSg/9RHqvtIg5s0tkO1bB4c3OUDJjZoCdAqeb/W16kB/iwBludAHcKBiGG8I4a1D09iVPloAXfsYoEZ5UOZC/0cc6GOAmoTXvzYHSqG8Sy6F9WpQGO+6cQsUm0owfEsBXr5xFid7PkXo65VwqFkPl9cLQSG8Qh/CkwN9MIBe1Xjiu8cOtM8w/tEAaDFGviHkQFkYbxnCjxFC+FmnkoxC+McO1CKkf6AQ/jFAf70AZfCsgtvGKrhsJIBSUYmKHmVweK4IY/cUoKatER92NmHiwXJI962D4+uboKCRCK+uQ+TxJFQ1T8FzLROwvdnPqra1+OKVpjG4ovHAtz3SBwrh97eMYhX4rc1B2NocaKFtlAdtC0cqKyL9ynKgQhGJF5Z6yYFuUsOJZJYTpcr5A+c/jXLYff0zD5YDpav8VFAUK6EoVkFRQhKKY+wdvVfCoagSiooiDHstF6M+zsaIj9Zg5EerMerDLIz6kFZRazDqg5WYeSIBquYwvNI6Fjsp59kyFrtaxui1s2Us9rf8nTnQfTwHKuszB2pchReLR6Yry4GqKAeqhkOFuVS8K6FSBWpjonavcZML2cQBKhhZyLcEk8b90jnQRw2gQoWLqlzP9HsWdv2cMeGpqUK/lqHRnSV5WV8oDWijwVpi0aavlQZxRbIhYn33gVIPWd9X/hv+Noths1f0UxhpYJzQf8pmM9EU0H5zMP7JmRg1nqrwm0EXBzvlq0DVV+d8FZwKVHDMV7EKLRUUHIpLMeTlTfB4bQ2CXs3Bu3fq8YHuBia/WQr3V1fC/e218HpjBRaejMHulkC81jwaB1ssdaBlNPa3jMGhZk/c0Drhmx4pvqPJiVZEt81TFb6t0xM7m/xRcmsyym9NRVkTHc0z12SUN0dgwZlU1utJRSSqtsv2WjmTT60te8ogfY7amOjmJSVkVZVMdB7eZF9NYz6MCkZW9uzuyCol5Eol5OWmokZ8Er3nexUcqLJN1esiApASjkVKOBVy0d5Y7PMCJRzp52EiNRwKVHAoJCnhQF+TT1+jNvs6y3+OTlfxP09cDX+++J4dYa0ogWdVHjyr8uFeTcqDR3UePEnsfR48qnLhtTUHk95OR+TJOEQdi0PksXi20t6geER9PA+ZpyfjlRZfvNs2DO+2eOGd1mF4h9YWL7zdMgLvtAzH4RY3XNYo8GmnHW532uJT3WDc0cvG8HxPirda/OB/MA2SVww/Zzld5G12obd8bxlkNHW1lyISa12inzUb60L32vJ2L2o3cykQJO4LqQ2NRpBsxsgV1ZgQnIuJo3IRNnqTpcbkY/KIjQgemIpAo4mrht9VQ/82n7JKfaDEFEM7pGHPq/BiH+ijkwM1A6h9fxf4/24GHyVr0adJoKMTBFGsed68Et7rc38RxFTZF/fG6xzoz9Zb/JmGH4L4g2Hn442mKBrOy/MpiqH9ozD+qdkYFZAJr5LNcKBji5UqOFZWCSs/60vPDvS+ugR+7+RhWu1qhJ5ahMSjWfhYcxynuq5j+clqhB9Px7RPklFxdRqu9ozEHZ0HPu10N4iedR6400mDv9zxqc4V3TopvtTa4EudLb7QDbbQl7pB+LLbFpc7vJB/IQQpDRFIa5yLlMZYpJyP5Svt2XMM0s7Pw5TjS+B4cCMk+8og318Cxf5iC8noXU0ZP3mylfdwyrbSWWxBdC5bEPV9EiD7hGi1in0N/zqxrUkJanEiUaO9fHMlFz1XURO+GnK1Si8aHyKK3tOeVmrwZ03dVBU2E1WK6fy+QiVUjelzOiFTSaulaEQF+3p2CEAFRRV9L9ZUCUVVMXz25yLiaDYijy7HbKYViDhqqhnHM5BwPAm7bk3HiQ4/fPKpD07e8cHJu8JqtD92xwf17aPQ3u2Fe11D0N01BJ3dHkxd3e7o6vZEV88QdHW7okUjxbUOO1zvsMV1YRIr39uy6as01vpGpwz7bgbAZ286bF8o0U9TldB01Z2GZ7tdJaB30h3UlkbHdE1FnRfsPgQa7VJVAQelEs7rKuCxrByeNILbTB4ZlXDP4Md7R9Nlyp4rEEhHXtnRXDqea6pQOhr7fxcgSJihxkdBG25t0/9uslE6NPH0fgB9BB0oNdKTA32637OQPOHaB0AFmNGYjgdyoH25U6PP+kc8FECt/5DEIXg0piMa45+ejZHBGfBQVkO2lSDAYUGrYjM9U2hDDeNKOG4vwMQPszHv/GLMb0hB7NkEpJ1cjkOfvoeLX9yA6tJWJBxLwAvXw9Hz+VD8cM8eP/TI8EO3DD/0yPFDN0mBH3rs8P09e3zXI8NXnTQcbhC6u2zwWedgC32uG4jPum1R3zEKqxumYc65BYisS0P0uWQLRdalIKo+HQHHVkLxai5kAjxlB4phLunBIva5jM4805C7bTSbR2kmFWQ7lJARYO8HUOFzBmA224euZzOVOLKCz/6hEy9KSMSTL/rG7kr2jt4bi52OMfoasRGc3JJ4coY7J3LThqOo5i1ZDBSbK/hfDtsrIelN2+i/uxABb69B4sWlSL6QhCSmZCRdMFX8xWSsOR+Buo5x+OozBb7utsMX9+zxRY/Eiujnbo+fP1MAPS74uccVP99zwU/3aHXC3+454efPXPDXz1zxqUaKi3ftcKndHhc7DLrQIcGFDntcbufTV3dfD4b37sWwe64M9i+WM0lfpH0p7NlK+zJ2dFO2jd93oGB/6dBfPEaiY7vsMhkVnMqr2V0HXilKDFuoMkh4Hp6sxvCFSoxMUWFcRAn8HJZh4n+mIewPpgr9QxpC/7AIYf+ZhpB/iQfdrUu3m1n/3aSR0fz30+A4zV2o6EAfUYBSs+pT/Z+FpH/vANWfc6UTBTT2uI/+z4f67BcGKN3CNEEAqKeyGtKt1CxOjcT8hA1BQwSo/RYVHLfnI+xwFuY1LkZsfSrm1icj6txCJJ5ajBdu7Malry7h4PUa7LswBz3dbvhLtw3+1G2P77vtjETPUnzXLcX3XVJ8rbPFZ7pBDKJWAdo5CPe6bdGgGYk1DTMQeTYJUXXpiKpPQ6SZoutSEVO/CEHHVsHx4HrI9xdagFMEqfRgIWT7SsABWqkHp5xNDKWpoQY9DEAlBDQzcNIzm/tDsKI9AZa5Xj4BlJ1uohNO9JeVsBq/Y++3mAJVhCuB1HgvreZjSayBk4bmkfOSUZhK4Ba+T4KKuegz+dYC+B/KQsKFdCw4vwAJjclYcD4BCecTsKDRoPjGBGQ1zEBt+0h82WOHLzsH4ovOwfii08aKbPFtpx1+vCfDTz1y/NztgL91OzH93O0IdCnwtx5H/HDPhQH0crstLnXY44LGnkGTg1TCngmgV3QO2HM9GD6vLIb9c6VsPDXBUsrgSc+l4DAtYWOr5dsF56nizp3cuCgHynkqueN3rNgMt1VqeKWoMNyaFhJAVRiZqobPnFL4OS7DxD+kIvwP6RaaOCAd4QPSEfKv8aCjmL0PgvxnAugTrvB7dgas3bLEJ+jNZYf/7w9Qamh/wBNLvwRAhb/hKGQIFRzoqKAMEEDlNERLdFLsSJsaDmzcrxqSzdVwYA40C3MblyC2fiGiGxYitj4NMXXJmHsqGSXnVTjb04ib2gPQdUThu05n/KlLgu+7SSJE7fF9l4xBlN5/pbPD59rB+Fw3yMJ9ElA/19kwB9qgGS4ANBFR9eQ0LRVTtxAx9ekIPLYaTgc3Qr6/CNIDJb1AtAhyAuhL5EAJoNYcKHekDHb3caDiXzrMDVoBKE8HGKDFvs6KoxSd5YOv4jFEihSUkFbzO02tAVR8R5BlfykwcJIbNfq+hL1kWxkDaOChNVhwPg2J5+OQcD4RCY0LsMBIiY0LEN8Yj5WN03Dm7ijmOAmgX+kM8PzSaE9Q/WOnPX7sccTPPQqmv3Ur8LduOX/X7QB0K/CXe064o5Hg8l0CKAFTwlwouVERqJcIoJ0coOOYAxUdJ62iyHlyNyp9qQyy7fykmQhN01UNgiilTZwqqtgkVgLoiIVmEoA6jD5Lq8J4GiRIDpTc5sB0q2IA/bd4iJeX/1M7UDGEfzCA3g+OIkDv93V0DvbhQnh9XsX4vlJhDDLNOdIDNHiZAFAewnPnSee7+bOiWg1pdRUH6OFVmNe4CHPrEzGvPhlz69IQS+F8QyKiTichqzYbZ+6+hS7tQfRoMvC11hvfdTkwJ8rcKIMnwdSeFYe+6LTDZ1p7fEagtBrCmwH0XCKi61MRXb8QDJgETUHR9SmIrF+MgGOr4XiQQvjiPgBazMYty16q4O6ThfAqSLfTpEgzbaWcppgDpeOc4l5cyblz187coOA4TcFkGFmhh6mRexRdZF+rKVTpNI2VEzUE0N5OVFGeT10JCblUBkqCpzgVU3DHwvduv62Ch/CHspHYmIakxvmC67QG0ASsbJyJ2jtj8EW3jLtPAZqfCy5UXMmZkgP9qdsJPzM5MhdKTvTHHmf81ENu1AF/6XHGHY0UlymE7yB4Shg4RYCSEyWAXtYpsPd6EA/hn+chvB0L48UQnof03JUKf1mq6JpCg/M07Hl+mG7gcq6ogscqFSiEN3agBE32TFBNUWFUajUmRBBAMxD6n+kIG2ApguekP3AH+ssBlF8m8kgVkUxyoH2E8GIRhwo+dAPTQ4XpfYX7vwRAjWBKEJ3wdATIgQ6ppByoCAdyopQLJXfDXSk5G4fthQg9vApzGxchlrnPZOZEyY3GNiRjbn0K4j6Zhxcuz0eHthTd7QfR3aHCFx0R+LbTnUHzh25bfN9FZ99JtiwHyuE5oBeADhIc6AjmQKPOJoJCdYKluWIoB9qwCIEshM+FdD/lPov6cKCl4AA1hPCWeVChqMQqswRM8f+RCE/DOwY4o9DYFKAitISVvu4XcaD830Pg5Q6UQtDej6WyW/erVcIoYXKiBHaz741BlACaD/+3VyOBOVAK2RNN3KfoRCmEX9U4A7V3R/PbtDoH9RHCCwDtcQCF7KSfSORIu53wU48D/tbDAUo5UILkRQ3PfzLnSeAkoGooB2ovhPCmAOV5UBGgtHLRFXbybQRP6wAV86FUtHOqqIb7KhX0wBTBaeQ+CaSjUqvgM6dMCOHTrAI0bMAiFtaLITyb8GD0e2hidB44B/oYoA8P1v9pgLLLMjgQHhqg9WkMoPG18XjpRiB0PT74UhOPnvYd0HXUoKdjHb7WBOHbbgrf7fAndnmIPb7spBzoQHzWaT2E/0I3CJ93D0aDdgTLs0WeoxwopQ1SrCq6ngPU6QAHKIXxYt7TeJUSWPeVsotzqTLLcmMU3lkUkgigHFL6S0T0F4oYXSzC/rIRCjpWgETzz6Xbyw0SrlL7pSD6cABVPgBACa6F8H97DRIuUAhPuc8HBWhv+U8K6/9egHIXSgWkix1SFtITUC8LITwrIgkO9O8FqOhEHwSgBE+C68i0fxRAH9Eikr4K/1t0oHqA8tD94RzoAkQ3pGD+2Xjsuh6Ez+654ftuB3yl9ce99ix0dtRA1/Ei7mkW4WvtWHzbrcB33TJ8pbXD57oBvYbwBoAOx2oqIhFA69MQVZ9qoei6NEQ2UAifBceD+ZAcKIH0AIXx1iXbRzePE9ioYKRihSOeC6V8qEE0ZoJCdO4+qyDbTCInSjI8szD+vg7UKOf4D3OgBNAKSLaXs+KRdQfKq/AGgMY/HECpLc1qEenBAcpyoKyIRGG8HXOcFzv4njtQKiJRCB+IcbsXwe5/AKCUAyVQmksM6/9xDvQxQH9bDrQhGdENqZh/NgG7rk/EZz0e+KHbnuU+v9O54gvNNHR1lKGr/SC6OjbjXsdCfK0bha+1trjXOQBdXeRALV0oKy6RAxWKSFHnFiCatStZKyKlILKB2pioCr8J0v1iAcnIhbKwnof2pkUk8xYmwzNrTdLfvNRXCK/ibtWaAzV/9w8N4R8EoORAC5gDpSJSUmMcqGAkhu3GaxwL4aejVigisQr8LwDQTzUSXBEASjlPCtlZ7lNoaeJVeA5Q7/8mQMXw3VBE6juEZ4Wlf2gI/xigDw1Q6il96Eb63nItNKrYPAeqd6APkAOlvGc95UDFPGgKYupTMP/cXOy8EYJ794bgTz38gmRWge+U4xvdMHyumYuuDjW62vehs2MztB3z0dXhxSrxn3VSHnQAa2m61zmYtzZRi1P3YNR3DMfqusmIOjMfMWcTEXM2ATFn401W6kul/tCgj5fCuSYbsr25kO/dCHnNBr7uFdYa4d2eXEhfLID99hJ2S7mU3VROt5WXmWpLGew3l0JaXQZpdbmgMkiqSeWC6GvKYL+lFJKtZVziv28r/TvpzzDS1tJeT8T8PWG9cQgvvW8OVAn7beWw31bGvgfJtnKYy24rndjJh9+hLCxoTEFSw1wkNcQh0YriG+ZjZcMUnLk7El/0UFrmv5MDddTnQG9rFbikkeGCVo6LTAq2v6BVsKvuLmrkuNTtit03QzFu9xLmQCnPKYbw1MJEFXiDeA7UQa2Co0rFJgs40uERal9Sq5noWaFWw7liMzyz1BiZosbolCq9Ron7hfzd2LTN8KUqvFMGJg5IY+1KVDQy1SJ9EYnamH6ZHOijBlDxotL+NJXzWUj7O8OPxhrTwX9hXom4GuYW0Tz1votIdEM8FZn4wLjeTh+IzbSRfC7KA5xCYt+XcOqBrsYySVQ/Gcmeqal3/FMRGBmcCQ+lmjdXG4WVvEmb5/kkm5Vw2FGASR+uRPz5dMTVJyKuYQFTfH0S5jckYl5DIhLOxeCVm8H44p4X/tItx5+7ZfhLtxR/7pLiz2yV43vdWHypjUeXZgt07a+i624Feu7G4TONL77odMLXXfb4ptMe33TZ4ZsuW3zTY48mnQd2XfFG8aUwFF2ZhKLLYVZVeGUaVtZFYN7H0Yj+MAExHy5AzIfxiP0wXr/SPvajeER9lIiAN5di2P51GLl/HUbt34AR+zdaat8GjNi7TtB6jNjLNbxmPUbUbMAItq7H8L0b4LU3F5578+BZQ9ooKFdY8zBk7yYM3bsJHnvzIX+xBBLqXXyuAhI6UvpcGVulzwlHTJ8vZ0dNpTsqWZpBskMJpu1KSEg7zLoFtqvYz1CytQIksUovVvYZmOk01PYKKHaVQLGrmK3yXcWQv0z7YtCerTuLodiZi6kfLUH2lUisvTwVOZenI+eKINoLz2suTUfpJX/Utw/FvW57fK6jv/wMMumu0Nng605b/KVHjv/q5vprjwL/X4+M6a/dCvzULccf77ng9B1PHGgdhf23x+Jg2xi82jYGB9vG4sBtWkmj8OodP5RcjMLol5ZDsrWETxjYUQEJnThieecKdvpItr2MPVOfp0u+Ei6bKgWJeyU7vuyaR5+r4bmhCiMWlGDctEJMmFqs1/hptC9iz7T3m1aCIP9NCLBLx8TfJyPs9wuZQv9jIcJIv1+I8N+nIPz3CzHx2XiEPEnX1cUg9EnT+WUiM0SGGN9Ib9pULzbSP2pFJBOA/g4SmgtPZ+FpRonVY5cchg9agad/B6/e09CpKOF2ejr3biaCdR+u0vgzyx+CeCyUgBzJzt+Pf2oWRgQvg4e6CrIdYi8kz/9RxVJKucFtVLVVwfG5Akz9eAWSLqcg+UICki7EIfFiPJIuJAjPCUhtiMH+pmB8+7kXa4jmFVYFfrpHPX8O+KnbAT/3yPBTtzP+qvPFt5pUfKbZBl3Hq+jSbMM3uiT8tduDtbZQq8t/3ZPjx3sKfHfPBa06F1zRueNqpxuudHpY6GqnKy53uqNWMwyH747Ce3e98T7pzji8f5frgzvjQHq/fSze7AjExovRiPlkKeaczUTE2eWYczbDQpFnMxBZK4j2gqJqMxB9JhMxtcsQTTqTiRmfrEL4qdUIP7UGYaeyEH5qFcJOreY6uQbhJ7Mx6VQOgo6tgxulGXaXQLa7HLI9pDLId5dDvpuv9Mz0cjkkL1VA+lKlhSTiuxcrIWWqgOQFGphWwSR9gdZKSF5Qgg1Oe6EcDq+Uwu3NYngcKoT7W4VwP5Svl5u4f6sAQ9/MxsJzC/DSHbr8eAJeuT0BL9/2tdCu2344eHsErmgcoO2kcRt26NDZQasbxEZv0PgNnZF6dIPwxy47/KmLeoLt8S11ZXTZsfsQvu+yY6mfri5nPH/FB0vqp2NpYwSWnp+NjMZZWMb2EchoiEBm40ysOj8H846nw237BkiUpbxNSy20cqn4KmHtWxUgZ+6Yp4TbsnJ4LKkwaGkFPJaWw31pBYYsKceQpRUYnVKBsb7Z8FMsQ7B8OYIUyxEkz+RSZMLfMQO+Thnwc8pAoGQxgv5PPCY+PQ/Bv5uPkN/NR/Czwkp74V3IM/Mw8em5oPsuwoQz8eL0TXEVO3jo99gUnAYTxWciPdIO1BigfbvGhwdoDCY+08eFIQ8IT/4D6O174+MB6HIRn6dmYkTwUnhUqSF7TgnZDt7SwwsrSkh38OIKnZ6heUhTj2Zi4aVEpFyMQ8rFeVh4MU7QfCRfiENaQxQONAXhu8+8ANaawhum/9ZDzdK8bYWfPnFkDdPU+/fnLn98q4vD19rl+EEbgx973FiDNfUE/kinVXqc8ZceJ3R32oDGOdAvqcaKdDQrp9MGzVo7nO+QoE4rR71GinqNzEINWhlOdg5B+bVwxJ9bgHkNKZjXsJCt8ymX25CKecI6n1ITVCAzEn19bGMq5jakYS772hTMbUjH7HOLMLV2CabWLsPUs0vZflrtUkxjz0swrXYxpp3LQMgnq+D22npI9hbyW/Pp0hN2+QWtNL+HZvsIM332lMB+V6n+nLf9TuN9Oex3EmCNVcbOfZu+K2fzgCQvlUKxtwhub2+C27vr4f5uLtzesaY8eB3KwuK6WNTc8cPBT4fjwKfD8ertUXiVnB+tgg7eHolDtz1xTSOHhn4+2gFMHdpBIGmMRM9dukHsuCddoP3Hblt83W2PP1JfcLcNh2iPPdq7PaG+EoIFdXOxoCFBr/jGRMQ1LkBcYyLiz8dj4fkEzD62DC7b8iCtVEKmrGKSK2k6QBUUlWrQCGKSorIabuvVGJquxNA0Nbz0ommqKgxLU2N4qgrD0lUYl6iE3+hsTLRZhkl2yxFuLttMhNtmINwuA+EDFyHkX+L0845ECFquffxem0WVjwEqDoTqq6/T6DODA7W8FMTkB/FQDlQEqGFGE/9bjT9TY77PUzMwnAG0igFUDBcJoNTSIxFcKQPoCwJALycj5YIpQJMvxiHpIgE0GvubQvDt58Pwtx4n3uNn1OtHfX4/9riwpumfexwZVKlx+ucuB/zU5Y4fu4fiv+454ad7dMyPmqrJuTrhz92O6KZfSDah0Yb/UtKAMWG4mPhL2qGzwS2tLerbJTjbocC5DrlV1XXIcUw7FMXXQjCvbh5iGpIwl5rz65Mt1ZDEPqevsVQyYhpI9FkKZp1NxeTaRZhcu0SvKQTUM8swuXYpptQuxpTaTASdWgPX13Ih2VtkNHZEvE2IrwRRuklKuocPQyMXai4p3S4kyBSY9LXGUKU9udQKKHYXg5ym27sb4fF2LtzfyYU7rUZyeScPQw+twpJzsdj3qT9eaxuFA7dH4mDbCAu92joKb7cNxVWNEzo66WdDEP2D3n2yAXBGEOUAtcW3XVzfCCD9vssGf+riQwTbu4dBfTUMCfVzEX8+AfF0Cur8AsRfoFaqBFbQij+/AEkXUxBxfAUDqL2yElIBoGxueyVBUw2pSg2pUsmA6k4AXVQJr3SliYalKzGcAJpGn6swJkmJ8WOzEWK3FOJhgEIAACAASURBVJPtMjHJTOF2K0CabLcckwYuQci/xrFxwya/q2ZQfJjP/skBSoCazSZ13s+BijlQllx+kP/hDwVQa/OaRKjS9XYcoNyBcoAaO1Bq5WEhPMu5kQPN4w70cjIWXiDnOQ8ETnKhtIoOlAD63WdWAMoapvnxPQbPLmehmZrCevG9A35ie2q0dsZP3S748Z4z/nRPgW6trTCZcTA6dIP5iFujleDa3jkIN3U2qGu3Q22HHLUaBQMpwdRY9R1ynNAOQenVUMw/F48YBs9U4WCAWBwTVgZIEZR8pYMDdICADg/QnQBMdQTQdAbOKWcyMak2A5Nrl2HKmWWYUrsUk88SPJdgSm0Ggk9mwe21jQJAafidOL/JeC0Du5ZtNznKMgt48rCeA9QUlgTPSiOA0j9LKmdhvGJPMdwodH8nDx5v58H9nY2CCKa0z4XrO7kYemglFp+LZg709dYReK1tJAiW5nqtdSTebuMOlAN0MBsER+A0hyf9RdelG4yvaQJrFxc5Ub6352uPLTTdQ7H5cigS6+YhoZHgmcjO4VP1P7ExAckNcQykSRdSEXF8JVy35UFSWSk4UHKcSkhVKg5PlZpdM0i3VLmuV2PIokrmMslpkoancQ2jlRzoIiW8E5XwHZONibbLMMk+E+G9aJL9coQPIoDOf6gC7/1g+tsFaD9eRJKwqZyUAzUAyZCz4CEyG0Nq5DKtwfQfB1DKgc6Bz5MzhBBeAKjRuXDqjSSI0sUa5EAdjRwoD93nM9eph+iFOKQ3ROJAUzAP4btFh2m80uURJCGcp5Mn7OvoaJ8L/tblxEJ7OqHyYw+9E6uyUnRrbNChJXgOZONtaSqjsbRa+sW1xS2NDRra7XCuQ4q6DinOtZMTFUT7dgXqOmQ4rvVEydVwxFFFn4AouFByog8igm5sfYrRaaxUzDqXhim1izCFwMkcJwGTnCfX1DMU1mcghAF0gxlARQdaApnxQLzdFKaXsVCdwnVjieA0fmcR0hN86Z9/iZ/OUewpguuhAri+kwf3tzfBnUGU9gRTLte38+H11mosqovF3rt+eI2cJznQ28Mt1TYSb7MQXiaE8ORAaXIml34InDDfnTtQYQprlx2+7bZjp9L+2G3HcqPf9diio9sD1Vc4QPkJqEQGTtqTG6VLTRZciEfixYWYfWI5XLflQlqhgryyCnIhbGfOUyWG73S1XxVcN6jhuUiJoelqeAmi0J1ErpRgOmyRWgBoTh8AzUC4fQbCJcsROngJgv/XAfrIFZH6w/pceGsuT0z49l2B50ClufDkVsUiUt8hPKvSPWAe1LKIZPi+CPbMgT5pGsKLDpTCdwKniQN9weBAKYRfeHG+3oEyF6oHaJAQwos5z79/ZUf8ehzxlx4Fcy58LrgpOEWIagiuWlsWwje027PQnUDZm05oPBhAqfmfX4xCQHwICS6UtXIxAKdi1lkCKDlNawBdhqm1BNBlCD5l7EApVKcLgMXQneaYC+E7TZgkB2oRjpuH5/d/ZpB9qQzkQF0P5QsAJWAKYbzRykP4lVhUF4WaOxPw2u3heLVtBM9/Ug6UnKiwHmgbzUL4K1oFy01TdCCmVtjPi6Ve+Bx3+hkxB8rAaTqB9Y89/Jna3tp7PKC+SgCdqz+DT85zgf40VAKSGqmAmYLZJ1bAdWsuJJUqwYGKuVBD/pNddK3kACUHynKeggMVnajoRhlAk5SYMDYHIXa9O9Aw+0yESZYjbBABNO5/2YE+BqjQB/ooATQXU49lIEXMgV4Qi0gEUnKj8cyBHmwKxHefDeVV+B5+zplAqJfoPh90fUCAdugGoKNzkD4Heq7DAXWC+zQO32lPOVACaPG1cBbCRzXwPtZfBqBLMOVMhhFECaY8lCd4GgBKDlQoItGt+UIRSUq35Qs3qtPekAO9PyT7Aq0IUPlecqCb4PouD9etAZQKS15vrcTiumjsvePL3CfPgVIe1FQHyIG2DcE1jQJaAZ46DblQQxVe3Gu0NujS2uJrPUBt8Mce7kapoESFJGOALmAhPDXwCw5UD9AFSKJQ/sJCzD5OAKUQnsDJw3e+ElA5RKmoJGcArWIhvDWAeolAXaTmRaQxfTnQTOgByhxonNAx07cBul/oLn7+Gwzhf7sOtPccKC8i6UP453NZDjT58kJ95Z2gmSzqQgLSG2JwUAzhxSq8GSh5yG4c1ve+ZxdOGAG0nQpHZqG73oFSiNg5CE0aW3AHKoTwHXKcNRMB9CRzoKGIOzufh/AmhwPM8qDWnKmJA01it1IxB3pmsZD3FF2oYbVwoHvIdZrmQKU1ZZCzEL4UkppSSPdQCN4bPC0LS+aFJvHZfmcFu1hDsacErocK4fouOU/rDtT1nU0Y9uZqLDk3lxWRXm8bgdcJnLdHWejA7VE41OaJK1qqwttAQ90QrLhHKRUzaQeiWzsQ3wgVd8p9iuOsTQHqyRzogvp5+tNPpg7UCkArCJZUhSdwVhvlQwmePLwXc6APA1BrRSR9UYlc6KBFj3OgPDzvJ4Tp1tZ/MoDSTexmVXhHAuiRDCQbFZGo8s5yoBTSXyAHGi3kQHkRiQHQDKAP9Y6ca7cj/iyE8ARQEZjmK/3SdrAcqD3q26WsgHROYz2Er+9Q4LhmCEquhTGAUhhOeU92yxTdNGUsa/BkX8sLSaYhfCqmnFmEKWfEvKdxDpTcJ29x0ofwe6gKT4UjsXhUAmlNKZvXRGE9a2faXcrzl5TDNBMrDr1IfZ8EWH7rOt8LwNV/Jn5eCsXuIrhRDygrIm2yGsK7vrORF5HqYrDvjh9evz0cr90eYV1tI/Buqweua2XQUe+nbhB0ugHQ6QZCpxUk7AmonZ1URCKnSW1LdviWekEp/8kcqC2+pzamHmpjshLC64+TiiE8OdDl3IHqAUpO1BygNPKkSigiVUDvNkXXma7Sv/MyyoGG2C5DuF2mXmH6fQbYngBKbUz/6znQR64P9J8DoNTGxE64CKdcjNuYCKDTjyxD6sUEpF2IQeqFaKReiGVKuRADUnrDLBxoCmCN9D/fc8R/9aWe+3x+zxE/CvrhngKdnTa4qxsEgqh1DcTdTltc18pxpsMVJzWeOKXxwEmtpU5rPfCxdhQKrk3FvHMLENNAFfh0xNAF0Q2motv3TYpFIlBNHCgVoaiIxAE69QyBk3Khi8H3HKRTqQ+0dgmCT62E22vrINmzCTIWxhdAtjef7aU1FNYXQlZTCOm+Akj3FEC6swiSnYWQsJX2/Fm2sxCyl4q4aM+e6Z3lXrqzALKX8qHYmwf3Q3nwoDYmo7yncSjv9s5GeB1ahbS6eLx8ZzL23g7A7k9Jgdh9WxDtSW2BePW2Dxo6h6G12wXNXS5o7XJGa6eR6Jm9c0J7pwJf9EjxjdD/abx+022Hb3skaL83BFVXQpFUF4vExnhWQKLz+BS2s9wn5T8bqfMjCbOPZ8J120awNiZqnldVQCo20asqIVFVQqqqhEylgutGXoW3BlAxB0oAHZuogo93DgIkyxAiybBQsGQZgum9NBMTBy9C0L/Oe/BTgg/QbfPbC+H7c1cq3sZEQ+X8npmO0KfoaBYNkDMo5KlokOjMKx3lpOmXvYumY0YglKZyUkWfpvGxo5Z0/NJc9GdYPwLW+3vD92X8PU6kI2VPxGD8M7MxMjQD7jTOg06yvFDBJHmeTrQoIaGTLC9Uwv75Sjjv3ID5pxZh7c0orL0+DWuvzcTa6wblXJ+JjVcm4Y0Wb2i6XfFFpz2+0EmsiL//vFMC0medUia+p2f+Xv/cJUFXlwRtWjs0aezQrLFFs4Ya5m34SnuNDQvdm3R2OPqpJ7Zc80fljWCorwdCdSMIqhvBJlLfCETZjUlIqY/F1E/SMeWTpZh8ehkmn6Z1iaDFmHJ6EWacXQS66Sm2LpmJzvzH1pGob5RLzJ1G1aUgoi4VEedS+Sru2XMaIupI6awqP+a9NfB4ayM8D+XB81CuINqLz3nwOJSLYYc2YPTbGzD6nfVWRO/X6d97v7seE95di/Hv5ljI590c+LyXg9Hvr4XXe+sx5P31GPr+OgyhvZk831+P4e9mY9JHGYg/lYTEk/Ow4OR8JJyMs1D8yTiknIpG7sXpUF4NhepyKNSX+Up7g8KguhSCvddH47rWEXc6JbijlaJDY8d0V2uLdq092nUSXOt0x+brgVhyPhqLL87D0otzseRiLJZconUeltDzpbnIuByP2DOL4b57PWQvlEL+Yjm/45Xu/hQke5G3eileqoR7ATXRV+pvVxJvVTK+bckrVYUxiUr4hOfD33sDgrw3WlXw2I0I8slFyNA1CPy/8fcFKBWADb+nvf8uhzzJJ+oaunqMi7+P6lFOM4CKM5HChKNZ4lEsWsVEMNsTDKni/QAKpjPxgqy1PFHbEfsBGP0Z4p9lbTX+nsQ9fR3fzwWNUJ3wbARGTMqA+3Y1pDvpqCDPqVFzNuXOaAwCFSboggbXl9ci9exCKFunQdU8EarmcCibwwSFo6IlHKqmYBxqG4lbWhk+1Q5Am3ZQr2rVDUKLdhCaNYOZaG+u1o5BuN0xCC2awbjWYYurHXYGaYz27D1dsCvFvubRWHR2JuLq4hBPqp+HeGrINlJCfSzm1yVg0ieL4HtsJQKOroD/seXwP7YSfsdWstX/2Ar4H12B8FNL2CA7Bsy6ZH6Rc10KuxVKf6mzcD8pgXReYzJXQzLmkdhzEjvpNL9hIeY30s35fHaT98fZ8D6yDt5H1sL7SA7bj/t4LcaxPX/nd2w1wk6vxqQzKywUTu9qMzHpzHLQfvrZ5Yg4twyz65ZhVt0yzD63DLPomWkJZtcvQ9jplRh9eDWGf7CeadgH62Aur8PrMOL9jfB8fQMca7KhqNkARU0uHGrWw2HfOpNVUbMervvXwO+DDIQfS0P40XSEHUu1ojSEfpyMJWem4ejdYbjKLkW2xZV2G1zqoNEdNvyW+Q47fKJxRfXNAGRdnoNVV2ORdSUKK69GYtWVaK6r0Vh5NRqrr81DYn06vF5bB/m+Yij2lUO+vwwK0r5yvu4vhWJ/OZz2V8CjvBJDUsswLJmGxSkxPJmL9iOSuOizUYmVGB9VCf/plfCbYV0B0ysRMFOJiQEF8P9/EhBMpqmP300a48E7Y8TWR1p7kzE0jfciQB+1EN4IoHSZiAjQ0KfnWvxPE4fKEah6n+9s/D+F761C07iP9CEBavWH+YwIeA7Q8XqAqiDZZXp6xZ4Ayhq4CaClcH15DdLOJkLVNhmq5iComyZC2RIMVXMIqpqCoGoOhLrJD2/fHoabOilu6waCINmXmrWD0ZeahM+bdINxVWOHyxp7XNHY45JGYqHLNEOH7ods9kHauTksp0nHMGn0CAMZwUzYz29Iwrz6FEz5ZAkDJl2B53s8C37Hs+B7QtzTuhJhnyxlwIvp5SZ8PURZU32ScMkKXbYiii5dSWQXrvALWGiuUyqCji3HuI+z4H2EILoG3kdXs73PxznwObIG45iyQCAP/2Q5Jp/OsBQ16VO6gDnnpZhRuxiRZ9MReTZVUJphfy4Fc+oWYdLpTIz+IAvD31/HZA5Peh7+wRoM/2ADXN/cBNn+fDbBlK4HpFv+9aJ7VtlzCbs+0PujHASeWgH/kyvgd2o5/EknBZ1aDj/67PgypJ2LwMd3R7Cf54UOO/Apm3zS5qV2CS53SHC6wx2bGUBnYtXVSKy+MgdZV2ezdc2VOVh9JQKrr0ZgzbVoLGhIwZA31kCyPx90UTa7//VgIVv5RIJCyA4WwfFAKTzKyxlACZwjrGgkQTRZCVrHxFTAZ2YFxs8wkvDM3tN+thJBAfkI+I8ETKQLQu4LUMvfe+tOs7ev+w0AlM1E6uNCZRGg9D/z1wxQurFp/O8iMHxSBty2E0B5wzZrhWHN15WQUOWWVW/L4fZyNtJqF+gBqhIAqmwOgaopFBXNoVA1BeLt28NxUydjAL2tHQRrEp0pOcsWrSDam4nBVTMYBFIC6JUOe1ztsMeVDtqbS4KLNKWxZQJS6+YgtpFuiCLnx2+KMl7nNlKhKA2TPlnKIOl3fBUmHF8DWv2OrzTSCgbQOfWL0BtAacCdCFE6kURwthB9L4381qr5jUmIrE9F4PFMjD2ShbFHsjH26BqMPbqa7wmmTNkMqn7HCaCZQoqB0gxGomIVgyfBdRmm1y7GnLOpmHM2RZDxPgUR5xaxf9eow1kY9sF6QZYOdNjhbAw9vAHOhzZBeqCQAVTOZkwJgDK+pHp/MZxe3YRxH+cg6NQKBJ9YgaCTmQg6uRzBJ7hoH3RiBQKPLUVaXQQOt4/GRa2M3e8p3vPJLktut8flDjuc6XDD5pv+WHV5FnOeBNCV1yKw6uocZBFMr0Qii/bXYhDfmArPN9ZAur/AaIRLEeTiOOv9RVDsL4LT/jJ4llZgSGo5c57GACWgegmOlN6PSlRibDQHKMHSXBNmVIBEAA0MyIfffyTwG876AuhTovPsDY4P8v4RBijlP0lPCXPhexsqZ/y30K8OoPof8Fx2FR8BdEQ4hfAqBkveR0ihuxjCE1Sp/aUCri/nIL12AdStk6BuIrcZAnUTOVFyoRNR0RIKdVMAc6C3mAMdhNZOwYGKq+BIWzoHoUXH3Se5S1EETLY3cqYt2oEGgGoEgBJMzXSdQnytFDUt4zhAGTwJoNZEVfdUDtBjKxF4dAWbJ08O1KBV8Du2CmGfLIM5QGmQnQhNcaUxI70BdJ4AcwbWxiTMqU9jAPU+spI7z6NZ8CYdIZDSnrvRcUdXw18PUEsHOumM+G45c5bTa5cg4mw6Is6mWepcMmbXpSLs9DKMOryqd3iSA6Uc6Psb4fpWLmQHyNkVg42CZjOm6IJqg8iFOr6ah7EfZyPwk+UIPLkcgacyEXjSVAEnlyPgxGKk1c3CRx3DWSTB5hrd5RM3L2jswCCqscNprQuqCaCXZusd6KqrBFAK48mBRjKQrr4WywA65I1syPYVQK6/RLsYiv0lkO8vZSNd5AeK4Li/DO5lFfC0AlCCprErHZWkhHc0d54iLBkwjd2oEUAn3C+EfyYawQ8EUDpUQ+oNpo8wQE2GyvUx1vjXAtAQPSx52C4+c4c8F6FPxsKHQngrACWQyl4qg/QluvmHAEo5UHKgiVC1ToGqOZi5TgrfeT40BMrmYFTd8sU7t71wSyfHba0N2nSD0aYdjFZhpb343MqKQNxdNtGeoEn5UHEV97pBDKrkQC8JITyF8qbiQL1EIXzLeKSdi2Lh+nzmCJMRx+4sJQdIe1Ii6DNyoBOY6yRwrtY7UN8TogsVHWg6m/4ZXU85UJoEylfaiyKocoDycJ3uSNWrkfYU3idifiMfzUwhvPfHqzHuSLYQrq9hLo6H9NkYy/Kg2fA/tgqTyIGeWWJFS/k7wZXOqF3EC1hUtLKqxSwdMPpwFoZ/sA4jPlhrkf80Dund3toI+YECYSwKQbOYTTuliaf6GVPkQA/mgfK5gZ9kIuDUcgQwgAowJaASPE+KIXwkjrQTQGlgHA/hac4Rn7RJIbw9zmgohPdH1uVZDJrkOLn7JOfJ9yy0vxaDBQ1pggMtFL4n4fsUv9cDFM4XweFACdzKy+GZxnOgwynvaRTGU9hOIpDSyhyoOTCFZzG0952lRIh/Pvzv50CfiUHwU32fWuTQFI+B3w+gj9pJJKMc6P1C+IcBaNCT/H8UFYgeJAfKKnlGYKQ8q/GfZ74Xi0fi19HMevqasKfmIvzJWEz43WxDCL/TkAMVz1OTEzUANAdptUlQthkAqmyeCGVzKJRNoWxVN/njrU+H4manhIXwDKA6DlBrENUXkZjjHIRmHVcLrayoRGE9r7hTAYnnQKl4xJ0oX3kxif1Cdsqxt8UH6eciWejOL3oWwnghjCZHSkCd25CCyUIO1JdBdDX8j1HOUXShqxBwdBUmncpAZJ1RCC8UjJjzFItJwkpFJIvwXR/SU3ifjPmNyYisT0PQsZXw/pjCdcqBGouKSeRE+TsqbE1iOVCj0F0ApsGB8hCecqC9OlBypXU8hB9NOU5ymayARBA1F4X15EDzIGehce8TTsmBUgjvLYTwzIEK0DTeE0ADTixBOuVA20fiCuWxaepmh60wJI7gyccYn9Z4CiH8TKy8GsHcphi+UzhPbpSguvpaDBLr0zDk9TWQ7itiqQbmjveXMjdKaQdyn+SgKYR3L1OyEH5YciWMAUp77kBVrLhEAPWOqsD46Ub5TyOYigCdMKuS5UB97+dAWTqvtzs+e4OltfeiA30MUGbT/6cBSrA0hqgI0NCn5yH0ybnMgQ4TcqBswJpw5pqH8IaqPF3Q6/byWqTXJpmE8FR1J1FBSX0rFNU3g3CobYRQRBqANt1AgzqN9qzANJBX4akSL4CzSVjpme0JoiwHaoMrGltc1HLnSflPA0T5/hrNDtcpsLtlAlLqIxHLco5W8pEC0GIaUxB+eil8qYDECkeiA6U8KL2javwKTDq1zBSg9dYnghpCeCPnqXehRt8HhfANqQg8lgnvj1dh3BEhZD+axfbjjpArXcVCetoH0PfwCQekSf7z9DJMomvyzhhasKaf5Q509rlUmIvyotRiRf/NPIQnSPbmQOk9AXQT5Pt5DpQcJ4XI5qLikqMeoCsReJJk6j758woEHl+CRecicKSdLmCmWe/CvHdh5hEHqD1OkwO94Y+sS7OwigpGlyl0p2KSwYFSDnT1tSgk1lMRaTVk+4pAwJSZ5Gw5+MmBOu0vhbtREckEoPocqIq50tGJKoyLUpoWkIwA6ju9Ar70LORA//cB+ghX4f+RDvRB2pgoRGdhur7izl2q6EL1UH0qBuOfNThQY4Cy1iXWxsRPtEhfoCJSDtLOJvEiUksQVE0h+iq8siWIhfDVt6iINAK3dNTGNNBqAUksKlEhSSwgsbDdKO9peOatTVREuqax1Vfh9eE7/eJRON9hz9qcLuuk2NPqjZT6OZhLoNQXdUyhRtVwupJu8ieLGSQpz+jPXCiHpwGgKxF+iqrwaSxUj6on98jn0kfVL4SxItnppCTMb1xgKRGk7LNEzGlIEYpI3IGS2+QSnCfLgfLPKA8bfrqXIpJxQen0UqGIlCYUkqiAZCzegxp+OgOjDq+Gl5X2JUP4ngOvw+tZDpRCeNkBGtBnyHsa7wlOjq/mCg5UzIFmWORAGUSPL0F6XQQ+6hgB6poQZ75fZOOKeS70okbCAMpyoJdnsyIShe0rr0Yx17mKtTBxkJIDTahPhwerwvNQnXK1UqOJrAyoDKAUwpdiSGopb1kSQnUxdKdwfmSSioXvo5JUGBNTCR+hWGQtD0rvfIQqvP9/LLhvFb735nhrTrO3d6IDfQzQv8uBPihA2SgQ4dYm6k9j0t/ixGckUeP++KdnYkTYUrjtUMPevI1pJ439pct8S1kbk8sr65B+LgVVbVNR1RKMquZQqFsmoqplIlQtoVC1TER1kz/euTMMTT1y3OkejE+7+pIN2jpt0NZFqy0X7Y2eW7sGo7VrIGi9qbPDda0EN3T2uK6XBNd1UlzXSdhRwivdjtjXNgHpDVGYdyEZcecXIu5CEuIuJJoo/nwy5l1Ix9QzGQg8vgr+J1bB/+Rq+DGtYavvqSz4n8hi7o/mzdPt81S5j21IZ7fP0xrbKKghnZ1gmteYgrjzSYg7nwz6M0y1kD3T9xPVmILg4ytARSKfo2sw7mi2oNVs9WHvs+FzJAf+x7NYnyfdI8pEF5Wwy0r4M13WTM909+iMs0swpy4dc+pSBaXp18hz6YioX4TwM5kY/eFq5j6HH87B8MNrrWgdhh3Ohdtb+VDsL4TiQDEUB3hlm6rbxiJn6vQq5UB5FZ5AyXKgp6iYZFDAqRUIOE5V+Dn4iOVAacqmMKaYJm22U0hvD5r3Xtvhis3XfbHy4kysvDwbqy5FYNXl2ci6NBsrL8/ByivkTGch62oU4urT4EEhPDu5Ra1VhWwiK6UWZPuLIN9HDroITvvK4MqKSJQDrWQhO4Xtw4W853DhHfWBjkyqhHd0JSbMrASF6cYaP6sSpAmzlPCNUCE4qBBURGKHZ/pIqT0GqFCF/99xoHTdnKB+lB+lfSRrpDd2kno3afaDC/jXuZjw/86Hz4B4eA+IwzhB3gPjMHZgHGgd94f58BoUDY/Zy+G2Q2UJUH0jfQXsXqyE88sbkHBmMTY1xSL/1gwU3JyNTbdmIf8mVx5bp+GllmAcbffBybtjcKJ9NE7cHc1Xs/3x9tE4dnc0jraP4bo7Bsfu8v2xO8L+Lv+aY3fG4sM2HxxunYDDreNxmO3pebzwbgLeb/PD+58GYOvFCCQfWYS5R1Yg7shKxB1ZhbiPVxlWtl+JuUdXYdp7axH8Vi6C3t6AoEO5TMGH8tgaeGgjQt7agEnvrUXE0WxEHc1iijy6BlFHV/PnY+K7LETS5ydWIurUckQzrUD0KUGfiOtyRH2SiRmnVsH//fUY9+4GeL+70Uy57Hncu7Tm4f9n7z3f4zjvc2GApMQiiZJcJEsiAewCWDSi994bm0g0UuyUKIISewVIlEUHtszsgqQk28exVRzJiZtsJ44lObElS3aS65wrOec9n943iW0VO86J7eT8A/d73b9nZne2YilRNqngw309zwwauTNzz/3r9d8bQftrl9Hx+nBUdL4+hI7Xh9D2xhA2//UFbPvROWz9sQFz/6Nz2Pajs9j243NofeMSSl4dQcG3JlD4bSeKvj0RgcJXJ1Dw6hSy/mwa9pfmYH9pAfaX5qPC9uICMv90ElXfv4Lmv7mApr/hy+gcGmXl3gT9y6fw1Dt9eOPnxfh/frkB//Pnj+B//fxh/OPPH8E//nyDrMym+LufO/DC/y7Fwj80Y/5/tsL1j21Y+MdWuP+xFa5/aIdL1ja4/lcXzvzdY6j4xglkvjwKx9fGkPlnI3B8bRyZsh+F489GkPlnY8j52iRyvdPIfWoO+Ue9yB/0ouAoK5PUnsf5g5qcLzviRW3PPJo7ZgUt8l+bIgAAIABJREFUxho8nkNb+xzaOufRUTWGxvsOiEixusvMPZ9RBnCXCVQIdAWCBLoD0RLp+YGZaOPwNmsyfKy9kSTfccduEMzRjIBxEahCpS+oZZUkXibyrtyNFk7bfPgw6ndOoPzQDEoPTqP8wDTKDk6j9OAUSg9Nyb7swDQKDzmRd3kWmax9Z8nmF1UppyrpZAI9I/As6XQh/UuTaPreBfS8OYidP34CPT9+AjvfPIKdb3J9XPa9bz6OvtcPoe97+9H/vT3o/96+CPR9bx8Ef7EPvd/bh57v7jdwAL3fPYCe76lV9t89iJ7vHkDvq4ew4+Un8OiLT2DHS09g+0tHsP1FA9y/dAQ7XnocO756FFsWT6Lx0nnUn7+CuotXUH9hFPXnR1FnrNzXXxgRVJ8bQ+XpcVSccaLi9AQqzoSB54bGUT05jvLp0SgYC5wrmxlBmXcUpdfGUHxtDCUGuC++No7i66Movj6C4us8nkCebwo5vhlkW8BjK7J908i5Oo2856aQ99yEwucnkGdCzjmxyVy/5MSmr4whLybGkf0n40j/4iTSvzhjYBrpXyR4HNxnfHEGts/PIu25eaQ96zLgRtqzoUh91g3bF6dR8uoYqt+ggr6gIL5c+nMVJDD2V2fw5Fv9eOfdYvzy/UfwL++xv4FlffcR/PO7G/D/0ap4Nwv//b1C/I93iSIBj4PIxz98UIKv/VMn+v76cTT8YAgNbwyj4Q1mLhjr60NofJ3nL6Hl9Suo/NI0si8vIHdIR+6wD3lDPuQSwwaGfNg07EfpWR9Kay+g5qEjaHhYofGhIyDU8ZNoeOgoGh8eRMtnHkfz6sekyogkGQ5Vmq0amCfCBa3JauRO9FQm04S/bYNIN0Cgq3bLuOJ4H1p70ofsB7oieKFYIsYZ73LhVuxCc1IfKu1Povy0jrzp68iZvIrciWuycp8zuSjHuRNX4ZjyIdOjISMGgcp0R050/IIL9v82jZJvjqD2tYuo+cE51Lx2zljPouY1ggGRSyj89hXYZR77ONK+OhEXqS86kfrihMJL40gNx4sTSHnJidSvTGLD1Rls0OexUZ9Dmj6PNC0Uqfos0vQFZA/Po+ixWVT2ulHZt4Dy/vkIVPTPo6J/ARV9C6jonUdlrwuVPW5U9bhQ0etCFdGzIOdL9i6g8JgbuU+7kXucEx1dyHvaJXs55v7pBWQfX0D2JTccEx6kT7qRMeERpE+aq1udl2MvMp2cEumJAM+nOzVkODVkOj1In/LAPu+FbcETiXmec8M+74aNe68bqYsupBCBmfXGfnFe5tunLJrz7N1I8XtiwJx7z9/nMeBF6mIU+Dm5YBbF33JK6lXFD4ZQ8YNLESj/wRDKvn8OT77Zh797txgf/OphvPf+Q4L33/8c3n+PeEjw3nsP4//8iiOtN+D3/7pRRlv//tcp+O2vU/G7X6fK+tvfbMB//Jsdb/+yGkfe3oWuH59SZa0/YcoXcUpWKXV9m52wzqPuq+NwTM4ja9yPLKdfrcbeMeGTczkTiyi9uIiS4hOoWzmg3F9Gf4uAO2zVLrSs2i1opZBZMWBMp4hWmqn8mfF4wPq1xAj0tvWB3lwCbUvuQUvyjXWkZ5OSjhVB0jQJ1CTRluR+VNqPoOSkF1mTi8h0+uBw+pA5oVbuHeM+uXnsk17Y3B6kP0eS9AZG4VKBpn2BM3SoSFWTkbT/Nofib4+h9o1hKB/dBdS8rlD/g0uoYwni68Mo+O4obK9MSfkcS+jiIVB6J07/OcP5b12N9JkX55DCOd98WBc1pEaFD/bFa8gd8aNonweVu3RU72JCtB4Bfk3O92uo6tdQ3a+hpk9DbZ8X1f1e1PR7A/uy/RpKnvKh4LiO/BOarNwXHveh4IRP1sKndWw6qYmSyZ7SkTmlwzGpoPY+OCYNTPmQNelH1oQP2RN6VGRN6CCyJ7xwTHuROa8hfcEbHy4N6boXaVc5E94TgZTAOS9S/UtBQ6pfF6Qt6lBQnz0//xD4ddiuz6P4m5OofO0yKn4wjPLXhlARhvLXhlH+l+cw+OM+/P27RfjVB6rt3fvvPQgTH7z7ID549wH8+t3P4t8/eBD/8auH8B8fEA9b8Ag4iO53/Nq/puCdX1bgyE/60P0jZiOobIUtElwzsxNOoouzqN46h7qXxpExOYcMpy7PA58JExkTPhCZk36UXPShovgEmlYNKEvQYlXSuuzibHfznOR4JlBlFMv6DDu/TKDmB5uAAr2pBGqYD83J/aiwH0HZCS+yJ/3ImNCFRLkKeTrN1Y/0SU4r9MD2eZIn54eHmvBqlrjRpUkI1Im6N4ZQ+/pFhdcuycpASA0DIW9cQOF3L8P+yoQQp/2VGUTHLOyvqBw9ydWTfL3Q4IQEKow8PjsbDD/jhs2nw+7XYFvUDQT3aYteZCzq2DTiRfG+BVTt0lC1y4vK3bqQKUnT3JM8q3eROE2y9KC2j1CEqshUkSoJtPgpH/JPasg/4TVAIuWxjoITJFYduSc15Az7ROE7phZByAtM9n44pojgeRJo1qQeCiFOEq1fHuSsCQ2Z0zoyFnSkkyDDkLEQes6ue5AWIMpQEk25xmOvgt+DVL8HacbKfShIoAohZLnoBT9nK0jGtmfmUEQF+roiz/LXLkUl0AoLgf76fZLlZ4U82UfUxPtG0+V/e/8h/JZE+cEj+L0FJpn+7oPPSeu7n/6CBNqPrh+dlGqsbiFPs0LrJLa8eUrSvba8eQG1L00gc3IejnHzGQiKiqxxnzwnmVN+FF3yobzkuBCodFwznmmTNNtW75ZMF1WUsjuhkm2ryoy3/8QT6J1Ja5GyIhuNa3bG94EmQqAf1oQP87VQfVKZ0oxvIoGmH0GpoUDlrer0q5vDabxlJ3jshyhQTjO0EGia2dKOhMpWYHLMyqRZFH17DDVvXEL1G+eFLKuFOKlCz0s0ufb1IRS/OoYMidjOwSYkOSuriuTOIu2VWaR9bUYgJYKBumqmn4RCcg8Z9X1xHqnPuANKSAiUyseKRQ2Zfh35V7wo3beAygGfoTypQoMQVbrbi+rdrDbxoGrAg+p+wo3qAXXMczVyzoPSA14UPa0LgW466QmQaMGJ4H7TCS9yT3mQc1lHzpRPXCN0j2QF9jocVKUGsqYM4pygEg0HlasmyJr0InPaC0WUXqS7QpERcqzB5vMg9Zo7OoQ8NaReDZKjSZKRa1ChhhJomPqkJSAm/HyAQCuEPC9GJdDygAmvFOgHoj5puj+Id4n3H5RGzFSiv/ngYfz7rx/Bb3/1sIBNmLnn+rsPuFKBpuGdX1ThCSHQE0KU3UZjFebHdkuOrKrW2vrWWdR+dQyZk3NRCVSJC/XyKhYCPYHGOwYC8QyJa5ipgcZKQu1c9Rg6GOtIjpV6tGzCIylQibQCq5JWY2OyA42rH0WHUdljBo1C1gQJtPUjDJUzSVMI1PCDUoHShC874QH9ObwxxOcz7kO2+Ht0MeEd4yRRDXZ3OIEq0mQAKUigbmnaSxO+/vUh1L1+QZRn3WuXQFB5KhU6jKLvjCJdFOiUUp8vKxVqe2UGJtJemYbtFZbekTBVpQjJ0kqoPGbJoChRdmd/1qXUkyigKGb8VR32q37kjXhRss+FygENVbtJnFw1VO5Wq1KmmijQqoGgyU7VWdNnKtKgCV++36tM+BO+EMVJBarUpzqfJya8Hzk0z6cUaAEo5RkkVRKrkOuEBirMcNCsVya8huwJLWjCh6lPpUapTIOw6XpQZZpq01xNYqVC9dMdwjVIlNH2KfJZmya8ofqtLy2a+Ys+pD3jQtE3p8SEp69TKVCq0CBo1lt9oKYJz87177/3AN5/9wFZefzBu5/D/3n/c/jtrx7C7z54CL83wD0VKWcq/cf7D+M/f52Gt0mgb+2SirHNki97SlSnMucNM57TUN88j7qXTAINKs8AcRquruwJZcKXFwcVqDWiHvKMG8pU+vjGrF//OAj0tgwiqa70K5PuxIakDDSs3v6RCZT9P1sk6nbjUzlNXyhVp+n/5D5ownuQPRkkUPpCs+QmoUmvFGj6hBc2w4QP+Drp+/wC1afp//Qg9fPeAIEqE56mexAmedIHWvTdEaS/PKVyBy2kaZIn8wkF9I9Kcjb9nIavMzxZm5UvzEHkkDVRoFRAHtgMM9JcaVJyb5rwZXtdqO5XPlCTOENWMe81kEDp7xTiJIEaJj2Pad5XDnihCFRHwUkNeSdotmuGOa+J35PmO8+RQKlAg6pTEWXGdBTyFH9o0E9q+ku5KvL0iY+U5Co+0DBTPWjKe+UFqJSpUqBpJMpoZryY8IYZz8CQkCcVZLj57oHN5xWk+b3KZWL4nqOpUVOBFn9zQooBSJ4BH6gElJQ/VHyg3z+Lo2/2iA9UmfAP4AOS53sP4Ffvqj3HgfAcCfT3HzwsEMVp7HmOSvQ/P/gc/u+vU/D2L8rFB0oTfrNRmUUfqFKfp9D11il0cpjfmxdQ95JTTPhM04QfZzzALyIjg3ECBpYmF1F80Q+TQKMRZvi5pZoGST/gMF9nLDM+MRP+tiTQJCQlJ2NV8mqkrKAC3fGRCdT8ENloNfyiRDuW9CXDVCeBmsRprgET3n4E5Sc0ZE1eRTqd4076Qg0fjwSTeNPwnBfpbg/sz2kSRFLBIypSszs9g0tuRaBfnJUgUt0byu9Z+/p51AaU6EXUvTYMmvBF37kiCpQVLPaXmYSt1CYVJ6EI1FSgZoMKVrqYRBq20uTneN8AgdKPZ5iillV8oH4fNl3xomyvG9X9flQPMFhEX2gMUIGKClX+zgCB9isCJcGSQIufUiS56aTXMOVNH6haqUb5tdxhHdkBsz1owmdN0t8ZRA739EkbgabAaqhPRoQdYtrrcExrhgkf6u9UJGoSqEfMe+UDDRJoqD/U/Nx0pPg1pEiQiGuoCuWxKE+/IlK7n35npT6DAaWgKmVkPo0+0G9OSFNodmWq/MFwVBO+4i8vYPBHA/j7d4uNINLn8P67D4v/k/PizZlK3CsfKP2gQdB8pxr9918rE/53v0nFO7+oxNE3B6Tk1gwiseS16y2CzaZPYjNHq7x5JqBAMxkHIHk61XPAlecy6NoyCFQFkXYFg0VmbCPK+ocn0NswCp+clBwg0NQVWYpAozRUDhBfAiY8x3mQRNstBKoc08Fc0sDv44VjykSY/zNcgdIHWmU/gsrjDCItShDJIYEjDZkMKFHVGIEkptrYPW7YPq9yQDewFl4GkbmhAkiMxC+o0R5fmkXRq+NQBGqSqAom1bxBHyiraoZR+N1R2GmeU2F+bUrAqLwJ8xxXVXYXpcekYc6TVIWEqUCZi8gIsJikNFXD4YX9qobcUWXCVw0waBSDOBlA2qWhxlSgpvK0rFSgJNCyA14U0wd6QpEko+0COVaKdJOhQE0CzaTqNAjTMe0Dj0NAkiV5kkStEAXKFx9Ne6rRoALNcGkIhzLfSaw67IROkvQg5ZpXwKBRYH/NjRSBEVyS9CSmJYX5RBc1bFxk+hJ9zsHAk6nyqfStSPPrSLtOE34aFa9fNtSnaboHo/FUoKXfPy9k999/UYTfvPdZvPf+p/HL9z8L+kI5rZO+T/pDuf/398Kj71SdxEP4z/cfxv9972H8/jdp+MkvK3HkLRVEIoGSMLvfpPJUI1q2/pgReE5KPYear1KBMgrPZ4EwovBinXnVszHpkyh8WclxNNwx8IcnUE6liOkOMPNAbzcCNZLok5OUDzQlOTECbeEHEUe6m3mgTLgPIcoobzmJAEYhUGsaE5VoS1I/KtOPoJw+uamryJ5YRI7zKnKcwTXXuYhc5zVRRRluL9Kf40wkTSLxaZK25EXaF7ywfcEDG015MeEXUPLqBOp/eFki8TTlTdT88AJqfngJtT+8LH0k01+ZFH+n/WtzsL+ikP7KHAg5lvPzsL2sejaybyO75kSCynQO6S+6YHtGQ7p/ERmLfmQsahFIX/Qhc3ERBaM+VOx3o26XD7WPaah9jGsoah7TUcNzu3TU7tJQZ0D2AxrqCfmajqqDOiqeXkTJST9KTvpQKuDeBL+2iMJTPhRcuYq8mavINbBpWh1zjcDUIvKiwo/c6UXkGl/LnV1ErusqctyLCq5F5BjI9viR7fEJsjw+OPw6Mq9ryIgKHzKuK2Re9SPzqs+AjsyrYVj0w7HoBz/T1Gs60q7ys+fLKxI2vwb79QUUf2sGFW9cQfnrwxKNZzs+Kypeu4zyvzonifR//145fv2rFLz/wSOC9z7YABPvfrAB73+wAf/2ryn47W9SBb/711SY4Lnf/2uaROB/9+/p+Ml71Tj69i5sfvMMtr51Dlt/chYMGG39yRnZb3vrHLa8fR5b3r6Mhq9OIW/SBd7/eRPENeQ5iasiNmi+501eRdVFPypKjqP+zptDoCRECiVzZI+Y6dZjYy/fk1Ai/W1MoHeYQaQ7dxhD5azDolSVkNSsM9F2RZ/4OE1TPXLtQWvyTnnjtK0aANHOYXLGPnRVUXYSZjjak5U53548gOakftQ+/DjqH5tF2VNulB51ofxJD0qPEuq4TFYPCo8tIO+KGw6mB8nDQRXnhX2R6UEabFc12K7R5+iD7boL+X86hfJXJ1D2rfEwOFH2rUlB/itTSP/KLGzPz8H2/HwA9ufnYf8KsQDZP78A25cXYPuTBdj/xAX7l8PwJy7YvuxC+pcXkPWcB44ZD/JGdRSM6sgb9SFvzKdWY79pTEfRmA8VTy6gtm0CTQ2TaGpyoqlpIiYa68fRWDeCJgPcE821XEfRQDSPor7bieqt46jaNoqareOo3aJg3VduG0NlvxPleydQuncCZXsnULFnQo55rmzfBEr3WY73OFH+mBPlXGU/gQo5HkfpXifKHlMo3edE6SEnSg8b4D6ACZQdcqLs0IScKzkyjqLBURQdHY/E4BgKB8dQdNSJ4iedKDk6geKjkyh+kutEyFr65AQKjzqxaWgB2S4f0j0aHC4NmS49Ahlu5p+6kf8S84QnUPStSRR/a1Ki8kxtCmIChV8fRf8PjuCl/7cD3/95Bb7/TxX4wT+Vy/pX/6SO//KfK8D96/9ciTd+Xok3/qUSfx1AFf7mXyrxw3+pwg//pRJ/84saPP+/H0Xvd46h8c+voOmbI2j6xhW0fGMEzd+4gsZvjqDl62No/sY42r/hRKN7EiVPTKL88BzKDy+EYR6lT8yh7IkF1O+dRa3jKTSzKjCKmAk/F8+El45rbFsZAirJKM+xMTvtE6hAk6UbfVISE+nXIiU5A/WrtkkFQtz/bEwpHprykFA/0DhK1krMzUm9aFy/H83Fl1BfM4b6qhGFylFZ66qvoL7qChoqR1BZM4SivVOSepM+54V9zov0GQ0ZM16kz2pIn+XqRcaMBtu8G/bFBdifnYPtmdko4Pk5pF2fV5Uwi26kXF1QYPWLub/qMvaskHEjlak3ND25RoHN50bOlBv5h2dQ1jcnVUWlAwsIR9nAPCoHFlBTdxk1DzyBpvsPo+nTh9D0qccDaP7U4yCaPq3ONd6zD3Vrd6GeWKfWhrW7YILn6+7ahZq7TQyE7Kst56vv2Y3q9btRdd9uVN6vUHX/bhBy/KndqDRx/25U3LcLVfcOoPLeAVm5r5Z9P6ruDaLivn5U3h8D9w2gUrBLrfcPoOL+fvBnItb7+lDOr31qF6o+u0dQyfUzkaj8zB4UPziAou5zKLjiQ+aoBscI4Y0K+4QLdv8C7F+YQ+oXZqUE1Pb5OYRiHqnPTqP0xQs48NYhDP6sV+YjDb7TIz1C2SdU8FOufRh8O4hjb/chiF4c+0mf/OxTP9uFPX/5JArdl+CYmEbW5CyyJ2eCmOJ+FllT08ifmkXp3hFUbjqBupxTqMs5HYL6nDNoyDmNhpwzaM48jWY2Sb4j/qA4IVKpRFo6jUmm4iZAxspNF6v5smnC325BJPo/kzjaeAUkDzQhAg0lyWhEe0P9QGMQKP2opklAIm0h7t6PruxL6CgcR0fBKNoLRtCRP4qO/BG0F15BhxyPoLFoCOV9U8hnJHJaM/IUVYI3cxYzp4xzkzrsM17YvF6woiUSJEsDix6k6JzNTWJ0xwHndXuR6tGQ5tGR6tWiwubVkDuuoXjPHGq2zqNm2wJqty2gbmsoeJ59GhvLhtG4/iDa1+5H+7r96Fh7IALtcm6/BOGYRtZm5uMypcwCnjePrXvzXOhKd02fUb7bj9ZkBTaBESQZq3FemXM70Zqk0GasrUk7YKIlaQcI83taAt+zE+aeayh2oC0pEvw9zfK9nBJLXzqtJcsIbgYlDbSs3CXzsioaz6BoyIcsZhcwQBYDGWMe2DUNqc94kfKsG6nPeJAWBY9cdyH3eSe2/+gMBjjkzpjd1Ps2O+hzZtOT6DM66e98+ygEPxnETkKO1dr71iB6fsLR0U+j63uXkDM9hcxhLxyXfQpXdDiu6Mi+zHMaHFe82HTZh7KeCTTZTqBzwyl0bgyiY6Mx4z3lFDo2nkbnhpNou+cA2sLzQKMR4JIEqnyaYpVG+/nwc6vYeGQpAr3tTPjbkEBzhtBR7BQSbS8aU2RaOI72olF0FI6hs2AMTcWXUdE3jYLxRWRNM2rMNBw/splmI5UzZvK3T5SpjYQXLUVGouH8mhHRZUVMItA0pHl12Dy6rNyHw67pyBvXUbJnXpHmdhfqtrtQa1nNfeN2N5rLrqBl/SF0rT2AznUH0XnXQXTcpVbug8cHwLZ/po/aXK1q3roPBPxivshIkLvQxnxcszdBlIAfg35ivpFIjd9lrvx74XszrUXcQXQJxYC8oJnMHePf18qyYf5+I2AZL1jJcS+Nq/tR3XgexUN+ZF3RhUSzL5OUQpEz5EPGqIYML/NBdSFR23XWxzM6b4WGjdfdyH/eiR0/PoPdPx1E/zsKqv3eEfT9lJNDiaNCpP3vmNNF1Upy5VynvrcH0feOGg+95S8uIW9mGlmXvci+4jOgy5p7xYecy35kj/hQcPkqKnpm0Gw7ja6NZ9CVcgbdKWrl3jzmue6Np9FxzyEkpBqXCZTKcincfgTaLQQ6EUagTpBM24vG5XxjyWWU988gf/xqMEo85Ze9NQGctds07RWBMk0mHBZiFbPchTTdvQSJepEWIFBfBHGSSFM1HWmaD7lOH4r3LKB2qwu12xR5kjTD0bDdg+byK2hefxidJFCDPEmgVrTLsUGgdNobxCVkZRybZBY4x/Nx0S8uHbNPAQN63FuPeS4AtidkBsYSEBI3WxtGWw2/Gd1A7UQMAlUvA7ZFDA2MmEni1rV91R7UrxlAZdN5FF/yqwqrMOI0iTRnWEfmqAcZGks6SZhUn+YaqkRTr8+j4PlR7PjxaQz89Cj6CZKkEKl1f0xIMmI43juDMutJCPTtoxj46VPY9r0h5M/MhBLoCAlUkWjWFT+yRlih5hcCbbSfRmfKGXSmhqIr5axBqGeFYNvXH7pJJvyyAkXSbWbCt959AJuzh9BZpBRoR9EougrG0FUwjk6qz8JxdBaMiwKt7JtG/hhrtHWpu2YtMFNvbkyBqtQY5h2m+UmcS5GnoVANAk2jeomiPnnOZhLo3gXUGARav82FcJBMGx41CPTeQ+hYd0BIs2vdQYSDxNq17gA6qR6WILB4BGf+rFqpQFWzajPVzCRL89i6thqtDoW8DdK27vk7A8c34EsPkLz581ytxG+mzLEc0US4GXnHHtStGUBF83kUDS1FoBoyx9xCoGnP0oSPRaBepDyzgPwXnNj+5lmZTNr7U3bJP4renynlybX3ZzTNFVHStLd21eegPI4qkZVK9WdPYetfDGETCXSY6nMR2Vf8AYhyHvHDYSFQKtDujUp9ito01CdJtTvltCjRro2nsUygK7FyZWwk9fT0JKA8TWV6KypQ5bvjAy4PiKE8Aj5Qw4Sn2jTNdvpE24rH0GEo0IYSw4QfC5rwUmbIHEW2upu2mPCzVKBMYDdM9YjVo/IG2aSCXYEES5jymhdpXg30c3KNhCLQPKcPJXsUgdZsc6FmeyRo1osJX34ZzfceQqdBoFSeVJxKdVr39HGx5aAiKqkIi0FkJLNwBMjNJCr6OtnWzGK2k0BjmfP0kYb/TiHN5NC/JX8nDoE2r+xDy0ojdzAwnLAHTJEzIT7eZN4vQROeARA1qXU32u8MRceqPWhYTQV6DkXDNOG1CNM9VIF6kcGX4bMaUp+l+qQJHw4dqddcokAf/fEZDPzsKAaoPK1K1NibflDxjdI/Kj5S5Sftf/sI+t8eRA/9pQaB5s9MhSpQQ30qk94w4a8sorJnBk004S3mu9WMl33qWXRvoAl/8BY34QuwJukuI7jNHHU1dj3cmo5Hgh/la7cEgZqBpQ8VhU/eiTYigkB7JIikTHia6jTZ6ffkXpnwVgVa0adMeMc067aV8mTVjNqHE6jFVA/xhQbPpzD5Oo7/M9XnRZrPraAbPlAvS0qVL9S6mgo0bzxIoLFM+LrtblGgTTThDQI1SdNqvpuESoVKxz4DP+ZnyPWGYJCS+plQAmVAJkCmErSxHNMPGoNAw/++EHwUAmV5YEdyP5pX9qJNZon3o4X5xHI/MD0uFCrnmAEkVr1xOuseyJBBkqek61hXRaAVTedROOwX8qSpbpKmdVUmvBfpQqBepAYUqNX/qUg19ZoH+S+MYNubZzHws0EMvMPRI4bPMzCGRI0jCY5lpho1FOk7R9D3Dgn0GHp+egT9P3sKW/6CJvxEKIHShDdAH2jWKE14H6p6ptGYbqjMMP8nSbUz5Sw6U89h88ZTaF/PKHwCaUwMxNGNErOZyM0x4VXA2YzCM4i0TKCBioMPRaCWh91UUXz4WpIUgXaJAh0Hzff2opEAgXYUWU34K6jomxUfqJVAFXmSRC0EGvCBGpUsIQQaPJcIgab43CBSSaAaVaYGu1ePgI3nNB/ynH6U7FX+TxKlDPniatlLBP5RL5oqRtB0X9CEDyfPWAQaTlwJHcch0AB5kkijEuhAQmQdi0C+Yx1tAAAgAElEQVT58m1nIGpFr/g+SYxy7SVyz4BRNPD+6Ef7CkZ6H0MrI/GcZLAiHAOoubMXFY3nUGL4QK2kad2bBEoFantWs5jwsQh0DNvfPI9df3sUHNLX97dqzDMH93Fgn1o5y8mc52SSLBUnA01Kufb97En0/+1xbPn+MApmJ0Ul54z4kDNK6ILsUR+yaMKP+VEwsoiq3mk0ZJxGF/2faRYfqOxPi1+0K/UculNOoVV8oIkQKBsq030TP+vmw0bhhZyNF6hkc6zsQ+Mdy1H4AHnyQUiEQE2TUb43LJigfke/PFBsqMw0JvpAxe+ZP4KOgivoLBgVMIWJEfiu/DE0F11GZW94EEmVHVoVKBtkBINIQbKMGpFnbbTuhY0mPE30MDAQZdPdsOkeZLh0OOb8cMz5pN6bbduITAMZ8z445hdRdHkRFX2cUTOH5s45NHfNR6Clcx7tnQtoLxpG8/oD6Fy714jEH1D+UJr0AexH57r9hgKlKU0VqpRoQsRpqn6rb1HILNSED5BoWFQ+EIUP+fkwX6XxNfn3RFGgvObKfFf3T/PKftTe3Y+KTw+g7NMDKA9D2Wf6UfbpfpR9ZhcqHnwM5YI9qHgwEpUPPIaChwdQ2J1AFH5Yh2PUC4dbR/o1DWnXvLAZsF/zgjCPU6+6sOkrTmx+YxQ73jqLR988I2qUPlErHn3zPLb/zXls/+vzeFRwLrDu+Ovz2Ck4g50/GsLmb0ygdGQWhad9KD57FSVnFlF81o/is1x9KDrnQ+E5HyrPXEXDlik0px1H9yMn0L3hBDY/osC94JGT2PzISWx5+LhE4RNToEZHeiHQWB3p1Tyz8AT8aMdtq/hiC6YxWQmUL8y2lX1oumMbMpLzsTZpXZgJb7oaTddjUlw/5n8pE55KpG0VSz6Z3GuYW+yMvcqohOIMeAZFVu1C+z0Hsdl+Dp1Zw+jOvITOrIvodFxCp+Mi2gP7ITTlXEDljklJY6K/U4EEqvI/1ar2TKhnrp+1mW5wbzT3YK26T/k0qR7p2wyH3cvf45WKFseIB9nn3Mg960XuWR15Z/TAmndWR85ZLzad96Ds8XlUVlxAk+MsmrPOoDnrLJqzuQ+iKfssmnLOoeWRY2hhcGTlbnRIrmPkDKnATClRh8HIuBrNwPEMS4PpQHKjr+RNbexXMPfTyAU1VvPlJgolmZVpVCr8mV1C4KJMzGsYsrIbOivTovtKSawdRgCML9faVTtRV3EC1UemUTLoROnRSJQcVRVIJUcnUTJogPswlB6dROHgNDaddYGpQMH0oMg9TWTHqIbMGU0a06Sxvyw7fEVBmtuDTP8cCr48gYIXRlDw/Bjynx+TPU37/BdHUPDCKAqfH0XBF0ZR8Mw4CsNQ9MwYCp8dRfEzIyh5bgxlM1Mo7XOiqmsK1d0zqO7mOoWq7mlUbZ5C1eZJWes2T6Op4Bya1h9A210H0Xa3QruxMu8zsKfPfPUeVWkYEWCz9qmgK4T3WrCxT+ClGXDhGFNweW3j/q7g7+W9Ff4il+dfcon70LSKBJqHtUlrlwk0UQXaltxrEGfwg2YUVWrkSRgkUDMwcM9BdKeeRkfGJXTbL6Aj/Tw60i+g234OXfaz6LKfFzRnnEHVdicKnItwsAKJzXun2QVdraxI4p4J9UECDXbiCXbnCTbatekabB72GdVh90QHSdUx70fueQ0FR90oOuo1oFlWDYWD7AbPph9zqHWcRttnj6HjgUG0P3gMbQ8ek5V787jtc8fQfu8hyXUUn1GYUjfVu5AclT/LZgM3On2URoJ5IquYwdbmLrvVYDGLa4UPAckt+DCoES4tNLv5ojN8kdZVDSrcIxHyDl5XlvXGyRRQ7pse1K56FFVbL6BQvw6H34csXyz4keVbNMB9JBw+P7L1q8ieYQqQFiDQrCs+RIAEOqJcPSTRjFkLpKrNODYq3OwuZmq4sPHaAlKuLSD16rxUpm24No8N1+ex8ZqqVEtdWIBtinAJ0iddsAvcSJ32wDbpQeaUCwVnFlDdOI7m0jG0lDnRWsZ1DM1lE2gR8Nw4WsudaEk7iaY7d4tvk+oyFLweuyR1qUW+x3i24pLeXjDlS16GYVZG6H1lvCzj/q7gcy3ZHMY1D947THmjq6AXTSu3IT05D2tuJwJN/hgqkUieBPP3rB9U1D0JNM5bTIj0jsfQStxzCJvp58m4gM708+hKPx9YSaIk1S77BbRknEGlQaC8+ak4lQo1OqHLsTp/wwQagzxJqlSnjvmryDuvo+iohpKjGooHvREoGuQ8Ih21AwuoyzqDjgeeQtfnnkJnFPA80XHf42hZZc6oYWCHgZNQmJ97+E1+QwQqJGsNDJFAY6tFdU2NSLgxhdVKnKH74AvRJNCo94TZTzapBzWrHkXZ1vPI0fxSEhtZyGBNLdOQRv9zDDDQZ9d1KeHNGlGqk7mUEeQp6pQK1CDQWQ2ZVvCeInhO9qqjPpuSpF73IvW6R5By3QtiIyuZnlFZHmluDXZ5qWviPpISY7b2m9bl2M5UuxkdxWe8qGtyoq3UiY6yCYXyCbSXTaLDgq7yKbSlnZYJmsqCCxKWUoaGVZdI4CiECPcsoUDVPRLv2Q0qU6VoY7n0TAJtXEUf6CYhUBV1X47C33wCZZQxPUigJFGiW9RnOIH65WEJJ9DgsVWBBtVmtAa7AQWaCIFeoMr0olgIlCQaiiCBzqMu6zTaHzgWlTythNp+3+NothCoSZbR1kgFaiXEG98vTaBKjTICn8gDJS9FQ4FGI1CJuIvK7UG1QaC5Xj/SfB7xMdPPHBUM+MQBiZUVYCQth4VAo5vyJoFSaXrjInPGC7uLg+9IoIo8uaY8wz1J1C3DA6XrEwmUv29aESjJlP8eBQ/sMzocsxqKznpR26RUJgm0neRpQatBpksTaDih3sBxXBP+ZhIo3UO9aFwVVKDLBJpgEElM+BtRoAaB0nw3yXMpAmXTEEWahukeUKTLBBqpViMJ9pNGoLwf/qgEyqY2BmkuEyhN+GUCDYm+m6oolmQPUR03asIvE6iY1OZnHG1dVqDRlaipQBMhUDPPMmuKpvpNVqDLBBpimS4TaIx0lI+TQE0fqKlCl034YL7eMoHGJ9BETHgrgTpmFIHSVI9mzi+b8Eu5BZbygX5CFGgqh8qtXKofaPBBjaZ+rOcSJ9DY/QnNIBLzyNruVkEk+kBN4jRXEmhkECnoA6WTPhiNN1OblD+Kye7R/J4qGm80YTaj8PF8oB4jiEQf6FFPTB8ofaKlT+moG5hHfQI+0K7PPQ3lAw3m0Vk/5/A9G+EmYpon+j1/LBOepZofhw80g37GpXygUunDVDdvggpUNepWPlA3Uq8Tpj+UrfA4ltmLNLcXdkb0xQfqlYCS1ZwP+EDPaHF9oPSHtpVPoqt8Eu1pp9CymiSVeEpRMMATh/yWfaDBxNPwWtKAk9YShb/ZBMoHO8RcD0l9MdJgGLllf0IpvQteTJM4A2lM9JPefRjdqWcliETCFBVK4pQg0jlstp1Hp/0CmjLPoGr7OAo4kdBIM0mXfFAV7TQrkXgT06Efm0B9Qqx2v6YS6D1MZYqVwqQqjhwLi8gxCLRo0AsGjCJwjGlMXtTumjMI9Gl0RInASxDpwafR9eBxtN/3BJpWmQRq1IjHUv4rmcoU6cu8kXNMije/P1ECZUVJrCCSeT2l3RyvdZwgknnPsEzzwxAoTfVowSQWQvBak0AZfc+JlwtqIVBTdbI5t7m3rrzHOAyPEw9IlCnPuBRhXvdgI7s4XXch9bpLIvI2EmggCu8xAkrBCDy/5pjVUXTGh9pmFUSS4FHZpBAmSbOtnFH5SbRUTKKjYhKdqafRylHkcWIJCRFmSBTemsoWvBfMe8JcE/mbqjfBY9KUhgFC8/qaK014M40pI3mT5IEG+Elq4f+LJtInTKBRLjwfOLO3I/ctTGO6+zDYnqs94zw67OfQbj8nK/cd9rPotJ+Vcw2Zp1C5fQz5QqCMeHqRzsDRlNpzNff2WQ/SYypQFZnnfBxWIDFVKd3ti5kHyt+TubCIvAs6SqgyB3VBmWXlvviYjrKnfKjfNY+67FMShafKjIqHnkbXQ0+j/f4jaLpjAMwDNRtWhytP85hVHeYN/mHXcAJlUxLzho+1xovCmwRqvhCXIlCpUEuAQJnWFIjIx4nAC6HqrG1XZJU56pV+oI5oOaA8xybGzAOd1CVdKZgHGkmikgrnUiNj0gzVaa4kUKrRFFGgTMrnZARNUpXM3+mYUS966RY2oyFnxo+Sszrqmp0See8sn0Jn+TQ6AphCV9k02ium0V0xjY60s2i5k7mbN1eBJnLv3MjfNPNArfePSqQ3TPiVTKT/RBDoLiNQEa2ES+UiinkeI6GbX5MPRr5uLeXj+TCwUQQvPN+gNEPu3CNjlTt4Q7Bqgufv3Cs3SOv9T6Az9xJaSq6gpSgMxcNoLbqMlqLLqCu5iLJdk8id9sG+oME+74V9XkP6vAf2BS/S5wkee2FbYAVRdBOeY4Zp2suAMU2lqqQv6EjnPPNocKmbv3jQhZreOdT1LqC2Lxrm0dC/gLaOKTSlPoXO+55A1/1PoutTBrg3YZxjFRY7qrOaiIowHhLygUp1V5xqJl4TA/x9QqBWErWUa/KBkG5Z5rUMUTLKqggS6G5VGEE1HUWNmA+XIuweVN3xKEq3nkeuFj2NycwL5QuOkwVsHkKDPSqoQDXY5zRwcmumU02szJzgau451VLt0/nCndPknuF9I/eSrNwHwXtIKpTYUEamgnqQKpM/1ZQDs89shq4he9yLnCEN+Zd8yB/SsWlIlz3XTZe411E4tIiKI140lF1CR9YFdGVfRBfbOGZfkokM3MtxziVs5rnPPY0WPidRPvePck4RaHhRRqgalWoly71i3jPWVUaIrGKjmVCLlByhrrPiC6YxkUDXJK0zOsqZeaC3iwJN4kyk7WhfyaYMoR9UyHHYB2He9FFXoyQw1kNNpUOS7Fy7LwRda9SxrGv2oXXtPjQ/PIj2lhk0sEPRVjcat3L1oHGLB41bXQbcqNk+h6Kn3ch2+SWpWpp6SHMPr2rwIUrFB5vR8MPm4wjc0Dni1mMhUD6Qs0yDMlOiQleqCiqK/FEfSh4dQ23RRTQVDqOp6LLU5ptrc+FlNBUNobnkMlqzL4Dzi1p5c63ag9Y7ooHqezdaWd66Yhc6l6gM4XXizRskrKBb5EYfJv4OgmW0prqNt7ZIGWic+0ZeAEHTUL0EYvvUeT9V37kDJdvOI0f3y1x363Ux92l+dV2FPJlnGQc2Doujr9qtw+HSZZ/u8SJDoCHDw6/zWEO6UZ5r06hyVaPsaK4BdY69ElSbQ458CSpj9khQ5/n38o/Po3jvPMr2uFG+1xVA6b4FlO1dQNm+BVTs96Kuawp1Dz2OpvX70br+AFrXH0TLvQfQsp44KGi+l+sBtK3bd9PJk/7UeEPlQu+D+C/00O9V11tEluGCEmW6grXw26UWnu3sQk34SFfkR6l3j/ezN9zOLqQS6aYTqGlK8mIEH5wQMmZt9+r96FxLBEk0hEDX7kPL2r1ofOQYmrvnwNnm1b0e1PRy9aK6R0N1jxc1PR5Bed8C8k95kOnxQdrMyQ1stptjV/mw3p6+2OTJh9TO6Z6cXz6tGWNBzLZ4wVU1bPaj+PIiKrvG0eq4iK7My+h0DEUii8riCjptF9C8bq+QU2BkBgkyDFKfbnR952dnNa9DP0tFXvL2N9WIUQ57o+Rpfr9JoEu5DfiQCIEuRfAsFZVyUdPKiU2gVCgmgWbrfmzkPPjFSFgJVMiT/sgoJMo58zaX6mPAWfN2Ep1PNYAJuAGsLgGD+ALE6IvdB9b8efZVIEyXgdqTXHVkz/tRzGmy/Quo7tNQ0+dFTZ9H1urA3oO6fh3NLRNo/tRBtK15DJ2r9yqs2YvONXvQuWYfOtbsQ/vavQqrP/xL0rzOkSvvJWVtRiPAj3rOJFB1X1Hl3qYEqpjeGCqXIIGaUjyaQ5iqwTwvvSEDSjYegQaJ00qi5r5jHQl0D5oeGQS7Ewlx9nhQbaBmp9pzrdnpRUXvAvJPepDJjvA0q3Q1IZPdkqJ2lY9BoPxZEigVKoMEqhGz2V80SJ5mv1HHzCIK2eC2ewKtWZfQlXUZndnDUdGVcwVdtvNoWbtPtQ1bingCn+MSCs9QoJEPxId7yETJJqhApVnEkv/O4Ms0lgI1Hy4GFqpWU4FeQI6+GFOBpnK2u64HSJMqMxqBmudo4qvOWa5ABy2TAMNXkzyXXoPWTYBASaR0LdDSofk+70PhoBuV/W7U9GtKCAx4UW3u+72o6feibpeO5tZJmb7avmYvKCYCWLsPXWv3o8siNjokAv/hrm/s+4TX6eMj0FACZtMaEuijyLit+4HedAI1FWi8h54KdGkCbRUCPYqmrjkh0CoLgQaIlCpUCHQe+SfdYp6x/I+kSSXKhyPqgxCHQKl4qHASI1C/EGhF9wRa6JvKik6eJNWunMvosp0TAhXiidJbM5q6TORciAI1leiHXG8+gQbvhT8WgUrfAlGa8dVnzPsl6n1kuBFM9WmuBoFS8WYvkEA9qO5zo5YK1CBMEij31QNWAp1C46cPo22tIlBTTERbPx4CpRvvD0Wg1obK+bdxR/rbgEDZM5MKdEkCPeVGBqPrywT6kfxjywQa46UbQaKJE2hVwgR6aJlAb6uRHssEGhJMogm/rEDZei6xIFJiJvyyAl0m0HC/97ICDckRDPpAl0342D7QZRN+2YRXJvuyCb9MoB8jgaoIPX2gjY/QB7q0CV/eq3ygGd6wKHyE2WWYZ3F8oBJECvGBhgePzGM/smaUD5RBpGUfaFBpxvLbJkagO296EOnj8IFKoYXp9wysujEGRoOdQSSLD7TG8IFKRonhAzV9ogwitbTQB3oIEkSyBIw+yT5QpjHd3kPlbpIJH8gHZb5oAlFZJs3zxjAjje3rjKAS0zXW7UfXmv1oXaOi8CRQpnxUS8SdUXemLrlRvZPwom6HF0Kgp9xweHxIkSoiVa2SEpKGYonIxyBQlWfogc3HIBJr6c0aejVfKXPass74kDXtkyBSVZcTrVlD6HKMRI/AZw2hM+eyVFG1MB0lbO56vM+MuaBEtO9hepOkODGx+UMGjVj9ZYK/I74PlCWlPZYc0fhJ1+H/5vgEqgowqu7sMQg0Rh6okcPLKDenBTACz3xQM+JuXW2cJsAIPUeyGOlKdsnxtFQzxUljihqAlJcy/Z9qpIvZzFlF4kmg6m+l6xqy5q+i4JgKIknknRF4gSZrLe/rARWFb2mdQtOnDwuB8tlgJgphjb6bZMqCE7Nc8sNed/Vze41pAiqif7ODSNYqOrMZOIcHMuuibWWv5IGSQFffTnmgH0caUzQCjZm7uOoxicK3r9uPtrUKrVzXqRw3rh1r96J5zWNo2HAU9d2zqOh3o6LXpdDnQkWfOi7v9UhwqaR/DnmnXKAC3WgQKG9+EmhqAC6kcoKmeRwjkZ7TOBmFz3BRafqRPbkoK/fhyJ5aRNGVq6judqI1+yK6HZclEs9ovBXdWZfQnT0so0iY3yrVRRwju+TLJv738DNu4TiPj0Cg4Q9gfAIN92XdHAJVKS5BAi3edh7MA6U/Wr3UgquZFyqt6pgk71I5u3ZZuQ+F1KwbBMp7wiTSaKtJmHLfxLJe5L5iPqlLZmKROAmOQw6sOufL68idW0TJUTdqe12o7/Wioc+DeoFXjht7NNT3aWju19HWMi0E2rE6NApv5keb5Mn14yVQRuJZ/fZRwN8RCpn4KedYB6/yQBvveFQU6DKBmiV6xoiHwLCzaOWDrEK67wl0siv7ZwcVHhiUGUE8bn9gEF2fHUTbZ59Efe4p1OxxoYT15EfZ8Z0zhzhvSJN9IdcnNRQMupFz2YN0nw8sx7T5PUaJnYZUPoSBcjvujSokqtAwqDxQKlCPNCXJGtaQe0lHzpAPOUNczb06zhvWUXLGh+r6YTRveBpdj5xE54ZIdD1yQp1/8Gm0rGaTBc5A55iOSJg3HsnVWh4Xa2/9rGU+EWcURYEM6YtRgmf+juDfSDSIFM/i4EMSilgKNJRAd6Lk0fPIWfQj5VqUyak8xwmZTIxfUKWXGXNmqa6G9DkD8yzpNcp6PWpIIF+e0YiT59h4hAgn7FS/B9EgCpRlwnN68G/Oacic06WUmOumcR/KBqZR3+hEU+MUmhomBY3GvrlhEo2Nk2hpmkRbiZrCKlaAlDOrUudOcx+23hwFGppLyntOESfXD492szAkikBQwkoNjWy6c6dBoOGlnLdwJdLHqkBX9AdKCs3GICEKZ9VutK7Zi+6HnsYWYyzHZvt5mbwp7enYdd5+AZs5QM52Dg1Vwyg/oSP/ylXkXfYh77IfucN+5F1exKZhP3Iv+5E37EfOZR+yZnTVHeeqIk/18Km5NMGxxTxWBGqqDevKh4KVKumaB44JL7JPu7HphBebTugRyD/hRcFJL8qf9KK6+Aya7j2Ejnsfjwq2pmN3pY57DssETKXYQ+uEAyreHOC2MvhZhnyGUUx1deOHq8Pw4xtpeWd2gQr/HR/nsSrIqF7dg5KdF5BzbRGpz4bPZFfHtmc02H3BURkyMDBKyS3Lbe0zbmXm+3QhR7NYIpwo6bbh19gLQe4R3ieCSBLnqI50rw92NqlhAxuBjswJH7LGfUif1JA56ZOa9/L2UTRkX0RLzmW05gyjNWcILbIOo0X2Q2jNvYR22ykpX7aOIOYzJBZBlGu+1D3xYb4uL9IopHejlhIJlDXzsf7tHav2yrDBljW9yFhRgDXJa8NKOT9htfBLVSIFHn42lzAudjwCZbeh7owLaM+4iE5Lr0+2qWPLOq7ttnOoqx5GySkdOSOLyBrVZOysdNMZ5YAwzvFmmzJOWFQddGxUmyTQq25sZJecq9GgVIaVOIN7qlI3mASd5dSRe9KLoqd9KDweHUXH/ag4oqO26ByahUAPRyXQjnsPo2v9E+i++7AaHZzEoWxLE6j5WS61WgnUrOoJrfwg8d3KBEpzzyDQO3eiZOd5ZF/3xyFQltt6YWO7OYM4uYaDfQzSpz3iB03zxyfQNFGa7hj3TNh9xDnxNNunvHA4/cgaJ3Q4nD5kj/mRMeETMi265ENV6whaHBfQwSo1xxC6sjieexhdjivoJLhn9VraWbTSrWXp8Xm7EqhJuLHuWxIoJ7U2r+lBxor8ZQI1CZTyP9aHJudp0tPHQwJNV+SpOs2zYTKnbFoJ9Kwi0JMkUI6lVT0dOVExfCgY25Cxi45JoCTOlKjkyQdBme5B0gwmTqcappxJoHknoxOnIlQ/Ck/4UXlER02xSaDRFSiVaee9T6DznsNo46C4pJ0hWQzm52eu0rVo5RKfpUWVhBBojJ6htzaBKmXLPpFVq0mgF5YgUEOBLkmgbGWnAkwk0JQYfu+gGjXuj5j3jkGk1zwGgSrSJHGaoALNdLItng9Fl/yoah1Fa9ZFdBplvh3ssiR7lv2q0t+unGF0pZ2JINC4z5Ll+t+s77tZCnQpAm2/QylQRaAFUolEyzg56RPajSlRBcqHNO7FtBBoV/pF6ShPAmVTZJnxblGgbfZzqKkeQslJDTmjJFCfIJQ8/UKmQQLVhDhjk+dSBOpW3ZuoQCc0kEALjusxFKgi0KonFIG2rI9twivTXpnwJNC2j5FAI5WnaXbfygr0oxNo9K5ZBoG6NCxNoIZvnC/YpQj0KglUR/pkJIEqIo1HoMMBMpUSXyrQnGF0p53+L0mg6SsKAwSatEygN5dAa2uGb3kCNRXoMoGaRP3h10QUqPKLRirQW5lA20IU6DKBWhXoMoGaEXgGP26yAl0m0NAoaSx1bzXhP+kKdJlAE7snYt0r8c7/MUz4ZQL9GAn0djDhlxXoh1ec4WSfiAJNe8aLQBTe4gO9lRVoqA90WYHexgrUzK8K7QfasXK3pB1Iu37mH4alMgR9oIwex56Vk6gC7Xz4aQR9oPR/XpAAEiduqqDSedAHairQ3FHl64wMIEXxgS7GCyBZfaBmZVJwZZ5gGitMWEUiPlA9jg/Uh4ITvkAQKWETnh37P1YfaKwBdH88H2g7K0842oVDB429VKZwL0GvfrQwSyAQRDqPnOsJpDEFCDTW5AA1mZXJ9DbfUkGkD+EDnaIPVJegUTCdiQGlKD5QCRhdRgdXI4gke2l1ePv6QK2cYe5vJIiUzjSmiEqkWzaNiQTKf1wy7kxajZTkTDTcsQ0dK3ZDcreMLuiSCGuQaOvKAWO2CckzFoGqr8UiUOaDqQoXaxT+nBAnA0jdNoJjijk87rw0Hm6znZEgUukJL3JHTAL1I3tEl8ARJywSksI0osZr2JjDRwKVZGumpJhpKUY+6DXj2MfEavaGVOCeSGECvs40Jh1ZEz5sOqWh8ET0SHzBCR2FJ32oYhS+5Axa7z2EzvVPoOPeOLjnoKo+ivMS4gtKReFjj34ON8NaQ6Z3/mEJNGbn+pUs+SQxDqCDBRZJPWhK7kVzUk8EZL6SMWepYtV2lDx6Nk4eqAYbVaiRxqSUZywCZRqT6u1KAmW0PVYeaCASHyP3MzywxCBShkmgEyoHNIOr0y8R+awJvxGFH5Nm26rJzBV0Zl9BV5ZCR/YVtDOARKSqKPzN7O0afp8sdZyICc9EeGuVYThvWLkjNA+UM5z2ok1mOe2TPFAVhd+k0piSDW66tdvZmf9IKtDV2Ci18NvQHmX8hvWD4oNAFarAfSioHDiOITyNKTwXlDluTKTv2HAcHVnn0Z51QeYEtXHNOo+2rPNoyb6ANscFNDvOoqpuGEWnNZVnN6Ihc8wnuZ8OyQnVkTWqI3NMQ/q4VwaHSRK0MdwrcMMLaTJB2ovUa25Z+TCpuUmWcQxSiueVJHqW5eWM+VAy6JU8z7KjOkLwpI7yJ32ofHIRDfv9aCg4i7Z7DqJrPfNAw7D+MDrXP44u4u4bIdDE05jkWhllcsosDi2jkxbI1EIAACAASURBVOu34gbKLpmORtILQ7jJHftv9cvPstKqmS/gFb1oWNODik/1o/xTA0F8Wu0r7+8HUXVfHzY9sAO5e87A8ZyGlM+7kEo8Z1mfW0Dac27Yrnpg47BAmbfOyZfeUMx6wfnr9jnmgTL3V4taGhogTiPFifcQ7xW5XySv2Hj5SnTe3HOWkg+OcZ+83OUFP+JHzqhPUu5yRnzIGfOj5LwPtU0jaM84h+7MC+jOvIjuzCF0Z1zE5gyOgLmILsdFbHZcxJaNJyWR/o9KoGGWp6kkrauVF6zno+0jCVQNwutYxcGRu9FizQO9HQk0NTkLjWt2qEmYS+WVxSgDVBecakk98B0kyFhYvQdNHIpVOIT2phm0NE2huWkazU1TaJL9FJqap9DGUrfGCVTtnEbBFR8y531wzGrImPMhY1blfHLNNPYs3+PYBjUZ0VSdZs6eG2lXjQeCD90iJzgGJyymsxzPmNyZwQdywQPHvI5NJ10o2+JEffsU6joiUdsxjbrOGTSxi07qU2jlmIU1xN4IyDwbNhFhEwjOUk9AgZL0RBFEK4cNP5fAjS/19/ISDH35hb8MZSwLTes4/0Z5WcqERZrl0YmZSqQjWdXyN67sRU36YdTuc6L42ASKjzpRPKhQNOgEUTDoRMlRJwoHR5AzO430F9xIe2EeNuJ5Y31hXs7ZX1hA+hc94PA31r5zdLDAZcxrN0Z8pJvNRDRlnkerrQ8hUGOKgSrtVPnBqUaJp5R5svSXHed9qmQz64IHm04TXuSd1gSbjDX3LMdca6gqPYfmB56UEuX2B46h/cGn0MFV9jw+hs4Hj6HrU0dUUxdey7Dra5bY8ryovxvofRD+u+IeJ3AfJUzw/D8YapVWrEmwgf2qfjTdsUMS6Vcnr0PS7UOgSUhKNnygK7LRsGZnYgQaj2A5yEwQOW3TbILAzjIcitV0/yG0VY6iZasbTVtcaCRkwuaCOt7qQvOWBTRsWUD5fhdyJ/2waT41MZEjagVqXG26TFJU5+QGj5a/R9VpOW/j0DgXlQvNviAcLMubVnmDuVN+lB1eQF31CNpLnWgti0RbqRPtZU50Fo+g5YFB1dDDuLE72DDFcFtwL6YTux5x8mGcCiSTtGjCC4EmcEObN+ZSa7v4GGP7r82/fWNrv7h+ov/t3eik+b5iFxqSe1BSOoiSeT8cz/qQeV1HxjO6rNw7rvmQ/owP6dd9yHhGQ8aXXbD/6SzSXo5E6iszsL8yB9uXF5C6uGAMc+NQN1oVBvTgXpp9GDXuCRGopjotSVmvdFxSVor8HkvDkOxpVqq5UTjoRdGgF4XHCA2Fg7qsBU/rqDjoRU3eKbTccwAd6w+jff3jaKeFwnX94yFr510HpfdB9M8y2FTmRgk0PJ5h/f03oibNn1vKDWD9uvx+cxIn/d/mPpk9IPrQuMpoJkICTTKtYyOhXo55TiHeZM2P8rUbnMpp/IMMAt14swjUJFfLuOJoXWSoTJvvO4TWylEZUVy/xYX6LQsBNGxeQN3WBXCt3TKPkn0usONRmu6DXWaA67B5CWPSokcHez1yJng8AjXNefpGAwQ6o8YUO6Y0mCCB2mc9yJ3yoeLwAuqrx9BeOoX28okItJVNorNsCt3FY2gNI1DrTcS9acrI298gUKq4WGR16xJoD9qSg1VU7UlxCHQFxzKzce4uNCb3obj0CPLmvEi7TjPYjY3X6Ks2rQUec+/GhusupPzJHDK+GkmeJFQSqO1lg0D9LkWggX6cxnRM41hay5EQOWTQr6YNhChOS2WSItfQn4810liCjNM+KfUtPqqjeFBDEclToKPoGEuANVQf9KIu7xTa7jkgLhy6clRRxWF03qvcOua5zrsPKeUZ5aVp9SsuRaDhbrOlCNQkxkTX8Hs73nF0AmU7OyuBFmJ1cvhY41s9iJS8AnckrUXKimw03gQFahJEu/T5DB1XbCpQriTQJguB1lkIlMRJ1G9VpFqzZQ6l+1zImVyUqg+7x2eQpbma5KlWducxiTJyNX1XFgKN0nxCKVASqI5yKtCaMbSVRZInCbWlfBJt5ZPoKnGi9UFDgZovklgrTbAlzGNl3pstv4LKI9EbPOb33RQFGhZI5IMQ5YE3z7XT/7lyNxqS+1BacgT5QqCsFjOvh1pZOUbYJAC4gLQvzSP9q3NRFShJ1EZQgfrdUlIZi+jM89G7LEXpvORLjEDZi5S9YPPYK8EgT5KoIlCSqRdFT5FAPajNOykz3VU5r0mgajXJU0j17kNoNcxe8/Mz1wgSvBETPs71MX//jazxCDP8a/y9kX5zZV1xKqdqZxeNQIPK8xZUoKw3TcYdjMJTga796CZ8KIEeCJn3HotAab6b6pPmenDvEgVas3UOZUKgfvWQsPuNh+Z6KHEqBcoxsksRKNuguZUCXdAkwBCZO6hLICKgQGtG0R6DQFvLnWgngRZPfAwEarylb+LNLy6BOH7NWGo47vk4BEr1oSK0j6E+uQ8lAQL1hvQpCG9Zl3JtATYS6J/GIlAq0BnYvjyPFL8qveW1N8ky2kolGkt5hpynD1RM+CWIlDPfhUA9KAwjUCpRwdM6qgIEGlrmS/UphGoq0vseRzwFGkFwtziBmio4OoHSbx460kN8oCEm/C1NoOofd0fSndiQ7EDD2gSDSLFUlcVEVQo0QQLd6hI/J4mTJrtJoI2bbw0CVQo0HoFSmSoCbbnpCvQTTqCWPp83SqCpJM9bgEAdYsIHCZSkWWCSJ035ZQJVQaSozW1udwJNTgIJ9JHkTNQnGoX/GAjUJE0rgTZQmW5eAE34P6YCJYHWx1GgNOM7ykIJdMkmtwmb8MsEGkuB3ioEaipQ04Q3faCmAl0mUM6Zj2bCWxXoNqQn50fxgd7SClSZ8JIHuiLrpkThb8iEv18FkZq2ulBnMd1JpuID3aLOV3/MJrzZRzLUjFcmfJ4RRGqoHkVHaXQfKE37ToNAb74P9BNOoJasiBtVoGm3iAIVAj3lUea6oTwLnzLMd0OBBn2gyyZ8qC/UVKAmgYZH4W95AmUQaY3ygf6hFej9h9BcOYKGbS7Ubl0QkEiDexdqtyygcuscSvYtIGfSZ/hAVbSdEXjT72ldl/aBqkR6m19DxgIHwvmRxZlHYcia1pE/uYiqw240VY+hs3QCXSRKibpb1wl0l01iS/EE2g0TPvAiiaXWE1CgAZ9jHP9ihE8sAV/pH9MHGhpECvVVRxKoC7YvzRlpTDMgYYZiGraXp0N9oEv4LW/UB8oqoyAi05hYqZY9xVJeL0qOaig9qgs4eqaUOKqj5JgPtUYUvnX9IYm6qwg8e8MqsLhCfKGGDzRWECniet/iPlBJabwjUQVacLspUDMPdA1Skh2oX71dcjjjJdiGR9fCjwPEIWlM9IEqcNqmFW0cFnf/QTTWj6K234PqXg9qej2o7VF7Oe7xyrnKXheKnlhA1qxPatNllo2Rh6cCBabDXwUQ0jT2fNQsc444QE6VZ8owOX5tkZVGOvKGdOSf9KDwhIai4yzX9KLouI6Ck5qM6Sg97kP11knUZZ5EW+optKeeRnvqKbSlcX8KbamnZd9mO4WujSfRvv6QzJBRs4h2R5llpOYbKZPGHNbFSh9W7IRCqr3MfDlLAnLEQyRBmgEwv9NMtF5qjfY7op1Tc3FYzWSYW1LlFK26yTxn/p8sa/Iu+b9xgFh90k6UFj2B/BkvbNe8YPd36QAfmFXFogdWibmRuuhC+pdnkfXn03D8+ZQB7hUyvzGJzG9MIePFeaQsulRam5GqJPeIdXCcmc7E0l2pMFJVRjIXS8p+eU8YYLEFg0huFlloSLdiXkM6YZxjoUXesIayXbOo3jGLmh1zqH10HrU75lGzYx51j86jbocLzd1zaLQfR+u6A2hnmtLdh9Bx1yHZc+3g8d2HJIDUvu6gmrRJcgxDtGcz/HviHUf7+Xjnov2ueN8f/rUOg+AljSnWy52J9HcykZ5R+HAFekunMZkEqko56+6IXsppfbDCCTP82EqgXesOgEnBRMddB0LQvna/TB5saHWiZp8PVXt1VO31oXqvZb/Hh+o9Oir2elF0zIOsOX+AQJmOQqXJNbSjvBGF9Zh5okak3qshlcnVXg1pXp9EajNdPuQfc6O0bx4VvW6U97pQ1rcATvgs7/OgrM+N6j4X6sovof7uvWhbswecUR+JfWhetx8cU0zlYCW+UHOFJEQocgn5XI3GLWYTBjNdhUTMgWwSrQyQmPl7wlcSaLDFWeBaxFLBiZyPkU5j/bebe6lkMur3JX/V3AcqrvpQl7QDJYWPI3/Kg3QWMoSNFua1DPQl0OeR9ZVZbPr2NHK/7YxAzqtO5H5nElkvzyH16hzSNLMZTHCyQPDeMAbFyawjM3XKaCgTlkrFYot0H4nSI6M6Mqa8IDKndGROGuB+SqnPwlNeVLSMobFiFM2VY2ipGJO1sXIcTUSVEx0l42h+8KhUqTGFr23NXnSuVpVqFBMmpHqN5xO5NvyeG7g+vB9uyj1h/NtIliYxcjXvg2ir+f8J/zfI8epdRilnIVYn3aYEymYiCRHoqt2JXQQq0HUkTZJnFKw9IARa1+ZE1X4dFfs0lBvgXoHkqaF0nwcFT7mkrFIaQPg4ljjaQ2KcI1F6fAa4V0iTxHuSKJPxdWTN6Sg66kGFzJbnvHmvjEau3qmhZoeG6h4NDTu9aCodRtNd+1SV1prH0B6GztV70MmSVd74JEKWSRrKMfpKtRYsaYt2w4WfC/6eWA1C+DeXaGKd6ENp/b4beECl9DNGehQbiDCvtSFpB0oLD6OABOpTBGoPUYoq2V0R6zyyvzKDTa9OIvfVsajI+44TWS/PIPXqLFI1Xn+SaPR7g2NaJFXJ4neNzBP2IO2aQaBzXmROsBuXD44JPSro+ik8qaO20YmOUic6yhhQVL5yyRsum0BrBQOMTrQ+cBRtqznKW5U4mwQaUe7MUmDrNYi3v4Hrk/DvjPf3LF8zCTT8Xo12HPdvr95lzES6rTrSG85ZqURS3Zjq7tgatZmI9QPhGy+ht9jqPYbijEKeJFSDQKlAq/b7AgSqiNMrx5V7SaRelO5zWwiU892XIFCdKtOLNFGb3BO6KNA0zaOUqOZF1jwJ1I2qnnnU7HSjmuhxobrHgxqSao8b9T0eNJQOofGu/YogWcceBZxhLyqCb+K45KmI7sMTaDxyVjXzcW9WywOQ0PfdwAMan0B3RhAoK8FikZ1UDPnm4XhhBnnfJoGOR0Xeq0qBplydRyqvewzy5PlECZQ5wna/GonM6ZqOST8yZbomJ2yGImdKR8kJr4wrZqlvm+QEMy+YROpEJ8t8KybQXTweJFAq0LWKRFnSHEGg0qUoaEnEvU43cH2WzAz5GO+NaP8HM0e0/c7/YgQa7cOIOLcEgbavPYDGTx+GUqDhBKoUaCiBuuGY8yHNR98mfZrRVYYy6Vne6TXKPIOmvFKgXqTShPdqomgLj7pR0etSyrPHg6peEqcHNTtJol407NTQVKIUKOdyUzWEg4rCNMHEB8QOVQmQqPXFtNR+6d+niJl/P+Ja3OiDYf3+G3hAlyJQBsXqRYE+LgrU7ldq0yQ95bd0KROefmx9AVnPzyLv21NRyZOkSgLNfnkOKdfmkEr1yXaEMUg0cQL1yKhkaVIj5Ml2dSROiwlv7BnYLD6poa5xAu0lk4EyX1amKRKdQHuFM5RADdOd95FJpCEkepMI1Fr2KfeX9brejL1xb4jVxfnvccx43pMkzABpGn9fxFg4gYY0E7lNfKApSZmoX5WYAk3oAY1CoO2GKd+57iBMAq1vdaLaqkD3KnM+aMZbFKgQKLvgxCNQDQwisSOTabqbK5Uoz9MHShM+e04HCbRSTHgNNTu9BnlypQmvCLSxdBiNd+9DB82vKN2lxHw3zguBslQyrhn/UUz4P6wClf9PnAfD+tDEJlDVA5QmvEmg9IFGJ1BFgMq/vQDH83PIow80igLNCxDorJjw8cz3G1KgHBTnY1/ZIGEqAvXJjHfOeScyJn2SuVF4UkNt4wRaSyfQRuVZztVKoJNCoO2fVSY8iTPafRQ4d5MI1HptuE/oub0BYjXvDdNfH/73rMex/7ZqZ6f6gQZN+NtgKmeYCf9HINAGiwJV/k/6PH3iCy0z/KA8XxLiA6UJvwSBigmvzHaqziBU4xGlQE0fKAnUJeRpEih9oSRPZgKID7RkSHyg9HUGbvIoRMqvta1SCcPxCdRQiwkSE2/EpRWo0bXpJitQ8yGxPgyx9ksRaFCBKh8oCdTq/+TePOaaxiDS8zPYFM+E/86E4QOdMwKKsd0CCStQI4iUMaspv+ekapgcVYFO+VEkBOqUbl0BH6il7LetggQ6hrbPHkXrmqAPNOa9dJsRaKz7wXo+NoEGxxpbZyL9lyXQgH/0zj1gFN4MIFF1cs+IfJehQKMRaPk+3SBQHeUGmTKIlB8IIi3lA6XpF/R7BsmTRKrOC4FqFgLt/SQQ6Mdjwt8MAmW3qXajc1Nd0qOBIJIQKPt4GkEkBo5U8IiNQUigc8h6fgp5r05EVaA53xlFDoNIr8wg5ersTSPQtKtuicKTQDPZWZ4EGsV85/mcKb9hwjuh2hoaQSSDQCWgtEygcdRvdAK9DcYafzwK1EqgKnXJIE4LgVpNeDONSfk7NXAN7lUUvixCgcYLIt04gTJ9qYqKMxCFZzTei6peD+ppxpcOoUFM+FtZgZoEmmDwIUFT7WYTqJjwBSqNybYY6QM109LMIFLmC9NCoDnfGUMkRpEbINCbp0CZ0M9GyWzOTeIUWFOYLGTK4gsq0JomJ1oliGRE4Msn0MrWh4Eo/LICja5Clwk05O0SIFDDB8qkYNP3KXuDSNvWHgAVKH2gVVSde70o38foO+GRffleTc6zlV3BMTONKTETXvUJDQaQ2DtUfKBGHiirS1QakxtM1Kf5Xsv0JSbv96hVTPgeL+gDbbiLaUq3LoG2yBiVPrRZ8kCj37A3RrA3jUAljakPDUykL3gCBVNepPs12HWa8aEgefJcmu4SH+imV2eQy5zPMFCZ5r06JUGk1KvzyvKIyAsOBhsTNeGFQP26ECh9nVmTfjgmGY3nXsE8ZsPtkpM66poUWbKpTIcB7lni204FWrJMoNHvx2UCDSFQ80NqYy7b3Qel0oKVF6yy4Gru2+46iPoHHkdNxwTKD+koOegRlBprsaxe8LjooAt5x13InNeR5gsSqDwQRjQ+GJVX7cfsMtpBh11GOZgrSz8ZSPLJ2IecWR9Kn3Chdvs86re5DbiM1YP67W40b/Ogpcjwgd75xyRQs9In1qoUqPn536z1ZhAoO+8zgMSmyyTQ8vwnUDyuw+HVkenWQpDh4YwhLzJ53Txu5HzJhfyvzyPv6zMR2PT1aWz6+hxyXnRJR3pTvS4ZhbdWPcXYp+s6HOw0P+pHnoHwPY8LxxZRcUxDY+0YOovG0FU0LgGjruJxEN1F4+gqGceW/BG0f+ZJtK7ZE8gDXfaB8mV+WxPoChnpIf1A2c5u9dLt7PhASXkXo3rmPmRlgvgA2tbtR/fnnkbXw8fR/fAJdD98XPbq+Di6HnoazeknUds3j+KzfhSc1VBwRkfhaR8KTuvIP6Or4zM6Np3WkT2sIcPrkxLMNKOjOJvxpvz/7Z0HeBzHefcBFrCokZJsSbZEigQIsDcR7Gh3wKFQjb2JlESxSWYnxS6KkkiRKAeAsp04cY/tON2J4zjFTuLEcRInceLYiZPYjkucWI4luUh2ipN87/f8Zva929vbu9s7HEgctPc888ze7uzM7Mw7/3nbzJgBYHcYn3SFPT7jAnhOfa7bup2cRwRDFLPB+PGdZ+f5Xplzul8W3f+01N9zUpoWnZbGRWckcg+xvW5YdFaa7zkr0bv3S+O4LcH8X3HXSGmP1OV47mfGF7ScQ9s47TQ9sFu3WdUUwIKKj585JgTXkhzB9FsAER5pAkMAxwyb9fN6gCD/8TLwCYn1+x6HelYmWUf6+2XJ9J1SeyAuNWfiUnOqR6aftIHrmlPdMv1Ul0w/2S3TTnVK9cVOqem7LNP6LqWFqv6LUtX3vFT1dcrd/dawOIUJ1rW7vPsaujHcrTmeo8ccW83R1X6h+lKfzDrEEuJOmb+zWxY4Qa+JCbW7emXZgxdkJcs0b9sr0dv3SvPteyVyxx6J3r5Hmm/fIy2375UYeySwhLMCwGBRBudiOQGjkTcE6B8zSebhZpbPpNo8khMG2C0ev+bUYPd2xbDpWq6b5dptTEq9BiugV5ZyrrZLOdNWIg3pzUSSADp5BIfK5d5Q2QxOBnQWv6/IyPUSvf5hWTXpoLRPPSIdU45Kx5QjzjX/j0j73YelcdYRWfzwZZl95oo9ovhMv8w83W+OKJ5+pk8IM08T9xtl/tTePpnM+mlA0yy/cw6L02s2Sb5i1ylXPdUjnB1PqD7TK9Vn7LHHNU48/WyfzD3aL0uiZyRadUhiVUekpeqoxCqPmpMT9X9r1TGJ3bZX4KgTZxoFJe5s6UZtkggAZICGg9v8gh5rnPtUTuNfx1lUAQZUfgC6QSLlqUdY2zpnPobEC6K6rJP7DWUPyJJpO6V2V7fMOciBfXFP6JbZ+wk9MvNAj0w/3iXV57pk2rmetFB1rlsqn+6UqRc5kpqNkruc4LPDPE77/bi4cYZWjyOJqLtbaoyL28znrsi8XZeldv0lWbqeJb1dJubaHZZv7DZqqLpbd0jL2G0SY637+G3SYmKut5t7LBxpwe+TPhrNSiN3yE+tkgKEAfpbQSvlvWy0OXqzOT3V24/J/9AtEo+Veuwy40ySEfc1rV/MSQW6Iz2biXiXcpYAgLKdnT2VMxiAMvNkA9DoiI0Sve5h6Zh0SFqnHpG2KTZwrf9jdx+R+lmHZfH2SzLrTL/lRgBLc8Z7r9Rw5rsTqk/3StX5uHAE8V1vUwC1m04kz3t3dpm/0iNVl+PmyOMZp/qFYPI8Zc+On37a+X+mTxYc6Zel0bMSrToisapj0lJ9TAxgTjsmbdOOSszETxoOIpLP8rocxMkxrpxcmu0spCSxrpUWDmTLlac+DzCg8gXQfAHTXXeuLYAixq+XxrIHZVnVTlmyKy5zD/bLnP19qeFAr8wh7O+XWQf6ZMbxPpl+rs+cr179dGpc89QVqTnXJ1UcWdzbJ3CYk/v9OVDOOQJA2XzGHEaYOEMr/VQD9OU1F/qtj/D6Tlm+Li4r1sVNzLUJ6+OyfH1cVm6IS330GWm49TG7cQ77P4zfZjxN7B4QyZV4rH/PB8QCpQ3Q34UBaI7TWOnXrMDoB5YZ7o1cKw2j73f2A30dACgdkglAuQ+ANo9/WFbddUjapxw1ANp+twXRdsN9HpHWuw9LAxzo9ssy68wVh1sE3GyoMaDqXJ/ul6rzfTKlFwDtFtxM/NYwm2M6rrBFXY9Me6rbACfgWXMWcbFXpp8mwNH2yvSzvbLgKAB6RqKVRwxwtkxLAmis+qgF1GoLoFH0nwpSA40r7NHPQQDUgNfI3BxoYrAFGFBXG0AtiDIg10uDAdBdDoACng5gKnCaOC5zDsRl9oFemXm8X2rO9cu0p/vSw/k+qTzfYw7/wyh4dz86cv8jO1IANAGe/mdqAbAznuuT+bsuy9L1nbJ0Q48sW98jy31C3YZeaYg8Iw23PGaWJ+vGOXiaqOueceXDmJrPJiFBaSxAf4cAOlKCnNZZwKmcVoTPlwPNCqDG6RsdaCqAwoUq9wmYAqD1s45IreFArxiAAzQNwBmxu08Qt/mP+F11vlfYe3FSRhHe7i2JCF91KS7TzvYk8zrbawBa8zZiPAB6pF+WRc9IZNphiVVbDhSuE04UAFUOlLO6i8qBMjhwuM9yGqdycYZ7u8YAioVf61NorFwsm4ksrUoC6FwXgHJtQ4/ZSnD2gbjMNBxov1Q/7YRzruunr0jV03Ejwk9Fl5lB94ke1AKo3fYwyYFmAdAL/TJ/F9znZVmxrkeWr7MguswBUxNv6BEAtDHyjDQ6AGrB8hG7C5kDogCp8X1OiPADENm9wFryAKobKg9jDtTNeakOVGc1v9gol697WNonHZC2qeg700V4BdDF2y7JbLjOM3EDeDPO9Bod6Awjyjti9ym4j17BMjrZnKGTyoGyv+PkFwic5ogOtFeqz/Yk8jEcp1EP9Mt0R6RHr2oANIIIf9iAJYCJCG8A1AHStmlPSuz2vdI4drNEjeg9MOJPbOgQcEPlCKISCn3vwPH8d+fr1yfue/lyoAMF0JizExPgawF0pyzeFZc5h/qMuA6nSUB0n32gz1yzH+usA70y/QRiu9WBG6f2p3sNLUAP5j50cdFudAyAGi8NHyBVYyOWejbfrjQnu1oArTT/uWfFeSvCowPtkqXrOg3nmQDRDQ6YAqQbemTlhl6pc0R4licDoLjtqeueAVRnAYnRgXr6LVe/5nyeBUDTpMQ8ykY8zzRZYgzkWXFE+NcBgLo7MSiAwoG2TTogsUpHdFcR/u4j0sG1EeGPSq0R4dGBYugBSFO5RbhGDEFwoADo3Wowcm1JdvcVZ2dzx4jEJrjTnoonuE6MSIbrNAYky9nWnO2V+Uf7ZGn0tDRXHZbWaccMiKoOVOP2aU8KHGh0DMBZxPXEAQHUivC5ATTRR1kGlILo1QZQN6ddX/aALKvcKUt39spcPC48HCgiPffm7bNgOuNEv1QbrjNV/6n6UDOxugDUbXX3u8aIVNkdN2AJUJrgbHeo/40I73Cg7AcL95kIiPH8d8T5uvVWhG+81YrwCqAKnBoPFgeabTyGABpMdFfx/qqK8DoYvTGdhlsOAAoH2uoB0FbHoBSbcljqZqcCqBHhHQAFNBU8q7MA6KS3JrlRrlndwo7h1WfjDreZVAskOdFegdNdcLRPlnkAtA2ruwOmKsK3vXGvsZ7GXqcAquJ3Jo4k133j5O+4MWGFX1oFB4qrmuU2lQM1XKgLUGcejMv0k71S4zEeKXgS9MHVOQAAIABJREFUK4BaK7y/9R0gncJGygTHCs9uXSyscB8Fo9cswph+sU/m7uqUJbl0oA6AYkRSDlRB0x0XC0C9uxllA1Dv2ExIKQE40avDgTpc7OvRiJTWOa6NMTAiIcJ03HVAMBqtUq7TAU/0obG7D0vdrKOyeHunI8Jj4MGFyRp6VIRXvaXhQON9kuA2lRN1AJTVIwqg1oiU1IEa9YDLiGQMSoYD7Zelzaclig5UQdMR4RHjCVaEf1yaxuJ2Mjw4UAZdgmPNMpisH+gGx9VqYHrQWNlaaTUi/AOyuHqX1O5OAqixuntEeMB01oG4zDreK9Of8uc+vQCKnpPgx3lyzzzrTW51aAAUlyZviMdlpsOBqgivHKc3XoEI3/ys1L3hMWF1neo73eDJdbEANK3fAkgcOlbT3s3S91cHQK1VvnnkWmksZSs8jvT5uDFph2SKVQfaOmm/tEw9bMR1RHb0nsSE2ORDsnLmYVmEEQkjzxnrt4mlvMYT1I2p0gCo1XVanaceStZjjEuAaOWVuExDB/pUXGac6TcBn098Svk/3fic9sv0s1dk/rErsqz5rMSmHTFA2TrtSTEie/WT0lr9pMSqn5T26uPSevsTjhHpWgDoGjFOzVmIPWVgBBlQeQKoVwdqOVJ0ZMGCXYVkAdiI8FW7ZNmuPpl/6IrMP9Av81xh7sErMu9gv7k/52C/zDjRF5gDNQDqo/9MgOeVuPEXndbdK9VdfVLV3W+2NcTvMyXE+2TGxbfK/N3oObtlxQbrrkS8YmPc/Dfxxrg0bOyTpuhzxo0Jn08DoD4nMCiApvRV0D7NkM7YJoL0t8PckN5tz8hWl+wAavvd6kCz+X9me6YuTdYPtHH0A1JZXuJ+oGYlknHw9TOUWK4ll8hg9gYcsVEiNz4isZqj0jTnpDTNPiERJ0RnnRBCZOZxWb7ohCzceVmmn+8z1lTEsWnn4jLtaSdwfS4uVefiUvlcXCpZiaScBJzGFQ4k6zLWV8t9dMnUvl6peTYuc47GZf6hPpl/uF/mHe5LhLlH+N8v8470y+In+mTlipPSctd+aZ90UFonH5I2fFcnH5S2SQclNvmgtPP/1t0SNQ7QxQVQdq7PJf6a58aIRPvboAPBHdvBYFc9ZZrY9H5eOlCzPZ8dCM2uA+WaOZIkcLCDJTJinTSWr5a6yY9J/frLsmxblyx9qNMTumT5VhsWbb8snDc08ylcmfpseKpPagjO/+pzvVJp/EA97kt9PfZQQQAV0b2fDUJ6pLKrW6qf7ZYZz8TNKa8znu2z8TNO/GyfcEzxvDMvSO2m56Uu9pw0xi5KU+yCNMUuOtc25n609aI0LzkjkQmP2CWa41IPT+Qgxdi4h6SV+842dd5+c//PdZ2kAedkiDwA1PR7hlVyZlyTlxPMyjPPajKlVfx5OSAw6EqkzOmgK3veV+PoB6UKAC2llUjlZclD5SaXT5P60feZZVvpH8yHMgg2mJUu2skZZzCW/71xp8RWPieRlk6JNF+USPMliUQvmbip+ZI0RZ+X5asuysKjcZkON9DVK1VdEHhcKs11byLmmVnD7pysaE/idJyisaqa3ctZI891n8w80S3zt12SRZu75Z4t3bJoS5eJF27ploVbue6S2q3d1kWlZp80XLddmq9/WCI3PCys0WcVVeT6bRK9fps0EzhRNI/ZO2O7uDgJ2tCu4NCZOJ/Yj3gtyAUBRwZJrkPAFGxJG+R7gqQx3zx6gzTcskOic49L/aJTZhlt/cKTyXjhKak34aQsW3Rc7tn8nMw6jZHRShGq0kGi4N60MyzV7ZFKNolxdqK3O9tzOJ0r9LFBSVyqn+qSGQc6Zdb+bhNm7+sRd5i1v8eoDu7Z1SNLlxyX+qn7JDL1gDRV2sB1yv/KgxK98wmJGBrxOe7GTLyWIaFN08eWX19mu5dKJ+b014xMT5IRou2RZBQEfWN1V2PJLlxrltWGCfpwqe4Kudcygkl/o1nKWVleyofKmQ2VV4nlMlI7yYIn9+yxuXRGxgFTsVkiozdKw+07JRp5XhpW9UhDx2Wp6+i0YVWnrFzVKSs6OmXxmksy90Rcqnp7jZN8pTmStlempJzFbc/ldoNmynUCQFnn3CNVPf0y52i3LNrwvHA8B1vSLWW7Oq7XdckSTtpc22WOS264v1MapjwhTc5BX2alCL56Y7aaTR/Y+IGTOFtYheQaCBm/PVu7+DzL3taZ+sD2Q/ryOZt+6AIoCxG2mPX6TRMftSu/ak5IS/XxlNBcw/8npbn6SWmYeVSWr3lW5p10ANQxLCZA1FmmawCUTWLcgOm5Zs/Rqh5c5Lpl9uOdMmdvj8zd2y3z9vQkw157vWBvjyzf3iUNc49I9LY90nbb4xK7/XFp9Qt3PCFtt+yWWMVW4QhfjDxeQ4/SS9Scrpqp/+wEmN6v3vtJukC1EqS/KT8QgCrHyRJjwJ516gMEyFzvK4A2VDwolSP8ONBSOdKj3B7pkX1QO+eO+4CBEgkxAFp/x05pijwvK1d1y8qOS1Lf3pkIKzs6ZWV7p9SueV5mneyx/p29ACVbj8FJ9Dqxs7enuWc5zhTwhCN1AJT7bIFW3d0vc4/2yD0bL8nSdd2yBAdo4vXd5v9SzqBfB/fZI/X3d9mzusdsNuccsTuOnnfk3SnH/X3Fus7e1smBkpzAct0L1j/XggNtdlZymR37J+wwuubY9FMSqzmZElprTkprzQmJVZ+QhpnHZOna52TuKRZaWK8MN3hyjb68+pkeYRcn3ZjZD0iTAGqBc/7euCzY0yML9hCnhvmP98iyh7ulfv4xszEIm+K0ApQ+of2Ot8iqW/YYAAXMsgOoSnK5+jH4c9ozCD2GAJrbpakAN6akCM+xxpyJlG1Qs0lIEJGOWafR4UBXdnTLio5LYkAT4Oyw3Ofyjk5ZtOZ5mWMAlE0eeqXS7EiOUzRgap2j3XEaeBoAtemm4J6SANC4BVC4T+PDZ8ET4LTgaQEUDrR+6lskMtYCKAd8AaCczZ0CoMVcB++afLK1dXDQdA+2IQqgFRZYzCBGfTBhh3RUPSlt009KW82JlNA6HQC1oWHmk7J07QWZc+qFAQMoZ81XxuMy43Rc5jzeLfP2xmX+3h4BSL1h3hNxWZoJQNlhjKBgyi5jt+4xUovVT2aWzpIcqLvPBnYdAmhuYFQ/z1zxoAJoZOQ6CQqgsP8KoHUOgK5AbEd8B0BXdcryjstSuxoAtSI8XKcCKCK8L1j66EDx/wNkiQnTEOGPJQF02doeWbG224jsy9c6ALq22yzPq0eEdwBUT9ZUAE0BUQdAs6ouXMAYhCMgTfEBdF0gke6qc6AOgJpvdgAUb4fYjFMSm34yLbTVnJS26pPSOPNJWZaDA2WRxLRAHGinVLHGHQDd2y1zswDogsfjsnx7tzTMsxxoAjBvf8Js0Wi2aXSAFA60PQTQgkX9khbhjRGpbIRUlI2VSeVVWTlQC6AbAnGgkVEbpeEOdKAXpW5Vj9S1X5a6dkcH6sQr2y8ZAJ3tAOjkvgwiugs0zWmbrv8GZA2AWh0qAIoOdPaxuCzceEmWOKK72YrM4T4R4W3okboHOqVu6lukyeFAVYQnhhtNnNnNVnZFNiLBrVguE2fi4i2LC6ITuxYAyvfG+ObRG6T5ph3SMe24tM44La01p6R1uhNqTknL9BMSI9SclPpZT8qSdXCgbHeoO3XZ5b34CePyBoAmdaBsa4fhyK55Ryox16h5ertkmgtAkxwoXKgnPB6XZdt7pG7+kxK543HDbbbe8bgR4xHl3aHjjrdIh6MDNX7CWZb7lgoH2mK2qru6OlD2Ay0xI5IqZwHQcQ6AYoXHAphJrAgmwrsBtL6jx+g+AVDlQA0X2n7JiPCzT/YaI5IF0GCcp+E4HSBVEd+CaY9M6+mTOUd7ZNGGy8aAxLEccJ6I8nqNPpS1zU33pQKo4TqdI2f9ONCgnGWwdFjCtZ2LBaDBOFCjqwtqHCiqFX6TNAOg6ECrnpTWGQDnybQAB4oYX290oFaEN/u5upfiulaqsUa+ik20nVM9AcupcSckrtWIBAfaI/N39xrdJ0AKN6qx4Uwfj8uKbT3SOO9JaTZcJxuAWyBNiO6OCG840Fv2ODstbRS7VaG/GD8YAIoFO4hkZNQnuazwusa9fJ3lKEdcPSOSAdDSMiINHoC6Rfj6jm6pdzhQgNNY4wHThA60V6Y5RqPsorvLOq+Oz4j6CSOS5TYUQC0HiuUd8OwyRiRjSFpvDUoYkRrvtwCqOlDDcfoAqLHCFyCiZwdSN4AqkA40DqYD9QIovrsZz/YuAoCawWu8GDZJZPQGaZqww67w8hXhT4kR4WtOGiNSUoTHEm+3N2QjmBpn20OzzPcZ1rZjcORMeQLnKXlCX6dxY2LBxmwAdI8F0Pl7e2Xe3l7zn9gEONCHu6XRiPCPS9vt+6T1DnuKghdA27h/qwJodpevEEA3pon6JSzCDx6AJo1IiPDdUocbk5cDNQB6UWaf6JVp7OXoiOJu7jJVD5o879ttZTW+f8YP1A4Y48Z0DCv8ZWMwskajLmN1VwMSseFAXQDq1oEiwrs50MEBUPxAs3H7hYBpYQAaG7FRCL4uJ0UCUDuZIMJvNEaktmnHpWUGIvvJlNDs3EOEb5iFFd6K8Gz+YvYycDbZ1mtrhbfnKE3t7RSMRdCHcqPJ6y6ZFu+RGWc4Irtb5j0O15nJiNRrjEgN849Jy22PS8dt+6T99n1Jw5EakEy8L82IlIkjDAE0ncZCAPXhzBiI+IFGIhekblWXrFx1yYBoiiGp45LcsyYdQLGUpgJn8j/gynMNKr6zQqnSWPF7pabrisw/2itLNnbJyrU9JtSv6Za6tXFZsbZH6px7deviErm/yzhKR8dskdYxD0nzuIckNtYGPwBlYPiF7JymvzjHO6lO1V5/v3z/A7iFAagvcDpcaaHf5n5PAQUdqHH8vmmHrKo6Lu3TT0n79JPSXuMErPLGMo91/qRZrbZi7UWZd/IFuxTXtcWh0YEakZ4TM/tlGgcFOjSAMTIt9MalBhe3k71yz5641O7uk9rdcblnD/97ZdFuG3Ndu7dP6rbHjRtT5E17E2d5rbr9CXGHDv47bkx2krUcqH6vuw1Mfxs/0KD9GmwCzUuE54wj9fXMEnPWlaGJqyjCl6Af6OBxoFYHususQKq7r1vq7rssdfdelpX3dZpQd2+nrLi3U2rXPS9zTvQa6+hkFP7sjmN2yWGnnGRg55wp6Lgu2aNmOa+bMJX4Uo+5rnyeuEemX+iXhbsvy/LIOWmoPy+N9eelycTPSFM9wd5rbHhGWpY9LQyQKGJ7xUMSHWsP+YqNecgeYYzxSF2Y4MQCBDfAegdQ2n9Xfhh2vMFdXiaQS97ngK71gfRh1EPLSinDpw64yZhDAjkoMEBw5+e+prxWc5LBemm57hFpu/OAxFguS7jLCc7/trsOStudh6Rp8kFZ0fq03LPfHjQ490CvzDvQK8k4bq5nH+mVWSfZTxYrO87y6WH6mR6Zc6pPFj58SZa0npeVLeelLnZOVnLtDW3npTFyTpomPS7RGx+R1hsfzRhiN+6wJ86iouCkgQqf1UgOk6FtnivGgZ3JsBkg8wSvfSI/AA22dNgcFmiko9wrp5L0l85dBnlWwhwohzW5dqRnJdLIVYIFLuMsVR7ciFT/pl3S1Pq8rHiwW1Y80OUbajdclrnH7TLOqV09MrWT44d77KmaAKYTWN5Z9XyvVHKaplknz6a69jr5v1emnY/LrHNXpHbDs7JyxmGJVh6V5qqjEqk+KlE2SK4itvei7DhfeURiEx5z1rknOUUvBwHBK0F7CTj5H84ij6M3fDj3NIC9xmloBzZzDrydHStYMhgg9WRPPA44oK91wi5pudk/tE7cJbGJu6Th1t1St/yULNneIwsescde6/HXNu6UhQ93yoJHOmXezm6Zu7PbxPN29og3zN3VLYsei8vSyDmpm7pfonfbJZmRKQfFG5qmHpTmSfukafxDYja0LlsrrPrhEEBvaOKeq991Ah1oXxouMAuXmBijrrJzlYnbXOK9IHnnSJOpr9Pvr/dXD5kJtaSXcgYDUN2BmmN2m0clgSZTh8GBFhdAew2AstlIYhOJp9lQgr0i2Znc7tjD9ZynrsjS9c9KY81haeU8pqnHzEmbxITWSu7Z0zfZ2Ln1piSAKnBqrN8XDEABjxBA0wcP7bLWORoZsAFAN0vbTTsFoPSG2M3Je4237Jb6Zadl2UM9cs/2blm0zRu6pPahLlm0vVvu2RGXhTviJuY6LQCej/TJyoZzEpm8X+ByY2wU4xPYKazjzfuMHrzZ2U2fScQ/rEnrdy/9KB3lEw9lAFU88O9rv0k0N4CWoAjvHBdajhvTGJmchQPVBhsUAD3RZ49SyMqBWgA1QKm78pyzpzUmAJT7T8dltgHQ56Sp5rABynaAs/KoECevj0pr1VGzM36riwNVwtdYCT4E0IB7gWbkQNcKfsQ64NAXtk1IAqUXRNscYG26Zbc0OAAKSKYDaLcsfqhbarf3yKJHe+WeHb2JmGt3gPtc9kif1Decl2Z22brL7rzFblt+4d437zf6cAXQbJybd+L00o/SUT5xCKDlUlZeJuVlqmpMHm+ca0VRoc8LWIlEJa8xgAYS4ZMAyhG3yoXa6yRXCoBaDvQ5y4FO9XCglZYbbXc4UM5rcovwSvgaK8GHADowAG12FgoYEbJ8ndmcJSiANi47Lcu39QgiO1yoNxhQ3d5jwHLhY72SKdwDB/pon9Q1npeI2a6QbQstiLKFoTu0Tz4kq968X6JGhF9jxF73sSRpYDoIkkcIoCUBoKUlwlenifBwnY4IbzjQ3lQO1BHhrdgOJ2pFeADU3gsBVCcJv5iJpBg6UAug683SVYwi2ThQRPg0DnRbjxHT/ThQL4C6uc6Ua4cDrWt8OieAtnkANCGBZdAJtoQAmpAuVMpIjYetCF8IgGZ3FmYgRj060OV+RqT7u6R2wyWZe9yuIpnS1eUyIGFMcoxInc6+oM9zrEPc6j3P2SMeDCdqjEmAaK9Un4cD7Zcl6x0OdIoV3ds4lwluFP2nowM1Yv2Uw9IysRg6UF1JlFsHyrk0+ZxN4wdsV+ueAiiGlDSuy+9eBhE+AaDo0LEqZxXh0Y3uNCJ+9OZdAge6dFuP1G7rllrEdVdAfPcT4RHn08IOK8LXNTwtzZMPSIcjwvvpQNlQu+POfcatLVq2RjiOJBOIGgPbNQLQKAZfDDEBjY3BjUhw3RrS+77FeeZeguxW0aSCJ6qb3ABagiuRglvhE8QTwIjEoKNTG+7YJZHW52WlY4Vf/mCXuMOyB7qMs/vcE9YKP6W7W6ak6EFxXcIib63yWOGtDpTdya9I9dNXpOYc11aEn+YcPDb37JUkgE49Ku1T0H0eSYKnA6JwoB1TDks0DwBNJwzV6+UBoFn2iww6EK5WugSA6ka7fqDpvpcBQFswHLH7PsFwoFsz60Bv3imxm3dL88Q9ErllZwJA/Y1I3RZYEeEdHWgK1+nSgxoLPEakxvMSBSANgB5OEd0TYjxGpDv3JwCUySOTJwIg5tWBFqN/gonwtOkgAWj5amkut+qLtMnTPOO50r2Og0xxDgBl86GK1Rl2pH+d6kAb3pQKoH6uTLgxzTveJ9WdfQmgrITj7FTgtHFlp3VjgsvkgDELnP0y3Rz1QGzBFJ3ovLNvlaXrL0hTzRFpnXpMOgyAKidqDUqApwXQI0UCUCWc3BxoMQbX1cpDATQTeKQPLG2H1Fh1oExAuQC0beJuaZ24R5pv3i0Nb9hpjUhZdKBGJ/pwjyzc0SsLcuhAMSI1GA4UIxLgecQc5cJxLu6gIjwLKyJlawx4RjKBSdk6ubYi/DrnqJfc3jHBOdB0rjOtr+HKM0yY6YxGEADNdKTHkAbQ5H6g2azwOgPblS65O0rdmCJtz8uKNd2ybHWXrHjQEx7okkUbL8mcE3FzwNdUONDuHplqQlymOGd1W1G+VyovsW1Z3Fjard7TujCxkYQ59pb4fFzmnrsiSzY8J43Tj0jM6DyPGYs7+k8bcGFCFwq4HpFmhwMFLAAmv93E1YiUThhuoAj9QAFH/zZKujEh9qkOFH2nNwCe7RP2GA616dad0rDitCzfHjeW9sXbesQdsL7XIt7z/LE+WfRYn4m59oaFO3tl2Y5+aUAHOuWAtE86LG2Tj0irX+AU2Tv3S2T8VgOgiKxWbPUDFgugSj/FmNzIy6g63Nx9pus81AdDCUDtjvccG2I3LGkszR3pg+lA/QA0G8FER22Sxtt3S6z5ojTe1y0N93ZL/X1dqeFeNvq4bM5mn3XxBZlxoU9mXOi38cVemZ4IcZlxIS4zn+mTWWf6Zc4pwhUT5p7U+AXzf/bpfll48gVZseaCRKcdEo5PNuL71MMGLAFMAkYkwr2TD0nLTTsk6lo9khtA/ZbiJc+wKcYAujp5oMtODWappeue2X5u5HrjRO7mQPw4UqPmyeBEb0GVdoMDXWsOV2ufYHWdrTc78cSdwjXO9bg1tU3YKZFbHpPo4lPSyEmYm7pl5cbUsJz/nJq5qVuWbe01YfnWuCzf2pMWVmztkabNvRJZeU4a794nnBjbxmGCdx5MD3cdlFVv2ifNYy0HalVYlns2wJayOmi9tLCXgEsP6b7Oty9junO/6otTylonRrR37kVJk7cONINYngbQ6wT1hHfhgPu//2TpN4mmc6BuAMVm0jCmJI/0SAdQfD3pJHdQolFlsHuJnt91c/kmid78mLTcc1oiy89LdOl5aVp2XiJLnbDsvDQtPS919U/L0o2dsmB3t8zf1SkLdnWbMH9Xt8zn3u4u4XrB7h5Z+Fi3LNx2WWo5EM4JizXebA+OW7S1U5Zt7pH6FWek6Y7dErt1r7S+gbBH2t6wV2JvtKHljXuF0MY2ZOO3JwDUzPwZdJQxcyZ8AH0TyyGDbBVXhE068h2cyfS6F6kfsSfvtTh6S5zfzWBx6ILTNd30YQZ1VvAkTwug6EMZMM1jtxmAAqRa2IdgrA0tnAjAuVSAF+GOPdIw85DU+YYDUj/jgNTNPCgr5xwyoX7OYambcygtrJx7SBrmHJGmOx+XphsekZbrHxHOa2+5Pj003+A8AxRZvuoscfWjdb1n+9yeVIpIn77sdWPWpcApZeRx+BzvtQQ4VM70PdvZobf0jG/vfzjV2MhN0kJwLTfWa60rS4eDgaizR4MrL82jZaRzTtbY1VI1oqQOlSsXNlQuLxsho9kPtKxK6kfm2g8Uwsi95hWleuTGh81RDS1zzkrL7NPSPPu0xGbZwP/orNPSNP+01McuyNI1nbJkzWVZbEKnLFndZcLi1V1Su8ZeL7u/U5a3Py8rY5ekLnZJVrYmY+6Z/63PS2PssjTNOS5NE+wgab7hUWlxQvONXD8iLTc+Is0cu8x9BqyLexjoNe2jYJGNuEg30LIKfh9A4GjaNK7DR0QNbChIAm+277bPOAucDXudkx9HJK8N+JjjkmlHgPYhid5gT0zl1FS/wHr16IRHJXrTozbmWv879yITdkhkwqPm9EyWXtp9b5OSAzTrDUG8JQy3SXvmNLThxpV77AQZX+40BtQC0q85jyrnRIdlf71Dm1uy0qil9dz9bvLLuIKR4543S9PYNVI5Yp6MLbtOygwuDXk/0EIANJ0Vd3emXkOgAGgHB4bNeUpis89Iqye0zD4jkQVnpDGGnrRHlq/plqXoSz2BezxbeX+X2dm+ofWyEOqduNHzP9LaKdG5J8xgASwBzRjA6QQDmjc+Ks03PSqtNzxqzvIuGIh8CDc4UV1Dg9MQAFCllVxxbNw2s5GH9p9vPGGHxCY+lj1M2GkWTbRct82KvQrg2RgCn/71pZUQQLNyotkBdKsvgJaxAmlor0Sy1i3lQO8yR3rk4kAHBqBts84IATAFQKPzz0pj7FICQN3guXy1BVMDoKstgLIxMxymgiZAqtcAKtchgOY28sG1XGsONBdw6nMA1D0B+gFo7KbcANoycacB2Jbx24zOEr2llpExDgH0KnCgpQqg5eoeMEJGlo2TO8sqpW4kp3Jm2+S3MABV7jMIgCrHuSIggCpHStwUuyzRWMiB+nJJbjAYhgDKngbZudAkgCJKZ9xA2s2Rutss23XIgb5+OVC2tBvlAOjKQQDQ1jlPJbhON4Ai1hsRviUAB8qGyI4In4kDVW405EBDDtQPSEMOlD1g0SsH1FmaCeNq6EBLlQMt091NMCLpqZxFFOFvekQ6OPN7zlPSPuustDk6UBXhAdDogrPSZET4uCxb0+MKSV2oivAWQC8Zkb+x9VJCB6ocKCJ8fVuqCN+KNVV1n06M3hMxMKkDfSirmJKTm/NwJoiDwYj0WutAs+z76jYuFdGIpKuRMNZkFJsxrjmBNCrC04/ekBDnA+hAFUBj46+VDtSuGvL/bjw3gnlveM+uGhwjktLm1QDQLWYT6ogxIs2VMWXjjRGpBHSgup1deWI7u/pRiPDZXBNyi/CIRsYKbwD0uLTNOSuts60hqWXOGUkEowM9I02OEWkp57cDomvt6ZmcoGlO0cSItNpuylzf3mn0nEbv2cZ1lzS0dUpTa6eJOXep2RHhGyZaIxGAiXWWwaZgmgKgY7cNAoBma0PLAeDmki8455s+oz8ibkRukMx2XUQAZeWKXb2SnY6MX6XRUW6SlnHbJXbDjjTwdPclvrwJrhNjkY9BiT0PWrk/bpu1/htRPQeQeyZH//bfIi2jAjq+Z5w48gBQl+7WeDEYN6YAUgfO+c7G4LkmeEDe/1tTF5uQLldePG8e6T0tFmC24AyNxio2SgJAy8eVEoBi6SougEL80fINEr3xUbm35ri0zzkjbbPPSvvsp1JC26ynpHnBUxKNXZLGNXGpWxOXxtVxqV/jCat7pGF1XBrv75FoW7c0x7qlubVboq163SktgGZrpzEgtcY6pXnuCWmauCMBmnCbyq0oF9OKh8nFAAAgAElEQVRyk8PR4IcYaKAEJNLARDUYAJrkGAxhZvguRDl2WA8EokUE0KQ/sXVj8uPGDCg4ekiOtmgxVngLoN5JMHajdUmLTXjUgqMPcCqYAp7tEx6T1nEPuQDU35CkBqZgdJEPgGafOPzaI9u9wQFQW8ds366LTYIDKH6g/uPHTPJuAC0tDjQVQM2RHhlWQED86kifcIJ1Oca6nWxNx47fLu23PyGtd+6XtjfvN2fgcG3+33lA2tisYfJ+ic46Ko0LT0rDwhPSuOCEibl2B+43zj8uTbOOSdPMo9LIO7OOSWRmMjTNtM+aZx6T6J1PSARRDe5l3HbjLI/DPKHV3NsmLeMfkth464Omdc8dZ3KGTt6Hsww2KxcbQAHPrebEAPon27dQRwOgbhAFKNNCbn1ZkG9NS4NzujlgLr2ebtoy38H5VOO3C6J3erB92HrdNiGY58TXbfcJ3N9mlpG6QdoPoBRAmWjMIXijNkjLqKRDvdbR3c5GLcHYMRIcfqbO5imu2PoHp/ub2vtILcln2fqPZ1qHbEDnfcY77jIyXdMm3nfd/xMAGiA/XJigt4zSEJP8mI1pfqBJEV5Vjcm40A2Tc71X4IbKSQ40yJlImWaSRAOb87/Zsm2TRCu2SGTMVnNoW2QM16mB0zCjYzZL47jN0jBuszSO1bBVGsY5YexWaTRhizRWsGvLRmmo2Cj1FRulafQmaRq9WRpdgf+R0ZuE9fgRj68fA4fBgR5JB1FisLitr2nXwUAxOUByA0/xRXhWdNidsJIDMkM9XLvDp4FbACPDQN/JNUATtMT3EByact9PuU4MZP3eJBApSLDdWmTUOokwwaX1rz8nat/VPDPFFvj8gDjtHgCbRV3CBMZSScpN+b4MkkTeaQDeAN9uwDtLmYn+yCM/C6BJCcnW3W6NyREvjePWSuXIBTK27HqPCJ8EThzsCbmAsNDnQwJAtXFNg6EbMmurmdGS664Ta64dTsmm3SSxUcmgM3DKPQjLWUViXFHKAUS7qgT3K/c1hIJDP4MFvSxAqQCqLixmIGXUS7kHVW6dZhJUgqUtFoDGRm8xK3bMdyYAVAe7/3ZjBkyuEYiaZaBwdrlAMcsATgOOUUEnuHVmg2gFEU6E1Gu/2CwIyTmhpAMoqgezSQb5u0P5erOvKGvrU8NqZ/9Nts0bhgA6crPERrHizwWgFZukmVNMR28xZ2Q1jFvnAlBcLNWRfkgDaPpaeL9TOe1mCmvFnolkZ400Is6H4AtM60fkV+ceAzQYMCaBVEHMP6behbQhgMmEExnD8bkPSRMHto1bI5ExzhrzUZvMxNFcDgfOgWf+IBq0noORrtBv92svnXyD1TMd7HzpxwHW4H2e3RiVKCMHB6rc6VDnQLUfjBohAEdrVB0ZxnxsFFZ4y4FOHTlfKspusKcFw20O7ZVIIHshAOqvDNZGHcw4QYhBOq3IaYIPJn/A9A7wgXCgzWM2mqOYm3AIv3WdfPqDfyUfOvcRqRt1nwH6yEgLmhp7y77W/4sJoIbejAgfrN0Bp5x09DoH0GyA5x7fRQXQ8Wtk6sh5pQagwfYDTeVAQwAtBgANDEBRdWyTJWXt8uwjXfKfr/5E/unPvyH33sb+lWulaeQaATzNzlo5RdCgwFO8dCGAZveAuNYcaAigCSf5dP2BKmJtjJ6h+KdyumepYl7n5ByKzHW6yxtKHGgL+qTyLVJXca988hf+SH746qvyoSu/JotHtElL+SYDnhwGhxhfDLAvdh4hgIYAqriQEOFLkwMNRXg3SGa7HkoAikJ+SVmH7IuekBe/8ZJ85xsvyb7oKVlWdr/Zx5H9O1vwxb1GhqJcgBsCaAigwwRA8+VA1xk/Q/34qx17Ac67rM37vJj/c4FCvs8LF+G3GG+C5RXt8rsf+CP54Q9ek09+6NNSN+Y+aRmBGxMGL8R3XHZWD9CINDgGqCEPoEaSycdwGECvSp4ZjUipu8QPtgivS2XdcXKs4GMaTE1XDB1oS0YjklrhddOjpDRdqJtSrvcKcGNCB5qPH6h3SVawhi4W0Bq3I0dMp/PVHSnZ+W7Xo2Je5+EmE1DnmNy0Np82xAK/TZaW3SsHmk/Jd7/xinznWy/LofazhiPFQm8BFH0l4DcwADQuRwG/J+gEknBjymCVLYRWGMhBy1cjknFGz6jyARDz8brItsKIvByA5SgOPz9QTrk05y7BmdJ3g+MHatoJ7w+foGMoOnKzEIL0g+an72aMfZab4u5oXR45gcDrB8pexbrdZhI4Vf2YCwgLfV4AgILywQGUrf9ZmWFcRzIMAJ7pc79rvZctztR5XgAN5gRfDCBVbsS6wUDghQc7MAsDUDjMLbJ85L3y8fd8Ul79/qvyh7/6p7Ji/Crr45rwAy1+fYMDlL+xSVfmkA8DLVMfF3K/EADNONhdoJrex/7fhnrHPz8LxEkA3eDsw4pDfTLgQG+BFYC1AJptfAR95m1L2sm/nnaMML4AT9LxLuV483D/HwiAaj7oQGOJHennJxzpDYAaN6YSAlCzmYjPmUiJM1MS3Agg4B/MyX8jOGhrvT1Pxsy+zgzsIs5sHZntWTpR5wNm6XVOEHeWuiVXZuT2gTVE6iy108UA7pjlgTYEyMvlbK7EvKLsPtlRe0j+5cv/Ji+9+JKc3XRJFpetkthoezSJSecsUDADwbl210GJN0hs2ocBPtDgcF5muWixN1LB99VZhmqAKENdDVBRtgMQmdpH76fToXKTqbGlSUtbRkxnDCXGCoDIf/+loLYsXTKaXNqaXnahjADlrrfnUAUUzWkf0+8ZJ4b1EjXj2rWk1I/O9B5ArNdOzHebbx+Jc/0maRyz2hzpMSbtSI9SA9BcDuOJ2VJnzcxx8HOjM83sg3/frtXNQZx0eo7ZeDCe66quRN4VG6W2LCbvu/iL8sPvvSp/9ftfkNjNrGunfnaVh3IniXcGWm8Gip/YWeA9TvRk8OmEUJx6bjLr+IPUk0PigpbtlniyARrgaAA8Y5vAWToHq/n0h7c+/M9PhZBrnNhjpa1u07UayKcutj+sSoT2NP2VFq8x981eARnzSOVeve1nuV3Gnd2nVI81Hls23pzVpiuRTOzxKipURM/13oBF+Nzb2WXQ4WQgnBBAU4koX7Borthk9ko071VskvoRq6Xjji3yxc98SX7w8qvyU6ffJ7VlbdJqFPFWLPYORtU1ueO86lFkADUgNyI4iAWraxJAEz7LHprU+24ATZugPGCQD4Aa1YSnzFRAzwygZjljxZbEmv9iASjjD9WJ5YbXO8ahYABqD8lLNW4lv2eNnbBYkutps0z/vQCq/1vQt45ij4sHpWrEHBlbNq50AJRTOdUPdFLZNKnLuR9ofgCaKsZoRw6lOJPuysORXiMOlIFEiFZsFfYPWFrWLmc3X5Lvvviy/MuXX5RHFh2SFWWrzTO718DAANtL/HYgb7DcRlZwyCyFJAedXf+tAOota2D/kwDqLs97zTpzBm7QsnSQ54wRz3O1Dxb4jHQEqCWBrVgAmjr+dEu5ZDnZ2iHXhIBaL/P3pNNhpjZkPwILoKulqjx9Q+UhzoG6ALQ8BNBMnZwPoWQjynyfMZBazKYLW4WZesXIVfLb7/99+cH3fyif+IVPy4ox9xrXpXzzDZp++AHoWqPbC/r9GenBoy83+sBcqq2sAJoKOKUBoGuNLn+gbakA2lDxoFSOSAdQtcarBZ44lyhe6PMCRPgQQAMNkoycQyrhByWm4OnYqQZxd5PUl62VzXMel6//3dflle+8LM882i+1Ze3SauoGV1Hc8+2pYwigHknEA5xKOyGA5h4H2lbeOATQLKJLqggxlER3rcvQFuHtVl/Wbay2rEPO7+iWV156Rf7581+TddW7pK5srSO+Q8DBRLPg4B0CqHewZ/ofAmgIoDIpFOEz+8hdMw7UbkrNJtZLR3TIL73t1+UH339VPv2Rv5CmsQ9Y38+K3P56+YCmO23IgYYcaCbdrnEJK4YRydGBlqgIb5dyji6rEIxI9SM5lRPuTFex+MRluDBkCy7Xh4QFMEee2cor6jPlPDUe2hwoonszu/qXb5RVb9gsf/vHX5Tvv/RDedvpdxt3ppaKjea5AT0s9gEtokHTJQE0W38Hf8ZgNG4xRV9pwzlcGLKwGmepD2mC+qCyGXjAkzKVA+XbLOC46+B8cx46UPqHzWCyjsNA40LpnDiAEQm/Y0NHzsou01/ub0lemyNhOOokIM35c+/OhtOjNjhW+LkJR3o/45HqQQvVceZ6L28dKApaAgA6uaxaGkbf5zi/AyxYLN2xc431DUJMhPT/xoneOOHqSgze1aD5at7e/+50QZ6RxptO/7uf6bXG1hna6+Dr9x8gaa3YakIMi3iW0DpmqwQN2fLRZy0cg1K2XjbP3C1f/rt/lle+/T15avMlWVJ2n7RXbJHYmIekhXOD4ESdeuUqX9Nli1srtkgb+aH3S/Q5fe3ub++133P3vfUSBUhGrpdWV32z1SP7sy1CPVvxm2S39/K1EkuhS3f91przirD48o7m69tWpq/tYXF+9OC9Z4AWS7ypwzqnDlo2u2IR1hl1i5abK7aAo3SsY0VjpWHvc/2vz0mvTv+ogmgvf/o198dskVYCQGq+R79BY7vHgnWPWm8c4AtuSw4MxIneLBtlf9s1Mm3EXBnHhsrl1nnez4A05IxIFkDHyG1ld8nC0ctl8eiI1I5u8g+jmqR2ZGPWsHhkoyTCqCZZzDujm2TRKCd4r73/3emCPCONN53+dz/TayeuNd/Jt0ZzhsUVzbJkTMvVDxWtUju2RaaXLZVDa8/Ii99+Wb7+j9+UdbXbZHZZvSwd0yyLx1KvVlk6SPUz9JCjz3PRRO0opQnop0lqR0WK2JYxWVLRIotHNsniEY2yZIQ/fVqabBLTlxVOX1bE/Ovh9Hft6GZDG4tHR4WQkVZGRaV2ZMR+G/Q/Qr+X2PnmkU2yJCgdVbQI9JkYM4wJL00rPWcZL7WMv5ERG0ZFZenoFlk6JsM3e+hn8Sje8x/v+k2LRzebtjdjI2Nb2rbWtku2ZUR434aILKpolDtHVkpF2VgXgI5wzkdKXY2Ui5Ms9HleHCg+oMYPFC7U7Ak6Tm4smyA3lE1MD+U3yw2EsolyY45g3yefCSY/8uSdlHw1P3fsTpPrfsFpJ8oN5QT7LTeUEQcMTp2uL7tZrla4sexm03Yjy0bL0X1Pyvdf/Z589k//XN40cZKMKbtJri+faMKNZbcIYTDqFaTPs9EE71/v0JVNp7RUvHakD29y2ipzXWjLm+XG8mDtZOnilpz0oW1u0yudK+3reLFl35BnHxk6TdCqk7ff2PC7lxinzneb9rG0rnV2x3ZMJPuE7ylaW5antqMpl3HojD3+X1d+s7CMc0TZyASAZhLjCwXIXO8VBqCwy+7gWTaleocwTp0Fr3Z7PHfhgrz2o9fkdz7+O8YP7mqXH5Z3bfs/bP9k++cCwkKf5wWg7MKUqmtI/i92Z1lON9kAxc7/9ZDfCy+8VX702o/lQz//gRSxpphtm5RKitxXjk4r2U/pezwmnxW57AIYgpR2SKt7ofUb6t88OPXLvy2xyziie4a2LxQgc72XH4CmEBaNp6FQAgnfG0wQeOc73yk/eu01ec973p0CoPmUWc6kmdLvYZ+F7VF6NJALCAt9PgAALb1GfL0R/nvf+1750Y9+JO9857sKBkEANATRkNZLfewUCpC53gsBdBhzV+9///sNgL773flxoADmwYMH5ezZswUDb6kPuLD+w2vSyAWEhT4PAXQYA+g73vEOA6A///M/nxMIlcu87bbb5KMf/ah861vfkn379uV8LwSa4QU0w7U/CwXIXO+FADqMAfS5554zAPrxj388kBW+qqpKPve5z8mnPvUpqa6uNuAZivAhQA4HUM0FhIU+DwF0GAPotm3b5Hvf+5584QtfkEmTJmXlJhctWiRf/epX5SMf+YiMHz8+kTYE0BBAQwAdmXE7vBBASxBAVdzORdgzZ86Ur3zlK/LSSy/JmjVrEqDofS8Sich3v/td+fCHPyxjx47NmM77Xvg/BNdSoYFCOcxc74UAWmIAquBZUVEh27dvl8WLF2cEPNJ84hOfkFdffVW6u7t903V0dMgrr7wi73rXu2TMmDG+aUplkIT1DAE9Ew3kAsJCn4cAWqIAumzZMvnJT35ixO5Vq1ZlBD4s6QDoZz/7WbnuuutS0rW3txsR/61vfWvoqlRidJAJKML7/pNIoQCZ670QQEt04Nxyyy3ynve8R37wgx/It7/9bdmwYUMKOOpAAmhffPFFE9auXZtIo+D59re/PXFP3wlj/0EYtkvptksuICz0eQigJQagKsLrYL5w4YIB0W9+85tSX1+fBoYQxvve9z557bXX5POf/7wxJrW1tZl33va2t4WcZ4n1v/Z7GOcH5oUCZK73QgAt8QE0YsQI+eAHPyg//vGP5dOf/rRMnDjRgKjben7XXXcZ16Svf/3rRpSHI+3q6grBs8T7PgTR4CCaCwgLfR4CaAkPIuVGp0yZIl/84heNrhNg9BtYEyZMkI997GOGEz18+LBvGr/3wnvBB2nYVkO3rQoFyFzvhQBa4gCqILp161bjroQ+tK6uLg0g4/G4WV20adOmtGfhwB+6Az/sm+L0TS4gLPR5CKAlDKDuwYUojxM8m4d86EMfShHPe3p6jLUdlyX3O+F1cQZn2I5Dvx0LBchc74UAOkwAlEGMszwO8V/72tcEJ3rusSkI+tEHH3wwBM9h1NchaOcH2rmAsNDnIYAOo0HFRiBY2r///e8bMJ0zZ465PnToUAiew6ifQ/DMDzxpr0IBMtd7IYAOs4H1y7/8y0ZcZwcmnOeD7MQUDsj8B2TYZqXVZrmAsNDnIYAOMwA9deqUvPzyywZEP/OZz8hNN90Ucp/DrI9D8M4fvAsFyFzvhQA6zAbXvHnz5F/+5V/kS1/6ksyfPz8Ez2HWvyF45g+etFkuICz0eQigw3CAAaLs7RkOtsIGW9huw6/dCgXIXO+FADrMAFT9QkMQGH4gEPZp4X2aCwgLfR4C6DAD0HCQFT7IwrYbvm1XKEDmei8E0BBAQ1E/pIFhTwO5gLDQ5yGAhoNn2A+ekLMcvpxl0L4tFCBzvRcCaAigIYCGNDDsaSAXEBb6PATQcPAM+8ETlEsJ0w1fTrVQgMz1XgigIYCGABrSwLCngVxAWOjzEEDDwTPsB0/IWQ5fzjJI3+LaVyhA5nqvbN26dcJWaGEI2yCkgZAGhiMN5ALBgTw3ADqQDMJ3Rw7a7Ba2bdi2IQ0MbRoIAXTk0O6gcACF/RPSwNClgRBAQwANOeiQBkIaKJAGQgAtsOFCrmDocgVh34R9c7VoIATQIQSgalG8Wp0flhMCTUgDA6OBEECHCIACnhUVFQmXopCwUwl7MF1RwrZObeuwPYK3RwigQwBAAYebb75ZPvrRj8oHP/hBecMb3mCANCRkS8jKmROHbRJ8cIdtNfhtFQJoEQBUfecKJViA4U1vepN88YtflP/6r/+Sd7/73QYoQq5rpJlIpk2bZs52YqPosE0GHxQKpePX43shgBYBQIvBIZHHvn37zLHEL774okQikavOhQ50Iij2AKI+tEt/f7/we/bZZ696mxT7m8L8htcEMKwBlAE4mAQLNzRq1CgzsDn9ctGiRQUPcIDilltukb/8y7+UH/zgB9LV1WXyGuxv0PZxTwLXgsvT8t3fyz3a92Mf+5j86Ec/kvPnz1/VNtG2GcyYttZvH8xywrwHB7iHJYAqQWrsHpTFJCSIn7w5Spjf3/zN30h1dXVBIEo+1PeFF14wZ7n/+Z//+VXThfIdGLBOnz4tP/VTPyW33nrrVRGV3eAxevRomTx5ckq5tMcb3/hGM6lw1v2WLVsKatti9nkx8+L7x44dKxcvXpT169ebbx8sWh1IvanTUKzXQL6pWO8OOwBl0N1www3C8b4/+7M/K62trWbQDRYBUB46ur/6q7+SV199VT70oQ8VrL8kr02bNsm///u/yze/+U2pra0ddMCgXSj35MmTRv/6jW98Q+66665BLZfyNKDXfOqppwyX+U//9E/S1NSUKJs0cPXUiZNGFy9enHiWaQBovsSZ0lzN+zrJ+pVJHdva2uQ///M/5fOf/7wxJA6Vemt93e3Jt+j9MLYc7bACUDoYkQ/gROR75ZVXTGDDlMEkTPJGf/nSSy8Z4CtUlCefaDQq//qv/yrf+c535P777x/UejMIKHPWrFny5S9/2Zwl/653vSuxsUyxBwllEeA26ZPf+Z3fkX/+53+W3//935d//Md/NH127NixxDeTdsOGDeace7j7O+64I/HMr26kX7ZsmRw6dEhuv/12k1bL9Es/mPe0XI29ZenExUT/2muvyR/+4R/Kddddl/X7vHkM9n/G08SJE+Wd73ynXLhwwfRbISCq30pbDHadr3b+wwZAtZMeffRRIwLDtaxZs0b27NkjW7duTRENi93IEMb06dMNCAHau3fvLmggkM+cOXMMqADGjz32WEH5BP0+BgPh537u58xE89WvftWUPxiETp6UhRj+mc98Rr7+9a8bdcXcuXMN1/2tb33LfDccKWm1P7u7u+XHP/6xfPjDHzbvZxrAvIP7F0D7k5/8RI4fP250yoCu5jUY3+Vta+pHOQD4Qw89JL/6q78qDzzwQFo/ajranu/7mZ/5GZOGd69GPb319vtPPVpaWszEhkSEpFVI3XgHIEZNlKn//MovhXvDBkDpJHR3n/3sZwUr9t/+7d/K9u3b5c4770wQZjE6RAmf8pSYiBmon/vc5wwX9+STTyae5VMm+UyZMkW+8IUvmHwOHz5cUD5By6Q8AA2VAW125MgRUx6AEzQPbzo/sKLN6AfAAk738uXLUllZacq68cYbBX0vEgOiPHXSPMaMGSMf//jHDYcGp8Yzb3n6n2fU/+WXXzbcLCIxKgEmhd/6rd+SRx55JLFQQd8pdkwdCDt37jRlf+lLX5J/+7d/M3XQiUHLJN1NN90kn/70p+WHP/yhHDx40LyL+gmw4bmmvVYxdbj33nuNNERbIqnkWy/S33PPPfL3f//3gnQz3EB0WACoDjjEPzg3xEIG6n/8x38YTofZfcaMGXl3vptw3cAJWCKmM8C1bDgO9KAYO06cOJGzLH0PAiOgeiBG//jXf/3XgfNx1zHotZbN4EB0RmUAgS9ZssTUQesUND9Np/nCRV9//fWmbXhGfqg4+J05cyaljHe84x2GA0OEnTBhgnmm72BU+ru/+zvj2kVdyUfLcsfc18kT1QeghUEM0CR/JgfEZAxkvDcYXJB+O7pkQBwQrampSdAERiJ3/bmG+4ZWqd+KFSsEkP3Upz4lv/mbvylMLINRT3e75bqmjgqg0InfGCKNN7jz5dnmzZvNBAkI06fcc6cp5ethAaB0CKAG1/G9733P6GzobDgSBiBACigp15NPh+nAoIzm5mYjSsIhwrWpXyLPggIoaTVQn1gsJuPHj08A8d133224Z77DrQ/Mp8650lI+ZeIy9e1vf9sYaL773e8aTunXfu3XjH6SwZvvACZfjHYAiLvutCHWdEB05cqVie/fuHGjSQuANzY2pgws8sKgpBxcJu5H++fAgQNm0qG/n3jiiUQZWidUBtRr1apVKeXkaqsgz7UOu3btMmWsXr3alDFp0iQzQUErGIuoi+bHNSomJnzolkkH8KTfuZdtwtA8BhpTb4I7H+rlDtpHLPKYOnVq2jegukLiYoJ485vfbPSk7ve5ZjKhDWBq/EDYXX6pXQ8bAEUEQv/otl7TeRAmnQ8HgjLcj2gydZoSApwCwMJgftvb3ia/8Ru/YQbrJz/5SUN8pAPAlQOFC+GeO1/NCz3dtm3b5Jd+6ZcEEQ/x7bnnnksQLW5QzPYM9re85S1p+bjzLPSaumCcAbggbIxucM3oJpls8EN9/vnnDVecDUTJRwcgMf/xX/2f//kfM9HwX9/n2h0YjExE9MvTTz9tnmlefBdpGZiI9r/3e79n3H245/1m7tGmf/EXf2G8IDAgcc9bLtwnP2Keu8vy5pnvf/LDeAXwwfXynwBY075wXl73Np4zyeC5wffRHu973/vMpAaIMiGQJt+6BE2v/aV11RhJaOHChbJ//35hIkCNBD382Z/9WYpqgfTt7e3yD//wD0ZCQIfNOHvPe95jpDO4TmgIbhp1GqqUr33ta4bLHszvCvr9xUpX8gBKZyAuMnvT0Ti0c48BpERCZ0LIAAb6mCAdSBpEdEROxEIAdP78+Ua0+uM//mND+FeuXDHlkBbOEe4HEPcSP3VB30VeEBzicjweN3Ul/R/8wR8kAGLp0qUJjhCgDVLXfIiB/BCj4HoY8IAm6/C5j9iI8YW2wrCxfPnylPK1PUnrDm6wYtAAwug7SaPPtI76//3vf79JhyWe/iOtptFy+vr6TBoGpV9epOc+kgZAjP4bUd6dl6YB4D7xiU+YyYvnlKHlDSQmL9oP49VP//RPm7K5R3j7299uJgBoB2DSb9cYwxj1ZgIjPWlU56s60YHULdO7lA9to+agjaFN1CeUyTgC8JnYv/KVr8gv/uIvmsmcCZ86at25BkABVmgagIR5gZ7hNGEm2Nvh7NmzcunSJcN8wBh4J5JMdSyV+8MCQHH3AeQY+A8++KDpaO0AOpzOZpMOOEgVIfW5N9b0cK4AJcQAAJMH4a1vfasBaogB8UXv47PJDIsojPWV++RNfgwMCBAAx0KvgAUAM4AYNLj28A4eA3wHxIhejHsM9mIMeCX+D3zgA4bQqY97yah+C47dDHpUDLyjgMZzjBwNDQ1mMmCFEIYfNQzwHAAFfCmD/1ombaH5PPzww4aD5xtV7+ruB94h0GbkpRy6tw3IH50xHA4DPpv3A2k1uMsayLV+D0tNMSCqGxLlMNlCDwCK0o+WxXNUGrzDpK/1hi6YBLgHHZDO/U6x6mfvNhMAABUiSURBVE/bAphM3Ex2AB2GPNrxmWeeMWI26qqjR4/KH/3RHxm1gjILfLN+NxIS3wcdMU4IqE9mzpxpJmOtb09Pj+nvP/3TP03hYvXbSjkuaQCFEOhMnNchOghCiZhn2oHE9fX1RofJ/UwdpoSBPgeRBA4BvY7mw0BA4Y+hyC1e8xwdFwDNc4iPe5RDnsSIcwsWLEjkhVUagiUvfOy0DGZsvgUOUbkpfaZ5Zqp/rvu8j54OzhPChwPhntaR973tpmUzoQCOcFpwKIjf6E8BLtX5kbazszMjgPIcvSDv8p56K7jLpw6kY4DDHdMWAC733N+nfUWdEPMxQnk5WXd6/TbeI2SjA+97mf5TJyQa2gF3H/5rveBGmRzheqFJd3mkoz3h2pj40YNzr6Ojw0yecH6qK9T+QGeNDhn60G/IVK8g9ykPfTV1pw5MhEgg3NdAX1EXJjomA0R7fYaOFnqnv5GmAFH6VZkD0qHWQnpgLFFOLle0IPUeamlKGkDpJEBJDQTqN6mdXFVVZfxAf/3Xf92sZvGK1t7O4D0GtXtwa14QOUTEgEY8hWPUQUGaHTt2GFByWxq5D7FTjuaj1+jqADH8VeFW9Dl+j4Aq7i2APvrBj3zkI2aHJvzwtExv3XP9J38GLfVDx0ae48aNM+Xquzr4tS7ElMnyUnSycMYAMO0K940qgrwUiEkPNwbXyI5S/Nf6KhAALAAey1/d5Xiv4X7JnwnJzSVrXUlPPZAEqIOXy9N03thbjvd50P/aVu9973uNTpx89RtVDUOboWvmmTtf/uMbirRC/dW/Uj0SFGi0rkhYcIjQCmqggQIo+aJyQn3CCi88AfAYcNeTa6Q5+hxwRCpR5uS2224zdKR7EyCi06dwslpnFkpAa9QbAy5toYyCuy1K/brkARQrIYADx4YYjTUXnRi6UAYgYhJ6HmZ3Ol4BzdtxED/PEBdVBFdiYHUQ4gkKf8RtNv3gGaK5DiREHIgEyzZiECALwcA5KIhQJu8xM6v4xgDUcogxdMERUHcIEK4aQmegFWpBJl/qAYHTVij71SNBB73WgbXZcFXahnAZcA8YA7Zv356oKxw0dYSbhQshP3SrtDsACmdIntreXDOoGJAABxwPAAinSTsSaB9VZTB5UC5t4B3c2uaACVwexjy+jzK8/ar/9fugAURTDIEDcakhP/R5gI9ykNrPv/Irv2LqxSSl6g2tBzHvYpxhokZNhD6SesHB0T9KfxjHcMGDHnp7ew3d8K62qTvPoNe8j68xOkr0ndAhHKZ7mSxpqDd9yeRE+9I/3CcwngBGyqQP4VJJhyRCPzBJ0s8YU2fPnm0kLcaG0k/QupZCupIEUO1IYqzHABtEgEjMoGbgQZyIOzpr6ju5OkXTaYyiHFGLgYrOT0UUzYd0EBcAw0zNgPqTP/kTYRDhMO4W33Tg64Yh5IuFX8vSfBB5IDh1pGdgQpiFDBwtEwMBgxOOTl1ktFwGFA71GDMwCsCVwDXARcKRo9PStHw31+iS4YjgyknPt/M9tD8DnomIQajl4+alblMABe9QF8AcEEEEJ/7d3/1dY1CDQ9MJCXChTHeb0x4AAP3y+OOPpzzXdFpX3mXS41sAZMqENujLQtpU82XVG+3kpjE4TiaVTPp2bQ906XBtv/ALv2DqjsEQ6QYdKKI0kyXGGdpMjXnuNnB/Y9BrbQfKoFx02UhvlKMTKmlw5IcLZqKjLwFM7hOgBb6NccF/JCb6APqHJqAf2kRtDTAf9DP9rTr9oPUthXQlB6CACbpBXEAYQMx+DDq4PvRQBAYJRFzo7j1KLHACEBiEDiBCACpukYYOJkYcAhQQyRHD4OI0D/cA5R4DDIICzOCEuKeDiu+CACFcjDhenZQ7r6DERf5wSgwS8lU1BgOBa7hS2gvdJmXCNWCxxlik30Cs3JXWFY6b/Gh/DAdwH4ACExltRqyrb3gf9yY4U1x24CgZYLj8sMIINcW5c+eMeIrxhG+j72gjVBlYiclDv5lrQIWBzHcxAbifU1f+E2hTgBOXMYAT3TVcrz7XPPOJtQ2YCNXrg/zgaOHooBdUGdzTdtP8ucfE8tu//dsmnYq16AphBOgP3gW4eObuByQXJtlC6IB68B7ACPdIPqheMCKx3FTbA9UMDADfAXhD00gj+py6sXcB/1GfMYEykVJ/vFCItb9IwyTDREjbo1PlnrbFcIhLDkDpAEBIRWWsuG7AWrt2rREf6FQ/C2+uTiN/AkQD0DG7wpkBnhABwIDuB5DRgVRXV2c4MAa07v7kLYc80Y0BVnAaWJgR3bhPWmLEIYgQ4FBncG8+Qf9r3cgXNQEDgTaj7qgE4NYBM8RvJh03qPAOwTtQGXTcByjgNBkYTBjcw6oMx61cODphTY/xgXajPVXc1TIyxXAutD2DGcAhnX471wDv//3f/yX8Ot2gyXOMMOjtUH3Qb/g1ur9R8yok1ralXfX7meyYgAAkLNe0h7vOWg734PDoC9bsq44Ujp0JiQmB/kGFQVoCiwgAObg82tQLypp3pljrC9OBdAa3SVtAa5QJzaI6wRsAThGjLPpygBa60VVUeDwwrnSTG5gKGBXAHtpHF6p1pi5cI/kgDQYx8mWq/1C+X3IAqo2pujJvhyHOAVBwVGpB13dyxZoXQACIARDqvgHHhCsUhIA+VJ2/eQeCQgcER+w1zFAmaQBHZnW4DLgquAnua524BpQhYAiSicD9XNNli70ggp4SLpNvgdABEjgf9I9wTzxzv+MFTG9ZOhDhFmkbuE9EYSYYgAoRHgClDOqugYH13//93wnDUrZy9B1iREd0yQxm/lMfdx0Y3OrxwHPanr6gn5AIACIMi26OyPtNhfzXOgCeTIR4YGBt5zgWHPrVgq51dpfBuwQMh+jvAV7+U3d0z25Rmu9m4QZtiu7drad055nrmnpAW4ClgiGuRYwTgJyJhnrDTepCBCQtJAnoUctFDwuNkx/6Z+iKscC1G/C1PqRjoqPvoRH+a9A0pR6XJIAqARNrB+g9dDLMeIgZXs5F0/rFAAkB4wfvQ2wqYmunE6PvgujhBLRMiISf13BCObyD/o3BDHgCYirauutBOkAT8ISQ1eXJnSbbNe9Tf8ACjgJRDYAD2Fjhwq5Uqn5gkAJ2cEv5cLqUwUSAOKxiOjpfAIsBBKAgvrodyhFBMfDBTaouz+87yJuAbhMdLeoAvCcoi/fdkyHtjtSh95iM4DABAdKjS2WyQsen+fqVOZB75As3DYAARHB26Ix1uSPfrcBNOUorvMd/rZfffwAY7hZdOAYct8463zpDE9AsPpi64xMgCn1Td4AZQyUSl4rY1AmJC4mBtodj5swu6Il+xuOBCZQ8ENH1WyhL66ffixoM5oL+4bv4FtrFnVbfKcW4JAFUG5pO0ms6EQBSURFdklu5r+kyxbwP9wrIAWJ79+5NEIa+o0RBWiUAYkR4VtZ4VzmRHk4ZYAFAlAB5X/PUmHusGYbY4AoyiYCa3h3zLr6SiFxwXoAaAEp7KKdLGg0MDjgLODj3mnWe63e58+ea+zwHJLCwAhhMCuSl+bLrEd8JWHNPvx8uUFfWePPXfJmUGMQAH+0Ex4I+jXIARR3cmp780dchIZCegQ43jMGJPQpYTspkSjrvtxTjv9ICXOJ9992X4JIpj0mAFTxIGgAqdSY9fYRxTP+725X3mJyYOOg/dKvsBeD+3kLqTb60PyoXJn04dsRwmAT0waiRlNHQtiJGr4xYDmfNfzwomKCQWuCImTS0T/k2rRtpNdAXqAVQFxFgDChX9cPu9/T9UotLGkC1sekw9Utk1qSDGeRwIhCtW/dFWn1PY+7BMQA+cGUKnhCvpskUq55PicadjnsMAnYcR4RGZPMrn3e4D6EjBqLr4l6Q8jUdXAFATR7KaWqd3PlwTzdthotwr91WUPDWUe9v27bNTC68x5py9wQFUANiAJ57Q2l9lzzd9dBv5j5Az7sAJQYfJg8Mc4iLGJ5UrNQ8AAFEZzg0DIgqCvOcoGcoaT9S1mAE97dRrv5HAmAiZCJmcuUZIjugA5AoZ0p6wBZdPQYdJn8mJUAHVYSqqQZSd8qmr5hQ6WtAERCjnXmmQcvQ/3iH4FKnNAuAMuHyLuMLp37Sap8S67v0D6oX9P18L4CJURBRn3GJC5UuEtFySzUueQCl0yBIuB/ERwwj+HxCNIgY6F/Qh6Lzg1PwW60CIQOEGD7U4qiEEbRjyYPgTk8eiO+s1HDP1pTlTsc134EuDXDCsMN/b37ed9z/lXg1zvQuz3GPAtARw9kRCN9ZjEv4RtJOTCbu7+cdrPYYONB7kU7BU+sOUFB3+gHx2v2+u55c84w84SoZ2IAuFmc1BqrvIH2nyzhJD/cGYAKcDFC33o3nBICc/iZPBS9v+YP1nzanDtQZThxa1G8CQAAfJnWlQdLC0QG0SB1MUNQNzvt///d/DddHGm99ued335uO/6RjUgW4mIwoBzD0y0Pv4dFCevob9Q/6WeqMtMIzXZGkfazvseAB/Tf9oxIQvqz6HGCFRpgsUQlw36/OpXSvpAGUDqBjEXcgWGY8PUeIZ1i96XA4GQY+3B1uQijFtfO1s5T4ec/7TNMUEpOfhkygRr48g+PAxQedU7a0meqR6x2thzo6owelzbDGoiODO0GFoVZWyuEdBpA64SMKeh3bScNZTvzQdfE/Ux21DqxyoXz0b2okwlCH7g+9LWCDSxUDEA4VXSADEy7b7TvrLotr9MtMDHwXUon7eaY6Fes+ZTH54DlAO8JxcY+A4Q1JBEDiPzRGfwEkfI9OSIAQnB7cuN/GG7yLRBWURigDMR19Le2ogOalca0n4I+oTX3pB7hNb3uTVmmNa6zzqm7h+1THr3lSFtcYrpDwsN7T5t46FKsfrmY+JQugdCCdggWRmZXBiGjKPe0c7UB0PIApnB2KcxVbr1ZDU1cluGxlKqHpN2RLm+uZfruWq//hNtFlMTDQNwJ8DCraB90Yg1cBVNuYQYVIinqEQeitH+mQAmh/RDMt01tHvo++gNuEE1FPBtJRBuXrAWtw44jygBEDGl2nWzXhVwb1QhwGaJkUGNjeunrrVMz/lIWBBu4ePabuYcp9HNehU9U5c88vADK0AbpmnrtBhv9MsnDhCs5B6u+mK/LwSkDazyxKoe4Y+5gI4ECZVL26fS2TfDFIYhhl0lKOnzK0fzRvaIp+gb507wTNp5TjkgVQOonVEIjpcJeIP+6Oc3cK9zUw0CFC9/Phdg3RosB3r7GH04E7YEAAhLSZbggNh4lYDteE94JbxKSNEYchfLeXgXcQavsS+7Ungw1OCNEOA5auZIFbwRIMoBK4VoMRXBnSAu5YufKnTNKgagBwMSwp4PrVp9j3KJt2R4VBO6oBi/sYhwAj2pFJCxUK303/oIaAHhXkkKZQXShAur+blVMYp2AC1FWqGN9BGYj10ARqLv6r+xsifyZ9JengkpHqAHxogntaJ/0mJlbqzMSAiyBpFGA1banGJQ2gKOvpGLgXOoUOy9YROhvmSpctj6H+TL8NoAKQsJIDKoiEiMEMWCy9iLjcZ/CiT0R/zEDASR6LOMYNnmGFRezCMKP6vELagLYHqLdv354ANiY9gA5gIaAfdOvG6FMNgChuOMod+9WBtJTBdwJiaigZ7MFKuUxYgAhcFpMUm66g/yagRmICon3REaJfBOThuGlft5ETfSV9AeDiPwtHi+sPnCtGTpZhKmfr1wb53qPugCAGLHXbY1zxH6lD1+Vnypf3meigFXc7Q4fQCxMBXC15MU69IJsp31K5X7IASgPTeRAonaXAUSoNP1j1pE3g9BB9IVo4SrgeLKpuAIQTByQ56It0uEAxWHHlAtS4ZlDAUTHY1V1pIPXWCYw64j8IqCD6wZGib3NzzKQhwI0CQNQBAKIe9LV7sLrrxDtYjuF2sAArN+1OU8xr6oIKBM5ZDXOok/gmRFsMJrQn34qbFWWj80VXjzGGd/VbNAZE8cSAOUAVQNuwtR/+xgq2xfgG7Q8Mrmx8QtvBiQLsqBtUQtF6ZSqT97zjj3u0PV4FrKJS9Rr3M+VTivdLGkBpcO08r0hZip1RjDrroEC3qTonDEC0kzvghA44MujhNgBZAAf9KB4DTEykx1gxkF2LvN+k9QOo4agoG3DUM5EoE6CHUwb0eQa4AyoAOs+9ebr/M5BJA8cGhwtd5AIA9/v5XlMW7YX4y7dQV/TJAAZeA4A5gApXincB6b1By6SuWn/SoANGj4tngddXU98ZSExZBAU5JlOMd3DIcKNal0LHFu/rBMb38H8g9R2K75Y8gA7FRr3WdVLCx3CBGI8eCz2cDlwMQfjiIZoDsqzdhsvDCIAIrOn4Dr0uJgiRJ5wU5aLD1t3XcXPB5QsQhzNlJRJuVnDUWo8gbavfzztB0g8kDWWgVsAoR1szcWldNYbzVH/KoGW5v0HzCfpu0HQ6mWFUhWNGzYOHhkoblBs0r0zpBqvumcq72vdDAB0kJ+ur3ZHe8iBc9bvDfQuRGdDSc3owJOEShNsMOk8ldPegKZTz8NbF+58y0LMB4HBtcD5wbnBqcMu4QnldZ7x55PpfTMDPVJZyVFjO/9//+39mSStp9b6+p217NeqkZQaNFUSRMtTFifoOxboG/aarmS4E0GEKoAxilPsYiBDRsEgjJvPD51P3a9TBfTWJjrqhGsDXkHX0+BCyJl/XkWudvEB0NesYpCzqxyTDpMSmHxiSqLv33aEORgqiIXDmv2ItBNBhCqAMYgYEA1x1h3CaGIfY3Jhn1xKgKN8vXMs6eYEv6H/3dwR9J0yXP1gNxTYLAXQYAygEByAxwLkeagMdzof6DXUOLdfAHQ7fkOsbw+f+gB8C6DAH0JDw/Qk/bJewXYpBAyGAhgCaprMrBmGFeYQA9XqggRBAQwANATSkgZAGCqSBEEALbLjXw+wafmPIRYY0kJ0GQgANATTkPkIaCGmgQBoIAbTAhgtn5uwzc9g+Yfu8HmggBNAQQEPuI6SBkAYKpIEQQAtsuNfD7Bp+Y8hFhjSQnQZCAA0BNOQ+QhoIaaBAGggBtMCGC2fm7DNz2D5h+7weaCAE0BBAQ+4jpIGQBgqkgRBAC2y418PsGn5jyEWGNJCdBkIADQE05D5CGghpoEAaCAG0wIYLZ+bsM3PYPmH7vB5oIATQEEBD7iOkgZAGCqSBEEALbLjXw+wafmPIRYY0kJ0GQgANATTkPkIaCGmgQBr4/wKK1W4FOpe/AAAAAElFTkSuQmCC)"
      ]
    },
    {
      "cell_type": "markdown",
      "metadata": {
        "id": "RmJj2C4rbSKt"
      },
      "source": [
        "IDEA\n",
        " - 무조건 적으로 숫자가 보이는 부분과 숫자가 존재해서는 안되는 영역이 명확하게 존재하므로 이를 이용하여 학습을 진행한다면, 높은 정확도를 보일 수 있을 것 같다.\n",
        "\n",
        "1. 3개의 라벨을 구분 후 함께 같이 학습 시킨다.\n",
        "    1. train_a = 감추어진 숫자가 있는 이미지\n",
        "    2. train_b = 숫자가 숨겨질 수 있는 부분의 이미지\n",
        "    3. train_c = 숫자가 있어서는 안되는 부분의 이미지\n",
        "\n",
        "학습에 사용될 데이터 \n",
        " - letter 숫자를 가리는 알파벳에 대한 정보\n",
        " - 숨겨진 숫자의 대한 정보 \n",
        " - 그리고 위에 3개에 대한 정보\n",
        "\n",
        "Task\n",
        " - 여러 개의 라벨을 가진 이미지에 대한 학습의 성능이 좋은 모델을 알아봐야한다.\n",
        " - Train Data set이 부족하기 때문에 이를 보완할 방법을 찾아야한다."
      ]
    },
    {
      "cell_type": "code",
      "metadata": {
        "id": "ZpsixaAv6Uia",
        "colab": {
          "base_uri": "https://localhost:8080/"
        },
        "outputId": "45fac634-55a0-47d6-c657-0a883a44cc52"
      },
      "source": [
        "train.query(\"letter == 'A'\").iloc[28].iloc[:3]"
      ],
      "execution_count": 77,
      "outputs": [
        {
          "output_type": "execute_result",
          "data": {
            "text/plain": [
              "id        774\n",
              "digit       4\n",
              "letter      A\n",
              "Name: 773, dtype: object"
            ]
          },
          "metadata": {
            "tags": []
          },
          "execution_count": 77
        }
      ]
    },
    {
      "cell_type": "code",
      "metadata": {
        "id": "kFX32yOp6Uib"
      },
      "source": [
        "from scipy.signal import correlate2d"
      ],
      "execution_count": 78,
      "outputs": []
    },
    {
      "cell_type": "code",
      "metadata": {
        "id": "AfmgZXn96Uib",
        "colab": {
          "base_uri": "https://localhost:8080/",
          "height": 0
        },
        "outputId": "4965b63a-83c3-4edb-a110-36f7bdf26386"
      },
      "source": [
        "# 이런 식으로 특성을 파악하는 것이 목적이다.\n",
        "\n",
        "kernel = np.array(\n",
        "    [\n",
        "        [0, -100, 0],\n",
        "        [0, 255, 0],\n",
        "        [0, -100, 0],\n",
        "    ]\n",
        ")\n",
        "plt.imshow(correlate2d(img, kernel, mode='same'))"
      ],
      "execution_count": 79,
      "outputs": [
        {
          "output_type": "execute_result",
          "data": {
            "text/plain": [
              "<matplotlib.image.AxesImage at 0x7f89bb20c750>"
            ]
          },
          "metadata": {
            "tags": []
          },
          "execution_count": 79
        },
        {
          "output_type": "display_data",
          "data": {
            "image/png": "[encoded data removed]",
            "text/plain": [
              "<Figure size 432x288 with 1 Axes>"
            ]
          },
          "metadata": {
            "tags": [],
            "needs_background": "light"
          }
        }
      ]
    },
    {
      "cell_type": "code",
      "metadata": {
        "id": "QPV9kxcs6Uib"
      },
      "source": [
        "# 문자는 one-hot encoding한 후에 (-1, 1, 26)으로 reshape\n",
        "# pixel값들도 (-1, 1, 784)로 reshape\n",
        "# 그 후 concat하여 (2048, 1, 810)으로 X_train 구축\n",
        "X_train = np.concatenate(\n",
        "    [\n",
        "        pd.get_dummies(train.letter).values.reshape(-1, 1, 26),\n",
        "        (train[[str(i) for i in range(784)]] / 255.).values.reshape(-1, 1, 784)\n",
        "    ], \n",
        "    axis=2\n",
        ")\n",
        "# Label Setting\n",
        "y_train = train['digit'].values\n",
        "\n",
        "# Train-Test를 8:2로 분할\n",
        "X_train, X_valid, y_train, y_valid = train_test_split(\n",
        "    X_train, y_train, test_size=0.2, random_state=42)"
      ],
      "execution_count": 80,
      "outputs": []
    },
    {
      "cell_type": "code",
      "metadata": {
        "id": "EhBwUJlr6Uic",
        "colab": {
          "base_uri": "https://localhost:8080/"
        },
        "outputId": "93258da4-a8a8-447f-9c64-c2ca0cf411bc"
      },
      "source": [
        "X_train.shape, X_valid.shape, y_train.shape, y_valid.shape"
      ],
      "execution_count": 81,
      "outputs": [
        {
          "output_type": "execute_result",
          "data": {
            "text/plain": [
              "((1638, 1, 810), (410, 1, 810), (1638,), (410,))"
            ]
          },
          "metadata": {
            "tags": []
          },
          "execution_count": 81
        }
      ]
    },
    {
      "cell_type": "markdown",
      "metadata": {
        "id": "hByNHQ1D3dNw"
      },
      "source": [
        "# Train"
      ]
    },
    {
      "cell_type": "code",
      "metadata": {
        "id": "JApTqxwo6Uic"
      },
      "source": [
        "# Torch.Tensor로 형변환\n",
        "X_train = torch.Tensor(X_train)\n",
        "X_valid = torch.Tensor(X_valid)\n",
        "y_train = torch.LongTensor(y_train)\n",
        "y_valid = torch.LongTensor(y_valid)"
      ],
      "execution_count": 82,
      "outputs": []
    },
    {
      "cell_type": "code",
      "metadata": {
        "id": "3N49q6f66Uic"
      },
      "source": [
        "from torch.utils.data import (\n",
        "    TensorDataset, \n",
        "    DataLoader, \n",
        "    RandomSampler, \n",
        "    SequentialSampler\n",
        ")\n",
        "\n",
        "\n",
        "# 배치 사이즈\n",
        "batch_size = 4\n",
        "\n",
        "# 파이토치의 DataLoader로 입력, 마스크, 라벨을 묶어 데이터 설정\n",
        "# 학습시 배치 사이즈 만큼 데이터를 가져옴\n",
        "train_data = TensorDataset(\n",
        "    X_train[:, :, :26], # Letter\n",
        "    X_train[:, :, 26:].reshape(-1, 1, 28, 28), # Image (28, 28)\n",
        "    y_train # Label\n",
        ")\n",
        "train_sampler = RandomSampler(train_data)\n",
        "train_dataloader = DataLoader(\n",
        "    train_data, sampler=train_sampler, batch_size=batch_size)\n",
        "\n",
        "validation_data = TensorDataset(\n",
        "    X_valid[:, :, :26], # Letter\n",
        "    X_valid[:, :, 26:].reshape(-1, 1, 28, 28), # Image (28, 28)\n",
        "    y_valid # Label\n",
        ")\n",
        "validation_sampler = SequentialSampler(\n",
        "    validation_data)\n",
        "validation_dataloader = DataLoader(\n",
        "    validation_data, sampler=validation_sampler, batch_size=batch_size)"
      ],
      "execution_count": 83,
      "outputs": []
    },
    {
      "cell_type": "code",
      "metadata": {
        "id": "VqGdBXr76Uic"
      },
      "source": [
        "# Model Construct\n",
        "\n",
        "class ConvClassifier(nn.Module):\n",
        "    \n",
        "    def __init__(self):\n",
        "        super().__init__()\n",
        "        \n",
        "        # Letter를 처리할 1D Conv Block\n",
        "        self.conv1 = nn.Sequential(\n",
        "            nn.Conv1d(1, 16, 3, padding=1), nn.ReLU(),\n",
        "            nn.Conv1d(16, 64, 4, padding=1), nn.ReLU(),\n",
        "            nn.Conv1d(64, 128, 5, padding=2), nn.ReLU(),\n",
        "            nn.Conv1d(128, 64, 4, padding=2), nn.ReLU(),\n",
        "            nn.Conv1d(64, 16, 3), nn.ReLU(),\n",
        "        )\n",
        "        \n",
        "        # Image를 처리할 2D Conv Block\n",
        "        self.conv2 = nn.Sequential(\n",
        "            nn.Conv2d(1, 32, 3, padding=1), nn.ReLU(),\n",
        "            nn.Conv2d(32, 128, 5, padding=2), nn.ReLU(),\n",
        "            nn.Conv2d(128, 256, 7, padding=3), nn.ReLU(),\n",
        "            nn.Conv2d(256, 512, 9, padding=3), nn.ReLU(),\n",
        "            nn.Conv2d(512, 256, 9, padding=3), nn.ReLU(),\n",
        "            nn.Conv2d(256, 128, 7, padding=3), nn.ReLU(),\n",
        "            nn.Conv2d(128, 64, 7, padding=3), nn.ReLU(),\n",
        "            nn.Conv2d(64, 32, 5, padding=3), nn.ReLU(),\n",
        "        )\n",
        "        \n",
        "        # 위 두 블럭을 지나 concat후 Fully Connected를 지나\n",
        "        # label을 예측\n",
        "        self.out = nn.Sequential(\n",
        "            nn.Linear(22016, 128), nn.ReLU(),\n",
        "            nn.Linear(128, 32), nn.ReLU(),\n",
        "            nn.Linear(32, 10)\n",
        "        )\n",
        "        \n",
        "        # 다중 Label이므로 Cross Entropy Loss를 정의\n",
        "        self.loss = nn.CrossEntropyLoss()\n",
        "        \n",
        "    def forward(self, x1, x2, label=False):\n",
        "        out = self._inference(x1, x2)\n",
        "        if label is not False:\n",
        "            # label이 입력으로 들어오면 loss도 계산해서 return\n",
        "            loss = self.loss(out, label)\n",
        "            return (out, loss)\n",
        "        # label이 입력되지 않으면 ``self._inference``와 동일.\n",
        "        return out\n",
        "    \n",
        "    def _inference(self, x1, x2):\n",
        "        bsz = x1.size(0)\n",
        "        \n",
        "        x1 = self.conv1(x1)\n",
        "        x2 = self.conv2(x2)\n",
        "        \n",
        "        x1 = x1.view(bsz, -1)\n",
        "        x2 = x2.view(bsz, -1)\n",
        "        \n",
        "        x = torch.cat([x1, x2], dim=1)\n",
        "#         return x\n",
        "        out = F.softmax(self.out(x), dim=1)\n",
        "        \n",
        "        return out"
      ],
      "execution_count": 84,
      "outputs": []
    },
    {
      "cell_type": "code",
      "metadata": {
        "id": "f3XpD6C36Uid",
        "colab": {
          "base_uri": "https://localhost:8080/"
        },
        "outputId": "7d8b0c90-41bf-4b01-ec0c-58b92bf9e759"
      },
      "source": [
        "# Model 구축\n",
        "model = ConvClassifier()\n",
        "model.cuda()"
      ],
      "execution_count": 85,
      "outputs": [
        {
          "output_type": "execute_result",
          "data": {
            "text/plain": [
              "ConvClassifier(\n",
              "  (conv1): Sequential(\n",
              "    (0): Conv1d(1, 16, kernel_size=(3,), stride=(1,), padding=(1,))\n",
              "    (1): ReLU()\n",
              "    (2): Conv1d(16, 64, kernel_size=(4,), stride=(1,), padding=(1,))\n",
              "    (3): ReLU()\n",
              "    (4): Conv1d(64, 128, kernel_size=(5,), stride=(1,), padding=(2,))\n",
              "    (5): ReLU()\n",
              "    (6): Conv1d(128, 64, kernel_size=(4,), stride=(1,), padding=(2,))\n",
              "    (7): ReLU()\n",
              "    (8): Conv1d(64, 16, kernel_size=(3,), stride=(1,))\n",
              "    (9): ReLU()\n",
              "  )\n",
              "  (conv2): Sequential(\n",
              "    (0): Conv2d(1, 32, kernel_size=(3, 3), stride=(1, 1), padding=(1, 1))\n",
              "    (1): ReLU()\n",
              "    (2): Conv2d(32, 128, kernel_size=(5, 5), stride=(1, 1), padding=(2, 2))\n",
              "    (3): ReLU()\n",
              "    (4): Conv2d(128, 256, kernel_size=(7, 7), stride=(1, 1), padding=(3, 3))\n",
              "    (5): ReLU()\n",
              "    (6): Conv2d(256, 512, kernel_size=(9, 9), stride=(1, 1), padding=(3, 3))\n",
              "    (7): ReLU()\n",
              "    (8): Conv2d(512, 256, kernel_size=(9, 9), stride=(1, 1), padding=(3, 3))\n",
              "    (9): ReLU()\n",
              "    (10): Conv2d(256, 128, kernel_size=(7, 7), stride=(1, 1), padding=(3, 3))\n",
              "    (11): ReLU()\n",
              "    (12): Conv2d(128, 64, kernel_size=(7, 7), stride=(1, 1), padding=(3, 3))\n",
              "    (13): ReLU()\n",
              "    (14): Conv2d(64, 32, kernel_size=(5, 5), stride=(1, 1), padding=(3, 3))\n",
              "    (15): ReLU()\n",
              "  )\n",
              "  (out): Sequential(\n",
              "    (0): Linear(in_features=22016, out_features=128, bias=True)\n",
              "    (1): ReLU()\n",
              "    (2): Linear(in_features=128, out_features=32, bias=True)\n",
              "    (3): ReLU()\n",
              "    (4): Linear(in_features=32, out_features=10, bias=True)\n",
              "  )\n",
              "  (loss): CrossEntropyLoss()\n",
              ")"
            ]
          },
          "metadata": {
            "tags": []
          },
          "execution_count": 85
        }
      ]
    },
    {
      "cell_type": "code",
      "metadata": {
        "id": "nUFFHIHQ6Uid",
        "colab": {
          "base_uri": "https://localhost:8080/"
        },
        "outputId": "c1156a28-d96c-4b93-cbe4-5aff39a35c8d"
      },
      "source": [
        "# 입력이 제대로 들어갈 지 확인\n",
        "x1 = X_train[:32, :, :26].cuda()\n",
        "x2 = X_train[:32, :, 26:].reshape(-1, 1, 28, 28).cuda()\n",
        "\n",
        "model(x1, x2).shape"
      ],
      "execution_count": 86,
      "outputs": [
        {
          "output_type": "execute_result",
          "data": {
            "text/plain": [
              "torch.Size([32, 10])"
            ]
          },
          "metadata": {
            "tags": []
          },
          "execution_count": 86
        }
      ]
    },
    {
      "cell_type": "code",
      "metadata": {
        "id": "51mBZ1OB6Uie"
      },
      "source": [
        "from torch.optim import Adam\n",
        "\n",
        "# 옵티마이저 설정\n",
        "optimizer = Adam(\n",
        "    model.parameters(),\n",
        "    lr=2e-5, # 학습률\n",
        "    eps=1e-8 # 0으로 나누는 것을 방지하기 위한 epsilon 값\n",
        ")\n",
        "\n",
        "# 에폭수\n",
        "epochs = 150"
      ],
      "execution_count": 87,
      "outputs": []
    },
    {
      "cell_type": "code",
      "metadata": {
        "id": "_vc6WB-96Uie"
      },
      "source": [
        "# 재현을 위해 랜덤시드 고정\n",
        "seed_val = 42\n",
        "random.seed(seed_val)\n",
        "np.random.seed(seed_val)\n",
        "torch.manual_seed(seed_val)\n",
        "torch.cuda.manual_seed_all(seed_val)"
      ],
      "execution_count": 88,
      "outputs": []
    },
    {
      "cell_type": "code",
      "metadata": {
        "id": "oPbDwPUo6Uie"
      },
      "source": [
        "device = torch.device(\"cuda\")"
      ],
      "execution_count": 89,
      "outputs": []
    },
    {
      "cell_type": "code",
      "metadata": {
        "id": "inPr7ZSh6Uie"
      },
      "source": [
        "# 정확도 계산 함수\n",
        "def flat_accuracy(preds, labels):\n",
        "    \n",
        "    pred_flat = np.argmax(preds, axis=1).flatten()\n",
        "    labels_flat = labels.flatten()\n",
        "\n",
        "    return np.sum(pred_flat == labels_flat) / len(labels_flat)"
      ],
      "execution_count": 90,
      "outputs": []
    },
    {
      "cell_type": "code",
      "metadata": {
        "id": "gRlOlbWs6Uif",
        "colab": {
          "base_uri": "https://localhost:8080/"
        },
        "outputId": "e7d6301a-1bc9-454c-822a-38892c10a992"
      },
      "source": [
        "# 그래디언트 초기화\n",
        "model.zero_grad()\n",
        "\n",
        "# 에폭만큼 반복\n",
        "import collections\n",
        "history = collections.defaultdict(list)\n",
        "for epoch_i in range(0, epochs):\n",
        "\n",
        "    # 로스 초기화\n",
        "    total_loss = 0\n",
        "\n",
        "    # 훈련모드로 변경\n",
        "    model.train()\n",
        "        \n",
        "    # 데이터로더에서 배치만큼 반복하여 가져옴\n",
        "    for step, batch in enumerate(train_dataloader):\n",
        "        \n",
        "        # 배치를 GPU에 넣음\n",
        "        batch = tuple(t.to(device) for t in batch)\n",
        "        \n",
        "        # 배치에서 데이터 추출\n",
        "        x1, x2, label = batch\n",
        "\n",
        "        # Forward 수행                \n",
        "        outputs = model(x1, x2, label)\n",
        "        \n",
        "        # 로스 구함\n",
        "        loss = outputs[1]\n",
        "\n",
        "        # 총 로스 계산\n",
        "        total_loss += loss.item()\n",
        "\n",
        "        # Backward 수행으로 그래디언트 계산\n",
        "        loss.backward()\n",
        "        history['train_loss'].append(loss.item())\n",
        "        \n",
        "        # 정확도 계산\n",
        "        logits = outputs[0].detach().cpu().numpy()\n",
        "        label = label.to('cpu').numpy()\n",
        "        tmp_train_accuracy = flat_accuracy(logits, label)\n",
        "        history['train_acc'].append(tmp_train_accuracy)\n",
        "\n",
        "        # 그래디언트 클리핑\n",
        "        torch.nn.utils.clip_grad_norm_(model.parameters(), 1.0)\n",
        "\n",
        "        # 그래디언트를 통해 가중치 파라미터 업데이트\n",
        "        optimizer.step()\n",
        "\n",
        "        # 그래디언트 초기화\n",
        "        model.zero_grad()\n",
        "\n",
        "    # 평균 로스 계산\n",
        "    avg_train_loss = total_loss / len(train_dataloader)\n",
        "        \n",
        "    # ========================================\n",
        "    #               Validation\n",
        "    # ========================================\n",
        "\n",
        "\n",
        "    #시작 시간 설정\n",
        "    t0 = time.time()\n",
        "\n",
        "    # 평가모드로 변경\n",
        "    model.eval()\n",
        "\n",
        "    # 변수 초기화\n",
        "    eval_loss, eval_accuracy = 0, 0\n",
        "    nb_eval_steps, nb_eval_examples = 0, 0\n",
        "\n",
        "    # 데이터로더에서 배치만큼 반복하여 가져옴\n",
        "    for batch in validation_dataloader:\n",
        "        \n",
        "        # 배치를 GPU에 넣음\n",
        "        batch = tuple(t.to(device) for t in batch)\n",
        "        \n",
        "        # 배치에서 데이터 추출\n",
        "        x1, x2, label = batch\n",
        "        \n",
        "        # 그래디언트 계산 안함\n",
        "        with torch.no_grad():     \n",
        "            # Forward 수행\n",
        "            outputs = model(x1, x2, label)\n",
        "        \n",
        "        # 로스 구함\n",
        "        logits = outputs[0]\n",
        "        history['eval_loss'].append(outputs[1].item())\n",
        "\n",
        "        # CPU로 데이터 이동\n",
        "        logits = logits.detach().cpu().numpy()\n",
        "        label = label.to('cpu').numpy()\n",
        "        \n",
        "        # 출력 로짓과 라벨을 비교하여 정확도 계산\n",
        "        tmp_eval_accuracy = flat_accuracy(logits, label)\n",
        "        history['eval_acc'].append(tmp_eval_accuracy)\n",
        "        eval_accuracy += tmp_eval_accuracy\n",
        "        nb_eval_steps += 1\n",
        "\n",
        "    s = f'\\r[Epoch {epoch_i+1}/{epochs}]'\n",
        "    s += f' Avg Training Loss: {avg_train_loss:.2f}'\n",
        "    s += \" Valid Acc: {0:.2f}\".format(eval_accuracy/nb_eval_steps)\n",
        "    print(s, end='')\n",
        "\n",
        "print(\"\")\n",
        "print(\"Training complete!\")"
      ],
      "execution_count": 91,
      "outputs": [
        {
          "output_type": "stream",
          "text": [
            "[Epoch 150/150] Avg Training Loss: 1.60 Valid Acc: 0.66\n",
            "Training complete!\n"
          ],
          "name": "stdout"
        }
      ]
    },
    {
      "cell_type": "code",
      "metadata": {
        "id": "6nhhY3hV6Uif"
      },
      "source": [
        "# 결과 parameter를 저장\n",
        "torch.save(model.state_dict(), 'convclf200803.pt')"
      ],
      "execution_count": 92,
      "outputs": []
    },
    {
      "cell_type": "code",
      "metadata": {
        "id": "UB6yT2Vi6Uif",
        "colab": {
          "base_uri": "https://localhost:8080/"
        },
        "outputId": "fb5ff41e-90d4-40f4-9030-0e67cc6f4a47"
      },
      "source": [
        "# 모델을 로드하여 test를 진행할 것임\n",
        "model = ConvClassifier()\n",
        "model.load_state_dict(torch.load('convclf200803.pt'))\n",
        "model.eval()\n",
        "model.cuda()"
      ],
      "execution_count": 93,
      "outputs": [
        {
          "output_type": "execute_result",
          "data": {
            "text/plain": [
              "ConvClassifier(\n",
              "  (conv1): Sequential(\n",
              "    (0): Conv1d(1, 16, kernel_size=(3,), stride=(1,), padding=(1,))\n",
              "    (1): ReLU()\n",
              "    (2): Conv1d(16, 64, kernel_size=(4,), stride=(1,), padding=(1,))\n",
              "    (3): ReLU()\n",
              "    (4): Conv1d(64, 128, kernel_size=(5,), stride=(1,), padding=(2,))\n",
              "    (5): ReLU()\n",
              "    (6): Conv1d(128, 64, kernel_size=(4,), stride=(1,), padding=(2,))\n",
              "    (7): ReLU()\n",
              "    (8): Conv1d(64, 16, kernel_size=(3,), stride=(1,))\n",
              "    (9): ReLU()\n",
              "  )\n",
              "  (conv2): Sequential(\n",
              "    (0): Conv2d(1, 32, kernel_size=(3, 3), stride=(1, 1), padding=(1, 1))\n",
              "    (1): ReLU()\n",
              "    (2): Conv2d(32, 128, kernel_size=(5, 5), stride=(1, 1), padding=(2, 2))\n",
              "    (3): ReLU()\n",
              "    (4): Conv2d(128, 256, kernel_size=(7, 7), stride=(1, 1), padding=(3, 3))\n",
              "    (5): ReLU()\n",
              "    (6): Conv2d(256, 512, kernel_size=(9, 9), stride=(1, 1), padding=(3, 3))\n",
              "    (7): ReLU()\n",
              "    (8): Conv2d(512, 256, kernel_size=(9, 9), stride=(1, 1), padding=(3, 3))\n",
              "    (9): ReLU()\n",
              "    (10): Conv2d(256, 128, kernel_size=(7, 7), stride=(1, 1), padding=(3, 3))\n",
              "    (11): ReLU()\n",
              "    (12): Conv2d(128, 64, kernel_size=(7, 7), stride=(1, 1), padding=(3, 3))\n",
              "    (13): ReLU()\n",
              "    (14): Conv2d(64, 32, kernel_size=(5, 5), stride=(1, 1), padding=(3, 3))\n",
              "    (15): ReLU()\n",
              "  )\n",
              "  (out): Sequential(\n",
              "    (0): Linear(in_features=22016, out_features=128, bias=True)\n",
              "    (1): ReLU()\n",
              "    (2): Linear(in_features=128, out_features=32, bias=True)\n",
              "    (3): ReLU()\n",
              "    (4): Linear(in_features=32, out_features=10, bias=True)\n",
              "  )\n",
              "  (loss): CrossEntropyLoss()\n",
              ")"
            ]
          },
          "metadata": {
            "tags": []
          },
          "execution_count": 93
        }
      ]
    },
    {
      "cell_type": "code",
      "metadata": {
        "id": "x9Cnj5aK6Uif"
      },
      "source": [
        "# Test셋 전처리\n",
        "X_test = np.concatenate(\n",
        "    [\n",
        "        pd.get_dummies(test.letter).values.reshape(-1, 1, 26),\n",
        "        (test[[str(i) for i in range(784)]] / 255.).values.reshape(-1, 1, 784)\n",
        "    ], \n",
        "    axis=2\n",
        ")\n",
        "\n",
        "X_test = torch.Tensor(X_test)\n",
        "\n",
        "x1 = X_test[:, :, :26].cuda()\n",
        "x2 = X_test[:, :, 26:].reshape(-1, 1, 28, 28).cuda()"
      ],
      "execution_count": 94,
      "outputs": []
    },
    {
      "cell_type": "code",
      "metadata": {
        "id": "Dx4ub85O6Uig"
      },
      "source": [
        "# 배치 사이즈\n",
        "batch_size = 32\n",
        "\n",
        "# 파이토치의 DataLoader로 입력, 마스크, 라벨을 묶어 데이터 설정\n",
        "# 학습시 배치 사이즈 만큼 데이터를 가져옴\n",
        "test_data = TensorDataset(x1, x2)\n",
        "test_sampler = SequentialSampler(test_data)\n",
        "test_dataloader = DataLoader(test_data, sampler=test_sampler, batch_size=batch_size)"
      ],
      "execution_count": 95,
      "outputs": []
    },
    {
      "cell_type": "code",
      "metadata": {
        "id": "dFOQTiDz6Uig"
      },
      "source": [
        "# Test 예측 실시\n",
        "y_pred = []\n",
        "for batch in test_dataloader:\n",
        "    input1, input2 = batch\n",
        "    with torch.no_grad():\n",
        "        outputs = model(input1, input2)\n",
        "    y_pred.append(torch.argmax(outputs, dim=1))"
      ],
      "execution_count": 96,
      "outputs": []
    },
    {
      "cell_type": "code",
      "metadata": {
        "id": "0fFIfz2R6Uig"
      },
      "source": [
        "submission.digit = torch.cat(y_pred).detach().cpu().numpy()\n",
        "submission.to_csv('submission.csv', index=False) # 0.6960784314%"
      ],
      "execution_count": 97,
      "outputs": []
    }
  ]
}