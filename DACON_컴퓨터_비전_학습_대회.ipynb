{
  "nbformat": 4,
  "nbformat_minor": 0,
  "metadata": {
    "colab": {
      "name": "DACON 컴퓨터 비전 학습 대회.ipynb",
      "provenance": [],
      "collapsed_sections": [],
      "include_colab_link": true
    },
    "kernelspec": {
      "name": "python3",
      "display_name": "Python 3"
    },
    "accelerator": "GPU"
  },
  "cells": [
    {
      "cell_type": "markdown",
      "metadata": {
        "id": "view-in-github",
        "colab_type": "text"
      },
      "source": [
        "<a href=\"https://colab.research.google.com/github/d9249/DACON/blob/main/DACON_%EC%BB%B4%ED%93%A8%ED%84%B0_%EB%B9%84%EC%A0%84_%ED%95%99%EC%8A%B5_%EB%8C%80%ED%9A%8C.ipynb\" target=\"_parent\"><img src=\"https://colab.research.google.com/assets/colab-badge.svg\" alt=\"Open In Colab\"/></a>"
      ]
    },
    {
      "cell_type": "code",
      "metadata": {
        "id": "CHrHCOcwh8rK"
      },
      "source": [
        "import numpy as np\n",
        "import pandas as pd\n",
        "import tensorflow as tf\n",
        "import matplotlib.pyplot as plt\n",
        "\n",
        "import tensorflow.keras.utils\n",
        "from tensorflow.keras import Sequential\n",
        "from tensorflow.keras.layers import Dense, Flatten, Dropout\n",
        "from tensorflow.keras.layers import Conv2D, MaxPooling2D, BatchNormalization\n",
        "from tensorflow.keras.callbacks import EarlyStopping\n",
        "\n",
        "path = '/content/data/'"
      ],
      "execution_count": null,
      "outputs": []
    },
    {
      "cell_type": "code",
      "metadata": {
        "id": "CyB247t9mtSS"
      },
      "source": [
        "train_data = pd.read_csv(path+'train.csv')\n",
        "test_data  = pd.read_csv(path+'test.csv')\n",
        "sub_data   = pd.read_csv(path+'submission.csv')"
      ],
      "execution_count": null,
      "outputs": []
    },
    {
      "cell_type": "code",
      "metadata": {
        "id": "WpXKFdGHqUtW"
      },
      "source": [
        "def x_data(data):\n",
        "    cols = [ col for col in data.columns if col in ['id', 'digit', 'letter']]\n",
        "    x = data.drop(cols, axis=1).values\n",
        "    x = x.reshape(-1, 28, 28, 1)\n",
        "    x = x/255\n",
        "    return x\n",
        "\n",
        "def one_hot_encoding(data):\n",
        "    y = data['digit']\n",
        "    y_train = np.zeros((len(y), len(y.unique())))\n",
        "    for i, digit in enumerate(y):\n",
        "        y_train[i, digit] = 1\n",
        "    return y_train"
      ],
      "execution_count": null,
      "outputs": []
    },
    {
      "cell_type": "code",
      "metadata": {
        "id": "UsAgkf5eq4HC"
      },
      "source": [
        "x_train = x_data(train_data)\n",
        "x_test  = x_data(test_data)\n",
        "y_train = one_hot_encoding(train_data)"
      ],
      "execution_count": null,
      "outputs": []
    },
    {
      "cell_type": "code",
      "metadata": {
        "id": "hqvTnDDPt1NG"
      },
      "source": [
        "model = Sequential()\n",
        "model.add( Conv2D( 32, kernel_size=(3,3), activation='relu', input_shape=(28,28,1) ) )\n",
        "model.add( BatchNormalization() )\n",
        "model.add( Dropout(0.2) )\n",
        "\n",
        "model.add( Conv2D( 128, kernel_size=(3,3), activation='relu') )\n",
        "model.add( Dropout(0.2) )\n",
        "\n",
        "model.add( Conv2D( 128, kernel_size=(3,3), activation='relu') )\n",
        "model.add( Conv2D( 64, kernel_size=(3,3), activation='relu') )\n",
        "model.add( MaxPooling2D(pool_size=(2,2)) )\n",
        "model.add( Flatten() )\n",
        "\n",
        "model.add( Dense( 32, activation='relu') )\n",
        "model.add( Dense( 10, activation='softmax') )"
      ],
      "execution_count": null,
      "outputs": []
    },
    {
      "cell_type": "code",
      "metadata": {
        "colab": {
          "base_uri": "https://localhost:8080/"
        },
        "id": "jvtr9VXpz0_w",
        "outputId": "cdb588e9-257c-4e2b-ea35-0809592245c5"
      },
      "source": [
        "model.summary()"
      ],
      "execution_count": null,
      "outputs": [
        {
          "output_type": "stream",
          "text": [
            "Model: \"sequential\"\n",
            "_________________________________________________________________\n",
            "Layer (type)                 Output Shape              Param #   \n",
            "=================================================================\n",
            "conv2d (Conv2D)              (None, 26, 26, 32)        320       \n",
            "_________________________________________________________________\n",
            "batch_normalization (BatchNo (None, 26, 26, 32)        128       \n",
            "_________________________________________________________________\n",
            "dropout (Dropout)            (None, 26, 26, 32)        0         \n",
            "_________________________________________________________________\n",
            "conv2d_1 (Conv2D)            (None, 24, 24, 128)       36992     \n",
            "_________________________________________________________________\n",
            "dropout_1 (Dropout)          (None, 24, 24, 128)       0         \n",
            "_________________________________________________________________\n",
            "conv2d_2 (Conv2D)            (None, 22, 22, 128)       147584    \n",
            "_________________________________________________________________\n",
            "conv2d_3 (Conv2D)            (None, 20, 20, 64)        73792     \n",
            "_________________________________________________________________\n",
            "max_pooling2d (MaxPooling2D) (None, 10, 10, 64)        0         \n",
            "_________________________________________________________________\n",
            "flatten (Flatten)            (None, 6400)              0         \n",
            "_________________________________________________________________\n",
            "dense (Dense)                (None, 32)                204832    \n",
            "_________________________________________________________________\n",
            "dense_1 (Dense)              (None, 10)                330       \n",
            "=================================================================\n",
            "Total params: 463,978\n",
            "Trainable params: 463,914\n",
            "Non-trainable params: 64\n",
            "_________________________________________________________________\n"
          ],
          "name": "stdout"
        }
      ]
    },
    {
      "cell_type": "code",
      "metadata": {
        "colab": {
          "base_uri": "https://localhost:8080/"
        },
        "id": "GBAT5XH1z4DB",
        "outputId": "f5b7a6ba-6127-4b13-e99e-d60be699a321"
      },
      "source": [
        "model.compile( loss='categorical_crossentropy',\n",
        "               optimizer='adam',metrics=['accuracy'])\n",
        "\n",
        "early_stopping = EarlyStopping(patience=20)\n",
        "hist = model.fit( x_train, y_train, epochs=100, batch_size=40)\n"
      ],
      "execution_count": null,
      "outputs": [
        {
          "output_type": "stream",
          "text": [
            "Epoch 1/100\n",
            "52/52 [==============================] - 32s 12ms/step - loss: 2.2312 - accuracy: 0.1489\n",
            "Epoch 2/100\n",
            "52/52 [==============================] - 1s 10ms/step - loss: 2.0085 - accuracy: 0.2451\n",
            "Epoch 3/100\n",
            "52/52 [==============================] - 0s 9ms/step - loss: 1.8517 - accuracy: 0.2876\n",
            "Epoch 4/100\n",
            "52/52 [==============================] - 0s 9ms/step - loss: 1.6864 - accuracy: 0.3721\n",
            "Epoch 5/100\n",
            "52/52 [==============================] - 0s 9ms/step - loss: 1.5391 - accuracy: 0.4536\n",
            "Epoch 6/100\n",
            "52/52 [==============================] - 0s 9ms/step - loss: 1.4130 - accuracy: 0.5063\n",
            "Epoch 7/100\n",
            "52/52 [==============================] - 0s 9ms/step - loss: 1.2103 - accuracy: 0.5923\n",
            "Epoch 8/100\n",
            "52/52 [==============================] - 0s 9ms/step - loss: 1.0812 - accuracy: 0.6353\n",
            "Epoch 9/100\n",
            "52/52 [==============================] - 0s 9ms/step - loss: 0.9481 - accuracy: 0.6865\n",
            "Epoch 10/100\n",
            "52/52 [==============================] - 0s 9ms/step - loss: 0.8845 - accuracy: 0.7075\n",
            "Epoch 11/100\n",
            "52/52 [==============================] - 0s 9ms/step - loss: 0.7739 - accuracy: 0.7388\n",
            "Epoch 12/100\n",
            "52/52 [==============================] - 0s 9ms/step - loss: 0.6935 - accuracy: 0.7573\n",
            "Epoch 13/100\n",
            "52/52 [==============================] - 0s 9ms/step - loss: 0.6658 - accuracy: 0.7749\n",
            "Epoch 14/100\n",
            "52/52 [==============================] - 0s 9ms/step - loss: 0.5698 - accuracy: 0.8066\n",
            "Epoch 15/100\n",
            "52/52 [==============================] - 0s 9ms/step - loss: 0.4947 - accuracy: 0.8330\n",
            "Epoch 16/100\n",
            "52/52 [==============================] - 0s 9ms/step - loss: 0.4383 - accuracy: 0.8486\n",
            "Epoch 17/100\n",
            "52/52 [==============================] - 0s 9ms/step - loss: 0.4409 - accuracy: 0.8384\n",
            "Epoch 18/100\n",
            "52/52 [==============================] - 0s 9ms/step - loss: 0.4162 - accuracy: 0.8525\n",
            "Epoch 19/100\n",
            "52/52 [==============================] - 0s 10ms/step - loss: 0.3195 - accuracy: 0.8809\n",
            "Epoch 20/100\n",
            "52/52 [==============================] - 0s 9ms/step - loss: 0.2988 - accuracy: 0.9053\n",
            "Epoch 21/100\n",
            "52/52 [==============================] - 0s 9ms/step - loss: 0.2964 - accuracy: 0.8872\n",
            "Epoch 22/100\n",
            "52/52 [==============================] - 0s 9ms/step - loss: 0.2474 - accuracy: 0.9106\n",
            "Epoch 23/100\n",
            "52/52 [==============================] - 0s 10ms/step - loss: 0.2623 - accuracy: 0.9097\n",
            "Epoch 24/100\n",
            "52/52 [==============================] - 0s 9ms/step - loss: 0.2888 - accuracy: 0.9009\n",
            "Epoch 25/100\n",
            "52/52 [==============================] - 0s 9ms/step - loss: 0.2056 - accuracy: 0.9336\n",
            "Epoch 26/100\n",
            "52/52 [==============================] - 0s 9ms/step - loss: 0.1323 - accuracy: 0.9556\n",
            "Epoch 27/100\n",
            "52/52 [==============================] - 0s 9ms/step - loss: 0.1635 - accuracy: 0.9458\n",
            "Epoch 28/100\n",
            "52/52 [==============================] - 0s 9ms/step - loss: 0.0909 - accuracy: 0.9697\n",
            "Epoch 29/100\n",
            "52/52 [==============================] - 0s 9ms/step - loss: 0.1078 - accuracy: 0.9634\n",
            "Epoch 30/100\n",
            "52/52 [==============================] - 0s 9ms/step - loss: 0.0733 - accuracy: 0.9741\n",
            "Epoch 31/100\n",
            "52/52 [==============================] - 0s 9ms/step - loss: 0.0696 - accuracy: 0.9761\n",
            "Epoch 32/100\n",
            "52/52 [==============================] - 0s 9ms/step - loss: 0.1053 - accuracy: 0.9644\n",
            "Epoch 33/100\n",
            "52/52 [==============================] - 0s 9ms/step - loss: 0.0924 - accuracy: 0.9663\n",
            "Epoch 34/100\n",
            "52/52 [==============================] - 0s 9ms/step - loss: 0.0556 - accuracy: 0.9810\n",
            "Epoch 35/100\n",
            "52/52 [==============================] - 0s 10ms/step - loss: 0.0802 - accuracy: 0.9761\n",
            "Epoch 36/100\n",
            "52/52 [==============================] - 0s 9ms/step - loss: 0.0747 - accuracy: 0.9775\n",
            "Epoch 37/100\n",
            "52/52 [==============================] - 0s 10ms/step - loss: 0.0911 - accuracy: 0.9727\n",
            "Epoch 38/100\n",
            "52/52 [==============================] - 0s 9ms/step - loss: 0.0741 - accuracy: 0.9761\n",
            "Epoch 39/100\n",
            "52/52 [==============================] - 0s 9ms/step - loss: 0.0536 - accuracy: 0.9810\n",
            "Epoch 40/100\n",
            "52/52 [==============================] - 0s 9ms/step - loss: 0.0539 - accuracy: 0.9810\n",
            "Epoch 41/100\n",
            "52/52 [==============================] - 0s 9ms/step - loss: 0.0462 - accuracy: 0.9839\n",
            "Epoch 42/100\n",
            "52/52 [==============================] - 0s 9ms/step - loss: 0.0674 - accuracy: 0.9785\n",
            "Epoch 43/100\n",
            "52/52 [==============================] - 0s 9ms/step - loss: 0.0782 - accuracy: 0.9712\n",
            "Epoch 44/100\n",
            "52/52 [==============================] - 0s 9ms/step - loss: 0.0899 - accuracy: 0.9683\n",
            "Epoch 45/100\n",
            "52/52 [==============================] - 0s 9ms/step - loss: 0.0631 - accuracy: 0.9795\n",
            "Epoch 46/100\n",
            "52/52 [==============================] - 0s 9ms/step - loss: 0.0626 - accuracy: 0.9795\n",
            "Epoch 47/100\n",
            "52/52 [==============================] - 0s 9ms/step - loss: 0.0559 - accuracy: 0.9795\n",
            "Epoch 48/100\n",
            "52/52 [==============================] - 0s 9ms/step - loss: 0.0556 - accuracy: 0.9834\n",
            "Epoch 49/100\n",
            "52/52 [==============================] - 1s 10ms/step - loss: 0.0469 - accuracy: 0.9814\n",
            "Epoch 50/100\n",
            "52/52 [==============================] - 0s 9ms/step - loss: 0.0504 - accuracy: 0.9834\n",
            "Epoch 51/100\n",
            "52/52 [==============================] - 0s 10ms/step - loss: 0.0387 - accuracy: 0.9873\n",
            "Epoch 52/100\n",
            "52/52 [==============================] - 0s 9ms/step - loss: 0.0702 - accuracy: 0.9775\n",
            "Epoch 53/100\n",
            "52/52 [==============================] - 0s 9ms/step - loss: 0.1298 - accuracy: 0.9634\n",
            "Epoch 54/100\n",
            "52/52 [==============================] - 1s 10ms/step - loss: 0.0401 - accuracy: 0.9863\n",
            "Epoch 55/100\n",
            "52/52 [==============================] - 0s 9ms/step - loss: 0.0285 - accuracy: 0.9897\n",
            "Epoch 56/100\n",
            "52/52 [==============================] - 0s 9ms/step - loss: 0.0202 - accuracy: 0.9932\n",
            "Epoch 57/100\n",
            "52/52 [==============================] - 0s 9ms/step - loss: 0.0289 - accuracy: 0.9897\n",
            "Epoch 58/100\n",
            "52/52 [==============================] - 0s 10ms/step - loss: 0.0378 - accuracy: 0.9854\n",
            "Epoch 59/100\n",
            "52/52 [==============================] - 0s 9ms/step - loss: 0.0724 - accuracy: 0.9785\n",
            "Epoch 60/100\n",
            "52/52 [==============================] - 1s 10ms/step - loss: 0.0666 - accuracy: 0.9824\n",
            "Epoch 61/100\n",
            "52/52 [==============================] - 0s 10ms/step - loss: 0.0489 - accuracy: 0.9844\n",
            "Epoch 62/100\n",
            "52/52 [==============================] - 1s 10ms/step - loss: 0.0514 - accuracy: 0.9878\n",
            "Epoch 63/100\n",
            "52/52 [==============================] - 0s 9ms/step - loss: 0.0331 - accuracy: 0.9897\n",
            "Epoch 64/100\n",
            "52/52 [==============================] - 0s 9ms/step - loss: 0.0328 - accuracy: 0.9893\n",
            "Epoch 65/100\n",
            "52/52 [==============================] - 1s 10ms/step - loss: 0.0303 - accuracy: 0.9917\n",
            "Epoch 66/100\n",
            "52/52 [==============================] - 0s 9ms/step - loss: 0.0249 - accuracy: 0.9902\n",
            "Epoch 67/100\n",
            "52/52 [==============================] - 0s 9ms/step - loss: 0.0191 - accuracy: 0.9951\n",
            "Epoch 68/100\n",
            "52/52 [==============================] - 0s 10ms/step - loss: 0.0152 - accuracy: 0.9956\n",
            "Epoch 69/100\n",
            "52/52 [==============================] - 0s 9ms/step - loss: 0.0188 - accuracy: 0.9932\n",
            "Epoch 70/100\n",
            "52/52 [==============================] - 0s 9ms/step - loss: 0.0268 - accuracy: 0.9902\n",
            "Epoch 71/100\n",
            "52/52 [==============================] - 1s 10ms/step - loss: 0.0248 - accuracy: 0.9902\n",
            "Epoch 72/100\n",
            "52/52 [==============================] - 0s 10ms/step - loss: 0.0368 - accuracy: 0.9878\n",
            "Epoch 73/100\n",
            "52/52 [==============================] - 0s 9ms/step - loss: 0.0947 - accuracy: 0.9727\n",
            "Epoch 74/100\n",
            "52/52 [==============================] - 1s 10ms/step - loss: 0.0696 - accuracy: 0.9805\n",
            "Epoch 75/100\n",
            "52/52 [==============================] - 0s 9ms/step - loss: 0.0870 - accuracy: 0.9707\n",
            "Epoch 76/100\n",
            "52/52 [==============================] - 0s 10ms/step - loss: 0.0491 - accuracy: 0.9824\n",
            "Epoch 77/100\n",
            "52/52 [==============================] - 0s 9ms/step - loss: 0.0513 - accuracy: 0.9819\n",
            "Epoch 78/100\n",
            "52/52 [==============================] - 0s 9ms/step - loss: 0.0268 - accuracy: 0.9897\n",
            "Epoch 79/100\n",
            "52/52 [==============================] - 0s 10ms/step - loss: 0.0312 - accuracy: 0.9893\n",
            "Epoch 80/100\n",
            "52/52 [==============================] - 1s 10ms/step - loss: 0.0247 - accuracy: 0.9932\n",
            "Epoch 81/100\n",
            "52/52 [==============================] - 0s 9ms/step - loss: 0.0219 - accuracy: 0.9927\n",
            "Epoch 82/100\n",
            "52/52 [==============================] - 0s 10ms/step - loss: 0.0193 - accuracy: 0.9932\n",
            "Epoch 83/100\n",
            "52/52 [==============================] - 0s 9ms/step - loss: 0.0157 - accuracy: 0.9946\n",
            "Epoch 84/100\n",
            "52/52 [==============================] - 0s 9ms/step - loss: 0.0173 - accuracy: 0.9946\n",
            "Epoch 85/100\n",
            "52/52 [==============================] - 0s 9ms/step - loss: 0.0587 - accuracy: 0.9805\n",
            "Epoch 86/100\n",
            "52/52 [==============================] - 1s 10ms/step - loss: 0.0885 - accuracy: 0.9766\n",
            "Epoch 87/100\n",
            "52/52 [==============================] - 0s 9ms/step - loss: 0.0526 - accuracy: 0.9858\n",
            "Epoch 88/100\n",
            "52/52 [==============================] - 0s 9ms/step - loss: 0.0366 - accuracy: 0.9883\n",
            "Epoch 89/100\n",
            "52/52 [==============================] - 0s 10ms/step - loss: 0.0233 - accuracy: 0.9927\n",
            "Epoch 90/100\n",
            "52/52 [==============================] - 0s 9ms/step - loss: 0.0252 - accuracy: 0.9902\n",
            "Epoch 91/100\n",
            "52/52 [==============================] - 0s 9ms/step - loss: 0.0213 - accuracy: 0.9912\n",
            "Epoch 92/100\n",
            "52/52 [==============================] - 0s 10ms/step - loss: 0.0302 - accuracy: 0.9897\n",
            "Epoch 93/100\n",
            "52/52 [==============================] - 0s 9ms/step - loss: 0.0428 - accuracy: 0.9863\n",
            "Epoch 94/100\n",
            "52/52 [==============================] - 0s 10ms/step - loss: 0.0131 - accuracy: 0.9951\n",
            "Epoch 95/100\n",
            "52/52 [==============================] - 0s 9ms/step - loss: 0.0128 - accuracy: 0.9951\n",
            "Epoch 96/100\n",
            "52/52 [==============================] - 0s 10ms/step - loss: 0.0287 - accuracy: 0.9902\n",
            "Epoch 97/100\n",
            "52/52 [==============================] - 0s 10ms/step - loss: 0.0355 - accuracy: 0.9888\n",
            "Epoch 98/100\n",
            "52/52 [==============================] - 0s 10ms/step - loss: 0.0510 - accuracy: 0.9849\n",
            "Epoch 99/100\n",
            "52/52 [==============================] - 0s 9ms/step - loss: 0.0380 - accuracy: 0.9873\n",
            "Epoch 100/100\n",
            "52/52 [==============================] - 1s 10ms/step - loss: 0.0722 - accuracy: 0.9771\n"
          ],
          "name": "stdout"
        }
      ]
    },
    {
      "cell_type": "code",
      "metadata": {
        "colab": {
          "base_uri": "https://localhost:8080/",
          "height": 279
        },
        "id": "pwSWBtgWz_IL",
        "outputId": "1c7f6b2b-fee6-46bd-974f-ed3d8cc85c99"
      },
      "source": [
        "fig, lss = plt.subplots()\n",
        "acc = lss.twinx()\n",
        "\n",
        "lss.plot(hist.history['loss'],    'r', label='train loss')\n",
        "acc.plot(hist.history['accuracy'],'b', label='train acc')\n",
        "\n",
        "lss.set_xlabel('epoch')\n",
        "lss.set_ylabel('loss')\n",
        "acc.set_ylabel('accuracy')\n",
        "\n",
        "lss.legend(loc='upper left')\n",
        "acc.legend(loc='lower left')\n",
        "\n",
        "plt.show()"
      ],
      "execution_count": null,
      "outputs": [
        {
          "output_type": "display_data",
          "data": {
            "image/png": "[encoded data removed]",
            "text/plain": [
              "<Figure size 432x288 with 2 Axes>"
            ]
          },
          "metadata": {
            "tags": [],
            "needs_background": "light"
          }
        }
      ]
    },
    {
      "cell_type": "code",
      "metadata": {
        "id": "Dl91kqyA2o8y"
      },
      "source": [
        "sub_data['digit'] = np.argmax(model.predict(x_test), axis=1)\n",
        "sub_data.to_csv(path+'baseline.csv', index=False)"
      ],
      "execution_count": null,
      "outputs": []
    },
    {
      "cell_type": "code",
      "metadata": {
        "id": "bWWood9s9JOF"
      },
      "source": [
        ""
      ],
      "execution_count": null,
      "outputs": []
    }
  ]
}