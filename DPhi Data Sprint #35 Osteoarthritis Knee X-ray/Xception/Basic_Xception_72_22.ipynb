{
 "cells": [
  {
   "cell_type": "markdown",
   "id": "million-monaco",
   "metadata": {
    "id": "million-monaco",
    "papermill": {
     "duration": 0.026241,
     "end_time": "2021-05-30T18:39:28.019714",
     "exception": false,
     "start_time": "2021-05-30T18:39:27.993473",
     "status": "completed"
    },
    "tags": []
   },
   "source": [
    "# 처음부터 끝까지 곧바로 실행하시면 됩니다."
   ]
  },
  {
   "cell_type": "markdown",
   "id": "4ddaadda",
   "metadata": {
    "id": "million-monaco",
    "papermill": {
     "duration": 0.026241,
     "end_time": "2021-05-30T18:39:28.019714",
     "exception": false,
     "start_time": "2021-05-30T18:39:27.993473",
     "status": "completed"
    },
    "tags": []
   },
   "source": [
    "## 라이브러리"
   ]
  },
  {
   "cell_type": "code",
   "execution_count": 25,
   "id": "cbbf0c0a",
   "metadata": {},
   "outputs": [
    {
     "name": "stdout",
     "output_type": "stream",
     "text": [
      "absl-py==0.10.0\r\n",
      "alembic==1.4.1\r\n",
      "argon2-cffi==20.1.0\r\n",
      "asn1crypto==0.24.0\r\n",
      "astunparse==1.6.3\r\n",
      "async-generator==1.10\r\n",
      "attrs==20.3.0\r\n",
      "backcall==0.2.0\r\n",
      "beautifulsoup4==4.6.0\r\n",
      "bleach==3.3.0\r\n",
      "blis==0.7.4\r\n",
      "Boruta==0.3\r\n",
      "cachetools==4.2.0\r\n",
      "catalogue==1.0.0\r\n",
      "catboost==0.24.4\r\n",
      "certifi==2020.12.5\r\n",
      "cffi==1.14.5\r\n",
      "chardet==4.0.0\r\n",
      "click==7.1.2\r\n",
      "cloudpickle==1.6.0\r\n",
      "colorama==0.4.4\r\n",
      "colorlover==0.3.0\r\n",
      "confuse==1.4.0\r\n",
      "cryptography==2.1.4\r\n",
      "cufflinks==0.17.3\r\n",
      "cycler==0.10.0\r\n",
      "cymem==2.0.5\r\n",
      "databricks-cli==0.14.2\r\n",
      "dataclasses==0.8\r\n",
      "decorator==4.4.2\r\n",
      "defusedxml==0.6.0\r\n",
      "dill==0.3.3\r\n",
      "docker==4.4.4\r\n",
      "entrypoints==0.3\r\n",
      "et-xmlfile==1.0.1\r\n",
      "filelock==3.4.1\r\n",
      "Flask==1.1.2\r\n",
      "flatbuffers==1.12\r\n",
      "funcy==1.15\r\n",
      "future==0.18.2\r\n",
      "gast==0.3.3\r\n",
      "gaussian==0.1\r\n",
      "gdown==4.4.0\r\n",
      "gensim==3.8.3\r\n",
      "gitdb==4.0.5\r\n",
      "GitPython==3.1.13\r\n",
      "google-auth==1.24.0\r\n",
      "google-auth-oauthlib==0.4.2\r\n",
      "google-pasta==0.2.0\r\n",
      "googleapis-common-protos==1.53.0\r\n",
      "graphviz==0.16\r\n",
      "grpcio==1.32.0\r\n",
      "gunicorn==20.0.4\r\n",
      "h5py==2.10.0\r\n",
      "htmlmin==0.1.12\r\n",
      "hyperopt==0.2.5\r\n",
      "idna==2.6\r\n",
      "ImageHash==4.2.0\r\n",
      "imbalanced-learn==0.7.0\r\n",
      "importlib-metadata==3.4.0\r\n",
      "importlib-resources==5.1.0\r\n",
      "ipykernel==5.5.0\r\n",
      "ipython==7.16.1\r\n",
      "ipython-genutils==0.2.0\r\n",
      "ipywidgets==7.6.3\r\n",
      "itsdangerous==1.1.0\r\n",
      "jdcal==1.4.1\r\n",
      "jedi==0.18.0\r\n",
      "Jinja2==2.11.3\r\n",
      "joblib==1.0.1\r\n",
      "JPype1==1.2.1\r\n",
      "jsonschema==3.2.0\r\n",
      "jupyter==1.0.0\r\n",
      "jupyter-client==6.1.11\r\n",
      "jupyter-console==6.2.0\r\n",
      "jupyter-core==4.7.1\r\n",
      "jupyterlab-pygments==0.1.2\r\n",
      "jupyterlab-widgets==1.0.0\r\n",
      "kaggle==1.5.10\r\n",
      "Keras==2.4.3\r\n",
      "Keras-Preprocessing==1.1.2\r\n",
      "keyring==10.6.0\r\n",
      "keyrings.alt==3.0\r\n",
      "kiwisolver==1.3.1\r\n",
      "kmodes==0.11.0\r\n",
      "konlpy==0.5.2\r\n",
      "lab==6.3\r\n",
      "lightgbm==3.1.1\r\n",
      "llvmlite==0.35.0\r\n",
      "lxml==4.6.2\r\n",
      "Mako==1.1.4\r\n",
      "Markdown==3.3.3\r\n",
      "MarkupSafe==1.1.1\r\n",
      "matplotlib==3.3.4\r\n",
      "mecab-python===0.996-ko-0.9.2\r\n",
      "missingno==0.4.2\r\n",
      "mistune==0.8.4\r\n",
      "mlflow==1.14.0\r\n",
      "mlxtend==0.18.0\r\n",
      "murmurhash==1.0.5\r\n",
      "nbclient==0.5.3\r\n",
      "nbconvert==6.0.7\r\n",
      "nbformat==5.1.2\r\n",
      "nest-asyncio==1.5.1\r\n",
      "networkx==2.5\r\n",
      "nltk==3.5\r\n",
      "notebook==6.2.0\r\n",
      "numba==0.52.0\r\n",
      "numexpr==2.7.2\r\n",
      "numpy==1.19.5\r\n",
      "oauthlib==3.1.0\r\n",
      "opencv-python==4.5.5.64\r\n",
      "openpyxl==3.0.6\r\n",
      "opt-einsum==3.3.0\r\n",
      "packaging==20.9\r\n",
      "pandas==1.1.5\r\n",
      "pandas-profiling==2.11.0\r\n",
      "pandocfilters==1.4.3\r\n",
      "parso==0.8.1\r\n",
      "patsy==0.5.1\r\n",
      "pexpect==4.8.0\r\n",
      "phik==0.11.0\r\n",
      "pickle5==0.0.11\r\n",
      "pickleshare==0.7.5\r\n",
      "Pillow==8.1.0\r\n",
      "plac==1.1.3\r\n",
      "plotly==4.14.3\r\n",
      "preshed==3.0.5\r\n",
      "prometheus-client==0.9.0\r\n",
      "prometheus-flask-exporter==0.18.1\r\n",
      "promise==2.3\r\n",
      "prompt-toolkit==3.0.16\r\n",
      "protobuf==3.14.0\r\n",
      "ptyprocess==0.7.0\r\n",
      "py4j==0.10.9\r\n",
      "pyasn1==0.4.8\r\n",
      "pyasn1-modules==0.2.8\r\n",
      "pycaret==2.3.0\r\n",
      "pycparser==2.20\r\n",
      "pycrypto==2.6.1\r\n",
      "Pygments==2.8.0\r\n",
      "pygobject==3.26.1\r\n",
      "pykospacing @ git+https://github.com/haven-jeon/PyKoSpacing.git@1a36be492cc396559e7dce7825843af020ea231f\r\n",
      "pyLDAvis==3.2.2\r\n",
      "pynndescent==0.5.2\r\n",
      "pyod==0.8.7\r\n",
      "pyparsing==2.4.7\r\n",
      "pyrsistent==0.17.3\r\n",
      "PySocks==1.7.1\r\n",
      "pyspark==3.1.1\r\n",
      "python-apt==1.6.5+ubuntu0.5\r\n",
      "python-dateutil==2.8.1\r\n",
      "python-editor==1.0.4\r\n",
      "python-slugify==4.0.1\r\n",
      "pytz==2021.1\r\n",
      "PyWavelets==1.1.1\r\n",
      "pyxdg==0.25\r\n",
      "PyYAML==5.4.1\r\n",
      "pyzmq==22.0.3\r\n",
      "qtconsole==5.0.2\r\n",
      "QtPy==1.9.0\r\n",
      "querystring-parser==1.2.4\r\n",
      "regex==2020.11.13\r\n",
      "requests==2.25.1\r\n",
      "requests-oauthlib==1.3.0\r\n",
      "retrying==1.3.3\r\n",
      "rsa==4.7\r\n",
      "scikit-learn==0.23.2\r\n",
      "scikit-plot==0.3.7\r\n",
      "scikit-surprise==1.1.1\r\n",
      "scipy==1.5.4\r\n",
      "seaborn==0.11.1\r\n",
      "SecretStorage==2.3.1\r\n",
      "Send2Trash==1.5.0\r\n",
      "shap==0.38.1\r\n",
      "simplejson==3.17.2\r\n",
      "six==1.15.0\r\n",
      "slicer==0.0.7\r\n",
      "smart-open==4.2.0\r\n",
      "smmap==3.0.5\r\n",
      "spacy==2.3.5\r\n",
      "SQLAlchemy==1.3.23\r\n",
      "sqlparse==0.4.1\r\n",
      "srsly==1.0.5\r\n",
      "ssh-import-id==5.7\r\n",
      "statsmodels==0.12.2\r\n",
      "surprise==0.1\r\n",
      "tabulate==0.8.9\r\n",
      "tangled-up-in-unicode==0.0.6\r\n",
      "tensorboard==2.4.1\r\n",
      "tensorboard-plugin-wit==1.8.0\r\n",
      "tensorflow==2.4.0\r\n",
      "tensorflow-datasets==4.2.0\r\n",
      "tensorflow-estimator==2.4.0\r\n",
      "tensorflow-examples===c3bf7340c5002d62f4d51da21d7b01a884082472-\r\n",
      "tensorflow-gpu==2.4.1\r\n",
      "tensorflow-metadata==0.28.0\r\n",
      "termcolor==1.1.0\r\n",
      "terminado==0.9.2\r\n",
      "testpath==0.4.4\r\n",
      "text-unidecode==1.3\r\n",
      "textblob==0.15.3\r\n",
      "thinc==7.4.5\r\n",
      "threadpoolctl==2.1.0\r\n",
      "timm==0.5.4\r\n",
      "torch==1.7.1+cu110\r\n",
      "torchaudio==0.7.2\r\n",
      "torchvision==0.8.2+cu110\r\n",
      "tornado==6.1\r\n",
      "tqdm==4.58.0\r\n",
      "traitlets==4.3.3\r\n",
      "tweepy==3.10.0\r\n",
      "txt2tags==3.7\r\n",
      "typing-extensions==3.7.4.3\r\n",
      "ufw==0.36\r\n",
      "umap-learn==0.5.1\r\n",
      "urllib3==1.26.2\r\n",
      "visions==0.6.0\r\n",
      "wasabi==0.8.2\r\n",
      "wcwidth==0.2.5\r\n",
      "webencodings==0.5.1\r\n",
      "websocket-client==0.57.0\r\n",
      "Werkzeug==1.0.1\r\n",
      "widgetsnbextension==3.5.1\r\n",
      "wordcloud==1.8.1\r\n",
      "wrapt==1.12.1\r\n",
      "xgboost==1.3.3\r\n",
      "xlrd==2.0.1\r\n",
      "yellowbrick==1.3.post1\r\n",
      "zipp==3.4.0\r\n",
      "Note: you may need to restart the kernel to use updated packages.\n"
     ]
    }
   ],
   "source": [
    "pip freeze"
   ]
  },
  {
   "cell_type": "code",
   "execution_count": 26,
   "id": "fcba341f",
   "metadata": {},
   "outputs": [
    {
     "name": "stdout",
     "output_type": "stream",
     "text": [
      "Note: you may need to restart the kernel to use updated packages.\n"
     ]
    }
   ],
   "source": [
    "pip freeze > requirements.txt"
   ]
  },
  {
   "cell_type": "code",
   "execution_count": 27,
   "id": "ae6cd0d6",
   "metadata": {},
   "outputs": [
    {
     "name": "stdout",
     "output_type": "stream",
     "text": [
      "Collecting pykospacing@ git+https://github.com/haven-jeon/PyKoSpacing.git@1a36be492cc396559e7dce7825843af020ea231f\r\n",
      "  Cloning https://github.com/haven-jeon/PyKoSpacing.git (to revision 1a36be492cc396559e7dce7825843af020ea231f) to /tmp/pip-install-jceee3ei/pykospacing_8cca4dd8f6a44e4381134a6faccc25ee\r\n",
      "  Running command git clone -q https://github.com/haven-jeon/PyKoSpacing.git /tmp/pip-install-jceee3ei/pykospacing_8cca4dd8f6a44e4381134a6faccc25ee\r\n",
      "  Running command git rev-parse -q --verify 'sha^1a36be492cc396559e7dce7825843af020ea231f'\r\n",
      "  Running command git fetch -q https://github.com/haven-jeon/PyKoSpacing.git 1a36be492cc396559e7dce7825843af020ea231f\r\n",
      "  Running command git checkout -q 1a36be492cc396559e7dce7825843af020ea231f\r\n",
      "Requirement already satisfied: absl-py==0.10.0 in /usr/local/lib/python3.6/dist-packages (from -r requirements.txt (line 1)) (0.10.0)\r\n",
      "Requirement already satisfied: alembic==1.4.1 in /usr/local/lib/python3.6/dist-packages (from -r requirements.txt (line 2)) (1.4.1)\r\n",
      "Requirement already satisfied: argon2-cffi==20.1.0 in /usr/local/lib/python3.6/dist-packages (from -r requirements.txt (line 3)) (20.1.0)\r\n",
      "Requirement already satisfied: asn1crypto==0.24.0 in /usr/lib/python3/dist-packages (from -r requirements.txt (line 4)) (0.24.0)\r\n",
      "Requirement already satisfied: astunparse==1.6.3 in /usr/local/lib/python3.6/dist-packages (from -r requirements.txt (line 5)) (1.6.3)\r\n",
      "Requirement already satisfied: async-generator==1.10 in /usr/local/lib/python3.6/dist-packages (from -r requirements.txt (line 6)) (1.10)\r\n",
      "Requirement already satisfied: attrs==20.3.0 in /usr/local/lib/python3.6/dist-packages (from -r requirements.txt (line 7)) (20.3.0)\r\n",
      "Requirement already satisfied: backcall==0.2.0 in /usr/local/lib/python3.6/dist-packages (from -r requirements.txt (line 8)) (0.2.0)\r\n",
      "Requirement already satisfied: beautifulsoup4==4.6.0 in /usr/local/lib/python3.6/dist-packages (from -r requirements.txt (line 9)) (4.6.0)\r\n",
      "Requirement already satisfied: bleach==3.3.0 in /usr/local/lib/python3.6/dist-packages (from -r requirements.txt (line 10)) (3.3.0)\r\n",
      "Requirement already satisfied: blis==0.7.4 in /usr/local/lib/python3.6/dist-packages (from -r requirements.txt (line 11)) (0.7.4)\r\n",
      "Requirement already satisfied: Boruta==0.3 in /usr/local/lib/python3.6/dist-packages (from -r requirements.txt (line 12)) (0.3)\r\n",
      "Requirement already satisfied: cachetools==4.2.0 in /usr/local/lib/python3.6/dist-packages (from -r requirements.txt (line 13)) (4.2.0)\r\n",
      "Requirement already satisfied: catalogue==1.0.0 in /usr/local/lib/python3.6/dist-packages (from -r requirements.txt (line 14)) (1.0.0)\r\n",
      "Requirement already satisfied: catboost==0.24.4 in /usr/local/lib/python3.6/dist-packages (from -r requirements.txt (line 15)) (0.24.4)\r\n",
      "Requirement already satisfied: certifi==2020.12.5 in /usr/local/lib/python3.6/dist-packages (from -r requirements.txt (line 16)) (2020.12.5)\r\n",
      "Requirement already satisfied: cffi==1.14.5 in /usr/local/lib/python3.6/dist-packages (from -r requirements.txt (line 17)) (1.14.5)\r\n",
      "Requirement already satisfied: chardet==4.0.0 in /usr/local/lib/python3.6/dist-packages (from -r requirements.txt (line 18)) (4.0.0)\r\n",
      "Requirement already satisfied: click==7.1.2 in /usr/local/lib/python3.6/dist-packages (from -r requirements.txt (line 19)) (7.1.2)\r\n",
      "Requirement already satisfied: cloudpickle==1.6.0 in /usr/local/lib/python3.6/dist-packages (from -r requirements.txt (line 20)) (1.6.0)\r\n",
      "Requirement already satisfied: colorama==0.4.4 in /usr/local/lib/python3.6/dist-packages (from -r requirements.txt (line 21)) (0.4.4)\r\n",
      "Requirement already satisfied: colorlover==0.3.0 in /usr/local/lib/python3.6/dist-packages (from -r requirements.txt (line 22)) (0.3.0)\r\n",
      "Requirement already satisfied: confuse==1.4.0 in /usr/local/lib/python3.6/dist-packages (from -r requirements.txt (line 23)) (1.4.0)\r\n",
      "Requirement already satisfied: cryptography==2.1.4 in /usr/lib/python3/dist-packages (from -r requirements.txt (line 24)) (2.1.4)\r\n",
      "Requirement already satisfied: cufflinks==0.17.3 in /usr/local/lib/python3.6/dist-packages (from -r requirements.txt (line 25)) (0.17.3)\r\n",
      "Requirement already satisfied: cycler==0.10.0 in /usr/local/lib/python3.6/dist-packages (from -r requirements.txt (line 26)) (0.10.0)\r\n",
      "Requirement already satisfied: cymem==2.0.5 in /usr/local/lib/python3.6/dist-packages (from -r requirements.txt (line 27)) (2.0.5)\r\n",
      "Requirement already satisfied: databricks-cli==0.14.2 in /usr/local/lib/python3.6/dist-packages (from -r requirements.txt (line 28)) (0.14.2)\r\n",
      "Requirement already satisfied: dataclasses==0.8 in /usr/local/lib/python3.6/dist-packages (from -r requirements.txt (line 29)) (0.8)\r\n",
      "Requirement already satisfied: decorator==4.4.2 in /usr/local/lib/python3.6/dist-packages (from -r requirements.txt (line 30)) (4.4.2)\r\n",
      "Requirement already satisfied: defusedxml==0.6.0 in /usr/local/lib/python3.6/dist-packages (from -r requirements.txt (line 31)) (0.6.0)\r\n",
      "Requirement already satisfied: dill==0.3.3 in /usr/local/lib/python3.6/dist-packages (from -r requirements.txt (line 32)) (0.3.3)\r\n",
      "Requirement already satisfied: docker==4.4.4 in /usr/local/lib/python3.6/dist-packages (from -r requirements.txt (line 33)) (4.4.4)\r\n",
      "Requirement already satisfied: entrypoints==0.3 in /usr/local/lib/python3.6/dist-packages (from -r requirements.txt (line 34)) (0.3)\r\n",
      "Requirement already satisfied: et-xmlfile==1.0.1 in /usr/local/lib/python3.6/dist-packages (from -r requirements.txt (line 35)) (1.0.1)\r\n",
      "Requirement already satisfied: filelock==3.4.1 in /usr/local/lib/python3.6/dist-packages (from -r requirements.txt (line 36)) (3.4.1)\r\n",
      "Requirement already satisfied: Flask==1.1.2 in /usr/local/lib/python3.6/dist-packages (from -r requirements.txt (line 37)) (1.1.2)\r\n",
      "Requirement already satisfied: flatbuffers==1.12 in /usr/local/lib/python3.6/dist-packages (from -r requirements.txt (line 38)) (1.12)\r\n",
      "Requirement already satisfied: funcy==1.15 in /usr/local/lib/python3.6/dist-packages (from -r requirements.txt (line 39)) (1.15)\r\n",
      "Requirement already satisfied: future==0.18.2 in /usr/local/lib/python3.6/dist-packages (from -r requirements.txt (line 40)) (0.18.2)\r\n",
      "Requirement already satisfied: gast==0.3.3 in /usr/local/lib/python3.6/dist-packages (from -r requirements.txt (line 41)) (0.3.3)\r\n",
      "Requirement already satisfied: gaussian==0.1 in /usr/local/lib/python3.6/dist-packages (from -r requirements.txt (line 42)) (0.1)\r\n",
      "Requirement already satisfied: gdown==4.4.0 in /usr/local/lib/python3.6/dist-packages (from -r requirements.txt (line 43)) (4.4.0)\r\n",
      "Requirement already satisfied: gensim==3.8.3 in /usr/local/lib/python3.6/dist-packages (from -r requirements.txt (line 44)) (3.8.3)\r\n",
      "Requirement already satisfied: gitdb==4.0.5 in /usr/local/lib/python3.6/dist-packages (from -r requirements.txt (line 45)) (4.0.5)\r\n",
      "Requirement already satisfied: GitPython==3.1.13 in /usr/local/lib/python3.6/dist-packages (from -r requirements.txt (line 46)) (3.1.13)\r\n",
      "Requirement already satisfied: google-auth==1.24.0 in /usr/local/lib/python3.6/dist-packages (from -r requirements.txt (line 47)) (1.24.0)\r\n",
      "Requirement already satisfied: google-auth-oauthlib==0.4.2 in /usr/local/lib/python3.6/dist-packages (from -r requirements.txt (line 48)) (0.4.2)\r\n",
      "Requirement already satisfied: google-pasta==0.2.0 in /usr/local/lib/python3.6/dist-packages (from -r requirements.txt (line 49)) (0.2.0)\r\n",
      "Requirement already satisfied: googleapis-common-protos==1.53.0 in /usr/local/lib/python3.6/dist-packages (from -r requirements.txt (line 50)) (1.53.0)\r\n",
      "Requirement already satisfied: graphviz==0.16 in /usr/local/lib/python3.6/dist-packages (from -r requirements.txt (line 51)) (0.16)\r\n",
      "Requirement already satisfied: grpcio==1.32.0 in /usr/local/lib/python3.6/dist-packages (from -r requirements.txt (line 52)) (1.32.0)\r\n",
      "Requirement already satisfied: gunicorn==20.0.4 in /usr/local/lib/python3.6/dist-packages (from -r requirements.txt (line 53)) (20.0.4)\r\n",
      "Requirement already satisfied: h5py==2.10.0 in /usr/local/lib/python3.6/dist-packages (from -r requirements.txt (line 54)) (2.10.0)\r\n",
      "Requirement already satisfied: htmlmin==0.1.12 in /usr/local/lib/python3.6/dist-packages (from -r requirements.txt (line 55)) (0.1.12)\r\n",
      "Requirement already satisfied: hyperopt==0.2.5 in /usr/local/lib/python3.6/dist-packages (from -r requirements.txt (line 56)) (0.2.5)\r\n",
      "Requirement already satisfied: idna==2.6 in /usr/lib/python3/dist-packages (from -r requirements.txt (line 57)) (2.6)\r\n",
      "Requirement already satisfied: ImageHash==4.2.0 in /usr/local/lib/python3.6/dist-packages (from -r requirements.txt (line 58)) (4.2.0)\r\n",
      "Requirement already satisfied: imbalanced-learn==0.7.0 in /usr/local/lib/python3.6/dist-packages (from -r requirements.txt (line 59)) (0.7.0)\r\n",
      "Requirement already satisfied: importlib-metadata==3.4.0 in /usr/local/lib/python3.6/dist-packages (from -r requirements.txt (line 60)) (3.4.0)\r\n",
      "Requirement already satisfied: importlib-resources==5.1.0 in /usr/local/lib/python3.6/dist-packages (from -r requirements.txt (line 61)) (5.1.0)\r\n",
      "Requirement already satisfied: ipykernel==5.5.0 in /usr/local/lib/python3.6/dist-packages (from -r requirements.txt (line 62)) (5.5.0)\r\n",
      "Requirement already satisfied: ipython==7.16.1 in /usr/local/lib/python3.6/dist-packages (from -r requirements.txt (line 63)) (7.16.1)\r\n",
      "Requirement already satisfied: ipython-genutils==0.2.0 in /usr/local/lib/python3.6/dist-packages (from -r requirements.txt (line 64)) (0.2.0)\r\n",
      "Requirement already satisfied: ipywidgets==7.6.3 in /usr/local/lib/python3.6/dist-packages (from -r requirements.txt (line 65)) (7.6.3)\r\n",
      "Requirement already satisfied: itsdangerous==1.1.0 in /usr/local/lib/python3.6/dist-packages (from -r requirements.txt (line 66)) (1.1.0)\r\n",
      "Requirement already satisfied: jdcal==1.4.1 in /usr/local/lib/python3.6/dist-packages (from -r requirements.txt (line 67)) (1.4.1)\r\n",
      "Requirement already satisfied: jedi==0.18.0 in /usr/local/lib/python3.6/dist-packages (from -r requirements.txt (line 68)) (0.18.0)\r\n",
      "Requirement already satisfied: Jinja2==2.11.3 in /usr/local/lib/python3.6/dist-packages (from -r requirements.txt (line 69)) (2.11.3)\r\n",
      "Requirement already satisfied: joblib==1.0.1 in /usr/local/lib/python3.6/dist-packages (from -r requirements.txt (line 70)) (1.0.1)\r\n",
      "Requirement already satisfied: JPype1==1.2.1 in /usr/local/lib/python3.6/dist-packages (from -r requirements.txt (line 71)) (1.2.1)\r\n",
      "Requirement already satisfied: jsonschema==3.2.0 in /usr/local/lib/python3.6/dist-packages (from -r requirements.txt (line 72)) (3.2.0)\r\n",
      "Requirement already satisfied: jupyter==1.0.0 in /usr/local/lib/python3.6/dist-packages (from -r requirements.txt (line 73)) (1.0.0)\r\n",
      "Requirement already satisfied: jupyter-client==6.1.11 in /usr/local/lib/python3.6/dist-packages (from -r requirements.txt (line 74)) (6.1.11)\r\n",
      "Requirement already satisfied: jupyter-console==6.2.0 in /usr/local/lib/python3.6/dist-packages (from -r requirements.txt (line 75)) (6.2.0)\r\n",
      "Requirement already satisfied: jupyter-core==4.7.1 in /usr/local/lib/python3.6/dist-packages (from -r requirements.txt (line 76)) (4.7.1)\r\n",
      "Requirement already satisfied: jupyterlab-pygments==0.1.2 in /usr/local/lib/python3.6/dist-packages (from -r requirements.txt (line 77)) (0.1.2)\r\n",
      "Requirement already satisfied: jupyterlab-widgets==1.0.0 in /usr/local/lib/python3.6/dist-packages (from -r requirements.txt (line 78)) (1.0.0)\r\n",
      "Requirement already satisfied: kaggle==1.5.10 in /usr/local/lib/python3.6/dist-packages (from -r requirements.txt (line 79)) (1.5.10)\r\n",
      "Requirement already satisfied: Keras==2.4.3 in /usr/local/lib/python3.6/dist-packages (from -r requirements.txt (line 80)) (2.4.3)\r\n",
      "Requirement already satisfied: Keras-Preprocessing==1.1.2 in /usr/local/lib/python3.6/dist-packages (from -r requirements.txt (line 81)) (1.1.2)\r\n",
      "Requirement already satisfied: keyring==10.6.0 in /usr/lib/python3/dist-packages (from -r requirements.txt (line 82)) (10.6.0)\r\n",
      "Requirement already satisfied: keyrings.alt==3.0 in /usr/lib/python3/dist-packages (from -r requirements.txt (line 83)) (3.0)\r\n",
      "Requirement already satisfied: kiwisolver==1.3.1 in /usr/local/lib/python3.6/dist-packages (from -r requirements.txt (line 84)) (1.3.1)\r\n",
      "Requirement already satisfied: kmodes==0.11.0 in /usr/local/lib/python3.6/dist-packages (from -r requirements.txt (line 85)) (0.11.0)\r\n",
      "Requirement already satisfied: konlpy==0.5.2 in /usr/local/lib/python3.6/dist-packages (from -r requirements.txt (line 86)) (0.5.2)\r\n",
      "Requirement already satisfied: lab==6.3 in /usr/local/lib/python3.6/dist-packages (from -r requirements.txt (line 87)) (6.3)\r\n",
      "Requirement already satisfied: lightgbm==3.1.1 in /usr/local/lib/python3.6/dist-packages (from -r requirements.txt (line 88)) (3.1.1)\r\n",
      "Requirement already satisfied: llvmlite==0.35.0 in /usr/local/lib/python3.6/dist-packages (from -r requirements.txt (line 89)) (0.35.0)\r\n",
      "Requirement already satisfied: lxml==4.6.2 in /usr/local/lib/python3.6/dist-packages (from -r requirements.txt (line 90)) (4.6.2)\r\n",
      "Requirement already satisfied: Mako==1.1.4 in /usr/local/lib/python3.6/dist-packages (from -r requirements.txt (line 91)) (1.1.4)\r\n",
      "Requirement already satisfied: Markdown==3.3.3 in /usr/local/lib/python3.6/dist-packages (from -r requirements.txt (line 92)) (3.3.3)\r\n",
      "Requirement already satisfied: MarkupSafe==1.1.1 in /usr/local/lib/python3.6/dist-packages (from -r requirements.txt (line 93)) (1.1.1)\r\n",
      "Requirement already satisfied: matplotlib==3.3.4 in /usr/local/lib/python3.6/dist-packages (from -r requirements.txt (line 94)) (3.3.4)\r\n",
      "Requirement already satisfied: mecab-python===0.996-ko-0.9.2 in /usr/local/lib/python3.6/dist-packages (from -r requirements.txt (line 95)) (0.996-ko-0.9.2)\r\n",
      "Requirement already satisfied: missingno==0.4.2 in /usr/local/lib/python3.6/dist-packages (from -r requirements.txt (line 96)) (0.4.2)\r\n",
      "Requirement already satisfied: mistune==0.8.4 in /usr/local/lib/python3.6/dist-packages (from -r requirements.txt (line 97)) (0.8.4)\r\n",
      "Requirement already satisfied: mlflow==1.14.0 in /usr/local/lib/python3.6/dist-packages (from -r requirements.txt (line 98)) (1.14.0)\r\n",
      "Requirement already satisfied: mlxtend==0.18.0 in /usr/local/lib/python3.6/dist-packages (from -r requirements.txt (line 99)) (0.18.0)\r\n",
      "Requirement already satisfied: murmurhash==1.0.5 in /usr/local/lib/python3.6/dist-packages (from -r requirements.txt (line 100)) (1.0.5)\r\n",
      "Requirement already satisfied: nbclient==0.5.3 in /usr/local/lib/python3.6/dist-packages (from -r requirements.txt (line 101)) (0.5.3)\r\n",
      "Requirement already satisfied: nbconvert==6.0.7 in /usr/local/lib/python3.6/dist-packages (from -r requirements.txt (line 102)) (6.0.7)\r\n",
      "Requirement already satisfied: nbformat==5.1.2 in /usr/local/lib/python3.6/dist-packages (from -r requirements.txt (line 103)) (5.1.2)\r\n",
      "Requirement already satisfied: nest-asyncio==1.5.1 in /usr/local/lib/python3.6/dist-packages (from -r requirements.txt (line 104)) (1.5.1)\r\n",
      "Requirement already satisfied: networkx==2.5 in /usr/local/lib/python3.6/dist-packages (from -r requirements.txt (line 105)) (2.5)\r\n",
      "Requirement already satisfied: nltk==3.5 in /usr/local/lib/python3.6/dist-packages (from -r requirements.txt (line 106)) (3.5)\r\n",
      "Requirement already satisfied: notebook==6.2.0 in /usr/local/lib/python3.6/dist-packages (from -r requirements.txt (line 107)) (6.2.0)\r\n",
      "Requirement already satisfied: numba==0.52.0 in /usr/local/lib/python3.6/dist-packages (from -r requirements.txt (line 108)) (0.52.0)\r\n",
      "Requirement already satisfied: numexpr==2.7.2 in /usr/local/lib/python3.6/dist-packages (from -r requirements.txt (line 109)) (2.7.2)\r\n",
      "Requirement already satisfied: numpy==1.19.5 in /usr/local/lib/python3.6/dist-packages (from -r requirements.txt (line 110)) (1.19.5)\r\n",
      "Requirement already satisfied: oauthlib==3.1.0 in /usr/local/lib/python3.6/dist-packages (from -r requirements.txt (line 111)) (3.1.0)\r\n",
      "Requirement already satisfied: opencv-python==4.5.5.64 in /usr/local/lib/python3.6/dist-packages (from -r requirements.txt (line 112)) (4.5.5.64)\r\n",
      "Requirement already satisfied: openpyxl==3.0.6 in /usr/local/lib/python3.6/dist-packages (from -r requirements.txt (line 113)) (3.0.6)\r\n",
      "Requirement already satisfied: opt-einsum==3.3.0 in /usr/local/lib/python3.6/dist-packages (from -r requirements.txt (line 114)) (3.3.0)\r\n",
      "Requirement already satisfied: packaging==20.9 in /usr/local/lib/python3.6/dist-packages (from -r requirements.txt (line 115)) (20.9)\r\n",
      "Requirement already satisfied: pandas==1.1.5 in /usr/local/lib/python3.6/dist-packages (from -r requirements.txt (line 116)) (1.1.5)\r\n",
      "Requirement already satisfied: pandas-profiling==2.11.0 in /usr/local/lib/python3.6/dist-packages (from -r requirements.txt (line 117)) (2.11.0)\r\n",
      "Requirement already satisfied: pandocfilters==1.4.3 in /usr/local/lib/python3.6/dist-packages (from -r requirements.txt (line 118)) (1.4.3)\r\n",
      "Requirement already satisfied: parso==0.8.1 in /usr/local/lib/python3.6/dist-packages (from -r requirements.txt (line 119)) (0.8.1)\r\n",
      "Requirement already satisfied: patsy==0.5.1 in /usr/local/lib/python3.6/dist-packages (from -r requirements.txt (line 120)) (0.5.1)\r\n",
      "Requirement already satisfied: pexpect==4.8.0 in /usr/local/lib/python3.6/dist-packages (from -r requirements.txt (line 121)) (4.8.0)\r\n",
      "Requirement already satisfied: phik==0.11.0 in /usr/local/lib/python3.6/dist-packages (from -r requirements.txt (line 122)) (0.11.0)\r\n",
      "Requirement already satisfied: pickle5==0.0.11 in /usr/local/lib/python3.6/dist-packages (from -r requirements.txt (line 123)) (0.0.11)\r\n",
      "Requirement already satisfied: pickleshare==0.7.5 in /usr/local/lib/python3.6/dist-packages (from -r requirements.txt (line 124)) (0.7.5)\r\n",
      "Requirement already satisfied: Pillow==8.1.0 in /usr/local/lib/python3.6/dist-packages (from -r requirements.txt (line 125)) (8.1.0)\r\n",
      "Requirement already satisfied: plac==1.1.3 in /usr/local/lib/python3.6/dist-packages (from -r requirements.txt (line 126)) (1.1.3)\r\n",
      "Requirement already satisfied: plotly==4.14.3 in /usr/local/lib/python3.6/dist-packages (from -r requirements.txt (line 127)) (4.14.3)\r\n",
      "Requirement already satisfied: preshed==3.0.5 in /usr/local/lib/python3.6/dist-packages (from -r requirements.txt (line 128)) (3.0.5)\r\n",
      "Requirement already satisfied: prometheus-client==0.9.0 in /usr/local/lib/python3.6/dist-packages (from -r requirements.txt (line 129)) (0.9.0)\r\n",
      "Requirement already satisfied: prometheus-flask-exporter==0.18.1 in /usr/local/lib/python3.6/dist-packages (from -r requirements.txt (line 130)) (0.18.1)\r\n",
      "Requirement already satisfied: promise==2.3 in /usr/local/lib/python3.6/dist-packages (from -r requirements.txt (line 131)) (2.3)\r\n",
      "Requirement already satisfied: prompt-toolkit==3.0.16 in /usr/local/lib/python3.6/dist-packages (from -r requirements.txt (line 132)) (3.0.16)\r\n",
      "Requirement already satisfied: protobuf==3.14.0 in /usr/local/lib/python3.6/dist-packages (from -r requirements.txt (line 133)) (3.14.0)\r\n",
      "Requirement already satisfied: ptyprocess==0.7.0 in /usr/local/lib/python3.6/dist-packages (from -r requirements.txt (line 134)) (0.7.0)\r\n",
      "Requirement already satisfied: py4j==0.10.9 in /usr/local/lib/python3.6/dist-packages (from -r requirements.txt (line 135)) (0.10.9)\r\n",
      "Requirement already satisfied: pyasn1==0.4.8 in /usr/local/lib/python3.6/dist-packages (from -r requirements.txt (line 136)) (0.4.8)\r\n",
      "Requirement already satisfied: pyasn1-modules==0.2.8 in /usr/local/lib/python3.6/dist-packages (from -r requirements.txt (line 137)) (0.2.8)\r\n",
      "Requirement already satisfied: pycaret==2.3.0 in /usr/local/lib/python3.6/dist-packages (from -r requirements.txt (line 138)) (2.3.0)\r\n",
      "Requirement already satisfied: pycparser==2.20 in /usr/local/lib/python3.6/dist-packages (from -r requirements.txt (line 139)) (2.20)\r\n",
      "Requirement already satisfied: pycrypto==2.6.1 in /usr/lib/python3/dist-packages (from -r requirements.txt (line 140)) (2.6.1)\r\n",
      "Requirement already satisfied: Pygments==2.8.0 in /usr/local/lib/python3.6/dist-packages (from -r requirements.txt (line 141)) (2.8.0)\r\n",
      "Requirement already satisfied: pygobject==3.26.1 in /usr/lib/python3/dist-packages (from -r requirements.txt (line 142)) (3.26.1)\r\n",
      "Requirement already satisfied: pyLDAvis==3.2.2 in /usr/local/lib/python3.6/dist-packages (from -r requirements.txt (line 144)) (3.2.2)\r\n",
      "Requirement already satisfied: pynndescent==0.5.2 in /usr/local/lib/python3.6/dist-packages (from -r requirements.txt (line 145)) (0.5.2)\r\n",
      "Requirement already satisfied: pyod==0.8.7 in /usr/local/lib/python3.6/dist-packages (from -r requirements.txt (line 146)) (0.8.7)\r\n",
      "Requirement already satisfied: pyparsing==2.4.7 in /usr/local/lib/python3.6/dist-packages (from -r requirements.txt (line 147)) (2.4.7)\r\n",
      "Requirement already satisfied: pyrsistent==0.17.3 in /usr/local/lib/python3.6/dist-packages (from -r requirements.txt (line 148)) (0.17.3)\r\n",
      "Requirement already satisfied: PySocks==1.7.1 in /usr/local/lib/python3.6/dist-packages (from -r requirements.txt (line 149)) (1.7.1)\r\n",
      "Requirement already satisfied: pyspark==3.1.1 in /usr/local/lib/python3.6/dist-packages (from -r requirements.txt (line 150)) (3.1.1)\r\n",
      "Requirement already satisfied: python-apt==1.6.5+ubuntu0.5 in /usr/lib/python3/dist-packages (from -r requirements.txt (line 151)) (1.6.5+ubuntu0.5)\r\n",
      "Requirement already satisfied: python-dateutil==2.8.1 in /usr/local/lib/python3.6/dist-packages (from -r requirements.txt (line 152)) (2.8.1)\r\n",
      "Requirement already satisfied: python-editor==1.0.4 in /usr/local/lib/python3.6/dist-packages (from -r requirements.txt (line 153)) (1.0.4)\r\n",
      "Requirement already satisfied: python-slugify==4.0.1 in /usr/local/lib/python3.6/dist-packages (from -r requirements.txt (line 154)) (4.0.1)\r\n",
      "Requirement already satisfied: pytz==2021.1 in /usr/local/lib/python3.6/dist-packages (from -r requirements.txt (line 155)) (2021.1)\r\n",
      "Requirement already satisfied: PyWavelets==1.1.1 in /usr/local/lib/python3.6/dist-packages (from -r requirements.txt (line 156)) (1.1.1)\r\n",
      "Requirement already satisfied: pyxdg==0.25 in /usr/lib/python3/dist-packages (from -r requirements.txt (line 157)) (0.25)\r\n",
      "Requirement already satisfied: PyYAML==5.4.1 in /usr/local/lib/python3.6/dist-packages (from -r requirements.txt (line 158)) (5.4.1)\r\n",
      "Requirement already satisfied: pyzmq==22.0.3 in /usr/local/lib/python3.6/dist-packages (from -r requirements.txt (line 159)) (22.0.3)\r\n",
      "Requirement already satisfied: qtconsole==5.0.2 in /usr/local/lib/python3.6/dist-packages (from -r requirements.txt (line 160)) (5.0.2)\r\n",
      "Requirement already satisfied: QtPy==1.9.0 in /usr/local/lib/python3.6/dist-packages (from -r requirements.txt (line 161)) (1.9.0)\r\n",
      "Requirement already satisfied: querystring-parser==1.2.4 in /usr/local/lib/python3.6/dist-packages (from -r requirements.txt (line 162)) (1.2.4)\r\n",
      "Requirement already satisfied: regex==2020.11.13 in /usr/local/lib/python3.6/dist-packages (from -r requirements.txt (line 163)) (2020.11.13)\r\n",
      "Requirement already satisfied: requests==2.25.1 in /usr/local/lib/python3.6/dist-packages (from -r requirements.txt (line 164)) (2.25.1)\r\n",
      "Requirement already satisfied: requests-oauthlib==1.3.0 in /usr/local/lib/python3.6/dist-packages (from -r requirements.txt (line 165)) (1.3.0)\r\n",
      "Requirement already satisfied: retrying==1.3.3 in /usr/local/lib/python3.6/dist-packages (from -r requirements.txt (line 166)) (1.3.3)\r\n",
      "Requirement already satisfied: rsa==4.7 in /usr/local/lib/python3.6/dist-packages (from -r requirements.txt (line 167)) (4.7)\r\n",
      "Requirement already satisfied: scikit-learn==0.23.2 in /usr/local/lib/python3.6/dist-packages (from -r requirements.txt (line 168)) (0.23.2)\r\n",
      "Requirement already satisfied: scikit-plot==0.3.7 in /usr/local/lib/python3.6/dist-packages (from -r requirements.txt (line 169)) (0.3.7)\r\n",
      "Requirement already satisfied: scikit-surprise==1.1.1 in /usr/local/lib/python3.6/dist-packages (from -r requirements.txt (line 170)) (1.1.1)\r\n",
      "Requirement already satisfied: scipy==1.5.4 in /usr/local/lib/python3.6/dist-packages (from -r requirements.txt (line 171)) (1.5.4)\r\n",
      "Requirement already satisfied: seaborn==0.11.1 in /usr/local/lib/python3.6/dist-packages (from -r requirements.txt (line 172)) (0.11.1)\r\n",
      "Requirement already satisfied: SecretStorage==2.3.1 in /usr/lib/python3/dist-packages (from -r requirements.txt (line 173)) (2.3.1)\r\n",
      "Requirement already satisfied: Send2Trash==1.5.0 in /usr/local/lib/python3.6/dist-packages (from -r requirements.txt (line 174)) (1.5.0)\r\n",
      "Requirement already satisfied: shap==0.38.1 in /usr/local/lib/python3.6/dist-packages (from -r requirements.txt (line 175)) (0.38.1)\r\n",
      "Requirement already satisfied: simplejson==3.17.2 in /usr/local/lib/python3.6/dist-packages (from -r requirements.txt (line 176)) (3.17.2)\r\n",
      "Requirement already satisfied: six==1.15.0 in /usr/local/lib/python3.6/dist-packages (from -r requirements.txt (line 177)) (1.15.0)\r\n",
      "Requirement already satisfied: slicer==0.0.7 in /usr/local/lib/python3.6/dist-packages (from -r requirements.txt (line 178)) (0.0.7)\r\n",
      "Requirement already satisfied: smart-open==4.2.0 in /usr/local/lib/python3.6/dist-packages (from -r requirements.txt (line 179)) (4.2.0)\r\n",
      "Requirement already satisfied: smmap==3.0.5 in /usr/local/lib/python3.6/dist-packages (from -r requirements.txt (line 180)) (3.0.5)\r\n",
      "Requirement already satisfied: spacy==2.3.5 in /usr/local/lib/python3.6/dist-packages (from -r requirements.txt (line 181)) (2.3.5)\r\n",
      "Requirement already satisfied: SQLAlchemy==1.3.23 in /usr/local/lib/python3.6/dist-packages (from -r requirements.txt (line 182)) (1.3.23)\r\n",
      "Requirement already satisfied: sqlparse==0.4.1 in /usr/local/lib/python3.6/dist-packages (from -r requirements.txt (line 183)) (0.4.1)\r\n",
      "Requirement already satisfied: srsly==1.0.5 in /usr/local/lib/python3.6/dist-packages (from -r requirements.txt (line 184)) (1.0.5)\r\n",
      "Requirement already satisfied: ssh-import-id==5.7 in /usr/lib/python3/dist-packages (from -r requirements.txt (line 185)) (5.7)\r\n",
      "Requirement already satisfied: statsmodels==0.12.2 in /usr/local/lib/python3.6/dist-packages (from -r requirements.txt (line 186)) (0.12.2)\r\n",
      "Requirement already satisfied: surprise==0.1 in /usr/local/lib/python3.6/dist-packages (from -r requirements.txt (line 187)) (0.1)\r\n",
      "Requirement already satisfied: tabulate==0.8.9 in /usr/local/lib/python3.6/dist-packages (from -r requirements.txt (line 188)) (0.8.9)\r\n",
      "Requirement already satisfied: tangled-up-in-unicode==0.0.6 in /usr/local/lib/python3.6/dist-packages (from -r requirements.txt (line 189)) (0.0.6)\r\n",
      "Requirement already satisfied: tensorboard==2.4.1 in /usr/local/lib/python3.6/dist-packages (from -r requirements.txt (line 190)) (2.4.1)\r\n",
      "Requirement already satisfied: tensorboard-plugin-wit==1.8.0 in /usr/local/lib/python3.6/dist-packages (from -r requirements.txt (line 191)) (1.8.0)\r\n",
      "Requirement already satisfied: tensorflow==2.4.0 in /usr/local/lib/python3.6/dist-packages (from -r requirements.txt (line 192)) (2.4.0)\r\n",
      "Requirement already satisfied: tensorflow-datasets==4.2.0 in /usr/local/lib/python3.6/dist-packages (from -r requirements.txt (line 193)) (4.2.0)\r\n",
      "Requirement already satisfied: tensorflow-estimator==2.4.0 in /usr/local/lib/python3.6/dist-packages (from -r requirements.txt (line 194)) (2.4.0)\r\n",
      "Requirement already satisfied: tensorflow-examples===c3bf7340c5002d62f4d51da21d7b01a884082472- in /usr/local/lib/python3.6/dist-packages (from -r requirements.txt (line 195)) (c3bf7340c5002d62f4d51da21d7b01a884082472-)\r\n",
      "Requirement already satisfied: tensorflow-gpu==2.4.1 in /usr/local/lib/python3.6/dist-packages (from -r requirements.txt (line 196)) (2.4.1)\r\n",
      "Requirement already satisfied: tensorflow-metadata==0.28.0 in /usr/local/lib/python3.6/dist-packages (from -r requirements.txt (line 197)) (0.28.0)\r\n",
      "Requirement already satisfied: termcolor==1.1.0 in /usr/local/lib/python3.6/dist-packages (from -r requirements.txt (line 198)) (1.1.0)\r\n",
      "Requirement already satisfied: terminado==0.9.2 in /usr/local/lib/python3.6/dist-packages (from -r requirements.txt (line 199)) (0.9.2)\r\n",
      "Requirement already satisfied: testpath==0.4.4 in /usr/local/lib/python3.6/dist-packages (from -r requirements.txt (line 200)) (0.4.4)\r\n",
      "Requirement already satisfied: text-unidecode==1.3 in /usr/local/lib/python3.6/dist-packages (from -r requirements.txt (line 201)) (1.3)\r\n",
      "Requirement already satisfied: textblob==0.15.3 in /usr/local/lib/python3.6/dist-packages (from -r requirements.txt (line 202)) (0.15.3)\r\n",
      "Requirement already satisfied: thinc==7.4.5 in /usr/local/lib/python3.6/dist-packages (from -r requirements.txt (line 203)) (7.4.5)\r\n",
      "Requirement already satisfied: threadpoolctl==2.1.0 in /usr/local/lib/python3.6/dist-packages (from -r requirements.txt (line 204)) (2.1.0)\r\n",
      "Requirement already satisfied: timm==0.5.4 in /usr/local/lib/python3.6/dist-packages (from -r requirements.txt (line 205)) (0.5.4)\r\n",
      "Requirement already satisfied: torch==1.7.1+cu110 in /usr/local/lib/python3.6/dist-packages (from -r requirements.txt (line 206)) (1.7.1+cu110)\r\n",
      "Requirement already satisfied: torchaudio==0.7.2 in /usr/local/lib/python3.6/dist-packages (from -r requirements.txt (line 207)) (0.7.2)\r\n",
      "Requirement already satisfied: torchvision==0.8.2+cu110 in /usr/local/lib/python3.6/dist-packages (from -r requirements.txt (line 208)) (0.8.2+cu110)\r\n",
      "Requirement already satisfied: tornado==6.1 in /usr/local/lib/python3.6/dist-packages (from -r requirements.txt (line 209)) (6.1)\r\n",
      "Requirement already satisfied: tqdm==4.58.0 in /usr/local/lib/python3.6/dist-packages (from -r requirements.txt (line 210)) (4.58.0)\r\n",
      "Requirement already satisfied: traitlets==4.3.3 in /usr/local/lib/python3.6/dist-packages (from -r requirements.txt (line 211)) (4.3.3)\r\n",
      "Requirement already satisfied: tweepy==3.10.0 in /usr/local/lib/python3.6/dist-packages (from -r requirements.txt (line 212)) (3.10.0)\r\n",
      "Requirement already satisfied: txt2tags==3.7 in /usr/local/lib/python3.6/dist-packages (from -r requirements.txt (line 213)) (3.7)\r\n",
      "Requirement already satisfied: typing-extensions==3.7.4.3 in /usr/local/lib/python3.6/dist-packages (from -r requirements.txt (line 214)) (3.7.4.3)\r\n",
      "Requirement already satisfied: ufw==0.36 in /usr/lib/python3/dist-packages (from -r requirements.txt (line 215)) (0.36)\r\n",
      "Requirement already satisfied: umap-learn==0.5.1 in /usr/local/lib/python3.6/dist-packages (from -r requirements.txt (line 216)) (0.5.1)\r\n",
      "Requirement already satisfied: urllib3==1.26.2 in /usr/local/lib/python3.6/dist-packages (from -r requirements.txt (line 217)) (1.26.2)\r\n",
      "Requirement already satisfied: visions==0.6.0 in /usr/local/lib/python3.6/dist-packages (from -r requirements.txt (line 218)) (0.6.0)\r\n",
      "Requirement already satisfied: wasabi==0.8.2 in /usr/local/lib/python3.6/dist-packages (from -r requirements.txt (line 219)) (0.8.2)\r\n",
      "Requirement already satisfied: wcwidth==0.2.5 in /usr/local/lib/python3.6/dist-packages (from -r requirements.txt (line 220)) (0.2.5)\r\n",
      "Requirement already satisfied: webencodings==0.5.1 in /usr/local/lib/python3.6/dist-packages (from -r requirements.txt (line 221)) (0.5.1)\r\n",
      "Requirement already satisfied: websocket-client==0.57.0 in /usr/local/lib/python3.6/dist-packages (from -r requirements.txt (line 222)) (0.57.0)\r\n",
      "Requirement already satisfied: Werkzeug==1.0.1 in /usr/local/lib/python3.6/dist-packages (from -r requirements.txt (line 223)) (1.0.1)\r\n",
      "Requirement already satisfied: widgetsnbextension==3.5.1 in /usr/local/lib/python3.6/dist-packages (from -r requirements.txt (line 224)) (3.5.1)\r\n",
      "Requirement already satisfied: wordcloud==1.8.1 in /usr/local/lib/python3.6/dist-packages (from -r requirements.txt (line 225)) (1.8.1)\r\n",
      "Requirement already satisfied: wrapt==1.12.1 in /usr/local/lib/python3.6/dist-packages (from -r requirements.txt (line 226)) (1.12.1)\r\n",
      "Requirement already satisfied: xgboost==1.3.3 in /usr/local/lib/python3.6/dist-packages (from -r requirements.txt (line 227)) (1.3.3)\r\n",
      "Requirement already satisfied: xlrd==2.0.1 in /usr/local/lib/python3.6/dist-packages (from -r requirements.txt (line 228)) (2.0.1)\r\n",
      "Requirement already satisfied: yellowbrick==1.3.post1 in /usr/local/lib/python3.6/dist-packages (from -r requirements.txt (line 229)) (1.3.post1)\r\n",
      "Requirement already satisfied: zipp==3.4.0 in /usr/local/lib/python3.6/dist-packages (from -r requirements.txt (line 230)) (3.4.0)\r\n",
      "Collecting argparse>=1.4.0\r\n",
      "  Using cached argparse-1.4.0-py2.py3-none-any.whl (23 kB)\r\n",
      "Requirement already satisfied: wheel<1.0,>=0.23.0 in /usr/local/lib/python3.6/dist-packages (from astunparse==1.6.3->-r requirements.txt (line 5)) (0.36.2)\r\n",
      "Requirement already satisfied: setuptools>=34.4.1 in /usr/local/lib/python3.6/dist-packages (from cufflinks==0.17.3->-r requirements.txt (line 25)) (51.3.3)\r\n",
      "Installing collected packages: argparse\r\n",
      "Successfully installed argparse-1.4.0\r\n",
      "\u001B[33mWARNING: You are using pip version 21.0.1; however, version 21.3.1 is available.\r\n",
      "You should consider upgrading via the '/usr/bin/python3 -m pip install --upgrade pip' command.\u001B[0m\r\n",
      "Note: you may need to restart the kernel to use updated packages.\n"
     ]
    }
   ],
   "source": [
    "pip install -r requirements.txt"
   ]
  },
  {
   "cell_type": "code",
   "execution_count": 28,
   "id": "ts26D3gLnyLd",
   "metadata": {
    "colab": {
     "base_uri": "https://localhost:8080/"
    },
    "id": "ts26D3gLnyLd",
    "outputId": "cb1a0caa-c636-4e9b-ed3d-5ca4a9a576c2",
    "scrolled": true
   },
   "outputs": [
    {
     "name": "stdout",
     "output_type": "stream",
     "text": [
      "Fri Apr  8 18:33:00 2022       \r\n",
      "+-----------------------------------------------------------------------------+\r\n",
      "| NVIDIA-SMI 460.73.01    Driver Version: 460.73.01    CUDA Version: 11.2     |\r\n",
      "|-------------------------------+----------------------+----------------------+\r\n",
      "| GPU  Name        Persistence-M| Bus-Id        Disp.A | Volatile Uncorr. ECC |\r\n",
      "| Fan  Temp  Perf  Pwr:Usage/Cap|         Memory-Usage | GPU-Util  Compute M. |\r\n",
      "|                               |                      |               MIG M. |\r\n",
      "|===============================+======================+======================|\r\n",
      "|   0  Tesla V100-SXM2...  On   | 00000000:00:05.0 Off |                  Off |\r\n",
      "| N/A   39C    P0    66W / 300W |  31104MiB / 32510MiB |      0%      Default |\r\n",
      "|                               |                      |                  N/A |\r\n",
      "+-------------------------------+----------------------+----------------------+\r\n",
      "                                                                               \r\n",
      "+-----------------------------------------------------------------------------+\r\n",
      "| Processes:                                                                  |\r\n",
      "|  GPU   GI   CI        PID   Type   Process name                  GPU Memory |\r\n",
      "|        ID   ID                                                   Usage      |\r\n",
      "|=============================================================================|\r\n",
      "+-----------------------------------------------------------------------------+\r\n"
     ]
    }
   ],
   "source": [
    "!nvidia-smi"
   ]
  },
  {
   "cell_type": "code",
   "execution_count": 29,
   "id": "22446e9a",
   "metadata": {},
   "outputs": [
    {
     "name": "stdout",
     "output_type": "stream",
     "text": [
      "[name: \"/device:CPU:0\"\n",
      "device_type: \"CPU\"\n",
      "memory_limit: 268435456\n",
      "locality {\n",
      "}\n",
      "incarnation: 13625075186367539841\n",
      ", name: \"/device:GPU:0\"\n",
      "device_type: \"GPU\"\n",
      "memory_limit: 31592913408\n",
      "locality {\n",
      "  bus_id: 1\n",
      "  links {\n",
      "  }\n",
      "}\n",
      "incarnation: 14716056093070413099\n",
      "physical_device_desc: \"device: 0, name: Tesla V100-SXM2-32GB, pci bus id: 0000:00:05.0, compute capability: 7.0\"\n",
      "]\n"
     ]
    }
   ],
   "source": [
    "from tensorflow.python.client import device_lib\n",
    "print(device_lib.list_local_devices())"
   ]
  },
  {
   "cell_type": "code",
   "execution_count": 30,
   "id": "floating-cincinnati",
   "metadata": {
    "execution": {
     "iopub.execute_input": "2021-05-30T18:39:28.086573Z",
     "iopub.status.busy": "2021-05-30T18:39:28.085923Z",
     "iopub.status.idle": "2021-05-30T18:39:32.847126Z",
     "shell.execute_reply": "2021-05-30T18:39:32.846068Z",
     "shell.execute_reply.started": "2021-05-30T09:28:36.967323Z"
    },
    "id": "floating-cincinnati",
    "papermill": {
     "duration": 4.80129,
     "end_time": "2021-05-30T18:39:32.847355",
     "exception": false,
     "start_time": "2021-05-30T18:39:28.046065",
     "status": "completed"
    },
    "tags": []
   },
   "outputs": [],
   "source": [
    "%matplotlib inline\n",
    "import numpy as np \n",
    "import pandas as pd\n",
    "import os\n",
    "from glob import glob\n",
    "import matplotlib.pyplot as plt\n",
    "from keras_preprocessing.image import ImageDataGenerator\n",
    "from tensorflow.keras.applications import Xception\n",
    "from tensorflow.keras.layers import GlobalAveragePooling2D\n",
    "import tensorflow as tf\n",
    "from tensorflow.keras.callbacks import ModelCheckpoint, EarlyStopping, ReduceLROnPlateau\n",
    "from keras.models import Model"
   ]
  },
  {
   "cell_type": "markdown",
   "id": "7aff51ab",
   "metadata": {
    "id": "million-monaco",
    "papermill": {
     "duration": 0.026241,
     "end_time": "2021-05-30T18:39:28.019714",
     "exception": false,
     "start_time": "2021-05-30T18:39:27.993473",
     "status": "completed"
    },
    "tags": []
   },
   "source": [
    "## 데이터 세트 다운로드, 압축 해제"
   ]
  },
  {
   "cell_type": "code",
   "execution_count": 31,
   "id": "cf77f93a",
   "metadata": {},
   "outputs": [
    {
     "name": "stdout",
     "output_type": "stream",
     "text": [
      "Requirement already satisfied: gdown in /usr/local/lib/python3.6/dist-packages (4.4.0)\r\n",
      "Requirement already satisfied: filelock in /usr/local/lib/python3.6/dist-packages (from gdown) (3.4.1)\r\n",
      "Requirement already satisfied: beautifulsoup4 in /usr/local/lib/python3.6/dist-packages (from gdown) (4.6.0)\r\n",
      "Requirement already satisfied: tqdm in /usr/local/lib/python3.6/dist-packages (from gdown) (4.58.0)\r\n",
      "Requirement already satisfied: requests[socks] in /usr/local/lib/python3.6/dist-packages (from gdown) (2.25.1)\r\n",
      "Requirement already satisfied: six in /usr/local/lib/python3.6/dist-packages (from gdown) (1.15.0)\r\n",
      "Requirement already satisfied: certifi>=2017.4.17 in /usr/local/lib/python3.6/dist-packages (from requests[socks]->gdown) (2020.12.5)\r\n",
      "Requirement already satisfied: chardet<5,>=3.0.2 in /usr/local/lib/python3.6/dist-packages (from requests[socks]->gdown) (4.0.0)\r\n",
      "Requirement already satisfied: urllib3<1.27,>=1.21.1 in /usr/local/lib/python3.6/dist-packages (from requests[socks]->gdown) (1.26.2)\r\n",
      "Requirement already satisfied: idna<3,>=2.5 in /usr/lib/python3/dist-packages (from requests[socks]->gdown) (2.6)\r\n",
      "Requirement already satisfied: PySocks!=1.5.7,>=1.5.6 in /usr/local/lib/python3.6/dist-packages (from requests[socks]->gdown) (1.7.1)\r\n",
      "\u001B[33mWARNING: You are using pip version 21.0.1; however, version 21.3.1 is available.\r\n",
      "You should consider upgrading via the '/usr/bin/python3 -m pip install --upgrade pip' command.\u001B[0m\r\n",
      "/usr/local/lib/python3.6/dist-packages/gdown/cli.py:131: FutureWarning: Option `--id` was deprecated in version 4.3.1 and will be removed in 5.0. You don't need to pass it anymore to use a file ID.\r\n",
      "  category=FutureWarning,\r\n",
      "Downloading...\r\n",
      "From: https://drive.google.com/uc?id=1TOHms3kqGonSayOTse0MXiOc4zGSdtsI\r\n",
      "To: /home/ClsKLData.zip\r\n",
      "100%|████████████████████████████████████████| 591M/591M [00:07<00:00, 82.2MB/s]\r\n",
      "/usr/local/lib/python3.6/dist-packages/gdown/cli.py:131: FutureWarning: Option `--id` was deprecated in version 4.3.1 and will be removed in 5.0. You don't need to pass it anymore to use a file ID.\r\n",
      "  category=FutureWarning,\r\n",
      "Downloading...\r\n",
      "From: https://drive.google.com/uc?id=1lR_B5LSrtUg273ADJQswDHxpjzDfFxIR\r\n",
      "To: /home/KneeXray.zip\r\n",
      "100%|████████████████████████████████████████| 120M/120M [00:01<00:00, 75.4MB/s]\r\n",
      "/usr/local/lib/python3.6/dist-packages/gdown/cli.py:131: FutureWarning: Option `--id` was deprecated in version 4.3.1 and will be removed in 5.0. You don't need to pass it anymore to use a file ID.\r\n",
      "  category=FutureWarning,\r\n",
      "Downloading...\r\n",
      "From: https://drive.google.com/uc?id=1pI08Cs48tp9NXhuRMt7tssITx4-_PqH1\r\n",
      "To: /home/Lee_KneeData.zip\r\n",
      "100%|██████████████████████████████████████| 3.68M/3.68M [00:00<00:00, 13.0MB/s]\r\n"
     ]
    }
   ],
   "source": [
    "!pip install gdown\n",
    "\n",
    "# train 데이터 세트_ClsKLData\n",
    "!gdown --id \"1TOHms3kqGonSayOTse0MXiOc4zGSdtsI\"\n",
    "\n",
    "# validation & test 데이터 세트_KneeXray\n",
    "!gdown --id \"1lR_B5LSrtUg273ADJQswDHxpjzDfFxIR\"\n",
    "\n",
    "# 추가 test 데이터 세트_Lee_kneeData\n",
    "!gdown --id \"1pI08Cs48tp9NXhuRMt7tssITx4-_PqH1\""
   ]
  },
  {
   "cell_type": "code",
   "execution_count": 32,
   "id": "763af922",
   "metadata": {
    "scrolled": true
   },
   "outputs": [],
   "source": [
    "import zipfile\n",
    "         \n",
    "fantasy_zip = zipfile.ZipFile('./ClsKLData.zip')\n",
    "fantasy_zip.extractall('./ClsKLData')\n",
    "fantasy_zip.close()"
   ]
  },
  {
   "cell_type": "code",
   "execution_count": 33,
   "id": "d94a16bf",
   "metadata": {},
   "outputs": [],
   "source": [
    "import zipfile\n",
    "fantasy_zip = zipfile.ZipFile('./KneeXray.zip')\n",
    "fantasy_zip.extractall('./KneeXray') \n",
    "fantasy_zip.close()"
   ]
  },
  {
   "cell_type": "code",
   "execution_count": 34,
   "id": "8202f9bb",
   "metadata": {},
   "outputs": [],
   "source": [
    "import zipfile\n",
    "fantasy_zip = zipfile.ZipFile('./Lee_KneeData.zip')\n",
    "fantasy_zip.extractall('./Lee_KneeData')\n",
    "fantasy_zip.close()"
   ]
  },
  {
   "cell_type": "code",
   "execution_count": 35,
   "id": "encouraging-novel",
   "metadata": {
    "execution": {
     "iopub.execute_input": "2021-05-30T18:39:36.090553Z",
     "iopub.status.busy": "2021-05-30T18:39:36.089729Z",
     "iopub.status.idle": "2021-05-30T18:39:36.092340Z",
     "shell.execute_reply": "2021-05-30T18:39:36.091828Z",
     "shell.execute_reply.started": "2021-05-30T09:28:44.189248Z"
    },
    "id": "encouraging-novel",
    "papermill": {
     "duration": 0.035021,
     "end_time": "2021-05-30T18:39:36.092447",
     "exception": false,
     "start_time": "2021-05-30T18:39:36.057426",
     "status": "completed"
    },
    "tags": []
   },
   "outputs": [],
   "source": [
    "train_aug = ImageDataGenerator(rescale=1./255)\n",
    "valid_aug = ImageDataGenerator(rescale=1./255)"
   ]
  },
  {
   "cell_type": "markdown",
   "id": "48f1793e",
   "metadata": {
    "id": "million-monaco",
    "papermill": {
     "duration": 0.026241,
     "end_time": "2021-05-30T18:39:28.019714",
     "exception": false,
     "start_time": "2021-05-30T18:39:27.993473",
     "status": "completed"
    },
    "tags": []
   },
   "source": [
    "## 학습 데이터"
   ]
  },
  {
   "cell_type": "code",
   "execution_count": 36,
   "id": "emotional-valuable",
   "metadata": {
    "execution": {
     "iopub.execute_input": "2021-05-30T18:39:33.012157Z",
     "iopub.status.busy": "2021-05-30T18:39:33.011596Z",
     "iopub.status.idle": "2021-05-30T18:39:35.556063Z",
     "shell.execute_reply": "2021-05-30T18:39:35.555555Z",
     "shell.execute_reply.started": "2021-05-30T09:28:38.947982Z"
    },
    "id": "emotional-valuable",
    "papermill": {
     "duration": 2.57776,
     "end_time": "2021-05-30T18:39:35.556225",
     "exception": false,
     "start_time": "2021-05-30T18:39:32.978465",
     "status": "completed"
    },
    "tags": []
   },
   "outputs": [],
   "source": [
    "n_class = 5\n",
    "\n",
    "root_path = \"./ClsKLData//kneeKL224//\"\n",
    "\n",
    "folder_list = os.listdir(root_path)\n",
    "image_path_list = []\n",
    "label_list = []\n",
    "\n",
    "for folder in folder_list:\n",
    "    for label in range(n_class):\n",
    "        image_list = os.listdir(f\"{root_path}{folder}/{label}\")\n",
    "        image_path_list += [ f\"{root_path}{folder}/{label}/\"+ path for path in image_list]\n",
    "        label_list += [label] * len(image_list)\n",
    "\n",
    "df_train_kaggle = pd.DataFrame({\"filepath\" : image_path_list, \"label\": label_list})"
   ]
  },
  {
   "cell_type": "code",
   "execution_count": 37,
   "id": "signal-responsibility",
   "metadata": {
    "colab": {
     "base_uri": "https://localhost:8080/"
    },
    "execution": {
     "iopub.execute_input": "2021-05-30T18:39:35.618734Z",
     "iopub.status.busy": "2021-05-30T18:39:35.617931Z",
     "iopub.status.idle": "2021-05-30T18:39:35.621117Z",
     "shell.execute_reply": "2021-05-30T18:39:35.621576Z",
     "shell.execute_reply.started": "2021-05-30T09:28:40.244589Z"
    },
    "id": "signal-responsibility",
    "outputId": "dfd8ae1d-71d1-424c-e0af-c2e831cd3514",
    "papermill": {
     "duration": 0.03629,
     "end_time": "2021-05-30T18:39:35.621716",
     "exception": false,
     "start_time": "2021-05-30T18:39:35.585426",
     "status": "completed"
    },
    "tags": []
   },
   "outputs": [
    {
     "data": {
      "text/plain": "(9786, 2)"
     },
     "execution_count": 37,
     "metadata": {},
     "output_type": "execute_result"
    }
   ],
   "source": [
    "df_train_kaggle.shape"
   ]
  },
  {
   "cell_type": "markdown",
   "id": "hairy-greene",
   "metadata": {
    "id": "hairy-greene",
    "papermill": {
     "duration": 0.030406,
     "end_time": "2021-05-30T18:39:35.680660",
     "exception": false,
     "start_time": "2021-05-30T18:39:35.650254",
     "status": "completed"
    },
    "tags": []
   },
   "source": [
    "## 학습 데이터 분포"
   ]
  },
  {
   "cell_type": "code",
   "execution_count": 38,
   "id": "therapeutic-spending",
   "metadata": {
    "colab": {
     "base_uri": "https://localhost:8080/",
     "height": 0
    },
    "execution": {
     "iopub.execute_input": "2021-05-30T18:39:35.750000Z",
     "iopub.status.busy": "2021-05-30T18:39:35.749277Z",
     "iopub.status.idle": "2021-05-30T18:39:35.918362Z",
     "shell.execute_reply": "2021-05-30T18:39:35.918766Z",
     "shell.execute_reply.started": "2021-05-30T09:28:41.597346Z"
    },
    "id": "therapeutic-spending",
    "outputId": "9f2e2be5-47ca-48db-9250-e83add5b2f95",
    "papermill": {
     "duration": 0.208649,
     "end_time": "2021-05-30T18:39:35.918905",
     "exception": false,
     "start_time": "2021-05-30T18:39:35.710256",
     "status": "completed"
    },
    "tags": []
   },
   "outputs": [
    {
     "data": {
      "text/plain": "Text(0, 0.5, 'count')"
     },
     "execution_count": 38,
     "metadata": {},
     "output_type": "execute_result"
    },
    {
     "data": {
      "text/plain": "<Figure size 432x288 with 1 Axes>",
      "image/png": "[encoded data removed]"
     },
     "metadata": {
      "needs_background": "light"
     },
     "output_type": "display_data"
    }
   ],
   "source": [
    "df_train_kaggle.label.value_counts().plot.bar()\n",
    "plt.xlabel(\"label\")\n",
    "plt.ylabel(\"count\")"
   ]
  },
  {
   "cell_type": "code",
   "execution_count": 39,
   "id": "geological-philadelphia",
   "metadata": {
    "colab": {
     "base_uri": "https://localhost:8080/"
    },
    "execution": {
     "iopub.execute_input": "2021-05-30T18:39:36.172890Z",
     "iopub.status.busy": "2021-05-30T18:39:36.167698Z",
     "iopub.status.idle": "2021-05-30T18:39:39.954054Z",
     "shell.execute_reply": "2021-05-30T18:39:39.954888Z",
     "shell.execute_reply.started": "2021-05-30T09:28:47.478488Z"
    },
    "id": "geological-philadelphia",
    "outputId": "5a67acba-6da1-4b7b-c63c-db74aa3f3ab5",
    "papermill": {
     "duration": 3.835127,
     "end_time": "2021-05-30T18:39:39.955083",
     "exception": false,
     "start_time": "2021-05-30T18:39:36.119956",
     "status": "completed"
    },
    "tags": []
   },
   "outputs": [
    {
     "name": "stdout",
     "output_type": "stream",
     "text": [
      "Found 9786 validated image filenames.\n"
     ]
    }
   ],
   "source": [
    "train_generator = train_aug.flow_from_dataframe(\n",
    "    dataframe = df_train_kaggle,\n",
    "    directory = None,\n",
    "    x_col=\"filepath\",\n",
    "    y_col=\"label\",\n",
    "    batch_size = 8,\n",
    "    seed = 42,\n",
    "    shuffle = True,\n",
    "    class_mode = \"raw\",\n",
    "    target_size = (224,224)\n",
    ")"
   ]
  },
  {
   "cell_type": "markdown",
   "id": "asian-chest",
   "metadata": {
    "id": "asian-chest",
    "papermill": {
     "duration": 0.027295,
     "end_time": "2021-05-30T18:39:40.011354",
     "exception": false,
     "start_time": "2021-05-30T18:39:39.984059",
     "status": "completed"
    },
    "tags": []
   },
   "source": [
    "## 검증, 테스트 데이터"
   ]
  },
  {
   "cell_type": "code",
   "execution_count": 40,
   "id": "threaded-characterization",
   "metadata": {
    "colab": {
     "base_uri": "https://localhost:8080/",
     "height": 0
    },
    "execution": {
     "iopub.execute_input": "2021-05-30T18:40:02.229132Z",
     "iopub.status.busy": "2021-05-30T18:40:02.228400Z",
     "iopub.status.idle": "2021-05-30T18:40:02.250117Z",
     "shell.execute_reply": "2021-05-30T18:40:02.250642Z",
     "shell.execute_reply.started": "2021-05-30T08:33:23.833280Z"
    },
    "id": "threaded-characterization",
    "outputId": "f6fc6702-0a3d-4689-ce71-a698cbea485e",
    "papermill": {
     "duration": 0.059732,
     "end_time": "2021-05-30T18:40:02.250775",
     "exception": false,
     "start_time": "2021-05-30T18:40:02.191043",
     "status": "completed"
    },
    "tags": []
   },
   "outputs": [
    {
     "data": {
      "text/plain": "                                  filename  label\n0  ./KneeXray//KneeXray//train/Image_1.jpg      0\n1  ./KneeXray//KneeXray//train/Image_2.jpg      1\n2  ./KneeXray//KneeXray//train/Image_3.jpg      0\n3  ./KneeXray//KneeXray//train/Image_4.jpg      1\n4  ./KneeXray//KneeXray//train/Image_5.jpg      2",
      "text/html": "<div>\n<style scoped>\n    .dataframe tbody tr th:only-of-type {\n        vertical-align: middle;\n    }\n\n    .dataframe tbody tr th {\n        vertical-align: top;\n    }\n\n    .dataframe thead th {\n        text-align: right;\n    }\n</style>\n<table border=\"1\" class=\"dataframe\">\n  <thead>\n    <tr style=\"text-align: right;\">\n      <th></th>\n      <th>filename</th>\n      <th>label</th>\n    </tr>\n  </thead>\n  <tbody>\n    <tr>\n      <th>0</th>\n      <td>./KneeXray//KneeXray//train/Image_1.jpg</td>\n      <td>0</td>\n    </tr>\n    <tr>\n      <th>1</th>\n      <td>./KneeXray//KneeXray//train/Image_2.jpg</td>\n      <td>1</td>\n    </tr>\n    <tr>\n      <th>2</th>\n      <td>./KneeXray//KneeXray//train/Image_3.jpg</td>\n      <td>0</td>\n    </tr>\n    <tr>\n      <th>3</th>\n      <td>./KneeXray//KneeXray//train/Image_4.jpg</td>\n      <td>1</td>\n    </tr>\n    <tr>\n      <th>4</th>\n      <td>./KneeXray//KneeXray//train/Image_5.jpg</td>\n      <td>2</td>\n    </tr>\n  </tbody>\n</table>\n</div>"
     },
     "execution_count": 40,
     "metadata": {},
     "output_type": "execute_result"
    }
   ],
   "source": [
    "compi_root_path= \"./KneeXray//KneeXray//\"\n",
    "df_val_compi = pd.read_csv(compi_root_path + \"Train.csv\")\n",
    "df_val_compi[\"filename\"] = df_val_compi.filename.apply(lambda x: compi_root_path+\"train/\" + x)\n",
    "df_val_compi.head()"
   ]
  },
  {
   "cell_type": "code",
   "execution_count": 41,
   "id": "c720bcf6",
   "metadata": {},
   "outputs": [
    {
     "data": {
      "text/plain": "(7828, 2)"
     },
     "execution_count": 41,
     "metadata": {},
     "output_type": "execute_result"
    }
   ],
   "source": [
    "df_val_compi.shape"
   ]
  },
  {
   "cell_type": "markdown",
   "id": "4b2810ec",
   "metadata": {
    "id": "hairy-greene",
    "papermill": {
     "duration": 0.030406,
     "end_time": "2021-05-30T18:39:35.680660",
     "exception": false,
     "start_time": "2021-05-30T18:39:35.650254",
     "status": "completed"
    },
    "tags": []
   },
   "source": [
    "## 검증 데이터 분포"
   ]
  },
  {
   "cell_type": "code",
   "execution_count": 42,
   "id": "suburban-shareware",
   "metadata": {
    "colab": {
     "base_uri": "https://localhost:8080/",
     "height": 0
    },
    "execution": {
     "iopub.execute_input": "2021-05-30T18:40:02.339459Z",
     "iopub.status.busy": "2021-05-30T18:40:02.324109Z",
     "iopub.status.idle": "2021-05-30T18:40:02.442504Z",
     "shell.execute_reply": "2021-05-30T18:40:02.442056Z",
     "shell.execute_reply.started": "2021-05-30T08:33:23.865039Z"
    },
    "id": "suburban-shareware",
    "outputId": "0daca1fb-c665-4a25-8da7-9250f7756ff1",
    "papermill": {
     "duration": 0.158988,
     "end_time": "2021-05-30T18:40:02.442618",
     "exception": false,
     "start_time": "2021-05-30T18:40:02.283630",
     "status": "completed"
    },
    "tags": []
   },
   "outputs": [
    {
     "data": {
      "text/plain": "Text(0, 0.5, 'count')"
     },
     "execution_count": 42,
     "metadata": {},
     "output_type": "execute_result"
    },
    {
     "data": {
      "text/plain": "<Figure size 432x288 with 1 Axes>",
      "image/png": "[encoded data removed]"
     },
     "metadata": {
      "needs_background": "light"
     },
     "output_type": "display_data"
    }
   ],
   "source": [
    "df_val_compi.label.value_counts().plot.bar()\n",
    "plt.xlabel(\"label\")\n",
    "plt.ylabel(\"count\")"
   ]
  },
  {
   "cell_type": "code",
   "execution_count": 43,
   "id": "saving-homework",
   "metadata": {
    "colab": {
     "base_uri": "https://localhost:8080/"
    },
    "execution": {
     "iopub.execute_input": "2021-05-30T18:40:02.529039Z",
     "iopub.status.busy": "2021-05-30T18:40:02.528305Z",
     "iopub.status.idle": "2021-05-30T18:40:02.574290Z",
     "shell.execute_reply": "2021-05-30T18:40:02.574903Z",
     "shell.execute_reply.started": "2021-05-30T08:54:21.600981Z"
    },
    "id": "saving-homework",
    "outputId": "21b896d0-bceb-4621-efb3-33908214d2d6",
    "papermill": {
     "duration": 0.098388,
     "end_time": "2021-05-30T18:40:02.575081",
     "exception": false,
     "start_time": "2021-05-30T18:40:02.476693",
     "status": "completed"
    },
    "tags": []
   },
   "outputs": [
    {
     "name": "stdout",
     "output_type": "stream",
     "text": [
      "Found 7828 validated image filenames.\n"
     ]
    }
   ],
   "source": [
    "valid_generator = valid_aug.flow_from_dataframe( \n",
    "    dataframe= df_val_compi,\n",
    "    x_col = \"filename\",\n",
    "    y_col = \"label\",\n",
    "    batch_size = 8,\n",
    "    seed = 42,\n",
    "    shuffle = True,\n",
    "    class_mode = \"raw\",\n",
    "    target_size = (224,224)\n",
    ")"
   ]
  },
  {
   "cell_type": "markdown",
   "id": "marked-belarus",
   "metadata": {
    "id": "marked-belarus",
    "papermill": {
     "duration": 0.033792,
     "end_time": "2021-05-30T18:40:02.643887",
     "exception": false,
     "start_time": "2021-05-30T18:40:02.610095",
     "status": "completed"
    },
    "tags": []
   },
   "source": [
    "## 모델 구조"
   ]
  },
  {
   "cell_type": "code",
   "execution_count": 44,
   "id": "buried-tablet",
   "metadata": {
    "colab": {
     "base_uri": "https://localhost:8080/"
    },
    "execution": {
     "iopub.execute_input": "2021-05-30T18:40:02.724467Z",
     "iopub.status.busy": "2021-05-30T18:40:02.723830Z",
     "iopub.status.idle": "2021-05-30T18:40:08.132744Z",
     "shell.execute_reply": "2021-05-30T18:40:08.131632Z",
     "shell.execute_reply.started": "2021-05-30T09:28:56.068101Z"
    },
    "id": "buried-tablet",
    "outputId": "da82c4ac-8660-4b77-94f7-5e1342b4b10e",
    "papermill": {
     "duration": 5.455093,
     "end_time": "2021-05-30T18:40:08.132878",
     "exception": false,
     "start_time": "2021-05-30T18:40:02.677785",
     "status": "completed"
    },
    "tags": []
   },
   "outputs": [],
   "source": [
    "xception = Xception(weights=\"imagenet\",)\n",
    "x =  xception.layers[-3].output\n",
    "\n",
    "x = tf.keras.layers.Conv2D(filters = n_class, kernel_size = 3, padding = \"same\")(x)\n",
    "x = tf.keras.layers.BatchNormalization()(x)\n",
    "x = tf.keras.layers.Activation(\"relu\")(x)\n",
    "\n",
    "GAP = tf.keras.layers.GlobalAveragePooling2D()(x)\n",
    "pred = tf.keras.activations.softmax(GAP)\n",
    "\n",
    "xception_model = Model(inputs=xception.input,outputs=pred)"
   ]
  },
  {
   "cell_type": "code",
   "execution_count": 45,
   "id": "eb92055e",
   "metadata": {},
   "outputs": [
    {
     "name": "stdout",
     "output_type": "stream",
     "text": [
      "Model: \"model_1\"\n",
      "__________________________________________________________________________________________________\n",
      "Layer (type)                    Output Shape         Param #     Connected to                     \n",
      "==================================================================================================\n",
      "input_2 (InputLayer)            [(None, 299, 299, 3) 0                                            \n",
      "__________________________________________________________________________________________________\n",
      "block1_conv1 (Conv2D)           (None, 149, 149, 32) 864         input_2[0][0]                    \n",
      "__________________________________________________________________________________________________\n",
      "block1_conv1_bn (BatchNormaliza (None, 149, 149, 32) 128         block1_conv1[0][0]               \n",
      "__________________________________________________________________________________________________\n",
      "block1_conv1_act (Activation)   (None, 149, 149, 32) 0           block1_conv1_bn[0][0]            \n",
      "__________________________________________________________________________________________________\n",
      "block1_conv2 (Conv2D)           (None, 147, 147, 64) 18432       block1_conv1_act[0][0]           \n",
      "__________________________________________________________________________________________________\n",
      "block1_conv2_bn (BatchNormaliza (None, 147, 147, 64) 256         block1_conv2[0][0]               \n",
      "__________________________________________________________________________________________________\n",
      "block1_conv2_act (Activation)   (None, 147, 147, 64) 0           block1_conv2_bn[0][0]            \n",
      "__________________________________________________________________________________________________\n",
      "block2_sepconv1 (SeparableConv2 (None, 147, 147, 128 8768        block1_conv2_act[0][0]           \n",
      "__________________________________________________________________________________________________\n",
      "block2_sepconv1_bn (BatchNormal (None, 147, 147, 128 512         block2_sepconv1[0][0]            \n",
      "__________________________________________________________________________________________________\n",
      "block2_sepconv2_act (Activation (None, 147, 147, 128 0           block2_sepconv1_bn[0][0]         \n",
      "__________________________________________________________________________________________________\n",
      "block2_sepconv2 (SeparableConv2 (None, 147, 147, 128 17536       block2_sepconv2_act[0][0]        \n",
      "__________________________________________________________________________________________________\n",
      "block2_sepconv2_bn (BatchNormal (None, 147, 147, 128 512         block2_sepconv2[0][0]            \n",
      "__________________________________________________________________________________________________\n",
      "conv2d_5 (Conv2D)               (None, 74, 74, 128)  8192        block1_conv2_act[0][0]           \n",
      "__________________________________________________________________________________________________\n",
      "block2_pool (MaxPooling2D)      (None, 74, 74, 128)  0           block2_sepconv2_bn[0][0]         \n",
      "__________________________________________________________________________________________________\n",
      "batch_normalization_5 (BatchNor (None, 74, 74, 128)  512         conv2d_5[0][0]                   \n",
      "__________________________________________________________________________________________________\n",
      "add_12 (Add)                    (None, 74, 74, 128)  0           block2_pool[0][0]                \n",
      "                                                                 batch_normalization_5[0][0]      \n",
      "__________________________________________________________________________________________________\n",
      "block3_sepconv1_act (Activation (None, 74, 74, 128)  0           add_12[0][0]                     \n",
      "__________________________________________________________________________________________________\n",
      "block3_sepconv1 (SeparableConv2 (None, 74, 74, 256)  33920       block3_sepconv1_act[0][0]        \n",
      "__________________________________________________________________________________________________\n",
      "block3_sepconv1_bn (BatchNormal (None, 74, 74, 256)  1024        block3_sepconv1[0][0]            \n",
      "__________________________________________________________________________________________________\n",
      "block3_sepconv2_act (Activation (None, 74, 74, 256)  0           block3_sepconv1_bn[0][0]         \n",
      "__________________________________________________________________________________________________\n",
      "block3_sepconv2 (SeparableConv2 (None, 74, 74, 256)  67840       block3_sepconv2_act[0][0]        \n",
      "__________________________________________________________________________________________________\n",
      "block3_sepconv2_bn (BatchNormal (None, 74, 74, 256)  1024        block3_sepconv2[0][0]            \n",
      "__________________________________________________________________________________________________\n",
      "conv2d_6 (Conv2D)               (None, 37, 37, 256)  32768       add_12[0][0]                     \n",
      "__________________________________________________________________________________________________\n",
      "block3_pool (MaxPooling2D)      (None, 37, 37, 256)  0           block3_sepconv2_bn[0][0]         \n",
      "__________________________________________________________________________________________________\n",
      "batch_normalization_6 (BatchNor (None, 37, 37, 256)  1024        conv2d_6[0][0]                   \n",
      "__________________________________________________________________________________________________\n",
      "add_13 (Add)                    (None, 37, 37, 256)  0           block3_pool[0][0]                \n",
      "                                                                 batch_normalization_6[0][0]      \n",
      "__________________________________________________________________________________________________\n",
      "block4_sepconv1_act (Activation (None, 37, 37, 256)  0           add_13[0][0]                     \n",
      "__________________________________________________________________________________________________\n",
      "block4_sepconv1 (SeparableConv2 (None, 37, 37, 728)  188672      block4_sepconv1_act[0][0]        \n",
      "__________________________________________________________________________________________________\n",
      "block4_sepconv1_bn (BatchNormal (None, 37, 37, 728)  2912        block4_sepconv1[0][0]            \n",
      "__________________________________________________________________________________________________\n",
      "block4_sepconv2_act (Activation (None, 37, 37, 728)  0           block4_sepconv1_bn[0][0]         \n",
      "__________________________________________________________________________________________________\n",
      "block4_sepconv2 (SeparableConv2 (None, 37, 37, 728)  536536      block4_sepconv2_act[0][0]        \n",
      "__________________________________________________________________________________________________\n",
      "block4_sepconv2_bn (BatchNormal (None, 37, 37, 728)  2912        block4_sepconv2[0][0]            \n",
      "__________________________________________________________________________________________________\n",
      "conv2d_7 (Conv2D)               (None, 19, 19, 728)  186368      add_13[0][0]                     \n",
      "__________________________________________________________________________________________________\n",
      "block4_pool (MaxPooling2D)      (None, 19, 19, 728)  0           block4_sepconv2_bn[0][0]         \n",
      "__________________________________________________________________________________________________\n",
      "batch_normalization_7 (BatchNor (None, 19, 19, 728)  2912        conv2d_7[0][0]                   \n",
      "__________________________________________________________________________________________________\n",
      "add_14 (Add)                    (None, 19, 19, 728)  0           block4_pool[0][0]                \n",
      "                                                                 batch_normalization_7[0][0]      \n",
      "__________________________________________________________________________________________________\n",
      "block5_sepconv1_act (Activation (None, 19, 19, 728)  0           add_14[0][0]                     \n",
      "__________________________________________________________________________________________________\n",
      "block5_sepconv1 (SeparableConv2 (None, 19, 19, 728)  536536      block5_sepconv1_act[0][0]        \n",
      "__________________________________________________________________________________________________\n",
      "block5_sepconv1_bn (BatchNormal (None, 19, 19, 728)  2912        block5_sepconv1[0][0]            \n",
      "__________________________________________________________________________________________________\n",
      "block5_sepconv2_act (Activation (None, 19, 19, 728)  0           block5_sepconv1_bn[0][0]         \n",
      "__________________________________________________________________________________________________\n",
      "block5_sepconv2 (SeparableConv2 (None, 19, 19, 728)  536536      block5_sepconv2_act[0][0]        \n",
      "__________________________________________________________________________________________________\n",
      "block5_sepconv2_bn (BatchNormal (None, 19, 19, 728)  2912        block5_sepconv2[0][0]            \n",
      "__________________________________________________________________________________________________\n",
      "block5_sepconv3_act (Activation (None, 19, 19, 728)  0           block5_sepconv2_bn[0][0]         \n",
      "__________________________________________________________________________________________________\n",
      "block5_sepconv3 (SeparableConv2 (None, 19, 19, 728)  536536      block5_sepconv3_act[0][0]        \n",
      "__________________________________________________________________________________________________\n",
      "block5_sepconv3_bn (BatchNormal (None, 19, 19, 728)  2912        block5_sepconv3[0][0]            \n",
      "__________________________________________________________________________________________________\n",
      "add_15 (Add)                    (None, 19, 19, 728)  0           block5_sepconv3_bn[0][0]         \n",
      "                                                                 add_14[0][0]                     \n",
      "__________________________________________________________________________________________________\n",
      "block6_sepconv1_act (Activation (None, 19, 19, 728)  0           add_15[0][0]                     \n",
      "__________________________________________________________________________________________________\n",
      "block6_sepconv1 (SeparableConv2 (None, 19, 19, 728)  536536      block6_sepconv1_act[0][0]        \n",
      "__________________________________________________________________________________________________\n",
      "block6_sepconv1_bn (BatchNormal (None, 19, 19, 728)  2912        block6_sepconv1[0][0]            \n",
      "__________________________________________________________________________________________________\n",
      "block6_sepconv2_act (Activation (None, 19, 19, 728)  0           block6_sepconv1_bn[0][0]         \n",
      "__________________________________________________________________________________________________\n",
      "block6_sepconv2 (SeparableConv2 (None, 19, 19, 728)  536536      block6_sepconv2_act[0][0]        \n",
      "__________________________________________________________________________________________________\n",
      "block6_sepconv2_bn (BatchNormal (None, 19, 19, 728)  2912        block6_sepconv2[0][0]            \n",
      "__________________________________________________________________________________________________\n",
      "block6_sepconv3_act (Activation (None, 19, 19, 728)  0           block6_sepconv2_bn[0][0]         \n",
      "__________________________________________________________________________________________________\n",
      "block6_sepconv3 (SeparableConv2 (None, 19, 19, 728)  536536      block6_sepconv3_act[0][0]        \n",
      "__________________________________________________________________________________________________\n",
      "block6_sepconv3_bn (BatchNormal (None, 19, 19, 728)  2912        block6_sepconv3[0][0]            \n",
      "__________________________________________________________________________________________________\n",
      "add_16 (Add)                    (None, 19, 19, 728)  0           block6_sepconv3_bn[0][0]         \n",
      "                                                                 add_15[0][0]                     \n",
      "__________________________________________________________________________________________________\n",
      "block7_sepconv1_act (Activation (None, 19, 19, 728)  0           add_16[0][0]                     \n",
      "__________________________________________________________________________________________________\n",
      "block7_sepconv1 (SeparableConv2 (None, 19, 19, 728)  536536      block7_sepconv1_act[0][0]        \n",
      "__________________________________________________________________________________________________\n",
      "block7_sepconv1_bn (BatchNormal (None, 19, 19, 728)  2912        block7_sepconv1[0][0]            \n",
      "__________________________________________________________________________________________________\n",
      "block7_sepconv2_act (Activation (None, 19, 19, 728)  0           block7_sepconv1_bn[0][0]         \n",
      "__________________________________________________________________________________________________\n",
      "block7_sepconv2 (SeparableConv2 (None, 19, 19, 728)  536536      block7_sepconv2_act[0][0]        \n",
      "__________________________________________________________________________________________________\n",
      "block7_sepconv2_bn (BatchNormal (None, 19, 19, 728)  2912        block7_sepconv2[0][0]            \n",
      "__________________________________________________________________________________________________\n",
      "block7_sepconv3_act (Activation (None, 19, 19, 728)  0           block7_sepconv2_bn[0][0]         \n",
      "__________________________________________________________________________________________________\n",
      "block7_sepconv3 (SeparableConv2 (None, 19, 19, 728)  536536      block7_sepconv3_act[0][0]        \n",
      "__________________________________________________________________________________________________\n",
      "block7_sepconv3_bn (BatchNormal (None, 19, 19, 728)  2912        block7_sepconv3[0][0]            \n",
      "__________________________________________________________________________________________________\n",
      "add_17 (Add)                    (None, 19, 19, 728)  0           block7_sepconv3_bn[0][0]         \n",
      "                                                                 add_16[0][0]                     \n",
      "__________________________________________________________________________________________________\n",
      "block8_sepconv1_act (Activation (None, 19, 19, 728)  0           add_17[0][0]                     \n",
      "__________________________________________________________________________________________________\n",
      "block8_sepconv1 (SeparableConv2 (None, 19, 19, 728)  536536      block8_sepconv1_act[0][0]        \n",
      "__________________________________________________________________________________________________\n",
      "block8_sepconv1_bn (BatchNormal (None, 19, 19, 728)  2912        block8_sepconv1[0][0]            \n",
      "__________________________________________________________________________________________________\n",
      "block8_sepconv2_act (Activation (None, 19, 19, 728)  0           block8_sepconv1_bn[0][0]         \n",
      "__________________________________________________________________________________________________\n",
      "block8_sepconv2 (SeparableConv2 (None, 19, 19, 728)  536536      block8_sepconv2_act[0][0]        \n",
      "__________________________________________________________________________________________________\n",
      "block8_sepconv2_bn (BatchNormal (None, 19, 19, 728)  2912        block8_sepconv2[0][0]            \n",
      "__________________________________________________________________________________________________\n",
      "block8_sepconv3_act (Activation (None, 19, 19, 728)  0           block8_sepconv2_bn[0][0]         \n",
      "__________________________________________________________________________________________________\n",
      "block8_sepconv3 (SeparableConv2 (None, 19, 19, 728)  536536      block8_sepconv3_act[0][0]        \n",
      "__________________________________________________________________________________________________\n",
      "block8_sepconv3_bn (BatchNormal (None, 19, 19, 728)  2912        block8_sepconv3[0][0]            \n",
      "__________________________________________________________________________________________________\n",
      "add_18 (Add)                    (None, 19, 19, 728)  0           block8_sepconv3_bn[0][0]         \n",
      "                                                                 add_17[0][0]                     \n",
      "__________________________________________________________________________________________________\n",
      "block9_sepconv1_act (Activation (None, 19, 19, 728)  0           add_18[0][0]                     \n",
      "__________________________________________________________________________________________________\n",
      "block9_sepconv1 (SeparableConv2 (None, 19, 19, 728)  536536      block9_sepconv1_act[0][0]        \n",
      "__________________________________________________________________________________________________\n",
      "block9_sepconv1_bn (BatchNormal (None, 19, 19, 728)  2912        block9_sepconv1[0][0]            \n",
      "__________________________________________________________________________________________________\n",
      "block9_sepconv2_act (Activation (None, 19, 19, 728)  0           block9_sepconv1_bn[0][0]         \n",
      "__________________________________________________________________________________________________\n",
      "block9_sepconv2 (SeparableConv2 (None, 19, 19, 728)  536536      block9_sepconv2_act[0][0]        \n",
      "__________________________________________________________________________________________________\n",
      "block9_sepconv2_bn (BatchNormal (None, 19, 19, 728)  2912        block9_sepconv2[0][0]            \n",
      "__________________________________________________________________________________________________\n",
      "block9_sepconv3_act (Activation (None, 19, 19, 728)  0           block9_sepconv2_bn[0][0]         \n",
      "__________________________________________________________________________________________________\n",
      "block9_sepconv3 (SeparableConv2 (None, 19, 19, 728)  536536      block9_sepconv3_act[0][0]        \n",
      "__________________________________________________________________________________________________\n",
      "block9_sepconv3_bn (BatchNormal (None, 19, 19, 728)  2912        block9_sepconv3[0][0]            \n",
      "__________________________________________________________________________________________________\n",
      "add_19 (Add)                    (None, 19, 19, 728)  0           block9_sepconv3_bn[0][0]         \n",
      "                                                                 add_18[0][0]                     \n",
      "__________________________________________________________________________________________________\n",
      "block10_sepconv1_act (Activatio (None, 19, 19, 728)  0           add_19[0][0]                     \n",
      "__________________________________________________________________________________________________\n",
      "block10_sepconv1 (SeparableConv (None, 19, 19, 728)  536536      block10_sepconv1_act[0][0]       \n",
      "__________________________________________________________________________________________________\n",
      "block10_sepconv1_bn (BatchNorma (None, 19, 19, 728)  2912        block10_sepconv1[0][0]           \n",
      "__________________________________________________________________________________________________\n",
      "block10_sepconv2_act (Activatio (None, 19, 19, 728)  0           block10_sepconv1_bn[0][0]        \n",
      "__________________________________________________________________________________________________\n",
      "block10_sepconv2 (SeparableConv (None, 19, 19, 728)  536536      block10_sepconv2_act[0][0]       \n",
      "__________________________________________________________________________________________________\n",
      "block10_sepconv2_bn (BatchNorma (None, 19, 19, 728)  2912        block10_sepconv2[0][0]           \n",
      "__________________________________________________________________________________________________\n",
      "block10_sepconv3_act (Activatio (None, 19, 19, 728)  0           block10_sepconv2_bn[0][0]        \n",
      "__________________________________________________________________________________________________\n",
      "block10_sepconv3 (SeparableConv (None, 19, 19, 728)  536536      block10_sepconv3_act[0][0]       \n",
      "__________________________________________________________________________________________________\n",
      "block10_sepconv3_bn (BatchNorma (None, 19, 19, 728)  2912        block10_sepconv3[0][0]           \n",
      "__________________________________________________________________________________________________\n",
      "add_20 (Add)                    (None, 19, 19, 728)  0           block10_sepconv3_bn[0][0]        \n",
      "                                                                 add_19[0][0]                     \n",
      "__________________________________________________________________________________________________\n",
      "block11_sepconv1_act (Activatio (None, 19, 19, 728)  0           add_20[0][0]                     \n",
      "__________________________________________________________________________________________________\n",
      "block11_sepconv1 (SeparableConv (None, 19, 19, 728)  536536      block11_sepconv1_act[0][0]       \n",
      "__________________________________________________________________________________________________\n",
      "block11_sepconv1_bn (BatchNorma (None, 19, 19, 728)  2912        block11_sepconv1[0][0]           \n",
      "__________________________________________________________________________________________________\n",
      "block11_sepconv2_act (Activatio (None, 19, 19, 728)  0           block11_sepconv1_bn[0][0]        \n",
      "__________________________________________________________________________________________________\n",
      "block11_sepconv2 (SeparableConv (None, 19, 19, 728)  536536      block11_sepconv2_act[0][0]       \n",
      "__________________________________________________________________________________________________\n",
      "block11_sepconv2_bn (BatchNorma (None, 19, 19, 728)  2912        block11_sepconv2[0][0]           \n",
      "__________________________________________________________________________________________________\n",
      "block11_sepconv3_act (Activatio (None, 19, 19, 728)  0           block11_sepconv2_bn[0][0]        \n",
      "__________________________________________________________________________________________________\n",
      "block11_sepconv3 (SeparableConv (None, 19, 19, 728)  536536      block11_sepconv3_act[0][0]       \n",
      "__________________________________________________________________________________________________\n",
      "block11_sepconv3_bn (BatchNorma (None, 19, 19, 728)  2912        block11_sepconv3[0][0]           \n",
      "__________________________________________________________________________________________________\n",
      "add_21 (Add)                    (None, 19, 19, 728)  0           block11_sepconv3_bn[0][0]        \n",
      "                                                                 add_20[0][0]                     \n",
      "__________________________________________________________________________________________________\n",
      "block12_sepconv1_act (Activatio (None, 19, 19, 728)  0           add_21[0][0]                     \n",
      "__________________________________________________________________________________________________\n",
      "block12_sepconv1 (SeparableConv (None, 19, 19, 728)  536536      block12_sepconv1_act[0][0]       \n",
      "__________________________________________________________________________________________________\n",
      "block12_sepconv1_bn (BatchNorma (None, 19, 19, 728)  2912        block12_sepconv1[0][0]           \n",
      "__________________________________________________________________________________________________\n",
      "block12_sepconv2_act (Activatio (None, 19, 19, 728)  0           block12_sepconv1_bn[0][0]        \n",
      "__________________________________________________________________________________________________\n",
      "block12_sepconv2 (SeparableConv (None, 19, 19, 728)  536536      block12_sepconv2_act[0][0]       \n",
      "__________________________________________________________________________________________________\n",
      "block12_sepconv2_bn (BatchNorma (None, 19, 19, 728)  2912        block12_sepconv2[0][0]           \n",
      "__________________________________________________________________________________________________\n",
      "block12_sepconv3_act (Activatio (None, 19, 19, 728)  0           block12_sepconv2_bn[0][0]        \n",
      "__________________________________________________________________________________________________\n",
      "block12_sepconv3 (SeparableConv (None, 19, 19, 728)  536536      block12_sepconv3_act[0][0]       \n",
      "__________________________________________________________________________________________________\n",
      "block12_sepconv3_bn (BatchNorma (None, 19, 19, 728)  2912        block12_sepconv3[0][0]           \n",
      "__________________________________________________________________________________________________\n",
      "add_22 (Add)                    (None, 19, 19, 728)  0           block12_sepconv3_bn[0][0]        \n",
      "                                                                 add_21[0][0]                     \n",
      "__________________________________________________________________________________________________\n",
      "block13_sepconv1_act (Activatio (None, 19, 19, 728)  0           add_22[0][0]                     \n",
      "__________________________________________________________________________________________________\n",
      "block13_sepconv1 (SeparableConv (None, 19, 19, 728)  536536      block13_sepconv1_act[0][0]       \n",
      "__________________________________________________________________________________________________\n",
      "block13_sepconv1_bn (BatchNorma (None, 19, 19, 728)  2912        block13_sepconv1[0][0]           \n",
      "__________________________________________________________________________________________________\n",
      "block13_sepconv2_act (Activatio (None, 19, 19, 728)  0           block13_sepconv1_bn[0][0]        \n",
      "__________________________________________________________________________________________________\n",
      "block13_sepconv2 (SeparableConv (None, 19, 19, 1024) 752024      block13_sepconv2_act[0][0]       \n",
      "__________________________________________________________________________________________________\n",
      "block13_sepconv2_bn (BatchNorma (None, 19, 19, 1024) 4096        block13_sepconv2[0][0]           \n",
      "__________________________________________________________________________________________________\n",
      "conv2d_8 (Conv2D)               (None, 10, 10, 1024) 745472      add_22[0][0]                     \n",
      "__________________________________________________________________________________________________\n",
      "block13_pool (MaxPooling2D)     (None, 10, 10, 1024) 0           block13_sepconv2_bn[0][0]        \n",
      "__________________________________________________________________________________________________\n",
      "batch_normalization_8 (BatchNor (None, 10, 10, 1024) 4096        conv2d_8[0][0]                   \n",
      "__________________________________________________________________________________________________\n",
      "add_23 (Add)                    (None, 10, 10, 1024) 0           block13_pool[0][0]               \n",
      "                                                                 batch_normalization_8[0][0]      \n",
      "__________________________________________________________________________________________________\n",
      "block14_sepconv1 (SeparableConv (None, 10, 10, 1536) 1582080     add_23[0][0]                     \n",
      "__________________________________________________________________________________________________\n",
      "block14_sepconv1_bn (BatchNorma (None, 10, 10, 1536) 6144        block14_sepconv1[0][0]           \n",
      "__________________________________________________________________________________________________\n",
      "block14_sepconv1_act (Activatio (None, 10, 10, 1536) 0           block14_sepconv1_bn[0][0]        \n",
      "__________________________________________________________________________________________________\n",
      "block14_sepconv2 (SeparableConv (None, 10, 10, 2048) 3159552     block14_sepconv1_act[0][0]       \n",
      "__________________________________________________________________________________________________\n",
      "block14_sepconv2_bn (BatchNorma (None, 10, 10, 2048) 8192        block14_sepconv2[0][0]           \n",
      "__________________________________________________________________________________________________\n",
      "block14_sepconv2_act (Activatio (None, 10, 10, 2048) 0           block14_sepconv2_bn[0][0]        \n",
      "__________________________________________________________________________________________________\n",
      "conv2d_9 (Conv2D)               (None, 10, 10, 5)    92165       block14_sepconv2_act[0][0]       \n",
      "__________________________________________________________________________________________________\n",
      "batch_normalization_9 (BatchNor (None, 10, 10, 5)    20          conv2d_9[0][0]                   \n",
      "__________________________________________________________________________________________________\n",
      "activation_1 (Activation)       (None, 10, 10, 5)    0           batch_normalization_9[0][0]      \n",
      "__________________________________________________________________________________________________\n",
      "global_average_pooling2d_1 (Glo (None, 5)            0           activation_1[0][0]               \n",
      "__________________________________________________________________________________________________\n",
      "tf.compat.v1.nn.softmax_1 (TFOp (None, 5)            0           global_average_pooling2d_1[0][0] \n",
      "==================================================================================================\n",
      "Total params: 20,953,665\n",
      "Trainable params: 20,899,127\n",
      "Non-trainable params: 54,538\n",
      "__________________________________________________________________________________________________\n"
     ]
    }
   ],
   "source": [
    "xception_model.summary()"
   ]
  },
  {
   "cell_type": "code",
   "execution_count": 46,
   "id": "norman-detector",
   "metadata": {
    "execution": {
     "iopub.execute_input": "2021-05-30T18:40:08.391663Z",
     "iopub.status.busy": "2021-05-30T18:40:08.385701Z",
     "iopub.status.idle": "2021-05-30T18:40:08.398432Z",
     "shell.execute_reply": "2021-05-30T18:40:08.397997Z",
     "shell.execute_reply.started": "2021-05-30T09:28:58.465217Z"
    },
    "id": "norman-detector",
    "papermill": {
     "duration": 0.226948,
     "end_time": "2021-05-30T18:40:08.398547",
     "exception": false,
     "start_time": "2021-05-30T18:40:08.171599",
     "status": "completed"
    },
    "tags": []
   },
   "outputs": [],
   "source": [
    "xception_model.compile(optimizer = tf.keras.optimizers.Adam(learning_rate=0.00001,decay=0.0001),\n",
    "                 metrics=[\"acc\"],\n",
    "                 loss= tf.keras.losses.sparse_categorical_crossentropy)\n",
    "\n",
    "checkpoint_path = \"xception_best.ckpt\"\n",
    "checkpoint_dir = os.path.dirname(checkpoint_path)\n",
    "my_callbacks = [\n",
    "               ModelCheckpoint(\n",
    "                   checkpoint_path,\n",
    "                   monitor = 'val_acc',\n",
    "                   verbose = 1,\n",
    "                   save_weights_only=True,\n",
    "                   save_best_only = True,\n",
    "                   mode=\"max\"\n",
    "               ),\n",
    "               EarlyStopping(\n",
    "                   monitor='val_loss', \n",
    "                   patience=10,\n",
    "                   verbose=0\n",
    "               ),\n",
    "               ReduceLROnPlateau(\n",
    "                   monitor='val_loss', \n",
    "                   patience=10,\n",
    "                   verbose=1)\n",
    "]"
   ]
  },
  {
   "cell_type": "markdown",
   "id": "crucial-administration",
   "metadata": {
    "id": "crucial-administration",
    "papermill": {
     "duration": 0.038495,
     "end_time": "2021-05-30T18:40:08.475329",
     "exception": false,
     "start_time": "2021-05-30T18:40:08.436834",
     "status": "completed"
    },
    "tags": []
   },
   "source": [
    "## 가중치 부여"
   ]
  },
  {
   "cell_type": "code",
   "execution_count": 47,
   "id": "regional-indie",
   "metadata": {
    "execution": {
     "iopub.execute_input": "2021-05-30T18:40:08.558435Z",
     "iopub.status.busy": "2021-05-30T18:40:08.557616Z",
     "iopub.status.idle": "2021-05-30T18:40:09.060821Z",
     "shell.execute_reply": "2021-05-30T18:40:09.060357Z",
     "shell.execute_reply.started": "2021-05-30T09:30:11.007618Z"
    },
    "id": "regional-indie",
    "papermill": {
     "duration": 0.546357,
     "end_time": "2021-05-30T18:40:09.060960",
     "exception": false,
     "start_time": "2021-05-30T18:40:08.514603",
     "status": "completed"
    },
    "tags": []
   },
   "outputs": [],
   "source": [
    "from sklearn.utils import class_weight\n",
    "\n",
    "class_weights = class_weight.compute_class_weight(\n",
    "    'balanced',\n",
    "    classes= np.unique(df_train_kaggle.label.values),\n",
    "    y= df_train_kaggle.label.values\n",
    ")\n",
    "\n",
    "class_weights = dict(enumerate(class_weights))"
   ]
  },
  {
   "cell_type": "markdown",
   "id": "square-better",
   "metadata": {
    "id": "square-better",
    "papermill": {
     "duration": 0.037503,
     "end_time": "2021-05-30T18:40:09.136492",
     "exception": false,
     "start_time": "2021-05-30T18:40:09.098989",
     "status": "completed"
    },
    "tags": []
   },
   "source": [
    "## 학습"
   ]
  },
  {
   "cell_type": "code",
   "execution_count": 92,
   "id": "hidden-stephen",
   "metadata": {
    "colab": {
     "base_uri": "https://localhost:8080/"
    },
    "execution": {
     "iopub.execute_input": "2021-05-30T18:40:09.218272Z",
     "iopub.status.busy": "2021-05-30T18:40:09.217728Z",
     "iopub.status.idle": "2021-05-30T20:12:12.156502Z",
     "shell.execute_reply": "2021-05-30T20:12:12.154537Z",
     "shell.execute_reply.started": "2021-05-26T18:49:57.904339Z"
    },
    "id": "hidden-stephen",
    "outputId": "e45b2b3b-c166-43eb-962b-f6c613220558",
    "papermill": {
     "duration": 5522.981999,
     "end_time": "2021-05-30T20:12:12.156678",
     "exception": false,
     "start_time": "2021-05-30T18:40:09.174679",
     "status": "completed"
    },
    "tags": []
   },
   "outputs": [
    {
     "name": "stdout",
     "output_type": "stream",
     "text": [
      "Epoch 1/300\n",
      "979/979 [==============================] - 107s 105ms/step - loss: 1.5035 - acc: 0.2573 - val_loss: 1.4356 - val_acc: 0.3864\n",
      "\n",
      "Epoch 00001: val_acc improved from -inf to 0.38637, saving model to xception_best.ckpt\n",
      "Epoch 2/300\n",
      "979/979 [==============================] - 102s 104ms/step - loss: 1.3181 - acc: 0.3903 - val_loss: 1.3312 - val_acc: 0.4866\n",
      "\n",
      "Epoch 00002: val_acc improved from 0.38637 to 0.48661, saving model to xception_best.ckpt\n",
      "Epoch 3/300\n",
      "979/979 [==============================] - 101s 104ms/step - loss: 1.2216 - acc: 0.4910 - val_loss: 1.2372 - val_acc: 0.5694\n",
      "\n",
      "Epoch 00003: val_acc improved from 0.48661 to 0.56938, saving model to xception_best.ckpt\n",
      "Epoch 4/300\n",
      "979/979 [==============================] - 101s 103ms/step - loss: 1.1436 - acc: 0.5451 - val_loss: 1.1919 - val_acc: 0.6004\n",
      "\n",
      "Epoch 00004: val_acc improved from 0.56938 to 0.60045, saving model to xception_best.ckpt\n",
      "Epoch 5/300\n",
      "979/979 [==============================] - 101s 103ms/step - loss: 1.0986 - acc: 0.5755 - val_loss: 1.1415 - val_acc: 0.6424\n",
      "\n",
      "Epoch 00005: val_acc improved from 0.60045 to 0.64245, saving model to xception_best.ckpt\n",
      "Epoch 6/300\n",
      "979/979 [==============================] - 101s 104ms/step - loss: 1.0285 - acc: 0.6113 - val_loss: 1.1344 - val_acc: 0.6396\n",
      "\n",
      "Epoch 00006: val_acc did not improve from 0.64245\n",
      "Epoch 7/300\n",
      "979/979 [==============================] - 101s 103ms/step - loss: 1.0010 - acc: 0.6431 - val_loss: 1.0620 - val_acc: 0.7011\n",
      "\n",
      "Epoch 00007: val_acc improved from 0.64245 to 0.70110, saving model to xception_best.ckpt\n",
      "Epoch 8/300\n",
      "979/979 [==============================] - 101s 103ms/step - loss: 0.9706 - acc: 0.6694 - val_loss: 1.0313 - val_acc: 0.7130\n",
      "\n",
      "Epoch 00008: val_acc improved from 0.70110 to 0.71296, saving model to xception_best.ckpt\n",
      "Epoch 9/300\n",
      "979/979 [==============================] - 103s 105ms/step - loss: 0.9318 - acc: 0.7150 - val_loss: 0.9938 - val_acc: 0.7405\n",
      "\n",
      "Epoch 00009: val_acc improved from 0.71296 to 0.74055, saving model to xception_best.ckpt\n",
      "Epoch 10/300\n",
      "979/979 [==============================] - 102s 104ms/step - loss: 0.8849 - acc: 0.7286 - val_loss: 0.9690 - val_acc: 0.7643\n",
      "\n",
      "Epoch 00010: val_acc improved from 0.74055 to 0.76426, saving model to xception_best.ckpt\n",
      "Epoch 11/300\n",
      "979/979 [==============================] - 101s 104ms/step - loss: 0.8651 - acc: 0.7516 - val_loss: 0.9718 - val_acc: 0.7638\n",
      "\n",
      "Epoch 00011: val_acc did not improve from 0.76426\n",
      "Epoch 12/300\n",
      "979/979 [==============================] - 101s 103ms/step - loss: 0.8380 - acc: 0.7757 - val_loss: 0.9455 - val_acc: 0.7766\n",
      "\n",
      "Epoch 00012: val_acc improved from 0.76426 to 0.77662, saving model to xception_best.ckpt\n",
      "Epoch 13/300\n",
      "979/979 [==============================] - 101s 104ms/step - loss: 0.8106 - acc: 0.7906 - val_loss: 0.8966 - val_acc: 0.8087\n",
      "\n",
      "Epoch 00013: val_acc improved from 0.77662 to 0.80871, saving model to xception_best.ckpt\n",
      "Epoch 14/300\n",
      "979/979 [==============================] - 101s 104ms/step - loss: 0.7825 - acc: 0.8082 - val_loss: 0.8879 - val_acc: 0.8126\n",
      "\n",
      "Epoch 00014: val_acc improved from 0.80871 to 0.81259, saving model to xception_best.ckpt\n",
      "Epoch 15/300\n",
      "979/979 [==============================] - 101s 103ms/step - loss: 0.7782 - acc: 0.8112 - val_loss: 0.8815 - val_acc: 0.8208\n",
      "\n",
      "Epoch 00015: val_acc improved from 0.81259 to 0.82076, saving model to xception_best.ckpt\n",
      "Epoch 16/300\n",
      "979/979 [==============================] - 101s 104ms/step - loss: 0.7639 - acc: 0.8223 - val_loss: 0.8649 - val_acc: 0.8281\n",
      "\n",
      "Epoch 00016: val_acc improved from 0.82076 to 0.82812, saving model to xception_best.ckpt\n",
      "Epoch 17/300\n",
      "979/979 [==============================] - 102s 104ms/step - loss: 0.7661 - acc: 0.8202 - val_loss: 0.8528 - val_acc: 0.8354\n",
      "\n",
      "Epoch 00017: val_acc improved from 0.82812 to 0.83538, saving model to xception_best.ckpt\n",
      "Epoch 18/300\n",
      "979/979 [==============================] - 101s 104ms/step - loss: 0.7290 - acc: 0.8471 - val_loss: 0.8382 - val_acc: 0.8430\n",
      "\n",
      "Epoch 00018: val_acc improved from 0.83538 to 0.84304, saving model to xception_best.ckpt\n",
      "Epoch 19/300\n",
      "979/979 [==============================] - 101s 103ms/step - loss: 0.7319 - acc: 0.8512 - val_loss: 0.8445 - val_acc: 0.8393\n",
      "\n",
      "Epoch 00019: val_acc did not improve from 0.84304\n",
      "Epoch 20/300\n",
      "979/979 [==============================] - 101s 103ms/step - loss: 0.7068 - acc: 0.8557 - val_loss: 0.8322 - val_acc: 0.8459\n",
      "\n",
      "Epoch 00020: val_acc improved from 0.84304 to 0.84590, saving model to xception_best.ckpt\n",
      "Epoch 21/300\n",
      "979/979 [==============================] - 101s 103ms/step - loss: 0.7027 - acc: 0.8579 - val_loss: 0.8120 - val_acc: 0.8626\n",
      "\n",
      "Epoch 00021: val_acc improved from 0.84590 to 0.86256, saving model to xception_best.ckpt\n",
      "Epoch 22/300\n",
      "979/979 [==============================] - 101s 104ms/step - loss: 0.6953 - acc: 0.8640 - val_loss: 0.8219 - val_acc: 0.8594\n",
      "\n",
      "Epoch 00022: val_acc did not improve from 0.86256\n",
      "Epoch 23/300\n",
      "979/979 [==============================] - 101s 103ms/step - loss: 0.6931 - acc: 0.8763 - val_loss: 0.8133 - val_acc: 0.8602\n",
      "\n",
      "Epoch 00023: val_acc did not improve from 0.86256\n",
      "Epoch 24/300\n",
      "979/979 [==============================] - 102s 104ms/step - loss: 0.6759 - acc: 0.8786 - val_loss: 0.7917 - val_acc: 0.8706\n",
      "\n",
      "Epoch 00024: val_acc improved from 0.86256 to 0.87063, saving model to xception_best.ckpt\n",
      "Epoch 25/300\n",
      "979/979 [==============================] - 101s 103ms/step - loss: 0.6674 - acc: 0.8844 - val_loss: 0.7831 - val_acc: 0.8667\n",
      "\n",
      "Epoch 00025: val_acc did not improve from 0.87063\n",
      "Epoch 26/300\n",
      "979/979 [==============================] - 101s 103ms/step - loss: 0.6680 - acc: 0.8862 - val_loss: 0.7904 - val_acc: 0.8607\n",
      "\n",
      "Epoch 00026: val_acc did not improve from 0.87063\n",
      "Epoch 27/300\n",
      "979/979 [==============================] - 101s 104ms/step - loss: 0.6645 - acc: 0.8849 - val_loss: 0.7717 - val_acc: 0.8759\n",
      "\n",
      "Epoch 00027: val_acc improved from 0.87063 to 0.87595, saving model to xception_best.ckpt\n",
      "Epoch 28/300\n",
      "979/979 [==============================] - 102s 104ms/step - loss: 0.6500 - acc: 0.8977 - val_loss: 0.7678 - val_acc: 0.8770\n",
      "\n",
      "Epoch 00028: val_acc improved from 0.87595 to 0.87697, saving model to xception_best.ckpt\n",
      "Epoch 29/300\n",
      "979/979 [==============================] - 101s 104ms/step - loss: 0.6362 - acc: 0.8969 - val_loss: 0.7633 - val_acc: 0.8814\n",
      "\n",
      "Epoch 00029: val_acc improved from 0.87697 to 0.88136, saving model to xception_best.ckpt\n",
      "Epoch 30/300\n",
      "979/979 [==============================] - 102s 104ms/step - loss: 0.6397 - acc: 0.8910 - val_loss: 0.7630 - val_acc: 0.8801\n",
      "\n",
      "Epoch 00030: val_acc did not improve from 0.88136\n",
      "Epoch 31/300\n",
      "979/979 [==============================] - 101s 104ms/step - loss: 0.6485 - acc: 0.8927 - val_loss: 0.7532 - val_acc: 0.8813\n",
      "\n",
      "Epoch 00031: val_acc did not improve from 0.88136\n",
      "Epoch 32/300\n",
      "979/979 [==============================] - 102s 104ms/step - loss: 0.6268 - acc: 0.9106 - val_loss: 0.7705 - val_acc: 0.8753\n",
      "\n",
      "Epoch 00032: val_acc did not improve from 0.88136\n",
      "Epoch 33/300\n",
      "979/979 [==============================] - 102s 104ms/step - loss: 0.6142 - acc: 0.9052 - val_loss: 0.7453 - val_acc: 0.8874\n",
      "\n",
      "Epoch 00033: val_acc improved from 0.88136 to 0.88739, saving model to xception_best.ckpt\n",
      "Epoch 34/300\n",
      "979/979 [==============================] - 101s 103ms/step - loss: 0.6260 - acc: 0.9023 - val_loss: 0.7510 - val_acc: 0.8912\n",
      "\n",
      "Epoch 00034: val_acc improved from 0.88739 to 0.89117, saving model to xception_best.ckpt\n",
      "Epoch 35/300\n",
      "979/979 [==============================] - 101s 103ms/step - loss: 0.6212 - acc: 0.9134 - val_loss: 0.7374 - val_acc: 0.8931\n",
      "\n",
      "Epoch 00035: val_acc improved from 0.89117 to 0.89311, saving model to xception_best.ckpt\n",
      "Epoch 36/300\n",
      "979/979 [==============================] - 101s 104ms/step - loss: 0.6124 - acc: 0.9135 - val_loss: 0.7333 - val_acc: 0.8893\n",
      "\n",
      "Epoch 00036: val_acc did not improve from 0.89311\n",
      "Epoch 37/300\n",
      "979/979 [==============================] - 101s 104ms/step - loss: 0.6078 - acc: 0.9240 - val_loss: 0.7377 - val_acc: 0.8924\n",
      "\n",
      "Epoch 00037: val_acc did not improve from 0.89311\n",
      "Epoch 38/300\n",
      "979/979 [==============================] - 101s 104ms/step - loss: 0.6144 - acc: 0.9223 - val_loss: 0.7530 - val_acc: 0.8813\n",
      "\n",
      "Epoch 00038: val_acc did not improve from 0.89311\n",
      "Epoch 39/300\n",
      "979/979 [==============================] - 101s 103ms/step - loss: 0.5959 - acc: 0.9181 - val_loss: 0.7358 - val_acc: 0.8934\n",
      "\n",
      "Epoch 00039: val_acc improved from 0.89311 to 0.89342, saving model to xception_best.ckpt\n",
      "Epoch 40/300\n",
      "979/979 [==============================] - 101s 104ms/step - loss: 0.6013 - acc: 0.9227 - val_loss: 0.7248 - val_acc: 0.8923\n",
      "\n",
      "Epoch 00040: val_acc did not improve from 0.89342\n",
      "Epoch 41/300\n",
      "979/979 [==============================] - 101s 104ms/step - loss: 0.5997 - acc: 0.9137 - val_loss: 0.7222 - val_acc: 0.8960\n",
      "\n",
      "Epoch 00041: val_acc improved from 0.89342 to 0.89597, saving model to xception_best.ckpt\n",
      "Epoch 42/300\n",
      "979/979 [==============================] - 101s 103ms/step - loss: 0.5969 - acc: 0.9319 - val_loss: 0.7416 - val_acc: 0.8883\n",
      "\n",
      "Epoch 00042: val_acc did not improve from 0.89597\n",
      "Epoch 43/300\n",
      "979/979 [==============================] - 101s 104ms/step - loss: 0.5795 - acc: 0.9373 - val_loss: 0.7151 - val_acc: 0.8996\n",
      "\n",
      "Epoch 00043: val_acc improved from 0.89597 to 0.89955, saving model to xception_best.ckpt\n",
      "Epoch 44/300\n",
      "979/979 [==============================] - 101s 103ms/step - loss: 0.5775 - acc: 0.9292 - val_loss: 0.7126 - val_acc: 0.9008\n",
      "\n",
      "Epoch 00044: val_acc improved from 0.89955 to 0.90078, saving model to xception_best.ckpt\n",
      "Epoch 45/300\n",
      "979/979 [==============================] - 102s 104ms/step - loss: 0.5786 - acc: 0.9333 - val_loss: 0.7136 - val_acc: 0.9007\n",
      "\n",
      "Epoch 00045: val_acc did not improve from 0.90078\n",
      "Epoch 46/300\n",
      "979/979 [==============================] - 102s 104ms/step - loss: 0.5790 - acc: 0.9381 - val_loss: 0.7125 - val_acc: 0.9013\n",
      "\n",
      "Epoch 00046: val_acc improved from 0.90078 to 0.90129, saving model to xception_best.ckpt\n",
      "Epoch 47/300\n",
      "979/979 [==============================] - 101s 104ms/step - loss: 0.5628 - acc: 0.9287 - val_loss: 0.7219 - val_acc: 0.8967\n",
      "\n",
      "Epoch 00047: val_acc did not improve from 0.90129\n",
      "Epoch 48/300\n",
      "979/979 [==============================] - 101s 103ms/step - loss: 0.5765 - acc: 0.9357 - val_loss: 0.7129 - val_acc: 0.8965\n",
      "\n",
      "Epoch 00048: val_acc did not improve from 0.90129\n",
      "Epoch 49/300\n",
      "979/979 [==============================] - 101s 103ms/step - loss: 0.5864 - acc: 0.9283 - val_loss: 0.7132 - val_acc: 0.9034\n",
      "\n",
      "Epoch 00049: val_acc improved from 0.90129 to 0.90343, saving model to xception_best.ckpt\n",
      "Epoch 50/300\n",
      "979/979 [==============================] - 101s 104ms/step - loss: 0.5681 - acc: 0.9423 - val_loss: 0.6969 - val_acc: 0.9021\n",
      "\n",
      "Epoch 00050: val_acc did not improve from 0.90343\n",
      "Epoch 51/300\n",
      "979/979 [==============================] - 101s 103ms/step - loss: 0.5701 - acc: 0.9391 - val_loss: 0.7115 - val_acc: 0.8998\n",
      "\n",
      "Epoch 00051: val_acc did not improve from 0.90343\n",
      "Epoch 52/300\n",
      "979/979 [==============================] - 103s 105ms/step - loss: 0.5686 - acc: 0.9428 - val_loss: 0.7121 - val_acc: 0.8992\n",
      "\n",
      "Epoch 00052: val_acc did not improve from 0.90343\n",
      "Epoch 53/300\n",
      "979/979 [==============================] - 103s 106ms/step - loss: 0.5657 - acc: 0.9424 - val_loss: 0.7074 - val_acc: 0.8999\n",
      "\n",
      "Epoch 00053: val_acc did not improve from 0.90343\n",
      "Epoch 54/300\n",
      "979/979 [==============================] - 103s 105ms/step - loss: 0.5626 - acc: 0.9398 - val_loss: 0.7013 - val_acc: 0.9008\n",
      "\n",
      "Epoch 00054: val_acc did not improve from 0.90343\n",
      "Epoch 55/300\n",
      "979/979 [==============================] - 103s 105ms/step - loss: 0.5759 - acc: 0.9372 - val_loss: 0.6975 - val_acc: 0.9018\n",
      "\n",
      "Epoch 00055: val_acc did not improve from 0.90343\n",
      "Epoch 56/300\n",
      "979/979 [==============================] - 103s 105ms/step - loss: 0.5555 - acc: 0.9471 - val_loss: 0.7007 - val_acc: 0.9023\n",
      "\n",
      "Epoch 00056: val_acc did not improve from 0.90343\n",
      "Epoch 57/300\n",
      "979/979 [==============================] - 102s 104ms/step - loss: 0.5531 - acc: 0.9422 - val_loss: 0.6928 - val_acc: 0.9049\n",
      "\n",
      "Epoch 00057: val_acc improved from 0.90343 to 0.90486, saving model to xception_best.ckpt\n",
      "Epoch 58/300\n",
      "979/979 [==============================] - 103s 105ms/step - loss: 0.5471 - acc: 0.9393 - val_loss: 0.6895 - val_acc: 0.9039\n",
      "\n",
      "Epoch 00058: val_acc did not improve from 0.90486\n",
      "Epoch 59/300\n",
      "979/979 [==============================] - 103s 105ms/step - loss: 0.5474 - acc: 0.9416 - val_loss: 0.6835 - val_acc: 0.9038\n",
      "\n",
      "Epoch 00059: val_acc did not improve from 0.90486\n",
      "Epoch 60/300\n",
      "979/979 [==============================] - 103s 105ms/step - loss: 0.5552 - acc: 0.9446 - val_loss: 0.6900 - val_acc: 0.9053\n",
      "\n",
      "Epoch 00060: val_acc improved from 0.90486 to 0.90527, saving model to xception_best.ckpt\n",
      "Epoch 61/300\n",
      "979/979 [==============================] - 101s 103ms/step - loss: 0.5543 - acc: 0.9445 - val_loss: 0.6867 - val_acc: 0.9068\n",
      "\n",
      "Epoch 00061: val_acc improved from 0.90527 to 0.90681, saving model to xception_best.ckpt\n",
      "Epoch 62/300\n",
      "979/979 [==============================] - 100s 103ms/step - loss: 0.5432 - acc: 0.9462 - val_loss: 0.6958 - val_acc: 0.9055\n",
      "\n",
      "Epoch 00062: val_acc did not improve from 0.90681\n",
      "Epoch 63/300\n",
      "979/979 [==============================] - 100s 103ms/step - loss: 0.5430 - acc: 0.9482 - val_loss: 0.6793 - val_acc: 0.9064\n",
      "\n",
      "Epoch 00063: val_acc did not improve from 0.90681\n",
      "Epoch 64/300\n",
      "979/979 [==============================] - 100s 102ms/step - loss: 0.5453 - acc: 0.9449 - val_loss: 0.6946 - val_acc: 0.9024\n",
      "\n",
      "Epoch 00064: val_acc did not improve from 0.90681\n",
      "Epoch 65/300\n",
      "979/979 [==============================] - 100s 103ms/step - loss: 0.5393 - acc: 0.9469 - val_loss: 0.6806 - val_acc: 0.9045\n",
      "\n",
      "Epoch 00065: val_acc did not improve from 0.90681\n",
      "Epoch 66/300\n",
      "979/979 [==============================] - 100s 103ms/step - loss: 0.5411 - acc: 0.9475 - val_loss: 0.6803 - val_acc: 0.9063\n",
      "\n",
      "Epoch 00066: val_acc did not improve from 0.90681\n",
      "Epoch 67/300\n",
      "979/979 [==============================] - 100s 102ms/step - loss: 0.5415 - acc: 0.9504 - val_loss: 0.6841 - val_acc: 0.9087\n",
      "\n",
      "Epoch 00067: val_acc improved from 0.90681 to 0.90875, saving model to xception_best.ckpt\n",
      "Epoch 68/300\n",
      "979/979 [==============================] - 101s 103ms/step - loss: 0.5437 - acc: 0.9510 - val_loss: 0.6780 - val_acc: 0.9054\n",
      "\n",
      "Epoch 00068: val_acc did not improve from 0.90875\n",
      "Epoch 69/300\n",
      "979/979 [==============================] - 100s 103ms/step - loss: 0.5427 - acc: 0.9516 - val_loss: 0.6745 - val_acc: 0.9087\n",
      "\n",
      "Epoch 00069: val_acc did not improve from 0.90875\n",
      "Epoch 70/300\n",
      "979/979 [==============================] - 101s 103ms/step - loss: 0.5377 - acc: 0.9526 - val_loss: 0.6939 - val_acc: 0.9064\n",
      "\n",
      "Epoch 00070: val_acc did not improve from 0.90875\n",
      "Epoch 71/300\n",
      "979/979 [==============================] - 101s 103ms/step - loss: 0.5200 - acc: 0.9529 - val_loss: 0.6756 - val_acc: 0.9073\n",
      "\n",
      "Epoch 00071: val_acc did not improve from 0.90875\n",
      "Epoch 72/300\n",
      "979/979 [==============================] - 102s 104ms/step - loss: 0.5258 - acc: 0.9516 - val_loss: 0.6691 - val_acc: 0.9058\n",
      "\n",
      "Epoch 00072: val_acc did not improve from 0.90875\n",
      "Epoch 73/300\n",
      "979/979 [==============================] - 103s 105ms/step - loss: 0.5393 - acc: 0.9487 - val_loss: 0.6658 - val_acc: 0.9104\n",
      "\n",
      "Epoch 00073: val_acc improved from 0.90875 to 0.91038, saving model to xception_best.ckpt\n",
      "Epoch 74/300\n",
      "979/979 [==============================] - 102s 104ms/step - loss: 0.5446 - acc: 0.9516 - val_loss: 0.6843 - val_acc: 0.9094\n",
      "\n",
      "Epoch 00074: val_acc did not improve from 0.91038\n",
      "Epoch 75/300\n",
      "979/979 [==============================] - 102s 104ms/step - loss: 0.5359 - acc: 0.9494 - val_loss: 0.6782 - val_acc: 0.9077\n",
      "\n",
      "Epoch 00075: val_acc did not improve from 0.91038\n",
      "Epoch 76/300\n",
      "979/979 [==============================] - 102s 104ms/step - loss: 0.5193 - acc: 0.9505 - val_loss: 0.6714 - val_acc: 0.9064\n",
      "\n",
      "Epoch 00076: val_acc did not improve from 0.91038\n",
      "Epoch 77/300\n",
      "979/979 [==============================] - 101s 104ms/step - loss: 0.5218 - acc: 0.9522 - val_loss: 0.6737 - val_acc: 0.9083\n",
      "\n",
      "Epoch 00077: val_acc did not improve from 0.91038\n",
      "Epoch 78/300\n",
      "979/979 [==============================] - 101s 103ms/step - loss: 0.5213 - acc: 0.9529 - val_loss: 0.6621 - val_acc: 0.9098\n",
      "\n",
      "Epoch 00078: val_acc did not improve from 0.91038\n",
      "Epoch 79/300\n",
      "979/979 [==============================] - 102s 104ms/step - loss: 0.5135 - acc: 0.9613 - val_loss: 0.6645 - val_acc: 0.9087\n",
      "\n",
      "Epoch 00079: val_acc did not improve from 0.91038\n",
      "Epoch 80/300\n",
      "979/979 [==============================] - 102s 104ms/step - loss: 0.5264 - acc: 0.9521 - val_loss: 0.6649 - val_acc: 0.9109\n",
      "\n",
      "Epoch 00080: val_acc improved from 0.91038 to 0.91089, saving model to xception_best.ckpt\n",
      "Epoch 81/300\n",
      "979/979 [==============================] - 102s 104ms/step - loss: 0.5169 - acc: 0.9499 - val_loss: 0.6605 - val_acc: 0.9115\n",
      "\n",
      "Epoch 00081: val_acc improved from 0.91089 to 0.91151, saving model to xception_best.ckpt\n",
      "Epoch 82/300\n",
      "979/979 [==============================] - 101s 103ms/step - loss: 0.5216 - acc: 0.9541 - val_loss: 0.6725 - val_acc: 0.9087\n",
      "\n",
      "Epoch 00082: val_acc did not improve from 0.91151\n",
      "Epoch 83/300\n",
      "979/979 [==============================] - 101s 103ms/step - loss: 0.5205 - acc: 0.9511 - val_loss: 0.6642 - val_acc: 0.9104\n",
      "\n",
      "Epoch 00083: val_acc did not improve from 0.91151\n",
      "Epoch 84/300\n",
      "979/979 [==============================] - 101s 104ms/step - loss: 0.5293 - acc: 0.9587 - val_loss: 0.6607 - val_acc: 0.9107\n",
      "\n",
      "Epoch 00084: val_acc did not improve from 0.91151\n",
      "Epoch 85/300\n",
      "979/979 [==============================] - 102s 104ms/step - loss: 0.5217 - acc: 0.9622 - val_loss: 0.6677 - val_acc: 0.9109\n",
      "\n",
      "Epoch 00085: val_acc did not improve from 0.91151\n",
      "Epoch 86/300\n",
      "979/979 [==============================] - 101s 103ms/step - loss: 0.5152 - acc: 0.9585 - val_loss: 0.6611 - val_acc: 0.9130\n",
      "\n",
      "Epoch 00086: val_acc improved from 0.91151 to 0.91304, saving model to xception_best.ckpt\n",
      "Epoch 87/300\n",
      "979/979 [==============================] - 101s 103ms/step - loss: 0.5088 - acc: 0.9641 - val_loss: 0.6513 - val_acc: 0.9121\n",
      "\n",
      "Epoch 00087: val_acc did not improve from 0.91304\n",
      "Epoch 88/300\n",
      "979/979 [==============================] - 102s 104ms/step - loss: 0.5192 - acc: 0.9647 - val_loss: 0.6619 - val_acc: 0.9107\n",
      "\n",
      "Epoch 00088: val_acc did not improve from 0.91304\n",
      "Epoch 89/300\n",
      "979/979 [==============================] - 101s 103ms/step - loss: 0.5009 - acc: 0.9654 - val_loss: 0.6558 - val_acc: 0.9114\n",
      "\n",
      "Epoch 00089: val_acc did not improve from 0.91304\n",
      "Epoch 90/300\n",
      "979/979 [==============================] - 101s 104ms/step - loss: 0.5019 - acc: 0.9626 - val_loss: 0.6571 - val_acc: 0.9112\n",
      "\n",
      "Epoch 00090: val_acc did not improve from 0.91304\n",
      "Epoch 91/300\n",
      "979/979 [==============================] - 101s 104ms/step - loss: 0.5188 - acc: 0.9606 - val_loss: 0.6559 - val_acc: 0.9127\n",
      "\n",
      "Epoch 00091: val_acc did not improve from 0.91304\n",
      "Epoch 92/300\n",
      "979/979 [==============================] - 101s 104ms/step - loss: 0.5203 - acc: 0.9558 - val_loss: 0.6683 - val_acc: 0.9100\n",
      "\n",
      "Epoch 00092: val_acc did not improve from 0.91304\n",
      "Epoch 93/300\n",
      "979/979 [==============================] - 101s 103ms/step - loss: 0.5208 - acc: 0.9669 - val_loss: 0.6577 - val_acc: 0.9121\n",
      "\n",
      "Epoch 00093: val_acc did not improve from 0.91304\n",
      "Epoch 94/300\n",
      "979/979 [==============================] - 101s 104ms/step - loss: 0.5156 - acc: 0.9631 - val_loss: 0.6621 - val_acc: 0.9121\n",
      "\n",
      "Epoch 00094: val_acc did not improve from 0.91304\n",
      "Epoch 95/300\n",
      "979/979 [==============================] - 101s 104ms/step - loss: 0.5050 - acc: 0.9622 - val_loss: 0.6582 - val_acc: 0.9121\n",
      "\n",
      "Epoch 00095: val_acc did not improve from 0.91304\n",
      "Epoch 96/300\n",
      "979/979 [==============================] - 101s 103ms/step - loss: 0.5014 - acc: 0.9702 - val_loss: 0.6510 - val_acc: 0.9114\n",
      "\n",
      "Epoch 00096: val_acc did not improve from 0.91304\n",
      "Epoch 97/300\n",
      "979/979 [==============================] - 101s 104ms/step - loss: 0.5021 - acc: 0.9709 - val_loss: 0.6522 - val_acc: 0.9142\n",
      "\n",
      "Epoch 00097: val_acc improved from 0.91304 to 0.91416, saving model to xception_best.ckpt\n",
      "Epoch 98/300\n",
      "979/979 [==============================] - 101s 103ms/step - loss: 0.5024 - acc: 0.9608 - val_loss: 0.6494 - val_acc: 0.9128\n",
      "\n",
      "Epoch 00098: val_acc did not improve from 0.91416\n",
      "Epoch 99/300\n",
      "979/979 [==============================] - 101s 104ms/step - loss: 0.5083 - acc: 0.9643 - val_loss: 0.6441 - val_acc: 0.9117\n",
      "\n",
      "Epoch 00099: val_acc did not improve from 0.91416\n",
      "Epoch 100/300\n",
      "979/979 [==============================] - 101s 103ms/step - loss: 0.5074 - acc: 0.9599 - val_loss: 0.6493 - val_acc: 0.9123\n",
      "\n",
      "Epoch 00100: val_acc did not improve from 0.91416\n",
      "Epoch 101/300\n",
      "979/979 [==============================] - 101s 104ms/step - loss: 0.5053 - acc: 0.9612 - val_loss: 0.6522 - val_acc: 0.9105\n",
      "\n",
      "Epoch 00101: val_acc did not improve from 0.91416\n",
      "Epoch 102/300\n",
      "979/979 [==============================] - 102s 104ms/step - loss: 0.5005 - acc: 0.9655 - val_loss: 0.6438 - val_acc: 0.9132\n",
      "\n",
      "Epoch 00102: val_acc did not improve from 0.91416\n",
      "Epoch 103/300\n",
      "979/979 [==============================] - 101s 103ms/step - loss: 0.4916 - acc: 0.9734 - val_loss: 0.6561 - val_acc: 0.9116\n",
      "\n",
      "Epoch 00103: val_acc did not improve from 0.91416\n",
      "Epoch 104/300\n",
      "979/979 [==============================] - 102s 104ms/step - loss: 0.5103 - acc: 0.9646 - val_loss: 0.6532 - val_acc: 0.9116\n",
      "\n",
      "Epoch 00104: val_acc did not improve from 0.91416\n",
      "Epoch 105/300\n",
      "979/979 [==============================] - 101s 103ms/step - loss: 0.5074 - acc: 0.9655 - val_loss: 0.6542 - val_acc: 0.9124\n",
      "\n",
      "Epoch 00105: val_acc did not improve from 0.91416\n",
      "Epoch 106/300\n",
      "979/979 [==============================] - 101s 104ms/step - loss: 0.5072 - acc: 0.9662 - val_loss: 0.6481 - val_acc: 0.9120\n",
      "\n",
      "Epoch 00106: val_acc did not improve from 0.91416\n",
      "Epoch 107/300\n",
      "979/979 [==============================] - 102s 104ms/step - loss: 0.4969 - acc: 0.9696 - val_loss: 0.6384 - val_acc: 0.9126\n",
      "\n",
      "Epoch 00107: val_acc did not improve from 0.91416\n",
      "Epoch 108/300\n",
      "979/979 [==============================] - 101s 104ms/step - loss: 0.4903 - acc: 0.9655 - val_loss: 0.6390 - val_acc: 0.9133\n",
      "\n",
      "Epoch 00108: val_acc did not improve from 0.91416\n",
      "Epoch 109/300\n",
      "979/979 [==============================] - 101s 104ms/step - loss: 0.4962 - acc: 0.9691 - val_loss: 0.6466 - val_acc: 0.9105\n",
      "\n",
      "Epoch 00109: val_acc did not improve from 0.91416\n",
      "Epoch 110/300\n",
      "979/979 [==============================] - 101s 103ms/step - loss: 0.5295 - acc: 0.9639 - val_loss: 0.6492 - val_acc: 0.9129\n",
      "\n",
      "Epoch 00110: val_acc did not improve from 0.91416\n",
      "Epoch 111/300\n",
      "979/979 [==============================] - 101s 103ms/step - loss: 0.4974 - acc: 0.9686 - val_loss: 0.6442 - val_acc: 0.9117\n",
      "\n",
      "Epoch 00111: val_acc did not improve from 0.91416\n",
      "Epoch 112/300\n",
      "979/979 [==============================] - 101s 104ms/step - loss: 0.4907 - acc: 0.9655 - val_loss: 0.6323 - val_acc: 0.9119\n",
      "\n",
      "Epoch 00112: val_acc did not improve from 0.91416\n",
      "Epoch 113/300\n",
      "979/979 [==============================] - 102s 104ms/step - loss: 0.5043 - acc: 0.9676 - val_loss: 0.6282 - val_acc: 0.9140\n",
      "\n",
      "Epoch 00113: val_acc did not improve from 0.91416\n",
      "Epoch 114/300\n",
      "979/979 [==============================] - 101s 103ms/step - loss: 0.4966 - acc: 0.9719 - val_loss: 0.6348 - val_acc: 0.9128\n",
      "\n",
      "Epoch 00114: val_acc did not improve from 0.91416\n",
      "Epoch 115/300\n",
      "979/979 [==============================] - 101s 103ms/step - loss: 0.4857 - acc: 0.9761 - val_loss: 0.6224 - val_acc: 0.9142\n",
      "\n",
      "Epoch 00115: val_acc did not improve from 0.91416\n",
      "Epoch 116/300\n",
      "979/979 [==============================] - 102s 104ms/step - loss: 0.5033 - acc: 0.9722 - val_loss: 0.6282 - val_acc: 0.9127\n",
      "\n",
      "Epoch 00116: val_acc did not improve from 0.91416\n",
      "Epoch 117/300\n",
      "979/979 [==============================] - 101s 103ms/step - loss: 0.4942 - acc: 0.9713 - val_loss: 0.6393 - val_acc: 0.9139\n",
      "\n",
      "Epoch 00117: val_acc did not improve from 0.91416\n",
      "Epoch 118/300\n",
      "979/979 [==============================] - 101s 104ms/step - loss: 0.5033 - acc: 0.9676 - val_loss: 0.6404 - val_acc: 0.9114\n",
      "\n",
      "Epoch 00118: val_acc did not improve from 0.91416\n",
      "Epoch 119/300\n",
      "979/979 [==============================] - 101s 104ms/step - loss: 0.4870 - acc: 0.9712 - val_loss: 0.6360 - val_acc: 0.9115\n",
      "\n",
      "Epoch 00119: val_acc did not improve from 0.91416\n",
      "Epoch 120/300\n",
      "979/979 [==============================] - 101s 104ms/step - loss: 0.4875 - acc: 0.9723 - val_loss: 0.6316 - val_acc: 0.9137\n",
      "\n",
      "Epoch 00120: val_acc did not improve from 0.91416\n",
      "Epoch 121/300\n",
      "979/979 [==============================] - 101s 104ms/step - loss: 0.4827 - acc: 0.9777 - val_loss: 0.6313 - val_acc: 0.9139\n",
      "\n",
      "Epoch 00121: val_acc did not improve from 0.91416\n",
      "Epoch 122/300\n",
      "979/979 [==============================] - 101s 104ms/step - loss: 0.4862 - acc: 0.9709 - val_loss: 0.6252 - val_acc: 0.9116\n",
      "\n",
      "Epoch 00122: val_acc did not improve from 0.91416\n",
      "Epoch 123/300\n",
      "979/979 [==============================] - 101s 103ms/step - loss: 0.4951 - acc: 0.9715 - val_loss: 0.6334 - val_acc: 0.9120\n",
      "\n",
      "Epoch 00123: val_acc did not improve from 0.91416\n",
      "Epoch 124/300\n",
      "979/979 [==============================] - 101s 104ms/step - loss: 0.4896 - acc: 0.9742 - val_loss: 0.6377 - val_acc: 0.9137\n",
      "\n",
      "Epoch 00124: val_acc did not improve from 0.91416\n",
      "Epoch 125/300\n",
      "979/979 [==============================] - 101s 104ms/step - loss: 0.4834 - acc: 0.9777 - val_loss: 0.6317 - val_acc: 0.9147\n",
      "\n",
      "Epoch 00125: val_acc improved from 0.91416 to 0.91467, saving model to xception_best.ckpt\n",
      "\n",
      "Epoch 00125: ReduceLROnPlateau reducing learning rate to 9.999999747378752e-07.\n"
     ]
    },
    {
     "data": {
      "text/plain": "<tensorflow.python.training.tracking.util.CheckpointLoadStatus at 0x7f0bf43aee48>"
     },
     "execution_count": 48,
     "metadata": {},
     "output_type": "execute_result"
    },
    {
     "name": "stdout",
     "output_type": "stream",
     "text": [
      "955/979 [============================>.] - ETA: 2s - loss: 0.7690 - acc: 0.8237"
     ]
    },
    {
     "ename": "KeyboardInterrupt",
     "evalue": "",
     "output_type": "error",
     "traceback": [
      "\u001B[0;31m---------------------------------------------------------------------------\u001B[0m",
      "\u001B[0;31mKeyboardInterrupt\u001B[0m                         Traceback (most recent call last)",
      "\u001B[0;32m<ipython-input-92-4208c66764d5>\u001B[0m in \u001B[0;36m<module>\u001B[0;34m\u001B[0m\n\u001B[1;32m      4\u001B[0m         \u001B[0mvalidation_data\u001B[0m \u001B[0;34m=\u001B[0m \u001B[0mtrain_generator\u001B[0m\u001B[0;34m,\u001B[0m\u001B[0;34m\u001B[0m\u001B[0;34m\u001B[0m\u001B[0m\n\u001B[1;32m      5\u001B[0m         \u001B[0mcallbacks\u001B[0m \u001B[0;34m=\u001B[0m \u001B[0;34m[\u001B[0m\u001B[0mmy_callbacks\u001B[0m\u001B[0;34m]\u001B[0m\u001B[0;34m,\u001B[0m\u001B[0;34m\u001B[0m\u001B[0;34m\u001B[0m\u001B[0m\n\u001B[0;32m----> 6\u001B[0;31m         \u001B[0mclass_weight\u001B[0m \u001B[0;34m=\u001B[0m \u001B[0mclass_weights\u001B[0m\u001B[0;34m\u001B[0m\u001B[0;34m\u001B[0m\u001B[0m\n\u001B[0m\u001B[1;32m      7\u001B[0m )\n\u001B[1;32m      8\u001B[0m \u001B[0;34m\u001B[0m\u001B[0m\n",
      "\u001B[0;32m/usr/local/lib/python3.6/dist-packages/tensorflow/python/keras/engine/training.py\u001B[0m in \u001B[0;36mfit\u001B[0;34m(self, x, y, batch_size, epochs, verbose, callbacks, validation_split, validation_data, shuffle, class_weight, sample_weight, initial_epoch, steps_per_epoch, validation_steps, validation_batch_size, validation_freq, max_queue_size, workers, use_multiprocessing)\u001B[0m\n\u001B[1;32m   1103\u001B[0m               \u001B[0mlogs\u001B[0m \u001B[0;34m=\u001B[0m \u001B[0mtmp_logs\u001B[0m  \u001B[0;31m# No error, now safe to assign to logs.\u001B[0m\u001B[0;34m\u001B[0m\u001B[0;34m\u001B[0m\u001B[0m\n\u001B[1;32m   1104\u001B[0m               \u001B[0mend_step\u001B[0m \u001B[0;34m=\u001B[0m \u001B[0mstep\u001B[0m \u001B[0;34m+\u001B[0m \u001B[0mdata_handler\u001B[0m\u001B[0;34m.\u001B[0m\u001B[0mstep_increment\u001B[0m\u001B[0;34m\u001B[0m\u001B[0;34m\u001B[0m\u001B[0m\n\u001B[0;32m-> 1105\u001B[0;31m               \u001B[0mcallbacks\u001B[0m\u001B[0;34m.\u001B[0m\u001B[0mon_train_batch_end\u001B[0m\u001B[0;34m(\u001B[0m\u001B[0mend_step\u001B[0m\u001B[0;34m,\u001B[0m \u001B[0mlogs\u001B[0m\u001B[0;34m)\u001B[0m\u001B[0;34m\u001B[0m\u001B[0;34m\u001B[0m\u001B[0m\n\u001B[0m\u001B[1;32m   1106\u001B[0m               \u001B[0;32mif\u001B[0m \u001B[0mself\u001B[0m\u001B[0;34m.\u001B[0m\u001B[0mstop_training\u001B[0m\u001B[0;34m:\u001B[0m\u001B[0;34m\u001B[0m\u001B[0;34m\u001B[0m\u001B[0m\n\u001B[1;32m   1107\u001B[0m                 \u001B[0;32mbreak\u001B[0m\u001B[0;34m\u001B[0m\u001B[0;34m\u001B[0m\u001B[0m\n",
      "\u001B[0;32m/usr/local/lib/python3.6/dist-packages/tensorflow/python/keras/callbacks.py\u001B[0m in \u001B[0;36mon_train_batch_end\u001B[0;34m(self, batch, logs)\u001B[0m\n\u001B[1;32m    452\u001B[0m     \"\"\"\n\u001B[1;32m    453\u001B[0m     \u001B[0;32mif\u001B[0m \u001B[0mself\u001B[0m\u001B[0;34m.\u001B[0m\u001B[0m_should_call_train_batch_hooks\u001B[0m\u001B[0;34m:\u001B[0m\u001B[0;34m\u001B[0m\u001B[0;34m\u001B[0m\u001B[0m\n\u001B[0;32m--> 454\u001B[0;31m       \u001B[0mself\u001B[0m\u001B[0;34m.\u001B[0m\u001B[0m_call_batch_hook\u001B[0m\u001B[0;34m(\u001B[0m\u001B[0mModeKeys\u001B[0m\u001B[0;34m.\u001B[0m\u001B[0mTRAIN\u001B[0m\u001B[0;34m,\u001B[0m \u001B[0;34m'end'\u001B[0m\u001B[0;34m,\u001B[0m \u001B[0mbatch\u001B[0m\u001B[0;34m,\u001B[0m \u001B[0mlogs\u001B[0m\u001B[0;34m=\u001B[0m\u001B[0mlogs\u001B[0m\u001B[0;34m)\u001B[0m\u001B[0;34m\u001B[0m\u001B[0;34m\u001B[0m\u001B[0m\n\u001B[0m\u001B[1;32m    455\u001B[0m \u001B[0;34m\u001B[0m\u001B[0m\n\u001B[1;32m    456\u001B[0m   \u001B[0;32mdef\u001B[0m \u001B[0mon_test_batch_begin\u001B[0m\u001B[0;34m(\u001B[0m\u001B[0mself\u001B[0m\u001B[0;34m,\u001B[0m \u001B[0mbatch\u001B[0m\u001B[0;34m,\u001B[0m \u001B[0mlogs\u001B[0m\u001B[0;34m=\u001B[0m\u001B[0;32mNone\u001B[0m\u001B[0;34m)\u001B[0m\u001B[0;34m:\u001B[0m\u001B[0;34m\u001B[0m\u001B[0;34m\u001B[0m\u001B[0m\n",
      "\u001B[0;32m/usr/local/lib/python3.6/dist-packages/tensorflow/python/keras/callbacks.py\u001B[0m in \u001B[0;36m_call_batch_hook\u001B[0;34m(self, mode, hook, batch, logs)\u001B[0m\n\u001B[1;32m    294\u001B[0m       \u001B[0mself\u001B[0m\u001B[0;34m.\u001B[0m\u001B[0m_call_batch_begin_hook\u001B[0m\u001B[0;34m(\u001B[0m\u001B[0mmode\u001B[0m\u001B[0;34m,\u001B[0m \u001B[0mbatch\u001B[0m\u001B[0;34m,\u001B[0m \u001B[0mlogs\u001B[0m\u001B[0;34m)\u001B[0m\u001B[0;34m\u001B[0m\u001B[0;34m\u001B[0m\u001B[0m\n\u001B[1;32m    295\u001B[0m     \u001B[0;32melif\u001B[0m \u001B[0mhook\u001B[0m \u001B[0;34m==\u001B[0m \u001B[0;34m'end'\u001B[0m\u001B[0;34m:\u001B[0m\u001B[0;34m\u001B[0m\u001B[0;34m\u001B[0m\u001B[0m\n\u001B[0;32m--> 296\u001B[0;31m       \u001B[0mself\u001B[0m\u001B[0;34m.\u001B[0m\u001B[0m_call_batch_end_hook\u001B[0m\u001B[0;34m(\u001B[0m\u001B[0mmode\u001B[0m\u001B[0;34m,\u001B[0m \u001B[0mbatch\u001B[0m\u001B[0;34m,\u001B[0m \u001B[0mlogs\u001B[0m\u001B[0;34m)\u001B[0m\u001B[0;34m\u001B[0m\u001B[0;34m\u001B[0m\u001B[0m\n\u001B[0m\u001B[1;32m    297\u001B[0m     \u001B[0;32melse\u001B[0m\u001B[0;34m:\u001B[0m\u001B[0;34m\u001B[0m\u001B[0;34m\u001B[0m\u001B[0m\n\u001B[1;32m    298\u001B[0m       \u001B[0;32mraise\u001B[0m \u001B[0mValueError\u001B[0m\u001B[0;34m(\u001B[0m\u001B[0;34m'Unrecognized hook: {}'\u001B[0m\u001B[0;34m.\u001B[0m\u001B[0mformat\u001B[0m\u001B[0;34m(\u001B[0m\u001B[0mhook\u001B[0m\u001B[0;34m)\u001B[0m\u001B[0;34m)\u001B[0m\u001B[0;34m\u001B[0m\u001B[0;34m\u001B[0m\u001B[0m\n",
      "\u001B[0;32m/usr/local/lib/python3.6/dist-packages/tensorflow/python/keras/callbacks.py\u001B[0m in \u001B[0;36m_call_batch_end_hook\u001B[0;34m(self, mode, batch, logs)\u001B[0m\n\u001B[1;32m    314\u001B[0m       \u001B[0mself\u001B[0m\u001B[0;34m.\u001B[0m\u001B[0m_batch_times\u001B[0m\u001B[0;34m.\u001B[0m\u001B[0mappend\u001B[0m\u001B[0;34m(\u001B[0m\u001B[0mbatch_time\u001B[0m\u001B[0;34m)\u001B[0m\u001B[0;34m\u001B[0m\u001B[0;34m\u001B[0m\u001B[0m\n\u001B[1;32m    315\u001B[0m \u001B[0;34m\u001B[0m\u001B[0m\n\u001B[0;32m--> 316\u001B[0;31m     \u001B[0mself\u001B[0m\u001B[0;34m.\u001B[0m\u001B[0m_call_batch_hook_helper\u001B[0m\u001B[0;34m(\u001B[0m\u001B[0mhook_name\u001B[0m\u001B[0;34m,\u001B[0m \u001B[0mbatch\u001B[0m\u001B[0;34m,\u001B[0m \u001B[0mlogs\u001B[0m\u001B[0;34m)\u001B[0m\u001B[0;34m\u001B[0m\u001B[0;34m\u001B[0m\u001B[0m\n\u001B[0m\u001B[1;32m    317\u001B[0m \u001B[0;34m\u001B[0m\u001B[0m\n\u001B[1;32m    318\u001B[0m     \u001B[0;32mif\u001B[0m \u001B[0mlen\u001B[0m\u001B[0;34m(\u001B[0m\u001B[0mself\u001B[0m\u001B[0;34m.\u001B[0m\u001B[0m_batch_times\u001B[0m\u001B[0;34m)\u001B[0m \u001B[0;34m>=\u001B[0m \u001B[0mself\u001B[0m\u001B[0;34m.\u001B[0m\u001B[0m_num_batches_for_timing_check\u001B[0m\u001B[0;34m:\u001B[0m\u001B[0;34m\u001B[0m\u001B[0;34m\u001B[0m\u001B[0m\n",
      "\u001B[0;32m/usr/local/lib/python3.6/dist-packages/tensorflow/python/keras/callbacks.py\u001B[0m in \u001B[0;36m_call_batch_hook_helper\u001B[0;34m(self, hook_name, batch, logs)\u001B[0m\n\u001B[1;32m    354\u001B[0m       \u001B[0mhook\u001B[0m \u001B[0;34m=\u001B[0m \u001B[0mgetattr\u001B[0m\u001B[0;34m(\u001B[0m\u001B[0mcallback\u001B[0m\u001B[0;34m,\u001B[0m \u001B[0mhook_name\u001B[0m\u001B[0;34m)\u001B[0m\u001B[0;34m\u001B[0m\u001B[0;34m\u001B[0m\u001B[0m\n\u001B[1;32m    355\u001B[0m       \u001B[0;32mif\u001B[0m \u001B[0mgetattr\u001B[0m\u001B[0;34m(\u001B[0m\u001B[0mcallback\u001B[0m\u001B[0;34m,\u001B[0m \u001B[0;34m'_supports_tf_logs'\u001B[0m\u001B[0;34m,\u001B[0m \u001B[0;32mFalse\u001B[0m\u001B[0;34m)\u001B[0m\u001B[0;34m:\u001B[0m\u001B[0;34m\u001B[0m\u001B[0;34m\u001B[0m\u001B[0m\n\u001B[0;32m--> 356\u001B[0;31m         \u001B[0mhook\u001B[0m\u001B[0;34m(\u001B[0m\u001B[0mbatch\u001B[0m\u001B[0;34m,\u001B[0m \u001B[0mlogs\u001B[0m\u001B[0;34m)\u001B[0m\u001B[0;34m\u001B[0m\u001B[0;34m\u001B[0m\u001B[0m\n\u001B[0m\u001B[1;32m    357\u001B[0m       \u001B[0;32melse\u001B[0m\u001B[0;34m:\u001B[0m\u001B[0;34m\u001B[0m\u001B[0;34m\u001B[0m\u001B[0m\n\u001B[1;32m    358\u001B[0m         \u001B[0;32mif\u001B[0m \u001B[0mnumpy_logs\u001B[0m \u001B[0;32mis\u001B[0m \u001B[0;32mNone\u001B[0m\u001B[0;34m:\u001B[0m  \u001B[0;31m# Only convert once.\u001B[0m\u001B[0;34m\u001B[0m\u001B[0;34m\u001B[0m\u001B[0m\n",
      "\u001B[0;32m/usr/local/lib/python3.6/dist-packages/tensorflow/python/keras/callbacks.py\u001B[0m in \u001B[0;36mon_train_batch_end\u001B[0;34m(self, batch, logs)\u001B[0m\n\u001B[1;32m   1018\u001B[0m \u001B[0;34m\u001B[0m\u001B[0m\n\u001B[1;32m   1019\u001B[0m   \u001B[0;32mdef\u001B[0m \u001B[0mon_train_batch_end\u001B[0m\u001B[0;34m(\u001B[0m\u001B[0mself\u001B[0m\u001B[0;34m,\u001B[0m \u001B[0mbatch\u001B[0m\u001B[0;34m,\u001B[0m \u001B[0mlogs\u001B[0m\u001B[0;34m=\u001B[0m\u001B[0;32mNone\u001B[0m\u001B[0;34m)\u001B[0m\u001B[0;34m:\u001B[0m\u001B[0;34m\u001B[0m\u001B[0;34m\u001B[0m\u001B[0m\n\u001B[0;32m-> 1020\u001B[0;31m     \u001B[0mself\u001B[0m\u001B[0;34m.\u001B[0m\u001B[0m_batch_update_progbar\u001B[0m\u001B[0;34m(\u001B[0m\u001B[0mbatch\u001B[0m\u001B[0;34m,\u001B[0m \u001B[0mlogs\u001B[0m\u001B[0;34m)\u001B[0m\u001B[0;34m\u001B[0m\u001B[0;34m\u001B[0m\u001B[0m\n\u001B[0m\u001B[1;32m   1021\u001B[0m \u001B[0;34m\u001B[0m\u001B[0m\n\u001B[1;32m   1022\u001B[0m   \u001B[0;32mdef\u001B[0m \u001B[0mon_test_batch_end\u001B[0m\u001B[0;34m(\u001B[0m\u001B[0mself\u001B[0m\u001B[0;34m,\u001B[0m \u001B[0mbatch\u001B[0m\u001B[0;34m,\u001B[0m \u001B[0mlogs\u001B[0m\u001B[0;34m=\u001B[0m\u001B[0;32mNone\u001B[0m\u001B[0;34m)\u001B[0m\u001B[0;34m:\u001B[0m\u001B[0;34m\u001B[0m\u001B[0;34m\u001B[0m\u001B[0m\n",
      "\u001B[0;32m/usr/local/lib/python3.6/dist-packages/tensorflow/python/keras/callbacks.py\u001B[0m in \u001B[0;36m_batch_update_progbar\u001B[0;34m(self, batch, logs)\u001B[0m\n\u001B[1;32m   1082\u001B[0m     \u001B[0;32mif\u001B[0m \u001B[0mself\u001B[0m\u001B[0;34m.\u001B[0m\u001B[0mverbose\u001B[0m \u001B[0;34m==\u001B[0m \u001B[0;36m1\u001B[0m\u001B[0;34m:\u001B[0m\u001B[0;34m\u001B[0m\u001B[0;34m\u001B[0m\u001B[0m\n\u001B[1;32m   1083\u001B[0m       \u001B[0;31m# Only block async when verbose = 1.\u001B[0m\u001B[0;34m\u001B[0m\u001B[0;34m\u001B[0m\u001B[0;34m\u001B[0m\u001B[0m\n\u001B[0;32m-> 1084\u001B[0;31m       \u001B[0mlogs\u001B[0m \u001B[0;34m=\u001B[0m \u001B[0mtf_utils\u001B[0m\u001B[0;34m.\u001B[0m\u001B[0mto_numpy_or_python_type\u001B[0m\u001B[0;34m(\u001B[0m\u001B[0mlogs\u001B[0m\u001B[0;34m)\u001B[0m\u001B[0;34m\u001B[0m\u001B[0;34m\u001B[0m\u001B[0m\n\u001B[0m\u001B[1;32m   1085\u001B[0m       \u001B[0mself\u001B[0m\u001B[0;34m.\u001B[0m\u001B[0mprogbar\u001B[0m\u001B[0;34m.\u001B[0m\u001B[0mupdate\u001B[0m\u001B[0;34m(\u001B[0m\u001B[0mself\u001B[0m\u001B[0;34m.\u001B[0m\u001B[0mseen\u001B[0m\u001B[0;34m,\u001B[0m \u001B[0mlist\u001B[0m\u001B[0;34m(\u001B[0m\u001B[0mlogs\u001B[0m\u001B[0;34m.\u001B[0m\u001B[0mitems\u001B[0m\u001B[0;34m(\u001B[0m\u001B[0;34m)\u001B[0m\u001B[0;34m)\u001B[0m\u001B[0;34m,\u001B[0m \u001B[0mfinalize\u001B[0m\u001B[0;34m=\u001B[0m\u001B[0;32mFalse\u001B[0m\u001B[0;34m)\u001B[0m\u001B[0;34m\u001B[0m\u001B[0;34m\u001B[0m\u001B[0m\n\u001B[1;32m   1086\u001B[0m \u001B[0;34m\u001B[0m\u001B[0m\n",
      "\u001B[0;32m/usr/local/lib/python3.6/dist-packages/tensorflow/python/keras/utils/tf_utils.py\u001B[0m in \u001B[0;36mto_numpy_or_python_type\u001B[0;34m(tensors)\u001B[0m\n\u001B[1;32m    512\u001B[0m     \u001B[0;32mreturn\u001B[0m \u001B[0mt\u001B[0m  \u001B[0;31m# Don't turn ragged or sparse tensors to NumPy.\u001B[0m\u001B[0;34m\u001B[0m\u001B[0;34m\u001B[0m\u001B[0m\n\u001B[1;32m    513\u001B[0m \u001B[0;34m\u001B[0m\u001B[0m\n\u001B[0;32m--> 514\u001B[0;31m   \u001B[0;32mreturn\u001B[0m \u001B[0mnest\u001B[0m\u001B[0;34m.\u001B[0m\u001B[0mmap_structure\u001B[0m\u001B[0;34m(\u001B[0m\u001B[0m_to_single_numpy_or_python_type\u001B[0m\u001B[0;34m,\u001B[0m \u001B[0mtensors\u001B[0m\u001B[0;34m)\u001B[0m\u001B[0;34m\u001B[0m\u001B[0;34m\u001B[0m\u001B[0m\n\u001B[0m\u001B[1;32m    515\u001B[0m \u001B[0;34m\u001B[0m\u001B[0m\n\u001B[1;32m    516\u001B[0m \u001B[0;34m\u001B[0m\u001B[0m\n",
      "\u001B[0;32m/usr/local/lib/python3.6/dist-packages/tensorflow/python/util/nest.py\u001B[0m in \u001B[0;36mmap_structure\u001B[0;34m(func, *structure, **kwargs)\u001B[0m\n\u001B[1;32m    657\u001B[0m \u001B[0;34m\u001B[0m\u001B[0m\n\u001B[1;32m    658\u001B[0m   return pack_sequence_as(\n\u001B[0;32m--> 659\u001B[0;31m       \u001B[0mstructure\u001B[0m\u001B[0;34m[\u001B[0m\u001B[0;36m0\u001B[0m\u001B[0;34m]\u001B[0m\u001B[0;34m,\u001B[0m \u001B[0;34m[\u001B[0m\u001B[0mfunc\u001B[0m\u001B[0;34m(\u001B[0m\u001B[0;34m*\u001B[0m\u001B[0mx\u001B[0m\u001B[0;34m)\u001B[0m \u001B[0;32mfor\u001B[0m \u001B[0mx\u001B[0m \u001B[0;32min\u001B[0m \u001B[0mentries\u001B[0m\u001B[0;34m]\u001B[0m\u001B[0;34m,\u001B[0m\u001B[0;34m\u001B[0m\u001B[0;34m\u001B[0m\u001B[0m\n\u001B[0m\u001B[1;32m    660\u001B[0m       expand_composites=expand_composites)\n\u001B[1;32m    661\u001B[0m \u001B[0;34m\u001B[0m\u001B[0m\n",
      "\u001B[0;32m/usr/local/lib/python3.6/dist-packages/tensorflow/python/util/nest.py\u001B[0m in \u001B[0;36m<listcomp>\u001B[0;34m(.0)\u001B[0m\n\u001B[1;32m    657\u001B[0m \u001B[0;34m\u001B[0m\u001B[0m\n\u001B[1;32m    658\u001B[0m   return pack_sequence_as(\n\u001B[0;32m--> 659\u001B[0;31m       \u001B[0mstructure\u001B[0m\u001B[0;34m[\u001B[0m\u001B[0;36m0\u001B[0m\u001B[0;34m]\u001B[0m\u001B[0;34m,\u001B[0m \u001B[0;34m[\u001B[0m\u001B[0mfunc\u001B[0m\u001B[0;34m(\u001B[0m\u001B[0;34m*\u001B[0m\u001B[0mx\u001B[0m\u001B[0;34m)\u001B[0m \u001B[0;32mfor\u001B[0m \u001B[0mx\u001B[0m \u001B[0;32min\u001B[0m \u001B[0mentries\u001B[0m\u001B[0;34m]\u001B[0m\u001B[0;34m,\u001B[0m\u001B[0;34m\u001B[0m\u001B[0;34m\u001B[0m\u001B[0m\n\u001B[0m\u001B[1;32m    660\u001B[0m       expand_composites=expand_composites)\n\u001B[1;32m    661\u001B[0m \u001B[0;34m\u001B[0m\u001B[0m\n",
      "\u001B[0;32m/usr/local/lib/python3.6/dist-packages/tensorflow/python/keras/utils/tf_utils.py\u001B[0m in \u001B[0;36m_to_single_numpy_or_python_type\u001B[0;34m(t)\u001B[0m\n\u001B[1;32m    508\u001B[0m   \u001B[0;32mdef\u001B[0m \u001B[0m_to_single_numpy_or_python_type\u001B[0m\u001B[0;34m(\u001B[0m\u001B[0mt\u001B[0m\u001B[0;34m)\u001B[0m\u001B[0;34m:\u001B[0m\u001B[0;34m\u001B[0m\u001B[0;34m\u001B[0m\u001B[0m\n\u001B[1;32m    509\u001B[0m     \u001B[0;32mif\u001B[0m \u001B[0misinstance\u001B[0m\u001B[0;34m(\u001B[0m\u001B[0mt\u001B[0m\u001B[0;34m,\u001B[0m \u001B[0mops\u001B[0m\u001B[0;34m.\u001B[0m\u001B[0mTensor\u001B[0m\u001B[0;34m)\u001B[0m\u001B[0;34m:\u001B[0m\u001B[0;34m\u001B[0m\u001B[0;34m\u001B[0m\u001B[0m\n\u001B[0;32m--> 510\u001B[0;31m       \u001B[0mx\u001B[0m \u001B[0;34m=\u001B[0m \u001B[0mt\u001B[0m\u001B[0;34m.\u001B[0m\u001B[0mnumpy\u001B[0m\u001B[0;34m(\u001B[0m\u001B[0;34m)\u001B[0m\u001B[0;34m\u001B[0m\u001B[0;34m\u001B[0m\u001B[0m\n\u001B[0m\u001B[1;32m    511\u001B[0m       \u001B[0;32mreturn\u001B[0m \u001B[0mx\u001B[0m\u001B[0;34m.\u001B[0m\u001B[0mitem\u001B[0m\u001B[0;34m(\u001B[0m\u001B[0;34m)\u001B[0m \u001B[0;32mif\u001B[0m \u001B[0mnp\u001B[0m\u001B[0;34m.\u001B[0m\u001B[0mndim\u001B[0m\u001B[0;34m(\u001B[0m\u001B[0mx\u001B[0m\u001B[0;34m)\u001B[0m \u001B[0;34m==\u001B[0m \u001B[0;36m0\u001B[0m \u001B[0;32melse\u001B[0m \u001B[0mx\u001B[0m\u001B[0;34m\u001B[0m\u001B[0;34m\u001B[0m\u001B[0m\n\u001B[1;32m    512\u001B[0m     \u001B[0;32mreturn\u001B[0m \u001B[0mt\u001B[0m  \u001B[0;31m# Don't turn ragged or sparse tensors to NumPy.\u001B[0m\u001B[0;34m\u001B[0m\u001B[0;34m\u001B[0m\u001B[0m\n",
      "\u001B[0;32m/usr/local/lib/python3.6/dist-packages/tensorflow/python/framework/ops.py\u001B[0m in \u001B[0;36mnumpy\u001B[0;34m(self)\u001B[0m\n\u001B[1;32m   1069\u001B[0m     \"\"\"\n\u001B[1;32m   1070\u001B[0m     \u001B[0;31m# TODO(slebedev): Consider avoiding a copy for non-CPU or remote tensors.\u001B[0m\u001B[0;34m\u001B[0m\u001B[0;34m\u001B[0m\u001B[0;34m\u001B[0m\u001B[0m\n\u001B[0;32m-> 1071\u001B[0;31m     \u001B[0mmaybe_arr\u001B[0m \u001B[0;34m=\u001B[0m \u001B[0mself\u001B[0m\u001B[0;34m.\u001B[0m\u001B[0m_numpy\u001B[0m\u001B[0;34m(\u001B[0m\u001B[0;34m)\u001B[0m  \u001B[0;31m# pylint: disable=protected-access\u001B[0m\u001B[0;34m\u001B[0m\u001B[0;34m\u001B[0m\u001B[0m\n\u001B[0m\u001B[1;32m   1072\u001B[0m     \u001B[0;32mreturn\u001B[0m \u001B[0mmaybe_arr\u001B[0m\u001B[0;34m.\u001B[0m\u001B[0mcopy\u001B[0m\u001B[0;34m(\u001B[0m\u001B[0;34m)\u001B[0m \u001B[0;32mif\u001B[0m \u001B[0misinstance\u001B[0m\u001B[0;34m(\u001B[0m\u001B[0mmaybe_arr\u001B[0m\u001B[0;34m,\u001B[0m \u001B[0mnp\u001B[0m\u001B[0;34m.\u001B[0m\u001B[0mndarray\u001B[0m\u001B[0;34m)\u001B[0m \u001B[0;32melse\u001B[0m \u001B[0mmaybe_arr\u001B[0m\u001B[0;34m\u001B[0m\u001B[0;34m\u001B[0m\u001B[0m\n\u001B[1;32m   1073\u001B[0m \u001B[0;34m\u001B[0m\u001B[0m\n",
      "\u001B[0;32m/usr/local/lib/python3.6/dist-packages/tensorflow/python/framework/ops.py\u001B[0m in \u001B[0;36m_numpy\u001B[0;34m(self)\u001B[0m\n\u001B[1;32m   1035\u001B[0m   \u001B[0;32mdef\u001B[0m \u001B[0m_numpy\u001B[0m\u001B[0;34m(\u001B[0m\u001B[0mself\u001B[0m\u001B[0;34m)\u001B[0m\u001B[0;34m:\u001B[0m\u001B[0;34m\u001B[0m\u001B[0;34m\u001B[0m\u001B[0m\n\u001B[1;32m   1036\u001B[0m     \u001B[0;32mtry\u001B[0m\u001B[0;34m:\u001B[0m\u001B[0;34m\u001B[0m\u001B[0;34m\u001B[0m\u001B[0m\n\u001B[0;32m-> 1037\u001B[0;31m       \u001B[0;32mreturn\u001B[0m \u001B[0mself\u001B[0m\u001B[0;34m.\u001B[0m\u001B[0m_numpy_internal\u001B[0m\u001B[0;34m(\u001B[0m\u001B[0;34m)\u001B[0m\u001B[0;34m\u001B[0m\u001B[0;34m\u001B[0m\u001B[0m\n\u001B[0m\u001B[1;32m   1038\u001B[0m     \u001B[0;32mexcept\u001B[0m \u001B[0mcore\u001B[0m\u001B[0;34m.\u001B[0m\u001B[0m_NotOkStatusException\u001B[0m \u001B[0;32mas\u001B[0m \u001B[0me\u001B[0m\u001B[0;34m:\u001B[0m  \u001B[0;31m# pylint: disable=protected-access\u001B[0m\u001B[0;34m\u001B[0m\u001B[0;34m\u001B[0m\u001B[0m\n\u001B[1;32m   1039\u001B[0m       \u001B[0msix\u001B[0m\u001B[0;34m.\u001B[0m\u001B[0mraise_from\u001B[0m\u001B[0;34m(\u001B[0m\u001B[0mcore\u001B[0m\u001B[0;34m.\u001B[0m\u001B[0m_status_to_exception\u001B[0m\u001B[0;34m(\u001B[0m\u001B[0me\u001B[0m\u001B[0;34m.\u001B[0m\u001B[0mcode\u001B[0m\u001B[0;34m,\u001B[0m \u001B[0me\u001B[0m\u001B[0;34m.\u001B[0m\u001B[0mmessage\u001B[0m\u001B[0;34m)\u001B[0m\u001B[0;34m,\u001B[0m \u001B[0;32mNone\u001B[0m\u001B[0;34m)\u001B[0m  \u001B[0;31m# pylint: disable=protected-access\u001B[0m\u001B[0;34m\u001B[0m\u001B[0;34m\u001B[0m\u001B[0m\n",
      "\u001B[0;31mKeyboardInterrupt\u001B[0m: "
     ]
    }
   ],
   "source": [
    "xception_model.fit(\n",
    "        valid_generator,\n",
    "        epochs = 300,\n",
    "        validation_data = train_generator,\n",
    "        callbacks = [my_callbacks],\n",
    "        class_weight = class_weights\n",
    ")\n",
    "\n",
    "xception_model.load_weights(checkpoint_path)"
   ]
  },
  {
   "cell_type": "markdown",
   "id": "pretty-morris",
   "metadata": {
    "id": "pretty-morris",
    "papermill": {
     "duration": 3.201635,
     "end_time": "2021-05-30T20:12:18.344310",
     "exception": false,
     "start_time": "2021-05-30T20:12:15.142675",
     "status": "completed"
    },
    "tags": []
   },
   "source": [
    "## 위의 학습에서 사용하였던 검증 데이터 세트에 대한 추가 학습\n",
    "\n",
    "### 검증 데이터 세트를 학습, 검증 데이터 세트로 재구성하여 추가 학습 진행"
   ]
  },
  {
   "cell_type": "code",
   "execution_count": null,
   "id": "cloudy-idaho",
   "metadata": {
    "execution": {
     "iopub.execute_input": "2021-05-30T20:12:24.238372Z",
     "iopub.status.busy": "2021-05-30T20:12:24.237660Z",
     "iopub.status.idle": "2021-05-30T20:12:24.305208Z",
     "shell.execute_reply": "2021-05-30T20:12:24.305579Z",
     "shell.execute_reply.started": "2021-05-30T09:30:16.948040Z"
    },
    "id": "cloudy-idaho",
    "papermill": {
     "duration": 3.027306,
     "end_time": "2021-05-30T20:12:24.305720",
     "exception": false,
     "start_time": "2021-05-30T20:12:21.278414",
     "status": "completed"
    },
    "tags": []
   },
   "outputs": [],
   "source": [
    "from sklearn.model_selection import train_test_split\n",
    "\n",
    "X_train, X_test = train_test_split(\n",
    "    df_train_kaggle, \n",
    "    test_size=0.1,\n",
    "    random_state=42,\n",
    "    stratify= df_train_kaggle.label\n",
    ")"
   ]
  },
  {
   "cell_type": "code",
   "execution_count": null,
   "id": "nervous-crisis",
   "metadata": {
    "colab": {
     "base_uri": "https://localhost:8080/"
    },
    "execution": {
     "iopub.execute_input": "2021-05-30T20:12:30.429807Z",
     "iopub.status.busy": "2021-05-30T20:12:30.429001Z",
     "iopub.status.idle": "2021-05-30T20:12:30.472297Z",
     "shell.execute_reply": "2021-05-30T20:12:30.471634Z",
     "shell.execute_reply.started": "2021-05-30T09:30:18.098841Z"
    },
    "id": "nervous-crisis",
    "outputId": "4e7db473-44a8-44a1-aead-472c63d3370c",
    "papermill": {
     "duration": 3.239148,
     "end_time": "2021-05-30T20:12:30.472465",
     "exception": false,
     "start_time": "2021-05-30T20:12:27.233317",
     "status": "completed"
    },
    "tags": []
   },
   "outputs": [
    {
     "name": "stdout",
     "output_type": "stream",
     "text": [
      "Found 8807 validated image filenames.\n"
     ]
    }
   ],
   "source": [
    "train_generator = train_aug.flow_from_dataframe(\n",
    "    dataframe = X_train,\n",
    "    x_col = \"filepath\",\n",
    "    y_col = \"label\",\n",
    "    batch_size = 8,\n",
    "    seed = 42,\n",
    "    shuffle = True,\n",
    "    class_mode = \"raw\",\n",
    "    target_size = (224,224)\n",
    ")"
   ]
  },
  {
   "cell_type": "code",
   "execution_count": null,
   "id": "instrumental-indie",
   "metadata": {
    "colab": {
     "base_uri": "https://localhost:8080/"
    },
    "execution": {
     "iopub.execute_input": "2021-05-30T20:12:36.309467Z",
     "iopub.status.busy": "2021-05-30T20:12:36.308631Z",
     "iopub.status.idle": "2021-05-30T20:12:36.318017Z",
     "shell.execute_reply": "2021-05-30T20:12:36.317530Z",
     "shell.execute_reply.started": "2021-05-30T09:30:23.206485Z"
    },
    "id": "instrumental-indie",
    "outputId": "aaa9c990-6529-4f11-8bef-cd7be0713256",
    "papermill": {
     "duration": 2.927421,
     "end_time": "2021-05-30T20:12:36.318129",
     "exception": false,
     "start_time": "2021-05-30T20:12:33.390708",
     "status": "completed"
    },
    "tags": []
   },
   "outputs": [
    {
     "name": "stdout",
     "output_type": "stream",
     "text": [
      "Found 979 validated image filenames.\n"
     ]
    }
   ],
   "source": [
    "valid_generator = valid_aug.flow_from_dataframe( \n",
    "    dataframe=X_test,\n",
    "    x_col = \"filepath\",\n",
    "    y_col = \"label\",\n",
    "    batch_size = 8,\n",
    "    seed = 42,\n",
    "    shuffle = True,\n",
    "    class_mode = \"raw\",\n",
    "    target_size = (224,224)\n",
    ")"
   ]
  },
  {
   "cell_type": "code",
   "execution_count": null,
   "id": "dedicated-chapel",
   "metadata": {
    "execution": {
     "iopub.execute_input": "2021-05-30T20:12:42.897491Z",
     "iopub.status.busy": "2021-05-30T20:12:42.895853Z",
     "iopub.status.idle": "2021-05-30T20:12:42.898202Z",
     "shell.execute_reply": "2021-05-30T20:12:42.898602Z",
     "shell.execute_reply.started": "2021-05-30T09:30:26.966513Z"
    },
    "id": "dedicated-chapel",
    "papermill": {
     "duration": 3.108025,
     "end_time": "2021-05-30T20:12:42.898739",
     "exception": false,
     "start_time": "2021-05-30T20:12:39.790714",
     "status": "completed"
    },
    "tags": []
   },
   "outputs": [],
   "source": [
    "STEP_SIZE_TRAIN = train_generator.n//train_generator.batch_size\n",
    "STEP_SIZE_VALID =valid_generator.n//valid_generator.batch_size"
   ]
  },
  {
   "cell_type": "code",
   "execution_count": null,
   "id": "sized-norfolk",
   "metadata": {
    "colab": {
     "base_uri": "https://localhost:8080/"
    },
    "execution": {
     "iopub.execute_input": "2021-05-30T20:12:48.820785Z",
     "iopub.status.busy": "2021-05-30T20:12:48.819337Z",
     "iopub.status.idle": "2021-05-30T20:25:26.371458Z",
     "shell.execute_reply": "2021-05-30T20:25:26.371941Z",
     "shell.execute_reply.started": "2021-05-30T09:30:36.962285Z"
    },
    "id": "sized-norfolk",
    "outputId": "20071e30-0a6e-43e4-8acc-543ff61f89ec",
    "papermill": {
     "duration": 760.527609,
     "end_time": "2021-05-30T20:25:26.372105",
     "exception": false,
     "start_time": "2021-05-30T20:12:45.844496",
     "status": "completed"
    },
    "tags": []
   },
   "outputs": [
    {
     "name": "stdout",
     "output_type": "stream",
     "text": [
      "Epoch 1/50\n",
      "1100/1100 [==============================] - 95s 84ms/step - loss: 0.7357 - acc: 0.8734 - val_loss: 0.5444 - val_acc: 0.9211\n",
      "\n",
      "Epoch 00001: val_acc improved from 0.91467 to 0.92111, saving model to xception_best.ckpt\n",
      "Epoch 2/50\n",
      "1100/1100 [==============================] - 92s 84ms/step - loss: 0.7217 - acc: 0.8836 - val_loss: 0.5530 - val_acc: 0.9191\n",
      "\n",
      "Epoch 00002: val_acc did not improve from 0.92111\n",
      "Epoch 3/50\n",
      "1100/1100 [==============================] - 92s 83ms/step - loss: 0.7246 - acc: 0.8816 - val_loss: 0.5561 - val_acc: 0.9232\n",
      "\n",
      "Epoch 00003: val_acc improved from 0.92111 to 0.92316, saving model to xception_best.ckpt\n",
      "Epoch 4/50\n",
      "1100/1100 [==============================] - 92s 83ms/step - loss: 0.7085 - acc: 0.8908 - val_loss: 0.5411 - val_acc: 0.9242\n",
      "\n",
      "Epoch 00004: val_acc improved from 0.92316 to 0.92418, saving model to xception_best.ckpt\n",
      "Epoch 5/50\n",
      "1100/1100 [==============================] - 92s 84ms/step - loss: 0.7028 - acc: 0.8912 - val_loss: 0.5417 - val_acc: 0.9252\n",
      "\n",
      "Epoch 00005: val_acc improved from 0.92418 to 0.92520, saving model to xception_best.ckpt\n",
      "Epoch 6/50\n",
      "1100/1100 [==============================] - 92s 83ms/step - loss: 0.7022 - acc: 0.8950 - val_loss: 0.5399 - val_acc: 0.9201\n",
      "\n",
      "Epoch 00006: val_acc did not improve from 0.92520\n",
      "Epoch 7/50\n",
      "1100/1100 [==============================] - 92s 84ms/step - loss: 0.6944 - acc: 0.8989 - val_loss: 0.5491 - val_acc: 0.9242\n",
      "\n",
      "Epoch 00007: val_acc did not improve from 0.92520\n",
      "Epoch 8/50\n",
      "1100/1100 [==============================] - 92s 83ms/step - loss: 0.6903 - acc: 0.9039 - val_loss: 0.5429 - val_acc: 0.9242\n",
      "\n",
      "Epoch 00008: val_acc did not improve from 0.92520\n",
      "Epoch 9/50\n",
      "1100/1100 [==============================] - 92s 84ms/step - loss: 0.6853 - acc: 0.9054 - val_loss: 0.5407 - val_acc: 0.9242\n",
      "\n",
      "Epoch 00009: val_acc did not improve from 0.92520\n",
      "Epoch 10/50\n",
      "1100/1100 [==============================] - 92s 84ms/step - loss: 0.6840 - acc: 0.9066 - val_loss: 0.5290 - val_acc: 0.9303\n",
      "\n",
      "Epoch 00010: val_acc improved from 0.92520 to 0.93033, saving model to xception_best.ckpt\n",
      "Epoch 11/50\n",
      "1100/1100 [==============================] - 92s 84ms/step - loss: 0.6854 - acc: 0.9074 - val_loss: 0.5373 - val_acc: 0.9232\n",
      "\n",
      "Epoch 00011: val_acc did not improve from 0.93033\n",
      "Epoch 12/50\n",
      "1100/1100 [==============================] - 92s 83ms/step - loss: 0.6684 - acc: 0.9118 - val_loss: 0.5562 - val_acc: 0.9242\n",
      "\n",
      "Epoch 00012: val_acc did not improve from 0.93033\n",
      "Epoch 13/50\n",
      "1100/1100 [==============================] - 92s 84ms/step - loss: 0.6659 - acc: 0.9204 - val_loss: 0.5409 - val_acc: 0.9262\n",
      "\n",
      "Epoch 00013: val_acc did not improve from 0.93033\n",
      "Epoch 14/50\n",
      "1100/1100 [==============================] - 92s 83ms/step - loss: 0.6626 - acc: 0.9195 - val_loss: 0.5417 - val_acc: 0.9283\n",
      "\n",
      "Epoch 00014: val_acc did not improve from 0.93033\n",
      "Epoch 15/50\n",
      "1100/1100 [==============================] - 92s 83ms/step - loss: 0.6715 - acc: 0.9179 - val_loss: 0.5403 - val_acc: 0.9262\n",
      "\n",
      "Epoch 00015: val_acc did not improve from 0.93033\n",
      "Epoch 16/50\n",
      "1100/1100 [==============================] - 92s 83ms/step - loss: 0.6613 - acc: 0.9233 - val_loss: 0.5534 - val_acc: 0.9252\n",
      "\n",
      "Epoch 00016: val_acc did not improve from 0.93033\n",
      "Epoch 17/50\n",
      "1100/1100 [==============================] - 92s 84ms/step - loss: 0.6576 - acc: 0.9252 - val_loss: 0.5464 - val_acc: 0.9262\n",
      "\n",
      "Epoch 00017: val_acc did not improve from 0.93033\n",
      "Epoch 18/50\n",
      "1100/1100 [==============================] - 92s 84ms/step - loss: 0.6376 - acc: 0.9345 - val_loss: 0.5437 - val_acc: 0.9262\n",
      "\n",
      "Epoch 00018: val_acc did not improve from 0.93033\n",
      "Epoch 19/50\n",
      "1100/1100 [==============================] - 92s 84ms/step - loss: 0.6463 - acc: 0.9291 - val_loss: 0.5428 - val_acc: 0.9273\n",
      "\n",
      "Epoch 00019: val_acc did not improve from 0.93033\n",
      "Epoch 20/50\n",
      "1100/1100 [==============================] - 92s 83ms/step - loss: 0.6534 - acc: 0.9298 - val_loss: 0.5503 - val_acc: 0.9262\n",
      "\n",
      "Epoch 00020: val_acc did not improve from 0.93033\n",
      "\n",
      "Epoch 00020: ReduceLROnPlateau reducing learning rate to 9.999999747378752e-07.\n"
     ]
    },
    {
     "data": {
      "text/plain": "<tensorflow.python.keras.callbacks.History at 0x7f0bf41fbe48>"
     },
     "execution_count": 54,
     "metadata": {},
     "output_type": "execute_result"
    }
   ],
   "source": [
    "xception_model.fit(\n",
    "    train_generator,\n",
    "    steps_per_epoch=STEP_SIZE_TRAIN,\n",
    "    epochs=50,\n",
    "    validation_data=valid_generator,\n",
    "    validation_steps=STEP_SIZE_VALID,callbacks=[my_callbacks]\n",
    ")"
   ]
  },
  {
   "cell_type": "code",
   "execution_count": null,
   "id": "complete-spelling",
   "metadata": {
    "colab": {
     "base_uri": "https://localhost:8080/"
    },
    "execution": {
     "iopub.execute_input": "2021-05-30T20:25:33.497837Z",
     "iopub.status.busy": "2021-05-30T20:25:33.496999Z",
     "iopub.status.idle": "2021-05-30T20:25:34.695800Z",
     "shell.execute_reply": "2021-05-30T20:25:34.695365Z",
     "shell.execute_reply.started": "2021-05-24T16:41:06.725854Z"
    },
    "id": "complete-spelling",
    "outputId": "7f0049d7-bedf-4255-c346-481788903f41",
    "papermill": {
     "duration": 4.566888,
     "end_time": "2021-05-30T20:25:34.695951",
     "exception": false,
     "start_time": "2021-05-30T20:25:30.129063",
     "status": "completed"
    },
    "tags": []
   },
   "outputs": [
    {
     "data": {
      "text/plain": "<tensorflow.python.training.tracking.util.CheckpointLoadStatus at 0x7f0bc8334780>"
     },
     "execution_count": 55,
     "metadata": {},
     "output_type": "execute_result"
    }
   ],
   "source": [
    "xception_model.load_weights(checkpoint_path)"
   ]
  },
  {
   "cell_type": "markdown",
   "id": "intended-cylinder",
   "metadata": {
    "id": "intended-cylinder",
    "papermill": {
     "duration": 3.633537,
     "end_time": "2021-05-30T20:25:41.743104",
     "exception": false,
     "start_time": "2021-05-30T20:25:38.109567",
     "status": "completed"
    },
    "tags": []
   },
   "source": [
    "## 검증 데이터 Confusion Matrix"
   ]
  },
  {
   "cell_type": "code",
   "execution_count": null,
   "id": "equivalent-album",
   "metadata": {
    "colab": {
     "base_uri": "https://localhost:8080/"
    },
    "execution": {
     "iopub.execute_input": "2021-05-30T20:25:48.625234Z",
     "iopub.status.busy": "2021-05-30T20:25:48.624438Z",
     "iopub.status.idle": "2021-05-30T20:25:48.634216Z",
     "shell.execute_reply": "2021-05-30T20:25:48.633804Z",
     "shell.execute_reply.started": "2021-05-27T05:35:10.161826Z"
    },
    "id": "equivalent-album",
    "outputId": "388c9b93-9c21-4130-d864-0f4678592fdd",
    "papermill": {
     "duration": 3.430239,
     "end_time": "2021-05-30T20:25:48.634343",
     "exception": false,
     "start_time": "2021-05-30T20:25:45.204104",
     "status": "completed"
    },
    "tags": []
   },
   "outputs": [
    {
     "name": "stdout",
     "output_type": "stream",
     "text": [
      "Found 979 validated image filenames.\n"
     ]
    }
   ],
   "source": [
    "from sklearn.metrics import precision_recall_curve\n",
    "\n",
    "target_shape = 224\n",
    "BATCH_SIZE = 1\n",
    "\n",
    "compi_gen = valid_aug.flow_from_dataframe(\n",
    "    dataframe= X_test, \n",
    "    x_col= \"filepath\",\n",
    "    class_mode=None,\n",
    "    target_size= (target_shape, target_shape),\n",
    "    shuffle= False,\n",
    "    batch_size= BATCH_SIZE\n",
    ")"
   ]
  },
  {
   "cell_type": "code",
   "execution_count": null,
   "id": "preceding-delight",
   "metadata": {
    "colab": {
     "base_uri": "https://localhost:8080/"
    },
    "execution": {
     "iopub.execute_input": "2021-05-30T20:25:56.117007Z",
     "iopub.status.busy": "2021-05-30T20:25:56.116264Z",
     "iopub.status.idle": "2021-05-30T20:26:05.659358Z",
     "shell.execute_reply": "2021-05-30T20:26:05.658569Z",
     "shell.execute_reply.started": "2021-05-27T05:35:17.324361Z"
    },
    "id": "preceding-delight",
    "outputId": "711df68f-54a2-471c-eb7d-7e14d128c91a",
    "papermill": {
     "duration": 12.914933,
     "end_time": "2021-05-30T20:26:05.659489",
     "exception": false,
     "start_time": "2021-05-30T20:25:52.744556",
     "status": "completed"
    },
    "tags": []
   },
   "outputs": [
    {
     "name": "stdout",
     "output_type": "stream",
     "text": [
      "979/979 [==============================] - 7s 6ms/step\n"
     ]
    }
   ],
   "source": [
    "predicition_compi = xception_model.predict(compi_gen, steps= compi_gen.n/ BATCH_SIZE, verbose= 1)"
   ]
  },
  {
   "cell_type": "code",
   "execution_count": null,
   "id": "distinguished-midwest",
   "metadata": {
    "colab": {
     "base_uri": "https://localhost:8080/",
     "height": 299
    },
    "execution": {
     "iopub.execute_input": "2021-05-30T20:26:12.667940Z",
     "iopub.status.busy": "2021-05-30T20:26:12.649791Z",
     "iopub.status.idle": "2021-05-30T20:26:13.051891Z",
     "shell.execute_reply": "2021-05-30T20:26:13.051413Z",
     "shell.execute_reply.started": "2021-05-27T05:43:44.837052Z"
    },
    "id": "distinguished-midwest",
    "outputId": "ff29bab3-ae02-4987-c865-2a296b9c582b",
    "papermill": {
     "duration": 3.832152,
     "end_time": "2021-05-30T20:26:13.052010",
     "exception": false,
     "start_time": "2021-05-30T20:26:09.219858",
     "status": "completed"
    },
    "tags": []
   },
   "outputs": [
    {
     "data": {
      "text/plain": "<sklearn.metrics._plot.confusion_matrix.ConfusionMatrixDisplay at 0x7f0bc833f278>"
     },
     "execution_count": 58,
     "metadata": {},
     "output_type": "execute_result"
    },
    {
     "data": {
      "text/plain": "<Figure size 432x288 with 2 Axes>",
      "image/png": "[encoded data removed]"
     },
     "metadata": {
      "needs_background": "light"
     },
     "output_type": "display_data"
    }
   ],
   "source": [
    "from sklearn.metrics import confusion_matrix, ConfusionMatrixDisplay\n",
    "\n",
    "class_prediction_compi =  np.argmax(predicition_compi, axis= 1)\n",
    "cm = confusion_matrix(X_test.label, class_prediction_compi, labels=[0, 1, 2, 3, 4])\n",
    "disp = ConfusionMatrixDisplay(confusion_matrix=cm, display_labels=[0, 1, 2, 3, 4])\n",
    "\n",
    "disp.plot()"
   ]
  },
  {
   "cell_type": "markdown",
   "id": "83914daf",
   "metadata": {
    "id": "intended-cylinder",
    "papermill": {
     "duration": 3.633537,
     "end_time": "2021-05-30T20:25:41.743104",
     "exception": false,
     "start_time": "2021-05-30T20:25:38.109567",
     "status": "completed"
    },
    "tags": []
   },
   "source": [
    "## 추가 테스트 데이터 Confusion Matrix"
   ]
  },
  {
   "cell_type": "code",
   "execution_count": null,
   "id": "11cf8fc1",
   "metadata": {
    "scrolled": true
   },
   "outputs": [
    {
     "data": {
      "text/plain": "                                              filepath  label\n0    /home/Lee_KneeData//0/5a21060fe4b0f1e9e5622e32...      0\n1    /home/Lee_KneeData//0/5a21060fe4b0f1e9e5622e32...      0\n2    /home/Lee_KneeData//0/5a21112ee4b09b69e603db16...      0\n3    /home/Lee_KneeData//0/5a21112ee4b09b69e603db16...      0\n4    /home/Lee_KneeData//0/5a28d27ae4b028f6846ae00a...      0\n..                                                 ...    ...\n526  /home/Lee_KneeData//4/5b0e3cede4b07f99d60ee44d...      4\n527  /home/Lee_KneeData//4/5b0f64cde4b0b80049bd1e8e...      4\n528  /home/Lee_KneeData//4/5b10dab8e4b07f99d61002a5...      4\n529  /home/Lee_KneeData//4/5b10dab8e4b07f99d61002a5...      4\n530  /home/Lee_KneeData//4/5b1f54b4e4b099a4cf79f0ae...      4\n\n[531 rows x 2 columns]",
      "text/html": "<div>\n<style scoped>\n    .dataframe tbody tr th:only-of-type {\n        vertical-align: middle;\n    }\n\n    .dataframe tbody tr th {\n        vertical-align: top;\n    }\n\n    .dataframe thead th {\n        text-align: right;\n    }\n</style>\n<table border=\"1\" class=\"dataframe\">\n  <thead>\n    <tr style=\"text-align: right;\">\n      <th></th>\n      <th>filepath</th>\n      <th>label</th>\n    </tr>\n  </thead>\n  <tbody>\n    <tr>\n      <th>0</th>\n      <td>/home/Lee_KneeData//0/5a21060fe4b0f1e9e5622e32...</td>\n      <td>0</td>\n    </tr>\n    <tr>\n      <th>1</th>\n      <td>/home/Lee_KneeData//0/5a21060fe4b0f1e9e5622e32...</td>\n      <td>0</td>\n    </tr>\n    <tr>\n      <th>2</th>\n      <td>/home/Lee_KneeData//0/5a21112ee4b09b69e603db16...</td>\n      <td>0</td>\n    </tr>\n    <tr>\n      <th>3</th>\n      <td>/home/Lee_KneeData//0/5a21112ee4b09b69e603db16...</td>\n      <td>0</td>\n    </tr>\n    <tr>\n      <th>4</th>\n      <td>/home/Lee_KneeData//0/5a28d27ae4b028f6846ae00a...</td>\n      <td>0</td>\n    </tr>\n    <tr>\n      <th>...</th>\n      <td>...</td>\n      <td>...</td>\n    </tr>\n    <tr>\n      <th>526</th>\n      <td>/home/Lee_KneeData//4/5b0e3cede4b07f99d60ee44d...</td>\n      <td>4</td>\n    </tr>\n    <tr>\n      <th>527</th>\n      <td>/home/Lee_KneeData//4/5b0f64cde4b0b80049bd1e8e...</td>\n      <td>4</td>\n    </tr>\n    <tr>\n      <th>528</th>\n      <td>/home/Lee_KneeData//4/5b10dab8e4b07f99d61002a5...</td>\n      <td>4</td>\n    </tr>\n    <tr>\n      <th>529</th>\n      <td>/home/Lee_KneeData//4/5b10dab8e4b07f99d61002a5...</td>\n      <td>4</td>\n    </tr>\n    <tr>\n      <th>530</th>\n      <td>/home/Lee_KneeData//4/5b1f54b4e4b099a4cf79f0ae...</td>\n      <td>4</td>\n    </tr>\n  </tbody>\n</table>\n<p>531 rows × 2 columns</p>\n</div>"
     },
     "execution_count": 59,
     "metadata": {},
     "output_type": "execute_result"
    }
   ],
   "source": [
    "n_class = 5\n",
    "test_root_path = \"/home/Lee_KneeData/\"\n",
    "test_image_path_list = []\n",
    "test_label_list = []\n",
    "\n",
    "for label in range(n_class):\n",
    "    test_image_list = os.listdir(f\"{test_root_path}/{label}\")\n",
    "    test_image_path_list += [ f\"{test_root_path}/{label}/\"+ path for path in test_image_list]\n",
    "    test_label_list += [label] * len(test_image_list)\n",
    "\n",
    "df_test = pd.DataFrame({\"filepath\" : test_image_path_list, \"label\": test_label_list})\n",
    "df_test"
   ]
  },
  {
   "cell_type": "code",
   "execution_count": null,
   "id": "b8563088",
   "metadata": {},
   "outputs": [
    {
     "data": {
      "text/plain": "(531, 2)"
     },
     "execution_count": 60,
     "metadata": {},
     "output_type": "execute_result"
    }
   ],
   "source": [
    "df_test.shape"
   ]
  },
  {
   "cell_type": "markdown",
   "id": "1d6223be",
   "metadata": {
    "id": "intended-cylinder",
    "papermill": {
     "duration": 3.633537,
     "end_time": "2021-05-30T20:25:41.743104",
     "exception": false,
     "start_time": "2021-05-30T20:25:38.109567",
     "status": "completed"
    },
    "tags": []
   },
   "source": [
    "## 추가 테스트 데이터 분포"
   ]
  },
  {
   "cell_type": "code",
   "execution_count": null,
   "id": "e6f6a6d0",
   "metadata": {},
   "outputs": [
    {
     "data": {
      "text/plain": "Text(0, 0.5, 'count')"
     },
     "execution_count": 61,
     "metadata": {},
     "output_type": "execute_result"
    },
    {
     "data": {
      "text/plain": "<Figure size 432x288 with 1 Axes>",
      "image/png": "[encoded data removed]"
     },
     "metadata": {
      "needs_background": "light"
     },
     "output_type": "display_data"
    }
   ],
   "source": [
    "df_test.label.value_counts().plot.bar()\n",
    "plt.xlabel(\"label\")\n",
    "plt.ylabel(\"count\")"
   ]
  },
  {
   "cell_type": "code",
   "execution_count": null,
   "id": "469679e2",
   "metadata": {},
   "outputs": [],
   "source": [
    "from sklearn.model_selection import train_test_split\n",
    "\n",
    "seed = 42\n",
    "test_da = train_test_split(\n",
    "    df_test,\n",
    "    test_size = 0.1,\n",
    "    random_state = seed,\n",
    "    stratify = df_test.label\n",
    "  )"
   ]
  },
  {
   "cell_type": "code",
   "execution_count": null,
   "id": "0ddf19c7",
   "metadata": {},
   "outputs": [
    {
     "name": "stdout",
     "output_type": "stream",
     "text": [
      "Found 531 validated image filenames.\n"
     ]
    }
   ],
   "source": [
    "BS = 1\n",
    "image_size = 224\n",
    "seed = 42\n",
    "\n",
    "da_test_generator = valid_aug.flow_from_dataframe(\n",
    "    dataframe = df_test,\n",
    "    directory = test_root_path,\n",
    "    x_col = \"filepath\",\n",
    "    y_col = 'label',\n",
    "    batch_size = 1,\n",
    "    seed = seed,\n",
    "    shuffle = False,\n",
    "    class_mode = None,\n",
    "    target_size = (image_size, image_size)\n",
    "  )"
   ]
  },
  {
   "cell_type": "code",
   "execution_count": null,
   "id": "499563c8",
   "metadata": {},
   "outputs": [
    {
     "name": "stdout",
     "output_type": "stream",
     "text": [
      "531/531 [==============================] - 3s 6ms/step\n"
     ]
    }
   ],
   "source": [
    "predicition_test = xception_model.predict(da_test_generator, steps= da_test_generator.n/ BS, verbose= 1)"
   ]
  },
  {
   "cell_type": "code",
   "execution_count": null,
   "id": "e7d6147e",
   "metadata": {},
   "outputs": [
    {
     "data": {
      "text/plain": "<sklearn.metrics._plot.confusion_matrix.ConfusionMatrixDisplay at 0x7f157b1d6860>"
     },
     "execution_count": 65,
     "metadata": {},
     "output_type": "execute_result"
    },
    {
     "data": {
      "text/plain": "<Figure size 432x288 with 2 Axes>",
      "image/png": "[encoded data removed]"
     },
     "metadata": {
      "needs_background": "light"
     },
     "output_type": "display_data"
    }
   ],
   "source": [
    "from sklearn.metrics import confusion_matrix, ConfusionMatrixDisplay\n",
    "\n",
    "class_prediction_test =  np.argmax(predicition_test, axis= 1)\n",
    "cm_test = confusion_matrix(df_test.label, class_prediction_test, labels=[0, 1, 2, 3, 4])\n",
    "disp_test = ConfusionMatrixDisplay(confusion_matrix = cm_test, display_labels=[0, 1, 2, 3, 4])\n",
    "\n",
    "disp_test.plot()"
   ]
  },
  {
   "cell_type": "markdown",
   "id": "positive-wilson",
   "metadata": {
    "id": "positive-wilson",
    "papermill": {
     "duration": 3.5306,
     "end_time": "2021-05-30T20:26:20.277590",
     "exception": false,
     "start_time": "2021-05-30T20:26:16.746990",
     "status": "completed"
    },
    "tags": []
   },
   "source": [
    "## DPhi에서 제공한 테스트 데이터 세트에 대한 예측 및 .csv파일 생성"
   ]
  },
  {
   "cell_type": "code",
   "execution_count": null,
   "id": "constitutional-catholic",
   "metadata": {
    "colab": {
     "base_uri": "https://localhost:8080/"
    },
    "execution": {
     "iopub.execute_input": "2021-05-30T20:26:28.031789Z",
     "iopub.status.busy": "2021-05-30T20:26:28.031111Z",
     "iopub.status.idle": "2021-05-30T20:26:28.058944Z",
     "shell.execute_reply": "2021-05-30T20:26:28.058161Z",
     "shell.execute_reply.started": "2021-05-27T09:08:20.550041Z"
    },
    "id": "constitutional-catholic",
    "outputId": "5f5f47f4-62db-4337-c3f4-043cc4d7d398",
    "papermill": {
     "duration": 4.034446,
     "end_time": "2021-05-30T20:26:28.059074",
     "exception": false,
     "start_time": "2021-05-30T20:26:24.024628",
     "status": "completed"
    },
    "tags": []
   },
   "outputs": [
    {
     "name": "stdout",
     "output_type": "stream",
     "text": [
      "Found 1958 validated image filenames.\n"
     ]
    }
   ],
   "source": [
    "test = pd.read_csv(compi_root_path + \"Test.csv\")\n",
    "\n",
    "test_generator = valid_aug.flow_from_dataframe(\n",
    "    dataframe= test,\n",
    "    directory= compi_root_path + \"test\",\n",
    "    x_col= \"filename\",\n",
    "    y_col= None,\n",
    "    batch_size= 1,\n",
    "    seed= 42,\n",
    "    shuffle= False,\n",
    "    class_mode= None,\n",
    "    target_size= (224,224)\n",
    ")\n",
    "\n",
    "STEP_SIZE_TEST=test_generator.n//test_generator.batch_size"
   ]
  },
  {
   "cell_type": "code",
   "execution_count": null,
   "id": "blocked-niagara",
   "metadata": {
    "colab": {
     "base_uri": "https://localhost:8080/"
    },
    "execution": {
     "iopub.execute_input": "2021-05-30T20:26:34.994605Z",
     "iopub.status.busy": "2021-05-30T20:26:34.994000Z",
     "iopub.status.idle": "2021-05-30T20:26:56.340759Z",
     "shell.execute_reply": "2021-05-30T20:26:56.341118Z",
     "shell.execute_reply.started": "2021-05-27T05:51:39.116529Z"
    },
    "id": "blocked-niagara",
    "outputId": "77c22b06-e93f-4228-8b21-57554d52e207",
    "papermill": {
     "duration": 24.791614,
     "end_time": "2021-05-30T20:26:56.341303",
     "exception": false,
     "start_time": "2021-05-30T20:26:31.549689",
     "status": "completed"
    },
    "tags": []
   },
   "outputs": [
    {
     "name": "stdout",
     "output_type": "stream",
     "text": [
      "1958/1958 [==============================] - 11s 6ms/step\n"
     ]
    },
    {
     "data": {
      "text/plain": "0    787\n2    541\n1    294\n3    265\n4     71\nName: label, dtype: int64"
     },
     "execution_count": 67,
     "metadata": {},
     "output_type": "execute_result"
    }
   ],
   "source": [
    "pred = xception_model.predict(test_generator,steps=STEP_SIZE_TEST,verbose=1)\n",
    "df_submit = pd.DataFrame({\"label\":np.argmax(pred, axis= 1)})\n",
    "df_submit[\"label\"].value_counts()"
   ]
  },
  {
   "cell_type": "code",
   "execution_count": null,
   "id": "liquid-tsunami",
   "metadata": {
    "execution": {
     "iopub.execute_input": "2021-05-30T20:27:26.290338Z",
     "iopub.status.busy": "2021-05-30T20:27:26.289493Z",
     "iopub.status.idle": "2021-05-30T20:27:26.809425Z",
     "shell.execute_reply": "2021-05-30T20:27:26.808879Z",
     "shell.execute_reply.started": "2021-05-27T05:51:46.57395Z"
    },
    "id": "liquid-tsunami",
    "papermill": {
     "duration": 4.073647,
     "end_time": "2021-05-30T20:27:26.809566",
     "exception": false,
     "start_time": "2021-05-30T20:27:22.735919",
     "status": "completed"
    },
    "tags": []
   },
   "outputs": [],
   "source": [
    "xception_model.save_weights(\"knee_xray_Xceptionnet_GPA.h5\")\n",
    "df_submit.to_csv(\"submission.csv\",index=False)"
   ]
  }
 ],
 "metadata": {
  "accelerator": "GPU",
  "colab": {
   "collapsed_sections": [
    "million-monaco",
    "rotary-prague",
    "hairy-greene",
    "dense-enzyme",
    "asian-chest",
    "marked-belarus",
    "pretty-morris",
    "intended-cylinder"
   ],
   "include_colab_link": true,
   "machine_shape": "hm",
   "name": "[MDL]KLGrade.ipynb",
   "provenance": []
  },
  "kernelspec": {
   "display_name": "Python 3",
   "language": "python",
   "name": "python3"
  },
  "language_info": {
   "codemirror_mode": {
    "name": "ipython",
    "version": 3
   },
   "file_extension": ".py",
   "mimetype": "text/x-python",
   "name": "python",
   "nbconvert_exporter": "python",
   "pygments_lexer": "ipython3",
   "version": "3.6.9"
  },
  "papermill": {
   "default_parameters": {},
   "duration": 6499.620651,
   "end_time": "2021-05-30T20:27:40.898205",
   "environment_variables": {},
   "exception": null,
   "input_path": "__notebook__.ipynb",
   "output_path": "__notebook__.ipynb",
   "parameters": {},
   "start_time": "2021-05-30T18:39:21.277554",
   "version": "2.3.3"
  }
 },
 "nbformat": 4,
 "nbformat_minor": 5
}