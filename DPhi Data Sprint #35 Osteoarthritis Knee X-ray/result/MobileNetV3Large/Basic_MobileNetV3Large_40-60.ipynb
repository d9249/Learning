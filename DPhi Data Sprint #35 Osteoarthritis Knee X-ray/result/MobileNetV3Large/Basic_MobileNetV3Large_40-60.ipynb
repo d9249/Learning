{
 "cells": [
  {
   "cell_type": "markdown",
   "id": "million-monaco",
   "metadata": {
    "id": "million-monaco",
    "papermill": {
     "duration": 0.026241,
     "end_time": "2021-05-30T18:39:28.019714",
     "exception": false,
     "start_time": "2021-05-30T18:39:27.993473",
     "status": "completed"
    },
    "tags": []
   },
   "source": [
    "# 처음부터 끝까지 곧바로 실행하시면 됩니다."
   ]
  },
  {
   "cell_type": "markdown",
   "id": "4ddaadda",
   "metadata": {
    "id": "million-monaco",
    "papermill": {
     "duration": 0.026241,
     "end_time": "2021-05-30T18:39:28.019714",
     "exception": false,
     "start_time": "2021-05-30T18:39:27.993473",
     "status": "completed"
    },
    "tags": []
   },
   "source": [
    "## 라이브러리"
   ]
  },
  {
   "cell_type": "code",
   "execution_count": 1,
   "id": "cbbf0c0a",
   "metadata": {},
   "outputs": [
    {
     "name": "stdout",
     "output_type": "stream",
     "text": [
      "absl-py==0.10.0\r\n",
      "alembic==1.4.1\r\n",
      "argon2-cffi==20.1.0\r\n",
      "asn1crypto==0.24.0\r\n",
      "astunparse==1.6.3\r\n",
      "async-generator==1.10\r\n",
      "attrs==20.3.0\r\n",
      "backcall==0.2.0\r\n",
      "beautifulsoup4==4.6.0\r\n",
      "bleach==3.3.0\r\n",
      "blis==0.7.4\r\n",
      "Boruta==0.3\r\n",
      "cachetools==4.2.0\r\n",
      "catalogue==1.0.0\r\n",
      "catboost==0.24.4\r\n",
      "certifi==2020.12.5\r\n",
      "cffi==1.14.5\r\n",
      "chardet==4.0.0\r\n",
      "click==7.1.2\r\n",
      "cloudpickle==1.6.0\r\n",
      "colorama==0.4.4\r\n",
      "colorlover==0.3.0\r\n",
      "confuse==1.4.0\r\n",
      "cryptography==2.1.4\r\n",
      "cufflinks==0.17.3\r\n",
      "cycler==0.10.0\r\n",
      "cymem==2.0.5\r\n",
      "databricks-cli==0.14.2\r\n",
      "dataclasses==0.8\r\n",
      "decorator==4.4.2\r\n",
      "defusedxml==0.6.0\r\n",
      "dill==0.3.3\r\n",
      "docker==4.4.4\r\n",
      "entrypoints==0.3\r\n",
      "et-xmlfile==1.0.1\r\n",
      "filelock==3.4.1\r\n",
      "Flask==1.1.2\r\n",
      "flatbuffers==1.12\r\n",
      "funcy==1.15\r\n",
      "future==0.18.2\r\n",
      "gast==0.3.3\r\n",
      "gaussian==0.1\r\n",
      "gdown==4.4.0\r\n",
      "gensim==3.8.3\r\n",
      "gitdb==4.0.5\r\n",
      "GitPython==3.1.13\r\n",
      "google-auth==1.24.0\r\n",
      "google-auth-oauthlib==0.4.2\r\n",
      "google-pasta==0.2.0\r\n",
      "googleapis-common-protos==1.53.0\r\n",
      "graphviz==0.16\r\n",
      "grpcio==1.32.0\r\n",
      "gunicorn==20.0.4\r\n",
      "h5py==2.10.0\r\n",
      "htmlmin==0.1.12\r\n",
      "hyperopt==0.2.5\r\n",
      "idna==2.6\r\n",
      "ImageHash==4.2.0\r\n",
      "imbalanced-learn==0.7.0\r\n",
      "importlib-metadata==3.4.0\r\n",
      "importlib-resources==5.1.0\r\n",
      "ipykernel==5.5.0\r\n",
      "ipython==7.16.1\r\n",
      "ipython-genutils==0.2.0\r\n",
      "ipywidgets==7.6.3\r\n",
      "itsdangerous==1.1.0\r\n",
      "jdcal==1.4.1\r\n",
      "jedi==0.18.0\r\n",
      "Jinja2==2.11.3\r\n",
      "joblib==1.0.1\r\n",
      "JPype1==1.2.1\r\n",
      "jsonschema==3.2.0\r\n",
      "jupyter==1.0.0\r\n",
      "jupyter-client==6.1.11\r\n",
      "jupyter-console==6.2.0\r\n",
      "jupyter-core==4.7.1\r\n",
      "jupyterlab-pygments==0.1.2\r\n",
      "jupyterlab-widgets==1.0.0\r\n",
      "kaggle==1.5.10\r\n",
      "Keras==2.4.3\r\n",
      "Keras-Preprocessing==1.1.2\r\n",
      "keyring==10.6.0\r\n",
      "keyrings.alt==3.0\r\n",
      "kiwisolver==1.3.1\r\n",
      "kmodes==0.11.0\r\n",
      "konlpy==0.5.2\r\n",
      "lab==6.3\r\n",
      "lightgbm==3.1.1\r\n",
      "llvmlite==0.35.0\r\n",
      "lxml==4.6.2\r\n",
      "Mako==1.1.4\r\n",
      "Markdown==3.3.3\r\n",
      "MarkupSafe==1.1.1\r\n",
      "matplotlib==3.3.4\r\n",
      "mecab-python===0.996-ko-0.9.2\r\n",
      "missingno==0.4.2\r\n",
      "mistune==0.8.4\r\n",
      "mlflow==1.14.0\r\n",
      "mlxtend==0.18.0\r\n",
      "murmurhash==1.0.5\r\n",
      "nbclient==0.5.3\r\n",
      "nbconvert==6.0.7\r\n",
      "nbformat==5.1.2\r\n",
      "nest-asyncio==1.5.1\r\n",
      "networkx==2.5\r\n",
      "nltk==3.5\r\n",
      "notebook==6.2.0\r\n",
      "numba==0.52.0\r\n",
      "numexpr==2.7.2\r\n",
      "numpy==1.19.5\r\n",
      "oauthlib==3.1.0\r\n",
      "opencv-python==4.5.5.64\r\n",
      "openpyxl==3.0.6\r\n",
      "opt-einsum==3.3.0\r\n",
      "packaging==20.9\r\n",
      "pandas==1.1.5\r\n",
      "pandas-profiling==2.11.0\r\n",
      "pandocfilters==1.4.3\r\n",
      "parso==0.8.1\r\n",
      "patsy==0.5.1\r\n",
      "pexpect==4.8.0\r\n",
      "phik==0.11.0\r\n",
      "pickle5==0.0.11\r\n",
      "pickleshare==0.7.5\r\n",
      "Pillow==8.1.0\r\n",
      "plac==1.1.3\r\n",
      "plotly==4.14.3\r\n",
      "preshed==3.0.5\r\n",
      "prometheus-client==0.9.0\r\n",
      "prometheus-flask-exporter==0.18.1\r\n",
      "promise==2.3\r\n",
      "prompt-toolkit==3.0.16\r\n",
      "protobuf==3.14.0\r\n",
      "ptyprocess==0.7.0\r\n",
      "py4j==0.10.9\r\n",
      "pyasn1==0.4.8\r\n",
      "pyasn1-modules==0.2.8\r\n",
      "pycaret==2.3.0\r\n",
      "pycparser==2.20\r\n",
      "pycrypto==2.6.1\r\n",
      "Pygments==2.8.0\r\n",
      "pygobject==3.26.1\r\n",
      "pykospacing @ git+https://github.com/haven-jeon/PyKoSpacing.git@1a36be492cc396559e7dce7825843af020ea231f\r\n",
      "pyLDAvis==3.2.2\r\n",
      "pynndescent==0.5.2\r\n",
      "pyod==0.8.7\r\n",
      "pyparsing==2.4.7\r\n",
      "pyrsistent==0.17.3\r\n",
      "PySocks==1.7.1\r\n",
      "pyspark==3.1.1\r\n",
      "python-apt==1.6.5+ubuntu0.5\r\n",
      "python-dateutil==2.8.1\r\n",
      "python-editor==1.0.4\r\n",
      "python-slugify==4.0.1\r\n",
      "pytz==2021.1\r\n",
      "PyWavelets==1.1.1\r\n",
      "pyxdg==0.25\r\n",
      "PyYAML==5.4.1\r\n",
      "pyzmq==22.0.3\r\n",
      "qtconsole==5.0.2\r\n",
      "QtPy==1.9.0\r\n",
      "querystring-parser==1.2.4\r\n",
      "regex==2020.11.13\r\n",
      "requests==2.25.1\r\n",
      "requests-oauthlib==1.3.0\r\n",
      "retrying==1.3.3\r\n",
      "rsa==4.7\r\n",
      "scikit-learn==0.23.2\r\n",
      "scikit-plot==0.3.7\r\n",
      "scikit-surprise==1.1.1\r\n",
      "scipy==1.5.4\r\n",
      "seaborn==0.11.1\r\n",
      "SecretStorage==2.3.1\r\n",
      "Send2Trash==1.5.0\r\n",
      "shap==0.38.1\r\n",
      "simplejson==3.17.2\r\n",
      "six==1.15.0\r\n",
      "slicer==0.0.7\r\n",
      "smart-open==4.2.0\r\n",
      "smmap==3.0.5\r\n",
      "spacy==2.3.5\r\n",
      "SQLAlchemy==1.3.23\r\n",
      "sqlparse==0.4.1\r\n",
      "srsly==1.0.5\r\n",
      "ssh-import-id==5.7\r\n",
      "statsmodels==0.12.2\r\n",
      "surprise==0.1\r\n",
      "tabulate==0.8.9\r\n",
      "tangled-up-in-unicode==0.0.6\r\n",
      "tensorboard==2.4.1\r\n",
      "tensorboard-plugin-wit==1.8.0\r\n",
      "tensorflow==2.4.0\r\n",
      "tensorflow-datasets==4.2.0\r\n",
      "tensorflow-estimator==2.4.0\r\n",
      "tensorflow-examples===c3bf7340c5002d62f4d51da21d7b01a884082472-\r\n",
      "tensorflow-gpu==2.4.1\r\n",
      "tensorflow-metadata==0.28.0\r\n",
      "termcolor==1.1.0\r\n",
      "terminado==0.9.2\r\n",
      "testpath==0.4.4\r\n",
      "text-unidecode==1.3\r\n",
      "textblob==0.15.3\r\n",
      "thinc==7.4.5\r\n",
      "threadpoolctl==2.1.0\r\n",
      "timm==0.5.4\r\n",
      "torch==1.7.1+cu110\r\n",
      "torchaudio==0.7.2\r\n",
      "torchvision==0.8.2+cu110\r\n",
      "tornado==6.1\r\n",
      "tqdm==4.58.0\r\n",
      "traitlets==4.3.3\r\n",
      "tweepy==3.10.0\r\n",
      "txt2tags==3.7\r\n",
      "typing-extensions==3.7.4.3\r\n",
      "ufw==0.36\r\n",
      "umap-learn==0.5.1\r\n",
      "urllib3==1.26.2\r\n",
      "visions==0.6.0\r\n",
      "wasabi==0.8.2\r\n",
      "wcwidth==0.2.5\r\n",
      "webencodings==0.5.1\r\n",
      "websocket-client==0.57.0\r\n",
      "Werkzeug==1.0.1\r\n",
      "widgetsnbextension==3.5.1\r\n",
      "wordcloud==1.8.1\r\n",
      "wrapt==1.12.1\r\n",
      "xgboost==1.3.3\r\n",
      "xlrd==2.0.1\r\n",
      "yellowbrick==1.3.post1\r\n",
      "zipp==3.4.0\r\n",
      "Note: you may need to restart the kernel to use updated packages.\n"
     ]
    }
   ],
   "source": [
    "pip freeze"
   ]
  },
  {
   "cell_type": "code",
   "execution_count": 2,
   "id": "fcba341f",
   "metadata": {},
   "outputs": [
    {
     "name": "stdout",
     "output_type": "stream",
     "text": [
      "Note: you may need to restart the kernel to use updated packages.\n"
     ]
    }
   ],
   "source": [
    "pip freeze > requirements.txt"
   ]
  },
  {
   "cell_type": "code",
   "execution_count": 3,
   "id": "ae6cd0d6",
   "metadata": {},
   "outputs": [
    {
     "name": "stdout",
     "output_type": "stream",
     "text": [
      "Collecting pykospacing@ git+https://github.com/haven-jeon/PyKoSpacing.git@1a36be492cc396559e7dce7825843af020ea231f\r\n",
      "  Cloning https://github.com/haven-jeon/PyKoSpacing.git (to revision 1a36be492cc396559e7dce7825843af020ea231f) to /tmp/pip-install-hyoy5awx/pykospacing_98a993d7df3040b5bcd86c25123287c9\r\n",
      "  Running command git clone -q https://github.com/haven-jeon/PyKoSpacing.git /tmp/pip-install-hyoy5awx/pykospacing_98a993d7df3040b5bcd86c25123287c9\r\n",
      "  Running command git rev-parse -q --verify 'sha^1a36be492cc396559e7dce7825843af020ea231f'\r\n",
      "  Running command git fetch -q https://github.com/haven-jeon/PyKoSpacing.git 1a36be492cc396559e7dce7825843af020ea231f\r\n",
      "  Running command git checkout -q 1a36be492cc396559e7dce7825843af020ea231f\r\n",
      "Requirement already satisfied: absl-py==0.10.0 in /usr/local/lib/python3.6/dist-packages (from -r requirements.txt (line 1)) (0.10.0)\r\n",
      "Requirement already satisfied: alembic==1.4.1 in /usr/local/lib/python3.6/dist-packages (from -r requirements.txt (line 2)) (1.4.1)\r\n",
      "Requirement already satisfied: argon2-cffi==20.1.0 in /usr/local/lib/python3.6/dist-packages (from -r requirements.txt (line 3)) (20.1.0)\r\n",
      "Requirement already satisfied: asn1crypto==0.24.0 in /usr/lib/python3/dist-packages (from -r requirements.txt (line 4)) (0.24.0)\r\n",
      "Requirement already satisfied: astunparse==1.6.3 in /usr/local/lib/python3.6/dist-packages (from -r requirements.txt (line 5)) (1.6.3)\r\n",
      "Requirement already satisfied: async-generator==1.10 in /usr/local/lib/python3.6/dist-packages (from -r requirements.txt (line 6)) (1.10)\r\n",
      "Requirement already satisfied: attrs==20.3.0 in /usr/local/lib/python3.6/dist-packages (from -r requirements.txt (line 7)) (20.3.0)\r\n",
      "Requirement already satisfied: backcall==0.2.0 in /usr/local/lib/python3.6/dist-packages (from -r requirements.txt (line 8)) (0.2.0)\r\n",
      "Requirement already satisfied: beautifulsoup4==4.6.0 in /usr/local/lib/python3.6/dist-packages (from -r requirements.txt (line 9)) (4.6.0)\r\n",
      "Requirement already satisfied: bleach==3.3.0 in /usr/local/lib/python3.6/dist-packages (from -r requirements.txt (line 10)) (3.3.0)\r\n",
      "Requirement already satisfied: blis==0.7.4 in /usr/local/lib/python3.6/dist-packages (from -r requirements.txt (line 11)) (0.7.4)\r\n",
      "Requirement already satisfied: Boruta==0.3 in /usr/local/lib/python3.6/dist-packages (from -r requirements.txt (line 12)) (0.3)\r\n",
      "Requirement already satisfied: cachetools==4.2.0 in /usr/local/lib/python3.6/dist-packages (from -r requirements.txt (line 13)) (4.2.0)\r\n",
      "Requirement already satisfied: catalogue==1.0.0 in /usr/local/lib/python3.6/dist-packages (from -r requirements.txt (line 14)) (1.0.0)\r\n",
      "Requirement already satisfied: catboost==0.24.4 in /usr/local/lib/python3.6/dist-packages (from -r requirements.txt (line 15)) (0.24.4)\r\n",
      "Requirement already satisfied: certifi==2020.12.5 in /usr/local/lib/python3.6/dist-packages (from -r requirements.txt (line 16)) (2020.12.5)\r\n",
      "Requirement already satisfied: cffi==1.14.5 in /usr/local/lib/python3.6/dist-packages (from -r requirements.txt (line 17)) (1.14.5)\r\n",
      "Requirement already satisfied: chardet==4.0.0 in /usr/local/lib/python3.6/dist-packages (from -r requirements.txt (line 18)) (4.0.0)\r\n",
      "Requirement already satisfied: click==7.1.2 in /usr/local/lib/python3.6/dist-packages (from -r requirements.txt (line 19)) (7.1.2)\r\n",
      "Requirement already satisfied: cloudpickle==1.6.0 in /usr/local/lib/python3.6/dist-packages (from -r requirements.txt (line 20)) (1.6.0)\r\n",
      "Requirement already satisfied: colorama==0.4.4 in /usr/local/lib/python3.6/dist-packages (from -r requirements.txt (line 21)) (0.4.4)\r\n",
      "Requirement already satisfied: colorlover==0.3.0 in /usr/local/lib/python3.6/dist-packages (from -r requirements.txt (line 22)) (0.3.0)\r\n",
      "Requirement already satisfied: confuse==1.4.0 in /usr/local/lib/python3.6/dist-packages (from -r requirements.txt (line 23)) (1.4.0)\r\n",
      "Requirement already satisfied: cryptography==2.1.4 in /usr/lib/python3/dist-packages (from -r requirements.txt (line 24)) (2.1.4)\r\n",
      "Requirement already satisfied: cufflinks==0.17.3 in /usr/local/lib/python3.6/dist-packages (from -r requirements.txt (line 25)) (0.17.3)\r\n",
      "Requirement already satisfied: cycler==0.10.0 in /usr/local/lib/python3.6/dist-packages (from -r requirements.txt (line 26)) (0.10.0)\r\n",
      "Requirement already satisfied: cymem==2.0.5 in /usr/local/lib/python3.6/dist-packages (from -r requirements.txt (line 27)) (2.0.5)\r\n",
      "Requirement already satisfied: databricks-cli==0.14.2 in /usr/local/lib/python3.6/dist-packages (from -r requirements.txt (line 28)) (0.14.2)\r\n",
      "Requirement already satisfied: dataclasses==0.8 in /usr/local/lib/python3.6/dist-packages (from -r requirements.txt (line 29)) (0.8)\r\n",
      "Requirement already satisfied: decorator==4.4.2 in /usr/local/lib/python3.6/dist-packages (from -r requirements.txt (line 30)) (4.4.2)\r\n",
      "Requirement already satisfied: defusedxml==0.6.0 in /usr/local/lib/python3.6/dist-packages (from -r requirements.txt (line 31)) (0.6.0)\r\n",
      "Requirement already satisfied: dill==0.3.3 in /usr/local/lib/python3.6/dist-packages (from -r requirements.txt (line 32)) (0.3.3)\r\n",
      "Requirement already satisfied: docker==4.4.4 in /usr/local/lib/python3.6/dist-packages (from -r requirements.txt (line 33)) (4.4.4)\r\n",
      "Requirement already satisfied: entrypoints==0.3 in /usr/local/lib/python3.6/dist-packages (from -r requirements.txt (line 34)) (0.3)\r\n",
      "Requirement already satisfied: et-xmlfile==1.0.1 in /usr/local/lib/python3.6/dist-packages (from -r requirements.txt (line 35)) (1.0.1)\r\n",
      "Requirement already satisfied: filelock==3.4.1 in /usr/local/lib/python3.6/dist-packages (from -r requirements.txt (line 36)) (3.4.1)\r\n",
      "Requirement already satisfied: Flask==1.1.2 in /usr/local/lib/python3.6/dist-packages (from -r requirements.txt (line 37)) (1.1.2)\r\n",
      "Requirement already satisfied: flatbuffers==1.12 in /usr/local/lib/python3.6/dist-packages (from -r requirements.txt (line 38)) (1.12)\r\n",
      "Requirement already satisfied: funcy==1.15 in /usr/local/lib/python3.6/dist-packages (from -r requirements.txt (line 39)) (1.15)\r\n",
      "Requirement already satisfied: future==0.18.2 in /usr/local/lib/python3.6/dist-packages (from -r requirements.txt (line 40)) (0.18.2)\r\n",
      "Requirement already satisfied: gast==0.3.3 in /usr/local/lib/python3.6/dist-packages (from -r requirements.txt (line 41)) (0.3.3)\r\n",
      "Requirement already satisfied: gaussian==0.1 in /usr/local/lib/python3.6/dist-packages (from -r requirements.txt (line 42)) (0.1)\r\n",
      "Requirement already satisfied: gdown==4.4.0 in /usr/local/lib/python3.6/dist-packages (from -r requirements.txt (line 43)) (4.4.0)\r\n",
      "Requirement already satisfied: gensim==3.8.3 in /usr/local/lib/python3.6/dist-packages (from -r requirements.txt (line 44)) (3.8.3)\r\n",
      "Requirement already satisfied: gitdb==4.0.5 in /usr/local/lib/python3.6/dist-packages (from -r requirements.txt (line 45)) (4.0.5)\r\n",
      "Requirement already satisfied: GitPython==3.1.13 in /usr/local/lib/python3.6/dist-packages (from -r requirements.txt (line 46)) (3.1.13)\r\n",
      "Requirement already satisfied: google-auth==1.24.0 in /usr/local/lib/python3.6/dist-packages (from -r requirements.txt (line 47)) (1.24.0)\r\n",
      "Requirement already satisfied: google-auth-oauthlib==0.4.2 in /usr/local/lib/python3.6/dist-packages (from -r requirements.txt (line 48)) (0.4.2)\r\n",
      "Requirement already satisfied: google-pasta==0.2.0 in /usr/local/lib/python3.6/dist-packages (from -r requirements.txt (line 49)) (0.2.0)\r\n",
      "Requirement already satisfied: googleapis-common-protos==1.53.0 in /usr/local/lib/python3.6/dist-packages (from -r requirements.txt (line 50)) (1.53.0)\r\n",
      "Requirement already satisfied: graphviz==0.16 in /usr/local/lib/python3.6/dist-packages (from -r requirements.txt (line 51)) (0.16)\r\n",
      "Requirement already satisfied: grpcio==1.32.0 in /usr/local/lib/python3.6/dist-packages (from -r requirements.txt (line 52)) (1.32.0)\r\n",
      "Requirement already satisfied: gunicorn==20.0.4 in /usr/local/lib/python3.6/dist-packages (from -r requirements.txt (line 53)) (20.0.4)\r\n",
      "Requirement already satisfied: h5py==2.10.0 in /usr/local/lib/python3.6/dist-packages (from -r requirements.txt (line 54)) (2.10.0)\r\n",
      "Requirement already satisfied: htmlmin==0.1.12 in /usr/local/lib/python3.6/dist-packages (from -r requirements.txt (line 55)) (0.1.12)\r\n",
      "Requirement already satisfied: hyperopt==0.2.5 in /usr/local/lib/python3.6/dist-packages (from -r requirements.txt (line 56)) (0.2.5)\r\n",
      "Requirement already satisfied: idna==2.6 in /usr/lib/python3/dist-packages (from -r requirements.txt (line 57)) (2.6)\r\n",
      "Requirement already satisfied: ImageHash==4.2.0 in /usr/local/lib/python3.6/dist-packages (from -r requirements.txt (line 58)) (4.2.0)\r\n",
      "Requirement already satisfied: imbalanced-learn==0.7.0 in /usr/local/lib/python3.6/dist-packages (from -r requirements.txt (line 59)) (0.7.0)\r\n",
      "Requirement already satisfied: importlib-metadata==3.4.0 in /usr/local/lib/python3.6/dist-packages (from -r requirements.txt (line 60)) (3.4.0)\r\n",
      "Requirement already satisfied: importlib-resources==5.1.0 in /usr/local/lib/python3.6/dist-packages (from -r requirements.txt (line 61)) (5.1.0)\r\n",
      "Requirement already satisfied: ipykernel==5.5.0 in /usr/local/lib/python3.6/dist-packages (from -r requirements.txt (line 62)) (5.5.0)\r\n",
      "Requirement already satisfied: ipython==7.16.1 in /usr/local/lib/python3.6/dist-packages (from -r requirements.txt (line 63)) (7.16.1)\r\n",
      "Requirement already satisfied: ipython-genutils==0.2.0 in /usr/local/lib/python3.6/dist-packages (from -r requirements.txt (line 64)) (0.2.0)\r\n",
      "Requirement already satisfied: ipywidgets==7.6.3 in /usr/local/lib/python3.6/dist-packages (from -r requirements.txt (line 65)) (7.6.3)\r\n",
      "Requirement already satisfied: itsdangerous==1.1.0 in /usr/local/lib/python3.6/dist-packages (from -r requirements.txt (line 66)) (1.1.0)\r\n",
      "Requirement already satisfied: jdcal==1.4.1 in /usr/local/lib/python3.6/dist-packages (from -r requirements.txt (line 67)) (1.4.1)\r\n",
      "Requirement already satisfied: jedi==0.18.0 in /usr/local/lib/python3.6/dist-packages (from -r requirements.txt (line 68)) (0.18.0)\r\n",
      "Requirement already satisfied: Jinja2==2.11.3 in /usr/local/lib/python3.6/dist-packages (from -r requirements.txt (line 69)) (2.11.3)\r\n",
      "Requirement already satisfied: joblib==1.0.1 in /usr/local/lib/python3.6/dist-packages (from -r requirements.txt (line 70)) (1.0.1)\r\n",
      "Requirement already satisfied: JPype1==1.2.1 in /usr/local/lib/python3.6/dist-packages (from -r requirements.txt (line 71)) (1.2.1)\r\n",
      "Requirement already satisfied: jsonschema==3.2.0 in /usr/local/lib/python3.6/dist-packages (from -r requirements.txt (line 72)) (3.2.0)\r\n",
      "Requirement already satisfied: jupyter==1.0.0 in /usr/local/lib/python3.6/dist-packages (from -r requirements.txt (line 73)) (1.0.0)\r\n",
      "Requirement already satisfied: jupyter-client==6.1.11 in /usr/local/lib/python3.6/dist-packages (from -r requirements.txt (line 74)) (6.1.11)\r\n",
      "Requirement already satisfied: jupyter-console==6.2.0 in /usr/local/lib/python3.6/dist-packages (from -r requirements.txt (line 75)) (6.2.0)\r\n",
      "Requirement already satisfied: jupyter-core==4.7.1 in /usr/local/lib/python3.6/dist-packages (from -r requirements.txt (line 76)) (4.7.1)\r\n",
      "Requirement already satisfied: jupyterlab-pygments==0.1.2 in /usr/local/lib/python3.6/dist-packages (from -r requirements.txt (line 77)) (0.1.2)\r\n",
      "Requirement already satisfied: jupyterlab-widgets==1.0.0 in /usr/local/lib/python3.6/dist-packages (from -r requirements.txt (line 78)) (1.0.0)\r\n",
      "Requirement already satisfied: kaggle==1.5.10 in /usr/local/lib/python3.6/dist-packages (from -r requirements.txt (line 79)) (1.5.10)\r\n",
      "Requirement already satisfied: Keras==2.4.3 in /usr/local/lib/python3.6/dist-packages (from -r requirements.txt (line 80)) (2.4.3)\r\n",
      "Requirement already satisfied: Keras-Preprocessing==1.1.2 in /usr/local/lib/python3.6/dist-packages (from -r requirements.txt (line 81)) (1.1.2)\r\n",
      "Requirement already satisfied: keyring==10.6.0 in /usr/lib/python3/dist-packages (from -r requirements.txt (line 82)) (10.6.0)\r\n",
      "Requirement already satisfied: keyrings.alt==3.0 in /usr/lib/python3/dist-packages (from -r requirements.txt (line 83)) (3.0)\r\n",
      "Requirement already satisfied: kiwisolver==1.3.1 in /usr/local/lib/python3.6/dist-packages (from -r requirements.txt (line 84)) (1.3.1)\r\n",
      "Requirement already satisfied: kmodes==0.11.0 in /usr/local/lib/python3.6/dist-packages (from -r requirements.txt (line 85)) (0.11.0)\r\n",
      "Requirement already satisfied: konlpy==0.5.2 in /usr/local/lib/python3.6/dist-packages (from -r requirements.txt (line 86)) (0.5.2)\r\n",
      "Requirement already satisfied: lab==6.3 in /usr/local/lib/python3.6/dist-packages (from -r requirements.txt (line 87)) (6.3)\r\n",
      "Requirement already satisfied: lightgbm==3.1.1 in /usr/local/lib/python3.6/dist-packages (from -r requirements.txt (line 88)) (3.1.1)\r\n",
      "Requirement already satisfied: llvmlite==0.35.0 in /usr/local/lib/python3.6/dist-packages (from -r requirements.txt (line 89)) (0.35.0)\r\n",
      "Requirement already satisfied: lxml==4.6.2 in /usr/local/lib/python3.6/dist-packages (from -r requirements.txt (line 90)) (4.6.2)\r\n",
      "Requirement already satisfied: Mako==1.1.4 in /usr/local/lib/python3.6/dist-packages (from -r requirements.txt (line 91)) (1.1.4)\r\n",
      "Requirement already satisfied: Markdown==3.3.3 in /usr/local/lib/python3.6/dist-packages (from -r requirements.txt (line 92)) (3.3.3)\r\n",
      "Requirement already satisfied: MarkupSafe==1.1.1 in /usr/local/lib/python3.6/dist-packages (from -r requirements.txt (line 93)) (1.1.1)\r\n",
      "Requirement already satisfied: matplotlib==3.3.4 in /usr/local/lib/python3.6/dist-packages (from -r requirements.txt (line 94)) (3.3.4)\r\n",
      "Requirement already satisfied: mecab-python===0.996-ko-0.9.2 in /usr/local/lib/python3.6/dist-packages (from -r requirements.txt (line 95)) (0.996-ko-0.9.2)\r\n",
      "Requirement already satisfied: missingno==0.4.2 in /usr/local/lib/python3.6/dist-packages (from -r requirements.txt (line 96)) (0.4.2)\r\n",
      "Requirement already satisfied: mistune==0.8.4 in /usr/local/lib/python3.6/dist-packages (from -r requirements.txt (line 97)) (0.8.4)\r\n",
      "Requirement already satisfied: mlflow==1.14.0 in /usr/local/lib/python3.6/dist-packages (from -r requirements.txt (line 98)) (1.14.0)\r\n",
      "Requirement already satisfied: mlxtend==0.18.0 in /usr/local/lib/python3.6/dist-packages (from -r requirements.txt (line 99)) (0.18.0)\r\n",
      "Requirement already satisfied: murmurhash==1.0.5 in /usr/local/lib/python3.6/dist-packages (from -r requirements.txt (line 100)) (1.0.5)\r\n",
      "Requirement already satisfied: nbclient==0.5.3 in /usr/local/lib/python3.6/dist-packages (from -r requirements.txt (line 101)) (0.5.3)\r\n",
      "Requirement already satisfied: nbconvert==6.0.7 in /usr/local/lib/python3.6/dist-packages (from -r requirements.txt (line 102)) (6.0.7)\r\n",
      "Requirement already satisfied: nbformat==5.1.2 in /usr/local/lib/python3.6/dist-packages (from -r requirements.txt (line 103)) (5.1.2)\r\n",
      "Requirement already satisfied: nest-asyncio==1.5.1 in /usr/local/lib/python3.6/dist-packages (from -r requirements.txt (line 104)) (1.5.1)\r\n",
      "Requirement already satisfied: networkx==2.5 in /usr/local/lib/python3.6/dist-packages (from -r requirements.txt (line 105)) (2.5)\r\n",
      "Requirement already satisfied: nltk==3.5 in /usr/local/lib/python3.6/dist-packages (from -r requirements.txt (line 106)) (3.5)\r\n",
      "Requirement already satisfied: notebook==6.2.0 in /usr/local/lib/python3.6/dist-packages (from -r requirements.txt (line 107)) (6.2.0)\r\n",
      "Requirement already satisfied: numba==0.52.0 in /usr/local/lib/python3.6/dist-packages (from -r requirements.txt (line 108)) (0.52.0)\r\n",
      "Requirement already satisfied: numexpr==2.7.2 in /usr/local/lib/python3.6/dist-packages (from -r requirements.txt (line 109)) (2.7.2)\r\n",
      "Requirement already satisfied: numpy==1.19.5 in /usr/local/lib/python3.6/dist-packages (from -r requirements.txt (line 110)) (1.19.5)\r\n",
      "Requirement already satisfied: oauthlib==3.1.0 in /usr/local/lib/python3.6/dist-packages (from -r requirements.txt (line 111)) (3.1.0)\r\n",
      "Requirement already satisfied: opencv-python==4.5.5.64 in /usr/local/lib/python3.6/dist-packages (from -r requirements.txt (line 112)) (4.5.5.64)\r\n",
      "Requirement already satisfied: openpyxl==3.0.6 in /usr/local/lib/python3.6/dist-packages (from -r requirements.txt (line 113)) (3.0.6)\r\n",
      "Requirement already satisfied: opt-einsum==3.3.0 in /usr/local/lib/python3.6/dist-packages (from -r requirements.txt (line 114)) (3.3.0)\r\n",
      "Requirement already satisfied: packaging==20.9 in /usr/local/lib/python3.6/dist-packages (from -r requirements.txt (line 115)) (20.9)\r\n",
      "Requirement already satisfied: pandas==1.1.5 in /usr/local/lib/python3.6/dist-packages (from -r requirements.txt (line 116)) (1.1.5)\r\n",
      "Requirement already satisfied: pandas-profiling==2.11.0 in /usr/local/lib/python3.6/dist-packages (from -r requirements.txt (line 117)) (2.11.0)\r\n",
      "Requirement already satisfied: pandocfilters==1.4.3 in /usr/local/lib/python3.6/dist-packages (from -r requirements.txt (line 118)) (1.4.3)\r\n",
      "Requirement already satisfied: parso==0.8.1 in /usr/local/lib/python3.6/dist-packages (from -r requirements.txt (line 119)) (0.8.1)\r\n",
      "Requirement already satisfied: patsy==0.5.1 in /usr/local/lib/python3.6/dist-packages (from -r requirements.txt (line 120)) (0.5.1)\r\n",
      "Requirement already satisfied: pexpect==4.8.0 in /usr/local/lib/python3.6/dist-packages (from -r requirements.txt (line 121)) (4.8.0)\r\n",
      "Requirement already satisfied: phik==0.11.0 in /usr/local/lib/python3.6/dist-packages (from -r requirements.txt (line 122)) (0.11.0)\r\n",
      "Requirement already satisfied: pickle5==0.0.11 in /usr/local/lib/python3.6/dist-packages (from -r requirements.txt (line 123)) (0.0.11)\r\n",
      "Requirement already satisfied: pickleshare==0.7.5 in /usr/local/lib/python3.6/dist-packages (from -r requirements.txt (line 124)) (0.7.5)\r\n",
      "Requirement already satisfied: Pillow==8.1.0 in /usr/local/lib/python3.6/dist-packages (from -r requirements.txt (line 125)) (8.1.0)\r\n",
      "Requirement already satisfied: plac==1.1.3 in /usr/local/lib/python3.6/dist-packages (from -r requirements.txt (line 126)) (1.1.3)\r\n",
      "Requirement already satisfied: plotly==4.14.3 in /usr/local/lib/python3.6/dist-packages (from -r requirements.txt (line 127)) (4.14.3)\r\n",
      "Requirement already satisfied: preshed==3.0.5 in /usr/local/lib/python3.6/dist-packages (from -r requirements.txt (line 128)) (3.0.5)\r\n",
      "Requirement already satisfied: prometheus-client==0.9.0 in /usr/local/lib/python3.6/dist-packages (from -r requirements.txt (line 129)) (0.9.0)\r\n",
      "Requirement already satisfied: prometheus-flask-exporter==0.18.1 in /usr/local/lib/python3.6/dist-packages (from -r requirements.txt (line 130)) (0.18.1)\r\n",
      "Requirement already satisfied: promise==2.3 in /usr/local/lib/python3.6/dist-packages (from -r requirements.txt (line 131)) (2.3)\r\n",
      "Requirement already satisfied: prompt-toolkit==3.0.16 in /usr/local/lib/python3.6/dist-packages (from -r requirements.txt (line 132)) (3.0.16)\r\n",
      "Requirement already satisfied: protobuf==3.14.0 in /usr/local/lib/python3.6/dist-packages (from -r requirements.txt (line 133)) (3.14.0)\r\n",
      "Requirement already satisfied: ptyprocess==0.7.0 in /usr/local/lib/python3.6/dist-packages (from -r requirements.txt (line 134)) (0.7.0)\r\n",
      "Requirement already satisfied: py4j==0.10.9 in /usr/local/lib/python3.6/dist-packages (from -r requirements.txt (line 135)) (0.10.9)\r\n",
      "Requirement already satisfied: pyasn1==0.4.8 in /usr/local/lib/python3.6/dist-packages (from -r requirements.txt (line 136)) (0.4.8)\r\n",
      "Requirement already satisfied: pyasn1-modules==0.2.8 in /usr/local/lib/python3.6/dist-packages (from -r requirements.txt (line 137)) (0.2.8)\r\n",
      "Requirement already satisfied: pycaret==2.3.0 in /usr/local/lib/python3.6/dist-packages (from -r requirements.txt (line 138)) (2.3.0)\r\n",
      "Requirement already satisfied: pycparser==2.20 in /usr/local/lib/python3.6/dist-packages (from -r requirements.txt (line 139)) (2.20)\r\n",
      "Requirement already satisfied: pycrypto==2.6.1 in /usr/lib/python3/dist-packages (from -r requirements.txt (line 140)) (2.6.1)\r\n",
      "Requirement already satisfied: Pygments==2.8.0 in /usr/local/lib/python3.6/dist-packages (from -r requirements.txt (line 141)) (2.8.0)\r\n",
      "Requirement already satisfied: pygobject==3.26.1 in /usr/lib/python3/dist-packages (from -r requirements.txt (line 142)) (3.26.1)\r\n",
      "Requirement already satisfied: pyLDAvis==3.2.2 in /usr/local/lib/python3.6/dist-packages (from -r requirements.txt (line 144)) (3.2.2)\r\n",
      "Requirement already satisfied: pynndescent==0.5.2 in /usr/local/lib/python3.6/dist-packages (from -r requirements.txt (line 145)) (0.5.2)\r\n",
      "Requirement already satisfied: pyod==0.8.7 in /usr/local/lib/python3.6/dist-packages (from -r requirements.txt (line 146)) (0.8.7)\r\n",
      "Requirement already satisfied: pyparsing==2.4.7 in /usr/local/lib/python3.6/dist-packages (from -r requirements.txt (line 147)) (2.4.7)\r\n",
      "Requirement already satisfied: pyrsistent==0.17.3 in /usr/local/lib/python3.6/dist-packages (from -r requirements.txt (line 148)) (0.17.3)\r\n",
      "Requirement already satisfied: PySocks==1.7.1 in /usr/local/lib/python3.6/dist-packages (from -r requirements.txt (line 149)) (1.7.1)\r\n",
      "Requirement already satisfied: pyspark==3.1.1 in /usr/local/lib/python3.6/dist-packages (from -r requirements.txt (line 150)) (3.1.1)\r\n",
      "Requirement already satisfied: python-apt==1.6.5+ubuntu0.5 in /usr/lib/python3/dist-packages (from -r requirements.txt (line 151)) (1.6.5+ubuntu0.5)\r\n",
      "Requirement already satisfied: python-dateutil==2.8.1 in /usr/local/lib/python3.6/dist-packages (from -r requirements.txt (line 152)) (2.8.1)\r\n",
      "Requirement already satisfied: python-editor==1.0.4 in /usr/local/lib/python3.6/dist-packages (from -r requirements.txt (line 153)) (1.0.4)\r\n",
      "Requirement already satisfied: python-slugify==4.0.1 in /usr/local/lib/python3.6/dist-packages (from -r requirements.txt (line 154)) (4.0.1)\r\n",
      "Requirement already satisfied: pytz==2021.1 in /usr/local/lib/python3.6/dist-packages (from -r requirements.txt (line 155)) (2021.1)\r\n",
      "Requirement already satisfied: PyWavelets==1.1.1 in /usr/local/lib/python3.6/dist-packages (from -r requirements.txt (line 156)) (1.1.1)\r\n",
      "Requirement already satisfied: pyxdg==0.25 in /usr/lib/python3/dist-packages (from -r requirements.txt (line 157)) (0.25)\r\n",
      "Requirement already satisfied: PyYAML==5.4.1 in /usr/local/lib/python3.6/dist-packages (from -r requirements.txt (line 158)) (5.4.1)\r\n",
      "Requirement already satisfied: pyzmq==22.0.3 in /usr/local/lib/python3.6/dist-packages (from -r requirements.txt (line 159)) (22.0.3)\r\n",
      "Requirement already satisfied: qtconsole==5.0.2 in /usr/local/lib/python3.6/dist-packages (from -r requirements.txt (line 160)) (5.0.2)\r\n",
      "Requirement already satisfied: QtPy==1.9.0 in /usr/local/lib/python3.6/dist-packages (from -r requirements.txt (line 161)) (1.9.0)\r\n",
      "Requirement already satisfied: querystring-parser==1.2.4 in /usr/local/lib/python3.6/dist-packages (from -r requirements.txt (line 162)) (1.2.4)\r\n",
      "Requirement already satisfied: regex==2020.11.13 in /usr/local/lib/python3.6/dist-packages (from -r requirements.txt (line 163)) (2020.11.13)\r\n",
      "Requirement already satisfied: requests==2.25.1 in /usr/local/lib/python3.6/dist-packages (from -r requirements.txt (line 164)) (2.25.1)\r\n",
      "Requirement already satisfied: requests-oauthlib==1.3.0 in /usr/local/lib/python3.6/dist-packages (from -r requirements.txt (line 165)) (1.3.0)\r\n",
      "Requirement already satisfied: retrying==1.3.3 in /usr/local/lib/python3.6/dist-packages (from -r requirements.txt (line 166)) (1.3.3)\r\n",
      "Requirement already satisfied: rsa==4.7 in /usr/local/lib/python3.6/dist-packages (from -r requirements.txt (line 167)) (4.7)\r\n",
      "Requirement already satisfied: scikit-learn==0.23.2 in /usr/local/lib/python3.6/dist-packages (from -r requirements.txt (line 168)) (0.23.2)\r\n",
      "Requirement already satisfied: scikit-plot==0.3.7 in /usr/local/lib/python3.6/dist-packages (from -r requirements.txt (line 169)) (0.3.7)\r\n",
      "Requirement already satisfied: scikit-surprise==1.1.1 in /usr/local/lib/python3.6/dist-packages (from -r requirements.txt (line 170)) (1.1.1)\r\n",
      "Requirement already satisfied: scipy==1.5.4 in /usr/local/lib/python3.6/dist-packages (from -r requirements.txt (line 171)) (1.5.4)\r\n",
      "Requirement already satisfied: seaborn==0.11.1 in /usr/local/lib/python3.6/dist-packages (from -r requirements.txt (line 172)) (0.11.1)\r\n",
      "Requirement already satisfied: SecretStorage==2.3.1 in /usr/lib/python3/dist-packages (from -r requirements.txt (line 173)) (2.3.1)\r\n",
      "Requirement already satisfied: Send2Trash==1.5.0 in /usr/local/lib/python3.6/dist-packages (from -r requirements.txt (line 174)) (1.5.0)\r\n",
      "Requirement already satisfied: shap==0.38.1 in /usr/local/lib/python3.6/dist-packages (from -r requirements.txt (line 175)) (0.38.1)\r\n",
      "Requirement already satisfied: simplejson==3.17.2 in /usr/local/lib/python3.6/dist-packages (from -r requirements.txt (line 176)) (3.17.2)\r\n",
      "Requirement already satisfied: six==1.15.0 in /usr/local/lib/python3.6/dist-packages (from -r requirements.txt (line 177)) (1.15.0)\r\n",
      "Requirement already satisfied: slicer==0.0.7 in /usr/local/lib/python3.6/dist-packages (from -r requirements.txt (line 178)) (0.0.7)\r\n",
      "Requirement already satisfied: smart-open==4.2.0 in /usr/local/lib/python3.6/dist-packages (from -r requirements.txt (line 179)) (4.2.0)\r\n",
      "Requirement already satisfied: smmap==3.0.5 in /usr/local/lib/python3.6/dist-packages (from -r requirements.txt (line 180)) (3.0.5)\r\n",
      "Requirement already satisfied: spacy==2.3.5 in /usr/local/lib/python3.6/dist-packages (from -r requirements.txt (line 181)) (2.3.5)\r\n",
      "Requirement already satisfied: SQLAlchemy==1.3.23 in /usr/local/lib/python3.6/dist-packages (from -r requirements.txt (line 182)) (1.3.23)\r\n",
      "Requirement already satisfied: sqlparse==0.4.1 in /usr/local/lib/python3.6/dist-packages (from -r requirements.txt (line 183)) (0.4.1)\r\n",
      "Requirement already satisfied: srsly==1.0.5 in /usr/local/lib/python3.6/dist-packages (from -r requirements.txt (line 184)) (1.0.5)\r\n",
      "Requirement already satisfied: ssh-import-id==5.7 in /usr/lib/python3/dist-packages (from -r requirements.txt (line 185)) (5.7)\r\n",
      "Requirement already satisfied: statsmodels==0.12.2 in /usr/local/lib/python3.6/dist-packages (from -r requirements.txt (line 186)) (0.12.2)\r\n",
      "Requirement already satisfied: surprise==0.1 in /usr/local/lib/python3.6/dist-packages (from -r requirements.txt (line 187)) (0.1)\r\n",
      "Requirement already satisfied: tabulate==0.8.9 in /usr/local/lib/python3.6/dist-packages (from -r requirements.txt (line 188)) (0.8.9)\r\n",
      "Requirement already satisfied: tangled-up-in-unicode==0.0.6 in /usr/local/lib/python3.6/dist-packages (from -r requirements.txt (line 189)) (0.0.6)\r\n",
      "Requirement already satisfied: tensorboard==2.4.1 in /usr/local/lib/python3.6/dist-packages (from -r requirements.txt (line 190)) (2.4.1)\r\n",
      "Requirement already satisfied: tensorboard-plugin-wit==1.8.0 in /usr/local/lib/python3.6/dist-packages (from -r requirements.txt (line 191)) (1.8.0)\r\n",
      "Requirement already satisfied: tensorflow==2.4.0 in /usr/local/lib/python3.6/dist-packages (from -r requirements.txt (line 192)) (2.4.0)\r\n",
      "Requirement already satisfied: tensorflow-datasets==4.2.0 in /usr/local/lib/python3.6/dist-packages (from -r requirements.txt (line 193)) (4.2.0)\r\n",
      "Requirement already satisfied: tensorflow-estimator==2.4.0 in /usr/local/lib/python3.6/dist-packages (from -r requirements.txt (line 194)) (2.4.0)\r\n",
      "Requirement already satisfied: tensorflow-examples===c3bf7340c5002d62f4d51da21d7b01a884082472- in /usr/local/lib/python3.6/dist-packages (from -r requirements.txt (line 195)) (c3bf7340c5002d62f4d51da21d7b01a884082472-)\r\n",
      "Requirement already satisfied: tensorflow-gpu==2.4.1 in /usr/local/lib/python3.6/dist-packages (from -r requirements.txt (line 196)) (2.4.1)\r\n",
      "Requirement already satisfied: tensorflow-metadata==0.28.0 in /usr/local/lib/python3.6/dist-packages (from -r requirements.txt (line 197)) (0.28.0)\r\n",
      "Requirement already satisfied: termcolor==1.1.0 in /usr/local/lib/python3.6/dist-packages (from -r requirements.txt (line 198)) (1.1.0)\r\n",
      "Requirement already satisfied: terminado==0.9.2 in /usr/local/lib/python3.6/dist-packages (from -r requirements.txt (line 199)) (0.9.2)\r\n",
      "Requirement already satisfied: testpath==0.4.4 in /usr/local/lib/python3.6/dist-packages (from -r requirements.txt (line 200)) (0.4.4)\r\n",
      "Requirement already satisfied: text-unidecode==1.3 in /usr/local/lib/python3.6/dist-packages (from -r requirements.txt (line 201)) (1.3)\r\n",
      "Requirement already satisfied: textblob==0.15.3 in /usr/local/lib/python3.6/dist-packages (from -r requirements.txt (line 202)) (0.15.3)\r\n",
      "Requirement already satisfied: thinc==7.4.5 in /usr/local/lib/python3.6/dist-packages (from -r requirements.txt (line 203)) (7.4.5)\r\n",
      "Requirement already satisfied: threadpoolctl==2.1.0 in /usr/local/lib/python3.6/dist-packages (from -r requirements.txt (line 204)) (2.1.0)\r\n",
      "Requirement already satisfied: timm==0.5.4 in /usr/local/lib/python3.6/dist-packages (from -r requirements.txt (line 205)) (0.5.4)\r\n",
      "Requirement already satisfied: torch==1.7.1+cu110 in /usr/local/lib/python3.6/dist-packages (from -r requirements.txt (line 206)) (1.7.1+cu110)\r\n",
      "Requirement already satisfied: torchaudio==0.7.2 in /usr/local/lib/python3.6/dist-packages (from -r requirements.txt (line 207)) (0.7.2)\r\n",
      "Requirement already satisfied: torchvision==0.8.2+cu110 in /usr/local/lib/python3.6/dist-packages (from -r requirements.txt (line 208)) (0.8.2+cu110)\r\n",
      "Requirement already satisfied: tornado==6.1 in /usr/local/lib/python3.6/dist-packages (from -r requirements.txt (line 209)) (6.1)\r\n",
      "Requirement already satisfied: tqdm==4.58.0 in /usr/local/lib/python3.6/dist-packages (from -r requirements.txt (line 210)) (4.58.0)\r\n",
      "Requirement already satisfied: traitlets==4.3.3 in /usr/local/lib/python3.6/dist-packages (from -r requirements.txt (line 211)) (4.3.3)\r\n",
      "Requirement already satisfied: tweepy==3.10.0 in /usr/local/lib/python3.6/dist-packages (from -r requirements.txt (line 212)) (3.10.0)\r\n",
      "Requirement already satisfied: txt2tags==3.7 in /usr/local/lib/python3.6/dist-packages (from -r requirements.txt (line 213)) (3.7)\r\n",
      "Requirement already satisfied: typing-extensions==3.7.4.3 in /usr/local/lib/python3.6/dist-packages (from -r requirements.txt (line 214)) (3.7.4.3)\r\n",
      "Requirement already satisfied: ufw==0.36 in /usr/lib/python3/dist-packages (from -r requirements.txt (line 215)) (0.36)\r\n",
      "Requirement already satisfied: umap-learn==0.5.1 in /usr/local/lib/python3.6/dist-packages (from -r requirements.txt (line 216)) (0.5.1)\r\n",
      "Requirement already satisfied: urllib3==1.26.2 in /usr/local/lib/python3.6/dist-packages (from -r requirements.txt (line 217)) (1.26.2)\r\n",
      "Requirement already satisfied: visions==0.6.0 in /usr/local/lib/python3.6/dist-packages (from -r requirements.txt (line 218)) (0.6.0)\r\n",
      "Requirement already satisfied: wasabi==0.8.2 in /usr/local/lib/python3.6/dist-packages (from -r requirements.txt (line 219)) (0.8.2)\r\n",
      "Requirement already satisfied: wcwidth==0.2.5 in /usr/local/lib/python3.6/dist-packages (from -r requirements.txt (line 220)) (0.2.5)\r\n",
      "Requirement already satisfied: webencodings==0.5.1 in /usr/local/lib/python3.6/dist-packages (from -r requirements.txt (line 221)) (0.5.1)\r\n",
      "Requirement already satisfied: websocket-client==0.57.0 in /usr/local/lib/python3.6/dist-packages (from -r requirements.txt (line 222)) (0.57.0)\r\n",
      "Requirement already satisfied: Werkzeug==1.0.1 in /usr/local/lib/python3.6/dist-packages (from -r requirements.txt (line 223)) (1.0.1)\r\n",
      "Requirement already satisfied: widgetsnbextension==3.5.1 in /usr/local/lib/python3.6/dist-packages (from -r requirements.txt (line 224)) (3.5.1)\r\n",
      "Requirement already satisfied: wordcloud==1.8.1 in /usr/local/lib/python3.6/dist-packages (from -r requirements.txt (line 225)) (1.8.1)\r\n",
      "Requirement already satisfied: wrapt==1.12.1 in /usr/local/lib/python3.6/dist-packages (from -r requirements.txt (line 226)) (1.12.1)\r\n",
      "Requirement already satisfied: xgboost==1.3.3 in /usr/local/lib/python3.6/dist-packages (from -r requirements.txt (line 227)) (1.3.3)\r\n",
      "Requirement already satisfied: xlrd==2.0.1 in /usr/local/lib/python3.6/dist-packages (from -r requirements.txt (line 228)) (2.0.1)\r\n",
      "Requirement already satisfied: yellowbrick==1.3.post1 in /usr/local/lib/python3.6/dist-packages (from -r requirements.txt (line 229)) (1.3.post1)\r\n",
      "Requirement already satisfied: zipp==3.4.0 in /usr/local/lib/python3.6/dist-packages (from -r requirements.txt (line 230)) (3.4.0)\r\n",
      "Collecting argparse>=1.4.0\r\n",
      "  Using cached argparse-1.4.0-py2.py3-none-any.whl (23 kB)\r\n",
      "Requirement already satisfied: wheel<1.0,>=0.23.0 in /usr/local/lib/python3.6/dist-packages (from astunparse==1.6.3->-r requirements.txt (line 5)) (0.36.2)\r\n",
      "Requirement already satisfied: setuptools>=34.4.1 in /usr/local/lib/python3.6/dist-packages (from cufflinks==0.17.3->-r requirements.txt (line 25)) (51.3.3)\r\n",
      "Installing collected packages: argparse\r\n",
      "Successfully installed argparse-1.4.0\r\n",
      "\u001B[33mWARNING: You are using pip version 21.0.1; however, version 21.3.1 is available.\r\n",
      "You should consider upgrading via the '/usr/bin/python3 -m pip install --upgrade pip' command.\u001B[0m\r\n",
      "Note: you may need to restart the kernel to use updated packages.\n"
     ]
    }
   ],
   "source": [
    "pip install -r requirements.txt"
   ]
  },
  {
   "cell_type": "code",
   "execution_count": 4,
   "id": "ts26D3gLnyLd",
   "metadata": {
    "colab": {
     "base_uri": "https://localhost:8080/"
    },
    "id": "ts26D3gLnyLd",
    "outputId": "cb1a0caa-c636-4e9b-ed3d-5ca4a9a576c2",
    "scrolled": true
   },
   "outputs": [
    {
     "name": "stdout",
     "output_type": "stream",
     "text": [
      "Sat Apr  9 16:47:56 2022       \r\n",
      "+-----------------------------------------------------------------------------+\r\n",
      "| NVIDIA-SMI 460.73.01    Driver Version: 460.73.01    CUDA Version: 11.2     |\r\n",
      "|-------------------------------+----------------------+----------------------+\r\n",
      "| GPU  Name        Persistence-M| Bus-Id        Disp.A | Volatile Uncorr. ECC |\r\n",
      "| Fan  Temp  Perf  Pwr:Usage/Cap|         Memory-Usage | GPU-Util  Compute M. |\r\n",
      "|                               |                      |               MIG M. |\r\n",
      "|===============================+======================+======================|\r\n",
      "|   0  Tesla V100-SXM2...  On   | 00000000:00:06.0 Off |                  Off |\r\n",
      "| N/A   35C    P0    41W / 300W |      0MiB / 32510MiB |      0%      Default |\r\n",
      "|                               |                      |                  N/A |\r\n",
      "+-------------------------------+----------------------+----------------------+\r\n",
      "                                                                               \r\n",
      "+-----------------------------------------------------------------------------+\r\n",
      "| Processes:                                                                  |\r\n",
      "|  GPU   GI   CI        PID   Type   Process name                  GPU Memory |\r\n",
      "|        ID   ID                                                   Usage      |\r\n",
      "|=============================================================================|\r\n",
      "|  No running processes found                                                 |\r\n",
      "+-----------------------------------------------------------------------------+\r\n"
     ]
    }
   ],
   "source": [
    "!nvidia-smi"
   ]
  },
  {
   "cell_type": "code",
   "execution_count": 5,
   "id": "22446e9a",
   "metadata": {},
   "outputs": [
    {
     "name": "stdout",
     "output_type": "stream",
     "text": [
      "[name: \"/device:CPU:0\"\n",
      "device_type: \"CPU\"\n",
      "memory_limit: 268435456\n",
      "locality {\n",
      "}\n",
      "incarnation: 11827483897067652675\n",
      ", name: \"/device:GPU:0\"\n",
      "device_type: \"GPU\"\n",
      "memory_limit: 31592913408\n",
      "locality {\n",
      "  bus_id: 1\n",
      "  links {\n",
      "  }\n",
      "}\n",
      "incarnation: 13905399615144479495\n",
      "physical_device_desc: \"device: 0, name: Tesla V100-SXM2-32GB, pci bus id: 0000:00:06.0, compute capability: 7.0\"\n",
      "]\n"
     ]
    }
   ],
   "source": [
    "from tensorflow.python.client import device_lib\n",
    "print(device_lib.list_local_devices())"
   ]
  },
  {
   "cell_type": "code",
   "execution_count": 6,
   "id": "floating-cincinnati",
   "metadata": {
    "execution": {
     "iopub.execute_input": "2021-05-30T18:39:28.086573Z",
     "iopub.status.busy": "2021-05-30T18:39:28.085923Z",
     "iopub.status.idle": "2021-05-30T18:39:32.847126Z",
     "shell.execute_reply": "2021-05-30T18:39:32.846068Z",
     "shell.execute_reply.started": "2021-05-30T09:28:36.967323Z"
    },
    "id": "floating-cincinnati",
    "papermill": {
     "duration": 4.80129,
     "end_time": "2021-05-30T18:39:32.847355",
     "exception": false,
     "start_time": "2021-05-30T18:39:28.046065",
     "status": "completed"
    },
    "tags": []
   },
   "outputs": [],
   "source": [
    "%matplotlib inline\n",
    "import numpy as np \n",
    "import pandas as pd\n",
    "import os\n",
    "from glob import glob\n",
    "import matplotlib.pyplot as plt\n",
    "from keras_preprocessing.image import ImageDataGenerator\n",
    "from tensorflow.keras.applications import Xception\n",
    "from tensorflow.keras.layers import GlobalAveragePooling2D\n",
    "import tensorflow as tf\n",
    "from tensorflow.keras.callbacks import ModelCheckpoint, EarlyStopping, ReduceLROnPlateau\n",
    "from keras.models import Model"
   ]
  },
  {
   "cell_type": "markdown",
   "id": "7aff51ab",
   "metadata": {
    "id": "million-monaco",
    "papermill": {
     "duration": 0.026241,
     "end_time": "2021-05-30T18:39:28.019714",
     "exception": false,
     "start_time": "2021-05-30T18:39:27.993473",
     "status": "completed"
    },
    "tags": []
   },
   "source": [
    "## 데이터 세트 다운로드, 압축 해제"
   ]
  },
  {
   "cell_type": "code",
   "execution_count": 7,
   "id": "cf77f93a",
   "metadata": {},
   "outputs": [
    {
     "name": "stdout",
     "output_type": "stream",
     "text": [
      "Requirement already satisfied: gdown in /usr/local/lib/python3.6/dist-packages (4.4.0)\r\n",
      "Requirement already satisfied: tqdm in /usr/local/lib/python3.6/dist-packages (from gdown) (4.58.0)\r\n",
      "Requirement already satisfied: requests[socks] in /usr/local/lib/python3.6/dist-packages (from gdown) (2.25.1)\r\n",
      "Requirement already satisfied: beautifulsoup4 in /usr/local/lib/python3.6/dist-packages (from gdown) (4.6.0)\r\n",
      "Requirement already satisfied: filelock in /usr/local/lib/python3.6/dist-packages (from gdown) (3.4.1)\r\n",
      "Requirement already satisfied: six in /usr/local/lib/python3.6/dist-packages (from gdown) (1.15.0)\r\n",
      "Requirement already satisfied: urllib3<1.27,>=1.21.1 in /usr/local/lib/python3.6/dist-packages (from requests[socks]->gdown) (1.26.2)\r\n",
      "Requirement already satisfied: idna<3,>=2.5 in /usr/lib/python3/dist-packages (from requests[socks]->gdown) (2.6)\r\n",
      "Requirement already satisfied: chardet<5,>=3.0.2 in /usr/local/lib/python3.6/dist-packages (from requests[socks]->gdown) (4.0.0)\r\n",
      "Requirement already satisfied: certifi>=2017.4.17 in /usr/local/lib/python3.6/dist-packages (from requests[socks]->gdown) (2020.12.5)\r\n",
      "Requirement already satisfied: PySocks!=1.5.7,>=1.5.6 in /usr/local/lib/python3.6/dist-packages (from requests[socks]->gdown) (1.7.1)\r\n",
      "\u001B[33mWARNING: You are using pip version 21.0.1; however, version 21.3.1 is available.\r\n",
      "You should consider upgrading via the '/usr/bin/python3 -m pip install --upgrade pip' command.\u001B[0m\r\n",
      "/usr/local/lib/python3.6/dist-packages/gdown/cli.py:131: FutureWarning: Option `--id` was deprecated in version 4.3.1 and will be removed in 5.0. You don't need to pass it anymore to use a file ID.\r\n",
      "  category=FutureWarning,\r\n",
      "Downloading...\r\n",
      "From: https://drive.google.com/uc?id=1TOHms3kqGonSayOTse0MXiOc4zGSdtsI\r\n",
      "To: /home/ClsKLData.zip\r\n",
      "100%|████████████████████████████████████████| 591M/591M [00:07<00:00, 81.0MB/s]\r\n",
      "/usr/local/lib/python3.6/dist-packages/gdown/cli.py:131: FutureWarning: Option `--id` was deprecated in version 4.3.1 and will be removed in 5.0. You don't need to pass it anymore to use a file ID.\r\n",
      "  category=FutureWarning,\r\n",
      "Downloading...\r\n",
      "From: https://drive.google.com/uc?id=1lR_B5LSrtUg273ADJQswDHxpjzDfFxIR\r\n",
      "To: /home/KneeXray.zip\r\n",
      "100%|████████████████████████████████████████| 120M/120M [00:01<00:00, 74.5MB/s]\r\n",
      "/usr/local/lib/python3.6/dist-packages/gdown/cli.py:131: FutureWarning: Option `--id` was deprecated in version 4.3.1 and will be removed in 5.0. You don't need to pass it anymore to use a file ID.\r\n",
      "  category=FutureWarning,\r\n",
      "Downloading...\r\n",
      "From: https://drive.google.com/uc?id=1pI08Cs48tp9NXhuRMt7tssITx4-_PqH1\r\n",
      "To: /home/Lee_KneeData.zip\r\n",
      "100%|██████████████████████████████████████| 3.68M/3.68M [00:00<00:00, 12.3MB/s]\r\n"
     ]
    }
   ],
   "source": [
    "!pip install gdown\n",
    "\n",
    "# train 데이터 세트_ClsKLData\n",
    "!gdown --id \"1TOHms3kqGonSayOTse0MXiOc4zGSdtsI\"\n",
    "\n",
    "# validation & test 데이터 세트_KneeXray\n",
    "!gdown --id \"1lR_B5LSrtUg273ADJQswDHxpjzDfFxIR\"\n",
    "\n",
    "# 추가 test 데이터 세트_Lee_kneeData\n",
    "!gdown --id \"1pI08Cs48tp9NXhuRMt7tssITx4-_PqH1\""
   ]
  },
  {
   "cell_type": "code",
   "execution_count": 8,
   "id": "763af922",
   "metadata": {
    "scrolled": true
   },
   "outputs": [],
   "source": [
    "import zipfile\n",
    "         \n",
    "fantasy_zip = zipfile.ZipFile('./ClsKLData.zip')\n",
    "fantasy_zip.extractall('./ClsKLData')\n",
    "fantasy_zip.close()"
   ]
  },
  {
   "cell_type": "code",
   "execution_count": 9,
   "id": "d94a16bf",
   "metadata": {},
   "outputs": [],
   "source": [
    "import zipfile\n",
    "fantasy_zip = zipfile.ZipFile('./KneeXray.zip')\n",
    "fantasy_zip.extractall('./KneeXray') \n",
    "fantasy_zip.close()"
   ]
  },
  {
   "cell_type": "code",
   "execution_count": 10,
   "id": "8202f9bb",
   "metadata": {},
   "outputs": [],
   "source": [
    "import zipfile\n",
    "fantasy_zip = zipfile.ZipFile('./Lee_KneeData.zip')\n",
    "fantasy_zip.extractall('./Lee_KneeData')\n",
    "fantasy_zip.close()"
   ]
  },
  {
   "cell_type": "code",
   "execution_count": 11,
   "id": "encouraging-novel",
   "metadata": {
    "execution": {
     "iopub.execute_input": "2021-05-30T18:39:36.090553Z",
     "iopub.status.busy": "2021-05-30T18:39:36.089729Z",
     "iopub.status.idle": "2021-05-30T18:39:36.092340Z",
     "shell.execute_reply": "2021-05-30T18:39:36.091828Z",
     "shell.execute_reply.started": "2021-05-30T09:28:44.189248Z"
    },
    "id": "encouraging-novel",
    "papermill": {
     "duration": 0.035021,
     "end_time": "2021-05-30T18:39:36.092447",
     "exception": false,
     "start_time": "2021-05-30T18:39:36.057426",
     "status": "completed"
    },
    "tags": []
   },
   "outputs": [],
   "source": [
    "train_aug = ImageDataGenerator(rescale=1./255)\n",
    "valid_aug = ImageDataGenerator(rescale=1./255)"
   ]
  },
  {
   "cell_type": "markdown",
   "id": "48f1793e",
   "metadata": {
    "id": "million-monaco",
    "papermill": {
     "duration": 0.026241,
     "end_time": "2021-05-30T18:39:28.019714",
     "exception": false,
     "start_time": "2021-05-30T18:39:27.993473",
     "status": "completed"
    },
    "tags": []
   },
   "source": [
    "## 학습 데이터"
   ]
  },
  {
   "cell_type": "code",
   "execution_count": 12,
   "id": "emotional-valuable",
   "metadata": {
    "execution": {
     "iopub.execute_input": "2021-05-30T18:39:33.012157Z",
     "iopub.status.busy": "2021-05-30T18:39:33.011596Z",
     "iopub.status.idle": "2021-05-30T18:39:35.556063Z",
     "shell.execute_reply": "2021-05-30T18:39:35.555555Z",
     "shell.execute_reply.started": "2021-05-30T09:28:38.947982Z"
    },
    "id": "emotional-valuable",
    "papermill": {
     "duration": 2.57776,
     "end_time": "2021-05-30T18:39:35.556225",
     "exception": false,
     "start_time": "2021-05-30T18:39:32.978465",
     "status": "completed"
    },
    "tags": []
   },
   "outputs": [],
   "source": [
    "n_class = 5\n",
    "\n",
    "root_path = \"./ClsKLData//kneeKL224//\"\n",
    "\n",
    "folder_list = os.listdir(root_path)\n",
    "image_path_list = []\n",
    "label_list = []\n",
    "\n",
    "for folder in folder_list:\n",
    "    for label in range(n_class):\n",
    "        image_list = os.listdir(f\"{root_path}{folder}/{label}\")\n",
    "        image_path_list += [ f\"{root_path}{folder}/{label}/\"+ path for path in image_list]\n",
    "        label_list += [label] * len(image_list)\n",
    "\n",
    "df_train_kaggle = pd.DataFrame({\"filepath\" : image_path_list, \"label\": label_list})"
   ]
  },
  {
   "cell_type": "code",
   "execution_count": 13,
   "id": "signal-responsibility",
   "metadata": {
    "colab": {
     "base_uri": "https://localhost:8080/"
    },
    "execution": {
     "iopub.execute_input": "2021-05-30T18:39:35.618734Z",
     "iopub.status.busy": "2021-05-30T18:39:35.617931Z",
     "iopub.status.idle": "2021-05-30T18:39:35.621117Z",
     "shell.execute_reply": "2021-05-30T18:39:35.621576Z",
     "shell.execute_reply.started": "2021-05-30T09:28:40.244589Z"
    },
    "id": "signal-responsibility",
    "outputId": "dfd8ae1d-71d1-424c-e0af-c2e831cd3514",
    "papermill": {
     "duration": 0.03629,
     "end_time": "2021-05-30T18:39:35.621716",
     "exception": false,
     "start_time": "2021-05-30T18:39:35.585426",
     "status": "completed"
    },
    "tags": []
   },
   "outputs": [
    {
     "data": {
      "text/plain": "(9786, 2)"
     },
     "execution_count": 13,
     "metadata": {},
     "output_type": "execute_result"
    }
   ],
   "source": [
    "df_train_kaggle.shape"
   ]
  },
  {
   "cell_type": "markdown",
   "id": "hairy-greene",
   "metadata": {
    "id": "hairy-greene",
    "papermill": {
     "duration": 0.030406,
     "end_time": "2021-05-30T18:39:35.680660",
     "exception": false,
     "start_time": "2021-05-30T18:39:35.650254",
     "status": "completed"
    },
    "tags": []
   },
   "source": [
    "## 학습 데이터 분포"
   ]
  },
  {
   "cell_type": "code",
   "execution_count": 14,
   "id": "therapeutic-spending",
   "metadata": {
    "colab": {
     "base_uri": "https://localhost:8080/",
     "height": 0
    },
    "execution": {
     "iopub.execute_input": "2021-05-30T18:39:35.750000Z",
     "iopub.status.busy": "2021-05-30T18:39:35.749277Z",
     "iopub.status.idle": "2021-05-30T18:39:35.918362Z",
     "shell.execute_reply": "2021-05-30T18:39:35.918766Z",
     "shell.execute_reply.started": "2021-05-30T09:28:41.597346Z"
    },
    "id": "therapeutic-spending",
    "outputId": "9f2e2be5-47ca-48db-9250-e83add5b2f95",
    "papermill": {
     "duration": 0.208649,
     "end_time": "2021-05-30T18:39:35.918905",
     "exception": false,
     "start_time": "2021-05-30T18:39:35.710256",
     "status": "completed"
    },
    "tags": []
   },
   "outputs": [
    {
     "data": {
      "text/plain": "Text(0, 0.5, 'count')"
     },
     "execution_count": 14,
     "metadata": {},
     "output_type": "execute_result"
    },
    {
     "data": {
      "text/plain": "<Figure size 432x288 with 1 Axes>",
      "image/png": "[encoded data removed]"
     },
     "metadata": {
      "needs_background": "light"
     },
     "output_type": "display_data"
    }
   ],
   "source": [
    "df_train_kaggle.label.value_counts().plot.bar()\n",
    "plt.xlabel(\"label\")\n",
    "plt.ylabel(\"count\")"
   ]
  },
  {
   "cell_type": "code",
   "execution_count": 15,
   "id": "geological-philadelphia",
   "metadata": {
    "colab": {
     "base_uri": "https://localhost:8080/"
    },
    "execution": {
     "iopub.execute_input": "2021-05-30T18:39:36.172890Z",
     "iopub.status.busy": "2021-05-30T18:39:36.167698Z",
     "iopub.status.idle": "2021-05-30T18:39:39.954054Z",
     "shell.execute_reply": "2021-05-30T18:39:39.954888Z",
     "shell.execute_reply.started": "2021-05-30T09:28:47.478488Z"
    },
    "id": "geological-philadelphia",
    "outputId": "5a67acba-6da1-4b7b-c63c-db74aa3f3ab5",
    "papermill": {
     "duration": 3.835127,
     "end_time": "2021-05-30T18:39:39.955083",
     "exception": false,
     "start_time": "2021-05-30T18:39:36.119956",
     "status": "completed"
    },
    "tags": []
   },
   "outputs": [
    {
     "name": "stdout",
     "output_type": "stream",
     "text": [
      "Found 9786 validated image filenames.\n"
     ]
    }
   ],
   "source": [
    "train_generator = train_aug.flow_from_dataframe(\n",
    "    dataframe = df_train_kaggle,\n",
    "    directory = None,\n",
    "    x_col=\"filepath\",\n",
    "    y_col=\"label\",\n",
    "    batch_size = 8,\n",
    "    seed = 42,\n",
    "    shuffle = True,\n",
    "    class_mode = \"raw\",\n",
    "    target_size = (224,224)\n",
    ")"
   ]
  },
  {
   "cell_type": "markdown",
   "id": "asian-chest",
   "metadata": {
    "id": "asian-chest",
    "papermill": {
     "duration": 0.027295,
     "end_time": "2021-05-30T18:39:40.011354",
     "exception": false,
     "start_time": "2021-05-30T18:39:39.984059",
     "status": "completed"
    },
    "tags": []
   },
   "source": [
    "## 검증, 테스트 데이터"
   ]
  },
  {
   "cell_type": "code",
   "execution_count": 16,
   "id": "threaded-characterization",
   "metadata": {
    "colab": {
     "base_uri": "https://localhost:8080/",
     "height": 0
    },
    "execution": {
     "iopub.execute_input": "2021-05-30T18:40:02.229132Z",
     "iopub.status.busy": "2021-05-30T18:40:02.228400Z",
     "iopub.status.idle": "2021-05-30T18:40:02.250117Z",
     "shell.execute_reply": "2021-05-30T18:40:02.250642Z",
     "shell.execute_reply.started": "2021-05-30T08:33:23.833280Z"
    },
    "id": "threaded-characterization",
    "outputId": "f6fc6702-0a3d-4689-ce71-a698cbea485e",
    "papermill": {
     "duration": 0.059732,
     "end_time": "2021-05-30T18:40:02.250775",
     "exception": false,
     "start_time": "2021-05-30T18:40:02.191043",
     "status": "completed"
    },
    "tags": []
   },
   "outputs": [
    {
     "data": {
      "text/plain": "                                  filename  label\n0  ./KneeXray//KneeXray//train/Image_1.jpg      0\n1  ./KneeXray//KneeXray//train/Image_2.jpg      1\n2  ./KneeXray//KneeXray//train/Image_3.jpg      0\n3  ./KneeXray//KneeXray//train/Image_4.jpg      1\n4  ./KneeXray//KneeXray//train/Image_5.jpg      2",
      "text/html": "<div>\n<style scoped>\n    .dataframe tbody tr th:only-of-type {\n        vertical-align: middle;\n    }\n\n    .dataframe tbody tr th {\n        vertical-align: top;\n    }\n\n    .dataframe thead th {\n        text-align: right;\n    }\n</style>\n<table border=\"1\" class=\"dataframe\">\n  <thead>\n    <tr style=\"text-align: right;\">\n      <th></th>\n      <th>filename</th>\n      <th>label</th>\n    </tr>\n  </thead>\n  <tbody>\n    <tr>\n      <th>0</th>\n      <td>./KneeXray//KneeXray//train/Image_1.jpg</td>\n      <td>0</td>\n    </tr>\n    <tr>\n      <th>1</th>\n      <td>./KneeXray//KneeXray//train/Image_2.jpg</td>\n      <td>1</td>\n    </tr>\n    <tr>\n      <th>2</th>\n      <td>./KneeXray//KneeXray//train/Image_3.jpg</td>\n      <td>0</td>\n    </tr>\n    <tr>\n      <th>3</th>\n      <td>./KneeXray//KneeXray//train/Image_4.jpg</td>\n      <td>1</td>\n    </tr>\n    <tr>\n      <th>4</th>\n      <td>./KneeXray//KneeXray//train/Image_5.jpg</td>\n      <td>2</td>\n    </tr>\n  </tbody>\n</table>\n</div>"
     },
     "execution_count": 16,
     "metadata": {},
     "output_type": "execute_result"
    }
   ],
   "source": [
    "compi_root_path= \"./KneeXray//KneeXray//\"\n",
    "df_val_compi = pd.read_csv(compi_root_path + \"Train.csv\")\n",
    "df_val_compi[\"filename\"] = df_val_compi.filename.apply(lambda x: compi_root_path+\"train/\" + x)\n",
    "df_val_compi.head()"
   ]
  },
  {
   "cell_type": "code",
   "execution_count": 17,
   "id": "c720bcf6",
   "metadata": {},
   "outputs": [
    {
     "data": {
      "text/plain": "(7828, 2)"
     },
     "execution_count": 17,
     "metadata": {},
     "output_type": "execute_result"
    }
   ],
   "source": [
    "df_val_compi.shape"
   ]
  },
  {
   "cell_type": "markdown",
   "id": "4b2810ec",
   "metadata": {
    "id": "hairy-greene",
    "papermill": {
     "duration": 0.030406,
     "end_time": "2021-05-30T18:39:35.680660",
     "exception": false,
     "start_time": "2021-05-30T18:39:35.650254",
     "status": "completed"
    },
    "tags": []
   },
   "source": [
    "## 검증 데이터 분포"
   ]
  },
  {
   "cell_type": "code",
   "execution_count": 18,
   "id": "suburban-shareware",
   "metadata": {
    "colab": {
     "base_uri": "https://localhost:8080/",
     "height": 0
    },
    "execution": {
     "iopub.execute_input": "2021-05-30T18:40:02.339459Z",
     "iopub.status.busy": "2021-05-30T18:40:02.324109Z",
     "iopub.status.idle": "2021-05-30T18:40:02.442504Z",
     "shell.execute_reply": "2021-05-30T18:40:02.442056Z",
     "shell.execute_reply.started": "2021-05-30T08:33:23.865039Z"
    },
    "id": "suburban-shareware",
    "outputId": "0daca1fb-c665-4a25-8da7-9250f7756ff1",
    "papermill": {
     "duration": 0.158988,
     "end_time": "2021-05-30T18:40:02.442618",
     "exception": false,
     "start_time": "2021-05-30T18:40:02.283630",
     "status": "completed"
    },
    "tags": []
   },
   "outputs": [
    {
     "data": {
      "text/plain": "Text(0, 0.5, 'count')"
     },
     "execution_count": 18,
     "metadata": {},
     "output_type": "execute_result"
    },
    {
     "data": {
      "text/plain": "<Figure size 432x288 with 1 Axes>",
      "image/png": "[encoded data removed]"
     },
     "metadata": {
      "needs_background": "light"
     },
     "output_type": "display_data"
    }
   ],
   "source": [
    "df_val_compi.label.value_counts().plot.bar()\n",
    "plt.xlabel(\"label\")\n",
    "plt.ylabel(\"count\")"
   ]
  },
  {
   "cell_type": "code",
   "execution_count": 19,
   "id": "saving-homework",
   "metadata": {
    "colab": {
     "base_uri": "https://localhost:8080/"
    },
    "execution": {
     "iopub.execute_input": "2021-05-30T18:40:02.529039Z",
     "iopub.status.busy": "2021-05-30T18:40:02.528305Z",
     "iopub.status.idle": "2021-05-30T18:40:02.574290Z",
     "shell.execute_reply": "2021-05-30T18:40:02.574903Z",
     "shell.execute_reply.started": "2021-05-30T08:54:21.600981Z"
    },
    "id": "saving-homework",
    "outputId": "21b896d0-bceb-4621-efb3-33908214d2d6",
    "papermill": {
     "duration": 0.098388,
     "end_time": "2021-05-30T18:40:02.575081",
     "exception": false,
     "start_time": "2021-05-30T18:40:02.476693",
     "status": "completed"
    },
    "tags": []
   },
   "outputs": [
    {
     "name": "stdout",
     "output_type": "stream",
     "text": [
      "Found 7828 validated image filenames.\n"
     ]
    }
   ],
   "source": [
    "valid_generator = valid_aug.flow_from_dataframe( \n",
    "    dataframe= df_val_compi,\n",
    "    x_col = \"filename\",\n",
    "    y_col = \"label\",\n",
    "    batch_size = 8,\n",
    "    seed = 42,\n",
    "    shuffle = True,\n",
    "    class_mode = \"raw\",\n",
    "    target_size = (224,224)\n",
    ")"
   ]
  },
  {
   "cell_type": "markdown",
   "id": "marked-belarus",
   "metadata": {
    "id": "marked-belarus",
    "papermill": {
     "duration": 0.033792,
     "end_time": "2021-05-30T18:40:02.643887",
     "exception": false,
     "start_time": "2021-05-30T18:40:02.610095",
     "status": "completed"
    },
    "tags": []
   },
   "source": [
    "## 모델 구조"
   ]
  },
  {
   "cell_type": "code",
   "execution_count": 20,
   "id": "buried-tablet",
   "metadata": {
    "colab": {
     "base_uri": "https://localhost:8080/"
    },
    "execution": {
     "iopub.execute_input": "2021-05-30T18:40:02.724467Z",
     "iopub.status.busy": "2021-05-30T18:40:02.723830Z",
     "iopub.status.idle": "2021-05-30T18:40:08.132744Z",
     "shell.execute_reply": "2021-05-30T18:40:08.131632Z",
     "shell.execute_reply.started": "2021-05-30T09:28:56.068101Z"
    },
    "id": "buried-tablet",
    "outputId": "da82c4ac-8660-4b77-94f7-5e1342b4b10e",
    "papermill": {
     "duration": 5.455093,
     "end_time": "2021-05-30T18:40:08.132878",
     "exception": false,
     "start_time": "2021-05-30T18:40:02.677785",
     "status": "completed"
    },
    "tags": []
   },
   "outputs": [],
   "source": [
    "from tensorflow.keras.applications import MobileNetV3Large\n",
    "\n",
    "# xception = MobileNet(weights=\"imagenet\")\n",
    "# x =  xception.layers[-3].output\n",
    "# #\n",
    "# x = tf.keras.layers.Conv2D(filters = n_class, kernel_size = 3, padding = \"same\")(x)\n",
    "# x = tf.keras.layers.BatchNormalization()(x)\n",
    "# x = tf.keras.layers.Activation(\"relu\")(x)\n",
    "# #\n",
    "# GAP = tf.keras.layers.GlobalAveragePooling2D()(x)\n",
    "# pred = tf.keras.activations.softmax(GAP)\n",
    "\n",
    "xception_model = MobileNetV3Large(weights=None, classes=5, classifier_activation=\"softmax\")\n",
    "\n",
    "    # Model(inputs=xception.input,outputs=pred)"
   ]
  },
  {
   "cell_type": "code",
   "execution_count": 21,
   "id": "eb92055e",
   "metadata": {},
   "outputs": [
    {
     "name": "stdout",
     "output_type": "stream",
     "text": [
      "Model: \"MobilenetV3large\"\n",
      "__________________________________________________________________________________________________\n",
      "Layer (type)                    Output Shape         Param #     Connected to                     \n",
      "==================================================================================================\n",
      "input_1 (InputLayer)            [(None, None, None,  0                                            \n",
      "__________________________________________________________________________________________________\n",
      "rescaling (Rescaling)           (None, None, None, 3 0           input_1[0][0]                    \n",
      "__________________________________________________________________________________________________\n",
      "Conv (Conv2D)                   (None, None, None, 1 432         rescaling[0][0]                  \n",
      "__________________________________________________________________________________________________\n",
      "Conv/BatchNorm (BatchNormalizat (None, None, None, 1 64          Conv[0][0]                       \n",
      "__________________________________________________________________________________________________\n",
      "tf.__operators__.add (TFOpLambd (None, None, None, 1 0           Conv/BatchNorm[0][0]             \n",
      "__________________________________________________________________________________________________\n",
      "re_lu (ReLU)                    (None, None, None, 1 0           tf.__operators__.add[0][0]       \n",
      "__________________________________________________________________________________________________\n",
      "tf.math.multiply (TFOpLambda)   (None, None, None, 1 0           re_lu[0][0]                      \n",
      "__________________________________________________________________________________________________\n",
      "multiply (Multiply)             (None, None, None, 1 0           tf.math.multiply[0][0]           \n",
      "                                                                 Conv/BatchNorm[0][0]             \n",
      "__________________________________________________________________________________________________\n",
      "expanded_conv/depthwise (Depthw (None, None, None, 1 144         multiply[0][0]                   \n",
      "__________________________________________________________________________________________________\n",
      "expanded_conv/depthwise/BatchNo (None, None, None, 1 64          expanded_conv/depthwise[0][0]    \n",
      "__________________________________________________________________________________________________\n",
      "re_lu_1 (ReLU)                  (None, None, None, 1 0           expanded_conv/depthwise/BatchNorm\n",
      "__________________________________________________________________________________________________\n",
      "expanded_conv/project (Conv2D)  (None, None, None, 1 256         re_lu_1[0][0]                    \n",
      "__________________________________________________________________________________________________\n",
      "expanded_conv/project/BatchNorm (None, None, None, 1 64          expanded_conv/project[0][0]      \n",
      "__________________________________________________________________________________________________\n",
      "expanded_conv/Add (Add)         (None, None, None, 1 0           multiply[0][0]                   \n",
      "                                                                 expanded_conv/project/BatchNorm[0\n",
      "__________________________________________________________________________________________________\n",
      "expanded_conv_1/expand (Conv2D) (None, None, None, 6 1024        expanded_conv/Add[0][0]          \n",
      "__________________________________________________________________________________________________\n",
      "expanded_conv_1/expand/BatchNor (None, None, None, 6 256         expanded_conv_1/expand[0][0]     \n",
      "__________________________________________________________________________________________________\n",
      "re_lu_2 (ReLU)                  (None, None, None, 6 0           expanded_conv_1/expand/BatchNorm[\n",
      "__________________________________________________________________________________________________\n",
      "expanded_conv_1/depthwise/pad ( (None, None, None, 6 0           re_lu_2[0][0]                    \n",
      "__________________________________________________________________________________________________\n",
      "expanded_conv_1/depthwise (Dept (None, None, None, 6 576         expanded_conv_1/depthwise/pad[0][\n",
      "__________________________________________________________________________________________________\n",
      "expanded_conv_1/depthwise/Batch (None, None, None, 6 256         expanded_conv_1/depthwise[0][0]  \n",
      "__________________________________________________________________________________________________\n",
      "re_lu_3 (ReLU)                  (None, None, None, 6 0           expanded_conv_1/depthwise/BatchNo\n",
      "__________________________________________________________________________________________________\n",
      "expanded_conv_1/project (Conv2D (None, None, None, 2 1536        re_lu_3[0][0]                    \n",
      "__________________________________________________________________________________________________\n",
      "expanded_conv_1/project/BatchNo (None, None, None, 2 96          expanded_conv_1/project[0][0]    \n",
      "__________________________________________________________________________________________________\n",
      "expanded_conv_2/expand (Conv2D) (None, None, None, 7 1728        expanded_conv_1/project/BatchNorm\n",
      "__________________________________________________________________________________________________\n",
      "expanded_conv_2/expand/BatchNor (None, None, None, 7 288         expanded_conv_2/expand[0][0]     \n",
      "__________________________________________________________________________________________________\n",
      "re_lu_4 (ReLU)                  (None, None, None, 7 0           expanded_conv_2/expand/BatchNorm[\n",
      "__________________________________________________________________________________________________\n",
      "expanded_conv_2/depthwise (Dept (None, None, None, 7 648         re_lu_4[0][0]                    \n",
      "__________________________________________________________________________________________________\n",
      "expanded_conv_2/depthwise/Batch (None, None, None, 7 288         expanded_conv_2/depthwise[0][0]  \n",
      "__________________________________________________________________________________________________\n",
      "re_lu_5 (ReLU)                  (None, None, None, 7 0           expanded_conv_2/depthwise/BatchNo\n",
      "__________________________________________________________________________________________________\n",
      "expanded_conv_2/project (Conv2D (None, None, None, 2 1728        re_lu_5[0][0]                    \n",
      "__________________________________________________________________________________________________\n",
      "expanded_conv_2/project/BatchNo (None, None, None, 2 96          expanded_conv_2/project[0][0]    \n",
      "__________________________________________________________________________________________________\n",
      "expanded_conv_2/Add (Add)       (None, None, None, 2 0           expanded_conv_1/project/BatchNorm\n",
      "                                                                 expanded_conv_2/project/BatchNorm\n",
      "__________________________________________________________________________________________________\n",
      "expanded_conv_3/expand (Conv2D) (None, None, None, 7 1728        expanded_conv_2/Add[0][0]        \n",
      "__________________________________________________________________________________________________\n",
      "expanded_conv_3/expand/BatchNor (None, None, None, 7 288         expanded_conv_3/expand[0][0]     \n",
      "__________________________________________________________________________________________________\n",
      "re_lu_6 (ReLU)                  (None, None, None, 7 0           expanded_conv_3/expand/BatchNorm[\n",
      "__________________________________________________________________________________________________\n",
      "expanded_conv_3/depthwise/pad ( (None, None, None, 7 0           re_lu_6[0][0]                    \n",
      "__________________________________________________________________________________________________\n",
      "expanded_conv_3/depthwise (Dept (None, None, None, 7 1800        expanded_conv_3/depthwise/pad[0][\n",
      "__________________________________________________________________________________________________\n",
      "expanded_conv_3/depthwise/Batch (None, None, None, 7 288         expanded_conv_3/depthwise[0][0]  \n",
      "__________________________________________________________________________________________________\n",
      "re_lu_7 (ReLU)                  (None, None, None, 7 0           expanded_conv_3/depthwise/BatchNo\n",
      "__________________________________________________________________________________________________\n",
      "expanded_conv_3/squeeze_excite/ (None, 72)           0           re_lu_7[0][0]                    \n",
      "__________________________________________________________________________________________________\n",
      "reshape (Reshape)               (None, 1, 1, 72)     0           expanded_conv_3/squeeze_excite/Av\n",
      "__________________________________________________________________________________________________\n",
      "expanded_conv_3/squeeze_excite/ (None, 1, 1, 24)     1752        reshape[0][0]                    \n",
      "__________________________________________________________________________________________________\n",
      "expanded_conv_3/squeeze_excite/ (None, 1, 1, 24)     0           expanded_conv_3/squeeze_excite/Co\n",
      "__________________________________________________________________________________________________\n",
      "expanded_conv_3/squeeze_excite/ (None, 1, 1, 72)     1800        expanded_conv_3/squeeze_excite/Re\n",
      "__________________________________________________________________________________________________\n",
      "tf.__operators__.add_1 (TFOpLam (None, 1, 1, 72)     0           expanded_conv_3/squeeze_excite/Co\n",
      "__________________________________________________________________________________________________\n",
      "re_lu_8 (ReLU)                  (None, 1, 1, 72)     0           tf.__operators__.add_1[0][0]     \n",
      "__________________________________________________________________________________________________\n",
      "tf.math.multiply_1 (TFOpLambda) (None, 1, 1, 72)     0           re_lu_8[0][0]                    \n",
      "__________________________________________________________________________________________________\n",
      "expanded_conv_3/squeeze_excite/ (None, None, None, 7 0           re_lu_7[0][0]                    \n",
      "                                                                 tf.math.multiply_1[0][0]         \n",
      "__________________________________________________________________________________________________\n",
      "expanded_conv_3/project (Conv2D (None, None, None, 4 2880        expanded_conv_3/squeeze_excite/Mu\n",
      "__________________________________________________________________________________________________\n",
      "expanded_conv_3/project/BatchNo (None, None, None, 4 160         expanded_conv_3/project[0][0]    \n",
      "__________________________________________________________________________________________________\n",
      "expanded_conv_4/expand (Conv2D) (None, None, None, 1 4800        expanded_conv_3/project/BatchNorm\n",
      "__________________________________________________________________________________________________\n",
      "expanded_conv_4/expand/BatchNor (None, None, None, 1 480         expanded_conv_4/expand[0][0]     \n",
      "__________________________________________________________________________________________________\n",
      "re_lu_9 (ReLU)                  (None, None, None, 1 0           expanded_conv_4/expand/BatchNorm[\n",
      "__________________________________________________________________________________________________\n",
      "expanded_conv_4/depthwise (Dept (None, None, None, 1 3000        re_lu_9[0][0]                    \n",
      "__________________________________________________________________________________________________\n",
      "expanded_conv_4/depthwise/Batch (None, None, None, 1 480         expanded_conv_4/depthwise[0][0]  \n",
      "__________________________________________________________________________________________________\n",
      "re_lu_10 (ReLU)                 (None, None, None, 1 0           expanded_conv_4/depthwise/BatchNo\n",
      "__________________________________________________________________________________________________\n",
      "expanded_conv_4/squeeze_excite/ (None, 120)          0           re_lu_10[0][0]                   \n",
      "__________________________________________________________________________________________________\n",
      "reshape_1 (Reshape)             (None, 1, 1, 120)    0           expanded_conv_4/squeeze_excite/Av\n",
      "__________________________________________________________________________________________________\n",
      "expanded_conv_4/squeeze_excite/ (None, 1, 1, 32)     3872        reshape_1[0][0]                  \n",
      "__________________________________________________________________________________________________\n",
      "expanded_conv_4/squeeze_excite/ (None, 1, 1, 32)     0           expanded_conv_4/squeeze_excite/Co\n",
      "__________________________________________________________________________________________________\n",
      "expanded_conv_4/squeeze_excite/ (None, 1, 1, 120)    3960        expanded_conv_4/squeeze_excite/Re\n",
      "__________________________________________________________________________________________________\n",
      "tf.__operators__.add_2 (TFOpLam (None, 1, 1, 120)    0           expanded_conv_4/squeeze_excite/Co\n",
      "__________________________________________________________________________________________________\n",
      "re_lu_11 (ReLU)                 (None, 1, 1, 120)    0           tf.__operators__.add_2[0][0]     \n",
      "__________________________________________________________________________________________________\n",
      "tf.math.multiply_2 (TFOpLambda) (None, 1, 1, 120)    0           re_lu_11[0][0]                   \n",
      "__________________________________________________________________________________________________\n",
      "expanded_conv_4/squeeze_excite/ (None, None, None, 1 0           re_lu_10[0][0]                   \n",
      "                                                                 tf.math.multiply_2[0][0]         \n",
      "__________________________________________________________________________________________________\n",
      "expanded_conv_4/project (Conv2D (None, None, None, 4 4800        expanded_conv_4/squeeze_excite/Mu\n",
      "__________________________________________________________________________________________________\n",
      "expanded_conv_4/project/BatchNo (None, None, None, 4 160         expanded_conv_4/project[0][0]    \n",
      "__________________________________________________________________________________________________\n",
      "expanded_conv_4/Add (Add)       (None, None, None, 4 0           expanded_conv_3/project/BatchNorm\n",
      "                                                                 expanded_conv_4/project/BatchNorm\n",
      "__________________________________________________________________________________________________\n",
      "expanded_conv_5/expand (Conv2D) (None, None, None, 1 4800        expanded_conv_4/Add[0][0]        \n",
      "__________________________________________________________________________________________________\n",
      "expanded_conv_5/expand/BatchNor (None, None, None, 1 480         expanded_conv_5/expand[0][0]     \n",
      "__________________________________________________________________________________________________\n",
      "re_lu_12 (ReLU)                 (None, None, None, 1 0           expanded_conv_5/expand/BatchNorm[\n",
      "__________________________________________________________________________________________________\n",
      "expanded_conv_5/depthwise (Dept (None, None, None, 1 3000        re_lu_12[0][0]                   \n",
      "__________________________________________________________________________________________________\n",
      "expanded_conv_5/depthwise/Batch (None, None, None, 1 480         expanded_conv_5/depthwise[0][0]  \n",
      "__________________________________________________________________________________________________\n",
      "re_lu_13 (ReLU)                 (None, None, None, 1 0           expanded_conv_5/depthwise/BatchNo\n",
      "__________________________________________________________________________________________________\n",
      "expanded_conv_5/squeeze_excite/ (None, 120)          0           re_lu_13[0][0]                   \n",
      "__________________________________________________________________________________________________\n",
      "reshape_2 (Reshape)             (None, 1, 1, 120)    0           expanded_conv_5/squeeze_excite/Av\n",
      "__________________________________________________________________________________________________\n",
      "expanded_conv_5/squeeze_excite/ (None, 1, 1, 32)     3872        reshape_2[0][0]                  \n",
      "__________________________________________________________________________________________________\n",
      "expanded_conv_5/squeeze_excite/ (None, 1, 1, 32)     0           expanded_conv_5/squeeze_excite/Co\n",
      "__________________________________________________________________________________________________\n",
      "expanded_conv_5/squeeze_excite/ (None, 1, 1, 120)    3960        expanded_conv_5/squeeze_excite/Re\n",
      "__________________________________________________________________________________________________\n",
      "tf.__operators__.add_3 (TFOpLam (None, 1, 1, 120)    0           expanded_conv_5/squeeze_excite/Co\n",
      "__________________________________________________________________________________________________\n",
      "re_lu_14 (ReLU)                 (None, 1, 1, 120)    0           tf.__operators__.add_3[0][0]     \n",
      "__________________________________________________________________________________________________\n",
      "tf.math.multiply_3 (TFOpLambda) (None, 1, 1, 120)    0           re_lu_14[0][0]                   \n",
      "__________________________________________________________________________________________________\n",
      "expanded_conv_5/squeeze_excite/ (None, None, None, 1 0           re_lu_13[0][0]                   \n",
      "                                                                 tf.math.multiply_3[0][0]         \n",
      "__________________________________________________________________________________________________\n",
      "expanded_conv_5/project (Conv2D (None, None, None, 4 4800        expanded_conv_5/squeeze_excite/Mu\n",
      "__________________________________________________________________________________________________\n",
      "expanded_conv_5/project/BatchNo (None, None, None, 4 160         expanded_conv_5/project[0][0]    \n",
      "__________________________________________________________________________________________________\n",
      "expanded_conv_5/Add (Add)       (None, None, None, 4 0           expanded_conv_4/Add[0][0]        \n",
      "                                                                 expanded_conv_5/project/BatchNorm\n",
      "__________________________________________________________________________________________________\n",
      "expanded_conv_6/expand (Conv2D) (None, None, None, 2 9600        expanded_conv_5/Add[0][0]        \n",
      "__________________________________________________________________________________________________\n",
      "expanded_conv_6/expand/BatchNor (None, None, None, 2 960         expanded_conv_6/expand[0][0]     \n",
      "__________________________________________________________________________________________________\n",
      "tf.__operators__.add_4 (TFOpLam (None, None, None, 2 0           expanded_conv_6/expand/BatchNorm[\n",
      "__________________________________________________________________________________________________\n",
      "re_lu_15 (ReLU)                 (None, None, None, 2 0           tf.__operators__.add_4[0][0]     \n",
      "__________________________________________________________________________________________________\n",
      "tf.math.multiply_4 (TFOpLambda) (None, None, None, 2 0           re_lu_15[0][0]                   \n",
      "__________________________________________________________________________________________________\n",
      "multiply_1 (Multiply)           (None, None, None, 2 0           tf.math.multiply_4[0][0]         \n",
      "                                                                 expanded_conv_6/expand/BatchNorm[\n",
      "__________________________________________________________________________________________________\n",
      "expanded_conv_6/depthwise/pad ( (None, None, None, 2 0           multiply_1[0][0]                 \n",
      "__________________________________________________________________________________________________\n",
      "expanded_conv_6/depthwise (Dept (None, None, None, 2 2160        expanded_conv_6/depthwise/pad[0][\n",
      "__________________________________________________________________________________________________\n",
      "expanded_conv_6/depthwise/Batch (None, None, None, 2 960         expanded_conv_6/depthwise[0][0]  \n",
      "__________________________________________________________________________________________________\n",
      "tf.__operators__.add_5 (TFOpLam (None, None, None, 2 0           expanded_conv_6/depthwise/BatchNo\n",
      "__________________________________________________________________________________________________\n",
      "re_lu_16 (ReLU)                 (None, None, None, 2 0           tf.__operators__.add_5[0][0]     \n",
      "__________________________________________________________________________________________________\n",
      "tf.math.multiply_5 (TFOpLambda) (None, None, None, 2 0           re_lu_16[0][0]                   \n",
      "__________________________________________________________________________________________________\n",
      "multiply_2 (Multiply)           (None, None, None, 2 0           tf.math.multiply_5[0][0]         \n",
      "                                                                 expanded_conv_6/depthwise/BatchNo\n",
      "__________________________________________________________________________________________________\n",
      "expanded_conv_6/project (Conv2D (None, None, None, 8 19200       multiply_2[0][0]                 \n",
      "__________________________________________________________________________________________________\n",
      "expanded_conv_6/project/BatchNo (None, None, None, 8 320         expanded_conv_6/project[0][0]    \n",
      "__________________________________________________________________________________________________\n",
      "expanded_conv_7/expand (Conv2D) (None, None, None, 2 16000       expanded_conv_6/project/BatchNorm\n",
      "__________________________________________________________________________________________________\n",
      "expanded_conv_7/expand/BatchNor (None, None, None, 2 800         expanded_conv_7/expand[0][0]     \n",
      "__________________________________________________________________________________________________\n",
      "tf.__operators__.add_6 (TFOpLam (None, None, None, 2 0           expanded_conv_7/expand/BatchNorm[\n",
      "__________________________________________________________________________________________________\n",
      "re_lu_17 (ReLU)                 (None, None, None, 2 0           tf.__operators__.add_6[0][0]     \n",
      "__________________________________________________________________________________________________\n",
      "tf.math.multiply_6 (TFOpLambda) (None, None, None, 2 0           re_lu_17[0][0]                   \n",
      "__________________________________________________________________________________________________\n",
      "multiply_3 (Multiply)           (None, None, None, 2 0           tf.math.multiply_6[0][0]         \n",
      "                                                                 expanded_conv_7/expand/BatchNorm[\n",
      "__________________________________________________________________________________________________\n",
      "expanded_conv_7/depthwise (Dept (None, None, None, 2 1800        multiply_3[0][0]                 \n",
      "__________________________________________________________________________________________________\n",
      "expanded_conv_7/depthwise/Batch (None, None, None, 2 800         expanded_conv_7/depthwise[0][0]  \n",
      "__________________________________________________________________________________________________\n",
      "tf.__operators__.add_7 (TFOpLam (None, None, None, 2 0           expanded_conv_7/depthwise/BatchNo\n",
      "__________________________________________________________________________________________________\n",
      "re_lu_18 (ReLU)                 (None, None, None, 2 0           tf.__operators__.add_7[0][0]     \n",
      "__________________________________________________________________________________________________\n",
      "tf.math.multiply_7 (TFOpLambda) (None, None, None, 2 0           re_lu_18[0][0]                   \n",
      "__________________________________________________________________________________________________\n",
      "multiply_4 (Multiply)           (None, None, None, 2 0           tf.math.multiply_7[0][0]         \n",
      "                                                                 expanded_conv_7/depthwise/BatchNo\n",
      "__________________________________________________________________________________________________\n",
      "expanded_conv_7/project (Conv2D (None, None, None, 8 16000       multiply_4[0][0]                 \n",
      "__________________________________________________________________________________________________\n",
      "expanded_conv_7/project/BatchNo (None, None, None, 8 320         expanded_conv_7/project[0][0]    \n",
      "__________________________________________________________________________________________________\n",
      "expanded_conv_7/Add (Add)       (None, None, None, 8 0           expanded_conv_6/project/BatchNorm\n",
      "                                                                 expanded_conv_7/project/BatchNorm\n",
      "__________________________________________________________________________________________________\n",
      "expanded_conv_8/expand (Conv2D) (None, None, None, 1 14720       expanded_conv_7/Add[0][0]        \n",
      "__________________________________________________________________________________________________\n",
      "expanded_conv_8/expand/BatchNor (None, None, None, 1 736         expanded_conv_8/expand[0][0]     \n",
      "__________________________________________________________________________________________________\n",
      "tf.__operators__.add_8 (TFOpLam (None, None, None, 1 0           expanded_conv_8/expand/BatchNorm[\n",
      "__________________________________________________________________________________________________\n",
      "re_lu_19 (ReLU)                 (None, None, None, 1 0           tf.__operators__.add_8[0][0]     \n",
      "__________________________________________________________________________________________________\n",
      "tf.math.multiply_8 (TFOpLambda) (None, None, None, 1 0           re_lu_19[0][0]                   \n",
      "__________________________________________________________________________________________________\n",
      "multiply_5 (Multiply)           (None, None, None, 1 0           tf.math.multiply_8[0][0]         \n",
      "                                                                 expanded_conv_8/expand/BatchNorm[\n",
      "__________________________________________________________________________________________________\n",
      "expanded_conv_8/depthwise (Dept (None, None, None, 1 1656        multiply_5[0][0]                 \n",
      "__________________________________________________________________________________________________\n",
      "expanded_conv_8/depthwise/Batch (None, None, None, 1 736         expanded_conv_8/depthwise[0][0]  \n",
      "__________________________________________________________________________________________________\n",
      "tf.__operators__.add_9 (TFOpLam (None, None, None, 1 0           expanded_conv_8/depthwise/BatchNo\n",
      "__________________________________________________________________________________________________\n",
      "re_lu_20 (ReLU)                 (None, None, None, 1 0           tf.__operators__.add_9[0][0]     \n",
      "__________________________________________________________________________________________________\n",
      "tf.math.multiply_9 (TFOpLambda) (None, None, None, 1 0           re_lu_20[0][0]                   \n",
      "__________________________________________________________________________________________________\n",
      "multiply_6 (Multiply)           (None, None, None, 1 0           tf.math.multiply_9[0][0]         \n",
      "                                                                 expanded_conv_8/depthwise/BatchNo\n",
      "__________________________________________________________________________________________________\n",
      "expanded_conv_8/project (Conv2D (None, None, None, 8 14720       multiply_6[0][0]                 \n",
      "__________________________________________________________________________________________________\n",
      "expanded_conv_8/project/BatchNo (None, None, None, 8 320         expanded_conv_8/project[0][0]    \n",
      "__________________________________________________________________________________________________\n",
      "expanded_conv_8/Add (Add)       (None, None, None, 8 0           expanded_conv_7/Add[0][0]        \n",
      "                                                                 expanded_conv_8/project/BatchNorm\n",
      "__________________________________________________________________________________________________\n",
      "expanded_conv_9/expand (Conv2D) (None, None, None, 1 14720       expanded_conv_8/Add[0][0]        \n",
      "__________________________________________________________________________________________________\n",
      "expanded_conv_9/expand/BatchNor (None, None, None, 1 736         expanded_conv_9/expand[0][0]     \n",
      "__________________________________________________________________________________________________\n",
      "tf.__operators__.add_10 (TFOpLa (None, None, None, 1 0           expanded_conv_9/expand/BatchNorm[\n",
      "__________________________________________________________________________________________________\n",
      "re_lu_21 (ReLU)                 (None, None, None, 1 0           tf.__operators__.add_10[0][0]    \n",
      "__________________________________________________________________________________________________\n",
      "tf.math.multiply_10 (TFOpLambda (None, None, None, 1 0           re_lu_21[0][0]                   \n",
      "__________________________________________________________________________________________________\n",
      "multiply_7 (Multiply)           (None, None, None, 1 0           tf.math.multiply_10[0][0]        \n",
      "                                                                 expanded_conv_9/expand/BatchNorm[\n",
      "__________________________________________________________________________________________________\n",
      "expanded_conv_9/depthwise (Dept (None, None, None, 1 1656        multiply_7[0][0]                 \n",
      "__________________________________________________________________________________________________\n",
      "expanded_conv_9/depthwise/Batch (None, None, None, 1 736         expanded_conv_9/depthwise[0][0]  \n",
      "__________________________________________________________________________________________________\n",
      "tf.__operators__.add_11 (TFOpLa (None, None, None, 1 0           expanded_conv_9/depthwise/BatchNo\n",
      "__________________________________________________________________________________________________\n",
      "re_lu_22 (ReLU)                 (None, None, None, 1 0           tf.__operators__.add_11[0][0]    \n",
      "__________________________________________________________________________________________________\n",
      "tf.math.multiply_11 (TFOpLambda (None, None, None, 1 0           re_lu_22[0][0]                   \n",
      "__________________________________________________________________________________________________\n",
      "multiply_8 (Multiply)           (None, None, None, 1 0           tf.math.multiply_11[0][0]        \n",
      "                                                                 expanded_conv_9/depthwise/BatchNo\n",
      "__________________________________________________________________________________________________\n",
      "expanded_conv_9/project (Conv2D (None, None, None, 8 14720       multiply_8[0][0]                 \n",
      "__________________________________________________________________________________________________\n",
      "expanded_conv_9/project/BatchNo (None, None, None, 8 320         expanded_conv_9/project[0][0]    \n",
      "__________________________________________________________________________________________________\n",
      "expanded_conv_9/Add (Add)       (None, None, None, 8 0           expanded_conv_8/Add[0][0]        \n",
      "                                                                 expanded_conv_9/project/BatchNorm\n",
      "__________________________________________________________________________________________________\n",
      "expanded_conv_10/expand (Conv2D (None, None, None, 4 38400       expanded_conv_9/Add[0][0]        \n",
      "__________________________________________________________________________________________________\n",
      "expanded_conv_10/expand/BatchNo (None, None, None, 4 1920        expanded_conv_10/expand[0][0]    \n",
      "__________________________________________________________________________________________________\n",
      "tf.__operators__.add_12 (TFOpLa (None, None, None, 4 0           expanded_conv_10/expand/BatchNorm\n",
      "__________________________________________________________________________________________________\n",
      "re_lu_23 (ReLU)                 (None, None, None, 4 0           tf.__operators__.add_12[0][0]    \n",
      "__________________________________________________________________________________________________\n",
      "tf.math.multiply_12 (TFOpLambda (None, None, None, 4 0           re_lu_23[0][0]                   \n",
      "__________________________________________________________________________________________________\n",
      "multiply_9 (Multiply)           (None, None, None, 4 0           tf.math.multiply_12[0][0]        \n",
      "                                                                 expanded_conv_10/expand/BatchNorm\n",
      "__________________________________________________________________________________________________\n",
      "expanded_conv_10/depthwise (Dep (None, None, None, 4 4320        multiply_9[0][0]                 \n",
      "__________________________________________________________________________________________________\n",
      "expanded_conv_10/depthwise/Batc (None, None, None, 4 1920        expanded_conv_10/depthwise[0][0] \n",
      "__________________________________________________________________________________________________\n",
      "tf.__operators__.add_13 (TFOpLa (None, None, None, 4 0           expanded_conv_10/depthwise/BatchN\n",
      "__________________________________________________________________________________________________\n",
      "re_lu_24 (ReLU)                 (None, None, None, 4 0           tf.__operators__.add_13[0][0]    \n",
      "__________________________________________________________________________________________________\n",
      "tf.math.multiply_13 (TFOpLambda (None, None, None, 4 0           re_lu_24[0][0]                   \n",
      "__________________________________________________________________________________________________\n",
      "multiply_10 (Multiply)          (None, None, None, 4 0           tf.math.multiply_13[0][0]        \n",
      "                                                                 expanded_conv_10/depthwise/BatchN\n",
      "__________________________________________________________________________________________________\n",
      "expanded_conv_10/squeeze_excite (None, 480)          0           multiply_10[0][0]                \n",
      "__________________________________________________________________________________________________\n",
      "reshape_3 (Reshape)             (None, 1, 1, 480)    0           expanded_conv_10/squeeze_excite/A\n",
      "__________________________________________________________________________________________________\n",
      "expanded_conv_10/squeeze_excite (None, 1, 1, 120)    57720       reshape_3[0][0]                  \n",
      "__________________________________________________________________________________________________\n",
      "expanded_conv_10/squeeze_excite (None, 1, 1, 120)    0           expanded_conv_10/squeeze_excite/C\n",
      "__________________________________________________________________________________________________\n",
      "expanded_conv_10/squeeze_excite (None, 1, 1, 480)    58080       expanded_conv_10/squeeze_excite/R\n",
      "__________________________________________________________________________________________________\n",
      "tf.__operators__.add_14 (TFOpLa (None, 1, 1, 480)    0           expanded_conv_10/squeeze_excite/C\n",
      "__________________________________________________________________________________________________\n",
      "re_lu_25 (ReLU)                 (None, 1, 1, 480)    0           tf.__operators__.add_14[0][0]    \n",
      "__________________________________________________________________________________________________\n",
      "tf.math.multiply_14 (TFOpLambda (None, 1, 1, 480)    0           re_lu_25[0][0]                   \n",
      "__________________________________________________________________________________________________\n",
      "expanded_conv_10/squeeze_excite (None, None, None, 4 0           multiply_10[0][0]                \n",
      "                                                                 tf.math.multiply_14[0][0]        \n",
      "__________________________________________________________________________________________________\n",
      "expanded_conv_10/project (Conv2 (None, None, None, 1 53760       expanded_conv_10/squeeze_excite/M\n",
      "__________________________________________________________________________________________________\n",
      "expanded_conv_10/project/BatchN (None, None, None, 1 448         expanded_conv_10/project[0][0]   \n",
      "__________________________________________________________________________________________________\n",
      "expanded_conv_11/expand (Conv2D (None, None, None, 6 75264       expanded_conv_10/project/BatchNor\n",
      "__________________________________________________________________________________________________\n",
      "expanded_conv_11/expand/BatchNo (None, None, None, 6 2688        expanded_conv_11/expand[0][0]    \n",
      "__________________________________________________________________________________________________\n",
      "tf.__operators__.add_15 (TFOpLa (None, None, None, 6 0           expanded_conv_11/expand/BatchNorm\n",
      "__________________________________________________________________________________________________\n",
      "re_lu_26 (ReLU)                 (None, None, None, 6 0           tf.__operators__.add_15[0][0]    \n",
      "__________________________________________________________________________________________________\n",
      "tf.math.multiply_15 (TFOpLambda (None, None, None, 6 0           re_lu_26[0][0]                   \n",
      "__________________________________________________________________________________________________\n",
      "multiply_11 (Multiply)          (None, None, None, 6 0           tf.math.multiply_15[0][0]        \n",
      "                                                                 expanded_conv_11/expand/BatchNorm\n",
      "__________________________________________________________________________________________________\n",
      "expanded_conv_11/depthwise (Dep (None, None, None, 6 6048        multiply_11[0][0]                \n",
      "__________________________________________________________________________________________________\n",
      "expanded_conv_11/depthwise/Batc (None, None, None, 6 2688        expanded_conv_11/depthwise[0][0] \n",
      "__________________________________________________________________________________________________\n",
      "tf.__operators__.add_16 (TFOpLa (None, None, None, 6 0           expanded_conv_11/depthwise/BatchN\n",
      "__________________________________________________________________________________________________\n",
      "re_lu_27 (ReLU)                 (None, None, None, 6 0           tf.__operators__.add_16[0][0]    \n",
      "__________________________________________________________________________________________________\n",
      "tf.math.multiply_16 (TFOpLambda (None, None, None, 6 0           re_lu_27[0][0]                   \n",
      "__________________________________________________________________________________________________\n",
      "multiply_12 (Multiply)          (None, None, None, 6 0           tf.math.multiply_16[0][0]        \n",
      "                                                                 expanded_conv_11/depthwise/BatchN\n",
      "__________________________________________________________________________________________________\n",
      "expanded_conv_11/squeeze_excite (None, 672)          0           multiply_12[0][0]                \n",
      "__________________________________________________________________________________________________\n",
      "reshape_4 (Reshape)             (None, 1, 1, 672)    0           expanded_conv_11/squeeze_excite/A\n",
      "__________________________________________________________________________________________________\n",
      "expanded_conv_11/squeeze_excite (None, 1, 1, 168)    113064      reshape_4[0][0]                  \n",
      "__________________________________________________________________________________________________\n",
      "expanded_conv_11/squeeze_excite (None, 1, 1, 168)    0           expanded_conv_11/squeeze_excite/C\n",
      "__________________________________________________________________________________________________\n",
      "expanded_conv_11/squeeze_excite (None, 1, 1, 672)    113568      expanded_conv_11/squeeze_excite/R\n",
      "__________________________________________________________________________________________________\n",
      "tf.__operators__.add_17 (TFOpLa (None, 1, 1, 672)    0           expanded_conv_11/squeeze_excite/C\n",
      "__________________________________________________________________________________________________\n",
      "re_lu_28 (ReLU)                 (None, 1, 1, 672)    0           tf.__operators__.add_17[0][0]    \n",
      "__________________________________________________________________________________________________\n",
      "tf.math.multiply_17 (TFOpLambda (None, 1, 1, 672)    0           re_lu_28[0][0]                   \n",
      "__________________________________________________________________________________________________\n",
      "expanded_conv_11/squeeze_excite (None, None, None, 6 0           multiply_12[0][0]                \n",
      "                                                                 tf.math.multiply_17[0][0]        \n",
      "__________________________________________________________________________________________________\n",
      "expanded_conv_11/project (Conv2 (None, None, None, 1 75264       expanded_conv_11/squeeze_excite/M\n",
      "__________________________________________________________________________________________________\n",
      "expanded_conv_11/project/BatchN (None, None, None, 1 448         expanded_conv_11/project[0][0]   \n",
      "__________________________________________________________________________________________________\n",
      "expanded_conv_11/Add (Add)      (None, None, None, 1 0           expanded_conv_10/project/BatchNor\n",
      "                                                                 expanded_conv_11/project/BatchNor\n",
      "__________________________________________________________________________________________________\n",
      "expanded_conv_12/expand (Conv2D (None, None, None, 6 75264       expanded_conv_11/Add[0][0]       \n",
      "__________________________________________________________________________________________________\n",
      "expanded_conv_12/expand/BatchNo (None, None, None, 6 2688        expanded_conv_12/expand[0][0]    \n",
      "__________________________________________________________________________________________________\n",
      "tf.__operators__.add_18 (TFOpLa (None, None, None, 6 0           expanded_conv_12/expand/BatchNorm\n",
      "__________________________________________________________________________________________________\n",
      "re_lu_29 (ReLU)                 (None, None, None, 6 0           tf.__operators__.add_18[0][0]    \n",
      "__________________________________________________________________________________________________\n",
      "tf.math.multiply_18 (TFOpLambda (None, None, None, 6 0           re_lu_29[0][0]                   \n",
      "__________________________________________________________________________________________________\n",
      "multiply_13 (Multiply)          (None, None, None, 6 0           tf.math.multiply_18[0][0]        \n",
      "                                                                 expanded_conv_12/expand/BatchNorm\n",
      "__________________________________________________________________________________________________\n",
      "expanded_conv_12/depthwise/pad  (None, None, None, 6 0           multiply_13[0][0]                \n",
      "__________________________________________________________________________________________________\n",
      "expanded_conv_12/depthwise (Dep (None, None, None, 6 16800       expanded_conv_12/depthwise/pad[0]\n",
      "__________________________________________________________________________________________________\n",
      "expanded_conv_12/depthwise/Batc (None, None, None, 6 2688        expanded_conv_12/depthwise[0][0] \n",
      "__________________________________________________________________________________________________\n",
      "tf.__operators__.add_19 (TFOpLa (None, None, None, 6 0           expanded_conv_12/depthwise/BatchN\n",
      "__________________________________________________________________________________________________\n",
      "re_lu_30 (ReLU)                 (None, None, None, 6 0           tf.__operators__.add_19[0][0]    \n",
      "__________________________________________________________________________________________________\n",
      "tf.math.multiply_19 (TFOpLambda (None, None, None, 6 0           re_lu_30[0][0]                   \n",
      "__________________________________________________________________________________________________\n",
      "multiply_14 (Multiply)          (None, None, None, 6 0           tf.math.multiply_19[0][0]        \n",
      "                                                                 expanded_conv_12/depthwise/BatchN\n",
      "__________________________________________________________________________________________________\n",
      "expanded_conv_12/squeeze_excite (None, 672)          0           multiply_14[0][0]                \n",
      "__________________________________________________________________________________________________\n",
      "reshape_5 (Reshape)             (None, 1, 1, 672)    0           expanded_conv_12/squeeze_excite/A\n",
      "__________________________________________________________________________________________________\n",
      "expanded_conv_12/squeeze_excite (None, 1, 1, 168)    113064      reshape_5[0][0]                  \n",
      "__________________________________________________________________________________________________\n",
      "expanded_conv_12/squeeze_excite (None, 1, 1, 168)    0           expanded_conv_12/squeeze_excite/C\n",
      "__________________________________________________________________________________________________\n",
      "expanded_conv_12/squeeze_excite (None, 1, 1, 672)    113568      expanded_conv_12/squeeze_excite/R\n",
      "__________________________________________________________________________________________________\n",
      "tf.__operators__.add_20 (TFOpLa (None, 1, 1, 672)    0           expanded_conv_12/squeeze_excite/C\n",
      "__________________________________________________________________________________________________\n",
      "re_lu_31 (ReLU)                 (None, 1, 1, 672)    0           tf.__operators__.add_20[0][0]    \n",
      "__________________________________________________________________________________________________\n",
      "tf.math.multiply_20 (TFOpLambda (None, 1, 1, 672)    0           re_lu_31[0][0]                   \n",
      "__________________________________________________________________________________________________\n",
      "expanded_conv_12/squeeze_excite (None, None, None, 6 0           multiply_14[0][0]                \n",
      "                                                                 tf.math.multiply_20[0][0]        \n",
      "__________________________________________________________________________________________________\n",
      "expanded_conv_12/project (Conv2 (None, None, None, 1 107520      expanded_conv_12/squeeze_excite/M\n",
      "__________________________________________________________________________________________________\n",
      "expanded_conv_12/project/BatchN (None, None, None, 1 640         expanded_conv_12/project[0][0]   \n",
      "__________________________________________________________________________________________________\n",
      "expanded_conv_13/expand (Conv2D (None, None, None, 9 153600      expanded_conv_12/project/BatchNor\n",
      "__________________________________________________________________________________________________\n",
      "expanded_conv_13/expand/BatchNo (None, None, None, 9 3840        expanded_conv_13/expand[0][0]    \n",
      "__________________________________________________________________________________________________\n",
      "tf.__operators__.add_21 (TFOpLa (None, None, None, 9 0           expanded_conv_13/expand/BatchNorm\n",
      "__________________________________________________________________________________________________\n",
      "re_lu_32 (ReLU)                 (None, None, None, 9 0           tf.__operators__.add_21[0][0]    \n",
      "__________________________________________________________________________________________________\n",
      "tf.math.multiply_21 (TFOpLambda (None, None, None, 9 0           re_lu_32[0][0]                   \n",
      "__________________________________________________________________________________________________\n",
      "multiply_15 (Multiply)          (None, None, None, 9 0           tf.math.multiply_21[0][0]        \n",
      "                                                                 expanded_conv_13/expand/BatchNorm\n",
      "__________________________________________________________________________________________________\n",
      "expanded_conv_13/depthwise (Dep (None, None, None, 9 24000       multiply_15[0][0]                \n",
      "__________________________________________________________________________________________________\n",
      "expanded_conv_13/depthwise/Batc (None, None, None, 9 3840        expanded_conv_13/depthwise[0][0] \n",
      "__________________________________________________________________________________________________\n",
      "tf.__operators__.add_22 (TFOpLa (None, None, None, 9 0           expanded_conv_13/depthwise/BatchN\n",
      "__________________________________________________________________________________________________\n",
      "re_lu_33 (ReLU)                 (None, None, None, 9 0           tf.__operators__.add_22[0][0]    \n",
      "__________________________________________________________________________________________________\n",
      "tf.math.multiply_22 (TFOpLambda (None, None, None, 9 0           re_lu_33[0][0]                   \n",
      "__________________________________________________________________________________________________\n",
      "multiply_16 (Multiply)          (None, None, None, 9 0           tf.math.multiply_22[0][0]        \n",
      "                                                                 expanded_conv_13/depthwise/BatchN\n",
      "__________________________________________________________________________________________________\n",
      "expanded_conv_13/squeeze_excite (None, 960)          0           multiply_16[0][0]                \n",
      "__________________________________________________________________________________________________\n",
      "reshape_6 (Reshape)             (None, 1, 1, 960)    0           expanded_conv_13/squeeze_excite/A\n",
      "__________________________________________________________________________________________________\n",
      "expanded_conv_13/squeeze_excite (None, 1, 1, 240)    230640      reshape_6[0][0]                  \n",
      "__________________________________________________________________________________________________\n",
      "expanded_conv_13/squeeze_excite (None, 1, 1, 240)    0           expanded_conv_13/squeeze_excite/C\n",
      "__________________________________________________________________________________________________\n",
      "expanded_conv_13/squeeze_excite (None, 1, 1, 960)    231360      expanded_conv_13/squeeze_excite/R\n",
      "__________________________________________________________________________________________________\n",
      "tf.__operators__.add_23 (TFOpLa (None, 1, 1, 960)    0           expanded_conv_13/squeeze_excite/C\n",
      "__________________________________________________________________________________________________\n",
      "re_lu_34 (ReLU)                 (None, 1, 1, 960)    0           tf.__operators__.add_23[0][0]    \n",
      "__________________________________________________________________________________________________\n",
      "tf.math.multiply_23 (TFOpLambda (None, 1, 1, 960)    0           re_lu_34[0][0]                   \n",
      "__________________________________________________________________________________________________\n",
      "expanded_conv_13/squeeze_excite (None, None, None, 9 0           multiply_16[0][0]                \n",
      "                                                                 tf.math.multiply_23[0][0]        \n",
      "__________________________________________________________________________________________________\n",
      "expanded_conv_13/project (Conv2 (None, None, None, 1 153600      expanded_conv_13/squeeze_excite/M\n",
      "__________________________________________________________________________________________________\n",
      "expanded_conv_13/project/BatchN (None, None, None, 1 640         expanded_conv_13/project[0][0]   \n",
      "__________________________________________________________________________________________________\n",
      "expanded_conv_13/Add (Add)      (None, None, None, 1 0           expanded_conv_12/project/BatchNor\n",
      "                                                                 expanded_conv_13/project/BatchNor\n",
      "__________________________________________________________________________________________________\n",
      "expanded_conv_14/expand (Conv2D (None, None, None, 9 153600      expanded_conv_13/Add[0][0]       \n",
      "__________________________________________________________________________________________________\n",
      "expanded_conv_14/expand/BatchNo (None, None, None, 9 3840        expanded_conv_14/expand[0][0]    \n",
      "__________________________________________________________________________________________________\n",
      "tf.__operators__.add_24 (TFOpLa (None, None, None, 9 0           expanded_conv_14/expand/BatchNorm\n",
      "__________________________________________________________________________________________________\n",
      "re_lu_35 (ReLU)                 (None, None, None, 9 0           tf.__operators__.add_24[0][0]    \n",
      "__________________________________________________________________________________________________\n",
      "tf.math.multiply_24 (TFOpLambda (None, None, None, 9 0           re_lu_35[0][0]                   \n",
      "__________________________________________________________________________________________________\n",
      "multiply_17 (Multiply)          (None, None, None, 9 0           tf.math.multiply_24[0][0]        \n",
      "                                                                 expanded_conv_14/expand/BatchNorm\n",
      "__________________________________________________________________________________________________\n",
      "expanded_conv_14/depthwise (Dep (None, None, None, 9 24000       multiply_17[0][0]                \n",
      "__________________________________________________________________________________________________\n",
      "expanded_conv_14/depthwise/Batc (None, None, None, 9 3840        expanded_conv_14/depthwise[0][0] \n",
      "__________________________________________________________________________________________________\n",
      "tf.__operators__.add_25 (TFOpLa (None, None, None, 9 0           expanded_conv_14/depthwise/BatchN\n",
      "__________________________________________________________________________________________________\n",
      "re_lu_36 (ReLU)                 (None, None, None, 9 0           tf.__operators__.add_25[0][0]    \n",
      "__________________________________________________________________________________________________\n",
      "tf.math.multiply_25 (TFOpLambda (None, None, None, 9 0           re_lu_36[0][0]                   \n",
      "__________________________________________________________________________________________________\n",
      "multiply_18 (Multiply)          (None, None, None, 9 0           tf.math.multiply_25[0][0]        \n",
      "                                                                 expanded_conv_14/depthwise/BatchN\n",
      "__________________________________________________________________________________________________\n",
      "expanded_conv_14/squeeze_excite (None, 960)          0           multiply_18[0][0]                \n",
      "__________________________________________________________________________________________________\n",
      "reshape_7 (Reshape)             (None, 1, 1, 960)    0           expanded_conv_14/squeeze_excite/A\n",
      "__________________________________________________________________________________________________\n",
      "expanded_conv_14/squeeze_excite (None, 1, 1, 240)    230640      reshape_7[0][0]                  \n",
      "__________________________________________________________________________________________________\n",
      "expanded_conv_14/squeeze_excite (None, 1, 1, 240)    0           expanded_conv_14/squeeze_excite/C\n",
      "__________________________________________________________________________________________________\n",
      "expanded_conv_14/squeeze_excite (None, 1, 1, 960)    231360      expanded_conv_14/squeeze_excite/R\n",
      "__________________________________________________________________________________________________\n",
      "tf.__operators__.add_26 (TFOpLa (None, 1, 1, 960)    0           expanded_conv_14/squeeze_excite/C\n",
      "__________________________________________________________________________________________________\n",
      "re_lu_37 (ReLU)                 (None, 1, 1, 960)    0           tf.__operators__.add_26[0][0]    \n",
      "__________________________________________________________________________________________________\n",
      "tf.math.multiply_26 (TFOpLambda (None, 1, 1, 960)    0           re_lu_37[0][0]                   \n",
      "__________________________________________________________________________________________________\n",
      "expanded_conv_14/squeeze_excite (None, None, None, 9 0           multiply_18[0][0]                \n",
      "                                                                 tf.math.multiply_26[0][0]        \n",
      "__________________________________________________________________________________________________\n",
      "expanded_conv_14/project (Conv2 (None, None, None, 1 153600      expanded_conv_14/squeeze_excite/M\n",
      "__________________________________________________________________________________________________\n",
      "expanded_conv_14/project/BatchN (None, None, None, 1 640         expanded_conv_14/project[0][0]   \n",
      "__________________________________________________________________________________________________\n",
      "expanded_conv_14/Add (Add)      (None, None, None, 1 0           expanded_conv_13/Add[0][0]       \n",
      "                                                                 expanded_conv_14/project/BatchNor\n",
      "__________________________________________________________________________________________________\n",
      "Conv_1 (Conv2D)                 (None, None, None, 9 153600      expanded_conv_14/Add[0][0]       \n",
      "__________________________________________________________________________________________________\n",
      "Conv_1/BatchNorm (BatchNormaliz (None, None, None, 9 3840        Conv_1[0][0]                     \n",
      "__________________________________________________________________________________________________\n",
      "tf.__operators__.add_27 (TFOpLa (None, None, None, 9 0           Conv_1/BatchNorm[0][0]           \n",
      "__________________________________________________________________________________________________\n",
      "re_lu_38 (ReLU)                 (None, None, None, 9 0           tf.__operators__.add_27[0][0]    \n",
      "__________________________________________________________________________________________________\n",
      "tf.math.multiply_27 (TFOpLambda (None, None, None, 9 0           re_lu_38[0][0]                   \n",
      "__________________________________________________________________________________________________\n",
      "multiply_19 (Multiply)          (None, None, None, 9 0           tf.math.multiply_27[0][0]        \n",
      "                                                                 Conv_1/BatchNorm[0][0]           \n",
      "__________________________________________________________________________________________________\n",
      "Conv_2 (Conv2D)                 (None, None, None, 1 1230080     multiply_19[0][0]                \n",
      "__________________________________________________________________________________________________\n",
      "tf.__operators__.add_28 (TFOpLa (None, None, None, 1 0           Conv_2[0][0]                     \n",
      "__________________________________________________________________________________________________\n",
      "re_lu_39 (ReLU)                 (None, None, None, 1 0           tf.__operators__.add_28[0][0]    \n",
      "__________________________________________________________________________________________________\n",
      "tf.math.multiply_28 (TFOpLambda (None, None, None, 1 0           re_lu_39[0][0]                   \n",
      "__________________________________________________________________________________________________\n",
      "multiply_20 (Multiply)          (None, None, None, 1 0           tf.math.multiply_28[0][0]        \n",
      "                                                                 Conv_2[0][0]                     \n",
      "__________________________________________________________________________________________________\n",
      "global_average_pooling2d (Globa (None, 1280)         0           multiply_20[0][0]                \n",
      "__________________________________________________________________________________________________\n",
      "reshape_8 (Reshape)             (None, 1, 1, 1280)   0           global_average_pooling2d[0][0]   \n",
      "__________________________________________________________________________________________________\n",
      "dropout (Dropout)               (None, 1, 1, 1280)   0           reshape_8[0][0]                  \n",
      "__________________________________________________________________________________________________\n",
      "Logits (Conv2D)                 (None, 1, 1, 5)      6405        dropout[0][0]                    \n",
      "__________________________________________________________________________________________________\n",
      "flatten (Flatten)               (None, 5)            0           Logits[0][0]                     \n",
      "__________________________________________________________________________________________________\n",
      "Predictions (Activation)        (None, 5)            0           flatten[0][0]                    \n",
      "==================================================================================================\n",
      "Total params: 4,232,837\n",
      "Trainable params: 4,208,437\n",
      "Non-trainable params: 24,400\n",
      "__________________________________________________________________________________________________\n"
     ]
    }
   ],
   "source": [
    "xception_model.summary()"
   ]
  },
  {
   "cell_type": "code",
   "execution_count": 22,
   "id": "norman-detector",
   "metadata": {
    "execution": {
     "iopub.execute_input": "2021-05-30T18:40:08.391663Z",
     "iopub.status.busy": "2021-05-30T18:40:08.385701Z",
     "iopub.status.idle": "2021-05-30T18:40:08.398432Z",
     "shell.execute_reply": "2021-05-30T18:40:08.397997Z",
     "shell.execute_reply.started": "2021-05-30T09:28:58.465217Z"
    },
    "id": "norman-detector",
    "papermill": {
     "duration": 0.226948,
     "end_time": "2021-05-30T18:40:08.398547",
     "exception": false,
     "start_time": "2021-05-30T18:40:08.171599",
     "status": "completed"
    },
    "tags": []
   },
   "outputs": [],
   "source": [
    "xception_model.compile(optimizer = tf.keras.optimizers.Adam(learning_rate=0.00001,decay=0.0001),\n",
    "                 metrics=[\"acc\"],\n",
    "                 loss= tf.keras.losses.sparse_categorical_crossentropy)\n",
    "\n",
    "checkpoint_path = \"xception_best.ckpt\"\n",
    "checkpoint_dir = os.path.dirname(checkpoint_path)\n",
    "my_callbacks = [\n",
    "               ModelCheckpoint(\n",
    "                   checkpoint_path,\n",
    "                   monitor = 'val_acc',\n",
    "                   verbose = 1,\n",
    "                   save_weights_only=True,\n",
    "                   save_best_only = True,\n",
    "                   mode=\"max\"\n",
    "               ),\n",
    "               EarlyStopping(\n",
    "                   monitor='val_loss', \n",
    "                   patience=10,\n",
    "                   verbose=0\n",
    "               ),\n",
    "               ReduceLROnPlateau(\n",
    "                   monitor='val_loss', \n",
    "                   patience=10,\n",
    "                   verbose=1)\n",
    "]"
   ]
  },
  {
   "cell_type": "markdown",
   "id": "crucial-administration",
   "metadata": {
    "id": "crucial-administration",
    "papermill": {
     "duration": 0.038495,
     "end_time": "2021-05-30T18:40:08.475329",
     "exception": false,
     "start_time": "2021-05-30T18:40:08.436834",
     "status": "completed"
    },
    "tags": []
   },
   "source": [
    "## 가중치 부여"
   ]
  },
  {
   "cell_type": "code",
   "execution_count": 23,
   "id": "regional-indie",
   "metadata": {
    "execution": {
     "iopub.execute_input": "2021-05-30T18:40:08.558435Z",
     "iopub.status.busy": "2021-05-30T18:40:08.557616Z",
     "iopub.status.idle": "2021-05-30T18:40:09.060821Z",
     "shell.execute_reply": "2021-05-30T18:40:09.060357Z",
     "shell.execute_reply.started": "2021-05-30T09:30:11.007618Z"
    },
    "id": "regional-indie",
    "papermill": {
     "duration": 0.546357,
     "end_time": "2021-05-30T18:40:09.060960",
     "exception": false,
     "start_time": "2021-05-30T18:40:08.514603",
     "status": "completed"
    },
    "tags": []
   },
   "outputs": [],
   "source": [
    "from sklearn.utils import class_weight\n",
    "\n",
    "class_weights = class_weight.compute_class_weight(\n",
    "    'balanced',\n",
    "    classes= np.unique(df_train_kaggle.label.values),\n",
    "    y= df_train_kaggle.label.values\n",
    ")\n",
    "\n",
    "class_weights = dict(enumerate(class_weights))"
   ]
  },
  {
   "cell_type": "markdown",
   "id": "square-better",
   "metadata": {
    "id": "square-better",
    "papermill": {
     "duration": 0.037503,
     "end_time": "2021-05-30T18:40:09.136492",
     "exception": false,
     "start_time": "2021-05-30T18:40:09.098989",
     "status": "completed"
    },
    "tags": []
   },
   "source": [
    "## 학습"
   ]
  },
  {
   "cell_type": "code",
   "execution_count": 24,
   "id": "hidden-stephen",
   "metadata": {
    "colab": {
     "base_uri": "https://localhost:8080/"
    },
    "execution": {
     "iopub.execute_input": "2021-05-30T18:40:09.218272Z",
     "iopub.status.busy": "2021-05-30T18:40:09.217728Z",
     "iopub.status.idle": "2021-05-30T20:12:12.156502Z",
     "shell.execute_reply": "2021-05-30T20:12:12.154537Z",
     "shell.execute_reply.started": "2021-05-26T18:49:57.904339Z"
    },
    "id": "hidden-stephen",
    "outputId": "e45b2b3b-c166-43eb-962b-f6c613220558",
    "papermill": {
     "duration": 5522.981999,
     "end_time": "2021-05-30T20:12:12.156678",
     "exception": false,
     "start_time": "2021-05-30T18:40:09.174679",
     "status": "completed"
    },
    "tags": []
   },
   "outputs": [
    {
     "name": "stdout",
     "output_type": "stream",
     "text": [
      "Epoch 1/300\n",
      "979/979 [==============================] - 76s 67ms/step - loss: 1.6096 - acc: 0.2094 - val_loss: 1.6074 - val_acc: 0.3941\n",
      "\n",
      "Epoch 00001: val_acc improved from -inf to 0.39413, saving model to xception_best.ckpt\n",
      "Epoch 2/300\n",
      "979/979 [==============================] - 63s 65ms/step - loss: 1.5840 - acc: 0.2694 - val_loss: 1.6090 - val_acc: 0.0301\n",
      "\n",
      "Epoch 00002: val_acc did not improve from 0.39413\n",
      "Epoch 3/300\n",
      "979/979 [==============================] - 63s 64ms/step - loss: 1.6222 - acc: 0.1979 - val_loss: 1.5982 - val_acc: 0.3941\n",
      "\n",
      "Epoch 00003: val_acc did not improve from 0.39413\n",
      "Epoch 4/300\n",
      "979/979 [==============================] - 63s 65ms/step - loss: 1.5927 - acc: 0.2447 - val_loss: 1.5997 - val_acc: 0.3941\n",
      "\n",
      "Epoch 00004: val_acc did not improve from 0.39413\n",
      "Epoch 5/300\n",
      "979/979 [==============================] - 63s 64ms/step - loss: 1.5587 - acc: 0.2813 - val_loss: 1.6164 - val_acc: 0.1654\n",
      "\n",
      "Epoch 00005: val_acc did not improve from 0.39413\n",
      "Epoch 6/300\n",
      "979/979 [==============================] - 63s 64ms/step - loss: 1.5457 - acc: 0.2435 - val_loss: 1.6814 - val_acc: 0.0301\n",
      "\n",
      "Epoch 00006: val_acc did not improve from 0.39413\n",
      "Epoch 7/300\n",
      "979/979 [==============================] - 63s 64ms/step - loss: 1.4806 - acc: 0.3094 - val_loss: 1.9999 - val_acc: 0.0301\n",
      "\n",
      "Epoch 00007: val_acc did not improve from 0.39413\n",
      "Epoch 8/300\n",
      "979/979 [==============================] - 63s 64ms/step - loss: 1.5206 - acc: 0.2593 - val_loss: 1.9185 - val_acc: 0.0351\n",
      "\n",
      "Epoch 00008: val_acc did not improve from 0.39413\n",
      "Epoch 9/300\n",
      "979/979 [==============================] - 63s 65ms/step - loss: 1.4669 - acc: 0.2914 - val_loss: 1.6729 - val_acc: 0.1540\n",
      "\n",
      "Epoch 00009: val_acc did not improve from 0.39413\n",
      "Epoch 10/300\n",
      "979/979 [==============================] - 63s 64ms/step - loss: 1.4355 - acc: 0.3134 - val_loss: 1.5318 - val_acc: 0.2551\n",
      "\n",
      "Epoch 00010: val_acc did not improve from 0.39413\n",
      "Epoch 11/300\n",
      "979/979 [==============================] - 63s 64ms/step - loss: 1.4462 - acc: 0.3007 - val_loss: 1.5661 - val_acc: 0.2684\n",
      "\n",
      "Epoch 00011: val_acc did not improve from 0.39413\n",
      "Epoch 12/300\n",
      "979/979 [==============================] - 63s 64ms/step - loss: 1.4159 - acc: 0.2940 - val_loss: 1.4518 - val_acc: 0.3432\n",
      "\n",
      "Epoch 00012: val_acc did not improve from 0.39413\n",
      "Epoch 13/300\n",
      "979/979 [==============================] - 63s 64ms/step - loss: 1.4170 - acc: 0.2881 - val_loss: 1.4225 - val_acc: 0.3764\n",
      "\n",
      "Epoch 00013: val_acc did not improve from 0.39413\n",
      "Epoch 14/300\n",
      "979/979 [==============================] - 63s 64ms/step - loss: 1.3896 - acc: 0.3282 - val_loss: 1.4355 - val_acc: 0.3479\n",
      "\n",
      "Epoch 00014: val_acc did not improve from 0.39413\n",
      "Epoch 15/300\n",
      "979/979 [==============================] - 63s 64ms/step - loss: 1.3424 - acc: 0.3249 - val_loss: 1.4834 - val_acc: 0.3079\n",
      "\n",
      "Epoch 00015: val_acc did not improve from 0.39413\n",
      "Epoch 16/300\n",
      "979/979 [==============================] - 64s 65ms/step - loss: 1.3333 - acc: 0.3105 - val_loss: 1.6255 - val_acc: 0.2829\n",
      "\n",
      "Epoch 00016: val_acc did not improve from 0.39413\n",
      "Epoch 17/300\n",
      "979/979 [==============================] - 63s 64ms/step - loss: 1.3429 - acc: 0.3285 - val_loss: 1.4408 - val_acc: 0.3330\n",
      "\n",
      "Epoch 00017: val_acc did not improve from 0.39413\n",
      "Epoch 18/300\n",
      "979/979 [==============================] - 63s 65ms/step - loss: 1.3256 - acc: 0.3250 - val_loss: 1.3916 - val_acc: 0.3633\n",
      "\n",
      "Epoch 00018: val_acc did not improve from 0.39413\n",
      "Epoch 19/300\n",
      "979/979 [==============================] - 64s 65ms/step - loss: 1.3394 - acc: 0.3230 - val_loss: 1.4095 - val_acc: 0.3419\n",
      "\n",
      "Epoch 00019: val_acc did not improve from 0.39413\n",
      "Epoch 20/300\n",
      "979/979 [==============================] - 63s 65ms/step - loss: 1.2659 - acc: 0.3464 - val_loss: 1.5240 - val_acc: 0.2951\n",
      "\n",
      "Epoch 00020: val_acc did not improve from 0.39413\n",
      "Epoch 21/300\n",
      "979/979 [==============================] - 63s 64ms/step - loss: 1.2995 - acc: 0.3419 - val_loss: 1.3713 - val_acc: 0.3489\n",
      "\n",
      "Epoch 00021: val_acc did not improve from 0.39413\n",
      "Epoch 22/300\n",
      "979/979 [==============================] - 63s 64ms/step - loss: 1.3107 - acc: 0.3291 - val_loss: 1.4454 - val_acc: 0.3454\n",
      "\n",
      "Epoch 00022: val_acc did not improve from 0.39413\n",
      "Epoch 23/300\n",
      "979/979 [==============================] - 63s 64ms/step - loss: 1.2876 - acc: 0.3549 - val_loss: 1.4659 - val_acc: 0.3321\n",
      "\n",
      "Epoch 00023: val_acc did not improve from 0.39413\n",
      "Epoch 24/300\n",
      "979/979 [==============================] - 63s 64ms/step - loss: 1.2727 - acc: 0.3303 - val_loss: 1.4252 - val_acc: 0.3533\n",
      "\n",
      "Epoch 00024: val_acc did not improve from 0.39413\n",
      "Epoch 25/300\n",
      "979/979 [==============================] - 63s 64ms/step - loss: 1.2482 - acc: 0.3508 - val_loss: 1.3892 - val_acc: 0.3644\n",
      "\n",
      "Epoch 00025: val_acc did not improve from 0.39413\n",
      "Epoch 26/300\n",
      "979/979 [==============================] - 63s 64ms/step - loss: 1.2603 - acc: 0.3477 - val_loss: 1.3721 - val_acc: 0.3531\n",
      "\n",
      "Epoch 00026: val_acc did not improve from 0.39413\n",
      "Epoch 27/300\n",
      "979/979 [==============================] - 63s 64ms/step - loss: 1.2634 - acc: 0.3396 - val_loss: 1.4956 - val_acc: 0.3378\n",
      "\n",
      "Epoch 00027: val_acc did not improve from 0.39413\n",
      "Epoch 28/300\n",
      "979/979 [==============================] - 63s 64ms/step - loss: 1.2254 - acc: 0.3724 - val_loss: 1.3824 - val_acc: 0.3563\n",
      "\n",
      "Epoch 00028: val_acc did not improve from 0.39413\n",
      "Epoch 29/300\n",
      "979/979 [==============================] - 59s 60ms/step - loss: 1.2058 - acc: 0.3717 - val_loss: 1.4045 - val_acc: 0.3689\n",
      "\n",
      "Epoch 00029: val_acc did not improve from 0.39413\n",
      "Epoch 30/300\n",
      "979/979 [==============================] - 59s 61ms/step - loss: 1.2210 - acc: 0.3738 - val_loss: 1.3582 - val_acc: 0.3721\n",
      "\n",
      "Epoch 00030: val_acc did not improve from 0.39413\n",
      "Epoch 31/300\n",
      "979/979 [==============================] - 59s 61ms/step - loss: 1.2509 - acc: 0.3507 - val_loss: 1.3621 - val_acc: 0.3867\n",
      "\n",
      "Epoch 00031: val_acc did not improve from 0.39413\n",
      "Epoch 32/300\n",
      "979/979 [==============================] - 61s 63ms/step - loss: 1.2088 - acc: 0.3614 - val_loss: 1.4484 - val_acc: 0.3525\n",
      "\n",
      "Epoch 00032: val_acc did not improve from 0.39413\n",
      "Epoch 33/300\n",
      "979/979 [==============================] - 62s 64ms/step - loss: 1.1873 - acc: 0.3762 - val_loss: 1.3644 - val_acc: 0.3784\n",
      "\n",
      "Epoch 00033: val_acc did not improve from 0.39413\n",
      "Epoch 34/300\n",
      "979/979 [==============================] - 63s 65ms/step - loss: 1.1847 - acc: 0.3799 - val_loss: 1.3523 - val_acc: 0.3671\n",
      "\n",
      "Epoch 00034: val_acc did not improve from 0.39413\n",
      "Epoch 35/300\n",
      "979/979 [==============================] - 62s 63ms/step - loss: 1.1775 - acc: 0.3629 - val_loss: 1.3699 - val_acc: 0.3534\n",
      "\n",
      "Epoch 00035: val_acc did not improve from 0.39413\n",
      "Epoch 36/300\n",
      "979/979 [==============================] - 63s 65ms/step - loss: 1.2156 - acc: 0.3482 - val_loss: 1.4196 - val_acc: 0.3685\n",
      "\n",
      "Epoch 00036: val_acc did not improve from 0.39413\n",
      "Epoch 37/300\n",
      "979/979 [==============================] - 63s 64ms/step - loss: 1.2149 - acc: 0.3767 - val_loss: 1.3619 - val_acc: 0.3804\n",
      "\n",
      "Epoch 00037: val_acc did not improve from 0.39413\n",
      "Epoch 38/300\n",
      "979/979 [==============================] - 63s 64ms/step - loss: 1.1679 - acc: 0.3830 - val_loss: 1.3455 - val_acc: 0.3585\n",
      "\n",
      "Epoch 00038: val_acc did not improve from 0.39413\n",
      "Epoch 39/300\n",
      "979/979 [==============================] - 63s 64ms/step - loss: 1.1583 - acc: 0.3683 - val_loss: 1.3552 - val_acc: 0.3675\n",
      "\n",
      "Epoch 00039: val_acc did not improve from 0.39413\n",
      "Epoch 40/300\n",
      "979/979 [==============================] - 62s 64ms/step - loss: 1.1746 - acc: 0.3748 - val_loss: 1.3418 - val_acc: 0.3712\n",
      "\n",
      "Epoch 00040: val_acc did not improve from 0.39413\n",
      "Epoch 41/300\n",
      "979/979 [==============================] - 63s 64ms/step - loss: 1.2199 - acc: 0.3627 - val_loss: 1.3534 - val_acc: 0.3791\n",
      "\n",
      "Epoch 00041: val_acc did not improve from 0.39413\n",
      "Epoch 42/300\n",
      "979/979 [==============================] - 63s 64ms/step - loss: 1.1666 - acc: 0.3779 - val_loss: 1.3302 - val_acc: 0.3713\n",
      "\n",
      "Epoch 00042: val_acc did not improve from 0.39413\n",
      "Epoch 43/300\n",
      "979/979 [==============================] - 63s 64ms/step - loss: 1.1578 - acc: 0.3611 - val_loss: 1.3530 - val_acc: 0.3787\n",
      "\n",
      "Epoch 00043: val_acc did not improve from 0.39413\n",
      "Epoch 44/300\n",
      "979/979 [==============================] - 62s 63ms/step - loss: 1.1562 - acc: 0.3792 - val_loss: 1.4575 - val_acc: 0.3432\n",
      "\n",
      "Epoch 00044: val_acc did not improve from 0.39413\n",
      "Epoch 45/300\n",
      "979/979 [==============================] - 63s 64ms/step - loss: 1.1498 - acc: 0.3720 - val_loss: 1.3889 - val_acc: 0.3598\n",
      "\n",
      "Epoch 00045: val_acc did not improve from 0.39413\n",
      "Epoch 46/300\n",
      "979/979 [==============================] - 62s 63ms/step - loss: 1.1749 - acc: 0.3756 - val_loss: 1.4017 - val_acc: 0.3714\n",
      "\n",
      "Epoch 00046: val_acc did not improve from 0.39413\n",
      "Epoch 47/300\n",
      "979/979 [==============================] - 63s 64ms/step - loss: 1.1724 - acc: 0.3594 - val_loss: 1.3260 - val_acc: 0.3936\n",
      "\n",
      "Epoch 00047: val_acc did not improve from 0.39413\n",
      "Epoch 48/300\n",
      "979/979 [==============================] - 63s 64ms/step - loss: 1.1227 - acc: 0.3900 - val_loss: 1.3423 - val_acc: 0.3891\n",
      "\n",
      "Epoch 00048: val_acc did not improve from 0.39413\n",
      "Epoch 49/300\n",
      "979/979 [==============================] - 62s 64ms/step - loss: 1.1377 - acc: 0.3766 - val_loss: 1.3370 - val_acc: 0.3923\n",
      "\n",
      "Epoch 00049: val_acc did not improve from 0.39413\n",
      "Epoch 50/300\n",
      "979/979 [==============================] - 63s 64ms/step - loss: 1.1311 - acc: 0.3795 - val_loss: 1.3788 - val_acc: 0.3698\n",
      "\n",
      "Epoch 00050: val_acc did not improve from 0.39413\n",
      "Epoch 51/300\n",
      "979/979 [==============================] - 63s 64ms/step - loss: 1.1400 - acc: 0.3871 - val_loss: 1.3614 - val_acc: 0.3804\n",
      "\n",
      "Epoch 00051: val_acc did not improve from 0.39413\n",
      "Epoch 52/300\n",
      "979/979 [==============================] - 63s 64ms/step - loss: 1.1299 - acc: 0.3864 - val_loss: 1.3105 - val_acc: 0.3932\n",
      "\n",
      "Epoch 00052: val_acc did not improve from 0.39413\n",
      "Epoch 53/300\n",
      "979/979 [==============================] - 62s 64ms/step - loss: 1.1327 - acc: 0.3947 - val_loss: 1.3311 - val_acc: 0.3947\n",
      "\n",
      "Epoch 00053: val_acc improved from 0.39413 to 0.39475, saving model to xception_best.ckpt\n",
      "Epoch 54/300\n",
      "979/979 [==============================] - 63s 64ms/step - loss: 1.1139 - acc: 0.3933 - val_loss: 1.3695 - val_acc: 0.3754\n",
      "\n",
      "Epoch 00054: val_acc did not improve from 0.39475\n",
      "Epoch 55/300\n",
      "979/979 [==============================] - 62s 64ms/step - loss: 1.1251 - acc: 0.3935 - val_loss: 1.3277 - val_acc: 0.3904\n",
      "\n",
      "Epoch 00055: val_acc did not improve from 0.39475\n",
      "Epoch 56/300\n",
      "979/979 [==============================] - 62s 64ms/step - loss: 1.1183 - acc: 0.3915 - val_loss: 1.3313 - val_acc: 0.3877\n",
      "\n",
      "Epoch 00056: val_acc did not improve from 0.39475\n",
      "Epoch 57/300\n",
      "979/979 [==============================] - 63s 64ms/step - loss: 1.1183 - acc: 0.3860 - val_loss: 1.3350 - val_acc: 0.3875\n",
      "\n",
      "Epoch 00057: val_acc did not improve from 0.39475\n",
      "Epoch 58/300\n",
      "979/979 [==============================] - 62s 64ms/step - loss: 1.1121 - acc: 0.3928 - val_loss: 1.3184 - val_acc: 0.3938\n",
      "\n",
      "Epoch 00058: val_acc did not improve from 0.39475\n",
      "Epoch 59/300\n",
      "979/979 [==============================] - 63s 64ms/step - loss: 1.1130 - acc: 0.3981 - val_loss: 1.3112 - val_acc: 0.3940\n",
      "\n",
      "Epoch 00059: val_acc did not improve from 0.39475\n",
      "Epoch 60/300\n",
      "979/979 [==============================] - 63s 64ms/step - loss: 1.0968 - acc: 0.4030 - val_loss: 1.3223 - val_acc: 0.3845\n",
      "\n",
      "Epoch 00060: val_acc did not improve from 0.39475\n",
      "Epoch 61/300\n",
      "979/979 [==============================] - 62s 64ms/step - loss: 1.0860 - acc: 0.3977 - val_loss: 1.3376 - val_acc: 0.3885\n",
      "\n",
      "Epoch 00061: val_acc did not improve from 0.39475\n",
      "Epoch 62/300\n",
      "979/979 [==============================] - 62s 64ms/step - loss: 1.0987 - acc: 0.3886 - val_loss: 1.3349 - val_acc: 0.3864\n",
      "\n",
      "Epoch 00062: val_acc did not improve from 0.39475\n",
      "\n",
      "Epoch 00062: ReduceLROnPlateau reducing learning rate to 9.999999747378752e-07.\n"
     ]
    },
    {
     "data": {
      "text/plain": "<tensorflow.python.training.tracking.util.CheckpointLoadStatus at 0x7f9e30159320>"
     },
     "execution_count": 24,
     "metadata": {},
     "output_type": "execute_result"
    }
   ],
   "source": [
    "xception_model.fit(\n",
    "        valid_generator,\n",
    "        epochs = 300,\n",
    "        validation_data = train_generator,\n",
    "        callbacks = [my_callbacks],\n",
    "        class_weight = class_weights\n",
    ")\n",
    "\n",
    "xception_model.load_weights(checkpoint_path)"
   ]
  },
  {
   "cell_type": "markdown",
   "id": "pretty-morris",
   "metadata": {
    "id": "pretty-morris",
    "papermill": {
     "duration": 3.201635,
     "end_time": "2021-05-30T20:12:18.344310",
     "exception": false,
     "start_time": "2021-05-30T20:12:15.142675",
     "status": "completed"
    },
    "tags": []
   },
   "source": [
    "## 위의 학습에서 사용하였던 검증 데이터 세트에 대한 추가 학습\n",
    "\n",
    "### 검증 데이터 세트를 학습, 검증 데이터 세트로 재구성하여 추가 학습 진행"
   ]
  },
  {
   "cell_type": "code",
   "execution_count": 25,
   "id": "cloudy-idaho",
   "metadata": {
    "execution": {
     "iopub.execute_input": "2021-05-30T20:12:24.238372Z",
     "iopub.status.busy": "2021-05-30T20:12:24.237660Z",
     "iopub.status.idle": "2021-05-30T20:12:24.305208Z",
     "shell.execute_reply": "2021-05-30T20:12:24.305579Z",
     "shell.execute_reply.started": "2021-05-30T09:30:16.948040Z"
    },
    "id": "cloudy-idaho",
    "papermill": {
     "duration": 3.027306,
     "end_time": "2021-05-30T20:12:24.305720",
     "exception": false,
     "start_time": "2021-05-30T20:12:21.278414",
     "status": "completed"
    },
    "tags": []
   },
   "outputs": [],
   "source": [
    "from sklearn.model_selection import train_test_split\n",
    "\n",
    "X_train, X_test = train_test_split(\n",
    "    df_train_kaggle, \n",
    "    test_size=0.1,\n",
    "    random_state=42,\n",
    "    stratify= df_train_kaggle.label\n",
    ")"
   ]
  },
  {
   "cell_type": "code",
   "execution_count": 26,
   "id": "nervous-crisis",
   "metadata": {
    "colab": {
     "base_uri": "https://localhost:8080/"
    },
    "execution": {
     "iopub.execute_input": "2021-05-30T20:12:30.429807Z",
     "iopub.status.busy": "2021-05-30T20:12:30.429001Z",
     "iopub.status.idle": "2021-05-30T20:12:30.472297Z",
     "shell.execute_reply": "2021-05-30T20:12:30.471634Z",
     "shell.execute_reply.started": "2021-05-30T09:30:18.098841Z"
    },
    "id": "nervous-crisis",
    "outputId": "4e7db473-44a8-44a1-aead-472c63d3370c",
    "papermill": {
     "duration": 3.239148,
     "end_time": "2021-05-30T20:12:30.472465",
     "exception": false,
     "start_time": "2021-05-30T20:12:27.233317",
     "status": "completed"
    },
    "tags": []
   },
   "outputs": [
    {
     "name": "stdout",
     "output_type": "stream",
     "text": [
      "Found 8807 validated image filenames.\n"
     ]
    }
   ],
   "source": [
    "train_generator = train_aug.flow_from_dataframe(\n",
    "    dataframe = X_train,\n",
    "    x_col = \"filepath\",\n",
    "    y_col = \"label\",\n",
    "    batch_size = 8,\n",
    "    seed = 42,\n",
    "    shuffle = True,\n",
    "    class_mode = \"raw\",\n",
    "    target_size = (224,224)\n",
    ")"
   ]
  },
  {
   "cell_type": "code",
   "execution_count": 27,
   "id": "instrumental-indie",
   "metadata": {
    "colab": {
     "base_uri": "https://localhost:8080/"
    },
    "execution": {
     "iopub.execute_input": "2021-05-30T20:12:36.309467Z",
     "iopub.status.busy": "2021-05-30T20:12:36.308631Z",
     "iopub.status.idle": "2021-05-30T20:12:36.318017Z",
     "shell.execute_reply": "2021-05-30T20:12:36.317530Z",
     "shell.execute_reply.started": "2021-05-30T09:30:23.206485Z"
    },
    "id": "instrumental-indie",
    "outputId": "aaa9c990-6529-4f11-8bef-cd7be0713256",
    "papermill": {
     "duration": 2.927421,
     "end_time": "2021-05-30T20:12:36.318129",
     "exception": false,
     "start_time": "2021-05-30T20:12:33.390708",
     "status": "completed"
    },
    "tags": []
   },
   "outputs": [
    {
     "name": "stdout",
     "output_type": "stream",
     "text": [
      "Found 979 validated image filenames.\n"
     ]
    }
   ],
   "source": [
    "valid_generator = valid_aug.flow_from_dataframe( \n",
    "    dataframe=X_test,\n",
    "    x_col = \"filepath\",\n",
    "    y_col = \"label\",\n",
    "    batch_size = 8,\n",
    "    seed = 42,\n",
    "    shuffle = True,\n",
    "    class_mode = \"raw\",\n",
    "    target_size = (224,224)\n",
    ")"
   ]
  },
  {
   "cell_type": "code",
   "execution_count": 28,
   "id": "dedicated-chapel",
   "metadata": {
    "execution": {
     "iopub.execute_input": "2021-05-30T20:12:42.897491Z",
     "iopub.status.busy": "2021-05-30T20:12:42.895853Z",
     "iopub.status.idle": "2021-05-30T20:12:42.898202Z",
     "shell.execute_reply": "2021-05-30T20:12:42.898602Z",
     "shell.execute_reply.started": "2021-05-30T09:30:26.966513Z"
    },
    "id": "dedicated-chapel",
    "papermill": {
     "duration": 3.108025,
     "end_time": "2021-05-30T20:12:42.898739",
     "exception": false,
     "start_time": "2021-05-30T20:12:39.790714",
     "status": "completed"
    },
    "tags": []
   },
   "outputs": [],
   "source": [
    "STEP_SIZE_TRAIN = train_generator.n//train_generator.batch_size\n",
    "STEP_SIZE_VALID =valid_generator.n//valid_generator.batch_size"
   ]
  },
  {
   "cell_type": "code",
   "execution_count": 29,
   "id": "sized-norfolk",
   "metadata": {
    "colab": {
     "base_uri": "https://localhost:8080/"
    },
    "execution": {
     "iopub.execute_input": "2021-05-30T20:12:48.820785Z",
     "iopub.status.busy": "2021-05-30T20:12:48.819337Z",
     "iopub.status.idle": "2021-05-30T20:25:26.371458Z",
     "shell.execute_reply": "2021-05-30T20:25:26.371941Z",
     "shell.execute_reply.started": "2021-05-30T09:30:36.962285Z"
    },
    "id": "sized-norfolk",
    "outputId": "20071e30-0a6e-43e4-8acc-543ff61f89ec",
    "papermill": {
     "duration": 760.527609,
     "end_time": "2021-05-30T20:25:26.372105",
     "exception": false,
     "start_time": "2021-05-30T20:12:45.844496",
     "status": "completed"
    },
    "tags": []
   },
   "outputs": [
    {
     "name": "stdout",
     "output_type": "stream",
     "text": [
      "Epoch 1/50\n",
      "1100/1100 [==============================] - 53s 44ms/step - loss: 1.2814 - acc: 0.4346 - val_loss: 1.2804 - val_acc: 0.4539\n",
      "\n",
      "Epoch 00001: val_acc improved from 0.39475 to 0.45389, saving model to xception_best.ckpt\n",
      "Epoch 2/50\n",
      "1100/1100 [==============================] - 48s 44ms/step - loss: 1.2561 - acc: 0.4452 - val_loss: 1.2727 - val_acc: 0.4580\n",
      "\n",
      "Epoch 00002: val_acc improved from 0.45389 to 0.45799, saving model to xception_best.ckpt\n",
      "Epoch 3/50\n",
      "1100/1100 [==============================] - 48s 44ms/step - loss: 1.2601 - acc: 0.4431 - val_loss: 1.2495 - val_acc: 0.4723\n",
      "\n",
      "Epoch 00003: val_acc improved from 0.45799 to 0.47234, saving model to xception_best.ckpt\n",
      "Epoch 4/50\n",
      "1100/1100 [==============================] - 48s 44ms/step - loss: 1.2470 - acc: 0.4546 - val_loss: 1.2615 - val_acc: 0.4693\n",
      "\n",
      "Epoch 00004: val_acc did not improve from 0.47234\n",
      "Epoch 5/50\n",
      "1100/1100 [==============================] - 49s 44ms/step - loss: 1.2424 - acc: 0.4510 - val_loss: 1.2552 - val_acc: 0.4631\n",
      "\n",
      "Epoch 00005: val_acc did not improve from 0.47234\n",
      "Epoch 6/50\n",
      "1100/1100 [==============================] - 48s 44ms/step - loss: 1.2347 - acc: 0.4539 - val_loss: 1.2675 - val_acc: 0.4693\n",
      "\n",
      "Epoch 00006: val_acc did not improve from 0.47234\n",
      "Epoch 7/50\n",
      "1100/1100 [==============================] - 49s 44ms/step - loss: 1.2324 - acc: 0.4597 - val_loss: 1.2632 - val_acc: 0.4539\n",
      "\n",
      "Epoch 00007: val_acc did not improve from 0.47234\n",
      "Epoch 8/50\n",
      "1100/1100 [==============================] - 48s 44ms/step - loss: 1.2353 - acc: 0.4538 - val_loss: 1.2417 - val_acc: 0.4641\n",
      "\n",
      "Epoch 00008: val_acc did not improve from 0.47234\n",
      "Epoch 9/50\n",
      "1100/1100 [==============================] - 49s 44ms/step - loss: 1.2284 - acc: 0.4614 - val_loss: 1.2706 - val_acc: 0.4621\n",
      "\n",
      "Epoch 00009: val_acc did not improve from 0.47234\n",
      "Epoch 10/50\n",
      "1100/1100 [==============================] - 48s 43ms/step - loss: 1.2280 - acc: 0.4606 - val_loss: 1.2469 - val_acc: 0.4621\n",
      "\n",
      "Epoch 00010: val_acc did not improve from 0.47234\n",
      "Epoch 11/50\n",
      "1100/1100 [==============================] - 48s 44ms/step - loss: 1.2223 - acc: 0.4643 - val_loss: 1.2483 - val_acc: 0.4600\n",
      "\n",
      "Epoch 00011: val_acc did not improve from 0.47234\n",
      "Epoch 12/50\n",
      "1100/1100 [==============================] - 48s 44ms/step - loss: 1.2220 - acc: 0.4580 - val_loss: 1.2413 - val_acc: 0.4590\n",
      "\n",
      "Epoch 00012: val_acc did not improve from 0.47234\n",
      "Epoch 13/50\n",
      "1100/1100 [==============================] - 48s 44ms/step - loss: 1.2186 - acc: 0.4672 - val_loss: 1.2455 - val_acc: 0.4600\n",
      "\n",
      "Epoch 00013: val_acc did not improve from 0.47234\n",
      "Epoch 14/50\n",
      "1100/1100 [==============================] - 49s 44ms/step - loss: 1.2230 - acc: 0.4641 - val_loss: 1.2544 - val_acc: 0.4539\n",
      "\n",
      "Epoch 00014: val_acc did not improve from 0.47234\n",
      "Epoch 15/50\n",
      "1100/1100 [==============================] - 49s 44ms/step - loss: 1.2171 - acc: 0.4643 - val_loss: 1.2532 - val_acc: 0.4693\n",
      "\n",
      "Epoch 00015: val_acc did not improve from 0.47234\n",
      "Epoch 16/50\n",
      "1100/1100 [==============================] - 49s 44ms/step - loss: 1.2061 - acc: 0.4714 - val_loss: 1.2542 - val_acc: 0.4662\n",
      "\n",
      "Epoch 00016: val_acc did not improve from 0.47234\n",
      "Epoch 17/50\n",
      "1100/1100 [==============================] - 48s 44ms/step - loss: 1.2140 - acc: 0.4641 - val_loss: 1.2470 - val_acc: 0.4703\n",
      "\n",
      "Epoch 00017: val_acc did not improve from 0.47234\n",
      "Epoch 18/50\n",
      "1100/1100 [==============================] - 48s 44ms/step - loss: 1.2054 - acc: 0.4705 - val_loss: 1.2588 - val_acc: 0.4662\n",
      "\n",
      "Epoch 00018: val_acc did not improve from 0.47234\n",
      "Epoch 19/50\n",
      "1100/1100 [==============================] - 49s 45ms/step - loss: 1.2049 - acc: 0.4754 - val_loss: 1.2553 - val_acc: 0.4723\n",
      "\n",
      "Epoch 00019: val_acc did not improve from 0.47234\n",
      "Epoch 20/50\n",
      "1100/1100 [==============================] - 48s 44ms/step - loss: 1.2024 - acc: 0.4804 - val_loss: 1.2541 - val_acc: 0.4713\n",
      "\n",
      "Epoch 00020: val_acc did not improve from 0.47234\n",
      "Epoch 21/50\n",
      "1100/1100 [==============================] - 48s 44ms/step - loss: 1.1919 - acc: 0.4762 - val_loss: 1.2518 - val_acc: 0.4703\n",
      "\n",
      "Epoch 00021: val_acc did not improve from 0.47234\n",
      "Epoch 22/50\n",
      "1100/1100 [==============================] - 48s 44ms/step - loss: 1.1896 - acc: 0.4770 - val_loss: 1.2478 - val_acc: 0.4693\n",
      "\n",
      "Epoch 00022: val_acc did not improve from 0.47234\n",
      "\n",
      "Epoch 00022: ReduceLROnPlateau reducing learning rate to 9.999999747378752e-07.\n"
     ]
    },
    {
     "data": {
      "text/plain": "<tensorflow.python.keras.callbacks.History at 0x7f9e300a4f60>"
     },
     "execution_count": 29,
     "metadata": {},
     "output_type": "execute_result"
    }
   ],
   "source": [
    "xception_model.fit(\n",
    "    train_generator,\n",
    "    steps_per_epoch=STEP_SIZE_TRAIN,\n",
    "    epochs=50,\n",
    "    validation_data=valid_generator,\n",
    "    validation_steps=STEP_SIZE_VALID,callbacks=[my_callbacks]\n",
    ")"
   ]
  },
  {
   "cell_type": "code",
   "execution_count": 30,
   "id": "complete-spelling",
   "metadata": {
    "colab": {
     "base_uri": "https://localhost:8080/"
    },
    "execution": {
     "iopub.execute_input": "2021-05-30T20:25:33.497837Z",
     "iopub.status.busy": "2021-05-30T20:25:33.496999Z",
     "iopub.status.idle": "2021-05-30T20:25:34.695800Z",
     "shell.execute_reply": "2021-05-30T20:25:34.695365Z",
     "shell.execute_reply.started": "2021-05-24T16:41:06.725854Z"
    },
    "id": "complete-spelling",
    "outputId": "7f0049d7-bedf-4255-c346-481788903f41",
    "papermill": {
     "duration": 4.566888,
     "end_time": "2021-05-30T20:25:34.695951",
     "exception": false,
     "start_time": "2021-05-30T20:25:30.129063",
     "status": "completed"
    },
    "tags": []
   },
   "outputs": [
    {
     "data": {
      "text/plain": "<tensorflow.python.training.tracking.util.CheckpointLoadStatus at 0x7f962d7d2978>"
     },
     "execution_count": 30,
     "metadata": {},
     "output_type": "execute_result"
    }
   ],
   "source": [
    "xception_model.load_weights(checkpoint_path)"
   ]
  },
  {
   "cell_type": "markdown",
   "id": "intended-cylinder",
   "metadata": {
    "id": "intended-cylinder",
    "papermill": {
     "duration": 3.633537,
     "end_time": "2021-05-30T20:25:41.743104",
     "exception": false,
     "start_time": "2021-05-30T20:25:38.109567",
     "status": "completed"
    },
    "tags": []
   },
   "source": [
    "## 검증 데이터 Confusion Matrix"
   ]
  },
  {
   "cell_type": "code",
   "execution_count": 31,
   "id": "equivalent-album",
   "metadata": {
    "colab": {
     "base_uri": "https://localhost:8080/"
    },
    "execution": {
     "iopub.execute_input": "2021-05-30T20:25:48.625234Z",
     "iopub.status.busy": "2021-05-30T20:25:48.624438Z",
     "iopub.status.idle": "2021-05-30T20:25:48.634216Z",
     "shell.execute_reply": "2021-05-30T20:25:48.633804Z",
     "shell.execute_reply.started": "2021-05-27T05:35:10.161826Z"
    },
    "id": "equivalent-album",
    "outputId": "388c9b93-9c21-4130-d864-0f4678592fdd",
    "papermill": {
     "duration": 3.430239,
     "end_time": "2021-05-30T20:25:48.634343",
     "exception": false,
     "start_time": "2021-05-30T20:25:45.204104",
     "status": "completed"
    },
    "tags": []
   },
   "outputs": [
    {
     "name": "stdout",
     "output_type": "stream",
     "text": [
      "Found 979 validated image filenames.\n"
     ]
    }
   ],
   "source": [
    "from sklearn.metrics import precision_recall_curve\n",
    "\n",
    "target_shape = 224\n",
    "BATCH_SIZE = 1\n",
    "\n",
    "compi_gen = valid_aug.flow_from_dataframe(\n",
    "    dataframe= X_test, \n",
    "    x_col= \"filepath\",\n",
    "    class_mode=None,\n",
    "    target_size= (target_shape, target_shape),\n",
    "    shuffle= False,\n",
    "    batch_size= BATCH_SIZE\n",
    ")"
   ]
  },
  {
   "cell_type": "code",
   "execution_count": 32,
   "id": "preceding-delight",
   "metadata": {
    "colab": {
     "base_uri": "https://localhost:8080/"
    },
    "execution": {
     "iopub.execute_input": "2021-05-30T20:25:56.117007Z",
     "iopub.status.busy": "2021-05-30T20:25:56.116264Z",
     "iopub.status.idle": "2021-05-30T20:26:05.659358Z",
     "shell.execute_reply": "2021-05-30T20:26:05.658569Z",
     "shell.execute_reply.started": "2021-05-27T05:35:17.324361Z"
    },
    "id": "preceding-delight",
    "outputId": "711df68f-54a2-471c-eb7d-7e14d128c91a",
    "papermill": {
     "duration": 12.914933,
     "end_time": "2021-05-30T20:26:05.659489",
     "exception": false,
     "start_time": "2021-05-30T20:25:52.744556",
     "status": "completed"
    },
    "tags": []
   },
   "outputs": [
    {
     "name": "stdout",
     "output_type": "stream",
     "text": [
      "979/979 [==============================] - 8s 7ms/step\n"
     ]
    }
   ],
   "source": [
    "predicition_compi = xception_model.predict(compi_gen, steps= compi_gen.n/ BATCH_SIZE, verbose= 1)"
   ]
  },
  {
   "cell_type": "code",
   "execution_count": 33,
   "id": "distinguished-midwest",
   "metadata": {
    "colab": {
     "base_uri": "https://localhost:8080/",
     "height": 299
    },
    "execution": {
     "iopub.execute_input": "2021-05-30T20:26:12.667940Z",
     "iopub.status.busy": "2021-05-30T20:26:12.649791Z",
     "iopub.status.idle": "2021-05-30T20:26:13.051891Z",
     "shell.execute_reply": "2021-05-30T20:26:13.051413Z",
     "shell.execute_reply.started": "2021-05-27T05:43:44.837052Z"
    },
    "id": "distinguished-midwest",
    "outputId": "ff29bab3-ae02-4987-c865-2a296b9c582b",
    "papermill": {
     "duration": 3.832152,
     "end_time": "2021-05-30T20:26:13.052010",
     "exception": false,
     "start_time": "2021-05-30T20:26:09.219858",
     "status": "completed"
    },
    "tags": []
   },
   "outputs": [
    {
     "data": {
      "text/plain": "<sklearn.metrics._plot.confusion_matrix.ConfusionMatrixDisplay at 0x7fa00525a2b0>"
     },
     "execution_count": 33,
     "metadata": {},
     "output_type": "execute_result"
    },
    {
     "data": {
      "text/plain": "<Figure size 432x288 with 2 Axes>",
      "image/png": "[encoded data removed]"
     },
     "metadata": {
      "needs_background": "light"
     },
     "output_type": "display_data"
    }
   ],
   "source": [
    "from sklearn.metrics import confusion_matrix, ConfusionMatrixDisplay\n",
    "\n",
    "class_prediction_compi =  np.argmax(predicition_compi, axis= 1)\n",
    "cm = confusion_matrix(X_test.label, class_prediction_compi, labels=[0, 1, 2, 3, 4])\n",
    "disp = ConfusionMatrixDisplay(confusion_matrix=cm, display_labels=[0, 1, 2, 3, 4])\n",
    "\n",
    "disp.plot()"
   ]
  },
  {
   "cell_type": "markdown",
   "id": "83914daf",
   "metadata": {
    "id": "intended-cylinder",
    "papermill": {
     "duration": 3.633537,
     "end_time": "2021-05-30T20:25:41.743104",
     "exception": false,
     "start_time": "2021-05-30T20:25:38.109567",
     "status": "completed"
    },
    "tags": []
   },
   "source": [
    "## 추가 테스트 데이터 Confusion Matrix"
   ]
  },
  {
   "cell_type": "code",
   "execution_count": 34,
   "id": "11cf8fc1",
   "metadata": {
    "scrolled": true
   },
   "outputs": [
    {
     "data": {
      "text/plain": "                                              filepath  label\n0    /home/Lee_KneeData//0/5a21060fe4b0f1e9e5622e32...      0\n1    /home/Lee_KneeData//0/5a21060fe4b0f1e9e5622e32...      0\n2    /home/Lee_KneeData//0/5a21112ee4b09b69e603db16...      0\n3    /home/Lee_KneeData//0/5a21112ee4b09b69e603db16...      0\n4    /home/Lee_KneeData//0/5a28d27ae4b028f6846ae00a...      0\n..                                                 ...    ...\n526  /home/Lee_KneeData//4/5b0e3cede4b07f99d60ee44d...      4\n527  /home/Lee_KneeData//4/5b0f64cde4b0b80049bd1e8e...      4\n528  /home/Lee_KneeData//4/5b10dab8e4b07f99d61002a5...      4\n529  /home/Lee_KneeData//4/5b10dab8e4b07f99d61002a5...      4\n530  /home/Lee_KneeData//4/5b1f54b4e4b099a4cf79f0ae...      4\n\n[531 rows x 2 columns]",
      "text/html": "<div>\n<style scoped>\n    .dataframe tbody tr th:only-of-type {\n        vertical-align: middle;\n    }\n\n    .dataframe tbody tr th {\n        vertical-align: top;\n    }\n\n    .dataframe thead th {\n        text-align: right;\n    }\n</style>\n<table border=\"1\" class=\"dataframe\">\n  <thead>\n    <tr style=\"text-align: right;\">\n      <th></th>\n      <th>filepath</th>\n      <th>label</th>\n    </tr>\n  </thead>\n  <tbody>\n    <tr>\n      <th>0</th>\n      <td>/home/Lee_KneeData//0/5a21060fe4b0f1e9e5622e32...</td>\n      <td>0</td>\n    </tr>\n    <tr>\n      <th>1</th>\n      <td>/home/Lee_KneeData//0/5a21060fe4b0f1e9e5622e32...</td>\n      <td>0</td>\n    </tr>\n    <tr>\n      <th>2</th>\n      <td>/home/Lee_KneeData//0/5a21112ee4b09b69e603db16...</td>\n      <td>0</td>\n    </tr>\n    <tr>\n      <th>3</th>\n      <td>/home/Lee_KneeData//0/5a21112ee4b09b69e603db16...</td>\n      <td>0</td>\n    </tr>\n    <tr>\n      <th>4</th>\n      <td>/home/Lee_KneeData//0/5a28d27ae4b028f6846ae00a...</td>\n      <td>0</td>\n    </tr>\n    <tr>\n      <th>...</th>\n      <td>...</td>\n      <td>...</td>\n    </tr>\n    <tr>\n      <th>526</th>\n      <td>/home/Lee_KneeData//4/5b0e3cede4b07f99d60ee44d...</td>\n      <td>4</td>\n    </tr>\n    <tr>\n      <th>527</th>\n      <td>/home/Lee_KneeData//4/5b0f64cde4b0b80049bd1e8e...</td>\n      <td>4</td>\n    </tr>\n    <tr>\n      <th>528</th>\n      <td>/home/Lee_KneeData//4/5b10dab8e4b07f99d61002a5...</td>\n      <td>4</td>\n    </tr>\n    <tr>\n      <th>529</th>\n      <td>/home/Lee_KneeData//4/5b10dab8e4b07f99d61002a5...</td>\n      <td>4</td>\n    </tr>\n    <tr>\n      <th>530</th>\n      <td>/home/Lee_KneeData//4/5b1f54b4e4b099a4cf79f0ae...</td>\n      <td>4</td>\n    </tr>\n  </tbody>\n</table>\n<p>531 rows × 2 columns</p>\n</div>"
     },
     "execution_count": 34,
     "metadata": {},
     "output_type": "execute_result"
    }
   ],
   "source": [
    "n_class = 5\n",
    "test_root_path = \"/home/Lee_KneeData/\"\n",
    "test_image_path_list = []\n",
    "test_label_list = []\n",
    "\n",
    "for label in range(n_class):\n",
    "    test_image_list = os.listdir(f\"{test_root_path}/{label}\")\n",
    "    test_image_path_list += [ f\"{test_root_path}/{label}/\"+ path for path in test_image_list]\n",
    "    test_label_list += [label] * len(test_image_list)\n",
    "\n",
    "df_test = pd.DataFrame({\"filepath\" : test_image_path_list, \"label\": test_label_list})\n",
    "df_test"
   ]
  },
  {
   "cell_type": "code",
   "execution_count": 35,
   "id": "b8563088",
   "metadata": {},
   "outputs": [
    {
     "data": {
      "text/plain": "(531, 2)"
     },
     "execution_count": 35,
     "metadata": {},
     "output_type": "execute_result"
    }
   ],
   "source": [
    "df_test.shape"
   ]
  },
  {
   "cell_type": "markdown",
   "id": "1d6223be",
   "metadata": {
    "id": "intended-cylinder",
    "papermill": {
     "duration": 3.633537,
     "end_time": "2021-05-30T20:25:41.743104",
     "exception": false,
     "start_time": "2021-05-30T20:25:38.109567",
     "status": "completed"
    },
    "tags": []
   },
   "source": [
    "## 추가 테스트 데이터 분포"
   ]
  },
  {
   "cell_type": "code",
   "execution_count": 36,
   "id": "e6f6a6d0",
   "metadata": {},
   "outputs": [
    {
     "data": {
      "text/plain": "Text(0, 0.5, 'count')"
     },
     "execution_count": 36,
     "metadata": {},
     "output_type": "execute_result"
    },
    {
     "data": {
      "text/plain": "<Figure size 432x288 with 1 Axes>",
      "image/png": "[encoded data removed]"
     },
     "metadata": {
      "needs_background": "light"
     },
     "output_type": "display_data"
    }
   ],
   "source": [
    "df_test.label.value_counts().plot.bar()\n",
    "plt.xlabel(\"label\")\n",
    "plt.ylabel(\"count\")"
   ]
  },
  {
   "cell_type": "code",
   "execution_count": 37,
   "id": "469679e2",
   "metadata": {},
   "outputs": [],
   "source": [
    "from sklearn.model_selection import train_test_split\n",
    "\n",
    "seed = 42\n",
    "test_da = train_test_split(\n",
    "    df_test,\n",
    "    test_size = 0.1,\n",
    "    random_state = seed,\n",
    "    stratify = df_test.label\n",
    "  )"
   ]
  },
  {
   "cell_type": "code",
   "execution_count": 38,
   "id": "0ddf19c7",
   "metadata": {},
   "outputs": [
    {
     "name": "stdout",
     "output_type": "stream",
     "text": [
      "Found 531 validated image filenames.\n"
     ]
    }
   ],
   "source": [
    "BS = 1\n",
    "image_size = 224\n",
    "seed = 42\n",
    "\n",
    "da_test_generator = valid_aug.flow_from_dataframe(\n",
    "    dataframe = df_test,\n",
    "    directory = test_root_path,\n",
    "    x_col = \"filepath\",\n",
    "    y_col = 'label',\n",
    "    batch_size = 1,\n",
    "    seed = seed,\n",
    "    shuffle = False,\n",
    "    class_mode = None,\n",
    "    target_size = (image_size, image_size)\n",
    "  )"
   ]
  },
  {
   "cell_type": "code",
   "execution_count": 39,
   "id": "499563c8",
   "metadata": {},
   "outputs": [
    {
     "name": "stdout",
     "output_type": "stream",
     "text": [
      "531/531 [==============================] - 3s 7ms/step\n"
     ]
    }
   ],
   "source": [
    "predicition_test = xception_model.predict(da_test_generator, steps= da_test_generator.n/ BS, verbose= 1)"
   ]
  },
  {
   "cell_type": "code",
   "execution_count": 40,
   "id": "e7d6147e",
   "metadata": {},
   "outputs": [
    {
     "data": {
      "text/plain": "<sklearn.metrics._plot.confusion_matrix.ConfusionMatrixDisplay at 0x7f962d53c2e8>"
     },
     "execution_count": 40,
     "metadata": {},
     "output_type": "execute_result"
    },
    {
     "data": {
      "text/plain": "<Figure size 432x288 with 2 Axes>",
      "image/png": "[encoded data removed]"
     },
     "metadata": {
      "needs_background": "light"
     },
     "output_type": "display_data"
    }
   ],
   "source": [
    "from sklearn.metrics import confusion_matrix, ConfusionMatrixDisplay\n",
    "\n",
    "class_prediction_test =  np.argmax(predicition_test, axis= 1)\n",
    "cm_test = confusion_matrix(df_test.label, class_prediction_test, labels=[0, 1, 2, 3, 4])\n",
    "disp_test = ConfusionMatrixDisplay(confusion_matrix = cm_test, display_labels=[0, 1, 2, 3, 4])\n",
    "\n",
    "disp_test.plot()"
   ]
  },
  {
   "cell_type": "markdown",
   "id": "positive-wilson",
   "metadata": {
    "id": "positive-wilson",
    "papermill": {
     "duration": 3.5306,
     "end_time": "2021-05-30T20:26:20.277590",
     "exception": false,
     "start_time": "2021-05-30T20:26:16.746990",
     "status": "completed"
    },
    "tags": []
   },
   "source": [
    "## DPhi에서 제공한 테스트 데이터 세트에 대한 예측 및 .csv파일 생성"
   ]
  },
  {
   "cell_type": "code",
   "execution_count": 41,
   "id": "constitutional-catholic",
   "metadata": {
    "colab": {
     "base_uri": "https://localhost:8080/"
    },
    "execution": {
     "iopub.execute_input": "2021-05-30T20:26:28.031789Z",
     "iopub.status.busy": "2021-05-30T20:26:28.031111Z",
     "iopub.status.idle": "2021-05-30T20:26:28.058944Z",
     "shell.execute_reply": "2021-05-30T20:26:28.058161Z",
     "shell.execute_reply.started": "2021-05-27T09:08:20.550041Z"
    },
    "id": "constitutional-catholic",
    "outputId": "5f5f47f4-62db-4337-c3f4-043cc4d7d398",
    "papermill": {
     "duration": 4.034446,
     "end_time": "2021-05-30T20:26:28.059074",
     "exception": false,
     "start_time": "2021-05-30T20:26:24.024628",
     "status": "completed"
    },
    "tags": []
   },
   "outputs": [
    {
     "name": "stdout",
     "output_type": "stream",
     "text": [
      "Found 1958 validated image filenames.\n"
     ]
    }
   ],
   "source": [
    "test = pd.read_csv(compi_root_path + \"Test.csv\")\n",
    "\n",
    "test_generator = valid_aug.flow_from_dataframe(\n",
    "    dataframe= test,\n",
    "    directory= compi_root_path + \"test\",\n",
    "    x_col= \"filename\",\n",
    "    y_col= None,\n",
    "    batch_size= 1,\n",
    "    seed= 42,\n",
    "    shuffle= False,\n",
    "    class_mode= None,\n",
    "    target_size= (224,224)\n",
    ")\n",
    "\n",
    "STEP_SIZE_TEST=test_generator.n//test_generator.batch_size"
   ]
  },
  {
   "cell_type": "code",
   "execution_count": 42,
   "id": "blocked-niagara",
   "metadata": {
    "colab": {
     "base_uri": "https://localhost:8080/"
    },
    "execution": {
     "iopub.execute_input": "2021-05-30T20:26:34.994605Z",
     "iopub.status.busy": "2021-05-30T20:26:34.994000Z",
     "iopub.status.idle": "2021-05-30T20:26:56.340759Z",
     "shell.execute_reply": "2021-05-30T20:26:56.341118Z",
     "shell.execute_reply.started": "2021-05-27T05:51:39.116529Z"
    },
    "id": "blocked-niagara",
    "outputId": "77c22b06-e93f-4228-8b21-57554d52e207",
    "papermill": {
     "duration": 24.791614,
     "end_time": "2021-05-30T20:26:56.341303",
     "exception": false,
     "start_time": "2021-05-30T20:26:31.549689",
     "status": "completed"
    },
    "tags": []
   },
   "outputs": [
    {
     "name": "stdout",
     "output_type": "stream",
     "text": [
      "1958/1958 [==============================] - 13s 7ms/step\n"
     ]
    },
    {
     "data": {
      "text/plain": "0    1251\n2     455\n3     186\n4      66\nName: label, dtype: int64"
     },
     "execution_count": 42,
     "metadata": {},
     "output_type": "execute_result"
    }
   ],
   "source": [
    "pred = xception_model.predict(test_generator,steps=STEP_SIZE_TEST,verbose=1)\n",
    "df_submit = pd.DataFrame({\"label\":np.argmax(pred, axis= 1)})\n",
    "df_submit[\"label\"].value_counts()"
   ]
  },
  {
   "cell_type": "code",
   "execution_count": 43,
   "id": "liquid-tsunami",
   "metadata": {
    "execution": {
     "iopub.execute_input": "2021-05-30T20:27:26.290338Z",
     "iopub.status.busy": "2021-05-30T20:27:26.289493Z",
     "iopub.status.idle": "2021-05-30T20:27:26.809425Z",
     "shell.execute_reply": "2021-05-30T20:27:26.808879Z",
     "shell.execute_reply.started": "2021-05-27T05:51:46.57395Z"
    },
    "id": "liquid-tsunami",
    "papermill": {
     "duration": 4.073647,
     "end_time": "2021-05-30T20:27:26.809566",
     "exception": false,
     "start_time": "2021-05-30T20:27:22.735919",
     "status": "completed"
    },
    "tags": []
   },
   "outputs": [],
   "source": [
    "xception_model.save_weights(\"knee_xray_Xceptionnet_GPA.h5\")\n",
    "df_submit.to_csv(\"submission.csv\",index=False)"
   ]
  }
 ],
 "metadata": {
  "accelerator": "GPU",
  "colab": {
   "collapsed_sections": [
    "million-monaco",
    "rotary-prague",
    "hairy-greene",
    "dense-enzyme",
    "asian-chest",
    "marked-belarus",
    "pretty-morris",
    "intended-cylinder"
   ],
   "include_colab_link": true,
   "machine_shape": "hm",
   "name": "[MDL]KLGrade.ipynb",
   "provenance": []
  },
  "kernelspec": {
   "display_name": "Python 3",
   "language": "python",
   "name": "python3"
  },
  "language_info": {
   "codemirror_mode": {
    "name": "ipython",
    "version": 3
   },
   "file_extension": ".py",
   "mimetype": "text/x-python",
   "name": "python",
   "nbconvert_exporter": "python",
   "pygments_lexer": "ipython3",
   "version": "3.6.9"
  },
  "papermill": {
   "default_parameters": {},
   "duration": 6499.620651,
   "end_time": "2021-05-30T20:27:40.898205",
   "environment_variables": {},
   "exception": null,
   "input_path": "__notebook__.ipynb",
   "output_path": "__notebook__.ipynb",
   "parameters": {},
   "start_time": "2021-05-30T18:39:21.277554",
   "version": "2.3.3"
  }
 },
 "nbformat": 4,
 "nbformat_minor": 5
}