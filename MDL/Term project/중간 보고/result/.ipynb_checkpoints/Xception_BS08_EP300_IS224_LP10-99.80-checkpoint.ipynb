{
 "cells": [
  {
   "cell_type": "markdown",
   "id": "18af0544",
   "metadata": {
    "colab_type": "text",
    "id": "view-in-github"
   },
   "source": [
    "<a href=\"https://colab.research.google.com/github/d9249/MDL/blob/main/KLGrade_DenseNet121-91.83.ipynb\" target=\"_parent\"><img src=\"https://colab.research.google.com/assets/colab-badge.svg\" alt=\"Open In Colab\"/></a>"
   ]
  },
  {
   "cell_type": "code",
   "execution_count": 1,
   "id": "f33568de",
   "metadata": {
    "scrolled": true
   },
   "outputs": [
    {
     "name": "stdout",
     "output_type": "stream",
     "text": [
      "D:\\MDL\\model\n"
     ]
    }
   ],
   "source": [
    "cd D:\\MDL\\model"
   ]
  },
  {
   "cell_type": "code",
   "execution_count": 2,
   "id": "74860ad1",
   "metadata": {},
   "outputs": [],
   "source": [
    "import os\n",
    "os.environ[\"CUDA_DEVICE_ORDER\"]=\"PCI_BUS_ID\"\n",
    "os.environ[\"CUDA_VISIBLE_DEVICES\"]=\"0\""
   ]
  },
  {
   "cell_type": "code",
   "execution_count": 3,
   "id": "37b90db9",
   "metadata": {},
   "outputs": [
    {
     "name": "stdout",
     "output_type": "stream",
     "text": [
      "[name: \"/device:CPU:0\"\n",
      "device_type: \"CPU\"\n",
      "memory_limit: 268435456\n",
      "locality {\n",
      "}\n",
      "incarnation: 13862928520253002627\n",
      ", name: \"/device:GPU:0\"\n",
      "device_type: \"GPU\"\n",
      "memory_limit: 22727688192\n",
      "locality {\n",
      "  bus_id: 1\n",
      "  links {\n",
      "  }\n",
      "}\n",
      "incarnation: 4339026329529511671\n",
      "physical_device_desc: \"device: 0, name: GeForce RTX 3090, pci bus id: 0000:01:00.0, compute capability: 8.6\"\n",
      "]\n"
     ]
    }
   ],
   "source": [
    "from tensorflow.python.client import device_lib\n",
    "print(device_lib.list_local_devices())"
   ]
  },
  {
   "cell_type": "code",
   "execution_count": 4,
   "id": "ts26D3gLnyLd",
   "metadata": {
    "colab": {
     "base_uri": "https://localhost:8080/"
    },
    "id": "ts26D3gLnyLd",
    "outputId": "f4f6fa8d-223f-4028-b18f-b8da4113b6d3"
   },
   "outputs": [
    {
     "name": "stdout",
     "output_type": "stream",
     "text": [
      "Sun Nov  7 06:55:16 2021       \n",
      "+-----------------------------------------------------------------------------+\n",
      "| NVIDIA-SMI 461.72       Driver Version: 461.72       CUDA Version: 11.2     |\n",
      "|-------------------------------+----------------------+----------------------+\n",
      "| GPU  Name            TCC/WDDM | Bus-Id        Disp.A | Volatile Uncorr. ECC |\n",
      "| Fan  Temp  Perf  Pwr:Usage/Cap|         Memory-Usage | GPU-Util  Compute M. |\n",
      "|                               |                      |               MIG M. |\n",
      "|===============================+======================+======================|\n",
      "|   0  GeForce RTX 3090   WDDM  | 00000000:01:00.0 Off |                  N/A |\n",
      "|  0%   39C    P2    44W / 350W |    599MiB / 24576MiB |      8%      Default |\n",
      "|                               |                      |                  N/A |\n",
      "+-------------------------------+----------------------+----------------------+\n",
      "                                                                               \n",
      "+-----------------------------------------------------------------------------+\n",
      "| Processes:                                                                  |\n",
      "|  GPU   GI   CI        PID   Type   Process name                  GPU Memory |\n",
      "|        ID   ID                                                   Usage      |\n",
      "|=============================================================================|\n",
      "|    0   N/A  N/A     12544      C   ...gkim\\anaconda3\\python.exe    N/A      |\n",
      "+-----------------------------------------------------------------------------+\n"
     ]
    }
   ],
   "source": [
    "!nvidia-smi"
   ]
  },
  {
   "cell_type": "code",
   "execution_count": 5,
   "id": "floating-cincinnati",
   "metadata": {
    "execution": {
     "iopub.execute_input": "2021-05-30T18:39:28.086573Z",
     "iopub.status.busy": "2021-05-30T18:39:28.085923Z",
     "iopub.status.idle": "2021-05-30T18:39:32.847126Z",
     "shell.execute_reply": "2021-05-30T18:39:32.846068Z",
     "shell.execute_reply.started": "2021-05-30T09:28:36.967323Z"
    },
    "id": "floating-cincinnati",
    "papermill": {
     "duration": 4.80129,
     "end_time": "2021-05-30T18:39:32.847355",
     "exception": false,
     "start_time": "2021-05-30T18:39:28.046065",
     "status": "completed"
    },
    "tags": []
   },
   "outputs": [],
   "source": [
    "%matplotlib inline\n",
    "import numpy as np \n",
    "import pandas as pd\n",
    "import os\n",
    "from glob import glob\n",
    "import matplotlib.pyplot as plt\n",
    "from keras_preprocessing.image import ImageDataGenerator\n",
    "from tensorflow.keras.applications import Xception\n",
    "from tensorflow.keras.layers import GlobalAveragePooling2D\n",
    "import tensorflow as tf\n",
    "from tensorflow.keras.callbacks import ModelCheckpoint, EarlyStopping, ReduceLROnPlateau\n",
    "from keras.models import Model"
   ]
  },
  {
   "cell_type": "code",
   "execution_count": 6,
   "id": "73aea229",
   "metadata": {},
   "outputs": [],
   "source": [
    "model_name = Xception\n",
    "name = 'Xception'\n",
    "batch_size = 8\n",
    "train_epoch = 300\n",
    "val_epoch = 50\n",
    "seed = 42\n",
    "image_size = 224\n",
    "LP = 10\n",
    "lr = 0.00001\n",
    "decay = 0.0001"
   ]
  },
  {
   "cell_type": "markdown",
   "id": "rotary-prague",
   "metadata": {
    "id": "rotary-prague",
    "papermill": {
     "duration": 0.025647,
     "end_time": "2021-05-30T18:39:32.952047",
     "exception": false,
     "start_time": "2021-05-30T18:39:32.926400",
     "status": "completed"
    },
    "tags": []
   },
   "source": [
    "# 학습 데이터 세트"
   ]
  },
  {
   "cell_type": "code",
   "execution_count": 7,
   "id": "emotional-valuable",
   "metadata": {
    "execution": {
     "iopub.execute_input": "2021-05-30T18:39:33.012157Z",
     "iopub.status.busy": "2021-05-30T18:39:33.011596Z",
     "iopub.status.idle": "2021-05-30T18:39:35.556063Z",
     "shell.execute_reply": "2021-05-30T18:39:35.555555Z",
     "shell.execute_reply.started": "2021-05-30T09:28:38.947982Z"
    },
    "id": "emotional-valuable",
    "papermill": {
     "duration": 2.57776,
     "end_time": "2021-05-30T18:39:35.556225",
     "exception": false,
     "start_time": "2021-05-30T18:39:32.978465",
     "status": "completed"
    },
    "tags": []
   },
   "outputs": [],
   "source": [
    "# number of class\n",
    "n_class = 5\n",
    "\n",
    "# path to kaggle dataset\n",
    "root_path = \"C:\\\\Users\\\\ngkim\\\\Downloads\\\\ClsKLData\\\\kneeKL224\\\\\"\n",
    "\n",
    "# list of folders\n",
    "folder_list = os.listdir(root_path)\n",
    "image_path_list = []\n",
    "label_list = []\n",
    "\n",
    "# for each folder, get the image path and labels\n",
    "for folder in folder_list:\n",
    "    for label in range(n_class):\n",
    "        \n",
    "        # get all the images path inside the current folder\n",
    "        image_list = os.listdir(f\"{root_path}{folder}/{label}\")\n",
    "        # add to the image path list\n",
    "        image_path_list += [ f\"{root_path}{folder}/{label}/\"+ path for path in image_list]\n",
    "        \n",
    "        # add labels to the label list\n",
    "        label_list += [label] * len(image_list)\n",
    "\n",
    "# convert to dataframe\n",
    "df_train_kaggle = pd.DataFrame({\"filepath\" : image_path_list, \"label\": label_list})"
   ]
  },
  {
   "cell_type": "code",
   "execution_count": 8,
   "id": "signal-responsibility",
   "metadata": {
    "colab": {
     "base_uri": "https://localhost:8080/"
    },
    "execution": {
     "iopub.execute_input": "2021-05-30T18:39:35.618734Z",
     "iopub.status.busy": "2021-05-30T18:39:35.617931Z",
     "iopub.status.idle": "2021-05-30T18:39:35.621117Z",
     "shell.execute_reply": "2021-05-30T18:39:35.621576Z",
     "shell.execute_reply.started": "2021-05-30T09:28:40.244589Z"
    },
    "id": "signal-responsibility",
    "outputId": "9be7a788-1c7a-498d-a3e9-7b2c5e8455ab",
    "papermill": {
     "duration": 0.03629,
     "end_time": "2021-05-30T18:39:35.621716",
     "exception": false,
     "start_time": "2021-05-30T18:39:35.585426",
     "status": "completed"
    },
    "tags": []
   },
   "outputs": [
    {
     "data": {
      "text/plain": [
       "(9786, 2)"
      ]
     },
     "execution_count": 8,
     "metadata": {},
     "output_type": "execute_result"
    }
   ],
   "source": [
    "df_train_kaggle.shape"
   ]
  },
  {
   "cell_type": "markdown",
   "id": "hairy-greene",
   "metadata": {
    "id": "hairy-greene",
    "papermill": {
     "duration": 0.030406,
     "end_time": "2021-05-30T18:39:35.680660",
     "exception": false,
     "start_time": "2021-05-30T18:39:35.650254",
     "status": "completed"
    },
    "tags": []
   },
   "source": [
    "# 샘플 분포"
   ]
  },
  {
   "cell_type": "code",
   "execution_count": 9,
   "id": "therapeutic-spending",
   "metadata": {
    "colab": {
     "base_uri": "https://localhost:8080/",
     "height": 295
    },
    "execution": {
     "iopub.execute_input": "2021-05-30T18:39:35.750000Z",
     "iopub.status.busy": "2021-05-30T18:39:35.749277Z",
     "iopub.status.idle": "2021-05-30T18:39:35.918362Z",
     "shell.execute_reply": "2021-05-30T18:39:35.918766Z",
     "shell.execute_reply.started": "2021-05-30T09:28:41.597346Z"
    },
    "id": "therapeutic-spending",
    "outputId": "0e179822-cb9f-4a56-b0c3-1f99705e882b",
    "papermill": {
     "duration": 0.208649,
     "end_time": "2021-05-30T18:39:35.918905",
     "exception": false,
     "start_time": "2021-05-30T18:39:35.710256",
     "status": "completed"
    },
    "tags": []
   },
   "outputs": [
    {
     "data": {
      "text/plain": [
       "Text(0, 0.5, 'count')"
      ]
     },
     "execution_count": 9,
     "metadata": {},
     "output_type": "execute_result"
    },
    {
     "data": {
      "image/png": "[encoded data removed]",
      "text/plain": [
       "<Figure size 432x288 with 1 Axes>"
      ]
     },
     "metadata": {
      "needs_background": "light"
     },
     "output_type": "display_data"
    }
   ],
   "source": [
    "df_train_kaggle.label.value_counts().plot.bar()\n",
    "plt.xlabel(\"label\")\n",
    "plt.ylabel(\"count\")"
   ]
  },
  {
   "cell_type": "code",
   "execution_count": 10,
   "id": "encouraging-novel",
   "metadata": {
    "execution": {
     "iopub.execute_input": "2021-05-30T18:39:36.090553Z",
     "iopub.status.busy": "2021-05-30T18:39:36.089729Z",
     "iopub.status.idle": "2021-05-30T18:39:36.092340Z",
     "shell.execute_reply": "2021-05-30T18:39:36.091828Z",
     "shell.execute_reply.started": "2021-05-30T09:28:44.189248Z"
    },
    "id": "encouraging-novel",
    "papermill": {
     "duration": 0.035021,
     "end_time": "2021-05-30T18:39:36.092447",
     "exception": false,
     "start_time": "2021-05-30T18:39:36.057426",
     "status": "completed"
    },
    "tags": []
   },
   "outputs": [],
   "source": [
    "# train data generator object\n",
    "train_aug = ImageDataGenerator(\n",
    "    rescale = 1./255\n",
    "  )\n",
    "\n",
    "# validation data generator object\n",
    "valid_aug = ImageDataGenerator(\n",
    "    rescale = 1./255\n",
    "  )"
   ]
  },
  {
   "cell_type": "code",
   "execution_count": 11,
   "id": "geological-philadelphia",
   "metadata": {
    "colab": {
     "base_uri": "https://localhost:8080/"
    },
    "execution": {
     "iopub.execute_input": "2021-05-30T18:39:36.172890Z",
     "iopub.status.busy": "2021-05-30T18:39:36.167698Z",
     "iopub.status.idle": "2021-05-30T18:39:39.954054Z",
     "shell.execute_reply": "2021-05-30T18:39:39.954888Z",
     "shell.execute_reply.started": "2021-05-30T09:28:47.478488Z"
    },
    "id": "geological-philadelphia",
    "outputId": "358f5e4e-a7b9-4d32-d0be-5a08a4e27ace",
    "papermill": {
     "duration": 3.835127,
     "end_time": "2021-05-30T18:39:39.955083",
     "exception": false,
     "start_time": "2021-05-30T18:39:36.119956",
     "status": "completed"
    },
    "tags": []
   },
   "outputs": [
    {
     "name": "stdout",
     "output_type": "stream",
     "text": [
      "Found 9786 validated image filenames.\n"
     ]
    }
   ],
   "source": [
    "# create train generator\n",
    "train_generator = train_aug.flow_from_dataframe(\n",
    "    dataframe = df_train_kaggle,\n",
    "    directory = None,\n",
    "    x_col = \"filepath\",\n",
    "    y_col = \"label\",\n",
    "    batch_size = batch_size,\n",
    "    seed = seed,\n",
    "    shuffle = True,\n",
    "    class_mode = \"raw\",\n",
    "    target_size = (image_size,image_size)\n",
    "  )"
   ]
  },
  {
   "cell_type": "markdown",
   "id": "asian-chest",
   "metadata": {
    "id": "asian-chest",
    "papermill": {
     "duration": 0.027295,
     "end_time": "2021-05-30T18:39:40.011354",
     "exception": false,
     "start_time": "2021-05-30T18:39:39.984059",
     "status": "completed"
    },
    "tags": []
   },
   "source": [
    "# 검증 데이터"
   ]
  },
  {
   "cell_type": "code",
   "execution_count": 12,
   "id": "threaded-characterization",
   "metadata": {
    "colab": {
     "base_uri": "https://localhost:8080/",
     "height": 204
    },
    "execution": {
     "iopub.execute_input": "2021-05-30T18:40:02.229132Z",
     "iopub.status.busy": "2021-05-30T18:40:02.228400Z",
     "iopub.status.idle": "2021-05-30T18:40:02.250117Z",
     "shell.execute_reply": "2021-05-30T18:40:02.250642Z",
     "shell.execute_reply.started": "2021-05-30T08:33:23.833280Z"
    },
    "id": "threaded-characterization",
    "outputId": "283093ce-0819-4542-9ff8-555713912e62",
    "papermill": {
     "duration": 0.059732,
     "end_time": "2021-05-30T18:40:02.250775",
     "exception": false,
     "start_time": "2021-05-30T18:40:02.191043",
     "status": "completed"
    },
    "tags": []
   },
   "outputs": [
    {
     "data": {
      "text/html": [
       "<div>\n",
       "<style scoped>\n",
       "    .dataframe tbody tr th:only-of-type {\n",
       "        vertical-align: middle;\n",
       "    }\n",
       "\n",
       "    .dataframe tbody tr th {\n",
       "        vertical-align: top;\n",
       "    }\n",
       "\n",
       "    .dataframe thead th {\n",
       "        text-align: right;\n",
       "    }\n",
       "</style>\n",
       "<table border=\"1\" class=\"dataframe\">\n",
       "  <thead>\n",
       "    <tr style=\"text-align: right;\">\n",
       "      <th></th>\n",
       "      <th>filename</th>\n",
       "      <th>label</th>\n",
       "    </tr>\n",
       "  </thead>\n",
       "  <tbody>\n",
       "    <tr>\n",
       "      <th>0</th>\n",
       "      <td>C:\\Users\\ngkim\\Downloads\\KneeXray\\train/Image_...</td>\n",
       "      <td>0</td>\n",
       "    </tr>\n",
       "    <tr>\n",
       "      <th>1</th>\n",
       "      <td>C:\\Users\\ngkim\\Downloads\\KneeXray\\train/Image_...</td>\n",
       "      <td>1</td>\n",
       "    </tr>\n",
       "    <tr>\n",
       "      <th>2</th>\n",
       "      <td>C:\\Users\\ngkim\\Downloads\\KneeXray\\train/Image_...</td>\n",
       "      <td>0</td>\n",
       "    </tr>\n",
       "    <tr>\n",
       "      <th>3</th>\n",
       "      <td>C:\\Users\\ngkim\\Downloads\\KneeXray\\train/Image_...</td>\n",
       "      <td>1</td>\n",
       "    </tr>\n",
       "    <tr>\n",
       "      <th>4</th>\n",
       "      <td>C:\\Users\\ngkim\\Downloads\\KneeXray\\train/Image_...</td>\n",
       "      <td>2</td>\n",
       "    </tr>\n",
       "  </tbody>\n",
       "</table>\n",
       "</div>"
      ],
      "text/plain": [
       "                                            filename  label\n",
       "0  C:\\Users\\ngkim\\Downloads\\KneeXray\\train/Image_...      0\n",
       "1  C:\\Users\\ngkim\\Downloads\\KneeXray\\train/Image_...      1\n",
       "2  C:\\Users\\ngkim\\Downloads\\KneeXray\\train/Image_...      0\n",
       "3  C:\\Users\\ngkim\\Downloads\\KneeXray\\train/Image_...      1\n",
       "4  C:\\Users\\ngkim\\Downloads\\KneeXray\\train/Image_...      2"
      ]
     },
     "execution_count": 12,
     "metadata": {},
     "output_type": "execute_result"
    }
   ],
   "source": [
    "# read Train.csv file which contains image names and labels and preprocess them\n",
    "compi_root_path = \"C:\\\\Users\\\\ngkim\\\\Downloads\\\\KneeXray\\\\\"\n",
    "df_val_compi = pd.read_csv(compi_root_path + \"Train.csv\")\n",
    "\n",
    "# add absolute path to the image names\n",
    "df_val_compi[\"filename\"] = df_val_compi.filename.apply(lambda x: compi_root_path+\"train/\" + x)\n",
    "df_val_compi.head()"
   ]
  },
  {
   "cell_type": "code",
   "execution_count": 13,
   "id": "suburban-shareware",
   "metadata": {
    "colab": {
     "base_uri": "https://localhost:8080/",
     "height": 294
    },
    "execution": {
     "iopub.execute_input": "2021-05-30T18:40:02.339459Z",
     "iopub.status.busy": "2021-05-30T18:40:02.324109Z",
     "iopub.status.idle": "2021-05-30T18:40:02.442504Z",
     "shell.execute_reply": "2021-05-30T18:40:02.442056Z",
     "shell.execute_reply.started": "2021-05-30T08:33:23.865039Z"
    },
    "id": "suburban-shareware",
    "outputId": "8fb91f05-54a6-4bc7-d95f-68ea55748335",
    "papermill": {
     "duration": 0.158988,
     "end_time": "2021-05-30T18:40:02.442618",
     "exception": false,
     "start_time": "2021-05-30T18:40:02.283630",
     "status": "completed"
    },
    "tags": []
   },
   "outputs": [
    {
     "data": {
      "text/plain": [
       "Text(0, 0.5, 'count')"
      ]
     },
     "execution_count": 13,
     "metadata": {},
     "output_type": "execute_result"
    },
    {
     "data": {
      "image/png": "[encoded data removed]",
      "text/plain": [
       "<Figure size 432x288 with 1 Axes>"
      ]
     },
     "metadata": {
      "needs_background": "light"
     },
     "output_type": "display_data"
    }
   ],
   "source": [
    "# class count of compitition dataset\n",
    "df_val_compi.label.value_counts().plot.bar()\n",
    "plt.xlabel(\"label\")\n",
    "plt.ylabel(\"count\")"
   ]
  },
  {
   "cell_type": "code",
   "execution_count": 14,
   "id": "saving-homework",
   "metadata": {
    "colab": {
     "base_uri": "https://localhost:8080/"
    },
    "execution": {
     "iopub.execute_input": "2021-05-30T18:40:02.529039Z",
     "iopub.status.busy": "2021-05-30T18:40:02.528305Z",
     "iopub.status.idle": "2021-05-30T18:40:02.574290Z",
     "shell.execute_reply": "2021-05-30T18:40:02.574903Z",
     "shell.execute_reply.started": "2021-05-30T08:54:21.600981Z"
    },
    "id": "saving-homework",
    "outputId": "178977a9-4413-4d38-b7f0-de8a9904b0e0",
    "papermill": {
     "duration": 0.098388,
     "end_time": "2021-05-30T18:40:02.575081",
     "exception": false,
     "start_time": "2021-05-30T18:40:02.476693",
     "status": "completed"
    },
    "tags": []
   },
   "outputs": [
    {
     "name": "stdout",
     "output_type": "stream",
     "text": [
      "Found 7828 validated image filenames.\n"
     ]
    }
   ],
   "source": [
    "# create validation generator\n",
    "valid_generator = valid_aug.flow_from_dataframe( \n",
    "    dataframe = df_val_compi,\n",
    "    x_col = \"filename\",\n",
    "    y_col = \"label\",\n",
    "    batch_size = batch_size,\n",
    "    seed = seed,\n",
    "    shuffle= True,\n",
    "    class_mode = \"raw\",\n",
    "    target_size = (image_size,image_size)\n",
    "  )"
   ]
  },
  {
   "cell_type": "markdown",
   "id": "marked-belarus",
   "metadata": {
    "id": "marked-belarus",
    "papermill": {
     "duration": 0.033792,
     "end_time": "2021-05-30T18:40:02.643887",
     "exception": false,
     "start_time": "2021-05-30T18:40:02.610095",
     "status": "completed"
    },
    "tags": []
   },
   "source": [
    "# 모델"
   ]
  },
  {
   "cell_type": "code",
   "execution_count": 15,
   "id": "buried-tablet",
   "metadata": {
    "colab": {
     "base_uri": "https://localhost:8080/"
    },
    "execution": {
     "iopub.execute_input": "2021-05-30T18:40:02.724467Z",
     "iopub.status.busy": "2021-05-30T18:40:02.723830Z",
     "iopub.status.idle": "2021-05-30T18:40:08.132744Z",
     "shell.execute_reply": "2021-05-30T18:40:08.131632Z",
     "shell.execute_reply.started": "2021-05-30T09:28:56.068101Z"
    },
    "id": "buried-tablet",
    "outputId": "2be7f5dd-25c9-49e7-fce8-f3e1fbe9c6a1",
    "papermill": {
     "duration": 5.455093,
     "end_time": "2021-05-30T18:40:08.132878",
     "exception": false,
     "start_time": "2021-05-30T18:40:02.677785",
     "status": "completed"
    },
    "tags": []
   },
   "outputs": [],
   "source": [
    "sel_model = model_name(weights = \"imagenet\",)\n",
    "x =  sel_model.layers[-10].output\n",
    "\n",
    "x = tf.keras.layers.Conv2D(filters = 1536, kernel_size = 3, padding = \"same\")(x)\n",
    "x = tf.keras.layers.BatchNormalization()(x)\n",
    "x = tf.keras.layers.Activation(\"relu\")(x)\n",
    "\n",
    "x = tf.keras.layers.Conv2D(filters = 1024, kernel_size = 3, padding = \"same\")(x)\n",
    "x = tf.keras.layers.BatchNormalization()(x)\n",
    "x = tf.keras.layers.Activation(\"relu\")(x)\n",
    "\n",
    "x = tf.keras.layers.Conv2D(filters = 768, kernel_size = 3, padding = \"same\")(x)\n",
    "x = tf.keras.layers.BatchNormalization()(x)\n",
    "x = tf.keras.layers.Activation(\"relu\")(x)\n",
    "\n",
    "x = tf.keras.layers.Conv2D(filters = 512, kernel_size = 3, padding = \"same\")(x)\n",
    "x = tf.keras.layers.BatchNormalization()(x)\n",
    "x = tf.keras.layers.Activation(\"relu\")(x)\n",
    "\n",
    "x = tf.keras.layers.Conv2D(filters = 384, kernel_size= 3, padding = \"same\")(x)\n",
    "x = tf.keras.layers.BatchNormalization()(x)\n",
    "x = tf.keras.layers.Activation(\"relu\")(x)\n",
    "\n",
    "x = tf.keras.layers.Conv2D(filters = 256, kernel_size = 3, padding = \"same\")(x)\n",
    "x = tf.keras.layers.BatchNormalization()(x)\n",
    "x = tf.keras.layers.Activation(\"relu\")(x)\n",
    "\n",
    "x = tf.keras.layers.Conv2D(filters = 128, kernel_size = 3, padding = \"same\")(x)\n",
    "x = tf.keras.layers.BatchNormalization()(x)\n",
    "x = tf.keras.layers.Activation(\"relu\")(x)\n",
    "\n",
    "x = tf.keras.layers.Conv2D(filters = 64, kernel_size= 3, padding = \"same\")(x)\n",
    "x = tf.keras.layers.BatchNormalization()(x)\n",
    "x = tf.keras.layers.Activation(\"relu\")(x)\n",
    "\n",
    "x = tf.keras.layers.Conv2D(filters = 32, kernel_size= 3, padding = \"same\")(x)\n",
    "x = tf.keras.layers.BatchNormalization()(x)\n",
    "x = tf.keras.layers.Activation(\"relu\")(x)\n",
    "\n",
    "x = tf.keras.layers.Conv2D(filters = 16, kernel_size= 3, padding = \"same\")(x)\n",
    "x = tf.keras.layers.BatchNormalization()(x)\n",
    "x = tf.keras.layers.Activation(\"relu\")(x)\n",
    "\n",
    "x = tf.keras.layers.Conv2D(filters = n_class, kernel_size = 3, padding = \"same\")(x)\n",
    "x = tf.keras.layers.BatchNormalization()(x)\n",
    "x = tf.keras.layers.Activation(\"relu\")(x)\n",
    "\n",
    "GAP = tf.keras.layers.GlobalAveragePooling2D()(x)\n",
    "pred = tf.keras.activations.softmax(GAP)\n",
    "\n",
    "pic_model = Model(inputs=sel_model.input,outputs = pred)"
   ]
  },
  {
   "cell_type": "code",
   "execution_count": 16,
   "id": "DYVqXESmD_Fd",
   "metadata": {
    "colab": {
     "base_uri": "https://localhost:8080/"
    },
    "id": "DYVqXESmD_Fd",
    "outputId": "88696012-6f00-42ba-d016-645743054fa0"
   },
   "outputs": [
    {
     "name": "stdout",
     "output_type": "stream",
     "text": [
      "Model: \"model\"\n",
      "__________________________________________________________________________________________________\n",
      "Layer (type)                    Output Shape         Param #     Connected to                     \n",
      "==================================================================================================\n",
      "input_1 (InputLayer)            [(None, 299, 299, 3) 0                                            \n",
      "__________________________________________________________________________________________________\n",
      "block1_conv1 (Conv2D)           (None, 149, 149, 32) 864         input_1[0][0]                    \n",
      "__________________________________________________________________________________________________\n",
      "block1_conv1_bn (BatchNormaliza (None, 149, 149, 32) 128         block1_conv1[0][0]               \n",
      "__________________________________________________________________________________________________\n",
      "block1_conv1_act (Activation)   (None, 149, 149, 32) 0           block1_conv1_bn[0][0]            \n",
      "__________________________________________________________________________________________________\n",
      "block1_conv2 (Conv2D)           (None, 147, 147, 64) 18432       block1_conv1_act[0][0]           \n",
      "__________________________________________________________________________________________________\n",
      "block1_conv2_bn (BatchNormaliza (None, 147, 147, 64) 256         block1_conv2[0][0]               \n",
      "__________________________________________________________________________________________________\n",
      "block1_conv2_act (Activation)   (None, 147, 147, 64) 0           block1_conv2_bn[0][0]            \n",
      "__________________________________________________________________________________________________\n",
      "block2_sepconv1 (SeparableConv2 (None, 147, 147, 128 8768        block1_conv2_act[0][0]           \n",
      "__________________________________________________________________________________________________\n",
      "block2_sepconv1_bn (BatchNormal (None, 147, 147, 128 512         block2_sepconv1[0][0]            \n",
      "__________________________________________________________________________________________________\n",
      "block2_sepconv2_act (Activation (None, 147, 147, 128 0           block2_sepconv1_bn[0][0]         \n",
      "__________________________________________________________________________________________________\n",
      "block2_sepconv2 (SeparableConv2 (None, 147, 147, 128 17536       block2_sepconv2_act[0][0]        \n",
      "__________________________________________________________________________________________________\n",
      "block2_sepconv2_bn (BatchNormal (None, 147, 147, 128 512         block2_sepconv2[0][0]            \n",
      "__________________________________________________________________________________________________\n",
      "conv2d (Conv2D)                 (None, 74, 74, 128)  8192        block1_conv2_act[0][0]           \n",
      "__________________________________________________________________________________________________\n",
      "block2_pool (MaxPooling2D)      (None, 74, 74, 128)  0           block2_sepconv2_bn[0][0]         \n",
      "__________________________________________________________________________________________________\n",
      "batch_normalization (BatchNorma (None, 74, 74, 128)  512         conv2d[0][0]                     \n",
      "__________________________________________________________________________________________________\n",
      "add (Add)                       (None, 74, 74, 128)  0           block2_pool[0][0]                \n",
      "                                                                 batch_normalization[0][0]        \n",
      "__________________________________________________________________________________________________\n",
      "block3_sepconv1_act (Activation (None, 74, 74, 128)  0           add[0][0]                        \n",
      "__________________________________________________________________________________________________\n",
      "block3_sepconv1 (SeparableConv2 (None, 74, 74, 256)  33920       block3_sepconv1_act[0][0]        \n",
      "__________________________________________________________________________________________________\n",
      "block3_sepconv1_bn (BatchNormal (None, 74, 74, 256)  1024        block3_sepconv1[0][0]            \n",
      "__________________________________________________________________________________________________\n",
      "block3_sepconv2_act (Activation (None, 74, 74, 256)  0           block3_sepconv1_bn[0][0]         \n",
      "__________________________________________________________________________________________________\n",
      "block3_sepconv2 (SeparableConv2 (None, 74, 74, 256)  67840       block3_sepconv2_act[0][0]        \n",
      "__________________________________________________________________________________________________\n",
      "block3_sepconv2_bn (BatchNormal (None, 74, 74, 256)  1024        block3_sepconv2[0][0]            \n",
      "__________________________________________________________________________________________________\n",
      "conv2d_1 (Conv2D)               (None, 37, 37, 256)  32768       add[0][0]                        \n",
      "__________________________________________________________________________________________________\n",
      "block3_pool (MaxPooling2D)      (None, 37, 37, 256)  0           block3_sepconv2_bn[0][0]         \n",
      "__________________________________________________________________________________________________\n",
      "batch_normalization_1 (BatchNor (None, 37, 37, 256)  1024        conv2d_1[0][0]                   \n",
      "__________________________________________________________________________________________________\n",
      "add_1 (Add)                     (None, 37, 37, 256)  0           block3_pool[0][0]                \n",
      "                                                                 batch_normalization_1[0][0]      \n",
      "__________________________________________________________________________________________________\n",
      "block4_sepconv1_act (Activation (None, 37, 37, 256)  0           add_1[0][0]                      \n",
      "__________________________________________________________________________________________________\n",
      "block4_sepconv1 (SeparableConv2 (None, 37, 37, 728)  188672      block4_sepconv1_act[0][0]        \n",
      "__________________________________________________________________________________________________\n",
      "block4_sepconv1_bn (BatchNormal (None, 37, 37, 728)  2912        block4_sepconv1[0][0]            \n",
      "__________________________________________________________________________________________________\n",
      "block4_sepconv2_act (Activation (None, 37, 37, 728)  0           block4_sepconv1_bn[0][0]         \n",
      "__________________________________________________________________________________________________\n",
      "block4_sepconv2 (SeparableConv2 (None, 37, 37, 728)  536536      block4_sepconv2_act[0][0]        \n",
      "__________________________________________________________________________________________________\n",
      "block4_sepconv2_bn (BatchNormal (None, 37, 37, 728)  2912        block4_sepconv2[0][0]            \n",
      "__________________________________________________________________________________________________\n",
      "conv2d_2 (Conv2D)               (None, 19, 19, 728)  186368      add_1[0][0]                      \n",
      "__________________________________________________________________________________________________\n",
      "block4_pool (MaxPooling2D)      (None, 19, 19, 728)  0           block4_sepconv2_bn[0][0]         \n",
      "__________________________________________________________________________________________________\n",
      "batch_normalization_2 (BatchNor (None, 19, 19, 728)  2912        conv2d_2[0][0]                   \n",
      "__________________________________________________________________________________________________\n",
      "add_2 (Add)                     (None, 19, 19, 728)  0           block4_pool[0][0]                \n",
      "                                                                 batch_normalization_2[0][0]      \n",
      "__________________________________________________________________________________________________\n",
      "block5_sepconv1_act (Activation (None, 19, 19, 728)  0           add_2[0][0]                      \n",
      "__________________________________________________________________________________________________\n",
      "block5_sepconv1 (SeparableConv2 (None, 19, 19, 728)  536536      block5_sepconv1_act[0][0]        \n",
      "__________________________________________________________________________________________________\n",
      "block5_sepconv1_bn (BatchNormal (None, 19, 19, 728)  2912        block5_sepconv1[0][0]            \n",
      "__________________________________________________________________________________________________\n",
      "block5_sepconv2_act (Activation (None, 19, 19, 728)  0           block5_sepconv1_bn[0][0]         \n",
      "__________________________________________________________________________________________________\n",
      "block5_sepconv2 (SeparableConv2 (None, 19, 19, 728)  536536      block5_sepconv2_act[0][0]        \n",
      "__________________________________________________________________________________________________\n",
      "block5_sepconv2_bn (BatchNormal (None, 19, 19, 728)  2912        block5_sepconv2[0][0]            \n",
      "__________________________________________________________________________________________________\n",
      "block5_sepconv3_act (Activation (None, 19, 19, 728)  0           block5_sepconv2_bn[0][0]         \n",
      "__________________________________________________________________________________________________\n",
      "block5_sepconv3 (SeparableConv2 (None, 19, 19, 728)  536536      block5_sepconv3_act[0][0]        \n",
      "__________________________________________________________________________________________________\n",
      "block5_sepconv3_bn (BatchNormal (None, 19, 19, 728)  2912        block5_sepconv3[0][0]            \n",
      "__________________________________________________________________________________________________\n",
      "add_3 (Add)                     (None, 19, 19, 728)  0           block5_sepconv3_bn[0][0]         \n",
      "                                                                 add_2[0][0]                      \n",
      "__________________________________________________________________________________________________\n",
      "block6_sepconv1_act (Activation (None, 19, 19, 728)  0           add_3[0][0]                      \n",
      "__________________________________________________________________________________________________\n",
      "block6_sepconv1 (SeparableConv2 (None, 19, 19, 728)  536536      block6_sepconv1_act[0][0]        \n",
      "__________________________________________________________________________________________________\n",
      "block6_sepconv1_bn (BatchNormal (None, 19, 19, 728)  2912        block6_sepconv1[0][0]            \n",
      "__________________________________________________________________________________________________\n",
      "block6_sepconv2_act (Activation (None, 19, 19, 728)  0           block6_sepconv1_bn[0][0]         \n",
      "__________________________________________________________________________________________________\n",
      "block6_sepconv2 (SeparableConv2 (None, 19, 19, 728)  536536      block6_sepconv2_act[0][0]        \n",
      "__________________________________________________________________________________________________\n",
      "block6_sepconv2_bn (BatchNormal (None, 19, 19, 728)  2912        block6_sepconv2[0][0]            \n",
      "__________________________________________________________________________________________________\n",
      "block6_sepconv3_act (Activation (None, 19, 19, 728)  0           block6_sepconv2_bn[0][0]         \n",
      "__________________________________________________________________________________________________\n",
      "block6_sepconv3 (SeparableConv2 (None, 19, 19, 728)  536536      block6_sepconv3_act[0][0]        \n",
      "__________________________________________________________________________________________________\n",
      "block6_sepconv3_bn (BatchNormal (None, 19, 19, 728)  2912        block6_sepconv3[0][0]            \n",
      "__________________________________________________________________________________________________\n",
      "add_4 (Add)                     (None, 19, 19, 728)  0           block6_sepconv3_bn[0][0]         \n",
      "                                                                 add_3[0][0]                      \n",
      "__________________________________________________________________________________________________\n",
      "block7_sepconv1_act (Activation (None, 19, 19, 728)  0           add_4[0][0]                      \n",
      "__________________________________________________________________________________________________\n",
      "block7_sepconv1 (SeparableConv2 (None, 19, 19, 728)  536536      block7_sepconv1_act[0][0]        \n",
      "__________________________________________________________________________________________________\n",
      "block7_sepconv1_bn (BatchNormal (None, 19, 19, 728)  2912        block7_sepconv1[0][0]            \n",
      "__________________________________________________________________________________________________\n",
      "block7_sepconv2_act (Activation (None, 19, 19, 728)  0           block7_sepconv1_bn[0][0]         \n",
      "__________________________________________________________________________________________________\n",
      "block7_sepconv2 (SeparableConv2 (None, 19, 19, 728)  536536      block7_sepconv2_act[0][0]        \n",
      "__________________________________________________________________________________________________\n",
      "block7_sepconv2_bn (BatchNormal (None, 19, 19, 728)  2912        block7_sepconv2[0][0]            \n",
      "__________________________________________________________________________________________________\n",
      "block7_sepconv3_act (Activation (None, 19, 19, 728)  0           block7_sepconv2_bn[0][0]         \n",
      "__________________________________________________________________________________________________\n",
      "block7_sepconv3 (SeparableConv2 (None, 19, 19, 728)  536536      block7_sepconv3_act[0][0]        \n",
      "__________________________________________________________________________________________________\n",
      "block7_sepconv3_bn (BatchNormal (None, 19, 19, 728)  2912        block7_sepconv3[0][0]            \n",
      "__________________________________________________________________________________________________\n",
      "add_5 (Add)                     (None, 19, 19, 728)  0           block7_sepconv3_bn[0][0]         \n",
      "                                                                 add_4[0][0]                      \n",
      "__________________________________________________________________________________________________\n",
      "block8_sepconv1_act (Activation (None, 19, 19, 728)  0           add_5[0][0]                      \n",
      "__________________________________________________________________________________________________\n",
      "block8_sepconv1 (SeparableConv2 (None, 19, 19, 728)  536536      block8_sepconv1_act[0][0]        \n",
      "__________________________________________________________________________________________________\n",
      "block8_sepconv1_bn (BatchNormal (None, 19, 19, 728)  2912        block8_sepconv1[0][0]            \n",
      "__________________________________________________________________________________________________\n",
      "block8_sepconv2_act (Activation (None, 19, 19, 728)  0           block8_sepconv1_bn[0][0]         \n",
      "__________________________________________________________________________________________________\n",
      "block8_sepconv2 (SeparableConv2 (None, 19, 19, 728)  536536      block8_sepconv2_act[0][0]        \n",
      "__________________________________________________________________________________________________\n",
      "block8_sepconv2_bn (BatchNormal (None, 19, 19, 728)  2912        block8_sepconv2[0][0]            \n",
      "__________________________________________________________________________________________________\n",
      "block8_sepconv3_act (Activation (None, 19, 19, 728)  0           block8_sepconv2_bn[0][0]         \n",
      "__________________________________________________________________________________________________\n",
      "block8_sepconv3 (SeparableConv2 (None, 19, 19, 728)  536536      block8_sepconv3_act[0][0]        \n",
      "__________________________________________________________________________________________________\n",
      "block8_sepconv3_bn (BatchNormal (None, 19, 19, 728)  2912        block8_sepconv3[0][0]            \n",
      "__________________________________________________________________________________________________\n",
      "add_6 (Add)                     (None, 19, 19, 728)  0           block8_sepconv3_bn[0][0]         \n",
      "                                                                 add_5[0][0]                      \n",
      "__________________________________________________________________________________________________\n",
      "block9_sepconv1_act (Activation (None, 19, 19, 728)  0           add_6[0][0]                      \n",
      "__________________________________________________________________________________________________\n",
      "block9_sepconv1 (SeparableConv2 (None, 19, 19, 728)  536536      block9_sepconv1_act[0][0]        \n",
      "__________________________________________________________________________________________________\n",
      "block9_sepconv1_bn (BatchNormal (None, 19, 19, 728)  2912        block9_sepconv1[0][0]            \n",
      "__________________________________________________________________________________________________\n",
      "block9_sepconv2_act (Activation (None, 19, 19, 728)  0           block9_sepconv1_bn[0][0]         \n",
      "__________________________________________________________________________________________________\n",
      "block9_sepconv2 (SeparableConv2 (None, 19, 19, 728)  536536      block9_sepconv2_act[0][0]        \n",
      "__________________________________________________________________________________________________\n",
      "block9_sepconv2_bn (BatchNormal (None, 19, 19, 728)  2912        block9_sepconv2[0][0]            \n",
      "__________________________________________________________________________________________________\n",
      "block9_sepconv3_act (Activation (None, 19, 19, 728)  0           block9_sepconv2_bn[0][0]         \n",
      "__________________________________________________________________________________________________\n",
      "block9_sepconv3 (SeparableConv2 (None, 19, 19, 728)  536536      block9_sepconv3_act[0][0]        \n",
      "__________________________________________________________________________________________________\n",
      "block9_sepconv3_bn (BatchNormal (None, 19, 19, 728)  2912        block9_sepconv3[0][0]            \n",
      "__________________________________________________________________________________________________\n",
      "add_7 (Add)                     (None, 19, 19, 728)  0           block9_sepconv3_bn[0][0]         \n",
      "                                                                 add_6[0][0]                      \n",
      "__________________________________________________________________________________________________\n",
      "block10_sepconv1_act (Activatio (None, 19, 19, 728)  0           add_7[0][0]                      \n",
      "__________________________________________________________________________________________________\n",
      "block10_sepconv1 (SeparableConv (None, 19, 19, 728)  536536      block10_sepconv1_act[0][0]       \n",
      "__________________________________________________________________________________________________\n",
      "block10_sepconv1_bn (BatchNorma (None, 19, 19, 728)  2912        block10_sepconv1[0][0]           \n",
      "__________________________________________________________________________________________________\n",
      "block10_sepconv2_act (Activatio (None, 19, 19, 728)  0           block10_sepconv1_bn[0][0]        \n",
      "__________________________________________________________________________________________________\n",
      "block10_sepconv2 (SeparableConv (None, 19, 19, 728)  536536      block10_sepconv2_act[0][0]       \n",
      "__________________________________________________________________________________________________\n",
      "block10_sepconv2_bn (BatchNorma (None, 19, 19, 728)  2912        block10_sepconv2[0][0]           \n",
      "__________________________________________________________________________________________________\n",
      "block10_sepconv3_act (Activatio (None, 19, 19, 728)  0           block10_sepconv2_bn[0][0]        \n",
      "__________________________________________________________________________________________________\n",
      "block10_sepconv3 (SeparableConv (None, 19, 19, 728)  536536      block10_sepconv3_act[0][0]       \n",
      "__________________________________________________________________________________________________\n",
      "block10_sepconv3_bn (BatchNorma (None, 19, 19, 728)  2912        block10_sepconv3[0][0]           \n",
      "__________________________________________________________________________________________________\n",
      "add_8 (Add)                     (None, 19, 19, 728)  0           block10_sepconv3_bn[0][0]        \n",
      "                                                                 add_7[0][0]                      \n",
      "__________________________________________________________________________________________________\n",
      "block11_sepconv1_act (Activatio (None, 19, 19, 728)  0           add_8[0][0]                      \n",
      "__________________________________________________________________________________________________\n",
      "block11_sepconv1 (SeparableConv (None, 19, 19, 728)  536536      block11_sepconv1_act[0][0]       \n",
      "__________________________________________________________________________________________________\n",
      "block11_sepconv1_bn (BatchNorma (None, 19, 19, 728)  2912        block11_sepconv1[0][0]           \n",
      "__________________________________________________________________________________________________\n",
      "block11_sepconv2_act (Activatio (None, 19, 19, 728)  0           block11_sepconv1_bn[0][0]        \n",
      "__________________________________________________________________________________________________\n",
      "block11_sepconv2 (SeparableConv (None, 19, 19, 728)  536536      block11_sepconv2_act[0][0]       \n",
      "__________________________________________________________________________________________________\n",
      "block11_sepconv2_bn (BatchNorma (None, 19, 19, 728)  2912        block11_sepconv2[0][0]           \n",
      "__________________________________________________________________________________________________\n",
      "block11_sepconv3_act (Activatio (None, 19, 19, 728)  0           block11_sepconv2_bn[0][0]        \n",
      "__________________________________________________________________________________________________\n",
      "block11_sepconv3 (SeparableConv (None, 19, 19, 728)  536536      block11_sepconv3_act[0][0]       \n",
      "__________________________________________________________________________________________________\n",
      "block11_sepconv3_bn (BatchNorma (None, 19, 19, 728)  2912        block11_sepconv3[0][0]           \n",
      "__________________________________________________________________________________________________\n",
      "add_9 (Add)                     (None, 19, 19, 728)  0           block11_sepconv3_bn[0][0]        \n",
      "                                                                 add_8[0][0]                      \n",
      "__________________________________________________________________________________________________\n",
      "block12_sepconv1_act (Activatio (None, 19, 19, 728)  0           add_9[0][0]                      \n",
      "__________________________________________________________________________________________________\n",
      "block12_sepconv1 (SeparableConv (None, 19, 19, 728)  536536      block12_sepconv1_act[0][0]       \n",
      "__________________________________________________________________________________________________\n",
      "block12_sepconv1_bn (BatchNorma (None, 19, 19, 728)  2912        block12_sepconv1[0][0]           \n",
      "__________________________________________________________________________________________________\n",
      "block12_sepconv2_act (Activatio (None, 19, 19, 728)  0           block12_sepconv1_bn[0][0]        \n",
      "__________________________________________________________________________________________________\n",
      "block12_sepconv2 (SeparableConv (None, 19, 19, 728)  536536      block12_sepconv2_act[0][0]       \n",
      "__________________________________________________________________________________________________\n",
      "block12_sepconv2_bn (BatchNorma (None, 19, 19, 728)  2912        block12_sepconv2[0][0]           \n",
      "__________________________________________________________________________________________________\n",
      "block12_sepconv3_act (Activatio (None, 19, 19, 728)  0           block12_sepconv2_bn[0][0]        \n",
      "__________________________________________________________________________________________________\n",
      "block12_sepconv3 (SeparableConv (None, 19, 19, 728)  536536      block12_sepconv3_act[0][0]       \n",
      "__________________________________________________________________________________________________\n",
      "block12_sepconv3_bn (BatchNorma (None, 19, 19, 728)  2912        block12_sepconv3[0][0]           \n",
      "__________________________________________________________________________________________________\n",
      "add_10 (Add)                    (None, 19, 19, 728)  0           block12_sepconv3_bn[0][0]        \n",
      "                                                                 add_9[0][0]                      \n",
      "__________________________________________________________________________________________________\n",
      "conv2d_3 (Conv2D)               (None, 10, 10, 1024) 745472      add_10[0][0]                     \n",
      "__________________________________________________________________________________________________\n",
      "batch_normalization_3 (BatchNor (None, 10, 10, 1024) 4096        conv2d_3[0][0]                   \n",
      "__________________________________________________________________________________________________\n",
      "conv2d_4 (Conv2D)               (None, 10, 10, 1536) 14157312    batch_normalization_3[0][0]      \n",
      "__________________________________________________________________________________________________\n",
      "batch_normalization_4 (BatchNor (None, 10, 10, 1536) 6144        conv2d_4[0][0]                   \n",
      "__________________________________________________________________________________________________\n",
      "activation (Activation)         (None, 10, 10, 1536) 0           batch_normalization_4[0][0]      \n",
      "__________________________________________________________________________________________________\n",
      "conv2d_5 (Conv2D)               (None, 10, 10, 1024) 14156800    activation[0][0]                 \n",
      "__________________________________________________________________________________________________\n",
      "batch_normalization_5 (BatchNor (None, 10, 10, 1024) 4096        conv2d_5[0][0]                   \n",
      "__________________________________________________________________________________________________\n",
      "activation_1 (Activation)       (None, 10, 10, 1024) 0           batch_normalization_5[0][0]      \n",
      "__________________________________________________________________________________________________\n",
      "conv2d_6 (Conv2D)               (None, 10, 10, 768)  7078656     activation_1[0][0]               \n",
      "__________________________________________________________________________________________________\n",
      "batch_normalization_6 (BatchNor (None, 10, 10, 768)  3072        conv2d_6[0][0]                   \n",
      "__________________________________________________________________________________________________\n",
      "activation_2 (Activation)       (None, 10, 10, 768)  0           batch_normalization_6[0][0]      \n",
      "__________________________________________________________________________________________________\n",
      "conv2d_7 (Conv2D)               (None, 10, 10, 512)  3539456     activation_2[0][0]               \n",
      "__________________________________________________________________________________________________\n",
      "batch_normalization_7 (BatchNor (None, 10, 10, 512)  2048        conv2d_7[0][0]                   \n",
      "__________________________________________________________________________________________________\n",
      "activation_3 (Activation)       (None, 10, 10, 512)  0           batch_normalization_7[0][0]      \n",
      "__________________________________________________________________________________________________\n",
      "conv2d_8 (Conv2D)               (None, 10, 10, 384)  1769856     activation_3[0][0]               \n",
      "__________________________________________________________________________________________________\n",
      "batch_normalization_8 (BatchNor (None, 10, 10, 384)  1536        conv2d_8[0][0]                   \n",
      "__________________________________________________________________________________________________\n",
      "activation_4 (Activation)       (None, 10, 10, 384)  0           batch_normalization_8[0][0]      \n",
      "__________________________________________________________________________________________________\n",
      "conv2d_9 (Conv2D)               (None, 10, 10, 256)  884992      activation_4[0][0]               \n",
      "__________________________________________________________________________________________________\n",
      "batch_normalization_9 (BatchNor (None, 10, 10, 256)  1024        conv2d_9[0][0]                   \n",
      "__________________________________________________________________________________________________\n",
      "activation_5 (Activation)       (None, 10, 10, 256)  0           batch_normalization_9[0][0]      \n",
      "__________________________________________________________________________________________________\n",
      "conv2d_10 (Conv2D)              (None, 10, 10, 128)  295040      activation_5[0][0]               \n",
      "__________________________________________________________________________________________________\n",
      "batch_normalization_10 (BatchNo (None, 10, 10, 128)  512         conv2d_10[0][0]                  \n",
      "__________________________________________________________________________________________________\n",
      "activation_6 (Activation)       (None, 10, 10, 128)  0           batch_normalization_10[0][0]     \n",
      "__________________________________________________________________________________________________\n",
      "conv2d_11 (Conv2D)              (None, 10, 10, 64)   73792       activation_6[0][0]               \n",
      "__________________________________________________________________________________________________\n",
      "batch_normalization_11 (BatchNo (None, 10, 10, 64)   256         conv2d_11[0][0]                  \n",
      "__________________________________________________________________________________________________\n",
      "activation_7 (Activation)       (None, 10, 10, 64)   0           batch_normalization_11[0][0]     \n",
      "__________________________________________________________________________________________________\n",
      "conv2d_12 (Conv2D)              (None, 10, 10, 32)   18464       activation_7[0][0]               \n",
      "__________________________________________________________________________________________________\n",
      "batch_normalization_12 (BatchNo (None, 10, 10, 32)   128         conv2d_12[0][0]                  \n",
      "__________________________________________________________________________________________________\n",
      "activation_8 (Activation)       (None, 10, 10, 32)   0           batch_normalization_12[0][0]     \n",
      "__________________________________________________________________________________________________\n",
      "conv2d_13 (Conv2D)              (None, 10, 10, 16)   4624        activation_8[0][0]               \n",
      "__________________________________________________________________________________________________\n",
      "batch_normalization_13 (BatchNo (None, 10, 10, 16)   64          conv2d_13[0][0]                  \n",
      "__________________________________________________________________________________________________\n",
      "activation_9 (Activation)       (None, 10, 10, 16)   0           batch_normalization_13[0][0]     \n",
      "__________________________________________________________________________________________________\n",
      "conv2d_14 (Conv2D)              (None, 10, 10, 5)    725         activation_9[0][0]               \n",
      "__________________________________________________________________________________________________\n",
      "batch_normalization_14 (BatchNo (None, 10, 10, 5)    20          conv2d_14[0][0]                  \n",
      "__________________________________________________________________________________________________\n",
      "activation_10 (Activation)      (None, 10, 10, 5)    0           batch_normalization_14[0][0]     \n",
      "__________________________________________________________________________________________________\n",
      "global_average_pooling2d (Globa (None, 5)            0           activation_10[0][0]              \n",
      "__________________________________________________________________________________________________\n",
      "tf.nn.softmax (TFOpLambda)      (None, 5)            0           global_average_pooling2d[0][0]   \n",
      "==================================================================================================\n",
      "Total params: 56,808,561\n",
      "Trainable params: 56,755,255\n",
      "Non-trainable params: 53,306\n",
      "__________________________________________________________________________________________________\n"
     ]
    }
   ],
   "source": [
    "pic_model.summary()"
   ]
  },
  {
   "cell_type": "code",
   "execution_count": 17,
   "id": "norman-detector",
   "metadata": {
    "execution": {
     "iopub.execute_input": "2021-05-30T18:40:08.391663Z",
     "iopub.status.busy": "2021-05-30T18:40:08.385701Z",
     "iopub.status.idle": "2021-05-30T18:40:08.398432Z",
     "shell.execute_reply": "2021-05-30T18:40:08.397997Z",
     "shell.execute_reply.started": "2021-05-30T09:28:58.465217Z"
    },
    "id": "norman-detector",
    "papermill": {
     "duration": 0.226948,
     "end_time": "2021-05-30T18:40:08.398547",
     "exception": false,
     "start_time": "2021-05-30T18:40:08.171599",
     "status": "completed"
    },
    "tags": []
   },
   "outputs": [],
   "source": [
    "# compile\n",
    "pic_model.compile(\n",
    "    optimizer = tf.keras.optimizers.Adam(learning_rate = lr, decay = decay),\n",
    "    metrics = [\"acc\"],\n",
    "    loss = tf.keras.losses.sparse_categorical_crossentropy)\n",
    "\n",
    "# callbacks and checkpoints\n",
    "checkpoint_name = name+\"_BS\"+str(batch_size)+\"_EP\"+str(train_epoch)+\"_IS\"+str(image_size)+\"_LP\"+str(LP)\n",
    "checkpoint_path = checkpoint_name+\".ckpt\"\n",
    "\n",
    "checkpoint_dir = os.path.dirname(checkpoint_path)\n",
    "\n",
    "my_callbacks = [\n",
    "              ModelCheckpoint(\n",
    "                   checkpoint_path,\n",
    "                   monitor = 'val_acc',\n",
    "                   verbose = 1,\n",
    "                   save_weights_only = True,\n",
    "                   save_best_only = True,\n",
    "                   mode = \"max\"\n",
    "                  ),\n",
    "              EarlyStopping(\n",
    "                   monitor = 'val_loss',\n",
    "                   patience = 10,\n",
    "                   verbose = 0\n",
    "                  ),\n",
    "              ReduceLROnPlateau(\n",
    "                   monitor = 'val_loss',\n",
    "                   patience = 10,\n",
    "                   verbose = 1\n",
    "                  )\n",
    "]"
   ]
  },
  {
   "cell_type": "markdown",
   "id": "crucial-administration",
   "metadata": {
    "id": "crucial-administration",
    "papermill": {
     "duration": 0.038495,
     "end_time": "2021-05-30T18:40:08.475329",
     "exception": false,
     "start_time": "2021-05-30T18:40:08.436834",
     "status": "completed"
    },
    "tags": []
   },
   "source": [
    "# Weighting classes\n"
   ]
  },
  {
   "cell_type": "code",
   "execution_count": 18,
   "id": "regional-indie",
   "metadata": {
    "execution": {
     "iopub.execute_input": "2021-05-30T18:40:08.558435Z",
     "iopub.status.busy": "2021-05-30T18:40:08.557616Z",
     "iopub.status.idle": "2021-05-30T18:40:09.060821Z",
     "shell.execute_reply": "2021-05-30T18:40:09.060357Z",
     "shell.execute_reply.started": "2021-05-30T09:30:11.007618Z"
    },
    "id": "regional-indie",
    "papermill": {
     "duration": 0.546357,
     "end_time": "2021-05-30T18:40:09.060960",
     "exception": false,
     "start_time": "2021-05-30T18:40:08.514603",
     "status": "completed"
    },
    "tags": []
   },
   "outputs": [],
   "source": [
    "from sklearn.utils import class_weight\n",
    "\n",
    "class_weights = class_weight.compute_class_weight(\n",
    "    'balanced',\n",
    "    classes = np.unique(df_train_kaggle.label.values),\n",
    "    y = df_train_kaggle.label.values\n",
    "  )\n",
    "\n",
    "class_weights = dict(enumerate(class_weights))"
   ]
  },
  {
   "cell_type": "markdown",
   "id": "square-better",
   "metadata": {
    "id": "square-better",
    "papermill": {
     "duration": 0.037503,
     "end_time": "2021-05-30T18:40:09.136492",
     "exception": false,
     "start_time": "2021-05-30T18:40:09.098989",
     "status": "completed"
    },
    "tags": []
   },
   "source": [
    "# Train"
   ]
  },
  {
   "cell_type": "code",
   "execution_count": 19,
   "id": "hidden-stephen",
   "metadata": {
    "colab": {
     "base_uri": "https://localhost:8080/"
    },
    "execution": {
     "iopub.execute_input": "2021-05-30T18:40:09.218272Z",
     "iopub.status.busy": "2021-05-30T18:40:09.217728Z",
     "iopub.status.idle": "2021-05-30T20:12:12.156502Z",
     "shell.execute_reply": "2021-05-30T20:12:12.154537Z",
     "shell.execute_reply.started": "2021-05-26T18:49:57.904339Z"
    },
    "id": "hidden-stephen",
    "outputId": "1432984b-6c8d-4523-de45-b163a07ed120",
    "papermill": {
     "duration": 5522.981999,
     "end_time": "2021-05-30T20:12:12.156678",
     "exception": false,
     "start_time": "2021-05-30T18:40:09.174679",
     "status": "completed"
    },
    "tags": []
   },
   "outputs": [
    {
     "name": "stdout",
     "output_type": "stream",
     "text": [
      "Epoch 1/300\n",
      "1224/1224 [==============================] - 129s 101ms/step - loss: 1.5043 - acc: 0.2399 - val_loss: 1.5766 - val_acc: 0.3625\n",
      "\n",
      "Epoch 00001: val_acc improved from -inf to 0.36254, saving model to Xception_BS8_EP300_IS224_LP10.ckpt\n",
      "Epoch 2/300\n",
      "1224/1224 [==============================] - 121s 99ms/step - loss: 1.2641 - acc: 0.4348 - val_loss: 1.3681 - val_acc: 0.5147\n",
      "\n",
      "Epoch 00002: val_acc improved from 0.36254 to 0.51469, saving model to Xception_BS8_EP300_IS224_LP10.ckpt\n",
      "Epoch 3/300\n",
      "1224/1224 [==============================] - 122s 100ms/step - loss: 1.1483 - acc: 0.5326 - val_loss: 1.2141 - val_acc: 0.6101\n",
      "\n",
      "Epoch 00003: val_acc improved from 0.51469 to 0.61012, saving model to Xception_BS8_EP300_IS224_LP10.ckpt\n",
      "Epoch 4/300\n",
      "1224/1224 [==============================] - 123s 100ms/step - loss: 1.0762 - acc: 0.5755 - val_loss: 1.2414 - val_acc: 0.5668\n",
      "\n",
      "Epoch 00004: val_acc did not improve from 0.61012\n",
      "Epoch 5/300\n",
      "1224/1224 [==============================] - 122s 100ms/step - loss: 1.0235 - acc: 0.6177 - val_loss: 1.0273 - val_acc: 0.7118\n",
      "\n",
      "Epoch 00005: val_acc improved from 0.61012 to 0.71180, saving model to Xception_BS8_EP300_IS224_LP10.ckpt\n",
      "Epoch 6/300\n",
      "1224/1224 [==============================] - 122s 100ms/step - loss: 0.9623 - acc: 0.6646 - val_loss: 0.9300 - val_acc: 0.7687\n",
      "\n",
      "Epoch 00006: val_acc improved from 0.71180 to 0.76865, saving model to Xception_BS8_EP300_IS224_LP10.ckpt\n",
      "Epoch 7/300\n",
      "1224/1224 [==============================] - 121s 99ms/step - loss: 0.9103 - acc: 0.7064 - val_loss: 0.9117 - val_acc: 0.7988\n",
      "\n",
      "Epoch 00007: val_acc improved from 0.76865 to 0.79880, saving model to Xception_BS8_EP300_IS224_LP10.ckpt\n",
      "Epoch 8/300\n",
      "1224/1224 [==============================] - 122s 100ms/step - loss: 0.8434 - acc: 0.7644 - val_loss: 0.8484 - val_acc: 0.8337\n",
      "\n",
      "Epoch 00008: val_acc improved from 0.79880 to 0.83367, saving model to Xception_BS8_EP300_IS224_LP10.ckpt\n",
      "Epoch 9/300\n",
      "1224/1224 [==============================] - 122s 99ms/step - loss: 0.7914 - acc: 0.8093 - val_loss: 0.7788 - val_acc: 0.8692\n",
      "\n",
      "Epoch 00009: val_acc improved from 0.83367 to 0.86919, saving model to Xception_BS8_EP300_IS224_LP10.ckpt\n",
      "Epoch 10/300\n",
      "1224/1224 [==============================] - 122s 99ms/step - loss: 0.7477 - acc: 0.8431 - val_loss: 0.7497 - val_acc: 0.8797\n",
      "\n",
      "Epoch 00010: val_acc improved from 0.86919 to 0.87966, saving model to Xception_BS8_EP300_IS224_LP10.ckpt\n",
      "Epoch 11/300\n",
      "1224/1224 [==============================] - 122s 100ms/step - loss: 0.7047 - acc: 0.8784 - val_loss: 0.6565 - val_acc: 0.9314\n",
      "\n",
      "Epoch 00011: val_acc improved from 0.87966 to 0.93140, saving model to Xception_BS8_EP300_IS224_LP10.ckpt\n",
      "Epoch 12/300\n",
      "1224/1224 [==============================] - 122s 100ms/step - loss: 0.6842 - acc: 0.8937 - val_loss: 0.7195 - val_acc: 0.8694\n",
      "\n",
      "Epoch 00012: val_acc did not improve from 0.93140\n",
      "Epoch 13/300\n",
      "1224/1224 [==============================] - 122s 100ms/step - loss: 0.6474 - acc: 0.9149 - val_loss: 0.6304 - val_acc: 0.9610\n",
      "\n",
      "Epoch 00013: val_acc improved from 0.93140 to 0.96104, saving model to Xception_BS8_EP300_IS224_LP10.ckpt\n",
      "Epoch 14/300\n",
      "1224/1224 [==============================] - 121s 99ms/step - loss: 0.6395 - acc: 0.9189 - val_loss: 0.6245 - val_acc: 0.9596\n",
      "\n",
      "Epoch 00014: val_acc did not improve from 0.96104\n",
      "Epoch 15/300\n",
      "1224/1224 [==============================] - 122s 100ms/step - loss: 0.6210 - acc: 0.9325 - val_loss: 0.5778 - val_acc: 0.9746\n",
      "\n",
      "Epoch 00015: val_acc improved from 0.96104 to 0.97458, saving model to Xception_BS8_EP300_IS224_LP10.ckpt\n",
      "Epoch 16/300\n",
      "1224/1224 [==============================] - 121s 99ms/step - loss: 0.6211 - acc: 0.9384 - val_loss: 0.6794 - val_acc: 0.9231\n",
      "\n",
      "Epoch 00016: val_acc did not improve from 0.97458\n",
      "Epoch 17/300\n",
      "1224/1224 [==============================] - 121s 99ms/step - loss: 0.6074 - acc: 0.9462 - val_loss: 0.6166 - val_acc: 0.9553\n",
      "\n",
      "Epoch 00017: val_acc did not improve from 0.97458\n",
      "Epoch 18/300\n",
      "1224/1224 [==============================] - 122s 99ms/step - loss: 0.5985 - acc: 0.9527 - val_loss: 0.5768 - val_acc: 0.9677\n",
      "\n",
      "Epoch 00018: val_acc did not improve from 0.97458\n",
      "Epoch 19/300\n",
      "1224/1224 [==============================] - 122s 100ms/step - loss: 0.5949 - acc: 0.9496 - val_loss: 0.5964 - val_acc: 0.9530\n",
      "\n",
      "Epoch 00019: val_acc did not improve from 0.97458\n",
      "Epoch 20/300\n",
      "1224/1224 [==============================] - 122s 100ms/step - loss: 0.5855 - acc: 0.9607 - val_loss: 0.6426 - val_acc: 0.9503\n",
      "\n",
      "Epoch 00020: val_acc did not improve from 0.97458\n",
      "Epoch 21/300\n",
      "1224/1224 [==============================] - 122s 100ms/step - loss: 0.5805 - acc: 0.9608 - val_loss: 0.5453 - val_acc: 0.9761\n",
      "\n",
      "Epoch 00021: val_acc improved from 0.97458 to 0.97611, saving model to Xception_BS8_EP300_IS224_LP10.ckpt\n",
      "Epoch 22/300\n",
      "1224/1224 [==============================] - 121s 99ms/step - loss: 0.5766 - acc: 0.9667 - val_loss: 0.5452 - val_acc: 0.9759\n",
      "\n",
      "Epoch 00022: val_acc did not improve from 0.97611\n",
      "Epoch 23/300\n",
      "1224/1224 [==============================] - 122s 99ms/step - loss: 0.5665 - acc: 0.9684 - val_loss: 0.5229 - val_acc: 0.9857\n",
      "\n",
      "Epoch 00023: val_acc improved from 0.97611 to 0.98569, saving model to Xception_BS8_EP300_IS224_LP10.ckpt\n",
      "Epoch 24/300\n",
      "1224/1224 [==============================] - 121s 99ms/step - loss: 0.5685 - acc: 0.9711 - val_loss: 0.6418 - val_acc: 0.9145\n",
      "\n",
      "Epoch 00024: val_acc did not improve from 0.98569\n",
      "Epoch 25/300\n",
      "1224/1224 [==============================] - 122s 99ms/step - loss: 0.5557 - acc: 0.9748 - val_loss: 0.5359 - val_acc: 0.9851\n",
      "\n",
      "Epoch 00025: val_acc did not improve from 0.98569\n",
      "Epoch 26/300\n",
      "1224/1224 [==============================] - 122s 99ms/step - loss: 0.5660 - acc: 0.9732 - val_loss: 0.5160 - val_acc: 0.9872\n",
      "\n",
      "Epoch 00026: val_acc improved from 0.98569 to 0.98723, saving model to Xception_BS8_EP300_IS224_LP10.ckpt\n",
      "Epoch 27/300\n",
      "1224/1224 [==============================] - 122s 99ms/step - loss: 0.5613 - acc: 0.9779 - val_loss: 0.5133 - val_acc: 0.9907\n",
      "\n",
      "Epoch 00027: val_acc improved from 0.98723 to 0.99067, saving model to Xception_BS8_EP300_IS224_LP10.ckpt\n",
      "Epoch 28/300\n",
      "1224/1224 [==============================] - 122s 100ms/step - loss: 0.5581 - acc: 0.9795 - val_loss: 0.5220 - val_acc: 0.9844\n",
      "\n",
      "Epoch 00028: val_acc did not improve from 0.99067\n",
      "Epoch 29/300\n",
      "1224/1224 [==============================] - 121s 99ms/step - loss: 0.5534 - acc: 0.9801 - val_loss: 0.5287 - val_acc: 0.9845\n",
      "\n",
      "Epoch 00029: val_acc did not improve from 0.99067\n",
      "Epoch 30/300\n",
      "1224/1224 [==============================] - 121s 99ms/step - loss: 0.5489 - acc: 0.9819 - val_loss: 0.4904 - val_acc: 0.9890\n",
      "\n",
      "Epoch 00030: val_acc did not improve from 0.99067\n",
      "Epoch 31/300\n",
      "1224/1224 [==============================] - 122s 99ms/step - loss: 0.5477 - acc: 0.9830 - val_loss: 0.4995 - val_acc: 0.9876\n",
      "\n",
      "Epoch 00031: val_acc did not improve from 0.99067\n",
      "Epoch 32/300\n",
      "1224/1224 [==============================] - 121s 99ms/step - loss: 0.5403 - acc: 0.9845 - val_loss: 0.5007 - val_acc: 0.9903\n",
      "\n",
      "Epoch 00032: val_acc did not improve from 0.99067\n",
      "Epoch 33/300\n",
      "1224/1224 [==============================] - 122s 99ms/step - loss: 0.5420 - acc: 0.9867 - val_loss: 0.5368 - val_acc: 0.9710\n",
      "\n",
      "Epoch 00033: val_acc did not improve from 0.99067\n",
      "Epoch 34/300\n",
      "1224/1224 [==============================] - 122s 100ms/step - loss: 0.5383 - acc: 0.9850 - val_loss: 0.4936 - val_acc: 0.9886\n",
      "\n",
      "Epoch 00034: val_acc did not improve from 0.99067\n",
      "Epoch 35/300\n",
      "1224/1224 [==============================] - 122s 100ms/step - loss: 0.5340 - acc: 0.9877 - val_loss: 0.4845 - val_acc: 0.9907\n",
      "\n",
      "Epoch 00035: val_acc did not improve from 0.99067\n",
      "Epoch 36/300\n",
      "1224/1224 [==============================] - 121s 99ms/step - loss: 0.5383 - acc: 0.9888 - val_loss: 0.4818 - val_acc: 0.9914\n",
      "\n",
      "Epoch 00036: val_acc improved from 0.99067 to 0.99144, saving model to Xception_BS8_EP300_IS224_LP10.ckpt\n",
      "Epoch 37/300\n",
      "1224/1224 [==============================] - 121s 99ms/step - loss: 0.5357 - acc: 0.9867 - val_loss: 0.4751 - val_acc: 0.9890\n",
      "\n",
      "Epoch 00037: val_acc did not improve from 0.99144\n",
      "Epoch 38/300\n",
      "1224/1224 [==============================] - 121s 99ms/step - loss: 0.5414 - acc: 0.9877 - val_loss: 0.4796 - val_acc: 0.9889\n",
      "\n",
      "Epoch 00038: val_acc did not improve from 0.99144\n",
      "Epoch 39/300\n",
      "1224/1224 [==============================] - 122s 100ms/step - loss: 0.5273 - acc: 0.9894 - val_loss: 0.5326 - val_acc: 0.9725\n",
      "\n",
      "Epoch 00039: val_acc did not improve from 0.99144\n",
      "Epoch 40/300\n",
      "1224/1224 [==============================] - 122s 100ms/step - loss: 0.5223 - acc: 0.9929 - val_loss: 0.4824 - val_acc: 0.9881\n",
      "\n",
      "Epoch 00040: val_acc did not improve from 0.99144\n",
      "Epoch 41/300\n",
      "1224/1224 [==============================] - 122s 100ms/step - loss: 0.5277 - acc: 0.9915 - val_loss: 0.4727 - val_acc: 0.9881\n",
      "\n",
      "Epoch 00041: val_acc did not improve from 0.99144\n",
      "Epoch 42/300\n",
      "1224/1224 [==============================] - 122s 100ms/step - loss: 0.5250 - acc: 0.9908 - val_loss: 0.4653 - val_acc: 0.9914\n",
      "\n",
      "Epoch 00042: val_acc did not improve from 0.99144\n",
      "Epoch 43/300\n",
      "1224/1224 [==============================] - 122s 100ms/step - loss: 0.5204 - acc: 0.9929 - val_loss: 0.4704 - val_acc: 0.9902\n",
      "\n",
      "Epoch 00043: val_acc did not improve from 0.99144\n",
      "Epoch 44/300\n",
      "1224/1224 [==============================] - 121s 99ms/step - loss: 0.5156 - acc: 0.9936 - val_loss: 0.4650 - val_acc: 0.9909\n",
      "\n",
      "Epoch 00044: val_acc did not improve from 0.99144\n",
      "Epoch 45/300\n",
      "1224/1224 [==============================] - 123s 100ms/step - loss: 0.5170 - acc: 0.9929 - val_loss: 0.4781 - val_acc: 0.9867\n",
      "\n",
      "Epoch 00045: val_acc did not improve from 0.99144\n",
      "Epoch 46/300\n",
      "1224/1224 [==============================] - 122s 100ms/step - loss: 0.5111 - acc: 0.9940 - val_loss: 0.4971 - val_acc: 0.9789\n",
      "\n",
      "Epoch 00046: val_acc did not improve from 0.99144\n",
      "Epoch 47/300\n",
      "1224/1224 [==============================] - 122s 100ms/step - loss: 0.5145 - acc: 0.9936 - val_loss: 0.4737 - val_acc: 0.9875\n",
      "\n",
      "Epoch 00047: val_acc did not improve from 0.99144\n",
      "Epoch 48/300\n",
      "1224/1224 [==============================] - 122s 100ms/step - loss: 0.5180 - acc: 0.9938 - val_loss: 0.4599 - val_acc: 0.9927\n",
      "\n",
      "Epoch 00048: val_acc improved from 0.99144 to 0.99272, saving model to Xception_BS8_EP300_IS224_LP10.ckpt\n",
      "Epoch 49/300\n",
      "1224/1224 [==============================] - 122s 100ms/step - loss: 0.5174 - acc: 0.9945 - val_loss: 0.4612 - val_acc: 0.9926\n",
      "\n",
      "Epoch 00049: val_acc did not improve from 0.99272\n",
      "Epoch 50/300\n",
      "1224/1224 [==============================] - 122s 100ms/step - loss: 0.5027 - acc: 0.9955 - val_loss: 0.4535 - val_acc: 0.9927\n",
      "\n",
      "Epoch 00050: val_acc did not improve from 0.99272\n",
      "Epoch 51/300\n",
      "1224/1224 [==============================] - 122s 99ms/step - loss: 0.5139 - acc: 0.9947 - val_loss: 0.4632 - val_acc: 0.9904\n",
      "\n",
      "Epoch 00051: val_acc did not improve from 0.99272\n",
      "Epoch 52/300\n",
      "1224/1224 [==============================] - 122s 99ms/step - loss: 0.5093 - acc: 0.9963 - val_loss: 0.4469 - val_acc: 0.9939\n",
      "\n",
      "Epoch 00052: val_acc improved from 0.99272 to 0.99387, saving model to Xception_BS8_EP300_IS224_LP10.ckpt\n",
      "Epoch 53/300\n",
      "1224/1224 [==============================] - 122s 100ms/step - loss: 0.5063 - acc: 0.9968 - val_loss: 0.4772 - val_acc: 0.9857\n",
      "\n",
      "Epoch 00053: val_acc did not improve from 0.99387\n",
      "Epoch 54/300\n",
      "1224/1224 [==============================] - 121s 99ms/step - loss: 0.5097 - acc: 0.9942 - val_loss: 0.4643 - val_acc: 0.9890\n",
      "\n",
      "Epoch 00054: val_acc did not improve from 0.99387\n",
      "Epoch 55/300\n",
      "1224/1224 [==============================] - 122s 99ms/step - loss: 0.5005 - acc: 0.9951 - val_loss: 0.4599 - val_acc: 0.9903\n",
      "\n",
      "Epoch 00055: val_acc did not improve from 0.99387\n",
      "Epoch 56/300\n",
      "1224/1224 [==============================] - 122s 100ms/step - loss: 0.5066 - acc: 0.9952 - val_loss: 0.4644 - val_acc: 0.9849\n",
      "\n",
      "Epoch 00056: val_acc did not improve from 0.99387\n",
      "Epoch 57/300\n",
      "1224/1224 [==============================] - 122s 100ms/step - loss: 0.4964 - acc: 0.9963 - val_loss: 0.4408 - val_acc: 0.9954\n",
      "\n",
      "Epoch 00057: val_acc improved from 0.99387 to 0.99540, saving model to Xception_BS8_EP300_IS224_LP10.ckpt\n",
      "Epoch 58/300\n",
      "1224/1224 [==============================] - 121s 99ms/step - loss: 0.5029 - acc: 0.9953 - val_loss: 0.4348 - val_acc: 0.9945\n",
      "\n",
      "Epoch 00058: val_acc did not improve from 0.99540\n",
      "Epoch 59/300\n",
      "1224/1224 [==============================] - 122s 99ms/step - loss: 0.4960 - acc: 0.9963 - val_loss: 0.4458 - val_acc: 0.9936\n",
      "\n",
      "Epoch 00059: val_acc did not improve from 0.99540\n",
      "Epoch 60/300\n",
      "1224/1224 [==============================] - 122s 100ms/step - loss: 0.5040 - acc: 0.9957 - val_loss: 0.4404 - val_acc: 0.9935\n",
      "\n",
      "Epoch 00060: val_acc did not improve from 0.99540\n",
      "Epoch 61/300\n",
      "1224/1224 [==============================] - 122s 99ms/step - loss: 0.4946 - acc: 0.9968 - val_loss: 0.4430 - val_acc: 0.9930\n",
      "\n",
      "Epoch 00061: val_acc did not improve from 0.99540\n",
      "Epoch 62/300\n",
      "1224/1224 [==============================] - 121s 99ms/step - loss: 0.4967 - acc: 0.9959 - val_loss: 0.4396 - val_acc: 0.9939\n",
      "\n",
      "Epoch 00062: val_acc did not improve from 0.99540\n",
      "Epoch 63/300\n",
      "1224/1224 [==============================] - 121s 99ms/step - loss: 0.5056 - acc: 0.9956 - val_loss: 0.4376 - val_acc: 0.9902\n",
      "\n",
      "Epoch 00063: val_acc did not improve from 0.99540\n",
      "Epoch 64/300\n",
      "1224/1224 [==============================] - 122s 99ms/step - loss: 0.4948 - acc: 0.9978 - val_loss: 0.4249 - val_acc: 0.9946\n",
      "\n",
      "Epoch 00064: val_acc did not improve from 0.99540\n",
      "Epoch 65/300\n",
      "1224/1224 [==============================] - 121s 99ms/step - loss: 0.4940 - acc: 0.9973 - val_loss: 0.4317 - val_acc: 0.9944\n",
      "\n",
      "Epoch 00065: val_acc did not improve from 0.99540\n",
      "Epoch 66/300\n",
      "1224/1224 [==============================] - 121s 99ms/step - loss: 0.4943 - acc: 0.9962 - val_loss: 0.4345 - val_acc: 0.9921\n",
      "\n",
      "Epoch 00066: val_acc did not improve from 0.99540\n",
      "Epoch 67/300\n",
      "1224/1224 [==============================] - 121s 99ms/step - loss: 0.4918 - acc: 0.9954 - val_loss: 0.4368 - val_acc: 0.9941\n",
      "\n",
      "Epoch 00067: val_acc did not improve from 0.99540\n",
      "Epoch 68/300\n",
      "1224/1224 [==============================] - 121s 99ms/step - loss: 0.4811 - acc: 0.9973 - val_loss: 0.4347 - val_acc: 0.9943\n",
      "\n",
      "Epoch 00068: val_acc did not improve from 0.99540\n",
      "Epoch 69/300\n",
      "1224/1224 [==============================] - 121s 99ms/step - loss: 0.4884 - acc: 0.9978 - val_loss: 0.4257 - val_acc: 0.9954\n",
      "\n",
      "Epoch 00069: val_acc did not improve from 0.99540\n",
      "Epoch 70/300\n",
      "1224/1224 [==============================] - 121s 99ms/step - loss: 0.4879 - acc: 0.9972 - val_loss: 0.4322 - val_acc: 0.9936\n",
      "\n",
      "Epoch 00070: val_acc did not improve from 0.99540\n",
      "Epoch 71/300\n",
      "1224/1224 [==============================] - 121s 99ms/step - loss: 0.4861 - acc: 0.9979 - val_loss: 0.4237 - val_acc: 0.9948\n",
      "\n",
      "Epoch 00071: val_acc did not improve from 0.99540\n",
      "Epoch 72/300\n",
      "1224/1224 [==============================] - 121s 99ms/step - loss: 0.4877 - acc: 0.9981 - val_loss: 0.4285 - val_acc: 0.9939\n",
      "\n",
      "Epoch 00072: val_acc did not improve from 0.99540\n",
      "Epoch 73/300\n",
      "1224/1224 [==============================] - 121s 99ms/step - loss: 0.4866 - acc: 0.9969 - val_loss: 0.4215 - val_acc: 0.9951\n",
      "\n",
      "Epoch 00073: val_acc did not improve from 0.99540\n",
      "Epoch 74/300\n",
      "1224/1224 [==============================] - 121s 99ms/step - loss: 0.4751 - acc: 0.9986 - val_loss: 0.4272 - val_acc: 0.9943\n",
      "\n",
      "Epoch 00074: val_acc did not improve from 0.99540\n",
      "Epoch 75/300\n",
      "1224/1224 [==============================] - 122s 100ms/step - loss: 0.4806 - acc: 0.9986 - val_loss: 0.4185 - val_acc: 0.9946\n",
      "\n",
      "Epoch 00075: val_acc did not improve from 0.99540\n",
      "Epoch 76/300\n",
      "1224/1224 [==============================] - 121s 99ms/step - loss: 0.4869 - acc: 0.9975 - val_loss: 0.4212 - val_acc: 0.9951\n",
      "\n",
      "Epoch 00076: val_acc did not improve from 0.99540\n",
      "Epoch 77/300\n",
      "1224/1224 [==============================] - 122s 100ms/step - loss: 0.4836 - acc: 0.9981 - val_loss: 0.4213 - val_acc: 0.9926\n",
      "\n",
      "Epoch 00077: val_acc did not improve from 0.99540\n",
      "Epoch 78/300\n",
      "1224/1224 [==============================] - 122s 100ms/step - loss: 0.4792 - acc: 0.9980 - val_loss: 0.4229 - val_acc: 0.9945\n",
      "\n",
      "Epoch 00078: val_acc did not improve from 0.99540\n",
      "Epoch 79/300\n",
      "1224/1224 [==============================] - 122s 100ms/step - loss: 0.4838 - acc: 0.9979 - val_loss: 0.4130 - val_acc: 0.9960\n",
      "\n",
      "Epoch 00079: val_acc improved from 0.99540 to 0.99604, saving model to Xception_BS8_EP300_IS224_LP10.ckpt\n",
      "Epoch 80/300\n",
      "1224/1224 [==============================] - 122s 100ms/step - loss: 0.4830 - acc: 0.9980 - val_loss: 0.4175 - val_acc: 0.9925\n",
      "\n",
      "Epoch 00080: val_acc did not improve from 0.99604\n",
      "Epoch 81/300\n"
     ]
    },
    {
     "name": "stdout",
     "output_type": "stream",
     "text": [
      "1224/1224 [==============================] - 121s 99ms/step - loss: 0.4776 - acc: 0.9985 - val_loss: 0.4346 - val_acc: 0.9894\n",
      "\n",
      "Epoch 00081: val_acc did not improve from 0.99604\n",
      "Epoch 82/300\n",
      "1224/1224 [==============================] - 122s 100ms/step - loss: 0.4834 - acc: 0.9969 - val_loss: 0.4109 - val_acc: 0.9964\n",
      "\n",
      "Epoch 00082: val_acc improved from 0.99604 to 0.99642, saving model to Xception_BS8_EP300_IS224_LP10.ckpt\n",
      "Epoch 83/300\n",
      "1224/1224 [==============================] - 122s 100ms/step - loss: 0.4762 - acc: 0.9986 - val_loss: 0.4159 - val_acc: 0.9966\n",
      "\n",
      "Epoch 00083: val_acc improved from 0.99642 to 0.99655, saving model to Xception_BS8_EP300_IS224_LP10.ckpt\n",
      "Epoch 84/300\n",
      "1224/1224 [==============================] - 121s 99ms/step - loss: 0.4756 - acc: 0.9968 - val_loss: 0.4105 - val_acc: 0.9939\n",
      "\n",
      "Epoch 00084: val_acc did not improve from 0.99655\n",
      "Epoch 85/300\n",
      "1224/1224 [==============================] - 122s 99ms/step - loss: 0.4758 - acc: 0.9984 - val_loss: 0.4182 - val_acc: 0.9926\n",
      "\n",
      "Epoch 00085: val_acc did not improve from 0.99655\n",
      "Epoch 86/300\n",
      "1224/1224 [==============================] - 123s 100ms/step - loss: 0.4788 - acc: 0.9971 - val_loss: 0.4198 - val_acc: 0.9930\n",
      "\n",
      "Epoch 00086: val_acc did not improve from 0.99655\n",
      "Epoch 87/300\n",
      "1224/1224 [==============================] - 123s 100ms/step - loss: 0.4691 - acc: 0.9980 - val_loss: 0.4140 - val_acc: 0.9940\n",
      "\n",
      "Epoch 00087: val_acc did not improve from 0.99655\n",
      "Epoch 88/300\n",
      "1224/1224 [==============================] - 122s 100ms/step - loss: 0.4729 - acc: 0.9985 - val_loss: 0.4113 - val_acc: 0.9950\n",
      "\n",
      "Epoch 00088: val_acc did not improve from 0.99655\n",
      "Epoch 89/300\n",
      "1224/1224 [==============================] - 121s 99ms/step - loss: 0.4700 - acc: 0.9967 - val_loss: 0.4061 - val_acc: 0.9950\n",
      "\n",
      "Epoch 00089: val_acc did not improve from 0.99655\n",
      "Epoch 90/300\n",
      "1224/1224 [==============================] - 122s 100ms/step - loss: 0.4700 - acc: 0.9986 - val_loss: 0.4079 - val_acc: 0.9925\n",
      "\n",
      "Epoch 00090: val_acc did not improve from 0.99655\n",
      "Epoch 91/300\n",
      "1224/1224 [==============================] - 121s 99ms/step - loss: 0.4721 - acc: 0.9987 - val_loss: 0.4074 - val_acc: 0.9955\n",
      "\n",
      "Epoch 00091: val_acc did not improve from 0.99655\n",
      "Epoch 92/300\n",
      "1224/1224 [==============================] - 121s 99ms/step - loss: 0.4703 - acc: 0.9984 - val_loss: 0.4171 - val_acc: 0.9926\n",
      "\n",
      "Epoch 00092: val_acc did not improve from 0.99655\n",
      "Epoch 93/300\n",
      "1224/1224 [==============================] - 122s 100ms/step - loss: 0.4718 - acc: 0.9992 - val_loss: 0.4045 - val_acc: 0.9955\n",
      "\n",
      "Epoch 00093: val_acc did not improve from 0.99655\n",
      "Epoch 94/300\n",
      "1224/1224 [==============================] - 122s 100ms/step - loss: 0.4717 - acc: 0.9984 - val_loss: 0.3994 - val_acc: 0.9939\n",
      "\n",
      "Epoch 00094: val_acc did not improve from 0.99655\n",
      "Epoch 95/300\n",
      "1224/1224 [==============================] - 123s 100ms/step - loss: 0.4712 - acc: 0.9976 - val_loss: 0.3967 - val_acc: 0.9941\n",
      "\n",
      "Epoch 00095: val_acc did not improve from 0.99655\n",
      "Epoch 96/300\n",
      "1224/1224 [==============================] - 122s 100ms/step - loss: 0.4712 - acc: 0.9983 - val_loss: 0.4070 - val_acc: 0.9908\n",
      "\n",
      "Epoch 00096: val_acc did not improve from 0.99655\n",
      "Epoch 97/300\n",
      "1224/1224 [==============================] - 121s 99ms/step - loss: 0.4662 - acc: 0.9984 - val_loss: 0.4055 - val_acc: 0.9958\n",
      "\n",
      "Epoch 00097: val_acc did not improve from 0.99655\n",
      "Epoch 98/300\n",
      "1224/1224 [==============================] - 122s 100ms/step - loss: 0.4662 - acc: 0.9969 - val_loss: 0.4050 - val_acc: 0.9951\n",
      "\n",
      "Epoch 00098: val_acc did not improve from 0.99655\n",
      "Epoch 99/300\n",
      "1224/1224 [==============================] - 121s 99ms/step - loss: 0.4701 - acc: 0.9989 - val_loss: 0.4029 - val_acc: 0.9957\n",
      "\n",
      "Epoch 00099: val_acc did not improve from 0.99655\n",
      "Epoch 100/300\n",
      "1224/1224 [==============================] - 121s 99ms/step - loss: 0.4680 - acc: 0.9991 - val_loss: 0.3916 - val_acc: 0.9960\n",
      "\n",
      "Epoch 00100: val_acc did not improve from 0.99655\n",
      "Epoch 101/300\n",
      "1224/1224 [==============================] - 121s 99ms/step - loss: 0.4676 - acc: 0.9985 - val_loss: 0.3932 - val_acc: 0.9955\n",
      "\n",
      "Epoch 00101: val_acc did not improve from 0.99655\n",
      "Epoch 102/300\n",
      "1224/1224 [==============================] - 123s 100ms/step - loss: 0.4625 - acc: 0.9982 - val_loss: 0.3941 - val_acc: 0.9955\n",
      "\n",
      "Epoch 00102: val_acc did not improve from 0.99655\n",
      "Epoch 103/300\n",
      "1224/1224 [==============================] - 122s 99ms/step - loss: 0.4680 - acc: 0.9979 - val_loss: 0.3997 - val_acc: 0.9954\n",
      "\n",
      "Epoch 00103: val_acc did not improve from 0.99655\n",
      "Epoch 104/300\n",
      "1224/1224 [==============================] - 121s 99ms/step - loss: 0.4611 - acc: 0.9988 - val_loss: 0.4063 - val_acc: 0.9958\n",
      "\n",
      "Epoch 00104: val_acc did not improve from 0.99655\n",
      "Epoch 105/300\n",
      "1224/1224 [==============================] - 121s 99ms/step - loss: 0.4650 - acc: 0.9990 - val_loss: 0.4008 - val_acc: 0.9949\n",
      "\n",
      "Epoch 00105: val_acc did not improve from 0.99655\n",
      "Epoch 106/300\n",
      "1224/1224 [==============================] - 121s 99ms/step - loss: 0.4672 - acc: 0.9981 - val_loss: 0.3907 - val_acc: 0.9967\n",
      "\n",
      "Epoch 00106: val_acc improved from 0.99655 to 0.99668, saving model to Xception_BS8_EP300_IS224_LP10.ckpt\n",
      "Epoch 107/300\n",
      "1224/1224 [==============================] - 121s 99ms/step - loss: 0.4646 - acc: 0.9987 - val_loss: 0.3866 - val_acc: 0.9957\n",
      "\n",
      "Epoch 00107: val_acc did not improve from 0.99668\n",
      "Epoch 108/300\n",
      "1224/1224 [==============================] - 122s 99ms/step - loss: 0.4647 - acc: 0.9988 - val_loss: 0.3970 - val_acc: 0.9950\n",
      "\n",
      "Epoch 00108: val_acc did not improve from 0.99668\n",
      "Epoch 109/300\n",
      "1224/1224 [==============================] - 122s 99ms/step - loss: 0.4597 - acc: 0.9987 - val_loss: 0.4155 - val_acc: 0.9905\n",
      "\n",
      "Epoch 00109: val_acc did not improve from 0.99668\n",
      "Epoch 110/300\n",
      "1224/1224 [==============================] - 121s 99ms/step - loss: 0.4582 - acc: 0.9996 - val_loss: 0.4121 - val_acc: 0.9899\n",
      "\n",
      "Epoch 00110: val_acc did not improve from 0.99668\n",
      "Epoch 111/300\n",
      "1224/1224 [==============================] - 121s 99ms/step - loss: 0.4555 - acc: 0.9985 - val_loss: 0.3834 - val_acc: 0.9955\n",
      "\n",
      "Epoch 00111: val_acc did not improve from 0.99668\n",
      "Epoch 112/300\n",
      "1224/1224 [==============================] - 121s 99ms/step - loss: 0.4600 - acc: 0.9990 - val_loss: 0.4000 - val_acc: 0.9958\n",
      "\n",
      "Epoch 00112: val_acc did not improve from 0.99668\n",
      "Epoch 113/300\n",
      "1224/1224 [==============================] - 121s 99ms/step - loss: 0.4602 - acc: 0.9988 - val_loss: 0.3849 - val_acc: 0.9960\n",
      "\n",
      "Epoch 00113: val_acc did not improve from 0.99668\n",
      "Epoch 114/300\n",
      "1224/1224 [==============================] - 121s 99ms/step - loss: 0.4576 - acc: 0.9987 - val_loss: 0.3965 - val_acc: 0.9959\n",
      "\n",
      "Epoch 00114: val_acc did not improve from 0.99668\n",
      "Epoch 115/300\n",
      "1224/1224 [==============================] - 121s 99ms/step - loss: 0.4602 - acc: 0.9986 - val_loss: 0.3971 - val_acc: 0.9955\n",
      "\n",
      "Epoch 00115: val_acc did not improve from 0.99668\n",
      "Epoch 116/300\n",
      "1224/1224 [==============================] - 122s 100ms/step - loss: 0.4584 - acc: 0.9988 - val_loss: 0.3982 - val_acc: 0.9949\n",
      "\n",
      "Epoch 00116: val_acc did not improve from 0.99668\n",
      "Epoch 117/300\n",
      "1224/1224 [==============================] - 121s 99ms/step - loss: 0.4564 - acc: 0.9990 - val_loss: 0.3898 - val_acc: 0.9958\n",
      "\n",
      "Epoch 00117: val_acc did not improve from 0.99668\n",
      "Epoch 118/300\n",
      "1224/1224 [==============================] - 122s 100ms/step - loss: 0.4544 - acc: 0.9994 - val_loss: 0.3839 - val_acc: 0.9964\n",
      "\n",
      "Epoch 00118: val_acc did not improve from 0.99668\n",
      "Epoch 119/300\n",
      "1224/1224 [==============================] - 121s 99ms/step - loss: 0.4526 - acc: 0.9988 - val_loss: 0.3846 - val_acc: 0.9962\n",
      "\n",
      "Epoch 00119: val_acc did not improve from 0.99668\n",
      "Epoch 120/300\n",
      "1224/1224 [==============================] - 121s 99ms/step - loss: 0.4567 - acc: 0.9990 - val_loss: 0.3872 - val_acc: 0.9954\n",
      "\n",
      "Epoch 00120: val_acc did not improve from 0.99668\n",
      "Epoch 121/300\n",
      "1224/1224 [==============================] - 122s 99ms/step - loss: 0.4585 - acc: 0.9987 - val_loss: 0.3905 - val_acc: 0.9963\n",
      "\n",
      "Epoch 00121: val_acc did not improve from 0.99668\n",
      "\n",
      "Epoch 00121: ReduceLROnPlateau reducing learning rate to 9.999999747378752e-07.\n"
     ]
    },
    {
     "data": {
      "text/plain": [
       "<tensorflow.python.training.tracking.util.CheckpointLoadStatus at 0x2da3ca425b0>"
      ]
     },
     "execution_count": 19,
     "metadata": {},
     "output_type": "execute_result"
    }
   ],
   "source": [
    "# train the model\n",
    "pic_model.fit(\n",
    "        train_generator,\n",
    "        epochs = train_epoch,\n",
    "        validation_data = valid_generator,\n",
    "        callbacks = [my_callbacks],\n",
    "        class_weight = class_weights\n",
    "      )\n",
    "\n",
    "# load best saved weights\n",
    "pic_model.load_weights(checkpoint_path)"
   ]
  },
  {
   "cell_type": "markdown",
   "id": "pretty-morris",
   "metadata": {
    "id": "pretty-morris",
    "papermill": {
     "duration": 3.201635,
     "end_time": "2021-05-30T20:12:18.344310",
     "exception": false,
     "start_time": "2021-05-30T20:12:15.142675",
     "status": "completed"
    },
    "tags": []
   },
   "source": [
    "# 훈련된 모델 재교육"
   ]
  },
  {
   "cell_type": "code",
   "execution_count": 20,
   "id": "cloudy-idaho",
   "metadata": {
    "execution": {
     "iopub.execute_input": "2021-05-30T20:12:24.238372Z",
     "iopub.status.busy": "2021-05-30T20:12:24.237660Z",
     "iopub.status.idle": "2021-05-30T20:12:24.305208Z",
     "shell.execute_reply": "2021-05-30T20:12:24.305579Z",
     "shell.execute_reply.started": "2021-05-30T09:30:16.948040Z"
    },
    "id": "cloudy-idaho",
    "papermill": {
     "duration": 3.027306,
     "end_time": "2021-05-30T20:12:24.305720",
     "exception": false,
     "start_time": "2021-05-30T20:12:21.278414",
     "status": "completed"
    },
    "tags": []
   },
   "outputs": [],
   "source": [
    "# train and validation split on competition data\n",
    "from sklearn.model_selection import train_test_split\n",
    "X_train, X_test = train_test_split(\n",
    "    df_val_compi,\n",
    "    test_size = 0.1,\n",
    "    random_state = seed,\n",
    "    stratify = df_val_compi.label\n",
    "  )"
   ]
  },
  {
   "cell_type": "code",
   "execution_count": 21,
   "id": "nervous-crisis",
   "metadata": {
    "colab": {
     "base_uri": "https://localhost:8080/"
    },
    "execution": {
     "iopub.execute_input": "2021-05-30T20:12:30.429807Z",
     "iopub.status.busy": "2021-05-30T20:12:30.429001Z",
     "iopub.status.idle": "2021-05-30T20:12:30.472297Z",
     "shell.execute_reply": "2021-05-30T20:12:30.471634Z",
     "shell.execute_reply.started": "2021-05-30T09:30:18.098841Z"
    },
    "id": "nervous-crisis",
    "outputId": "bf1114cc-1f2d-4777-cef4-bd4eb24d75dd",
    "papermill": {
     "duration": 3.239148,
     "end_time": "2021-05-30T20:12:30.472465",
     "exception": false,
     "start_time": "2021-05-30T20:12:27.233317",
     "status": "completed"
    },
    "tags": []
   },
   "outputs": [
    {
     "name": "stdout",
     "output_type": "stream",
     "text": [
      "Found 7045 validated image filenames.\n"
     ]
    }
   ],
   "source": [
    "train_generator = train_aug.flow_from_dataframe(\n",
    "    dataframe = X_train,\n",
    "    x_col = \"filename\",\n",
    "    y_col = \"label\",\n",
    "    batch_size = batch_size,\n",
    "    seed = seed,\n",
    "    shuffle = True,\n",
    "    class_mode = \"raw\",\n",
    "    target_size = (image_size,image_size)\n",
    "  )"
   ]
  },
  {
   "cell_type": "code",
   "execution_count": 22,
   "id": "instrumental-indie",
   "metadata": {
    "colab": {
     "base_uri": "https://localhost:8080/"
    },
    "execution": {
     "iopub.execute_input": "2021-05-30T20:12:36.309467Z",
     "iopub.status.busy": "2021-05-30T20:12:36.308631Z",
     "iopub.status.idle": "2021-05-30T20:12:36.318017Z",
     "shell.execute_reply": "2021-05-30T20:12:36.317530Z",
     "shell.execute_reply.started": "2021-05-30T09:30:23.206485Z"
    },
    "id": "instrumental-indie",
    "outputId": "dceb0588-b8e8-4658-a8e4-9c7f11fc65a0",
    "papermill": {
     "duration": 2.927421,
     "end_time": "2021-05-30T20:12:36.318129",
     "exception": false,
     "start_time": "2021-05-30T20:12:33.390708",
     "status": "completed"
    },
    "tags": []
   },
   "outputs": [
    {
     "name": "stdout",
     "output_type": "stream",
     "text": [
      "Found 783 validated image filenames.\n"
     ]
    }
   ],
   "source": [
    "valid_generator = valid_aug.flow_from_dataframe( \n",
    "    dataframe = X_test,\n",
    "    x_col = \"filename\",\n",
    "    y_col = \"label\",\n",
    "    batch_size = batch_size,\n",
    "    seed = seed,\n",
    "    shuffle = True,\n",
    "    class_mode = \"raw\",\n",
    "    target_size = (image_size,image_size)\n",
    "  )"
   ]
  },
  {
   "cell_type": "code",
   "execution_count": 23,
   "id": "dedicated-chapel",
   "metadata": {
    "execution": {
     "iopub.execute_input": "2021-05-30T20:12:42.897491Z",
     "iopub.status.busy": "2021-05-30T20:12:42.895853Z",
     "iopub.status.idle": "2021-05-30T20:12:42.898202Z",
     "shell.execute_reply": "2021-05-30T20:12:42.898602Z",
     "shell.execute_reply.started": "2021-05-30T09:30:26.966513Z"
    },
    "id": "dedicated-chapel",
    "papermill": {
     "duration": 3.108025,
     "end_time": "2021-05-30T20:12:42.898739",
     "exception": false,
     "start_time": "2021-05-30T20:12:39.790714",
     "status": "completed"
    },
    "tags": []
   },
   "outputs": [],
   "source": [
    "# number of steps to consider 1 as  epoch\n",
    "STEP_SIZE_TRAIN = train_generator.n//train_generator.batch_size\n",
    "STEP_SIZE_VALID = valid_generator.n//valid_generator.batch_size"
   ]
  },
  {
   "cell_type": "code",
   "execution_count": 24,
   "id": "sized-norfolk",
   "metadata": {
    "colab": {
     "base_uri": "https://localhost:8080/"
    },
    "execution": {
     "iopub.execute_input": "2021-05-30T20:12:48.820785Z",
     "iopub.status.busy": "2021-05-30T20:12:48.819337Z",
     "iopub.status.idle": "2021-05-30T20:25:26.371458Z",
     "shell.execute_reply": "2021-05-30T20:25:26.371941Z",
     "shell.execute_reply.started": "2021-05-30T09:30:36.962285Z"
    },
    "id": "sized-norfolk",
    "outputId": "fc9b987c-a11c-49f1-b98c-d4879cee12f6",
    "papermill": {
     "duration": 760.527609,
     "end_time": "2021-05-30T20:25:26.372105",
     "exception": false,
     "start_time": "2021-05-30T20:12:45.844496",
     "status": "completed"
    },
    "tags": []
   },
   "outputs": [
    {
     "name": "stdout",
     "output_type": "stream",
     "text": [
      "Epoch 1/50\n",
      "880/880 [==============================] - 78s 87ms/step - loss: 0.5723 - acc: 0.9847 - val_loss: 0.3692 - val_acc: 0.9987\n",
      "\n",
      "Epoch 00001: val_acc improved from 0.99668 to 0.99871, saving model to Xception_BS8_EP300_IS224_LP10.ckpt\n",
      "Epoch 2/50\n",
      "880/880 [==============================] - 76s 86ms/step - loss: 0.5624 - acc: 0.9910 - val_loss: 0.3703 - val_acc: 0.9974\n",
      "\n",
      "Epoch 00002: val_acc did not improve from 0.99871\n",
      "Epoch 3/50\n",
      "880/880 [==============================] - 76s 86ms/step - loss: 0.5663 - acc: 0.9915 - val_loss: 0.3682 - val_acc: 0.9987\n",
      "\n",
      "Epoch 00003: val_acc did not improve from 0.99871\n",
      "Epoch 4/50\n",
      "880/880 [==============================] - 76s 86ms/step - loss: 0.5587 - acc: 0.9925 - val_loss: 0.3662 - val_acc: 0.9987\n",
      "\n",
      "Epoch 00004: val_acc did not improve from 0.99871\n",
      "Epoch 5/50\n",
      "880/880 [==============================] - 76s 86ms/step - loss: 0.5648 - acc: 0.9929 - val_loss: 0.3711 - val_acc: 0.9987\n",
      "\n",
      "Epoch 00005: val_acc did not improve from 0.99871\n",
      "Epoch 6/50\n",
      "880/880 [==============================] - 76s 86ms/step - loss: 0.5517 - acc: 0.9953 - val_loss: 0.3785 - val_acc: 0.9961\n",
      "\n",
      "Epoch 00006: val_acc did not improve from 0.99871\n",
      "Epoch 7/50\n",
      "880/880 [==============================] - 76s 86ms/step - loss: 0.5485 - acc: 0.9957 - val_loss: 0.3759 - val_acc: 0.9987\n",
      "\n",
      "Epoch 00007: val_acc did not improve from 0.99871\n",
      "Epoch 8/50\n",
      "880/880 [==============================] - 76s 86ms/step - loss: 0.5536 - acc: 0.9970 - val_loss: 0.3752 - val_acc: 1.0000\n",
      "\n",
      "Epoch 00008: val_acc improved from 0.99871 to 1.00000, saving model to Xception_BS8_EP300_IS224_LP10.ckpt\n",
      "Epoch 9/50\n",
      "880/880 [==============================] - 75s 86ms/step - loss: 0.5537 - acc: 0.9946 - val_loss: 0.3704 - val_acc: 0.9987\n",
      "\n",
      "Epoch 00009: val_acc did not improve from 1.00000\n",
      "Epoch 10/50\n",
      "880/880 [==============================] - 76s 86ms/step - loss: 0.5525 - acc: 0.9960 - val_loss: 0.3755 - val_acc: 0.9974\n",
      "\n",
      "Epoch 00010: val_acc did not improve from 1.00000\n",
      "Epoch 11/50\n",
      "880/880 [==============================] - 76s 86ms/step - loss: 0.5487 - acc: 0.9955 - val_loss: 0.3747 - val_acc: 0.9987\n",
      "\n",
      "Epoch 00011: val_acc did not improve from 1.00000\n",
      "Epoch 12/50\n",
      "880/880 [==============================] - 76s 86ms/step - loss: 0.5484 - acc: 0.9979 - val_loss: 0.3724 - val_acc: 0.9948\n",
      "\n",
      "Epoch 00012: val_acc did not improve from 1.00000\n",
      "Epoch 13/50\n",
      "880/880 [==============================] - 75s 86ms/step - loss: 0.5434 - acc: 0.9984 - val_loss: 0.3637 - val_acc: 0.9974\n",
      "\n",
      "Epoch 00013: val_acc did not improve from 1.00000\n",
      "Epoch 14/50\n",
      "880/880 [==============================] - 75s 86ms/step - loss: 0.5491 - acc: 0.9972 - val_loss: 0.3699 - val_acc: 0.9987\n",
      "\n",
      "Epoch 00014: val_acc did not improve from 1.00000\n",
      "Epoch 15/50\n",
      "880/880 [==============================] - 76s 86ms/step - loss: 0.5522 - acc: 0.9969 - val_loss: 0.3727 - val_acc: 0.9987\n",
      "\n",
      "Epoch 00015: val_acc did not improve from 1.00000\n",
      "Epoch 16/50\n",
      "880/880 [==============================] - 76s 86ms/step - loss: 0.5439 - acc: 0.9969 - val_loss: 0.3670 - val_acc: 0.9987\n",
      "\n",
      "Epoch 00016: val_acc did not improve from 1.00000\n",
      "Epoch 17/50\n",
      "880/880 [==============================] - 76s 86ms/step - loss: 0.5455 - acc: 0.9986 - val_loss: 0.3758 - val_acc: 0.9974\n",
      "\n",
      "Epoch 00017: val_acc did not improve from 1.00000\n",
      "Epoch 18/50\n",
      "880/880 [==============================] - 76s 86ms/step - loss: 0.5452 - acc: 0.9973 - val_loss: 0.3691 - val_acc: 0.9987\n",
      "\n",
      "Epoch 00018: val_acc did not improve from 1.00000\n",
      "Epoch 19/50\n",
      "880/880 [==============================] - 76s 86ms/step - loss: 0.5480 - acc: 0.9970 - val_loss: 0.3697 - val_acc: 0.9974\n",
      "\n",
      "Epoch 00019: val_acc did not improve from 1.00000\n",
      "Epoch 20/50\n",
      "880/880 [==============================] - 76s 86ms/step - loss: 0.5435 - acc: 0.9964 - val_loss: 0.3753 - val_acc: 0.9974\n",
      "\n",
      "Epoch 00020: val_acc did not improve from 1.00000\n",
      "Epoch 21/50\n",
      "880/880 [==============================] - 76s 86ms/step - loss: 0.5502 - acc: 0.9972 - val_loss: 0.3747 - val_acc: 0.9961\n",
      "\n",
      "Epoch 00021: val_acc did not improve from 1.00000\n",
      "Epoch 22/50\n",
      "880/880 [==============================] - 76s 86ms/step - loss: 0.5463 - acc: 0.9974 - val_loss: 0.3664 - val_acc: 0.9987\n",
      "\n",
      "Epoch 00022: val_acc did not improve from 1.00000\n",
      "Epoch 23/50\n",
      "880/880 [==============================] - 76s 86ms/step - loss: 0.5420 - acc: 0.9980 - val_loss: 0.3711 - val_acc: 0.9961\n",
      "\n",
      "Epoch 00023: val_acc did not improve from 1.00000\n",
      "\n",
      "Epoch 00023: ReduceLROnPlateau reducing learning rate to 9.999999747378752e-07.\n"
     ]
    },
    {
     "data": {
      "text/plain": [
       "<keras.callbacks.History at 0x2da3b8e7700>"
      ]
     },
     "execution_count": 24,
     "metadata": {},
     "output_type": "execute_result"
    }
   ],
   "source": [
    "# kick off training\n",
    "pic_model.fit(\n",
    "        train_generator,\n",
    "        steps_per_epoch = STEP_SIZE_TRAIN,\n",
    "        epochs = val_epoch,\n",
    "        validation_data = valid_generator,\n",
    "        validation_steps = STEP_SIZE_VALID,callbacks = [my_callbacks]\n",
    "      )"
   ]
  },
  {
   "cell_type": "code",
   "execution_count": 25,
   "id": "complete-spelling",
   "metadata": {
    "colab": {
     "base_uri": "https://localhost:8080/"
    },
    "execution": {
     "iopub.execute_input": "2021-05-30T20:25:33.497837Z",
     "iopub.status.busy": "2021-05-30T20:25:33.496999Z",
     "iopub.status.idle": "2021-05-30T20:25:34.695800Z",
     "shell.execute_reply": "2021-05-30T20:25:34.695365Z",
     "shell.execute_reply.started": "2021-05-24T16:41:06.725854Z"
    },
    "id": "complete-spelling",
    "outputId": "10521e37-45bc-43e8-eae3-62b233e07b14",
    "papermill": {
     "duration": 4.566888,
     "end_time": "2021-05-30T20:25:34.695951",
     "exception": false,
     "start_time": "2021-05-30T20:25:30.129063",
     "status": "completed"
    },
    "tags": []
   },
   "outputs": [
    {
     "data": {
      "text/plain": [
       "<tensorflow.python.training.tracking.util.CheckpointLoadStatus at 0x2d4c63f73a0>"
      ]
     },
     "execution_count": 25,
     "metadata": {},
     "output_type": "execute_result"
    }
   ],
   "source": [
    "# load best saved weights\n",
    "pic_model.load_weights(checkpoint_path)"
   ]
  },
  {
   "cell_type": "markdown",
   "id": "intended-cylinder",
   "metadata": {
    "id": "intended-cylinder",
    "papermill": {
     "duration": 3.633537,
     "end_time": "2021-05-30T20:25:41.743104",
     "exception": false,
     "start_time": "2021-05-30T20:25:38.109567",
     "status": "completed"
    },
    "tags": []
   },
   "source": [
    "# Confusion Matrix"
   ]
  },
  {
   "cell_type": "code",
   "execution_count": 26,
   "id": "equivalent-album",
   "metadata": {
    "colab": {
     "base_uri": "https://localhost:8080/"
    },
    "execution": {
     "iopub.execute_input": "2021-05-30T20:25:48.625234Z",
     "iopub.status.busy": "2021-05-30T20:25:48.624438Z",
     "iopub.status.idle": "2021-05-30T20:25:48.634216Z",
     "shell.execute_reply": "2021-05-30T20:25:48.633804Z",
     "shell.execute_reply.started": "2021-05-27T05:35:10.161826Z"
    },
    "id": "equivalent-album",
    "outputId": "2ed00c4a-4fd3-4d76-9ce5-6249f0da4489",
    "papermill": {
     "duration": 3.430239,
     "end_time": "2021-05-30T20:25:48.634343",
     "exception": false,
     "start_time": "2021-05-30T20:25:45.204104",
     "status": "completed"
    },
    "tags": []
   },
   "outputs": [
    {
     "name": "stdout",
     "output_type": "stream",
     "text": [
      "Found 783 validated image filenames.\n"
     ]
    }
   ],
   "source": [
    "from sklearn.metrics import precision_recall_curve\n",
    "target_shape = 224\n",
    "BS = 1\n",
    "\n",
    "# test generator\n",
    "compi_gen = valid_aug.flow_from_dataframe(\n",
    "    dataframe = X_test,\n",
    "    x_col = \"filename\",\n",
    "    class_mode = None,\n",
    "    target_size = (target_shape, target_shape),\n",
    "    shuffle = False,\n",
    "    batch_size = BS\n",
    "  )"
   ]
  },
  {
   "cell_type": "code",
   "execution_count": 27,
   "id": "preceding-delight",
   "metadata": {
    "colab": {
     "base_uri": "https://localhost:8080/"
    },
    "execution": {
     "iopub.execute_input": "2021-05-30T20:25:56.117007Z",
     "iopub.status.busy": "2021-05-30T20:25:56.116264Z",
     "iopub.status.idle": "2021-05-30T20:26:05.659358Z",
     "shell.execute_reply": "2021-05-30T20:26:05.658569Z",
     "shell.execute_reply.started": "2021-05-27T05:35:17.324361Z"
    },
    "id": "preceding-delight",
    "outputId": "21817dd8-602c-4242-8998-5e3ae34e14e3",
    "papermill": {
     "duration": 12.914933,
     "end_time": "2021-05-30T20:26:05.659489",
     "exception": false,
     "start_time": "2021-05-30T20:25:52.744556",
     "status": "completed"
    },
    "tags": []
   },
   "outputs": [
    {
     "name": "stdout",
     "output_type": "stream",
     "text": [
      "783/783 [==============================] - 6s 7ms/step\n"
     ]
    }
   ],
   "source": [
    "# prediction on train data\n",
    "predicition_compi = pic_model.predict(compi_gen, steps = compi_gen.n/ BS, verbose= 1)"
   ]
  },
  {
   "cell_type": "code",
   "execution_count": 28,
   "id": "distinguished-midwest",
   "metadata": {
    "colab": {
     "base_uri": "https://localhost:8080/",
     "height": 297
    },
    "execution": {
     "iopub.execute_input": "2021-05-30T20:26:12.667940Z",
     "iopub.status.busy": "2021-05-30T20:26:12.649791Z",
     "iopub.status.idle": "2021-05-30T20:26:13.051891Z",
     "shell.execute_reply": "2021-05-30T20:26:13.051413Z",
     "shell.execute_reply.started": "2021-05-27T05:43:44.837052Z"
    },
    "id": "distinguished-midwest",
    "outputId": "07a44daf-1bcd-454d-aa10-3c479b130443",
    "papermill": {
     "duration": 3.832152,
     "end_time": "2021-05-30T20:26:13.052010",
     "exception": false,
     "start_time": "2021-05-30T20:26:09.219858",
     "status": "completed"
    },
    "tags": []
   },
   "outputs": [
    {
     "data": {
      "text/plain": [
       "<sklearn.metrics._plot.confusion_matrix.ConfusionMatrixDisplay at 0x2da45c70220>"
      ]
     },
     "execution_count": 28,
     "metadata": {},
     "output_type": "execute_result"
    },
    {
     "data": {
      "image/png": "[encoded data removed]",
      "text/plain": [
       "<Figure size 432x288 with 2 Axes>"
      ]
     },
     "metadata": {
      "needs_background": "light"
     },
     "output_type": "display_data"
    }
   ],
   "source": [
    "from sklearn.metrics import confusion_matrix, ConfusionMatrixDisplay\n",
    "\n",
    "class_prediction_compi = np.argmax(predicition_compi, axis = 1)\n",
    "cm = confusion_matrix(X_test.label, class_prediction_compi, labels = [0, 1, 2, 3, 4])\n",
    "\n",
    "disp = ConfusionMatrixDisplay(\n",
    "    confusion_matrix = cm,\n",
    "    display_labels = [0, 1, 2, 3, 4]\n",
    "  )\n",
    "\n",
    "disp.plot()"
   ]
  },
  {
   "cell_type": "markdown",
   "id": "positive-wilson",
   "metadata": {
    "id": "positive-wilson",
    "papermill": {
     "duration": 3.5306,
     "end_time": "2021-05-30T20:26:20.277590",
     "exception": false,
     "start_time": "2021-05-30T20:26:16.746990",
     "status": "completed"
    },
    "tags": []
   },
   "source": [
    "# 시험세트 예측"
   ]
  },
  {
   "cell_type": "code",
   "execution_count": 29,
   "id": "constitutional-catholic",
   "metadata": {
    "colab": {
     "base_uri": "https://localhost:8080/"
    },
    "execution": {
     "iopub.execute_input": "2021-05-30T20:26:28.031789Z",
     "iopub.status.busy": "2021-05-30T20:26:28.031111Z",
     "iopub.status.idle": "2021-05-30T20:26:28.058944Z",
     "shell.execute_reply": "2021-05-30T20:26:28.058161Z",
     "shell.execute_reply.started": "2021-05-27T09:08:20.550041Z"
    },
    "id": "constitutional-catholic",
    "outputId": "91b6393c-4cdf-45ff-f39e-2eb2a0d17012",
    "papermill": {
     "duration": 4.034446,
     "end_time": "2021-05-30T20:26:28.059074",
     "exception": false,
     "start_time": "2021-05-30T20:26:24.024628",
     "status": "completed"
    },
    "tags": []
   },
   "outputs": [
    {
     "name": "stdout",
     "output_type": "stream",
     "text": [
      "Found 1958 validated image filenames.\n"
     ]
    }
   ],
   "source": [
    "# read the csv file\n",
    "test = pd.read_csv(compi_root_path + \"Test.csv\")\n",
    "\n",
    "# create test generator\n",
    "test_generator = valid_aug.flow_from_dataframe(\n",
    "    dataframe = test,\n",
    "    directory = compi_root_path + \"test\",\n",
    "    x_col = \"filename\",\n",
    "    y_col = None,\n",
    "    batch_size = 1,\n",
    "    seed = seed,\n",
    "    shuffle = False,\n",
    "    class_mode = None,\n",
    "    target_size = (image_size, image_size)\n",
    "  )\n",
    "\n",
    "# number of steps to consider 1 epoch\n",
    "STEP_SIZE_TEST = test_generator.n//test_generator.batch_size"
   ]
  },
  {
   "cell_type": "code",
   "execution_count": 30,
   "id": "blocked-niagara",
   "metadata": {
    "colab": {
     "base_uri": "https://localhost:8080/"
    },
    "execution": {
     "iopub.execute_input": "2021-05-30T20:26:34.994605Z",
     "iopub.status.busy": "2021-05-30T20:26:34.994000Z",
     "iopub.status.idle": "2021-05-30T20:26:56.340759Z",
     "shell.execute_reply": "2021-05-30T20:26:56.341118Z",
     "shell.execute_reply.started": "2021-05-27T05:51:39.116529Z"
    },
    "id": "blocked-niagara",
    "outputId": "e8ed2e21-e61a-40ca-9976-0c87f7f7e9fa",
    "papermill": {
     "duration": 24.791614,
     "end_time": "2021-05-30T20:26:56.341303",
     "exception": false,
     "start_time": "2021-05-30T20:26:31.549689",
     "status": "completed"
    },
    "tags": []
   },
   "outputs": [
    {
     "name": "stdout",
     "output_type": "stream",
     "text": [
      "1958/1958 [==============================] - 14s 7ms/step\n"
     ]
    },
    {
     "data": {
      "text/plain": [
       "0    769\n",
       "2    520\n",
       "1    353\n",
       "3    257\n",
       "4     59\n",
       "Name: label, dtype: int64"
      ]
     },
     "execution_count": 30,
     "metadata": {},
     "output_type": "execute_result"
    }
   ],
   "source": [
    "# make prediction and create dataframe out of it\n",
    "pred = pic_model.predict(test_generator,steps=STEP_SIZE_TEST,verbose=1)\n",
    "df_submit = pd.DataFrame({\"label\":np.argmax(pred, axis= 1)})\n",
    "df_submit[\"label\"].value_counts()"
   ]
  },
  {
   "cell_type": "markdown",
   "id": "portable-yacht",
   "metadata": {
    "id": "portable-yacht",
    "papermill": {
     "duration": 3.504245,
     "end_time": "2021-05-30T20:27:18.913681",
     "exception": false,
     "start_time": "2021-05-30T20:27:15.409436",
     "status": "completed"
    },
    "tags": []
   },
   "source": [
    "# 최적의 가중치 및 출력 예측 파일 저장"
   ]
  },
  {
   "cell_type": "code",
   "execution_count": 31,
   "id": "liquid-tsunami",
   "metadata": {
    "execution": {
     "iopub.execute_input": "2021-05-30T20:27:26.290338Z",
     "iopub.status.busy": "2021-05-30T20:27:26.289493Z",
     "iopub.status.idle": "2021-05-30T20:27:26.809425Z",
     "shell.execute_reply": "2021-05-30T20:27:26.808879Z",
     "shell.execute_reply.started": "2021-05-27T05:51:46.57395Z"
    },
    "id": "liquid-tsunami",
    "papermill": {
     "duration": 4.073647,
     "end_time": "2021-05-30T20:27:26.809566",
     "exception": false,
     "start_time": "2021-05-30T20:27:22.735919",
     "status": "completed"
    },
    "tags": []
   },
   "outputs": [],
   "source": [
    "pic_model.save_weights(name+\"_BS\"+str(batch_size)+\"_EP\"+str(train_epoch)+\"_IS\"+str(image_size)+\"_LP\"+str(LP)+\".h5\")"
   ]
  },
  {
   "cell_type": "code",
   "execution_count": 32,
   "id": "f5096208",
   "metadata": {},
   "outputs": [
    {
     "name": "stdout",
     "output_type": "stream",
     "text": [
      "C:\\Users\\ngkim\\Downloads\\MDL\\TermProject_중간보고\\result\n"
     ]
    }
   ],
   "source": [
    "cd C:\\\\Users\\\\ngkim\\\\Downloads\\\\MDL\\\\TermProject_중간보고\\\\result"
   ]
  },
  {
   "cell_type": "code",
   "execution_count": 33,
   "id": "d4ee1c64",
   "metadata": {},
   "outputs": [],
   "source": [
    "df_submit.to_csv(name+\"_BS\"+str(batch_size)+\"_EP\"+str(train_epoch)+\"_IS\"+str(image_size)+\"_LP\"+str(LP)+\".csv\",index = False)"
   ]
  },
  {
   "cell_type": "markdown",
   "id": "sustainable-baptist",
   "metadata": {
    "id": "sustainable-baptist",
    "papermill": {
     "duration": 3.563445,
     "end_time": "2021-05-30T20:27:34.549379",
     "exception": false,
     "start_time": "2021-05-30T20:27:30.985934",
     "status": "completed"
    },
    "tags": []
   },
   "source": [
    "**Suggestion to improve the score**\n",
    "* Using right data augmentations\n",
    "* Using different model architecture\n",
    "* Ensembling and stacking\n",
    "* Using pretrained model trained on xray images\n",
    "\n",
    "**점수 향상을 위한 제안*\n",
    "* 올바른 데이터 확대 사용\n",
    "* 다른 모델 아키텍처 사용\n",
    "* 조립 및 쌓기\n",
    "* X선 영상에 대해 사전 훈련된 모델 사용\n",
    "\n",
    "## CheXNet - DenseNet121 + Sigmoid\n",
    "https://github.com/arnoweng/CheXNet/blob/master/model.py"
   ]
  }
 ],
 "metadata": {
  "accelerator": "GPU",
  "colab": {
   "collapsed_sections": [],
   "include_colab_link": true,
   "machine_shape": "hm",
   "name": "KLGrade-DenseNet121-91.83.ipynb",
   "provenance": []
  },
  "kernelspec": {
   "display_name": "Python 3",
   "language": "python",
   "name": "python3"
  },
  "language_info": {
   "codemirror_mode": {
    "name": "ipython",
    "version": 3
   },
   "file_extension": ".py",
   "mimetype": "text/x-python",
   "name": "python",
   "nbconvert_exporter": "python",
   "pygments_lexer": "ipython3",
   "version": "3.8.8"
  },
  "papermill": {
   "default_parameters": {},
   "duration": 6499.620651,
   "end_time": "2021-05-30T20:27:40.898205",
   "environment_variables": {},
   "exception": null,
   "input_path": "__notebook__.ipynb",
   "output_path": "__notebook__.ipynb",
   "parameters": {},
   "start_time": "2021-05-30T18:39:21.277554",
   "version": "2.3.3"
  }
 },
 "nbformat": 4,
 "nbformat_minor": 5
}
