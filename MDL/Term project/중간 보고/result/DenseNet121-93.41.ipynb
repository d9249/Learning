{
  "nbformat": 4,
  "nbformat_minor": 5,
  "metadata": {
    "kernelspec": {
      "display_name": "Python 3",
      "language": "python",
      "name": "python3"
    },
    "language_info": {
      "codemirror_mode": {
        "name": "ipython",
        "version": 3
      },
      "file_extension": ".py",
      "mimetype": "text/x-python",
      "name": "python",
      "nbconvert_exporter": "python",
      "pygments_lexer": "ipython3",
      "version": "3.7.10"
    },
    "papermill": {
      "default_parameters": {},
      "duration": 6499.620651,
      "end_time": "2021-05-30T20:27:40.898205",
      "environment_variables": {},
      "exception": null,
      "input_path": "__notebook__.ipynb",
      "output_path": "__notebook__.ipynb",
      "parameters": {},
      "start_time": "2021-05-30T18:39:21.277554",
      "version": "2.3.3"
    },
    "colab": {
      "name": "KLGrade-DenseNet121-93.41.ipynb",
      "provenance": [],
      "collapsed_sections": [],
      "machine_shape": "hm",
      "include_colab_link": true
    },
    "accelerator": "GPU"
  },
  "cells": [
    {
      "cell_type": "markdown",
      "metadata": {
        "id": "view-in-github",
        "colab_type": "text"
      },
      "source": [
        "<a href=\"https://colab.research.google.com/github/d9249/MDL/blob/main/KLGrade_DenseNet121-93.41.ipynb\" target=\"_parent\"><img src=\"https://colab.research.google.com/assets/colab-badge.svg\" alt=\"Open In Colab\"/></a>"
      ]
    },
    {
      "cell_type": "code",
      "metadata": {
        "colab": {
          "base_uri": "https://localhost:8080/"
        },
        "id": "ts26D3gLnyLd",
        "outputId": "f4f6fa8d-223f-4028-b18f-b8da4113b6d3"
      },
      "source": [
        "!nvidia-smi"
      ],
      "id": "ts26D3gLnyLd",
      "execution_count": 1,
      "outputs": [
        {
          "output_type": "stream",
          "name": "stdout",
          "text": [
            "Fri Oct 29 21:50:58 2021       \n",
            "+-----------------------------------------------------------------------------+\n",
            "| NVIDIA-SMI 495.29.05    Driver Version: 460.32.03    CUDA Version: 11.2     |\n",
            "|-------------------------------+----------------------+----------------------+\n",
            "| GPU  Name        Persistence-M| Bus-Id        Disp.A | Volatile Uncorr. ECC |\n",
            "| Fan  Temp  Perf  Pwr:Usage/Cap|         Memory-Usage | GPU-Util  Compute M. |\n",
            "|                               |                      |               MIG M. |\n",
            "|===============================+======================+======================|\n",
            "|   0  Tesla P100-PCIE...  Off  | 00000000:00:04.0 Off |                    0 |\n",
            "| N/A   37C    P0    27W / 250W |      0MiB / 16280MiB |      0%      Default |\n",
            "|                               |                      |                  N/A |\n",
            "+-------------------------------+----------------------+----------------------+\n",
            "                                                                               \n",
            "+-----------------------------------------------------------------------------+\n",
            "| Processes:                                                                  |\n",
            "|  GPU   GI   CI        PID   Type   Process name                  GPU Memory |\n",
            "|        ID   ID                                                   Usage      |\n",
            "|=============================================================================|\n",
            "|  No running processes found                                                 |\n",
            "+-----------------------------------------------------------------------------+\n"
          ]
        }
      ]
    },
    {
      "cell_type": "code",
      "metadata": {
        "colab": {
          "base_uri": "https://localhost:8080/"
        },
        "id": "DvQM0syKoGaw",
        "outputId": "34af5e54-e12a-4730-f712-2411b60408c3"
      },
      "source": [
        "from google.colab import drive\n",
        "drive.mount('/content/drive')"
      ],
      "id": "DvQM0syKoGaw",
      "execution_count": 2,
      "outputs": [
        {
          "output_type": "stream",
          "name": "stdout",
          "text": [
            "Mounted at /content/drive\n"
          ]
        }
      ]
    },
    {
      "cell_type": "markdown",
      "metadata": {
        "id": "decreased-picnic",
        "papermill": {
          "duration": 0.028073,
          "end_time": "2021-05-30T18:39:27.966668",
          "exception": false,
          "start_time": "2021-05-30T18:39:27.938595",
          "status": "completed"
        },
        "tags": []
      },
      "source": [
        "### Short description\n",
        "This notebook is a part of [Data Sprint #35: Osteoarthritis Knee X-ray](https://dphi.tech/challenges/data-sprint-35-osteoarthritis-knee-x-ray/81/leaderboard/datathon/) challenge hosted on [dphi.tech](https://dphi.tech/)"
      ],
      "id": "decreased-picnic"
    },
    {
      "cell_type": "markdown",
      "metadata": {
        "papermill": {
          "duration": 0.026241,
          "end_time": "2021-05-30T18:39:28.019714",
          "exception": false,
          "start_time": "2021-05-30T18:39:27.993473",
          "status": "completed"
        },
        "tags": [],
        "id": "million-monaco"
      },
      "source": [
        "## Importing dependencies\n",
        "\n",
        "## 종속성을 가져오는 중 "
      ],
      "id": "million-monaco"
    },
    {
      "cell_type": "code",
      "metadata": {
        "execution": {
          "iopub.execute_input": "2021-05-30T18:39:28.086573Z",
          "iopub.status.busy": "2021-05-30T18:39:28.085923Z",
          "iopub.status.idle": "2021-05-30T18:39:32.847126Z",
          "shell.execute_reply": "2021-05-30T18:39:32.846068Z",
          "shell.execute_reply.started": "2021-05-30T09:28:36.967323Z"
        },
        "id": "floating-cincinnati",
        "papermill": {
          "duration": 4.80129,
          "end_time": "2021-05-30T18:39:32.847355",
          "exception": false,
          "start_time": "2021-05-30T18:39:28.046065",
          "status": "completed"
        },
        "tags": []
      },
      "source": [
        "%matplotlib inline\n",
        "import numpy as np \n",
        "import pandas as pd\n",
        "import os\n",
        "from glob import glob\n",
        "import matplotlib.pyplot as plt\n",
        "from keras_preprocessing.image import ImageDataGenerator\n",
        "from tensorflow.keras.applications import Xception\n",
        "from tensorflow.keras.layers import GlobalAveragePooling2D\n",
        "import tensorflow as tf\n",
        "from tensorflow.keras.callbacks import ModelCheckpoint, EarlyStopping, ReduceLROnPlateau\n",
        "from keras.models import Model"
      ],
      "id": "floating-cincinnati",
      "execution_count": 3,
      "outputs": []
    },
    {
      "cell_type": "markdown",
      "metadata": {
        "id": "express-discipline",
        "papermill": {
          "duration": 0.026573,
          "end_time": "2021-05-30T18:39:32.900510",
          "exception": false,
          "start_time": "2021-05-30T18:39:32.873937",
          "status": "completed"
        },
        "tags": []
      },
      "source": [
        "# Basic Idea\n",
        "The Basic idea is to use external data present in kaggle here: [Kaggle: Knee Osteoarthritis Dataset with KL Grading - 2018](https://www.kaggle.com/tommyngx/kneeoa)\n",
        "\n",
        "As we have labels for train, validation and test, we will combine all splits into one and test it on dataset provided by the compitition team, this will make sure kaggle dataset and compitition dataset has same data distribution.\n",
        "\n",
        "If train(kaggle dataset) and test (compition dataset) data has same distribution then their metric score should be roughy be the same (accuracy score in our case).\n",
        "\n",
        "# 기본 아이디어\n",
        "기본 아이디어는 여기 카글에 있는 외부 데이터를 사용하는 것이다. [Kaggle: KL Grading이 있는 무릎 골관절염 데이터 세트 - 2018](https://www.kaggle.com/tommyngx/kneeoa)\n",
        "\n",
        "교육, 검증 및 테스트를 위한 레이블이 있으므로 모든 분할을 하나로 결합하고 구성 팀에서 제공하는 데이터 세트에서 테스트합니다. 이렇게 하면 Kaggle 데이터 세트와 구성 데이터 세트가 동일한 데이터 분포를 갖출 수 있습니다.\n",
        "\n",
        "열차(카글 데이터 세트)와 테스트(컴포지션 데이터 세트) 데이터의 분포가 동일하면 메트릭 점수가 대략 같아야 한다(우리의 경우 정확도 점수)."
      ],
      "id": "express-discipline"
    },
    {
      "cell_type": "markdown",
      "metadata": {
        "papermill": {
          "duration": 0.025647,
          "end_time": "2021-05-30T18:39:32.952047",
          "exception": false,
          "start_time": "2021-05-30T18:39:32.926400",
          "status": "completed"
        },
        "tags": [],
        "id": "rotary-prague"
      },
      "source": [
        "# Read And Combining train dataset (kaggle dataset)\n",
        "\n",
        "# 열차 데이터 세트 읽기 및 결합 (Kaggle 데이터 세트)"
      ],
      "id": "rotary-prague"
    },
    {
      "cell_type": "code",
      "metadata": {
        "id": "FJJHQpPrpYcy"
      },
      "source": [
        "!unzip -q -o '/content/drive/MyDrive/ClsKLData.zip' -d '/content/grade/'"
      ],
      "id": "FJJHQpPrpYcy",
      "execution_count": 6,
      "outputs": []
    },
    {
      "cell_type": "code",
      "metadata": {
        "execution": {
          "iopub.execute_input": "2021-05-30T18:39:33.012157Z",
          "iopub.status.busy": "2021-05-30T18:39:33.011596Z",
          "iopub.status.idle": "2021-05-30T18:39:35.556063Z",
          "shell.execute_reply": "2021-05-30T18:39:35.555555Z",
          "shell.execute_reply.started": "2021-05-30T09:28:38.947982Z"
        },
        "id": "emotional-valuable",
        "papermill": {
          "duration": 2.57776,
          "end_time": "2021-05-30T18:39:35.556225",
          "exception": false,
          "start_time": "2021-05-30T18:39:32.978465",
          "status": "completed"
        },
        "tags": []
      },
      "source": [
        "# number of class\n",
        "n_class = 5\n",
        "\n",
        "# path to kaggle dataset\n",
        "root_path = \"/content/grade/kneeKL224/\"\n",
        "\n",
        "# list of folders\n",
        "folder_list = os.listdir(root_path)\n",
        "image_path_list = []\n",
        "label_list = []\n",
        "\n",
        "# for each folder, get the image path and labels\n",
        "for folder in folder_list:\n",
        "    for label in range(n_class):\n",
        "        \n",
        "        # get all the images path inside the current folder\n",
        "        image_list = os.listdir(f\"{root_path}{folder}/{label}\")\n",
        "        # add to the image path list\n",
        "        image_path_list += [ f\"{root_path}{folder}/{label}/\"+ path for path in image_list]\n",
        "        \n",
        "        # add labels to the label list\n",
        "        label_list += [label] * len(image_list)\n",
        "\n",
        "# convert to dataframe\n",
        "df_train_kaggle = pd.DataFrame({\"filepath\" : image_path_list, \"label\": label_list})"
      ],
      "id": "emotional-valuable",
      "execution_count": 8,
      "outputs": []
    },
    {
      "cell_type": "code",
      "metadata": {
        "execution": {
          "iopub.execute_input": "2021-05-30T18:39:35.618734Z",
          "iopub.status.busy": "2021-05-30T18:39:35.617931Z",
          "iopub.status.idle": "2021-05-30T18:39:35.621117Z",
          "shell.execute_reply": "2021-05-30T18:39:35.621576Z",
          "shell.execute_reply.started": "2021-05-30T09:28:40.244589Z"
        },
        "papermill": {
          "duration": 0.03629,
          "end_time": "2021-05-30T18:39:35.621716",
          "exception": false,
          "start_time": "2021-05-30T18:39:35.585426",
          "status": "completed"
        },
        "tags": [],
        "colab": {
          "base_uri": "https://localhost:8080/"
        },
        "id": "signal-responsibility",
        "outputId": "9be7a788-1c7a-498d-a3e9-7b2c5e8455ab"
      },
      "source": [
        "df_train_kaggle.shape"
      ],
      "id": "signal-responsibility",
      "execution_count": 9,
      "outputs": [
        {
          "output_type": "execute_result",
          "data": {
            "text/plain": [
              "(9786, 2)"
            ]
          },
          "metadata": {},
          "execution_count": 9
        }
      ]
    },
    {
      "cell_type": "markdown",
      "metadata": {
        "papermill": {
          "duration": 0.030406,
          "end_time": "2021-05-30T18:39:35.680660",
          "exception": false,
          "start_time": "2021-05-30T18:39:35.650254",
          "status": "completed"
        },
        "tags": [],
        "id": "hairy-greene"
      },
      "source": [
        "### Observation\n",
        "we have total of 9786 images in kaggle dataset. We will use data to train the deep learning model\n",
        "# Lets look at class distribution\n",
        "\n",
        "## 관찰\n",
        "우리는 카글 데이터 세트에 총 9786개의 이미지를 가지고 있다. 우리는 딥 러닝 모델을 훈련시키기 위해 데이터를 사용할 것이다.\n",
        "# 학급분포를 살펴보자"
      ],
      "id": "hairy-greene"
    },
    {
      "cell_type": "code",
      "metadata": {
        "execution": {
          "iopub.execute_input": "2021-05-30T18:39:35.750000Z",
          "iopub.status.busy": "2021-05-30T18:39:35.749277Z",
          "iopub.status.idle": "2021-05-30T18:39:35.918362Z",
          "shell.execute_reply": "2021-05-30T18:39:35.918766Z",
          "shell.execute_reply.started": "2021-05-30T09:28:41.597346Z"
        },
        "papermill": {
          "duration": 0.208649,
          "end_time": "2021-05-30T18:39:35.918905",
          "exception": false,
          "start_time": "2021-05-30T18:39:35.710256",
          "status": "completed"
        },
        "tags": [],
        "colab": {
          "base_uri": "https://localhost:8080/",
          "height": 295
        },
        "id": "therapeutic-spending",
        "outputId": "0e179822-cb9f-4a56-b0c3-1f99705e882b"
      },
      "source": [
        "df_train_kaggle.label.value_counts().plot.bar()\n",
        "plt.xlabel(\"label\")\n",
        "plt.ylabel(\"count\")"
      ],
      "id": "therapeutic-spending",
      "execution_count": 10,
      "outputs": [
        {
          "output_type": "execute_result",
          "data": {
            "text/plain": [
              "Text(0, 0.5, 'count')"
            ]
          },
          "metadata": {},
          "execution_count": 10
        },
        {
          "output_type": "display_data",
          "data": {
            "image/png": "[encoded data removed]",
            "text/plain": [
              "<Figure size 432x288 with 1 Axes>"
            ]
          },
          "metadata": {
            "needs_background": "light"
          }
        }
      ]
    },
    {
      "cell_type": "markdown",
      "metadata": {
        "papermill": {
          "duration": 0.027966,
          "end_time": "2021-05-30T18:39:35.973791",
          "exception": false,
          "start_time": "2021-05-30T18:39:35.945825",
          "status": "completed"
        },
        "tags": [],
        "id": "cognitive-calendar"
      },
      "source": [
        "### Observation\n",
        "As our dataset is imbalanced, we will balance our class by weighting majority class less and minoiry class more\n",
        "\n",
        "## 관찰\n",
        "데이터 세트가 불균형적이므로 다수 클래스는 덜 가중치 부여하고 소수 클래스는 더 가중치를 부여하여 클래스 균형을 맞출 것이다."
      ],
      "id": "cognitive-calendar"
    },
    {
      "cell_type": "markdown",
      "metadata": {
        "id": "dense-enzyme",
        "papermill": {
          "duration": 0.028255,
          "end_time": "2021-05-30T18:39:36.030250",
          "exception": false,
          "start_time": "2021-05-30T18:39:36.001995",
          "status": "completed"
        },
        "tags": []
      },
      "source": [
        "## DataGenerator train and validation\n",
        "We will use kaggle dataset as train set and compitition dataset as validation set. If train and validation metric is similar, it shows their distribution is similar and hence we can use kaggle dataset as well.\n",
        "\n",
        "# 데이터 생성기 교육 및 검증\n",
        "우리는 캐글 데이터 세트를 열차 세트로, 컴포지션 데이터 세트를 검증 세트로 사용할 것이다. 열차와 검증 메트릭이 유사한 경우 분포가 유사함을 보여주므로 캐글 데이터 세트도 사용할 수 있다."
      ],
      "id": "dense-enzyme"
    },
    {
      "cell_type": "code",
      "metadata": {
        "execution": {
          "iopub.execute_input": "2021-05-30T18:39:36.090553Z",
          "iopub.status.busy": "2021-05-30T18:39:36.089729Z",
          "iopub.status.idle": "2021-05-30T18:39:36.092340Z",
          "shell.execute_reply": "2021-05-30T18:39:36.091828Z",
          "shell.execute_reply.started": "2021-05-30T09:28:44.189248Z"
        },
        "id": "encouraging-novel",
        "papermill": {
          "duration": 0.035021,
          "end_time": "2021-05-30T18:39:36.092447",
          "exception": false,
          "start_time": "2021-05-30T18:39:36.057426",
          "status": "completed"
        },
        "tags": []
      },
      "source": [
        "# train data generator object\n",
        "train_aug = ImageDataGenerator(\n",
        "    rescale=1./255\n",
        "  )\n",
        "\n",
        "# validation data generator object\n",
        "valid_aug = ImageDataGenerator(\n",
        "    rescale=1./255\n",
        "  )"
      ],
      "id": "encouraging-novel",
      "execution_count": 11,
      "outputs": []
    },
    {
      "cell_type": "code",
      "metadata": {
        "execution": {
          "iopub.execute_input": "2021-05-30T18:39:36.172890Z",
          "iopub.status.busy": "2021-05-30T18:39:36.167698Z",
          "iopub.status.idle": "2021-05-30T18:39:39.954054Z",
          "shell.execute_reply": "2021-05-30T18:39:39.954888Z",
          "shell.execute_reply.started": "2021-05-30T09:28:47.478488Z"
        },
        "id": "geological-philadelphia",
        "papermill": {
          "duration": 3.835127,
          "end_time": "2021-05-30T18:39:39.955083",
          "exception": false,
          "start_time": "2021-05-30T18:39:36.119956",
          "status": "completed"
        },
        "tags": [],
        "colab": {
          "base_uri": "https://localhost:8080/"
        },
        "outputId": "358f5e4e-a7b9-4d32-d0be-5a08a4e27ace"
      },
      "source": [
        "# create train generator\n",
        "train_generator = train_aug.flow_from_dataframe(\n",
        "    dataframe=df_train_kaggle,\n",
        "    directory=None,\n",
        "    x_col=\"filepath\",\n",
        "    y_col=\"label\",\n",
        "    batch_size=32,\n",
        "    seed=42,\n",
        "    shuffle=True,\n",
        "    class_mode=\"raw\",\n",
        "    target_size=(224,224)\n",
        "  )"
      ],
      "id": "geological-philadelphia",
      "execution_count": 12,
      "outputs": [
        {
          "output_type": "stream",
          "name": "stdout",
          "text": [
            "Found 9786 validated image filenames.\n"
          ]
        }
      ]
    },
    {
      "cell_type": "markdown",
      "metadata": {
        "papermill": {
          "duration": 0.027295,
          "end_time": "2021-05-30T18:39:40.011354",
          "exception": false,
          "start_time": "2021-05-30T18:39:39.984059",
          "status": "completed"
        },
        "tags": [],
        "id": "asian-chest"
      },
      "source": [
        "# Create validation dataframe using compitition dataset.\n",
        "We will download compition dataset from gdrive and use it as validation set to validated against kaggle dataset\n",
        "\n",
        "# composition dataset을 이용하여 검증 데이터 프레임을 생성합니다.\n",
        "gdrive에서 컴포지션 데이터 세트를 다운로드하여 Kaggle 데이터 세트에 대해 검증된 검증 세트로 사용할 것입니다."
      ],
      "id": "asian-chest"
    },
    {
      "cell_type": "code",
      "metadata": {
        "execution": {
          "iopub.execute_input": "2021-05-30T18:39:40.083024Z",
          "iopub.status.busy": "2021-05-30T18:39:40.070866Z",
          "iopub.status.idle": "2021-05-30T18:39:59.971445Z",
          "shell.execute_reply": "2021-05-30T18:39:59.970929Z",
          "shell.execute_reply.started": "2021-05-30T08:33:03.440635Z"
        },
        "papermill": {
          "duration": 19.932071,
          "end_time": "2021-05-30T18:39:59.971577",
          "exception": false,
          "start_time": "2021-05-30T18:39:40.039506",
          "status": "completed"
        },
        "tags": [],
        "colab": {
          "base_uri": "https://localhost:8080/"
        },
        "id": "opening-there",
        "outputId": "72cebcb2-17b3-4ee2-a2c0-94a96edcb0c6"
      },
      "source": [
        "# download data from shared google drive link\n",
        "!pip install gdown\n",
        "!gdown --id \"1NdDqPK4NLn2aV8ZdF5ilux1sfG6IyebC\""
      ],
      "id": "opening-there",
      "execution_count": 13,
      "outputs": [
        {
          "output_type": "stream",
          "name": "stdout",
          "text": [
            "Requirement already satisfied: gdown in /usr/local/lib/python3.7/dist-packages (3.6.4)\n",
            "Requirement already satisfied: six in /usr/local/lib/python3.7/dist-packages (from gdown) (1.15.0)\n",
            "Requirement already satisfied: requests in /usr/local/lib/python3.7/dist-packages (from gdown) (2.23.0)\n",
            "Requirement already satisfied: tqdm in /usr/local/lib/python3.7/dist-packages (from gdown) (4.62.3)\n",
            "Requirement already satisfied: urllib3!=1.25.0,!=1.25.1,<1.26,>=1.21.1 in /usr/local/lib/python3.7/dist-packages (from requests->gdown) (1.24.3)\n",
            "Requirement already satisfied: certifi>=2017.4.17 in /usr/local/lib/python3.7/dist-packages (from requests->gdown) (2021.5.30)\n",
            "Requirement already satisfied: chardet<4,>=3.0.2 in /usr/local/lib/python3.7/dist-packages (from requests->gdown) (3.0.4)\n",
            "Requirement already satisfied: idna<3,>=2.5 in /usr/local/lib/python3.7/dist-packages (from requests->gdown) (2.10)\n",
            "Downloading...\n",
            "From: https://drive.google.com/uc?id=1NdDqPK4NLn2aV8ZdF5ilux1sfG6IyebC\n",
            "To: /content/KneeXray.zip\n",
            "100% 120M/120M [00:01<00:00, 98.4MB/s]\n"
          ]
        }
      ]
    },
    {
      "cell_type": "code",
      "metadata": {
        "execution": {
          "iopub.execute_input": "2021-05-30T18:40:00.065743Z",
          "iopub.status.busy": "2021-05-30T18:40:00.063845Z",
          "iopub.status.idle": "2021-05-30T18:40:02.157906Z",
          "shell.execute_reply": "2021-05-30T18:40:02.157449Z",
          "shell.execute_reply.started": "2021-05-30T08:33:21.245827Z"
        },
        "papermill": {
          "duration": 2.152312,
          "end_time": "2021-05-30T18:40:02.158032",
          "exception": false,
          "start_time": "2021-05-30T18:40:00.005720",
          "status": "completed"
        },
        "tags": [],
        "id": "controlled-macedonia"
      },
      "source": [
        "# unzip the data\n",
        "!unzip -q -o /content/KneeXray.zip"
      ],
      "id": "controlled-macedonia",
      "execution_count": 14,
      "outputs": []
    },
    {
      "cell_type": "code",
      "metadata": {
        "execution": {
          "iopub.execute_input": "2021-05-30T18:40:02.229132Z",
          "iopub.status.busy": "2021-05-30T18:40:02.228400Z",
          "iopub.status.idle": "2021-05-30T18:40:02.250117Z",
          "shell.execute_reply": "2021-05-30T18:40:02.250642Z",
          "shell.execute_reply.started": "2021-05-30T08:33:23.833280Z"
        },
        "papermill": {
          "duration": 0.059732,
          "end_time": "2021-05-30T18:40:02.250775",
          "exception": false,
          "start_time": "2021-05-30T18:40:02.191043",
          "status": "completed"
        },
        "tags": [],
        "colab": {
          "base_uri": "https://localhost:8080/",
          "height": 204
        },
        "id": "threaded-characterization",
        "outputId": "283093ce-0819-4542-9ff8-555713912e62"
      },
      "source": [
        "# read Train.csv file which contains image names and labels and preprocess them\n",
        "compi_root_path= \"/content/KneeXray/\"\n",
        "df_val_compi = pd.read_csv(compi_root_path + \"Train.csv\")\n",
        "\n",
        "# add absolute path to the image names\n",
        "df_val_compi[\"filename\"] = df_val_compi.filename.apply(lambda x: compi_root_path+\"train/\" + x)\n",
        "df_val_compi.head()"
      ],
      "id": "threaded-characterization",
      "execution_count": 15,
      "outputs": [
        {
          "output_type": "execute_result",
          "data": {
            "text/html": [
              "<div>\n",
              "<style scoped>\n",
              "    .dataframe tbody tr th:only-of-type {\n",
              "        vertical-align: middle;\n",
              "    }\n",
              "\n",
              "    .dataframe tbody tr th {\n",
              "        vertical-align: top;\n",
              "    }\n",
              "\n",
              "    .dataframe thead th {\n",
              "        text-align: right;\n",
              "    }\n",
              "</style>\n",
              "<table border=\"1\" class=\"dataframe\">\n",
              "  <thead>\n",
              "    <tr style=\"text-align: right;\">\n",
              "      <th></th>\n",
              "      <th>filename</th>\n",
              "      <th>label</th>\n",
              "    </tr>\n",
              "  </thead>\n",
              "  <tbody>\n",
              "    <tr>\n",
              "      <th>0</th>\n",
              "      <td>/content/KneeXray/train/Image_1.jpg</td>\n",
              "      <td>0</td>\n",
              "    </tr>\n",
              "    <tr>\n",
              "      <th>1</th>\n",
              "      <td>/content/KneeXray/train/Image_2.jpg</td>\n",
              "      <td>1</td>\n",
              "    </tr>\n",
              "    <tr>\n",
              "      <th>2</th>\n",
              "      <td>/content/KneeXray/train/Image_3.jpg</td>\n",
              "      <td>0</td>\n",
              "    </tr>\n",
              "    <tr>\n",
              "      <th>3</th>\n",
              "      <td>/content/KneeXray/train/Image_4.jpg</td>\n",
              "      <td>1</td>\n",
              "    </tr>\n",
              "    <tr>\n",
              "      <th>4</th>\n",
              "      <td>/content/KneeXray/train/Image_5.jpg</td>\n",
              "      <td>2</td>\n",
              "    </tr>\n",
              "  </tbody>\n",
              "</table>\n",
              "</div>"
            ],
            "text/plain": [
              "                              filename  label\n",
              "0  /content/KneeXray/train/Image_1.jpg      0\n",
              "1  /content/KneeXray/train/Image_2.jpg      1\n",
              "2  /content/KneeXray/train/Image_3.jpg      0\n",
              "3  /content/KneeXray/train/Image_4.jpg      1\n",
              "4  /content/KneeXray/train/Image_5.jpg      2"
            ]
          },
          "metadata": {},
          "execution_count": 15
        }
      ]
    },
    {
      "cell_type": "code",
      "metadata": {
        "execution": {
          "iopub.execute_input": "2021-05-30T18:40:02.339459Z",
          "iopub.status.busy": "2021-05-30T18:40:02.324109Z",
          "iopub.status.idle": "2021-05-30T18:40:02.442504Z",
          "shell.execute_reply": "2021-05-30T18:40:02.442056Z",
          "shell.execute_reply.started": "2021-05-30T08:33:23.865039Z"
        },
        "papermill": {
          "duration": 0.158988,
          "end_time": "2021-05-30T18:40:02.442618",
          "exception": false,
          "start_time": "2021-05-30T18:40:02.283630",
          "status": "completed"
        },
        "tags": [],
        "colab": {
          "base_uri": "https://localhost:8080/",
          "height": 294
        },
        "id": "suburban-shareware",
        "outputId": "8fb91f05-54a6-4bc7-d95f-68ea55748335"
      },
      "source": [
        "# class count of compitition dataset\n",
        "df_val_compi.label.value_counts().plot.bar()\n",
        "plt.xlabel(\"label\")\n",
        "plt.ylabel(\"count\")"
      ],
      "id": "suburban-shareware",
      "execution_count": 16,
      "outputs": [
        {
          "output_type": "execute_result",
          "data": {
            "text/plain": [
              "Text(0, 0.5, 'count')"
            ]
          },
          "metadata": {},
          "execution_count": 16
        },
        {
          "output_type": "display_data",
          "data": {
            "image/png": "[encoded data removed]",
            "text/plain": [
              "<Figure size 432x288 with 1 Axes>"
            ]
          },
          "metadata": {
            "needs_background": "light"
          }
        }
      ]
    },
    {
      "cell_type": "code",
      "metadata": {
        "execution": {
          "iopub.execute_input": "2021-05-30T18:40:02.529039Z",
          "iopub.status.busy": "2021-05-30T18:40:02.528305Z",
          "iopub.status.idle": "2021-05-30T18:40:02.574290Z",
          "shell.execute_reply": "2021-05-30T18:40:02.574903Z",
          "shell.execute_reply.started": "2021-05-30T08:54:21.600981Z"
        },
        "id": "saving-homework",
        "papermill": {
          "duration": 0.098388,
          "end_time": "2021-05-30T18:40:02.575081",
          "exception": false,
          "start_time": "2021-05-30T18:40:02.476693",
          "status": "completed"
        },
        "tags": [],
        "colab": {
          "base_uri": "https://localhost:8080/"
        },
        "outputId": "178977a9-4413-4d38-b7f0-de8a9904b0e0"
      },
      "source": [
        "# create validation generator\n",
        "valid_generator = valid_aug.flow_from_dataframe( \n",
        "    dataframe= df_val_compi,\n",
        "    x_col= \"filename\",\n",
        "    y_col= \"label\",\n",
        "    batch_size= 32,\n",
        "    seed= 42,\n",
        "    shuffle= True,\n",
        "    class_mode= \"raw\",\n",
        "    target_size= (224,224)\n",
        "  )"
      ],
      "id": "saving-homework",
      "execution_count": 17,
      "outputs": [
        {
          "output_type": "stream",
          "name": "stdout",
          "text": [
            "Found 7828 validated image filenames.\n"
          ]
        }
      ]
    },
    {
      "cell_type": "markdown",
      "metadata": {
        "id": "marked-belarus",
        "papermill": {
          "duration": 0.033792,
          "end_time": "2021-05-30T18:40:02.643887",
          "exception": false,
          "start_time": "2021-05-30T18:40:02.610095",
          "status": "completed"
        },
        "tags": []
      },
      "source": [
        "### Model Architecture\n",
        "Here we will be using Xception by google. (I encourage you to try different architectures)\n",
        "\n",
        "## 모델 아키텍처\n",
        "여기서는 구글의 Xception을 사용할 것입니다. (다양한 아키텍처를 사용해 보십시오)\n",
        "\n",
        "## CheXNet - DenseNet121 + Sigmoid\n",
        "https://github.com/arnoweng/CheXNet/blob/master/model.py"
      ],
      "id": "marked-belarus"
    },
    {
      "cell_type": "code",
      "metadata": {
        "execution": {
          "iopub.execute_input": "2021-05-30T18:40:02.724467Z",
          "iopub.status.busy": "2021-05-30T18:40:02.723830Z",
          "iopub.status.idle": "2021-05-30T18:40:08.132744Z",
          "shell.execute_reply": "2021-05-30T18:40:08.131632Z",
          "shell.execute_reply.started": "2021-05-30T09:28:56.068101Z"
        },
        "id": "buried-tablet",
        "papermill": {
          "duration": 5.455093,
          "end_time": "2021-05-30T18:40:08.132878",
          "exception": false,
          "start_time": "2021-05-30T18:40:02.677785",
          "status": "completed"
        },
        "tags": [],
        "colab": {
          "base_uri": "https://localhost:8080/"
        },
        "outputId": "2be7f5dd-25c9-49e7-fce8-f3e1fbe9c6a1"
      },
      "source": [
        "from tensorflow.keras.applications import DenseNet121\n",
        "\n",
        "xception = DenseNet121(weights = \"imagenet\",)\n",
        "x =  xception.layers[-3].output\n",
        "\n",
        "x = tf.keras.layers.Conv2D(filters = 1024, kernel_size = 3, padding = \"same\")(x)\n",
        "x = tf.keras.layers.BatchNormalization()(x)\n",
        "x = tf.keras.layers.Activation(\"relu\")(x)\n",
        "\n",
        "x = tf.keras.layers.Conv2D(filters = 256, kernel_size = 3, padding = \"same\")(x)\n",
        "x = tf.keras.layers.BatchNormalization()(x)\n",
        "x = tf.keras.layers.Activation(\"relu\")(x)\n",
        "\n",
        "x = tf.keras.layers.Conv2D(filters = 64, kernel_size= 3, padding = \"same\")(x)\n",
        "x = tf.keras.layers.BatchNormalization()(x)\n",
        "x = tf.keras.layers.Activation(\"relu\")(x)\n",
        "\n",
        "x = tf.keras.layers.Conv2D(filters = n_class, kernel_size = 3, padding = \"same\")(x)\n",
        "x = tf.keras.layers.BatchNormalization()(x)\n",
        "x = tf.keras.layers.Activation(\"relu\")(x)\n",
        "\n",
        "GAP = tf.keras.layers.GlobalAveragePooling2D()(x)\n",
        "pred = tf.keras.activations.softmax(GAP)\n",
        "\n",
        "xception_model = Model(inputs=xception.input,outputs = pred)"
      ],
      "id": "buried-tablet",
      "execution_count": 24,
      "outputs": [
        {
          "output_type": "stream",
          "name": "stdout",
          "text": [
            "Downloading data from https://storage.googleapis.com/tensorflow/keras-applications/densenet/densenet121_weights_tf_dim_ordering_tf_kernels.h5\n",
            "33193984/33188688 [==============================] - 0s 0us/step\n",
            "33202176/33188688 [==============================] - 0s 0us/step\n"
          ]
        }
      ]
    },
    {
      "cell_type": "code",
      "metadata": {
        "colab": {
          "base_uri": "https://localhost:8080/"
        },
        "id": "DYVqXESmD_Fd",
        "outputId": "88696012-6f00-42ba-d016-645743054fa0"
      },
      "source": [
        "xception_model.summary()"
      ],
      "id": "DYVqXESmD_Fd",
      "execution_count": 25,
      "outputs": [
        {
          "output_type": "stream",
          "name": "stdout",
          "text": [
            "Model: \"model_1\"\n",
            "__________________________________________________________________________________________________\n",
            "Layer (type)                    Output Shape         Param #     Connected to                     \n",
            "==================================================================================================\n",
            "input_2 (InputLayer)            [(None, 224, 224, 3) 0                                            \n",
            "__________________________________________________________________________________________________\n",
            "zero_padding2d (ZeroPadding2D)  (None, 230, 230, 3)  0           input_2[0][0]                    \n",
            "__________________________________________________________________________________________________\n",
            "conv1/conv (Conv2D)             (None, 112, 112, 64) 9408        zero_padding2d[0][0]             \n",
            "__________________________________________________________________________________________________\n",
            "conv1/bn (BatchNormalization)   (None, 112, 112, 64) 256         conv1/conv[0][0]                 \n",
            "__________________________________________________________________________________________________\n",
            "conv1/relu (Activation)         (None, 112, 112, 64) 0           conv1/bn[0][0]                   \n",
            "__________________________________________________________________________________________________\n",
            "zero_padding2d_1 (ZeroPadding2D (None, 114, 114, 64) 0           conv1/relu[0][0]                 \n",
            "__________________________________________________________________________________________________\n",
            "pool1 (MaxPooling2D)            (None, 56, 56, 64)   0           zero_padding2d_1[0][0]           \n",
            "__________________________________________________________________________________________________\n",
            "conv2_block1_0_bn (BatchNormali (None, 56, 56, 64)   256         pool1[0][0]                      \n",
            "__________________________________________________________________________________________________\n",
            "conv2_block1_0_relu (Activation (None, 56, 56, 64)   0           conv2_block1_0_bn[0][0]          \n",
            "__________________________________________________________________________________________________\n",
            "conv2_block1_1_conv (Conv2D)    (None, 56, 56, 128)  8192        conv2_block1_0_relu[0][0]        \n",
            "__________________________________________________________________________________________________\n",
            "conv2_block1_1_bn (BatchNormali (None, 56, 56, 128)  512         conv2_block1_1_conv[0][0]        \n",
            "__________________________________________________________________________________________________\n",
            "conv2_block1_1_relu (Activation (None, 56, 56, 128)  0           conv2_block1_1_bn[0][0]          \n",
            "__________________________________________________________________________________________________\n",
            "conv2_block1_2_conv (Conv2D)    (None, 56, 56, 32)   36864       conv2_block1_1_relu[0][0]        \n",
            "__________________________________________________________________________________________________\n",
            "conv2_block1_concat (Concatenat (None, 56, 56, 96)   0           pool1[0][0]                      \n",
            "                                                                 conv2_block1_2_conv[0][0]        \n",
            "__________________________________________________________________________________________________\n",
            "conv2_block2_0_bn (BatchNormali (None, 56, 56, 96)   384         conv2_block1_concat[0][0]        \n",
            "__________________________________________________________________________________________________\n",
            "conv2_block2_0_relu (Activation (None, 56, 56, 96)   0           conv2_block2_0_bn[0][0]          \n",
            "__________________________________________________________________________________________________\n",
            "conv2_block2_1_conv (Conv2D)    (None, 56, 56, 128)  12288       conv2_block2_0_relu[0][0]        \n",
            "__________________________________________________________________________________________________\n",
            "conv2_block2_1_bn (BatchNormali (None, 56, 56, 128)  512         conv2_block2_1_conv[0][0]        \n",
            "__________________________________________________________________________________________________\n",
            "conv2_block2_1_relu (Activation (None, 56, 56, 128)  0           conv2_block2_1_bn[0][0]          \n",
            "__________________________________________________________________________________________________\n",
            "conv2_block2_2_conv (Conv2D)    (None, 56, 56, 32)   36864       conv2_block2_1_relu[0][0]        \n",
            "__________________________________________________________________________________________________\n",
            "conv2_block2_concat (Concatenat (None, 56, 56, 128)  0           conv2_block1_concat[0][0]        \n",
            "                                                                 conv2_block2_2_conv[0][0]        \n",
            "__________________________________________________________________________________________________\n",
            "conv2_block3_0_bn (BatchNormali (None, 56, 56, 128)  512         conv2_block2_concat[0][0]        \n",
            "__________________________________________________________________________________________________\n",
            "conv2_block3_0_relu (Activation (None, 56, 56, 128)  0           conv2_block3_0_bn[0][0]          \n",
            "__________________________________________________________________________________________________\n",
            "conv2_block3_1_conv (Conv2D)    (None, 56, 56, 128)  16384       conv2_block3_0_relu[0][0]        \n",
            "__________________________________________________________________________________________________\n",
            "conv2_block3_1_bn (BatchNormali (None, 56, 56, 128)  512         conv2_block3_1_conv[0][0]        \n",
            "__________________________________________________________________________________________________\n",
            "conv2_block3_1_relu (Activation (None, 56, 56, 128)  0           conv2_block3_1_bn[0][0]          \n",
            "__________________________________________________________________________________________________\n",
            "conv2_block3_2_conv (Conv2D)    (None, 56, 56, 32)   36864       conv2_block3_1_relu[0][0]        \n",
            "__________________________________________________________________________________________________\n",
            "conv2_block3_concat (Concatenat (None, 56, 56, 160)  0           conv2_block2_concat[0][0]        \n",
            "                                                                 conv2_block3_2_conv[0][0]        \n",
            "__________________________________________________________________________________________________\n",
            "conv2_block4_0_bn (BatchNormali (None, 56, 56, 160)  640         conv2_block3_concat[0][0]        \n",
            "__________________________________________________________________________________________________\n",
            "conv2_block4_0_relu (Activation (None, 56, 56, 160)  0           conv2_block4_0_bn[0][0]          \n",
            "__________________________________________________________________________________________________\n",
            "conv2_block4_1_conv (Conv2D)    (None, 56, 56, 128)  20480       conv2_block4_0_relu[0][0]        \n",
            "__________________________________________________________________________________________________\n",
            "conv2_block4_1_bn (BatchNormali (None, 56, 56, 128)  512         conv2_block4_1_conv[0][0]        \n",
            "__________________________________________________________________________________________________\n",
            "conv2_block4_1_relu (Activation (None, 56, 56, 128)  0           conv2_block4_1_bn[0][0]          \n",
            "__________________________________________________________________________________________________\n",
            "conv2_block4_2_conv (Conv2D)    (None, 56, 56, 32)   36864       conv2_block4_1_relu[0][0]        \n",
            "__________________________________________________________________________________________________\n",
            "conv2_block4_concat (Concatenat (None, 56, 56, 192)  0           conv2_block3_concat[0][0]        \n",
            "                                                                 conv2_block4_2_conv[0][0]        \n",
            "__________________________________________________________________________________________________\n",
            "conv2_block5_0_bn (BatchNormali (None, 56, 56, 192)  768         conv2_block4_concat[0][0]        \n",
            "__________________________________________________________________________________________________\n",
            "conv2_block5_0_relu (Activation (None, 56, 56, 192)  0           conv2_block5_0_bn[0][0]          \n",
            "__________________________________________________________________________________________________\n",
            "conv2_block5_1_conv (Conv2D)    (None, 56, 56, 128)  24576       conv2_block5_0_relu[0][0]        \n",
            "__________________________________________________________________________________________________\n",
            "conv2_block5_1_bn (BatchNormali (None, 56, 56, 128)  512         conv2_block5_1_conv[0][0]        \n",
            "__________________________________________________________________________________________________\n",
            "conv2_block5_1_relu (Activation (None, 56, 56, 128)  0           conv2_block5_1_bn[0][0]          \n",
            "__________________________________________________________________________________________________\n",
            "conv2_block5_2_conv (Conv2D)    (None, 56, 56, 32)   36864       conv2_block5_1_relu[0][0]        \n",
            "__________________________________________________________________________________________________\n",
            "conv2_block5_concat (Concatenat (None, 56, 56, 224)  0           conv2_block4_concat[0][0]        \n",
            "                                                                 conv2_block5_2_conv[0][0]        \n",
            "__________________________________________________________________________________________________\n",
            "conv2_block6_0_bn (BatchNormali (None, 56, 56, 224)  896         conv2_block5_concat[0][0]        \n",
            "__________________________________________________________________________________________________\n",
            "conv2_block6_0_relu (Activation (None, 56, 56, 224)  0           conv2_block6_0_bn[0][0]          \n",
            "__________________________________________________________________________________________________\n",
            "conv2_block6_1_conv (Conv2D)    (None, 56, 56, 128)  28672       conv2_block6_0_relu[0][0]        \n",
            "__________________________________________________________________________________________________\n",
            "conv2_block6_1_bn (BatchNormali (None, 56, 56, 128)  512         conv2_block6_1_conv[0][0]        \n",
            "__________________________________________________________________________________________________\n",
            "conv2_block6_1_relu (Activation (None, 56, 56, 128)  0           conv2_block6_1_bn[0][0]          \n",
            "__________________________________________________________________________________________________\n",
            "conv2_block6_2_conv (Conv2D)    (None, 56, 56, 32)   36864       conv2_block6_1_relu[0][0]        \n",
            "__________________________________________________________________________________________________\n",
            "conv2_block6_concat (Concatenat (None, 56, 56, 256)  0           conv2_block5_concat[0][0]        \n",
            "                                                                 conv2_block6_2_conv[0][0]        \n",
            "__________________________________________________________________________________________________\n",
            "pool2_bn (BatchNormalization)   (None, 56, 56, 256)  1024        conv2_block6_concat[0][0]        \n",
            "__________________________________________________________________________________________________\n",
            "pool2_relu (Activation)         (None, 56, 56, 256)  0           pool2_bn[0][0]                   \n",
            "__________________________________________________________________________________________________\n",
            "pool2_conv (Conv2D)             (None, 56, 56, 128)  32768       pool2_relu[0][0]                 \n",
            "__________________________________________________________________________________________________\n",
            "pool2_pool (AveragePooling2D)   (None, 28, 28, 128)  0           pool2_conv[0][0]                 \n",
            "__________________________________________________________________________________________________\n",
            "conv3_block1_0_bn (BatchNormali (None, 28, 28, 128)  512         pool2_pool[0][0]                 \n",
            "__________________________________________________________________________________________________\n",
            "conv3_block1_0_relu (Activation (None, 28, 28, 128)  0           conv3_block1_0_bn[0][0]          \n",
            "__________________________________________________________________________________________________\n",
            "conv3_block1_1_conv (Conv2D)    (None, 28, 28, 128)  16384       conv3_block1_0_relu[0][0]        \n",
            "__________________________________________________________________________________________________\n",
            "conv3_block1_1_bn (BatchNormali (None, 28, 28, 128)  512         conv3_block1_1_conv[0][0]        \n",
            "__________________________________________________________________________________________________\n",
            "conv3_block1_1_relu (Activation (None, 28, 28, 128)  0           conv3_block1_1_bn[0][0]          \n",
            "__________________________________________________________________________________________________\n",
            "conv3_block1_2_conv (Conv2D)    (None, 28, 28, 32)   36864       conv3_block1_1_relu[0][0]        \n",
            "__________________________________________________________________________________________________\n",
            "conv3_block1_concat (Concatenat (None, 28, 28, 160)  0           pool2_pool[0][0]                 \n",
            "                                                                 conv3_block1_2_conv[0][0]        \n",
            "__________________________________________________________________________________________________\n",
            "conv3_block2_0_bn (BatchNormali (None, 28, 28, 160)  640         conv3_block1_concat[0][0]        \n",
            "__________________________________________________________________________________________________\n",
            "conv3_block2_0_relu (Activation (None, 28, 28, 160)  0           conv3_block2_0_bn[0][0]          \n",
            "__________________________________________________________________________________________________\n",
            "conv3_block2_1_conv (Conv2D)    (None, 28, 28, 128)  20480       conv3_block2_0_relu[0][0]        \n",
            "__________________________________________________________________________________________________\n",
            "conv3_block2_1_bn (BatchNormali (None, 28, 28, 128)  512         conv3_block2_1_conv[0][0]        \n",
            "__________________________________________________________________________________________________\n",
            "conv3_block2_1_relu (Activation (None, 28, 28, 128)  0           conv3_block2_1_bn[0][0]          \n",
            "__________________________________________________________________________________________________\n",
            "conv3_block2_2_conv (Conv2D)    (None, 28, 28, 32)   36864       conv3_block2_1_relu[0][0]        \n",
            "__________________________________________________________________________________________________\n",
            "conv3_block2_concat (Concatenat (None, 28, 28, 192)  0           conv3_block1_concat[0][0]        \n",
            "                                                                 conv3_block2_2_conv[0][0]        \n",
            "__________________________________________________________________________________________________\n",
            "conv3_block3_0_bn (BatchNormali (None, 28, 28, 192)  768         conv3_block2_concat[0][0]        \n",
            "__________________________________________________________________________________________________\n",
            "conv3_block3_0_relu (Activation (None, 28, 28, 192)  0           conv3_block3_0_bn[0][0]          \n",
            "__________________________________________________________________________________________________\n",
            "conv3_block3_1_conv (Conv2D)    (None, 28, 28, 128)  24576       conv3_block3_0_relu[0][0]        \n",
            "__________________________________________________________________________________________________\n",
            "conv3_block3_1_bn (BatchNormali (None, 28, 28, 128)  512         conv3_block3_1_conv[0][0]        \n",
            "__________________________________________________________________________________________________\n",
            "conv3_block3_1_relu (Activation (None, 28, 28, 128)  0           conv3_block3_1_bn[0][0]          \n",
            "__________________________________________________________________________________________________\n",
            "conv3_block3_2_conv (Conv2D)    (None, 28, 28, 32)   36864       conv3_block3_1_relu[0][0]        \n",
            "__________________________________________________________________________________________________\n",
            "conv3_block3_concat (Concatenat (None, 28, 28, 224)  0           conv3_block2_concat[0][0]        \n",
            "                                                                 conv3_block3_2_conv[0][0]        \n",
            "__________________________________________________________________________________________________\n",
            "conv3_block4_0_bn (BatchNormali (None, 28, 28, 224)  896         conv3_block3_concat[0][0]        \n",
            "__________________________________________________________________________________________________\n",
            "conv3_block4_0_relu (Activation (None, 28, 28, 224)  0           conv3_block4_0_bn[0][0]          \n",
            "__________________________________________________________________________________________________\n",
            "conv3_block4_1_conv (Conv2D)    (None, 28, 28, 128)  28672       conv3_block4_0_relu[0][0]        \n",
            "__________________________________________________________________________________________________\n",
            "conv3_block4_1_bn (BatchNormali (None, 28, 28, 128)  512         conv3_block4_1_conv[0][0]        \n",
            "__________________________________________________________________________________________________\n",
            "conv3_block4_1_relu (Activation (None, 28, 28, 128)  0           conv3_block4_1_bn[0][0]          \n",
            "__________________________________________________________________________________________________\n",
            "conv3_block4_2_conv (Conv2D)    (None, 28, 28, 32)   36864       conv3_block4_1_relu[0][0]        \n",
            "__________________________________________________________________________________________________\n",
            "conv3_block4_concat (Concatenat (None, 28, 28, 256)  0           conv3_block3_concat[0][0]        \n",
            "                                                                 conv3_block4_2_conv[0][0]        \n",
            "__________________________________________________________________________________________________\n",
            "conv3_block5_0_bn (BatchNormali (None, 28, 28, 256)  1024        conv3_block4_concat[0][0]        \n",
            "__________________________________________________________________________________________________\n",
            "conv3_block5_0_relu (Activation (None, 28, 28, 256)  0           conv3_block5_0_bn[0][0]          \n",
            "__________________________________________________________________________________________________\n",
            "conv3_block5_1_conv (Conv2D)    (None, 28, 28, 128)  32768       conv3_block5_0_relu[0][0]        \n",
            "__________________________________________________________________________________________________\n",
            "conv3_block5_1_bn (BatchNormali (None, 28, 28, 128)  512         conv3_block5_1_conv[0][0]        \n",
            "__________________________________________________________________________________________________\n",
            "conv3_block5_1_relu (Activation (None, 28, 28, 128)  0           conv3_block5_1_bn[0][0]          \n",
            "__________________________________________________________________________________________________\n",
            "conv3_block5_2_conv (Conv2D)    (None, 28, 28, 32)   36864       conv3_block5_1_relu[0][0]        \n",
            "__________________________________________________________________________________________________\n",
            "conv3_block5_concat (Concatenat (None, 28, 28, 288)  0           conv3_block4_concat[0][0]        \n",
            "                                                                 conv3_block5_2_conv[0][0]        \n",
            "__________________________________________________________________________________________________\n",
            "conv3_block6_0_bn (BatchNormali (None, 28, 28, 288)  1152        conv3_block5_concat[0][0]        \n",
            "__________________________________________________________________________________________________\n",
            "conv3_block6_0_relu (Activation (None, 28, 28, 288)  0           conv3_block6_0_bn[0][0]          \n",
            "__________________________________________________________________________________________________\n",
            "conv3_block6_1_conv (Conv2D)    (None, 28, 28, 128)  36864       conv3_block6_0_relu[0][0]        \n",
            "__________________________________________________________________________________________________\n",
            "conv3_block6_1_bn (BatchNormali (None, 28, 28, 128)  512         conv3_block6_1_conv[0][0]        \n",
            "__________________________________________________________________________________________________\n",
            "conv3_block6_1_relu (Activation (None, 28, 28, 128)  0           conv3_block6_1_bn[0][0]          \n",
            "__________________________________________________________________________________________________\n",
            "conv3_block6_2_conv (Conv2D)    (None, 28, 28, 32)   36864       conv3_block6_1_relu[0][0]        \n",
            "__________________________________________________________________________________________________\n",
            "conv3_block6_concat (Concatenat (None, 28, 28, 320)  0           conv3_block5_concat[0][0]        \n",
            "                                                                 conv3_block6_2_conv[0][0]        \n",
            "__________________________________________________________________________________________________\n",
            "conv3_block7_0_bn (BatchNormali (None, 28, 28, 320)  1280        conv3_block6_concat[0][0]        \n",
            "__________________________________________________________________________________________________\n",
            "conv3_block7_0_relu (Activation (None, 28, 28, 320)  0           conv3_block7_0_bn[0][0]          \n",
            "__________________________________________________________________________________________________\n",
            "conv3_block7_1_conv (Conv2D)    (None, 28, 28, 128)  40960       conv3_block7_0_relu[0][0]        \n",
            "__________________________________________________________________________________________________\n",
            "conv3_block7_1_bn (BatchNormali (None, 28, 28, 128)  512         conv3_block7_1_conv[0][0]        \n",
            "__________________________________________________________________________________________________\n",
            "conv3_block7_1_relu (Activation (None, 28, 28, 128)  0           conv3_block7_1_bn[0][0]          \n",
            "__________________________________________________________________________________________________\n",
            "conv3_block7_2_conv (Conv2D)    (None, 28, 28, 32)   36864       conv3_block7_1_relu[0][0]        \n",
            "__________________________________________________________________________________________________\n",
            "conv3_block7_concat (Concatenat (None, 28, 28, 352)  0           conv3_block6_concat[0][0]        \n",
            "                                                                 conv3_block7_2_conv[0][0]        \n",
            "__________________________________________________________________________________________________\n",
            "conv3_block8_0_bn (BatchNormali (None, 28, 28, 352)  1408        conv3_block7_concat[0][0]        \n",
            "__________________________________________________________________________________________________\n",
            "conv3_block8_0_relu (Activation (None, 28, 28, 352)  0           conv3_block8_0_bn[0][0]          \n",
            "__________________________________________________________________________________________________\n",
            "conv3_block8_1_conv (Conv2D)    (None, 28, 28, 128)  45056       conv3_block8_0_relu[0][0]        \n",
            "__________________________________________________________________________________________________\n",
            "conv3_block8_1_bn (BatchNormali (None, 28, 28, 128)  512         conv3_block8_1_conv[0][0]        \n",
            "__________________________________________________________________________________________________\n",
            "conv3_block8_1_relu (Activation (None, 28, 28, 128)  0           conv3_block8_1_bn[0][0]          \n",
            "__________________________________________________________________________________________________\n",
            "conv3_block8_2_conv (Conv2D)    (None, 28, 28, 32)   36864       conv3_block8_1_relu[0][0]        \n",
            "__________________________________________________________________________________________________\n",
            "conv3_block8_concat (Concatenat (None, 28, 28, 384)  0           conv3_block7_concat[0][0]        \n",
            "                                                                 conv3_block8_2_conv[0][0]        \n",
            "__________________________________________________________________________________________________\n",
            "conv3_block9_0_bn (BatchNormali (None, 28, 28, 384)  1536        conv3_block8_concat[0][0]        \n",
            "__________________________________________________________________________________________________\n",
            "conv3_block9_0_relu (Activation (None, 28, 28, 384)  0           conv3_block9_0_bn[0][0]          \n",
            "__________________________________________________________________________________________________\n",
            "conv3_block9_1_conv (Conv2D)    (None, 28, 28, 128)  49152       conv3_block9_0_relu[0][0]        \n",
            "__________________________________________________________________________________________________\n",
            "conv3_block9_1_bn (BatchNormali (None, 28, 28, 128)  512         conv3_block9_1_conv[0][0]        \n",
            "__________________________________________________________________________________________________\n",
            "conv3_block9_1_relu (Activation (None, 28, 28, 128)  0           conv3_block9_1_bn[0][0]          \n",
            "__________________________________________________________________________________________________\n",
            "conv3_block9_2_conv (Conv2D)    (None, 28, 28, 32)   36864       conv3_block9_1_relu[0][0]        \n",
            "__________________________________________________________________________________________________\n",
            "conv3_block9_concat (Concatenat (None, 28, 28, 416)  0           conv3_block8_concat[0][0]        \n",
            "                                                                 conv3_block9_2_conv[0][0]        \n",
            "__________________________________________________________________________________________________\n",
            "conv3_block10_0_bn (BatchNormal (None, 28, 28, 416)  1664        conv3_block9_concat[0][0]        \n",
            "__________________________________________________________________________________________________\n",
            "conv3_block10_0_relu (Activatio (None, 28, 28, 416)  0           conv3_block10_0_bn[0][0]         \n",
            "__________________________________________________________________________________________________\n",
            "conv3_block10_1_conv (Conv2D)   (None, 28, 28, 128)  53248       conv3_block10_0_relu[0][0]       \n",
            "__________________________________________________________________________________________________\n",
            "conv3_block10_1_bn (BatchNormal (None, 28, 28, 128)  512         conv3_block10_1_conv[0][0]       \n",
            "__________________________________________________________________________________________________\n",
            "conv3_block10_1_relu (Activatio (None, 28, 28, 128)  0           conv3_block10_1_bn[0][0]         \n",
            "__________________________________________________________________________________________________\n",
            "conv3_block10_2_conv (Conv2D)   (None, 28, 28, 32)   36864       conv3_block10_1_relu[0][0]       \n",
            "__________________________________________________________________________________________________\n",
            "conv3_block10_concat (Concatena (None, 28, 28, 448)  0           conv3_block9_concat[0][0]        \n",
            "                                                                 conv3_block10_2_conv[0][0]       \n",
            "__________________________________________________________________________________________________\n",
            "conv3_block11_0_bn (BatchNormal (None, 28, 28, 448)  1792        conv3_block10_concat[0][0]       \n",
            "__________________________________________________________________________________________________\n",
            "conv3_block11_0_relu (Activatio (None, 28, 28, 448)  0           conv3_block11_0_bn[0][0]         \n",
            "__________________________________________________________________________________________________\n",
            "conv3_block11_1_conv (Conv2D)   (None, 28, 28, 128)  57344       conv3_block11_0_relu[0][0]       \n",
            "__________________________________________________________________________________________________\n",
            "conv3_block11_1_bn (BatchNormal (None, 28, 28, 128)  512         conv3_block11_1_conv[0][0]       \n",
            "__________________________________________________________________________________________________\n",
            "conv3_block11_1_relu (Activatio (None, 28, 28, 128)  0           conv3_block11_1_bn[0][0]         \n",
            "__________________________________________________________________________________________________\n",
            "conv3_block11_2_conv (Conv2D)   (None, 28, 28, 32)   36864       conv3_block11_1_relu[0][0]       \n",
            "__________________________________________________________________________________________________\n",
            "conv3_block11_concat (Concatena (None, 28, 28, 480)  0           conv3_block10_concat[0][0]       \n",
            "                                                                 conv3_block11_2_conv[0][0]       \n",
            "__________________________________________________________________________________________________\n",
            "conv3_block12_0_bn (BatchNormal (None, 28, 28, 480)  1920        conv3_block11_concat[0][0]       \n",
            "__________________________________________________________________________________________________\n",
            "conv3_block12_0_relu (Activatio (None, 28, 28, 480)  0           conv3_block12_0_bn[0][0]         \n",
            "__________________________________________________________________________________________________\n",
            "conv3_block12_1_conv (Conv2D)   (None, 28, 28, 128)  61440       conv3_block12_0_relu[0][0]       \n",
            "__________________________________________________________________________________________________\n",
            "conv3_block12_1_bn (BatchNormal (None, 28, 28, 128)  512         conv3_block12_1_conv[0][0]       \n",
            "__________________________________________________________________________________________________\n",
            "conv3_block12_1_relu (Activatio (None, 28, 28, 128)  0           conv3_block12_1_bn[0][0]         \n",
            "__________________________________________________________________________________________________\n",
            "conv3_block12_2_conv (Conv2D)   (None, 28, 28, 32)   36864       conv3_block12_1_relu[0][0]       \n",
            "__________________________________________________________________________________________________\n",
            "conv3_block12_concat (Concatena (None, 28, 28, 512)  0           conv3_block11_concat[0][0]       \n",
            "                                                                 conv3_block12_2_conv[0][0]       \n",
            "__________________________________________________________________________________________________\n",
            "pool3_bn (BatchNormalization)   (None, 28, 28, 512)  2048        conv3_block12_concat[0][0]       \n",
            "__________________________________________________________________________________________________\n",
            "pool3_relu (Activation)         (None, 28, 28, 512)  0           pool3_bn[0][0]                   \n",
            "__________________________________________________________________________________________________\n",
            "pool3_conv (Conv2D)             (None, 28, 28, 256)  131072      pool3_relu[0][0]                 \n",
            "__________________________________________________________________________________________________\n",
            "pool3_pool (AveragePooling2D)   (None, 14, 14, 256)  0           pool3_conv[0][0]                 \n",
            "__________________________________________________________________________________________________\n",
            "conv4_block1_0_bn (BatchNormali (None, 14, 14, 256)  1024        pool3_pool[0][0]                 \n",
            "__________________________________________________________________________________________________\n",
            "conv4_block1_0_relu (Activation (None, 14, 14, 256)  0           conv4_block1_0_bn[0][0]          \n",
            "__________________________________________________________________________________________________\n",
            "conv4_block1_1_conv (Conv2D)    (None, 14, 14, 128)  32768       conv4_block1_0_relu[0][0]        \n",
            "__________________________________________________________________________________________________\n",
            "conv4_block1_1_bn (BatchNormali (None, 14, 14, 128)  512         conv4_block1_1_conv[0][0]        \n",
            "__________________________________________________________________________________________________\n",
            "conv4_block1_1_relu (Activation (None, 14, 14, 128)  0           conv4_block1_1_bn[0][0]          \n",
            "__________________________________________________________________________________________________\n",
            "conv4_block1_2_conv (Conv2D)    (None, 14, 14, 32)   36864       conv4_block1_1_relu[0][0]        \n",
            "__________________________________________________________________________________________________\n",
            "conv4_block1_concat (Concatenat (None, 14, 14, 288)  0           pool3_pool[0][0]                 \n",
            "                                                                 conv4_block1_2_conv[0][0]        \n",
            "__________________________________________________________________________________________________\n",
            "conv4_block2_0_bn (BatchNormali (None, 14, 14, 288)  1152        conv4_block1_concat[0][0]        \n",
            "__________________________________________________________________________________________________\n",
            "conv4_block2_0_relu (Activation (None, 14, 14, 288)  0           conv4_block2_0_bn[0][0]          \n",
            "__________________________________________________________________________________________________\n",
            "conv4_block2_1_conv (Conv2D)    (None, 14, 14, 128)  36864       conv4_block2_0_relu[0][0]        \n",
            "__________________________________________________________________________________________________\n",
            "conv4_block2_1_bn (BatchNormali (None, 14, 14, 128)  512         conv4_block2_1_conv[0][0]        \n",
            "__________________________________________________________________________________________________\n",
            "conv4_block2_1_relu (Activation (None, 14, 14, 128)  0           conv4_block2_1_bn[0][0]          \n",
            "__________________________________________________________________________________________________\n",
            "conv4_block2_2_conv (Conv2D)    (None, 14, 14, 32)   36864       conv4_block2_1_relu[0][0]        \n",
            "__________________________________________________________________________________________________\n",
            "conv4_block2_concat (Concatenat (None, 14, 14, 320)  0           conv4_block1_concat[0][0]        \n",
            "                                                                 conv4_block2_2_conv[0][0]        \n",
            "__________________________________________________________________________________________________\n",
            "conv4_block3_0_bn (BatchNormali (None, 14, 14, 320)  1280        conv4_block2_concat[0][0]        \n",
            "__________________________________________________________________________________________________\n",
            "conv4_block3_0_relu (Activation (None, 14, 14, 320)  0           conv4_block3_0_bn[0][0]          \n",
            "__________________________________________________________________________________________________\n",
            "conv4_block3_1_conv (Conv2D)    (None, 14, 14, 128)  40960       conv4_block3_0_relu[0][0]        \n",
            "__________________________________________________________________________________________________\n",
            "conv4_block3_1_bn (BatchNormali (None, 14, 14, 128)  512         conv4_block3_1_conv[0][0]        \n",
            "__________________________________________________________________________________________________\n",
            "conv4_block3_1_relu (Activation (None, 14, 14, 128)  0           conv4_block3_1_bn[0][0]          \n",
            "__________________________________________________________________________________________________\n",
            "conv4_block3_2_conv (Conv2D)    (None, 14, 14, 32)   36864       conv4_block3_1_relu[0][0]        \n",
            "__________________________________________________________________________________________________\n",
            "conv4_block3_concat (Concatenat (None, 14, 14, 352)  0           conv4_block2_concat[0][0]        \n",
            "                                                                 conv4_block3_2_conv[0][0]        \n",
            "__________________________________________________________________________________________________\n",
            "conv4_block4_0_bn (BatchNormali (None, 14, 14, 352)  1408        conv4_block3_concat[0][0]        \n",
            "__________________________________________________________________________________________________\n",
            "conv4_block4_0_relu (Activation (None, 14, 14, 352)  0           conv4_block4_0_bn[0][0]          \n",
            "__________________________________________________________________________________________________\n",
            "conv4_block4_1_conv (Conv2D)    (None, 14, 14, 128)  45056       conv4_block4_0_relu[0][0]        \n",
            "__________________________________________________________________________________________________\n",
            "conv4_block4_1_bn (BatchNormali (None, 14, 14, 128)  512         conv4_block4_1_conv[0][0]        \n",
            "__________________________________________________________________________________________________\n",
            "conv4_block4_1_relu (Activation (None, 14, 14, 128)  0           conv4_block4_1_bn[0][0]          \n",
            "__________________________________________________________________________________________________\n",
            "conv4_block4_2_conv (Conv2D)    (None, 14, 14, 32)   36864       conv4_block4_1_relu[0][0]        \n",
            "__________________________________________________________________________________________________\n",
            "conv4_block4_concat (Concatenat (None, 14, 14, 384)  0           conv4_block3_concat[0][0]        \n",
            "                                                                 conv4_block4_2_conv[0][0]        \n",
            "__________________________________________________________________________________________________\n",
            "conv4_block5_0_bn (BatchNormali (None, 14, 14, 384)  1536        conv4_block4_concat[0][0]        \n",
            "__________________________________________________________________________________________________\n",
            "conv4_block5_0_relu (Activation (None, 14, 14, 384)  0           conv4_block5_0_bn[0][0]          \n",
            "__________________________________________________________________________________________________\n",
            "conv4_block5_1_conv (Conv2D)    (None, 14, 14, 128)  49152       conv4_block5_0_relu[0][0]        \n",
            "__________________________________________________________________________________________________\n",
            "conv4_block5_1_bn (BatchNormali (None, 14, 14, 128)  512         conv4_block5_1_conv[0][0]        \n",
            "__________________________________________________________________________________________________\n",
            "conv4_block5_1_relu (Activation (None, 14, 14, 128)  0           conv4_block5_1_bn[0][0]          \n",
            "__________________________________________________________________________________________________\n",
            "conv4_block5_2_conv (Conv2D)    (None, 14, 14, 32)   36864       conv4_block5_1_relu[0][0]        \n",
            "__________________________________________________________________________________________________\n",
            "conv4_block5_concat (Concatenat (None, 14, 14, 416)  0           conv4_block4_concat[0][0]        \n",
            "                                                                 conv4_block5_2_conv[0][0]        \n",
            "__________________________________________________________________________________________________\n",
            "conv4_block6_0_bn (BatchNormali (None, 14, 14, 416)  1664        conv4_block5_concat[0][0]        \n",
            "__________________________________________________________________________________________________\n",
            "conv4_block6_0_relu (Activation (None, 14, 14, 416)  0           conv4_block6_0_bn[0][0]          \n",
            "__________________________________________________________________________________________________\n",
            "conv4_block6_1_conv (Conv2D)    (None, 14, 14, 128)  53248       conv4_block6_0_relu[0][0]        \n",
            "__________________________________________________________________________________________________\n",
            "conv4_block6_1_bn (BatchNormali (None, 14, 14, 128)  512         conv4_block6_1_conv[0][0]        \n",
            "__________________________________________________________________________________________________\n",
            "conv4_block6_1_relu (Activation (None, 14, 14, 128)  0           conv4_block6_1_bn[0][0]          \n",
            "__________________________________________________________________________________________________\n",
            "conv4_block6_2_conv (Conv2D)    (None, 14, 14, 32)   36864       conv4_block6_1_relu[0][0]        \n",
            "__________________________________________________________________________________________________\n",
            "conv4_block6_concat (Concatenat (None, 14, 14, 448)  0           conv4_block5_concat[0][0]        \n",
            "                                                                 conv4_block6_2_conv[0][0]        \n",
            "__________________________________________________________________________________________________\n",
            "conv4_block7_0_bn (BatchNormali (None, 14, 14, 448)  1792        conv4_block6_concat[0][0]        \n",
            "__________________________________________________________________________________________________\n",
            "conv4_block7_0_relu (Activation (None, 14, 14, 448)  0           conv4_block7_0_bn[0][0]          \n",
            "__________________________________________________________________________________________________\n",
            "conv4_block7_1_conv (Conv2D)    (None, 14, 14, 128)  57344       conv4_block7_0_relu[0][0]        \n",
            "__________________________________________________________________________________________________\n",
            "conv4_block7_1_bn (BatchNormali (None, 14, 14, 128)  512         conv4_block7_1_conv[0][0]        \n",
            "__________________________________________________________________________________________________\n",
            "conv4_block7_1_relu (Activation (None, 14, 14, 128)  0           conv4_block7_1_bn[0][0]          \n",
            "__________________________________________________________________________________________________\n",
            "conv4_block7_2_conv (Conv2D)    (None, 14, 14, 32)   36864       conv4_block7_1_relu[0][0]        \n",
            "__________________________________________________________________________________________________\n",
            "conv4_block7_concat (Concatenat (None, 14, 14, 480)  0           conv4_block6_concat[0][0]        \n",
            "                                                                 conv4_block7_2_conv[0][0]        \n",
            "__________________________________________________________________________________________________\n",
            "conv4_block8_0_bn (BatchNormali (None, 14, 14, 480)  1920        conv4_block7_concat[0][0]        \n",
            "__________________________________________________________________________________________________\n",
            "conv4_block8_0_relu (Activation (None, 14, 14, 480)  0           conv4_block8_0_bn[0][0]          \n",
            "__________________________________________________________________________________________________\n",
            "conv4_block8_1_conv (Conv2D)    (None, 14, 14, 128)  61440       conv4_block8_0_relu[0][0]        \n",
            "__________________________________________________________________________________________________\n",
            "conv4_block8_1_bn (BatchNormali (None, 14, 14, 128)  512         conv4_block8_1_conv[0][0]        \n",
            "__________________________________________________________________________________________________\n",
            "conv4_block8_1_relu (Activation (None, 14, 14, 128)  0           conv4_block8_1_bn[0][0]          \n",
            "__________________________________________________________________________________________________\n",
            "conv4_block8_2_conv (Conv2D)    (None, 14, 14, 32)   36864       conv4_block8_1_relu[0][0]        \n",
            "__________________________________________________________________________________________________\n",
            "conv4_block8_concat (Concatenat (None, 14, 14, 512)  0           conv4_block7_concat[0][0]        \n",
            "                                                                 conv4_block8_2_conv[0][0]        \n",
            "__________________________________________________________________________________________________\n",
            "conv4_block9_0_bn (BatchNormali (None, 14, 14, 512)  2048        conv4_block8_concat[0][0]        \n",
            "__________________________________________________________________________________________________\n",
            "conv4_block9_0_relu (Activation (None, 14, 14, 512)  0           conv4_block9_0_bn[0][0]          \n",
            "__________________________________________________________________________________________________\n",
            "conv4_block9_1_conv (Conv2D)    (None, 14, 14, 128)  65536       conv4_block9_0_relu[0][0]        \n",
            "__________________________________________________________________________________________________\n",
            "conv4_block9_1_bn (BatchNormali (None, 14, 14, 128)  512         conv4_block9_1_conv[0][0]        \n",
            "__________________________________________________________________________________________________\n",
            "conv4_block9_1_relu (Activation (None, 14, 14, 128)  0           conv4_block9_1_bn[0][0]          \n",
            "__________________________________________________________________________________________________\n",
            "conv4_block9_2_conv (Conv2D)    (None, 14, 14, 32)   36864       conv4_block9_1_relu[0][0]        \n",
            "__________________________________________________________________________________________________\n",
            "conv4_block9_concat (Concatenat (None, 14, 14, 544)  0           conv4_block8_concat[0][0]        \n",
            "                                                                 conv4_block9_2_conv[0][0]        \n",
            "__________________________________________________________________________________________________\n",
            "conv4_block10_0_bn (BatchNormal (None, 14, 14, 544)  2176        conv4_block9_concat[0][0]        \n",
            "__________________________________________________________________________________________________\n",
            "conv4_block10_0_relu (Activatio (None, 14, 14, 544)  0           conv4_block10_0_bn[0][0]         \n",
            "__________________________________________________________________________________________________\n",
            "conv4_block10_1_conv (Conv2D)   (None, 14, 14, 128)  69632       conv4_block10_0_relu[0][0]       \n",
            "__________________________________________________________________________________________________\n",
            "conv4_block10_1_bn (BatchNormal (None, 14, 14, 128)  512         conv4_block10_1_conv[0][0]       \n",
            "__________________________________________________________________________________________________\n",
            "conv4_block10_1_relu (Activatio (None, 14, 14, 128)  0           conv4_block10_1_bn[0][0]         \n",
            "__________________________________________________________________________________________________\n",
            "conv4_block10_2_conv (Conv2D)   (None, 14, 14, 32)   36864       conv4_block10_1_relu[0][0]       \n",
            "__________________________________________________________________________________________________\n",
            "conv4_block10_concat (Concatena (None, 14, 14, 576)  0           conv4_block9_concat[0][0]        \n",
            "                                                                 conv4_block10_2_conv[0][0]       \n",
            "__________________________________________________________________________________________________\n",
            "conv4_block11_0_bn (BatchNormal (None, 14, 14, 576)  2304        conv4_block10_concat[0][0]       \n",
            "__________________________________________________________________________________________________\n",
            "conv4_block11_0_relu (Activatio (None, 14, 14, 576)  0           conv4_block11_0_bn[0][0]         \n",
            "__________________________________________________________________________________________________\n",
            "conv4_block11_1_conv (Conv2D)   (None, 14, 14, 128)  73728       conv4_block11_0_relu[0][0]       \n",
            "__________________________________________________________________________________________________\n",
            "conv4_block11_1_bn (BatchNormal (None, 14, 14, 128)  512         conv4_block11_1_conv[0][0]       \n",
            "__________________________________________________________________________________________________\n",
            "conv4_block11_1_relu (Activatio (None, 14, 14, 128)  0           conv4_block11_1_bn[0][0]         \n",
            "__________________________________________________________________________________________________\n",
            "conv4_block11_2_conv (Conv2D)   (None, 14, 14, 32)   36864       conv4_block11_1_relu[0][0]       \n",
            "__________________________________________________________________________________________________\n",
            "conv4_block11_concat (Concatena (None, 14, 14, 608)  0           conv4_block10_concat[0][0]       \n",
            "                                                                 conv4_block11_2_conv[0][0]       \n",
            "__________________________________________________________________________________________________\n",
            "conv4_block12_0_bn (BatchNormal (None, 14, 14, 608)  2432        conv4_block11_concat[0][0]       \n",
            "__________________________________________________________________________________________________\n",
            "conv4_block12_0_relu (Activatio (None, 14, 14, 608)  0           conv4_block12_0_bn[0][0]         \n",
            "__________________________________________________________________________________________________\n",
            "conv4_block12_1_conv (Conv2D)   (None, 14, 14, 128)  77824       conv4_block12_0_relu[0][0]       \n",
            "__________________________________________________________________________________________________\n",
            "conv4_block12_1_bn (BatchNormal (None, 14, 14, 128)  512         conv4_block12_1_conv[0][0]       \n",
            "__________________________________________________________________________________________________\n",
            "conv4_block12_1_relu (Activatio (None, 14, 14, 128)  0           conv4_block12_1_bn[0][0]         \n",
            "__________________________________________________________________________________________________\n",
            "conv4_block12_2_conv (Conv2D)   (None, 14, 14, 32)   36864       conv4_block12_1_relu[0][0]       \n",
            "__________________________________________________________________________________________________\n",
            "conv4_block12_concat (Concatena (None, 14, 14, 640)  0           conv4_block11_concat[0][0]       \n",
            "                                                                 conv4_block12_2_conv[0][0]       \n",
            "__________________________________________________________________________________________________\n",
            "conv4_block13_0_bn (BatchNormal (None, 14, 14, 640)  2560        conv4_block12_concat[0][0]       \n",
            "__________________________________________________________________________________________________\n",
            "conv4_block13_0_relu (Activatio (None, 14, 14, 640)  0           conv4_block13_0_bn[0][0]         \n",
            "__________________________________________________________________________________________________\n",
            "conv4_block13_1_conv (Conv2D)   (None, 14, 14, 128)  81920       conv4_block13_0_relu[0][0]       \n",
            "__________________________________________________________________________________________________\n",
            "conv4_block13_1_bn (BatchNormal (None, 14, 14, 128)  512         conv4_block13_1_conv[0][0]       \n",
            "__________________________________________________________________________________________________\n",
            "conv4_block13_1_relu (Activatio (None, 14, 14, 128)  0           conv4_block13_1_bn[0][0]         \n",
            "__________________________________________________________________________________________________\n",
            "conv4_block13_2_conv (Conv2D)   (None, 14, 14, 32)   36864       conv4_block13_1_relu[0][0]       \n",
            "__________________________________________________________________________________________________\n",
            "conv4_block13_concat (Concatena (None, 14, 14, 672)  0           conv4_block12_concat[0][0]       \n",
            "                                                                 conv4_block13_2_conv[0][0]       \n",
            "__________________________________________________________________________________________________\n",
            "conv4_block14_0_bn (BatchNormal (None, 14, 14, 672)  2688        conv4_block13_concat[0][0]       \n",
            "__________________________________________________________________________________________________\n",
            "conv4_block14_0_relu (Activatio (None, 14, 14, 672)  0           conv4_block14_0_bn[0][0]         \n",
            "__________________________________________________________________________________________________\n",
            "conv4_block14_1_conv (Conv2D)   (None, 14, 14, 128)  86016       conv4_block14_0_relu[0][0]       \n",
            "__________________________________________________________________________________________________\n",
            "conv4_block14_1_bn (BatchNormal (None, 14, 14, 128)  512         conv4_block14_1_conv[0][0]       \n",
            "__________________________________________________________________________________________________\n",
            "conv4_block14_1_relu (Activatio (None, 14, 14, 128)  0           conv4_block14_1_bn[0][0]         \n",
            "__________________________________________________________________________________________________\n",
            "conv4_block14_2_conv (Conv2D)   (None, 14, 14, 32)   36864       conv4_block14_1_relu[0][0]       \n",
            "__________________________________________________________________________________________________\n",
            "conv4_block14_concat (Concatena (None, 14, 14, 704)  0           conv4_block13_concat[0][0]       \n",
            "                                                                 conv4_block14_2_conv[0][0]       \n",
            "__________________________________________________________________________________________________\n",
            "conv4_block15_0_bn (BatchNormal (None, 14, 14, 704)  2816        conv4_block14_concat[0][0]       \n",
            "__________________________________________________________________________________________________\n",
            "conv4_block15_0_relu (Activatio (None, 14, 14, 704)  0           conv4_block15_0_bn[0][0]         \n",
            "__________________________________________________________________________________________________\n",
            "conv4_block15_1_conv (Conv2D)   (None, 14, 14, 128)  90112       conv4_block15_0_relu[0][0]       \n",
            "__________________________________________________________________________________________________\n",
            "conv4_block15_1_bn (BatchNormal (None, 14, 14, 128)  512         conv4_block15_1_conv[0][0]       \n",
            "__________________________________________________________________________________________________\n",
            "conv4_block15_1_relu (Activatio (None, 14, 14, 128)  0           conv4_block15_1_bn[0][0]         \n",
            "__________________________________________________________________________________________________\n",
            "conv4_block15_2_conv (Conv2D)   (None, 14, 14, 32)   36864       conv4_block15_1_relu[0][0]       \n",
            "__________________________________________________________________________________________________\n",
            "conv4_block15_concat (Concatena (None, 14, 14, 736)  0           conv4_block14_concat[0][0]       \n",
            "                                                                 conv4_block15_2_conv[0][0]       \n",
            "__________________________________________________________________________________________________\n",
            "conv4_block16_0_bn (BatchNormal (None, 14, 14, 736)  2944        conv4_block15_concat[0][0]       \n",
            "__________________________________________________________________________________________________\n",
            "conv4_block16_0_relu (Activatio (None, 14, 14, 736)  0           conv4_block16_0_bn[0][0]         \n",
            "__________________________________________________________________________________________________\n",
            "conv4_block16_1_conv (Conv2D)   (None, 14, 14, 128)  94208       conv4_block16_0_relu[0][0]       \n",
            "__________________________________________________________________________________________________\n",
            "conv4_block16_1_bn (BatchNormal (None, 14, 14, 128)  512         conv4_block16_1_conv[0][0]       \n",
            "__________________________________________________________________________________________________\n",
            "conv4_block16_1_relu (Activatio (None, 14, 14, 128)  0           conv4_block16_1_bn[0][0]         \n",
            "__________________________________________________________________________________________________\n",
            "conv4_block16_2_conv (Conv2D)   (None, 14, 14, 32)   36864       conv4_block16_1_relu[0][0]       \n",
            "__________________________________________________________________________________________________\n",
            "conv4_block16_concat (Concatena (None, 14, 14, 768)  0           conv4_block15_concat[0][0]       \n",
            "                                                                 conv4_block16_2_conv[0][0]       \n",
            "__________________________________________________________________________________________________\n",
            "conv4_block17_0_bn (BatchNormal (None, 14, 14, 768)  3072        conv4_block16_concat[0][0]       \n",
            "__________________________________________________________________________________________________\n",
            "conv4_block17_0_relu (Activatio (None, 14, 14, 768)  0           conv4_block17_0_bn[0][0]         \n",
            "__________________________________________________________________________________________________\n",
            "conv4_block17_1_conv (Conv2D)   (None, 14, 14, 128)  98304       conv4_block17_0_relu[0][0]       \n",
            "__________________________________________________________________________________________________\n",
            "conv4_block17_1_bn (BatchNormal (None, 14, 14, 128)  512         conv4_block17_1_conv[0][0]       \n",
            "__________________________________________________________________________________________________\n",
            "conv4_block17_1_relu (Activatio (None, 14, 14, 128)  0           conv4_block17_1_bn[0][0]         \n",
            "__________________________________________________________________________________________________\n",
            "conv4_block17_2_conv (Conv2D)   (None, 14, 14, 32)   36864       conv4_block17_1_relu[0][0]       \n",
            "__________________________________________________________________________________________________\n",
            "conv4_block17_concat (Concatena (None, 14, 14, 800)  0           conv4_block16_concat[0][0]       \n",
            "                                                                 conv4_block17_2_conv[0][0]       \n",
            "__________________________________________________________________________________________________\n",
            "conv4_block18_0_bn (BatchNormal (None, 14, 14, 800)  3200        conv4_block17_concat[0][0]       \n",
            "__________________________________________________________________________________________________\n",
            "conv4_block18_0_relu (Activatio (None, 14, 14, 800)  0           conv4_block18_0_bn[0][0]         \n",
            "__________________________________________________________________________________________________\n",
            "conv4_block18_1_conv (Conv2D)   (None, 14, 14, 128)  102400      conv4_block18_0_relu[0][0]       \n",
            "__________________________________________________________________________________________________\n",
            "conv4_block18_1_bn (BatchNormal (None, 14, 14, 128)  512         conv4_block18_1_conv[0][0]       \n",
            "__________________________________________________________________________________________________\n",
            "conv4_block18_1_relu (Activatio (None, 14, 14, 128)  0           conv4_block18_1_bn[0][0]         \n",
            "__________________________________________________________________________________________________\n",
            "conv4_block18_2_conv (Conv2D)   (None, 14, 14, 32)   36864       conv4_block18_1_relu[0][0]       \n",
            "__________________________________________________________________________________________________\n",
            "conv4_block18_concat (Concatena (None, 14, 14, 832)  0           conv4_block17_concat[0][0]       \n",
            "                                                                 conv4_block18_2_conv[0][0]       \n",
            "__________________________________________________________________________________________________\n",
            "conv4_block19_0_bn (BatchNormal (None, 14, 14, 832)  3328        conv4_block18_concat[0][0]       \n",
            "__________________________________________________________________________________________________\n",
            "conv4_block19_0_relu (Activatio (None, 14, 14, 832)  0           conv4_block19_0_bn[0][0]         \n",
            "__________________________________________________________________________________________________\n",
            "conv4_block19_1_conv (Conv2D)   (None, 14, 14, 128)  106496      conv4_block19_0_relu[0][0]       \n",
            "__________________________________________________________________________________________________\n",
            "conv4_block19_1_bn (BatchNormal (None, 14, 14, 128)  512         conv4_block19_1_conv[0][0]       \n",
            "__________________________________________________________________________________________________\n",
            "conv4_block19_1_relu (Activatio (None, 14, 14, 128)  0           conv4_block19_1_bn[0][0]         \n",
            "__________________________________________________________________________________________________\n",
            "conv4_block19_2_conv (Conv2D)   (None, 14, 14, 32)   36864       conv4_block19_1_relu[0][0]       \n",
            "__________________________________________________________________________________________________\n",
            "conv4_block19_concat (Concatena (None, 14, 14, 864)  0           conv4_block18_concat[0][0]       \n",
            "                                                                 conv4_block19_2_conv[0][0]       \n",
            "__________________________________________________________________________________________________\n",
            "conv4_block20_0_bn (BatchNormal (None, 14, 14, 864)  3456        conv4_block19_concat[0][0]       \n",
            "__________________________________________________________________________________________________\n",
            "conv4_block20_0_relu (Activatio (None, 14, 14, 864)  0           conv4_block20_0_bn[0][0]         \n",
            "__________________________________________________________________________________________________\n",
            "conv4_block20_1_conv (Conv2D)   (None, 14, 14, 128)  110592      conv4_block20_0_relu[0][0]       \n",
            "__________________________________________________________________________________________________\n",
            "conv4_block20_1_bn (BatchNormal (None, 14, 14, 128)  512         conv4_block20_1_conv[0][0]       \n",
            "__________________________________________________________________________________________________\n",
            "conv4_block20_1_relu (Activatio (None, 14, 14, 128)  0           conv4_block20_1_bn[0][0]         \n",
            "__________________________________________________________________________________________________\n",
            "conv4_block20_2_conv (Conv2D)   (None, 14, 14, 32)   36864       conv4_block20_1_relu[0][0]       \n",
            "__________________________________________________________________________________________________\n",
            "conv4_block20_concat (Concatena (None, 14, 14, 896)  0           conv4_block19_concat[0][0]       \n",
            "                                                                 conv4_block20_2_conv[0][0]       \n",
            "__________________________________________________________________________________________________\n",
            "conv4_block21_0_bn (BatchNormal (None, 14, 14, 896)  3584        conv4_block20_concat[0][0]       \n",
            "__________________________________________________________________________________________________\n",
            "conv4_block21_0_relu (Activatio (None, 14, 14, 896)  0           conv4_block21_0_bn[0][0]         \n",
            "__________________________________________________________________________________________________\n",
            "conv4_block21_1_conv (Conv2D)   (None, 14, 14, 128)  114688      conv4_block21_0_relu[0][0]       \n",
            "__________________________________________________________________________________________________\n",
            "conv4_block21_1_bn (BatchNormal (None, 14, 14, 128)  512         conv4_block21_1_conv[0][0]       \n",
            "__________________________________________________________________________________________________\n",
            "conv4_block21_1_relu (Activatio (None, 14, 14, 128)  0           conv4_block21_1_bn[0][0]         \n",
            "__________________________________________________________________________________________________\n",
            "conv4_block21_2_conv (Conv2D)   (None, 14, 14, 32)   36864       conv4_block21_1_relu[0][0]       \n",
            "__________________________________________________________________________________________________\n",
            "conv4_block21_concat (Concatena (None, 14, 14, 928)  0           conv4_block20_concat[0][0]       \n",
            "                                                                 conv4_block21_2_conv[0][0]       \n",
            "__________________________________________________________________________________________________\n",
            "conv4_block22_0_bn (BatchNormal (None, 14, 14, 928)  3712        conv4_block21_concat[0][0]       \n",
            "__________________________________________________________________________________________________\n",
            "conv4_block22_0_relu (Activatio (None, 14, 14, 928)  0           conv4_block22_0_bn[0][0]         \n",
            "__________________________________________________________________________________________________\n",
            "conv4_block22_1_conv (Conv2D)   (None, 14, 14, 128)  118784      conv4_block22_0_relu[0][0]       \n",
            "__________________________________________________________________________________________________\n",
            "conv4_block22_1_bn (BatchNormal (None, 14, 14, 128)  512         conv4_block22_1_conv[0][0]       \n",
            "__________________________________________________________________________________________________\n",
            "conv4_block22_1_relu (Activatio (None, 14, 14, 128)  0           conv4_block22_1_bn[0][0]         \n",
            "__________________________________________________________________________________________________\n",
            "conv4_block22_2_conv (Conv2D)   (None, 14, 14, 32)   36864       conv4_block22_1_relu[0][0]       \n",
            "__________________________________________________________________________________________________\n",
            "conv4_block22_concat (Concatena (None, 14, 14, 960)  0           conv4_block21_concat[0][0]       \n",
            "                                                                 conv4_block22_2_conv[0][0]       \n",
            "__________________________________________________________________________________________________\n",
            "conv4_block23_0_bn (BatchNormal (None, 14, 14, 960)  3840        conv4_block22_concat[0][0]       \n",
            "__________________________________________________________________________________________________\n",
            "conv4_block23_0_relu (Activatio (None, 14, 14, 960)  0           conv4_block23_0_bn[0][0]         \n",
            "__________________________________________________________________________________________________\n",
            "conv4_block23_1_conv (Conv2D)   (None, 14, 14, 128)  122880      conv4_block23_0_relu[0][0]       \n",
            "__________________________________________________________________________________________________\n",
            "conv4_block23_1_bn (BatchNormal (None, 14, 14, 128)  512         conv4_block23_1_conv[0][0]       \n",
            "__________________________________________________________________________________________________\n",
            "conv4_block23_1_relu (Activatio (None, 14, 14, 128)  0           conv4_block23_1_bn[0][0]         \n",
            "__________________________________________________________________________________________________\n",
            "conv4_block23_2_conv (Conv2D)   (None, 14, 14, 32)   36864       conv4_block23_1_relu[0][0]       \n",
            "__________________________________________________________________________________________________\n",
            "conv4_block23_concat (Concatena (None, 14, 14, 992)  0           conv4_block22_concat[0][0]       \n",
            "                                                                 conv4_block23_2_conv[0][0]       \n",
            "__________________________________________________________________________________________________\n",
            "conv4_block24_0_bn (BatchNormal (None, 14, 14, 992)  3968        conv4_block23_concat[0][0]       \n",
            "__________________________________________________________________________________________________\n",
            "conv4_block24_0_relu (Activatio (None, 14, 14, 992)  0           conv4_block24_0_bn[0][0]         \n",
            "__________________________________________________________________________________________________\n",
            "conv4_block24_1_conv (Conv2D)   (None, 14, 14, 128)  126976      conv4_block24_0_relu[0][0]       \n",
            "__________________________________________________________________________________________________\n",
            "conv4_block24_1_bn (BatchNormal (None, 14, 14, 128)  512         conv4_block24_1_conv[0][0]       \n",
            "__________________________________________________________________________________________________\n",
            "conv4_block24_1_relu (Activatio (None, 14, 14, 128)  0           conv4_block24_1_bn[0][0]         \n",
            "__________________________________________________________________________________________________\n",
            "conv4_block24_2_conv (Conv2D)   (None, 14, 14, 32)   36864       conv4_block24_1_relu[0][0]       \n",
            "__________________________________________________________________________________________________\n",
            "conv4_block24_concat (Concatena (None, 14, 14, 1024) 0           conv4_block23_concat[0][0]       \n",
            "                                                                 conv4_block24_2_conv[0][0]       \n",
            "__________________________________________________________________________________________________\n",
            "pool4_bn (BatchNormalization)   (None, 14, 14, 1024) 4096        conv4_block24_concat[0][0]       \n",
            "__________________________________________________________________________________________________\n",
            "pool4_relu (Activation)         (None, 14, 14, 1024) 0           pool4_bn[0][0]                   \n",
            "__________________________________________________________________________________________________\n",
            "pool4_conv (Conv2D)             (None, 14, 14, 512)  524288      pool4_relu[0][0]                 \n",
            "__________________________________________________________________________________________________\n",
            "pool4_pool (AveragePooling2D)   (None, 7, 7, 512)    0           pool4_conv[0][0]                 \n",
            "__________________________________________________________________________________________________\n",
            "conv5_block1_0_bn (BatchNormali (None, 7, 7, 512)    2048        pool4_pool[0][0]                 \n",
            "__________________________________________________________________________________________________\n",
            "conv5_block1_0_relu (Activation (None, 7, 7, 512)    0           conv5_block1_0_bn[0][0]          \n",
            "__________________________________________________________________________________________________\n",
            "conv5_block1_1_conv (Conv2D)    (None, 7, 7, 128)    65536       conv5_block1_0_relu[0][0]        \n",
            "__________________________________________________________________________________________________\n",
            "conv5_block1_1_bn (BatchNormali (None, 7, 7, 128)    512         conv5_block1_1_conv[0][0]        \n",
            "__________________________________________________________________________________________________\n",
            "conv5_block1_1_relu (Activation (None, 7, 7, 128)    0           conv5_block1_1_bn[0][0]          \n",
            "__________________________________________________________________________________________________\n",
            "conv5_block1_2_conv (Conv2D)    (None, 7, 7, 32)     36864       conv5_block1_1_relu[0][0]        \n",
            "__________________________________________________________________________________________________\n",
            "conv5_block1_concat (Concatenat (None, 7, 7, 544)    0           pool4_pool[0][0]                 \n",
            "                                                                 conv5_block1_2_conv[0][0]        \n",
            "__________________________________________________________________________________________________\n",
            "conv5_block2_0_bn (BatchNormali (None, 7, 7, 544)    2176        conv5_block1_concat[0][0]        \n",
            "__________________________________________________________________________________________________\n",
            "conv5_block2_0_relu (Activation (None, 7, 7, 544)    0           conv5_block2_0_bn[0][0]          \n",
            "__________________________________________________________________________________________________\n",
            "conv5_block2_1_conv (Conv2D)    (None, 7, 7, 128)    69632       conv5_block2_0_relu[0][0]        \n",
            "__________________________________________________________________________________________________\n",
            "conv5_block2_1_bn (BatchNormali (None, 7, 7, 128)    512         conv5_block2_1_conv[0][0]        \n",
            "__________________________________________________________________________________________________\n",
            "conv5_block2_1_relu (Activation (None, 7, 7, 128)    0           conv5_block2_1_bn[0][0]          \n",
            "__________________________________________________________________________________________________\n",
            "conv5_block2_2_conv (Conv2D)    (None, 7, 7, 32)     36864       conv5_block2_1_relu[0][0]        \n",
            "__________________________________________________________________________________________________\n",
            "conv5_block2_concat (Concatenat (None, 7, 7, 576)    0           conv5_block1_concat[0][0]        \n",
            "                                                                 conv5_block2_2_conv[0][0]        \n",
            "__________________________________________________________________________________________________\n",
            "conv5_block3_0_bn (BatchNormali (None, 7, 7, 576)    2304        conv5_block2_concat[0][0]        \n",
            "__________________________________________________________________________________________________\n",
            "conv5_block3_0_relu (Activation (None, 7, 7, 576)    0           conv5_block3_0_bn[0][0]          \n",
            "__________________________________________________________________________________________________\n",
            "conv5_block3_1_conv (Conv2D)    (None, 7, 7, 128)    73728       conv5_block3_0_relu[0][0]        \n",
            "__________________________________________________________________________________________________\n",
            "conv5_block3_1_bn (BatchNormali (None, 7, 7, 128)    512         conv5_block3_1_conv[0][0]        \n",
            "__________________________________________________________________________________________________\n",
            "conv5_block3_1_relu (Activation (None, 7, 7, 128)    0           conv5_block3_1_bn[0][0]          \n",
            "__________________________________________________________________________________________________\n",
            "conv5_block3_2_conv (Conv2D)    (None, 7, 7, 32)     36864       conv5_block3_1_relu[0][0]        \n",
            "__________________________________________________________________________________________________\n",
            "conv5_block3_concat (Concatenat (None, 7, 7, 608)    0           conv5_block2_concat[0][0]        \n",
            "                                                                 conv5_block3_2_conv[0][0]        \n",
            "__________________________________________________________________________________________________\n",
            "conv5_block4_0_bn (BatchNormali (None, 7, 7, 608)    2432        conv5_block3_concat[0][0]        \n",
            "__________________________________________________________________________________________________\n",
            "conv5_block4_0_relu (Activation (None, 7, 7, 608)    0           conv5_block4_0_bn[0][0]          \n",
            "__________________________________________________________________________________________________\n",
            "conv5_block4_1_conv (Conv2D)    (None, 7, 7, 128)    77824       conv5_block4_0_relu[0][0]        \n",
            "__________________________________________________________________________________________________\n",
            "conv5_block4_1_bn (BatchNormali (None, 7, 7, 128)    512         conv5_block4_1_conv[0][0]        \n",
            "__________________________________________________________________________________________________\n",
            "conv5_block4_1_relu (Activation (None, 7, 7, 128)    0           conv5_block4_1_bn[0][0]          \n",
            "__________________________________________________________________________________________________\n",
            "conv5_block4_2_conv (Conv2D)    (None, 7, 7, 32)     36864       conv5_block4_1_relu[0][0]        \n",
            "__________________________________________________________________________________________________\n",
            "conv5_block4_concat (Concatenat (None, 7, 7, 640)    0           conv5_block3_concat[0][0]        \n",
            "                                                                 conv5_block4_2_conv[0][0]        \n",
            "__________________________________________________________________________________________________\n",
            "conv5_block5_0_bn (BatchNormali (None, 7, 7, 640)    2560        conv5_block4_concat[0][0]        \n",
            "__________________________________________________________________________________________________\n",
            "conv5_block5_0_relu (Activation (None, 7, 7, 640)    0           conv5_block5_0_bn[0][0]          \n",
            "__________________________________________________________________________________________________\n",
            "conv5_block5_1_conv (Conv2D)    (None, 7, 7, 128)    81920       conv5_block5_0_relu[0][0]        \n",
            "__________________________________________________________________________________________________\n",
            "conv5_block5_1_bn (BatchNormali (None, 7, 7, 128)    512         conv5_block5_1_conv[0][0]        \n",
            "__________________________________________________________________________________________________\n",
            "conv5_block5_1_relu (Activation (None, 7, 7, 128)    0           conv5_block5_1_bn[0][0]          \n",
            "__________________________________________________________________________________________________\n",
            "conv5_block5_2_conv (Conv2D)    (None, 7, 7, 32)     36864       conv5_block5_1_relu[0][0]        \n",
            "__________________________________________________________________________________________________\n",
            "conv5_block5_concat (Concatenat (None, 7, 7, 672)    0           conv5_block4_concat[0][0]        \n",
            "                                                                 conv5_block5_2_conv[0][0]        \n",
            "__________________________________________________________________________________________________\n",
            "conv5_block6_0_bn (BatchNormali (None, 7, 7, 672)    2688        conv5_block5_concat[0][0]        \n",
            "__________________________________________________________________________________________________\n",
            "conv5_block6_0_relu (Activation (None, 7, 7, 672)    0           conv5_block6_0_bn[0][0]          \n",
            "__________________________________________________________________________________________________\n",
            "conv5_block6_1_conv (Conv2D)    (None, 7, 7, 128)    86016       conv5_block6_0_relu[0][0]        \n",
            "__________________________________________________________________________________________________\n",
            "conv5_block6_1_bn (BatchNormali (None, 7, 7, 128)    512         conv5_block6_1_conv[0][0]        \n",
            "__________________________________________________________________________________________________\n",
            "conv5_block6_1_relu (Activation (None, 7, 7, 128)    0           conv5_block6_1_bn[0][0]          \n",
            "__________________________________________________________________________________________________\n",
            "conv5_block6_2_conv (Conv2D)    (None, 7, 7, 32)     36864       conv5_block6_1_relu[0][0]        \n",
            "__________________________________________________________________________________________________\n",
            "conv5_block6_concat (Concatenat (None, 7, 7, 704)    0           conv5_block5_concat[0][0]        \n",
            "                                                                 conv5_block6_2_conv[0][0]        \n",
            "__________________________________________________________________________________________________\n",
            "conv5_block7_0_bn (BatchNormali (None, 7, 7, 704)    2816        conv5_block6_concat[0][0]        \n",
            "__________________________________________________________________________________________________\n",
            "conv5_block7_0_relu (Activation (None, 7, 7, 704)    0           conv5_block7_0_bn[0][0]          \n",
            "__________________________________________________________________________________________________\n",
            "conv5_block7_1_conv (Conv2D)    (None, 7, 7, 128)    90112       conv5_block7_0_relu[0][0]        \n",
            "__________________________________________________________________________________________________\n",
            "conv5_block7_1_bn (BatchNormali (None, 7, 7, 128)    512         conv5_block7_1_conv[0][0]        \n",
            "__________________________________________________________________________________________________\n",
            "conv5_block7_1_relu (Activation (None, 7, 7, 128)    0           conv5_block7_1_bn[0][0]          \n",
            "__________________________________________________________________________________________________\n",
            "conv5_block7_2_conv (Conv2D)    (None, 7, 7, 32)     36864       conv5_block7_1_relu[0][0]        \n",
            "__________________________________________________________________________________________________\n",
            "conv5_block7_concat (Concatenat (None, 7, 7, 736)    0           conv5_block6_concat[0][0]        \n",
            "                                                                 conv5_block7_2_conv[0][0]        \n",
            "__________________________________________________________________________________________________\n",
            "conv5_block8_0_bn (BatchNormali (None, 7, 7, 736)    2944        conv5_block7_concat[0][0]        \n",
            "__________________________________________________________________________________________________\n",
            "conv5_block8_0_relu (Activation (None, 7, 7, 736)    0           conv5_block8_0_bn[0][0]          \n",
            "__________________________________________________________________________________________________\n",
            "conv5_block8_1_conv (Conv2D)    (None, 7, 7, 128)    94208       conv5_block8_0_relu[0][0]        \n",
            "__________________________________________________________________________________________________\n",
            "conv5_block8_1_bn (BatchNormali (None, 7, 7, 128)    512         conv5_block8_1_conv[0][0]        \n",
            "__________________________________________________________________________________________________\n",
            "conv5_block8_1_relu (Activation (None, 7, 7, 128)    0           conv5_block8_1_bn[0][0]          \n",
            "__________________________________________________________________________________________________\n",
            "conv5_block8_2_conv (Conv2D)    (None, 7, 7, 32)     36864       conv5_block8_1_relu[0][0]        \n",
            "__________________________________________________________________________________________________\n",
            "conv5_block8_concat (Concatenat (None, 7, 7, 768)    0           conv5_block7_concat[0][0]        \n",
            "                                                                 conv5_block8_2_conv[0][0]        \n",
            "__________________________________________________________________________________________________\n",
            "conv5_block9_0_bn (BatchNormali (None, 7, 7, 768)    3072        conv5_block8_concat[0][0]        \n",
            "__________________________________________________________________________________________________\n",
            "conv5_block9_0_relu (Activation (None, 7, 7, 768)    0           conv5_block9_0_bn[0][0]          \n",
            "__________________________________________________________________________________________________\n",
            "conv5_block9_1_conv (Conv2D)    (None, 7, 7, 128)    98304       conv5_block9_0_relu[0][0]        \n",
            "__________________________________________________________________________________________________\n",
            "conv5_block9_1_bn (BatchNormali (None, 7, 7, 128)    512         conv5_block9_1_conv[0][0]        \n",
            "__________________________________________________________________________________________________\n",
            "conv5_block9_1_relu (Activation (None, 7, 7, 128)    0           conv5_block9_1_bn[0][0]          \n",
            "__________________________________________________________________________________________________\n",
            "conv5_block9_2_conv (Conv2D)    (None, 7, 7, 32)     36864       conv5_block9_1_relu[0][0]        \n",
            "__________________________________________________________________________________________________\n",
            "conv5_block9_concat (Concatenat (None, 7, 7, 800)    0           conv5_block8_concat[0][0]        \n",
            "                                                                 conv5_block9_2_conv[0][0]        \n",
            "__________________________________________________________________________________________________\n",
            "conv5_block10_0_bn (BatchNormal (None, 7, 7, 800)    3200        conv5_block9_concat[0][0]        \n",
            "__________________________________________________________________________________________________\n",
            "conv5_block10_0_relu (Activatio (None, 7, 7, 800)    0           conv5_block10_0_bn[0][0]         \n",
            "__________________________________________________________________________________________________\n",
            "conv5_block10_1_conv (Conv2D)   (None, 7, 7, 128)    102400      conv5_block10_0_relu[0][0]       \n",
            "__________________________________________________________________________________________________\n",
            "conv5_block10_1_bn (BatchNormal (None, 7, 7, 128)    512         conv5_block10_1_conv[0][0]       \n",
            "__________________________________________________________________________________________________\n",
            "conv5_block10_1_relu (Activatio (None, 7, 7, 128)    0           conv5_block10_1_bn[0][0]         \n",
            "__________________________________________________________________________________________________\n",
            "conv5_block10_2_conv (Conv2D)   (None, 7, 7, 32)     36864       conv5_block10_1_relu[0][0]       \n",
            "__________________________________________________________________________________________________\n",
            "conv5_block10_concat (Concatena (None, 7, 7, 832)    0           conv5_block9_concat[0][0]        \n",
            "                                                                 conv5_block10_2_conv[0][0]       \n",
            "__________________________________________________________________________________________________\n",
            "conv5_block11_0_bn (BatchNormal (None, 7, 7, 832)    3328        conv5_block10_concat[0][0]       \n",
            "__________________________________________________________________________________________________\n",
            "conv5_block11_0_relu (Activatio (None, 7, 7, 832)    0           conv5_block11_0_bn[0][0]         \n",
            "__________________________________________________________________________________________________\n",
            "conv5_block11_1_conv (Conv2D)   (None, 7, 7, 128)    106496      conv5_block11_0_relu[0][0]       \n",
            "__________________________________________________________________________________________________\n",
            "conv5_block11_1_bn (BatchNormal (None, 7, 7, 128)    512         conv5_block11_1_conv[0][0]       \n",
            "__________________________________________________________________________________________________\n",
            "conv5_block11_1_relu (Activatio (None, 7, 7, 128)    0           conv5_block11_1_bn[0][0]         \n",
            "__________________________________________________________________________________________________\n",
            "conv5_block11_2_conv (Conv2D)   (None, 7, 7, 32)     36864       conv5_block11_1_relu[0][0]       \n",
            "__________________________________________________________________________________________________\n",
            "conv5_block11_concat (Concatena (None, 7, 7, 864)    0           conv5_block10_concat[0][0]       \n",
            "                                                                 conv5_block11_2_conv[0][0]       \n",
            "__________________________________________________________________________________________________\n",
            "conv5_block12_0_bn (BatchNormal (None, 7, 7, 864)    3456        conv5_block11_concat[0][0]       \n",
            "__________________________________________________________________________________________________\n",
            "conv5_block12_0_relu (Activatio (None, 7, 7, 864)    0           conv5_block12_0_bn[0][0]         \n",
            "__________________________________________________________________________________________________\n",
            "conv5_block12_1_conv (Conv2D)   (None, 7, 7, 128)    110592      conv5_block12_0_relu[0][0]       \n",
            "__________________________________________________________________________________________________\n",
            "conv5_block12_1_bn (BatchNormal (None, 7, 7, 128)    512         conv5_block12_1_conv[0][0]       \n",
            "__________________________________________________________________________________________________\n",
            "conv5_block12_1_relu (Activatio (None, 7, 7, 128)    0           conv5_block12_1_bn[0][0]         \n",
            "__________________________________________________________________________________________________\n",
            "conv5_block12_2_conv (Conv2D)   (None, 7, 7, 32)     36864       conv5_block12_1_relu[0][0]       \n",
            "__________________________________________________________________________________________________\n",
            "conv5_block12_concat (Concatena (None, 7, 7, 896)    0           conv5_block11_concat[0][0]       \n",
            "                                                                 conv5_block12_2_conv[0][0]       \n",
            "__________________________________________________________________________________________________\n",
            "conv5_block13_0_bn (BatchNormal (None, 7, 7, 896)    3584        conv5_block12_concat[0][0]       \n",
            "__________________________________________________________________________________________________\n",
            "conv5_block13_0_relu (Activatio (None, 7, 7, 896)    0           conv5_block13_0_bn[0][0]         \n",
            "__________________________________________________________________________________________________\n",
            "conv5_block13_1_conv (Conv2D)   (None, 7, 7, 128)    114688      conv5_block13_0_relu[0][0]       \n",
            "__________________________________________________________________________________________________\n",
            "conv5_block13_1_bn (BatchNormal (None, 7, 7, 128)    512         conv5_block13_1_conv[0][0]       \n",
            "__________________________________________________________________________________________________\n",
            "conv5_block13_1_relu (Activatio (None, 7, 7, 128)    0           conv5_block13_1_bn[0][0]         \n",
            "__________________________________________________________________________________________________\n",
            "conv5_block13_2_conv (Conv2D)   (None, 7, 7, 32)     36864       conv5_block13_1_relu[0][0]       \n",
            "__________________________________________________________________________________________________\n",
            "conv5_block13_concat (Concatena (None, 7, 7, 928)    0           conv5_block12_concat[0][0]       \n",
            "                                                                 conv5_block13_2_conv[0][0]       \n",
            "__________________________________________________________________________________________________\n",
            "conv5_block14_0_bn (BatchNormal (None, 7, 7, 928)    3712        conv5_block13_concat[0][0]       \n",
            "__________________________________________________________________________________________________\n",
            "conv5_block14_0_relu (Activatio (None, 7, 7, 928)    0           conv5_block14_0_bn[0][0]         \n",
            "__________________________________________________________________________________________________\n",
            "conv5_block14_1_conv (Conv2D)   (None, 7, 7, 128)    118784      conv5_block14_0_relu[0][0]       \n",
            "__________________________________________________________________________________________________\n",
            "conv5_block14_1_bn (BatchNormal (None, 7, 7, 128)    512         conv5_block14_1_conv[0][0]       \n",
            "__________________________________________________________________________________________________\n",
            "conv5_block14_1_relu (Activatio (None, 7, 7, 128)    0           conv5_block14_1_bn[0][0]         \n",
            "__________________________________________________________________________________________________\n",
            "conv5_block14_2_conv (Conv2D)   (None, 7, 7, 32)     36864       conv5_block14_1_relu[0][0]       \n",
            "__________________________________________________________________________________________________\n",
            "conv5_block14_concat (Concatena (None, 7, 7, 960)    0           conv5_block13_concat[0][0]       \n",
            "                                                                 conv5_block14_2_conv[0][0]       \n",
            "__________________________________________________________________________________________________\n",
            "conv5_block15_0_bn (BatchNormal (None, 7, 7, 960)    3840        conv5_block14_concat[0][0]       \n",
            "__________________________________________________________________________________________________\n",
            "conv5_block15_0_relu (Activatio (None, 7, 7, 960)    0           conv5_block15_0_bn[0][0]         \n",
            "__________________________________________________________________________________________________\n",
            "conv5_block15_1_conv (Conv2D)   (None, 7, 7, 128)    122880      conv5_block15_0_relu[0][0]       \n",
            "__________________________________________________________________________________________________\n",
            "conv5_block15_1_bn (BatchNormal (None, 7, 7, 128)    512         conv5_block15_1_conv[0][0]       \n",
            "__________________________________________________________________________________________________\n",
            "conv5_block15_1_relu (Activatio (None, 7, 7, 128)    0           conv5_block15_1_bn[0][0]         \n",
            "__________________________________________________________________________________________________\n",
            "conv5_block15_2_conv (Conv2D)   (None, 7, 7, 32)     36864       conv5_block15_1_relu[0][0]       \n",
            "__________________________________________________________________________________________________\n",
            "conv5_block15_concat (Concatena (None, 7, 7, 992)    0           conv5_block14_concat[0][0]       \n",
            "                                                                 conv5_block15_2_conv[0][0]       \n",
            "__________________________________________________________________________________________________\n",
            "conv5_block16_0_bn (BatchNormal (None, 7, 7, 992)    3968        conv5_block15_concat[0][0]       \n",
            "__________________________________________________________________________________________________\n",
            "conv5_block16_0_relu (Activatio (None, 7, 7, 992)    0           conv5_block16_0_bn[0][0]         \n",
            "__________________________________________________________________________________________________\n",
            "conv5_block16_1_conv (Conv2D)   (None, 7, 7, 128)    126976      conv5_block16_0_relu[0][0]       \n",
            "__________________________________________________________________________________________________\n",
            "conv5_block16_1_bn (BatchNormal (None, 7, 7, 128)    512         conv5_block16_1_conv[0][0]       \n",
            "__________________________________________________________________________________________________\n",
            "conv5_block16_1_relu (Activatio (None, 7, 7, 128)    0           conv5_block16_1_bn[0][0]         \n",
            "__________________________________________________________________________________________________\n",
            "conv5_block16_2_conv (Conv2D)   (None, 7, 7, 32)     36864       conv5_block16_1_relu[0][0]       \n",
            "__________________________________________________________________________________________________\n",
            "conv5_block16_concat (Concatena (None, 7, 7, 1024)   0           conv5_block15_concat[0][0]       \n",
            "                                                                 conv5_block16_2_conv[0][0]       \n",
            "__________________________________________________________________________________________________\n",
            "bn (BatchNormalization)         (None, 7, 7, 1024)   4096        conv5_block16_concat[0][0]       \n",
            "__________________________________________________________________________________________________\n",
            "relu (Activation)               (None, 7, 7, 1024)   0           bn[0][0]                         \n",
            "__________________________________________________________________________________________________\n",
            "conv2d_8 (Conv2D)               (None, 7, 7, 1024)   9438208     relu[0][0]                       \n",
            "__________________________________________________________________________________________________\n",
            "batch_normalization_8 (BatchNor (None, 7, 7, 1024)   4096        conv2d_8[0][0]                   \n",
            "__________________________________________________________________________________________________\n",
            "activation_4 (Activation)       (None, 7, 7, 1024)   0           batch_normalization_8[0][0]      \n",
            "__________________________________________________________________________________________________\n",
            "conv2d_9 (Conv2D)               (None, 7, 7, 256)    2359552     activation_4[0][0]               \n",
            "__________________________________________________________________________________________________\n",
            "batch_normalization_9 (BatchNor (None, 7, 7, 256)    1024        conv2d_9[0][0]                   \n",
            "__________________________________________________________________________________________________\n",
            "activation_5 (Activation)       (None, 7, 7, 256)    0           batch_normalization_9[0][0]      \n",
            "__________________________________________________________________________________________________\n",
            "conv2d_10 (Conv2D)              (None, 7, 7, 64)     147520      activation_5[0][0]               \n",
            "__________________________________________________________________________________________________\n",
            "batch_normalization_10 (BatchNo (None, 7, 7, 64)     256         conv2d_10[0][0]                  \n",
            "__________________________________________________________________________________________________\n",
            "activation_6 (Activation)       (None, 7, 7, 64)     0           batch_normalization_10[0][0]     \n",
            "__________________________________________________________________________________________________\n",
            "conv2d_11 (Conv2D)              (None, 7, 7, 5)      2885        activation_6[0][0]               \n",
            "__________________________________________________________________________________________________\n",
            "batch_normalization_11 (BatchNo (None, 7, 7, 5)      20          conv2d_11[0][0]                  \n",
            "__________________________________________________________________________________________________\n",
            "activation_7 (Activation)       (None, 7, 7, 5)      0           batch_normalization_11[0][0]     \n",
            "__________________________________________________________________________________________________\n",
            "global_average_pooling2d_1 (Glo (None, 5)            0           activation_7[0][0]               \n",
            "__________________________________________________________________________________________________\n",
            "tf.nn.softmax_1 (TFOpLambda)    (None, 5)            0           global_average_pooling2d_1[0][0] \n",
            "==================================================================================================\n",
            "Total params: 18,991,065\n",
            "Trainable params: 18,904,719\n",
            "Non-trainable params: 86,346\n",
            "__________________________________________________________________________________________________\n"
          ]
        }
      ]
    },
    {
      "cell_type": "code",
      "metadata": {
        "execution": {
          "iopub.execute_input": "2021-05-30T18:40:08.391663Z",
          "iopub.status.busy": "2021-05-30T18:40:08.385701Z",
          "iopub.status.idle": "2021-05-30T18:40:08.398432Z",
          "shell.execute_reply": "2021-05-30T18:40:08.397997Z",
          "shell.execute_reply.started": "2021-05-30T09:28:58.465217Z"
        },
        "id": "norman-detector",
        "papermill": {
          "duration": 0.226948,
          "end_time": "2021-05-30T18:40:08.398547",
          "exception": false,
          "start_time": "2021-05-30T18:40:08.171599",
          "status": "completed"
        },
        "tags": []
      },
      "source": [
        "# compile\n",
        "xception_model.compile(optimizer = tf.keras.optimizers.Adam(learning_rate = 0.00001, decay = 0.0001),\n",
        "                 metrics = [\"acc\"],\n",
        "                 loss = tf.keras.losses.sparse_categorical_crossentropy)\n",
        "\n",
        "# callbacks and checkpoints\n",
        "checkpoint_path = \"xception_best.ckpt\"\n",
        "\n",
        "checkpoint_dir = os.path.dirname(checkpoint_path)\n",
        "\n",
        "my_callbacks = [\n",
        "              ModelCheckpoint(\n",
        "                   checkpoint_path,\n",
        "                   monitor = 'val_acc',\n",
        "                   verbose = 1,\n",
        "                   save_weights_only = True,\n",
        "                   save_best_only = True,\n",
        "                   mode = \"max\"\n",
        "                  ),\n",
        "              EarlyStopping(\n",
        "                   monitor = 'val_loss',\n",
        "                   patience = 5,\n",
        "                   verbose = 0\n",
        "                  ),\n",
        "              ReduceLROnPlateau(\n",
        "                   monitor = 'val_loss',\n",
        "                   patience = 5,\n",
        "                   verbose = 1\n",
        "                  )\n",
        "]"
      ],
      "id": "norman-detector",
      "execution_count": 26,
      "outputs": []
    },
    {
      "cell_type": "markdown",
      "metadata": {
        "id": "crucial-administration",
        "papermill": {
          "duration": 0.038495,
          "end_time": "2021-05-30T18:40:08.475329",
          "exception": false,
          "start_time": "2021-05-30T18:40:08.436834",
          "status": "completed"
        },
        "tags": []
      },
      "source": [
        "### Weighting classes\n",
        "As we have unevenly class distibution, we will weight them based on the number of samples\n",
        "\n",
        "### 가중치 클래스\n",
        "우리는 등급 차이가 일정하지 않기 때문에 샘플 수에 따라 무게를 재도록 하겠습니다."
      ],
      "id": "crucial-administration"
    },
    {
      "cell_type": "code",
      "metadata": {
        "execution": {
          "iopub.execute_input": "2021-05-30T18:40:08.558435Z",
          "iopub.status.busy": "2021-05-30T18:40:08.557616Z",
          "iopub.status.idle": "2021-05-30T18:40:09.060821Z",
          "shell.execute_reply": "2021-05-30T18:40:09.060357Z",
          "shell.execute_reply.started": "2021-05-30T09:30:11.007618Z"
        },
        "papermill": {
          "duration": 0.546357,
          "end_time": "2021-05-30T18:40:09.060960",
          "exception": false,
          "start_time": "2021-05-30T18:40:08.514603",
          "status": "completed"
        },
        "tags": [],
        "id": "regional-indie"
      },
      "source": [
        "from sklearn.utils import class_weight\n",
        "\n",
        "class_weights = class_weight.compute_class_weight(\n",
        "    'balanced',\n",
        "    classes = np.unique(df_train_kaggle.label.values),\n",
        "    y = df_train_kaggle.label.values\n",
        "  )\n",
        "\n",
        "class_weights = dict(enumerate(class_weights))"
      ],
      "id": "regional-indie",
      "execution_count": 27,
      "outputs": []
    },
    {
      "cell_type": "markdown",
      "metadata": {
        "papermill": {
          "duration": 0.037503,
          "end_time": "2021-05-30T18:40:09.136492",
          "exception": false,
          "start_time": "2021-05-30T18:40:09.098989",
          "status": "completed"
        },
        "tags": [],
        "id": "square-better"
      },
      "source": [
        "# Train\n",
        "Lets roll"
      ],
      "id": "square-better"
    },
    {
      "cell_type": "code",
      "metadata": {
        "execution": {
          "iopub.execute_input": "2021-05-30T18:40:09.218272Z",
          "iopub.status.busy": "2021-05-30T18:40:09.217728Z",
          "iopub.status.idle": "2021-05-30T20:12:12.156502Z",
          "shell.execute_reply": "2021-05-30T20:12:12.154537Z",
          "shell.execute_reply.started": "2021-05-26T18:49:57.904339Z"
        },
        "id": "hidden-stephen",
        "papermill": {
          "duration": 5522.981999,
          "end_time": "2021-05-30T20:12:12.156678",
          "exception": false,
          "start_time": "2021-05-30T18:40:09.174679",
          "status": "completed"
        },
        "tags": [],
        "colab": {
          "base_uri": "https://localhost:8080/"
        },
        "outputId": "3f60471b-8d09-471d-fb05-9b069c83bc2c"
      },
      "source": [
        "# train the model\n",
        "xception_model.fit(\n",
        "        train_generator,\n",
        "        epochs = 100,\n",
        "        validation_data = valid_generator,\n",
        "        callbacks = [my_callbacks],\n",
        "        class_weight = class_weights\n",
        "      )\n",
        "\n",
        "# load best saved weights\n",
        "xception_model.load_weights(checkpoint_path)"
      ],
      "id": "hidden-stephen",
      "execution_count": 28,
      "outputs": [
        {
          "output_type": "stream",
          "name": "stdout",
          "text": [
            "Epoch 1/100\n",
            "306/306 [==============================] - 104s 254ms/step - loss: 1.4449 - acc: 0.2933 - val_loss: 1.5197 - val_acc: 0.3022\n",
            "\n",
            "Epoch 00001: val_acc improved from -inf to 0.30225, saving model to xception_best.ckpt\n",
            "Epoch 2/100\n",
            "306/306 [==============================] - 74s 243ms/step - loss: 1.2059 - acc: 0.4694 - val_loss: 1.4840 - val_acc: 0.3645\n",
            "\n",
            "Epoch 00002: val_acc improved from 0.30225 to 0.36446, saving model to xception_best.ckpt\n",
            "Epoch 3/100\n",
            "306/306 [==============================] - 74s 243ms/step - loss: 1.0602 - acc: 0.5740 - val_loss: 1.2899 - val_acc: 0.5305\n",
            "\n",
            "Epoch 00003: val_acc improved from 0.36446 to 0.53053, saving model to xception_best.ckpt\n",
            "Epoch 4/100\n",
            "306/306 [==============================] - 74s 243ms/step - loss: 0.9490 - acc: 0.6501 - val_loss: 1.2033 - val_acc: 0.5911\n",
            "\n",
            "Epoch 00004: val_acc improved from 0.53053 to 0.59108, saving model to xception_best.ckpt\n",
            "Epoch 5/100\n",
            "306/306 [==============================] - 74s 243ms/step - loss: 0.8694 - acc: 0.7054 - val_loss: 1.1448 - val_acc: 0.6519\n",
            "\n",
            "Epoch 00005: val_acc improved from 0.59108 to 0.65189, saving model to xception_best.ckpt\n",
            "Epoch 6/100\n",
            "306/306 [==============================] - 74s 243ms/step - loss: 0.7896 - acc: 0.7709 - val_loss: 1.1247 - val_acc: 0.6514\n",
            "\n",
            "Epoch 00006: val_acc did not improve from 0.65189\n",
            "Epoch 7/100\n",
            "306/306 [==============================] - 74s 243ms/step - loss: 0.7261 - acc: 0.8209 - val_loss: 1.0533 - val_acc: 0.7195\n",
            "\n",
            "Epoch 00007: val_acc improved from 0.65189 to 0.71947, saving model to xception_best.ckpt\n",
            "Epoch 8/100\n",
            "306/306 [==============================] - 74s 243ms/step - loss: 0.6667 - acc: 0.8626 - val_loss: 1.0780 - val_acc: 0.7020\n",
            "\n",
            "Epoch 00008: val_acc did not improve from 0.71947\n",
            "Epoch 9/100\n",
            "306/306 [==============================] - 74s 243ms/step - loss: 0.6262 - acc: 0.8947 - val_loss: 0.9829 - val_acc: 0.7870\n",
            "\n",
            "Epoch 00009: val_acc improved from 0.71947 to 0.78705, saving model to xception_best.ckpt\n",
            "Epoch 10/100\n",
            "306/306 [==============================] - 74s 243ms/step - loss: 0.5987 - acc: 0.9161 - val_loss: 0.9926 - val_acc: 0.7846\n",
            "\n",
            "Epoch 00010: val_acc did not improve from 0.78705\n",
            "Epoch 11/100\n",
            "306/306 [==============================] - 74s 243ms/step - loss: 0.5648 - acc: 0.9390 - val_loss: 0.9646 - val_acc: 0.8002\n",
            "\n",
            "Epoch 00011: val_acc improved from 0.78705 to 0.80020, saving model to xception_best.ckpt\n",
            "Epoch 12/100\n",
            "306/306 [==============================] - 74s 243ms/step - loss: 0.5495 - acc: 0.9488 - val_loss: 0.9858 - val_acc: 0.8103\n",
            "\n",
            "Epoch 00012: val_acc improved from 0.80020 to 0.81030, saving model to xception_best.ckpt\n",
            "Epoch 13/100\n",
            "306/306 [==============================] - 74s 243ms/step - loss: 0.5288 - acc: 0.9593 - val_loss: 0.9359 - val_acc: 0.8241\n",
            "\n",
            "Epoch 00013: val_acc improved from 0.81030 to 0.82409, saving model to xception_best.ckpt\n",
            "Epoch 14/100\n",
            "306/306 [==============================] - 74s 243ms/step - loss: 0.5152 - acc: 0.9707 - val_loss: 0.9952 - val_acc: 0.7821\n",
            "\n",
            "Epoch 00014: val_acc did not improve from 0.82409\n",
            "Epoch 15/100\n",
            "306/306 [==============================] - 74s 243ms/step - loss: 0.5079 - acc: 0.9732 - val_loss: 0.9048 - val_acc: 0.8468\n",
            "\n",
            "Epoch 00015: val_acc improved from 0.82409 to 0.84683, saving model to xception_best.ckpt\n",
            "Epoch 16/100\n",
            "306/306 [==============================] - 74s 243ms/step - loss: 0.4945 - acc: 0.9800 - val_loss: 0.8947 - val_acc: 0.8587\n",
            "\n",
            "Epoch 00016: val_acc improved from 0.84683 to 0.85871, saving model to xception_best.ckpt\n",
            "Epoch 17/100\n",
            "306/306 [==============================] - 74s 243ms/step - loss: 0.4900 - acc: 0.9804 - val_loss: 0.9005 - val_acc: 0.8514\n",
            "\n",
            "Epoch 00017: val_acc did not improve from 0.85871\n",
            "Epoch 18/100\n",
            "306/306 [==============================] - 74s 243ms/step - loss: 0.4801 - acc: 0.9845 - val_loss: 0.8730 - val_acc: 0.8806\n",
            "\n",
            "Epoch 00018: val_acc improved from 0.85871 to 0.88056, saving model to xception_best.ckpt\n",
            "Epoch 19/100\n",
            "306/306 [==============================] - 74s 243ms/step - loss: 0.4700 - acc: 0.9874 - val_loss: 0.8882 - val_acc: 0.8576\n",
            "\n",
            "Epoch 00019: val_acc did not improve from 0.88056\n",
            "Epoch 20/100\n",
            "306/306 [==============================] - 74s 243ms/step - loss: 0.4643 - acc: 0.9928 - val_loss: 0.9035 - val_acc: 0.8466\n",
            "\n",
            "Epoch 00020: val_acc did not improve from 0.88056\n",
            "Epoch 21/100\n",
            "306/306 [==============================] - 74s 243ms/step - loss: 0.4581 - acc: 0.9901 - val_loss: 0.8542 - val_acc: 0.8758\n",
            "\n",
            "Epoch 00021: val_acc did not improve from 0.88056\n",
            "Epoch 22/100\n",
            "306/306 [==============================] - 74s 243ms/step - loss: 0.4550 - acc: 0.9936 - val_loss: 0.8650 - val_acc: 0.8762\n",
            "\n",
            "Epoch 00022: val_acc did not improve from 0.88056\n",
            "Epoch 23/100\n",
            "306/306 [==============================] - 74s 243ms/step - loss: 0.4464 - acc: 0.9946 - val_loss: 0.8382 - val_acc: 0.8965\n",
            "\n",
            "Epoch 00023: val_acc improved from 0.88056 to 0.89653, saving model to xception_best.ckpt\n",
            "Epoch 24/100\n",
            "306/306 [==============================] - 74s 243ms/step - loss: 0.4507 - acc: 0.9943 - val_loss: 0.8497 - val_acc: 0.8770\n",
            "\n",
            "Epoch 00024: val_acc did not improve from 0.89653\n",
            "Epoch 25/100\n",
            "306/306 [==============================] - 74s 243ms/step - loss: 0.4409 - acc: 0.9957 - val_loss: 0.8414 - val_acc: 0.8859\n",
            "\n",
            "Epoch 00025: val_acc did not improve from 0.89653\n",
            "Epoch 26/100\n",
            "306/306 [==============================] - 74s 243ms/step - loss: 0.4399 - acc: 0.9938 - val_loss: 0.8121 - val_acc: 0.9030\n",
            "\n",
            "Epoch 00026: val_acc improved from 0.89653 to 0.90304, saving model to xception_best.ckpt\n",
            "Epoch 27/100\n",
            "306/306 [==============================] - 74s 243ms/step - loss: 0.4321 - acc: 0.9960 - val_loss: 0.8340 - val_acc: 0.8800\n",
            "\n",
            "Epoch 00027: val_acc did not improve from 0.90304\n",
            "Epoch 28/100\n",
            "306/306 [==============================] - 74s 243ms/step - loss: 0.4325 - acc: 0.9968 - val_loss: 0.8091 - val_acc: 0.9056\n",
            "\n",
            "Epoch 00028: val_acc improved from 0.90304 to 0.90560, saving model to xception_best.ckpt\n",
            "Epoch 29/100\n",
            "306/306 [==============================] - 74s 243ms/step - loss: 0.4330 - acc: 0.9963 - val_loss: 0.8357 - val_acc: 0.8775\n",
            "\n",
            "Epoch 00029: val_acc did not improve from 0.90560\n",
            "Epoch 30/100\n",
            "306/306 [==============================] - 74s 243ms/step - loss: 0.4276 - acc: 0.9968 - val_loss: 0.8283 - val_acc: 0.8777\n",
            "\n",
            "Epoch 00030: val_acc did not improve from 0.90560\n",
            "Epoch 31/100\n",
            "306/306 [==============================] - 74s 243ms/step - loss: 0.4232 - acc: 0.9965 - val_loss: 0.8421 - val_acc: 0.8737\n",
            "\n",
            "Epoch 00031: val_acc did not improve from 0.90560\n",
            "Epoch 32/100\n",
            "306/306 [==============================] - 74s 243ms/step - loss: 0.4281 - acc: 0.9970 - val_loss: 0.8541 - val_acc: 0.8613\n",
            "\n",
            "Epoch 00032: val_acc did not improve from 0.90560\n",
            "Epoch 33/100\n",
            "306/306 [==============================] - 74s 243ms/step - loss: 0.4222 - acc: 0.9967 - val_loss: 0.7821 - val_acc: 0.9082\n",
            "\n",
            "Epoch 00033: val_acc improved from 0.90560 to 0.90815, saving model to xception_best.ckpt\n",
            "Epoch 34/100\n",
            "306/306 [==============================] - 74s 243ms/step - loss: 0.4182 - acc: 0.9981 - val_loss: 0.7833 - val_acc: 0.9122\n",
            "\n",
            "Epoch 00034: val_acc improved from 0.90815 to 0.91224, saving model to xception_best.ckpt\n",
            "Epoch 35/100\n",
            "306/306 [==============================] - 74s 243ms/step - loss: 0.4144 - acc: 0.9981 - val_loss: 0.7904 - val_acc: 0.8995\n",
            "\n",
            "Epoch 00035: val_acc did not improve from 0.91224\n",
            "Epoch 36/100\n",
            "306/306 [==============================] - 74s 243ms/step - loss: 0.4112 - acc: 0.9961 - val_loss: 0.8823 - val_acc: 0.8337\n",
            "\n",
            "Epoch 00036: val_acc did not improve from 0.91224\n",
            "Epoch 37/100\n",
            "306/306 [==============================] - 74s 243ms/step - loss: 0.4096 - acc: 0.9966 - val_loss: 0.7689 - val_acc: 0.9142\n",
            "\n",
            "Epoch 00037: val_acc improved from 0.91224 to 0.91415, saving model to xception_best.ckpt\n",
            "Epoch 38/100\n",
            "306/306 [==============================] - 74s 243ms/step - loss: 0.4067 - acc: 0.9985 - val_loss: 0.7723 - val_acc: 0.9060\n",
            "\n",
            "Epoch 00038: val_acc did not improve from 0.91415\n",
            "Epoch 39/100\n",
            "306/306 [==============================] - 74s 243ms/step - loss: 0.4110 - acc: 0.9967 - val_loss: 0.7851 - val_acc: 0.8967\n",
            "\n",
            "Epoch 00039: val_acc did not improve from 0.91415\n",
            "Epoch 40/100\n",
            "306/306 [==============================] - 74s 243ms/step - loss: 0.4102 - acc: 0.9968 - val_loss: 0.7694 - val_acc: 0.9016\n",
            "\n",
            "Epoch 00040: val_acc did not improve from 0.91415\n",
            "Epoch 41/100\n",
            "306/306 [==============================] - 74s 243ms/step - loss: 0.4078 - acc: 0.9963 - val_loss: 0.7505 - val_acc: 0.9145\n",
            "\n",
            "Epoch 00041: val_acc improved from 0.91415 to 0.91454, saving model to xception_best.ckpt\n",
            "Epoch 42/100\n",
            "306/306 [==============================] - 74s 243ms/step - loss: 0.3999 - acc: 0.9985 - val_loss: 0.7662 - val_acc: 0.9021\n",
            "\n",
            "Epoch 00042: val_acc did not improve from 0.91454\n",
            "Epoch 43/100\n",
            "306/306 [==============================] - 74s 243ms/step - loss: 0.4020 - acc: 0.9989 - val_loss: 0.8098 - val_acc: 0.8726\n",
            "\n",
            "Epoch 00043: val_acc did not improve from 0.91454\n",
            "Epoch 44/100\n",
            "306/306 [==============================] - 74s 243ms/step - loss: 0.4021 - acc: 0.9973 - val_loss: 0.7376 - val_acc: 0.9193\n",
            "\n",
            "Epoch 00044: val_acc improved from 0.91454 to 0.91926, saving model to xception_best.ckpt\n",
            "Epoch 45/100\n",
            "306/306 [==============================] - 74s 243ms/step - loss: 0.3981 - acc: 0.9978 - val_loss: 0.7661 - val_acc: 0.8915\n",
            "\n",
            "Epoch 00045: val_acc did not improve from 0.91926\n",
            "Epoch 46/100\n",
            "306/306 [==============================] - 74s 243ms/step - loss: 0.3956 - acc: 0.9983 - val_loss: 0.7427 - val_acc: 0.9122\n",
            "\n",
            "Epoch 00046: val_acc did not improve from 0.91926\n",
            "Epoch 47/100\n",
            "306/306 [==============================] - 74s 243ms/step - loss: 0.4022 - acc: 0.9985 - val_loss: 0.7385 - val_acc: 0.9134\n",
            "\n",
            "Epoch 00047: val_acc did not improve from 0.91926\n",
            "Epoch 48/100\n",
            "306/306 [==============================] - 74s 243ms/step - loss: 0.3997 - acc: 0.9963 - val_loss: 0.7615 - val_acc: 0.8983\n",
            "\n",
            "Epoch 00048: val_acc did not improve from 0.91926\n",
            "Epoch 49/100\n",
            "306/306 [==============================] - 74s 243ms/step - loss: 0.3921 - acc: 0.9991 - val_loss: 0.7636 - val_acc: 0.9015\n",
            "\n",
            "Epoch 00049: val_acc did not improve from 0.91926\n",
            "\n",
            "Epoch 00049: ReduceLROnPlateau reducing learning rate to 9.999999747378752e-07.\n"
          ]
        },
        {
          "output_type": "execute_result",
          "data": {
            "text/plain": [
              "<tensorflow.python.training.tracking.util.CheckpointLoadStatus at 0x7f26437fa550>"
            ]
          },
          "metadata": {},
          "execution_count": 28
        }
      ]
    },
    {
      "cell_type": "markdown",
      "metadata": {
        "id": "pretty-morris",
        "papermill": {
          "duration": 3.201635,
          "end_time": "2021-05-30T20:12:18.344310",
          "exception": false,
          "start_time": "2021-05-30T20:12:15.142675",
          "status": "completed"
        },
        "tags": []
      },
      "source": [
        "### Observation\n",
        "As we can see train and validation accuracy is pretty close, which proves kaggle and competition data has come from the same distribution and we can freely use it to experiment with.\n",
        "\n",
        "## Retraining last trained model on competition data\n",
        "As we have used competition data as validation set previously, we will use it as train set now (and some part of it as validation set) hoping this additional training would give our model new information to perform better.\n",
        "\n",
        "## 관찰\n",
        "보시다시피 열차와 검증 정확도는 매우 가까우며, 이는 카글과 경쟁 데이터가 동일한 분포에서 나왔다는 것을 증명하며, 이를 실험하는 데 자유롭게 사용할 수 있습니다.\n",
        "\n",
        "## 경기 데이터에 대해 마지막으로 훈련된 모델 재교육\n",
        "이전에 경쟁 데이터를 검증 세트로 사용했으므로, 이제 열차 세트로 사용할 것이며(그리고 그 중 일부는 검증 세트로) 이 추가 교육을 통해 모델이 더 나은 성능을 발휘할 수 있는 새로운 정보를 얻을 수 있기를 바랍니다."
      ],
      "id": "pretty-morris"
    },
    {
      "cell_type": "code",
      "metadata": {
        "execution": {
          "iopub.execute_input": "2021-05-30T20:12:24.238372Z",
          "iopub.status.busy": "2021-05-30T20:12:24.237660Z",
          "iopub.status.idle": "2021-05-30T20:12:24.305208Z",
          "shell.execute_reply": "2021-05-30T20:12:24.305579Z",
          "shell.execute_reply.started": "2021-05-30T09:30:16.948040Z"
        },
        "id": "cloudy-idaho",
        "papermill": {
          "duration": 3.027306,
          "end_time": "2021-05-30T20:12:24.305720",
          "exception": false,
          "start_time": "2021-05-30T20:12:21.278414",
          "status": "completed"
        },
        "tags": []
      },
      "source": [
        "# train and validation split on competition data\n",
        "from sklearn.model_selection import train_test_split\n",
        "X_train, X_test = train_test_split(\n",
        "    df_val_compi,\n",
        "    test_size = 0.1,\n",
        "    random_state = 42,\n",
        "    stratify = df_val_compi.label\n",
        "  )"
      ],
      "id": "cloudy-idaho",
      "execution_count": 29,
      "outputs": []
    },
    {
      "cell_type": "code",
      "metadata": {
        "execution": {
          "iopub.execute_input": "2021-05-30T20:12:30.429807Z",
          "iopub.status.busy": "2021-05-30T20:12:30.429001Z",
          "iopub.status.idle": "2021-05-30T20:12:30.472297Z",
          "shell.execute_reply": "2021-05-30T20:12:30.471634Z",
          "shell.execute_reply.started": "2021-05-30T09:30:18.098841Z"
        },
        "id": "nervous-crisis",
        "papermill": {
          "duration": 3.239148,
          "end_time": "2021-05-30T20:12:30.472465",
          "exception": false,
          "start_time": "2021-05-30T20:12:27.233317",
          "status": "completed"
        },
        "tags": [],
        "colab": {
          "base_uri": "https://localhost:8080/"
        },
        "outputId": "fa3e5791-4503-4ee4-8fd0-ab9c8b3c0525"
      },
      "source": [
        "train_generator = train_aug.flow_from_dataframe(\n",
        "    dataframe = X_train,\n",
        "    x_col = \"filename\",\n",
        "    y_col = \"label\",\n",
        "    batch_size = 32,\n",
        "    seed = 42,\n",
        "    shuffle = True,\n",
        "    class_mode = \"raw\",\n",
        "    target_size = (224,224)\n",
        "  )"
      ],
      "id": "nervous-crisis",
      "execution_count": 30,
      "outputs": [
        {
          "output_type": "stream",
          "name": "stdout",
          "text": [
            "Found 7045 validated image filenames.\n"
          ]
        }
      ]
    },
    {
      "cell_type": "code",
      "metadata": {
        "execution": {
          "iopub.execute_input": "2021-05-30T20:12:36.309467Z",
          "iopub.status.busy": "2021-05-30T20:12:36.308631Z",
          "iopub.status.idle": "2021-05-30T20:12:36.318017Z",
          "shell.execute_reply": "2021-05-30T20:12:36.317530Z",
          "shell.execute_reply.started": "2021-05-30T09:30:23.206485Z"
        },
        "id": "instrumental-indie",
        "papermill": {
          "duration": 2.927421,
          "end_time": "2021-05-30T20:12:36.318129",
          "exception": false,
          "start_time": "2021-05-30T20:12:33.390708",
          "status": "completed"
        },
        "tags": [],
        "colab": {
          "base_uri": "https://localhost:8080/"
        },
        "outputId": "9165daf2-7a24-446a-b73a-cf8700918d0b"
      },
      "source": [
        "valid_generator = valid_aug.flow_from_dataframe( \n",
        "    dataframe = X_test,\n",
        "    x_col = \"filename\",\n",
        "    y_col = \"label\",\n",
        "    batch_size = 32,\n",
        "    seed = 42,\n",
        "    shuffle = True,\n",
        "    class_mode = \"raw\",\n",
        "    target_size = (224,224)\n",
        "  )"
      ],
      "id": "instrumental-indie",
      "execution_count": 31,
      "outputs": [
        {
          "output_type": "stream",
          "name": "stdout",
          "text": [
            "Found 783 validated image filenames.\n"
          ]
        }
      ]
    },
    {
      "cell_type": "code",
      "metadata": {
        "execution": {
          "iopub.execute_input": "2021-05-30T20:12:42.897491Z",
          "iopub.status.busy": "2021-05-30T20:12:42.895853Z",
          "iopub.status.idle": "2021-05-30T20:12:42.898202Z",
          "shell.execute_reply": "2021-05-30T20:12:42.898602Z",
          "shell.execute_reply.started": "2021-05-30T09:30:26.966513Z"
        },
        "id": "dedicated-chapel",
        "papermill": {
          "duration": 3.108025,
          "end_time": "2021-05-30T20:12:42.898739",
          "exception": false,
          "start_time": "2021-05-30T20:12:39.790714",
          "status": "completed"
        },
        "tags": []
      },
      "source": [
        "# number of steps to consider 1 as  epoch\n",
        "STEP_SIZE_TRAIN = train_generator.n//train_generator.batch_size\n",
        "STEP_SIZE_VALID = valid_generator.n//valid_generator.batch_size"
      ],
      "id": "dedicated-chapel",
      "execution_count": 32,
      "outputs": []
    },
    {
      "cell_type": "code",
      "metadata": {
        "execution": {
          "iopub.execute_input": "2021-05-30T20:12:48.820785Z",
          "iopub.status.busy": "2021-05-30T20:12:48.819337Z",
          "iopub.status.idle": "2021-05-30T20:25:26.371458Z",
          "shell.execute_reply": "2021-05-30T20:25:26.371941Z",
          "shell.execute_reply.started": "2021-05-30T09:30:36.962285Z"
        },
        "id": "sized-norfolk",
        "papermill": {
          "duration": 760.527609,
          "end_time": "2021-05-30T20:25:26.372105",
          "exception": false,
          "start_time": "2021-05-30T20:12:45.844496",
          "status": "completed"
        },
        "tags": [],
        "colab": {
          "base_uri": "https://localhost:8080/"
        },
        "outputId": "31c1072e-449f-4c31-9ab7-e08107cb0976"
      },
      "source": [
        "# kick off training\n",
        "xception_model.fit(\n",
        "        train_generator,\n",
        "        steps_per_epoch = STEP_SIZE_TRAIN,\n",
        "        epochs = 50,\n",
        "        validation_data = valid_generator,\n",
        "        validation_steps = STEP_SIZE_VALID,callbacks = [my_callbacks]\n",
        "      )"
      ],
      "id": "sized-norfolk",
      "execution_count": 33,
      "outputs": [
        {
          "output_type": "stream",
          "name": "stdout",
          "text": [
            "Epoch 1/50\n",
            "220/220 [==============================] - 51s 208ms/step - loss: 0.7202 - acc: 0.8797 - val_loss: 0.8871 - val_acc: 0.7812\n",
            "\n",
            "Epoch 00001: val_acc did not improve from 0.91926\n",
            "Epoch 2/50\n",
            "220/220 [==============================] - 45s 204ms/step - loss: 0.6268 - acc: 0.9413 - val_loss: 0.6876 - val_acc: 0.9076\n",
            "\n",
            "Epoch 00002: val_acc did not improve from 0.91926\n",
            "Epoch 3/50\n",
            "220/220 [==============================] - 45s 204ms/step - loss: 0.5774 - acc: 0.9766 - val_loss: 0.6366 - val_acc: 0.9388\n",
            "\n",
            "Epoch 00003: val_acc improved from 0.91926 to 0.93880, saving model to xception_best.ckpt\n",
            "Epoch 4/50\n",
            "220/220 [==============================] - 45s 204ms/step - loss: 0.5648 - acc: 0.9836 - val_loss: 0.6404 - val_acc: 0.9362\n",
            "\n",
            "Epoch 00004: val_acc did not improve from 0.93880\n",
            "Epoch 5/50\n",
            "220/220 [==============================] - 45s 203ms/step - loss: 0.5526 - acc: 0.9894 - val_loss: 0.6487 - val_acc: 0.9362\n",
            "\n",
            "Epoch 00005: val_acc did not improve from 0.93880\n",
            "Epoch 6/50\n",
            "220/220 [==============================] - 45s 203ms/step - loss: 0.5501 - acc: 0.9913 - val_loss: 0.6674 - val_acc: 0.9232\n",
            "\n",
            "Epoch 00006: val_acc did not improve from 0.93880\n",
            "Epoch 7/50\n",
            "220/220 [==============================] - 45s 203ms/step - loss: 0.5504 - acc: 0.9904 - val_loss: 0.6665 - val_acc: 0.9336\n",
            "\n",
            "Epoch 00007: val_acc did not improve from 0.93880\n",
            "Epoch 8/50\n",
            "220/220 [==============================] - 45s 204ms/step - loss: 0.5452 - acc: 0.9923 - val_loss: 0.6459 - val_acc: 0.9388\n",
            "\n",
            "Epoch 00008: val_acc did not improve from 0.93880\n",
            "\n",
            "Epoch 00008: ReduceLROnPlateau reducing learning rate to 9.999999747378752e-07.\n"
          ]
        },
        {
          "output_type": "execute_result",
          "data": {
            "text/plain": [
              "<keras.callbacks.History at 0x7f25d563c290>"
            ]
          },
          "metadata": {},
          "execution_count": 33
        }
      ]
    },
    {
      "cell_type": "code",
      "metadata": {
        "execution": {
          "iopub.execute_input": "2021-05-30T20:25:33.497837Z",
          "iopub.status.busy": "2021-05-30T20:25:33.496999Z",
          "iopub.status.idle": "2021-05-30T20:25:34.695800Z",
          "shell.execute_reply": "2021-05-30T20:25:34.695365Z",
          "shell.execute_reply.started": "2021-05-24T16:41:06.725854Z"
        },
        "id": "complete-spelling",
        "papermill": {
          "duration": 4.566888,
          "end_time": "2021-05-30T20:25:34.695951",
          "exception": false,
          "start_time": "2021-05-30T20:25:30.129063",
          "status": "completed"
        },
        "tags": [],
        "colab": {
          "base_uri": "https://localhost:8080/"
        },
        "outputId": "a0128618-5cf0-4a00-a3ac-0dc7de725bf0"
      },
      "source": [
        "# load best saved weights\n",
        "xception_model.load_weights(checkpoint_path)"
      ],
      "id": "complete-spelling",
      "execution_count": 34,
      "outputs": [
        {
          "output_type": "execute_result",
          "data": {
            "text/plain": [
              "<tensorflow.python.training.tracking.util.CheckpointLoadStatus at 0x7f25d57a6d50>"
            ]
          },
          "metadata": {},
          "execution_count": 34
        }
      ]
    },
    {
      "cell_type": "markdown",
      "metadata": {
        "papermill": {
          "duration": 3.633537,
          "end_time": "2021-05-30T20:25:41.743104",
          "exception": false,
          "start_time": "2021-05-30T20:25:38.109567",
          "status": "completed"
        },
        "tags": [],
        "id": "intended-cylinder"
      },
      "source": [
        "# Confusion Matrix\n",
        "As our data set is imbalaned, lets see where is our model making mistakes. I encourage to you to take initative for bringing FPs and FNs down.\n",
        "\n",
        "# 혼란 매트릭스\n",
        "데이터 세트가 불균형 상태이므로 모델이 어디에서 실수를 하는지 살펴보자. FP와 FN을 끌어내리는데 솔선수범하길 바랍니다."
      ],
      "id": "intended-cylinder"
    },
    {
      "cell_type": "code",
      "metadata": {
        "execution": {
          "iopub.execute_input": "2021-05-30T20:25:48.625234Z",
          "iopub.status.busy": "2021-05-30T20:25:48.624438Z",
          "iopub.status.idle": "2021-05-30T20:25:48.634216Z",
          "shell.execute_reply": "2021-05-30T20:25:48.633804Z",
          "shell.execute_reply.started": "2021-05-27T05:35:10.161826Z"
        },
        "papermill": {
          "duration": 3.430239,
          "end_time": "2021-05-30T20:25:48.634343",
          "exception": false,
          "start_time": "2021-05-30T20:25:45.204104",
          "status": "completed"
        },
        "tags": [],
        "colab": {
          "base_uri": "https://localhost:8080/"
        },
        "id": "equivalent-album",
        "outputId": "2da8e6ed-d6f9-4eda-d770-c354555a3fd7"
      },
      "source": [
        "from sklearn.metrics import precision_recall_curve\n",
        "target_shape = 224\n",
        "BATCH_SIZE = 1\n",
        "\n",
        "# test generator\n",
        "compi_gen = valid_aug.flow_from_dataframe(\n",
        "    dataframe = X_test,\n",
        "    x_col = \"filename\",\n",
        "    class_mode = None,\n",
        "    target_size = (target_shape, target_shape),\n",
        "    shuffle = False,\n",
        "    batch_size = BATCH_SIZE\n",
        "  )"
      ],
      "id": "equivalent-album",
      "execution_count": 35,
      "outputs": [
        {
          "output_type": "stream",
          "name": "stdout",
          "text": [
            "Found 783 validated image filenames.\n"
          ]
        }
      ]
    },
    {
      "cell_type": "code",
      "metadata": {
        "execution": {
          "iopub.execute_input": "2021-05-30T20:25:56.117007Z",
          "iopub.status.busy": "2021-05-30T20:25:56.116264Z",
          "iopub.status.idle": "2021-05-30T20:26:05.659358Z",
          "shell.execute_reply": "2021-05-30T20:26:05.658569Z",
          "shell.execute_reply.started": "2021-05-27T05:35:17.324361Z"
        },
        "papermill": {
          "duration": 12.914933,
          "end_time": "2021-05-30T20:26:05.659489",
          "exception": false,
          "start_time": "2021-05-30T20:25:52.744556",
          "status": "completed"
        },
        "tags": [],
        "colab": {
          "base_uri": "https://localhost:8080/"
        },
        "id": "preceding-delight",
        "outputId": "8cb3ac1b-b2bc-4672-9bae-bf65a97f41d4"
      },
      "source": [
        "# prediction on train data\n",
        "predicition_compi = xception_model.predict(compi_gen, steps = compi_gen.n/ BATCH_SIZE, verbose= 1)"
      ],
      "id": "preceding-delight",
      "execution_count": 36,
      "outputs": [
        {
          "output_type": "stream",
          "name": "stdout",
          "text": [
            "783/783 [==============================] - 14s 16ms/step\n"
          ]
        }
      ]
    },
    {
      "cell_type": "code",
      "metadata": {
        "execution": {
          "iopub.execute_input": "2021-05-30T20:26:12.667940Z",
          "iopub.status.busy": "2021-05-30T20:26:12.649791Z",
          "iopub.status.idle": "2021-05-30T20:26:13.051891Z",
          "shell.execute_reply": "2021-05-30T20:26:13.051413Z",
          "shell.execute_reply.started": "2021-05-27T05:43:44.837052Z"
        },
        "papermill": {
          "duration": 3.832152,
          "end_time": "2021-05-30T20:26:13.052010",
          "exception": false,
          "start_time": "2021-05-30T20:26:09.219858",
          "status": "completed"
        },
        "tags": [],
        "colab": {
          "base_uri": "https://localhost:8080/",
          "height": 297
        },
        "id": "distinguished-midwest",
        "outputId": "cd5327cd-6290-4225-9360-aa951675b70b"
      },
      "source": [
        "from sklearn.metrics import confusion_matrix, ConfusionMatrixDisplay\n",
        "\n",
        "class_prediction_compi = np.argmax(predicition_compi, axis = 1)\n",
        "cm = confusion_matrix(X_test.label, class_prediction_compi, labels = [0, 1, 2, 3, 4])\n",
        "\n",
        "disp = ConfusionMatrixDisplay(\n",
        "    confusion_matrix = cm,\n",
        "    display_labels = [0, 1, 2, 3, 4]\n",
        "  )\n",
        "\n",
        "disp.plot()"
      ],
      "id": "distinguished-midwest",
      "execution_count": 37,
      "outputs": [
        {
          "output_type": "execute_result",
          "data": {
            "text/plain": [
              "<sklearn.metrics._plot.confusion_matrix.ConfusionMatrixDisplay at 0x7f25d44b6850>"
            ]
          },
          "metadata": {},
          "execution_count": 37
        },
        {
          "output_type": "display_data",
          "data": {
            "image/png": "[encoded data removed]",
            "text/plain": [
              "<Figure size 432x288 with 2 Axes>"
            ]
          },
          "metadata": {
            "needs_background": "light"
          }
        }
      ]
    },
    {
      "cell_type": "markdown",
      "metadata": {
        "papermill": {
          "duration": 3.5306,
          "end_time": "2021-05-30T20:26:20.277590",
          "exception": false,
          "start_time": "2021-05-30T20:26:16.746990",
          "status": "completed"
        },
        "tags": [],
        "id": "positive-wilson"
      },
      "source": [
        "## Making prediction on test set (to make submission)\n",
        "Finally we save the predictions on disk in CSV format\n",
        "\n",
        "## 시험세트 예측하기 (제출하기)\n",
        "마지막으로 예측 내용을 CSV 형식으로 디스크에 저장합니다."
      ],
      "id": "positive-wilson"
    },
    {
      "cell_type": "code",
      "metadata": {
        "execution": {
          "iopub.execute_input": "2021-05-30T20:26:28.031789Z",
          "iopub.status.busy": "2021-05-30T20:26:28.031111Z",
          "iopub.status.idle": "2021-05-30T20:26:28.058944Z",
          "shell.execute_reply": "2021-05-30T20:26:28.058161Z",
          "shell.execute_reply.started": "2021-05-27T09:08:20.550041Z"
        },
        "id": "constitutional-catholic",
        "papermill": {
          "duration": 4.034446,
          "end_time": "2021-05-30T20:26:28.059074",
          "exception": false,
          "start_time": "2021-05-30T20:26:24.024628",
          "status": "completed"
        },
        "tags": [],
        "colab": {
          "base_uri": "https://localhost:8080/"
        },
        "outputId": "127f7450-99d8-4880-c5a2-e07c01344142"
      },
      "source": [
        "# read the csv file\n",
        "test = pd.read_csv(compi_root_path + \"Test.csv\")\n",
        "\n",
        "# create test generator\n",
        "test_generator = valid_aug.flow_from_dataframe(\n",
        "    dataframe = test,\n",
        "    directory = compi_root_path + \"test\",\n",
        "    x_col = \"filename\",\n",
        "    y_col = None,\n",
        "    batch_size = 1,\n",
        "    seed = 42,\n",
        "    shuffle = False,\n",
        "    class_mode = None,\n",
        "    target_size = (224,224)\n",
        "  )\n",
        "\n",
        "# number of steps to consider 1 epoch\n",
        "STEP_SIZE_TEST = test_generator.n//test_generator.batch_size"
      ],
      "id": "constitutional-catholic",
      "execution_count": 38,
      "outputs": [
        {
          "output_type": "stream",
          "name": "stdout",
          "text": [
            "Found 1958 validated image filenames.\n"
          ]
        }
      ]
    },
    {
      "cell_type": "code",
      "metadata": {
        "execution": {
          "iopub.execute_input": "2021-05-30T20:26:34.994605Z",
          "iopub.status.busy": "2021-05-30T20:26:34.994000Z",
          "iopub.status.idle": "2021-05-30T20:26:56.340759Z",
          "shell.execute_reply": "2021-05-30T20:26:56.341118Z",
          "shell.execute_reply.started": "2021-05-27T05:51:39.116529Z"
        },
        "papermill": {
          "duration": 24.791614,
          "end_time": "2021-05-30T20:26:56.341303",
          "exception": false,
          "start_time": "2021-05-30T20:26:31.549689",
          "status": "completed"
        },
        "tags": [],
        "colab": {
          "base_uri": "https://localhost:8080/"
        },
        "id": "blocked-niagara",
        "outputId": "92a7f207-7ced-4ade-d9f0-d3f37e0f782f"
      },
      "source": [
        "# make prediction and create dataframe out of it\n",
        "pred = xception_model.predict(test_generator,steps=STEP_SIZE_TEST,verbose=1)\n",
        "df_submit = pd.DataFrame({\"label\":np.argmax(pred, axis= 1)})\n",
        "df_submit[\"label\"].value_counts()"
      ],
      "id": "blocked-niagara",
      "execution_count": 39,
      "outputs": [
        {
          "output_type": "stream",
          "name": "stdout",
          "text": [
            "1958/1958 [==============================] - 31s 16ms/step\n"
          ]
        },
        {
          "output_type": "execute_result",
          "data": {
            "text/plain": [
              "0    767\n",
              "2    513\n",
              "1    361\n",
              "3    258\n",
              "4     59\n",
              "Name: label, dtype: int64"
            ]
          },
          "metadata": {},
          "execution_count": 39
        }
      ]
    },
    {
      "cell_type": "markdown",
      "metadata": {
        "papermill": {
          "duration": 3.549425,
          "end_time": "2021-05-30T20:27:04.148458",
          "exception": false,
          "start_time": "2021-05-30T20:27:00.599033",
          "status": "completed"
        },
        "tags": [],
        "id": "still-arthur"
      },
      "source": [
        "### Clearing the working directory\n",
        "Because if don't, \"output\" tabl will show only images\n",
        "\n",
        "### 작업 디렉토리 지우기\n",
        "그렇지 않으면 \"출력\" 탭이 이미지만 표시되기 때문입니다."
      ],
      "id": "still-arthur"
    },
    {
      "cell_type": "code",
      "metadata": {
        "execution": {
          "iopub.execute_input": "2021-05-30T20:27:11.522864Z",
          "iopub.status.busy": "2021-05-30T20:27:11.522085Z",
          "iopub.status.idle": "2021-05-30T20:27:11.842332Z",
          "shell.execute_reply": "2021-05-30T20:27:11.842916Z",
          "shell.execute_reply.started": "2021-05-27T05:51:43.875589Z"
        },
        "papermill": {
          "duration": 4.080149,
          "end_time": "2021-05-30T20:27:11.843118",
          "exception": false,
          "start_time": "2021-05-30T20:27:07.762969",
          "status": "completed"
        },
        "tags": [],
        "colab": {
          "base_uri": "https://localhost:8080/"
        },
        "id": "decimal-hampshire",
        "outputId": "4c58489b-a23b-4dfb-845f-60432705e0d7"
      },
      "source": [
        "import sys\n",
        "import shutil\n",
        "\n",
        "# Get directory name\n",
        "mydir = \"/kaggle/working\"\n",
        "\n",
        "try:\n",
        "    shutil.rmtree(mydir)\n",
        "except OSError as e:\n",
        "    print(\"Error: %s - %s.\" % (e.filename, e.strerror))"
      ],
      "id": "decimal-hampshire",
      "execution_count": 40,
      "outputs": [
        {
          "output_type": "stream",
          "name": "stdout",
          "text": [
            "Error: /kaggle/working - No such file or directory.\n"
          ]
        }
      ]
    },
    {
      "cell_type": "markdown",
      "metadata": {
        "papermill": {
          "duration": 3.504245,
          "end_time": "2021-05-30T20:27:18.913681",
          "exception": false,
          "start_time": "2021-05-30T20:27:15.409436",
          "status": "completed"
        },
        "tags": [],
        "id": "portable-yacht"
      },
      "source": [
        "### Save best weights and output prediction file\n",
        "\n",
        "### 최적의 가중치 및 출력 예측 파일 저장"
      ],
      "id": "portable-yacht"
    },
    {
      "cell_type": "code",
      "metadata": {
        "execution": {
          "iopub.execute_input": "2021-05-30T20:27:26.290338Z",
          "iopub.status.busy": "2021-05-30T20:27:26.289493Z",
          "iopub.status.idle": "2021-05-30T20:27:26.809425Z",
          "shell.execute_reply": "2021-05-30T20:27:26.808879Z",
          "shell.execute_reply.started": "2021-05-27T05:51:46.57395Z"
        },
        "id": "liquid-tsunami",
        "papermill": {
          "duration": 4.073647,
          "end_time": "2021-05-30T20:27:26.809566",
          "exception": false,
          "start_time": "2021-05-30T20:27:22.735919",
          "status": "completed"
        },
        "tags": []
      },
      "source": [
        "xception_model.save_weights(\"knee_xray_Xceptionnet_GPA.h5\")\n",
        "df_submit.to_csv(\"submission.csv\",index = False)"
      ],
      "id": "liquid-tsunami",
      "execution_count": 41,
      "outputs": []
    },
    {
      "cell_type": "markdown",
      "metadata": {
        "papermill": {
          "duration": 3.563445,
          "end_time": "2021-05-30T20:27:34.549379",
          "exception": false,
          "start_time": "2021-05-30T20:27:30.985934",
          "status": "completed"
        },
        "tags": [],
        "id": "sustainable-baptist"
      },
      "source": [
        "The submission results in 96.8% on public leaderboard.\n",
        "\n",
        "**Suggestion to improve the score**\n",
        "* Using right data augmentations\n",
        "* Using different model architecture\n",
        "* Ensembling and stacking\n",
        "* Using pretrained model trained on xray images\n",
        "\n",
        "제출 결과 공개 리더보드에서 96.8%의 결과가 나왔습니다.\n",
        "\n",
        "**점수 향상을 위한 제안*\n",
        "* 올바른 데이터 확대 사용\n",
        "* 다른 모델 아키텍처 사용\n",
        "* 조립 및 쌓기\n",
        "* X선 영상에 대해 사전 훈련된 모델 사용"
      ],
      "id": "sustainable-baptist"
    }
  ]
}