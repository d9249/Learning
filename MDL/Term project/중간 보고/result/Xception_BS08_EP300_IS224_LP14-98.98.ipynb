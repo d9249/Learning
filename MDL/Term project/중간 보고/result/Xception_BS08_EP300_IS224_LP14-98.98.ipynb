{
 "cells": [
  {
   "cell_type": "markdown",
   "id": "decreased-picnic",
   "metadata": {
    "id": "decreased-picnic",
    "papermill": {
     "duration": 0.028073,
     "end_time": "2021-05-30T18:39:27.966668",
     "exception": false,
     "start_time": "2021-05-30T18:39:27.938595",
     "status": "completed"
    },
    "tags": []
   },
   "source": [
    "### [Data Sprint #35: Osteoarthritis Knee X-ray](https://dphi.tech/challenges/data-sprint-35-osteoarthritis-knee-x-ray/81/leaderboard/datathon/)"
   ]
  },
  {
   "cell_type": "code",
   "execution_count": 35,
   "id": "8d435f6b",
   "metadata": {},
   "outputs": [
    {
     "name": "stdout",
     "output_type": "stream",
     "text": [
      "absl-py==0.15.0\n",
      "alabaster @ file:///home/ktietz/src/ci/alabaster_1611921544520/work\n",
      "anaconda-client==1.7.2\n",
      "anaconda-navigator==2.0.3\n",
      "anaconda-project @ file:///tmp/build/80754af9/anaconda-project_1610472525955/work\n",
      "anyio @ file:///C:/ci/anyio_1620153418380/work/dist\n",
      "appdirs==1.4.4\n",
      "argh==0.26.2\n",
      "argon2-cffi @ file:///C:/ci/argon2-cffi_1613037959010/work\n",
      "asn1crypto @ file:///tmp/build/80754af9/asn1crypto_1596577642040/work\n",
      "astroid @ file:///C:/ci/astroid_1613501047216/work\n",
      "astropy @ file:///C:/ci/astropy_1617745647203/work\n",
      "astunparse==1.6.3\n",
      "async-generator @ file:///home/ktietz/src/ci/async_generator_1611927993394/work\n",
      "atomicwrites==1.4.0\n",
      "attrs @ file:///tmp/build/80754af9/attrs_1604765588209/work\n",
      "autopep8 @ file:///tmp/build/80754af9/autopep8_1615918855173/work\n",
      "Babel @ file:///tmp/build/80754af9/babel_1607110387436/work\n",
      "backcall @ file:///home/ktietz/src/ci/backcall_1611930011877/work\n",
      "backports.functools-lru-cache @ file:///tmp/build/80754af9/backports.functools_lru_cache_1618170165463/work\n",
      "backports.shutil-get-terminal-size @ file:///tmp/build/80754af9/backports.shutil_get_terminal_size_1608222128777/work\n",
      "backports.tempfile @ file:///home/linux1/recipes/ci/backports.tempfile_1610991236607/work\n",
      "backports.weakref==1.0.post1\n",
      "bcrypt @ file:///C:/ci/bcrypt_1597936263757/work\n",
      "beautifulsoup4 @ file:///home/linux1/recipes/ci/beautifulsoup4_1610988766420/work\n",
      "bitarray @ file:///C:/ci/bitarray_1618435038389/work\n",
      "bkcharts==0.2\n",
      "black==19.10b0\n",
      "bleach @ file:///tmp/build/80754af9/bleach_1612211392645/work\n",
      "bokeh @ file:///C:/ci/bokeh_1620784067744/work\n",
      "boto==2.49.0\n",
      "Bottleneck==1.3.2\n",
      "brotlipy==0.7.0\n",
      "cachetools==4.2.4\n",
      "certifi==2020.12.5\n",
      "cffi @ file:///C:/ci/cffi_1613247279197/work\n",
      "chardet @ file:///C:/ci/chardet_1607690654534/work\n",
      "clang==5.0\n",
      "click @ file:///home/linux1/recipes/ci/click_1610990599742/work\n",
      "cloudpickle @ file:///tmp/build/80754af9/cloudpickle_1598884132938/work\n",
      "clyent==1.2.2\n",
      "colorama @ file:///tmp/build/80754af9/colorama_1607707115595/work\n",
      "comtypes==1.1.9\n",
      "conda==4.10.1\n",
      "conda-build==3.21.4\n",
      "conda-content-trust @ file:///tmp/build/80754af9/conda-content-trust_1617045594566/work\n",
      "conda-package-handling @ file:///C:/ci/conda-package-handling_1618262320430/work\n",
      "conda-repo-cli @ file:///tmp/build/80754af9/conda-repo-cli_1620168426516/work\n",
      "conda-token @ file:///tmp/build/80754af9/conda-token_1620076980546/work\n",
      "conda-verify==3.4.2\n",
      "contextlib2==0.6.0.post1\n",
      "cryptography @ file:///C:/ci/cryptography_1616769344312/work\n",
      "cycler==0.10.0\n",
      "Cython @ file:///C:/ci/cython_1618435363327/work\n",
      "cytoolz==0.11.0\n",
      "dask @ file:///tmp/build/80754af9/dask-core_1617390489108/work\n",
      "decorator @ file:///tmp/build/80754af9/decorator_1617916966915/work\n",
      "defusedxml @ file:///tmp/build/80754af9/defusedxml_1615228127516/work\n",
      "diff-match-patch @ file:///tmp/build/80754af9/diff-match-patch_1594828741838/work\n",
      "distributed @ file:///C:/ci/distributed_1617384289923/work\n",
      "docutils @ file:///C:/ci/docutils_1617481617511/work\n",
      "entrypoints==0.3\n",
      "et-xmlfile==1.0.1\n",
      "fastcache==1.1.0\n",
      "filelock @ file:///home/linux1/recipes/ci/filelock_1610993975404/work\n",
      "flake8 @ file:///tmp/build/80754af9/flake8_1615834841867/work\n",
      "Flask @ file:///home/ktietz/src/ci/flask_1611932660458/work\n",
      "flatbuffers==1.12\n",
      "fsspec @ file:///tmp/build/80754af9/fsspec_1617959894824/work\n",
      "future==0.18.2\n",
      "gast==0.4.0\n",
      "gdown==4.2.0\n",
      "gevent @ file:///C:/ci/gevent_1616773090559/work\n",
      "Note: you may need to restart the kernel to use updated packages.glob2 @ file:///home/linux1/recipes/ci/glob2_1610991677669/work\n",
      "google-auth==2.3.3\n",
      "google-auth-oauthlib==0.4.6\n",
      "google-pasta==0.2.0\n",
      "greenlet @ file:///C:/ci/greenlet_1611958565931/work\n",
      "grpcio==1.41.1\n",
      "h5py==3.1.0\n",
      "HeapDict==1.0.1\n",
      "html5lib @ file:///tmp/build/80754af9/html5lib_1593446221756/work\n",
      "idna @ file:///home/linux1/recipes/ci/idna_1610986105248/work\n",
      "imagecodecs @ file:///C:/ci/imagecodecs_1617996768495/work\n",
      "imageio @ file:///tmp/build/80754af9/imageio_1617700267927/work\n",
      "imagesize @ file:///home/ktietz/src/ci/imagesize_1611921604382/work\n",
      "importlib-metadata @ file:///C:/ci/importlib-metadata_1617877484576/work\n",
      "iniconfig @ file:///home/linux1/recipes/ci/iniconfig_1610983019677/work\n",
      "intervaltree @ file:///tmp/build/80754af9/intervaltree_1598376443606/work\n",
      "ipykernel @ file:///C:/ci/ipykernel_1596190155316/work/dist/ipykernel-5.3.4-py3-none-any.whl\n",
      "ipython @ file:///C:/ci/ipython_1617121002983/work\n",
      "ipython-genutils @ file:///tmp/build/80754af9/ipython_genutils_1606773439826/work\n",
      "ipywidgets @ file:///tmp/build/80754af9/ipywidgets_1610481889018/work\n",
      "isort @ file:///tmp/build/80754af9/isort_1616355431277/work\n",
      "itsdangerous @ file:///home/ktietz/src/ci/itsdangerous_1611932585308/work\n",
      "jdcal==1.4.1\n",
      "jedi @ file:///C:/ci/jedi_1606914528444/work\n",
      "Jinja2 @ file:///tmp/build/80754af9/jinja2_1612213139570/work\n",
      "joblib @ file:///tmp/build/80754af9/joblib_1613502643832/work\n",
      "json5==0.9.5\n",
      "jsonschema @ file:///tmp/build/80754af9/jsonschema_1602607155483/work\n",
      "jupyter==1.0.0\n",
      "jupyter-client @ file:///tmp/build/80754af9/jupyter_client_1616770841739/work\n",
      "jupyter-console @ file:///tmp/build/80754af9/jupyter_console_1616615302928/work\n",
      "jupyter-core @ file:///C:/ci/jupyter_core_1612213356021/work\n",
      "jupyter-packaging @ file:///tmp/build/80754af9/jupyter-packaging_1613502826984/work\n",
      "jupyter-server @ file:///C:/ci/jupyter_server_1616084298403/work\n",
      "jupyterlab @ file:///tmp/build/80754af9/jupyterlab_1619133235951/work\n",
      "jupyterlab-pygments @ file:///tmp/build/80754af9/jupyterlab_pygments_1601490720602/work\n",
      "jupyterlab-server @ file:///tmp/build/80754af9/jupyterlab_server_1617134334258/work\n",
      "jupyterlab-widgets @ file:///tmp/build/80754af9/jupyterlab_widgets_1609884341231/work\n",
      "keras==2.6.0\n",
      "Keras-Preprocessing==1.1.2\n",
      "keyring @ file:///C:/ci/keyring_1614616910860/work\n",
      "kiwisolver @ file:///C:/ci/kiwisolver_1612282606037/work\n",
      "lazy-object-proxy @ file:///C:/ci/lazy-object-proxy_1616529307648/work\n",
      "libarchive-c @ file:///tmp/build/80754af9/python-libarchive-c_1617780486945/work\n",
      "llvmlite==0.36.0\n",
      "locket==0.2.1\n",
      "lxml @ file:///C:/ci/lxml_1616443455957/work\n",
      "Markdown==3.3.4\n",
      "MarkupSafe==1.1.1\n",
      "matplotlib @ file:///C:/ci/matplotlib-suite_1613408055530/work\n",
      "mccabe==0.6.1\n",
      "menuinst==1.4.16\n",
      "mistune==0.8.4\n",
      "mkl-fft==1.3.0\n",
      "mkl-random @ file:///C:/ci/mkl_random_1618854156666/work\n",
      "mkl-service==2.3.0\n",
      "mock @ file:///tmp/build/80754af9/mock_1607622725907/work\n",
      "more-itertools @ file:///tmp/build/80754af9/more-itertools_1613676688952/work\n",
      "mpmath==1.2.1\n",
      "msgpack @ file:///C:/ci/msgpack-python_1612287368835/work\n",
      "multipledispatch==0.6.0\n",
      "mypy-extensions==0.4.3\n",
      "navigator-updater==0.2.1\n",
      "nbclassic @ file:///tmp/build/80754af9/nbclassic_1616085367084/work\n",
      "nbclient @ file:///tmp/build/80754af9/nbclient_1614364831625/work\n",
      "nbconvert @ file:///C:/ci/nbconvert_1601914925608/work\n",
      "nbformat @ file:///tmp/build/80754af9/nbformat_1617383369282/work\n",
      "nest-asyncio @ file:///tmp/build/80754af9/nest-asyncio_1613680548246/work\n",
      "networkx @ file:///tmp/build/80754af9/networkx_1598376031484/work\n",
      "nltk @ file:///tmp/build/80754af9/nltk_1618327084230/work\n",
      "nose @ file:///tmp/build/80754af9/nose_1606773131901/work\n",
      "notebook @ file:///C:/ci/notebook_1616443715883/work\n",
      "numba @ file:///C:/ci/numba_1616774458845/work\n",
      "numexpr @ file:///C:/ci/numexpr_1618856738664/work\n",
      "numpy==1.19.5\n",
      "numpydoc @ file:///tmp/build/80754af9/numpydoc_1605117425582/work\n",
      "oauthlib==3.1.1\n",
      "olefile==0.46\n",
      "openpyxl @ file:///tmp/build/80754af9/openpyxl_1615411699337/work\n",
      "opt-einsum==3.3.0\n",
      "packaging @ file:///tmp/build/80754af9/packaging_1611952188834/work\n",
      "pandas @ file:///C:/ci/pandas_1618365634936/work\n",
      "pandocfilters @ file:///C:/ci/pandocfilters_1605102497129/work\n",
      "paramiko @ file:///tmp/build/80754af9/paramiko_1598886428689/work\n",
      "parso==0.7.0\n",
      "partd @ file:///tmp/build/80754af9/partd_1618000087440/work\n",
      "path @ file:///C:/ci/path_1614022440181/work\n",
      "pathlib2 @ file:///C:/ci/pathlib2_1607025069150/work\n",
      "pathspec==0.7.0\n",
      "patsy==0.5.1\n",
      "pep8==1.7.1\n",
      "pexpect @ file:///tmp/build/80754af9/pexpect_1605563209008/work\n",
      "pickleshare @ file:///tmp/build/80754af9/pickleshare_1606932040724/work\n",
      "Pillow @ file:///C:/ci/pillow_1617386341487/work\n",
      "pkginfo==1.7.0\n",
      "pluggy @ file:///C:/ci/pluggy_1615976358795/work\n",
      "ply==3.11\n",
      "prometheus-client @ file:///tmp/build/80754af9/prometheus_client_1618088486455/work\n",
      "prompt-toolkit @ file:///tmp/build/80754af9/prompt-toolkit_1616415428029/work\n",
      "protobuf==3.19.1\n",
      "psutil @ file:///C:/ci/psutil_1612298324802/work\n",
      "ptyprocess @ file:///tmp/build/80754af9/ptyprocess_1609355006118/work/dist/ptyprocess-0.7.0-py2.py3-none-any.whl\n",
      "py @ file:///tmp/build/80754af9/py_1607971587848/work\n",
      "pyasn1==0.4.8\n",
      "pyasn1-modules==0.2.8\n",
      "pycodestyle @ file:///home/ktietz/src/ci_mi/pycodestyle_1612807597675/work\n",
      "pycosat==0.6.3\n",
      "pycparser @ file:///tmp/build/80754af9/pycparser_1594388511720/work\n",
      "pycurl==7.43.0.6\n",
      "pydocstyle @ file:///tmp/build/80754af9/pydocstyle_1616182067796/work\n",
      "pyerfa @ file:///C:/ci/pyerfa_1619391071834/work\n",
      "\n"
     ]
    },
    {
     "name": "stdout",
     "output_type": "stream",
     "text": [
      "pyflakes @ file:///home/ktietz/src/ci_ipy2/pyflakes_1612551159640/work\n",
      "Pygments @ file:///tmp/build/80754af9/pygments_1615143339740/work\n",
      "pylint @ file:///C:/ci/pylint_1617136058775/work\n",
      "pyls-black @ file:///tmp/build/80754af9/pyls-black_1607553132291/work\n",
      "pyls-spyder @ file:///tmp/build/80754af9/pyls-spyder_1613849700860/work\n",
      "PyNaCl @ file:///C:/ci/pynacl_1595000047588/work\n",
      "pyodbc===4.0.0-unsupported\n",
      "pyOpenSSL @ file:///tmp/build/80754af9/pyopenssl_1608057966937/work\n",
      "pyparsing @ file:///home/linux1/recipes/ci/pyparsing_1610983426697/work\n",
      "pyreadline==2.1\n",
      "pyrsistent @ file:///C:/ci/pyrsistent_1600141795814/work\n",
      "PySocks @ file:///C:/ci/pysocks_1605287845585/work\n",
      "pytest==6.2.3\n",
      "python-dateutil @ file:///home/ktietz/src/ci/python-dateutil_1611928101742/work\n",
      "python-jsonrpc-server @ file:///tmp/build/80754af9/python-jsonrpc-server_1600278539111/work\n",
      "python-language-server @ file:///tmp/build/80754af9/python-language-server_1607972495879/work\n",
      "pytz @ file:///tmp/build/80754af9/pytz_1612215392582/work\n",
      "PyWavelets @ file:///C:/ci/pywavelets_1601658407916/work\n",
      "pywin32==227\n",
      "pywin32-ctypes==0.2.0\n",
      "pywinpty==0.5.7\n",
      "PyYAML==5.4.1\n",
      "pyzmq==20.0.0\n",
      "QDarkStyle==2.8.1\n",
      "QtAwesome @ file:///tmp/build/80754af9/qtawesome_1615991616277/work\n",
      "qtconsole @ file:///tmp/build/80754af9/qtconsole_1616775094278/work\n",
      "QtPy==1.9.0\n",
      "regex @ file:///C:/ci/regex_1617569893741/work\n",
      "requests @ file:///tmp/build/80754af9/requests_1608241421344/work\n",
      "requests-oauthlib==1.3.0\n",
      "rope @ file:///tmp/build/80754af9/rope_1602264064449/work\n",
      "rsa==4.7.2\n",
      "Rtree @ file:///C:/ci/rtree_1618421009405/work\n",
      "ruamel-yaml-conda @ file:///C:/ci/ruamel_yaml_1616016967756/work\n",
      "scikit-image==0.18.1\n",
      "scikit-learn @ file:///C:/ci/scikit-learn_1614446896245/work\n",
      "scipy @ file:///C:/ci/scipy_1618856128765/work\n",
      "seaborn @ file:///tmp/build/80754af9/seaborn_1608578541026/work\n",
      "Send2Trash @ file:///tmp/build/80754af9/send2trash_1607525499227/work\n",
      "simplegeneric==0.8.1\n",
      "singledispatch @ file:///tmp/build/80754af9/singledispatch_1614366001199/work\n",
      "sip==4.19.13\n",
      "six @ file:///C:/ci/six_1605187374963/work\n",
      "sniffio @ file:///C:/ci/sniffio_1614030707456/work\n",
      "snowballstemmer @ file:///tmp/build/80754af9/snowballstemmer_1611258885636/work\n",
      "sortedcollections @ file:///tmp/build/80754af9/sortedcollections_1611172717284/work\n",
      "sortedcontainers @ file:///tmp/build/80754af9/sortedcontainers_1606865132123/work\n",
      "soupsieve @ file:///tmp/build/80754af9/soupsieve_1616183228191/work\n",
      "Sphinx @ file:///tmp/build/80754af9/sphinx_1620777493457/work\n",
      "sphinxcontrib-applehelp @ file:///home/ktietz/src/ci/sphinxcontrib-applehelp_1611920841464/work\n",
      "sphinxcontrib-devhelp @ file:///home/ktietz/src/ci/sphinxcontrib-devhelp_1611920923094/work\n",
      "sphinxcontrib-htmlhelp @ file:///home/ktietz/src/ci/sphinxcontrib-htmlhelp_1611920974801/work\n",
      "sphinxcontrib-jsmath @ file:///home/ktietz/src/ci/sphinxcontrib-jsmath_1611920942228/work\n",
      "sphinxcontrib-qthelp @ file:///home/ktietz/src/ci/sphinxcontrib-qthelp_1611921055322/work\n",
      "sphinxcontrib-serializinghtml @ file:///home/ktietz/src/ci/sphinxcontrib-serializinghtml_1611920755253/work\n",
      "sphinxcontrib-websupport @ file:///tmp/build/80754af9/sphinxcontrib-websupport_1597081412696/work\n",
      "spyder @ file:///C:/ci/spyder_1616776239898/work\n",
      "spyder-kernels @ file:///C:/ci/spyder-kernels_1614030842607/work\n",
      "SQLAlchemy @ file:///C:/ci/sqlalchemy_1618090063261/work\n",
      "statsmodels==0.12.2\n",
      "sympy @ file:///C:/ci/sympy_1618255511605/work\n",
      "tables==3.6.1\n",
      "tblib @ file:///tmp/build/80754af9/tblib_1597928476713/work\n",
      "tensorboard==2.7.0\n",
      "tensorboard-data-server==0.6.1\n",
      "tensorboard-plugin-wit==1.8.0\n",
      "tensorflow==2.6.0\n",
      "tensorflow-estimator==2.6.0\n",
      "tensorflow-gpu==2.6.0\n",
      "termcolor==1.1.0\n",
      "terminado==0.9.4\n",
      "testpath @ file:///home/ktietz/src/ci/testpath_1611930608132/work\n",
      "textdistance @ file:///tmp/build/80754af9/textdistance_1612461398012/work\n",
      "threadpoolctl @ file:///tmp/tmp9twdgx9k/threadpoolctl-2.1.0-py3-none-any.whl\n",
      "three-merge @ file:///tmp/build/80754af9/three-merge_1607553261110/work\n",
      "tifffile @ file:///tmp/build/80754af9/tifffile_1619636090847/work\n",
      "toml @ file:///tmp/build/80754af9/toml_1616166611790/work\n",
      "toolz @ file:///home/linux1/recipes/ci/toolz_1610987900194/work\n",
      "tornado @ file:///C:/ci/tornado_1606942392901/work\n",
      "tqdm @ file:///tmp/build/80754af9/tqdm_1615925068909/work\n",
      "traitlets @ file:///home/ktietz/src/ci/traitlets_1611929699868/work\n",
      "typed-ast @ file:///C:/ci/typed-ast_1610466535590/work\n",
      "typing-extensions @ file:///home/ktietz/src/ci_mi/typing_extensions_1612808209620/work\n",
      "ujson @ file:///C:/ci/ujson_1611241570789/work\n",
      "unicodecsv==0.14.1\n",
      "urllib3 @ file:///tmp/build/80754af9/urllib3_1615837158687/work\n",
      "watchdog @ file:///C:/ci/watchdog_1612471251191/work\n",
      "wcwidth @ file:///tmp/build/80754af9/wcwidth_1593447189090/work\n",
      "webencodings==0.5.1\n",
      "Werkzeug @ file:///home/ktietz/src/ci/werkzeug_1611932622770/work\n",
      "widgetsnbextension==3.5.1\n",
      "win-inet-pton @ file:///C:/ci/win_inet_pton_1605306167264/work\n",
      "win-unicode-console==0.5\n",
      "wincertstore==0.2\n",
      "wrapt==1.12.1\n",
      "xlrd @ file:///tmp/build/80754af9/xlrd_1608072521494/work\n",
      "XlsxWriter @ file:///tmp/build/80754af9/xlsxwriter_1617224712951/work\n",
      "xlwings==0.23.0\n",
      "xlwt==1.3.0\n",
      "xmltodict==0.12.0\n",
      "yapf @ file:///tmp/build/80754af9/yapf_1615749224965/work\n",
      "zict==2.0.0\n",
      "zipp @ file:///tmp/build/80754af9/zipp_1615904174917/work\n",
      "zope.event==4.5.0\n",
      "zope.interface @ file:///C:/ci/zope.interface_1616357322857/work\n"
     ]
    }
   ],
   "source": [
    "pip freeze"
   ]
  },
  {
   "cell_type": "code",
   "execution_count": 36,
   "id": "f33568de",
   "metadata": {
    "scrolled": true
   },
   "outputs": [
    {
     "name": "stdout",
     "output_type": "stream",
     "text": [
      "D:\\MDL\\model\n"
     ]
    }
   ],
   "source": [
    "cd D:\\MDL\\model"
   ]
  },
  {
   "cell_type": "code",
   "execution_count": 37,
   "id": "74860ad1",
   "metadata": {},
   "outputs": [],
   "source": [
    "import os\n",
    "os.environ[\"CUDA_DEVICE_ORDER\"]=\"PCI_BUS_ID\"\n",
    "os.environ[\"CUDA_VISIBLE_DEVICES\"]=\"0\""
   ]
  },
  {
   "cell_type": "code",
   "execution_count": 38,
   "id": "37b90db9",
   "metadata": {},
   "outputs": [
    {
     "name": "stdout",
     "output_type": "stream",
     "text": [
      "[name: \"/device:CPU:0\"\n",
      "device_type: \"CPU\"\n",
      "memory_limit: 268435456\n",
      "locality {\n",
      "}\n",
      "incarnation: 16185117953399276212\n",
      ", name: \"/device:GPU:0\"\n",
      "device_type: \"GPU\"\n",
      "memory_limit: 22727688192\n",
      "locality {\n",
      "  bus_id: 1\n",
      "  links {\n",
      "  }\n",
      "}\n",
      "incarnation: 1505010825777231961\n",
      "physical_device_desc: \"device: 0, name: GeForce RTX 3090, pci bus id: 0000:01:00.0, compute capability: 8.6\"\n",
      "]\n"
     ]
    }
   ],
   "source": [
    "from tensorflow.python.client import device_lib\n",
    "print(device_lib.list_local_devices())"
   ]
  },
  {
   "cell_type": "code",
   "execution_count": 39,
   "id": "ts26D3gLnyLd",
   "metadata": {
    "colab": {
     "base_uri": "https://localhost:8080/"
    },
    "id": "ts26D3gLnyLd",
    "outputId": "f4f6fa8d-223f-4028-b18f-b8da4113b6d3"
   },
   "outputs": [
    {
     "name": "stdout",
     "output_type": "stream",
     "text": [
      "Mon Nov  8 09:31:33 2021       \n",
      "+-----------------------------------------------------------------------------+\n",
      "| NVIDIA-SMI 461.72       Driver Version: 461.72       CUDA Version: 11.2     |\n",
      "|-------------------------------+----------------------+----------------------+\n",
      "| GPU  Name            TCC/WDDM | Bus-Id        Disp.A | Volatile Uncorr. ECC |\n",
      "| Fan  Temp  Perf  Pwr:Usage/Cap|         Memory-Usage | GPU-Util  Compute M. |\n",
      "|                               |                      |               MIG M. |\n",
      "|===============================+======================+======================|\n",
      "|   0  GeForce RTX 3090   WDDM  | 00000000:01:00.0 Off |                  N/A |\n",
      "|  0%   35C    P8    13W / 350W |  23180MiB / 24576MiB |      0%      Default |\n",
      "|                               |                      |                  N/A |\n",
      "+-------------------------------+----------------------+----------------------+\n",
      "                                                                               \n",
      "+-----------------------------------------------------------------------------+\n",
      "| Processes:                                                                  |\n",
      "|  GPU   GI   CI        PID   Type   Process name                  GPU Memory |\n",
      "|        ID   ID                                                   Usage      |\n",
      "|=============================================================================|\n",
      "|    0   N/A  N/A     12592      C   ...gkim\\anaconda3\\python.exe    N/A      |\n",
      "+-----------------------------------------------------------------------------+\n"
     ]
    }
   ],
   "source": [
    "!nvidia-smi"
   ]
  },
  {
   "cell_type": "code",
   "execution_count": 40,
   "id": "floating-cincinnati",
   "metadata": {
    "execution": {
     "iopub.execute_input": "2021-05-30T18:39:28.086573Z",
     "iopub.status.busy": "2021-05-30T18:39:28.085923Z",
     "iopub.status.idle": "2021-05-30T18:39:32.847126Z",
     "shell.execute_reply": "2021-05-30T18:39:32.846068Z",
     "shell.execute_reply.started": "2021-05-30T09:28:36.967323Z"
    },
    "id": "floating-cincinnati",
    "papermill": {
     "duration": 4.80129,
     "end_time": "2021-05-30T18:39:32.847355",
     "exception": false,
     "start_time": "2021-05-30T18:39:28.046065",
     "status": "completed"
    },
    "tags": []
   },
   "outputs": [],
   "source": [
    "%matplotlib inline\n",
    "import numpy as np \n",
    "import pandas as pd\n",
    "import os\n",
    "from glob import glob\n",
    "import matplotlib.pyplot as plt\n",
    "from keras_preprocessing.image import ImageDataGenerator\n",
    "from tensorflow.keras.applications import Xception\n",
    "from tensorflow.keras.layers import GlobalAveragePooling2D\n",
    "import tensorflow as tf\n",
    "from tensorflow.keras.callbacks import ModelCheckpoint, EarlyStopping, ReduceLROnPlateau\n",
    "from keras.models import Model"
   ]
  },
  {
   "cell_type": "code",
   "execution_count": 41,
   "id": "73aea229",
   "metadata": {},
   "outputs": [],
   "source": [
    "model_name = Xception\n",
    "name = 'Xception'\n",
    "batch_size = 8\n",
    "train_epoch = 300\n",
    "val_epoch = 50\n",
    "seed = 42\n",
    "image_size = 224\n",
    "LP = 14\n",
    "lr = 0.00001\n",
    "decay = 0.0001"
   ]
  },
  {
   "cell_type": "markdown",
   "id": "rotary-prague",
   "metadata": {
    "id": "rotary-prague",
    "papermill": {
     "duration": 0.025647,
     "end_time": "2021-05-30T18:39:32.952047",
     "exception": false,
     "start_time": "2021-05-30T18:39:32.926400",
     "status": "completed"
    },
    "tags": []
   },
   "source": [
    "### Read And Combining train dataset"
   ]
  },
  {
   "cell_type": "code",
   "execution_count": 42,
   "id": "emotional-valuable",
   "metadata": {
    "execution": {
     "iopub.execute_input": "2021-05-30T18:39:33.012157Z",
     "iopub.status.busy": "2021-05-30T18:39:33.011596Z",
     "iopub.status.idle": "2021-05-30T18:39:35.556063Z",
     "shell.execute_reply": "2021-05-30T18:39:35.555555Z",
     "shell.execute_reply.started": "2021-05-30T09:28:38.947982Z"
    },
    "id": "emotional-valuable",
    "papermill": {
     "duration": 2.57776,
     "end_time": "2021-05-30T18:39:35.556225",
     "exception": false,
     "start_time": "2021-05-30T18:39:32.978465",
     "status": "completed"
    },
    "tags": []
   },
   "outputs": [],
   "source": [
    "# number of class\n",
    "n_class = 5\n",
    "\n",
    "# path to kaggle dataset\n",
    "root_path = \"C:\\\\Users\\\\ngkim\\\\Downloads\\\\ClsKLData\\\\kneeKL224\\\\\"\n",
    "\n",
    "# list of folders\n",
    "folder_list = os.listdir(root_path)\n",
    "image_path_list = []\n",
    "label_list = []\n",
    "\n",
    "# for each folder, get the image path and labels\n",
    "for folder in folder_list:\n",
    "    for label in range(n_class):\n",
    "        \n",
    "        # get all the images path inside the current folder\n",
    "        image_list = os.listdir(f\"{root_path}{folder}/{label}\")\n",
    "        # add to the image path list\n",
    "        image_path_list += [ f\"{root_path}{folder}/{label}/\"+ path for path in image_list]\n",
    "        \n",
    "        # add labels to the label list\n",
    "        label_list += [label] * len(image_list)\n",
    "\n",
    "# convert to dataframe\n",
    "df_train_kaggle = pd.DataFrame({\"filepath\" : image_path_list, \"label\": label_list})"
   ]
  },
  {
   "cell_type": "code",
   "execution_count": 43,
   "id": "signal-responsibility",
   "metadata": {
    "colab": {
     "base_uri": "https://localhost:8080/"
    },
    "execution": {
     "iopub.execute_input": "2021-05-30T18:39:35.618734Z",
     "iopub.status.busy": "2021-05-30T18:39:35.617931Z",
     "iopub.status.idle": "2021-05-30T18:39:35.621117Z",
     "shell.execute_reply": "2021-05-30T18:39:35.621576Z",
     "shell.execute_reply.started": "2021-05-30T09:28:40.244589Z"
    },
    "id": "signal-responsibility",
    "outputId": "9be7a788-1c7a-498d-a3e9-7b2c5e8455ab",
    "papermill": {
     "duration": 0.03629,
     "end_time": "2021-05-30T18:39:35.621716",
     "exception": false,
     "start_time": "2021-05-30T18:39:35.585426",
     "status": "completed"
    },
    "tags": []
   },
   "outputs": [
    {
     "data": {
      "text/plain": [
       "(9786, 2)"
      ]
     },
     "execution_count": 43,
     "metadata": {},
     "output_type": "execute_result"
    }
   ],
   "source": [
    "df_train_kaggle.shape"
   ]
  },
  {
   "cell_type": "markdown",
   "id": "hairy-greene",
   "metadata": {
    "id": "hairy-greene",
    "papermill": {
     "duration": 0.030406,
     "end_time": "2021-05-30T18:39:35.680660",
     "exception": false,
     "start_time": "2021-05-30T18:39:35.650254",
     "status": "completed"
    },
    "tags": []
   },
   "source": [
    "### train dataset"
   ]
  },
  {
   "cell_type": "code",
   "execution_count": 44,
   "id": "therapeutic-spending",
   "metadata": {
    "colab": {
     "base_uri": "https://localhost:8080/",
     "height": 295
    },
    "execution": {
     "iopub.execute_input": "2021-05-30T18:39:35.750000Z",
     "iopub.status.busy": "2021-05-30T18:39:35.749277Z",
     "iopub.status.idle": "2021-05-30T18:39:35.918362Z",
     "shell.execute_reply": "2021-05-30T18:39:35.918766Z",
     "shell.execute_reply.started": "2021-05-30T09:28:41.597346Z"
    },
    "id": "therapeutic-spending",
    "outputId": "0e179822-cb9f-4a56-b0c3-1f99705e882b",
    "papermill": {
     "duration": 0.208649,
     "end_time": "2021-05-30T18:39:35.918905",
     "exception": false,
     "start_time": "2021-05-30T18:39:35.710256",
     "status": "completed"
    },
    "tags": []
   },
   "outputs": [
    {
     "data": {
      "text/plain": [
       "Text(0, 0.5, 'count')"
      ]
     },
     "execution_count": 44,
     "metadata": {},
     "output_type": "execute_result"
    },
    {
     "data": {
      "image/png": "[encoded data removed]",
      "text/plain": [
       "<Figure size 432x288 with 1 Axes>"
      ]
     },
     "metadata": {
      "needs_background": "light"
     },
     "output_type": "display_data"
    }
   ],
   "source": [
    "df_train_kaggle.label.value_counts().plot.bar()\n",
    "plt.xlabel(\"label\")\n",
    "plt.ylabel(\"count\")"
   ]
  },
  {
   "cell_type": "markdown",
   "id": "cognitive-calendar",
   "metadata": {
    "id": "cognitive-calendar",
    "papermill": {
     "duration": 0.027966,
     "end_time": "2021-05-30T18:39:35.973791",
     "exception": false,
     "start_time": "2021-05-30T18:39:35.945825",
     "status": "completed"
    },
    "tags": []
   },
   "source": [
    "### 관찰\n",
    "데이터 세트가 불균형적이므로 다수 클래스는 덜 가중치 부여하고 소수 클래스는 더 가중치를 부여하여 클래스 균형을 맞출 것이다."
   ]
  },
  {
   "cell_type": "code",
   "execution_count": 45,
   "id": "encouraging-novel",
   "metadata": {
    "execution": {
     "iopub.execute_input": "2021-05-30T18:39:36.090553Z",
     "iopub.status.busy": "2021-05-30T18:39:36.089729Z",
     "iopub.status.idle": "2021-05-30T18:39:36.092340Z",
     "shell.execute_reply": "2021-05-30T18:39:36.091828Z",
     "shell.execute_reply.started": "2021-05-30T09:28:44.189248Z"
    },
    "id": "encouraging-novel",
    "papermill": {
     "duration": 0.035021,
     "end_time": "2021-05-30T18:39:36.092447",
     "exception": false,
     "start_time": "2021-05-30T18:39:36.057426",
     "status": "completed"
    },
    "tags": []
   },
   "outputs": [],
   "source": [
    "# train data generator object\n",
    "train_aug = ImageDataGenerator(\n",
    "    rescale = 1./255\n",
    "  )\n",
    "\n",
    "# validation data generator object\n",
    "valid_aug = ImageDataGenerator(\n",
    "    rescale = 1./255\n",
    "  )"
   ]
  },
  {
   "cell_type": "code",
   "execution_count": 46,
   "id": "geological-philadelphia",
   "metadata": {
    "colab": {
     "base_uri": "https://localhost:8080/"
    },
    "execution": {
     "iopub.execute_input": "2021-05-30T18:39:36.172890Z",
     "iopub.status.busy": "2021-05-30T18:39:36.167698Z",
     "iopub.status.idle": "2021-05-30T18:39:39.954054Z",
     "shell.execute_reply": "2021-05-30T18:39:39.954888Z",
     "shell.execute_reply.started": "2021-05-30T09:28:47.478488Z"
    },
    "id": "geological-philadelphia",
    "outputId": "358f5e4e-a7b9-4d32-d0be-5a08a4e27ace",
    "papermill": {
     "duration": 3.835127,
     "end_time": "2021-05-30T18:39:39.955083",
     "exception": false,
     "start_time": "2021-05-30T18:39:36.119956",
     "status": "completed"
    },
    "tags": []
   },
   "outputs": [
    {
     "name": "stdout",
     "output_type": "stream",
     "text": [
      "Found 9786 validated image filenames.\n"
     ]
    }
   ],
   "source": [
    "# create train generator\n",
    "train_generator = train_aug.flow_from_dataframe(\n",
    "    dataframe = df_train_kaggle,\n",
    "    directory = None,\n",
    "    x_col = \"filepath\",\n",
    "    y_col = \"label\",\n",
    "    batch_size = batch_size,\n",
    "    seed = seed,\n",
    "    shuffle = True,\n",
    "    class_mode = \"raw\",\n",
    "    target_size = (image_size,image_size)\n",
    "  )"
   ]
  },
  {
   "cell_type": "code",
   "execution_count": 47,
   "id": "threaded-characterization",
   "metadata": {
    "colab": {
     "base_uri": "https://localhost:8080/",
     "height": 204
    },
    "execution": {
     "iopub.execute_input": "2021-05-30T18:40:02.229132Z",
     "iopub.status.busy": "2021-05-30T18:40:02.228400Z",
     "iopub.status.idle": "2021-05-30T18:40:02.250117Z",
     "shell.execute_reply": "2021-05-30T18:40:02.250642Z",
     "shell.execute_reply.started": "2021-05-30T08:33:23.833280Z"
    },
    "id": "threaded-characterization",
    "outputId": "283093ce-0819-4542-9ff8-555713912e62",
    "papermill": {
     "duration": 0.059732,
     "end_time": "2021-05-30T18:40:02.250775",
     "exception": false,
     "start_time": "2021-05-30T18:40:02.191043",
     "status": "completed"
    },
    "tags": []
   },
   "outputs": [
    {
     "data": {
      "text/html": [
       "<div>\n",
       "<style scoped>\n",
       "    .dataframe tbody tr th:only-of-type {\n",
       "        vertical-align: middle;\n",
       "    }\n",
       "\n",
       "    .dataframe tbody tr th {\n",
       "        vertical-align: top;\n",
       "    }\n",
       "\n",
       "    .dataframe thead th {\n",
       "        text-align: right;\n",
       "    }\n",
       "</style>\n",
       "<table border=\"1\" class=\"dataframe\">\n",
       "  <thead>\n",
       "    <tr style=\"text-align: right;\">\n",
       "      <th></th>\n",
       "      <th>filename</th>\n",
       "      <th>label</th>\n",
       "    </tr>\n",
       "  </thead>\n",
       "  <tbody>\n",
       "    <tr>\n",
       "      <th>0</th>\n",
       "      <td>C:\\Users\\ngkim\\Downloads\\KneeXray\\train/Image_...</td>\n",
       "      <td>0</td>\n",
       "    </tr>\n",
       "    <tr>\n",
       "      <th>1</th>\n",
       "      <td>C:\\Users\\ngkim\\Downloads\\KneeXray\\train/Image_...</td>\n",
       "      <td>1</td>\n",
       "    </tr>\n",
       "    <tr>\n",
       "      <th>2</th>\n",
       "      <td>C:\\Users\\ngkim\\Downloads\\KneeXray\\train/Image_...</td>\n",
       "      <td>0</td>\n",
       "    </tr>\n",
       "    <tr>\n",
       "      <th>3</th>\n",
       "      <td>C:\\Users\\ngkim\\Downloads\\KneeXray\\train/Image_...</td>\n",
       "      <td>1</td>\n",
       "    </tr>\n",
       "    <tr>\n",
       "      <th>4</th>\n",
       "      <td>C:\\Users\\ngkim\\Downloads\\KneeXray\\train/Image_...</td>\n",
       "      <td>2</td>\n",
       "    </tr>\n",
       "  </tbody>\n",
       "</table>\n",
       "</div>"
      ],
      "text/plain": [
       "                                            filename  label\n",
       "0  C:\\Users\\ngkim\\Downloads\\KneeXray\\train/Image_...      0\n",
       "1  C:\\Users\\ngkim\\Downloads\\KneeXray\\train/Image_...      1\n",
       "2  C:\\Users\\ngkim\\Downloads\\KneeXray\\train/Image_...      0\n",
       "3  C:\\Users\\ngkim\\Downloads\\KneeXray\\train/Image_...      1\n",
       "4  C:\\Users\\ngkim\\Downloads\\KneeXray\\train/Image_...      2"
      ]
     },
     "execution_count": 47,
     "metadata": {},
     "output_type": "execute_result"
    }
   ],
   "source": [
    "# read Train.csv file which contains image names and labels and preprocess them\n",
    "compi_root_path = \"C:\\\\Users\\\\ngkim\\\\Downloads\\\\KneeXray\\\\\"\n",
    "df_val_compi = pd.read_csv(compi_root_path + \"Train.csv\")\n",
    "\n",
    "# add absolute path to the image names\n",
    "df_val_compi[\"filename\"] = df_val_compi.filename.apply(lambda x: compi_root_path+\"train/\" + x)\n",
    "df_val_compi.head()"
   ]
  },
  {
   "cell_type": "code",
   "execution_count": 48,
   "id": "suburban-shareware",
   "metadata": {
    "colab": {
     "base_uri": "https://localhost:8080/",
     "height": 294
    },
    "execution": {
     "iopub.execute_input": "2021-05-30T18:40:02.339459Z",
     "iopub.status.busy": "2021-05-30T18:40:02.324109Z",
     "iopub.status.idle": "2021-05-30T18:40:02.442504Z",
     "shell.execute_reply": "2021-05-30T18:40:02.442056Z",
     "shell.execute_reply.started": "2021-05-30T08:33:23.865039Z"
    },
    "id": "suburban-shareware",
    "outputId": "8fb91f05-54a6-4bc7-d95f-68ea55748335",
    "papermill": {
     "duration": 0.158988,
     "end_time": "2021-05-30T18:40:02.442618",
     "exception": false,
     "start_time": "2021-05-30T18:40:02.283630",
     "status": "completed"
    },
    "tags": []
   },
   "outputs": [
    {
     "data": {
      "text/plain": [
       "Text(0, 0.5, 'count')"
      ]
     },
     "execution_count": 48,
     "metadata": {},
     "output_type": "execute_result"
    },
    {
     "data": {
      "image/png": "[encoded data removed]",
      "text/plain": [
       "<Figure size 432x288 with 1 Axes>"
      ]
     },
     "metadata": {
      "needs_background": "light"
     },
     "output_type": "display_data"
    }
   ],
   "source": [
    "# class count of compitition dataset\n",
    "df_val_compi.label.value_counts().plot.bar()\n",
    "plt.xlabel(\"label\")\n",
    "plt.ylabel(\"count\")"
   ]
  },
  {
   "cell_type": "code",
   "execution_count": 49,
   "id": "saving-homework",
   "metadata": {
    "colab": {
     "base_uri": "https://localhost:8080/"
    },
    "execution": {
     "iopub.execute_input": "2021-05-30T18:40:02.529039Z",
     "iopub.status.busy": "2021-05-30T18:40:02.528305Z",
     "iopub.status.idle": "2021-05-30T18:40:02.574290Z",
     "shell.execute_reply": "2021-05-30T18:40:02.574903Z",
     "shell.execute_reply.started": "2021-05-30T08:54:21.600981Z"
    },
    "id": "saving-homework",
    "outputId": "178977a9-4413-4d38-b7f0-de8a9904b0e0",
    "papermill": {
     "duration": 0.098388,
     "end_time": "2021-05-30T18:40:02.575081",
     "exception": false,
     "start_time": "2021-05-30T18:40:02.476693",
     "status": "completed"
    },
    "tags": []
   },
   "outputs": [
    {
     "name": "stdout",
     "output_type": "stream",
     "text": [
      "Found 7828 validated image filenames.\n"
     ]
    }
   ],
   "source": [
    "# create validation generator\n",
    "valid_generator = valid_aug.flow_from_dataframe( \n",
    "    dataframe = df_val_compi,\n",
    "    x_col = \"filename\",\n",
    "    y_col = \"label\",\n",
    "    batch_size = batch_size,\n",
    "    seed = seed,\n",
    "    shuffle= True,\n",
    "    class_mode = \"raw\",\n",
    "    target_size = (image_size,image_size)\n",
    "  )"
   ]
  },
  {
   "cell_type": "markdown",
   "id": "marked-belarus",
   "metadata": {
    "id": "marked-belarus",
    "papermill": {
     "duration": 0.033792,
     "end_time": "2021-05-30T18:40:02.643887",
     "exception": false,
     "start_time": "2021-05-30T18:40:02.610095",
     "status": "completed"
    },
    "tags": []
   },
   "source": [
    "### 모델\n",
    "구글의 Xception을 사용"
   ]
  },
  {
   "cell_type": "code",
   "execution_count": 50,
   "id": "buried-tablet",
   "metadata": {
    "colab": {
     "base_uri": "https://localhost:8080/"
    },
    "execution": {
     "iopub.execute_input": "2021-05-30T18:40:02.724467Z",
     "iopub.status.busy": "2021-05-30T18:40:02.723830Z",
     "iopub.status.idle": "2021-05-30T18:40:08.132744Z",
     "shell.execute_reply": "2021-05-30T18:40:08.131632Z",
     "shell.execute_reply.started": "2021-05-30T09:28:56.068101Z"
    },
    "id": "buried-tablet",
    "outputId": "2be7f5dd-25c9-49e7-fce8-f3e1fbe9c6a1",
    "papermill": {
     "duration": 5.455093,
     "end_time": "2021-05-30T18:40:08.132878",
     "exception": false,
     "start_time": "2021-05-30T18:40:02.677785",
     "status": "completed"
    },
    "tags": []
   },
   "outputs": [],
   "source": [
    "sel_model = model_name(weights = \"imagenet\",)\n",
    "x =  sel_model.layers[-14].output\n",
    "\n",
    "x = tf.keras.layers.Conv2D(filters = 2048, kernel_size = 3, padding = \"same\")(x)\n",
    "x = tf.keras.layers.BatchNormalization()(x)\n",
    "x = tf.keras.layers.Activation(\"relu\")(x)\n",
    "\n",
    "x = tf.keras.layers.Conv2D(filters = 1536, kernel_size = 3, padding = \"same\")(x)\n",
    "x = tf.keras.layers.BatchNormalization()(x)\n",
    "x = tf.keras.layers.Activation(\"relu\")(x)\n",
    "\n",
    "x = tf.keras.layers.Conv2D(filters = 1280, kernel_size = 3, padding = \"same\")(x)\n",
    "x = tf.keras.layers.BatchNormalization()(x)\n",
    "x = tf.keras.layers.Activation(\"relu\")(x)\n",
    "\n",
    "x = tf.keras.layers.Conv2D(filters = 1024, kernel_size = 3, padding = \"same\")(x)\n",
    "x = tf.keras.layers.BatchNormalization()(x)\n",
    "x = tf.keras.layers.Activation(\"relu\")(x)\n",
    "\n",
    "x = tf.keras.layers.Conv2D(filters = 768, kernel_size = 3, padding = \"same\")(x)\n",
    "x = tf.keras.layers.BatchNormalization()(x)\n",
    "x = tf.keras.layers.Activation(\"relu\")(x)\n",
    "\n",
    "x = tf.keras.layers.Conv2D(filters = 512, kernel_size = 3, padding = \"same\")(x)\n",
    "x = tf.keras.layers.BatchNormalization()(x)\n",
    "x = tf.keras.layers.Activation(\"relu\")(x)\n",
    "\n",
    "x = tf.keras.layers.Conv2D(filters = 384, kernel_size= 3, padding = \"same\")(x)\n",
    "x = tf.keras.layers.BatchNormalization()(x)\n",
    "x = tf.keras.layers.Activation(\"relu\")(x)\n",
    "\n",
    "x = tf.keras.layers.Conv2D(filters = 256, kernel_size = 3, padding = \"same\")(x)\n",
    "x = tf.keras.layers.BatchNormalization()(x)\n",
    "x = tf.keras.layers.Activation(\"relu\")(x)\n",
    "\n",
    "x = tf.keras.layers.Conv2D(filters = 128, kernel_size = 3, padding = \"same\")(x)\n",
    "x = tf.keras.layers.BatchNormalization()(x)\n",
    "x = tf.keras.layers.Activation(\"relu\")(x)\n",
    "\n",
    "x = tf.keras.layers.Conv2D(filters = 64, kernel_size= 3, padding = \"same\")(x)\n",
    "x = tf.keras.layers.BatchNormalization()(x)\n",
    "x = tf.keras.layers.Activation(\"relu\")(x)\n",
    "\n",
    "x = tf.keras.layers.Conv2D(filters = 32, kernel_size= 3, padding = \"same\")(x)\n",
    "x = tf.keras.layers.BatchNormalization()(x)\n",
    "x = tf.keras.layers.Activation(\"relu\")(x)\n",
    "\n",
    "x = tf.keras.layers.Conv2D(filters = 16, kernel_size= 3, padding = \"same\")(x)\n",
    "x = tf.keras.layers.BatchNormalization()(x)\n",
    "x = tf.keras.layers.Activation(\"relu\")(x)\n",
    "\n",
    "x = tf.keras.layers.Conv2D(filters = 10, kernel_size= 3, padding = \"same\")(x)\n",
    "x = tf.keras.layers.BatchNormalization()(x)\n",
    "x = tf.keras.layers.Activation(\"relu\")(x)\n",
    "\n",
    "x = tf.keras.layers.Conv2D(filters = n_class, kernel_size = 3, padding = \"same\")(x)\n",
    "x = tf.keras.layers.BatchNormalization()(x)\n",
    "x = tf.keras.layers.Activation(\"relu\")(x)\n",
    "\n",
    "GAP = tf.keras.layers.GlobalAveragePooling2D()(x)\n",
    "pred = tf.keras.activations.softmax(GAP)\n",
    "\n",
    "pic_model = Model(inputs=sel_model.input,outputs = pred)"
   ]
  },
  {
   "cell_type": "code",
   "execution_count": 51,
   "id": "DYVqXESmD_Fd",
   "metadata": {
    "colab": {
     "base_uri": "https://localhost:8080/"
    },
    "id": "DYVqXESmD_Fd",
    "outputId": "88696012-6f00-42ba-d016-645743054fa0"
   },
   "outputs": [
    {
     "name": "stdout",
     "output_type": "stream",
     "text": [
      "Model: \"model_1\"\n",
      "__________________________________________________________________________________________________\n",
      "Layer (type)                    Output Shape         Param #     Connected to                     \n",
      "==================================================================================================\n",
      "input_2 (InputLayer)            [(None, 299, 299, 3) 0                                            \n",
      "__________________________________________________________________________________________________\n",
      "block1_conv1 (Conv2D)           (None, 149, 149, 32) 864         input_2[0][0]                    \n",
      "__________________________________________________________________________________________________\n",
      "block1_conv1_bn (BatchNormaliza (None, 149, 149, 32) 128         block1_conv1[0][0]               \n",
      "__________________________________________________________________________________________________\n",
      "block1_conv1_act (Activation)   (None, 149, 149, 32) 0           block1_conv1_bn[0][0]            \n",
      "__________________________________________________________________________________________________\n",
      "block1_conv2 (Conv2D)           (None, 147, 147, 64) 18432       block1_conv1_act[0][0]           \n",
      "__________________________________________________________________________________________________\n",
      "block1_conv2_bn (BatchNormaliza (None, 147, 147, 64) 256         block1_conv2[0][0]               \n",
      "__________________________________________________________________________________________________\n",
      "block1_conv2_act (Activation)   (None, 147, 147, 64) 0           block1_conv2_bn[0][0]            \n",
      "__________________________________________________________________________________________________\n",
      "block2_sepconv1 (SeparableConv2 (None, 147, 147, 128 8768        block1_conv2_act[0][0]           \n",
      "__________________________________________________________________________________________________\n",
      "block2_sepconv1_bn (BatchNormal (None, 147, 147, 128 512         block2_sepconv1[0][0]            \n",
      "__________________________________________________________________________________________________\n",
      "block2_sepconv2_act (Activation (None, 147, 147, 128 0           block2_sepconv1_bn[0][0]         \n",
      "__________________________________________________________________________________________________\n",
      "block2_sepconv2 (SeparableConv2 (None, 147, 147, 128 17536       block2_sepconv2_act[0][0]        \n",
      "__________________________________________________________________________________________________\n",
      "block2_sepconv2_bn (BatchNormal (None, 147, 147, 128 512         block2_sepconv2[0][0]            \n",
      "__________________________________________________________________________________________________\n",
      "conv2d_17 (Conv2D)              (None, 74, 74, 128)  8192        block1_conv2_act[0][0]           \n",
      "__________________________________________________________________________________________________\n",
      "block2_pool (MaxPooling2D)      (None, 74, 74, 128)  0           block2_sepconv2_bn[0][0]         \n",
      "__________________________________________________________________________________________________\n",
      "batch_normalization_17 (BatchNo (None, 74, 74, 128)  512         conv2d_17[0][0]                  \n",
      "__________________________________________________________________________________________________\n",
      "add_12 (Add)                    (None, 74, 74, 128)  0           block2_pool[0][0]                \n",
      "                                                                 batch_normalization_17[0][0]     \n",
      "__________________________________________________________________________________________________\n",
      "block3_sepconv1_act (Activation (None, 74, 74, 128)  0           add_12[0][0]                     \n",
      "__________________________________________________________________________________________________\n",
      "block3_sepconv1 (SeparableConv2 (None, 74, 74, 256)  33920       block3_sepconv1_act[0][0]        \n",
      "__________________________________________________________________________________________________\n",
      "block3_sepconv1_bn (BatchNormal (None, 74, 74, 256)  1024        block3_sepconv1[0][0]            \n",
      "__________________________________________________________________________________________________\n",
      "block3_sepconv2_act (Activation (None, 74, 74, 256)  0           block3_sepconv1_bn[0][0]         \n",
      "__________________________________________________________________________________________________\n",
      "block3_sepconv2 (SeparableConv2 (None, 74, 74, 256)  67840       block3_sepconv2_act[0][0]        \n",
      "__________________________________________________________________________________________________\n",
      "block3_sepconv2_bn (BatchNormal (None, 74, 74, 256)  1024        block3_sepconv2[0][0]            \n",
      "__________________________________________________________________________________________________\n",
      "conv2d_18 (Conv2D)              (None, 37, 37, 256)  32768       add_12[0][0]                     \n",
      "__________________________________________________________________________________________________\n",
      "block3_pool (MaxPooling2D)      (None, 37, 37, 256)  0           block3_sepconv2_bn[0][0]         \n",
      "__________________________________________________________________________________________________\n",
      "batch_normalization_18 (BatchNo (None, 37, 37, 256)  1024        conv2d_18[0][0]                  \n",
      "__________________________________________________________________________________________________\n",
      "add_13 (Add)                    (None, 37, 37, 256)  0           block3_pool[0][0]                \n",
      "                                                                 batch_normalization_18[0][0]     \n",
      "__________________________________________________________________________________________________\n",
      "block4_sepconv1_act (Activation (None, 37, 37, 256)  0           add_13[0][0]                     \n",
      "__________________________________________________________________________________________________\n",
      "block4_sepconv1 (SeparableConv2 (None, 37, 37, 728)  188672      block4_sepconv1_act[0][0]        \n",
      "__________________________________________________________________________________________________\n",
      "block4_sepconv1_bn (BatchNormal (None, 37, 37, 728)  2912        block4_sepconv1[0][0]            \n",
      "__________________________________________________________________________________________________\n",
      "block4_sepconv2_act (Activation (None, 37, 37, 728)  0           block4_sepconv1_bn[0][0]         \n",
      "__________________________________________________________________________________________________\n",
      "block4_sepconv2 (SeparableConv2 (None, 37, 37, 728)  536536      block4_sepconv2_act[0][0]        \n",
      "__________________________________________________________________________________________________\n",
      "block4_sepconv2_bn (BatchNormal (None, 37, 37, 728)  2912        block4_sepconv2[0][0]            \n",
      "__________________________________________________________________________________________________\n",
      "conv2d_19 (Conv2D)              (None, 19, 19, 728)  186368      add_13[0][0]                     \n",
      "__________________________________________________________________________________________________\n",
      "block4_pool (MaxPooling2D)      (None, 19, 19, 728)  0           block4_sepconv2_bn[0][0]         \n",
      "__________________________________________________________________________________________________\n",
      "batch_normalization_19 (BatchNo (None, 19, 19, 728)  2912        conv2d_19[0][0]                  \n",
      "__________________________________________________________________________________________________\n",
      "add_14 (Add)                    (None, 19, 19, 728)  0           block4_pool[0][0]                \n",
      "                                                                 batch_normalization_19[0][0]     \n",
      "__________________________________________________________________________________________________\n",
      "block5_sepconv1_act (Activation (None, 19, 19, 728)  0           add_14[0][0]                     \n",
      "__________________________________________________________________________________________________\n",
      "block5_sepconv1 (SeparableConv2 (None, 19, 19, 728)  536536      block5_sepconv1_act[0][0]        \n",
      "__________________________________________________________________________________________________\n",
      "block5_sepconv1_bn (BatchNormal (None, 19, 19, 728)  2912        block5_sepconv1[0][0]            \n",
      "__________________________________________________________________________________________________\n",
      "block5_sepconv2_act (Activation (None, 19, 19, 728)  0           block5_sepconv1_bn[0][0]         \n",
      "__________________________________________________________________________________________________\n",
      "block5_sepconv2 (SeparableConv2 (None, 19, 19, 728)  536536      block5_sepconv2_act[0][0]        \n",
      "__________________________________________________________________________________________________\n",
      "block5_sepconv2_bn (BatchNormal (None, 19, 19, 728)  2912        block5_sepconv2[0][0]            \n",
      "__________________________________________________________________________________________________\n",
      "block5_sepconv3_act (Activation (None, 19, 19, 728)  0           block5_sepconv2_bn[0][0]         \n",
      "__________________________________________________________________________________________________\n",
      "block5_sepconv3 (SeparableConv2 (None, 19, 19, 728)  536536      block5_sepconv3_act[0][0]        \n",
      "__________________________________________________________________________________________________\n",
      "block5_sepconv3_bn (BatchNormal (None, 19, 19, 728)  2912        block5_sepconv3[0][0]            \n",
      "__________________________________________________________________________________________________\n",
      "add_15 (Add)                    (None, 19, 19, 728)  0           block5_sepconv3_bn[0][0]         \n",
      "                                                                 add_14[0][0]                     \n",
      "__________________________________________________________________________________________________\n",
      "block6_sepconv1_act (Activation (None, 19, 19, 728)  0           add_15[0][0]                     \n",
      "__________________________________________________________________________________________________\n",
      "block6_sepconv1 (SeparableConv2 (None, 19, 19, 728)  536536      block6_sepconv1_act[0][0]        \n",
      "__________________________________________________________________________________________________\n",
      "block6_sepconv1_bn (BatchNormal (None, 19, 19, 728)  2912        block6_sepconv1[0][0]            \n",
      "__________________________________________________________________________________________________\n",
      "block6_sepconv2_act (Activation (None, 19, 19, 728)  0           block6_sepconv1_bn[0][0]         \n",
      "__________________________________________________________________________________________________\n",
      "block6_sepconv2 (SeparableConv2 (None, 19, 19, 728)  536536      block6_sepconv2_act[0][0]        \n",
      "__________________________________________________________________________________________________\n",
      "block6_sepconv2_bn (BatchNormal (None, 19, 19, 728)  2912        block6_sepconv2[0][0]            \n",
      "__________________________________________________________________________________________________\n",
      "block6_sepconv3_act (Activation (None, 19, 19, 728)  0           block6_sepconv2_bn[0][0]         \n",
      "__________________________________________________________________________________________________\n",
      "block6_sepconv3 (SeparableConv2 (None, 19, 19, 728)  536536      block6_sepconv3_act[0][0]        \n",
      "__________________________________________________________________________________________________\n",
      "block6_sepconv3_bn (BatchNormal (None, 19, 19, 728)  2912        block6_sepconv3[0][0]            \n",
      "__________________________________________________________________________________________________\n",
      "add_16 (Add)                    (None, 19, 19, 728)  0           block6_sepconv3_bn[0][0]         \n",
      "                                                                 add_15[0][0]                     \n",
      "__________________________________________________________________________________________________\n",
      "block7_sepconv1_act (Activation (None, 19, 19, 728)  0           add_16[0][0]                     \n",
      "__________________________________________________________________________________________________\n",
      "block7_sepconv1 (SeparableConv2 (None, 19, 19, 728)  536536      block7_sepconv1_act[0][0]        \n",
      "__________________________________________________________________________________________________\n",
      "block7_sepconv1_bn (BatchNormal (None, 19, 19, 728)  2912        block7_sepconv1[0][0]            \n",
      "__________________________________________________________________________________________________\n",
      "block7_sepconv2_act (Activation (None, 19, 19, 728)  0           block7_sepconv1_bn[0][0]         \n",
      "__________________________________________________________________________________________________\n",
      "block7_sepconv2 (SeparableConv2 (None, 19, 19, 728)  536536      block7_sepconv2_act[0][0]        \n",
      "__________________________________________________________________________________________________\n",
      "block7_sepconv2_bn (BatchNormal (None, 19, 19, 728)  2912        block7_sepconv2[0][0]            \n",
      "__________________________________________________________________________________________________\n",
      "block7_sepconv3_act (Activation (None, 19, 19, 728)  0           block7_sepconv2_bn[0][0]         \n",
      "__________________________________________________________________________________________________\n",
      "block7_sepconv3 (SeparableConv2 (None, 19, 19, 728)  536536      block7_sepconv3_act[0][0]        \n",
      "__________________________________________________________________________________________________\n",
      "block7_sepconv3_bn (BatchNormal (None, 19, 19, 728)  2912        block7_sepconv3[0][0]            \n",
      "__________________________________________________________________________________________________\n",
      "add_17 (Add)                    (None, 19, 19, 728)  0           block7_sepconv3_bn[0][0]         \n",
      "                                                                 add_16[0][0]                     \n",
      "__________________________________________________________________________________________________\n",
      "block8_sepconv1_act (Activation (None, 19, 19, 728)  0           add_17[0][0]                     \n",
      "__________________________________________________________________________________________________\n",
      "block8_sepconv1 (SeparableConv2 (None, 19, 19, 728)  536536      block8_sepconv1_act[0][0]        \n",
      "__________________________________________________________________________________________________\n",
      "block8_sepconv1_bn (BatchNormal (None, 19, 19, 728)  2912        block8_sepconv1[0][0]            \n",
      "__________________________________________________________________________________________________\n",
      "block8_sepconv2_act (Activation (None, 19, 19, 728)  0           block8_sepconv1_bn[0][0]         \n",
      "__________________________________________________________________________________________________\n",
      "block8_sepconv2 (SeparableConv2 (None, 19, 19, 728)  536536      block8_sepconv2_act[0][0]        \n",
      "__________________________________________________________________________________________________\n",
      "block8_sepconv2_bn (BatchNormal (None, 19, 19, 728)  2912        block8_sepconv2[0][0]            \n",
      "__________________________________________________________________________________________________\n",
      "block8_sepconv3_act (Activation (None, 19, 19, 728)  0           block8_sepconv2_bn[0][0]         \n",
      "__________________________________________________________________________________________________\n",
      "block8_sepconv3 (SeparableConv2 (None, 19, 19, 728)  536536      block8_sepconv3_act[0][0]        \n",
      "__________________________________________________________________________________________________\n",
      "block8_sepconv3_bn (BatchNormal (None, 19, 19, 728)  2912        block8_sepconv3[0][0]            \n",
      "__________________________________________________________________________________________________\n",
      "add_18 (Add)                    (None, 19, 19, 728)  0           block8_sepconv3_bn[0][0]         \n",
      "                                                                 add_17[0][0]                     \n",
      "__________________________________________________________________________________________________\n",
      "block9_sepconv1_act (Activation (None, 19, 19, 728)  0           add_18[0][0]                     \n",
      "__________________________________________________________________________________________________\n",
      "block9_sepconv1 (SeparableConv2 (None, 19, 19, 728)  536536      block9_sepconv1_act[0][0]        \n",
      "__________________________________________________________________________________________________\n",
      "block9_sepconv1_bn (BatchNormal (None, 19, 19, 728)  2912        block9_sepconv1[0][0]            \n",
      "__________________________________________________________________________________________________\n",
      "block9_sepconv2_act (Activation (None, 19, 19, 728)  0           block9_sepconv1_bn[0][0]         \n",
      "__________________________________________________________________________________________________\n",
      "block9_sepconv2 (SeparableConv2 (None, 19, 19, 728)  536536      block9_sepconv2_act[0][0]        \n",
      "__________________________________________________________________________________________________\n",
      "block9_sepconv2_bn (BatchNormal (None, 19, 19, 728)  2912        block9_sepconv2[0][0]            \n",
      "__________________________________________________________________________________________________\n",
      "block9_sepconv3_act (Activation (None, 19, 19, 728)  0           block9_sepconv2_bn[0][0]         \n",
      "__________________________________________________________________________________________________\n",
      "block9_sepconv3 (SeparableConv2 (None, 19, 19, 728)  536536      block9_sepconv3_act[0][0]        \n",
      "__________________________________________________________________________________________________\n",
      "block9_sepconv3_bn (BatchNormal (None, 19, 19, 728)  2912        block9_sepconv3[0][0]            \n",
      "__________________________________________________________________________________________________\n",
      "add_19 (Add)                    (None, 19, 19, 728)  0           block9_sepconv3_bn[0][0]         \n",
      "                                                                 add_18[0][0]                     \n",
      "__________________________________________________________________________________________________\n",
      "block10_sepconv1_act (Activatio (None, 19, 19, 728)  0           add_19[0][0]                     \n",
      "__________________________________________________________________________________________________\n",
      "block10_sepconv1 (SeparableConv (None, 19, 19, 728)  536536      block10_sepconv1_act[0][0]       \n",
      "__________________________________________________________________________________________________\n",
      "block10_sepconv1_bn (BatchNorma (None, 19, 19, 728)  2912        block10_sepconv1[0][0]           \n",
      "__________________________________________________________________________________________________\n",
      "block10_sepconv2_act (Activatio (None, 19, 19, 728)  0           block10_sepconv1_bn[0][0]        \n",
      "__________________________________________________________________________________________________\n",
      "block10_sepconv2 (SeparableConv (None, 19, 19, 728)  536536      block10_sepconv2_act[0][0]       \n",
      "__________________________________________________________________________________________________\n",
      "block10_sepconv2_bn (BatchNorma (None, 19, 19, 728)  2912        block10_sepconv2[0][0]           \n",
      "__________________________________________________________________________________________________\n",
      "block10_sepconv3_act (Activatio (None, 19, 19, 728)  0           block10_sepconv2_bn[0][0]        \n",
      "__________________________________________________________________________________________________\n",
      "block10_sepconv3 (SeparableConv (None, 19, 19, 728)  536536      block10_sepconv3_act[0][0]       \n",
      "__________________________________________________________________________________________________\n",
      "block10_sepconv3_bn (BatchNorma (None, 19, 19, 728)  2912        block10_sepconv3[0][0]           \n",
      "__________________________________________________________________________________________________\n",
      "add_20 (Add)                    (None, 19, 19, 728)  0           block10_sepconv3_bn[0][0]        \n",
      "                                                                 add_19[0][0]                     \n",
      "__________________________________________________________________________________________________\n",
      "block11_sepconv1_act (Activatio (None, 19, 19, 728)  0           add_20[0][0]                     \n",
      "__________________________________________________________________________________________________\n",
      "block11_sepconv1 (SeparableConv (None, 19, 19, 728)  536536      block11_sepconv1_act[0][0]       \n",
      "__________________________________________________________________________________________________\n",
      "block11_sepconv1_bn (BatchNorma (None, 19, 19, 728)  2912        block11_sepconv1[0][0]           \n",
      "__________________________________________________________________________________________________\n",
      "block11_sepconv2_act (Activatio (None, 19, 19, 728)  0           block11_sepconv1_bn[0][0]        \n",
      "__________________________________________________________________________________________________\n",
      "block11_sepconv2 (SeparableConv (None, 19, 19, 728)  536536      block11_sepconv2_act[0][0]       \n",
      "__________________________________________________________________________________________________\n",
      "block11_sepconv2_bn (BatchNorma (None, 19, 19, 728)  2912        block11_sepconv2[0][0]           \n",
      "__________________________________________________________________________________________________\n",
      "block11_sepconv3_act (Activatio (None, 19, 19, 728)  0           block11_sepconv2_bn[0][0]        \n",
      "__________________________________________________________________________________________________\n",
      "block11_sepconv3 (SeparableConv (None, 19, 19, 728)  536536      block11_sepconv3_act[0][0]       \n",
      "__________________________________________________________________________________________________\n",
      "block11_sepconv3_bn (BatchNorma (None, 19, 19, 728)  2912        block11_sepconv3[0][0]           \n",
      "__________________________________________________________________________________________________\n",
      "add_21 (Add)                    (None, 19, 19, 728)  0           block11_sepconv3_bn[0][0]        \n",
      "                                                                 add_20[0][0]                     \n",
      "__________________________________________________________________________________________________\n",
      "block12_sepconv1_act (Activatio (None, 19, 19, 728)  0           add_21[0][0]                     \n",
      "__________________________________________________________________________________________________\n",
      "block12_sepconv1 (SeparableConv (None, 19, 19, 728)  536536      block12_sepconv1_act[0][0]       \n",
      "__________________________________________________________________________________________________\n",
      "block12_sepconv1_bn (BatchNorma (None, 19, 19, 728)  2912        block12_sepconv1[0][0]           \n",
      "__________________________________________________________________________________________________\n",
      "block12_sepconv2_act (Activatio (None, 19, 19, 728)  0           block12_sepconv1_bn[0][0]        \n",
      "__________________________________________________________________________________________________\n",
      "block12_sepconv2 (SeparableConv (None, 19, 19, 728)  536536      block12_sepconv2_act[0][0]       \n",
      "__________________________________________________________________________________________________\n",
      "block12_sepconv2_bn (BatchNorma (None, 19, 19, 728)  2912        block12_sepconv2[0][0]           \n",
      "__________________________________________________________________________________________________\n",
      "block12_sepconv3_act (Activatio (None, 19, 19, 728)  0           block12_sepconv2_bn[0][0]        \n",
      "__________________________________________________________________________________________________\n",
      "block12_sepconv3 (SeparableConv (None, 19, 19, 728)  536536      block12_sepconv3_act[0][0]       \n",
      "__________________________________________________________________________________________________\n",
      "block12_sepconv3_bn (BatchNorma (None, 19, 19, 728)  2912        block12_sepconv3[0][0]           \n",
      "__________________________________________________________________________________________________\n",
      "add_22 (Add)                    (None, 19, 19, 728)  0           block12_sepconv3_bn[0][0]        \n",
      "                                                                 add_21[0][0]                     \n",
      "__________________________________________________________________________________________________\n",
      "block13_sepconv1_act (Activatio (None, 19, 19, 728)  0           add_22[0][0]                     \n",
      "__________________________________________________________________________________________________\n",
      "block13_sepconv1 (SeparableConv (None, 19, 19, 728)  536536      block13_sepconv1_act[0][0]       \n",
      "__________________________________________________________________________________________________\n",
      "block13_sepconv1_bn (BatchNorma (None, 19, 19, 728)  2912        block13_sepconv1[0][0]           \n",
      "__________________________________________________________________________________________________\n",
      "block13_sepconv2_act (Activatio (None, 19, 19, 728)  0           block13_sepconv1_bn[0][0]        \n",
      "__________________________________________________________________________________________________\n",
      "block13_sepconv2 (SeparableConv (None, 19, 19, 1024) 752024      block13_sepconv2_act[0][0]       \n",
      "__________________________________________________________________________________________________\n",
      "conv2d_21 (Conv2D)              (None, 19, 19, 2048) 18876416    block13_sepconv2[0][0]           \n",
      "__________________________________________________________________________________________________\n",
      "batch_normalization_21 (BatchNo (None, 19, 19, 2048) 8192        conv2d_21[0][0]                  \n",
      "__________________________________________________________________________________________________\n",
      "activation_13 (Activation)      (None, 19, 19, 2048) 0           batch_normalization_21[0][0]     \n",
      "__________________________________________________________________________________________________\n",
      "conv2d_22 (Conv2D)              (None, 19, 19, 1536) 28313088    activation_13[0][0]              \n",
      "__________________________________________________________________________________________________\n",
      "batch_normalization_22 (BatchNo (None, 19, 19, 1536) 6144        conv2d_22[0][0]                  \n",
      "__________________________________________________________________________________________________\n",
      "activation_14 (Activation)      (None, 19, 19, 1536) 0           batch_normalization_22[0][0]     \n",
      "__________________________________________________________________________________________________\n",
      "conv2d_23 (Conv2D)              (None, 19, 19, 1280) 17696000    activation_14[0][0]              \n",
      "__________________________________________________________________________________________________\n",
      "batch_normalization_23 (BatchNo (None, 19, 19, 1280) 5120        conv2d_23[0][0]                  \n",
      "__________________________________________________________________________________________________\n",
      "activation_15 (Activation)      (None, 19, 19, 1280) 0           batch_normalization_23[0][0]     \n",
      "__________________________________________________________________________________________________\n",
      "conv2d_24 (Conv2D)              (None, 19, 19, 1024) 11797504    activation_15[0][0]              \n",
      "__________________________________________________________________________________________________\n",
      "batch_normalization_24 (BatchNo (None, 19, 19, 1024) 4096        conv2d_24[0][0]                  \n",
      "__________________________________________________________________________________________________\n",
      "activation_16 (Activation)      (None, 19, 19, 1024) 0           batch_normalization_24[0][0]     \n",
      "__________________________________________________________________________________________________\n",
      "conv2d_25 (Conv2D)              (None, 19, 19, 768)  7078656     activation_16[0][0]              \n",
      "__________________________________________________________________________________________________\n",
      "batch_normalization_25 (BatchNo (None, 19, 19, 768)  3072        conv2d_25[0][0]                  \n",
      "__________________________________________________________________________________________________\n",
      "activation_17 (Activation)      (None, 19, 19, 768)  0           batch_normalization_25[0][0]     \n",
      "__________________________________________________________________________________________________\n",
      "conv2d_26 (Conv2D)              (None, 19, 19, 512)  3539456     activation_17[0][0]              \n",
      "__________________________________________________________________________________________________\n",
      "batch_normalization_26 (BatchNo (None, 19, 19, 512)  2048        conv2d_26[0][0]                  \n",
      "__________________________________________________________________________________________________\n",
      "activation_18 (Activation)      (None, 19, 19, 512)  0           batch_normalization_26[0][0]     \n",
      "__________________________________________________________________________________________________\n",
      "conv2d_27 (Conv2D)              (None, 19, 19, 384)  1769856     activation_18[0][0]              \n",
      "__________________________________________________________________________________________________\n",
      "batch_normalization_27 (BatchNo (None, 19, 19, 384)  1536        conv2d_27[0][0]                  \n",
      "__________________________________________________________________________________________________\n",
      "activation_19 (Activation)      (None, 19, 19, 384)  0           batch_normalization_27[0][0]     \n",
      "__________________________________________________________________________________________________\n",
      "conv2d_28 (Conv2D)              (None, 19, 19, 256)  884992      activation_19[0][0]              \n",
      "__________________________________________________________________________________________________\n",
      "batch_normalization_28 (BatchNo (None, 19, 19, 256)  1024        conv2d_28[0][0]                  \n",
      "__________________________________________________________________________________________________\n",
      "activation_20 (Activation)      (None, 19, 19, 256)  0           batch_normalization_28[0][0]     \n",
      "__________________________________________________________________________________________________\n",
      "conv2d_29 (Conv2D)              (None, 19, 19, 128)  295040      activation_20[0][0]              \n",
      "__________________________________________________________________________________________________\n",
      "batch_normalization_29 (BatchNo (None, 19, 19, 128)  512         conv2d_29[0][0]                  \n",
      "__________________________________________________________________________________________________\n",
      "activation_21 (Activation)      (None, 19, 19, 128)  0           batch_normalization_29[0][0]     \n",
      "__________________________________________________________________________________________________\n",
      "conv2d_30 (Conv2D)              (None, 19, 19, 64)   73792       activation_21[0][0]              \n",
      "__________________________________________________________________________________________________\n",
      "batch_normalization_30 (BatchNo (None, 19, 19, 64)   256         conv2d_30[0][0]                  \n",
      "__________________________________________________________________________________________________\n",
      "activation_22 (Activation)      (None, 19, 19, 64)   0           batch_normalization_30[0][0]     \n",
      "__________________________________________________________________________________________________\n",
      "conv2d_31 (Conv2D)              (None, 19, 19, 32)   18464       activation_22[0][0]              \n",
      "__________________________________________________________________________________________________\n",
      "batch_normalization_31 (BatchNo (None, 19, 19, 32)   128         conv2d_31[0][0]                  \n",
      "__________________________________________________________________________________________________\n",
      "activation_23 (Activation)      (None, 19, 19, 32)   0           batch_normalization_31[0][0]     \n",
      "__________________________________________________________________________________________________\n",
      "conv2d_32 (Conv2D)              (None, 19, 19, 16)   4624        activation_23[0][0]              \n",
      "__________________________________________________________________________________________________\n",
      "batch_normalization_32 (BatchNo (None, 19, 19, 16)   64          conv2d_32[0][0]                  \n",
      "__________________________________________________________________________________________________\n",
      "activation_24 (Activation)      (None, 19, 19, 16)   0           batch_normalization_32[0][0]     \n",
      "__________________________________________________________________________________________________\n",
      "conv2d_33 (Conv2D)              (None, 19, 19, 10)   1450        activation_24[0][0]              \n",
      "__________________________________________________________________________________________________\n",
      "batch_normalization_33 (BatchNo (None, 19, 19, 10)   40          conv2d_33[0][0]                  \n",
      "__________________________________________________________________________________________________\n",
      "activation_25 (Activation)      (None, 19, 19, 10)   0           batch_normalization_33[0][0]     \n",
      "__________________________________________________________________________________________________\n",
      "conv2d_34 (Conv2D)              (None, 19, 19, 5)    455         activation_25[0][0]              \n",
      "__________________________________________________________________________________________________\n",
      "batch_normalization_34 (BatchNo (None, 19, 19, 5)    20          conv2d_34[0][0]                  \n",
      "__________________________________________________________________________________________________\n",
      "activation_26 (Activation)      (None, 19, 19, 5)    0           batch_normalization_34[0][0]     \n",
      "__________________________________________________________________________________________________\n",
      "global_average_pooling2d_1 (Glo (None, 5)            0           activation_26[0][0]              \n",
      "__________________________________________________________________________________________________\n",
      "tf.nn.softmax_1 (TFOpLambda)    (None, 5)            0           global_average_pooling2d_1[0][0] \n",
      "==================================================================================================\n",
      "Total params: 105,733,893\n",
      "Trainable params: 105,674,503\n",
      "Non-trainable params: 59,390\n",
      "__________________________________________________________________________________________________\n"
     ]
    }
   ],
   "source": [
    "pic_model.summary()"
   ]
  },
  {
   "cell_type": "code",
   "execution_count": 52,
   "id": "norman-detector",
   "metadata": {
    "execution": {
     "iopub.execute_input": "2021-05-30T18:40:08.391663Z",
     "iopub.status.busy": "2021-05-30T18:40:08.385701Z",
     "iopub.status.idle": "2021-05-30T18:40:08.398432Z",
     "shell.execute_reply": "2021-05-30T18:40:08.397997Z",
     "shell.execute_reply.started": "2021-05-30T09:28:58.465217Z"
    },
    "id": "norman-detector",
    "papermill": {
     "duration": 0.226948,
     "end_time": "2021-05-30T18:40:08.398547",
     "exception": false,
     "start_time": "2021-05-30T18:40:08.171599",
     "status": "completed"
    },
    "tags": []
   },
   "outputs": [],
   "source": [
    "# compile\n",
    "pic_model.compile(\n",
    "    optimizer = tf.keras.optimizers.Adam(learning_rate = lr, decay = decay),\n",
    "    metrics = [\"acc\"],\n",
    "    loss = tf.keras.losses.sparse_categorical_crossentropy)\n",
    "\n",
    "# callbacks and checkpoints\n",
    "checkpoint_name = name+\"_BS\"+str(batch_size)+\"_EP\"+str(train_epoch)+\"_IS\"+str(image_size)+\"_LP\"+str(LP)\n",
    "checkpoint_path = checkpoint_name+\".ckpt\"\n",
    "\n",
    "checkpoint_dir = os.path.dirname(checkpoint_path)\n",
    "\n",
    "my_callbacks = [\n",
    "              ModelCheckpoint(\n",
    "                   checkpoint_path,\n",
    "                   monitor = 'val_acc',\n",
    "                   verbose = 1,\n",
    "                   save_weights_only = True,\n",
    "                   save_best_only = True,\n",
    "                   mode = \"max\"\n",
    "                  ),\n",
    "              EarlyStopping(\n",
    "                   monitor = 'val_loss',\n",
    "                   patience = 10,\n",
    "                   verbose = 0\n",
    "                  ),\n",
    "              ReduceLROnPlateau(\n",
    "                   monitor = 'val_loss',\n",
    "                   patience = 10,\n",
    "                   verbose = 1\n",
    "                  )\n",
    "]"
   ]
  },
  {
   "cell_type": "markdown",
   "id": "crucial-administration",
   "metadata": {
    "id": "crucial-administration",
    "papermill": {
     "duration": 0.038495,
     "end_time": "2021-05-30T18:40:08.475329",
     "exception": false,
     "start_time": "2021-05-30T18:40:08.436834",
     "status": "completed"
    },
    "tags": []
   },
   "source": [
    "### 가중치 클래스\n",
    "학습 데이터 양 차이가 일정하지 않기 때문에 샘플 수에 따라 가중치 부여"
   ]
  },
  {
   "cell_type": "code",
   "execution_count": 53,
   "id": "regional-indie",
   "metadata": {
    "execution": {
     "iopub.execute_input": "2021-05-30T18:40:08.558435Z",
     "iopub.status.busy": "2021-05-30T18:40:08.557616Z",
     "iopub.status.idle": "2021-05-30T18:40:09.060821Z",
     "shell.execute_reply": "2021-05-30T18:40:09.060357Z",
     "shell.execute_reply.started": "2021-05-30T09:30:11.007618Z"
    },
    "id": "regional-indie",
    "papermill": {
     "duration": 0.546357,
     "end_time": "2021-05-30T18:40:09.060960",
     "exception": false,
     "start_time": "2021-05-30T18:40:08.514603",
     "status": "completed"
    },
    "tags": []
   },
   "outputs": [],
   "source": [
    "from sklearn.utils import class_weight\n",
    "\n",
    "class_weights = class_weight.compute_class_weight(\n",
    "    'balanced',\n",
    "    classes = np.unique(df_train_kaggle.label.values),\n",
    "    y = df_train_kaggle.label.values\n",
    "  )\n",
    "\n",
    "class_weights = dict(enumerate(class_weights))"
   ]
  },
  {
   "cell_type": "markdown",
   "id": "square-better",
   "metadata": {
    "id": "square-better",
    "papermill": {
     "duration": 0.037503,
     "end_time": "2021-05-30T18:40:09.136492",
     "exception": false,
     "start_time": "2021-05-30T18:40:09.098989",
     "status": "completed"
    },
    "tags": []
   },
   "source": [
    "### Train"
   ]
  },
  {
   "cell_type": "code",
   "execution_count": 54,
   "id": "hidden-stephen",
   "metadata": {
    "colab": {
     "base_uri": "https://localhost:8080/"
    },
    "execution": {
     "iopub.execute_input": "2021-05-30T18:40:09.218272Z",
     "iopub.status.busy": "2021-05-30T18:40:09.217728Z",
     "iopub.status.idle": "2021-05-30T20:12:12.156502Z",
     "shell.execute_reply": "2021-05-30T20:12:12.154537Z",
     "shell.execute_reply.started": "2021-05-26T18:49:57.904339Z"
    },
    "id": "hidden-stephen",
    "outputId": "1432984b-6c8d-4523-de45-b163a07ed120",
    "papermill": {
     "duration": 5522.981999,
     "end_time": "2021-05-30T20:12:12.156678",
     "exception": false,
     "start_time": "2021-05-30T18:40:09.174679",
     "status": "completed"
    },
    "tags": []
   },
   "outputs": [
    {
     "name": "stdout",
     "output_type": "stream",
     "text": [
      "Epoch 1/300\n",
      "1224/1224 [==============================] - 180s 145ms/step - loss: 1.4891 - acc: 0.3025 - val_loss: 1.4216 - val_acc: 0.4590\n",
      "\n",
      "Epoch 00001: val_acc improved from -inf to 0.45899, saving model to Xception_BS8_EP300_IS224_LP14.ckpt\n",
      "Epoch 2/300\n",
      "1224/1224 [==============================] - 176s 144ms/step - loss: 1.2633 - acc: 0.4719 - val_loss: 1.2860 - val_acc: 0.5731\n",
      "\n",
      "Epoch 00002: val_acc improved from 0.45899 to 0.57307, saving model to Xception_BS8_EP300_IS224_LP14.ckpt\n",
      "Epoch 3/300\n",
      "1224/1224 [==============================] - 177s 144ms/step - loss: 1.1651 - acc: 0.5314 - val_loss: 1.3043 - val_acc: 0.5933\n",
      "\n",
      "Epoch 00003: val_acc improved from 0.57307 to 0.59325, saving model to Xception_BS8_EP300_IS224_LP14.ckpt\n",
      "Epoch 4/300\n",
      "1224/1224 [==============================] - 176s 144ms/step - loss: 1.0993 - acc: 0.5725 - val_loss: 1.1692 - val_acc: 0.6464\n",
      "\n",
      "Epoch 00004: val_acc improved from 0.59325 to 0.64640, saving model to Xception_BS8_EP300_IS224_LP14.ckpt\n",
      "Epoch 5/300\n",
      "1224/1224 [==============================] - 177s 144ms/step - loss: 1.0567 - acc: 0.6037 - val_loss: 1.1534 - val_acc: 0.6357\n",
      "\n",
      "Epoch 00005: val_acc did not improve from 0.64640\n",
      "Epoch 6/300\n",
      "1224/1224 [==============================] - 177s 145ms/step - loss: 1.0114 - acc: 0.6327 - val_loss: 1.0959 - val_acc: 0.6772\n",
      "\n",
      "Epoch 00006: val_acc improved from 0.64640 to 0.67718, saving model to Xception_BS8_EP300_IS224_LP14.ckpt\n",
      "Epoch 7/300\n",
      "1224/1224 [==============================] - 177s 145ms/step - loss: 0.9688 - acc: 0.6661 - val_loss: 1.1092 - val_acc: 0.6408\n",
      "\n",
      "Epoch 00007: val_acc did not improve from 0.67718\n",
      "Epoch 8/300\n",
      "1224/1224 [==============================] - 177s 145ms/step - loss: 0.9268 - acc: 0.6929 - val_loss: 1.0204 - val_acc: 0.7236\n",
      "\n",
      "Epoch 00008: val_acc improved from 0.67718 to 0.72356, saving model to Xception_BS8_EP300_IS224_LP14.ckpt\n",
      "Epoch 9/300\n",
      "1224/1224 [==============================] - 178s 146ms/step - loss: 0.8871 - acc: 0.7226 - val_loss: 0.9179 - val_acc: 0.7725\n",
      "\n",
      "Epoch 00009: val_acc improved from 0.72356 to 0.77248, saving model to Xception_BS8_EP300_IS224_LP14.ckpt\n",
      "Epoch 10/300\n",
      "1224/1224 [==============================] - 177s 145ms/step - loss: 0.8615 - acc: 0.7422 - val_loss: 0.8634 - val_acc: 0.8091\n",
      "\n",
      "Epoch 00010: val_acc improved from 0.77248 to 0.80915, saving model to Xception_BS8_EP300_IS224_LP14.ckpt\n",
      "Epoch 11/300\n",
      "1224/1224 [==============================] - 176s 144ms/step - loss: 0.8180 - acc: 0.7771 - val_loss: 0.8984 - val_acc: 0.7717\n",
      "\n",
      "Epoch 00011: val_acc did not improve from 0.80915\n",
      "Epoch 12/300\n",
      "1224/1224 [==============================] - 177s 145ms/step - loss: 0.7907 - acc: 0.7975 - val_loss: 0.8330 - val_acc: 0.8274\n",
      "\n",
      "Epoch 00012: val_acc improved from 0.80915 to 0.82741, saving model to Xception_BS8_EP300_IS224_LP14.ckpt\n",
      "Epoch 13/300\n",
      "1224/1224 [==============================] - 178s 145ms/step - loss: 0.7508 - acc: 0.8239 - val_loss: 0.8515 - val_acc: 0.7821\n",
      "\n",
      "Epoch 00013: val_acc did not improve from 0.82741\n",
      "Epoch 14/300\n",
      "1224/1224 [==============================] - 177s 144ms/step - loss: 0.7281 - acc: 0.8392 - val_loss: 0.7613 - val_acc: 0.8505\n",
      "\n",
      "Epoch 00014: val_acc improved from 0.82741 to 0.85054, saving model to Xception_BS8_EP300_IS224_LP14.ckpt\n",
      "Epoch 15/300\n",
      "1224/1224 [==============================] - 177s 145ms/step - loss: 0.7040 - acc: 0.8562 - val_loss: 0.9239 - val_acc: 0.7179\n",
      "\n",
      "Epoch 00015: val_acc did not improve from 0.85054\n",
      "Epoch 16/300\n",
      "1224/1224 [==============================] - 177s 145ms/step - loss: 0.7011 - acc: 0.8628 - val_loss: 0.7023 - val_acc: 0.8826\n",
      "\n",
      "Epoch 00016: val_acc improved from 0.85054 to 0.88260, saving model to Xception_BS8_EP300_IS224_LP14.ckpt\n",
      "Epoch 17/300\n",
      "1224/1224 [==============================] - 176s 144ms/step - loss: 0.6738 - acc: 0.8826 - val_loss: 0.7597 - val_acc: 0.8463\n",
      "\n",
      "Epoch 00017: val_acc did not improve from 0.88260\n",
      "Epoch 18/300\n",
      "1224/1224 [==============================] - 178s 145ms/step - loss: 0.6605 - acc: 0.8985 - val_loss: 0.8586 - val_acc: 0.7693\n",
      "\n",
      "Epoch 00018: val_acc did not improve from 0.88260\n",
      "Epoch 19/300\n",
      "1224/1224 [==============================] - 178s 145ms/step - loss: 0.6492 - acc: 0.8996 - val_loss: 0.8269 - val_acc: 0.7828\n",
      "\n",
      "Epoch 00019: val_acc did not improve from 0.88260\n",
      "Epoch 20/300\n",
      "1224/1224 [==============================] - 177s 145ms/step - loss: 0.6355 - acc: 0.9132 - val_loss: 0.6564 - val_acc: 0.9089\n",
      "\n",
      "Epoch 00020: val_acc improved from 0.88260 to 0.90892, saving model to Xception_BS8_EP300_IS224_LP14.ckpt\n",
      "Epoch 21/300\n",
      "1224/1224 [==============================] - 176s 144ms/step - loss: 0.6241 - acc: 0.9219 - val_loss: 0.6406 - val_acc: 0.9184\n",
      "\n",
      "Epoch 00021: val_acc improved from 0.90892 to 0.91837, saving model to Xception_BS8_EP300_IS224_LP14.ckpt\n",
      "Epoch 22/300\n",
      "1224/1224 [==============================] - 178s 145ms/step - loss: 0.6204 - acc: 0.9273 - val_loss: 0.6510 - val_acc: 0.9075\n",
      "\n",
      "Epoch 00022: val_acc did not improve from 0.91837\n",
      "Epoch 23/300\n",
      "1224/1224 [==============================] - 177s 145ms/step - loss: 0.6057 - acc: 0.9328 - val_loss: 0.6343 - val_acc: 0.9249\n",
      "\n",
      "Epoch 00023: val_acc improved from 0.91837 to 0.92489, saving model to Xception_BS8_EP300_IS224_LP14.ckpt\n",
      "Epoch 24/300\n",
      "1224/1224 [==============================] - 177s 144ms/step - loss: 0.6062 - acc: 0.9367 - val_loss: 0.7521 - val_acc: 0.8364\n",
      "\n",
      "Epoch 00024: val_acc did not improve from 0.92489\n",
      "Epoch 25/300\n",
      "1224/1224 [==============================] - 177s 145ms/step - loss: 0.5892 - acc: 0.9469 - val_loss: 0.7276 - val_acc: 0.8532\n",
      "\n",
      "Epoch 00025: val_acc did not improve from 0.92489\n",
      "Epoch 26/300\n",
      "1224/1224 [==============================] - 177s 145ms/step - loss: 0.5955 - acc: 0.9487 - val_loss: 0.5914 - val_acc: 0.9325\n",
      "\n",
      "Epoch 00026: val_acc improved from 0.92489 to 0.93255, saving model to Xception_BS8_EP300_IS224_LP14.ckpt\n",
      "Epoch 27/300\n",
      "1224/1224 [==============================] - 176s 144ms/step - loss: 0.5918 - acc: 0.9519 - val_loss: 0.5771 - val_acc: 0.9430\n",
      "\n",
      "Epoch 00027: val_acc improved from 0.93255 to 0.94303, saving model to Xception_BS8_EP300_IS224_LP14.ckpt\n",
      "Epoch 28/300\n",
      "1224/1224 [==============================] - 176s 144ms/step - loss: 0.5829 - acc: 0.9601 - val_loss: 0.6034 - val_acc: 0.9117\n",
      "\n",
      "Epoch 00028: val_acc did not improve from 0.94303\n",
      "Epoch 29/300\n",
      "1224/1224 [==============================] - 176s 144ms/step - loss: 0.5745 - acc: 0.9629 - val_loss: 0.5878 - val_acc: 0.9391\n",
      "\n",
      "Epoch 00029: val_acc did not improve from 0.94303\n",
      "Epoch 30/300\n",
      "1224/1224 [==============================] - 177s 145ms/step - loss: 0.5697 - acc: 0.9634 - val_loss: 0.5804 - val_acc: 0.9310\n",
      "\n",
      "Epoch 00030: val_acc did not improve from 0.94303\n",
      "Epoch 31/300\n",
      "1224/1224 [==============================] - 177s 145ms/step - loss: 0.5670 - acc: 0.9651 - val_loss: 0.6553 - val_acc: 0.8987\n",
      "\n",
      "Epoch 00031: val_acc did not improve from 0.94303\n",
      "Epoch 32/300\n",
      "1224/1224 [==============================] - 178s 145ms/step - loss: 0.5603 - acc: 0.9667 - val_loss: 0.5809 - val_acc: 0.9400\n",
      "\n",
      "Epoch 00032: val_acc did not improve from 0.94303\n",
      "Epoch 33/300\n",
      "1224/1224 [==============================] - 176s 144ms/step - loss: 0.5593 - acc: 0.9710 - val_loss: 0.5603 - val_acc: 0.9437\n",
      "\n",
      "Epoch 00033: val_acc improved from 0.94303 to 0.94366, saving model to Xception_BS8_EP300_IS224_LP14.ckpt\n",
      "Epoch 34/300\n",
      "1224/1224 [==============================] - 177s 144ms/step - loss: 0.5528 - acc: 0.9731 - val_loss: 0.5472 - val_acc: 0.9461\n",
      "\n",
      "Epoch 00034: val_acc improved from 0.94366 to 0.94609, saving model to Xception_BS8_EP300_IS224_LP14.ckpt\n",
      "Epoch 35/300\n",
      "1224/1224 [==============================] - 177s 144ms/step - loss: 0.5481 - acc: 0.9736 - val_loss: 0.5946 - val_acc: 0.9246\n",
      "\n",
      "Epoch 00035: val_acc did not improve from 0.94609\n",
      "Epoch 36/300\n",
      "1224/1224 [==============================] - 177s 145ms/step - loss: 0.5532 - acc: 0.9760 - val_loss: 0.5514 - val_acc: 0.9442\n",
      "\n",
      "Epoch 00036: val_acc did not improve from 0.94609\n",
      "Epoch 37/300\n",
      "1224/1224 [==============================] - 177s 145ms/step - loss: 0.5459 - acc: 0.9785 - val_loss: 0.5502 - val_acc: 0.9452\n",
      "\n",
      "Epoch 00037: val_acc did not improve from 0.94609\n",
      "Epoch 38/300\n",
      "1224/1224 [==============================] - 178s 145ms/step - loss: 0.5543 - acc: 0.9768 - val_loss: 0.5867 - val_acc: 0.9288\n"
     ]
    },
    {
     "name": "stdout",
     "output_type": "stream",
     "text": [
      "\n",
      "Epoch 00038: val_acc did not improve from 0.94609\n",
      "Epoch 39/300\n",
      "1224/1224 [==============================] - 177s 144ms/step - loss: 0.5388 - acc: 0.9814 - val_loss: 0.5256 - val_acc: 0.9576\n",
      "\n",
      "Epoch 00039: val_acc improved from 0.94609 to 0.95759, saving model to Xception_BS8_EP300_IS224_LP14.ckpt\n",
      "Epoch 40/300\n",
      "1224/1224 [==============================] - 176s 144ms/step - loss: 0.5333 - acc: 0.9820 - val_loss: 0.5383 - val_acc: 0.9630\n",
      "\n",
      "Epoch 00040: val_acc improved from 0.95759 to 0.96295, saving model to Xception_BS8_EP300_IS224_LP14.ckpt\n",
      "Epoch 41/300\n",
      "1224/1224 [==============================] - 177s 145ms/step - loss: 0.5381 - acc: 0.9812 - val_loss: 0.5394 - val_acc: 0.9558\n",
      "\n",
      "Epoch 00041: val_acc did not improve from 0.96295\n",
      "Epoch 42/300\n",
      "1224/1224 [==============================] - 177s 144ms/step - loss: 0.5345 - acc: 0.9834 - val_loss: 0.5425 - val_acc: 0.9558\n",
      "\n",
      "Epoch 00042: val_acc did not improve from 0.96295\n",
      "Epoch 43/300\n",
      "1224/1224 [==============================] - 177s 145ms/step - loss: 0.5291 - acc: 0.9851 - val_loss: 0.5297 - val_acc: 0.9576\n",
      "\n",
      "Epoch 00043: val_acc did not improve from 0.96295\n",
      "Epoch 44/300\n",
      "1224/1224 [==============================] - 177s 145ms/step - loss: 0.5222 - acc: 0.9877 - val_loss: 0.5107 - val_acc: 0.9609\n",
      "\n",
      "Epoch 00044: val_acc did not improve from 0.96295\n",
      "Epoch 45/300\n",
      "1224/1224 [==============================] - 177s 145ms/step - loss: 0.5226 - acc: 0.9886 - val_loss: 0.5273 - val_acc: 0.9494\n",
      "\n",
      "Epoch 00045: val_acc did not improve from 0.96295\n",
      "Epoch 46/300\n",
      "1224/1224 [==============================] - 176s 144ms/step - loss: 0.5177 - acc: 0.9868 - val_loss: 0.5323 - val_acc: 0.9512\n",
      "\n",
      "Epoch 00046: val_acc did not improve from 0.96295\n",
      "Epoch 47/300\n",
      "1224/1224 [==============================] - 178s 145ms/step - loss: 0.5210 - acc: 0.9852 - val_loss: 0.5238 - val_acc: 0.9614\n",
      "\n",
      "Epoch 00047: val_acc did not improve from 0.96295\n",
      "Epoch 48/300\n",
      "1224/1224 [==============================] - 177s 144ms/step - loss: 0.5234 - acc: 0.9879 - val_loss: 0.5320 - val_acc: 0.9481\n",
      "\n",
      "Epoch 00048: val_acc did not improve from 0.96295\n",
      "Epoch 49/300\n",
      "1224/1224 [==============================] - 177s 145ms/step - loss: 0.5222 - acc: 0.9888 - val_loss: 0.4921 - val_acc: 0.9718\n",
      "\n",
      "Epoch 00049: val_acc improved from 0.96295 to 0.97177, saving model to Xception_BS8_EP300_IS224_LP14.ckpt\n",
      "Epoch 50/300\n",
      "1224/1224 [==============================] - 177s 144ms/step - loss: 0.5085 - acc: 0.9910 - val_loss: 0.4995 - val_acc: 0.9670\n",
      "\n",
      "Epoch 00050: val_acc did not improve from 0.97177\n",
      "Epoch 51/300\n",
      "1224/1224 [==============================] - 177s 145ms/step - loss: 0.5171 - acc: 0.9894 - val_loss: 0.5065 - val_acc: 0.9654\n",
      "\n",
      "Epoch 00051: val_acc did not improve from 0.97177\n",
      "Epoch 52/300\n",
      "1224/1224 [==============================] - 176s 144ms/step - loss: 0.5133 - acc: 0.9920 - val_loss: 0.4885 - val_acc: 0.9718\n",
      "\n",
      "Epoch 00052: val_acc did not improve from 0.97177\n",
      "Epoch 53/300\n",
      "1224/1224 [==============================] - 177s 145ms/step - loss: 0.5101 - acc: 0.9913 - val_loss: 0.4950 - val_acc: 0.9683\n",
      "\n",
      "Epoch 00053: val_acc did not improve from 0.97177\n",
      "Epoch 54/300\n",
      "1224/1224 [==============================] - 177s 145ms/step - loss: 0.5127 - acc: 0.9899 - val_loss: 0.4793 - val_acc: 0.9724\n",
      "\n",
      "Epoch 00054: val_acc improved from 0.97177 to 0.97241, saving model to Xception_BS8_EP300_IS224_LP14.ckpt\n",
      "Epoch 55/300\n",
      "1224/1224 [==============================] - 176s 144ms/step - loss: 0.5040 - acc: 0.9915 - val_loss: 0.5040 - val_acc: 0.9589\n",
      "\n",
      "Epoch 00055: val_acc did not improve from 0.97241\n",
      "Epoch 56/300\n",
      "1224/1224 [==============================] - 178s 145ms/step - loss: 0.5078 - acc: 0.9928 - val_loss: 0.4952 - val_acc: 0.9649\n",
      "\n",
      "Epoch 00056: val_acc did not improve from 0.97241\n",
      "Epoch 57/300\n",
      "1224/1224 [==============================] - 177s 145ms/step - loss: 0.4995 - acc: 0.9922 - val_loss: 0.4787 - val_acc: 0.9725\n",
      "\n",
      "Epoch 00057: val_acc improved from 0.97241 to 0.97253, saving model to Xception_BS8_EP300_IS224_LP14.ckpt\n",
      "Epoch 58/300\n",
      "1224/1224 [==============================] - 176s 144ms/step - loss: 0.5054 - acc: 0.9918 - val_loss: 0.4816 - val_acc: 0.9710\n",
      "\n",
      "Epoch 00058: val_acc did not improve from 0.97253\n",
      "Epoch 59/300\n",
      "1224/1224 [==============================] - 177s 145ms/step - loss: 0.4975 - acc: 0.9943 - val_loss: 0.4960 - val_acc: 0.9641\n",
      "\n",
      "Epoch 00059: val_acc did not improve from 0.97253\n",
      "Epoch 60/300\n",
      "1224/1224 [==============================] - 177s 145ms/step - loss: 0.5057 - acc: 0.9929 - val_loss: 0.4883 - val_acc: 0.9670\n",
      "\n",
      "Epoch 00060: val_acc did not improve from 0.97253\n",
      "Epoch 61/300\n",
      "1224/1224 [==============================] - 176s 144ms/step - loss: 0.4966 - acc: 0.9938 - val_loss: 0.4892 - val_acc: 0.9692\n",
      "\n",
      "Epoch 00061: val_acc did not improve from 0.97253\n",
      "Epoch 62/300\n",
      "1224/1224 [==============================] - 177s 145ms/step - loss: 0.4991 - acc: 0.9929 - val_loss: 0.4684 - val_acc: 0.9743\n",
      "\n",
      "Epoch 00062: val_acc improved from 0.97253 to 0.97432, saving model to Xception_BS8_EP300_IS224_LP14.ckpt\n",
      "Epoch 63/300\n",
      "1224/1224 [==============================] - 177s 145ms/step - loss: 0.5081 - acc: 0.9925 - val_loss: 0.4657 - val_acc: 0.9746\n",
      "\n",
      "Epoch 00063: val_acc improved from 0.97432 to 0.97458, saving model to Xception_BS8_EP300_IS224_LP14.ckpt\n",
      "Epoch 64/300\n",
      "1224/1224 [==============================] - 176s 144ms/step - loss: 0.4974 - acc: 0.9933 - val_loss: 0.5030 - val_acc: 0.9628\n",
      "\n",
      "Epoch 00064: val_acc did not improve from 0.97458\n",
      "Epoch 65/300\n",
      "1224/1224 [==============================] - 176s 144ms/step - loss: 0.4959 - acc: 0.9929 - val_loss: 0.4732 - val_acc: 0.9702\n",
      "\n",
      "Epoch 00065: val_acc did not improve from 0.97458\n",
      "Epoch 66/300\n",
      "1224/1224 [==============================] - 178s 145ms/step - loss: 0.4944 - acc: 0.9947 - val_loss: 0.4720 - val_acc: 0.9760\n",
      "\n",
      "Epoch 00066: val_acc improved from 0.97458 to 0.97598, saving model to Xception_BS8_EP300_IS224_LP14.ckpt\n",
      "Epoch 67/300\n",
      "1224/1224 [==============================] - 176s 144ms/step - loss: 0.4918 - acc: 0.9958 - val_loss: 0.4661 - val_acc: 0.9768\n",
      "\n",
      "Epoch 00067: val_acc improved from 0.97598 to 0.97675, saving model to Xception_BS8_EP300_IS224_LP14.ckpt\n",
      "Epoch 68/300\n",
      "1224/1224 [==============================] - 177s 144ms/step - loss: 0.4811 - acc: 0.9951 - val_loss: 0.4840 - val_acc: 0.9618\n",
      "\n",
      "Epoch 00068: val_acc did not improve from 0.97675\n",
      "Epoch 69/300\n",
      "1224/1224 [==============================] - 177s 145ms/step - loss: 0.4886 - acc: 0.9955 - val_loss: 0.4822 - val_acc: 0.9659\n",
      "\n",
      "Epoch 00069: val_acc did not improve from 0.97675\n",
      "Epoch 70/300\n",
      "1224/1224 [==============================] - 177s 145ms/step - loss: 0.4887 - acc: 0.9949 - val_loss: 0.4586 - val_acc: 0.9783\n",
      "\n",
      "Epoch 00070: val_acc improved from 0.97675 to 0.97828, saving model to Xception_BS8_EP300_IS224_LP14.ckpt\n",
      "Epoch 71/300\n",
      "1224/1224 [==============================] - 176s 144ms/step - loss: 0.4872 - acc: 0.9947 - val_loss: 0.4853 - val_acc: 0.9676\n",
      "\n",
      "Epoch 00071: val_acc did not improve from 0.97828\n",
      "Epoch 72/300\n",
      "1224/1224 [==============================] - 177s 145ms/step - loss: 0.4871 - acc: 0.9965 - val_loss: 0.4657 - val_acc: 0.9738\n",
      "\n",
      "Epoch 00072: val_acc did not improve from 0.97828\n",
      "Epoch 73/300\n",
      "1224/1224 [==============================] - 177s 145ms/step - loss: 0.4861 - acc: 0.9944 - val_loss: 0.5174 - val_acc: 0.9461\n",
      "\n",
      "Epoch 00073: val_acc did not improve from 0.97828\n",
      "Epoch 74/300\n",
      "1224/1224 [==============================] - 177s 145ms/step - loss: 0.4759 - acc: 0.9954 - val_loss: 0.5288 - val_acc: 0.9432\n",
      "\n",
      "Epoch 00074: val_acc did not improve from 0.97828\n",
      "Epoch 75/300\n",
      "1224/1224 [==============================] - 177s 145ms/step - loss: 0.4818 - acc: 0.9945 - val_loss: 0.4648 - val_acc: 0.9725\n",
      "\n",
      "Epoch 00075: val_acc did not improve from 0.97828\n",
      "Epoch 76/300\n",
      "1224/1224 [==============================] - 177s 145ms/step - loss: 0.4859 - acc: 0.9962 - val_loss: 0.4718 - val_acc: 0.9688\n",
      "\n",
      "Epoch 00076: val_acc did not improve from 0.97828\n",
      "Epoch 77/300\n",
      "1224/1224 [==============================] - 176s 144ms/step - loss: 0.4831 - acc: 0.9958 - val_loss: 0.4582 - val_acc: 0.9783\n",
      "\n",
      "Epoch 00077: val_acc did not improve from 0.97828\n",
      "Epoch 78/300\n",
      "1224/1224 [==============================] - 177s 144ms/step - loss: 0.4788 - acc: 0.9959 - val_loss: 0.4555 - val_acc: 0.9752\n"
     ]
    },
    {
     "name": "stdout",
     "output_type": "stream",
     "text": [
      "\n",
      "Epoch 00078: val_acc did not improve from 0.97828\n",
      "Epoch 79/300\n",
      "1224/1224 [==============================] - 177s 145ms/step - loss: 0.4830 - acc: 0.9960 - val_loss: 0.4541 - val_acc: 0.9746\n",
      "\n",
      "Epoch 00079: val_acc did not improve from 0.97828\n",
      "Epoch 80/300\n",
      "1224/1224 [==============================] - 176s 144ms/step - loss: 0.4818 - acc: 0.9963 - val_loss: 0.4566 - val_acc: 0.9690\n",
      "\n",
      "Epoch 00080: val_acc did not improve from 0.97828\n",
      "Epoch 81/300\n",
      "1224/1224 [==============================] - 177s 145ms/step - loss: 0.4769 - acc: 0.9963 - val_loss: 0.4381 - val_acc: 0.9801\n",
      "\n",
      "Epoch 00081: val_acc improved from 0.97828 to 0.98007, saving model to Xception_BS8_EP300_IS224_LP14.ckpt\n",
      "Epoch 82/300\n",
      "1224/1224 [==============================] - 177s 145ms/step - loss: 0.4832 - acc: 0.9956 - val_loss: 0.4972 - val_acc: 0.9506\n",
      "\n",
      "Epoch 00082: val_acc did not improve from 0.98007\n",
      "Epoch 83/300\n",
      "1224/1224 [==============================] - 177s 145ms/step - loss: 0.4748 - acc: 0.9966 - val_loss: 0.4542 - val_acc: 0.9773\n",
      "\n",
      "Epoch 00083: val_acc did not improve from 0.98007\n",
      "Epoch 84/300\n",
      "1224/1224 [==============================] - 176s 144ms/step - loss: 0.4745 - acc: 0.9959 - val_loss: 0.4608 - val_acc: 0.9727\n",
      "\n",
      "Epoch 00084: val_acc did not improve from 0.98007\n",
      "Epoch 85/300\n",
      "1224/1224 [==============================] - 178s 145ms/step - loss: 0.4750 - acc: 0.9965 - val_loss: 0.5036 - val_acc: 0.9569\n",
      "\n",
      "Epoch 00085: val_acc did not improve from 0.98007\n",
      "Epoch 86/300\n",
      "1224/1224 [==============================] - 177s 144ms/step - loss: 0.4771 - acc: 0.9958 - val_loss: 0.4607 - val_acc: 0.9714\n",
      "\n",
      "Epoch 00086: val_acc did not improve from 0.98007\n",
      "Epoch 87/300\n",
      "1224/1224 [==============================] - 177s 144ms/step - loss: 0.4670 - acc: 0.9971 - val_loss: 0.4480 - val_acc: 0.9765\n",
      "\n",
      "Epoch 00087: val_acc did not improve from 0.98007\n",
      "Epoch 88/300\n",
      "1224/1224 [==============================] - 177s 145ms/step - loss: 0.4716 - acc: 0.9968 - val_loss: 0.4793 - val_acc: 0.9592\n",
      "\n",
      "Epoch 00088: val_acc did not improve from 0.98007\n",
      "Epoch 89/300\n",
      "1224/1224 [==============================] - 178s 145ms/step - loss: 0.4675 - acc: 0.9975 - val_loss: 0.4360 - val_acc: 0.9743\n",
      "\n",
      "Epoch 00089: val_acc did not improve from 0.98007\n",
      "Epoch 90/300\n",
      "1224/1224 [==============================] - 176s 144ms/step - loss: 0.4678 - acc: 0.9976 - val_loss: 0.4787 - val_acc: 0.9677\n",
      "\n",
      "Epoch 00090: val_acc did not improve from 0.98007\n",
      "Epoch 91/300\n",
      "1224/1224 [==============================] - 177s 145ms/step - loss: 0.4705 - acc: 0.9966 - val_loss: 0.4568 - val_acc: 0.9742\n",
      "\n",
      "Epoch 00091: val_acc did not improve from 0.98007\n",
      "Epoch 92/300\n",
      "1224/1224 [==============================] - 178s 145ms/step - loss: 0.4677 - acc: 0.9983 - val_loss: 0.4567 - val_acc: 0.9725\n",
      "\n",
      "Epoch 00092: val_acc did not improve from 0.98007\n",
      "Epoch 93/300\n",
      "1224/1224 [==============================] - 177s 144ms/step - loss: 0.4704 - acc: 0.9972 - val_loss: 0.4586 - val_acc: 0.9750\n",
      "\n",
      "Epoch 00093: val_acc did not improve from 0.98007\n",
      "Epoch 94/300\n",
      "1224/1224 [==============================] - 178s 145ms/step - loss: 0.4697 - acc: 0.9965 - val_loss: 0.4539 - val_acc: 0.9741\n",
      "\n",
      "Epoch 00094: val_acc did not improve from 0.98007\n",
      "Epoch 95/300\n",
      "1224/1224 [==============================] - 178s 145ms/step - loss: 0.4687 - acc: 0.9966 - val_loss: 0.4513 - val_acc: 0.9733\n",
      "\n",
      "Epoch 00095: val_acc did not improve from 0.98007\n",
      "Epoch 96/300\n",
      "1224/1224 [==============================] - 177s 144ms/step - loss: 0.4679 - acc: 0.9976 - val_loss: 0.4316 - val_acc: 0.9790\n",
      "\n",
      "Epoch 00096: val_acc did not improve from 0.98007\n",
      "Epoch 97/300\n",
      "1224/1224 [==============================] - 177s 145ms/step - loss: 0.4645 - acc: 0.9965 - val_loss: 0.4433 - val_acc: 0.9736\n",
      "\n",
      "Epoch 00097: val_acc did not improve from 0.98007\n",
      "Epoch 98/300\n",
      "1224/1224 [==============================] - 177s 145ms/step - loss: 0.4632 - acc: 0.9972 - val_loss: 0.4521 - val_acc: 0.9730\n",
      "\n",
      "Epoch 00098: val_acc did not improve from 0.98007\n",
      "Epoch 99/300\n",
      "1224/1224 [==============================] - 177s 144ms/step - loss: 0.4670 - acc: 0.9973 - val_loss: 0.4469 - val_acc: 0.9793\n",
      "\n",
      "Epoch 00099: val_acc did not improve from 0.98007\n",
      "Epoch 100/300\n",
      "1224/1224 [==============================] - 177s 145ms/step - loss: 0.4661 - acc: 0.9965 - val_loss: 0.4349 - val_acc: 0.9797\n",
      "\n",
      "Epoch 00100: val_acc did not improve from 0.98007\n",
      "Epoch 101/300\n",
      "1224/1224 [==============================] - 177s 145ms/step - loss: 0.4652 - acc: 0.9962 - val_loss: 0.4385 - val_acc: 0.9792\n",
      "\n",
      "Epoch 00101: val_acc did not improve from 0.98007\n",
      "Epoch 102/300\n",
      "1224/1224 [==============================] - 177s 145ms/step - loss: 0.4596 - acc: 0.9976 - val_loss: 0.4391 - val_acc: 0.9780\n",
      "\n",
      "Epoch 00102: val_acc did not improve from 0.98007\n",
      "Epoch 103/300\n",
      "1224/1224 [==============================] - 176s 144ms/step - loss: 0.4655 - acc: 0.9978 - val_loss: 0.4343 - val_acc: 0.9778\n",
      "\n",
      "Epoch 00103: val_acc did not improve from 0.98007\n",
      "Epoch 104/300\n",
      "1224/1224 [==============================] - 177s 145ms/step - loss: 0.4580 - acc: 0.9976 - val_loss: 0.4389 - val_acc: 0.9784\n",
      "\n",
      "Epoch 00104: val_acc did not improve from 0.98007\n",
      "Epoch 105/300\n",
      "1224/1224 [==============================] - 176s 144ms/step - loss: 0.4620 - acc: 0.9976 - val_loss: 0.4453 - val_acc: 0.9790\n",
      "\n",
      "Epoch 00105: val_acc did not improve from 0.98007\n",
      "Epoch 106/300\n",
      "1224/1224 [==============================] - 177s 145ms/step - loss: 0.4630 - acc: 0.9989 - val_loss: 0.4350 - val_acc: 0.9778\n",
      "\n",
      "Epoch 00106: val_acc did not improve from 0.98007\n",
      "\n",
      "Epoch 00106: ReduceLROnPlateau reducing learning rate to 9.999999747378752e-07.\n"
     ]
    },
    {
     "data": {
      "text/plain": [
       "<tensorflow.python.training.tracking.util.CheckpointLoadStatus at 0x1cbd36e9130>"
      ]
     },
     "execution_count": 54,
     "metadata": {},
     "output_type": "execute_result"
    }
   ],
   "source": [
    "# train the model\n",
    "pic_model.fit(\n",
    "        train_generator,\n",
    "        epochs = train_epoch,\n",
    "        validation_data = valid_generator,\n",
    "        callbacks = [my_callbacks],\n",
    "        class_weight = class_weights\n",
    "      )\n",
    "\n",
    "# load best saved weights\n",
    "pic_model.load_weights(checkpoint_path)"
   ]
  },
  {
   "cell_type": "markdown",
   "id": "pretty-morris",
   "metadata": {
    "id": "pretty-morris",
    "papermill": {
     "duration": 3.201635,
     "end_time": "2021-05-30T20:12:18.344310",
     "exception": false,
     "start_time": "2021-05-30T20:12:15.142675",
     "status": "completed"
    },
    "tags": []
   },
   "source": [
    "### 모델 재교육"
   ]
  },
  {
   "cell_type": "code",
   "execution_count": 55,
   "id": "cloudy-idaho",
   "metadata": {
    "execution": {
     "iopub.execute_input": "2021-05-30T20:12:24.238372Z",
     "iopub.status.busy": "2021-05-30T20:12:24.237660Z",
     "iopub.status.idle": "2021-05-30T20:12:24.305208Z",
     "shell.execute_reply": "2021-05-30T20:12:24.305579Z",
     "shell.execute_reply.started": "2021-05-30T09:30:16.948040Z"
    },
    "id": "cloudy-idaho",
    "papermill": {
     "duration": 3.027306,
     "end_time": "2021-05-30T20:12:24.305720",
     "exception": false,
     "start_time": "2021-05-30T20:12:21.278414",
     "status": "completed"
    },
    "tags": []
   },
   "outputs": [],
   "source": [
    "# train and validation split on competition data\n",
    "from sklearn.model_selection import train_test_split\n",
    "X_train, X_test = train_test_split(\n",
    "    df_val_compi,\n",
    "    test_size = 0.1,\n",
    "    random_state = seed,\n",
    "    stratify = df_val_compi.label\n",
    "  )"
   ]
  },
  {
   "cell_type": "code",
   "execution_count": 56,
   "id": "nervous-crisis",
   "metadata": {
    "colab": {
     "base_uri": "https://localhost:8080/"
    },
    "execution": {
     "iopub.execute_input": "2021-05-30T20:12:30.429807Z",
     "iopub.status.busy": "2021-05-30T20:12:30.429001Z",
     "iopub.status.idle": "2021-05-30T20:12:30.472297Z",
     "shell.execute_reply": "2021-05-30T20:12:30.471634Z",
     "shell.execute_reply.started": "2021-05-30T09:30:18.098841Z"
    },
    "id": "nervous-crisis",
    "outputId": "bf1114cc-1f2d-4777-cef4-bd4eb24d75dd",
    "papermill": {
     "duration": 3.239148,
     "end_time": "2021-05-30T20:12:30.472465",
     "exception": false,
     "start_time": "2021-05-30T20:12:27.233317",
     "status": "completed"
    },
    "tags": []
   },
   "outputs": [
    {
     "name": "stdout",
     "output_type": "stream",
     "text": [
      "Found 7045 validated image filenames.\n"
     ]
    }
   ],
   "source": [
    "train_generator = train_aug.flow_from_dataframe(\n",
    "    dataframe = X_train,\n",
    "    x_col = \"filename\",\n",
    "    y_col = \"label\",\n",
    "    batch_size = batch_size,\n",
    "    seed = seed,\n",
    "    shuffle = True,\n",
    "    class_mode = \"raw\",\n",
    "    target_size = (image_size,image_size)\n",
    "  )"
   ]
  },
  {
   "cell_type": "code",
   "execution_count": 57,
   "id": "instrumental-indie",
   "metadata": {
    "colab": {
     "base_uri": "https://localhost:8080/"
    },
    "execution": {
     "iopub.execute_input": "2021-05-30T20:12:36.309467Z",
     "iopub.status.busy": "2021-05-30T20:12:36.308631Z",
     "iopub.status.idle": "2021-05-30T20:12:36.318017Z",
     "shell.execute_reply": "2021-05-30T20:12:36.317530Z",
     "shell.execute_reply.started": "2021-05-30T09:30:23.206485Z"
    },
    "id": "instrumental-indie",
    "outputId": "dceb0588-b8e8-4658-a8e4-9c7f11fc65a0",
    "papermill": {
     "duration": 2.927421,
     "end_time": "2021-05-30T20:12:36.318129",
     "exception": false,
     "start_time": "2021-05-30T20:12:33.390708",
     "status": "completed"
    },
    "tags": []
   },
   "outputs": [
    {
     "name": "stdout",
     "output_type": "stream",
     "text": [
      "Found 783 validated image filenames.\n"
     ]
    }
   ],
   "source": [
    "valid_generator = valid_aug.flow_from_dataframe( \n",
    "    dataframe = X_test,\n",
    "    x_col = \"filename\",\n",
    "    y_col = \"label\",\n",
    "    batch_size = batch_size,\n",
    "    seed = seed,\n",
    "    shuffle = True,\n",
    "    class_mode = \"raw\",\n",
    "    target_size = (image_size,image_size)\n",
    "  )"
   ]
  },
  {
   "cell_type": "code",
   "execution_count": 58,
   "id": "dedicated-chapel",
   "metadata": {
    "execution": {
     "iopub.execute_input": "2021-05-30T20:12:42.897491Z",
     "iopub.status.busy": "2021-05-30T20:12:42.895853Z",
     "iopub.status.idle": "2021-05-30T20:12:42.898202Z",
     "shell.execute_reply": "2021-05-30T20:12:42.898602Z",
     "shell.execute_reply.started": "2021-05-30T09:30:26.966513Z"
    },
    "id": "dedicated-chapel",
    "papermill": {
     "duration": 3.108025,
     "end_time": "2021-05-30T20:12:42.898739",
     "exception": false,
     "start_time": "2021-05-30T20:12:39.790714",
     "status": "completed"
    },
    "tags": []
   },
   "outputs": [],
   "source": [
    "# number of steps to consider 1 as  epoch\n",
    "STEP_SIZE_TRAIN = train_generator.n//train_generator.batch_size\n",
    "STEP_SIZE_VALID = valid_generator.n//valid_generator.batch_size"
   ]
  },
  {
   "cell_type": "code",
   "execution_count": 59,
   "id": "sized-norfolk",
   "metadata": {
    "colab": {
     "base_uri": "https://localhost:8080/"
    },
    "execution": {
     "iopub.execute_input": "2021-05-30T20:12:48.820785Z",
     "iopub.status.busy": "2021-05-30T20:12:48.819337Z",
     "iopub.status.idle": "2021-05-30T20:25:26.371458Z",
     "shell.execute_reply": "2021-05-30T20:25:26.371941Z",
     "shell.execute_reply.started": "2021-05-30T09:30:36.962285Z"
    },
    "id": "sized-norfolk",
    "outputId": "fc9b987c-a11c-49f1-b98c-d4879cee12f6",
    "papermill": {
     "duration": 760.527609,
     "end_time": "2021-05-30T20:25:26.372105",
     "exception": false,
     "start_time": "2021-05-30T20:12:45.844496",
     "status": "completed"
    },
    "tags": []
   },
   "outputs": [
    {
     "name": "stdout",
     "output_type": "stream",
     "text": [
      "Epoch 1/50\n",
      "880/880 [==============================] - 114s 128ms/step - loss: 0.6296 - acc: 0.9581 - val_loss: 0.4121 - val_acc: 0.9871\n",
      "\n",
      "Epoch 00001: val_acc improved from 0.98007 to 0.98711, saving model to Xception_BS8_EP300_IS224_LP14.ckpt\n",
      "Epoch 2/50\n",
      "880/880 [==============================] - 113s 128ms/step - loss: 0.6081 - acc: 0.9710 - val_loss: 0.4375 - val_acc: 0.9794\n",
      "\n",
      "Epoch 00002: val_acc did not improve from 0.98711\n",
      "Epoch 3/50\n",
      "880/880 [==============================] - 112s 128ms/step - loss: 0.6061 - acc: 0.9766 - val_loss: 0.4056 - val_acc: 0.9936\n",
      "\n",
      "Epoch 00003: val_acc improved from 0.98711 to 0.99356, saving model to Xception_BS8_EP300_IS224_LP14.ckpt\n",
      "Epoch 4/50\n",
      "880/880 [==============================] - 112s 128ms/step - loss: 0.5981 - acc: 0.9791 - val_loss: 0.4258 - val_acc: 0.9923\n",
      "\n",
      "Epoch 00004: val_acc did not improve from 0.99356\n",
      "Epoch 5/50\n",
      "880/880 [==============================] - 112s 127ms/step - loss: 0.5986 - acc: 0.9829 - val_loss: 0.4211 - val_acc: 0.9897\n",
      "\n",
      "Epoch 00005: val_acc did not improve from 0.99356\n",
      "Epoch 6/50\n",
      "880/880 [==============================] - 113s 128ms/step - loss: 0.5903 - acc: 0.9821 - val_loss: 0.4081 - val_acc: 0.9923\n",
      "\n",
      "Epoch 00006: val_acc did not improve from 0.99356\n",
      "Epoch 7/50\n",
      "880/880 [==============================] - 113s 128ms/step - loss: 0.5781 - acc: 0.9875 - val_loss: 0.4051 - val_acc: 0.9936\n",
      "\n",
      "Epoch 00007: val_acc did not improve from 0.99356\n",
      "Epoch 8/50\n",
      "880/880 [==============================] - 113s 128ms/step - loss: 0.5859 - acc: 0.9866 - val_loss: 0.4084 - val_acc: 0.9923\n",
      "\n",
      "Epoch 00008: val_acc did not improve from 0.99356\n",
      "Epoch 9/50\n",
      "880/880 [==============================] - 112s 128ms/step - loss: 0.5856 - acc: 0.9861 - val_loss: 0.4020 - val_acc: 0.9910\n",
      "\n",
      "Epoch 00009: val_acc did not improve from 0.99356\n",
      "Epoch 10/50\n",
      "880/880 [==============================] - 112s 127ms/step - loss: 0.5839 - acc: 0.9861 - val_loss: 0.4095 - val_acc: 0.9936\n",
      "\n",
      "Epoch 00010: val_acc did not improve from 0.99356\n",
      "Epoch 11/50\n",
      "880/880 [==============================] - 112s 128ms/step - loss: 0.5778 - acc: 0.9883 - val_loss: 0.4063 - val_acc: 0.9948\n",
      "\n",
      "Epoch 00011: val_acc improved from 0.99356 to 0.99485, saving model to Xception_BS8_EP300_IS224_LP14.ckpt\n",
      "Epoch 12/50\n",
      "880/880 [==============================] - 112s 128ms/step - loss: 0.5780 - acc: 0.9881 - val_loss: 0.4037 - val_acc: 0.9961\n",
      "\n",
      "Epoch 00012: val_acc improved from 0.99485 to 0.99613, saving model to Xception_BS8_EP300_IS224_LP14.ckpt\n",
      "Epoch 13/50\n",
      "880/880 [==============================] - 113s 128ms/step - loss: 0.5698 - acc: 0.9913 - val_loss: 0.4023 - val_acc: 0.9961\n",
      "\n",
      "Epoch 00013: val_acc did not improve from 0.99613\n",
      "Epoch 14/50\n",
      "880/880 [==============================] - 112s 128ms/step - loss: 0.5763 - acc: 0.9901 - val_loss: 0.4151 - val_acc: 0.9936\n",
      "\n",
      "Epoch 00014: val_acc did not improve from 0.99613\n",
      "Epoch 15/50\n",
      "880/880 [==============================] - 111s 127ms/step - loss: 0.5794 - acc: 0.9898 - val_loss: 0.4007 - val_acc: 0.9961\n",
      "\n",
      "Epoch 00015: val_acc did not improve from 0.99613\n",
      "Epoch 16/50\n",
      "880/880 [==============================] - 112s 127ms/step - loss: 0.5694 - acc: 0.9919 - val_loss: 0.4064 - val_acc: 0.9948\n",
      "\n",
      "Epoch 00016: val_acc did not improve from 0.99613\n",
      "Epoch 17/50\n",
      "880/880 [==============================] - 113s 129ms/step - loss: 0.5724 - acc: 0.9922 - val_loss: 0.4065 - val_acc: 0.9961\n",
      "\n",
      "Epoch 00017: val_acc did not improve from 0.99613\n",
      "Epoch 18/50\n",
      "880/880 [==============================] - 113s 129ms/step - loss: 0.5693 - acc: 0.9929 - val_loss: 0.3968 - val_acc: 0.9923\n",
      "\n",
      "Epoch 00018: val_acc did not improve from 0.99613\n",
      "Epoch 19/50\n",
      "880/880 [==============================] - 112s 127ms/step - loss: 0.5716 - acc: 0.9916 - val_loss: 0.4003 - val_acc: 0.9910\n",
      "\n",
      "Epoch 00019: val_acc did not improve from 0.99613\n",
      "Epoch 20/50\n",
      "880/880 [==============================] - 112s 127ms/step - loss: 0.5666 - acc: 0.9928 - val_loss: 0.3949 - val_acc: 0.9974\n",
      "\n",
      "Epoch 00020: val_acc improved from 0.99613 to 0.99742, saving model to Xception_BS8_EP300_IS224_LP14.ckpt\n",
      "Epoch 21/50\n",
      "880/880 [==============================] - 112s 127ms/step - loss: 0.5723 - acc: 0.9932 - val_loss: 0.4036 - val_acc: 0.9948\n",
      "\n",
      "Epoch 00021: val_acc did not improve from 0.99742\n",
      "Epoch 22/50\n",
      "880/880 [==============================] - 113s 128ms/step - loss: 0.5711 - acc: 0.9920 - val_loss: 0.3995 - val_acc: 0.9923\n",
      "\n",
      "Epoch 00022: val_acc did not improve from 0.99742\n",
      "Epoch 23/50\n",
      "880/880 [==============================] - 113s 129ms/step - loss: 0.5641 - acc: 0.9945 - val_loss: 0.4158 - val_acc: 0.9845\n",
      "\n",
      "Epoch 00023: val_acc did not improve from 0.99742\n",
      "Epoch 24/50\n",
      "880/880 [==============================] - 114s 129ms/step - loss: 0.5617 - acc: 0.9945 - val_loss: 0.4068 - val_acc: 0.9884\n",
      "\n",
      "Epoch 00024: val_acc did not improve from 0.99742\n",
      "Epoch 25/50\n",
      "880/880 [==============================] - 112s 127ms/step - loss: 0.5672 - acc: 0.9916 - val_loss: 0.4020 - val_acc: 0.9936\n",
      "\n",
      "Epoch 00025: val_acc did not improve from 0.99742\n",
      "Epoch 26/50\n",
      "880/880 [==============================] - 113s 128ms/step - loss: 0.5664 - acc: 0.9926 - val_loss: 0.4025 - val_acc: 0.9910\n",
      "\n",
      "Epoch 00026: val_acc did not improve from 0.99742\n",
      "Epoch 27/50\n",
      "880/880 [==============================] - 112s 128ms/step - loss: 0.5667 - acc: 0.9949 - val_loss: 0.3926 - val_acc: 0.9961\n",
      "\n",
      "Epoch 00027: val_acc did not improve from 0.99742\n",
      "Epoch 28/50\n",
      "880/880 [==============================] - 113s 128ms/step - loss: 0.5647 - acc: 0.9955 - val_loss: 0.3919 - val_acc: 0.9974\n",
      "\n",
      "Epoch 00028: val_acc did not improve from 0.99742\n",
      "Epoch 29/50\n",
      "880/880 [==============================] - 113s 129ms/step - loss: 0.5674 - acc: 0.9947 - val_loss: 0.4059 - val_acc: 0.9897\n",
      "\n",
      "Epoch 00029: val_acc did not improve from 0.99742\n",
      "Epoch 30/50\n",
      "880/880 [==============================] - 112s 127ms/step - loss: 0.5561 - acc: 0.9967 - val_loss: 0.3944 - val_acc: 0.9974\n",
      "\n",
      "Epoch 00030: val_acc did not improve from 0.99742\n",
      "Epoch 31/50\n",
      "880/880 [==============================] - 112s 128ms/step - loss: 0.5558 - acc: 0.9939 - val_loss: 0.4052 - val_acc: 0.9936\n",
      "\n",
      "Epoch 00031: val_acc did not improve from 0.99742\n",
      "Epoch 32/50\n",
      "880/880 [==============================] - 113s 128ms/step - loss: 0.5604 - acc: 0.9933 - val_loss: 0.3882 - val_acc: 0.9974\n",
      "\n",
      "Epoch 00032: val_acc did not improve from 0.99742\n",
      "Epoch 33/50\n",
      "880/880 [==============================] - 111s 127ms/step - loss: 0.5640 - acc: 0.9947 - val_loss: 0.4158 - val_acc: 0.9897\n",
      "\n",
      "Epoch 00033: val_acc did not improve from 0.99742\n",
      "Epoch 34/50\n",
      "880/880 [==============================] - 113s 129ms/step - loss: 0.5636 - acc: 0.9940 - val_loss: 0.3971 - val_acc: 0.9948\n",
      "\n",
      "Epoch 00034: val_acc did not improve from 0.99742\n",
      "Epoch 35/50\n",
      "880/880 [==============================] - 113s 129ms/step - loss: 0.5530 - acc: 0.9960 - val_loss: 0.4019 - val_acc: 0.9961\n",
      "\n",
      "Epoch 00035: val_acc did not improve from 0.99742\n",
      "Epoch 36/50\n",
      "880/880 [==============================] - 112s 127ms/step - loss: 0.5619 - acc: 0.9952 - val_loss: 0.4230 - val_acc: 0.9845\n",
      "\n",
      "Epoch 00036: val_acc did not improve from 0.99742\n",
      "Epoch 37/50\n",
      "880/880 [==============================] - 112s 127ms/step - loss: 0.5576 - acc: 0.9953 - val_loss: 0.4086 - val_acc: 0.9923\n",
      "\n",
      "Epoch 00037: val_acc did not improve from 0.99742\n",
      "Epoch 38/50\n",
      "880/880 [==============================] - 112s 128ms/step - loss: 0.5603 - acc: 0.9949 - val_loss: 0.4122 - val_acc: 0.9936\n",
      "\n",
      "Epoch 00038: val_acc did not improve from 0.99742\n",
      "Epoch 39/50\n",
      "880/880 [==============================] - 113s 128ms/step - loss: 0.5567 - acc: 0.9974 - val_loss: 0.4031 - val_acc: 0.9923\n",
      "\n",
      "Epoch 00039: val_acc did not improve from 0.99742\n",
      "Epoch 40/50\n",
      "880/880 [==============================] - 112s 127ms/step - loss: 0.5562 - acc: 0.9947 - val_loss: 0.4025 - val_acc: 0.9936\n",
      "\n",
      "Epoch 00040: val_acc did not improve from 0.99742\n",
      "Epoch 41/50\n",
      "880/880 [==============================] - 112s 127ms/step - loss: 0.5574 - acc: 0.9952 - val_loss: 0.4098 - val_acc: 0.9923\n",
      "\n",
      "Epoch 00041: val_acc did not improve from 0.99742\n",
      "Epoch 42/50\n",
      "880/880 [==============================] - 113s 128ms/step - loss: 0.5551 - acc: 0.9974 - val_loss: 0.3855 - val_acc: 0.9948\n",
      "\n",
      "Epoch 00042: val_acc did not improve from 0.99742\n",
      "Epoch 43/50\n",
      "880/880 [==============================] - 112s 127ms/step - loss: 0.5511 - acc: 0.9973 - val_loss: 0.4172 - val_acc: 0.9858\n",
      "\n",
      "Epoch 00043: val_acc did not improve from 0.99742\n",
      "Epoch 44/50\n",
      "880/880 [==============================] - 113s 128ms/step - loss: 0.5511 - acc: 0.9969 - val_loss: 0.3953 - val_acc: 0.9910\n",
      "\n",
      "Epoch 00044: val_acc did not improve from 0.99742\n",
      "Epoch 45/50\n",
      "880/880 [==============================] - 112s 128ms/step - loss: 0.5513 - acc: 0.9966 - val_loss: 0.4097 - val_acc: 0.9897\n",
      "\n",
      "Epoch 00045: val_acc did not improve from 0.99742\n",
      "Epoch 46/50\n",
      "880/880 [==============================] - 113s 128ms/step - loss: 0.5519 - acc: 0.9955 - val_loss: 0.3943 - val_acc: 0.9974\n",
      "\n",
      "Epoch 00046: val_acc did not improve from 0.99742\n",
      "Epoch 47/50\n",
      "880/880 [==============================] - 113s 128ms/step - loss: 0.5510 - acc: 0.9964 - val_loss: 0.3861 - val_acc: 0.9923\n",
      "\n",
      "Epoch 00047: val_acc did not improve from 0.99742\n",
      "Epoch 48/50\n",
      "880/880 [==============================] - 113s 128ms/step - loss: 0.5555 - acc: 0.9955 - val_loss: 0.3932 - val_acc: 0.9936\n",
      "\n",
      "Epoch 00048: val_acc did not improve from 0.99742\n",
      "Epoch 49/50\n",
      "880/880 [==============================] - 113s 128ms/step - loss: 0.5518 - acc: 0.9967 - val_loss: 0.4026 - val_acc: 0.9936\n",
      "\n",
      "Epoch 00049: val_acc did not improve from 0.99742\n",
      "Epoch 50/50\n",
      "880/880 [==============================] - 113s 128ms/step - loss: 0.5502 - acc: 0.9970 - val_loss: 0.3909 - val_acc: 0.9936\n",
      "\n",
      "Epoch 00050: val_acc did not improve from 0.99742\n"
     ]
    },
    {
     "data": {
      "text/plain": [
       "<keras.callbacks.History at 0x1cbcf8cfeb0>"
      ]
     },
     "execution_count": 59,
     "metadata": {},
     "output_type": "execute_result"
    }
   ],
   "source": [
    "# kick off training\n",
    "pic_model.fit(\n",
    "        train_generator,\n",
    "        steps_per_epoch = STEP_SIZE_TRAIN,\n",
    "        epochs = val_epoch,\n",
    "        validation_data = valid_generator,\n",
    "        validation_steps = STEP_SIZE_VALID,callbacks = [my_callbacks]\n",
    "      )"
   ]
  },
  {
   "cell_type": "code",
   "execution_count": 60,
   "id": "complete-spelling",
   "metadata": {
    "colab": {
     "base_uri": "https://localhost:8080/"
    },
    "execution": {
     "iopub.execute_input": "2021-05-30T20:25:33.497837Z",
     "iopub.status.busy": "2021-05-30T20:25:33.496999Z",
     "iopub.status.idle": "2021-05-30T20:25:34.695800Z",
     "shell.execute_reply": "2021-05-30T20:25:34.695365Z",
     "shell.execute_reply.started": "2021-05-24T16:41:06.725854Z"
    },
    "id": "complete-spelling",
    "outputId": "10521e37-45bc-43e8-eae3-62b233e07b14",
    "papermill": {
     "duration": 4.566888,
     "end_time": "2021-05-30T20:25:34.695951",
     "exception": false,
     "start_time": "2021-05-30T20:25:30.129063",
     "status": "completed"
    },
    "tags": []
   },
   "outputs": [
    {
     "data": {
      "text/plain": [
       "<tensorflow.python.training.tracking.util.CheckpointLoadStatus at 0x1cbda501ca0>"
      ]
     },
     "execution_count": 60,
     "metadata": {},
     "output_type": "execute_result"
    }
   ],
   "source": [
    "# load best saved weights\n",
    "pic_model.load_weights(checkpoint_path)"
   ]
  },
  {
   "cell_type": "markdown",
   "id": "intended-cylinder",
   "metadata": {
    "id": "intended-cylinder",
    "papermill": {
     "duration": 3.633537,
     "end_time": "2021-05-30T20:25:41.743104",
     "exception": false,
     "start_time": "2021-05-30T20:25:38.109567",
     "status": "completed"
    },
    "tags": []
   },
   "source": [
    "### 혼란 매트릭스\n",
    "\n",
    "데이터 세트가 불균형 상태이므로 모델이 어디에서 실수를 하는지 살펴보자."
   ]
  },
  {
   "cell_type": "code",
   "execution_count": 61,
   "id": "equivalent-album",
   "metadata": {
    "colab": {
     "base_uri": "https://localhost:8080/"
    },
    "execution": {
     "iopub.execute_input": "2021-05-30T20:25:48.625234Z",
     "iopub.status.busy": "2021-05-30T20:25:48.624438Z",
     "iopub.status.idle": "2021-05-30T20:25:48.634216Z",
     "shell.execute_reply": "2021-05-30T20:25:48.633804Z",
     "shell.execute_reply.started": "2021-05-27T05:35:10.161826Z"
    },
    "id": "equivalent-album",
    "outputId": "2ed00c4a-4fd3-4d76-9ce5-6249f0da4489",
    "papermill": {
     "duration": 3.430239,
     "end_time": "2021-05-30T20:25:48.634343",
     "exception": false,
     "start_time": "2021-05-30T20:25:45.204104",
     "status": "completed"
    },
    "tags": []
   },
   "outputs": [
    {
     "name": "stdout",
     "output_type": "stream",
     "text": [
      "Found 783 validated image filenames.\n"
     ]
    }
   ],
   "source": [
    "from sklearn.metrics import precision_recall_curve\n",
    "target_shape = 224\n",
    "BS = 1\n",
    "\n",
    "# test generator\n",
    "compi_gen = valid_aug.flow_from_dataframe(\n",
    "    dataframe = X_test,\n",
    "    x_col = \"filename\",\n",
    "    class_mode = None,\n",
    "    target_size = (target_shape, target_shape),\n",
    "    shuffle = False,\n",
    "    batch_size = BS\n",
    "  )"
   ]
  },
  {
   "cell_type": "code",
   "execution_count": 62,
   "id": "preceding-delight",
   "metadata": {
    "colab": {
     "base_uri": "https://localhost:8080/"
    },
    "execution": {
     "iopub.execute_input": "2021-05-30T20:25:56.117007Z",
     "iopub.status.busy": "2021-05-30T20:25:56.116264Z",
     "iopub.status.idle": "2021-05-30T20:26:05.659358Z",
     "shell.execute_reply": "2021-05-30T20:26:05.658569Z",
     "shell.execute_reply.started": "2021-05-27T05:35:17.324361Z"
    },
    "id": "preceding-delight",
    "outputId": "21817dd8-602c-4242-8998-5e3ae34e14e3",
    "papermill": {
     "duration": 12.914933,
     "end_time": "2021-05-30T20:26:05.659489",
     "exception": false,
     "start_time": "2021-05-30T20:25:52.744556",
     "status": "completed"
    },
    "tags": []
   },
   "outputs": [
    {
     "name": "stdout",
     "output_type": "stream",
     "text": [
      "783/783 [==============================] - 9s 10ms/step\n"
     ]
    }
   ],
   "source": [
    "# prediction on train data\n",
    "predicition_compi = pic_model.predict(compi_gen, steps = compi_gen.n/ BS, verbose= 1)"
   ]
  },
  {
   "cell_type": "code",
   "execution_count": 63,
   "id": "distinguished-midwest",
   "metadata": {
    "colab": {
     "base_uri": "https://localhost:8080/",
     "height": 297
    },
    "execution": {
     "iopub.execute_input": "2021-05-30T20:26:12.667940Z",
     "iopub.status.busy": "2021-05-30T20:26:12.649791Z",
     "iopub.status.idle": "2021-05-30T20:26:13.051891Z",
     "shell.execute_reply": "2021-05-30T20:26:13.051413Z",
     "shell.execute_reply.started": "2021-05-27T05:43:44.837052Z"
    },
    "id": "distinguished-midwest",
    "outputId": "07a44daf-1bcd-454d-aa10-3c479b130443",
    "papermill": {
     "duration": 3.832152,
     "end_time": "2021-05-30T20:26:13.052010",
     "exception": false,
     "start_time": "2021-05-30T20:26:09.219858",
     "status": "completed"
    },
    "tags": []
   },
   "outputs": [
    {
     "data": {
      "text/plain": [
       "<sklearn.metrics._plot.confusion_matrix.ConfusionMatrixDisplay at 0x1cbda500f40>"
      ]
     },
     "execution_count": 63,
     "metadata": {},
     "output_type": "execute_result"
    },
    {
     "data": {
      "image/png": "[encoded data removed]",
      "text/plain": [
       "<Figure size 432x288 with 2 Axes>"
      ]
     },
     "metadata": {
      "needs_background": "light"
     },
     "output_type": "display_data"
    }
   ],
   "source": [
    "from sklearn.metrics import confusion_matrix, ConfusionMatrixDisplay\n",
    "\n",
    "class_prediction_compi = np.argmax(predicition_compi, axis = 1)\n",
    "cm = confusion_matrix(X_test.label, class_prediction_compi, labels = [0, 1, 2, 3, 4])\n",
    "\n",
    "disp = ConfusionMatrixDisplay(\n",
    "    confusion_matrix = cm,\n",
    "    display_labels = [0, 1, 2, 3, 4]\n",
    "  )\n",
    "\n",
    "disp.plot()"
   ]
  },
  {
   "cell_type": "markdown",
   "id": "positive-wilson",
   "metadata": {
    "id": "positive-wilson",
    "papermill": {
     "duration": 3.5306,
     "end_time": "2021-05-30T20:26:20.277590",
     "exception": false,
     "start_time": "2021-05-30T20:26:16.746990",
     "status": "completed"
    },
    "tags": []
   },
   "source": [
    "## test dataset 예측"
   ]
  },
  {
   "cell_type": "code",
   "execution_count": 64,
   "id": "constitutional-catholic",
   "metadata": {
    "colab": {
     "base_uri": "https://localhost:8080/"
    },
    "execution": {
     "iopub.execute_input": "2021-05-30T20:26:28.031789Z",
     "iopub.status.busy": "2021-05-30T20:26:28.031111Z",
     "iopub.status.idle": "2021-05-30T20:26:28.058944Z",
     "shell.execute_reply": "2021-05-30T20:26:28.058161Z",
     "shell.execute_reply.started": "2021-05-27T09:08:20.550041Z"
    },
    "id": "constitutional-catholic",
    "outputId": "91b6393c-4cdf-45ff-f39e-2eb2a0d17012",
    "papermill": {
     "duration": 4.034446,
     "end_time": "2021-05-30T20:26:28.059074",
     "exception": false,
     "start_time": "2021-05-30T20:26:24.024628",
     "status": "completed"
    },
    "tags": []
   },
   "outputs": [
    {
     "name": "stdout",
     "output_type": "stream",
     "text": [
      "Found 1958 validated image filenames.\n"
     ]
    }
   ],
   "source": [
    "# read the csv file\n",
    "test = pd.read_csv(compi_root_path + \"Test.csv\")\n",
    "\n",
    "# create test generator\n",
    "test_generator = valid_aug.flow_from_dataframe(\n",
    "    dataframe = test,\n",
    "    directory = compi_root_path + \"test\",\n",
    "    x_col = \"filename\",\n",
    "    y_col = None,\n",
    "    batch_size = 1,\n",
    "    seed = seed,\n",
    "    shuffle = False,\n",
    "    class_mode = None,\n",
    "    target_size = (image_size, image_size)\n",
    "  )\n",
    "\n",
    "# number of steps to consider 1 epoch\n",
    "STEP_SIZE_TEST = test_generator.n//test_generator.batch_size"
   ]
  },
  {
   "cell_type": "code",
   "execution_count": 65,
   "id": "blocked-niagara",
   "metadata": {
    "colab": {
     "base_uri": "https://localhost:8080/"
    },
    "execution": {
     "iopub.execute_input": "2021-05-30T20:26:34.994605Z",
     "iopub.status.busy": "2021-05-30T20:26:34.994000Z",
     "iopub.status.idle": "2021-05-30T20:26:56.340759Z",
     "shell.execute_reply": "2021-05-30T20:26:56.341118Z",
     "shell.execute_reply.started": "2021-05-27T05:51:39.116529Z"
    },
    "id": "blocked-niagara",
    "outputId": "e8ed2e21-e61a-40ca-9976-0c87f7f7e9fa",
    "papermill": {
     "duration": 24.791614,
     "end_time": "2021-05-30T20:26:56.341303",
     "exception": false,
     "start_time": "2021-05-30T20:26:31.549689",
     "status": "completed"
    },
    "tags": []
   },
   "outputs": [
    {
     "name": "stdout",
     "output_type": "stream",
     "text": [
      "1958/1958 [==============================] - 21s 11ms/step\n"
     ]
    },
    {
     "data": {
      "text/plain": [
       "0    765\n",
       "2    514\n",
       "1    360\n",
       "3    260\n",
       "4     59\n",
       "Name: label, dtype: int64"
      ]
     },
     "execution_count": 65,
     "metadata": {},
     "output_type": "execute_result"
    }
   ],
   "source": [
    "# make prediction and create dataframe out of it\n",
    "pred = pic_model.predict(test_generator,steps=STEP_SIZE_TEST,verbose=1)\n",
    "df_submit = pd.DataFrame({\"label\":np.argmax(pred, axis= 1)})\n",
    "df_submit[\"label\"].value_counts()"
   ]
  },
  {
   "cell_type": "markdown",
   "id": "portable-yacht",
   "metadata": {
    "id": "portable-yacht",
    "papermill": {
     "duration": 3.504245,
     "end_time": "2021-05-30T20:27:18.913681",
     "exception": false,
     "start_time": "2021-05-30T20:27:15.409436",
     "status": "completed"
    },
    "tags": []
   },
   "source": [
    "### 최적의 가중치 및 출력 예측 파일 저장"
   ]
  },
  {
   "cell_type": "code",
   "execution_count": 66,
   "id": "liquid-tsunami",
   "metadata": {
    "execution": {
     "iopub.execute_input": "2021-05-30T20:27:26.290338Z",
     "iopub.status.busy": "2021-05-30T20:27:26.289493Z",
     "iopub.status.idle": "2021-05-30T20:27:26.809425Z",
     "shell.execute_reply": "2021-05-30T20:27:26.808879Z",
     "shell.execute_reply.started": "2021-05-27T05:51:46.57395Z"
    },
    "id": "liquid-tsunami",
    "papermill": {
     "duration": 4.073647,
     "end_time": "2021-05-30T20:27:26.809566",
     "exception": false,
     "start_time": "2021-05-30T20:27:22.735919",
     "status": "completed"
    },
    "tags": []
   },
   "outputs": [],
   "source": [
    "pic_model.save_weights(name+\"_BS\"+str(batch_size)+\"_EP\"+str(train_epoch)+\"_IS\"+str(image_size)+\"_LP\"+str(LP)+\".h5\")"
   ]
  },
  {
   "cell_type": "code",
   "execution_count": 67,
   "id": "f5096208",
   "metadata": {},
   "outputs": [
    {
     "name": "stdout",
     "output_type": "stream",
     "text": [
      "C:\\Users\\ngkim\\Downloads\\MDL\\TermProject_중간보고\\result\n"
     ]
    }
   ],
   "source": [
    "cd C:\\\\Users\\\\ngkim\\\\Downloads\\\\MDL\\\\TermProject_중간보고\\\\result"
   ]
  },
  {
   "cell_type": "code",
   "execution_count": 68,
   "id": "d4ee1c64",
   "metadata": {},
   "outputs": [],
   "source": [
    "df_submit.to_csv(name+\"_BS\"+str(batch_size)+\"_EP\"+str(train_epoch)+\"_IS\"+str(image_size)+\"_LP\"+str(LP)+\".csv\",index = False)"
   ]
  },
  {
   "cell_type": "markdown",
   "id": "sustainable-baptist",
   "metadata": {
    "id": "sustainable-baptist",
    "papermill": {
     "duration": 3.563445,
     "end_time": "2021-05-30T20:27:34.549379",
     "exception": false,
     "start_time": "2021-05-30T20:27:30.985934",
     "status": "completed"
    },
    "tags": []
   },
   "source": [
    "### **점수 향상을 위한 제안*\n",
    "* 올바른 데이터 확대 사용\n",
    "* 다른 모델 아키텍처 사용 - [CheXNet - DenseNet121 + Sigmoid](https://github.com/arnoweng/CheXNet/blob/master/model.py)\n",
    "* 조립 및 쌓기\n",
    "* X선 영상에 대해 사전 훈련된 모델 사용"
   ]
  }
 ],
 "metadata": {
  "accelerator": "GPU",
  "colab": {
   "collapsed_sections": [],
   "include_colab_link": true,
   "machine_shape": "hm",
   "name": "KLGrade-DenseNet121-91.83.ipynb",
   "provenance": []
  },
  "kernelspec": {
   "display_name": "Python 3",
   "language": "python",
   "name": "python3"
  },
  "language_info": {
   "codemirror_mode": {
    "name": "ipython",
    "version": 3
   },
   "file_extension": ".py",
   "mimetype": "text/x-python",
   "name": "python",
   "nbconvert_exporter": "python",
   "pygments_lexer": "ipython3",
   "version": "3.8.8"
  },
  "papermill": {
   "default_parameters": {},
   "duration": 6499.620651,
   "end_time": "2021-05-30T20:27:40.898205",
   "environment_variables": {},
   "exception": null,
   "input_path": "__notebook__.ipynb",
   "output_path": "__notebook__.ipynb",
   "parameters": {},
   "start_time": "2021-05-30T18:39:21.277554",
   "version": "2.3.3"
  }
 },
 "nbformat": 4,
 "nbformat_minor": 5
}
