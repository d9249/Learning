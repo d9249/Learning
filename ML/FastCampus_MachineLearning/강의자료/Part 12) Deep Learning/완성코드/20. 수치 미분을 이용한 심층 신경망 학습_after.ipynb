{
 "cells": [
  {
   "cell_type": "markdown",
   "metadata": {},
   "source": [
    "## 수치 미분을 이용한 심층 신경망 학습"
   ]
  },
  {
   "cell_type": "markdown",
   "metadata": {},
   "source": [
    "## Import modules"
   ]
  },
  {
   "cell_type": "code",
   "execution_count": 1,
   "metadata": {},
   "outputs": [],
   "source": [
    "import time\n",
    "import numpy as np"
   ]
  },
  {
   "cell_type": "markdown",
   "metadata": {},
   "source": [
    "## 유틸리티 함수"
   ]
  },
  {
   "cell_type": "code",
   "execution_count": 2,
   "metadata": {},
   "outputs": [],
   "source": [
    "epsilon = 0.0001\n",
    "\n",
    "def _t(x):\n",
    "    return np.transpose(x)\n",
    "\n",
    "def _m(A, B):\n",
    "    return np.matmul(A, B)\n",
    "\n",
    "def sigmoid(x):\n",
    "    return 1 / (1 + np.exp(-x))\n",
    "\n",
    "def mean_squared_error(h, y):\n",
    "    return 1 / 2 * np.mean(np.square(h - y))"
   ]
  },
  {
   "cell_type": "markdown",
   "metadata": {},
   "source": [
    "## Dense Layer 구현"
   ]
  },
  {
   "cell_type": "code",
   "execution_count": 3,
   "metadata": {},
   "outputs": [],
   "source": [
    "class Dense:\n",
    "    def __init__(self, W, b, a):\n",
    "        self.W = W\n",
    "        self.b = b\n",
    "        self.a = a\n",
    "        \n",
    "        self.dW = np.zeros_like(self.W)\n",
    "        self.db = np.zeros_like(self.b)\n",
    "\n",
    "    def __call__(self, x):\n",
    "        return self.a(_m(_t(self.W), x) + self.b)   # matmul((ixo)T,ix1) + ox1"
   ]
  },
  {
   "cell_type": "markdown",
   "metadata": {},
   "source": [
    "## 심층신경망 구현"
   ]
  },
  {
   "cell_type": "code",
   "execution_count": 4,
   "metadata": {},
   "outputs": [],
   "source": [
    "class DNN:\n",
    "    def __init__(self, hidden_depth, num_neuron, num_input, num_output, activation=sigmoid):\n",
    "        def init_var(i, o):\n",
    "            return np.random.normal(0.0, 0.01, (i, o)), np.zeros((o,))\n",
    "\n",
    "        self.sequence = list()\n",
    "        # First hidden layer\n",
    "        W, b = init_var(num_input, num_neuron)\n",
    "        self.sequence.append(Dense(W, b, activation))\n",
    "        \n",
    "        # Hidden layers\n",
    "        for _ in range(hidden_depth - 1):\n",
    "            W, b = init_var(num_neuron, num_neuron)\n",
    "            self.sequence.append(Dense(W, b, activation))\n",
    "\n",
    "        # Output layer\n",
    "        W, b = init_var(num_neuron, num_output)\n",
    "        self.sequence.append(Dense(W, b, activation))\n",
    "\n",
    "    def __call__(self, x):\n",
    "        for layer in self.sequence:\n",
    "            x = layer(x)\n",
    "        return x\n",
    "\n",
    "    def calc_gradient(self, x, y, loss_func):\n",
    "        def get_new_sequence(layer_index, new_layer):\n",
    "            new_sequence = list()\n",
    "            for i, layer in enumerate(self.sequence):\n",
    "                if i == layer_index:\n",
    "                    new_sequence.append(new_layer)\n",
    "                else:\n",
    "                    new_sequence.append(layer)\n",
    "            return new_sequence\n",
    "        \n",
    "        def eval_sequence(x, sequence):\n",
    "            for layer in sequence:\n",
    "                x = layer(x)\n",
    "            return x\n",
    "        \n",
    "        loss = loss_func(self(x), y)\n",
    "        \n",
    "        for layer_id, layer in enumerate(self.sequence):\n",
    "            for w_i, w in enumerate(layer.W):\n",
    "                for w_j, ww in enumerate(w):\n",
    "                    W = np.copy(layer.W)\n",
    "                    W[w_i][w_j] = ww + epsilon\n",
    "                    \n",
    "                    new_layer = Dense(W, layer.b, layer.a)\n",
    "                    new_seq = get_new_sequence(layer_id, new_layer)\n",
    "                    h = eval_sequence(x, new_seq)\n",
    "                    \n",
    "                    num_grad = (loss_func(h, y) - loss) / epsilon # (f(x+eps) - f(x)) / eps\n",
    "                    layer.dW[w_i][w_j] = num_grad\n",
    "                    \n",
    "            for b_i, bb in enumerate(layer.b):\n",
    "                b = np.copy(layer.b)\n",
    "                b[b_i] = bb + epsilon\n",
    "\n",
    "                new_layer = Dense(layer.W, b, layer.a)\n",
    "                new_seq = get_new_sequence(layer_id, new_layer)\n",
    "                h = eval_sequence(x, new_seq)\n",
    "\n",
    "                num_grad = (loss_func(h, y) - loss) / epsilon # (f(x+eps) - f(x)) / eps\n",
    "                layer.db[b_i] = num_grad\n",
    "        \n",
    "        return loss\n"
   ]
  },
  {
   "cell_type": "markdown",
   "metadata": {},
   "source": [
    "## 경사하강 학습법"
   ]
  },
  {
   "cell_type": "code",
   "execution_count": 5,
   "metadata": {},
   "outputs": [],
   "source": [
    "def gradient_descent(network, x, y, loss_obj, alpha=0.01):\n",
    "    loss = network.calc_gradient(x, y, loss_obj)\n",
    "    for layer in network.sequence:\n",
    "        layer.W += -alpha * layer.dW\n",
    "        layer.b += -alpha * layer.db\n",
    "    return loss"
   ]
  },
  {
   "cell_type": "markdown",
   "metadata": {},
   "source": [
    "## 동작 테스트"
   ]
  },
  {
   "cell_type": "code",
   "execution_count": 6,
   "metadata": {
    "scrolled": true
   },
   "outputs": [
    {
     "name": "stdout",
     "output_type": "stream",
     "text": [
      "Epoch 0: Test loss 1.4578981610595068\n",
      "Epoch 1: Test loss 1.4497276469560854\n",
      "Epoch 2: Test loss 1.4416085690381668\n",
      "Epoch 3: Test loss 1.4335435498822506\n",
      "Epoch 4: Test loss 1.4255351080109193\n",
      "Epoch 5: Test loss 1.4175856544051948\n",
      "Epoch 6: Test loss 1.4096974895112098\n",
      "Epoch 7: Test loss 1.4018728007430488\n",
      "Epoch 8: Test loss 1.394113660477878\n",
      "Epoch 9: Test loss 1.3864220245389163\n",
      "Epoch 10: Test loss 1.3787997311538764\n",
      "Epoch 11: Test loss 1.3712485003767796\n",
      "Epoch 12: Test loss 1.3637699339570402\n",
      "Epoch 13: Test loss 1.3563655156353156\n",
      "Epoch 14: Test loss 1.3490366118475952\n",
      "Epoch 15: Test loss 1.3417844728127757\n",
      "Epoch 16: Test loss 1.3346102339788652\n",
      "Epoch 17: Test loss 1.3275149178039352\n",
      "Epoch 18: Test loss 1.3204994358426916\n",
      "Epoch 19: Test loss 1.3135645911137661\n",
      "Epoch 20: Test loss 1.3067110807182467\n",
      "Epoch 21: Test loss 1.2999394986835406\n",
      "Epoch 22: Test loss 1.293250339003962\n",
      "Epoch 23: Test loss 1.2866439988526759\n",
      "Epoch 24: Test loss 1.2801207819376463\n",
      "Epoch 25: Test loss 1.273680901977658\n",
      "Epoch 26: Test loss 1.2673244862730835\n",
      "Epoch 27: Test loss 1.261051579349969\n",
      "Epoch 28: Test loss 1.2548621466541066\n",
      "Epoch 29: Test loss 1.2487560782759448\n",
      "Epoch 30: Test loss 1.242733192687165\n",
      "Epoch 31: Test loss 1.2367932404711321\n",
      "Epoch 32: Test loss 1.2309359080313245\n",
      "Epoch 33: Test loss 1.2251608212629055\n",
      "Epoch 34: Test loss 1.2194675491751799\n",
      "Epoch 35: Test loss 1.2138556074519316\n",
      "Epoch 36: Test loss 1.208324461939927\n",
      "Epoch 37: Test loss 1.2028735320564194\n",
      "Epoch 38: Test loss 1.1975021941075004\n",
      "Epoch 39: Test loss 1.1922097845112456\n",
      "Epoch 40: Test loss 1.1869956029193425\n",
      "Epoch 41: Test loss 1.1818589152332808\n",
      "Epoch 42: Test loss 1.1767989565114747\n",
      "Epoch 43: Test loss 1.1718149337643302\n",
      "Epoch 44: Test loss 1.1669060286358557\n",
      "Epoch 45: Test loss 1.162071399971028\n",
      "Epoch 46: Test loss 1.157310186267802\n",
      "Epoch 47: Test loss 1.152621508014518\n",
      "Epoch 48: Test loss 1.1480044699136136\n",
      "Epoch 49: Test loss 1.1434581629927862\n",
      "Epoch 50: Test loss 1.1389816666050177\n",
      "Epoch 51: Test loss 1.1345740503202397\n",
      "Epoch 52: Test loss 1.1302343757106654\n",
      "Epoch 53: Test loss 1.12596169803235\n",
      "Epoch 54: Test loss 1.1217550678058084\n",
      "Epoch 55: Test loss 1.1176135322995868\n",
      "Epoch 56: Test loss 1.1135361369191525\n",
      "Epoch 57: Test loss 1.109521926504604\n",
      "Epoch 58: Test loss 1.105569946540962\n",
      "Epoch 59: Test loss 1.1016792442842145\n",
      "Epoch 60: Test loss 1.097848869806781\n",
      "Epoch 61: Test loss 1.0940778769657526\n",
      "Epoch 62: Test loss 1.0903653242976739\n",
      "Epoch 63: Test loss 1.0867102758428224\n",
      "Epoch 64: Test loss 1.0831118019027615\n",
      "Epoch 65: Test loss 1.0795689797347394\n",
      "Epoch 66: Test loss 1.076080894185333\n",
      "Epoch 67: Test loss 1.0726466382675688\n",
      "Epoch 68: Test loss 1.0692653136839596\n",
      "Epoch 69: Test loss 1.0659360312986037\n",
      "Epoch 70: Test loss 1.062657911561359\n",
      "Epoch 71: Test loss 1.0594300848868299\n",
      "Epoch 72: Test loss 1.0562516919908962\n",
      "Epoch 73: Test loss 1.0531218841873882\n",
      "Epoch 74: Test loss 1.0500398236471307\n",
      "Epoch 75: Test loss 1.0470046836223967\n",
      "Epoch 76: Test loss 1.0440156486383851\n",
      "Epoch 77: Test loss 1.0410719146541942\n",
      "Epoch 78: Test loss 1.0381726891952296\n",
      "Epoch 79: Test loss 1.0353171914593613\n",
      "Epoch 80: Test loss 1.0325046523982078\n",
      "Epoch 81: Test loss 1.0297343147756075\n",
      "Epoch 82: Test loss 1.0270054332050425\n",
      "Epoch 83: Test loss 1.0243172741673037\n",
      "Epoch 84: Test loss 1.0216691160102842\n",
      "Epoch 85: Test loss 1.0190602489318814\n",
      "Epoch 86: Test loss 1.0164899749478202\n",
      "Epoch 87: Test loss 1.0139576078452324\n",
      "Epoch 88: Test loss 1.0114624731234785\n",
      "Epoch 89: Test loss 1.0090039079231865\n",
      "Epoch 90: Test loss 1.0065812609446034\n",
      "Epoch 91: Test loss 1.0041938923561515\n",
      "Epoch 92: Test loss 1.001841173694438\n",
      "Epoch 93: Test loss 0.9995224877559358\n",
      "Epoch 94: Test loss 0.9972372284819204\n",
      "Epoch 95: Test loss 0.9949848008367889\n",
      "Epoch 96: Test loss 0.9927646206807941\n",
      "Epoch 97: Test loss 0.9905761146378416\n",
      "Epoch 98: Test loss 0.9884187199587489\n",
      "Epoch 99: Test loss 0.9862918843807691\n",
      "26.11631488800049 seconds elapsed.\n"
     ]
    }
   ],
   "source": [
    "x = np.random.normal(0.0, 1.0, (10,))\n",
    "y = np.random.normal(0.0, 1.0, (2,))\n",
    "\n",
    "dnn = DNN(hidden_depth=5, num_neuron=32, num_input=10, num_output=2, activation=sigmoid)\n",
    "\n",
    "t = time.time()\n",
    "for epoch in range(100):\n",
    "    loss = gradient_descent(dnn, x, y, mean_squared_error, 0.01)\n",
    "    print('Epoch {}: Test loss {}'.format(epoch, loss))\n",
    "print('{} seconds elapsed.'.format(time.time() - t))"
   ]
  }
 ],
 "metadata": {
  "kernelspec": {
   "display_name": "Python 3",
   "language": "python",
   "name": "python3"
  },
  "language_info": {
   "codemirror_mode": {
    "name": "ipython",
    "version": 3
   },
   "file_extension": ".py",
   "mimetype": "text/x-python",
   "name": "python",
   "nbconvert_exporter": "python",
   "pygments_lexer": "ipython3",
   "version": "3.6.9"
  }
 },
 "nbformat": 4,
 "nbformat_minor": 2
}
