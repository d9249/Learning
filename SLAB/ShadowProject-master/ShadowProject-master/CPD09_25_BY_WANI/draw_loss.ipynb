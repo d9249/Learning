{
 "cells": [
  {
   "cell_type": "code",
   "execution_count": null,
   "metadata": {},
   "outputs": [],
   "source": []
  },
  {
   "cell_type": "code",
   "execution_count": 7,
   "metadata": {},
   "outputs": [
    {
     "name": "stderr",
     "output_type": "stream",
     "text": [
      "WARNING:root:Setting up a new session...\n"
     ]
    }
   ],
   "source": [
    "import torch\n",
    "import visdom\n",
    "import numpy as np \n",
    "#\n",
    "#\n",
    "vis = visdom.Visdom()\n",
    "vis.close(env=\"main\")  #CPD_9_25_BY_WANI\")\n",
    "\n",
    "def loss_tracker(loss_plot, loss_value, num):\n",
    "    '''num, loss_value, are Tensor'''\n",
    "    vis.line(X=num,\n",
    "             Y=loss_value,\n",
    "             win = loss_plot,\n",
    "             update='append'\n",
    "             )\n",
    "\n",
    "# 2line Loss Plot \n",
    "loss_plt = vis.line(Y=torch.Tensor([[0., 1., 0.1]]), X=torch.Tensor([0]), opts=dict(title='3 loss_tracker', legend=['loss1', 'data', 'loss2'], showlegend=True))\n",
    "acc_plt = vis.line(Y=torch.Tensor(1).zero_(),opts=dict(title='Accuracy', legend=['Acc'], showlegend=True))\n"
   ]
  },
  {
   "cell_type": "code",
   "execution_count": 12,
   "metadata": {},
   "outputs": [
    {
     "name": "stdout",
     "output_type": "stream",
     "text": [
      "torch.Size([3])\n",
      "torch.Size([2, 3])\n"
     ]
    }
   ],
   "source": [
    "xx = torch.Tensor([1,1,1])\n",
    "yy = torch.Tensor([[1,1,2],[2,3,4]])\n",
    "print(xx.shape)\n",
    "print(yy.shape)"
   ]
  },
  {
   "cell_type": "code",
   "execution_count": 14,
   "metadata": {},
   "outputs": [],
   "source": [
    "loss_tracker(loss_plt, torch.Tensor([[1,1,2]]), torch.Tensor([[1,1,1]]))\n",
    "#loss_tracker(loss_plt, torch.Tensor([[1,1,2],[2,3,4]]), torch.Tensor([1,1,1]))"
   ]
  },
  {
   "cell_type": "code",
   "execution_count": 156,
   "metadata": {},
   "outputs": [
    {
     "name": "stderr",
     "output_type": "stream",
     "text": [
      "ERROR:visdom:Connection is already closed.\n",
      "ERROR:visdom:Connection is already closed.\n",
      "ERROR:visdom:Connection is already closed.\n",
      "ERROR:visdom:Connection is already closed.\n",
      "ERROR:visdom:Connection is already closed.\n",
      "ERROR:visdom:Connection is already closed.\n",
      "ERROR:visdom:Connection is already closed.\n",
      "ERROR:visdom:Connection is already closed.\n",
      "ERROR:visdom:Connection is already closed.\n",
      "ERROR:visdom:Connection is already closed.\n",
      "ERROR:visdom:Connection is already closed.\n",
      "ERROR:visdom:Connection is already closed.\n",
      "ERROR:visdom:Connection is already closed.\n",
      "ERROR:visdom:Connection is already closed.\n",
      "ERROR:visdom:Connection is already closed.\n",
      "ERROR:visdom:Connection is already closed.\n",
      "ERROR:visdom:Connection is already closed.\n",
      "ERROR:visdom:Connection is already closed.\n",
      "ERROR:visdom:Connection is already closed.\n",
      "ERROR:visdom:Connection is already closed.\n",
      "ERROR:visdom:Connection is already closed.\n",
      "ERROR:visdom:Connection is already closed.\n",
      "ERROR:visdom:Connection is already closed.\n",
      "ERROR:visdom:Connection is already closed.\n",
      "ERROR:visdom:Connection is already closed.\n",
      "ERROR:visdom:Connection is already closed.\n",
      "ERROR:visdom:Connection is already closed.\n",
      "ERROR:visdom:Connection is already closed.\n",
      "ERROR:visdom:Connection is already closed.\n",
      "ERROR:visdom:Connection is already closed.\n",
      "ERROR:visdom:Connection is already closed.\n",
      "ERROR:visdom:Connection is already closed.\n",
      "ERROR:visdom:Connection is already closed.\n",
      "ERROR:visdom:Connection is already closed.\n",
      "ERROR:visdom:Connection is already closed.\n",
      "ERROR:visdom:Connection is already closed.\n",
      "ERROR:visdom:Connection is already closed.\n",
      "ERROR:visdom:Connection is already closed.\n",
      "ERROR:visdom:Connection is already closed.\n",
      "ERROR:visdom:Connection is already closed.\n",
      "ERROR:visdom:Connection is already closed.\n",
      "ERROR:visdom:Connection is already closed.\n",
      "ERROR:visdom:Connection is already closed.\n",
      "ERROR:visdom:Connection is already closed.\n",
      "ERROR:visdom:Connection is already closed.\n",
      "ERROR:visdom:Connection is already closed.\n",
      "ERROR:visdom:Connection is already closed.\n",
      "ERROR:visdom:Connection is already closed.\n",
      "ERROR:visdom:Connection is already closed.\n",
      "ERROR:visdom:Connection is already closed.\n",
      "ERROR:visdom:Connection is already closed.\n",
      "ERROR:visdom:Connection is already closed.\n",
      "ERROR:visdom:Connection is already closed.\n",
      "ERROR:visdom:Connection is already closed.\n",
      "ERROR:visdom:Connection is already closed.\n",
      "ERROR:visdom:Connection is already closed.\n",
      "ERROR:visdom:Connection is already closed.\n",
      "ERROR:visdom:Connection is already closed.\n",
      "ERROR:visdom:Connection is already closed.\n",
      "ERROR:visdom:Connection is already closed.\n",
      "ERROR:visdom:Connection is already closed.\n",
      "ERROR:visdom:Connection is already closed.\n",
      "ERROR:visdom:Connection is already closed.\n",
      "ERROR:visdom:Connection is already closed.\n",
      "ERROR:visdom:Connection is already closed.\n",
      "ERROR:visdom:Connection is already closed.\n",
      "ERROR:visdom:Connection is already closed.\n",
      "ERROR:visdom:Connection is already closed.\n",
      "ERROR:visdom:[Errno 111] Connection refused\n",
      "ERROR:visdom:[Errno 111] Connection refused\n",
      "ERROR:visdom:[Errno 111] Connection refused\n",
      "ERROR:visdom:[Errno 111] Connection refused\n",
      "ERROR:visdom:[Errno 111] Connection refused\n",
      "ERROR:visdom:[Errno 111] Connection refused\n",
      "ERROR:visdom:[Errno 111] Connection refused\n",
      "ERROR:visdom:[Errno 111] Connection refused\n",
      "ERROR:visdom:[Errno 111] Connection refused\n",
      "ERROR:visdom:[Errno 111] Connection refused\n",
      "ERROR:visdom:[Errno 111] Connection refused\n",
      "ERROR:visdom:[Errno 111] Connection refused\n",
      "ERROR:visdom:[Errno 111] Connection refused\n",
      "ERROR:visdom:[Errno 111] Connection refused\n",
      "ERROR:visdom:[Errno 111] Connection refused\n",
      "ERROR:visdom:[Errno 111] Connection refused\n",
      "ERROR:visdom:[Errno 111] Connection refused\n",
      "ERROR:visdom:[Errno 111] Connection refused\n",
      "ERROR:visdom:[Errno 111] Connection refused\n",
      "ERROR:visdom:[Errno 111] Connection refused\n",
      "ERROR:visdom:[Errno 111] Connection refused\n",
      "ERROR:visdom:[Errno 111] Connection refused\n",
      "ERROR:visdom:[Errno 111] Connection refused\n",
      "ERROR:visdom:[Errno 111] Connection refused\n",
      "ERROR:visdom:[Errno 111] Connection refused\n",
      "ERROR:visdom:[Errno 111] Connection refused\n",
      "ERROR:visdom:[Errno 111] Connection refused\n",
      "ERROR:visdom:[Errno 111] Connection refused\n",
      "ERROR:visdom:[Errno 111] Connection refused\n",
      "ERROR:visdom:[Errno 111] Connection refused\n",
      "ERROR:visdom:[Errno 111] Connection refused\n",
      "ERROR:visdom:[Errno 111] Connection refused\n",
      "ERROR:visdom:[Errno 111] Connection refused\n",
      "ERROR:visdom:[Errno 111] Connection refused\n",
      "ERROR:visdom:[Errno 111] Connection refused\n",
      "ERROR:visdom:[Errno 111] Connection refused\n",
      "ERROR:visdom:[Errno 111] Connection refused\n",
      "ERROR:visdom:[Errno 111] Connection refused\n",
      "ERROR:visdom:[Errno 111] Connection refused\n",
      "ERROR:visdom:[Errno 111] Connection refused\n",
      "ERROR:visdom:[Errno 111] Connection refused\n",
      "ERROR:visdom:[Errno 111] Connection refused\n",
      "ERROR:visdom:[Errno 111] Connection refused\n",
      "ERROR:visdom:[Errno 111] Connection refused\n",
      "ERROR:visdom:[Errno 111] Connection refused\n",
      "ERROR:visdom:[Errno 111] Connection refused\n",
      "ERROR:visdom:[Errno 111] Connection refused\n",
      "ERROR:visdom:[Errno 111] Connection refused\n",
      "ERROR:visdom:[Errno 111] Connection refused\n",
      "ERROR:visdom:[Errno 111] Connection refused\n",
      "ERROR:visdom:[Errno 111] Connection refused\n",
      "ERROR:visdom:[Errno 111] Connection refused\n",
      "ERROR:visdom:[Errno 111] Connection refused\n",
      "ERROR:visdom:[Errno 111] Connection refused\n",
      "ERROR:visdom:[Errno 111] Connection refused\n",
      "ERROR:visdom:[Errno 111] Connection refused\n",
      "ERROR:visdom:[Errno 111] Connection refused\n",
      "ERROR:visdom:[Errno 111] Connection refused\n",
      "ERROR:visdom:[Errno 111] Connection refused\n",
      "ERROR:visdom:[Errno 111] Connection refused\n",
      "ERROR:visdom:[Errno 111] Connection refused\n",
      "ERROR:visdom:[Errno 111] Connection refused\n",
      "ERROR:visdom:[Errno 111] Connection refused\n",
      "ERROR:visdom:[Errno 111] Connection refused\n",
      "ERROR:visdom:[Errno 111] Connection refused\n",
      "ERROR:visdom:[Errno 111] Connection refused\n",
      "ERROR:visdom:[Errno 111] Connection refused\n",
      "ERROR:visdom:[Errno 111] Connection refused\n"
     ]
    }
   ],
   "source": [
    "for epoch in range(3, 20):\n",
    "    loss_tracker(loss_plt, torch.rand(1,2),torch.Tensor([epoch]))\n",
    "    loss_tracker(acc_plt, torch.rand(1), torch.Tensor([epoch]))"
   ]
  },
  {
   "cell_type": "code",
   "execution_count": null,
   "metadata": {},
   "outputs": [],
   "source": []
  }
 ],
 "metadata": {
  "kernelspec": {
   "display_name": "Python 3",
   "language": "python",
   "name": "python3"
  },
  "language_info": {
   "codemirror_mode": {
    "name": "ipython",
    "version": 3
   },
   "file_extension": ".py",
   "mimetype": "text/x-python",
   "name": "python",
   "nbconvert_exporter": "python",
   "pygments_lexer": "ipython3",
   "version": "3.7.3"
  }
 },
 "nbformat": 4,
 "nbformat_minor": 2
}
