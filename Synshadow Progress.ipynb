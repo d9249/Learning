{
  "nbformat": 4,
  "nbformat_minor": 0,
  "metadata": {
    "colab": {
      "name": "Synshadow.ipynb",
      "provenance": [],
      "collapsed_sections": [
        "9yd0REPZENmp",
        "MHqdZ2dgD4im",
        "CvLUSba7DwPa",
        "XpbzsrBiDkNw"
      ],
      "machine_shape": "hm",
      "mount_file_id": "12O-EQMXne5VUtEOHO3dDqoimwAQuRWgA",
      "authorship_tag": "ABX9TyNi6c5YoIfDUMK0UnEO1bsU",
      "include_colab_link": true
    },
    "kernelspec": {
      "display_name": "Python 3",
      "name": "python3"
    },
    "language_info": {
      "name": "python"
    }
  },
  "cells": [
    {
      "cell_type": "markdown",
      "metadata": {
        "id": "view-in-github",
        "colab_type": "text"
      },
      "source": [
        "<a href=\"https://colab.research.google.com/github/d9249/AI_CNN-Project/blob/master/Synshadow%20Progress.ipynb\" target=\"_parent\"><img src=\"https://colab.research.google.com/assets/colab-badge.svg\" alt=\"Open In Colab\"/></a>"
      ]
    },
    {
      "cell_type": "markdown",
      "metadata": {
        "id": "9yd0REPZENmp"
      },
      "source": [
        "# Temporary"
      ]
    },
    {
      "cell_type": "code",
      "metadata": {
        "id": "iXErzy2UZBkL"
      },
      "source": [
        "!pip install git+https://github.com/nghorbani/body_visualizer"
      ],
      "execution_count": null,
      "outputs": []
    },
    {
      "cell_type": "code",
      "metadata": {
        "id": "L120LPnEb-SJ"
      },
      "source": [
        "!pip install human-body-prior"
      ],
      "execution_count": null,
      "outputs": []
    },
    {
      "cell_type": "code",
      "metadata": {
        "id": "Dvg0k6YQ3SE1"
      },
      "source": [
        "!sudo pip3 install human_body_prior"
      ],
      "execution_count": null,
      "outputs": []
    },
    {
      "cell_type": "markdown",
      "metadata": {
        "id": "MHqdZ2dgD4im"
      },
      "source": [
        "# lib install"
      ]
    },
    {
      "cell_type": "code",
      "metadata": {
        "id": "0OWntdmSyCEQ"
      },
      "source": [
        "!pip install git+https://github.com/nghorbani/configer\n",
        "!pip install git+https://github.com/nghorbani/human_body_prior\n",
        "!pip install git+https://github.com/nghorbani/amass\n",
        "!python3 -m pip install color\n",
        "!python3 -m pip install colour\n",
        "!apt-get install python3-pip"
      ],
      "execution_count": null,
      "outputs": []
    },
    {
      "cell_type": "code",
      "metadata": {
        "id": "jINoQRsdyuNY"
      },
      "source": [
        "!pip install trimesh"
      ],
      "execution_count": null,
      "outputs": []
    },
    {
      "cell_type": "code",
      "metadata": {
        "id": "3lh6URBOX1rR"
      },
      "source": [
        "!bash /content/drive/MyDrive/SynShadow/src/util/shadow_matte_generator/setup.sh"
      ],
      "execution_count": null,
      "outputs": []
    },
    {
      "cell_type": "markdown",
      "metadata": {
        "id": "CvLUSba7DwPa"
      },
      "source": [
        "# get_human_mesh.py\n",
        "\n",
        "filepath : /content/drive/MyDrive/SynShadow/src/util/shadow_matte_generator/get_human_mesh.py"
      ]
    },
    {
      "cell_type": "markdown",
      "metadata": {
        "id": "vwvmV3Tk7DFx"
      },
      "source": [
        "omni_tools.py\n",
        "```\n",
        "colors = {\n",
        "    'pink': [.7, .7, .9],\n",
        "    'purple': [.9, .7, .7],\n",
        "    'cyan': [.7, .75, .5],\n",
        "    'red': [1.0, 0.0, 0.0],\n",
        "\n",
        "    'green': [.0, 1., .0],\n",
        "    'yellow': [1., 1., 0],\n",
        "    'brown': [.5, .7, .7],\n",
        "    'blue': [.0, .0, 1.],\n",
        "\n",
        "    'offwhite': [.8, .9, .9],\n",
        "    'white': [1., 1., 1.],\n",
        "    'orange': [.5, .65, .9],\n",
        "\n",
        "    'grey': [.7, .7, .7],\n",
        "    'black': np.zeros(3),\n",
        "    'white': np.ones(3),\n",
        "\n",
        "    'yellowg': [0.83, 1, 0],\n",
        "}\n",
        "```\n",
        "\n"
      ]
    },
    {
      "cell_type": "markdown",
      "metadata": {
        "id": "c_la-xs47EUV"
      },
      "source": [
        "get_human_mesh.py\n",
        "```\n",
        "parser = argparse.ArgumentParser()\n",
        "parser.add_argument('--input_root', type=str, default=\"/content/drive/MyDrive/SynShadow/data/3D_human\")\n",
        "parser.add_argument('--identifier', type=str, default=\"/content/drive/MyDrive/SynShadow/human_meshes_processed\")\n",
        "args = parser.parse_args()\n",
        "```\n",
        "\n"
      ]
    },
    {
      "cell_type": "markdown",
      "metadata": {
        "id": "L2CYw7Gd7Kht"
      },
      "source": [
        "get_human_mesh.py\n",
        "```\n",
        "for m in model_types:\n",
        "    bm_path = str(input_root / 'MANO/smplh' / m / 'model.npz')\n",
        "    dmpl_path = str(input_root / 'DMPL' / m / 'model.npz')\n",
        "    print(bm_path)\n",
        "    print(dmpl_path)\n",
        "    bm_dict[m] = BodyModel(\n",
        "        bm_fname=bm_path, num_betas=NUM_BETAS,\n",
        "        num_dmpls=NUM_DMPLS, dmpl_fname=dmpl_path).to(comp_device)\n",
        "    faces_dict[m] = c2c(bm_dict[m].f)\n",
        "```\n",
        "\n"
      ]
    },
    {
      "cell_type": "code",
      "metadata": {
        "id": "xiLKTuhohitz"
      },
      "source": [
        "!python /content/drive/MyDrive/SynShadow/src/util/shadow_matte_generator/get_human_mesh.py"
      ],
      "execution_count": null,
      "outputs": []
    },
    {
      "cell_type": "markdown",
      "metadata": {
        "id": "XpbzsrBiDkNw"
      },
      "source": [
        "# get_paths.py\n",
        "\n",
        "filepath : /content/drive/MyDrive/SynShadow/src/util/shadow_matte_generator/get_paths.py"
      ]
    },
    {
      "cell_type": "code",
      "metadata": {
        "colab": {
          "base_uri": "https://localhost:8080/"
        },
        "id": "WsCOADbV9S53",
        "outputId": "ace1caf8-9c7b-4154-8de1-318b416371bb"
      },
      "source": [
        "!python /content/drive/MyDrive/SynShadow/src/util/shadow_matte_generator/get_paths.py"
      ],
      "execution_count": 41,
      "outputs": [
        {
          "output_type": "stream",
          "text": [
            "usage: get_paths.py [-h] amass_root shapenet_root\n",
            "get_paths.py: error: the following arguments are required: amass_root, shapenet_root\n"
          ],
          "name": "stdout"
        }
      ]
    },
    {
      "cell_type": "code",
      "metadata": {
        "id": "T-4GrjzS_xbo"
      },
      "source": [
        "!apt install blender"
      ],
      "execution_count": null,
      "outputs": []
    },
    {
      "cell_type": "code",
      "metadata": {
        "id": "744Fep7qAq32"
      },
      "source": [
        "!pip install numpy==1.18"
      ],
      "execution_count": null,
      "outputs": []
    },
    {
      "cell_type": "code",
      "metadata": {
        "id": "QuGOmuXr--QO"
      },
      "source": [
        "!blender -b -noaudio --python /content/drive/MyDrive/SynShadow/src/util/shadow_matte_generator/render.py"
      ],
      "execution_count": null,
      "outputs": []
    },
    {
      "cell_type": "code",
      "metadata": {
        "colab": {
          "base_uri": "https://localhost:8080/"
        },
        "id": "2r8uzKoeBe5p",
        "outputId": "6916dafc-b995-4376-c662-1cdc0dd607b3"
      },
      "source": [
        "!python /content/drive/MyDrive/SynShadow/src/util/shadow_matte_generator/postprocess.py"
      ],
      "execution_count": 39,
      "outputs": [
        {
          "output_type": "stream",
          "text": [
            "Traceback (most recent call last):\n",
            "  File \"/content/drive/MyDrive/SynShadow/src/util/shadow_matte_generator/postprocess.py\", line 21, in <module>\n",
            "    assert input_dir.exists()\n",
            "AssertionError\n"
          ],
          "name": "stdout"
        }
      ]
    }
  ]
}