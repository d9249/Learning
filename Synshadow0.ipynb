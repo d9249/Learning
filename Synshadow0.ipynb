{
  "nbformat": 4,
  "nbformat_minor": 0,
  "metadata": {
    "colab": {
      "name": "Synshadow.ipynb",
      "provenance": [],
      "collapsed_sections": [],
      "machine_shape": "hm",
      "mount_file_id": "12O-EQMXne5VUtEOHO3dDqoimwAQuRWgA",
      "authorship_tag": "ABX9TyMnZ5TqgZ16fwWY/2ULCQcX",
      "include_colab_link": true
    },
    "kernelspec": {
      "name": "python3",
      "display_name": "Python 3"
    },
    "language_info": {
      "name": "python"
    },
    "accelerator": "GPU"
  },
  "cells": [
    {
      "cell_type": "markdown",
      "metadata": {
        "id": "view-in-github",
        "colab_type": "text"
      },
      "source": [
        "<a href=\"https://colab.research.google.com/github/d9249/AI_CNN-Project/blob/master/Synshadow0.ipynb\" target=\"_parent\"><img src=\"https://colab.research.google.com/assets/colab-badge.svg\" alt=\"Open In Colab\"/></a>"
      ]
    },
    {
      "cell_type": "code",
      "metadata": {
        "colab": {
          "base_uri": "https://localhost:8080/"
        },
        "id": "0OWntdmSyCEQ",
        "outputId": "de8e1acf-a93f-4658-e21d-b6b9bca375d1"
      },
      "source": [
        "!pip install git+https://github.com/nghorbani/configer\n",
        "!pip install git+https://github.com/nghorbani/human_body_prior\n",
        "!pip install git+https://github.com/nghorbani/amass"
      ],
      "execution_count": null,
      "outputs": [
        {
          "output_type": "stream",
          "text": [
            "Collecting git+https://github.com/nghorbani/configer\n",
            "  Cloning https://github.com/nghorbani/configer to /tmp/pip-req-build-n7d9b8_t\n",
            "  Running command git clone -q https://github.com/nghorbani/configer /tmp/pip-req-build-n7d9b8_t\n",
            "Collecting configparser\n",
            "  Downloading https://files.pythonhosted.org/packages/fd/01/ff260a18caaf4457eb028c96eeb405c4a230ca06c8ec9c1379f813caa52e/configparser-5.0.2-py3-none-any.whl\n",
            "Building wheels for collected packages: configer\n",
            "  Building wheel for configer (setup.py) ... \u001b[?25l\u001b[?25hdone\n",
            "  Created wheel for configer: filename=configer-1.4.1-cp37-none-any.whl size=7857 sha256=19f40805424dffbe01cbaef336b32e84ca81b1567e6a7d85859536e3ddd1ca1f\n",
            "  Stored in directory: /tmp/pip-ephem-wheel-cache-5ywhlisc/wheels/4a/5d/ef/47b4fb4b0c90f8049bf1fe0d52cc9d89a36b90465561a3c015\n",
            "Successfully built configer\n",
            "Installing collected packages: configparser, configer\n",
            "Successfully installed configer-1.4.1 configparser-5.0.2\n",
            "Collecting git+https://github.com/nghorbani/human_body_prior\n",
            "  Cloning https://github.com/nghorbani/human_body_prior to /tmp/pip-req-build-4ewqhxlf\n",
            "  Running command git clone -q https://github.com/nghorbani/human_body_prior /tmp/pip-req-build-4ewqhxlf\n",
            "Building wheels for collected packages: human-body-prior\n",
            "  Building wheel for human-body-prior (setup.py) ... \u001b[?25l\u001b[?25hdone\n",
            "  Created wheel for human-body-prior: filename=human_body_prior-2.1.2.0-cp37-none-any.whl size=4699020 sha256=502ada92d2d08620f8e8b5a9361d93488c0a1603a838e10a1b0515c9280b1991\n",
            "  Stored in directory: /tmp/pip-ephem-wheel-cache-zkw10qic/wheels/6c/13/77/5b08fde0bc44498c82c1afb927f5075d6d6648a94490562420\n",
            "Successfully built human-body-prior\n",
            "Installing collected packages: human-body-prior\n",
            "Successfully installed human-body-prior-2.1.2.0\n",
            "Collecting git+https://github.com/nghorbani/amass\n",
            "  Cloning https://github.com/nghorbani/amass to /tmp/pip-req-build-zpyz56ou\n",
            "  Running command git clone -q https://github.com/nghorbani/amass /tmp/pip-req-build-zpyz56ou\n",
            "Building wheels for collected packages: amass\n",
            "  Building wheel for amass (setup.py) ... \u001b[?25l\u001b[?25hdone\n",
            "  Created wheel for amass: filename=amass-1.0.1-cp37-none-any.whl size=2437768 sha256=60edb8e628f5896be6afa943ea6a1874a969da6b048ab4e8b4290598516ec1f9\n",
            "  Stored in directory: /tmp/pip-ephem-wheel-cache-hhhk15tv/wheels/06/8b/78/84a3a5dc0d8ff759f1e569a5b0b6bec6ca85af34fe541ef969\n",
            "Successfully built amass\n",
            "Installing collected packages: amass\n",
            "Successfully installed amass-1.0.1\n"
          ],
          "name": "stdout"
        }
      ]
    },
    {
      "cell_type": "code",
      "metadata": {
        "colab": {
          "base_uri": "https://localhost:8080/"
        },
        "id": "_IUdhAHnKoot",
        "outputId": "48aaa466-f654-49c8-c055-e8d5cda4466e"
      },
      "source": [
        "!apt-get install python3-pip"
      ],
      "execution_count": null,
      "outputs": [
        {
          "output_type": "stream",
          "text": [
            "Reading package lists... Done\n",
            "Building dependency tree       \n",
            "Reading state information... Done\n",
            "The following additional packages will be installed:\n",
            "  python-pip-whl python3-asn1crypto python3-cffi-backend python3-crypto\n",
            "  python3-cryptography python3-idna python3-keyring python3-keyrings.alt\n",
            "  python3-pkg-resources python3-secretstorage python3-setuptools python3-six\n",
            "  python3-wheel python3-xdg\n",
            "Suggested packages:\n",
            "  python-crypto-doc python-cryptography-doc python3-cryptography-vectors\n",
            "  gnome-keyring libkf5wallet-bin gir1.2-gnomekeyring-1.0\n",
            "  python-secretstorage-doc python-setuptools-doc\n",
            "The following NEW packages will be installed:\n",
            "  python-pip-whl python3-asn1crypto python3-cffi-backend python3-crypto\n",
            "  python3-cryptography python3-idna python3-keyring python3-keyrings.alt\n",
            "  python3-pip python3-pkg-resources python3-secretstorage python3-setuptools\n",
            "  python3-six python3-wheel python3-xdg\n",
            "0 upgraded, 15 newly installed, 0 to remove and 39 not upgraded.\n",
            "Need to get 2,882 kB of archives.\n",
            "After this operation, 8,886 kB of additional disk space will be used.\n",
            "Get:1 http://archive.ubuntu.com/ubuntu bionic-updates/universe amd64 python-pip-whl all 9.0.1-2.3~ubuntu1.18.04.5 [1,653 kB]\n",
            "Get:2 http://archive.ubuntu.com/ubuntu bionic/main amd64 python3-asn1crypto all 0.24.0-1 [72.8 kB]\n",
            "Get:3 http://archive.ubuntu.com/ubuntu bionic/main amd64 python3-cffi-backend amd64 1.11.5-1 [64.6 kB]\n",
            "Get:4 http://archive.ubuntu.com/ubuntu bionic/main amd64 python3-crypto amd64 2.6.1-8ubuntu2 [244 kB]\n",
            "Get:5 http://archive.ubuntu.com/ubuntu bionic/main amd64 python3-idna all 2.6-1 [32.5 kB]\n",
            "Get:6 http://archive.ubuntu.com/ubuntu bionic/main amd64 python3-six all 1.11.0-2 [11.4 kB]\n",
            "Get:7 http://archive.ubuntu.com/ubuntu bionic-updates/main amd64 python3-cryptography amd64 2.1.4-1ubuntu1.4 [220 kB]\n",
            "Get:8 http://archive.ubuntu.com/ubuntu bionic/main amd64 python3-secretstorage all 2.3.1-2 [12.1 kB]\n",
            "Get:9 http://archive.ubuntu.com/ubuntu bionic/main amd64 python3-keyring all 10.6.0-1 [26.7 kB]\n",
            "Get:10 http://archive.ubuntu.com/ubuntu bionic/main amd64 python3-keyrings.alt all 3.0-1 [16.6 kB]\n",
            "Get:11 http://archive.ubuntu.com/ubuntu bionic-updates/universe amd64 python3-pip all 9.0.1-2.3~ubuntu1.18.04.5 [114 kB]\n",
            "Get:12 http://archive.ubuntu.com/ubuntu bionic/main amd64 python3-pkg-resources all 39.0.1-2 [98.8 kB]\n",
            "Get:13 http://archive.ubuntu.com/ubuntu bionic/main amd64 python3-setuptools all 39.0.1-2 [248 kB]\n",
            "Get:14 http://archive.ubuntu.com/ubuntu bionic/universe amd64 python3-wheel all 0.30.0-0.2 [36.5 kB]\n",
            "Get:15 http://archive.ubuntu.com/ubuntu bionic-updates/main amd64 python3-xdg all 0.25-4ubuntu1.1 [31.3 kB]\n",
            "Fetched 2,882 kB in 0s (17.3 MB/s)\n",
            "Selecting previously unselected package python-pip-whl.\n",
            "(Reading database ... 160772 files and directories currently installed.)\n",
            "Preparing to unpack .../00-python-pip-whl_9.0.1-2.3~ubuntu1.18.04.5_all.deb ...\n",
            "Unpacking python-pip-whl (9.0.1-2.3~ubuntu1.18.04.5) ...\n",
            "Selecting previously unselected package python3-asn1crypto.\n",
            "Preparing to unpack .../01-python3-asn1crypto_0.24.0-1_all.deb ...\n",
            "Unpacking python3-asn1crypto (0.24.0-1) ...\n",
            "Selecting previously unselected package python3-cffi-backend.\n",
            "Preparing to unpack .../02-python3-cffi-backend_1.11.5-1_amd64.deb ...\n",
            "Unpacking python3-cffi-backend (1.11.5-1) ...\n",
            "Selecting previously unselected package python3-crypto.\n",
            "Preparing to unpack .../03-python3-crypto_2.6.1-8ubuntu2_amd64.deb ...\n",
            "Unpacking python3-crypto (2.6.1-8ubuntu2) ...\n",
            "Selecting previously unselected package python3-idna.\n",
            "Preparing to unpack .../04-python3-idna_2.6-1_all.deb ...\n",
            "Unpacking python3-idna (2.6-1) ...\n",
            "Selecting previously unselected package python3-six.\n",
            "Preparing to unpack .../05-python3-six_1.11.0-2_all.deb ...\n",
            "Unpacking python3-six (1.11.0-2) ...\n",
            "Selecting previously unselected package python3-cryptography.\n",
            "Preparing to unpack .../06-python3-cryptography_2.1.4-1ubuntu1.4_amd64.deb ...\n",
            "Unpacking python3-cryptography (2.1.4-1ubuntu1.4) ...\n",
            "Selecting previously unselected package python3-secretstorage.\n",
            "Preparing to unpack .../07-python3-secretstorage_2.3.1-2_all.deb ...\n",
            "Unpacking python3-secretstorage (2.3.1-2) ...\n",
            "Selecting previously unselected package python3-keyring.\n",
            "Preparing to unpack .../08-python3-keyring_10.6.0-1_all.deb ...\n",
            "Unpacking python3-keyring (10.6.0-1) ...\n",
            "Selecting previously unselected package python3-keyrings.alt.\n",
            "Preparing to unpack .../09-python3-keyrings.alt_3.0-1_all.deb ...\n",
            "Unpacking python3-keyrings.alt (3.0-1) ...\n",
            "Selecting previously unselected package python3-pip.\n",
            "Preparing to unpack .../10-python3-pip_9.0.1-2.3~ubuntu1.18.04.5_all.deb ...\n",
            "Unpacking python3-pip (9.0.1-2.3~ubuntu1.18.04.5) ...\n",
            "Selecting previously unselected package python3-pkg-resources.\n",
            "Preparing to unpack .../11-python3-pkg-resources_39.0.1-2_all.deb ...\n",
            "Unpacking python3-pkg-resources (39.0.1-2) ...\n",
            "Selecting previously unselected package python3-setuptools.\n",
            "Preparing to unpack .../12-python3-setuptools_39.0.1-2_all.deb ...\n",
            "Unpacking python3-setuptools (39.0.1-2) ...\n",
            "Selecting previously unselected package python3-wheel.\n",
            "Preparing to unpack .../13-python3-wheel_0.30.0-0.2_all.deb ...\n",
            "Unpacking python3-wheel (0.30.0-0.2) ...\n",
            "Selecting previously unselected package python3-xdg.\n",
            "Preparing to unpack .../14-python3-xdg_0.25-4ubuntu1.1_all.deb ...\n",
            "Unpacking python3-xdg (0.25-4ubuntu1.1) ...\n",
            "Setting up python-pip-whl (9.0.1-2.3~ubuntu1.18.04.5) ...\n",
            "Setting up python3-cffi-backend (1.11.5-1) ...\n",
            "Setting up python3-crypto (2.6.1-8ubuntu2) ...\n",
            "Setting up python3-idna (2.6-1) ...\n",
            "Setting up python3-xdg (0.25-4ubuntu1.1) ...\n",
            "Setting up python3-six (1.11.0-2) ...\n",
            "Setting up python3-wheel (0.30.0-0.2) ...\n",
            "Setting up python3-pkg-resources (39.0.1-2) ...\n",
            "Setting up python3-asn1crypto (0.24.0-1) ...\n",
            "Setting up python3-pip (9.0.1-2.3~ubuntu1.18.04.5) ...\n",
            "Setting up python3-setuptools (39.0.1-2) ...\n",
            "Setting up python3-cryptography (2.1.4-1ubuntu1.4) ...\n",
            "Setting up python3-keyrings.alt (3.0-1) ...\n",
            "Setting up python3-secretstorage (2.3.1-2) ...\n",
            "Setting up python3-keyring (10.6.0-1) ...\n",
            "Processing triggers for man-db (2.8.3-2ubuntu0.1) ...\n"
          ],
          "name": "stdout"
        }
      ]
    },
    {
      "cell_type": "code",
      "metadata": {
        "colab": {
          "base_uri": "https://localhost:8080/"
        },
        "id": "Vcs1ZdEmzc4T",
        "outputId": "9d68cece-0744-4d17-e39c-f7e11dee7b99"
      },
      "source": [
        "!python3 -m pip install color\n",
        "!python3 -m pip install colour"
      ],
      "execution_count": null,
      "outputs": [
        {
          "output_type": "stream",
          "text": [
            "Requirement already satisfied: color in /usr/local/lib/python3.7/dist-packages (0.1)\n",
            "Requirement already satisfied: enum34 in /usr/local/lib/python3.7/dist-packages (from color) (1.1.10)\n",
            "Requirement already satisfied: colour in /usr/local/lib/python3.7/dist-packages (0.1.5)\n"
          ],
          "name": "stdout"
        }
      ]
    },
    {
      "cell_type": "code",
      "metadata": {
        "colab": {
          "base_uri": "https://localhost:8080/"
        },
        "id": "jcdxP51bz9np",
        "outputId": "b9830d24-28a3-4f20-d293-4857948036f2"
      },
      "source": [
        "!sudo pip3 install human_body_prior"
      ],
      "execution_count": null,
      "outputs": [
        {
          "output_type": "stream",
          "text": [
            "Requirement already satisfied: human_body_prior in /usr/local/lib/python3.7/dist-packages (2.1.2.0)\n"
          ],
          "name": "stdout"
        }
      ]
    },
    {
      "cell_type": "code",
      "metadata": {
        "colab": {
          "base_uri": "https://localhost:8080/"
        },
        "id": "jINoQRsdyuNY",
        "outputId": "f505eb97-51e0-4ebc-8d8c-33c7fc16c884"
      },
      "source": [
        "!pip install trimesh"
      ],
      "execution_count": null,
      "outputs": [
        {
          "output_type": "stream",
          "text": [
            "Collecting trimesh\n",
            "\u001b[?25l  Downloading https://files.pythonhosted.org/packages/30/0e/00743d0bbfad9b6aebf0206bd3f8d06386b8fc1b7203e30723687129bb12/trimesh-3.9.20-py3-none-any.whl (632kB)\n",
            "\r\u001b[K     |▌                               | 10kB 20.3MB/s eta 0:00:01\r\u001b[K     |█                               | 20kB 26.9MB/s eta 0:00:01\r\u001b[K     |█▌                              | 30kB 26.4MB/s eta 0:00:01\r\u001b[K     |██                              | 40kB 19.3MB/s eta 0:00:01\r\u001b[K     |██▋                             | 51kB 13.6MB/s eta 0:00:01\r\u001b[K     |███                             | 61kB 11.2MB/s eta 0:00:01\r\u001b[K     |███▋                            | 71kB 12.3MB/s eta 0:00:01\r\u001b[K     |████▏                           | 81kB 13.5MB/s eta 0:00:01\r\u001b[K     |████▋                           | 92kB 14.5MB/s eta 0:00:01\r\u001b[K     |█████▏                          | 102kB 12.9MB/s eta 0:00:01\r\u001b[K     |█████▊                          | 112kB 12.9MB/s eta 0:00:01\r\u001b[K     |██████▏                         | 122kB 12.9MB/s eta 0:00:01\r\u001b[K     |██████▊                         | 133kB 12.9MB/s eta 0:00:01\r\u001b[K     |███████▎                        | 143kB 12.9MB/s eta 0:00:01\r\u001b[K     |███████▊                        | 153kB 12.9MB/s eta 0:00:01\r\u001b[K     |████████▎                       | 163kB 12.9MB/s eta 0:00:01\r\u001b[K     |████████▉                       | 174kB 12.9MB/s eta 0:00:01\r\u001b[K     |█████████▎                      | 184kB 12.9MB/s eta 0:00:01\r\u001b[K     |█████████▉                      | 194kB 12.9MB/s eta 0:00:01\r\u001b[K     |██████████▍                     | 204kB 12.9MB/s eta 0:00:01\r\u001b[K     |██████████▉                     | 215kB 12.9MB/s eta 0:00:01\r\u001b[K     |███████████▍                    | 225kB 12.9MB/s eta 0:00:01\r\u001b[K     |████████████                    | 235kB 12.9MB/s eta 0:00:01\r\u001b[K     |████████████▍                   | 245kB 12.9MB/s eta 0:00:01\r\u001b[K     |█████████████                   | 256kB 12.9MB/s eta 0:00:01\r\u001b[K     |█████████████▌                  | 266kB 12.9MB/s eta 0:00:01\r\u001b[K     |██████████████                  | 276kB 12.9MB/s eta 0:00:01\r\u001b[K     |██████████████▌                 | 286kB 12.9MB/s eta 0:00:01\r\u001b[K     |███████████████                 | 296kB 12.9MB/s eta 0:00:01\r\u001b[K     |███████████████▌                | 307kB 12.9MB/s eta 0:00:01\r\u001b[K     |████████████████                | 317kB 12.9MB/s eta 0:00:01\r\u001b[K     |████████████████▋               | 327kB 12.9MB/s eta 0:00:01\r\u001b[K     |█████████████████               | 337kB 12.9MB/s eta 0:00:01\r\u001b[K     |█████████████████▋              | 348kB 12.9MB/s eta 0:00:01\r\u001b[K     |██████████████████▏             | 358kB 12.9MB/s eta 0:00:01\r\u001b[K     |██████████████████▋             | 368kB 12.9MB/s eta 0:00:01\r\u001b[K     |███████████████████▏            | 378kB 12.9MB/s eta 0:00:01\r\u001b[K     |███████████████████▊            | 389kB 12.9MB/s eta 0:00:01\r\u001b[K     |████████████████████▏           | 399kB 12.9MB/s eta 0:00:01\r\u001b[K     |████████████████████▊           | 409kB 12.9MB/s eta 0:00:01\r\u001b[K     |█████████████████████▎          | 419kB 12.9MB/s eta 0:00:01\r\u001b[K     |█████████████████████▊          | 430kB 12.9MB/s eta 0:00:01\r\u001b[K     |██████████████████████▎         | 440kB 12.9MB/s eta 0:00:01\r\u001b[K     |██████████████████████▉         | 450kB 12.9MB/s eta 0:00:01\r\u001b[K     |███████████████████████▎        | 460kB 12.9MB/s eta 0:00:01\r\u001b[K     |███████████████████████▉        | 471kB 12.9MB/s eta 0:00:01\r\u001b[K     |████████████████████████▍       | 481kB 12.9MB/s eta 0:00:01\r\u001b[K     |████████████████████████▉       | 491kB 12.9MB/s eta 0:00:01\r\u001b[K     |█████████████████████████▍      | 501kB 12.9MB/s eta 0:00:01\r\u001b[K     |██████████████████████████      | 512kB 12.9MB/s eta 0:00:01\r\u001b[K     |██████████████████████████▍     | 522kB 12.9MB/s eta 0:00:01\r\u001b[K     |███████████████████████████     | 532kB 12.9MB/s eta 0:00:01\r\u001b[K     |███████████████████████████▌    | 542kB 12.9MB/s eta 0:00:01\r\u001b[K     |████████████████████████████    | 552kB 12.9MB/s eta 0:00:01\r\u001b[K     |████████████████████████████▌   | 563kB 12.9MB/s eta 0:00:01\r\u001b[K     |█████████████████████████████   | 573kB 12.9MB/s eta 0:00:01\r\u001b[K     |█████████████████████████████▌  | 583kB 12.9MB/s eta 0:00:01\r\u001b[K     |██████████████████████████████  | 593kB 12.9MB/s eta 0:00:01\r\u001b[K     |██████████████████████████████▋ | 604kB 12.9MB/s eta 0:00:01\r\u001b[K     |███████████████████████████████ | 614kB 12.9MB/s eta 0:00:01\r\u001b[K     |███████████████████████████████▋| 624kB 12.9MB/s eta 0:00:01\r\u001b[K     |████████████████████████████████| 634kB 12.9MB/s \n",
            "\u001b[?25hRequirement already satisfied: numpy in /usr/local/lib/python3.7/dist-packages (from trimesh) (1.19.5)\n",
            "Requirement already satisfied: setuptools in /usr/local/lib/python3.7/dist-packages (from trimesh) (57.0.0)\n",
            "Installing collected packages: trimesh\n",
            "Successfully installed trimesh-3.9.20\n"
          ],
          "name": "stdout"
        }
      ]
    },
    {
      "cell_type": "code",
      "metadata": {
        "colab": {
          "base_uri": "https://localhost:8080/"
        },
        "id": "q74J6DnEzpem",
        "outputId": "4ce52cc5-aee0-4e18-a9b0-b51d48e660f7"
      },
      "source": [
        "!pwd"
      ],
      "execution_count": null,
      "outputs": [
        {
          "output_type": "stream",
          "text": [
            "/content\n"
          ],
          "name": "stdout"
        }
      ]
    },
    {
      "cell_type": "code",
      "metadata": {
        "colab": {
          "base_uri": "https://localhost:8080/"
        },
        "id": "iK1iBpbt1KQX",
        "outputId": "b318db33-d6d4-49b5-9b74-5ace4c7d525f"
      },
      "source": [
        "%cd /content/"
      ],
      "execution_count": null,
      "outputs": [
        {
          "output_type": "stream",
          "text": [
            "/content\n"
          ],
          "name": "stdout"
        }
      ]
    },
    {
      "cell_type": "code",
      "metadata": {
        "colab": {
          "base_uri": "https://localhost:8080/"
        },
        "id": "HicAHsCzyJEI",
        "outputId": "3fd678bf-4475-4114-983a-d2b8ee456677"
      },
      "source": [
        "%cd drive/MyDrive/SynShadow/"
      ],
      "execution_count": null,
      "outputs": [
        {
          "output_type": "stream",
          "text": [
            "/content/drive/MyDrive/SynShadow\n"
          ],
          "name": "stdout"
        }
      ]
    },
    {
      "cell_type": "code",
      "metadata": {
        "id": "UgSnShC6qDwF"
      },
      "source": [
        ""
      ],
      "execution_count": null,
      "outputs": []
    }
  ]
}