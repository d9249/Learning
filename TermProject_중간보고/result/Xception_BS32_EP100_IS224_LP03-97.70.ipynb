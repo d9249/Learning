{
 "cells": [
  {
   "cell_type": "markdown",
   "id": "18af0544",
   "metadata": {
    "colab_type": "text",
    "id": "view-in-github"
   },
   "source": [
    "<a href=\"https://colab.research.google.com/github/d9249/MDL/blob/main/KLGrade_DenseNet121-91.83.ipynb\" target=\"_parent\"><img src=\"https://colab.research.google.com/assets/colab-badge.svg\" alt=\"Open In Colab\"/></a>"
   ]
  },
  {
   "cell_type": "code",
   "execution_count": 1,
   "id": "37b90db9",
   "metadata": {},
   "outputs": [
    {
     "name": "stdout",
     "output_type": "stream",
     "text": [
      "[name: \"/device:CPU:0\"\n",
      "device_type: \"CPU\"\n",
      "memory_limit: 268435456\n",
      "locality {\n",
      "}\n",
      "incarnation: 8816362933281660893\n",
      ", name: \"/device:GPU:0\"\n",
      "device_type: \"GPU\"\n",
      "memory_limit: 22727688192\n",
      "locality {\n",
      "  bus_id: 1\n",
      "  links {\n",
      "  }\n",
      "}\n",
      "incarnation: 7337819562122199376\n",
      "physical_device_desc: \"device: 0, name: GeForce RTX 3090, pci bus id: 0000:01:00.0, compute capability: 8.6\"\n",
      "]\n"
     ]
    }
   ],
   "source": [
    "from tensorflow.python.client import device_lib\n",
    "print(device_lib.list_local_devices())"
   ]
  },
  {
   "cell_type": "code",
   "execution_count": 2,
   "id": "ts26D3gLnyLd",
   "metadata": {
    "colab": {
     "base_uri": "https://localhost:8080/"
    },
    "id": "ts26D3gLnyLd",
    "outputId": "f4f6fa8d-223f-4028-b18f-b8da4113b6d3"
   },
   "outputs": [
    {
     "name": "stdout",
     "output_type": "stream",
     "text": [
      "Wed Nov  3 13:57:18 2021       \n",
      "+-----------------------------------------------------------------------------+\n",
      "| NVIDIA-SMI 461.72       Driver Version: 461.72       CUDA Version: 11.2     |\n",
      "|-------------------------------+----------------------+----------------------+\n",
      "| GPU  Name            TCC/WDDM | Bus-Id        Disp.A | Volatile Uncorr. ECC |\n",
      "| Fan  Temp  Perf  Pwr:Usage/Cap|         Memory-Usage | GPU-Util  Compute M. |\n",
      "|                               |                      |               MIG M. |\n",
      "|===============================+======================+======================|\n",
      "|   0  GeForce RTX 3090   WDDM  | 00000000:01:00.0 Off |                  N/A |\n",
      "|  0%   44C    P2   117W / 350W |    845MiB / 24576MiB |      0%      Default |\n",
      "|                               |                      |                  N/A |\n",
      "+-------------------------------+----------------------+----------------------+\n",
      "                                                                               \n",
      "+-----------------------------------------------------------------------------+\n",
      "| Processes:                                                                  |\n",
      "|  GPU   GI   CI        PID   Type   Process name                  GPU Memory |\n",
      "|        ID   ID                                                   Usage      |\n",
      "|=============================================================================|\n",
      "|    0   N/A  N/A      2696      C   ...onda3\\envs\\MDL\\python.exe    N/A      |\n",
      "|    0   N/A  N/A     17016      C   ...gkim\\anaconda3\\python.exe    N/A      |\n",
      "+-----------------------------------------------------------------------------+\n"
     ]
    }
   ],
   "source": [
    "!nvidia-smi"
   ]
  },
  {
   "cell_type": "markdown",
   "id": "decreased-picnic",
   "metadata": {
    "id": "decreased-picnic",
    "papermill": {
     "duration": 0.028073,
     "end_time": "2021-05-30T18:39:27.966668",
     "exception": false,
     "start_time": "2021-05-30T18:39:27.938595",
     "status": "completed"
    },
    "tags": []
   },
   "source": [
    "### Short description\n",
    "This notebook is a part of [Data Sprint #35: Osteoarthritis Knee X-ray](https://dphi.tech/challenges/data-sprint-35-osteoarthritis-knee-x-ray/81/leaderboard/datathon/) challenge hosted on [dphi.tech](https://dphi.tech/)"
   ]
  },
  {
   "cell_type": "markdown",
   "id": "million-monaco",
   "metadata": {
    "id": "million-monaco",
    "papermill": {
     "duration": 0.026241,
     "end_time": "2021-05-30T18:39:28.019714",
     "exception": false,
     "start_time": "2021-05-30T18:39:27.993473",
     "status": "completed"
    },
    "tags": []
   },
   "source": [
    "## Importing dependencies\n",
    "\n",
    "## 종속성을 가져오는 중 "
   ]
  },
  {
   "cell_type": "code",
   "execution_count": 3,
   "id": "floating-cincinnati",
   "metadata": {
    "execution": {
     "iopub.execute_input": "2021-05-30T18:39:28.086573Z",
     "iopub.status.busy": "2021-05-30T18:39:28.085923Z",
     "iopub.status.idle": "2021-05-30T18:39:32.847126Z",
     "shell.execute_reply": "2021-05-30T18:39:32.846068Z",
     "shell.execute_reply.started": "2021-05-30T09:28:36.967323Z"
    },
    "id": "floating-cincinnati",
    "papermill": {
     "duration": 4.80129,
     "end_time": "2021-05-30T18:39:32.847355",
     "exception": false,
     "start_time": "2021-05-30T18:39:28.046065",
     "status": "completed"
    },
    "tags": []
   },
   "outputs": [],
   "source": [
    "%matplotlib inline\n",
    "import numpy as np \n",
    "import pandas as pd\n",
    "import os\n",
    "from glob import glob\n",
    "import matplotlib.pyplot as plt\n",
    "from keras_preprocessing.image import ImageDataGenerator\n",
    "from tensorflow.keras.applications import Xception\n",
    "from tensorflow.keras.layers import GlobalAveragePooling2D\n",
    "import tensorflow as tf\n",
    "from tensorflow.keras.callbacks import ModelCheckpoint, EarlyStopping, ReduceLROnPlateau\n",
    "from keras.models import Model"
   ]
  },
  {
   "cell_type": "markdown",
   "id": "express-discipline",
   "metadata": {
    "id": "express-discipline",
    "papermill": {
     "duration": 0.026573,
     "end_time": "2021-05-30T18:39:32.900510",
     "exception": false,
     "start_time": "2021-05-30T18:39:32.873937",
     "status": "completed"
    },
    "tags": []
   },
   "source": [
    "# Basic Idea\n",
    "The Basic idea is to use external data present in kaggle here: [Kaggle: Knee Osteoarthritis Dataset with KL Grading - 2018](https://www.kaggle.com/tommyngx/kneeoa)\n",
    "\n",
    "As we have labels for train, validation and test, we will combine all splits into one and test it on dataset provided by the compitition team, this will make sure kaggle dataset and compitition dataset has same data distribution.\n",
    "\n",
    "If train(kaggle dataset) and test (compition dataset) data has same distribution then their metric score should be roughy be the same (accuracy score in our case).\n",
    "\n",
    "# 기본 아이디어\n",
    "기본 아이디어는 여기 카글에 있는 외부 데이터를 사용하는 것이다. [Kaggle: KL Grading이 있는 무릎 골관절염 데이터 세트 - 2018](https://www.kaggle.com/tommyngx/kneeoa)\n",
    "\n",
    "교육, 검증 및 테스트를 위한 레이블이 있으므로 모든 분할을 하나로 결합하고 구성 팀에서 제공하는 데이터 세트에서 테스트합니다. 이렇게 하면 Kaggle 데이터 세트와 구성 데이터 세트가 동일한 데이터 분포를 갖출 수 있습니다.\n",
    "\n",
    "열차(카글 데이터 세트)와 테스트(컴포지션 데이터 세트) 데이터의 분포가 동일하면 메트릭 점수가 대략 같아야 한다(우리의 경우 정확도 점수)."
   ]
  },
  {
   "cell_type": "markdown",
   "id": "rotary-prague",
   "metadata": {
    "id": "rotary-prague",
    "papermill": {
     "duration": 0.025647,
     "end_time": "2021-05-30T18:39:32.952047",
     "exception": false,
     "start_time": "2021-05-30T18:39:32.926400",
     "status": "completed"
    },
    "tags": []
   },
   "source": [
    "# Read And Combining train dataset (kaggle dataset)\n",
    "\n",
    "# 열차 데이터 세트 읽기 및 결합 (Kaggle 데이터 세트)"
   ]
  },
  {
   "cell_type": "code",
   "execution_count": 4,
   "id": "emotional-valuable",
   "metadata": {
    "execution": {
     "iopub.execute_input": "2021-05-30T18:39:33.012157Z",
     "iopub.status.busy": "2021-05-30T18:39:33.011596Z",
     "iopub.status.idle": "2021-05-30T18:39:35.556063Z",
     "shell.execute_reply": "2021-05-30T18:39:35.555555Z",
     "shell.execute_reply.started": "2021-05-30T09:28:38.947982Z"
    },
    "id": "emotional-valuable",
    "papermill": {
     "duration": 2.57776,
     "end_time": "2021-05-30T18:39:35.556225",
     "exception": false,
     "start_time": "2021-05-30T18:39:32.978465",
     "status": "completed"
    },
    "tags": []
   },
   "outputs": [],
   "source": [
    "# number of class\n",
    "n_class = 5\n",
    "\n",
    "# path to kaggle dataset\n",
    "root_path = \"C:\\\\Users\\\\ngkim\\\\Downloads\\\\ClsKLData\\\\kneeKL224\\\\\"\n",
    "\n",
    "# list of folders\n",
    "folder_list = os.listdir(root_path)\n",
    "image_path_list = []\n",
    "label_list = []\n",
    "\n",
    "# for each folder, get the image path and labels\n",
    "for folder in folder_list:\n",
    "    for label in range(n_class):\n",
    "        \n",
    "        # get all the images path inside the current folder\n",
    "        image_list = os.listdir(f\"{root_path}{folder}/{label}\")\n",
    "        # add to the image path list\n",
    "        image_path_list += [ f\"{root_path}{folder}/{label}/\"+ path for path in image_list]\n",
    "        \n",
    "        # add labels to the label list\n",
    "        label_list += [label] * len(image_list)\n",
    "\n",
    "# convert to dataframe\n",
    "df_train_kaggle = pd.DataFrame({\"filepath\" : image_path_list, \"label\": label_list})"
   ]
  },
  {
   "cell_type": "code",
   "execution_count": 5,
   "id": "signal-responsibility",
   "metadata": {
    "colab": {
     "base_uri": "https://localhost:8080/"
    },
    "execution": {
     "iopub.execute_input": "2021-05-30T18:39:35.618734Z",
     "iopub.status.busy": "2021-05-30T18:39:35.617931Z",
     "iopub.status.idle": "2021-05-30T18:39:35.621117Z",
     "shell.execute_reply": "2021-05-30T18:39:35.621576Z",
     "shell.execute_reply.started": "2021-05-30T09:28:40.244589Z"
    },
    "id": "signal-responsibility",
    "outputId": "9be7a788-1c7a-498d-a3e9-7b2c5e8455ab",
    "papermill": {
     "duration": 0.03629,
     "end_time": "2021-05-30T18:39:35.621716",
     "exception": false,
     "start_time": "2021-05-30T18:39:35.585426",
     "status": "completed"
    },
    "tags": []
   },
   "outputs": [
    {
     "data": {
      "text/plain": [
       "(9786, 2)"
      ]
     },
     "execution_count": 5,
     "metadata": {},
     "output_type": "execute_result"
    }
   ],
   "source": [
    "df_train_kaggle.shape"
   ]
  },
  {
   "cell_type": "markdown",
   "id": "hairy-greene",
   "metadata": {
    "id": "hairy-greene",
    "papermill": {
     "duration": 0.030406,
     "end_time": "2021-05-30T18:39:35.680660",
     "exception": false,
     "start_time": "2021-05-30T18:39:35.650254",
     "status": "completed"
    },
    "tags": []
   },
   "source": [
    "### Observation\n",
    "we have total of 9786 images in kaggle dataset. We will use data to train the deep learning model\n",
    "# Lets look at class distribution\n",
    "\n",
    "## 관찰\n",
    "우리는 카글 데이터 세트에 총 9786개의 이미지를 가지고 있다. 우리는 딥 러닝 모델을 훈련시키기 위해 데이터를 사용할 것이다.\n",
    "# 학급분포를 살펴보자"
   ]
  },
  {
   "cell_type": "code",
   "execution_count": 6,
   "id": "therapeutic-spending",
   "metadata": {
    "colab": {
     "base_uri": "https://localhost:8080/",
     "height": 295
    },
    "execution": {
     "iopub.execute_input": "2021-05-30T18:39:35.750000Z",
     "iopub.status.busy": "2021-05-30T18:39:35.749277Z",
     "iopub.status.idle": "2021-05-30T18:39:35.918362Z",
     "shell.execute_reply": "2021-05-30T18:39:35.918766Z",
     "shell.execute_reply.started": "2021-05-30T09:28:41.597346Z"
    },
    "id": "therapeutic-spending",
    "outputId": "0e179822-cb9f-4a56-b0c3-1f99705e882b",
    "papermill": {
     "duration": 0.208649,
     "end_time": "2021-05-30T18:39:35.918905",
     "exception": false,
     "start_time": "2021-05-30T18:39:35.710256",
     "status": "completed"
    },
    "tags": []
   },
   "outputs": [
    {
     "data": {
      "text/plain": [
       "Text(0, 0.5, 'count')"
      ]
     },
     "execution_count": 6,
     "metadata": {},
     "output_type": "execute_result"
    },
    {
     "data": {
      "image/png": "[encoded data removed]",
      "text/plain": [
       "<Figure size 432x288 with 1 Axes>"
      ]
     },
     "metadata": {
      "needs_background": "light"
     },
     "output_type": "display_data"
    }
   ],
   "source": [
    "df_train_kaggle.label.value_counts().plot.bar()\n",
    "plt.xlabel(\"label\")\n",
    "plt.ylabel(\"count\")"
   ]
  },
  {
   "cell_type": "markdown",
   "id": "cognitive-calendar",
   "metadata": {
    "id": "cognitive-calendar",
    "papermill": {
     "duration": 0.027966,
     "end_time": "2021-05-30T18:39:35.973791",
     "exception": false,
     "start_time": "2021-05-30T18:39:35.945825",
     "status": "completed"
    },
    "tags": []
   },
   "source": [
    "### Observation\n",
    "As our dataset is imbalanced, we will balance our class by weighting majority class less and minoiry class more\n",
    "\n",
    "## 관찰\n",
    "데이터 세트가 불균형적이므로 다수 클래스는 덜 가중치 부여하고 소수 클래스는 더 가중치를 부여하여 클래스 균형을 맞출 것이다."
   ]
  },
  {
   "cell_type": "markdown",
   "id": "dense-enzyme",
   "metadata": {
    "id": "dense-enzyme",
    "papermill": {
     "duration": 0.028255,
     "end_time": "2021-05-30T18:39:36.030250",
     "exception": false,
     "start_time": "2021-05-30T18:39:36.001995",
     "status": "completed"
    },
    "tags": []
   },
   "source": [
    "## DataGenerator train and validation\n",
    "We will use kaggle dataset as train set and compitition dataset as validation set. If train and validation metric is similar, it shows their distribution is similar and hence we can use kaggle dataset as well.\n",
    "\n",
    "# 데이터 생성기 교육 및 검증\n",
    "우리는 캐글 데이터 세트를 열차 세트로, 컴포지션 데이터 세트를 검증 세트로 사용할 것이다. 열차와 검증 메트릭이 유사한 경우 분포가 유사함을 보여주므로 캐글 데이터 세트도 사용할 수 있다."
   ]
  },
  {
   "cell_type": "code",
   "execution_count": 7,
   "id": "encouraging-novel",
   "metadata": {
    "execution": {
     "iopub.execute_input": "2021-05-30T18:39:36.090553Z",
     "iopub.status.busy": "2021-05-30T18:39:36.089729Z",
     "iopub.status.idle": "2021-05-30T18:39:36.092340Z",
     "shell.execute_reply": "2021-05-30T18:39:36.091828Z",
     "shell.execute_reply.started": "2021-05-30T09:28:44.189248Z"
    },
    "id": "encouraging-novel",
    "papermill": {
     "duration": 0.035021,
     "end_time": "2021-05-30T18:39:36.092447",
     "exception": false,
     "start_time": "2021-05-30T18:39:36.057426",
     "status": "completed"
    },
    "tags": []
   },
   "outputs": [],
   "source": [
    "# train data generator object\n",
    "train_aug = ImageDataGenerator(\n",
    "    rescale=1./255\n",
    "  )\n",
    "\n",
    "# validation data generator object\n",
    "valid_aug = ImageDataGenerator(\n",
    "    rescale=1./255\n",
    "  )"
   ]
  },
  {
   "cell_type": "code",
   "execution_count": 8,
   "id": "geological-philadelphia",
   "metadata": {
    "colab": {
     "base_uri": "https://localhost:8080/"
    },
    "execution": {
     "iopub.execute_input": "2021-05-30T18:39:36.172890Z",
     "iopub.status.busy": "2021-05-30T18:39:36.167698Z",
     "iopub.status.idle": "2021-05-30T18:39:39.954054Z",
     "shell.execute_reply": "2021-05-30T18:39:39.954888Z",
     "shell.execute_reply.started": "2021-05-30T09:28:47.478488Z"
    },
    "id": "geological-philadelphia",
    "outputId": "358f5e4e-a7b9-4d32-d0be-5a08a4e27ace",
    "papermill": {
     "duration": 3.835127,
     "end_time": "2021-05-30T18:39:39.955083",
     "exception": false,
     "start_time": "2021-05-30T18:39:36.119956",
     "status": "completed"
    },
    "tags": []
   },
   "outputs": [
    {
     "name": "stdout",
     "output_type": "stream",
     "text": [
      "Found 9786 validated image filenames.\n"
     ]
    }
   ],
   "source": [
    "# create train generator\n",
    "train_generator = train_aug.flow_from_dataframe(\n",
    "    dataframe=df_train_kaggle,\n",
    "    directory=None,\n",
    "    x_col=\"filepath\",\n",
    "    y_col=\"label\",\n",
    "    batch_size=32,\n",
    "    seed=42,\n",
    "    shuffle=True,\n",
    "    class_mode=\"raw\",\n",
    "    target_size=(224,224)\n",
    "  )"
   ]
  },
  {
   "cell_type": "markdown",
   "id": "asian-chest",
   "metadata": {
    "id": "asian-chest",
    "papermill": {
     "duration": 0.027295,
     "end_time": "2021-05-30T18:39:40.011354",
     "exception": false,
     "start_time": "2021-05-30T18:39:39.984059",
     "status": "completed"
    },
    "tags": []
   },
   "source": [
    "# Create validation dataframe using compitition dataset.\n",
    "We will download compition dataset from gdrive and use it as validation set to validated against kaggle dataset\n",
    "\n",
    "# composition dataset을 이용하여 검증 데이터 프레임을 생성합니다.\n",
    "gdrive에서 컴포지션 데이터 세트를 다운로드하여 Kaggle 데이터 세트에 대해 검증된 검증 세트로 사용할 것입니다."
   ]
  },
  {
   "cell_type": "code",
   "execution_count": 9,
   "id": "threaded-characterization",
   "metadata": {
    "colab": {
     "base_uri": "https://localhost:8080/",
     "height": 204
    },
    "execution": {
     "iopub.execute_input": "2021-05-30T18:40:02.229132Z",
     "iopub.status.busy": "2021-05-30T18:40:02.228400Z",
     "iopub.status.idle": "2021-05-30T18:40:02.250117Z",
     "shell.execute_reply": "2021-05-30T18:40:02.250642Z",
     "shell.execute_reply.started": "2021-05-30T08:33:23.833280Z"
    },
    "id": "threaded-characterization",
    "outputId": "283093ce-0819-4542-9ff8-555713912e62",
    "papermill": {
     "duration": 0.059732,
     "end_time": "2021-05-30T18:40:02.250775",
     "exception": false,
     "start_time": "2021-05-30T18:40:02.191043",
     "status": "completed"
    },
    "tags": []
   },
   "outputs": [
    {
     "data": {
      "text/html": [
       "<div>\n",
       "<style scoped>\n",
       "    .dataframe tbody tr th:only-of-type {\n",
       "        vertical-align: middle;\n",
       "    }\n",
       "\n",
       "    .dataframe tbody tr th {\n",
       "        vertical-align: top;\n",
       "    }\n",
       "\n",
       "    .dataframe thead th {\n",
       "        text-align: right;\n",
       "    }\n",
       "</style>\n",
       "<table border=\"1\" class=\"dataframe\">\n",
       "  <thead>\n",
       "    <tr style=\"text-align: right;\">\n",
       "      <th></th>\n",
       "      <th>filename</th>\n",
       "      <th>label</th>\n",
       "    </tr>\n",
       "  </thead>\n",
       "  <tbody>\n",
       "    <tr>\n",
       "      <th>0</th>\n",
       "      <td>C:\\Users\\ngkim\\Downloads\\KneeXray\\train/Image_...</td>\n",
       "      <td>0</td>\n",
       "    </tr>\n",
       "    <tr>\n",
       "      <th>1</th>\n",
       "      <td>C:\\Users\\ngkim\\Downloads\\KneeXray\\train/Image_...</td>\n",
       "      <td>1</td>\n",
       "    </tr>\n",
       "    <tr>\n",
       "      <th>2</th>\n",
       "      <td>C:\\Users\\ngkim\\Downloads\\KneeXray\\train/Image_...</td>\n",
       "      <td>0</td>\n",
       "    </tr>\n",
       "    <tr>\n",
       "      <th>3</th>\n",
       "      <td>C:\\Users\\ngkim\\Downloads\\KneeXray\\train/Image_...</td>\n",
       "      <td>1</td>\n",
       "    </tr>\n",
       "    <tr>\n",
       "      <th>4</th>\n",
       "      <td>C:\\Users\\ngkim\\Downloads\\KneeXray\\train/Image_...</td>\n",
       "      <td>2</td>\n",
       "    </tr>\n",
       "  </tbody>\n",
       "</table>\n",
       "</div>"
      ],
      "text/plain": [
       "                                            filename  label\n",
       "0  C:\\Users\\ngkim\\Downloads\\KneeXray\\train/Image_...      0\n",
       "1  C:\\Users\\ngkim\\Downloads\\KneeXray\\train/Image_...      1\n",
       "2  C:\\Users\\ngkim\\Downloads\\KneeXray\\train/Image_...      0\n",
       "3  C:\\Users\\ngkim\\Downloads\\KneeXray\\train/Image_...      1\n",
       "4  C:\\Users\\ngkim\\Downloads\\KneeXray\\train/Image_...      2"
      ]
     },
     "execution_count": 9,
     "metadata": {},
     "output_type": "execute_result"
    }
   ],
   "source": [
    "# read Train.csv file which contains image names and labels and preprocess them\n",
    "compi_root_path= \"C:\\\\Users\\\\ngkim\\\\Downloads\\\\KneeXray\\\\\"\n",
    "df_val_compi = pd.read_csv(compi_root_path + \"Train.csv\")\n",
    "\n",
    "# add absolute path to the image names\n",
    "df_val_compi[\"filename\"] = df_val_compi.filename.apply(lambda x: compi_root_path+\"train/\" + x)\n",
    "df_val_compi.head()"
   ]
  },
  {
   "cell_type": "code",
   "execution_count": 10,
   "id": "suburban-shareware",
   "metadata": {
    "colab": {
     "base_uri": "https://localhost:8080/",
     "height": 294
    },
    "execution": {
     "iopub.execute_input": "2021-05-30T18:40:02.339459Z",
     "iopub.status.busy": "2021-05-30T18:40:02.324109Z",
     "iopub.status.idle": "2021-05-30T18:40:02.442504Z",
     "shell.execute_reply": "2021-05-30T18:40:02.442056Z",
     "shell.execute_reply.started": "2021-05-30T08:33:23.865039Z"
    },
    "id": "suburban-shareware",
    "outputId": "8fb91f05-54a6-4bc7-d95f-68ea55748335",
    "papermill": {
     "duration": 0.158988,
     "end_time": "2021-05-30T18:40:02.442618",
     "exception": false,
     "start_time": "2021-05-30T18:40:02.283630",
     "status": "completed"
    },
    "tags": []
   },
   "outputs": [
    {
     "data": {
      "text/plain": [
       "Text(0, 0.5, 'count')"
      ]
     },
     "execution_count": 10,
     "metadata": {},
     "output_type": "execute_result"
    },
    {
     "data": {
      "image/png": "[encoded data removed]",
      "text/plain": [
       "<Figure size 432x288 with 1 Axes>"
      ]
     },
     "metadata": {
      "needs_background": "light"
     },
     "output_type": "display_data"
    }
   ],
   "source": [
    "# class count of compitition dataset\n",
    "df_val_compi.label.value_counts().plot.bar()\n",
    "plt.xlabel(\"label\")\n",
    "plt.ylabel(\"count\")"
   ]
  },
  {
   "cell_type": "code",
   "execution_count": 11,
   "id": "saving-homework",
   "metadata": {
    "colab": {
     "base_uri": "https://localhost:8080/"
    },
    "execution": {
     "iopub.execute_input": "2021-05-30T18:40:02.529039Z",
     "iopub.status.busy": "2021-05-30T18:40:02.528305Z",
     "iopub.status.idle": "2021-05-30T18:40:02.574290Z",
     "shell.execute_reply": "2021-05-30T18:40:02.574903Z",
     "shell.execute_reply.started": "2021-05-30T08:54:21.600981Z"
    },
    "id": "saving-homework",
    "outputId": "178977a9-4413-4d38-b7f0-de8a9904b0e0",
    "papermill": {
     "duration": 0.098388,
     "end_time": "2021-05-30T18:40:02.575081",
     "exception": false,
     "start_time": "2021-05-30T18:40:02.476693",
     "status": "completed"
    },
    "tags": []
   },
   "outputs": [
    {
     "name": "stdout",
     "output_type": "stream",
     "text": [
      "Found 7828 validated image filenames.\n"
     ]
    }
   ],
   "source": [
    "# create validation generator\n",
    "valid_generator = valid_aug.flow_from_dataframe( \n",
    "    dataframe= df_val_compi,\n",
    "    x_col= \"filename\",\n",
    "    y_col= \"label\",\n",
    "    batch_size= 32,\n",
    "    seed= 42,\n",
    "    shuffle= True,\n",
    "    class_mode= \"raw\",\n",
    "    target_size= (224,224)\n",
    "  )"
   ]
  },
  {
   "cell_type": "markdown",
   "id": "marked-belarus",
   "metadata": {
    "id": "marked-belarus",
    "papermill": {
     "duration": 0.033792,
     "end_time": "2021-05-30T18:40:02.643887",
     "exception": false,
     "start_time": "2021-05-30T18:40:02.610095",
     "status": "completed"
    },
    "tags": []
   },
   "source": [
    "### Model Architecture\n",
    "Here we will be using Xception by google. (I encourage you to try different architectures)\n",
    "\n",
    "## 모델 아키텍처\n",
    "여기서는 구글의 Xception을 사용할 것입니다. (다양한 아키텍처를 사용해 보십시오)\n",
    "\n",
    "## CheXNet - DenseNet121 + Sigmoid\n",
    "https://github.com/arnoweng/CheXNet/blob/master/model.py"
   ]
  },
  {
   "cell_type": "code",
   "execution_count": 12,
   "id": "buried-tablet",
   "metadata": {
    "colab": {
     "base_uri": "https://localhost:8080/"
    },
    "execution": {
     "iopub.execute_input": "2021-05-30T18:40:02.724467Z",
     "iopub.status.busy": "2021-05-30T18:40:02.723830Z",
     "iopub.status.idle": "2021-05-30T18:40:08.132744Z",
     "shell.execute_reply": "2021-05-30T18:40:08.131632Z",
     "shell.execute_reply.started": "2021-05-30T09:28:56.068101Z"
    },
    "id": "buried-tablet",
    "outputId": "2be7f5dd-25c9-49e7-fce8-f3e1fbe9c6a1",
    "papermill": {
     "duration": 5.455093,
     "end_time": "2021-05-30T18:40:08.132878",
     "exception": false,
     "start_time": "2021-05-30T18:40:02.677785",
     "status": "completed"
    },
    "tags": []
   },
   "outputs": [],
   "source": [
    "from tensorflow.keras.applications import DenseNet121\n",
    "\n",
    "xception = Xception(weights = \"imagenet\",)\n",
    "x =  xception.layers[-3].output\n",
    "\n",
    "x = tf.keras.layers.Conv2D(filters = 1024, kernel_size = 3, padding = \"same\")(x)\n",
    "x = tf.keras.layers.BatchNormalization()(x)\n",
    "x = tf.keras.layers.Activation(\"relu\")(x)\n",
    "\n",
    "x = tf.keras.layers.Conv2D(filters = 256, kernel_size = 3, padding = \"same\")(x)\n",
    "x = tf.keras.layers.BatchNormalization()(x)\n",
    "x = tf.keras.layers.Activation(\"relu\")(x)\n",
    "\n",
    "x = tf.keras.layers.Conv2D(filters = 64, kernel_size= 3, padding = \"same\")(x)\n",
    "x = tf.keras.layers.BatchNormalization()(x)\n",
    "x = tf.keras.layers.Activation(\"relu\")(x)\n",
    "\n",
    "x = tf.keras.layers.Conv2D(filters = n_class, kernel_size = 3, padding = \"same\")(x)\n",
    "x = tf.keras.layers.BatchNormalization()(x)\n",
    "x = tf.keras.layers.Activation(\"relu\")(x)\n",
    "\n",
    "GAP = tf.keras.layers.GlobalAveragePooling2D()(x)\n",
    "pred = tf.keras.activations.softmax(GAP)\n",
    "\n",
    "xception_model = Model(inputs=xception.input,outputs = pred)"
   ]
  },
  {
   "cell_type": "code",
   "execution_count": 13,
   "id": "DYVqXESmD_Fd",
   "metadata": {
    "colab": {
     "base_uri": "https://localhost:8080/"
    },
    "id": "DYVqXESmD_Fd",
    "outputId": "88696012-6f00-42ba-d016-645743054fa0"
   },
   "outputs": [
    {
     "name": "stdout",
     "output_type": "stream",
     "text": [
      "Model: \"model\"\n",
      "__________________________________________________________________________________________________\n",
      "Layer (type)                    Output Shape         Param #     Connected to                     \n",
      "==================================================================================================\n",
      "input_1 (InputLayer)            [(None, 299, 299, 3) 0                                            \n",
      "__________________________________________________________________________________________________\n",
      "block1_conv1 (Conv2D)           (None, 149, 149, 32) 864         input_1[0][0]                    \n",
      "__________________________________________________________________________________________________\n",
      "block1_conv1_bn (BatchNormaliza (None, 149, 149, 32) 128         block1_conv1[0][0]               \n",
      "__________________________________________________________________________________________________\n",
      "block1_conv1_act (Activation)   (None, 149, 149, 32) 0           block1_conv1_bn[0][0]            \n",
      "__________________________________________________________________________________________________\n",
      "block1_conv2 (Conv2D)           (None, 147, 147, 64) 18432       block1_conv1_act[0][0]           \n",
      "__________________________________________________________________________________________________\n",
      "block1_conv2_bn (BatchNormaliza (None, 147, 147, 64) 256         block1_conv2[0][0]               \n",
      "__________________________________________________________________________________________________\n",
      "block1_conv2_act (Activation)   (None, 147, 147, 64) 0           block1_conv2_bn[0][0]            \n",
      "__________________________________________________________________________________________________\n",
      "block2_sepconv1 (SeparableConv2 (None, 147, 147, 128 8768        block1_conv2_act[0][0]           \n",
      "__________________________________________________________________________________________________\n",
      "block2_sepconv1_bn (BatchNormal (None, 147, 147, 128 512         block2_sepconv1[0][0]            \n",
      "__________________________________________________________________________________________________\n",
      "block2_sepconv2_act (Activation (None, 147, 147, 128 0           block2_sepconv1_bn[0][0]         \n",
      "__________________________________________________________________________________________________\n",
      "block2_sepconv2 (SeparableConv2 (None, 147, 147, 128 17536       block2_sepconv2_act[0][0]        \n",
      "__________________________________________________________________________________________________\n",
      "block2_sepconv2_bn (BatchNormal (None, 147, 147, 128 512         block2_sepconv2[0][0]            \n",
      "__________________________________________________________________________________________________\n",
      "conv2d (Conv2D)                 (None, 74, 74, 128)  8192        block1_conv2_act[0][0]           \n",
      "__________________________________________________________________________________________________\n",
      "block2_pool (MaxPooling2D)      (None, 74, 74, 128)  0           block2_sepconv2_bn[0][0]         \n",
      "__________________________________________________________________________________________________\n",
      "batch_normalization (BatchNorma (None, 74, 74, 128)  512         conv2d[0][0]                     \n",
      "__________________________________________________________________________________________________\n",
      "add (Add)                       (None, 74, 74, 128)  0           block2_pool[0][0]                \n",
      "                                                                 batch_normalization[0][0]        \n",
      "__________________________________________________________________________________________________\n",
      "block3_sepconv1_act (Activation (None, 74, 74, 128)  0           add[0][0]                        \n",
      "__________________________________________________________________________________________________\n",
      "block3_sepconv1 (SeparableConv2 (None, 74, 74, 256)  33920       block3_sepconv1_act[0][0]        \n",
      "__________________________________________________________________________________________________\n",
      "block3_sepconv1_bn (BatchNormal (None, 74, 74, 256)  1024        block3_sepconv1[0][0]            \n",
      "__________________________________________________________________________________________________\n",
      "block3_sepconv2_act (Activation (None, 74, 74, 256)  0           block3_sepconv1_bn[0][0]         \n",
      "__________________________________________________________________________________________________\n",
      "block3_sepconv2 (SeparableConv2 (None, 74, 74, 256)  67840       block3_sepconv2_act[0][0]        \n",
      "__________________________________________________________________________________________________\n",
      "block3_sepconv2_bn (BatchNormal (None, 74, 74, 256)  1024        block3_sepconv2[0][0]            \n",
      "__________________________________________________________________________________________________\n",
      "conv2d_1 (Conv2D)               (None, 37, 37, 256)  32768       add[0][0]                        \n",
      "__________________________________________________________________________________________________\n",
      "block3_pool (MaxPooling2D)      (None, 37, 37, 256)  0           block3_sepconv2_bn[0][0]         \n",
      "__________________________________________________________________________________________________\n",
      "batch_normalization_1 (BatchNor (None, 37, 37, 256)  1024        conv2d_1[0][0]                   \n",
      "__________________________________________________________________________________________________\n",
      "add_1 (Add)                     (None, 37, 37, 256)  0           block3_pool[0][0]                \n",
      "                                                                 batch_normalization_1[0][0]      \n",
      "__________________________________________________________________________________________________\n",
      "block4_sepconv1_act (Activation (None, 37, 37, 256)  0           add_1[0][0]                      \n",
      "__________________________________________________________________________________________________\n",
      "block4_sepconv1 (SeparableConv2 (None, 37, 37, 728)  188672      block4_sepconv1_act[0][0]        \n",
      "__________________________________________________________________________________________________\n",
      "block4_sepconv1_bn (BatchNormal (None, 37, 37, 728)  2912        block4_sepconv1[0][0]            \n",
      "__________________________________________________________________________________________________\n",
      "block4_sepconv2_act (Activation (None, 37, 37, 728)  0           block4_sepconv1_bn[0][0]         \n",
      "__________________________________________________________________________________________________\n",
      "block4_sepconv2 (SeparableConv2 (None, 37, 37, 728)  536536      block4_sepconv2_act[0][0]        \n",
      "__________________________________________________________________________________________________\n",
      "block4_sepconv2_bn (BatchNormal (None, 37, 37, 728)  2912        block4_sepconv2[0][0]            \n",
      "__________________________________________________________________________________________________\n",
      "conv2d_2 (Conv2D)               (None, 19, 19, 728)  186368      add_1[0][0]                      \n",
      "__________________________________________________________________________________________________\n",
      "block4_pool (MaxPooling2D)      (None, 19, 19, 728)  0           block4_sepconv2_bn[0][0]         \n",
      "__________________________________________________________________________________________________\n",
      "batch_normalization_2 (BatchNor (None, 19, 19, 728)  2912        conv2d_2[0][0]                   \n",
      "__________________________________________________________________________________________________\n",
      "add_2 (Add)                     (None, 19, 19, 728)  0           block4_pool[0][0]                \n",
      "                                                                 batch_normalization_2[0][0]      \n",
      "__________________________________________________________________________________________________\n",
      "block5_sepconv1_act (Activation (None, 19, 19, 728)  0           add_2[0][0]                      \n",
      "__________________________________________________________________________________________________\n",
      "block5_sepconv1 (SeparableConv2 (None, 19, 19, 728)  536536      block5_sepconv1_act[0][0]        \n",
      "__________________________________________________________________________________________________\n",
      "block5_sepconv1_bn (BatchNormal (None, 19, 19, 728)  2912        block5_sepconv1[0][0]            \n",
      "__________________________________________________________________________________________________\n",
      "block5_sepconv2_act (Activation (None, 19, 19, 728)  0           block5_sepconv1_bn[0][0]         \n",
      "__________________________________________________________________________________________________\n",
      "block5_sepconv2 (SeparableConv2 (None, 19, 19, 728)  536536      block5_sepconv2_act[0][0]        \n",
      "__________________________________________________________________________________________________\n",
      "block5_sepconv2_bn (BatchNormal (None, 19, 19, 728)  2912        block5_sepconv2[0][0]            \n",
      "__________________________________________________________________________________________________\n",
      "block5_sepconv3_act (Activation (None, 19, 19, 728)  0           block5_sepconv2_bn[0][0]         \n",
      "__________________________________________________________________________________________________\n",
      "block5_sepconv3 (SeparableConv2 (None, 19, 19, 728)  536536      block5_sepconv3_act[0][0]        \n",
      "__________________________________________________________________________________________________\n",
      "block5_sepconv3_bn (BatchNormal (None, 19, 19, 728)  2912        block5_sepconv3[0][0]            \n",
      "__________________________________________________________________________________________________\n",
      "add_3 (Add)                     (None, 19, 19, 728)  0           block5_sepconv3_bn[0][0]         \n",
      "                                                                 add_2[0][0]                      \n",
      "__________________________________________________________________________________________________\n",
      "block6_sepconv1_act (Activation (None, 19, 19, 728)  0           add_3[0][0]                      \n",
      "__________________________________________________________________________________________________\n",
      "block6_sepconv1 (SeparableConv2 (None, 19, 19, 728)  536536      block6_sepconv1_act[0][0]        \n",
      "__________________________________________________________________________________________________\n",
      "block6_sepconv1_bn (BatchNormal (None, 19, 19, 728)  2912        block6_sepconv1[0][0]            \n",
      "__________________________________________________________________________________________________\n",
      "block6_sepconv2_act (Activation (None, 19, 19, 728)  0           block6_sepconv1_bn[0][0]         \n",
      "__________________________________________________________________________________________________\n",
      "block6_sepconv2 (SeparableConv2 (None, 19, 19, 728)  536536      block6_sepconv2_act[0][0]        \n",
      "__________________________________________________________________________________________________\n",
      "block6_sepconv2_bn (BatchNormal (None, 19, 19, 728)  2912        block6_sepconv2[0][0]            \n",
      "__________________________________________________________________________________________________\n",
      "block6_sepconv3_act (Activation (None, 19, 19, 728)  0           block6_sepconv2_bn[0][0]         \n",
      "__________________________________________________________________________________________________\n",
      "block6_sepconv3 (SeparableConv2 (None, 19, 19, 728)  536536      block6_sepconv3_act[0][0]        \n",
      "__________________________________________________________________________________________________\n",
      "block6_sepconv3_bn (BatchNormal (None, 19, 19, 728)  2912        block6_sepconv3[0][0]            \n",
      "__________________________________________________________________________________________________\n",
      "add_4 (Add)                     (None, 19, 19, 728)  0           block6_sepconv3_bn[0][0]         \n",
      "                                                                 add_3[0][0]                      \n",
      "__________________________________________________________________________________________________\n",
      "block7_sepconv1_act (Activation (None, 19, 19, 728)  0           add_4[0][0]                      \n",
      "__________________________________________________________________________________________________\n",
      "block7_sepconv1 (SeparableConv2 (None, 19, 19, 728)  536536      block7_sepconv1_act[0][0]        \n",
      "__________________________________________________________________________________________________\n",
      "block7_sepconv1_bn (BatchNormal (None, 19, 19, 728)  2912        block7_sepconv1[0][0]            \n",
      "__________________________________________________________________________________________________\n",
      "block7_sepconv2_act (Activation (None, 19, 19, 728)  0           block7_sepconv1_bn[0][0]         \n",
      "__________________________________________________________________________________________________\n",
      "block7_sepconv2 (SeparableConv2 (None, 19, 19, 728)  536536      block7_sepconv2_act[0][0]        \n",
      "__________________________________________________________________________________________________\n",
      "block7_sepconv2_bn (BatchNormal (None, 19, 19, 728)  2912        block7_sepconv2[0][0]            \n",
      "__________________________________________________________________________________________________\n",
      "block7_sepconv3_act (Activation (None, 19, 19, 728)  0           block7_sepconv2_bn[0][0]         \n",
      "__________________________________________________________________________________________________\n",
      "block7_sepconv3 (SeparableConv2 (None, 19, 19, 728)  536536      block7_sepconv3_act[0][0]        \n",
      "__________________________________________________________________________________________________\n",
      "block7_sepconv3_bn (BatchNormal (None, 19, 19, 728)  2912        block7_sepconv3[0][0]            \n",
      "__________________________________________________________________________________________________\n",
      "add_5 (Add)                     (None, 19, 19, 728)  0           block7_sepconv3_bn[0][0]         \n",
      "                                                                 add_4[0][0]                      \n",
      "__________________________________________________________________________________________________\n",
      "block8_sepconv1_act (Activation (None, 19, 19, 728)  0           add_5[0][0]                      \n",
      "__________________________________________________________________________________________________\n",
      "block8_sepconv1 (SeparableConv2 (None, 19, 19, 728)  536536      block8_sepconv1_act[0][0]        \n",
      "__________________________________________________________________________________________________\n",
      "block8_sepconv1_bn (BatchNormal (None, 19, 19, 728)  2912        block8_sepconv1[0][0]            \n",
      "__________________________________________________________________________________________________\n",
      "block8_sepconv2_act (Activation (None, 19, 19, 728)  0           block8_sepconv1_bn[0][0]         \n",
      "__________________________________________________________________________________________________\n",
      "block8_sepconv2 (SeparableConv2 (None, 19, 19, 728)  536536      block8_sepconv2_act[0][0]        \n",
      "__________________________________________________________________________________________________\n",
      "block8_sepconv2_bn (BatchNormal (None, 19, 19, 728)  2912        block8_sepconv2[0][0]            \n",
      "__________________________________________________________________________________________________\n",
      "block8_sepconv3_act (Activation (None, 19, 19, 728)  0           block8_sepconv2_bn[0][0]         \n",
      "__________________________________________________________________________________________________\n",
      "block8_sepconv3 (SeparableConv2 (None, 19, 19, 728)  536536      block8_sepconv3_act[0][0]        \n",
      "__________________________________________________________________________________________________\n",
      "block8_sepconv3_bn (BatchNormal (None, 19, 19, 728)  2912        block8_sepconv3[0][0]            \n",
      "__________________________________________________________________________________________________\n",
      "add_6 (Add)                     (None, 19, 19, 728)  0           block8_sepconv3_bn[0][0]         \n",
      "                                                                 add_5[0][0]                      \n",
      "__________________________________________________________________________________________________\n",
      "block9_sepconv1_act (Activation (None, 19, 19, 728)  0           add_6[0][0]                      \n",
      "__________________________________________________________________________________________________\n",
      "block9_sepconv1 (SeparableConv2 (None, 19, 19, 728)  536536      block9_sepconv1_act[0][0]        \n",
      "__________________________________________________________________________________________________\n",
      "block9_sepconv1_bn (BatchNormal (None, 19, 19, 728)  2912        block9_sepconv1[0][0]            \n",
      "__________________________________________________________________________________________________\n",
      "block9_sepconv2_act (Activation (None, 19, 19, 728)  0           block9_sepconv1_bn[0][0]         \n",
      "__________________________________________________________________________________________________\n",
      "block9_sepconv2 (SeparableConv2 (None, 19, 19, 728)  536536      block9_sepconv2_act[0][0]        \n",
      "__________________________________________________________________________________________________\n",
      "block9_sepconv2_bn (BatchNormal (None, 19, 19, 728)  2912        block9_sepconv2[0][0]            \n",
      "__________________________________________________________________________________________________\n",
      "block9_sepconv3_act (Activation (None, 19, 19, 728)  0           block9_sepconv2_bn[0][0]         \n",
      "__________________________________________________________________________________________________\n",
      "block9_sepconv3 (SeparableConv2 (None, 19, 19, 728)  536536      block9_sepconv3_act[0][0]        \n",
      "__________________________________________________________________________________________________\n",
      "block9_sepconv3_bn (BatchNormal (None, 19, 19, 728)  2912        block9_sepconv3[0][0]            \n",
      "__________________________________________________________________________________________________\n",
      "add_7 (Add)                     (None, 19, 19, 728)  0           block9_sepconv3_bn[0][0]         \n",
      "                                                                 add_6[0][0]                      \n",
      "__________________________________________________________________________________________________\n",
      "block10_sepconv1_act (Activatio (None, 19, 19, 728)  0           add_7[0][0]                      \n",
      "__________________________________________________________________________________________________\n",
      "block10_sepconv1 (SeparableConv (None, 19, 19, 728)  536536      block10_sepconv1_act[0][0]       \n",
      "__________________________________________________________________________________________________\n",
      "block10_sepconv1_bn (BatchNorma (None, 19, 19, 728)  2912        block10_sepconv1[0][0]           \n",
      "__________________________________________________________________________________________________\n",
      "block10_sepconv2_act (Activatio (None, 19, 19, 728)  0           block10_sepconv1_bn[0][0]        \n",
      "__________________________________________________________________________________________________\n",
      "block10_sepconv2 (SeparableConv (None, 19, 19, 728)  536536      block10_sepconv2_act[0][0]       \n",
      "__________________________________________________________________________________________________\n",
      "block10_sepconv2_bn (BatchNorma (None, 19, 19, 728)  2912        block10_sepconv2[0][0]           \n",
      "__________________________________________________________________________________________________\n",
      "block10_sepconv3_act (Activatio (None, 19, 19, 728)  0           block10_sepconv2_bn[0][0]        \n",
      "__________________________________________________________________________________________________\n",
      "block10_sepconv3 (SeparableConv (None, 19, 19, 728)  536536      block10_sepconv3_act[0][0]       \n",
      "__________________________________________________________________________________________________\n",
      "block10_sepconv3_bn (BatchNorma (None, 19, 19, 728)  2912        block10_sepconv3[0][0]           \n",
      "__________________________________________________________________________________________________\n",
      "add_8 (Add)                     (None, 19, 19, 728)  0           block10_sepconv3_bn[0][0]        \n",
      "                                                                 add_7[0][0]                      \n",
      "__________________________________________________________________________________________________\n",
      "block11_sepconv1_act (Activatio (None, 19, 19, 728)  0           add_8[0][0]                      \n",
      "__________________________________________________________________________________________________\n",
      "block11_sepconv1 (SeparableConv (None, 19, 19, 728)  536536      block11_sepconv1_act[0][0]       \n",
      "__________________________________________________________________________________________________\n",
      "block11_sepconv1_bn (BatchNorma (None, 19, 19, 728)  2912        block11_sepconv1[0][0]           \n",
      "__________________________________________________________________________________________________\n",
      "block11_sepconv2_act (Activatio (None, 19, 19, 728)  0           block11_sepconv1_bn[0][0]        \n",
      "__________________________________________________________________________________________________\n",
      "block11_sepconv2 (SeparableConv (None, 19, 19, 728)  536536      block11_sepconv2_act[0][0]       \n",
      "__________________________________________________________________________________________________\n",
      "block11_sepconv2_bn (BatchNorma (None, 19, 19, 728)  2912        block11_sepconv2[0][0]           \n",
      "__________________________________________________________________________________________________\n",
      "block11_sepconv3_act (Activatio (None, 19, 19, 728)  0           block11_sepconv2_bn[0][0]        \n",
      "__________________________________________________________________________________________________\n",
      "block11_sepconv3 (SeparableConv (None, 19, 19, 728)  536536      block11_sepconv3_act[0][0]       \n",
      "__________________________________________________________________________________________________\n",
      "block11_sepconv3_bn (BatchNorma (None, 19, 19, 728)  2912        block11_sepconv3[0][0]           \n",
      "__________________________________________________________________________________________________\n",
      "add_9 (Add)                     (None, 19, 19, 728)  0           block11_sepconv3_bn[0][0]        \n",
      "                                                                 add_8[0][0]                      \n",
      "__________________________________________________________________________________________________\n",
      "block12_sepconv1_act (Activatio (None, 19, 19, 728)  0           add_9[0][0]                      \n",
      "__________________________________________________________________________________________________\n",
      "block12_sepconv1 (SeparableConv (None, 19, 19, 728)  536536      block12_sepconv1_act[0][0]       \n",
      "__________________________________________________________________________________________________\n",
      "block12_sepconv1_bn (BatchNorma (None, 19, 19, 728)  2912        block12_sepconv1[0][0]           \n",
      "__________________________________________________________________________________________________\n",
      "block12_sepconv2_act (Activatio (None, 19, 19, 728)  0           block12_sepconv1_bn[0][0]        \n",
      "__________________________________________________________________________________________________\n",
      "block12_sepconv2 (SeparableConv (None, 19, 19, 728)  536536      block12_sepconv2_act[0][0]       \n",
      "__________________________________________________________________________________________________\n",
      "block12_sepconv2_bn (BatchNorma (None, 19, 19, 728)  2912        block12_sepconv2[0][0]           \n",
      "__________________________________________________________________________________________________\n",
      "block12_sepconv3_act (Activatio (None, 19, 19, 728)  0           block12_sepconv2_bn[0][0]        \n",
      "__________________________________________________________________________________________________\n",
      "block12_sepconv3 (SeparableConv (None, 19, 19, 728)  536536      block12_sepconv3_act[0][0]       \n",
      "__________________________________________________________________________________________________\n",
      "block12_sepconv3_bn (BatchNorma (None, 19, 19, 728)  2912        block12_sepconv3[0][0]           \n",
      "__________________________________________________________________________________________________\n",
      "add_10 (Add)                    (None, 19, 19, 728)  0           block12_sepconv3_bn[0][0]        \n",
      "                                                                 add_9[0][0]                      \n",
      "__________________________________________________________________________________________________\n",
      "block13_sepconv1_act (Activatio (None, 19, 19, 728)  0           add_10[0][0]                     \n",
      "__________________________________________________________________________________________________\n",
      "block13_sepconv1 (SeparableConv (None, 19, 19, 728)  536536      block13_sepconv1_act[0][0]       \n",
      "__________________________________________________________________________________________________\n",
      "block13_sepconv1_bn (BatchNorma (None, 19, 19, 728)  2912        block13_sepconv1[0][0]           \n",
      "__________________________________________________________________________________________________\n",
      "block13_sepconv2_act (Activatio (None, 19, 19, 728)  0           block13_sepconv1_bn[0][0]        \n",
      "__________________________________________________________________________________________________\n",
      "block13_sepconv2 (SeparableConv (None, 19, 19, 1024) 752024      block13_sepconv2_act[0][0]       \n",
      "__________________________________________________________________________________________________\n",
      "block13_sepconv2_bn (BatchNorma (None, 19, 19, 1024) 4096        block13_sepconv2[0][0]           \n",
      "__________________________________________________________________________________________________\n",
      "conv2d_3 (Conv2D)               (None, 10, 10, 1024) 745472      add_10[0][0]                     \n",
      "__________________________________________________________________________________________________\n",
      "block13_pool (MaxPooling2D)     (None, 10, 10, 1024) 0           block13_sepconv2_bn[0][0]        \n",
      "__________________________________________________________________________________________________\n",
      "batch_normalization_3 (BatchNor (None, 10, 10, 1024) 4096        conv2d_3[0][0]                   \n",
      "__________________________________________________________________________________________________\n",
      "add_11 (Add)                    (None, 10, 10, 1024) 0           block13_pool[0][0]               \n",
      "                                                                 batch_normalization_3[0][0]      \n",
      "__________________________________________________________________________________________________\n",
      "block14_sepconv1 (SeparableConv (None, 10, 10, 1536) 1582080     add_11[0][0]                     \n",
      "__________________________________________________________________________________________________\n",
      "block14_sepconv1_bn (BatchNorma (None, 10, 10, 1536) 6144        block14_sepconv1[0][0]           \n",
      "__________________________________________________________________________________________________\n",
      "block14_sepconv1_act (Activatio (None, 10, 10, 1536) 0           block14_sepconv1_bn[0][0]        \n",
      "__________________________________________________________________________________________________\n",
      "block14_sepconv2 (SeparableConv (None, 10, 10, 2048) 3159552     block14_sepconv1_act[0][0]       \n",
      "__________________________________________________________________________________________________\n",
      "block14_sepconv2_bn (BatchNorma (None, 10, 10, 2048) 8192        block14_sepconv2[0][0]           \n",
      "__________________________________________________________________________________________________\n",
      "block14_sepconv2_act (Activatio (None, 10, 10, 2048) 0           block14_sepconv2_bn[0][0]        \n",
      "__________________________________________________________________________________________________\n",
      "conv2d_4 (Conv2D)               (None, 10, 10, 1024) 18875392    block14_sepconv2_act[0][0]       \n",
      "__________________________________________________________________________________________________\n",
      "batch_normalization_4 (BatchNor (None, 10, 10, 1024) 4096        conv2d_4[0][0]                   \n",
      "__________________________________________________________________________________________________\n",
      "activation (Activation)         (None, 10, 10, 1024) 0           batch_normalization_4[0][0]      \n",
      "__________________________________________________________________________________________________\n",
      "conv2d_5 (Conv2D)               (None, 10, 10, 256)  2359552     activation[0][0]                 \n",
      "__________________________________________________________________________________________________\n",
      "batch_normalization_5 (BatchNor (None, 10, 10, 256)  1024        conv2d_5[0][0]                   \n",
      "__________________________________________________________________________________________________\n",
      "activation_1 (Activation)       (None, 10, 10, 256)  0           batch_normalization_5[0][0]      \n",
      "__________________________________________________________________________________________________\n",
      "conv2d_6 (Conv2D)               (None, 10, 10, 64)   147520      activation_1[0][0]               \n",
      "__________________________________________________________________________________________________\n",
      "batch_normalization_6 (BatchNor (None, 10, 10, 64)   256         conv2d_6[0][0]                   \n",
      "__________________________________________________________________________________________________\n",
      "activation_2 (Activation)       (None, 10, 10, 64)   0           batch_normalization_6[0][0]      \n",
      "__________________________________________________________________________________________________\n",
      "conv2d_7 (Conv2D)               (None, 10, 10, 5)    2885        activation_2[0][0]               \n",
      "__________________________________________________________________________________________________\n",
      "batch_normalization_7 (BatchNor (None, 10, 10, 5)    20          conv2d_7[0][0]                   \n",
      "__________________________________________________________________________________________________\n",
      "activation_3 (Activation)       (None, 10, 10, 5)    0           batch_normalization_7[0][0]      \n",
      "__________________________________________________________________________________________________\n",
      "global_average_pooling2d (Globa (None, 5)            0           activation_3[0][0]               \n",
      "__________________________________________________________________________________________________\n",
      "tf.nn.softmax (TFOpLambda)      (None, 5)            0           global_average_pooling2d[0][0]   \n",
      "==================================================================================================\n",
      "Total params: 42,252,225\n",
      "Trainable params: 42,194,999\n",
      "Non-trainable params: 57,226\n",
      "__________________________________________________________________________________________________\n"
     ]
    }
   ],
   "source": [
    "xception_model.summary()"
   ]
  },
  {
   "cell_type": "code",
   "execution_count": 14,
   "id": "norman-detector",
   "metadata": {
    "execution": {
     "iopub.execute_input": "2021-05-30T18:40:08.391663Z",
     "iopub.status.busy": "2021-05-30T18:40:08.385701Z",
     "iopub.status.idle": "2021-05-30T18:40:08.398432Z",
     "shell.execute_reply": "2021-05-30T18:40:08.397997Z",
     "shell.execute_reply.started": "2021-05-30T09:28:58.465217Z"
    },
    "id": "norman-detector",
    "papermill": {
     "duration": 0.226948,
     "end_time": "2021-05-30T18:40:08.398547",
     "exception": false,
     "start_time": "2021-05-30T18:40:08.171599",
     "status": "completed"
    },
    "tags": []
   },
   "outputs": [],
   "source": [
    "# compile\n",
    "xception_model.compile(optimizer = tf.keras.optimizers.Adam(learning_rate = 0.00001, decay = 0.0001),\n",
    "                 metrics = [\"acc\"],\n",
    "                 loss = tf.keras.losses.sparse_categorical_crossentropy)\n",
    "\n",
    "# callbacks and checkpoints\n",
    "checkpoint_path = \"xception_best.ckpt\"\n",
    "\n",
    "checkpoint_dir = os.path.dirname(checkpoint_path)\n",
    "\n",
    "my_callbacks = [\n",
    "              ModelCheckpoint(\n",
    "                   checkpoint_path,\n",
    "                   monitor = 'val_acc',\n",
    "                   verbose = 1,\n",
    "                   save_weights_only = True,\n",
    "                   save_best_only = True,\n",
    "                   mode = \"max\"\n",
    "                  ),\n",
    "              EarlyStopping(\n",
    "                   monitor = 'val_loss',\n",
    "                   patience = 10,\n",
    "                   verbose = 0\n",
    "                  ),\n",
    "              ReduceLROnPlateau(\n",
    "                   monitor = 'val_loss',\n",
    "                   patience = 10,\n",
    "                   verbose = 1\n",
    "                  )\n",
    "]"
   ]
  },
  {
   "cell_type": "markdown",
   "id": "crucial-administration",
   "metadata": {
    "id": "crucial-administration",
    "papermill": {
     "duration": 0.038495,
     "end_time": "2021-05-30T18:40:08.475329",
     "exception": false,
     "start_time": "2021-05-30T18:40:08.436834",
     "status": "completed"
    },
    "tags": []
   },
   "source": [
    "### Weighting classes\n",
    "As we have unevenly class distibution, we will weight them based on the number of samples\n",
    "\n",
    "### 가중치 클래스\n",
    "우리는 등급 차이가 일정하지 않기 때문에 샘플 수에 따라 무게를 재도록 하겠습니다."
   ]
  },
  {
   "cell_type": "code",
   "execution_count": 15,
   "id": "regional-indie",
   "metadata": {
    "execution": {
     "iopub.execute_input": "2021-05-30T18:40:08.558435Z",
     "iopub.status.busy": "2021-05-30T18:40:08.557616Z",
     "iopub.status.idle": "2021-05-30T18:40:09.060821Z",
     "shell.execute_reply": "2021-05-30T18:40:09.060357Z",
     "shell.execute_reply.started": "2021-05-30T09:30:11.007618Z"
    },
    "id": "regional-indie",
    "papermill": {
     "duration": 0.546357,
     "end_time": "2021-05-30T18:40:09.060960",
     "exception": false,
     "start_time": "2021-05-30T18:40:08.514603",
     "status": "completed"
    },
    "tags": []
   },
   "outputs": [],
   "source": [
    "from sklearn.utils import class_weight\n",
    "\n",
    "class_weights = class_weight.compute_class_weight(\n",
    "    'balanced',\n",
    "    classes = np.unique(df_train_kaggle.label.values),\n",
    "    y = df_train_kaggle.label.values\n",
    "  )\n",
    "\n",
    "class_weights = dict(enumerate(class_weights))"
   ]
  },
  {
   "cell_type": "markdown",
   "id": "square-better",
   "metadata": {
    "id": "square-better",
    "papermill": {
     "duration": 0.037503,
     "end_time": "2021-05-30T18:40:09.136492",
     "exception": false,
     "start_time": "2021-05-30T18:40:09.098989",
     "status": "completed"
    },
    "tags": []
   },
   "source": [
    "# Train\n",
    "Lets roll"
   ]
  },
  {
   "cell_type": "code",
   "execution_count": 16,
   "id": "74860ad1",
   "metadata": {},
   "outputs": [],
   "source": [
    "import os\n",
    "os.environ[\"CUDA_DEVICE_ORDER\"]=\"PCI_BUS_ID\"\n",
    "os.environ[\"CUDA_VISIBLE_DEVICES\"]=\"0\""
   ]
  },
  {
   "cell_type": "code",
   "execution_count": 17,
   "id": "72c672ec",
   "metadata": {},
   "outputs": [
    {
     "name": "stdout",
     "output_type": "stream",
     "text": [
      "[name: \"/device:CPU:0\"\n",
      "device_type: \"CPU\"\n",
      "memory_limit: 268435456\n",
      "locality {\n",
      "}\n",
      "incarnation: 10040044371447569385\n",
      ", name: \"/device:GPU:0\"\n",
      "device_type: \"GPU\"\n",
      "memory_limit: 22727688192\n",
      "locality {\n",
      "  bus_id: 1\n",
      "  links {\n",
      "  }\n",
      "}\n",
      "incarnation: 2442530288669271893\n",
      "physical_device_desc: \"device: 0, name: GeForce RTX 3090, pci bus id: 0000:01:00.0, compute capability: 8.6\"\n",
      "]\n"
     ]
    }
   ],
   "source": [
    "from tensorflow.python.client import device_lib\n",
    "print(device_lib.list_local_devices())"
   ]
  },
  {
   "cell_type": "code",
   "execution_count": 18,
   "id": "5e658b64",
   "metadata": {},
   "outputs": [
    {
     "name": "stdout",
     "output_type": "stream",
     "text": [
      "Requirement already satisfied: pillow in c:\\users\\ngkim\\anaconda3\\envs\\mdl\\lib\\site-packages (8.4.0)\n",
      "Note: you may need to restart the kernel to use updated packages.\n"
     ]
    }
   ],
   "source": [
    "pip install pillow"
   ]
  },
  {
   "cell_type": "code",
   "execution_count": 19,
   "id": "hidden-stephen",
   "metadata": {
    "colab": {
     "base_uri": "https://localhost:8080/"
    },
    "execution": {
     "iopub.execute_input": "2021-05-30T18:40:09.218272Z",
     "iopub.status.busy": "2021-05-30T18:40:09.217728Z",
     "iopub.status.idle": "2021-05-30T20:12:12.156502Z",
     "shell.execute_reply": "2021-05-30T20:12:12.154537Z",
     "shell.execute_reply.started": "2021-05-26T18:49:57.904339Z"
    },
    "id": "hidden-stephen",
    "outputId": "1432984b-6c8d-4523-de45-b163a07ed120",
    "papermill": {
     "duration": 5522.981999,
     "end_time": "2021-05-30T20:12:12.156678",
     "exception": false,
     "start_time": "2021-05-30T18:40:09.174679",
     "status": "completed"
    },
    "tags": []
   },
   "outputs": [
    {
     "name": "stdout",
     "output_type": "stream",
     "text": [
      "Epoch 1/100\n",
      "306/306 [==============================] - 87s 263ms/step - loss: 1.4169 - acc: 0.3085 - val_loss: 1.6665 - val_acc: 0.2336\n",
      "\n",
      "Epoch 00001: val_acc improved from -inf to 0.23365, saving model to xception_best.ckpt\n",
      "Epoch 2/100\n",
      "306/306 [==============================] - 77s 251ms/step - loss: 1.1791 - acc: 0.4711 - val_loss: 1.5648 - val_acc: 0.3546\n",
      "\n",
      "Epoch 00002: val_acc improved from 0.23365 to 0.35462, saving model to xception_best.ckpt\n",
      "Epoch 3/100\n",
      "306/306 [==============================] - 77s 251ms/step - loss: 1.0371 - acc: 0.5635 - val_loss: 1.2211 - val_acc: 0.5756\n",
      "\n",
      "Epoch 00003: val_acc improved from 0.35462 to 0.57563, saving model to xception_best.ckpt\n",
      "Epoch 4/100\n",
      "306/306 [==============================] - 76s 248ms/step - loss: 0.9346 - acc: 0.6283 - val_loss: 1.1797 - val_acc: 0.5962\n",
      "\n",
      "Epoch 00004: val_acc improved from 0.57563 to 0.59619, saving model to xception_best.ckpt\n",
      "Epoch 5/100\n",
      "306/306 [==============================] - 77s 252ms/step - loss: 0.8496 - acc: 0.6998 - val_loss: 1.0637 - val_acc: 0.6829\n",
      "\n",
      "Epoch 00005: val_acc improved from 0.59619 to 0.68293, saving model to xception_best.ckpt\n",
      "Epoch 6/100\n",
      "306/306 [==============================] - 77s 253ms/step - loss: 0.7668 - acc: 0.7626 - val_loss: 1.0005 - val_acc: 0.7353\n",
      "\n",
      "Epoch 00006: val_acc improved from 0.68293 to 0.73531, saving model to xception_best.ckpt\n",
      "Epoch 7/100\n",
      "306/306 [==============================] - 77s 253ms/step - loss: 0.7018 - acc: 0.8124 - val_loss: 0.9865 - val_acc: 0.7522\n",
      "\n",
      "Epoch 00007: val_acc improved from 0.73531 to 0.75217, saving model to xception_best.ckpt\n",
      "Epoch 8/100\n",
      "306/306 [==============================] - 77s 252ms/step - loss: 0.6439 - acc: 0.8534 - val_loss: 0.9444 - val_acc: 0.7787\n",
      "\n",
      "Epoch 00008: val_acc improved from 0.75217 to 0.77874, saving model to xception_best.ckpt\n",
      "Epoch 9/100\n",
      "306/306 [==============================] - 77s 252ms/step - loss: 0.6061 - acc: 0.8881 - val_loss: 0.9071 - val_acc: 0.8077\n",
      "\n",
      "Epoch 00009: val_acc improved from 0.77874 to 0.80774, saving model to xception_best.ckpt\n",
      "Epoch 10/100\n",
      "306/306 [==============================] - 77s 252ms/step - loss: 0.5748 - acc: 0.9069 - val_loss: 0.9128 - val_acc: 0.8141\n",
      "\n",
      "Epoch 00010: val_acc improved from 0.80774 to 0.81413, saving model to xception_best.ckpt\n",
      "Epoch 11/100\n",
      "306/306 [==============================] - 77s 253ms/step - loss: 0.5513 - acc: 0.9248 - val_loss: 0.8965 - val_acc: 0.8203\n",
      "\n",
      "Epoch 00011: val_acc improved from 0.81413 to 0.82026, saving model to xception_best.ckpt\n",
      "Epoch 12/100\n",
      "306/306 [==============================] - 77s 250ms/step - loss: 0.5273 - acc: 0.9418 - val_loss: 0.8564 - val_acc: 0.8546\n",
      "\n",
      "Epoch 00012: val_acc improved from 0.82026 to 0.85462, saving model to xception_best.ckpt\n",
      "Epoch 13/100\n",
      "306/306 [==============================] - 77s 250ms/step - loss: 0.5106 - acc: 0.9541 - val_loss: 0.8571 - val_acc: 0.8459\n",
      "\n",
      "Epoch 00013: val_acc did not improve from 0.85462\n",
      "Epoch 14/100\n",
      "306/306 [==============================] - 77s 251ms/step - loss: 0.4976 - acc: 0.9624 - val_loss: 0.8397 - val_acc: 0.8601\n",
      "\n",
      "Epoch 00014: val_acc improved from 0.85462 to 0.86012, saving model to xception_best.ckpt\n",
      "Epoch 15/100\n",
      "306/306 [==============================] - 77s 252ms/step - loss: 0.4872 - acc: 0.9679 - val_loss: 0.8058 - val_acc: 0.8877\n",
      "\n",
      "Epoch 00015: val_acc improved from 0.86012 to 0.88771, saving model to xception_best.ckpt\n",
      "Epoch 16/100\n",
      "306/306 [==============================] - 77s 250ms/step - loss: 0.4786 - acc: 0.9738 - val_loss: 0.8151 - val_acc: 0.8697\n",
      "\n",
      "Epoch 00016: val_acc did not improve from 0.88771\n",
      "Epoch 17/100\n",
      "306/306 [==============================] - 78s 253ms/step - loss: 0.4742 - acc: 0.9785 - val_loss: 0.7928 - val_acc: 0.8969\n",
      "\n",
      "Epoch 00017: val_acc improved from 0.88771 to 0.89691, saving model to xception_best.ckpt\n",
      "Epoch 18/100\n",
      "306/306 [==============================] - 77s 253ms/step - loss: 0.4612 - acc: 0.9819 - val_loss: 0.7975 - val_acc: 0.8904\n",
      "\n",
      "Epoch 00018: val_acc did not improve from 0.89691\n",
      "Epoch 19/100\n",
      "306/306 [==============================] - 77s 252ms/step - loss: 0.4590 - acc: 0.9826 - val_loss: 0.7775 - val_acc: 0.8963\n",
      "\n",
      "Epoch 00019: val_acc did not improve from 0.89691\n",
      "Epoch 20/100\n",
      "306/306 [==============================] - 77s 252ms/step - loss: 0.4530 - acc: 0.9866 - val_loss: 0.7689 - val_acc: 0.9028\n",
      "\n",
      "Epoch 00020: val_acc improved from 0.89691 to 0.90278, saving model to xception_best.ckpt\n",
      "Epoch 21/100\n",
      "306/306 [==============================] - 76s 249ms/step - loss: 0.4467 - acc: 0.9890 - val_loss: 0.7720 - val_acc: 0.8945\n",
      "\n",
      "Epoch 00021: val_acc did not improve from 0.90278\n",
      "Epoch 22/100\n",
      "306/306 [==============================] - 76s 250ms/step - loss: 0.4426 - acc: 0.9880 - val_loss: 0.7709 - val_acc: 0.8915\n",
      "\n",
      "Epoch 00022: val_acc did not improve from 0.90278\n",
      "Epoch 23/100\n",
      "306/306 [==============================] - 78s 254ms/step - loss: 0.4390 - acc: 0.9911 - val_loss: 0.7510 - val_acc: 0.9111\n",
      "\n",
      "Epoch 00023: val_acc improved from 0.90278 to 0.91109, saving model to xception_best.ckpt\n",
      "Epoch 24/100\n",
      "306/306 [==============================] - 77s 250ms/step - loss: 0.4367 - acc: 0.9902 - val_loss: 0.7381 - val_acc: 0.9193\n",
      "\n",
      "Epoch 00024: val_acc improved from 0.91109 to 0.91926, saving model to xception_best.ckpt\n",
      "Epoch 25/100\n",
      "306/306 [==============================] - 76s 250ms/step - loss: 0.4327 - acc: 0.9919 - val_loss: 0.7395 - val_acc: 0.9125\n",
      "\n",
      "Epoch 00025: val_acc did not improve from 0.91926\n",
      "Epoch 26/100\n",
      "306/306 [==============================] - 77s 251ms/step - loss: 0.4310 - acc: 0.9921 - val_loss: 0.7357 - val_acc: 0.9107\n",
      "\n",
      "Epoch 00026: val_acc did not improve from 0.91926\n",
      "Epoch 27/100\n",
      "306/306 [==============================] - 77s 251ms/step - loss: 0.4232 - acc: 0.9928 - val_loss: 0.7236 - val_acc: 0.9149\n",
      "\n",
      "Epoch 00027: val_acc did not improve from 0.91926\n",
      "Epoch 28/100\n",
      "306/306 [==============================] - 77s 251ms/step - loss: 0.4230 - acc: 0.9932 - val_loss: 0.7136 - val_acc: 0.9175\n",
      "\n",
      "Epoch 00028: val_acc did not improve from 0.91926\n",
      "Epoch 29/100\n",
      "306/306 [==============================] - 79s 258ms/step - loss: 0.4157 - acc: 0.9965 - val_loss: 0.7250 - val_acc: 0.9101\n",
      "\n",
      "Epoch 00029: val_acc did not improve from 0.91926\n",
      "Epoch 30/100\n",
      "306/306 [==============================] - 77s 252ms/step - loss: 0.4178 - acc: 0.9936 - val_loss: 0.7016 - val_acc: 0.9246\n",
      "\n",
      "Epoch 00030: val_acc improved from 0.91926 to 0.92463, saving model to xception_best.ckpt\n",
      "Epoch 31/100\n",
      "306/306 [==============================] - 78s 254ms/step - loss: 0.4163 - acc: 0.9957 - val_loss: 0.6923 - val_acc: 0.9300\n",
      "\n",
      "Epoch 00031: val_acc improved from 0.92463 to 0.92999, saving model to xception_best.ckpt\n",
      "Epoch 32/100\n",
      "306/306 [==============================] - 76s 249ms/step - loss: 0.4136 - acc: 0.9944 - val_loss: 0.6982 - val_acc: 0.9272\n",
      "\n",
      "Epoch 00032: val_acc did not improve from 0.92999\n",
      "Epoch 33/100\n",
      "306/306 [==============================] - 77s 252ms/step - loss: 0.4151 - acc: 0.9953 - val_loss: 0.6847 - val_acc: 0.9267\n",
      "\n",
      "Epoch 00033: val_acc did not improve from 0.92999\n",
      "Epoch 34/100\n",
      "306/306 [==============================] - 77s 253ms/step - loss: 0.4083 - acc: 0.9955 - val_loss: 0.6911 - val_acc: 0.9214\n",
      "\n",
      "Epoch 00034: val_acc did not improve from 0.92999\n",
      "Epoch 35/100\n",
      "306/306 [==============================] - 77s 252ms/step - loss: 0.4092 - acc: 0.9959 - val_loss: 0.6705 - val_acc: 0.9357\n",
      "\n",
      "Epoch 00035: val_acc improved from 0.92999 to 0.93574, saving model to xception_best.ckpt\n",
      "Epoch 36/100\n",
      "306/306 [==============================] - 77s 252ms/step - loss: 0.4056 - acc: 0.9962 - val_loss: 0.6784 - val_acc: 0.9286\n",
      "\n",
      "Epoch 00036: val_acc did not improve from 0.93574\n",
      "Epoch 37/100\n",
      "306/306 [==============================] - 78s 255ms/step - loss: 0.4042 - acc: 0.9967 - val_loss: 0.6853 - val_acc: 0.9217\n",
      "\n",
      "Epoch 00037: val_acc did not improve from 0.93574\n",
      "Epoch 38/100\n",
      "306/306 [==============================] - 77s 252ms/step - loss: 0.4029 - acc: 0.9968 - val_loss: 0.6823 - val_acc: 0.9173\n",
      "\n",
      "Epoch 00038: val_acc did not improve from 0.93574\n",
      "Epoch 39/100\n",
      "306/306 [==============================] - 76s 249ms/step - loss: 0.3975 - acc: 0.9972 - val_loss: 0.6601 - val_acc: 0.9363\n",
      "\n",
      "Epoch 00039: val_acc improved from 0.93574 to 0.93625, saving model to xception_best.ckpt\n"
     ]
    },
    {
     "name": "stdout",
     "output_type": "stream",
     "text": [
      "Epoch 40/100\n",
      "306/306 [==============================] - 77s 250ms/step - loss: 0.3991 - acc: 0.9969 - val_loss: 0.6649 - val_acc: 0.9300\n",
      "\n",
      "Epoch 00040: val_acc did not improve from 0.93625\n",
      "Epoch 41/100\n",
      "306/306 [==============================] - 76s 249ms/step - loss: 0.3954 - acc: 0.9964 - val_loss: 0.6635 - val_acc: 0.9290\n",
      "\n",
      "Epoch 00041: val_acc did not improve from 0.93625\n",
      "Epoch 42/100\n",
      "306/306 [==============================] - 76s 249ms/step - loss: 0.3963 - acc: 0.9961 - val_loss: 0.6763 - val_acc: 0.9153\n",
      "\n",
      "Epoch 00042: val_acc did not improve from 0.93625\n",
      "Epoch 43/100\n",
      "306/306 [==============================] - 77s 252ms/step - loss: 0.3964 - acc: 0.9968 - val_loss: 0.6496 - val_acc: 0.9375\n",
      "\n",
      "Epoch 00043: val_acc improved from 0.93625 to 0.93753, saving model to xception_best.ckpt\n",
      "Epoch 44/100\n",
      "306/306 [==============================] - 77s 252ms/step - loss: 0.3950 - acc: 0.9979 - val_loss: 0.6451 - val_acc: 0.9419\n",
      "\n",
      "Epoch 00044: val_acc improved from 0.93753 to 0.94188, saving model to xception_best.ckpt\n",
      "Epoch 45/100\n",
      "306/306 [==============================] - 76s 249ms/step - loss: 0.3966 - acc: 0.9962 - val_loss: 0.6374 - val_acc: 0.9429\n",
      "\n",
      "Epoch 00045: val_acc improved from 0.94188 to 0.94290, saving model to xception_best.ckpt\n",
      "Epoch 46/100\n",
      "306/306 [==============================] - 77s 252ms/step - loss: 0.3910 - acc: 0.9975 - val_loss: 0.6392 - val_acc: 0.9375\n",
      "\n",
      "Epoch 00046: val_acc did not improve from 0.94290\n",
      "Epoch 47/100\n",
      "306/306 [==============================] - 78s 254ms/step - loss: 0.3925 - acc: 0.9972 - val_loss: 0.6482 - val_acc: 0.9272\n",
      "\n",
      "Epoch 00047: val_acc did not improve from 0.94290\n",
      "Epoch 48/100\n",
      "306/306 [==============================] - 77s 251ms/step - loss: 0.3935 - acc: 0.9962 - val_loss: 0.6235 - val_acc: 0.9439\n",
      "\n",
      "Epoch 00048: val_acc improved from 0.94290 to 0.94392, saving model to xception_best.ckpt\n",
      "Epoch 49/100\n",
      "306/306 [==============================] - 76s 248ms/step - loss: 0.3896 - acc: 0.9967 - val_loss: 0.6274 - val_acc: 0.9382\n",
      "\n",
      "Epoch 00049: val_acc did not improve from 0.94392\n",
      "Epoch 50/100\n",
      "306/306 [==============================] - 77s 253ms/step - loss: 0.3933 - acc: 0.9960 - val_loss: 0.6291 - val_acc: 0.9350\n",
      "\n",
      "Epoch 00050: val_acc did not improve from 0.94392\n",
      "Epoch 51/100\n",
      "306/306 [==============================] - 77s 251ms/step - loss: 0.3857 - acc: 0.9976 - val_loss: 0.6159 - val_acc: 0.9508\n",
      "\n",
      "Epoch 00051: val_acc improved from 0.94392 to 0.95082, saving model to xception_best.ckpt\n",
      "Epoch 52/100\n",
      "306/306 [==============================] - 77s 252ms/step - loss: 0.3894 - acc: 0.9973 - val_loss: 0.6253 - val_acc: 0.9426\n",
      "\n",
      "Epoch 00052: val_acc did not improve from 0.95082\n",
      "Epoch 53/100\n",
      "306/306 [==============================] - 77s 252ms/step - loss: 0.3850 - acc: 0.9974 - val_loss: 0.6270 - val_acc: 0.9351\n",
      "\n",
      "Epoch 00053: val_acc did not improve from 0.95082\n",
      "Epoch 54/100\n",
      "306/306 [==============================] - 78s 254ms/step - loss: 0.3844 - acc: 0.9968 - val_loss: 0.6241 - val_acc: 0.9336\n",
      "\n",
      "Epoch 00054: val_acc did not improve from 0.95082\n",
      "Epoch 55/100\n",
      "306/306 [==============================] - 77s 250ms/step - loss: 0.3834 - acc: 0.9967 - val_loss: 0.6045 - val_acc: 0.9456\n",
      "\n",
      "Epoch 00055: val_acc did not improve from 0.95082\n",
      "Epoch 56/100\n",
      "306/306 [==============================] - 78s 254ms/step - loss: 0.3828 - acc: 0.9972 - val_loss: 0.6073 - val_acc: 0.9460\n",
      "\n",
      "Epoch 00056: val_acc did not improve from 0.95082\n",
      "Epoch 57/100\n",
      "306/306 [==============================] - 77s 251ms/step - loss: 0.3794 - acc: 0.9984 - val_loss: 0.6091 - val_acc: 0.9435\n",
      "\n",
      "Epoch 00057: val_acc did not improve from 0.95082\n",
      "Epoch 58/100\n",
      "306/306 [==============================] - 78s 254ms/step - loss: 0.3749 - acc: 0.9994 - val_loss: 0.6075 - val_acc: 0.9423\n",
      "\n",
      "Epoch 00058: val_acc did not improve from 0.95082\n",
      "Epoch 59/100\n",
      "306/306 [==============================] - 76s 248ms/step - loss: 0.3791 - acc: 0.9981 - val_loss: 0.6175 - val_acc: 0.9337\n",
      "\n",
      "Epoch 00059: val_acc did not improve from 0.95082\n",
      "Epoch 60/100\n",
      "306/306 [==============================] - 77s 252ms/step - loss: 0.3799 - acc: 0.9973 - val_loss: 0.5950 - val_acc: 0.9521\n",
      "\n",
      "Epoch 00060: val_acc improved from 0.95082 to 0.95210, saving model to xception_best.ckpt\n",
      "Epoch 61/100\n",
      "306/306 [==============================] - 77s 250ms/step - loss: 0.3782 - acc: 0.9987 - val_loss: 0.6038 - val_acc: 0.9415\n",
      "\n",
      "Epoch 00061: val_acc did not improve from 0.95210\n",
      "Epoch 62/100\n",
      "306/306 [==============================] - 76s 250ms/step - loss: 0.3789 - acc: 0.9970 - val_loss: 0.6084 - val_acc: 0.9383\n",
      "\n",
      "Epoch 00062: val_acc did not improve from 0.95210\n",
      "Epoch 63/100\n",
      "306/306 [==============================] - 77s 251ms/step - loss: 0.3771 - acc: 0.9979 - val_loss: 0.5971 - val_acc: 0.9443\n",
      "\n",
      "Epoch 00063: val_acc did not improve from 0.95210\n",
      "Epoch 64/100\n",
      "306/306 [==============================] - 78s 255ms/step - loss: 0.3744 - acc: 0.9983 - val_loss: 0.6033 - val_acc: 0.9389\n",
      "\n",
      "Epoch 00064: val_acc did not improve from 0.95210\n",
      "Epoch 65/100\n",
      "306/306 [==============================] - 77s 253ms/step - loss: 0.3734 - acc: 0.9979 - val_loss: 0.5890 - val_acc: 0.9486\n",
      "\n",
      "Epoch 00065: val_acc did not improve from 0.95210\n",
      "Epoch 66/100\n",
      "306/306 [==============================] - 77s 251ms/step - loss: 0.3716 - acc: 0.9976 - val_loss: 0.5854 - val_acc: 0.9483\n",
      "\n",
      "Epoch 00066: val_acc did not improve from 0.95210\n",
      "Epoch 67/100\n",
      "306/306 [==============================] - 76s 250ms/step - loss: 0.3701 - acc: 0.9986 - val_loss: 0.5934 - val_acc: 0.9433\n",
      "\n",
      "Epoch 00067: val_acc did not improve from 0.95210\n",
      "Epoch 68/100\n",
      "306/306 [==============================] - 76s 249ms/step - loss: 0.3722 - acc: 0.9988 - val_loss: 0.5885 - val_acc: 0.9478\n",
      "\n",
      "Epoch 00068: val_acc did not improve from 0.95210\n",
      "Epoch 69/100\n",
      "306/306 [==============================] - 77s 253ms/step - loss: 0.3738 - acc: 0.9981 - val_loss: 0.5811 - val_acc: 0.9469\n",
      "\n",
      "Epoch 00069: val_acc did not improve from 0.95210\n",
      "Epoch 70/100\n",
      "306/306 [==============================] - 77s 252ms/step - loss: 0.3725 - acc: 0.9988 - val_loss: 0.5935 - val_acc: 0.9411\n",
      "\n",
      "Epoch 00070: val_acc did not improve from 0.95210\n",
      "Epoch 71/100\n",
      "306/306 [==============================] - 78s 255ms/step - loss: 0.3672 - acc: 0.9988 - val_loss: 0.5892 - val_acc: 0.9442\n",
      "\n",
      "Epoch 00071: val_acc did not improve from 0.95210\n",
      "Epoch 72/100\n",
      "306/306 [==============================] - 77s 252ms/step - loss: 0.3689 - acc: 0.9983 - val_loss: 0.5863 - val_acc: 0.9447\n",
      "\n",
      "Epoch 00072: val_acc did not improve from 0.95210\n",
      "Epoch 73/100\n",
      "306/306 [==============================] - 78s 255ms/step - loss: 0.3624 - acc: 0.9994 - val_loss: 0.5807 - val_acc: 0.9484\n",
      "\n",
      "Epoch 00073: val_acc did not improve from 0.95210\n",
      "Epoch 74/100\n",
      "306/306 [==============================] - 78s 254ms/step - loss: 0.3678 - acc: 0.9979 - val_loss: 0.5816 - val_acc: 0.9465\n",
      "\n",
      "Epoch 00074: val_acc did not improve from 0.95210\n",
      "Epoch 75/100\n",
      "306/306 [==============================] - 77s 253ms/step - loss: 0.3679 - acc: 0.9987 - val_loss: 0.5745 - val_acc: 0.9492\n",
      "\n",
      "Epoch 00075: val_acc did not improve from 0.95210\n",
      "Epoch 76/100\n",
      "306/306 [==============================] - 78s 254ms/step - loss: 0.3669 - acc: 0.9979 - val_loss: 0.5727 - val_acc: 0.9526\n",
      "\n",
      "Epoch 00076: val_acc improved from 0.95210 to 0.95261, saving model to xception_best.ckpt\n",
      "Epoch 77/100\n",
      "306/306 [==============================] - 76s 248ms/step - loss: 0.3649 - acc: 0.9987 - val_loss: 0.5738 - val_acc: 0.9506\n",
      "\n",
      "Epoch 00077: val_acc did not improve from 0.95261\n",
      "Epoch 78/100\n",
      "306/306 [==============================] - 77s 253ms/step - loss: 0.3675 - acc: 0.9987 - val_loss: 0.5852 - val_acc: 0.9394\n",
      "\n",
      "Epoch 00078: val_acc did not improve from 0.95261\n",
      "Epoch 79/100\n",
      "306/306 [==============================] - 77s 251ms/step - loss: 0.3647 - acc: 0.9972 - val_loss: 0.5657 - val_acc: 0.9525\n",
      "\n",
      "Epoch 00079: val_acc did not improve from 0.95261\n",
      "Epoch 80/100\n",
      "306/306 [==============================] - 79s 259ms/step - loss: 0.3659 - acc: 0.9979 - val_loss: 0.5638 - val_acc: 0.9518\n",
      "\n",
      "Epoch 00080: val_acc did not improve from 0.95261\n",
      "Epoch 81/100\n",
      "306/306 [==============================] - 81s 264ms/step - loss: 0.3642 - acc: 0.9988 - val_loss: 0.5682 - val_acc: 0.9543\n",
      "\n",
      "Epoch 00081: val_acc improved from 0.95261 to 0.95427, saving model to xception_best.ckpt\n"
     ]
    },
    {
     "name": "stdout",
     "output_type": "stream",
     "text": [
      "Epoch 82/100\n",
      "306/306 [==============================] - 81s 265ms/step - loss: 0.3605 - acc: 0.9992 - val_loss: 0.5651 - val_acc: 0.9521\n",
      "\n",
      "Epoch 00082: val_acc did not improve from 0.95427\n",
      "Epoch 83/100\n",
      "306/306 [==============================] - 79s 257ms/step - loss: 0.3601 - acc: 0.9986 - val_loss: 0.5657 - val_acc: 0.9540\n",
      "\n",
      "Epoch 00083: val_acc did not improve from 0.95427\n",
      "Epoch 84/100\n",
      "306/306 [==============================] - 78s 256ms/step - loss: 0.3599 - acc: 0.9987 - val_loss: 0.5881 - val_acc: 0.9419\n",
      "\n",
      "Epoch 00084: val_acc did not improve from 0.95427\n",
      "Epoch 85/100\n",
      "306/306 [==============================] - 80s 261ms/step - loss: 0.3584 - acc: 0.9985 - val_loss: 0.5632 - val_acc: 0.9548\n",
      "\n",
      "Epoch 00085: val_acc improved from 0.95427 to 0.95478, saving model to xception_best.ckpt\n",
      "Epoch 86/100\n",
      "306/306 [==============================] - 79s 258ms/step - loss: 0.3613 - acc: 0.9985 - val_loss: 0.5587 - val_acc: 0.9525\n",
      "\n",
      "Epoch 00086: val_acc did not improve from 0.95478\n",
      "Epoch 87/100\n",
      "306/306 [==============================] - 80s 261ms/step - loss: 0.3607 - acc: 0.9985 - val_loss: 0.5695 - val_acc: 0.9439\n",
      "\n",
      "Epoch 00087: val_acc did not improve from 0.95478\n",
      "Epoch 88/100\n",
      "306/306 [==============================] - 79s 257ms/step - loss: 0.3593 - acc: 0.9986 - val_loss: 0.5543 - val_acc: 0.9553\n",
      "\n",
      "Epoch 00088: val_acc improved from 0.95478 to 0.95529, saving model to xception_best.ckpt\n",
      "Epoch 89/100\n",
      "306/306 [==============================] - 82s 268ms/step - loss: 0.3572 - acc: 0.9988 - val_loss: 0.5528 - val_acc: 0.9599\n",
      "\n",
      "Epoch 00089: val_acc improved from 0.95529 to 0.95989, saving model to xception_best.ckpt\n",
      "Epoch 90/100\n",
      "306/306 [==============================] - 78s 255ms/step - loss: 0.3578 - acc: 0.9984 - val_loss: 0.5566 - val_acc: 0.9577\n",
      "\n",
      "Epoch 00090: val_acc did not improve from 0.95989\n",
      "Epoch 91/100\n",
      "306/306 [==============================] - 80s 260ms/step - loss: 0.3540 - acc: 0.9991 - val_loss: 0.5540 - val_acc: 0.9564\n",
      "\n",
      "Epoch 00091: val_acc did not improve from 0.95989\n",
      "Epoch 92/100\n",
      "306/306 [==============================] - 78s 256ms/step - loss: 0.3571 - acc: 0.9987 - val_loss: 0.5591 - val_acc: 0.9550\n",
      "\n",
      "Epoch 00092: val_acc did not improve from 0.95989\n",
      "Epoch 93/100\n",
      "306/306 [==============================] - 79s 258ms/step - loss: 0.3526 - acc: 0.9994 - val_loss: 0.5470 - val_acc: 0.9573\n",
      "\n",
      "Epoch 00093: val_acc did not improve from 0.95989\n",
      "Epoch 94/100\n",
      "306/306 [==============================] - 79s 257ms/step - loss: 0.3522 - acc: 0.9993 - val_loss: 0.5426 - val_acc: 0.9589\n",
      "\n",
      "Epoch 00094: val_acc did not improve from 0.95989\n",
      "Epoch 95/100\n",
      "306/306 [==============================] - 77s 253ms/step - loss: 0.3557 - acc: 0.9990 - val_loss: 0.5551 - val_acc: 0.9506\n",
      "\n",
      "Epoch 00095: val_acc did not improve from 0.95989\n",
      "Epoch 96/100\n",
      "306/306 [==============================] - 77s 253ms/step - loss: 0.3503 - acc: 0.9991 - val_loss: 0.5465 - val_acc: 0.9605\n",
      "\n",
      "Epoch 00096: val_acc improved from 0.95989 to 0.96053, saving model to xception_best.ckpt\n",
      "Epoch 97/100\n",
      "306/306 [==============================] - 77s 250ms/step - loss: 0.3535 - acc: 0.9989 - val_loss: 0.5424 - val_acc: 0.9592\n",
      "\n",
      "Epoch 00097: val_acc did not improve from 0.96053\n",
      "Epoch 98/100\n",
      "306/306 [==============================] - 77s 251ms/step - loss: 0.3560 - acc: 0.9984 - val_loss: 0.5471 - val_acc: 0.9540\n",
      "\n",
      "Epoch 00098: val_acc did not improve from 0.96053\n",
      "Epoch 99/100\n",
      "306/306 [==============================] - 77s 251ms/step - loss: 0.3521 - acc: 0.9996 - val_loss: 0.5508 - val_acc: 0.9524\n",
      "\n",
      "Epoch 00099: val_acc did not improve from 0.96053\n",
      "Epoch 100/100\n",
      "306/306 [==============================] - 77s 250ms/step - loss: 0.3516 - acc: 0.9989 - val_loss: 0.5459 - val_acc: 0.9532\n",
      "\n",
      "Epoch 00100: val_acc did not improve from 0.96053\n"
     ]
    },
    {
     "data": {
      "text/plain": [
       "<tensorflow.python.training.tracking.util.CheckpointLoadStatus at 0x253e653e988>"
      ]
     },
     "execution_count": 19,
     "metadata": {},
     "output_type": "execute_result"
    }
   ],
   "source": [
    "# train the model\n",
    "xception_model.fit(\n",
    "        train_generator,\n",
    "        epochs = 100,\n",
    "        validation_data = valid_generator,\n",
    "        callbacks = [my_callbacks],\n",
    "        class_weight = class_weights\n",
    "      )\n",
    "\n",
    "# load best saved weights\n",
    "xception_model.load_weights(checkpoint_path)"
   ]
  },
  {
   "cell_type": "markdown",
   "id": "pretty-morris",
   "metadata": {
    "id": "pretty-morris",
    "papermill": {
     "duration": 3.201635,
     "end_time": "2021-05-30T20:12:18.344310",
     "exception": false,
     "start_time": "2021-05-30T20:12:15.142675",
     "status": "completed"
    },
    "tags": []
   },
   "source": [
    "### Observation\n",
    "As we can see train and validation accuracy is pretty close, which proves kaggle and competition data has come from the same distribution and we can freely use it to experiment with.\n",
    "\n",
    "## Retraining last trained model on competition data\n",
    "As we have used competition data as validation set previously, we will use it as train set now (and some part of it as validation set) hoping this additional training would give our model new information to perform better.\n",
    "\n",
    "## 관찰\n",
    "보시다시피 열차와 검증 정확도는 매우 가까우며, 이는 카글과 경쟁 데이터가 동일한 분포에서 나왔다는 것을 증명하며, 이를 실험하는 데 자유롭게 사용할 수 있습니다.\n",
    "\n",
    "## 경기 데이터에 대해 마지막으로 훈련된 모델 재교육\n",
    "이전에 경쟁 데이터를 검증 세트로 사용했으므로, 이제 열차 세트로 사용할 것이며(그리고 그 중 일부는 검증 세트로) 이 추가 교육을 통해 모델이 더 나은 성능을 발휘할 수 있는 새로운 정보를 얻을 수 있기를 바랍니다."
   ]
  },
  {
   "cell_type": "code",
   "execution_count": 20,
   "id": "cloudy-idaho",
   "metadata": {
    "execution": {
     "iopub.execute_input": "2021-05-30T20:12:24.238372Z",
     "iopub.status.busy": "2021-05-30T20:12:24.237660Z",
     "iopub.status.idle": "2021-05-30T20:12:24.305208Z",
     "shell.execute_reply": "2021-05-30T20:12:24.305579Z",
     "shell.execute_reply.started": "2021-05-30T09:30:16.948040Z"
    },
    "id": "cloudy-idaho",
    "papermill": {
     "duration": 3.027306,
     "end_time": "2021-05-30T20:12:24.305720",
     "exception": false,
     "start_time": "2021-05-30T20:12:21.278414",
     "status": "completed"
    },
    "tags": []
   },
   "outputs": [],
   "source": [
    "# train and validation split on competition data\n",
    "from sklearn.model_selection import train_test_split\n",
    "X_train, X_test = train_test_split(\n",
    "    df_val_compi,\n",
    "    test_size = 0.1,\n",
    "    random_state = 42,\n",
    "    stratify = df_val_compi.label\n",
    "  )"
   ]
  },
  {
   "cell_type": "code",
   "execution_count": 21,
   "id": "nervous-crisis",
   "metadata": {
    "colab": {
     "base_uri": "https://localhost:8080/"
    },
    "execution": {
     "iopub.execute_input": "2021-05-30T20:12:30.429807Z",
     "iopub.status.busy": "2021-05-30T20:12:30.429001Z",
     "iopub.status.idle": "2021-05-30T20:12:30.472297Z",
     "shell.execute_reply": "2021-05-30T20:12:30.471634Z",
     "shell.execute_reply.started": "2021-05-30T09:30:18.098841Z"
    },
    "id": "nervous-crisis",
    "outputId": "bf1114cc-1f2d-4777-cef4-bd4eb24d75dd",
    "papermill": {
     "duration": 3.239148,
     "end_time": "2021-05-30T20:12:30.472465",
     "exception": false,
     "start_time": "2021-05-30T20:12:27.233317",
     "status": "completed"
    },
    "tags": []
   },
   "outputs": [
    {
     "name": "stdout",
     "output_type": "stream",
     "text": [
      "Found 7045 validated image filenames.\n"
     ]
    }
   ],
   "source": [
    "train_generator = train_aug.flow_from_dataframe(\n",
    "    dataframe = X_train,\n",
    "    x_col = \"filename\",\n",
    "    y_col = \"label\",\n",
    "    batch_size = 32,\n",
    "    seed = 42,\n",
    "    shuffle = True,\n",
    "    class_mode = \"raw\",\n",
    "    target_size = (224,224)\n",
    "  )"
   ]
  },
  {
   "cell_type": "code",
   "execution_count": 22,
   "id": "instrumental-indie",
   "metadata": {
    "colab": {
     "base_uri": "https://localhost:8080/"
    },
    "execution": {
     "iopub.execute_input": "2021-05-30T20:12:36.309467Z",
     "iopub.status.busy": "2021-05-30T20:12:36.308631Z",
     "iopub.status.idle": "2021-05-30T20:12:36.318017Z",
     "shell.execute_reply": "2021-05-30T20:12:36.317530Z",
     "shell.execute_reply.started": "2021-05-30T09:30:23.206485Z"
    },
    "id": "instrumental-indie",
    "outputId": "dceb0588-b8e8-4658-a8e4-9c7f11fc65a0",
    "papermill": {
     "duration": 2.927421,
     "end_time": "2021-05-30T20:12:36.318129",
     "exception": false,
     "start_time": "2021-05-30T20:12:33.390708",
     "status": "completed"
    },
    "tags": []
   },
   "outputs": [
    {
     "name": "stdout",
     "output_type": "stream",
     "text": [
      "Found 783 validated image filenames.\n"
     ]
    }
   ],
   "source": [
    "valid_generator = valid_aug.flow_from_dataframe( \n",
    "    dataframe = X_test,\n",
    "    x_col = \"filename\",\n",
    "    y_col = \"label\",\n",
    "    batch_size = 32,\n",
    "    seed = 42,\n",
    "    shuffle = True,\n",
    "    class_mode = \"raw\",\n",
    "    target_size = (224,224)\n",
    "  )"
   ]
  },
  {
   "cell_type": "code",
   "execution_count": 23,
   "id": "dedicated-chapel",
   "metadata": {
    "execution": {
     "iopub.execute_input": "2021-05-30T20:12:42.897491Z",
     "iopub.status.busy": "2021-05-30T20:12:42.895853Z",
     "iopub.status.idle": "2021-05-30T20:12:42.898202Z",
     "shell.execute_reply": "2021-05-30T20:12:42.898602Z",
     "shell.execute_reply.started": "2021-05-30T09:30:26.966513Z"
    },
    "id": "dedicated-chapel",
    "papermill": {
     "duration": 3.108025,
     "end_time": "2021-05-30T20:12:42.898739",
     "exception": false,
     "start_time": "2021-05-30T20:12:39.790714",
     "status": "completed"
    },
    "tags": []
   },
   "outputs": [],
   "source": [
    "# number of steps to consider 1 as  epoch\n",
    "STEP_SIZE_TRAIN = train_generator.n//train_generator.batch_size\n",
    "STEP_SIZE_VALID = valid_generator.n//valid_generator.batch_size"
   ]
  },
  {
   "cell_type": "code",
   "execution_count": 24,
   "id": "sized-norfolk",
   "metadata": {
    "colab": {
     "base_uri": "https://localhost:8080/"
    },
    "execution": {
     "iopub.execute_input": "2021-05-30T20:12:48.820785Z",
     "iopub.status.busy": "2021-05-30T20:12:48.819337Z",
     "iopub.status.idle": "2021-05-30T20:25:26.371458Z",
     "shell.execute_reply": "2021-05-30T20:25:26.371941Z",
     "shell.execute_reply.started": "2021-05-30T09:30:36.962285Z"
    },
    "id": "sized-norfolk",
    "outputId": "fc9b987c-a11c-49f1-b98c-d4879cee12f6",
    "papermill": {
     "duration": 760.527609,
     "end_time": "2021-05-30T20:25:26.372105",
     "exception": false,
     "start_time": "2021-05-30T20:12:45.844496",
     "status": "completed"
    },
    "tags": []
   },
   "outputs": [
    {
     "name": "stdout",
     "output_type": "stream",
     "text": [
      "Epoch 1/50\n",
      "220/220 [==============================] - 50s 220ms/step - loss: 0.5516 - acc: 0.9494 - val_loss: 0.4749 - val_acc: 0.9818\n",
      "\n",
      "Epoch 00001: val_acc improved from 0.96053 to 0.98177, saving model to xception_best.ckpt\n",
      "Epoch 2/50\n",
      "220/220 [==============================] - 48s 217ms/step - loss: 0.5193 - acc: 0.9721 - val_loss: 0.4665 - val_acc: 0.9831\n",
      "\n",
      "Epoch 00002: val_acc improved from 0.98177 to 0.98307, saving model to xception_best.ckpt\n",
      "Epoch 3/50\n",
      "220/220 [==============================] - 48s 218ms/step - loss: 0.4948 - acc: 0.9822 - val_loss: 0.4774 - val_acc: 0.9792\n",
      "\n",
      "Epoch 00003: val_acc did not improve from 0.98307\n",
      "Epoch 4/50\n",
      "220/220 [==============================] - 48s 217ms/step - loss: 0.4925 - acc: 0.9857 - val_loss: 0.4718 - val_acc: 0.9831\n",
      "\n",
      "Epoch 00004: val_acc did not improve from 0.98307\n",
      "Epoch 5/50\n",
      "220/220 [==============================] - 48s 217ms/step - loss: 0.4840 - acc: 0.9894 - val_loss: 0.4700 - val_acc: 0.9779\n",
      "\n",
      "Epoch 00005: val_acc did not improve from 0.98307\n",
      "Epoch 6/50\n",
      "220/220 [==============================] - 48s 218ms/step - loss: 0.4855 - acc: 0.9899 - val_loss: 0.4676 - val_acc: 0.9779\n",
      "\n",
      "Epoch 00006: val_acc did not improve from 0.98307\n",
      "Epoch 7/50\n",
      "220/220 [==============================] - 48s 217ms/step - loss: 0.4833 - acc: 0.9910 - val_loss: 0.4671 - val_acc: 0.9831\n",
      "\n",
      "Epoch 00007: val_acc did not improve from 0.98307\n",
      "Epoch 8/50\n",
      "220/220 [==============================] - 48s 218ms/step - loss: 0.4806 - acc: 0.9932 - val_loss: 0.4698 - val_acc: 0.9805\n",
      "\n",
      "Epoch 00008: val_acc did not improve from 0.98307\n",
      "Epoch 9/50\n",
      "220/220 [==============================] - 48s 217ms/step - loss: 0.4820 - acc: 0.9929 - val_loss: 0.4631 - val_acc: 0.9844\n",
      "\n",
      "Epoch 00009: val_acc improved from 0.98307 to 0.98438, saving model to xception_best.ckpt\n",
      "Epoch 10/50\n",
      "220/220 [==============================] - 48s 216ms/step - loss: 0.4741 - acc: 0.9949 - val_loss: 0.4713 - val_acc: 0.9792\n",
      "\n",
      "Epoch 00010: val_acc did not improve from 0.98438\n",
      "Epoch 11/50\n",
      "220/220 [==============================] - 48s 217ms/step - loss: 0.4762 - acc: 0.9927 - val_loss: 0.4704 - val_acc: 0.9831\n",
      "\n",
      "Epoch 00011: val_acc did not improve from 0.98438\n",
      "Epoch 12/50\n",
      "220/220 [==============================] - 48s 217ms/step - loss: 0.4746 - acc: 0.9956 - val_loss: 0.4686 - val_acc: 0.9831\n",
      "\n",
      "Epoch 00012: val_acc did not improve from 0.98438\n",
      "Epoch 13/50\n",
      "220/220 [==============================] - 48s 217ms/step - loss: 0.4759 - acc: 0.9944 - val_loss: 0.4663 - val_acc: 0.9805\n",
      "\n",
      "Epoch 00013: val_acc did not improve from 0.98438\n",
      "Epoch 14/50\n",
      "220/220 [==============================] - 48s 216ms/step - loss: 0.4766 - acc: 0.9940 - val_loss: 0.4666 - val_acc: 0.9844\n",
      "\n",
      "Epoch 00014: val_acc did not improve from 0.98438\n",
      "Epoch 15/50\n",
      "220/220 [==============================] - 48s 216ms/step - loss: 0.4728 - acc: 0.9957 - val_loss: 0.4740 - val_acc: 0.9844\n",
      "\n",
      "Epoch 00015: val_acc did not improve from 0.98438\n",
      "Epoch 16/50\n",
      "220/220 [==============================] - 48s 217ms/step - loss: 0.4697 - acc: 0.9964 - val_loss: 0.4691 - val_acc: 0.9805\n",
      "\n",
      "Epoch 00016: val_acc did not improve from 0.98438\n",
      "Epoch 17/50\n",
      "220/220 [==============================] - 48s 216ms/step - loss: 0.4718 - acc: 0.9940 - val_loss: 0.4680 - val_acc: 0.9844\n",
      "\n",
      "Epoch 00017: val_acc did not improve from 0.98438\n",
      "Epoch 18/50\n",
      "220/220 [==============================] - 48s 216ms/step - loss: 0.4727 - acc: 0.9947 - val_loss: 0.4736 - val_acc: 0.9870\n",
      "\n",
      "Epoch 00018: val_acc improved from 0.98438 to 0.98698, saving model to xception_best.ckpt\n",
      "Epoch 19/50\n",
      "220/220 [==============================] - 48s 216ms/step - loss: 0.4719 - acc: 0.9954 - val_loss: 0.4680 - val_acc: 0.9805\n",
      "\n",
      "Epoch 00019: val_acc did not improve from 0.98698\n",
      "\n",
      "Epoch 00019: ReduceLROnPlateau reducing learning rate to 9.999999747378752e-07.\n"
     ]
    },
    {
     "data": {
      "text/plain": [
       "<keras.callbacks.History at 0x253e6684b48>"
      ]
     },
     "execution_count": 24,
     "metadata": {},
     "output_type": "execute_result"
    }
   ],
   "source": [
    "# kick off training\n",
    "xception_model.fit(\n",
    "        train_generator,\n",
    "        steps_per_epoch = STEP_SIZE_TRAIN,\n",
    "        epochs = 50,\n",
    "        validation_data = valid_generator,\n",
    "        validation_steps = STEP_SIZE_VALID,callbacks = [my_callbacks]\n",
    "      )"
   ]
  },
  {
   "cell_type": "code",
   "execution_count": 25,
   "id": "complete-spelling",
   "metadata": {
    "colab": {
     "base_uri": "https://localhost:8080/"
    },
    "execution": {
     "iopub.execute_input": "2021-05-30T20:25:33.497837Z",
     "iopub.status.busy": "2021-05-30T20:25:33.496999Z",
     "iopub.status.idle": "2021-05-30T20:25:34.695800Z",
     "shell.execute_reply": "2021-05-30T20:25:34.695365Z",
     "shell.execute_reply.started": "2021-05-24T16:41:06.725854Z"
    },
    "id": "complete-spelling",
    "outputId": "10521e37-45bc-43e8-eae3-62b233e07b14",
    "papermill": {
     "duration": 4.566888,
     "end_time": "2021-05-30T20:25:34.695951",
     "exception": false,
     "start_time": "2021-05-30T20:25:30.129063",
     "status": "completed"
    },
    "tags": []
   },
   "outputs": [
    {
     "data": {
      "text/plain": [
       "<tensorflow.python.training.tracking.util.CheckpointLoadStatus at 0x253e6d31848>"
      ]
     },
     "execution_count": 25,
     "metadata": {},
     "output_type": "execute_result"
    }
   ],
   "source": [
    "# load best saved weights\n",
    "xception_model.load_weights(checkpoint_path)"
   ]
  },
  {
   "cell_type": "markdown",
   "id": "intended-cylinder",
   "metadata": {
    "id": "intended-cylinder",
    "papermill": {
     "duration": 3.633537,
     "end_time": "2021-05-30T20:25:41.743104",
     "exception": false,
     "start_time": "2021-05-30T20:25:38.109567",
     "status": "completed"
    },
    "tags": []
   },
   "source": [
    "# Confusion Matrix\n",
    "As our data set is imbalaned, lets see where is our model making mistakes. I encourage to you to take initative for bringing FPs and FNs down.\n",
    "\n",
    "# 혼란 매트릭스\n",
    "데이터 세트가 불균형 상태이므로 모델이 어디에서 실수를 하는지 살펴보자. FP와 FN을 끌어내리는데 솔선수범하길 바랍니다."
   ]
  },
  {
   "cell_type": "code",
   "execution_count": 26,
   "id": "equivalent-album",
   "metadata": {
    "colab": {
     "base_uri": "https://localhost:8080/"
    },
    "execution": {
     "iopub.execute_input": "2021-05-30T20:25:48.625234Z",
     "iopub.status.busy": "2021-05-30T20:25:48.624438Z",
     "iopub.status.idle": "2021-05-30T20:25:48.634216Z",
     "shell.execute_reply": "2021-05-30T20:25:48.633804Z",
     "shell.execute_reply.started": "2021-05-27T05:35:10.161826Z"
    },
    "id": "equivalent-album",
    "outputId": "2ed00c4a-4fd3-4d76-9ce5-6249f0da4489",
    "papermill": {
     "duration": 3.430239,
     "end_time": "2021-05-30T20:25:48.634343",
     "exception": false,
     "start_time": "2021-05-30T20:25:45.204104",
     "status": "completed"
    },
    "tags": []
   },
   "outputs": [
    {
     "name": "stdout",
     "output_type": "stream",
     "text": [
      "Found 783 validated image filenames.\n"
     ]
    }
   ],
   "source": [
    "from sklearn.metrics import precision_recall_curve\n",
    "target_shape = 224\n",
    "BATCH_SIZE = 1\n",
    "\n",
    "# test generator\n",
    "compi_gen = valid_aug.flow_from_dataframe(\n",
    "    dataframe = X_test,\n",
    "    x_col = \"filename\",\n",
    "    class_mode = None,\n",
    "    target_size = (target_shape, target_shape),\n",
    "    shuffle = False,\n",
    "    batch_size = BATCH_SIZE\n",
    "  )"
   ]
  },
  {
   "cell_type": "code",
   "execution_count": 27,
   "id": "preceding-delight",
   "metadata": {
    "colab": {
     "base_uri": "https://localhost:8080/"
    },
    "execution": {
     "iopub.execute_input": "2021-05-30T20:25:56.117007Z",
     "iopub.status.busy": "2021-05-30T20:25:56.116264Z",
     "iopub.status.idle": "2021-05-30T20:26:05.659358Z",
     "shell.execute_reply": "2021-05-30T20:26:05.658569Z",
     "shell.execute_reply.started": "2021-05-27T05:35:17.324361Z"
    },
    "id": "preceding-delight",
    "outputId": "21817dd8-602c-4242-8998-5e3ae34e14e3",
    "papermill": {
     "duration": 12.914933,
     "end_time": "2021-05-30T20:26:05.659489",
     "exception": false,
     "start_time": "2021-05-30T20:25:52.744556",
     "status": "completed"
    },
    "tags": []
   },
   "outputs": [
    {
     "name": "stdout",
     "output_type": "stream",
     "text": [
      "783/783 [==============================] - 5s 6ms/step\n"
     ]
    }
   ],
   "source": [
    "# prediction on train data\n",
    "predicition_compi = xception_model.predict(compi_gen, steps = compi_gen.n/ BATCH_SIZE, verbose= 1)"
   ]
  },
  {
   "cell_type": "code",
   "execution_count": 28,
   "id": "distinguished-midwest",
   "metadata": {
    "colab": {
     "base_uri": "https://localhost:8080/",
     "height": 297
    },
    "execution": {
     "iopub.execute_input": "2021-05-30T20:26:12.667940Z",
     "iopub.status.busy": "2021-05-30T20:26:12.649791Z",
     "iopub.status.idle": "2021-05-30T20:26:13.051891Z",
     "shell.execute_reply": "2021-05-30T20:26:13.051413Z",
     "shell.execute_reply.started": "2021-05-27T05:43:44.837052Z"
    },
    "id": "distinguished-midwest",
    "outputId": "07a44daf-1bcd-454d-aa10-3c479b130443",
    "papermill": {
     "duration": 3.832152,
     "end_time": "2021-05-30T20:26:13.052010",
     "exception": false,
     "start_time": "2021-05-30T20:26:09.219858",
     "status": "completed"
    },
    "tags": []
   },
   "outputs": [
    {
     "data": {
      "text/plain": [
       "<sklearn.metrics._plot.confusion_matrix.ConfusionMatrixDisplay at 0x253e6f01c48>"
      ]
     },
     "execution_count": 28,
     "metadata": {},
     "output_type": "execute_result"
    },
    {
     "data": {
      "image/png": "[encoded data removed]",
      "text/plain": [
       "<Figure size 432x288 with 2 Axes>"
      ]
     },
     "metadata": {
      "needs_background": "light"
     },
     "output_type": "display_data"
    }
   ],
   "source": [
    "from sklearn.metrics import confusion_matrix, ConfusionMatrixDisplay\n",
    "\n",
    "class_prediction_compi = np.argmax(predicition_compi, axis = 1)\n",
    "cm = confusion_matrix(X_test.label, class_prediction_compi, labels = [0, 1, 2, 3, 4])\n",
    "\n",
    "disp = ConfusionMatrixDisplay(\n",
    "    confusion_matrix = cm,\n",
    "    display_labels = [0, 1, 2, 3, 4]\n",
    "  )\n",
    "\n",
    "disp.plot()"
   ]
  },
  {
   "cell_type": "markdown",
   "id": "positive-wilson",
   "metadata": {
    "id": "positive-wilson",
    "papermill": {
     "duration": 3.5306,
     "end_time": "2021-05-30T20:26:20.277590",
     "exception": false,
     "start_time": "2021-05-30T20:26:16.746990",
     "status": "completed"
    },
    "tags": []
   },
   "source": [
    "## Making prediction on test set (to make submission)\n",
    "Finally we save the predictions on disk in CSV format\n",
    "\n",
    "## 시험세트 예측하기 (제출하기)\n",
    "마지막으로 예측 내용을 CSV 형식으로 디스크에 저장합니다."
   ]
  },
  {
   "cell_type": "code",
   "execution_count": 29,
   "id": "constitutional-catholic",
   "metadata": {
    "colab": {
     "base_uri": "https://localhost:8080/"
    },
    "execution": {
     "iopub.execute_input": "2021-05-30T20:26:28.031789Z",
     "iopub.status.busy": "2021-05-30T20:26:28.031111Z",
     "iopub.status.idle": "2021-05-30T20:26:28.058944Z",
     "shell.execute_reply": "2021-05-30T20:26:28.058161Z",
     "shell.execute_reply.started": "2021-05-27T09:08:20.550041Z"
    },
    "id": "constitutional-catholic",
    "outputId": "91b6393c-4cdf-45ff-f39e-2eb2a0d17012",
    "papermill": {
     "duration": 4.034446,
     "end_time": "2021-05-30T20:26:28.059074",
     "exception": false,
     "start_time": "2021-05-30T20:26:24.024628",
     "status": "completed"
    },
    "tags": []
   },
   "outputs": [
    {
     "name": "stdout",
     "output_type": "stream",
     "text": [
      "Found 1958 validated image filenames.\n"
     ]
    }
   ],
   "source": [
    "# read the csv file\n",
    "test = pd.read_csv(compi_root_path + \"Test.csv\")\n",
    "\n",
    "# create test generator\n",
    "test_generator = valid_aug.flow_from_dataframe(\n",
    "    dataframe = test,\n",
    "    directory = compi_root_path + \"test\",\n",
    "    x_col = \"filename\",\n",
    "    y_col = None,\n",
    "    batch_size = 1,\n",
    "    seed = 42,\n",
    "    shuffle = False,\n",
    "    class_mode = None,\n",
    "    target_size = (224,224)\n",
    "  )\n",
    "\n",
    "# number of steps to consider 1 epoch\n",
    "STEP_SIZE_TEST = test_generator.n//test_generator.batch_size"
   ]
  },
  {
   "cell_type": "code",
   "execution_count": 30,
   "id": "blocked-niagara",
   "metadata": {
    "colab": {
     "base_uri": "https://localhost:8080/"
    },
    "execution": {
     "iopub.execute_input": "2021-05-30T20:26:34.994605Z",
     "iopub.status.busy": "2021-05-30T20:26:34.994000Z",
     "iopub.status.idle": "2021-05-30T20:26:56.340759Z",
     "shell.execute_reply": "2021-05-30T20:26:56.341118Z",
     "shell.execute_reply.started": "2021-05-27T05:51:39.116529Z"
    },
    "id": "blocked-niagara",
    "outputId": "e8ed2e21-e61a-40ca-9976-0c87f7f7e9fa",
    "papermill": {
     "duration": 24.791614,
     "end_time": "2021-05-30T20:26:56.341303",
     "exception": false,
     "start_time": "2021-05-30T20:26:31.549689",
     "status": "completed"
    },
    "tags": []
   },
   "outputs": [
    {
     "name": "stdout",
     "output_type": "stream",
     "text": [
      "1958/1958 [==============================] - 12s 6ms/step\n"
     ]
    },
    {
     "data": {
      "text/plain": [
       "0    774\n",
       "2    525\n",
       "1    340\n",
       "3    260\n",
       "4     59\n",
       "Name: label, dtype: int64"
      ]
     },
     "execution_count": 30,
     "metadata": {},
     "output_type": "execute_result"
    }
   ],
   "source": [
    "# make prediction and create dataframe out of it\n",
    "pred = xception_model.predict(test_generator,steps=STEP_SIZE_TEST,verbose=1)\n",
    "df_submit = pd.DataFrame({\"label\":np.argmax(pred, axis= 1)})\n",
    "df_submit[\"label\"].value_counts()"
   ]
  },
  {
   "cell_type": "markdown",
   "id": "still-arthur",
   "metadata": {
    "id": "still-arthur",
    "papermill": {
     "duration": 3.549425,
     "end_time": "2021-05-30T20:27:04.148458",
     "exception": false,
     "start_time": "2021-05-30T20:27:00.599033",
     "status": "completed"
    },
    "tags": []
   },
   "source": [
    "### Clearing the working directory\n",
    "Because if don't, \"output\" tabl will show only images\n",
    "\n",
    "### 작업 디렉토리 지우기\n",
    "그렇지 않으면 \"출력\" 탭이 이미지만 표시되기 때문입니다."
   ]
  },
  {
   "cell_type": "code",
   "execution_count": 31,
   "id": "decimal-hampshire",
   "metadata": {
    "colab": {
     "base_uri": "https://localhost:8080/"
    },
    "execution": {
     "iopub.execute_input": "2021-05-30T20:27:11.522864Z",
     "iopub.status.busy": "2021-05-30T20:27:11.522085Z",
     "iopub.status.idle": "2021-05-30T20:27:11.842332Z",
     "shell.execute_reply": "2021-05-30T20:27:11.842916Z",
     "shell.execute_reply.started": "2021-05-27T05:51:43.875589Z"
    },
    "id": "decimal-hampshire",
    "outputId": "bba496cf-d002-4106-cb8c-29be6b8078d2",
    "papermill": {
     "duration": 4.080149,
     "end_time": "2021-05-30T20:27:11.843118",
     "exception": false,
     "start_time": "2021-05-30T20:27:07.762969",
     "status": "completed"
    },
    "tags": []
   },
   "outputs": [
    {
     "name": "stdout",
     "output_type": "stream",
     "text": [
      "Error: /kaggle/working - 지정된 경로를 찾을 수 없습니다.\n"
     ]
    }
   ],
   "source": [
    "import sys\n",
    "import shutil\n",
    "\n",
    "# Get directory name\n",
    "mydir = \"/kaggle/working\"\n",
    "\n",
    "try:\n",
    "    shutil.rmtree(mydir)\n",
    "except OSError as e:\n",
    "    print(\"Error: %s - %s.\" % (e.filename, e.strerror))"
   ]
  },
  {
   "cell_type": "markdown",
   "id": "portable-yacht",
   "metadata": {
    "id": "portable-yacht",
    "papermill": {
     "duration": 3.504245,
     "end_time": "2021-05-30T20:27:18.913681",
     "exception": false,
     "start_time": "2021-05-30T20:27:15.409436",
     "status": "completed"
    },
    "tags": []
   },
   "source": [
    "### Save best weights and output prediction file\n",
    "\n",
    "### 최적의 가중치 및 출력 예측 파일 저장"
   ]
  },
  {
   "cell_type": "code",
   "execution_count": 32,
   "id": "liquid-tsunami",
   "metadata": {
    "execution": {
     "iopub.execute_input": "2021-05-30T20:27:26.290338Z",
     "iopub.status.busy": "2021-05-30T20:27:26.289493Z",
     "iopub.status.idle": "2021-05-30T20:27:26.809425Z",
     "shell.execute_reply": "2021-05-30T20:27:26.808879Z",
     "shell.execute_reply.started": "2021-05-27T05:51:46.57395Z"
    },
    "id": "liquid-tsunami",
    "papermill": {
     "duration": 4.073647,
     "end_time": "2021-05-30T20:27:26.809566",
     "exception": false,
     "start_time": "2021-05-30T20:27:22.735919",
     "status": "completed"
    },
    "tags": []
   },
   "outputs": [],
   "source": [
    "xception_model.save_weights(\"knee_xray_Xceptionnet_GPA.h5\")\n",
    "df_submit.to_csv(\"submission.csv\",index = False)"
   ]
  },
  {
   "cell_type": "markdown",
   "id": "sustainable-baptist",
   "metadata": {
    "id": "sustainable-baptist",
    "papermill": {
     "duration": 3.563445,
     "end_time": "2021-05-30T20:27:34.549379",
     "exception": false,
     "start_time": "2021-05-30T20:27:30.985934",
     "status": "completed"
    },
    "tags": []
   },
   "source": [
    "The submission results in 96.8% on public leaderboard.\n",
    "\n",
    "**Suggestion to improve the score**\n",
    "* Using right data augmentations\n",
    "* Using different model architecture\n",
    "* Ensembling and stacking\n",
    "* Using pretrained model trained on xray images\n",
    "\n",
    "제출 결과 공개 리더보드에서 96.8%의 결과가 나왔습니다.\n",
    "\n",
    "**점수 향상을 위한 제안*\n",
    "* 올바른 데이터 확대 사용\n",
    "* 다른 모델 아키텍처 사용\n",
    "* 조립 및 쌓기\n",
    "* X선 영상에 대해 사전 훈련된 모델 사용"
   ]
  }
 ],
 "metadata": {
  "accelerator": "GPU",
  "colab": {
   "collapsed_sections": [],
   "include_colab_link": true,
   "machine_shape": "hm",
   "name": "KLGrade-DenseNet121-91.83.ipynb",
   "provenance": []
  },
  "kernelspec": {
   "display_name": "Python 3 (ipykernel)",
   "language": "python",
   "name": "python3"
  },
  "language_info": {
   "codemirror_mode": {
    "name": "ipython",
    "version": 3
   },
   "file_extension": ".py",
   "mimetype": "text/x-python",
   "name": "python",
   "nbconvert_exporter": "python",
   "pygments_lexer": "ipython3",
   "version": "3.7.11"
  },
  "papermill": {
   "default_parameters": {},
   "duration": 6499.620651,
   "end_time": "2021-05-30T20:27:40.898205",
   "environment_variables": {},
   "exception": null,
   "input_path": "__notebook__.ipynb",
   "output_path": "__notebook__.ipynb",
   "parameters": {},
   "start_time": "2021-05-30T18:39:21.277554",
   "version": "2.3.3"
  }
 },
 "nbformat": 4,
 "nbformat_minor": 5
}
