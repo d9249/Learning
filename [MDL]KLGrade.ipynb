{
  "nbformat": 4,
  "nbformat_minor": 5,
  "metadata": {
    "kernelspec": {
      "display_name": "Python 3",
      "language": "python",
      "name": "python3"
    },
    "language_info": {
      "codemirror_mode": {
        "name": "ipython",
        "version": 3
      },
      "file_extension": ".py",
      "mimetype": "text/x-python",
      "name": "python",
      "nbconvert_exporter": "python",
      "pygments_lexer": "ipython3",
      "version": "3.7.10"
    },
    "papermill": {
      "default_parameters": {},
      "duration": 6499.620651,
      "end_time": "2021-05-30T20:27:40.898205",
      "environment_variables": {},
      "exception": null,
      "input_path": "__notebook__.ipynb",
      "output_path": "__notebook__.ipynb",
      "parameters": {},
      "start_time": "2021-05-30T18:39:21.277554",
      "version": "2.3.3"
    },
    "colab": {
      "name": "[MDL]KLGrade.ipynb",
      "provenance": [],
      "collapsed_sections": [
        "million-monaco",
        "rotary-prague",
        "hairy-greene",
        "dense-enzyme",
        "asian-chest",
        "marked-belarus",
        "pretty-morris",
        "intended-cylinder"
      ],
      "machine_shape": "hm",
      "include_colab_link": true
    },
    "accelerator": "GPU"
  },
  "cells": [
    {
      "cell_type": "markdown",
      "metadata": {
        "id": "view-in-github",
        "colab_type": "text"
      },
      "source": [
        "<a href=\"https://colab.research.google.com/github/d9249/Medical-Deep-Learning/blob/main/%5BMDL%5DKLGrade.ipynb\" target=\"_parent\"><img src=\"https://colab.research.google.com/assets/colab-badge.svg\" alt=\"Open In Colab\"/></a>"
      ]
    },
    {
      "cell_type": "code",
      "metadata": {
        "colab": {
          "base_uri": "https://localhost:8080/"
        },
        "id": "ts26D3gLnyLd",
        "outputId": "cb1a0caa-c636-4e9b-ed3d-5ca4a9a576c2"
      },
      "source": [
        "!nvidia-smi"
      ],
      "id": "ts26D3gLnyLd",
      "execution_count": 19,
      "outputs": [
        {
          "output_type": "stream",
          "name": "stdout",
          "text": [
            "Sun Oct 24 18:47:09 2021       \n",
            "+-----------------------------------------------------------------------------+\n",
            "| NVIDIA-SMI 470.74       Driver Version: 460.32.03    CUDA Version: 11.2     |\n",
            "|-------------------------------+----------------------+----------------------+\n",
            "| GPU  Name        Persistence-M| Bus-Id        Disp.A | Volatile Uncorr. ECC |\n",
            "| Fan  Temp  Perf  Pwr:Usage/Cap|         Memory-Usage | GPU-Util  Compute M. |\n",
            "|                               |                      |               MIG M. |\n",
            "|===============================+======================+======================|\n",
            "|   0  Tesla P100-PCIE...  Off  | 00000000:00:04.0 Off |                    0 |\n",
            "| N/A   44C    P0    28W / 250W |      0MiB / 16280MiB |      0%      Default |\n",
            "|                               |                      |                  N/A |\n",
            "+-------------------------------+----------------------+----------------------+\n",
            "                                                                               \n",
            "+-----------------------------------------------------------------------------+\n",
            "| Processes:                                                                  |\n",
            "|  GPU   GI   CI        PID   Type   Process name                  GPU Memory |\n",
            "|        ID   ID                                                   Usage      |\n",
            "|=============================================================================|\n",
            "|  No running processes found                                                 |\n",
            "+-----------------------------------------------------------------------------+\n"
          ]
        }
      ]
    },
    {
      "cell_type": "code",
      "metadata": {
        "colab": {
          "base_uri": "https://localhost:8080/"
        },
        "id": "DvQM0syKoGaw",
        "outputId": "cd919b53-4e3f-4a2d-c2bc-c03626983df5"
      },
      "source": [
        "from google.colab import drive\n",
        "drive.mount('/content/drive')"
      ],
      "id": "DvQM0syKoGaw",
      "execution_count": 20,
      "outputs": [
        {
          "output_type": "stream",
          "name": "stdout",
          "text": [
            "Mounted at /content/drive\n"
          ]
        }
      ]
    },
    {
      "cell_type": "markdown",
      "metadata": {
        "id": "decreased-picnic",
        "papermill": {
          "duration": 0.028073,
          "end_time": "2021-05-30T18:39:27.966668",
          "exception": false,
          "start_time": "2021-05-30T18:39:27.938595",
          "status": "completed"
        },
        "tags": []
      },
      "source": [
        "### Short description\n",
        "This notebook is a part of [Data Sprint #35: Osteoarthritis Knee X-ray](https://dphi.tech/challenges/data-sprint-35-osteoarthritis-knee-x-ray/81/leaderboard/datathon/) challenge hosted on [dphi.tech](https://dphi.tech/)"
      ],
      "id": "decreased-picnic"
    },
    {
      "cell_type": "markdown",
      "metadata": {
        "papermill": {
          "duration": 0.026241,
          "end_time": "2021-05-30T18:39:28.019714",
          "exception": false,
          "start_time": "2021-05-30T18:39:27.993473",
          "status": "completed"
        },
        "tags": [],
        "id": "million-monaco"
      },
      "source": [
        "## Importing dependencies"
      ],
      "id": "million-monaco"
    },
    {
      "cell_type": "code",
      "metadata": {
        "execution": {
          "iopub.execute_input": "2021-05-30T18:39:28.086573Z",
          "iopub.status.busy": "2021-05-30T18:39:28.085923Z",
          "iopub.status.idle": "2021-05-30T18:39:32.847126Z",
          "shell.execute_reply": "2021-05-30T18:39:32.846068Z",
          "shell.execute_reply.started": "2021-05-30T09:28:36.967323Z"
        },
        "id": "floating-cincinnati",
        "papermill": {
          "duration": 4.80129,
          "end_time": "2021-05-30T18:39:32.847355",
          "exception": false,
          "start_time": "2021-05-30T18:39:28.046065",
          "status": "completed"
        },
        "tags": []
      },
      "source": [
        "%matplotlib inline\n",
        "import numpy as np \n",
        "import pandas as pd\n",
        "import os\n",
        "from glob import glob\n",
        "import matplotlib.pyplot as plt\n",
        "from keras_preprocessing.image import ImageDataGenerator\n",
        "from tensorflow.keras.applications import Xception\n",
        "from tensorflow.keras.layers import GlobalAveragePooling2D\n",
        "import tensorflow as tf\n",
        "from tensorflow.keras.callbacks import ModelCheckpoint, EarlyStopping, ReduceLROnPlateau\n",
        "from keras.models import Model"
      ],
      "id": "floating-cincinnati",
      "execution_count": 1,
      "outputs": []
    },
    {
      "cell_type": "markdown",
      "metadata": {
        "id": "express-discipline",
        "papermill": {
          "duration": 0.026573,
          "end_time": "2021-05-30T18:39:32.900510",
          "exception": false,
          "start_time": "2021-05-30T18:39:32.873937",
          "status": "completed"
        },
        "tags": []
      },
      "source": [
        "# Basic Idea\n",
        "The Basic idea is to use external data present in kaggle here: [Kaggle: Knee Osteoarthritis Dataset with KL Grading - 2018](https://www.kaggle.com/tommyngx/kneeoa)\n",
        "\n",
        "As we have labels for train, validation and test, we will combine all splits into one and test it on dataset provided by the compitition team, this will make sure kaggle dataset and compitition dataset has same data distribution.\n",
        "\n",
        "If train(kaggle dataset) and test (compition dataset) data has same distribution then their metric score should be roughy be the same (accuracy score in our case)."
      ],
      "id": "express-discipline"
    },
    {
      "cell_type": "markdown",
      "metadata": {
        "papermill": {
          "duration": 0.025647,
          "end_time": "2021-05-30T18:39:32.952047",
          "exception": false,
          "start_time": "2021-05-30T18:39:32.926400",
          "status": "completed"
        },
        "tags": [],
        "id": "rotary-prague"
      },
      "source": [
        "# Read And Combining train dataset (kaggle dataset)"
      ],
      "id": "rotary-prague"
    },
    {
      "cell_type": "code",
      "metadata": {
        "colab": {
          "base_uri": "https://localhost:8080/"
        },
        "id": "zf51Z6-3io9V",
        "outputId": "f5735ce3-228a-4410-e394-a9025774de7b"
      },
      "source": [
        "!pwd"
      ],
      "id": "zf51Z6-3io9V",
      "execution_count": 4,
      "outputs": [
        {
          "output_type": "stream",
          "name": "stdout",
          "text": [
            "/content\n"
          ]
        }
      ]
    },
    {
      "cell_type": "code",
      "metadata": {
        "id": "FJJHQpPrpYcy"
      },
      "source": [
        "!unzip -q -o '/content/drive/MyDrive/archive.zip' -d '/content/grade/'"
      ],
      "id": "FJJHQpPrpYcy",
      "execution_count": 21,
      "outputs": []
    },
    {
      "cell_type": "code",
      "metadata": {
        "execution": {
          "iopub.execute_input": "2021-05-30T18:39:33.012157Z",
          "iopub.status.busy": "2021-05-30T18:39:33.011596Z",
          "iopub.status.idle": "2021-05-30T18:39:35.556063Z",
          "shell.execute_reply": "2021-05-30T18:39:35.555555Z",
          "shell.execute_reply.started": "2021-05-30T09:28:38.947982Z"
        },
        "id": "emotional-valuable",
        "papermill": {
          "duration": 2.57776,
          "end_time": "2021-05-30T18:39:35.556225",
          "exception": false,
          "start_time": "2021-05-30T18:39:32.978465",
          "status": "completed"
        },
        "tags": []
      },
      "source": [
        "# number of class\n",
        "n_class = 5\n",
        "\n",
        "# path to kaggle dataset\n",
        "root_path = \"/content/grade/\"\n",
        "\n",
        "# list of folders\n",
        "folder_list = os.listdir(root_path)\n",
        "image_path_list = []\n",
        "label_list = []\n",
        "\n",
        "# for each folder, get the image path and labels\n",
        "for folder in folder_list:\n",
        "    for label in range(n_class):\n",
        "        \n",
        "        # get all the images path inside the current folder\n",
        "        image_list = os.listdir(f\"{root_path}{folder}/{label}\")\n",
        "        # add to the image path list\n",
        "        image_path_list += [ f\"{root_path}{folder}/{label}/\"+ path for path in image_list]\n",
        "        \n",
        "        # add labels to the label list\n",
        "        label_list += [label] * len(image_list)\n",
        "\n",
        "# convert to dataframe\n",
        "df_train_kaggle = pd.DataFrame({\"filepath\" : image_path_list, \"label\": label_list})"
      ],
      "id": "emotional-valuable",
      "execution_count": 23,
      "outputs": []
    },
    {
      "cell_type": "code",
      "metadata": {
        "execution": {
          "iopub.execute_input": "2021-05-30T18:39:35.618734Z",
          "iopub.status.busy": "2021-05-30T18:39:35.617931Z",
          "iopub.status.idle": "2021-05-30T18:39:35.621117Z",
          "shell.execute_reply": "2021-05-30T18:39:35.621576Z",
          "shell.execute_reply.started": "2021-05-30T09:28:40.244589Z"
        },
        "papermill": {
          "duration": 0.03629,
          "end_time": "2021-05-30T18:39:35.621716",
          "exception": false,
          "start_time": "2021-05-30T18:39:35.585426",
          "status": "completed"
        },
        "tags": [],
        "colab": {
          "base_uri": "https://localhost:8080/"
        },
        "id": "signal-responsibility",
        "outputId": "dfd8ae1d-71d1-424c-e0af-c2e831cd3514"
      },
      "source": [
        "df_train_kaggle.shape"
      ],
      "id": "signal-responsibility",
      "execution_count": 24,
      "outputs": [
        {
          "output_type": "execute_result",
          "data": {
            "text/plain": [
              "(9786, 2)"
            ]
          },
          "metadata": {},
          "execution_count": 24
        }
      ]
    },
    {
      "cell_type": "markdown",
      "metadata": {
        "papermill": {
          "duration": 0.030406,
          "end_time": "2021-05-30T18:39:35.680660",
          "exception": false,
          "start_time": "2021-05-30T18:39:35.650254",
          "status": "completed"
        },
        "tags": [],
        "id": "hairy-greene"
      },
      "source": [
        "### Observation\n",
        "we have total of 9786 images in kaggle dataset. We will use data to train the deep learning model\n",
        "# Lets look at class distribution"
      ],
      "id": "hairy-greene"
    },
    {
      "cell_type": "code",
      "metadata": {
        "execution": {
          "iopub.execute_input": "2021-05-30T18:39:35.750000Z",
          "iopub.status.busy": "2021-05-30T18:39:35.749277Z",
          "iopub.status.idle": "2021-05-30T18:39:35.918362Z",
          "shell.execute_reply": "2021-05-30T18:39:35.918766Z",
          "shell.execute_reply.started": "2021-05-30T09:28:41.597346Z"
        },
        "papermill": {
          "duration": 0.208649,
          "end_time": "2021-05-30T18:39:35.918905",
          "exception": false,
          "start_time": "2021-05-30T18:39:35.710256",
          "status": "completed"
        },
        "tags": [],
        "colab": {
          "base_uri": "https://localhost:8080/",
          "height": 0
        },
        "id": "therapeutic-spending",
        "outputId": "9f2e2be5-47ca-48db-9250-e83add5b2f95"
      },
      "source": [
        "df_train_kaggle.label.value_counts().plot.bar()\n",
        "plt.xlabel(\"label\")\n",
        "plt.ylabel(\"count\")"
      ],
      "id": "therapeutic-spending",
      "execution_count": 25,
      "outputs": [
        {
          "output_type": "execute_result",
          "data": {
            "text/plain": [
              "Text(0, 0.5, 'count')"
            ]
          },
          "metadata": {},
          "execution_count": 25
        },
        {
          "output_type": "display_data",
          "data": {
            "image/png": "[encoded data removed]",
            "text/plain": [
              "<Figure size 432x288 with 1 Axes>"
            ]
          },
          "metadata": {
            "needs_background": "light"
          }
        }
      ]
    },
    {
      "cell_type": "markdown",
      "metadata": {
        "papermill": {
          "duration": 0.027966,
          "end_time": "2021-05-30T18:39:35.973791",
          "exception": false,
          "start_time": "2021-05-30T18:39:35.945825",
          "status": "completed"
        },
        "tags": [],
        "id": "cognitive-calendar"
      },
      "source": [
        "### Observation\n",
        "As our dataset is imbalanced, we will balance our class by weighting majority class less and minoiry class more"
      ],
      "id": "cognitive-calendar"
    },
    {
      "cell_type": "markdown",
      "metadata": {
        "id": "dense-enzyme",
        "papermill": {
          "duration": 0.028255,
          "end_time": "2021-05-30T18:39:36.030250",
          "exception": false,
          "start_time": "2021-05-30T18:39:36.001995",
          "status": "completed"
        },
        "tags": []
      },
      "source": [
        "## DataGenerator train and validation\n",
        "We will use kaggle dataset as train set and compitition dataset as validation set. If train and validation metric is similar, it shows their distribution is similar and hence we can use kaggle dataset as well."
      ],
      "id": "dense-enzyme"
    },
    {
      "cell_type": "code",
      "metadata": {
        "execution": {
          "iopub.execute_input": "2021-05-30T18:39:36.090553Z",
          "iopub.status.busy": "2021-05-30T18:39:36.089729Z",
          "iopub.status.idle": "2021-05-30T18:39:36.092340Z",
          "shell.execute_reply": "2021-05-30T18:39:36.091828Z",
          "shell.execute_reply.started": "2021-05-30T09:28:44.189248Z"
        },
        "id": "encouraging-novel",
        "papermill": {
          "duration": 0.035021,
          "end_time": "2021-05-30T18:39:36.092447",
          "exception": false,
          "start_time": "2021-05-30T18:39:36.057426",
          "status": "completed"
        },
        "tags": []
      },
      "source": [
        "# train data generator object\n",
        "train_aug = ImageDataGenerator(rescale=1./255)\n",
        "\n",
        "# validation data generator object\n",
        "valid_aug = ImageDataGenerator(rescale=1./255)"
      ],
      "id": "encouraging-novel",
      "execution_count": 26,
      "outputs": []
    },
    {
      "cell_type": "code",
      "metadata": {
        "execution": {
          "iopub.execute_input": "2021-05-30T18:39:36.172890Z",
          "iopub.status.busy": "2021-05-30T18:39:36.167698Z",
          "iopub.status.idle": "2021-05-30T18:39:39.954054Z",
          "shell.execute_reply": "2021-05-30T18:39:39.954888Z",
          "shell.execute_reply.started": "2021-05-30T09:28:47.478488Z"
        },
        "id": "geological-philadelphia",
        "papermill": {
          "duration": 3.835127,
          "end_time": "2021-05-30T18:39:39.955083",
          "exception": false,
          "start_time": "2021-05-30T18:39:36.119956",
          "status": "completed"
        },
        "tags": [],
        "colab": {
          "base_uri": "https://localhost:8080/"
        },
        "outputId": "5a67acba-6da1-4b7b-c63c-db74aa3f3ab5"
      },
      "source": [
        "# create train generator\n",
        "train_generator = train_aug.flow_from_dataframe(\n",
        "dataframe=df_train_kaggle,\n",
        "directory=None,\n",
        "x_col=\"filepath\",\n",
        "y_col=\"label\",\n",
        "batch_size=32,\n",
        "seed=42,\n",
        "shuffle=True,\n",
        "class_mode=\"raw\",\n",
        "target_size=(224,224))"
      ],
      "id": "geological-philadelphia",
      "execution_count": 27,
      "outputs": [
        {
          "output_type": "stream",
          "name": "stdout",
          "text": [
            "Found 9786 validated image filenames.\n"
          ]
        }
      ]
    },
    {
      "cell_type": "markdown",
      "metadata": {
        "papermill": {
          "duration": 0.027295,
          "end_time": "2021-05-30T18:39:40.011354",
          "exception": false,
          "start_time": "2021-05-30T18:39:39.984059",
          "status": "completed"
        },
        "tags": [],
        "id": "asian-chest"
      },
      "source": [
        "# Create validation dataframe using compitition dataset.\n",
        "We will download compition dataset from gdrive and use it as validation set to validated against kaggle dataset"
      ],
      "id": "asian-chest"
    },
    {
      "cell_type": "code",
      "metadata": {
        "execution": {
          "iopub.execute_input": "2021-05-30T18:39:40.083024Z",
          "iopub.status.busy": "2021-05-30T18:39:40.070866Z",
          "iopub.status.idle": "2021-05-30T18:39:59.971445Z",
          "shell.execute_reply": "2021-05-30T18:39:59.970929Z",
          "shell.execute_reply.started": "2021-05-30T08:33:03.440635Z"
        },
        "papermill": {
          "duration": 19.932071,
          "end_time": "2021-05-30T18:39:59.971577",
          "exception": false,
          "start_time": "2021-05-30T18:39:40.039506",
          "status": "completed"
        },
        "tags": [],
        "colab": {
          "base_uri": "https://localhost:8080/"
        },
        "id": "opening-there",
        "outputId": "ba4e7c7b-5493-4898-a61e-d17a4ecb2fc9"
      },
      "source": [
        "# download data from shared google drive link\n",
        "!pip install gdown\n",
        "!gdown --id \"1NdDqPK4NLn2aV8ZdF5ilux1sfG6IyebC\""
      ],
      "id": "opening-there",
      "execution_count": 28,
      "outputs": [
        {
          "output_type": "stream",
          "name": "stdout",
          "text": [
            "Requirement already satisfied: gdown in /usr/local/lib/python3.7/dist-packages (3.6.4)\n",
            "Requirement already satisfied: requests in /usr/local/lib/python3.7/dist-packages (from gdown) (2.23.0)\n",
            "Requirement already satisfied: six in /usr/local/lib/python3.7/dist-packages (from gdown) (1.15.0)\n",
            "Requirement already satisfied: tqdm in /usr/local/lib/python3.7/dist-packages (from gdown) (4.62.3)\n",
            "Requirement already satisfied: certifi>=2017.4.17 in /usr/local/lib/python3.7/dist-packages (from requests->gdown) (2021.5.30)\n",
            "Requirement already satisfied: chardet<4,>=3.0.2 in /usr/local/lib/python3.7/dist-packages (from requests->gdown) (3.0.4)\n",
            "Requirement already satisfied: urllib3!=1.25.0,!=1.25.1,<1.26,>=1.21.1 in /usr/local/lib/python3.7/dist-packages (from requests->gdown) (1.24.3)\n",
            "Requirement already satisfied: idna<3,>=2.5 in /usr/local/lib/python3.7/dist-packages (from requests->gdown) (2.10)\n",
            "Downloading...\n",
            "From: https://drive.google.com/uc?id=1NdDqPK4NLn2aV8ZdF5ilux1sfG6IyebC\n",
            "To: /content/KneeXray.zip\n",
            "100% 120M/120M [00:01<00:00, 84.4MB/s] \n"
          ]
        }
      ]
    },
    {
      "cell_type": "code",
      "metadata": {
        "execution": {
          "iopub.execute_input": "2021-05-30T18:40:00.065743Z",
          "iopub.status.busy": "2021-05-30T18:40:00.063845Z",
          "iopub.status.idle": "2021-05-30T18:40:02.157906Z",
          "shell.execute_reply": "2021-05-30T18:40:02.157449Z",
          "shell.execute_reply.started": "2021-05-30T08:33:21.245827Z"
        },
        "papermill": {
          "duration": 2.152312,
          "end_time": "2021-05-30T18:40:02.158032",
          "exception": false,
          "start_time": "2021-05-30T18:40:00.005720",
          "status": "completed"
        },
        "tags": [],
        "id": "controlled-macedonia"
      },
      "source": [
        "# unzip the data\n",
        "!unzip -q -o /content/KneeXray.zip"
      ],
      "id": "controlled-macedonia",
      "execution_count": 29,
      "outputs": []
    },
    {
      "cell_type": "code",
      "metadata": {
        "execution": {
          "iopub.execute_input": "2021-05-30T18:40:02.229132Z",
          "iopub.status.busy": "2021-05-30T18:40:02.228400Z",
          "iopub.status.idle": "2021-05-30T18:40:02.250117Z",
          "shell.execute_reply": "2021-05-30T18:40:02.250642Z",
          "shell.execute_reply.started": "2021-05-30T08:33:23.833280Z"
        },
        "papermill": {
          "duration": 0.059732,
          "end_time": "2021-05-30T18:40:02.250775",
          "exception": false,
          "start_time": "2021-05-30T18:40:02.191043",
          "status": "completed"
        },
        "tags": [],
        "colab": {
          "base_uri": "https://localhost:8080/",
          "height": 0
        },
        "id": "threaded-characterization",
        "outputId": "f6fc6702-0a3d-4689-ce71-a698cbea485e"
      },
      "source": [
        "# read Train.csv file which contains image names and labels and preprocess them\n",
        "compi_root_path= \"/content/KneeXray/\"\n",
        "df_val_compi = pd.read_csv(compi_root_path + \"Train.csv\")\n",
        "\n",
        "# add absolute path to the image names\n",
        "df_val_compi[\"filename\"] = df_val_compi.filename.apply(lambda x: compi_root_path+\"train/\" + x)\n",
        "df_val_compi.head()"
      ],
      "id": "threaded-characterization",
      "execution_count": 30,
      "outputs": [
        {
          "output_type": "execute_result",
          "data": {
            "text/html": [
              "<div>\n",
              "<style scoped>\n",
              "    .dataframe tbody tr th:only-of-type {\n",
              "        vertical-align: middle;\n",
              "    }\n",
              "\n",
              "    .dataframe tbody tr th {\n",
              "        vertical-align: top;\n",
              "    }\n",
              "\n",
              "    .dataframe thead th {\n",
              "        text-align: right;\n",
              "    }\n",
              "</style>\n",
              "<table border=\"1\" class=\"dataframe\">\n",
              "  <thead>\n",
              "    <tr style=\"text-align: right;\">\n",
              "      <th></th>\n",
              "      <th>filename</th>\n",
              "      <th>label</th>\n",
              "    </tr>\n",
              "  </thead>\n",
              "  <tbody>\n",
              "    <tr>\n",
              "      <th>0</th>\n",
              "      <td>/content/KneeXray/train/Image_1.jpg</td>\n",
              "      <td>0</td>\n",
              "    </tr>\n",
              "    <tr>\n",
              "      <th>1</th>\n",
              "      <td>/content/KneeXray/train/Image_2.jpg</td>\n",
              "      <td>1</td>\n",
              "    </tr>\n",
              "    <tr>\n",
              "      <th>2</th>\n",
              "      <td>/content/KneeXray/train/Image_3.jpg</td>\n",
              "      <td>0</td>\n",
              "    </tr>\n",
              "    <tr>\n",
              "      <th>3</th>\n",
              "      <td>/content/KneeXray/train/Image_4.jpg</td>\n",
              "      <td>1</td>\n",
              "    </tr>\n",
              "    <tr>\n",
              "      <th>4</th>\n",
              "      <td>/content/KneeXray/train/Image_5.jpg</td>\n",
              "      <td>2</td>\n",
              "    </tr>\n",
              "  </tbody>\n",
              "</table>\n",
              "</div>"
            ],
            "text/plain": [
              "                              filename  label\n",
              "0  /content/KneeXray/train/Image_1.jpg      0\n",
              "1  /content/KneeXray/train/Image_2.jpg      1\n",
              "2  /content/KneeXray/train/Image_3.jpg      0\n",
              "3  /content/KneeXray/train/Image_4.jpg      1\n",
              "4  /content/KneeXray/train/Image_5.jpg      2"
            ]
          },
          "metadata": {},
          "execution_count": 30
        }
      ]
    },
    {
      "cell_type": "code",
      "metadata": {
        "execution": {
          "iopub.execute_input": "2021-05-30T18:40:02.339459Z",
          "iopub.status.busy": "2021-05-30T18:40:02.324109Z",
          "iopub.status.idle": "2021-05-30T18:40:02.442504Z",
          "shell.execute_reply": "2021-05-30T18:40:02.442056Z",
          "shell.execute_reply.started": "2021-05-30T08:33:23.865039Z"
        },
        "papermill": {
          "duration": 0.158988,
          "end_time": "2021-05-30T18:40:02.442618",
          "exception": false,
          "start_time": "2021-05-30T18:40:02.283630",
          "status": "completed"
        },
        "tags": [],
        "colab": {
          "base_uri": "https://localhost:8080/",
          "height": 0
        },
        "id": "suburban-shareware",
        "outputId": "0daca1fb-c665-4a25-8da7-9250f7756ff1"
      },
      "source": [
        "# class count of compitition dataset\n",
        "df_val_compi.label.value_counts().plot.bar()\n",
        "plt.xlabel(\"label\")\n",
        "plt.ylabel(\"count\")"
      ],
      "id": "suburban-shareware",
      "execution_count": 31,
      "outputs": [
        {
          "output_type": "execute_result",
          "data": {
            "text/plain": [
              "Text(0, 0.5, 'count')"
            ]
          },
          "metadata": {},
          "execution_count": 31
        },
        {
          "output_type": "display_data",
          "data": {
            "image/png": "[encoded data removed]",
            "text/plain": [
              "<Figure size 432x288 with 1 Axes>"
            ]
          },
          "metadata": {
            "needs_background": "light"
          }
        }
      ]
    },
    {
      "cell_type": "code",
      "metadata": {
        "execution": {
          "iopub.execute_input": "2021-05-30T18:40:02.529039Z",
          "iopub.status.busy": "2021-05-30T18:40:02.528305Z",
          "iopub.status.idle": "2021-05-30T18:40:02.574290Z",
          "shell.execute_reply": "2021-05-30T18:40:02.574903Z",
          "shell.execute_reply.started": "2021-05-30T08:54:21.600981Z"
        },
        "id": "saving-homework",
        "papermill": {
          "duration": 0.098388,
          "end_time": "2021-05-30T18:40:02.575081",
          "exception": false,
          "start_time": "2021-05-30T18:40:02.476693",
          "status": "completed"
        },
        "tags": [],
        "colab": {
          "base_uri": "https://localhost:8080/"
        },
        "outputId": "21b896d0-bceb-4621-efb3-33908214d2d6"
      },
      "source": [
        "# create validation generator\n",
        "valid_generator = valid_aug.flow_from_dataframe( \n",
        "dataframe= df_val_compi,\n",
        "x_col= \"filename\",\n",
        "y_col= \"label\",\n",
        "batch_size= 32,\n",
        "seed= 42,\n",
        "shuffle= True,\n",
        "class_mode= \"raw\",\n",
        "target_size= (224,224))"
      ],
      "id": "saving-homework",
      "execution_count": 32,
      "outputs": [
        {
          "output_type": "stream",
          "name": "stdout",
          "text": [
            "Found 7828 validated image filenames.\n"
          ]
        }
      ]
    },
    {
      "cell_type": "markdown",
      "metadata": {
        "id": "marked-belarus",
        "papermill": {
          "duration": 0.033792,
          "end_time": "2021-05-30T18:40:02.643887",
          "exception": false,
          "start_time": "2021-05-30T18:40:02.610095",
          "status": "completed"
        },
        "tags": []
      },
      "source": [
        "### Model Architecture\n",
        "Here we will be using Xception by google. (I encourage you to try different architectures)"
      ],
      "id": "marked-belarus"
    },
    {
      "cell_type": "code",
      "metadata": {
        "execution": {
          "iopub.execute_input": "2021-05-30T18:40:02.724467Z",
          "iopub.status.busy": "2021-05-30T18:40:02.723830Z",
          "iopub.status.idle": "2021-05-30T18:40:08.132744Z",
          "shell.execute_reply": "2021-05-30T18:40:08.131632Z",
          "shell.execute_reply.started": "2021-05-30T09:28:56.068101Z"
        },
        "id": "buried-tablet",
        "papermill": {
          "duration": 5.455093,
          "end_time": "2021-05-30T18:40:08.132878",
          "exception": false,
          "start_time": "2021-05-30T18:40:02.677785",
          "status": "completed"
        },
        "tags": [],
        "colab": {
          "base_uri": "https://localhost:8080/"
        },
        "outputId": "da82c4ac-8660-4b77-94f7-5e1342b4b10e"
      },
      "source": [
        "xception = Xception(weights=\"imagenet\",)\n",
        "x=  xception.layers[-3].output\n",
        "\n",
        "x = tf.keras.layers.Conv2D(filters= 1024, kernel_size= 3, padding= \"same\")(x)\n",
        "x = tf.keras.layers.BatchNormalization()(x)\n",
        "x = tf.keras.layers.Activation(\"relu\")(x)\n",
        "\n",
        "x = tf.keras.layers.Conv2D(filters= 256, kernel_size= 3, padding= \"same\")(x)\n",
        "x = tf.keras.layers.BatchNormalization()(x)\n",
        "x = tf.keras.layers.Activation(\"relu\")(x)\n",
        "\n",
        "x = tf.keras.layers.Conv2D(filters= 64, kernel_size= 3, padding= \"same\")(x)\n",
        "x = tf.keras.layers.BatchNormalization()(x)\n",
        "x = tf.keras.layers.Activation(\"relu\")(x)\n",
        "\n",
        "x = tf.keras.layers.Conv2D(filters= n_class, kernel_size= 3, padding= \"same\")(x)\n",
        "x = tf.keras.layers.BatchNormalization()(x)\n",
        "x = tf.keras.layers.Activation(\"relu\")(x)\n",
        "\n",
        "GAP = tf.keras.layers.GlobalAveragePooling2D()(x)\n",
        "pred = tf.keras.activations.softmax(GAP)\n",
        "\n",
        "xception_model = Model(inputs=xception.input,outputs=pred)"
      ],
      "id": "buried-tablet",
      "execution_count": 33,
      "outputs": [
        {
          "output_type": "stream",
          "name": "stdout",
          "text": [
            "Downloading data from https://storage.googleapis.com/tensorflow/keras-applications/xception/xception_weights_tf_dim_ordering_tf_kernels.h5\n",
            "91889664/91884032 [==============================] - 1s 0us/step\n",
            "91897856/91884032 [==============================] - 1s 0us/step\n"
          ]
        }
      ]
    },
    {
      "cell_type": "code",
      "metadata": {
        "execution": {
          "iopub.execute_input": "2021-05-30T18:40:08.391663Z",
          "iopub.status.busy": "2021-05-30T18:40:08.385701Z",
          "iopub.status.idle": "2021-05-30T18:40:08.398432Z",
          "shell.execute_reply": "2021-05-30T18:40:08.397997Z",
          "shell.execute_reply.started": "2021-05-30T09:28:58.465217Z"
        },
        "id": "norman-detector",
        "papermill": {
          "duration": 0.226948,
          "end_time": "2021-05-30T18:40:08.398547",
          "exception": false,
          "start_time": "2021-05-30T18:40:08.171599",
          "status": "completed"
        },
        "tags": []
      },
      "source": [
        "# compile\n",
        "xception_model.compile(optimizer = tf.keras.optimizers.Adam(learning_rate=0.00001,decay=0.0001),\n",
        "                 metrics=[\"acc\"],\n",
        "                 loss= tf.keras.losses.sparse_categorical_crossentropy)\n",
        "\n",
        "# callbacks and checkpoints\n",
        "checkpoint_path = \"xception_best.ckpt\"\n",
        "checkpoint_dir = os.path.dirname(checkpoint_path)\n",
        "my_callbacks = [\n",
        "               ModelCheckpoint(checkpoint_path,\n",
        "                               monitor = 'val_acc',\n",
        "                               verbose = 1,\n",
        "                               save_weights_only=True,\n",
        "                               save_best_only = True,\n",
        "                               mode=\"max\"),\n",
        "              EarlyStopping(monitor='val_loss',\n",
        "                            patience=5,\n",
        "                            verbose=0),\n",
        "              ReduceLROnPlateau(monitor='val_loss',\n",
        "                                patience=5,\n",
        "                                verbose=1)\n",
        "]"
      ],
      "id": "norman-detector",
      "execution_count": 34,
      "outputs": []
    },
    {
      "cell_type": "markdown",
      "metadata": {
        "id": "crucial-administration",
        "papermill": {
          "duration": 0.038495,
          "end_time": "2021-05-30T18:40:08.475329",
          "exception": false,
          "start_time": "2021-05-30T18:40:08.436834",
          "status": "completed"
        },
        "tags": []
      },
      "source": [
        "### Weighting classes\n",
        "As we have unevenly class distibution, we will weight them based on the number of samples"
      ],
      "id": "crucial-administration"
    },
    {
      "cell_type": "code",
      "metadata": {
        "execution": {
          "iopub.execute_input": "2021-05-30T18:40:08.558435Z",
          "iopub.status.busy": "2021-05-30T18:40:08.557616Z",
          "iopub.status.idle": "2021-05-30T18:40:09.060821Z",
          "shell.execute_reply": "2021-05-30T18:40:09.060357Z",
          "shell.execute_reply.started": "2021-05-30T09:30:11.007618Z"
        },
        "papermill": {
          "duration": 0.546357,
          "end_time": "2021-05-30T18:40:09.060960",
          "exception": false,
          "start_time": "2021-05-30T18:40:08.514603",
          "status": "completed"
        },
        "tags": [],
        "id": "regional-indie"
      },
      "source": [
        "from sklearn.utils import class_weight\n",
        "class_weights = class_weight.compute_class_weight('balanced',\n",
        "                                                 classes= np.unique(df_train_kaggle.label.values),\n",
        "                                                 y= df_train_kaggle.label.values)\n",
        "class_weights = dict(enumerate(class_weights))"
      ],
      "id": "regional-indie",
      "execution_count": 35,
      "outputs": []
    },
    {
      "cell_type": "markdown",
      "metadata": {
        "papermill": {
          "duration": 0.037503,
          "end_time": "2021-05-30T18:40:09.136492",
          "exception": false,
          "start_time": "2021-05-30T18:40:09.098989",
          "status": "completed"
        },
        "tags": [],
        "id": "square-better"
      },
      "source": [
        "# Train\n",
        "Lets roll"
      ],
      "id": "square-better"
    },
    {
      "cell_type": "code",
      "metadata": {
        "execution": {
          "iopub.execute_input": "2021-05-30T18:40:09.218272Z",
          "iopub.status.busy": "2021-05-30T18:40:09.217728Z",
          "iopub.status.idle": "2021-05-30T20:12:12.156502Z",
          "shell.execute_reply": "2021-05-30T20:12:12.154537Z",
          "shell.execute_reply.started": "2021-05-26T18:49:57.904339Z"
        },
        "id": "hidden-stephen",
        "papermill": {
          "duration": 5522.981999,
          "end_time": "2021-05-30T20:12:12.156678",
          "exception": false,
          "start_time": "2021-05-30T18:40:09.174679",
          "status": "completed"
        },
        "tags": [],
        "colab": {
          "base_uri": "https://localhost:8080/"
        },
        "outputId": "e45b2b3b-c166-43eb-962b-f6c613220558"
      },
      "source": [
        "# train the model\n",
        "xception_model.fit(\n",
        "        train_generator,\n",
        "        epochs=100,\n",
        "        validation_data=valid_generator,\n",
        "        callbacks=[my_callbacks],\n",
        "        class_weight=class_weights)\n",
        "\n",
        "# load best saved weights\n",
        "xception_model.load_weights(checkpoint_path)"
      ],
      "id": "hidden-stephen",
      "execution_count": 36,
      "outputs": [
        {
          "output_type": "stream",
          "name": "stdout",
          "text": [
            "Epoch 1/100\n",
            "306/306 [==============================] - 167s 472ms/step - loss: 1.4270 - acc: 0.3176 - val_loss: 1.5503 - val_acc: 0.3222\n",
            "\n",
            "Epoch 00001: val_acc improved from -inf to 0.32218, saving model to xception_best.ckpt\n",
            "Epoch 2/100\n",
            "306/306 [==============================] - 142s 464ms/step - loss: 1.1630 - acc: 0.4889 - val_loss: 1.6120 - val_acc: 0.3448\n",
            "\n",
            "Epoch 00002: val_acc improved from 0.32218 to 0.34479, saving model to xception_best.ckpt\n",
            "Epoch 3/100\n",
            "306/306 [==============================] - 142s 464ms/step - loss: 1.0290 - acc: 0.5647 - val_loss: 1.1905 - val_acc: 0.6018\n",
            "\n",
            "Epoch 00003: val_acc improved from 0.34479 to 0.60181, saving model to xception_best.ckpt\n",
            "Epoch 4/100\n",
            "306/306 [==============================] - 142s 463ms/step - loss: 0.9258 - acc: 0.6354 - val_loss: 1.1181 - val_acc: 0.6546\n",
            "\n",
            "Epoch 00004: val_acc improved from 0.60181 to 0.65457, saving model to xception_best.ckpt\n",
            "Epoch 5/100\n",
            "306/306 [==============================] - 142s 464ms/step - loss: 0.8379 - acc: 0.6999 - val_loss: 1.0396 - val_acc: 0.6972\n",
            "\n",
            "Epoch 00005: val_acc improved from 0.65457 to 0.69724, saving model to xception_best.ckpt\n",
            "Epoch 6/100\n",
            "306/306 [==============================] - 142s 464ms/step - loss: 0.7659 - acc: 0.7579 - val_loss: 1.0020 - val_acc: 0.7242\n",
            "\n",
            "Epoch 00006: val_acc improved from 0.69724 to 0.72420, saving model to xception_best.ckpt\n",
            "Epoch 7/100\n",
            "306/306 [==============================] - 142s 464ms/step - loss: 0.7052 - acc: 0.8049 - val_loss: 0.9941 - val_acc: 0.7405\n",
            "\n",
            "Epoch 00007: val_acc improved from 0.72420 to 0.74055, saving model to xception_best.ckpt\n",
            "Epoch 8/100\n",
            "306/306 [==============================] - 142s 463ms/step - loss: 0.6346 - acc: 0.8587 - val_loss: 0.9233 - val_acc: 0.7970\n",
            "\n",
            "Epoch 00008: val_acc improved from 0.74055 to 0.79701, saving model to xception_best.ckpt\n",
            "Epoch 9/100\n",
            "306/306 [==============================] - 142s 464ms/step - loss: 0.5974 - acc: 0.8863 - val_loss: 0.9215 - val_acc: 0.7925\n",
            "\n",
            "Epoch 00009: val_acc did not improve from 0.79701\n",
            "Epoch 10/100\n",
            "306/306 [==============================] - 142s 463ms/step - loss: 0.5677 - acc: 0.9081 - val_loss: 0.8821 - val_acc: 0.8247\n",
            "\n",
            "Epoch 00010: val_acc improved from 0.79701 to 0.82473, saving model to xception_best.ckpt\n",
            "Epoch 11/100\n",
            "306/306 [==============================] - 142s 464ms/step - loss: 0.5412 - acc: 0.9268 - val_loss: 0.8555 - val_acc: 0.8436\n",
            "\n",
            "Epoch 00011: val_acc improved from 0.82473 to 0.84364, saving model to xception_best.ckpt\n",
            "Epoch 12/100\n",
            "306/306 [==============================] - 142s 464ms/step - loss: 0.5217 - acc: 0.9435 - val_loss: 0.8459 - val_acc: 0.8574\n",
            "\n",
            "Epoch 00012: val_acc improved from 0.84364 to 0.85743, saving model to xception_best.ckpt\n",
            "Epoch 13/100\n",
            "306/306 [==============================] - 142s 463ms/step - loss: 0.5116 - acc: 0.9532 - val_loss: 0.8211 - val_acc: 0.8712\n",
            "\n",
            "Epoch 00013: val_acc improved from 0.85743 to 0.87123, saving model to xception_best.ckpt\n",
            "Epoch 14/100\n",
            "306/306 [==============================] - 142s 464ms/step - loss: 0.4928 - acc: 0.9642 - val_loss: 0.8294 - val_acc: 0.8668\n",
            "\n",
            "Epoch 00014: val_acc did not improve from 0.87123\n",
            "Epoch 15/100\n",
            "306/306 [==============================] - 142s 463ms/step - loss: 0.4854 - acc: 0.9657 - val_loss: 0.8007 - val_acc: 0.8812\n",
            "\n",
            "Epoch 00015: val_acc improved from 0.87123 to 0.88120, saving model to xception_best.ckpt\n",
            "Epoch 16/100\n",
            "306/306 [==============================] - 142s 464ms/step - loss: 0.4742 - acc: 0.9736 - val_loss: 0.8247 - val_acc: 0.8619\n",
            "\n",
            "Epoch 00016: val_acc did not improve from 0.88120\n",
            "Epoch 17/100\n",
            "306/306 [==============================] - 142s 464ms/step - loss: 0.4674 - acc: 0.9785 - val_loss: 0.7942 - val_acc: 0.8908\n",
            "\n",
            "Epoch 00017: val_acc improved from 0.88120 to 0.89078, saving model to xception_best.ckpt\n",
            "Epoch 18/100\n",
            "306/306 [==============================] - 142s 464ms/step - loss: 0.4622 - acc: 0.9806 - val_loss: 0.7904 - val_acc: 0.8839\n",
            "\n",
            "Epoch 00018: val_acc did not improve from 0.89078\n",
            "Epoch 19/100\n",
            "306/306 [==============================] - 142s 464ms/step - loss: 0.4541 - acc: 0.9848 - val_loss: 0.7655 - val_acc: 0.9001\n",
            "\n",
            "Epoch 00019: val_acc improved from 0.89078 to 0.90010, saving model to xception_best.ckpt\n",
            "Epoch 20/100\n",
            "306/306 [==============================] - 142s 463ms/step - loss: 0.4464 - acc: 0.9877 - val_loss: 0.7560 - val_acc: 0.9112\n",
            "\n",
            "Epoch 00020: val_acc improved from 0.90010 to 0.91122, saving model to xception_best.ckpt\n",
            "Epoch 21/100\n",
            "306/306 [==============================] - 142s 463ms/step - loss: 0.4427 - acc: 0.9867 - val_loss: 0.7402 - val_acc: 0.9214\n",
            "\n",
            "Epoch 00021: val_acc improved from 0.91122 to 0.92144, saving model to xception_best.ckpt\n",
            "Epoch 22/100\n",
            "306/306 [==============================] - 142s 463ms/step - loss: 0.4349 - acc: 0.9909 - val_loss: 0.7338 - val_acc: 0.9145\n",
            "\n",
            "Epoch 00022: val_acc did not improve from 0.92144\n",
            "Epoch 23/100\n",
            "306/306 [==============================] - 142s 464ms/step - loss: 0.4344 - acc: 0.9910 - val_loss: 0.7173 - val_acc: 0.9217\n",
            "\n",
            "Epoch 00023: val_acc improved from 0.92144 to 0.92169, saving model to xception_best.ckpt\n",
            "Epoch 24/100\n",
            "306/306 [==============================] - 142s 463ms/step - loss: 0.4365 - acc: 0.9889 - val_loss: 0.7580 - val_acc: 0.8875\n",
            "\n",
            "Epoch 00024: val_acc did not improve from 0.92169\n",
            "Epoch 25/100\n",
            "306/306 [==============================] - 142s 463ms/step - loss: 0.4306 - acc: 0.9920 - val_loss: 0.7173 - val_acc: 0.9227\n",
            "\n",
            "Epoch 00025: val_acc improved from 0.92169 to 0.92271, saving model to xception_best.ckpt\n",
            "Epoch 26/100\n",
            "306/306 [==============================] - 142s 464ms/step - loss: 0.4240 - acc: 0.9941 - val_loss: 0.7081 - val_acc: 0.9253\n",
            "\n",
            "Epoch 00026: val_acc improved from 0.92271 to 0.92527, saving model to xception_best.ckpt\n",
            "Epoch 27/100\n",
            "306/306 [==============================] - 142s 464ms/step - loss: 0.4203 - acc: 0.9939 - val_loss: 0.7315 - val_acc: 0.8972\n",
            "\n",
            "Epoch 00027: val_acc did not improve from 0.92527\n",
            "Epoch 28/100\n",
            "306/306 [==============================] - 142s 464ms/step - loss: 0.4216 - acc: 0.9934 - val_loss: 0.6956 - val_acc: 0.9251\n",
            "\n",
            "Epoch 00028: val_acc did not improve from 0.92527\n",
            "Epoch 29/100\n",
            "306/306 [==============================] - 142s 464ms/step - loss: 0.4174 - acc: 0.9955 - val_loss: 0.6943 - val_acc: 0.9225\n",
            "\n",
            "Epoch 00029: val_acc did not improve from 0.92527\n",
            "Epoch 30/100\n",
            "306/306 [==============================] - 142s 464ms/step - loss: 0.4181 - acc: 0.9935 - val_loss: 0.6807 - val_acc: 0.9306\n",
            "\n",
            "Epoch 00030: val_acc improved from 0.92527 to 0.93063, saving model to xception_best.ckpt\n",
            "Epoch 31/100\n",
            "306/306 [==============================] - 142s 464ms/step - loss: 0.4160 - acc: 0.9946 - val_loss: 0.6937 - val_acc: 0.9223\n",
            "\n",
            "Epoch 00031: val_acc did not improve from 0.93063\n",
            "Epoch 32/100\n",
            "306/306 [==============================] - 142s 464ms/step - loss: 0.4186 - acc: 0.9953 - val_loss: 0.6647 - val_acc: 0.9371\n",
            "\n",
            "Epoch 00032: val_acc improved from 0.93063 to 0.93715, saving model to xception_best.ckpt\n",
            "Epoch 33/100\n",
            "306/306 [==============================] - 142s 463ms/step - loss: 0.4110 - acc: 0.9950 - val_loss: 0.6624 - val_acc: 0.9313\n",
            "\n",
            "Epoch 00033: val_acc did not improve from 0.93715\n",
            "Epoch 34/100\n",
            "306/306 [==============================] - 142s 464ms/step - loss: 0.4050 - acc: 0.9954 - val_loss: 0.6684 - val_acc: 0.9318\n",
            "\n",
            "Epoch 00034: val_acc did not improve from 0.93715\n",
            "Epoch 35/100\n",
            "306/306 [==============================] - 142s 464ms/step - loss: 0.4051 - acc: 0.9948 - val_loss: 0.6457 - val_acc: 0.9446\n",
            "\n",
            "Epoch 00035: val_acc improved from 0.93715 to 0.94456, saving model to xception_best.ckpt\n",
            "Epoch 36/100\n",
            "306/306 [==============================] - 142s 464ms/step - loss: 0.4074 - acc: 0.9946 - val_loss: 0.6550 - val_acc: 0.9327\n",
            "\n",
            "Epoch 00036: val_acc did not improve from 0.94456\n",
            "Epoch 37/100\n",
            "306/306 [==============================] - 142s 464ms/step - loss: 0.3972 - acc: 0.9962 - val_loss: 0.6530 - val_acc: 0.9391\n",
            "\n",
            "Epoch 00037: val_acc did not improve from 0.94456\n",
            "Epoch 38/100\n",
            "306/306 [==============================] - 142s 463ms/step - loss: 0.3992 - acc: 0.9958 - val_loss: 0.6495 - val_acc: 0.9323\n",
            "\n",
            "Epoch 00038: val_acc did not improve from 0.94456\n",
            "Epoch 39/100\n",
            "306/306 [==============================] - 142s 463ms/step - loss: 0.4025 - acc: 0.9966 - val_loss: 0.6422 - val_acc: 0.9369\n",
            "\n",
            "Epoch 00039: val_acc did not improve from 0.94456\n",
            "Epoch 40/100\n",
            "306/306 [==============================] - 142s 464ms/step - loss: 0.3996 - acc: 0.9960 - val_loss: 0.6337 - val_acc: 0.9451\n",
            "\n",
            "Epoch 00040: val_acc improved from 0.94456 to 0.94507, saving model to xception_best.ckpt\n",
            "Epoch 41/100\n",
            "306/306 [==============================] - 142s 463ms/step - loss: 0.3971 - acc: 0.9970 - val_loss: 0.6312 - val_acc: 0.9456\n",
            "\n",
            "Epoch 00041: val_acc improved from 0.94507 to 0.94558, saving model to xception_best.ckpt\n",
            "Epoch 42/100\n",
            "306/306 [==============================] - 142s 463ms/step - loss: 0.3947 - acc: 0.9965 - val_loss: 0.6542 - val_acc: 0.9241\n",
            "\n",
            "Epoch 00042: val_acc did not improve from 0.94558\n",
            "Epoch 43/100\n",
            "306/306 [==============================] - 142s 463ms/step - loss: 0.3934 - acc: 0.9968 - val_loss: 0.6252 - val_acc: 0.9398\n",
            "\n",
            "Epoch 00043: val_acc did not improve from 0.94558\n",
            "Epoch 44/100\n",
            "306/306 [==============================] - 142s 463ms/step - loss: 0.3939 - acc: 0.9968 - val_loss: 0.6242 - val_acc: 0.9424\n",
            "\n",
            "Epoch 00044: val_acc did not improve from 0.94558\n",
            "Epoch 45/100\n",
            "306/306 [==============================] - 142s 464ms/step - loss: 0.3946 - acc: 0.9972 - val_loss: 0.6286 - val_acc: 0.9354\n",
            "\n",
            "Epoch 00045: val_acc did not improve from 0.94558\n",
            "Epoch 46/100\n",
            "306/306 [==============================] - 142s 464ms/step - loss: 0.3919 - acc: 0.9972 - val_loss: 0.6312 - val_acc: 0.9360\n",
            "\n",
            "Epoch 00046: val_acc did not improve from 0.94558\n",
            "Epoch 47/100\n",
            "306/306 [==============================] - 142s 463ms/step - loss: 0.3925 - acc: 0.9971 - val_loss: 0.6531 - val_acc: 0.9191\n",
            "\n",
            "Epoch 00047: val_acc did not improve from 0.94558\n",
            "Epoch 48/100\n",
            "306/306 [==============================] - 142s 463ms/step - loss: 0.3930 - acc: 0.9962 - val_loss: 0.6157 - val_acc: 0.9398\n",
            "\n",
            "Epoch 00048: val_acc did not improve from 0.94558\n",
            "Epoch 49/100\n",
            "306/306 [==============================] - 142s 464ms/step - loss: 0.3886 - acc: 0.9973 - val_loss: 0.6140 - val_acc: 0.9511\n",
            "\n",
            "Epoch 00049: val_acc improved from 0.94558 to 0.95107, saving model to xception_best.ckpt\n",
            "Epoch 50/100\n",
            "306/306 [==============================] - 142s 463ms/step - loss: 0.3877 - acc: 0.9985 - val_loss: 0.6054 - val_acc: 0.9478\n",
            "\n",
            "Epoch 00050: val_acc did not improve from 0.95107\n",
            "Epoch 51/100\n",
            "306/306 [==============================] - 142s 463ms/step - loss: 0.3882 - acc: 0.9971 - val_loss: 0.6057 - val_acc: 0.9439\n",
            "\n",
            "Epoch 00051: val_acc did not improve from 0.95107\n",
            "Epoch 52/100\n",
            "306/306 [==============================] - 142s 463ms/step - loss: 0.3852 - acc: 0.9962 - val_loss: 0.6003 - val_acc: 0.9512\n",
            "\n",
            "Epoch 00052: val_acc improved from 0.95107 to 0.95120, saving model to xception_best.ckpt\n",
            "Epoch 53/100\n",
            "306/306 [==============================] - 142s 463ms/step - loss: 0.3862 - acc: 0.9966 - val_loss: 0.6089 - val_acc: 0.9456\n",
            "\n",
            "Epoch 00053: val_acc did not improve from 0.95120\n",
            "Epoch 54/100\n",
            "306/306 [==============================] - 142s 463ms/step - loss: 0.3841 - acc: 0.9972 - val_loss: 0.6255 - val_acc: 0.9273\n",
            "\n",
            "Epoch 00054: val_acc did not improve from 0.95120\n",
            "Epoch 55/100\n",
            "306/306 [==============================] - 142s 463ms/step - loss: 0.3813 - acc: 0.9964 - val_loss: 0.6056 - val_acc: 0.9446\n",
            "\n",
            "Epoch 00055: val_acc did not improve from 0.95120\n",
            "Epoch 56/100\n",
            "306/306 [==============================] - 142s 463ms/step - loss: 0.3837 - acc: 0.9970 - val_loss: 0.6068 - val_acc: 0.9433\n",
            "\n",
            "Epoch 00056: val_acc did not improve from 0.95120\n",
            "Epoch 57/100\n",
            "306/306 [==============================] - 142s 463ms/step - loss: 0.3812 - acc: 0.9966 - val_loss: 0.6238 - val_acc: 0.9301\n",
            "\n",
            "Epoch 00057: val_acc did not improve from 0.95120\n",
            "\n",
            "Epoch 00057: ReduceLROnPlateau reducing learning rate to 9.999999747378752e-07.\n"
          ]
        },
        {
          "output_type": "execute_result",
          "data": {
            "text/plain": [
              "<tensorflow.python.training.tracking.util.CheckpointLoadStatus at 0x7fe0f1818d50>"
            ]
          },
          "metadata": {},
          "execution_count": 36
        }
      ]
    },
    {
      "cell_type": "markdown",
      "metadata": {
        "id": "pretty-morris",
        "papermill": {
          "duration": 3.201635,
          "end_time": "2021-05-30T20:12:18.344310",
          "exception": false,
          "start_time": "2021-05-30T20:12:15.142675",
          "status": "completed"
        },
        "tags": []
      },
      "source": [
        "### Observation\n",
        "As we can see train and validation accuracy is pretty close, which proves kaggle and competition data has come from the same distribution and we can freely use it to experiment with.\n",
        "\n",
        "## Retraining last trained model on competition data\n",
        "As we have used competition data as validation set previously, we will use it as train set now (and some part of it as validation set) hoping this additional training would give our model new information to perform better."
      ],
      "id": "pretty-morris"
    },
    {
      "cell_type": "code",
      "metadata": {
        "execution": {
          "iopub.execute_input": "2021-05-30T20:12:24.238372Z",
          "iopub.status.busy": "2021-05-30T20:12:24.237660Z",
          "iopub.status.idle": "2021-05-30T20:12:24.305208Z",
          "shell.execute_reply": "2021-05-30T20:12:24.305579Z",
          "shell.execute_reply.started": "2021-05-30T09:30:16.948040Z"
        },
        "id": "cloudy-idaho",
        "papermill": {
          "duration": 3.027306,
          "end_time": "2021-05-30T20:12:24.305720",
          "exception": false,
          "start_time": "2021-05-30T20:12:21.278414",
          "status": "completed"
        },
        "tags": []
      },
      "source": [
        "# train and validation split on competition data\n",
        "from sklearn.model_selection import train_test_split\n",
        "X_train, X_test = train_test_split(df_val_compi,\n",
        "                                   test_size=0.1,\n",
        "                                   random_state=42,\n",
        "                                   stratify= df_val_compi.label)"
      ],
      "id": "cloudy-idaho",
      "execution_count": 37,
      "outputs": []
    },
    {
      "cell_type": "code",
      "metadata": {
        "execution": {
          "iopub.execute_input": "2021-05-30T20:12:30.429807Z",
          "iopub.status.busy": "2021-05-30T20:12:30.429001Z",
          "iopub.status.idle": "2021-05-30T20:12:30.472297Z",
          "shell.execute_reply": "2021-05-30T20:12:30.471634Z",
          "shell.execute_reply.started": "2021-05-30T09:30:18.098841Z"
        },
        "id": "nervous-crisis",
        "papermill": {
          "duration": 3.239148,
          "end_time": "2021-05-30T20:12:30.472465",
          "exception": false,
          "start_time": "2021-05-30T20:12:27.233317",
          "status": "completed"
        },
        "tags": [],
        "colab": {
          "base_uri": "https://localhost:8080/"
        },
        "outputId": "4e7db473-44a8-44a1-aead-472c63d3370c"
      },
      "source": [
        "train_generator = train_aug.flow_from_dataframe(\n",
        "dataframe = X_train,\n",
        "x_col=\"filename\",\n",
        "y_col=\"label\",\n",
        "batch_size=32,\n",
        "seed=42,\n",
        "shuffle=True,\n",
        "class_mode=\"raw\",\n",
        "target_size=(224,224))"
      ],
      "id": "nervous-crisis",
      "execution_count": 38,
      "outputs": [
        {
          "output_type": "stream",
          "name": "stdout",
          "text": [
            "Found 7045 validated image filenames.\n"
          ]
        }
      ]
    },
    {
      "cell_type": "code",
      "metadata": {
        "execution": {
          "iopub.execute_input": "2021-05-30T20:12:36.309467Z",
          "iopub.status.busy": "2021-05-30T20:12:36.308631Z",
          "iopub.status.idle": "2021-05-30T20:12:36.318017Z",
          "shell.execute_reply": "2021-05-30T20:12:36.317530Z",
          "shell.execute_reply.started": "2021-05-30T09:30:23.206485Z"
        },
        "id": "instrumental-indie",
        "papermill": {
          "duration": 2.927421,
          "end_time": "2021-05-30T20:12:36.318129",
          "exception": false,
          "start_time": "2021-05-30T20:12:33.390708",
          "status": "completed"
        },
        "tags": [],
        "colab": {
          "base_uri": "https://localhost:8080/"
        },
        "outputId": "aaa9c990-6529-4f11-8bef-cd7be0713256"
      },
      "source": [
        "valid_generator = valid_aug.flow_from_dataframe( \n",
        "dataframe=X_test,\n",
        "x_col=\"filename\",\n",
        "y_col=\"label\",\n",
        "batch_size=32,\n",
        "seed=42,\n",
        "shuffle=True,\n",
        "class_mode=\"raw\",\n",
        "target_size=(224,224))"
      ],
      "id": "instrumental-indie",
      "execution_count": 39,
      "outputs": [
        {
          "output_type": "stream",
          "name": "stdout",
          "text": [
            "Found 783 validated image filenames.\n"
          ]
        }
      ]
    },
    {
      "cell_type": "code",
      "metadata": {
        "execution": {
          "iopub.execute_input": "2021-05-30T20:12:42.897491Z",
          "iopub.status.busy": "2021-05-30T20:12:42.895853Z",
          "iopub.status.idle": "2021-05-30T20:12:42.898202Z",
          "shell.execute_reply": "2021-05-30T20:12:42.898602Z",
          "shell.execute_reply.started": "2021-05-30T09:30:26.966513Z"
        },
        "id": "dedicated-chapel",
        "papermill": {
          "duration": 3.108025,
          "end_time": "2021-05-30T20:12:42.898739",
          "exception": false,
          "start_time": "2021-05-30T20:12:39.790714",
          "status": "completed"
        },
        "tags": []
      },
      "source": [
        "# number of steps to consider 1 as  epoch\n",
        "STEP_SIZE_TRAIN = train_generator.n//train_generator.batch_size\n",
        "STEP_SIZE_VALID =valid_generator.n//valid_generator.batch_size"
      ],
      "id": "dedicated-chapel",
      "execution_count": 40,
      "outputs": []
    },
    {
      "cell_type": "code",
      "metadata": {
        "execution": {
          "iopub.execute_input": "2021-05-30T20:12:48.820785Z",
          "iopub.status.busy": "2021-05-30T20:12:48.819337Z",
          "iopub.status.idle": "2021-05-30T20:25:26.371458Z",
          "shell.execute_reply": "2021-05-30T20:25:26.371941Z",
          "shell.execute_reply.started": "2021-05-30T09:30:36.962285Z"
        },
        "id": "sized-norfolk",
        "papermill": {
          "duration": 760.527609,
          "end_time": "2021-05-30T20:25:26.372105",
          "exception": false,
          "start_time": "2021-05-30T20:12:45.844496",
          "status": "completed"
        },
        "tags": [],
        "colab": {
          "base_uri": "https://localhost:8080/"
        },
        "outputId": "20071e30-0a6e-43e4-8acc-543ff61f89ec"
      },
      "source": [
        "# kick off training\n",
        "xception_model.fit(\n",
        "        train_generator,\n",
        "        steps_per_epoch=STEP_SIZE_TRAIN,\n",
        "        epochs=50,\n",
        "        validation_data=valid_generator,\n",
        "        validation_steps=STEP_SIZE_VALID,callbacks=[my_callbacks])"
      ],
      "id": "sized-norfolk",
      "execution_count": 41,
      "outputs": [
        {
          "output_type": "stream",
          "name": "stdout",
          "text": [
            "Epoch 1/50\n",
            "220/220 [==============================] - 93s 410ms/step - loss: 0.6136 - acc: 0.9327 - val_loss: 0.5292 - val_acc: 0.9661\n",
            "\n",
            "Epoch 00001: val_acc improved from 0.95120 to 0.96615, saving model to xception_best.ckpt\n",
            "Epoch 2/50\n",
            "220/220 [==============================] - 90s 407ms/step - loss: 0.5693 - acc: 0.9628 - val_loss: 0.5319 - val_acc: 0.9596\n",
            "\n",
            "Epoch 00002: val_acc did not improve from 0.96615\n",
            "Epoch 3/50\n",
            "220/220 [==============================] - 90s 407ms/step - loss: 0.5344 - acc: 0.9823 - val_loss: 0.5255 - val_acc: 0.9805\n",
            "\n",
            "Epoch 00003: val_acc improved from 0.96615 to 0.98047, saving model to xception_best.ckpt\n",
            "Epoch 4/50\n",
            "220/220 [==============================] - 90s 408ms/step - loss: 0.5294 - acc: 0.9853 - val_loss: 0.5263 - val_acc: 0.9661\n",
            "\n",
            "Epoch 00004: val_acc did not improve from 0.98047\n",
            "Epoch 5/50\n",
            "220/220 [==============================] - 90s 408ms/step - loss: 0.5228 - acc: 0.9872 - val_loss: 0.5267 - val_acc: 0.9740\n",
            "\n",
            "Epoch 00005: val_acc did not improve from 0.98047\n",
            "Epoch 6/50\n",
            "220/220 [==============================] - 90s 408ms/step - loss: 0.5230 - acc: 0.9887 - val_loss: 0.5220 - val_acc: 0.9727\n",
            "\n",
            "Epoch 00006: val_acc did not improve from 0.98047\n",
            "Epoch 7/50\n",
            "220/220 [==============================] - 90s 407ms/step - loss: 0.5221 - acc: 0.9893 - val_loss: 0.5256 - val_acc: 0.9688\n",
            "\n",
            "Epoch 00007: val_acc did not improve from 0.98047\n",
            "Epoch 8/50\n",
            "220/220 [==============================] - 90s 407ms/step - loss: 0.5174 - acc: 0.9917 - val_loss: 0.5270 - val_acc: 0.9674\n",
            "\n",
            "Epoch 00008: val_acc did not improve from 0.98047\n",
            "Epoch 9/50\n",
            "220/220 [==============================] - 90s 408ms/step - loss: 0.5183 - acc: 0.9932 - val_loss: 0.5242 - val_acc: 0.9792\n",
            "\n",
            "Epoch 00009: val_acc did not improve from 0.98047\n",
            "Epoch 10/50\n",
            "220/220 [==============================] - 90s 407ms/step - loss: 0.5113 - acc: 0.9920 - val_loss: 0.5265 - val_acc: 0.9727\n",
            "\n",
            "Epoch 00010: val_acc did not improve from 0.98047\n",
            "Epoch 11/50\n",
            "220/220 [==============================] - 90s 407ms/step - loss: 0.5108 - acc: 0.9932 - val_loss: 0.5301 - val_acc: 0.9753\n",
            "\n",
            "Epoch 00011: val_acc did not improve from 0.98047\n",
            "\n",
            "Epoch 00011: ReduceLROnPlateau reducing learning rate to 9.999999747378752e-07.\n"
          ]
        },
        {
          "output_type": "execute_result",
          "data": {
            "text/plain": [
              "<keras.callbacks.History at 0x7fe0f0248510>"
            ]
          },
          "metadata": {},
          "execution_count": 41
        }
      ]
    },
    {
      "cell_type": "code",
      "metadata": {
        "execution": {
          "iopub.execute_input": "2021-05-30T20:25:33.497837Z",
          "iopub.status.busy": "2021-05-30T20:25:33.496999Z",
          "iopub.status.idle": "2021-05-30T20:25:34.695800Z",
          "shell.execute_reply": "2021-05-30T20:25:34.695365Z",
          "shell.execute_reply.started": "2021-05-24T16:41:06.725854Z"
        },
        "id": "complete-spelling",
        "papermill": {
          "duration": 4.566888,
          "end_time": "2021-05-30T20:25:34.695951",
          "exception": false,
          "start_time": "2021-05-30T20:25:30.129063",
          "status": "completed"
        },
        "tags": [],
        "colab": {
          "base_uri": "https://localhost:8080/"
        },
        "outputId": "7f0049d7-bedf-4255-c346-481788903f41"
      },
      "source": [
        "# load best saved weights\n",
        "xception_model.load_weights(checkpoint_path)"
      ],
      "id": "complete-spelling",
      "execution_count": 42,
      "outputs": [
        {
          "output_type": "execute_result",
          "data": {
            "text/plain": [
              "<tensorflow.python.training.tracking.util.CheckpointLoadStatus at 0x7fe0f6971e10>"
            ]
          },
          "metadata": {},
          "execution_count": 42
        }
      ]
    },
    {
      "cell_type": "markdown",
      "metadata": {
        "papermill": {
          "duration": 3.633537,
          "end_time": "2021-05-30T20:25:41.743104",
          "exception": false,
          "start_time": "2021-05-30T20:25:38.109567",
          "status": "completed"
        },
        "tags": [],
        "id": "intended-cylinder"
      },
      "source": [
        "# Confusion Matrix\n",
        "As our data set is imbalaned, lets see where is our model making mistakes. I encourage to you to take initative for bringing FPs and FNs down."
      ],
      "id": "intended-cylinder"
    },
    {
      "cell_type": "code",
      "metadata": {
        "execution": {
          "iopub.execute_input": "2021-05-30T20:25:48.625234Z",
          "iopub.status.busy": "2021-05-30T20:25:48.624438Z",
          "iopub.status.idle": "2021-05-30T20:25:48.634216Z",
          "shell.execute_reply": "2021-05-30T20:25:48.633804Z",
          "shell.execute_reply.started": "2021-05-27T05:35:10.161826Z"
        },
        "papermill": {
          "duration": 3.430239,
          "end_time": "2021-05-30T20:25:48.634343",
          "exception": false,
          "start_time": "2021-05-30T20:25:45.204104",
          "status": "completed"
        },
        "tags": [],
        "colab": {
          "base_uri": "https://localhost:8080/"
        },
        "id": "equivalent-album",
        "outputId": "388c9b93-9c21-4130-d864-0f4678592fdd"
      },
      "source": [
        "from sklearn.metrics import precision_recall_curve\n",
        "target_shape = 224\n",
        "BATCH_SIZE = 1\n",
        "\n",
        "# test generator\n",
        "compi_gen = valid_aug.flow_from_dataframe(dataframe= X_test,\n",
        "                            x_col= \"filename\",\n",
        "                            class_mode=None,\n",
        "                            target_size= (target_shape, target_shape),\n",
        "                            shuffle= False,\n",
        "                            batch_size= BATCH_SIZE\n",
        "                            )"
      ],
      "id": "equivalent-album",
      "execution_count": 43,
      "outputs": [
        {
          "output_type": "stream",
          "name": "stdout",
          "text": [
            "Found 783 validated image filenames.\n"
          ]
        }
      ]
    },
    {
      "cell_type": "code",
      "metadata": {
        "execution": {
          "iopub.execute_input": "2021-05-30T20:25:56.117007Z",
          "iopub.status.busy": "2021-05-30T20:25:56.116264Z",
          "iopub.status.idle": "2021-05-30T20:26:05.659358Z",
          "shell.execute_reply": "2021-05-30T20:26:05.658569Z",
          "shell.execute_reply.started": "2021-05-27T05:35:17.324361Z"
        },
        "papermill": {
          "duration": 12.914933,
          "end_time": "2021-05-30T20:26:05.659489",
          "exception": false,
          "start_time": "2021-05-30T20:25:52.744556",
          "status": "completed"
        },
        "tags": [],
        "colab": {
          "base_uri": "https://localhost:8080/"
        },
        "id": "preceding-delight",
        "outputId": "711df68f-54a2-471c-eb7d-7e14d128c91a"
      },
      "source": [
        "# prediction on train data\n",
        "predicition_compi = xception_model.predict(compi_gen, steps= compi_gen.n/ BATCH_SIZE, verbose= 1)"
      ],
      "id": "preceding-delight",
      "execution_count": 44,
      "outputs": [
        {
          "output_type": "stream",
          "name": "stdout",
          "text": [
            "783/783 [==============================] - 10s 12ms/step\n"
          ]
        }
      ]
    },
    {
      "cell_type": "code",
      "metadata": {
        "execution": {
          "iopub.execute_input": "2021-05-30T20:26:12.667940Z",
          "iopub.status.busy": "2021-05-30T20:26:12.649791Z",
          "iopub.status.idle": "2021-05-30T20:26:13.051891Z",
          "shell.execute_reply": "2021-05-30T20:26:13.051413Z",
          "shell.execute_reply.started": "2021-05-27T05:43:44.837052Z"
        },
        "papermill": {
          "duration": 3.832152,
          "end_time": "2021-05-30T20:26:13.052010",
          "exception": false,
          "start_time": "2021-05-30T20:26:09.219858",
          "status": "completed"
        },
        "tags": [],
        "colab": {
          "base_uri": "https://localhost:8080/",
          "height": 299
        },
        "id": "distinguished-midwest",
        "outputId": "ff29bab3-ae02-4987-c865-2a296b9c582b"
      },
      "source": [
        "from sklearn.metrics import confusion_matrix, ConfusionMatrixDisplay\n",
        "class_prediction_compi =  np.argmax(predicition_compi, axis= 1)\n",
        "cm = confusion_matrix(X_test.label, class_prediction_compi, labels=[0, 1, 2, 3, 4])\n",
        "disp = ConfusionMatrixDisplay(confusion_matrix=cm,\n",
        "                              display_labels=[0, 1, 2, 3, 4])\n",
        "disp.plot()"
      ],
      "id": "distinguished-midwest",
      "execution_count": 45,
      "outputs": [
        {
          "output_type": "execute_result",
          "data": {
            "text/plain": [
              "<sklearn.metrics._plot.confusion_matrix.ConfusionMatrixDisplay at 0x7fe0f57e8390>"
            ]
          },
          "metadata": {},
          "execution_count": 45
        },
        {
          "output_type": "display_data",
          "data": {
            "image/png": "[encoded data removed]",
            "text/plain": [
              "<Figure size 432x288 with 2 Axes>"
            ]
          },
          "metadata": {
            "needs_background": "light"
          }
        }
      ]
    },
    {
      "cell_type": "markdown",
      "metadata": {
        "papermill": {
          "duration": 3.5306,
          "end_time": "2021-05-30T20:26:20.277590",
          "exception": false,
          "start_time": "2021-05-30T20:26:16.746990",
          "status": "completed"
        },
        "tags": [],
        "id": "positive-wilson"
      },
      "source": [
        "## Making prediction on test set (to make submission)\n",
        "Finally we save the predictions on disk in CSV format"
      ],
      "id": "positive-wilson"
    },
    {
      "cell_type": "code",
      "metadata": {
        "execution": {
          "iopub.execute_input": "2021-05-30T20:26:28.031789Z",
          "iopub.status.busy": "2021-05-30T20:26:28.031111Z",
          "iopub.status.idle": "2021-05-30T20:26:28.058944Z",
          "shell.execute_reply": "2021-05-30T20:26:28.058161Z",
          "shell.execute_reply.started": "2021-05-27T09:08:20.550041Z"
        },
        "id": "constitutional-catholic",
        "papermill": {
          "duration": 4.034446,
          "end_time": "2021-05-30T20:26:28.059074",
          "exception": false,
          "start_time": "2021-05-30T20:26:24.024628",
          "status": "completed"
        },
        "tags": [],
        "colab": {
          "base_uri": "https://localhost:8080/"
        },
        "outputId": "5f5f47f4-62db-4337-c3f4-043cc4d7d398"
      },
      "source": [
        "# read the csv file\n",
        "test = pd.read_csv(compi_root_path + \"Test.csv\")\n",
        "\n",
        "# create test generator\n",
        "test_generator = valid_aug.flow_from_dataframe(\n",
        "dataframe= test,\n",
        "directory= compi_root_path + \"test\",\n",
        "x_col= \"filename\",\n",
        "y_col= None,\n",
        "batch_size= 1,\n",
        "seed= 42,\n",
        "shuffle= False,\n",
        "class_mode= None,\n",
        "target_size= (224,224))\n",
        "\n",
        "# number of steps to consider 1 epoch\n",
        "STEP_SIZE_TEST=test_generator.n//test_generator.batch_size"
      ],
      "id": "constitutional-catholic",
      "execution_count": 46,
      "outputs": [
        {
          "output_type": "stream",
          "name": "stdout",
          "text": [
            "Found 1958 validated image filenames.\n"
          ]
        }
      ]
    },
    {
      "cell_type": "code",
      "metadata": {
        "execution": {
          "iopub.execute_input": "2021-05-30T20:26:34.994605Z",
          "iopub.status.busy": "2021-05-30T20:26:34.994000Z",
          "iopub.status.idle": "2021-05-30T20:26:56.340759Z",
          "shell.execute_reply": "2021-05-30T20:26:56.341118Z",
          "shell.execute_reply.started": "2021-05-27T05:51:39.116529Z"
        },
        "papermill": {
          "duration": 24.791614,
          "end_time": "2021-05-30T20:26:56.341303",
          "exception": false,
          "start_time": "2021-05-30T20:26:31.549689",
          "status": "completed"
        },
        "tags": [],
        "colab": {
          "base_uri": "https://localhost:8080/"
        },
        "id": "blocked-niagara",
        "outputId": "77c22b06-e93f-4228-8b21-57554d52e207"
      },
      "source": [
        "# make prediction and create dataframe out of it\n",
        "pred = xception_model.predict(test_generator,steps=STEP_SIZE_TEST,verbose=1)\n",
        "df_submit = pd.DataFrame({\"label\":np.argmax(pred, axis= 1)})\n",
        "df_submit[\"label\"].value_counts()"
      ],
      "id": "blocked-niagara",
      "execution_count": 47,
      "outputs": [
        {
          "output_type": "stream",
          "name": "stdout",
          "text": [
            "1958/1958 [==============================] - 22s 11ms/step\n"
          ]
        },
        {
          "output_type": "execute_result",
          "data": {
            "text/plain": [
              "0    780\n",
              "2    527\n",
              "1    332\n",
              "3    260\n",
              "4     59\n",
              "Name: label, dtype: int64"
            ]
          },
          "metadata": {},
          "execution_count": 47
        }
      ]
    },
    {
      "cell_type": "markdown",
      "metadata": {
        "papermill": {
          "duration": 3.549425,
          "end_time": "2021-05-30T20:27:04.148458",
          "exception": false,
          "start_time": "2021-05-30T20:27:00.599033",
          "status": "completed"
        },
        "tags": [],
        "id": "still-arthur"
      },
      "source": [
        "### Clearing the working directory\n",
        "Because if don't, \"output\" tabl will show only images"
      ],
      "id": "still-arthur"
    },
    {
      "cell_type": "code",
      "metadata": {
        "execution": {
          "iopub.execute_input": "2021-05-30T20:27:11.522864Z",
          "iopub.status.busy": "2021-05-30T20:27:11.522085Z",
          "iopub.status.idle": "2021-05-30T20:27:11.842332Z",
          "shell.execute_reply": "2021-05-30T20:27:11.842916Z",
          "shell.execute_reply.started": "2021-05-27T05:51:43.875589Z"
        },
        "papermill": {
          "duration": 4.080149,
          "end_time": "2021-05-30T20:27:11.843118",
          "exception": false,
          "start_time": "2021-05-30T20:27:07.762969",
          "status": "completed"
        },
        "tags": [],
        "colab": {
          "base_uri": "https://localhost:8080/"
        },
        "id": "decimal-hampshire",
        "outputId": "4cbd7414-e18e-43f0-8bf9-c73b6a1417ba"
      },
      "source": [
        "import sys\n",
        "import shutil\n",
        "\n",
        "# Get directory name\n",
        "mydir = \"/kaggle/working\"\n",
        "\n",
        "try:\n",
        "    shutil.rmtree(mydir)\n",
        "except OSError as e:\n",
        "    print(\"Error: %s - %s.\" % (e.filename, e.strerror))"
      ],
      "id": "decimal-hampshire",
      "execution_count": 48,
      "outputs": [
        {
          "output_type": "stream",
          "name": "stdout",
          "text": [
            "Error: /kaggle/working - No such file or directory.\n"
          ]
        }
      ]
    },
    {
      "cell_type": "markdown",
      "metadata": {
        "papermill": {
          "duration": 3.504245,
          "end_time": "2021-05-30T20:27:18.913681",
          "exception": false,
          "start_time": "2021-05-30T20:27:15.409436",
          "status": "completed"
        },
        "tags": [],
        "id": "portable-yacht"
      },
      "source": [
        "### Save best weights and output prediction file"
      ],
      "id": "portable-yacht"
    },
    {
      "cell_type": "code",
      "metadata": {
        "execution": {
          "iopub.execute_input": "2021-05-30T20:27:26.290338Z",
          "iopub.status.busy": "2021-05-30T20:27:26.289493Z",
          "iopub.status.idle": "2021-05-30T20:27:26.809425Z",
          "shell.execute_reply": "2021-05-30T20:27:26.808879Z",
          "shell.execute_reply.started": "2021-05-27T05:51:46.57395Z"
        },
        "id": "liquid-tsunami",
        "papermill": {
          "duration": 4.073647,
          "end_time": "2021-05-30T20:27:26.809566",
          "exception": false,
          "start_time": "2021-05-30T20:27:22.735919",
          "status": "completed"
        },
        "tags": []
      },
      "source": [
        "xception_model.save_weights(\"knee_xray_Xceptionnet_GPA.h5\")\n",
        "df_submit.to_csv(\"submission.csv\",index=False)"
      ],
      "id": "liquid-tsunami",
      "execution_count": 49,
      "outputs": []
    },
    {
      "cell_type": "markdown",
      "metadata": {
        "papermill": {
          "duration": 3.563445,
          "end_time": "2021-05-30T20:27:34.549379",
          "exception": false,
          "start_time": "2021-05-30T20:27:30.985934",
          "status": "completed"
        },
        "tags": [],
        "id": "sustainable-baptist"
      },
      "source": [
        "The submission results in 96.8% on public leaderboard.\n",
        "\n",
        "**Suggestion to improve the score**\n",
        "* Using right data augmentations\n",
        "* Using different model architecture\n",
        "* Ensembling and stacking\n",
        "* Using pretrained model trained on xray images"
      ],
      "id": "sustainable-baptist"
    }
  ]
}