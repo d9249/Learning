{
  "nbformat": 4,
  "nbformat_minor": 5,
  "metadata": {
    "kernelspec": {
      "display_name": "Python 3 (ipykernel)",
      "language": "python",
      "name": "python3"
    },
    "language_info": {
      "codemirror_mode": {
        "name": "ipython",
        "version": 3
      },
      "file_extension": ".py",
      "mimetype": "text/x-python",
      "name": "python",
      "nbconvert_exporter": "python",
      "pygments_lexer": "ipython3",
      "version": "3.8.8"
    },
    "colab": {
      "name": "vgg16 Train+Inference (ImageNet statistics, pretrained, full).ipynb",
      "provenance": [],
      "collapsed_sections": [],
      "machine_shape": "hm",
      "include_colab_link": true
    },
    "accelerator": "GPU",
    "widgets": {
      "application/vnd.jupyter.widget-state+json": {
        "ae6716d321b0429791693266cd23157d": {
          "model_module": "@jupyter-widgets/controls",
          "model_name": "HBoxModel",
          "model_module_version": "1.5.0",
          "state": {
            "_view_name": "HBoxView",
            "_dom_classes": [],
            "_model_name": "HBoxModel",
            "_view_module": "@jupyter-widgets/controls",
            "_model_module_version": "1.5.0",
            "_view_count": null,
            "_view_module_version": "1.5.0",
            "box_style": "",
            "layout": "IPY_MODEL_c8248f7e5b66481f8281a4b3551e5708",
            "_model_module": "@jupyter-widgets/controls",
            "children": [
              "IPY_MODEL_ebe24a3ed9fe4087b47bc84985269284",
              "IPY_MODEL_4b6fef4d95ca42229f648f365d3bb4a2",
              "IPY_MODEL_565d2d7aaec842a59c067b6d5c3be2b9"
            ]
          }
        },
        "c8248f7e5b66481f8281a4b3551e5708": {
          "model_module": "@jupyter-widgets/base",
          "model_name": "LayoutModel",
          "model_module_version": "1.2.0",
          "state": {
            "_view_name": "LayoutView",
            "grid_template_rows": null,
            "right": null,
            "justify_content": null,
            "_view_module": "@jupyter-widgets/base",
            "overflow": null,
            "_model_module_version": "1.2.0",
            "_view_count": null,
            "flex_flow": null,
            "width": null,
            "min_width": null,
            "border": null,
            "align_items": null,
            "bottom": null,
            "_model_module": "@jupyter-widgets/base",
            "top": null,
            "grid_column": null,
            "overflow_y": null,
            "overflow_x": null,
            "grid_auto_flow": null,
            "grid_area": null,
            "grid_template_columns": null,
            "flex": null,
            "_model_name": "LayoutModel",
            "justify_items": null,
            "grid_row": null,
            "max_height": null,
            "align_content": null,
            "visibility": null,
            "align_self": null,
            "height": null,
            "min_height": null,
            "padding": null,
            "grid_auto_rows": null,
            "grid_gap": null,
            "max_width": null,
            "order": null,
            "_view_module_version": "1.2.0",
            "grid_template_areas": null,
            "object_position": null,
            "object_fit": null,
            "grid_auto_columns": null,
            "margin": null,
            "display": null,
            "left": null
          }
        },
        "ebe24a3ed9fe4087b47bc84985269284": {
          "model_module": "@jupyter-widgets/controls",
          "model_name": "HTMLModel",
          "model_module_version": "1.5.0",
          "state": {
            "_view_name": "HTMLView",
            "style": "IPY_MODEL_49ed5966c4434888938811c79223973b",
            "_dom_classes": [],
            "description": "",
            "_model_name": "HTMLModel",
            "placeholder": "​",
            "_view_module": "@jupyter-widgets/controls",
            "_model_module_version": "1.5.0",
            "value": "100%",
            "_view_count": null,
            "_view_module_version": "1.5.0",
            "description_tooltip": null,
            "_model_module": "@jupyter-widgets/controls",
            "layout": "IPY_MODEL_ec929ce969d2491c9a8ceb5b878d1e28"
          }
        },
        "4b6fef4d95ca42229f648f365d3bb4a2": {
          "model_module": "@jupyter-widgets/controls",
          "model_name": "FloatProgressModel",
          "model_module_version": "1.5.0",
          "state": {
            "_view_name": "ProgressView",
            "style": "IPY_MODEL_87bffbdebd3d424ea1f12c9479f5db52",
            "_dom_classes": [],
            "description": "",
            "_model_name": "FloatProgressModel",
            "bar_style": "success",
            "max": 532199577,
            "_view_module": "@jupyter-widgets/controls",
            "_model_module_version": "1.5.0",
            "value": 532199577,
            "_view_count": null,
            "_view_module_version": "1.5.0",
            "orientation": "horizontal",
            "min": 0,
            "description_tooltip": null,
            "_model_module": "@jupyter-widgets/controls",
            "layout": "IPY_MODEL_01b1db706ed04db9be61315f9d395d47"
          }
        },
        "565d2d7aaec842a59c067b6d5c3be2b9": {
          "model_module": "@jupyter-widgets/controls",
          "model_name": "HTMLModel",
          "model_module_version": "1.5.0",
          "state": {
            "_view_name": "HTMLView",
            "style": "IPY_MODEL_0371b7466a8d45a8a7f77451c4847715",
            "_dom_classes": [],
            "description": "",
            "_model_name": "HTMLModel",
            "placeholder": "​",
            "_view_module": "@jupyter-widgets/controls",
            "_model_module_version": "1.5.0",
            "value": " 508M/508M [00:07&lt;00:00, 72.7MB/s]",
            "_view_count": null,
            "_view_module_version": "1.5.0",
            "description_tooltip": null,
            "_model_module": "@jupyter-widgets/controls",
            "layout": "IPY_MODEL_2cdfbf833a134573a1ac19babb07042d"
          }
        },
        "49ed5966c4434888938811c79223973b": {
          "model_module": "@jupyter-widgets/controls",
          "model_name": "DescriptionStyleModel",
          "model_module_version": "1.5.0",
          "state": {
            "_view_name": "StyleView",
            "_model_name": "DescriptionStyleModel",
            "description_width": "",
            "_view_module": "@jupyter-widgets/base",
            "_model_module_version": "1.5.0",
            "_view_count": null,
            "_view_module_version": "1.2.0",
            "_model_module": "@jupyter-widgets/controls"
          }
        },
        "ec929ce969d2491c9a8ceb5b878d1e28": {
          "model_module": "@jupyter-widgets/base",
          "model_name": "LayoutModel",
          "model_module_version": "1.2.0",
          "state": {
            "_view_name": "LayoutView",
            "grid_template_rows": null,
            "right": null,
            "justify_content": null,
            "_view_module": "@jupyter-widgets/base",
            "overflow": null,
            "_model_module_version": "1.2.0",
            "_view_count": null,
            "flex_flow": null,
            "width": null,
            "min_width": null,
            "border": null,
            "align_items": null,
            "bottom": null,
            "_model_module": "@jupyter-widgets/base",
            "top": null,
            "grid_column": null,
            "overflow_y": null,
            "overflow_x": null,
            "grid_auto_flow": null,
            "grid_area": null,
            "grid_template_columns": null,
            "flex": null,
            "_model_name": "LayoutModel",
            "justify_items": null,
            "grid_row": null,
            "max_height": null,
            "align_content": null,
            "visibility": null,
            "align_self": null,
            "height": null,
            "min_height": null,
            "padding": null,
            "grid_auto_rows": null,
            "grid_gap": null,
            "max_width": null,
            "order": null,
            "_view_module_version": "1.2.0",
            "grid_template_areas": null,
            "object_position": null,
            "object_fit": null,
            "grid_auto_columns": null,
            "margin": null,
            "display": null,
            "left": null
          }
        },
        "87bffbdebd3d424ea1f12c9479f5db52": {
          "model_module": "@jupyter-widgets/controls",
          "model_name": "ProgressStyleModel",
          "model_module_version": "1.5.0",
          "state": {
            "_view_name": "StyleView",
            "_model_name": "ProgressStyleModel",
            "description_width": "",
            "_view_module": "@jupyter-widgets/base",
            "_model_module_version": "1.5.0",
            "_view_count": null,
            "_view_module_version": "1.2.0",
            "bar_color": null,
            "_model_module": "@jupyter-widgets/controls"
          }
        },
        "01b1db706ed04db9be61315f9d395d47": {
          "model_module": "@jupyter-widgets/base",
          "model_name": "LayoutModel",
          "model_module_version": "1.2.0",
          "state": {
            "_view_name": "LayoutView",
            "grid_template_rows": null,
            "right": null,
            "justify_content": null,
            "_view_module": "@jupyter-widgets/base",
            "overflow": null,
            "_model_module_version": "1.2.0",
            "_view_count": null,
            "flex_flow": null,
            "width": null,
            "min_width": null,
            "border": null,
            "align_items": null,
            "bottom": null,
            "_model_module": "@jupyter-widgets/base",
            "top": null,
            "grid_column": null,
            "overflow_y": null,
            "overflow_x": null,
            "grid_auto_flow": null,
            "grid_area": null,
            "grid_template_columns": null,
            "flex": null,
            "_model_name": "LayoutModel",
            "justify_items": null,
            "grid_row": null,
            "max_height": null,
            "align_content": null,
            "visibility": null,
            "align_self": null,
            "height": null,
            "min_height": null,
            "padding": null,
            "grid_auto_rows": null,
            "grid_gap": null,
            "max_width": null,
            "order": null,
            "_view_module_version": "1.2.0",
            "grid_template_areas": null,
            "object_position": null,
            "object_fit": null,
            "grid_auto_columns": null,
            "margin": null,
            "display": null,
            "left": null
          }
        },
        "0371b7466a8d45a8a7f77451c4847715": {
          "model_module": "@jupyter-widgets/controls",
          "model_name": "DescriptionStyleModel",
          "model_module_version": "1.5.0",
          "state": {
            "_view_name": "StyleView",
            "_model_name": "DescriptionStyleModel",
            "description_width": "",
            "_view_module": "@jupyter-widgets/base",
            "_model_module_version": "1.5.0",
            "_view_count": null,
            "_view_module_version": "1.2.0",
            "_model_module": "@jupyter-widgets/controls"
          }
        },
        "2cdfbf833a134573a1ac19babb07042d": {
          "model_module": "@jupyter-widgets/base",
          "model_name": "LayoutModel",
          "model_module_version": "1.2.0",
          "state": {
            "_view_name": "LayoutView",
            "grid_template_rows": null,
            "right": null,
            "justify_content": null,
            "_view_module": "@jupyter-widgets/base",
            "overflow": null,
            "_model_module_version": "1.2.0",
            "_view_count": null,
            "flex_flow": null,
            "width": null,
            "min_width": null,
            "border": null,
            "align_items": null,
            "bottom": null,
            "_model_module": "@jupyter-widgets/base",
            "top": null,
            "grid_column": null,
            "overflow_y": null,
            "overflow_x": null,
            "grid_auto_flow": null,
            "grid_area": null,
            "grid_template_columns": null,
            "flex": null,
            "_model_name": "LayoutModel",
            "justify_items": null,
            "grid_row": null,
            "max_height": null,
            "align_content": null,
            "visibility": null,
            "align_self": null,
            "height": null,
            "min_height": null,
            "padding": null,
            "grid_auto_rows": null,
            "grid_gap": null,
            "max_width": null,
            "order": null,
            "_view_module_version": "1.2.0",
            "grid_template_areas": null,
            "object_position": null,
            "object_fit": null,
            "grid_auto_columns": null,
            "margin": null,
            "display": null,
            "left": null
          }
        }
      }
    }
  },
  "cells": [
    {
      "cell_type": "markdown",
      "metadata": {
        "id": "view-in-github",
        "colab_type": "text"
      },
      "source": [
        "<a href=\"https://colab.research.google.com/github/d9249/DACON/blob/main/vgg16%20Train%2BInference%20(ImageNet%20statistics%2C%20pretrained%2C%20full).ipynb\" target=\"_parent\"><img src=\"https://colab.research.google.com/assets/colab-badge.svg\" alt=\"Open In Colab\"/></a>"
      ]
    },
    {
      "cell_type": "code",
      "metadata": {
        "colab": {
          "base_uri": "https://localhost:8080/"
        },
        "id": "MRmwJ7v-s4NO",
        "outputId": "d5e104a6-d542-45db-9721-b75f537e4b7b"
      },
      "source": [
        "!nvidia-smi"
      ],
      "id": "MRmwJ7v-s4NO",
      "execution_count": null,
      "outputs": [
        {
          "output_type": "stream",
          "name": "stdout",
          "text": [
            "Sat Oct  9 01:56:24 2021       \n",
            "+-----------------------------------------------------------------------------+\n",
            "| NVIDIA-SMI 470.74       Driver Version: 460.32.03    CUDA Version: 11.2     |\n",
            "|-------------------------------+----------------------+----------------------+\n",
            "| GPU  Name        Persistence-M| Bus-Id        Disp.A | Volatile Uncorr. ECC |\n",
            "| Fan  Temp  Perf  Pwr:Usage/Cap|         Memory-Usage | GPU-Util  Compute M. |\n",
            "|                               |                      |               MIG M. |\n",
            "|===============================+======================+======================|\n",
            "|   0  Tesla P100-PCIE...  Off  | 00000000:00:04.0 Off |                    0 |\n",
            "| N/A   36C    P0    25W / 250W |      0MiB / 16280MiB |      0%      Default |\n",
            "|                               |                      |                  N/A |\n",
            "+-------------------------------+----------------------+----------------------+\n",
            "                                                                               \n",
            "+-----------------------------------------------------------------------------+\n",
            "| Processes:                                                                  |\n",
            "|  GPU   GI   CI        PID   Type   Process name                  GPU Memory |\n",
            "|        ID   ID                                                   Usage      |\n",
            "|=============================================================================|\n",
            "|  No running processes found                                                 |\n",
            "+-----------------------------------------------------------------------------+\n"
          ]
        }
      ]
    },
    {
      "cell_type": "code",
      "metadata": {
        "colab": {
          "base_uri": "https://localhost:8080/"
        },
        "id": "vl7w9Wass7ah",
        "outputId": "dbc8d424-a07c-4e5e-8c05-8278765001c8"
      },
      "source": [
        "from google.colab import drive\n",
        "drive.mount('/content/drive')"
      ],
      "id": "vl7w9Wass7ah",
      "execution_count": null,
      "outputs": [
        {
          "output_type": "stream",
          "name": "stdout",
          "text": [
            "Mounted at /content/drive\n"
          ]
        }
      ]
    },
    {
      "cell_type": "code",
      "metadata": {
        "id": "dbOlLdrZtUhy"
      },
      "source": [
        "!unzip -uq \"/content/drive/MyDrive/DACON_2021_recognize_traffic_signal_motion/new_open.zip\" -d \"/content/\""
      ],
      "id": "dbOlLdrZtUhy",
      "execution_count": null,
      "outputs": []
    },
    {
      "cell_type": "code",
      "metadata": {
        "id": "t6JPrj7etciK"
      },
      "source": [
        "!cp /content/drive/MyDrive/pytorch_python/dataset.py .\n",
        "!cp /content/drive/MyDrive/pytorch_python/specific_augmentation.py .\n",
        "!cp /content/drive/MyDrive/pytorch_python/specific_dataset.py .\n",
        "!cp /content/drive/MyDrive/pytorch_python/specific_train.py .\n",
        "!cp /content/drive/MyDrive/pytorch_python/train.py ."
      ],
      "id": "t6JPrj7etciK",
      "execution_count": null,
      "outputs": []
    },
    {
      "cell_type": "code",
      "metadata": {
        "id": "cc615215"
      },
      "source": [
        "from dataset import *\n",
        "from train import *\n",
        "\n",
        "import matplotlib.pyplot as plt\n",
        "import warnings\n",
        "warnings.filterwarnings('ignore')\n",
        "\n",
        "import torch, torchvision\n",
        "import torchvision.transforms as transforms"
      ],
      "id": "cc615215",
      "execution_count": null,
      "outputs": []
    },
    {
      "cell_type": "code",
      "metadata": {
        "id": "d7f97ab6"
      },
      "source": [
        "batch_size = 32\n",
        "\n",
        "train_transform = transforms.Compose([\n",
        "    transforms.Resize(256), transforms.RandomCrop((224, 400)),\n",
        "    transforms.ToTensor(), transforms.Normalize(mean=[0.485, 0.456, 0.406], std=[0.229, 0.224, 0.225])])\n",
        "\n",
        "val_transform = transforms.Compose([\n",
        "    transforms.Resize(256), transforms.CenterCrop((224, 400)),\n",
        "    transforms.ToTensor(), transforms.Normalize(mean=[0.485, 0.456, 0.406], std=[0.229, 0.224, 0.225])])"
      ],
      "id": "d7f97ab6",
      "execution_count": null,
      "outputs": []
    },
    {
      "cell_type": "code",
      "metadata": {
        "id": "Wly9AjM347Nk"
      },
      "source": [
        "train_dataset = TrainDataset(transform=train_transform)\n",
        "val_dataset = ValDataset(transform=val_transform)\n",
        "\n",
        "train_loader = torch.utils.data.DataLoader(train_dataset, batch_size=batch_size, shuffle=True)\n",
        "val_loader = torch.utils.data.DataLoader(val_dataset, batch_size=batch_size, shuffle=False)"
      ],
      "id": "Wly9AjM347Nk",
      "execution_count": null,
      "outputs": []
    },
    {
      "cell_type": "code",
      "metadata": {
        "id": "ff8fd340",
        "colab": {
          "base_uri": "https://localhost:8080/",
          "height": 67,
          "referenced_widgets": [
            "ae6716d321b0429791693266cd23157d",
            "c8248f7e5b66481f8281a4b3551e5708",
            "ebe24a3ed9fe4087b47bc84985269284",
            "4b6fef4d95ca42229f648f365d3bb4a2",
            "565d2d7aaec842a59c067b6d5c3be2b9",
            "49ed5966c4434888938811c79223973b",
            "ec929ce969d2491c9a8ceb5b878d1e28",
            "87bffbdebd3d424ea1f12c9479f5db52",
            "01b1db706ed04db9be61315f9d395d47",
            "0371b7466a8d45a8a7f77451c4847715",
            "2cdfbf833a134573a1ac19babb07042d"
          ]
        },
        "outputId": "d4c4d509-ccdf-4240-b485-5e866aca8847"
      },
      "source": [
        "model = Baseline(model='vgg13', num_classes=len(train_dataset.label_info), print_freq=5, save=True)"
      ],
      "id": "ff8fd340",
      "execution_count": null,
      "outputs": [
        {
          "output_type": "stream",
          "name": "stderr",
          "text": [
            "Downloading: \"https://download.pytorch.org/models/vgg13-19584684.pth\" to /root/.cache/torch/hub/checkpoints/vgg13-19584684.pth\n"
          ]
        },
        {
          "output_type": "display_data",
          "data": {
            "application/vnd.jupyter.widget-view+json": {
              "model_id": "ae6716d321b0429791693266cd23157d",
              "version_minor": 0,
              "version_major": 2
            },
            "text/plain": [
              "  0%|          | 0.00/508M [00:00<?, ?B/s]"
            ]
          },
          "metadata": {}
        }
      ]
    },
    {
      "cell_type": "code",
      "metadata": {
        "colab": {
          "base_uri": "https://localhost:8080/"
        },
        "id": "peiTg0WkZpJM",
        "outputId": "ac6ea2c8-ffb0-45c9-88cd-159642dfc06f"
      },
      "source": [
        "len(train_dataset.label_info)"
      ],
      "id": "peiTg0WkZpJM",
      "execution_count": null,
      "outputs": [
        {
          "output_type": "execute_result",
          "data": {
            "text/plain": [
              "157"
            ]
          },
          "metadata": {},
          "execution_count": 10
        }
      ]
    },
    {
      "cell_type": "code",
      "metadata": {
        "id": "cb07767c"
      },
      "source": [
        "epochs = 5\n",
        "lr = 0.0005\n",
        "weight_decay = 0.00001"
      ],
      "id": "cb07767c",
      "execution_count": null,
      "outputs": []
    },
    {
      "cell_type": "code",
      "metadata": {
        "id": "3ae6f71d",
        "colab": {
          "base_uri": "https://localhost:8080/",
          "height": 1000
        },
        "outputId": "6e082fa9-218c-48c5-d9d0-47c16fac0e54"
      },
      "source": [
        "model.train(train_loader, val_loader, epochs=epochs, lr=lr, weight_decay=weight_decay)"
      ],
      "id": "3ae6f71d",
      "execution_count": null,
      "outputs": [
        {
          "output_type": "stream",
          "name": "stdout",
          "text": [
            "Epoch 1 Started...\n",
            "Best Model Saved\n",
            "Iteration : 1 - Train Loss : 5.021458, Test Loss : 5.891717, Train Acc : 0.000000, Test Acc : 6.453804\n",
            "Best Model Saved\n",
            "Iteration : 6 - Train Loss : 4.972047, Test Loss : 4.907514, Train Acc : 3.125000, Test Acc : 4.551630\n",
            "Best Model Saved\n",
            "Iteration : 11 - Train Loss : 4.797762, Test Loss : 4.522967, Train Acc : 0.000000, Test Acc : 4.687500\n",
            "Best Model Saved\n",
            "Iteration : 16 - Train Loss : 4.459108, Test Loss : 4.314099, Train Acc : 0.000000, Test Acc : 5.706522\n",
            "Best Model Saved\n",
            "Iteration : 21 - Train Loss : 4.436842, Test Loss : 4.092596, Train Acc : 0.000000, Test Acc : 8.423913\n",
            "Best Model Saved\n",
            "Iteration : 26 - Train Loss : 3.888952, Test Loss : 3.861823, Train Acc : 0.000000, Test Acc : 9.442935\n",
            "Best Model Saved\n",
            "Iteration : 31 - Train Loss : 3.609712, Test Loss : 3.552895, Train Acc : 3.125000, Test Acc : 12.771739\n",
            "Best Model Saved\n",
            "Iteration : 36 - Train Loss : 3.679291, Test Loss : 3.297773, Train Acc : 15.625000, Test Acc : 18.410326\n",
            "Best Model Saved\n",
            "Iteration : 41 - Train Loss : 2.991930, Test Loss : 2.911736, Train Acc : 15.625000, Test Acc : 25.407609\n",
            "Best Model Saved\n",
            "Iteration : 46 - Train Loss : 3.271826, Test Loss : 2.931814, Train Acc : 12.500000, Test Acc : 25.679348\n",
            "Best Model Saved\n",
            "Iteration : 51 - Train Loss : 2.778590, Test Loss : 2.479759, Train Acc : 25.000000, Test Acc : 31.046196\n",
            "Best Model Saved\n",
            "Iteration : 56 - Train Loss : 2.402788, Test Loss : 2.470904, Train Acc : 21.875000, Test Acc : 32.065217\n",
            "Best Model Saved\n",
            "Iteration : 61 - Train Loss : 2.904915, Test Loss : 2.540269, Train Acc : 21.875000, Test Acc : 32.269022\n",
            "Best Model Saved\n",
            "Iteration : 66 - Train Loss : 2.737561, Test Loss : 2.173175, Train Acc : 28.125000, Test Acc : 34.850543\n",
            "Best Model Saved\n",
            "Iteration : 71 - Train Loss : 2.316911, Test Loss : 2.122795, Train Acc : 31.250000, Test Acc : 37.228261\n",
            "Iteration : 76 - Train Loss : 2.446579, Test Loss : 2.233693, Train Acc : 18.750000, Test Acc : 36.548913\n",
            "Best Model Saved\n",
            "Iteration : 81 - Train Loss : 2.302832, Test Loss : 1.831022, Train Acc : 31.250000, Test Acc : 45.584239\n",
            "Best Model Saved\n",
            "Iteration : 86 - Train Loss : 1.499014, Test Loss : 1.587586, Train Acc : 56.250000, Test Acc : 50.475543\n",
            "Iteration : 91 - Train Loss : 1.667296, Test Loss : 1.612716, Train Acc : 50.000000, Test Acc : 49.184783\n",
            "Best Model Saved\n",
            "Iteration : 96 - Train Loss : 1.736406, Test Loss : 1.492139, Train Acc : 53.125000, Test Acc : 55.706522\n",
            "Best Model Saved\n",
            "Iteration : 101 - Train Loss : 1.614239, Test Loss : 1.365732, Train Acc : 53.125000, Test Acc : 56.521739\n",
            "Iteration : 106 - Train Loss : 1.596334, Test Loss : 1.410529, Train Acc : 53.125000, Test Acc : 55.027174\n",
            "Best Model Saved\n",
            "Iteration : 111 - Train Loss : 1.526019, Test Loss : 1.424571, Train Acc : 53.125000, Test Acc : 56.725543\n",
            "Best Model Saved\n",
            "Iteration : 116 - Train Loss : 1.135040, Test Loss : 1.262419, Train Acc : 56.250000, Test Acc : 57.540761\n",
            "Iteration : 121 - Train Loss : 1.598917, Test Loss : 1.289853, Train Acc : 50.000000, Test Acc : 56.521739\n",
            "Best Model Saved\n",
            "Iteration : 126 - Train Loss : 1.349204, Test Loss : 1.165269, Train Acc : 62.500000, Test Acc : 61.684783\n",
            "Best Model Saved\n",
            "Iteration : 131 - Train Loss : 1.430526, Test Loss : 0.984435, Train Acc : 59.375000, Test Acc : 67.187500\n",
            "Best Model Saved\n",
            "Iteration : 136 - Train Loss : 1.163101, Test Loss : 0.965120, Train Acc : 62.500000, Test Acc : 68.817935\n",
            "\n",
            "Epoch 2 Started...\n",
            "Iteration : 1 - Train Loss : 0.864517, Test Loss : 1.051867, Train Acc : 78.125000, Test Acc : 65.285326\n",
            "Iteration : 6 - Train Loss : 1.281675, Test Loss : 1.009597, Train Acc : 59.375000, Test Acc : 65.828804\n",
            "Iteration : 11 - Train Loss : 1.079409, Test Loss : 1.009847, Train Acc : 65.625000, Test Acc : 65.081522\n",
            "Best Model Saved\n",
            "Iteration : 16 - Train Loss : 1.154439, Test Loss : 0.916805, Train Acc : 59.375000, Test Acc : 69.497283\n",
            "Best Model Saved\n",
            "Iteration : 21 - Train Loss : 1.327822, Test Loss : 0.801317, Train Acc : 56.250000, Test Acc : 73.709239\n",
            "Best Model Saved\n",
            "Iteration : 26 - Train Loss : 1.128286, Test Loss : 0.831249, Train Acc : 62.500000, Test Acc : 74.456522\n",
            "Best Model Saved\n",
            "Iteration : 31 - Train Loss : 0.952937, Test Loss : 0.797582, Train Acc : 71.875000, Test Acc : 75.000000\n",
            "Best Model Saved\n",
            "Iteration : 36 - Train Loss : 0.745770, Test Loss : 0.726298, Train Acc : 75.000000, Test Acc : 75.815217\n",
            "Best Model Saved\n",
            "Iteration : 41 - Train Loss : 0.811072, Test Loss : 0.724393, Train Acc : 71.875000, Test Acc : 77.921196\n",
            "Best Model Saved\n",
            "Iteration : 46 - Train Loss : 0.591690, Test Loss : 0.723709, Train Acc : 81.250000, Test Acc : 78.057065\n",
            "Best Model Saved\n",
            "Iteration : 51 - Train Loss : 0.832576, Test Loss : 0.754569, Train Acc : 78.125000, Test Acc : 78.192935\n",
            "Best Model Saved\n",
            "Iteration : 56 - Train Loss : 0.962417, Test Loss : 0.651007, Train Acc : 71.875000, Test Acc : 79.347826\n",
            "Best Model Saved\n",
            "Iteration : 61 - Train Loss : 1.018348, Test Loss : 0.663854, Train Acc : 75.000000, Test Acc : 80.230978\n",
            "Iteration : 66 - Train Loss : 0.803982, Test Loss : 0.687702, Train Acc : 65.625000, Test Acc : 78.192935\n",
            "Iteration : 71 - Train Loss : 0.819043, Test Loss : 0.667337, Train Acc : 78.125000, Test Acc : 79.551630\n",
            "Best Model Saved\n",
            "Iteration : 76 - Train Loss : 1.930602, Test Loss : 0.625112, Train Acc : 59.375000, Test Acc : 82.065217\n",
            "Iteration : 81 - Train Loss : 1.177563, Test Loss : 0.650616, Train Acc : 65.625000, Test Acc : 80.502717\n",
            "Iteration : 86 - Train Loss : 0.479388, Test Loss : 0.630294, Train Acc : 84.375000, Test Acc : 79.483696\n",
            "Best Model Saved\n",
            "Iteration : 91 - Train Loss : 0.489530, Test Loss : 0.438805, Train Acc : 87.500000, Test Acc : 83.967391\n",
            "Best Model Saved\n",
            "Iteration : 96 - Train Loss : 0.266483, Test Loss : 0.413334, Train Acc : 93.750000, Test Acc : 86.345109\n",
            "Iteration : 101 - Train Loss : 0.429370, Test Loss : 0.463682, Train Acc : 84.375000, Test Acc : 85.597826\n",
            "Iteration : 106 - Train Loss : 0.577539, Test Loss : 0.450525, Train Acc : 84.375000, Test Acc : 84.850543\n",
            "Best Model Saved\n",
            "Iteration : 111 - Train Loss : 0.310857, Test Loss : 0.343473, Train Acc : 90.625000, Test Acc : 88.179348\n",
            "Best Model Saved\n",
            "Iteration : 116 - Train Loss : 0.553466, Test Loss : 0.342991, Train Acc : 87.500000, Test Acc : 88.043478\n",
            "Iteration : 121 - Train Loss : 0.462129, Test Loss : 0.370025, Train Acc : 81.250000, Test Acc : 86.616848\n",
            "Iteration : 126 - Train Loss : 0.972131, Test Loss : 0.461593, Train Acc : 75.000000, Test Acc : 84.850543\n",
            "Iteration : 131 - Train Loss : 0.417902, Test Loss : 0.538371, Train Acc : 90.625000, Test Acc : 82.065217\n",
            "Best Model Saved\n",
            "Iteration : 136 - Train Loss : 0.666873, Test Loss : 0.351684, Train Acc : 78.125000, Test Acc : 88.586957\n",
            "\n",
            "Epoch 3 Started...\n",
            "Iteration : 1 - Train Loss : 0.420939, Test Loss : 0.372012, Train Acc : 90.625000, Test Acc : 87.839674\n",
            "Iteration : 6 - Train Loss : 0.333184, Test Loss : 0.371825, Train Acc : 90.625000, Test Acc : 88.519022\n",
            "Best Model Saved\n",
            "Iteration : 11 - Train Loss : 0.316263, Test Loss : 0.312102, Train Acc : 96.875000, Test Acc : 90.760870\n",
            "Iteration : 16 - Train Loss : 0.503480, Test Loss : 0.383777, Train Acc : 78.125000, Test Acc : 87.907609\n",
            "Best Model Saved\n",
            "Iteration : 21 - Train Loss : 0.729243, Test Loss : 0.305818, Train Acc : 75.000000, Test Acc : 91.168478\n",
            "Iteration : 26 - Train Loss : 0.425629, Test Loss : 0.328759, Train Acc : 84.375000, Test Acc : 90.557065\n",
            "Iteration : 31 - Train Loss : 0.542348, Test Loss : 0.322866, Train Acc : 81.250000, Test Acc : 89.538043\n",
            "Best Model Saved\n",
            "Iteration : 36 - Train Loss : 0.406642, Test Loss : 0.254236, Train Acc : 84.375000, Test Acc : 91.915761\n",
            "Iteration : 41 - Train Loss : 0.201293, Test Loss : 0.259244, Train Acc : 93.750000, Test Acc : 91.644022\n",
            "Best Model Saved\n",
            "Iteration : 46 - Train Loss : 0.465077, Test Loss : 0.223545, Train Acc : 84.375000, Test Acc : 92.730978\n",
            "Best Model Saved\n",
            "Iteration : 51 - Train Loss : 0.567728, Test Loss : 0.229813, Train Acc : 84.375000, Test Acc : 93.070652\n",
            "Best Model Saved\n",
            "Iteration : 56 - Train Loss : 0.600232, Test Loss : 0.210843, Train Acc : 84.375000, Test Acc : 93.614130\n",
            "Best Model Saved\n",
            "Iteration : 61 - Train Loss : 0.192852, Test Loss : 0.190088, Train Acc : 96.875000, Test Acc : 94.361413\n",
            "Iteration : 66 - Train Loss : 0.530034, Test Loss : 0.239065, Train Acc : 84.375000, Test Acc : 92.187500\n",
            "Iteration : 71 - Train Loss : 0.066801, Test Loss : 0.215103, Train Acc : 100.000000, Test Acc : 92.323370\n",
            "Iteration : 76 - Train Loss : 0.253672, Test Loss : 0.198566, Train Acc : 90.625000, Test Acc : 92.866848\n",
            "Best Model Saved\n",
            "Iteration : 81 - Train Loss : 0.407694, Test Loss : 0.162010, Train Acc : 90.625000, Test Acc : 94.429348\n",
            "Best Model Saved\n",
            "Iteration : 86 - Train Loss : 0.166212, Test Loss : 0.160503, Train Acc : 93.750000, Test Acc : 94.701087\n",
            "Best Model Saved\n",
            "Iteration : 91 - Train Loss : 0.459557, Test Loss : 0.163187, Train Acc : 81.250000, Test Acc : 95.108696\n",
            "Best Model Saved\n",
            "Iteration : 96 - Train Loss : 0.409785, Test Loss : 0.136315, Train Acc : 84.375000, Test Acc : 95.788043\n",
            "Iteration : 101 - Train Loss : 0.235882, Test Loss : 0.137545, Train Acc : 90.625000, Test Acc : 95.584239\n",
            "Best Model Saved\n",
            "Iteration : 106 - Train Loss : 0.250213, Test Loss : 0.117116, Train Acc : 87.500000, Test Acc : 96.331522\n",
            "Iteration : 111 - Train Loss : 0.342138, Test Loss : 0.120131, Train Acc : 84.375000, Test Acc : 96.127717\n",
            "Best Model Saved\n",
            "Iteration : 116 - Train Loss : 0.286943, Test Loss : 0.109977, Train Acc : 90.625000, Test Acc : 95.923913\n",
            "Iteration : 121 - Train Loss : 0.149118, Test Loss : 0.203203, Train Acc : 93.750000, Test Acc : 92.798913\n",
            "Best Model Saved\n",
            "Iteration : 126 - Train Loss : 0.267305, Test Loss : 0.128483, Train Acc : 93.750000, Test Acc : 96.331522\n",
            "Best Model Saved\n",
            "Iteration : 131 - Train Loss : 0.140054, Test Loss : 0.122727, Train Acc : 93.750000, Test Acc : 96.671196\n",
            "Iteration : 136 - Train Loss : 0.114485, Test Loss : 0.242289, Train Acc : 96.875000, Test Acc : 92.391304\n",
            "\n",
            "Epoch 4 Started...\n",
            "Iteration : 1 - Train Loss : 0.266325, Test Loss : 0.187897, Train Acc : 90.625000, Test Acc : 93.817935\n",
            "Iteration : 6 - Train Loss : 0.158059, Test Loss : 0.136305, Train Acc : 93.750000, Test Acc : 96.195652\n",
            "Best Model Saved\n",
            "Iteration : 11 - Train Loss : 0.061406, Test Loss : 0.114559, Train Acc : 96.875000, Test Acc : 96.195652\n",
            "Best Model Saved\n",
            "Iteration : 16 - Train Loss : 0.157397, Test Loss : 0.120238, Train Acc : 90.625000, Test Acc : 96.399457\n",
            "Iteration : 21 - Train Loss : 0.317857, Test Loss : 0.196818, Train Acc : 90.625000, Test Acc : 93.953804\n",
            "Iteration : 26 - Train Loss : 0.099116, Test Loss : 0.139248, Train Acc : 93.750000, Test Acc : 95.516304\n",
            "Iteration : 31 - Train Loss : 0.062485, Test Loss : 0.169426, Train Acc : 96.875000, Test Acc : 94.361413\n",
            "Best Model Saved\n",
            "Iteration : 36 - Train Loss : 0.087919, Test Loss : 0.121634, Train Acc : 96.875000, Test Acc : 96.603261\n",
            "Best Model Saved\n",
            "Iteration : 41 - Train Loss : 0.197125, Test Loss : 0.115712, Train Acc : 93.750000, Test Acc : 95.855978\n",
            "Best Model Saved\n",
            "Iteration : 46 - Train Loss : 0.187942, Test Loss : 0.133186, Train Acc : 96.875000, Test Acc : 96.331522\n",
            "Best Model Saved\n",
            "Iteration : 51 - Train Loss : 0.201017, Test Loss : 0.087435, Train Acc : 90.625000, Test Acc : 97.418478\n",
            "Iteration : 56 - Train Loss : 0.022631, Test Loss : 0.094902, Train Acc : 100.000000, Test Acc : 96.807065\n",
            "Iteration : 61 - Train Loss : 0.174379, Test Loss : 0.108871, Train Acc : 93.750000, Test Acc : 95.991848\n",
            "Iteration : 66 - Train Loss : 0.263553, Test Loss : 0.184429, Train Acc : 87.500000, Test Acc : 94.157609\n",
            "Iteration : 71 - Train Loss : 0.064078, Test Loss : 0.158651, Train Acc : 96.875000, Test Acc : 94.429348\n",
            "Iteration : 76 - Train Loss : 0.302310, Test Loss : 0.217256, Train Acc : 96.875000, Test Acc : 93.885870\n",
            "Iteration : 81 - Train Loss : 0.116673, Test Loss : 0.198045, Train Acc : 96.875000, Test Acc : 94.769022\n",
            "Iteration : 86 - Train Loss : 0.249111, Test Loss : 0.215442, Train Acc : 87.500000, Test Acc : 92.730978\n",
            "Iteration : 91 - Train Loss : 0.504329, Test Loss : 0.210079, Train Acc : 90.625000, Test Acc : 92.798913\n",
            "Iteration : 96 - Train Loss : 0.252516, Test Loss : 0.264299, Train Acc : 87.500000, Test Acc : 91.711957\n",
            "Iteration : 101 - Train Loss : 0.437576, Test Loss : 0.184193, Train Acc : 90.625000, Test Acc : 93.885870\n",
            "Iteration : 106 - Train Loss : 0.141430, Test Loss : 0.232273, Train Acc : 96.875000, Test Acc : 92.051630\n",
            "Iteration : 111 - Train Loss : 0.337267, Test Loss : 0.124346, Train Acc : 90.625000, Test Acc : 94.904891\n",
            "Iteration : 116 - Train Loss : 0.193387, Test Loss : 0.154706, Train Acc : 96.875000, Test Acc : 95.244565\n",
            "Iteration : 121 - Train Loss : 0.250165, Test Loss : 0.135948, Train Acc : 96.875000, Test Acc : 95.448370\n",
            "Iteration : 126 - Train Loss : 0.143134, Test Loss : 0.125136, Train Acc : 93.750000, Test Acc : 96.671196\n",
            "Best Model Saved\n",
            "Iteration : 131 - Train Loss : 0.211055, Test Loss : 0.083890, Train Acc : 93.750000, Test Acc : 97.350543\n",
            "Best Model Saved\n",
            "Iteration : 136 - Train Loss : 0.119153, Test Loss : 0.065294, Train Acc : 93.750000, Test Acc : 98.301630\n",
            "\n",
            "Epoch 5 Started...\n",
            "Iteration : 1 - Train Loss : 0.081935, Test Loss : 0.078834, Train Acc : 96.875000, Test Acc : 98.029891\n"
          ]
        },
        {
          "output_type": "error",
          "ename": "KeyboardInterrupt",
          "evalue": "ignored",
          "traceback": [
            "\u001b[0;31m---------------------------------------------------------------------------\u001b[0m",
            "\u001b[0;31mKeyboardInterrupt\u001b[0m                         Traceback (most recent call last)",
            "\u001b[0;32m<ipython-input-10-db683b7e369a>\u001b[0m in \u001b[0;36m<module>\u001b[0;34m()\u001b[0m\n\u001b[0;32m----> 1\u001b[0;31m \u001b[0mmodel\u001b[0m\u001b[0;34m.\u001b[0m\u001b[0mtrain\u001b[0m\u001b[0;34m(\u001b[0m\u001b[0mtrain_loader\u001b[0m\u001b[0;34m,\u001b[0m \u001b[0mval_loader\u001b[0m\u001b[0;34m,\u001b[0m \u001b[0mepochs\u001b[0m\u001b[0;34m=\u001b[0m\u001b[0mepochs\u001b[0m\u001b[0;34m,\u001b[0m \u001b[0mlr\u001b[0m\u001b[0;34m=\u001b[0m\u001b[0mlr\u001b[0m\u001b[0;34m,\u001b[0m \u001b[0mweight_decay\u001b[0m\u001b[0;34m=\u001b[0m\u001b[0mweight_decay\u001b[0m\u001b[0;34m)\u001b[0m\u001b[0;34m\u001b[0m\u001b[0;34m\u001b[0m\u001b[0m\n\u001b[0m",
            "\u001b[0;32m/content/train.py\u001b[0m in \u001b[0;36mtrain\u001b[0;34m(self, train_data, test_data, epochs, lr, weight_decay)\u001b[0m\n\u001b[1;32m    120\u001b[0m                 \u001b[0;32mif\u001b[0m \u001b[0;34m(\u001b[0m\u001b[0mepoch\u001b[0m \u001b[0;34m%\u001b[0m \u001b[0mself\u001b[0m\u001b[0;34m.\u001b[0m\u001b[0mepoch_print\u001b[0m \u001b[0;34m==\u001b[0m \u001b[0;36m0\u001b[0m\u001b[0;34m)\u001b[0m \u001b[0;32mand\u001b[0m \u001b[0;34m(\u001b[0m\u001b[0mi\u001b[0m \u001b[0;34m%\u001b[0m \u001b[0mself\u001b[0m\u001b[0;34m.\u001b[0m\u001b[0mprint_freq\u001b[0m \u001b[0;34m==\u001b[0m \u001b[0;36m0\u001b[0m\u001b[0;34m)\u001b[0m\u001b[0;34m:\u001b[0m\u001b[0;34m\u001b[0m\u001b[0;34m\u001b[0m\u001b[0m\n\u001b[1;32m    121\u001b[0m                     \u001b[0mtrain_acc\u001b[0m \u001b[0;34m=\u001b[0m \u001b[0;36m100\u001b[0m \u001b[0;34m*\u001b[0m \u001b[0mcount\u001b[0m\u001b[0;34m(\u001b[0m\u001b[0moutput\u001b[0m\u001b[0;34m,\u001b[0m \u001b[0my\u001b[0m\u001b[0;34m)\u001b[0m \u001b[0;34m/\u001b[0m \u001b[0my\u001b[0m\u001b[0;34m.\u001b[0m\u001b[0msize\u001b[0m\u001b[0;34m(\u001b[0m\u001b[0;36m0\u001b[0m\u001b[0;34m)\u001b[0m\u001b[0;34m\u001b[0m\u001b[0;34m\u001b[0m\u001b[0m\n\u001b[0;32m--> 122\u001b[0;31m                     \u001b[0mtest_acc\u001b[0m\u001b[0;34m,\u001b[0m \u001b[0mtest_loss\u001b[0m \u001b[0;34m=\u001b[0m \u001b[0mself\u001b[0m\u001b[0;34m.\u001b[0m\u001b[0mtest\u001b[0m\u001b[0;34m(\u001b[0m\u001b[0mtest_data\u001b[0m\u001b[0;34m)\u001b[0m\u001b[0;34m\u001b[0m\u001b[0;34m\u001b[0m\u001b[0m\n\u001b[0m\u001b[1;32m    123\u001b[0m \u001b[0;34m\u001b[0m\u001b[0m\n\u001b[1;32m    124\u001b[0m                     \u001b[0;32mif\u001b[0m \u001b[0mself\u001b[0m\u001b[0;34m.\u001b[0m\u001b[0msave\u001b[0m \u001b[0;32mand\u001b[0m \u001b[0;34m(\u001b[0m\u001b[0;34m(\u001b[0m\u001b[0mself\u001b[0m\u001b[0;34m.\u001b[0m\u001b[0mbest_acc\u001b[0m \u001b[0;34m==\u001b[0m \u001b[0;32mNone\u001b[0m\u001b[0;34m)\u001b[0m \u001b[0;32mor\u001b[0m \u001b[0;34m(\u001b[0m\u001b[0mself\u001b[0m\u001b[0;34m.\u001b[0m\u001b[0mbest_acc\u001b[0m \u001b[0;34m<\u001b[0m \u001b[0mtest_acc\u001b[0m\u001b[0;34m)\u001b[0m \u001b[0;32mor\u001b[0m \u001b[0;34m(\u001b[0m\u001b[0mtest_loss\u001b[0m \u001b[0;34m<\u001b[0m \u001b[0mself\u001b[0m\u001b[0;34m.\u001b[0m\u001b[0mbest_loss\u001b[0m\u001b[0;34m)\u001b[0m\u001b[0;34m)\u001b[0m\u001b[0;34m:\u001b[0m\u001b[0;34m\u001b[0m\u001b[0;34m\u001b[0m\u001b[0m\n",
            "\u001b[0;32m/content/train.py\u001b[0m in \u001b[0;36mtest\u001b[0;34m(self, test_data)\u001b[0m\n\u001b[1;32m    144\u001b[0m         \u001b[0mself\u001b[0m\u001b[0;34m.\u001b[0m\u001b[0mmodel\u001b[0m\u001b[0;34m.\u001b[0m\u001b[0meval\u001b[0m\u001b[0;34m(\u001b[0m\u001b[0;34m)\u001b[0m\u001b[0;34m\u001b[0m\u001b[0;34m\u001b[0m\u001b[0m\n\u001b[1;32m    145\u001b[0m         \u001b[0;32mwith\u001b[0m \u001b[0mtorch\u001b[0m\u001b[0;34m.\u001b[0m\u001b[0mno_grad\u001b[0m\u001b[0;34m(\u001b[0m\u001b[0;34m)\u001b[0m\u001b[0;34m:\u001b[0m\u001b[0;34m\u001b[0m\u001b[0;34m\u001b[0m\u001b[0m\n\u001b[0;32m--> 146\u001b[0;31m             \u001b[0;32mfor\u001b[0m \u001b[0mi\u001b[0m\u001b[0;34m,\u001b[0m \u001b[0;34m(\u001b[0m\u001b[0mX\u001b[0m\u001b[0;34m,\u001b[0m \u001b[0my\u001b[0m\u001b[0;34m)\u001b[0m \u001b[0;32min\u001b[0m \u001b[0menumerate\u001b[0m\u001b[0;34m(\u001b[0m\u001b[0mtest_data\u001b[0m\u001b[0;34m)\u001b[0m\u001b[0;34m:\u001b[0m\u001b[0;34m\u001b[0m\u001b[0;34m\u001b[0m\u001b[0m\n\u001b[0m\u001b[1;32m    147\u001b[0m                 \u001b[0mX\u001b[0m\u001b[0;34m,\u001b[0m \u001b[0my\u001b[0m \u001b[0;34m=\u001b[0m \u001b[0mX\u001b[0m\u001b[0;34m.\u001b[0m\u001b[0mcuda\u001b[0m\u001b[0;34m(\u001b[0m\u001b[0mself\u001b[0m\u001b[0;34m.\u001b[0m\u001b[0mgpu\u001b[0m\u001b[0;34m)\u001b[0m\u001b[0;34m,\u001b[0m \u001b[0my\u001b[0m\u001b[0;34m.\u001b[0m\u001b[0mcuda\u001b[0m\u001b[0;34m(\u001b[0m\u001b[0mself\u001b[0m\u001b[0;34m.\u001b[0m\u001b[0mgpu\u001b[0m\u001b[0;34m)\u001b[0m\u001b[0;34m\u001b[0m\u001b[0;34m\u001b[0m\u001b[0m\n\u001b[1;32m    148\u001b[0m                 \u001b[0moutput\u001b[0m \u001b[0;34m=\u001b[0m \u001b[0mself\u001b[0m\u001b[0;34m.\u001b[0m\u001b[0mmodel\u001b[0m\u001b[0;34m(\u001b[0m\u001b[0mX\u001b[0m\u001b[0;34m)\u001b[0m\u001b[0;34m\u001b[0m\u001b[0;34m\u001b[0m\u001b[0m\n",
            "\u001b[0;32m/usr/local/lib/python3.7/dist-packages/torch/utils/data/dataloader.py\u001b[0m in \u001b[0;36m__next__\u001b[0;34m(self)\u001b[0m\n\u001b[1;32m    519\u001b[0m             \u001b[0;32mif\u001b[0m \u001b[0mself\u001b[0m\u001b[0;34m.\u001b[0m\u001b[0m_sampler_iter\u001b[0m \u001b[0;32mis\u001b[0m \u001b[0;32mNone\u001b[0m\u001b[0;34m:\u001b[0m\u001b[0;34m\u001b[0m\u001b[0;34m\u001b[0m\u001b[0m\n\u001b[1;32m    520\u001b[0m                 \u001b[0mself\u001b[0m\u001b[0;34m.\u001b[0m\u001b[0m_reset\u001b[0m\u001b[0;34m(\u001b[0m\u001b[0;34m)\u001b[0m\u001b[0;34m\u001b[0m\u001b[0;34m\u001b[0m\u001b[0m\n\u001b[0;32m--> 521\u001b[0;31m             \u001b[0mdata\u001b[0m \u001b[0;34m=\u001b[0m \u001b[0mself\u001b[0m\u001b[0;34m.\u001b[0m\u001b[0m_next_data\u001b[0m\u001b[0;34m(\u001b[0m\u001b[0;34m)\u001b[0m\u001b[0;34m\u001b[0m\u001b[0;34m\u001b[0m\u001b[0m\n\u001b[0m\u001b[1;32m    522\u001b[0m             \u001b[0mself\u001b[0m\u001b[0;34m.\u001b[0m\u001b[0m_num_yielded\u001b[0m \u001b[0;34m+=\u001b[0m \u001b[0;36m1\u001b[0m\u001b[0;34m\u001b[0m\u001b[0;34m\u001b[0m\u001b[0m\n\u001b[1;32m    523\u001b[0m             \u001b[0;32mif\u001b[0m \u001b[0mself\u001b[0m\u001b[0;34m.\u001b[0m\u001b[0m_dataset_kind\u001b[0m \u001b[0;34m==\u001b[0m \u001b[0m_DatasetKind\u001b[0m\u001b[0;34m.\u001b[0m\u001b[0mIterable\u001b[0m \u001b[0;32mand\u001b[0m\u001b[0;31m \u001b[0m\u001b[0;31m\\\u001b[0m\u001b[0;34m\u001b[0m\u001b[0;34m\u001b[0m\u001b[0m\n",
            "\u001b[0;32m/usr/local/lib/python3.7/dist-packages/torch/utils/data/dataloader.py\u001b[0m in \u001b[0;36m_next_data\u001b[0;34m(self)\u001b[0m\n\u001b[1;32m    559\u001b[0m     \u001b[0;32mdef\u001b[0m \u001b[0m_next_data\u001b[0m\u001b[0;34m(\u001b[0m\u001b[0mself\u001b[0m\u001b[0;34m)\u001b[0m\u001b[0;34m:\u001b[0m\u001b[0;34m\u001b[0m\u001b[0;34m\u001b[0m\u001b[0m\n\u001b[1;32m    560\u001b[0m         \u001b[0mindex\u001b[0m \u001b[0;34m=\u001b[0m \u001b[0mself\u001b[0m\u001b[0;34m.\u001b[0m\u001b[0m_next_index\u001b[0m\u001b[0;34m(\u001b[0m\u001b[0;34m)\u001b[0m  \u001b[0;31m# may raise StopIteration\u001b[0m\u001b[0;34m\u001b[0m\u001b[0;34m\u001b[0m\u001b[0m\n\u001b[0;32m--> 561\u001b[0;31m         \u001b[0mdata\u001b[0m \u001b[0;34m=\u001b[0m \u001b[0mself\u001b[0m\u001b[0;34m.\u001b[0m\u001b[0m_dataset_fetcher\u001b[0m\u001b[0;34m.\u001b[0m\u001b[0mfetch\u001b[0m\u001b[0;34m(\u001b[0m\u001b[0mindex\u001b[0m\u001b[0;34m)\u001b[0m  \u001b[0;31m# may raise StopIteration\u001b[0m\u001b[0;34m\u001b[0m\u001b[0;34m\u001b[0m\u001b[0m\n\u001b[0m\u001b[1;32m    562\u001b[0m         \u001b[0;32mif\u001b[0m \u001b[0mself\u001b[0m\u001b[0;34m.\u001b[0m\u001b[0m_pin_memory\u001b[0m\u001b[0;34m:\u001b[0m\u001b[0;34m\u001b[0m\u001b[0;34m\u001b[0m\u001b[0m\n\u001b[1;32m    563\u001b[0m             \u001b[0mdata\u001b[0m \u001b[0;34m=\u001b[0m \u001b[0m_utils\u001b[0m\u001b[0;34m.\u001b[0m\u001b[0mpin_memory\u001b[0m\u001b[0;34m.\u001b[0m\u001b[0mpin_memory\u001b[0m\u001b[0;34m(\u001b[0m\u001b[0mdata\u001b[0m\u001b[0;34m)\u001b[0m\u001b[0;34m\u001b[0m\u001b[0;34m\u001b[0m\u001b[0m\n",
            "\u001b[0;32m/usr/local/lib/python3.7/dist-packages/torch/utils/data/_utils/fetch.py\u001b[0m in \u001b[0;36mfetch\u001b[0;34m(self, possibly_batched_index)\u001b[0m\n\u001b[1;32m     42\u001b[0m     \u001b[0;32mdef\u001b[0m \u001b[0mfetch\u001b[0m\u001b[0;34m(\u001b[0m\u001b[0mself\u001b[0m\u001b[0;34m,\u001b[0m \u001b[0mpossibly_batched_index\u001b[0m\u001b[0;34m)\u001b[0m\u001b[0;34m:\u001b[0m\u001b[0;34m\u001b[0m\u001b[0;34m\u001b[0m\u001b[0m\n\u001b[1;32m     43\u001b[0m         \u001b[0;32mif\u001b[0m \u001b[0mself\u001b[0m\u001b[0;34m.\u001b[0m\u001b[0mauto_collation\u001b[0m\u001b[0;34m:\u001b[0m\u001b[0;34m\u001b[0m\u001b[0;34m\u001b[0m\u001b[0m\n\u001b[0;32m---> 44\u001b[0;31m             \u001b[0mdata\u001b[0m \u001b[0;34m=\u001b[0m \u001b[0;34m[\u001b[0m\u001b[0mself\u001b[0m\u001b[0;34m.\u001b[0m\u001b[0mdataset\u001b[0m\u001b[0;34m[\u001b[0m\u001b[0midx\u001b[0m\u001b[0;34m]\u001b[0m \u001b[0;32mfor\u001b[0m \u001b[0midx\u001b[0m \u001b[0;32min\u001b[0m \u001b[0mpossibly_batched_index\u001b[0m\u001b[0;34m]\u001b[0m\u001b[0;34m\u001b[0m\u001b[0;34m\u001b[0m\u001b[0m\n\u001b[0m\u001b[1;32m     45\u001b[0m         \u001b[0;32melse\u001b[0m\u001b[0;34m:\u001b[0m\u001b[0;34m\u001b[0m\u001b[0;34m\u001b[0m\u001b[0m\n\u001b[1;32m     46\u001b[0m             \u001b[0mdata\u001b[0m \u001b[0;34m=\u001b[0m \u001b[0mself\u001b[0m\u001b[0;34m.\u001b[0m\u001b[0mdataset\u001b[0m\u001b[0;34m[\u001b[0m\u001b[0mpossibly_batched_index\u001b[0m\u001b[0;34m]\u001b[0m\u001b[0;34m\u001b[0m\u001b[0;34m\u001b[0m\u001b[0m\n",
            "\u001b[0;32m/usr/local/lib/python3.7/dist-packages/torch/utils/data/_utils/fetch.py\u001b[0m in \u001b[0;36m<listcomp>\u001b[0;34m(.0)\u001b[0m\n\u001b[1;32m     42\u001b[0m     \u001b[0;32mdef\u001b[0m \u001b[0mfetch\u001b[0m\u001b[0;34m(\u001b[0m\u001b[0mself\u001b[0m\u001b[0;34m,\u001b[0m \u001b[0mpossibly_batched_index\u001b[0m\u001b[0;34m)\u001b[0m\u001b[0;34m:\u001b[0m\u001b[0;34m\u001b[0m\u001b[0;34m\u001b[0m\u001b[0m\n\u001b[1;32m     43\u001b[0m         \u001b[0;32mif\u001b[0m \u001b[0mself\u001b[0m\u001b[0;34m.\u001b[0m\u001b[0mauto_collation\u001b[0m\u001b[0;34m:\u001b[0m\u001b[0;34m\u001b[0m\u001b[0;34m\u001b[0m\u001b[0m\n\u001b[0;32m---> 44\u001b[0;31m             \u001b[0mdata\u001b[0m \u001b[0;34m=\u001b[0m \u001b[0;34m[\u001b[0m\u001b[0mself\u001b[0m\u001b[0;34m.\u001b[0m\u001b[0mdataset\u001b[0m\u001b[0;34m[\u001b[0m\u001b[0midx\u001b[0m\u001b[0;34m]\u001b[0m \u001b[0;32mfor\u001b[0m \u001b[0midx\u001b[0m \u001b[0;32min\u001b[0m \u001b[0mpossibly_batched_index\u001b[0m\u001b[0;34m]\u001b[0m\u001b[0;34m\u001b[0m\u001b[0;34m\u001b[0m\u001b[0m\n\u001b[0m\u001b[1;32m     45\u001b[0m         \u001b[0;32melse\u001b[0m\u001b[0;34m:\u001b[0m\u001b[0;34m\u001b[0m\u001b[0;34m\u001b[0m\u001b[0m\n\u001b[1;32m     46\u001b[0m             \u001b[0mdata\u001b[0m \u001b[0;34m=\u001b[0m \u001b[0mself\u001b[0m\u001b[0;34m.\u001b[0m\u001b[0mdataset\u001b[0m\u001b[0;34m[\u001b[0m\u001b[0mpossibly_batched_index\u001b[0m\u001b[0;34m]\u001b[0m\u001b[0;34m\u001b[0m\u001b[0;34m\u001b[0m\u001b[0m\n",
            "\u001b[0;32m/content/dataset.py\u001b[0m in \u001b[0;36m__getitem__\u001b[0;34m(self, idx)\u001b[0m\n\u001b[1;32m     45\u001b[0m     \u001b[0;32mdef\u001b[0m \u001b[0m__getitem__\u001b[0m\u001b[0;34m(\u001b[0m\u001b[0mself\u001b[0m\u001b[0;34m,\u001b[0m \u001b[0midx\u001b[0m\u001b[0;34m)\u001b[0m\u001b[0;34m:\u001b[0m\u001b[0;34m\u001b[0m\u001b[0;34m\u001b[0m\u001b[0m\n\u001b[1;32m     46\u001b[0m         \u001b[0mimg\u001b[0m \u001b[0;34m=\u001b[0m \u001b[0mPIL\u001b[0m\u001b[0;34m.\u001b[0m\u001b[0mImage\u001b[0m\u001b[0;34m.\u001b[0m\u001b[0mopen\u001b[0m\u001b[0;34m(\u001b[0m\u001b[0mself\u001b[0m\u001b[0;34m.\u001b[0m\u001b[0mimgs\u001b[0m\u001b[0;34m[\u001b[0m\u001b[0midx\u001b[0m\u001b[0;34m]\u001b[0m\u001b[0;34m)\u001b[0m\u001b[0;34m.\u001b[0m\u001b[0mconvert\u001b[0m\u001b[0;34m(\u001b[0m\u001b[0;34m'RGB'\u001b[0m\u001b[0;34m)\u001b[0m\u001b[0;34m\u001b[0m\u001b[0;34m\u001b[0m\u001b[0m\n\u001b[0;32m---> 47\u001b[0;31m         \u001b[0;32mif\u001b[0m \u001b[0mself\u001b[0m\u001b[0;34m.\u001b[0m\u001b[0mtransform\u001b[0m\u001b[0;34m:\u001b[0m \u001b[0mimg\u001b[0m \u001b[0;34m=\u001b[0m \u001b[0mself\u001b[0m\u001b[0;34m.\u001b[0m\u001b[0mtransform\u001b[0m\u001b[0;34m(\u001b[0m\u001b[0mimg\u001b[0m\u001b[0;34m)\u001b[0m\u001b[0;34m\u001b[0m\u001b[0;34m\u001b[0m\u001b[0m\n\u001b[0m\u001b[1;32m     48\u001b[0m \u001b[0;34m\u001b[0m\u001b[0m\n\u001b[1;32m     49\u001b[0m         \u001b[0mlabel\u001b[0m \u001b[0;34m=\u001b[0m \u001b[0mself\u001b[0m\u001b[0;34m.\u001b[0m\u001b[0mlabel_info\u001b[0m\u001b[0;34m[\u001b[0m\u001b[0mself\u001b[0m\u001b[0;34m.\u001b[0m\u001b[0mlabels\u001b[0m\u001b[0;34m[\u001b[0m\u001b[0midx\u001b[0m\u001b[0;34m]\u001b[0m\u001b[0;34m]\u001b[0m\u001b[0;34m\u001b[0m\u001b[0;34m\u001b[0m\u001b[0m\n",
            "\u001b[0;32m/usr/local/lib/python3.7/dist-packages/torchvision/transforms/transforms.py\u001b[0m in \u001b[0;36m__call__\u001b[0;34m(self, img)\u001b[0m\n\u001b[1;32m     58\u001b[0m     \u001b[0;32mdef\u001b[0m \u001b[0m__call__\u001b[0m\u001b[0;34m(\u001b[0m\u001b[0mself\u001b[0m\u001b[0;34m,\u001b[0m \u001b[0mimg\u001b[0m\u001b[0;34m)\u001b[0m\u001b[0;34m:\u001b[0m\u001b[0;34m\u001b[0m\u001b[0;34m\u001b[0m\u001b[0m\n\u001b[1;32m     59\u001b[0m         \u001b[0;32mfor\u001b[0m \u001b[0mt\u001b[0m \u001b[0;32min\u001b[0m \u001b[0mself\u001b[0m\u001b[0;34m.\u001b[0m\u001b[0mtransforms\u001b[0m\u001b[0;34m:\u001b[0m\u001b[0;34m\u001b[0m\u001b[0;34m\u001b[0m\u001b[0m\n\u001b[0;32m---> 60\u001b[0;31m             \u001b[0mimg\u001b[0m \u001b[0;34m=\u001b[0m \u001b[0mt\u001b[0m\u001b[0;34m(\u001b[0m\u001b[0mimg\u001b[0m\u001b[0;34m)\u001b[0m\u001b[0;34m\u001b[0m\u001b[0;34m\u001b[0m\u001b[0m\n\u001b[0m\u001b[1;32m     61\u001b[0m         \u001b[0;32mreturn\u001b[0m \u001b[0mimg\u001b[0m\u001b[0;34m\u001b[0m\u001b[0;34m\u001b[0m\u001b[0m\n\u001b[1;32m     62\u001b[0m \u001b[0;34m\u001b[0m\u001b[0m\n",
            "\u001b[0;32m/usr/local/lib/python3.7/dist-packages/torch/nn/modules/module.py\u001b[0m in \u001b[0;36m_call_impl\u001b[0;34m(self, *input, **kwargs)\u001b[0m\n\u001b[1;32m   1049\u001b[0m         if not (self._backward_hooks or self._forward_hooks or self._forward_pre_hooks or _global_backward_hooks\n\u001b[1;32m   1050\u001b[0m                 or _global_forward_hooks or _global_forward_pre_hooks):\n\u001b[0;32m-> 1051\u001b[0;31m             \u001b[0;32mreturn\u001b[0m \u001b[0mforward_call\u001b[0m\u001b[0;34m(\u001b[0m\u001b[0;34m*\u001b[0m\u001b[0minput\u001b[0m\u001b[0;34m,\u001b[0m \u001b[0;34m**\u001b[0m\u001b[0mkwargs\u001b[0m\u001b[0;34m)\u001b[0m\u001b[0;34m\u001b[0m\u001b[0;34m\u001b[0m\u001b[0m\n\u001b[0m\u001b[1;32m   1052\u001b[0m         \u001b[0;31m# Do not call functions when jit is used\u001b[0m\u001b[0;34m\u001b[0m\u001b[0;34m\u001b[0m\u001b[0;34m\u001b[0m\u001b[0m\n\u001b[1;32m   1053\u001b[0m         \u001b[0mfull_backward_hooks\u001b[0m\u001b[0;34m,\u001b[0m \u001b[0mnon_full_backward_hooks\u001b[0m \u001b[0;34m=\u001b[0m \u001b[0;34m[\u001b[0m\u001b[0;34m]\u001b[0m\u001b[0;34m,\u001b[0m \u001b[0;34m[\u001b[0m\u001b[0;34m]\u001b[0m\u001b[0;34m\u001b[0m\u001b[0;34m\u001b[0m\u001b[0m\n",
            "\u001b[0;32m/usr/local/lib/python3.7/dist-packages/torchvision/transforms/transforms.py\u001b[0m in \u001b[0;36mforward\u001b[0;34m(self, img)\u001b[0m\n\u001b[1;32m    295\u001b[0m             \u001b[0mPIL\u001b[0m \u001b[0mImage\u001b[0m \u001b[0;32mor\u001b[0m \u001b[0mTensor\u001b[0m\u001b[0;34m:\u001b[0m \u001b[0mRescaled\u001b[0m \u001b[0mimage\u001b[0m\u001b[0;34m.\u001b[0m\u001b[0;34m\u001b[0m\u001b[0;34m\u001b[0m\u001b[0m\n\u001b[1;32m    296\u001b[0m         \"\"\"\n\u001b[0;32m--> 297\u001b[0;31m         \u001b[0;32mreturn\u001b[0m \u001b[0mF\u001b[0m\u001b[0;34m.\u001b[0m\u001b[0mresize\u001b[0m\u001b[0;34m(\u001b[0m\u001b[0mimg\u001b[0m\u001b[0;34m,\u001b[0m \u001b[0mself\u001b[0m\u001b[0;34m.\u001b[0m\u001b[0msize\u001b[0m\u001b[0;34m,\u001b[0m \u001b[0mself\u001b[0m\u001b[0;34m.\u001b[0m\u001b[0minterpolation\u001b[0m\u001b[0;34m,\u001b[0m \u001b[0mself\u001b[0m\u001b[0;34m.\u001b[0m\u001b[0mmax_size\u001b[0m\u001b[0;34m,\u001b[0m \u001b[0mself\u001b[0m\u001b[0;34m.\u001b[0m\u001b[0mantialias\u001b[0m\u001b[0;34m)\u001b[0m\u001b[0;34m\u001b[0m\u001b[0;34m\u001b[0m\u001b[0m\n\u001b[0m\u001b[1;32m    298\u001b[0m \u001b[0;34m\u001b[0m\u001b[0m\n\u001b[1;32m    299\u001b[0m     \u001b[0;32mdef\u001b[0m \u001b[0m__repr__\u001b[0m\u001b[0;34m(\u001b[0m\u001b[0mself\u001b[0m\u001b[0;34m)\u001b[0m\u001b[0;34m:\u001b[0m\u001b[0;34m\u001b[0m\u001b[0;34m\u001b[0m\u001b[0m\n",
            "\u001b[0;32m/usr/local/lib/python3.7/dist-packages/torchvision/transforms/functional.py\u001b[0m in \u001b[0;36mresize\u001b[0;34m(img, size, interpolation, max_size, antialias)\u001b[0m\n\u001b[1;32m    399\u001b[0m             )\n\u001b[1;32m    400\u001b[0m         \u001b[0mpil_interpolation\u001b[0m \u001b[0;34m=\u001b[0m \u001b[0mpil_modes_mapping\u001b[0m\u001b[0;34m[\u001b[0m\u001b[0minterpolation\u001b[0m\u001b[0;34m]\u001b[0m\u001b[0;34m\u001b[0m\u001b[0;34m\u001b[0m\u001b[0m\n\u001b[0;32m--> 401\u001b[0;31m         \u001b[0;32mreturn\u001b[0m \u001b[0mF_pil\u001b[0m\u001b[0;34m.\u001b[0m\u001b[0mresize\u001b[0m\u001b[0;34m(\u001b[0m\u001b[0mimg\u001b[0m\u001b[0;34m,\u001b[0m \u001b[0msize\u001b[0m\u001b[0;34m=\u001b[0m\u001b[0msize\u001b[0m\u001b[0;34m,\u001b[0m \u001b[0minterpolation\u001b[0m\u001b[0;34m=\u001b[0m\u001b[0mpil_interpolation\u001b[0m\u001b[0;34m,\u001b[0m \u001b[0mmax_size\u001b[0m\u001b[0;34m=\u001b[0m\u001b[0mmax_size\u001b[0m\u001b[0;34m)\u001b[0m\u001b[0;34m\u001b[0m\u001b[0;34m\u001b[0m\u001b[0m\n\u001b[0m\u001b[1;32m    402\u001b[0m \u001b[0;34m\u001b[0m\u001b[0m\n\u001b[1;32m    403\u001b[0m     \u001b[0;32mreturn\u001b[0m \u001b[0mF_t\u001b[0m\u001b[0;34m.\u001b[0m\u001b[0mresize\u001b[0m\u001b[0;34m(\u001b[0m\u001b[0mimg\u001b[0m\u001b[0;34m,\u001b[0m \u001b[0msize\u001b[0m\u001b[0;34m=\u001b[0m\u001b[0msize\u001b[0m\u001b[0;34m,\u001b[0m \u001b[0minterpolation\u001b[0m\u001b[0;34m=\u001b[0m\u001b[0minterpolation\u001b[0m\u001b[0;34m.\u001b[0m\u001b[0mvalue\u001b[0m\u001b[0;34m,\u001b[0m \u001b[0mmax_size\u001b[0m\u001b[0;34m=\u001b[0m\u001b[0mmax_size\u001b[0m\u001b[0;34m,\u001b[0m \u001b[0mantialias\u001b[0m\u001b[0;34m=\u001b[0m\u001b[0mantialias\u001b[0m\u001b[0;34m)\u001b[0m\u001b[0;34m\u001b[0m\u001b[0;34m\u001b[0m\u001b[0m\n",
            "\u001b[0;32m/usr/local/lib/python3.7/dist-packages/torchvision/transforms/functional_pil.py\u001b[0m in \u001b[0;36mresize\u001b[0;34m(img, size, interpolation, max_size)\u001b[0m\n\u001b[1;32m    232\u001b[0m \u001b[0;34m\u001b[0m\u001b[0m\n\u001b[1;32m    233\u001b[0m         \u001b[0mnew_w\u001b[0m\u001b[0;34m,\u001b[0m \u001b[0mnew_h\u001b[0m \u001b[0;34m=\u001b[0m \u001b[0;34m(\u001b[0m\u001b[0mnew_short\u001b[0m\u001b[0;34m,\u001b[0m \u001b[0mnew_long\u001b[0m\u001b[0;34m)\u001b[0m \u001b[0;32mif\u001b[0m \u001b[0mw\u001b[0m \u001b[0;34m<=\u001b[0m \u001b[0mh\u001b[0m \u001b[0;32melse\u001b[0m \u001b[0;34m(\u001b[0m\u001b[0mnew_long\u001b[0m\u001b[0;34m,\u001b[0m \u001b[0mnew_short\u001b[0m\u001b[0;34m)\u001b[0m\u001b[0;34m\u001b[0m\u001b[0;34m\u001b[0m\u001b[0m\n\u001b[0;32m--> 234\u001b[0;31m         \u001b[0;32mreturn\u001b[0m \u001b[0mimg\u001b[0m\u001b[0;34m.\u001b[0m\u001b[0mresize\u001b[0m\u001b[0;34m(\u001b[0m\u001b[0;34m(\u001b[0m\u001b[0mnew_w\u001b[0m\u001b[0;34m,\u001b[0m \u001b[0mnew_h\u001b[0m\u001b[0;34m)\u001b[0m\u001b[0;34m,\u001b[0m \u001b[0minterpolation\u001b[0m\u001b[0;34m)\u001b[0m\u001b[0;34m\u001b[0m\u001b[0;34m\u001b[0m\u001b[0m\n\u001b[0m\u001b[1;32m    235\u001b[0m     \u001b[0;32melse\u001b[0m\u001b[0;34m:\u001b[0m\u001b[0;34m\u001b[0m\u001b[0;34m\u001b[0m\u001b[0m\n\u001b[1;32m    236\u001b[0m         \u001b[0;32mif\u001b[0m \u001b[0mmax_size\u001b[0m \u001b[0;32mis\u001b[0m \u001b[0;32mnot\u001b[0m \u001b[0;32mNone\u001b[0m\u001b[0;34m:\u001b[0m\u001b[0;34m\u001b[0m\u001b[0;34m\u001b[0m\u001b[0m\n",
            "\u001b[0;32m/usr/local/lib/python3.7/dist-packages/PIL/Image.py\u001b[0m in \u001b[0;36mresize\u001b[0;34m(self, size, resample, box, reducing_gap)\u001b[0m\n\u001b[1;32m   1903\u001b[0m                 )\n\u001b[1;32m   1904\u001b[0m \u001b[0;34m\u001b[0m\u001b[0m\n\u001b[0;32m-> 1905\u001b[0;31m         \u001b[0;32mreturn\u001b[0m \u001b[0mself\u001b[0m\u001b[0;34m.\u001b[0m\u001b[0m_new\u001b[0m\u001b[0;34m(\u001b[0m\u001b[0mself\u001b[0m\u001b[0;34m.\u001b[0m\u001b[0mim\u001b[0m\u001b[0;34m.\u001b[0m\u001b[0mresize\u001b[0m\u001b[0;34m(\u001b[0m\u001b[0msize\u001b[0m\u001b[0;34m,\u001b[0m \u001b[0mresample\u001b[0m\u001b[0;34m,\u001b[0m \u001b[0mbox\u001b[0m\u001b[0;34m)\u001b[0m\u001b[0;34m)\u001b[0m\u001b[0;34m\u001b[0m\u001b[0;34m\u001b[0m\u001b[0m\n\u001b[0m\u001b[1;32m   1906\u001b[0m \u001b[0;34m\u001b[0m\u001b[0m\n\u001b[1;32m   1907\u001b[0m     \u001b[0;32mdef\u001b[0m \u001b[0mreduce\u001b[0m\u001b[0;34m(\u001b[0m\u001b[0mself\u001b[0m\u001b[0;34m,\u001b[0m \u001b[0mfactor\u001b[0m\u001b[0;34m,\u001b[0m \u001b[0mbox\u001b[0m\u001b[0;34m=\u001b[0m\u001b[0;32mNone\u001b[0m\u001b[0;34m)\u001b[0m\u001b[0;34m:\u001b[0m\u001b[0;34m\u001b[0m\u001b[0;34m\u001b[0m\u001b[0m\n",
            "\u001b[0;31mKeyboardInterrupt\u001b[0m: "
          ]
        }
      ]
    },
    {
      "cell_type": "code",
      "metadata": {
        "id": "6e1f37fc"
      },
      "source": [
        "label_fontsize = 25\n",
        "\n",
        "plt.figure(figsize=(20, 10))\n",
        "train_lossline, = plt.plot(model.train_losses, label='Train')\n",
        "test_lossline, = plt.plot(model.test_losses, color='red', label='Test')\n",
        "plt.legend(handles=[train_lossline, test_lossline], fontsize=20)\n",
        "plt.xlabel('Step', fontsize=label_fontsize)\n",
        "plt.ylabel('Loss', fontsize=label_fontsize)\n",
        "plt.show()"
      ],
      "id": "6e1f37fc",
      "execution_count": null,
      "outputs": []
    },
    {
      "cell_type": "code",
      "metadata": {
        "id": "c76d7e20"
      },
      "source": [
        "plt.figure(figsize=(20, 10))\n",
        "train_accline, = plt.plot(model.train_acc, label='Train')\n",
        "test_accline, = plt.plot(model.test_acc, color='red', label='Test')\n",
        "plt.legend(handles=[train_accline, test_accline], fontsize=20)\n",
        "plt.xlabel('Step', fontsize=label_fontsize)\n",
        "plt.ylabel('Acc', fontsize=label_fontsize)\n",
        "plt.show()"
      ],
      "id": "c76d7e20",
      "execution_count": null,
      "outputs": []
    },
    {
      "cell_type": "code",
      "metadata": {
        "id": "f158486f"
      },
      "source": [
        "import os, json, PIL\n",
        "import pandas as pd"
      ],
      "id": "f158486f",
      "execution_count": null,
      "outputs": []
    },
    {
      "cell_type": "code",
      "metadata": {
        "scrolled": true,
        "id": "694ffa6a",
        "colab": {
          "base_uri": "https://localhost:8080/"
        },
        "outputId": "e32bd603-27e2-406d-b2ef-1435c4ea61ec"
      },
      "source": [
        "model = Baseline(model='vgg13', num_classes=157)\n",
        "model.model.load_state_dict(torch.load('./3_130.pt'))\n",
        "model.model.eval()"
      ],
      "id": "694ffa6a",
      "execution_count": null,
      "outputs": [
        {
          "output_type": "execute_result",
          "data": {
            "text/plain": [
              "VGG(\n",
              "  (features): Sequential(\n",
              "    (0): Conv2d(3, 64, kernel_size=(3, 3), stride=(1, 1), padding=(1, 1))\n",
              "    (1): ReLU(inplace=True)\n",
              "    (2): Conv2d(64, 64, kernel_size=(3, 3), stride=(1, 1), padding=(1, 1))\n",
              "    (3): ReLU(inplace=True)\n",
              "    (4): MaxPool2d(kernel_size=2, stride=2, padding=0, dilation=1, ceil_mode=False)\n",
              "    (5): Conv2d(64, 128, kernel_size=(3, 3), stride=(1, 1), padding=(1, 1))\n",
              "    (6): ReLU(inplace=True)\n",
              "    (7): Conv2d(128, 128, kernel_size=(3, 3), stride=(1, 1), padding=(1, 1))\n",
              "    (8): ReLU(inplace=True)\n",
              "    (9): MaxPool2d(kernel_size=2, stride=2, padding=0, dilation=1, ceil_mode=False)\n",
              "    (10): Conv2d(128, 256, kernel_size=(3, 3), stride=(1, 1), padding=(1, 1))\n",
              "    (11): ReLU(inplace=True)\n",
              "    (12): Conv2d(256, 256, kernel_size=(3, 3), stride=(1, 1), padding=(1, 1))\n",
              "    (13): ReLU(inplace=True)\n",
              "    (14): MaxPool2d(kernel_size=2, stride=2, padding=0, dilation=1, ceil_mode=False)\n",
              "    (15): Conv2d(256, 512, kernel_size=(3, 3), stride=(1, 1), padding=(1, 1))\n",
              "    (16): ReLU(inplace=True)\n",
              "    (17): Conv2d(512, 512, kernel_size=(3, 3), stride=(1, 1), padding=(1, 1))\n",
              "    (18): ReLU(inplace=True)\n",
              "    (19): MaxPool2d(kernel_size=2, stride=2, padding=0, dilation=1, ceil_mode=False)\n",
              "    (20): Conv2d(512, 512, kernel_size=(3, 3), stride=(1, 1), padding=(1, 1))\n",
              "    (21): ReLU(inplace=True)\n",
              "    (22): Conv2d(512, 512, kernel_size=(3, 3), stride=(1, 1), padding=(1, 1))\n",
              "    (23): ReLU(inplace=True)\n",
              "    (24): MaxPool2d(kernel_size=2, stride=2, padding=0, dilation=1, ceil_mode=False)\n",
              "  )\n",
              "  (avgpool): AdaptiveAvgPool2d(output_size=(7, 7))\n",
              "  (classifier): Linear(in_features=25088, out_features=157, bias=True)\n",
              ")"
            ]
          },
          "metadata": {},
          "execution_count": 12
        }
      ]
    },
    {
      "cell_type": "code",
      "metadata": {
        "scrolled": true,
        "id": "59b1822e",
        "colab": {
          "base_uri": "https://localhost:8080/"
        },
        "outputId": "2563d5bb-243c-47cb-e491-f7003d788d4d"
      },
      "source": [
        "test_transform = transforms.Compose([\n",
        "    transforms.Resize(256), transforms.CenterCrop((224, 400)),\n",
        "    transforms.ToTensor(), transforms.Normalize(mean=[0.485, 0.456, 0.406], std=[0.229, 0.224, 0.225])])\n",
        "\n",
        "\n",
        "data_dir = './test/'\n",
        "\n",
        "predictions = []\n",
        "with torch.no_grad():\n",
        "    for num in sorted(os.listdir(data_dir)):\n",
        "        with open(data_dir + '{}/{}.json'.format(num, num), 'r') as j:\n",
        "            temp = json.load(j)\n",
        "            imgs = []\n",
        "            for info in temp['annotations']:\n",
        "                img_dir = data_dir + '{}/{}.png'.format(num, info['image_id'])\n",
        "                img = PIL.Image.open(img_dir).convert('RGB')\n",
        "                img = test_transform(img)\n",
        "                imgs.append(img)\n",
        "            imgs = torch.stack(imgs).cuda()\n",
        "            prediction = torch.nn.Softmax(dim=1)(model.model(imgs))\n",
        "            prediction = torch.mean(prediction, dim=0)\n",
        "            # print(prediction)\n",
        "            #if torch.max(prediction) > 0.9:\n",
        "            #    prediction[torch.argmax(prediction)] = 1\n",
        "            #    prediction[prediction < 1] = 0\n",
        "            \n",
        "            if torch.sum(prediction) != 1: print(torch.sum(prediction))\n",
        "            predictions.append(prediction.cpu().numpy())"
      ],
      "id": "59b1822e",
      "execution_count": null,
      "outputs": [
        {
          "output_type": "stream",
          "name": "stdout",
          "text": [
            "tensor(1.0000, device='cuda:0')\n",
            "tensor(1.0000, device='cuda:0')\n",
            "tensor(1.0000, device='cuda:0')\n",
            "tensor(1.0000, device='cuda:0')\n",
            "tensor(1.0000, device='cuda:0')\n",
            "tensor(1.0000, device='cuda:0')\n",
            "tensor(1.0000, device='cuda:0')\n",
            "tensor(1.0000, device='cuda:0')\n",
            "tensor(1.0000, device='cuda:0')\n",
            "tensor(1.0000, device='cuda:0')\n",
            "tensor(1.0000, device='cuda:0')\n",
            "tensor(1.0000, device='cuda:0')\n",
            "tensor(1.0000, device='cuda:0')\n",
            "tensor(1.0000, device='cuda:0')\n",
            "tensor(1.0000, device='cuda:0')\n",
            "tensor(1.0000, device='cuda:0')\n",
            "tensor(1.0000, device='cuda:0')\n",
            "tensor(1.0000, device='cuda:0')\n",
            "tensor(1.0000, device='cuda:0')\n",
            "tensor(1.0000, device='cuda:0')\n",
            "tensor(1.0000, device='cuda:0')\n",
            "tensor(1.0000, device='cuda:0')\n",
            "tensor(1.0000, device='cuda:0')\n",
            "tensor(1.0000, device='cuda:0')\n",
            "tensor(1.0000, device='cuda:0')\n",
            "tensor(1.0000, device='cuda:0')\n",
            "tensor(1.0000, device='cuda:0')\n",
            "tensor(1.0000, device='cuda:0')\n",
            "tensor(1.0000, device='cuda:0')\n",
            "tensor(1.0000, device='cuda:0')\n",
            "tensor(1.0000, device='cuda:0')\n",
            "tensor(1.0000, device='cuda:0')\n",
            "tensor(1.0000, device='cuda:0')\n",
            "tensor(1.0000, device='cuda:0')\n",
            "tensor(1.0000, device='cuda:0')\n",
            "tensor(1.0000, device='cuda:0')\n",
            "tensor(1.0000, device='cuda:0')\n",
            "tensor(1.0000, device='cuda:0')\n",
            "tensor(1.0000, device='cuda:0')\n",
            "tensor(1.0000, device='cuda:0')\n",
            "tensor(1.0000, device='cuda:0')\n",
            "tensor(1.0000, device='cuda:0')\n",
            "tensor(1.0000, device='cuda:0')\n",
            "tensor(1.0000, device='cuda:0')\n",
            "tensor(1.0000, device='cuda:0')\n",
            "tensor(1.0000, device='cuda:0')\n",
            "tensor(1.0000, device='cuda:0')\n",
            "tensor(1.0000, device='cuda:0')\n",
            "tensor(1.0000, device='cuda:0')\n",
            "tensor(1.0000, device='cuda:0')\n",
            "tensor(1.0000, device='cuda:0')\n",
            "tensor(1.0000, device='cuda:0')\n",
            "tensor(1.0000, device='cuda:0')\n",
            "tensor(1.0000, device='cuda:0')\n",
            "tensor(1.0000, device='cuda:0')\n",
            "tensor(1.0000, device='cuda:0')\n",
            "tensor(1.0000, device='cuda:0')\n",
            "tensor(1.0000, device='cuda:0')\n",
            "tensor(1.0000, device='cuda:0')\n",
            "tensor(1.0000, device='cuda:0')\n",
            "tensor(1.0000, device='cuda:0')\n",
            "tensor(1.0000, device='cuda:0')\n",
            "tensor(1.0000, device='cuda:0')\n",
            "tensor(1.0000, device='cuda:0')\n",
            "tensor(1.0000, device='cuda:0')\n"
          ]
        }
      ]
    },
    {
      "cell_type": "code",
      "metadata": {
        "id": "f26e0b88"
      },
      "source": [
        "sample_submission = pd.read_csv('./sample_submission.csv')\n",
        "sample_submission.iloc[:,1:] = predictions\n",
        "sample_submission.to_csv('./ImageNetStat_3_130_threshno.csv', index=False)"
      ],
      "id": "f26e0b88",
      "execution_count": null,
      "outputs": []
    },
    {
      "cell_type": "code",
      "metadata": {
        "id": "_n3hSOQwLAGb"
      },
      "source": [
        "print(len(predictions))\n",
        "print(len(predictions[0]))"
      ],
      "id": "_n3hSOQwLAGb",
      "execution_count": null,
      "outputs": []
    },
    {
      "cell_type": "code",
      "metadata": {
        "id": "IUWR8SAcJD8w"
      },
      "source": [
        "sample_submission.iloc[:,1:]"
      ],
      "id": "IUWR8SAcJD8w",
      "execution_count": null,
      "outputs": []
    }
  ]
}