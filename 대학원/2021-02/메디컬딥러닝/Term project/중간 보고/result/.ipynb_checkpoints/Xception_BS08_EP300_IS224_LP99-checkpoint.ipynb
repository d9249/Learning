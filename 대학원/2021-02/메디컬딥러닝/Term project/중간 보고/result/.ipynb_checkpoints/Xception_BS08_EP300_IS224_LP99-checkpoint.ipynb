{
 "cells": [
  {
   "cell_type": "code",
   "execution_count": 45,
   "id": "6419e8cb",
   "metadata": {},
   "outputs": [],
   "source": [
    "### [Data Sprint #35: Osteoarthritis Knee X-ray](https://dphi.tech/challenges/data-sprint-35-osteoarthritis-knee-x-ray/81/leaderboard/datathon/)"
   ]
  },
  {
   "cell_type": "code",
   "execution_count": 46,
   "id": "ab66516f",
   "metadata": {},
   "outputs": [
    {
     "name": "stdout",
     "output_type": "stream",
     "text": [
      "absl-py==0.15.0\n",
      "alabaster @ file:///home/ktietz/src/ci/alabaster_1611921544520/work\n",
      "anaconda-client==1.7.2\n",
      "anaconda-navigator==2.0.3\n",
      "anaconda-project @ file:///tmp/build/80754af9/anaconda-project_1610472525955/work\n",
      "anyio @ file:///C:/ci/anyio_1620153418380/work/dist\n",
      "appdirs==1.4.4\n",
      "argh==0.26.2\n",
      "argon2-cffi @ file:///C:/ci/argon2-cffi_1613037959010/work\n",
      "asn1crypto @ file:///tmp/build/80754af9/asn1crypto_1596577642040/work\n",
      "astroid @ file:///C:/ci/astroid_1613501047216/work\n",
      "astropy @ file:///C:/ci/astropy_1617745647203/work\n",
      "astunparse==1.6.3\n",
      "async-generator @ file:///home/ktietz/src/ci/async_generator_1611927993394/work\n",
      "atomicwrites==1.4.0\n",
      "attrs @ file:///tmp/build/80754af9/attrs_1604765588209/work\n",
      "autopep8 @ file:///tmp/build/80754af9/autopep8_1615918855173/work\n",
      "Babel @ file:///tmp/build/80754af9/babel_1607110387436/work\n",
      "backcall @ file:///home/ktietz/src/ci/backcall_1611930011877/work\n",
      "backports.functools-lru-cache @ file:///tmp/build/80754af9/backports.functools_lru_cache_1618170165463/work\n",
      "backports.shutil-get-terminal-size @ file:///tmp/build/80754af9/backports.shutil_get_terminal_size_1608222128777/work\n",
      "backports.tempfile @ file:///home/linux1/recipes/ci/backports.tempfile_1610991236607/work\n",
      "backports.weakref==1.0.post1\n",
      "bcrypt @ file:///C:/ci/bcrypt_1597936263757/work\n",
      "beautifulsoup4 @ file:///home/linux1/recipes/ci/beautifulsoup4_1610988766420/work\n",
      "bitarray @ file:///C:/ci/bitarray_1618435038389/work\n",
      "bkcharts==0.2\n",
      "black==19.10b0\n",
      "bleach @ file:///tmp/build/80754af9/bleach_1612211392645/work\n",
      "bokeh @ file:///C:/ci/bokeh_1620784067744/work\n",
      "boto==2.49.0\n",
      "Bottleneck==1.3.2\n",
      "brotlipy==0.7.0\n",
      "cachetools==4.2.4\n",
      "certifi==2020.12.5\n",
      "cffi @ file:///C:/ci/cffi_1613247279197/work\n",
      "chardet @ file:///C:/ci/chardet_1607690654534/work\n",
      "clang==5.0\n",
      "click @ file:///home/linux1/recipes/ci/click_1610990599742/work\n",
      "cloudpickle @ file:///tmp/build/80754af9/cloudpickle_1598884132938/work\n",
      "clyent==1.2.2\n",
      "colorama @ file:///tmp/build/80754af9/colorama_1607707115595/work\n",
      "comtypes==1.1.9\n",
      "conda==4.10.1\n",
      "conda-build==3.21.4\n",
      "conda-content-trust @ file:///tmp/build/80754af9/conda-content-trust_1617045594566/work\n",
      "conda-package-handling @ file:///C:/ci/conda-package-handling_1618262320430/work\n",
      "conda-repo-cli @ file:///tmp/build/80754af9/conda-repo-cli_1620168426516/work\n",
      "conda-token @ file:///tmp/build/80754af9/conda-token_1620076980546/work\n",
      "conda-verify==3.4.2\n",
      "contextlib2==0.6.0.post1\n",
      "cryptography @ file:///C:/ci/cryptography_1616769344312/work\n",
      "cycler==0.10.0\n",
      "Cython @ file:///C:/ci/cython_1618435363327/work\n",
      "cytoolz==0.11.0\n",
      "dask @ file:///tmp/build/80754af9/dask-core_1617390489108/work\n",
      "decorator @ file:///tmp/build/80754af9/decorator_1617916966915/work\n",
      "defusedxml @ file:///tmp/build/80754af9/defusedxml_1615228127516/work\n",
      "diff-match-patch @ file:///tmp/build/80754af9/diff-match-patch_1594828741838/work\n",
      "distributed @ file:///C:/ci/distributed_1617384289923/workNote: you may need to restart the kernel to use updated packages.\n",
      "docutils @ file:///C:/ci/docutils_1617481617511/work\n",
      "entrypoints==0.3\n",
      "et-xmlfile==1.0.1\n",
      "\n",
      "fastcache==1.1.0\n",
      "filelock @ file:///home/linux1/recipes/ci/filelock_1610993975404/work\n",
      "flake8 @ file:///tmp/build/80754af9/flake8_1615834841867/work\n",
      "Flask @ file:///home/ktietz/src/ci/flask_1611932660458/work\n",
      "flatbuffers==1.12\n",
      "fsspec @ file:///tmp/build/80754af9/fsspec_1617959894824/work\n",
      "future==0.18.2\n",
      "gast==0.4.0\n",
      "gdown==4.2.0\n",
      "gevent @ file:///C:/ci/gevent_1616773090559/work\n",
      "glob2 @ file:///home/linux1/recipes/ci/glob2_1610991677669/work\n",
      "google-auth==2.3.3\n",
      "google-auth-oauthlib==0.4.6\n",
      "google-pasta==0.2.0\n",
      "greenlet @ file:///C:/ci/greenlet_1611958565931/work\n",
      "grpcio==1.41.1\n",
      "h5py==3.1.0\n",
      "HeapDict==1.0.1\n",
      "html5lib @ file:///tmp/build/80754af9/html5lib_1593446221756/work\n",
      "idna @ file:///home/linux1/recipes/ci/idna_1610986105248/work\n",
      "imagecodecs @ file:///C:/ci/imagecodecs_1617996768495/work\n",
      "imageio @ file:///tmp/build/80754af9/imageio_1617700267927/work\n",
      "imagesize @ file:///home/ktietz/src/ci/imagesize_1611921604382/work\n",
      "importlib-metadata @ file:///C:/ci/importlib-metadata_1617877484576/work\n",
      "iniconfig @ file:///home/linux1/recipes/ci/iniconfig_1610983019677/work\n",
      "intervaltree @ file:///tmp/build/80754af9/intervaltree_1598376443606/work\n",
      "ipykernel @ file:///C:/ci/ipykernel_1596190155316/work/dist/ipykernel-5.3.4-py3-none-any.whl\n",
      "ipython @ file:///C:/ci/ipython_1617121002983/work\n",
      "ipython-genutils @ file:///tmp/build/80754af9/ipython_genutils_1606773439826/work\n",
      "ipywidgets @ file:///tmp/build/80754af9/ipywidgets_1610481889018/work\n",
      "isort @ file:///tmp/build/80754af9/isort_1616355431277/work\n",
      "itsdangerous @ file:///home/ktietz/src/ci/itsdangerous_1611932585308/work\n",
      "jdcal==1.4.1\n",
      "jedi @ file:///C:/ci/jedi_1606914528444/work\n",
      "Jinja2 @ file:///tmp/build/80754af9/jinja2_1612213139570/work\n",
      "joblib @ file:///tmp/build/80754af9/joblib_1613502643832/work\n",
      "json5==0.9.5\n",
      "jsonschema @ file:///tmp/build/80754af9/jsonschema_1602607155483/work\n",
      "jupyter==1.0.0\n",
      "jupyter-client @ file:///tmp/build/80754af9/jupyter_client_1616770841739/work\n",
      "jupyter-console @ file:///tmp/build/80754af9/jupyter_console_1616615302928/work\n",
      "jupyter-core @ file:///C:/ci/jupyter_core_1612213356021/work\n",
      "jupyter-packaging @ file:///tmp/build/80754af9/jupyter-packaging_1613502826984/work\n",
      "jupyter-server @ file:///C:/ci/jupyter_server_1616084298403/work\n",
      "jupyterlab @ file:///tmp/build/80754af9/jupyterlab_1619133235951/work\n",
      "jupyterlab-pygments @ file:///tmp/build/80754af9/jupyterlab_pygments_1601490720602/work\n",
      "jupyterlab-server @ file:///tmp/build/80754af9/jupyterlab_server_1617134334258/work\n",
      "jupyterlab-widgets @ file:///tmp/build/80754af9/jupyterlab_widgets_1609884341231/work\n",
      "keras==2.6.0\n",
      "Keras-Preprocessing==1.1.2\n",
      "keyring @ file:///C:/ci/keyring_1614616910860/work\n",
      "kiwisolver @ file:///C:/ci/kiwisolver_1612282606037/work\n",
      "lazy-object-proxy @ file:///C:/ci/lazy-object-proxy_1616529307648/work\n",
      "libarchive-c @ file:///tmp/build/80754af9/python-libarchive-c_1617780486945/work\n",
      "llvmlite==0.36.0\n",
      "locket==0.2.1\n",
      "lxml @ file:///C:/ci/lxml_1616443455957/work\n",
      "Markdown==3.3.4\n",
      "MarkupSafe==1.1.1\n",
      "matplotlib @ file:///C:/ci/matplotlib-suite_1613408055530/work\n",
      "mccabe==0.6.1\n",
      "menuinst==1.4.16\n",
      "mistune==0.8.4\n",
      "mkl-fft==1.3.0\n",
      "mkl-random @ file:///C:/ci/mkl_random_1618854156666/work\n",
      "mkl-service==2.3.0\n",
      "mock @ file:///tmp/build/80754af9/mock_1607622725907/work\n",
      "more-itertools @ file:///tmp/build/80754af9/more-itertools_1613676688952/work\n",
      "mpmath==1.2.1\n",
      "msgpack @ file:///C:/ci/msgpack-python_1612287368835/work\n",
      "multipledispatch==0.6.0\n",
      "mypy-extensions==0.4.3\n",
      "navigator-updater==0.2.1\n",
      "nbclassic @ file:///tmp/build/80754af9/nbclassic_1616085367084/work\n",
      "nbclient @ file:///tmp/build/80754af9/nbclient_1614364831625/work\n",
      "nbconvert @ file:///C:/ci/nbconvert_1601914925608/work\n",
      "nbformat @ file:///tmp/build/80754af9/nbformat_1617383369282/work\n",
      "nest-asyncio @ file:///tmp/build/80754af9/nest-asyncio_1613680548246/work\n",
      "networkx @ file:///tmp/build/80754af9/networkx_1598376031484/work\n",
      "nltk @ file:///tmp/build/80754af9/nltk_1618327084230/work\n",
      "nose @ file:///tmp/build/80754af9/nose_1606773131901/work\n",
      "notebook @ file:///C:/ci/notebook_1616443715883/work\n",
      "numba @ file:///C:/ci/numba_1616774458845/work\n",
      "numexpr @ file:///C:/ci/numexpr_1618856738664/work\n",
      "numpy==1.19.5\n",
      "numpydoc @ file:///tmp/build/80754af9/numpydoc_1605117425582/work\n",
      "oauthlib==3.1.1\n",
      "olefile==0.46\n",
      "openpyxl @ file:///tmp/build/80754af9/openpyxl_1615411699337/work\n",
      "opt-einsum==3.3.0\n",
      "packaging @ file:///tmp/build/80754af9/packaging_1611952188834/work\n",
      "pandas @ file:///C:/ci/pandas_1618365634936/work\n",
      "pandocfilters @ file:///C:/ci/pandocfilters_1605102497129/work\n",
      "paramiko @ file:///tmp/build/80754af9/paramiko_1598886428689/work\n",
      "parso==0.7.0\n",
      "partd @ file:///tmp/build/80754af9/partd_1618000087440/work\n",
      "path @ file:///C:/ci/path_1614022440181/work\n",
      "pathlib2 @ file:///C:/ci/pathlib2_1607025069150/work\n",
      "pathspec==0.7.0\n",
      "patsy==0.5.1\n",
      "pep8==1.7.1\n",
      "pexpect @ file:///tmp/build/80754af9/pexpect_1605563209008/work\n",
      "pickleshare @ file:///tmp/build/80754af9/pickleshare_1606932040724/work\n",
      "Pillow @ file:///C:/ci/pillow_1617386341487/work\n",
      "pkginfo==1.7.0\n",
      "pluggy @ file:///C:/ci/pluggy_1615976358795/work\n",
      "ply==3.11\n",
      "prometheus-client @ file:///tmp/build/80754af9/prometheus_client_1618088486455/work\n",
      "prompt-toolkit @ file:///tmp/build/80754af9/prompt-toolkit_1616415428029/work\n",
      "protobuf==3.19.1\n",
      "psutil @ file:///C:/ci/psutil_1612298324802/work\n",
      "ptyprocess @ file:///tmp/build/80754af9/ptyprocess_1609355006118/work/dist/ptyprocess-0.7.0-py2.py3-none-any.whl\n",
      "py @ file:///tmp/build/80754af9/py_1607971587848/work\n",
      "pyasn1==0.4.8\n",
      "pyasn1-modules==0.2.8\n",
      "pycodestyle @ file:///home/ktietz/src/ci_mi/pycodestyle_1612807597675/work\n",
      "pycosat==0.6.3\n",
      "pycparser @ file:///tmp/build/80754af9/pycparser_1594388511720/work\n",
      "pycurl==7.43.0.6\n",
      "pydocstyle @ file:///tmp/build/80754af9/pydocstyle_1616182067796/work\n",
      "pyerfa @ file:///C:/ci/pyerfa_1619391071834/work\n",
      "pyflakes @ file:///home/ktietz/src/ci_ipy2/pyflakes_1612551159640/work\n",
      "Pygments @ file:///tmp/build/80754af9/pygments_1615143339740/work\n",
      "pylint @ file:///C:/ci/pylint_1617136058775/work\n",
      "pyls-black @ file:///tmp/build/80754af9/pyls-black_1607553132291/work\n",
      "pyls-spyder @ file:///tmp/build/80754af9/pyls-spyder_1613849700860/work\n",
      "PyNaCl @ file:///C:/ci/pynacl_1595000047588/work\n",
      "pyodbc===4.0.0-unsupported\n",
      "pyOpenSSL @ file:///tmp/build/80754af9/pyopenssl_1608057966937/work\n",
      "pyparsing @ file:///home/linux1/recipes/ci/pyparsing_1610983426697/work\n",
      "pyreadline==2.1\n",
      "pyrsistent @ file:///C:/ci/pyrsistent_1600141795814/work\n",
      "PySocks @ file:///C:/ci/pysocks_1605287845585/work\n",
      "pytest==6.2.3\n",
      "python-dateutil @ file:///home/ktietz/src/ci/python-dateutil_1611928101742/work\n",
      "python-jsonrpc-server @ file:///tmp/build/80754af9/python-jsonrpc-server_1600278539111/work\n",
      "python-language-server @ file:///tmp/build/80754af9/python-language-server_1607972495879/work\n",
      "pytz @ file:///tmp/build/80754af9/pytz_1612215392582/work\n",
      "PyWavelets @ file:///C:/ci/pywavelets_1601658407916/work\n",
      "pywin32==227\n",
      "pywin32-ctypes==0.2.0\n",
      "pywinpty==0.5.7\n",
      "PyYAML==5.4.1\n",
      "pyzmq==20.0.0\n",
      "QDarkStyle==2.8.1\n",
      "QtAwesome @ file:///tmp/build/80754af9/qtawesome_1615991616277/work\n",
      "qtconsole @ file:///tmp/build/80754af9/qtconsole_1616775094278/work\n",
      "QtPy==1.9.0\n",
      "regex @ file:///C:/ci/regex_1617569893741/work\n",
      "requests @ file:///tmp/build/80754af9/requests_1608241421344/work\n",
      "requests-oauthlib==1.3.0\n",
      "rope @ file:///tmp/build/80754af9/rope_1602264064449/work\n",
      "rsa==4.7.2\n",
      "Rtree @ file:///C:/ci/rtree_1618421009405/work\n",
      "ruamel-yaml-conda @ file:///C:/ci/ruamel_yaml_1616016967756/work\n",
      "scikit-image==0.18.1\n",
      "scikit-learn @ file:///C:/ci/scikit-learn_1614446896245/work\n",
      "scipy @ file:///C:/ci/scipy_1618856128765/work\n",
      "seaborn @ file:///tmp/build/80754af9/seaborn_1608578541026/work\n",
      "Send2Trash @ file:///tmp/build/80754af9/send2trash_1607525499227/work\n",
      "simplegeneric==0.8.1\n",
      "singledispatch @ file:///tmp/build/80754af9/singledispatch_1614366001199/work\n",
      "sip==4.19.13\n",
      "six @ file:///C:/ci/six_1605187374963/work\n",
      "sniffio @ file:///C:/ci/sniffio_1614030707456/work\n",
      "snowballstemmer @ file:///tmp/build/80754af9/snowballstemmer_1611258885636/work\n",
      "sortedcollections @ file:///tmp/build/80754af9/sortedcollections_1611172717284/work\n",
      "sortedcontainers @ file:///tmp/build/80754af9/sortedcontainers_1606865132123/work\n",
      "soupsieve @ file:///tmp/build/80754af9/soupsieve_1616183228191/work\n",
      "Sphinx @ file:///tmp/build/80754af9/sphinx_1620777493457/work\n",
      "sphinxcontrib-applehelp @ file:///home/ktietz/src/ci/sphinxcontrib-applehelp_1611920841464/work\n",
      "sphinxcontrib-devhelp @ file:///home/ktietz/src/ci/sphinxcontrib-devhelp_1611920923094/work\n",
      "sphinxcontrib-htmlhelp @ file:///home/ktietz/src/ci/sphinxcontrib-htmlhelp_1611920974801/work\n",
      "sphinxcontrib-jsmath @ file:///home/ktietz/src/ci/sphinxcontrib-jsmath_1611920942228/work\n",
      "sphinxcontrib-qthelp @ file:///home/ktietz/src/ci/sphinxcontrib-qthelp_1611921055322/work\n",
      "sphinxcontrib-serializinghtml @ file:///home/ktietz/src/ci/sphinxcontrib-serializinghtml_1611920755253/work\n",
      "sphinxcontrib-websupport @ file:///tmp/build/80754af9/sphinxcontrib-websupport_1597081412696/work\n",
      "spyder @ file:///C:/ci/spyder_1616776239898/work\n",
      "spyder-kernels @ file:///C:/ci/spyder-kernels_1614030842607/work\n",
      "SQLAlchemy @ file:///C:/ci/sqlalchemy_1618090063261/work\n",
      "statsmodels==0.12.2\n",
      "sympy @ file:///C:/ci/sympy_1618255511605/work\n",
      "tables==3.6.1\n",
      "tblib @ file:///tmp/build/80754af9/tblib_1597928476713/work\n",
      "tensorboard==2.7.0\n",
      "tensorboard-data-server==0.6.1\n",
      "tensorboard-plugin-wit==1.8.0\n",
      "tensorflow==2.6.0\n",
      "tensorflow-estimator==2.6.0\n",
      "tensorflow-gpu==2.6.0\n",
      "termcolor==1.1.0\n",
      "terminado==0.9.4\n",
      "testpath @ file:///home/ktietz/src/ci/testpath_1611930608132/work\n",
      "textdistance @ file:///tmp/build/80754af9/textdistance_1612461398012/work\n",
      "threadpoolctl @ file:///tmp/tmp9twdgx9k/threadpoolctl-2.1.0-py3-none-any.whl\n",
      "three-merge @ file:///tmp/build/80754af9/three-merge_1607553261110/work\n",
      "tifffile @ file:///tmp/build/80754af9/tifffile_1619636090847/work\n",
      "toml @ file:///tmp/build/80754af9/toml_1616166611790/work\n",
      "toolz @ file:///home/linux1/recipes/ci/toolz_1610987900194/work\n",
      "tornado @ file:///C:/ci/tornado_1606942392901/work\n",
      "tqdm @ file:///tmp/build/80754af9/tqdm_1615925068909/work\n",
      "traitlets @ file:///home/ktietz/src/ci/traitlets_1611929699868/work\n",
      "typed-ast @ file:///C:/ci/typed-ast_1610466535590/work\n",
      "typing-extensions @ file:///home/ktietz/src/ci_mi/typing_extensions_1612808209620/work\n",
      "ujson @ file:///C:/ci/ujson_1611241570789/work\n",
      "unicodecsv==0.14.1\n",
      "urllib3 @ file:///tmp/build/80754af9/urllib3_1615837158687/work\n",
      "watchdog @ file:///C:/ci/watchdog_1612471251191/work\n",
      "wcwidth @ file:///tmp/build/80754af9/wcwidth_1593447189090/work\n",
      "webencodings==0.5.1\n",
      "Werkzeug @ file:///home/ktietz/src/ci/werkzeug_1611932622770/work\n",
      "widgetsnbextension==3.5.1\n",
      "win-inet-pton @ file:///C:/ci/win_inet_pton_1605306167264/work\n",
      "win-unicode-console==0.5\n",
      "wincertstore==0.2\n",
      "wrapt==1.12.1\n",
      "xlrd @ file:///tmp/build/80754af9/xlrd_1608072521494/work\n",
      "XlsxWriter @ file:///tmp/build/80754af9/xlsxwriter_1617224712951/work\n",
      "xlwings==0.23.0\n",
      "xlwt==1.3.0\n",
      "xmltodict==0.12.0\n",
      "yapf @ file:///tmp/build/80754af9/yapf_1615749224965/work\n",
      "zict==2.0.0\n",
      "zipp @ file:///tmp/build/80754af9/zipp_1615904174917/work\n",
      "zope.event==4.5.0\n",
      "zope.interface @ file:///C:/ci/zope.interface_1616357322857/work\n"
     ]
    }
   ],
   "source": [
    "pip freeze"
   ]
  },
  {
   "cell_type": "code",
   "execution_count": 85,
   "id": "f33568de",
   "metadata": {
    "scrolled": false
   },
   "outputs": [
    {
     "name": "stdout",
     "output_type": "stream",
     "text": [
      "D:\\MDL\\model\n"
     ]
    }
   ],
   "source": [
    "cd D:\\MDL\\model"
   ]
  },
  {
   "cell_type": "code",
   "execution_count": 86,
   "id": "91de5d96",
   "metadata": {},
   "outputs": [
    {
     "name": "stdout",
     "output_type": "stream",
     "text": [
      " D 드라이브의 볼륨: D\n",
      " 볼륨 일련 번호: 8A38-AFB7\n",
      "\n",
      " D:\\MDL\\model 디렉터리\n",
      "\n",
      "2021-11-11  오후 04:41    <DIR>          .\n",
      "2021-11-11  오후 04:41    <DIR>          ..\n",
      "2021-11-03  오후 04:23       169,369,240 97.70-knee_xray_Xceptionnet_GPA.h5\n",
      "2021-11-03  오후 04:22       506,661,429 97.70-xception_best.ckpt.data-00000-of-00001\n",
      "2021-11-03  오후 04:22            43,431 97.70-xception_best.ckpt.index\n",
      "2021-11-06  오후 06:58       190,388,144 98.11-knee_xray_Xceptionnet.h5\n",
      "2021-11-06  오전 09:34       184,400,544 99.08-knee_xray_Xceptionnet.h5\n",
      "2021-11-03  오후 09:49       169,369,240 99.33-knee_xray_Xceptionnet_GPA.h5\n",
      "2021-11-03  오후 09:38       506,661,429 99.33-xception_best.ckpt.data-00000-of-00001\n",
      "2021-11-03  오후 09:38            43,431 99.33-xception_best.ckpt.index\n",
      "2021-11-06  오후 11:56       157,277,888 99.54-knee_xray_Xceptionnet_GPA.h5\n",
      "2021-11-06  오후 11:54       470,335,297 99.54-xception_best.ckpt.data-00000-of-00001\n",
      "2021-11-06  오후 11:54            47,103 99.54-xception_best.ckpt.index\n",
      "2021-11-11  오후 04:17               125 checkpoint\n",
      "2021-11-07  오후 05:36       687,933,909 Xception_BS8_EP300_IS224_LP10.ckpt.data-00000-of-00001\n",
      "2021-11-07  오후 05:36            48,331 Xception_BS8_EP300_IS224_LP10.ckpt.index\n",
      "2021-11-07  오후 05:50       229,819,552 Xception_BS8_EP300_IS224_LP10.h5\n",
      "2021-11-10  오전 06:11     1,575,012,351 Xception_BS8_EP300_IS224_LP11.ckpt.data-00000-of-00001\n",
      "2021-11-10  오전 06:11            47,570 Xception_BS8_EP300_IS224_LP11.ckpt.index\n",
      "2021-11-10  오전 07:00       525,496,240 Xception_BS8_EP300_IS224_LP11.h5\n",
      "2021-11-08  오전 09:07       872,017,163 Xception_BS8_EP300_IS224_LP12.ckpt.data-00000-of-00001\n",
      "2021-11-08  오전 09:07            49,444 Xception_BS8_EP300_IS224_LP12.ckpt.index\n",
      "2021-11-08  오전 09:14       291,198,336 Xception_BS8_EP300_IS224_LP12.h5\n",
      "2021-11-08  오후 03:23     1,268,437,256 Xception_BS8_EP300_IS224_LP14.ckpt.data-00000-of-00001\n",
      "2021-11-08  오후 03:23            49,883 Xception_BS8_EP300_IS224_LP14.ckpt.index\n",
      "2021-11-08  오후 04:19       423,346,392 Xception_BS8_EP300_IS224_LP14.h5\n",
      "2021-11-07  오전 06:24       470,335,465 Xception_BS8_EP300_IS224_LP9.ckpt.data-00000-of-00001\n",
      "2021-11-07  오전 06:24            47,103 Xception_BS8_EP300_IS224_LP9.ckpt.index\n",
      "2021-11-11  오후 04:17       681,374,268 Xception_BS8_EP300_IS224_LP99.ckpt.data-00000-of-00001\n",
      "2021-11-11  오후 04:17            46,090 Xception_BS8_EP300_IS224_LP99.ckpt.index\n",
      "2021-11-11  오후 04:41       227,615,104 Xception_BS8_EP300_IS224_LP99.h5\n",
      "2021-11-07  오전 06:41       157,277,816 Xception_BS8_IS224_LP9.h5\n",
      "              30개 파일       9,764,749,574 바이트\n",
      "               2개 디렉터리  843,786,059,776 바이트 남음\n"
     ]
    }
   ],
   "source": [
    "ls"
   ]
  },
  {
   "cell_type": "code",
   "execution_count": 48,
   "id": "74860ad1",
   "metadata": {},
   "outputs": [],
   "source": [
    "import os\n",
    "os.environ[\"CUDA_DEVICE_ORDER\"]=\"PCI_BUS_ID\"\n",
    "os.environ[\"CUDA_VISIBLE_DEVICES\"]=\"0\""
   ]
  },
  {
   "cell_type": "code",
   "execution_count": 49,
   "id": "37b90db9",
   "metadata": {
    "scrolled": false
   },
   "outputs": [
    {
     "name": "stdout",
     "output_type": "stream",
     "text": [
      "[name: \"/device:CPU:0\"\n",
      "device_type: \"CPU\"\n",
      "memory_limit: 268435456\n",
      "locality {\n",
      "}\n",
      "incarnation: 17144550678636392919\n",
      ", name: \"/device:GPU:0\"\n",
      "device_type: \"GPU\"\n",
      "memory_limit: 22727688192\n",
      "locality {\n",
      "  bus_id: 1\n",
      "  links {\n",
      "  }\n",
      "}\n",
      "incarnation: 9065180801263438733\n",
      "physical_device_desc: \"device: 0, name: GeForce RTX 3090, pci bus id: 0000:01:00.0, compute capability: 8.6\"\n",
      "]\n"
     ]
    }
   ],
   "source": [
    "from tensorflow.python.client import device_lib\n",
    "print(device_lib.list_local_devices())"
   ]
  },
  {
   "cell_type": "code",
   "execution_count": 50,
   "id": "ts26D3gLnyLd",
   "metadata": {
    "colab": {
     "base_uri": "https://localhost:8080/"
    },
    "id": "ts26D3gLnyLd",
    "outputId": "f4f6fa8d-223f-4028-b18f-b8da4113b6d3"
   },
   "outputs": [
    {
     "name": "stdout",
     "output_type": "stream",
     "text": [
      "Thu Nov 11 13:11:07 2021       \n",
      "+-----------------------------------------------------------------------------+\n",
      "| NVIDIA-SMI 461.72       Driver Version: 461.72       CUDA Version: 11.2     |\n",
      "|-------------------------------+----------------------+----------------------+\n",
      "| GPU  Name            TCC/WDDM | Bus-Id        Disp.A | Volatile Uncorr. ECC |\n",
      "| Fan  Temp  Perf  Pwr:Usage/Cap|         Memory-Usage | GPU-Util  Compute M. |\n",
      "|                               |                      |               MIG M. |\n",
      "|===============================+======================+======================|\n",
      "|   0  GeForce RTX 3090   WDDM  | 00000000:01:00.0  On |                  N/A |\n",
      "|  0%   48C    P8    27W / 350W |  23769MiB / 24576MiB |      7%      Default |\n",
      "|                               |                      |                  N/A |\n",
      "+-------------------------------+----------------------+----------------------+\n",
      "                                                                               \n",
      "+-----------------------------------------------------------------------------+\n",
      "| Processes:                                                                  |\n",
      "|  GPU   GI   CI        PID   Type   Process name                  GPU Memory |\n",
      "|        ID   ID                                                   Usage      |\n",
      "|=============================================================================|\n",
      "|    0   N/A  N/A      1200    C+G   Insufficient Permissions        N/A      |\n",
      "|    0   N/A  N/A      1392    C+G   ...ge\\Application\\msedge.exe    N/A      |\n",
      "|    0   N/A  N/A      1628    C+G   ...TeamViewer\\TeamViewer.exe    N/A      |\n",
      "|    0   N/A  N/A      4568    C+G   C:\\Windows\\explorer.exe         N/A      |\n",
      "|    0   N/A  N/A      5084    C+G   ...ion\\2.11.126.23\\whale.exe    N/A      |\n",
      "|    0   N/A  N/A      6248    C+G   ...nputApp\\TextInputHost.exe    N/A      |\n",
      "|    0   N/A  N/A      6760    C+G   ...y\\ShellExperienceHost.exe    N/A      |\n",
      "|    0   N/A  N/A      6876      C   ...gkim\\anaconda3\\python.exe    N/A      |\n",
      "|    0   N/A  N/A      9464    C+G   ...3.0.4.0\\GoogleDriveFS.exe    N/A      |\n",
      "|    0   N/A  N/A     11016    C+G   ...5n1h2txyewy\\SearchApp.exe    N/A      |\n",
      "|    0   N/A  N/A     11420    C+G   Insufficient Permissions        N/A      |\n",
      "|    0   N/A  N/A     11620    C+G   ...cw5n1h2txyewy\\LockApp.exe    N/A      |\n",
      "|    0   N/A  N/A     13172    C+G   ...auncher\\PowerLauncher.exe    N/A      |\n",
      "|    0   N/A  N/A     13752    C+G   ...perience\\NVIDIA Share.exe    N/A      |\n",
      "|    0   N/A  N/A     17648    C+G   Insufficient Permissions        N/A      |\n",
      "|    0   N/A  N/A     20048    C+G   Insufficient Permissions        N/A      |\n",
      "+-----------------------------------------------------------------------------+\n"
     ]
    }
   ],
   "source": [
    "!nvidia-smi"
   ]
  },
  {
   "cell_type": "code",
   "execution_count": 51,
   "id": "floating-cincinnati",
   "metadata": {
    "execution": {
     "iopub.execute_input": "2021-05-30T18:39:28.086573Z",
     "iopub.status.busy": "2021-05-30T18:39:28.085923Z",
     "iopub.status.idle": "2021-05-30T18:39:32.847126Z",
     "shell.execute_reply": "2021-05-30T18:39:32.846068Z",
     "shell.execute_reply.started": "2021-05-30T09:28:36.967323Z"
    },
    "id": "floating-cincinnati",
    "papermill": {
     "duration": 4.80129,
     "end_time": "2021-05-30T18:39:32.847355",
     "exception": false,
     "start_time": "2021-05-30T18:39:28.046065",
     "status": "completed"
    },
    "tags": []
   },
   "outputs": [],
   "source": [
    "%matplotlib inline\n",
    "import numpy as np \n",
    "import pandas as pd\n",
    "import os\n",
    "from glob import glob\n",
    "import matplotlib.pyplot as plt\n",
    "from keras_preprocessing.image import ImageDataGenerator\n",
    "from tensorflow.keras.applications import Xception\n",
    "from tensorflow.keras.layers import GlobalAveragePooling2D\n",
    "import tensorflow as tf\n",
    "from tensorflow.keras.callbacks import ModelCheckpoint, EarlyStopping, ReduceLROnPlateau\n",
    "from keras.models import Model"
   ]
  },
  {
   "cell_type": "code",
   "execution_count": 52,
   "id": "73aea229",
   "metadata": {},
   "outputs": [],
   "source": [
    "model_name = Xception\n",
    "name = 'Xception'\n",
    "batch_size = 8\n",
    "train_epoch = 300\n",
    "val_epoch = 50\n",
    "seed = 42\n",
    "image_size = 224\n",
    "LP = 99\n",
    "lr = 0.00001\n",
    "decay = 0.0001"
   ]
  },
  {
   "cell_type": "markdown",
   "id": "rotary-prague",
   "metadata": {
    "id": "rotary-prague",
    "papermill": {
     "duration": 0.025647,
     "end_time": "2021-05-30T18:39:32.952047",
     "exception": false,
     "start_time": "2021-05-30T18:39:32.926400",
     "status": "completed"
    },
    "tags": []
   },
   "source": [
    "# 학습 데이터 세트"
   ]
  },
  {
   "cell_type": "code",
   "execution_count": 112,
   "id": "emotional-valuable",
   "metadata": {
    "execution": {
     "iopub.execute_input": "2021-05-30T18:39:33.012157Z",
     "iopub.status.busy": "2021-05-30T18:39:33.011596Z",
     "iopub.status.idle": "2021-05-30T18:39:35.556063Z",
     "shell.execute_reply": "2021-05-30T18:39:35.555555Z",
     "shell.execute_reply.started": "2021-05-30T09:28:38.947982Z"
    },
    "id": "emotional-valuable",
    "papermill": {
     "duration": 2.57776,
     "end_time": "2021-05-30T18:39:35.556225",
     "exception": false,
     "start_time": "2021-05-30T18:39:32.978465",
     "status": "completed"
    },
    "tags": []
   },
   "outputs": [
    {
     "data": {
      "text/html": [
       "<div>\n",
       "<style scoped>\n",
       "    .dataframe tbody tr th:only-of-type {\n",
       "        vertical-align: middle;\n",
       "    }\n",
       "\n",
       "    .dataframe tbody tr th {\n",
       "        vertical-align: top;\n",
       "    }\n",
       "\n",
       "    .dataframe thead th {\n",
       "        text-align: right;\n",
       "    }\n",
       "</style>\n",
       "<table border=\"1\" class=\"dataframe\">\n",
       "  <thead>\n",
       "    <tr style=\"text-align: right;\">\n",
       "      <th></th>\n",
       "      <th>filepath</th>\n",
       "      <th>label</th>\n",
       "    </tr>\n",
       "  </thead>\n",
       "  <tbody>\n",
       "    <tr>\n",
       "      <th>0</th>\n",
       "      <td>C:\\Users\\ngkim\\Downloads\\ClsKLData\\kneeKL224\\a...</td>\n",
       "      <td>0</td>\n",
       "    </tr>\n",
       "    <tr>\n",
       "      <th>1</th>\n",
       "      <td>C:\\Users\\ngkim\\Downloads\\ClsKLData\\kneeKL224\\a...</td>\n",
       "      <td>0</td>\n",
       "    </tr>\n",
       "    <tr>\n",
       "      <th>2</th>\n",
       "      <td>C:\\Users\\ngkim\\Downloads\\ClsKLData\\kneeKL224\\a...</td>\n",
       "      <td>0</td>\n",
       "    </tr>\n",
       "    <tr>\n",
       "      <th>3</th>\n",
       "      <td>C:\\Users\\ngkim\\Downloads\\ClsKLData\\kneeKL224\\a...</td>\n",
       "      <td>0</td>\n",
       "    </tr>\n",
       "    <tr>\n",
       "      <th>4</th>\n",
       "      <td>C:\\Users\\ngkim\\Downloads\\ClsKLData\\kneeKL224\\a...</td>\n",
       "      <td>0</td>\n",
       "    </tr>\n",
       "    <tr>\n",
       "      <th>...</th>\n",
       "      <td>...</td>\n",
       "      <td>...</td>\n",
       "    </tr>\n",
       "    <tr>\n",
       "      <th>9781</th>\n",
       "      <td>C:\\Users\\ngkim\\Downloads\\ClsKLData\\kneeKL224\\v...</td>\n",
       "      <td>4</td>\n",
       "    </tr>\n",
       "    <tr>\n",
       "      <th>9782</th>\n",
       "      <td>C:\\Users\\ngkim\\Downloads\\ClsKLData\\kneeKL224\\v...</td>\n",
       "      <td>4</td>\n",
       "    </tr>\n",
       "    <tr>\n",
       "      <th>9783</th>\n",
       "      <td>C:\\Users\\ngkim\\Downloads\\ClsKLData\\kneeKL224\\v...</td>\n",
       "      <td>4</td>\n",
       "    </tr>\n",
       "    <tr>\n",
       "      <th>9784</th>\n",
       "      <td>C:\\Users\\ngkim\\Downloads\\ClsKLData\\kneeKL224\\v...</td>\n",
       "      <td>4</td>\n",
       "    </tr>\n",
       "    <tr>\n",
       "      <th>9785</th>\n",
       "      <td>C:\\Users\\ngkim\\Downloads\\ClsKLData\\kneeKL224\\v...</td>\n",
       "      <td>4</td>\n",
       "    </tr>\n",
       "  </tbody>\n",
       "</table>\n",
       "<p>9786 rows × 2 columns</p>\n",
       "</div>"
      ],
      "text/plain": [
       "                                               filepath  label\n",
       "0     C:\\Users\\ngkim\\Downloads\\ClsKLData\\kneeKL224\\a...      0\n",
       "1     C:\\Users\\ngkim\\Downloads\\ClsKLData\\kneeKL224\\a...      0\n",
       "2     C:\\Users\\ngkim\\Downloads\\ClsKLData\\kneeKL224\\a...      0\n",
       "3     C:\\Users\\ngkim\\Downloads\\ClsKLData\\kneeKL224\\a...      0\n",
       "4     C:\\Users\\ngkim\\Downloads\\ClsKLData\\kneeKL224\\a...      0\n",
       "...                                                 ...    ...\n",
       "9781  C:\\Users\\ngkim\\Downloads\\ClsKLData\\kneeKL224\\v...      4\n",
       "9782  C:\\Users\\ngkim\\Downloads\\ClsKLData\\kneeKL224\\v...      4\n",
       "9783  C:\\Users\\ngkim\\Downloads\\ClsKLData\\kneeKL224\\v...      4\n",
       "9784  C:\\Users\\ngkim\\Downloads\\ClsKLData\\kneeKL224\\v...      4\n",
       "9785  C:\\Users\\ngkim\\Downloads\\ClsKLData\\kneeKL224\\v...      4\n",
       "\n",
       "[9786 rows x 2 columns]"
      ]
     },
     "execution_count": 112,
     "metadata": {},
     "output_type": "execute_result"
    }
   ],
   "source": [
    "# number of class\n",
    "n_class = 5\n",
    "\n",
    "# path to kaggle dataset\n",
    "root_path = \"C:\\\\Users\\\\ngkim\\\\Downloads\\\\ClsKLData\\\\kneeKL224\\\\\"\n",
    "\n",
    "# list of folders\n",
    "folder_list = os.listdir(root_path)\n",
    "image_path_list = []\n",
    "label_list = []\n",
    "\n",
    "# for each folder, get the image path and labels\n",
    "for folder in folder_list:\n",
    "    for label in range(n_class):\n",
    "        \n",
    "        # get all the images path inside the current folder\n",
    "        image_list = os.listdir(f\"{root_path}{folder}/{label}\")\n",
    "        # add to the image path list\n",
    "        image_path_list += [ f\"{root_path}{folder}/{label}/\"+ path for path in image_list]\n",
    "        \n",
    "        # add labels to the label list\n",
    "        label_list += [label] * len(image_list)\n",
    "\n",
    "# convert to dataframe\n",
    "df_train_kaggle = pd.DataFrame({\"filepath\" : image_path_list, \"label\": label_list})\n",
    "df_train_kaggle\n",
    "# type(df_train_kaggle)"
   ]
  },
  {
   "cell_type": "code",
   "execution_count": 93,
   "id": "f09b56d4",
   "metadata": {},
   "outputs": [
    {
     "data": {
      "text/html": [
       "<div>\n",
       "<style scoped>\n",
       "    .dataframe tbody tr th:only-of-type {\n",
       "        vertical-align: middle;\n",
       "    }\n",
       "\n",
       "    .dataframe tbody tr th {\n",
       "        vertical-align: top;\n",
       "    }\n",
       "\n",
       "    .dataframe thead th {\n",
       "        text-align: right;\n",
       "    }\n",
       "</style>\n",
       "<table border=\"1\" class=\"dataframe\">\n",
       "  <thead>\n",
       "    <tr style=\"text-align: right;\">\n",
       "      <th></th>\n",
       "      <th>filepath</th>\n",
       "      <th>label</th>\n",
       "    </tr>\n",
       "  </thead>\n",
       "  <tbody>\n",
       "    <tr>\n",
       "      <th>0</th>\n",
       "      <td>C:\\Users\\ngkim\\Downloads\\224_data\\test/0/5a210...</td>\n",
       "      <td>0</td>\n",
       "    </tr>\n",
       "    <tr>\n",
       "      <th>1</th>\n",
       "      <td>C:\\Users\\ngkim\\Downloads\\224_data\\test/0/5a210...</td>\n",
       "      <td>0</td>\n",
       "    </tr>\n",
       "    <tr>\n",
       "      <th>2</th>\n",
       "      <td>C:\\Users\\ngkim\\Downloads\\224_data\\test/0/5a211...</td>\n",
       "      <td>0</td>\n",
       "    </tr>\n",
       "    <tr>\n",
       "      <th>3</th>\n",
       "      <td>C:\\Users\\ngkim\\Downloads\\224_data\\test/0/5a211...</td>\n",
       "      <td>0</td>\n",
       "    </tr>\n",
       "    <tr>\n",
       "      <th>4</th>\n",
       "      <td>C:\\Users\\ngkim\\Downloads\\224_data\\test/0/5a28d...</td>\n",
       "      <td>0</td>\n",
       "    </tr>\n",
       "    <tr>\n",
       "      <th>...</th>\n",
       "      <td>...</td>\n",
       "      <td>...</td>\n",
       "    </tr>\n",
       "    <tr>\n",
       "      <th>526</th>\n",
       "      <td>C:\\Users\\ngkim\\Downloads\\224_data\\test/4/5b0e3...</td>\n",
       "      <td>4</td>\n",
       "    </tr>\n",
       "    <tr>\n",
       "      <th>527</th>\n",
       "      <td>C:\\Users\\ngkim\\Downloads\\224_data\\test/4/5b0f6...</td>\n",
       "      <td>4</td>\n",
       "    </tr>\n",
       "    <tr>\n",
       "      <th>528</th>\n",
       "      <td>C:\\Users\\ngkim\\Downloads\\224_data\\test/4/5b10d...</td>\n",
       "      <td>4</td>\n",
       "    </tr>\n",
       "    <tr>\n",
       "      <th>529</th>\n",
       "      <td>C:\\Users\\ngkim\\Downloads\\224_data\\test/4/5b10d...</td>\n",
       "      <td>4</td>\n",
       "    </tr>\n",
       "    <tr>\n",
       "      <th>530</th>\n",
       "      <td>C:\\Users\\ngkim\\Downloads\\224_data\\test/4/5b1f5...</td>\n",
       "      <td>4</td>\n",
       "    </tr>\n",
       "  </tbody>\n",
       "</table>\n",
       "<p>531 rows × 2 columns</p>\n",
       "</div>"
      ],
      "text/plain": [
       "                                              filepath  label\n",
       "0    C:\\Users\\ngkim\\Downloads\\224_data\\test/0/5a210...      0\n",
       "1    C:\\Users\\ngkim\\Downloads\\224_data\\test/0/5a210...      0\n",
       "2    C:\\Users\\ngkim\\Downloads\\224_data\\test/0/5a211...      0\n",
       "3    C:\\Users\\ngkim\\Downloads\\224_data\\test/0/5a211...      0\n",
       "4    C:\\Users\\ngkim\\Downloads\\224_data\\test/0/5a28d...      0\n",
       "..                                                 ...    ...\n",
       "526  C:\\Users\\ngkim\\Downloads\\224_data\\test/4/5b0e3...      4\n",
       "527  C:\\Users\\ngkim\\Downloads\\224_data\\test/4/5b0f6...      4\n",
       "528  C:\\Users\\ngkim\\Downloads\\224_data\\test/4/5b10d...      4\n",
       "529  C:\\Users\\ngkim\\Downloads\\224_data\\test/4/5b10d...      4\n",
       "530  C:\\Users\\ngkim\\Downloads\\224_data\\test/4/5b1f5...      4\n",
       "\n",
       "[531 rows x 2 columns]"
      ]
     },
     "execution_count": 93,
     "metadata": {},
     "output_type": "execute_result"
    }
   ],
   "source": [
    "# number of class\n",
    "n_class = 5\n",
    "\n",
    "# path to kaggle dataset\n",
    "test_root_path = \"C:\\\\Users\\\\ngkim\\\\Downloads\\\\224_data\\\\\"\n",
    "\n",
    "# list of folders\n",
    "test_folder_list = os.listdir(test_root_path)\n",
    "test_image_path_list = []\n",
    "test_label_list = []\n",
    "\n",
    "# for each folder, get the image path and labels\n",
    "for folder in test_folder_list:\n",
    "    for label in range(n_class):\n",
    "        \n",
    "        # get all the images path inside the current folder\n",
    "        test_image_list = os.listdir(f\"{test_root_path}{folder}/{label}\")\n",
    "        # add to the image path list\n",
    "        test_image_path_list += [ f\"{test_root_path}{folder}/{label}/\"+ path for path in test_image_list]\n",
    "        \n",
    "        # add labels to the label list\n",
    "        test_label_list += [label] * len(test_image_list)\n",
    "\n",
    "# convert to dataframe\n",
    "df_test = pd.DataFrame({\"filepath\" : test_image_path_list, \"label\": test_label_list})\n",
    "df_test"
   ]
  },
  {
   "cell_type": "code",
   "execution_count": 94,
   "id": "5e537e80",
   "metadata": {},
   "outputs": [
    {
     "data": {
      "text/plain": [
       "(531, 2)"
      ]
     },
     "execution_count": 94,
     "metadata": {},
     "output_type": "execute_result"
    }
   ],
   "source": [
    "df_test.shape"
   ]
  },
  {
   "cell_type": "code",
   "execution_count": 95,
   "id": "fcd9d9a7",
   "metadata": {},
   "outputs": [
    {
     "data": {
      "text/plain": [
       "Text(0, 0.5, 'count')"
      ]
     },
     "execution_count": 95,
     "metadata": {},
     "output_type": "execute_result"
    },
    {
     "data": {
      "image/png": "[encoded data removed]",
      "text/plain": [
       "<Figure size 432x288 with 1 Axes>"
      ]
     },
     "metadata": {
      "needs_background": "light"
     },
     "output_type": "display_data"
    }
   ],
   "source": [
    "df_test.label.value_counts().plot.bar()\n",
    "plt.xlabel(\"label\")\n",
    "plt.ylabel(\"count\")"
   ]
  },
  {
   "cell_type": "code",
   "execution_count": 54,
   "id": "signal-responsibility",
   "metadata": {
    "colab": {
     "base_uri": "https://localhost:8080/"
    },
    "execution": {
     "iopub.execute_input": "2021-05-30T18:39:35.618734Z",
     "iopub.status.busy": "2021-05-30T18:39:35.617931Z",
     "iopub.status.idle": "2021-05-30T18:39:35.621117Z",
     "shell.execute_reply": "2021-05-30T18:39:35.621576Z",
     "shell.execute_reply.started": "2021-05-30T09:28:40.244589Z"
    },
    "id": "signal-responsibility",
    "outputId": "9be7a788-1c7a-498d-a3e9-7b2c5e8455ab",
    "papermill": {
     "duration": 0.03629,
     "end_time": "2021-05-30T18:39:35.621716",
     "exception": false,
     "start_time": "2021-05-30T18:39:35.585426",
     "status": "completed"
    },
    "tags": []
   },
   "outputs": [
    {
     "data": {
      "text/plain": [
       "(9786, 2)"
      ]
     },
     "execution_count": 54,
     "metadata": {},
     "output_type": "execute_result"
    }
   ],
   "source": [
    "df_train_kaggle.shape"
   ]
  },
  {
   "cell_type": "markdown",
   "id": "hairy-greene",
   "metadata": {
    "id": "hairy-greene",
    "papermill": {
     "duration": 0.030406,
     "end_time": "2021-05-30T18:39:35.680660",
     "exception": false,
     "start_time": "2021-05-30T18:39:35.650254",
     "status": "completed"
    },
    "tags": []
   },
   "source": [
    "# 샘플 분포"
   ]
  },
  {
   "cell_type": "code",
   "execution_count": 55,
   "id": "therapeutic-spending",
   "metadata": {
    "colab": {
     "base_uri": "https://localhost:8080/",
     "height": 295
    },
    "execution": {
     "iopub.execute_input": "2021-05-30T18:39:35.750000Z",
     "iopub.status.busy": "2021-05-30T18:39:35.749277Z",
     "iopub.status.idle": "2021-05-30T18:39:35.918362Z",
     "shell.execute_reply": "2021-05-30T18:39:35.918766Z",
     "shell.execute_reply.started": "2021-05-30T09:28:41.597346Z"
    },
    "id": "therapeutic-spending",
    "outputId": "0e179822-cb9f-4a56-b0c3-1f99705e882b",
    "papermill": {
     "duration": 0.208649,
     "end_time": "2021-05-30T18:39:35.918905",
     "exception": false,
     "start_time": "2021-05-30T18:39:35.710256",
     "status": "completed"
    },
    "tags": []
   },
   "outputs": [
    {
     "data": {
      "text/plain": [
       "Text(0, 0.5, 'count')"
      ]
     },
     "execution_count": 55,
     "metadata": {},
     "output_type": "execute_result"
    },
    {
     "data": {
      "image/png": "[encoded data removed]",
      "text/plain": [
       "<Figure size 432x288 with 1 Axes>"
      ]
     },
     "metadata": {
      "needs_background": "light"
     },
     "output_type": "display_data"
    }
   ],
   "source": [
    "df_train_kaggle.label.value_counts().plot.bar()\n",
    "plt.xlabel(\"label\")\n",
    "plt.ylabel(\"count\")"
   ]
  },
  {
   "cell_type": "code",
   "execution_count": 56,
   "id": "encouraging-novel",
   "metadata": {
    "execution": {
     "iopub.execute_input": "2021-05-30T18:39:36.090553Z",
     "iopub.status.busy": "2021-05-30T18:39:36.089729Z",
     "iopub.status.idle": "2021-05-30T18:39:36.092340Z",
     "shell.execute_reply": "2021-05-30T18:39:36.091828Z",
     "shell.execute_reply.started": "2021-05-30T09:28:44.189248Z"
    },
    "id": "encouraging-novel",
    "papermill": {
     "duration": 0.035021,
     "end_time": "2021-05-30T18:39:36.092447",
     "exception": false,
     "start_time": "2021-05-30T18:39:36.057426",
     "status": "completed"
    },
    "tags": []
   },
   "outputs": [],
   "source": [
    "# train data generator object\n",
    "train_aug = ImageDataGenerator(\n",
    "    rescale = 1./255\n",
    "  )\n",
    "\n",
    "# validation data generator object\n",
    "valid_aug = ImageDataGenerator(\n",
    "    rescale = 1./255\n",
    "  )"
   ]
  },
  {
   "cell_type": "code",
   "execution_count": 57,
   "id": "geological-philadelphia",
   "metadata": {
    "colab": {
     "base_uri": "https://localhost:8080/"
    },
    "execution": {
     "iopub.execute_input": "2021-05-30T18:39:36.172890Z",
     "iopub.status.busy": "2021-05-30T18:39:36.167698Z",
     "iopub.status.idle": "2021-05-30T18:39:39.954054Z",
     "shell.execute_reply": "2021-05-30T18:39:39.954888Z",
     "shell.execute_reply.started": "2021-05-30T09:28:47.478488Z"
    },
    "id": "geological-philadelphia",
    "outputId": "358f5e4e-a7b9-4d32-d0be-5a08a4e27ace",
    "papermill": {
     "duration": 3.835127,
     "end_time": "2021-05-30T18:39:39.955083",
     "exception": false,
     "start_time": "2021-05-30T18:39:36.119956",
     "status": "completed"
    },
    "tags": []
   },
   "outputs": [
    {
     "name": "stdout",
     "output_type": "stream",
     "text": [
      "Found 9786 validated image filenames.\n"
     ]
    }
   ],
   "source": [
    "# create train generator\n",
    "train_generator = train_aug.flow_from_dataframe(\n",
    "    dataframe = df_train_kaggle,\n",
    "    directory = None,\n",
    "    x_col = \"filepath\",\n",
    "    y_col = \"label\",\n",
    "    batch_size = batch_size,\n",
    "    seed = seed,\n",
    "    shuffle = True,\n",
    "    class_mode = \"raw\",\n",
    "    target_size = (image_size,image_size)\n",
    "  )"
   ]
  },
  {
   "cell_type": "code",
   "execution_count": null,
   "id": "95c32ca9",
   "metadata": {},
   "outputs": [],
   "source": [
    "# create train generator\n",
    "train_generator = train_aug.flow_from_dataframe(\n",
    "    dataframe = df_test,\n",
    "    directory = None,\n",
    "    x_col = \"filepath\",\n",
    "    y_col = \"label\",\n",
    "    batch_size = batch_size,\n",
    "    seed = seed,\n",
    "    shuffle = True,\n",
    "    class_mode = \"raw\",\n",
    "    target_size = (image_size,image_size)\n",
    "  )"
   ]
  },
  {
   "cell_type": "markdown",
   "id": "asian-chest",
   "metadata": {
    "id": "asian-chest",
    "papermill": {
     "duration": 0.027295,
     "end_time": "2021-05-30T18:39:40.011354",
     "exception": false,
     "start_time": "2021-05-30T18:39:39.984059",
     "status": "completed"
    },
    "tags": []
   },
   "source": [
    "# 검증 데이터"
   ]
  },
  {
   "cell_type": "code",
   "execution_count": 58,
   "id": "threaded-characterization",
   "metadata": {
    "colab": {
     "base_uri": "https://localhost:8080/",
     "height": 204
    },
    "execution": {
     "iopub.execute_input": "2021-05-30T18:40:02.229132Z",
     "iopub.status.busy": "2021-05-30T18:40:02.228400Z",
     "iopub.status.idle": "2021-05-30T18:40:02.250117Z",
     "shell.execute_reply": "2021-05-30T18:40:02.250642Z",
     "shell.execute_reply.started": "2021-05-30T08:33:23.833280Z"
    },
    "id": "threaded-characterization",
    "outputId": "283093ce-0819-4542-9ff8-555713912e62",
    "papermill": {
     "duration": 0.059732,
     "end_time": "2021-05-30T18:40:02.250775",
     "exception": false,
     "start_time": "2021-05-30T18:40:02.191043",
     "status": "completed"
    },
    "tags": []
   },
   "outputs": [
    {
     "data": {
      "text/html": [
       "<div>\n",
       "<style scoped>\n",
       "    .dataframe tbody tr th:only-of-type {\n",
       "        vertical-align: middle;\n",
       "    }\n",
       "\n",
       "    .dataframe tbody tr th {\n",
       "        vertical-align: top;\n",
       "    }\n",
       "\n",
       "    .dataframe thead th {\n",
       "        text-align: right;\n",
       "    }\n",
       "</style>\n",
       "<table border=\"1\" class=\"dataframe\">\n",
       "  <thead>\n",
       "    <tr style=\"text-align: right;\">\n",
       "      <th></th>\n",
       "      <th>filename</th>\n",
       "      <th>label</th>\n",
       "    </tr>\n",
       "  </thead>\n",
       "  <tbody>\n",
       "    <tr>\n",
       "      <th>0</th>\n",
       "      <td>C:\\Users\\ngkim\\Downloads\\KneeXray\\train/Image_...</td>\n",
       "      <td>0</td>\n",
       "    </tr>\n",
       "    <tr>\n",
       "      <th>1</th>\n",
       "      <td>C:\\Users\\ngkim\\Downloads\\KneeXray\\train/Image_...</td>\n",
       "      <td>1</td>\n",
       "    </tr>\n",
       "    <tr>\n",
       "      <th>2</th>\n",
       "      <td>C:\\Users\\ngkim\\Downloads\\KneeXray\\train/Image_...</td>\n",
       "      <td>0</td>\n",
       "    </tr>\n",
       "    <tr>\n",
       "      <th>3</th>\n",
       "      <td>C:\\Users\\ngkim\\Downloads\\KneeXray\\train/Image_...</td>\n",
       "      <td>1</td>\n",
       "    </tr>\n",
       "    <tr>\n",
       "      <th>4</th>\n",
       "      <td>C:\\Users\\ngkim\\Downloads\\KneeXray\\train/Image_...</td>\n",
       "      <td>2</td>\n",
       "    </tr>\n",
       "  </tbody>\n",
       "</table>\n",
       "</div>"
      ],
      "text/plain": [
       "                                            filename  label\n",
       "0  C:\\Users\\ngkim\\Downloads\\KneeXray\\train/Image_...      0\n",
       "1  C:\\Users\\ngkim\\Downloads\\KneeXray\\train/Image_...      1\n",
       "2  C:\\Users\\ngkim\\Downloads\\KneeXray\\train/Image_...      0\n",
       "3  C:\\Users\\ngkim\\Downloads\\KneeXray\\train/Image_...      1\n",
       "4  C:\\Users\\ngkim\\Downloads\\KneeXray\\train/Image_...      2"
      ]
     },
     "execution_count": 58,
     "metadata": {},
     "output_type": "execute_result"
    }
   ],
   "source": [
    "# read Train.csv file which contains image names and labels and preprocess them\n",
    "compi_root_path = \"C:\\\\Users\\\\ngkim\\\\Downloads\\\\KneeXray\\\\\"\n",
    "df_val_compi = pd.read_csv(compi_root_path + \"Train.csv\")\n",
    "\n",
    "# add absolute path to the image names\n",
    "df_val_compi[\"filename\"] = df_val_compi.filename.apply(lambda x: compi_root_path+\"train/\" + x)\n",
    "df_val_compi.head()"
   ]
  },
  {
   "cell_type": "code",
   "execution_count": 107,
   "id": "6ced03a6",
   "metadata": {},
   "outputs": [
    {
     "data": {
      "text/plain": [
       "pandas.core.series.Series"
      ]
     },
     "execution_count": 107,
     "metadata": {},
     "output_type": "execute_result"
    }
   ],
   "source": [
    "type(df_val_compi[\"filename\"])"
   ]
  },
  {
   "cell_type": "code",
   "execution_count": 108,
   "id": "1a158d40",
   "metadata": {},
   "outputs": [
    {
     "data": {
      "text/plain": [
       "0       C:\\Users\\ngkim\\Downloads\\KneeXray\\train/C:\\Use...\n",
       "1       C:\\Users\\ngkim\\Downloads\\KneeXray\\train/C:\\Use...\n",
       "2       C:\\Users\\ngkim\\Downloads\\KneeXray\\train/C:\\Use...\n",
       "3       C:\\Users\\ngkim\\Downloads\\KneeXray\\train/C:\\Use...\n",
       "4       C:\\Users\\ngkim\\Downloads\\KneeXray\\train/C:\\Use...\n",
       "                              ...                        \n",
       "7823    C:\\Users\\ngkim\\Downloads\\KneeXray\\train/C:\\Use...\n",
       "7824    C:\\Users\\ngkim\\Downloads\\KneeXray\\train/C:\\Use...\n",
       "7825    C:\\Users\\ngkim\\Downloads\\KneeXray\\train/C:\\Use...\n",
       "7826    C:\\Users\\ngkim\\Downloads\\KneeXray\\train/C:\\Use...\n",
       "7827    C:\\Users\\ngkim\\Downloads\\KneeXray\\train/C:\\Use...\n",
       "Name: filename, Length: 7828, dtype: object"
      ]
     },
     "execution_count": 108,
     "metadata": {},
     "output_type": "execute_result"
    }
   ],
   "source": [
    "df_val_compi.filename.apply(lambda x: compi_root_path+\"train/\" + x)"
   ]
  },
  {
   "cell_type": "code",
   "execution_count": 59,
   "id": "suburban-shareware",
   "metadata": {
    "colab": {
     "base_uri": "https://localhost:8080/",
     "height": 294
    },
    "execution": {
     "iopub.execute_input": "2021-05-30T18:40:02.339459Z",
     "iopub.status.busy": "2021-05-30T18:40:02.324109Z",
     "iopub.status.idle": "2021-05-30T18:40:02.442504Z",
     "shell.execute_reply": "2021-05-30T18:40:02.442056Z",
     "shell.execute_reply.started": "2021-05-30T08:33:23.865039Z"
    },
    "id": "suburban-shareware",
    "outputId": "8fb91f05-54a6-4bc7-d95f-68ea55748335",
    "papermill": {
     "duration": 0.158988,
     "end_time": "2021-05-30T18:40:02.442618",
     "exception": false,
     "start_time": "2021-05-30T18:40:02.283630",
     "status": "completed"
    },
    "tags": []
   },
   "outputs": [
    {
     "data": {
      "text/plain": [
       "Text(0, 0.5, 'count')"
      ]
     },
     "execution_count": 59,
     "metadata": {},
     "output_type": "execute_result"
    },
    {
     "data": {
      "image/png": "[encoded data removed]",
      "text/plain": [
       "<Figure size 432x288 with 1 Axes>"
      ]
     },
     "metadata": {
      "needs_background": "light"
     },
     "output_type": "display_data"
    }
   ],
   "source": [
    "# class count of compitition dataset\n",
    "df_val_compi.label.value_counts().plot.bar()\n",
    "plt.xlabel(\"label\")\n",
    "plt.ylabel(\"count\")"
   ]
  },
  {
   "cell_type": "code",
   "execution_count": 60,
   "id": "saving-homework",
   "metadata": {
    "colab": {
     "base_uri": "https://localhost:8080/"
    },
    "execution": {
     "iopub.execute_input": "2021-05-30T18:40:02.529039Z",
     "iopub.status.busy": "2021-05-30T18:40:02.528305Z",
     "iopub.status.idle": "2021-05-30T18:40:02.574290Z",
     "shell.execute_reply": "2021-05-30T18:40:02.574903Z",
     "shell.execute_reply.started": "2021-05-30T08:54:21.600981Z"
    },
    "id": "saving-homework",
    "outputId": "178977a9-4413-4d38-b7f0-de8a9904b0e0",
    "papermill": {
     "duration": 0.098388,
     "end_time": "2021-05-30T18:40:02.575081",
     "exception": false,
     "start_time": "2021-05-30T18:40:02.476693",
     "status": "completed"
    },
    "tags": []
   },
   "outputs": [
    {
     "name": "stdout",
     "output_type": "stream",
     "text": [
      "Found 7828 validated image filenames.\n"
     ]
    }
   ],
   "source": [
    "# create validation generator\n",
    "valid_generator = valid_aug.flow_from_dataframe( \n",
    "    dataframe = df_val_compi,\n",
    "    x_col = \"filename\",\n",
    "    y_col = \"label\",\n",
    "    batch_size = batch_size,\n",
    "    seed = seed,\n",
    "    shuffle= True,\n",
    "    class_mode = \"raw\",\n",
    "    target_size = (image_size,image_size)\n",
    "  )"
   ]
  },
  {
   "cell_type": "code",
   "execution_count": 115,
   "id": "f737f77f",
   "metadata": {},
   "outputs": [
    {
     "name": "stdout",
     "output_type": "stream",
     "text": [
      "Found 531 validated image filenames.\n"
     ]
    }
   ],
   "source": [
    "# create validation generator\n",
    "da_test_generator = valid_aug.flow_from_dataframe( \n",
    "    dataframe = df_test,\n",
    "    x_col = \"filepath\",\n",
    "    y_col = \"label\",\n",
    "    batch_size = batch_size,\n",
    "    seed = seed,\n",
    "    shuffle= True,\n",
    "    class_mode = \"raw\",\n",
    "    target_size = (image_size,image_size)\n",
    "  )"
   ]
  },
  {
   "cell_type": "markdown",
   "id": "marked-belarus",
   "metadata": {
    "id": "marked-belarus",
    "papermill": {
     "duration": 0.033792,
     "end_time": "2021-05-30T18:40:02.643887",
     "exception": false,
     "start_time": "2021-05-30T18:40:02.610095",
     "status": "completed"
    },
    "tags": []
   },
   "source": [
    "# 모델"
   ]
  },
  {
   "cell_type": "code",
   "execution_count": 61,
   "id": "buried-tablet",
   "metadata": {
    "colab": {
     "base_uri": "https://localhost:8080/"
    },
    "execution": {
     "iopub.execute_input": "2021-05-30T18:40:02.724467Z",
     "iopub.status.busy": "2021-05-30T18:40:02.723830Z",
     "iopub.status.idle": "2021-05-30T18:40:08.132744Z",
     "shell.execute_reply": "2021-05-30T18:40:08.131632Z",
     "shell.execute_reply.started": "2021-05-30T09:28:56.068101Z"
    },
    "id": "buried-tablet",
    "outputId": "2be7f5dd-25c9-49e7-fce8-f3e1fbe9c6a1",
    "papermill": {
     "duration": 5.455093,
     "end_time": "2021-05-30T18:40:08.132878",
     "exception": false,
     "start_time": "2021-05-30T18:40:02.677785",
     "status": "completed"
    },
    "tags": []
   },
   "outputs": [],
   "source": [
    "sel_model = model_name(weights = \"imagenet\",)\n",
    "x =  sel_model.layers[-10].output\n",
    "\n",
    "x = tf.keras.layers.Conv2D(filters = 1536, kernel_size = 3, padding = \"same\")(x)\n",
    "x = tf.keras.layers.BatchNormalization()(x)\n",
    "x = tf.keras.layers.Activation(\"relu\")(x)\n",
    "\n",
    "x = tf.keras.layers.Conv2D(filters = 1024, kernel_size = 3, padding = \"same\")(x)\n",
    "x = tf.keras.layers.BatchNormalization()(x)\n",
    "x = tf.keras.layers.Activation(\"relu\")(x)\n",
    "\n",
    "x = tf.keras.layers.Conv2D(filters = 768, kernel_size = 3, padding = \"same\")(x)\n",
    "x = tf.keras.layers.BatchNormalization()(x)\n",
    "x = tf.keras.layers.Activation(\"relu\")(x)\n",
    "\n",
    "x = tf.keras.layers.Conv2D(filters = 512, kernel_size = 3, padding = \"same\")(x)\n",
    "x = tf.keras.layers.BatchNormalization()(x)\n",
    "x = tf.keras.layers.Activation(\"relu\")(x)\n",
    "\n",
    "x = tf.keras.layers.Conv2D(filters = 384, kernel_size= 3, padding = \"same\")(x)\n",
    "x = tf.keras.layers.BatchNormalization()(x)\n",
    "x = tf.keras.layers.Activation(\"relu\")(x)\n",
    "\n",
    "x = tf.keras.layers.Conv2D(filters = 256, kernel_size = 3, padding = \"same\")(x)\n",
    "x = tf.keras.layers.BatchNormalization()(x)\n",
    "x = tf.keras.layers.Activation(\"relu\")(x)\n",
    "\n",
    "x = tf.keras.layers.Conv2D(filters = 128, kernel_size = 3, padding = \"same\")(x)\n",
    "x = tf.keras.layers.BatchNormalization()(x)\n",
    "x = tf.keras.layers.Activation(\"relu\")(x)\n",
    "\n",
    "x = tf.keras.layers.Conv2D(filters = 64, kernel_size= 3, padding = \"same\")(x)\n",
    "x = tf.keras.layers.BatchNormalization()(x)\n",
    "x = tf.keras.layers.Activation(\"relu\")(x)\n",
    "\n",
    "x = tf.keras.layers.Conv2D(filters = 32, kernel_size= 3, padding = \"same\")(x)\n",
    "x = tf.keras.layers.BatchNormalization()(x)\n",
    "x = tf.keras.layers.Activation(\"relu\")(x)\n",
    "\n",
    "x = tf.keras.layers.Conv2D(filters = 16, kernel_size= 3, padding = \"same\")(x)\n",
    "x = tf.keras.layers.BatchNormalization()(x)\n",
    "x = tf.keras.layers.Activation(\"relu\")(x)\n",
    "\n",
    "x = tf.keras.layers.Conv2D(filters = n_class, kernel_size = 3, padding = \"same\")(x)\n",
    "x = tf.keras.layers.BatchNormalization()(x)\n",
    "x = tf.keras.layers.Activation(\"relu\")(x)\n",
    "\n",
    "GAP = tf.keras.layers.GlobalAveragePooling2D()(x)\n",
    "pred = tf.keras.activations.softmax(GAP)\n",
    "\n",
    "pic_model = Model(inputs=sel_model.input,outputs = pred)"
   ]
  },
  {
   "cell_type": "code",
   "execution_count": 62,
   "id": "DYVqXESmD_Fd",
   "metadata": {
    "colab": {
     "base_uri": "https://localhost:8080/"
    },
    "id": "DYVqXESmD_Fd",
    "outputId": "88696012-6f00-42ba-d016-645743054fa0"
   },
   "outputs": [
    {
     "name": "stdout",
     "output_type": "stream",
     "text": [
      "Model: \"model_1\"\n",
      "__________________________________________________________________________________________________\n",
      "Layer (type)                    Output Shape         Param #     Connected to                     \n",
      "==================================================================================================\n",
      "input_2 (InputLayer)            [(None, 299, 299, 3) 0                                            \n",
      "__________________________________________________________________________________________________\n",
      "block1_conv1 (Conv2D)           (None, 149, 149, 32) 864         input_2[0][0]                    \n",
      "__________________________________________________________________________________________________\n",
      "block1_conv1_bn (BatchNormaliza (None, 149, 149, 32) 128         block1_conv1[0][0]               \n",
      "__________________________________________________________________________________________________\n",
      "block1_conv1_act (Activation)   (None, 149, 149, 32) 0           block1_conv1_bn[0][0]            \n",
      "__________________________________________________________________________________________________\n",
      "block1_conv2 (Conv2D)           (None, 147, 147, 64) 18432       block1_conv1_act[0][0]           \n",
      "__________________________________________________________________________________________________\n",
      "block1_conv2_bn (BatchNormaliza (None, 147, 147, 64) 256         block1_conv2[0][0]               \n",
      "__________________________________________________________________________________________________\n",
      "block1_conv2_act (Activation)   (None, 147, 147, 64) 0           block1_conv2_bn[0][0]            \n",
      "__________________________________________________________________________________________________\n",
      "block2_sepconv1 (SeparableConv2 (None, 147, 147, 128 8768        block1_conv2_act[0][0]           \n",
      "__________________________________________________________________________________________________\n",
      "block2_sepconv1_bn (BatchNormal (None, 147, 147, 128 512         block2_sepconv1[0][0]            \n",
      "__________________________________________________________________________________________________\n",
      "block2_sepconv2_act (Activation (None, 147, 147, 128 0           block2_sepconv1_bn[0][0]         \n",
      "__________________________________________________________________________________________________\n",
      "block2_sepconv2 (SeparableConv2 (None, 147, 147, 128 17536       block2_sepconv2_act[0][0]        \n",
      "__________________________________________________________________________________________________\n",
      "block2_sepconv2_bn (BatchNormal (None, 147, 147, 128 512         block2_sepconv2[0][0]            \n",
      "__________________________________________________________________________________________________\n",
      "conv2d_15 (Conv2D)              (None, 74, 74, 128)  8192        block1_conv2_act[0][0]           \n",
      "__________________________________________________________________________________________________\n",
      "block2_pool (MaxPooling2D)      (None, 74, 74, 128)  0           block2_sepconv2_bn[0][0]         \n",
      "__________________________________________________________________________________________________\n",
      "batch_normalization_15 (BatchNo (None, 74, 74, 128)  512         conv2d_15[0][0]                  \n",
      "__________________________________________________________________________________________________\n",
      "add_12 (Add)                    (None, 74, 74, 128)  0           block2_pool[0][0]                \n",
      "                                                                 batch_normalization_15[0][0]     \n",
      "__________________________________________________________________________________________________\n",
      "block3_sepconv1_act (Activation (None, 74, 74, 128)  0           add_12[0][0]                     \n",
      "__________________________________________________________________________________________________\n",
      "block3_sepconv1 (SeparableConv2 (None, 74, 74, 256)  33920       block3_sepconv1_act[0][0]        \n",
      "__________________________________________________________________________________________________\n",
      "block3_sepconv1_bn (BatchNormal (None, 74, 74, 256)  1024        block3_sepconv1[0][0]            \n",
      "__________________________________________________________________________________________________\n",
      "block3_sepconv2_act (Activation (None, 74, 74, 256)  0           block3_sepconv1_bn[0][0]         \n",
      "__________________________________________________________________________________________________\n",
      "block3_sepconv2 (SeparableConv2 (None, 74, 74, 256)  67840       block3_sepconv2_act[0][0]        \n",
      "__________________________________________________________________________________________________\n",
      "block3_sepconv2_bn (BatchNormal (None, 74, 74, 256)  1024        block3_sepconv2[0][0]            \n",
      "__________________________________________________________________________________________________\n",
      "conv2d_16 (Conv2D)              (None, 37, 37, 256)  32768       add_12[0][0]                     \n",
      "__________________________________________________________________________________________________\n",
      "block3_pool (MaxPooling2D)      (None, 37, 37, 256)  0           block3_sepconv2_bn[0][0]         \n",
      "__________________________________________________________________________________________________\n",
      "batch_normalization_16 (BatchNo (None, 37, 37, 256)  1024        conv2d_16[0][0]                  \n",
      "__________________________________________________________________________________________________\n",
      "add_13 (Add)                    (None, 37, 37, 256)  0           block3_pool[0][0]                \n",
      "                                                                 batch_normalization_16[0][0]     \n",
      "__________________________________________________________________________________________________\n",
      "block4_sepconv1_act (Activation (None, 37, 37, 256)  0           add_13[0][0]                     \n",
      "__________________________________________________________________________________________________\n",
      "block4_sepconv1 (SeparableConv2 (None, 37, 37, 728)  188672      block4_sepconv1_act[0][0]        \n",
      "__________________________________________________________________________________________________\n",
      "block4_sepconv1_bn (BatchNormal (None, 37, 37, 728)  2912        block4_sepconv1[0][0]            \n",
      "__________________________________________________________________________________________________\n",
      "block4_sepconv2_act (Activation (None, 37, 37, 728)  0           block4_sepconv1_bn[0][0]         \n",
      "__________________________________________________________________________________________________\n",
      "block4_sepconv2 (SeparableConv2 (None, 37, 37, 728)  536536      block4_sepconv2_act[0][0]        \n",
      "__________________________________________________________________________________________________\n",
      "block4_sepconv2_bn (BatchNormal (None, 37, 37, 728)  2912        block4_sepconv2[0][0]            \n",
      "__________________________________________________________________________________________________\n",
      "conv2d_17 (Conv2D)              (None, 19, 19, 728)  186368      add_13[0][0]                     \n",
      "__________________________________________________________________________________________________\n",
      "block4_pool (MaxPooling2D)      (None, 19, 19, 728)  0           block4_sepconv2_bn[0][0]         \n",
      "__________________________________________________________________________________________________\n",
      "batch_normalization_17 (BatchNo (None, 19, 19, 728)  2912        conv2d_17[0][0]                  \n",
      "__________________________________________________________________________________________________\n",
      "add_14 (Add)                    (None, 19, 19, 728)  0           block4_pool[0][0]                \n",
      "                                                                 batch_normalization_17[0][0]     \n",
      "__________________________________________________________________________________________________\n",
      "block5_sepconv1_act (Activation (None, 19, 19, 728)  0           add_14[0][0]                     \n",
      "__________________________________________________________________________________________________\n",
      "block5_sepconv1 (SeparableConv2 (None, 19, 19, 728)  536536      block5_sepconv1_act[0][0]        \n",
      "__________________________________________________________________________________________________\n",
      "block5_sepconv1_bn (BatchNormal (None, 19, 19, 728)  2912        block5_sepconv1[0][0]            \n",
      "__________________________________________________________________________________________________\n",
      "block5_sepconv2_act (Activation (None, 19, 19, 728)  0           block5_sepconv1_bn[0][0]         \n",
      "__________________________________________________________________________________________________\n",
      "block5_sepconv2 (SeparableConv2 (None, 19, 19, 728)  536536      block5_sepconv2_act[0][0]        \n",
      "__________________________________________________________________________________________________\n",
      "block5_sepconv2_bn (BatchNormal (None, 19, 19, 728)  2912        block5_sepconv2[0][0]            \n",
      "__________________________________________________________________________________________________\n",
      "block5_sepconv3_act (Activation (None, 19, 19, 728)  0           block5_sepconv2_bn[0][0]         \n",
      "__________________________________________________________________________________________________\n",
      "block5_sepconv3 (SeparableConv2 (None, 19, 19, 728)  536536      block5_sepconv3_act[0][0]        \n",
      "__________________________________________________________________________________________________\n",
      "block5_sepconv3_bn (BatchNormal (None, 19, 19, 728)  2912        block5_sepconv3[0][0]            \n",
      "__________________________________________________________________________________________________\n",
      "add_15 (Add)                    (None, 19, 19, 728)  0           block5_sepconv3_bn[0][0]         \n",
      "                                                                 add_14[0][0]                     \n",
      "__________________________________________________________________________________________________\n",
      "block6_sepconv1_act (Activation (None, 19, 19, 728)  0           add_15[0][0]                     \n",
      "__________________________________________________________________________________________________\n",
      "block6_sepconv1 (SeparableConv2 (None, 19, 19, 728)  536536      block6_sepconv1_act[0][0]        \n",
      "__________________________________________________________________________________________________\n",
      "block6_sepconv1_bn (BatchNormal (None, 19, 19, 728)  2912        block6_sepconv1[0][0]            \n",
      "__________________________________________________________________________________________________\n",
      "block6_sepconv2_act (Activation (None, 19, 19, 728)  0           block6_sepconv1_bn[0][0]         \n",
      "__________________________________________________________________________________________________\n",
      "block6_sepconv2 (SeparableConv2 (None, 19, 19, 728)  536536      block6_sepconv2_act[0][0]        \n",
      "__________________________________________________________________________________________________\n",
      "block6_sepconv2_bn (BatchNormal (None, 19, 19, 728)  2912        block6_sepconv2[0][0]            \n",
      "__________________________________________________________________________________________________\n",
      "block6_sepconv3_act (Activation (None, 19, 19, 728)  0           block6_sepconv2_bn[0][0]         \n",
      "__________________________________________________________________________________________________\n",
      "block6_sepconv3 (SeparableConv2 (None, 19, 19, 728)  536536      block6_sepconv3_act[0][0]        \n",
      "__________________________________________________________________________________________________\n",
      "block6_sepconv3_bn (BatchNormal (None, 19, 19, 728)  2912        block6_sepconv3[0][0]            \n",
      "__________________________________________________________________________________________________\n",
      "add_16 (Add)                    (None, 19, 19, 728)  0           block6_sepconv3_bn[0][0]         \n",
      "                                                                 add_15[0][0]                     \n",
      "__________________________________________________________________________________________________\n",
      "block7_sepconv1_act (Activation (None, 19, 19, 728)  0           add_16[0][0]                     \n",
      "__________________________________________________________________________________________________\n",
      "block7_sepconv1 (SeparableConv2 (None, 19, 19, 728)  536536      block7_sepconv1_act[0][0]        \n",
      "__________________________________________________________________________________________________\n",
      "block7_sepconv1_bn (BatchNormal (None, 19, 19, 728)  2912        block7_sepconv1[0][0]            \n",
      "__________________________________________________________________________________________________\n",
      "block7_sepconv2_act (Activation (None, 19, 19, 728)  0           block7_sepconv1_bn[0][0]         \n",
      "__________________________________________________________________________________________________\n",
      "block7_sepconv2 (SeparableConv2 (None, 19, 19, 728)  536536      block7_sepconv2_act[0][0]        \n",
      "__________________________________________________________________________________________________\n",
      "block7_sepconv2_bn (BatchNormal (None, 19, 19, 728)  2912        block7_sepconv2[0][0]            \n",
      "__________________________________________________________________________________________________\n",
      "block7_sepconv3_act (Activation (None, 19, 19, 728)  0           block7_sepconv2_bn[0][0]         \n",
      "__________________________________________________________________________________________________\n",
      "block7_sepconv3 (SeparableConv2 (None, 19, 19, 728)  536536      block7_sepconv3_act[0][0]        \n",
      "__________________________________________________________________________________________________\n",
      "block7_sepconv3_bn (BatchNormal (None, 19, 19, 728)  2912        block7_sepconv3[0][0]            \n",
      "__________________________________________________________________________________________________\n",
      "add_17 (Add)                    (None, 19, 19, 728)  0           block7_sepconv3_bn[0][0]         \n",
      "                                                                 add_16[0][0]                     \n",
      "__________________________________________________________________________________________________\n",
      "block8_sepconv1_act (Activation (None, 19, 19, 728)  0           add_17[0][0]                     \n",
      "__________________________________________________________________________________________________\n",
      "block8_sepconv1 (SeparableConv2 (None, 19, 19, 728)  536536      block8_sepconv1_act[0][0]        \n",
      "__________________________________________________________________________________________________\n",
      "block8_sepconv1_bn (BatchNormal (None, 19, 19, 728)  2912        block8_sepconv1[0][0]            \n",
      "__________________________________________________________________________________________________\n",
      "block8_sepconv2_act (Activation (None, 19, 19, 728)  0           block8_sepconv1_bn[0][0]         \n",
      "__________________________________________________________________________________________________\n",
      "block8_sepconv2 (SeparableConv2 (None, 19, 19, 728)  536536      block8_sepconv2_act[0][0]        \n",
      "__________________________________________________________________________________________________\n",
      "block8_sepconv2_bn (BatchNormal (None, 19, 19, 728)  2912        block8_sepconv2[0][0]            \n",
      "__________________________________________________________________________________________________\n",
      "block8_sepconv3_act (Activation (None, 19, 19, 728)  0           block8_sepconv2_bn[0][0]         \n",
      "__________________________________________________________________________________________________\n",
      "block8_sepconv3 (SeparableConv2 (None, 19, 19, 728)  536536      block8_sepconv3_act[0][0]        \n",
      "__________________________________________________________________________________________________\n",
      "block8_sepconv3_bn (BatchNormal (None, 19, 19, 728)  2912        block8_sepconv3[0][0]            \n",
      "__________________________________________________________________________________________________\n",
      "add_18 (Add)                    (None, 19, 19, 728)  0           block8_sepconv3_bn[0][0]         \n",
      "                                                                 add_17[0][0]                     \n",
      "__________________________________________________________________________________________________\n",
      "block9_sepconv1_act (Activation (None, 19, 19, 728)  0           add_18[0][0]                     \n",
      "__________________________________________________________________________________________________\n",
      "block9_sepconv1 (SeparableConv2 (None, 19, 19, 728)  536536      block9_sepconv1_act[0][0]        \n",
      "__________________________________________________________________________________________________\n",
      "block9_sepconv1_bn (BatchNormal (None, 19, 19, 728)  2912        block9_sepconv1[0][0]            \n",
      "__________________________________________________________________________________________________\n",
      "block9_sepconv2_act (Activation (None, 19, 19, 728)  0           block9_sepconv1_bn[0][0]         \n",
      "__________________________________________________________________________________________________\n",
      "block9_sepconv2 (SeparableConv2 (None, 19, 19, 728)  536536      block9_sepconv2_act[0][0]        \n",
      "__________________________________________________________________________________________________\n",
      "block9_sepconv2_bn (BatchNormal (None, 19, 19, 728)  2912        block9_sepconv2[0][0]            \n",
      "__________________________________________________________________________________________________\n",
      "block9_sepconv3_act (Activation (None, 19, 19, 728)  0           block9_sepconv2_bn[0][0]         \n",
      "__________________________________________________________________________________________________\n",
      "block9_sepconv3 (SeparableConv2 (None, 19, 19, 728)  536536      block9_sepconv3_act[0][0]        \n",
      "__________________________________________________________________________________________________\n",
      "block9_sepconv3_bn (BatchNormal (None, 19, 19, 728)  2912        block9_sepconv3[0][0]            \n",
      "__________________________________________________________________________________________________\n",
      "add_19 (Add)                    (None, 19, 19, 728)  0           block9_sepconv3_bn[0][0]         \n",
      "                                                                 add_18[0][0]                     \n",
      "__________________________________________________________________________________________________\n",
      "block10_sepconv1_act (Activatio (None, 19, 19, 728)  0           add_19[0][0]                     \n",
      "__________________________________________________________________________________________________\n",
      "block10_sepconv1 (SeparableConv (None, 19, 19, 728)  536536      block10_sepconv1_act[0][0]       \n",
      "__________________________________________________________________________________________________\n",
      "block10_sepconv1_bn (BatchNorma (None, 19, 19, 728)  2912        block10_sepconv1[0][0]           \n",
      "__________________________________________________________________________________________________\n",
      "block10_sepconv2_act (Activatio (None, 19, 19, 728)  0           block10_sepconv1_bn[0][0]        \n",
      "__________________________________________________________________________________________________\n",
      "block10_sepconv2 (SeparableConv (None, 19, 19, 728)  536536      block10_sepconv2_act[0][0]       \n",
      "__________________________________________________________________________________________________\n",
      "block10_sepconv2_bn (BatchNorma (None, 19, 19, 728)  2912        block10_sepconv2[0][0]           \n",
      "__________________________________________________________________________________________________\n",
      "block10_sepconv3_act (Activatio (None, 19, 19, 728)  0           block10_sepconv2_bn[0][0]        \n",
      "__________________________________________________________________________________________________\n",
      "block10_sepconv3 (SeparableConv (None, 19, 19, 728)  536536      block10_sepconv3_act[0][0]       \n",
      "__________________________________________________________________________________________________\n",
      "block10_sepconv3_bn (BatchNorma (None, 19, 19, 728)  2912        block10_sepconv3[0][0]           \n",
      "__________________________________________________________________________________________________\n",
      "add_20 (Add)                    (None, 19, 19, 728)  0           block10_sepconv3_bn[0][0]        \n",
      "                                                                 add_19[0][0]                     \n",
      "__________________________________________________________________________________________________\n",
      "block11_sepconv1_act (Activatio (None, 19, 19, 728)  0           add_20[0][0]                     \n",
      "__________________________________________________________________________________________________\n",
      "block11_sepconv1 (SeparableConv (None, 19, 19, 728)  536536      block11_sepconv1_act[0][0]       \n",
      "__________________________________________________________________________________________________\n",
      "block11_sepconv1_bn (BatchNorma (None, 19, 19, 728)  2912        block11_sepconv1[0][0]           \n",
      "__________________________________________________________________________________________________\n",
      "block11_sepconv2_act (Activatio (None, 19, 19, 728)  0           block11_sepconv1_bn[0][0]        \n",
      "__________________________________________________________________________________________________\n",
      "block11_sepconv2 (SeparableConv (None, 19, 19, 728)  536536      block11_sepconv2_act[0][0]       \n",
      "__________________________________________________________________________________________________\n",
      "block11_sepconv2_bn (BatchNorma (None, 19, 19, 728)  2912        block11_sepconv2[0][0]           \n",
      "__________________________________________________________________________________________________\n",
      "block11_sepconv3_act (Activatio (None, 19, 19, 728)  0           block11_sepconv2_bn[0][0]        \n",
      "__________________________________________________________________________________________________\n",
      "block11_sepconv3 (SeparableConv (None, 19, 19, 728)  536536      block11_sepconv3_act[0][0]       \n",
      "__________________________________________________________________________________________________\n",
      "block11_sepconv3_bn (BatchNorma (None, 19, 19, 728)  2912        block11_sepconv3[0][0]           \n",
      "__________________________________________________________________________________________________\n",
      "add_21 (Add)                    (None, 19, 19, 728)  0           block11_sepconv3_bn[0][0]        \n",
      "                                                                 add_20[0][0]                     \n",
      "__________________________________________________________________________________________________\n",
      "block12_sepconv1_act (Activatio (None, 19, 19, 728)  0           add_21[0][0]                     \n",
      "__________________________________________________________________________________________________\n",
      "block12_sepconv1 (SeparableConv (None, 19, 19, 728)  536536      block12_sepconv1_act[0][0]       \n",
      "__________________________________________________________________________________________________\n",
      "block12_sepconv1_bn (BatchNorma (None, 19, 19, 728)  2912        block12_sepconv1[0][0]           \n",
      "__________________________________________________________________________________________________\n",
      "block12_sepconv2_act (Activatio (None, 19, 19, 728)  0           block12_sepconv1_bn[0][0]        \n",
      "__________________________________________________________________________________________________\n",
      "block12_sepconv2 (SeparableConv (None, 19, 19, 728)  536536      block12_sepconv2_act[0][0]       \n",
      "__________________________________________________________________________________________________\n",
      "block12_sepconv2_bn (BatchNorma (None, 19, 19, 728)  2912        block12_sepconv2[0][0]           \n",
      "__________________________________________________________________________________________________\n",
      "block12_sepconv3_act (Activatio (None, 19, 19, 728)  0           block12_sepconv2_bn[0][0]        \n",
      "__________________________________________________________________________________________________\n",
      "block12_sepconv3 (SeparableConv (None, 19, 19, 728)  536536      block12_sepconv3_act[0][0]       \n",
      "__________________________________________________________________________________________________\n",
      "block12_sepconv3_bn (BatchNorma (None, 19, 19, 728)  2912        block12_sepconv3[0][0]           \n",
      "__________________________________________________________________________________________________\n",
      "add_22 (Add)                    (None, 19, 19, 728)  0           block12_sepconv3_bn[0][0]        \n",
      "                                                                 add_21[0][0]                     \n",
      "__________________________________________________________________________________________________\n",
      "conv2d_18 (Conv2D)              (None, 10, 10, 1024) 745472      add_22[0][0]                     \n",
      "__________________________________________________________________________________________________\n",
      "batch_normalization_18 (BatchNo (None, 10, 10, 1024) 4096        conv2d_18[0][0]                  \n",
      "__________________________________________________________________________________________________\n",
      "conv2d_19 (Conv2D)              (None, 10, 10, 1536) 14157312    batch_normalization_18[0][0]     \n",
      "__________________________________________________________________________________________________\n",
      "batch_normalization_19 (BatchNo (None, 10, 10, 1536) 6144        conv2d_19[0][0]                  \n",
      "__________________________________________________________________________________________________\n",
      "activation_11 (Activation)      (None, 10, 10, 1536) 0           batch_normalization_19[0][0]     \n",
      "__________________________________________________________________________________________________\n",
      "conv2d_20 (Conv2D)              (None, 10, 10, 1024) 14156800    activation_11[0][0]              \n",
      "__________________________________________________________________________________________________\n",
      "batch_normalization_20 (BatchNo (None, 10, 10, 1024) 4096        conv2d_20[0][0]                  \n",
      "__________________________________________________________________________________________________\n",
      "activation_12 (Activation)      (None, 10, 10, 1024) 0           batch_normalization_20[0][0]     \n",
      "__________________________________________________________________________________________________\n",
      "conv2d_21 (Conv2D)              (None, 10, 10, 768)  7078656     activation_12[0][0]              \n",
      "__________________________________________________________________________________________________\n",
      "batch_normalization_21 (BatchNo (None, 10, 10, 768)  3072        conv2d_21[0][0]                  \n",
      "__________________________________________________________________________________________________\n",
      "activation_13 (Activation)      (None, 10, 10, 768)  0           batch_normalization_21[0][0]     \n",
      "__________________________________________________________________________________________________\n",
      "conv2d_22 (Conv2D)              (None, 10, 10, 512)  3539456     activation_13[0][0]              \n",
      "__________________________________________________________________________________________________\n",
      "batch_normalization_22 (BatchNo (None, 10, 10, 512)  2048        conv2d_22[0][0]                  \n",
      "__________________________________________________________________________________________________\n",
      "activation_14 (Activation)      (None, 10, 10, 512)  0           batch_normalization_22[0][0]     \n",
      "__________________________________________________________________________________________________\n",
      "conv2d_23 (Conv2D)              (None, 10, 10, 384)  1769856     activation_14[0][0]              \n",
      "__________________________________________________________________________________________________\n",
      "batch_normalization_23 (BatchNo (None, 10, 10, 384)  1536        conv2d_23[0][0]                  \n",
      "__________________________________________________________________________________________________\n",
      "activation_15 (Activation)      (None, 10, 10, 384)  0           batch_normalization_23[0][0]     \n",
      "__________________________________________________________________________________________________\n",
      "conv2d_24 (Conv2D)              (None, 10, 10, 256)  884992      activation_15[0][0]              \n",
      "__________________________________________________________________________________________________\n",
      "batch_normalization_24 (BatchNo (None, 10, 10, 256)  1024        conv2d_24[0][0]                  \n",
      "__________________________________________________________________________________________________\n",
      "activation_16 (Activation)      (None, 10, 10, 256)  0           batch_normalization_24[0][0]     \n",
      "__________________________________________________________________________________________________\n",
      "conv2d_25 (Conv2D)              (None, 10, 10, 128)  295040      activation_16[0][0]              \n",
      "__________________________________________________________________________________________________\n",
      "batch_normalization_25 (BatchNo (None, 10, 10, 128)  512         conv2d_25[0][0]                  \n",
      "__________________________________________________________________________________________________\n",
      "activation_17 (Activation)      (None, 10, 10, 128)  0           batch_normalization_25[0][0]     \n",
      "__________________________________________________________________________________________________\n",
      "conv2d_26 (Conv2D)              (None, 10, 10, 64)   73792       activation_17[0][0]              \n",
      "__________________________________________________________________________________________________\n",
      "batch_normalization_26 (BatchNo (None, 10, 10, 64)   256         conv2d_26[0][0]                  \n",
      "__________________________________________________________________________________________________\n",
      "activation_18 (Activation)      (None, 10, 10, 64)   0           batch_normalization_26[0][0]     \n",
      "__________________________________________________________________________________________________\n",
      "conv2d_27 (Conv2D)              (None, 10, 10, 32)   18464       activation_18[0][0]              \n",
      "__________________________________________________________________________________________________\n",
      "batch_normalization_27 (BatchNo (None, 10, 10, 32)   128         conv2d_27[0][0]                  \n",
      "__________________________________________________________________________________________________\n",
      "activation_19 (Activation)      (None, 10, 10, 32)   0           batch_normalization_27[0][0]     \n",
      "__________________________________________________________________________________________________\n",
      "conv2d_28 (Conv2D)              (None, 10, 10, 16)   4624        activation_19[0][0]              \n",
      "__________________________________________________________________________________________________\n",
      "batch_normalization_28 (BatchNo (None, 10, 10, 16)   64          conv2d_28[0][0]                  \n",
      "__________________________________________________________________________________________________\n",
      "activation_20 (Activation)      (None, 10, 10, 16)   0           batch_normalization_28[0][0]     \n",
      "__________________________________________________________________________________________________\n",
      "conv2d_29 (Conv2D)              (None, 10, 10, 5)    725         activation_20[0][0]              \n",
      "__________________________________________________________________________________________________\n",
      "batch_normalization_29 (BatchNo (None, 10, 10, 5)    20          conv2d_29[0][0]                  \n",
      "__________________________________________________________________________________________________\n",
      "activation_21 (Activation)      (None, 10, 10, 5)    0           batch_normalization_29[0][0]     \n",
      "__________________________________________________________________________________________________\n",
      "global_average_pooling2d_1 (Glo (None, 5)            0           activation_21[0][0]              \n",
      "__________________________________________________________________________________________________\n",
      "tf.nn.softmax_1 (TFOpLambda)    (None, 5)            0           global_average_pooling2d_1[0][0] \n",
      "==================================================================================================\n",
      "Total params: 56,808,561\n",
      "Trainable params: 56,755,255\n",
      "Non-trainable params: 53,306\n",
      "__________________________________________________________________________________________________\n"
     ]
    }
   ],
   "source": [
    "pic_model.summary()"
   ]
  },
  {
   "cell_type": "code",
   "execution_count": 63,
   "id": "norman-detector",
   "metadata": {
    "execution": {
     "iopub.execute_input": "2021-05-30T18:40:08.391663Z",
     "iopub.status.busy": "2021-05-30T18:40:08.385701Z",
     "iopub.status.idle": "2021-05-30T18:40:08.398432Z",
     "shell.execute_reply": "2021-05-30T18:40:08.397997Z",
     "shell.execute_reply.started": "2021-05-30T09:28:58.465217Z"
    },
    "id": "norman-detector",
    "papermill": {
     "duration": 0.226948,
     "end_time": "2021-05-30T18:40:08.398547",
     "exception": false,
     "start_time": "2021-05-30T18:40:08.171599",
     "status": "completed"
    },
    "tags": []
   },
   "outputs": [],
   "source": [
    "# compile\n",
    "pic_model.compile(\n",
    "    optimizer = tf.keras.optimizers.Adam(learning_rate = lr, decay = decay),\n",
    "    metrics = [\"acc\"],\n",
    "    loss = tf.keras.losses.sparse_categorical_crossentropy)\n",
    "\n",
    "# callbacks and checkpoints\n",
    "checkpoint_name = name+\"_BS\"+str(batch_size)+\"_EP\"+str(train_epoch)+\"_IS\"+str(image_size)+\"_LP\"+str(LP)\n",
    "checkpoint_path = checkpoint_name+\".ckpt\"\n",
    "\n",
    "checkpoint_dir = os.path.dirname(checkpoint_path)\n",
    "\n",
    "my_callbacks = [\n",
    "              ModelCheckpoint(\n",
    "                   checkpoint_path,\n",
    "                   monitor = 'val_acc',\n",
    "                   verbose = 1,\n",
    "                   save_weights_only = True,\n",
    "                   save_best_only = True,\n",
    "                   mode = \"max\"\n",
    "                  ),\n",
    "              EarlyStopping(\n",
    "                   monitor = 'val_loss',\n",
    "                   patience = 10,\n",
    "                   verbose = 0\n",
    "                  ),\n",
    "              ReduceLROnPlateau(\n",
    "                   monitor = 'val_loss',\n",
    "                   patience = 10,\n",
    "                   verbose = 1\n",
    "                  )\n",
    "]"
   ]
  },
  {
   "cell_type": "markdown",
   "id": "crucial-administration",
   "metadata": {
    "id": "crucial-administration",
    "papermill": {
     "duration": 0.038495,
     "end_time": "2021-05-30T18:40:08.475329",
     "exception": false,
     "start_time": "2021-05-30T18:40:08.436834",
     "status": "completed"
    },
    "tags": []
   },
   "source": [
    "# Weighting classes\n"
   ]
  },
  {
   "cell_type": "code",
   "execution_count": 64,
   "id": "regional-indie",
   "metadata": {
    "execution": {
     "iopub.execute_input": "2021-05-30T18:40:08.558435Z",
     "iopub.status.busy": "2021-05-30T18:40:08.557616Z",
     "iopub.status.idle": "2021-05-30T18:40:09.060821Z",
     "shell.execute_reply": "2021-05-30T18:40:09.060357Z",
     "shell.execute_reply.started": "2021-05-30T09:30:11.007618Z"
    },
    "id": "regional-indie",
    "papermill": {
     "duration": 0.546357,
     "end_time": "2021-05-30T18:40:09.060960",
     "exception": false,
     "start_time": "2021-05-30T18:40:08.514603",
     "status": "completed"
    },
    "tags": []
   },
   "outputs": [],
   "source": [
    "from sklearn.utils import class_weight\n",
    "\n",
    "class_weights = class_weight.compute_class_weight(\n",
    "    'balanced',\n",
    "    classes = np.unique(df_train_kaggle.label.values),\n",
    "    y = df_train_kaggle.label.values\n",
    "  )\n",
    "\n",
    "class_weights = dict(enumerate(class_weights))"
   ]
  },
  {
   "cell_type": "code",
   "execution_count": 65,
   "id": "fd8b48e1",
   "metadata": {},
   "outputs": [
    {
     "name": "stdout",
     "output_type": "stream",
     "text": [
      "Grade 0, number of samples : 3857 , number of weights :  0.5074410163339383\n",
      "Grade 1, number of samples : 1770 , number of weights :  1.1057627118644069\n",
      "Grade 2, number of samples : 2578 , number of weights :  0.7591931730023274\n",
      "Grade 3, number of samples : 1286 , number of weights :  1.5219284603421461\n",
      "Grade 4, number of samples : 295 , number of weights :  6.63457627118644\n"
     ]
    }
   ],
   "source": [
    "count0, count1, count2, count3, count4 = 0, 0, 0, 0, 0\n",
    "\n",
    "for i in range(len(df_train_kaggle.label.values)):\n",
    "    if df_train_kaggle.label.values[i] == 0:\n",
    "        count0 +=1\n",
    "    elif df_train_kaggle.label.values[i] == 1:\n",
    "        count1 +=1\n",
    "    elif df_train_kaggle.label.values[i] == 2:\n",
    "        count2 +=1\n",
    "    elif df_train_kaggle.label.values[i] == 3:\n",
    "        count3 +=1\n",
    "    elif df_train_kaggle.label.values[i] == 4:\n",
    "        count4 +=1\n",
    "        \n",
    "print(\"Grade 0, number of samples :\", count0, \", number of weights : \", class_weights[0])\n",
    "print(\"Grade 1, number of samples :\", count1, \", number of weights : \", class_weights[1])\n",
    "print(\"Grade 2, number of samples :\", count2, \", number of weights : \", class_weights[2])\n",
    "print(\"Grade 3, number of samples :\", count3, \", number of weights : \", class_weights[3])\n",
    "print(\"Grade 4, number of samples :\", count4, \", number of weights : \", class_weights[4])"
   ]
  },
  {
   "cell_type": "markdown",
   "id": "square-better",
   "metadata": {
    "id": "square-better",
    "papermill": {
     "duration": 0.037503,
     "end_time": "2021-05-30T18:40:09.136492",
     "exception": false,
     "start_time": "2021-05-30T18:40:09.098989",
     "status": "completed"
    },
    "tags": []
   },
   "source": [
    "# Train"
   ]
  },
  {
   "cell_type": "code",
   "execution_count": 66,
   "id": "hidden-stephen",
   "metadata": {
    "colab": {
     "base_uri": "https://localhost:8080/"
    },
    "execution": {
     "iopub.execute_input": "2021-05-30T18:40:09.218272Z",
     "iopub.status.busy": "2021-05-30T18:40:09.217728Z",
     "iopub.status.idle": "2021-05-30T20:12:12.156502Z",
     "shell.execute_reply": "2021-05-30T20:12:12.154537Z",
     "shell.execute_reply.started": "2021-05-26T18:49:57.904339Z"
    },
    "id": "hidden-stephen",
    "outputId": "1432984b-6c8d-4523-de45-b163a07ed120",
    "papermill": {
     "duration": 5522.981999,
     "end_time": "2021-05-30T20:12:12.156678",
     "exception": false,
     "start_time": "2021-05-30T18:40:09.174679",
     "status": "completed"
    },
    "scrolled": true,
    "tags": []
   },
   "outputs": [
    {
     "name": "stdout",
     "output_type": "stream",
     "text": [
      "Epoch 1/300\n",
      "1224/1224 [==============================] - 127s 102ms/step - loss: 1.5123 - acc: 0.2824 - val_loss: 1.4611 - val_acc: 0.4734\n",
      "\n",
      "Epoch 00001: val_acc improved from -inf to 0.47343, saving model to Xception_BS8_EP300_IS224_LP99.ckpt\n",
      "Epoch 2/300\n",
      "1224/1224 [==============================] - 122s 100ms/step - loss: 1.2765 - acc: 0.4549 - val_loss: 1.3316 - val_acc: 0.5487\n",
      "\n",
      "Epoch 00002: val_acc improved from 0.47343 to 0.54867, saving model to Xception_BS8_EP300_IS224_LP99.ckpt\n",
      "Epoch 3/300\n",
      "1224/1224 [==============================] - 122s 100ms/step - loss: 1.1665 - acc: 0.5282 - val_loss: 1.1908 - val_acc: 0.6180\n",
      "\n",
      "Epoch 00003: val_acc improved from 0.54867 to 0.61804, saving model to Xception_BS8_EP300_IS224_LP99.ckpt\n",
      "Epoch 4/300\n",
      "1224/1224 [==============================] - 122s 99ms/step - loss: 1.0790 - acc: 0.5687 - val_loss: 1.0974 - val_acc: 0.6575\n",
      "\n",
      "Epoch 00004: val_acc improved from 0.61804 to 0.65751, saving model to Xception_BS8_EP300_IS224_LP99.ckpt\n",
      "Epoch 5/300\n",
      "1224/1224 [==============================] - 122s 100ms/step - loss: 1.0307 - acc: 0.6034 - val_loss: 1.0937 - val_acc: 0.6599\n",
      "\n",
      "Epoch 00005: val_acc improved from 0.65751 to 0.65994, saving model to Xception_BS8_EP300_IS224_LP99.ckpt\n",
      "Epoch 6/300\n",
      "1224/1224 [==============================] - 123s 100ms/step - loss: 0.9702 - acc: 0.6457 - val_loss: 1.1886 - val_acc: 0.6131\n",
      "\n",
      "Epoch 00006: val_acc did not improve from 0.65994\n",
      "Epoch 7/300\n",
      "1224/1224 [==============================] - 123s 100ms/step - loss: 0.9203 - acc: 0.6864 - val_loss: 0.9024 - val_acc: 0.7833\n",
      "\n",
      "Epoch 00007: val_acc improved from 0.65994 to 0.78334, saving model to Xception_BS8_EP300_IS224_LP99.ckpt\n",
      "Epoch 8/300\n",
      "1224/1224 [==============================] - 122s 100ms/step - loss: 0.8725 - acc: 0.7232 - val_loss: 0.9312 - val_acc: 0.7308\n",
      "\n",
      "Epoch 00008: val_acc did not improve from 0.78334\n",
      "Epoch 9/300\n",
      "1224/1224 [==============================] - 123s 100ms/step - loss: 0.8347 - acc: 0.7633 - val_loss: 0.8154 - val_acc: 0.8122\n",
      "\n",
      "Epoch 00009: val_acc improved from 0.78334 to 0.81221, saving model to Xception_BS8_EP300_IS224_LP99.ckpt\n",
      "Epoch 10/300\n",
      "1224/1224 [==============================] - 123s 100ms/step - loss: 0.8041 - acc: 0.7931 - val_loss: 0.8744 - val_acc: 0.7753\n",
      "\n",
      "Epoch 00010: val_acc did not improve from 0.81221\n",
      "Epoch 11/300\n",
      "1224/1224 [==============================] - 122s 100ms/step - loss: 0.7555 - acc: 0.8369 - val_loss: 0.7102 - val_acc: 0.9135\n",
      "\n",
      "Epoch 00011: val_acc improved from 0.81221 to 0.91352, saving model to Xception_BS8_EP300_IS224_LP99.ckpt\n",
      "Epoch 12/300\n",
      "1224/1224 [==============================] - 122s 100ms/step - loss: 0.7265 - acc: 0.8614 - val_loss: 0.7124 - val_acc: 0.9041\n",
      "\n",
      "Epoch 00012: val_acc did not improve from 0.91352\n",
      "Epoch 13/300\n",
      "1224/1224 [==============================] - 123s 100ms/step - loss: 0.6791 - acc: 0.8969 - val_loss: 0.6697 - val_acc: 0.9420\n",
      "\n",
      "Epoch 00013: val_acc improved from 0.91352 to 0.94200, saving model to Xception_BS8_EP300_IS224_LP99.ckpt\n",
      "Epoch 14/300\n",
      "1224/1224 [==============================] - 122s 100ms/step - loss: 0.6637 - acc: 0.9055 - val_loss: 0.8428 - val_acc: 0.7849\n",
      "\n",
      "Epoch 00014: val_acc did not improve from 0.94200\n",
      "Epoch 15/300\n",
      "1224/1224 [==============================] - 123s 100ms/step - loss: 0.6420 - acc: 0.9211 - val_loss: 0.6592 - val_acc: 0.9364\n",
      "\n",
      "Epoch 00015: val_acc did not improve from 0.94200\n",
      "Epoch 16/300\n",
      "1224/1224 [==============================] - 123s 100ms/step - loss: 0.6382 - acc: 0.9278 - val_loss: 0.6348 - val_acc: 0.9576\n",
      "\n",
      "Epoch 00016: val_acc improved from 0.94200 to 0.95759, saving model to Xception_BS8_EP300_IS224_LP99.ckpt\n",
      "Epoch 17/300\n",
      "1224/1224 [==============================] - 123s 100ms/step - loss: 0.6231 - acc: 0.9367 - val_loss: 0.5865 - val_acc: 0.9724\n",
      "\n",
      "Epoch 00017: val_acc improved from 0.95759 to 0.97241, saving model to Xception_BS8_EP300_IS224_LP99.ckpt\n",
      "Epoch 18/300\n",
      "1224/1224 [==============================] - 123s 100ms/step - loss: 0.6124 - acc: 0.9470 - val_loss: 0.5599 - val_acc: 0.9799\n",
      "\n",
      "Epoch 00018: val_acc improved from 0.97241 to 0.97994, saving model to Xception_BS8_EP300_IS224_LP99.ckpt\n",
      "Epoch 19/300\n",
      "1224/1224 [==============================] - 123s 100ms/step - loss: 0.6051 - acc: 0.9451 - val_loss: 0.5630 - val_acc: 0.9776\n",
      "\n",
      "Epoch 00019: val_acc did not improve from 0.97994\n",
      "Epoch 20/300\n",
      "1224/1224 [==============================] - 122s 100ms/step - loss: 0.5968 - acc: 0.9521 - val_loss: 0.5919 - val_acc: 0.9711\n",
      "\n",
      "Epoch 00020: val_acc did not improve from 0.97994\n",
      "Epoch 21/300\n",
      "1224/1224 [==============================] - 122s 100ms/step - loss: 0.5900 - acc: 0.9541 - val_loss: 0.5844 - val_acc: 0.9603\n",
      "\n",
      "Epoch 00021: val_acc did not improve from 0.97994\n",
      "Epoch 22/300\n",
      "1224/1224 [==============================] - 122s 100ms/step - loss: 0.5850 - acc: 0.9597 - val_loss: 0.5357 - val_acc: 0.9852\n",
      "\n",
      "Epoch 00022: val_acc improved from 0.97994 to 0.98518, saving model to Xception_BS8_EP300_IS224_LP99.ckpt\n",
      "Epoch 23/300\n",
      "1224/1224 [==============================] - 123s 100ms/step - loss: 0.5743 - acc: 0.9634 - val_loss: 0.5711 - val_acc: 0.9678\n",
      "\n",
      "Epoch 00023: val_acc did not improve from 0.98518\n",
      "Epoch 24/300\n",
      "1224/1224 [==============================] - 122s 100ms/step - loss: 0.5767 - acc: 0.9655 - val_loss: 0.5605 - val_acc: 0.9667\n",
      "\n",
      "Epoch 00024: val_acc did not improve from 0.98518\n",
      "Epoch 25/300\n",
      "1224/1224 [==============================] - 123s 100ms/step - loss: 0.5628 - acc: 0.9691 - val_loss: 0.5664 - val_acc: 0.9607\n",
      "\n",
      "Epoch 00025: val_acc did not improve from 0.98518\n",
      "Epoch 26/300\n",
      "1224/1224 [==============================] - 122s 100ms/step - loss: 0.5742 - acc: 0.9670 - val_loss: 0.5935 - val_acc: 0.9455\n",
      "\n",
      "Epoch 00026: val_acc did not improve from 0.98518\n",
      "Epoch 27/300\n",
      "1224/1224 [==============================] - 122s 100ms/step - loss: 0.5694 - acc: 0.9700 - val_loss: 0.5205 - val_acc: 0.9851\n",
      "\n",
      "Epoch 00027: val_acc did not improve from 0.98518\n",
      "Epoch 28/300\n",
      "1224/1224 [==============================] - 123s 100ms/step - loss: 0.5647 - acc: 0.9738 - val_loss: 0.5120 - val_acc: 0.9899\n",
      "\n",
      "Epoch 00028: val_acc improved from 0.98518 to 0.98991, saving model to Xception_BS8_EP300_IS224_LP99.ckpt\n",
      "Epoch 29/300\n",
      "1224/1224 [==============================] - 122s 100ms/step - loss: 0.5595 - acc: 0.9756 - val_loss: 0.5033 - val_acc: 0.9882\n",
      "\n",
      "Epoch 00029: val_acc did not improve from 0.98991\n",
      "Epoch 30/300\n",
      "1224/1224 [==============================] - 122s 100ms/step - loss: 0.5546 - acc: 0.9774 - val_loss: 0.5111 - val_acc: 0.9886\n",
      "\n",
      "Epoch 00030: val_acc did not improve from 0.98991\n",
      "Epoch 31/300\n",
      "1224/1224 [==============================] - 122s 100ms/step - loss: 0.5526 - acc: 0.9811 - val_loss: 0.5163 - val_acc: 0.9857\n",
      "\n",
      "Epoch 00031: val_acc did not improve from 0.98991\n",
      "Epoch 32/300\n",
      "1224/1224 [==============================] - 122s 100ms/step - loss: 0.5453 - acc: 0.9844 - val_loss: 0.5069 - val_acc: 0.9854\n",
      "\n",
      "Epoch 00032: val_acc did not improve from 0.98991\n",
      "Epoch 33/300\n",
      "1224/1224 [==============================] - 122s 100ms/step - loss: 0.5475 - acc: 0.9814 - val_loss: 0.5203 - val_acc: 0.9793\n",
      "\n",
      "Epoch 00033: val_acc did not improve from 0.98991\n",
      "Epoch 34/300\n",
      "1224/1224 [==============================] - 122s 100ms/step - loss: 0.5415 - acc: 0.9856 - val_loss: 0.4902 - val_acc: 0.9927\n",
      "\n",
      "Epoch 00034: val_acc improved from 0.98991 to 0.99272, saving model to Xception_BS8_EP300_IS224_LP99.ckpt\n",
      "Epoch 35/300\n",
      "1224/1224 [==============================] - 122s 100ms/step - loss: 0.5394 - acc: 0.9829 - val_loss: 0.4735 - val_acc: 0.9903\n",
      "\n",
      "Epoch 00035: val_acc did not improve from 0.99272\n",
      "Epoch 36/300\n",
      "1224/1224 [==============================] - 122s 100ms/step - loss: 0.5424 - acc: 0.9865 - val_loss: 0.4904 - val_acc: 0.9911\n",
      "\n",
      "Epoch 00036: val_acc did not improve from 0.99272\n",
      "Epoch 37/300\n",
      "1224/1224 [==============================] - 123s 100ms/step - loss: 0.5392 - acc: 0.9848 - val_loss: 0.4860 - val_acc: 0.9872\n",
      "\n",
      "Epoch 00037: val_acc did not improve from 0.99272\n",
      "Epoch 38/300\n",
      "1224/1224 [==============================] - 123s 100ms/step - loss: 0.5465 - acc: 0.9857 - val_loss: 0.4839 - val_acc: 0.9904\n",
      "\n",
      "Epoch 00038: val_acc did not improve from 0.99272\n",
      "Epoch 39/300\n"
     ]
    },
    {
     "name": "stdout",
     "output_type": "stream",
     "text": [
      "1224/1224 [==============================] - 122s 100ms/step - loss: 0.5319 - acc: 0.9876 - val_loss: 0.4869 - val_acc: 0.9912\n",
      "\n",
      "Epoch 00039: val_acc did not improve from 0.99272\n",
      "Epoch 40/300\n",
      "1224/1224 [==============================] - 122s 100ms/step - loss: 0.5262 - acc: 0.9907 - val_loss: 0.4842 - val_acc: 0.9897\n",
      "\n",
      "Epoch 00040: val_acc did not improve from 0.99272\n",
      "Epoch 41/300\n",
      "1224/1224 [==============================] - 122s 100ms/step - loss: 0.5319 - acc: 0.9878 - val_loss: 0.4921 - val_acc: 0.9866\n",
      "\n",
      "Epoch 00041: val_acc did not improve from 0.99272\n",
      "Epoch 42/300\n",
      "1224/1224 [==============================] - 122s 99ms/step - loss: 0.5288 - acc: 0.9909 - val_loss: 0.4696 - val_acc: 0.9905\n",
      "\n",
      "Epoch 00042: val_acc did not improve from 0.99272\n",
      "Epoch 43/300\n",
      "1224/1224 [==============================] - 122s 100ms/step - loss: 0.5246 - acc: 0.9899 - val_loss: 0.4741 - val_acc: 0.9932\n",
      "\n",
      "Epoch 00043: val_acc improved from 0.99272 to 0.99323, saving model to Xception_BS8_EP300_IS224_LP99.ckpt\n",
      "Epoch 44/300\n",
      "1224/1224 [==============================] - 123s 100ms/step - loss: 0.5195 - acc: 0.9923 - val_loss: 0.4736 - val_acc: 0.9905\n",
      "\n",
      "Epoch 00044: val_acc did not improve from 0.99323\n",
      "Epoch 45/300\n",
      "1224/1224 [==============================] - 122s 100ms/step - loss: 0.5207 - acc: 0.9914 - val_loss: 0.4637 - val_acc: 0.9931\n",
      "\n",
      "Epoch 00045: val_acc did not improve from 0.99323\n",
      "Epoch 46/300\n",
      "1224/1224 [==============================] - 122s 100ms/step - loss: 0.5149 - acc: 0.9918 - val_loss: 0.4630 - val_acc: 0.9921\n",
      "\n",
      "Epoch 00046: val_acc did not improve from 0.99323\n",
      "Epoch 47/300\n",
      "1224/1224 [==============================] - 122s 100ms/step - loss: 0.5178 - acc: 0.9932 - val_loss: 0.4669 - val_acc: 0.9922\n",
      "\n",
      "Epoch 00047: val_acc did not improve from 0.99323\n",
      "Epoch 48/300\n",
      "1224/1224 [==============================] - 122s 100ms/step - loss: 0.5215 - acc: 0.9937 - val_loss: 0.4581 - val_acc: 0.9931\n",
      "\n",
      "Epoch 00048: val_acc did not improve from 0.99323\n",
      "Epoch 49/300\n",
      "1224/1224 [==============================] - 122s 100ms/step - loss: 0.5213 - acc: 0.9921 - val_loss: 0.4613 - val_acc: 0.9907\n",
      "\n",
      "Epoch 00049: val_acc did not improve from 0.99323\n",
      "Epoch 50/300\n",
      "1224/1224 [==============================] - 122s 99ms/step - loss: 0.5070 - acc: 0.9938 - val_loss: 0.4656 - val_acc: 0.9927\n",
      "\n",
      "Epoch 00050: val_acc did not improve from 0.99323\n",
      "Epoch 51/300\n",
      "1224/1224 [==============================] - 122s 100ms/step - loss: 0.5172 - acc: 0.9921 - val_loss: 0.4488 - val_acc: 0.9921\n",
      "\n",
      "Epoch 00051: val_acc did not improve from 0.99323\n",
      "Epoch 52/300\n",
      "1224/1224 [==============================] - 122s 100ms/step - loss: 0.5130 - acc: 0.9951 - val_loss: 0.4498 - val_acc: 0.9940\n",
      "\n",
      "Epoch 00052: val_acc improved from 0.99323 to 0.99400, saving model to Xception_BS8_EP300_IS224_LP99.ckpt\n",
      "Epoch 53/300\n",
      "1224/1224 [==============================] - 122s 100ms/step - loss: 0.5103 - acc: 0.9955 - val_loss: 0.4541 - val_acc: 0.9945\n",
      "\n",
      "Epoch 00053: val_acc improved from 0.99400 to 0.99451, saving model to Xception_BS8_EP300_IS224_LP99.ckpt\n",
      "Epoch 54/300\n",
      "1224/1224 [==============================] - 122s 100ms/step - loss: 0.5128 - acc: 0.9948 - val_loss: 0.4526 - val_acc: 0.9934\n",
      "\n",
      "Epoch 00054: val_acc did not improve from 0.99451\n",
      "Epoch 55/300\n",
      "1224/1224 [==============================] - 122s 100ms/step - loss: 0.5046 - acc: 0.9940 - val_loss: 0.4542 - val_acc: 0.9940\n",
      "\n",
      "Epoch 00055: val_acc did not improve from 0.99451\n",
      "Epoch 56/300\n",
      "1224/1224 [==============================] - 122s 100ms/step - loss: 0.5109 - acc: 0.9944 - val_loss: 0.5397 - val_acc: 0.9494\n",
      "\n",
      "Epoch 00056: val_acc did not improve from 0.99451\n",
      "Epoch 57/300\n",
      "1224/1224 [==============================] - 123s 101ms/step - loss: 0.5008 - acc: 0.9961 - val_loss: 0.4564 - val_acc: 0.9940\n",
      "\n",
      "Epoch 00057: val_acc did not improve from 0.99451\n",
      "Epoch 58/300\n",
      "1224/1224 [==============================] - 123s 100ms/step - loss: 0.5077 - acc: 0.9931 - val_loss: 0.4411 - val_acc: 0.9943\n",
      "\n",
      "Epoch 00058: val_acc did not improve from 0.99451\n",
      "Epoch 59/300\n",
      "1224/1224 [==============================] - 123s 100ms/step - loss: 0.4996 - acc: 0.9969 - val_loss: 0.4606 - val_acc: 0.9894\n",
      "\n",
      "Epoch 00059: val_acc did not improve from 0.99451\n",
      "Epoch 60/300\n",
      "1224/1224 [==============================] - 122s 100ms/step - loss: 0.5083 - acc: 0.9952 - val_loss: 0.4554 - val_acc: 0.9889\n",
      "\n",
      "Epoch 00060: val_acc did not improve from 0.99451\n",
      "Epoch 61/300\n",
      "1224/1224 [==============================] - 123s 100ms/step - loss: 0.4992 - acc: 0.9960 - val_loss: 0.4456 - val_acc: 0.9931\n",
      "\n",
      "Epoch 00061: val_acc did not improve from 0.99451\n",
      "Epoch 62/300\n",
      "1224/1224 [==============================] - 122s 100ms/step - loss: 0.5003 - acc: 0.9965 - val_loss: 0.4407 - val_acc: 0.9934\n",
      "\n",
      "Epoch 00062: val_acc did not improve from 0.99451\n",
      "Epoch 63/300\n",
      "1224/1224 [==============================] - 123s 100ms/step - loss: 0.5100 - acc: 0.9956 - val_loss: 0.4357 - val_acc: 0.9935\n",
      "\n",
      "Epoch 00063: val_acc did not improve from 0.99451\n",
      "Epoch 64/300\n",
      "1224/1224 [==============================] - 123s 100ms/step - loss: 0.4991 - acc: 0.9960 - val_loss: 0.4618 - val_acc: 0.9828\n",
      "\n",
      "Epoch 00064: val_acc did not improve from 0.99451\n",
      "Epoch 65/300\n",
      "1224/1224 [==============================] - 122s 100ms/step - loss: 0.4979 - acc: 0.9963 - val_loss: 0.4389 - val_acc: 0.9944\n",
      "\n",
      "Epoch 00065: val_acc did not improve from 0.99451\n",
      "Epoch 66/300\n",
      "1224/1224 [==============================] - 123s 100ms/step - loss: 0.4983 - acc: 0.9950 - val_loss: 0.4311 - val_acc: 0.9932\n",
      "\n",
      "Epoch 00066: val_acc did not improve from 0.99451\n",
      "Epoch 67/300\n",
      "1224/1224 [==============================] - 122s 100ms/step - loss: 0.4958 - acc: 0.9962 - val_loss: 0.4374 - val_acc: 0.9907\n",
      "\n",
      "Epoch 00067: val_acc did not improve from 0.99451\n",
      "Epoch 68/300\n",
      "1224/1224 [==============================] - 123s 100ms/step - loss: 0.4845 - acc: 0.9975 - val_loss: 0.4343 - val_acc: 0.9959\n",
      "\n",
      "Epoch 00068: val_acc improved from 0.99451 to 0.99591, saving model to Xception_BS8_EP300_IS224_LP99.ckpt\n",
      "Epoch 69/300\n",
      "1224/1224 [==============================] - 123s 100ms/step - loss: 0.4927 - acc: 0.9964 - val_loss: 0.4361 - val_acc: 0.9934\n",
      "\n",
      "Epoch 00069: val_acc did not improve from 0.99591\n",
      "Epoch 70/300\n",
      "1224/1224 [==============================] - 122s 100ms/step - loss: 0.4915 - acc: 0.9975 - val_loss: 0.4271 - val_acc: 0.9936\n",
      "\n",
      "Epoch 00070: val_acc did not improve from 0.99591\n",
      "Epoch 71/300\n",
      "1224/1224 [==============================] - 122s 100ms/step - loss: 0.4896 - acc: 0.9976 - val_loss: 0.4339 - val_acc: 0.9921\n",
      "\n",
      "Epoch 00071: val_acc did not improve from 0.99591\n",
      "Epoch 72/300\n",
      "1224/1224 [==============================] - 123s 100ms/step - loss: 0.4918 - acc: 0.9973 - val_loss: 0.4260 - val_acc: 0.9945\n",
      "\n",
      "Epoch 00072: val_acc did not improve from 0.99591\n",
      "Epoch 73/300\n",
      "1224/1224 [==============================] - 122s 100ms/step - loss: 0.4903 - acc: 0.9968 - val_loss: 0.4274 - val_acc: 0.9934\n",
      "\n",
      "Epoch 00073: val_acc did not improve from 0.99591\n",
      "Epoch 74/300\n",
      "1224/1224 [==============================] - 123s 100ms/step - loss: 0.4791 - acc: 0.9982 - val_loss: 0.4193 - val_acc: 0.9941\n",
      "\n",
      "Epoch 00074: val_acc did not improve from 0.99591\n",
      "Epoch 75/300\n",
      "1224/1224 [==============================] - 122s 100ms/step - loss: 0.4850 - acc: 0.9969 - val_loss: 0.4301 - val_acc: 0.9939\n",
      "\n",
      "Epoch 00075: val_acc did not improve from 0.99591\n",
      "Epoch 76/300\n",
      "1224/1224 [==============================] - 123s 100ms/step - loss: 0.4903 - acc: 0.9964 - val_loss: 0.4222 - val_acc: 0.9939\n",
      "\n",
      "Epoch 00076: val_acc did not improve from 0.99591\n",
      "Epoch 77/300\n",
      "1224/1224 [==============================] - 122s 100ms/step - loss: 0.4874 - acc: 0.9982 - val_loss: 0.4274 - val_acc: 0.9943\n",
      "\n",
      "Epoch 00077: val_acc did not improve from 0.99591\n",
      "Epoch 78/300\n",
      "1224/1224 [==============================] - 122s 100ms/step - loss: 0.4833 - acc: 0.9976 - val_loss: 0.4134 - val_acc: 0.9953\n",
      "\n",
      "Epoch 00078: val_acc did not improve from 0.99591\n",
      "Epoch 79/300\n",
      "1224/1224 [==============================] - 122s 100ms/step - loss: 0.4873 - acc: 0.9983 - val_loss: 0.4233 - val_acc: 0.9927\n",
      "\n",
      "Epoch 00079: val_acc did not improve from 0.99591\n",
      "Epoch 80/300\n",
      "1224/1224 [==============================] - 122s 100ms/step - loss: 0.4864 - acc: 0.9974 - val_loss: 0.4061 - val_acc: 0.9950\n",
      "\n",
      "Epoch 00080: val_acc did not improve from 0.99591\n",
      "Epoch 81/300\n"
     ]
    },
    {
     "name": "stdout",
     "output_type": "stream",
     "text": [
      "1224/1224 [==============================] - 122s 100ms/step - loss: 0.4816 - acc: 0.9981 - val_loss: 0.4101 - val_acc: 0.9937\n",
      "\n",
      "Epoch 00081: val_acc did not improve from 0.99591\n",
      "Epoch 82/300\n",
      "1224/1224 [==============================] - 123s 100ms/step - loss: 0.4869 - acc: 0.9984 - val_loss: 0.4179 - val_acc: 0.9931\n",
      "\n",
      "Epoch 00082: val_acc did not improve from 0.99591\n",
      "Epoch 83/300\n",
      "1224/1224 [==============================] - 123s 100ms/step - loss: 0.4808 - acc: 0.9969 - val_loss: 0.4156 - val_acc: 0.9922\n",
      "\n",
      "Epoch 00083: val_acc did not improve from 0.99591\n",
      "Epoch 84/300\n",
      "1224/1224 [==============================] - 123s 100ms/step - loss: 0.4791 - acc: 0.9981 - val_loss: 0.4201 - val_acc: 0.9934\n",
      "\n",
      "Epoch 00084: val_acc did not improve from 0.99591\n",
      "Epoch 85/300\n",
      "1224/1224 [==============================] - 123s 100ms/step - loss: 0.4793 - acc: 0.9986 - val_loss: 0.4308 - val_acc: 0.9908\n",
      "\n",
      "Epoch 00085: val_acc did not improve from 0.99591\n",
      "Epoch 86/300\n",
      "1224/1224 [==============================] - 123s 100ms/step - loss: 0.4829 - acc: 0.9967 - val_loss: 0.4085 - val_acc: 0.9950\n",
      "\n",
      "Epoch 00086: val_acc did not improve from 0.99591\n",
      "Epoch 87/300\n",
      "1224/1224 [==============================] - 123s 100ms/step - loss: 0.4724 - acc: 0.9982 - val_loss: 0.4203 - val_acc: 0.9931\n",
      "\n",
      "Epoch 00087: val_acc did not improve from 0.99591\n",
      "Epoch 88/300\n",
      "1224/1224 [==============================] - 123s 100ms/step - loss: 0.4771 - acc: 0.9984 - val_loss: 0.4128 - val_acc: 0.9925\n",
      "\n",
      "Epoch 00088: val_acc did not improve from 0.99591\n",
      "Epoch 89/300\n",
      "1224/1224 [==============================] - 123s 100ms/step - loss: 0.4737 - acc: 0.9978 - val_loss: 0.4135 - val_acc: 0.9932\n",
      "\n",
      "Epoch 00089: val_acc did not improve from 0.99591\n",
      "Epoch 90/300\n",
      "1224/1224 [==============================] - 122s 100ms/step - loss: 0.4740 - acc: 0.9988 - val_loss: 0.4172 - val_acc: 0.9940\n",
      "\n",
      "Epoch 00090: val_acc did not improve from 0.99591\n",
      "\n",
      "Epoch 00090: ReduceLROnPlateau reducing learning rate to 9.999999747378752e-07.\n"
     ]
    },
    {
     "data": {
      "text/plain": [
       "<tensorflow.python.training.tracking.util.CheckpointLoadStatus at 0x1484989c7c0>"
      ]
     },
     "execution_count": 66,
     "metadata": {},
     "output_type": "execute_result"
    }
   ],
   "source": [
    "# train the model\n",
    "pic_model.fit(\n",
    "        train_generator,\n",
    "        epochs = train_epoch,\n",
    "        validation_data = valid_generator,\n",
    "        callbacks = [my_callbacks],\n",
    "        class_weight = class_weights\n",
    "      )\n",
    "\n",
    "# load best saved weights\n",
    "pic_model.load_weights(checkpoint_path)"
   ]
  },
  {
   "cell_type": "markdown",
   "id": "pretty-morris",
   "metadata": {
    "id": "pretty-morris",
    "papermill": {
     "duration": 3.201635,
     "end_time": "2021-05-30T20:12:18.344310",
     "exception": false,
     "start_time": "2021-05-30T20:12:15.142675",
     "status": "completed"
    },
    "tags": []
   },
   "source": [
    "# 훈련된 모델 재교육"
   ]
  },
  {
   "cell_type": "code",
   "execution_count": 113,
   "id": "0abe32b9",
   "metadata": {},
   "outputs": [
    {
     "data": {
      "text/html": [
       "<div>\n",
       "<style scoped>\n",
       "    .dataframe tbody tr th:only-of-type {\n",
       "        vertical-align: middle;\n",
       "    }\n",
       "\n",
       "    .dataframe tbody tr th {\n",
       "        vertical-align: top;\n",
       "    }\n",
       "\n",
       "    .dataframe thead th {\n",
       "        text-align: right;\n",
       "    }\n",
       "</style>\n",
       "<table border=\"1\" class=\"dataframe\">\n",
       "  <thead>\n",
       "    <tr style=\"text-align: right;\">\n",
       "      <th></th>\n",
       "      <th>filename</th>\n",
       "      <th>label</th>\n",
       "    </tr>\n",
       "  </thead>\n",
       "  <tbody>\n",
       "    <tr>\n",
       "      <th>0</th>\n",
       "      <td>C:\\Users\\ngkim\\Downloads\\KneeXray\\train/Image_...</td>\n",
       "      <td>0</td>\n",
       "    </tr>\n",
       "    <tr>\n",
       "      <th>1</th>\n",
       "      <td>C:\\Users\\ngkim\\Downloads\\KneeXray\\train/Image_...</td>\n",
       "      <td>1</td>\n",
       "    </tr>\n",
       "    <tr>\n",
       "      <th>2</th>\n",
       "      <td>C:\\Users\\ngkim\\Downloads\\KneeXray\\train/Image_...</td>\n",
       "      <td>0</td>\n",
       "    </tr>\n",
       "    <tr>\n",
       "      <th>3</th>\n",
       "      <td>C:\\Users\\ngkim\\Downloads\\KneeXray\\train/Image_...</td>\n",
       "      <td>1</td>\n",
       "    </tr>\n",
       "    <tr>\n",
       "      <th>4</th>\n",
       "      <td>C:\\Users\\ngkim\\Downloads\\KneeXray\\train/Image_...</td>\n",
       "      <td>2</td>\n",
       "    </tr>\n",
       "    <tr>\n",
       "      <th>...</th>\n",
       "      <td>...</td>\n",
       "      <td>...</td>\n",
       "    </tr>\n",
       "    <tr>\n",
       "      <th>7823</th>\n",
       "      <td>C:\\Users\\ngkim\\Downloads\\KneeXray\\train/Image_...</td>\n",
       "      <td>0</td>\n",
       "    </tr>\n",
       "    <tr>\n",
       "      <th>7824</th>\n",
       "      <td>C:\\Users\\ngkim\\Downloads\\KneeXray\\train/Image_...</td>\n",
       "      <td>4</td>\n",
       "    </tr>\n",
       "    <tr>\n",
       "      <th>7825</th>\n",
       "      <td>C:\\Users\\ngkim\\Downloads\\KneeXray\\train/Image_...</td>\n",
       "      <td>0</td>\n",
       "    </tr>\n",
       "    <tr>\n",
       "      <th>7826</th>\n",
       "      <td>C:\\Users\\ngkim\\Downloads\\KneeXray\\train/Image_...</td>\n",
       "      <td>2</td>\n",
       "    </tr>\n",
       "    <tr>\n",
       "      <th>7827</th>\n",
       "      <td>C:\\Users\\ngkim\\Downloads\\KneeXray\\train/Image_...</td>\n",
       "      <td>1</td>\n",
       "    </tr>\n",
       "  </tbody>\n",
       "</table>\n",
       "<p>7828 rows × 2 columns</p>\n",
       "</div>"
      ],
      "text/plain": [
       "                                               filename  label\n",
       "0     C:\\Users\\ngkim\\Downloads\\KneeXray\\train/Image_...      0\n",
       "1     C:\\Users\\ngkim\\Downloads\\KneeXray\\train/Image_...      1\n",
       "2     C:\\Users\\ngkim\\Downloads\\KneeXray\\train/Image_...      0\n",
       "3     C:\\Users\\ngkim\\Downloads\\KneeXray\\train/Image_...      1\n",
       "4     C:\\Users\\ngkim\\Downloads\\KneeXray\\train/Image_...      2\n",
       "...                                                 ...    ...\n",
       "7823  C:\\Users\\ngkim\\Downloads\\KneeXray\\train/Image_...      0\n",
       "7824  C:\\Users\\ngkim\\Downloads\\KneeXray\\train/Image_...      4\n",
       "7825  C:\\Users\\ngkim\\Downloads\\KneeXray\\train/Image_...      0\n",
       "7826  C:\\Users\\ngkim\\Downloads\\KneeXray\\train/Image_...      2\n",
       "7827  C:\\Users\\ngkim\\Downloads\\KneeXray\\train/Image_...      1\n",
       "\n",
       "[7828 rows x 2 columns]"
      ]
     },
     "execution_count": 113,
     "metadata": {},
     "output_type": "execute_result"
    }
   ],
   "source": [
    "df_val_compi"
   ]
  },
  {
   "cell_type": "code",
   "execution_count": 67,
   "id": "cloudy-idaho",
   "metadata": {
    "execution": {
     "iopub.execute_input": "2021-05-30T20:12:24.238372Z",
     "iopub.status.busy": "2021-05-30T20:12:24.237660Z",
     "iopub.status.idle": "2021-05-30T20:12:24.305208Z",
     "shell.execute_reply": "2021-05-30T20:12:24.305579Z",
     "shell.execute_reply.started": "2021-05-30T09:30:16.948040Z"
    },
    "id": "cloudy-idaho",
    "papermill": {
     "duration": 3.027306,
     "end_time": "2021-05-30T20:12:24.305720",
     "exception": false,
     "start_time": "2021-05-30T20:12:21.278414",
     "status": "completed"
    },
    "tags": []
   },
   "outputs": [],
   "source": [
    "# train and validation split on competition data\n",
    "from sklearn.model_selection import train_test_split\n",
    "X_train, X_test = train_test_split(\n",
    "    df_val_compi,\n",
    "    test_size = 0.1,\n",
    "    random_state = seed,\n",
    "    stratify = df_val_compi.label\n",
    "  )"
   ]
  },
  {
   "cell_type": "code",
   "execution_count": 68,
   "id": "nervous-crisis",
   "metadata": {
    "colab": {
     "base_uri": "https://localhost:8080/"
    },
    "execution": {
     "iopub.execute_input": "2021-05-30T20:12:30.429807Z",
     "iopub.status.busy": "2021-05-30T20:12:30.429001Z",
     "iopub.status.idle": "2021-05-30T20:12:30.472297Z",
     "shell.execute_reply": "2021-05-30T20:12:30.471634Z",
     "shell.execute_reply.started": "2021-05-30T09:30:18.098841Z"
    },
    "id": "nervous-crisis",
    "outputId": "bf1114cc-1f2d-4777-cef4-bd4eb24d75dd",
    "papermill": {
     "duration": 3.239148,
     "end_time": "2021-05-30T20:12:30.472465",
     "exception": false,
     "start_time": "2021-05-30T20:12:27.233317",
     "status": "completed"
    },
    "tags": []
   },
   "outputs": [
    {
     "name": "stdout",
     "output_type": "stream",
     "text": [
      "Found 7045 validated image filenames.\n"
     ]
    }
   ],
   "source": [
    "train_generator = train_aug.flow_from_dataframe(\n",
    "    dataframe = X_train,\n",
    "    x_col = \"filename\",\n",
    "    y_col = \"label\",\n",
    "    batch_size = batch_size,\n",
    "    seed = seed,\n",
    "    shuffle = True,\n",
    "    class_mode = \"raw\",\n",
    "    target_size = (image_size,image_size)\n",
    "  )"
   ]
  },
  {
   "cell_type": "code",
   "execution_count": 69,
   "id": "instrumental-indie",
   "metadata": {
    "colab": {
     "base_uri": "https://localhost:8080/"
    },
    "execution": {
     "iopub.execute_input": "2021-05-30T20:12:36.309467Z",
     "iopub.status.busy": "2021-05-30T20:12:36.308631Z",
     "iopub.status.idle": "2021-05-30T20:12:36.318017Z",
     "shell.execute_reply": "2021-05-30T20:12:36.317530Z",
     "shell.execute_reply.started": "2021-05-30T09:30:23.206485Z"
    },
    "id": "instrumental-indie",
    "outputId": "dceb0588-b8e8-4658-a8e4-9c7f11fc65a0",
    "papermill": {
     "duration": 2.927421,
     "end_time": "2021-05-30T20:12:36.318129",
     "exception": false,
     "start_time": "2021-05-30T20:12:33.390708",
     "status": "completed"
    },
    "tags": []
   },
   "outputs": [
    {
     "name": "stdout",
     "output_type": "stream",
     "text": [
      "Found 783 validated image filenames.\n"
     ]
    }
   ],
   "source": [
    "valid_generator = valid_aug.flow_from_dataframe( \n",
    "    dataframe = X_test,\n",
    "    x_col = \"filename\",\n",
    "    y_col = \"label\",\n",
    "    batch_size = batch_size,\n",
    "    seed = seed,\n",
    "    shuffle = True,\n",
    "    class_mode = \"raw\",\n",
    "    target_size = (image_size,image_size)\n",
    "  )"
   ]
  },
  {
   "cell_type": "code",
   "execution_count": 70,
   "id": "dedicated-chapel",
   "metadata": {
    "execution": {
     "iopub.execute_input": "2021-05-30T20:12:42.897491Z",
     "iopub.status.busy": "2021-05-30T20:12:42.895853Z",
     "iopub.status.idle": "2021-05-30T20:12:42.898202Z",
     "shell.execute_reply": "2021-05-30T20:12:42.898602Z",
     "shell.execute_reply.started": "2021-05-30T09:30:26.966513Z"
    },
    "id": "dedicated-chapel",
    "papermill": {
     "duration": 3.108025,
     "end_time": "2021-05-30T20:12:42.898739",
     "exception": false,
     "start_time": "2021-05-30T20:12:39.790714",
     "status": "completed"
    },
    "tags": []
   },
   "outputs": [],
   "source": [
    "# number of steps to consider 1 as  epoch\n",
    "STEP_SIZE_TRAIN = train_generator.n//train_generator.batch_size\n",
    "STEP_SIZE_VALID = valid_generator.n//valid_generator.batch_size"
   ]
  },
  {
   "cell_type": "code",
   "execution_count": 71,
   "id": "sized-norfolk",
   "metadata": {
    "colab": {
     "base_uri": "https://localhost:8080/"
    },
    "execution": {
     "iopub.execute_input": "2021-05-30T20:12:48.820785Z",
     "iopub.status.busy": "2021-05-30T20:12:48.819337Z",
     "iopub.status.idle": "2021-05-30T20:25:26.371458Z",
     "shell.execute_reply": "2021-05-30T20:25:26.371941Z",
     "shell.execute_reply.started": "2021-05-30T09:30:36.962285Z"
    },
    "id": "sized-norfolk",
    "outputId": "fc9b987c-a11c-49f1-b98c-d4879cee12f6",
    "papermill": {
     "duration": 760.527609,
     "end_time": "2021-05-30T20:25:26.372105",
     "exception": false,
     "start_time": "2021-05-30T20:12:45.844496",
     "status": "completed"
    },
    "tags": []
   },
   "outputs": [
    {
     "name": "stdout",
     "output_type": "stream",
     "text": [
      "Epoch 1/50\n",
      "880/880 [==============================] - 80s 89ms/step - loss: 0.6163 - acc: 0.9751 - val_loss: 0.4056 - val_acc: 0.9936\n",
      "\n",
      "Epoch 00001: val_acc did not improve from 0.99591\n",
      "Epoch 2/50\n",
      "880/880 [==============================] - 77s 88ms/step - loss: 0.6001 - acc: 0.9855 - val_loss: 0.3948 - val_acc: 1.0000\n",
      "\n",
      "Epoch 00002: val_acc improved from 0.99591 to 1.00000, saving model to Xception_BS8_EP300_IS224_LP99.ckpt\n",
      "Epoch 3/50\n",
      "880/880 [==============================] - 78s 88ms/step - loss: 0.6028 - acc: 0.9888 - val_loss: 0.4072 - val_acc: 0.9974\n",
      "\n",
      "Epoch 00003: val_acc did not improve from 1.00000\n",
      "Epoch 4/50\n",
      "880/880 [==============================] - 77s 88ms/step - loss: 0.5950 - acc: 0.9909 - val_loss: 0.4086 - val_acc: 0.9987\n",
      "\n",
      "Epoch 00004: val_acc did not improve from 1.00000\n",
      "Epoch 5/50\n",
      "880/880 [==============================] - 78s 88ms/step - loss: 0.6012 - acc: 0.9895 - val_loss: 0.4061 - val_acc: 0.9974\n",
      "\n",
      "Epoch 00005: val_acc did not improve from 1.00000\n",
      "Epoch 6/50\n",
      "880/880 [==============================] - 77s 88ms/step - loss: 0.5867 - acc: 0.9922 - val_loss: 0.4065 - val_acc: 0.9974\n",
      "\n",
      "Epoch 00006: val_acc did not improve from 1.00000\n",
      "Epoch 7/50\n",
      "880/880 [==============================] - 77s 88ms/step - loss: 0.5822 - acc: 0.9930 - val_loss: 0.4069 - val_acc: 0.9987\n",
      "\n",
      "Epoch 00007: val_acc did not improve from 1.00000\n",
      "Epoch 8/50\n",
      "880/880 [==============================] - 77s 88ms/step - loss: 0.5874 - acc: 0.9962 - val_loss: 0.4057 - val_acc: 0.9987\n",
      "\n",
      "Epoch 00008: val_acc did not improve from 1.00000\n",
      "Epoch 9/50\n",
      "880/880 [==============================] - 77s 88ms/step - loss: 0.5873 - acc: 0.9933 - val_loss: 0.4099 - val_acc: 0.9974\n",
      "\n",
      "Epoch 00009: val_acc did not improve from 1.00000\n",
      "Epoch 10/50\n",
      "880/880 [==============================] - 77s 88ms/step - loss: 0.5850 - acc: 0.9937 - val_loss: 0.3929 - val_acc: 1.0000\n",
      "\n",
      "Epoch 00010: val_acc did not improve from 1.00000\n",
      "Epoch 11/50\n",
      "880/880 [==============================] - 77s 88ms/step - loss: 0.5812 - acc: 0.9953 - val_loss: 0.4026 - val_acc: 0.9974\n",
      "\n",
      "Epoch 00011: val_acc did not improve from 1.00000\n",
      "Epoch 12/50\n",
      "880/880 [==============================] - 77s 88ms/step - loss: 0.5805 - acc: 0.9967 - val_loss: 0.4096 - val_acc: 0.9974\n",
      "\n",
      "Epoch 00012: val_acc did not improve from 1.00000\n",
      "Epoch 13/50\n",
      "880/880 [==============================] - 77s 88ms/step - loss: 0.5771 - acc: 0.9945 - val_loss: 0.4005 - val_acc: 0.9987\n",
      "\n",
      "Epoch 00013: val_acc did not improve from 1.00000\n",
      "Epoch 14/50\n",
      "880/880 [==============================] - 77s 88ms/step - loss: 0.5820 - acc: 0.9949 - val_loss: 0.4019 - val_acc: 0.9961\n",
      "\n",
      "Epoch 00014: val_acc did not improve from 1.00000\n",
      "Epoch 15/50\n",
      "880/880 [==============================] - 77s 88ms/step - loss: 0.5832 - acc: 0.9956 - val_loss: 0.3971 - val_acc: 0.9987\n",
      "\n",
      "Epoch 00015: val_acc did not improve from 1.00000\n",
      "Epoch 16/50\n",
      "880/880 [==============================] - 77s 88ms/step - loss: 0.5754 - acc: 0.9976 - val_loss: 0.4055 - val_acc: 0.9987\n",
      "\n",
      "Epoch 00016: val_acc did not improve from 1.00000\n",
      "Epoch 17/50\n",
      "880/880 [==============================] - 78s 88ms/step - loss: 0.5779 - acc: 0.9959 - val_loss: 0.4014 - val_acc: 0.9987\n",
      "\n",
      "Epoch 00017: val_acc did not improve from 1.00000\n",
      "Epoch 18/50\n",
      "880/880 [==============================] - 78s 88ms/step - loss: 0.5756 - acc: 0.9970 - val_loss: 0.4139 - val_acc: 0.9936\n",
      "\n",
      "Epoch 00018: val_acc did not improve from 1.00000\n",
      "Epoch 19/50\n",
      "880/880 [==============================] - 77s 88ms/step - loss: 0.5784 - acc: 0.9967 - val_loss: 0.4143 - val_acc: 0.9974\n",
      "\n",
      "Epoch 00019: val_acc did not improve from 1.00000\n",
      "Epoch 20/50\n",
      "880/880 [==============================] - 78s 88ms/step - loss: 0.5744 - acc: 0.9950 - val_loss: 0.4091 - val_acc: 0.9974\n",
      "\n",
      "Epoch 00020: val_acc did not improve from 1.00000\n",
      "\n",
      "Epoch 00020: ReduceLROnPlateau reducing learning rate to 9.999999747378752e-07.\n"
     ]
    },
    {
     "data": {
      "text/plain": [
       "<keras.callbacks.History at 0x14dc27cb850>"
      ]
     },
     "execution_count": 71,
     "metadata": {},
     "output_type": "execute_result"
    }
   ],
   "source": [
    "# kick off training\n",
    "pic_model.fit(\n",
    "        train_generator,\n",
    "        steps_per_epoch = STEP_SIZE_TRAIN,\n",
    "        epochs = val_epoch,\n",
    "        validation_data = valid_generator,\n",
    "        validation_steps = STEP_SIZE_VALID,callbacks = [my_callbacks]\n",
    "      )"
   ]
  },
  {
   "cell_type": "code",
   "execution_count": 72,
   "id": "complete-spelling",
   "metadata": {
    "colab": {
     "base_uri": "https://localhost:8080/"
    },
    "execution": {
     "iopub.execute_input": "2021-05-30T20:25:33.497837Z",
     "iopub.status.busy": "2021-05-30T20:25:33.496999Z",
     "iopub.status.idle": "2021-05-30T20:25:34.695800Z",
     "shell.execute_reply": "2021-05-30T20:25:34.695365Z",
     "shell.execute_reply.started": "2021-05-24T16:41:06.725854Z"
    },
    "id": "complete-spelling",
    "outputId": "10521e37-45bc-43e8-eae3-62b233e07b14",
    "papermill": {
     "duration": 4.566888,
     "end_time": "2021-05-30T20:25:34.695951",
     "exception": false,
     "start_time": "2021-05-30T20:25:30.129063",
     "status": "completed"
    },
    "tags": []
   },
   "outputs": [
    {
     "data": {
      "text/plain": [
       "<tensorflow.python.training.tracking.util.CheckpointLoadStatus at 0x14dbfe622b0>"
      ]
     },
     "execution_count": 72,
     "metadata": {},
     "output_type": "execute_result"
    }
   ],
   "source": [
    "# load best saved weights\n",
    "pic_model.load_weights(checkpoint_path)"
   ]
  },
  {
   "cell_type": "code",
   "execution_count": 83,
   "id": "f6a4d95e",
   "metadata": {},
   "outputs": [
    {
     "data": {
      "text/plain": [
       "'Xception_BS8_EP300_IS224_LP99.ckpt'"
      ]
     },
     "execution_count": 83,
     "metadata": {},
     "output_type": "execute_result"
    }
   ],
   "source": [
    "checkpoint_path"
   ]
  },
  {
   "cell_type": "markdown",
   "id": "intended-cylinder",
   "metadata": {
    "id": "intended-cylinder",
    "papermill": {
     "duration": 3.633537,
     "end_time": "2021-05-30T20:25:41.743104",
     "exception": false,
     "start_time": "2021-05-30T20:25:38.109567",
     "status": "completed"
    },
    "tags": []
   },
   "source": [
    "# Confusion Matrix"
   ]
  },
  {
   "cell_type": "code",
   "execution_count": 73,
   "id": "equivalent-album",
   "metadata": {
    "colab": {
     "base_uri": "https://localhost:8080/"
    },
    "execution": {
     "iopub.execute_input": "2021-05-30T20:25:48.625234Z",
     "iopub.status.busy": "2021-05-30T20:25:48.624438Z",
     "iopub.status.idle": "2021-05-30T20:25:48.634216Z",
     "shell.execute_reply": "2021-05-30T20:25:48.633804Z",
     "shell.execute_reply.started": "2021-05-27T05:35:10.161826Z"
    },
    "id": "equivalent-album",
    "outputId": "2ed00c4a-4fd3-4d76-9ce5-6249f0da4489",
    "papermill": {
     "duration": 3.430239,
     "end_time": "2021-05-30T20:25:48.634343",
     "exception": false,
     "start_time": "2021-05-30T20:25:45.204104",
     "status": "completed"
    },
    "tags": []
   },
   "outputs": [
    {
     "name": "stdout",
     "output_type": "stream",
     "text": [
      "Found 783 validated image filenames.\n"
     ]
    }
   ],
   "source": [
    "from sklearn.metrics import precision_recall_curve\n",
    "target_shape = 224\n",
    "BS = 1\n",
    "\n",
    "# test generator\n",
    "compi_gen = valid_aug.flow_from_dataframe(\n",
    "    dataframe = X_test,\n",
    "    x_col = \"filename\",\n",
    "    class_mode = None,\n",
    "    target_size = (target_shape, target_shape),\n",
    "    shuffle = False,\n",
    "    batch_size = BS\n",
    "  )"
   ]
  },
  {
   "cell_type": "code",
   "execution_count": 103,
   "id": "a5e5c66e",
   "metadata": {},
   "outputs": [
    {
     "data": {
      "text/plain": [
       "<keras_preprocessing.image.dataframe_iterator.DataFrameIterator at 0x14e6fde20a0>"
      ]
     },
     "execution_count": 103,
     "metadata": {},
     "output_type": "execute_result"
    }
   ],
   "source": [
    "compi_gen"
   ]
  },
  {
   "cell_type": "code",
   "execution_count": 101,
   "id": "438b878b",
   "metadata": {},
   "outputs": [
    {
     "data": {
      "text/html": [
       "<div>\n",
       "<style scoped>\n",
       "    .dataframe tbody tr th:only-of-type {\n",
       "        vertical-align: middle;\n",
       "    }\n",
       "\n",
       "    .dataframe tbody tr th {\n",
       "        vertical-align: top;\n",
       "    }\n",
       "\n",
       "    .dataframe thead th {\n",
       "        text-align: right;\n",
       "    }\n",
       "</style>\n",
       "<table border=\"1\" class=\"dataframe\">\n",
       "  <thead>\n",
       "    <tr style=\"text-align: right;\">\n",
       "      <th></th>\n",
       "      <th>filepath</th>\n",
       "      <th>label</th>\n",
       "    </tr>\n",
       "  </thead>\n",
       "  <tbody>\n",
       "    <tr>\n",
       "      <th>0</th>\n",
       "      <td>C:\\Users\\ngkim\\Downloads\\224_data\\test/0/5a210...</td>\n",
       "      <td>0</td>\n",
       "    </tr>\n",
       "    <tr>\n",
       "      <th>1</th>\n",
       "      <td>C:\\Users\\ngkim\\Downloads\\224_data\\test/0/5a210...</td>\n",
       "      <td>0</td>\n",
       "    </tr>\n",
       "    <tr>\n",
       "      <th>2</th>\n",
       "      <td>C:\\Users\\ngkim\\Downloads\\224_data\\test/0/5a211...</td>\n",
       "      <td>0</td>\n",
       "    </tr>\n",
       "    <tr>\n",
       "      <th>3</th>\n",
       "      <td>C:\\Users\\ngkim\\Downloads\\224_data\\test/0/5a211...</td>\n",
       "      <td>0</td>\n",
       "    </tr>\n",
       "    <tr>\n",
       "      <th>4</th>\n",
       "      <td>C:\\Users\\ngkim\\Downloads\\224_data\\test/0/5a28d...</td>\n",
       "      <td>0</td>\n",
       "    </tr>\n",
       "    <tr>\n",
       "      <th>...</th>\n",
       "      <td>...</td>\n",
       "      <td>...</td>\n",
       "    </tr>\n",
       "    <tr>\n",
       "      <th>526</th>\n",
       "      <td>C:\\Users\\ngkim\\Downloads\\224_data\\test/4/5b0e3...</td>\n",
       "      <td>4</td>\n",
       "    </tr>\n",
       "    <tr>\n",
       "      <th>527</th>\n",
       "      <td>C:\\Users\\ngkim\\Downloads\\224_data\\test/4/5b0f6...</td>\n",
       "      <td>4</td>\n",
       "    </tr>\n",
       "    <tr>\n",
       "      <th>528</th>\n",
       "      <td>C:\\Users\\ngkim\\Downloads\\224_data\\test/4/5b10d...</td>\n",
       "      <td>4</td>\n",
       "    </tr>\n",
       "    <tr>\n",
       "      <th>529</th>\n",
       "      <td>C:\\Users\\ngkim\\Downloads\\224_data\\test/4/5b10d...</td>\n",
       "      <td>4</td>\n",
       "    </tr>\n",
       "    <tr>\n",
       "      <th>530</th>\n",
       "      <td>C:\\Users\\ngkim\\Downloads\\224_data\\test/4/5b1f5...</td>\n",
       "      <td>4</td>\n",
       "    </tr>\n",
       "  </tbody>\n",
       "</table>\n",
       "<p>531 rows × 2 columns</p>\n",
       "</div>"
      ],
      "text/plain": [
       "                                              filepath  label\n",
       "0    C:\\Users\\ngkim\\Downloads\\224_data\\test/0/5a210...      0\n",
       "1    C:\\Users\\ngkim\\Downloads\\224_data\\test/0/5a210...      0\n",
       "2    C:\\Users\\ngkim\\Downloads\\224_data\\test/0/5a211...      0\n",
       "3    C:\\Users\\ngkim\\Downloads\\224_data\\test/0/5a211...      0\n",
       "4    C:\\Users\\ngkim\\Downloads\\224_data\\test/0/5a28d...      0\n",
       "..                                                 ...    ...\n",
       "526  C:\\Users\\ngkim\\Downloads\\224_data\\test/4/5b0e3...      4\n",
       "527  C:\\Users\\ngkim\\Downloads\\224_data\\test/4/5b0f6...      4\n",
       "528  C:\\Users\\ngkim\\Downloads\\224_data\\test/4/5b10d...      4\n",
       "529  C:\\Users\\ngkim\\Downloads\\224_data\\test/4/5b10d...      4\n",
       "530  C:\\Users\\ngkim\\Downloads\\224_data\\test/4/5b1f5...      4\n",
       "\n",
       "[531 rows x 2 columns]"
      ]
     },
     "execution_count": 101,
     "metadata": {},
     "output_type": "execute_result"
    }
   ],
   "source": [
    "df_test"
   ]
  },
  {
   "cell_type": "code",
   "execution_count": 96,
   "id": "9eba5f48",
   "metadata": {},
   "outputs": [],
   "source": [
    "# train and validation split on competition data\n",
    "from sklearn.model_selection import train_test_split\n",
    "\n",
    "test_da = train_test_split(\n",
    "    df_test,\n",
    "    test_size = 0.1,\n",
    "    random_state = seed,\n",
    "    stratify = df_test.label\n",
    "  )"
   ]
  },
  {
   "cell_type": "code",
   "execution_count": 116,
   "id": "3d345c13",
   "metadata": {},
   "outputs": [
    {
     "ename": "AttributeError",
     "evalue": "'DataFrameIterator' object has no attribute 'flow_from_dataframe'",
     "output_type": "error",
     "traceback": [
      "\u001b[1;31m---------------------------------------------------------------------------\u001b[0m",
      "\u001b[1;31mAttributeError\u001b[0m                            Traceback (most recent call last)",
      "\u001b[1;32m<ipython-input-116-794f8b7c8fd2>\u001b[0m in \u001b[0;36m<module>\u001b[1;34m\u001b[0m\n\u001b[0;32m      3\u001b[0m \u001b[0mBS\u001b[0m \u001b[1;33m=\u001b[0m \u001b[1;36m1\u001b[0m\u001b[1;33m\u001b[0m\u001b[1;33m\u001b[0m\u001b[0m\n\u001b[0;32m      4\u001b[0m \u001b[1;33m\u001b[0m\u001b[0m\n\u001b[1;32m----> 5\u001b[1;33m test_gen = da_test_generator.flow_from_dataframe(\n\u001b[0m\u001b[0;32m      6\u001b[0m     \u001b[0mdataframe\u001b[0m \u001b[1;33m=\u001b[0m \u001b[0mtest_da\u001b[0m\u001b[1;33m,\u001b[0m\u001b[1;33m\u001b[0m\u001b[1;33m\u001b[0m\u001b[0m\n\u001b[0;32m      7\u001b[0m     \u001b[0mx_col\u001b[0m \u001b[1;33m=\u001b[0m \u001b[1;34m\"filepath\"\u001b[0m\u001b[1;33m,\u001b[0m\u001b[1;33m\u001b[0m\u001b[1;33m\u001b[0m\u001b[0m\n",
      "\u001b[1;31mAttributeError\u001b[0m: 'DataFrameIterator' object has no attribute 'flow_from_dataframe'"
     ]
    }
   ],
   "source": [
    "from sklearn.metrics import precision_recall_curve\n",
    "target_shape = 224\n",
    "BS = 1\n",
    "\n",
    "test_gen = valid_aug.flow_from_dataframe(\n",
    "    dataframe = test_da,\n",
    "    x_col = \"filepath\",\n",
    "    class_mode = None,\n",
    "    target_size = (target_shape, target_shape),\n",
    "    shuffle = False,\n",
    "    batch_size = BS\n",
    "  )"
   ]
  },
  {
   "cell_type": "code",
   "execution_count": 109,
   "id": "5bd0a224",
   "metadata": {},
   "outputs": [
    {
     "ename": "NameError",
     "evalue": "name 'test_gen' is not defined",
     "output_type": "error",
     "traceback": [
      "\u001b[1;31m---------------------------------------------------------------------------\u001b[0m",
      "\u001b[1;31mNameError\u001b[0m                                 Traceback (most recent call last)",
      "\u001b[1;32m<ipython-input-109-e9c7a64605d5>\u001b[0m in \u001b[0;36m<module>\u001b[1;34m\u001b[0m\n\u001b[0;32m      1\u001b[0m \u001b[1;31m# prediction on train data\u001b[0m\u001b[1;33m\u001b[0m\u001b[1;33m\u001b[0m\u001b[1;33m\u001b[0m\u001b[0m\n\u001b[1;32m----> 2\u001b[1;33m \u001b[0mtest_predicition_compi\u001b[0m \u001b[1;33m=\u001b[0m \u001b[0mpic_model\u001b[0m\u001b[1;33m.\u001b[0m\u001b[0mpredict\u001b[0m\u001b[1;33m(\u001b[0m\u001b[0mtest_gen\u001b[0m\u001b[1;33m,\u001b[0m \u001b[0msteps\u001b[0m \u001b[1;33m=\u001b[0m \u001b[0mtest_gen\u001b[0m\u001b[1;33m.\u001b[0m\u001b[0mn\u001b[0m\u001b[1;33m/\u001b[0m \u001b[0mBS\u001b[0m\u001b[1;33m,\u001b[0m \u001b[0mverbose\u001b[0m\u001b[1;33m=\u001b[0m \u001b[1;36m1\u001b[0m\u001b[1;33m)\u001b[0m\u001b[1;33m\u001b[0m\u001b[1;33m\u001b[0m\u001b[0m\n\u001b[0m",
      "\u001b[1;31mNameError\u001b[0m: name 'test_gen' is not defined"
     ]
    }
   ],
   "source": [
    "# prediction on train data\n",
    "test_predicition_compi = pic_model.predict(test_gen, steps = test_gen.n/ BS, verbose= 1)"
   ]
  },
  {
   "cell_type": "code",
   "execution_count": null,
   "id": "76f2547d",
   "metadata": {},
   "outputs": [],
   "source": [
    "from sklearn.metrics import confusion_matrix, ConfusionMatrixDisplay\n",
    "\n",
    "test_class_prediction_compi = np.argmax(test_predicition_compi, axis = 1)\n",
    "cm = confusion_matrix(test_da.label, test_class_prediction_compi, labels = [0, 1, 2, 3, 4])\n",
    "\n",
    "disp = ConfusionMatrixDisplay(\n",
    "    confusion_matrix = cm,\n",
    "    display_labels = [0, 1, 2, 3, 4]\n",
    "  )\n",
    "\n",
    "disp.plot()"
   ]
  },
  {
   "cell_type": "code",
   "execution_count": 74,
   "id": "preceding-delight",
   "metadata": {
    "colab": {
     "base_uri": "https://localhost:8080/"
    },
    "execution": {
     "iopub.execute_input": "2021-05-30T20:25:56.117007Z",
     "iopub.status.busy": "2021-05-30T20:25:56.116264Z",
     "iopub.status.idle": "2021-05-30T20:26:05.659358Z",
     "shell.execute_reply": "2021-05-30T20:26:05.658569Z",
     "shell.execute_reply.started": "2021-05-27T05:35:17.324361Z"
    },
    "id": "preceding-delight",
    "outputId": "21817dd8-602c-4242-8998-5e3ae34e14e3",
    "papermill": {
     "duration": 12.914933,
     "end_time": "2021-05-30T20:26:05.659489",
     "exception": false,
     "start_time": "2021-05-30T20:25:52.744556",
     "status": "completed"
    },
    "tags": []
   },
   "outputs": [
    {
     "name": "stdout",
     "output_type": "stream",
     "text": [
      "783/783 [==============================] - 6s 7ms/step\n"
     ]
    }
   ],
   "source": [
    "# prediction on train data\n",
    "predicition_compi = pic_model.predict(compi_gen, steps = compi_gen.n/ BS, verbose= 1)"
   ]
  },
  {
   "cell_type": "code",
   "execution_count": 90,
   "id": "distinguished-midwest",
   "metadata": {
    "colab": {
     "base_uri": "https://localhost:8080/",
     "height": 297
    },
    "execution": {
     "iopub.execute_input": "2021-05-30T20:26:12.667940Z",
     "iopub.status.busy": "2021-05-30T20:26:12.649791Z",
     "iopub.status.idle": "2021-05-30T20:26:13.051891Z",
     "shell.execute_reply": "2021-05-30T20:26:13.051413Z",
     "shell.execute_reply.started": "2021-05-27T05:43:44.837052Z"
    },
    "id": "distinguished-midwest",
    "outputId": "07a44daf-1bcd-454d-aa10-3c479b130443",
    "papermill": {
     "duration": 3.832152,
     "end_time": "2021-05-30T20:26:13.052010",
     "exception": false,
     "start_time": "2021-05-30T20:26:09.219858",
     "status": "completed"
    },
    "tags": []
   },
   "outputs": [
    {
     "data": {
      "text/plain": [
       "<sklearn.metrics._plot.confusion_matrix.ConfusionMatrixDisplay at 0x14e717aa910>"
      ]
     },
     "execution_count": 90,
     "metadata": {},
     "output_type": "execute_result"
    },
    {
     "data": {
      "image/png": "[encoded data removed]",
      "text/plain": [
       "<Figure size 432x288 with 2 Axes>"
      ]
     },
     "metadata": {
      "needs_background": "light"
     },
     "output_type": "display_data"
    }
   ],
   "source": [
    "from sklearn.metrics import confusion_matrix, ConfusionMatrixDisplay\n",
    "\n",
    "class_prediction_compi = np.argmax(predicition_compi, axis = 1)\n",
    "cm = confusion_matrix(X_test.label, class_prediction_compi, labels = [0, 1, 2, 3, 4])\n",
    "\n",
    "disp = ConfusionMatrixDisplay(\n",
    "    confusion_matrix = cm,\n",
    "    display_labels = [0, 1, 2, 3, 4]\n",
    "  )\n",
    "\n",
    "disp.plot()"
   ]
  },
  {
   "cell_type": "code",
   "execution_count": 87,
   "id": "ca042fad",
   "metadata": {},
   "outputs": [
    {
     "data": {
      "text/plain": [
       "array([[308,   0,   0,   0,   0],\n",
       "       [  0, 142,   0,   0,   0],\n",
       "       [  0,   0, 206,   0,   0],\n",
       "       [  0,   0,   0, 103,   0],\n",
       "       [  0,   0,   0,   0,  24]], dtype=int64)"
      ]
     },
     "execution_count": 87,
     "metadata": {},
     "output_type": "execute_result"
    }
   ],
   "source": [
    "cm"
   ]
  },
  {
   "cell_type": "code",
   "execution_count": 82,
   "id": "1150225d",
   "metadata": {},
   "outputs": [
    {
     "data": {
      "text/plain": [
       "array([0, 2, 1, 0, 4, 1, 2, 0, 1, 1, 0, 0, 2, 2, 0, 3, 0, 2, 0, 0, 2, 0,\n",
       "       0, 0, 0, 3, 2, 2, 4, 2, 0, 0, 0, 1, 3, 1, 2, 3, 2, 2, 0, 0, 0, 1,\n",
       "       0, 1, 0, 3, 2, 0, 0, 0, 2, 0, 0, 2, 2, 2, 4, 0, 0, 1, 0, 2, 4, 0,\n",
       "       2, 0, 0, 1, 2, 1, 2, 3, 3, 2, 0, 3, 1, 1, 2, 2, 0, 1, 0, 1, 0, 3,\n",
       "       0, 1, 1, 2, 2, 0, 2, 2, 0, 2, 4, 1, 0, 0, 2, 3, 0, 0, 1, 3, 1, 2,\n",
       "       0, 1, 3, 0, 2, 2, 2, 3, 2, 0, 1, 2, 0, 0, 0, 0, 2, 0, 3, 1, 0, 0,\n",
       "       2, 1, 1, 3, 0, 2, 0, 2, 1, 0, 3, 0, 0, 3, 2, 0, 0, 0, 2, 0, 0, 1,\n",
       "       3, 0, 2, 0, 2, 3, 0, 2, 3, 2, 1, 0, 2, 0, 1, 1, 0, 1, 0, 2, 1, 2,\n",
       "       1, 2, 2, 0, 2, 2, 1, 0, 2, 1, 3, 0, 1, 2, 0, 3, 3, 0, 1, 0, 0, 2,\n",
       "       1, 0, 4, 0, 2, 0, 0, 0, 0, 2, 0, 2, 4, 2, 1, 0, 1, 2, 0, 2, 2, 3,\n",
       "       4, 1, 1, 0, 0, 0, 2, 2, 2, 2, 0, 0, 0, 0, 1, 0, 1, 4, 3, 1, 0, 2,\n",
       "       2, 0, 0, 0, 0, 3, 2, 0, 0, 0, 0, 2, 0, 2, 2, 1, 0, 2, 2, 2, 0, 1,\n",
       "       2, 2, 0, 1, 0, 3, 2, 2, 0, 0, 1, 2, 0, 2, 1, 2, 1, 3, 0, 2, 0, 1,\n",
       "       0, 1, 0, 0, 1, 4, 0, 0, 0, 4, 0, 2, 1, 3, 3, 3, 2, 2, 1, 2, 2, 2,\n",
       "       1, 0, 3, 3, 0, 3, 3, 3, 0, 0, 0, 2, 0, 1, 0, 0, 2, 3, 0, 0, 2, 0,\n",
       "       0, 3, 0, 3, 2, 2, 1, 2, 2, 0, 2, 0, 2, 1, 3, 0, 0, 0, 3, 1, 2, 0,\n",
       "       2, 2, 0, 2, 0, 1, 1, 0, 2, 1, 1, 0, 2, 1, 2, 0, 2, 3, 0, 2, 0, 0,\n",
       "       1, 0, 0, 0, 0, 1, 0, 3, 0, 2, 3, 0, 2, 0, 2, 1, 2, 0, 2, 0, 1, 0,\n",
       "       3, 4, 2, 4, 0, 3, 2, 1, 2, 0, 4, 0, 0, 2, 3, 1, 3, 3, 2, 1, 0, 2,\n",
       "       0, 1, 0, 0, 0, 0, 2, 2, 2, 1, 1, 0, 2, 1, 1, 2, 1, 0, 0, 1, 1, 0,\n",
       "       1, 2, 0, 0, 2, 1, 0, 0, 0, 1, 0, 0, 0, 0, 0, 0, 3, 0, 3, 0, 2, 4,\n",
       "       0, 0, 0, 3, 1, 3, 2, 1, 2, 3, 4, 0, 0, 0, 0, 0, 4, 2, 3, 1, 0, 2,\n",
       "       3, 2, 1, 2, 2, 3, 2, 3, 0, 1, 0, 0, 3, 1, 2, 0, 2, 2, 2, 2, 0, 0,\n",
       "       2, 2, 0, 0, 2, 0, 3, 0, 1, 0, 0, 0, 0, 0, 1, 1, 3, 4, 0, 1, 2, 2,\n",
       "       1, 1, 0, 2, 0, 2, 2, 2, 3, 2, 2, 0, 4, 3, 2, 0, 0, 2, 1, 3, 2, 0,\n",
       "       0, 1, 1, 0, 4, 2, 0, 2, 0, 2, 3, 0, 0, 1, 1, 0, 1, 0, 0, 0, 1, 0,\n",
       "       2, 0, 3, 3, 0, 4, 2, 1, 2, 3, 1, 0, 0, 0, 1, 2, 2, 0, 3, 0, 1, 0,\n",
       "       1, 3, 2, 0, 1, 2, 3, 1, 0, 3, 0, 1, 0, 2, 2, 2, 1, 1, 2, 3, 3, 0,\n",
       "       0, 3, 1, 1, 1, 3, 0, 1, 0, 4, 1, 0, 2, 2, 3, 3, 1, 1, 3, 3, 0, 2,\n",
       "       2, 1, 0, 0, 3, 0, 0, 0, 0, 2, 0, 0, 0, 0, 2, 2, 1, 3, 1, 0, 2, 3,\n",
       "       2, 0, 1, 3, 0, 3, 0, 3, 1, 0, 0, 2, 2, 0, 1, 3, 2, 0, 2, 1, 0, 3,\n",
       "       1, 2, 0, 2, 3, 2, 1, 0, 0, 2, 2, 0, 0, 0, 0, 2, 0, 2, 0, 0, 2, 0,\n",
       "       0, 2, 0, 0, 0, 0, 3, 2, 2, 2, 0, 0, 2, 1, 1, 1, 0, 0, 0, 3, 3, 3,\n",
       "       0, 1, 3, 2, 2, 4, 3, 3, 2, 4, 0, 1, 3, 2, 0, 1, 0, 0, 1, 0, 0, 3,\n",
       "       3, 0, 0, 1, 0, 0, 3, 0, 0, 2, 1, 0, 1, 3, 2, 2, 3, 2, 2, 0, 0, 3,\n",
       "       0, 2, 0, 0, 0, 0, 0, 1, 1, 2, 1, 2, 0], dtype=int64)"
      ]
     },
     "execution_count": 82,
     "metadata": {},
     "output_type": "execute_result"
    }
   ],
   "source": [
    "class_prediction_compi"
   ]
  },
  {
   "cell_type": "markdown",
   "id": "positive-wilson",
   "metadata": {
    "id": "positive-wilson",
    "papermill": {
     "duration": 3.5306,
     "end_time": "2021-05-30T20:26:20.277590",
     "exception": false,
     "start_time": "2021-05-30T20:26:16.746990",
     "status": "completed"
    },
    "tags": []
   },
   "source": [
    "# 시험세트 예측"
   ]
  },
  {
   "cell_type": "code",
   "execution_count": 77,
   "id": "constitutional-catholic",
   "metadata": {
    "colab": {
     "base_uri": "https://localhost:8080/"
    },
    "execution": {
     "iopub.execute_input": "2021-05-30T20:26:28.031789Z",
     "iopub.status.busy": "2021-05-30T20:26:28.031111Z",
     "iopub.status.idle": "2021-05-30T20:26:28.058944Z",
     "shell.execute_reply": "2021-05-30T20:26:28.058161Z",
     "shell.execute_reply.started": "2021-05-27T09:08:20.550041Z"
    },
    "id": "constitutional-catholic",
    "outputId": "91b6393c-4cdf-45ff-f39e-2eb2a0d17012",
    "papermill": {
     "duration": 4.034446,
     "end_time": "2021-05-30T20:26:28.059074",
     "exception": false,
     "start_time": "2021-05-30T20:26:24.024628",
     "status": "completed"
    },
    "tags": []
   },
   "outputs": [
    {
     "name": "stdout",
     "output_type": "stream",
     "text": [
      "Found 1958 validated image filenames.\n"
     ]
    }
   ],
   "source": [
    "# read the csv file\n",
    "test = pd.read_csv(compi_root_path + \"Test.csv\")\n",
    "\n",
    "# create test generator\n",
    "test_generator = valid_aug.flow_from_dataframe(\n",
    "    dataframe = test,\n",
    "    directory = compi_root_path + \"test\",\n",
    "    x_col = \"filename\",\n",
    "    y_col = None,\n",
    "    batch_size = 1,\n",
    "    seed = seed,\n",
    "    shuffle = False,\n",
    "    class_mode = None,\n",
    "    target_size = (image_size, image_size)\n",
    "  )\n",
    "\n",
    "# number of steps to consider 1 epoch\n",
    "STEP_SIZE_TEST = test_generator.n//test_generator.batch_size"
   ]
  },
  {
   "cell_type": "code",
   "execution_count": null,
   "id": "49838afd",
   "metadata": {},
   "outputs": [],
   "source": []
  },
  {
   "cell_type": "code",
   "execution_count": 78,
   "id": "blocked-niagara",
   "metadata": {
    "colab": {
     "base_uri": "https://localhost:8080/"
    },
    "execution": {
     "iopub.execute_input": "2021-05-30T20:26:34.994605Z",
     "iopub.status.busy": "2021-05-30T20:26:34.994000Z",
     "iopub.status.idle": "2021-05-30T20:26:56.340759Z",
     "shell.execute_reply": "2021-05-30T20:26:56.341118Z",
     "shell.execute_reply.started": "2021-05-27T05:51:39.116529Z"
    },
    "id": "blocked-niagara",
    "outputId": "e8ed2e21-e61a-40ca-9976-0c87f7f7e9fa",
    "papermill": {
     "duration": 24.791614,
     "end_time": "2021-05-30T20:26:56.341303",
     "exception": false,
     "start_time": "2021-05-30T20:26:31.549689",
     "status": "completed"
    },
    "tags": []
   },
   "outputs": [
    {
     "name": "stdout",
     "output_type": "stream",
     "text": [
      "1958/1958 [==============================] - 15s 8ms/step\n"
     ]
    },
    {
     "data": {
      "text/plain": [
       "0    776\n",
       "2    516\n",
       "1    350\n",
       "3    257\n",
       "4     59\n",
       "Name: label, dtype: int64"
      ]
     },
     "execution_count": 78,
     "metadata": {},
     "output_type": "execute_result"
    }
   ],
   "source": [
    "# make prediction and create dataframe out of it\n",
    "pred = pic_model.predict(test_generator,steps=STEP_SIZE_TEST,verbose=1)\n",
    "df_submit = pd.DataFrame({\"label\":np.argmax(pred, axis= 1)})\n",
    "df_submit[\"label\"].value_counts()"
   ]
  },
  {
   "cell_type": "markdown",
   "id": "portable-yacht",
   "metadata": {
    "id": "portable-yacht",
    "papermill": {
     "duration": 3.504245,
     "end_time": "2021-05-30T20:27:18.913681",
     "exception": false,
     "start_time": "2021-05-30T20:27:15.409436",
     "status": "completed"
    },
    "tags": []
   },
   "source": [
    "# 최적의 가중치 및 출력 예측 파일 저장"
   ]
  },
  {
   "cell_type": "code",
   "execution_count": 79,
   "id": "liquid-tsunami",
   "metadata": {
    "execution": {
     "iopub.execute_input": "2021-05-30T20:27:26.290338Z",
     "iopub.status.busy": "2021-05-30T20:27:26.289493Z",
     "iopub.status.idle": "2021-05-30T20:27:26.809425Z",
     "shell.execute_reply": "2021-05-30T20:27:26.808879Z",
     "shell.execute_reply.started": "2021-05-27T05:51:46.57395Z"
    },
    "id": "liquid-tsunami",
    "papermill": {
     "duration": 4.073647,
     "end_time": "2021-05-30T20:27:26.809566",
     "exception": false,
     "start_time": "2021-05-30T20:27:22.735919",
     "status": "completed"
    },
    "tags": []
   },
   "outputs": [],
   "source": [
    "pic_model.save_weights(name+\"_BS\"+str(batch_size)+\"_EP\"+str(train_epoch)+\"_IS\"+str(image_size)+\"_LP\"+str(LP)+\".h5\")"
   ]
  },
  {
   "cell_type": "code",
   "execution_count": 80,
   "id": "f5096208",
   "metadata": {},
   "outputs": [
    {
     "name": "stdout",
     "output_type": "stream",
     "text": [
      "C:\\Users\\ngkim\\Downloads\\MDL\\TermProject_중간보고\\result\n"
     ]
    }
   ],
   "source": [
    "cd C:\\\\Users\\\\ngkim\\\\Downloads\\\\MDL\\\\TermProject_중간보고\\\\result"
   ]
  },
  {
   "cell_type": "code",
   "execution_count": 81,
   "id": "d4ee1c64",
   "metadata": {},
   "outputs": [],
   "source": [
    "df_submit.to_csv(name+\"_BS\"+str(batch_size)+\"_EP\"+str(train_epoch)+\"_IS\"+str(image_size)+\"_LP\"+str(LP)+\".csv\",index = False)"
   ]
  },
  {
   "cell_type": "markdown",
   "id": "sustainable-baptist",
   "metadata": {
    "id": "sustainable-baptist",
    "papermill": {
     "duration": 3.563445,
     "end_time": "2021-05-30T20:27:34.549379",
     "exception": false,
     "start_time": "2021-05-30T20:27:30.985934",
     "status": "completed"
    },
    "tags": []
   },
   "source": [
    "**Suggestion to improve the score**\n",
    "* Using right data augmentations\n",
    "* Using different model architecture\n",
    "* Ensembling and stacking\n",
    "* Using pretrained model trained on xray images\n",
    "\n",
    "**점수 향상을 위한 제안*\n",
    "* 올바른 데이터 확대 사용\n",
    "* 다른 모델 아키텍처 사용\n",
    "* 조립 및 쌓기\n",
    "* X선 영상에 대해 사전 훈련된 모델 사용\n",
    "\n",
    "## CheXNet - DenseNet121 + Sigmoid\n",
    "https://github.com/arnoweng/CheXNet/blob/master/model.py"
   ]
  }
 ],
 "metadata": {
  "accelerator": "GPU",
  "colab": {
   "collapsed_sections": [],
   "include_colab_link": true,
   "machine_shape": "hm",
   "name": "KLGrade-DenseNet121-91.83.ipynb",
   "provenance": []
  },
  "kernelspec": {
   "display_name": "Python 3",
   "language": "python",
   "name": "python3"
  },
  "language_info": {
   "codemirror_mode": {
    "name": "ipython",
    "version": 3
   },
   "file_extension": ".py",
   "mimetype": "text/x-python",
   "name": "python",
   "nbconvert_exporter": "python",
   "pygments_lexer": "ipython3",
   "version": "3.8.8"
  },
  "papermill": {
   "default_parameters": {},
   "duration": 6499.620651,
   "end_time": "2021-05-30T20:27:40.898205",
   "environment_variables": {},
   "exception": null,
   "input_path": "__notebook__.ipynb",
   "output_path": "__notebook__.ipynb",
   "parameters": {},
   "start_time": "2021-05-30T18:39:21.277554",
   "version": "2.3.3"
  }
 },
 "nbformat": 4,
 "nbformat_minor": 5
}
