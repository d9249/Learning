{
 "cells": [
  {
   "cell_type": "markdown",
   "id": "decreased-picnic",
   "metadata": {
    "id": "iGCkGWyO97d4",
    "papermill": {
     "duration": 0.028073,
     "end_time": "2021-05-30T18:39:27.966668",
     "exception": false,
     "start_time": "2021-05-30T18:39:27.938595",
     "status": "completed"
    },
    "tags": []
   },
   "source": [
    "### Short description\n",
    "This notebook is a part of [Data Sprint #35: Osteoarthritis Knee X-ray](https://dphi.tech/challenges/data-sprint-35-osteoarthritis-knee-x-ray/81/leaderboard/datathon/) challenge hosted on [dphi.tech](https://dphi.tech/)"
   ]
  },
  {
   "cell_type": "markdown",
   "id": "million-monaco",
   "metadata": {
    "papermill": {
     "duration": 0.026241,
     "end_time": "2021-05-30T18:39:28.019714",
     "exception": false,
     "start_time": "2021-05-30T18:39:27.993473",
     "status": "completed"
    },
    "tags": []
   },
   "source": [
    "## Importing dependencies"
   ]
  },
  {
   "cell_type": "code",
   "execution_count": 1,
   "id": "floating-cincinnati",
   "metadata": {
    "execution": {
     "iopub.execute_input": "2021-05-30T18:39:28.086573Z",
     "iopub.status.busy": "2021-05-30T18:39:28.085923Z",
     "iopub.status.idle": "2021-05-30T18:39:32.847126Z",
     "shell.execute_reply": "2021-05-30T18:39:32.846068Z",
     "shell.execute_reply.started": "2021-05-30T09:28:36.967323Z"
    },
    "id": "RcTz0DX991Q6",
    "papermill": {
     "duration": 4.80129,
     "end_time": "2021-05-30T18:39:32.847355",
     "exception": false,
     "start_time": "2021-05-30T18:39:28.046065",
     "status": "completed"
    },
    "tags": []
   },
   "outputs": [],
   "source": [
    "%matplotlib inline\n",
    "import numpy as np \n",
    "import pandas as pd\n",
    "import os\n",
    "from glob import glob\n",
    "import matplotlib.pyplot as plt\n",
    "from keras_preprocessing.image import ImageDataGenerator\n",
    "from tensorflow.keras.applications import Xception\n",
    "from tensorflow.keras.layers import GlobalAveragePooling2D\n",
    "import tensorflow as tf\n",
    "from tensorflow.keras.callbacks import ModelCheckpoint, EarlyStopping, ReduceLROnPlateau\n",
    "from keras.models import Model"
   ]
  },
  {
   "cell_type": "markdown",
   "id": "express-discipline",
   "metadata": {
    "id": "io5VkEih9-u_",
    "papermill": {
     "duration": 0.026573,
     "end_time": "2021-05-30T18:39:32.900510",
     "exception": false,
     "start_time": "2021-05-30T18:39:32.873937",
     "status": "completed"
    },
    "tags": []
   },
   "source": [
    "# Basic Idea\n",
    "The Basic idea is to use external data present in kaggle here: [Kaggle: Knee Osteoarthritis Dataset with KL Grading - 2018](https://www.kaggle.com/tommyngx/kneeoa)\n",
    "\n",
    "As we have labels for train, validation and test, we will combine all splits into one and test it on dataset provided by the compitition team, this will make sure kaggle dataset and compitition dataset has same data distribution.\n",
    "\n",
    "If train(kaggle dataset) and test (compition dataset) data has same distribution then their metric score should be roughy be the same (accuracy score in our case)."
   ]
  },
  {
   "cell_type": "markdown",
   "id": "rotary-prague",
   "metadata": {
    "papermill": {
     "duration": 0.025647,
     "end_time": "2021-05-30T18:39:32.952047",
     "exception": false,
     "start_time": "2021-05-30T18:39:32.926400",
     "status": "completed"
    },
    "tags": []
   },
   "source": [
    "# Read And Combining train dataset (kaggle dataset)"
   ]
  },
  {
   "cell_type": "code",
   "execution_count": 2,
   "id": "emotional-valuable",
   "metadata": {
    "execution": {
     "iopub.execute_input": "2021-05-30T18:39:33.012157Z",
     "iopub.status.busy": "2021-05-30T18:39:33.011596Z",
     "iopub.status.idle": "2021-05-30T18:39:35.556063Z",
     "shell.execute_reply": "2021-05-30T18:39:35.555555Z",
     "shell.execute_reply.started": "2021-05-30T09:28:38.947982Z"
    },
    "id": "urSEnaIU91Q-",
    "outputId": "ff1217bf-5ce7-4e9e-b7b9-acff10a56576",
    "papermill": {
     "duration": 2.57776,
     "end_time": "2021-05-30T18:39:35.556225",
     "exception": false,
     "start_time": "2021-05-30T18:39:32.978465",
     "status": "completed"
    },
    "tags": []
   },
   "outputs": [],
   "source": [
    "# number of class\n",
    "n_class = 5\n",
    "\n",
    "# path to kaggle dataset\n",
    "root_path = \"/kaggle/input/kneeoa/\"\n",
    "\n",
    "# list of folders\n",
    "folder_list = os.listdir(root_path)\n",
    "image_path_list = []\n",
    "label_list = []\n",
    "\n",
    "# for each folder, get the image path and labels\n",
    "for folder in folder_list:\n",
    "    for label in range(n_class):\n",
    "        \n",
    "        # get all the images path inside the current folder\n",
    "        image_list = os.listdir(f\"{root_path}{folder}/{label}\")\n",
    "        # add to the image path list\n",
    "        image_path_list += [ f\"{root_path}{folder}/{label}/\"+ path for path in image_list]\n",
    "        \n",
    "        # add labels to the label list\n",
    "        label_list += [label] * len(image_list)\n",
    "\n",
    "# convert to dataframe\n",
    "df_train_kaggle = pd.DataFrame({\"filepath\" : image_path_list, \"label\": label_list})"
   ]
  },
  {
   "cell_type": "code",
   "execution_count": 3,
   "id": "signal-responsibility",
   "metadata": {
    "execution": {
     "iopub.execute_input": "2021-05-30T18:39:35.618734Z",
     "iopub.status.busy": "2021-05-30T18:39:35.617931Z",
     "iopub.status.idle": "2021-05-30T18:39:35.621117Z",
     "shell.execute_reply": "2021-05-30T18:39:35.621576Z",
     "shell.execute_reply.started": "2021-05-30T09:28:40.244589Z"
    },
    "papermill": {
     "duration": 0.03629,
     "end_time": "2021-05-30T18:39:35.621716",
     "exception": false,
     "start_time": "2021-05-30T18:39:35.585426",
     "status": "completed"
    },
    "tags": []
   },
   "outputs": [
    {
     "data": {
      "text/plain": [
       "(9786, 2)"
      ]
     },
     "execution_count": 3,
     "metadata": {},
     "output_type": "execute_result"
    }
   ],
   "source": [
    "df_train_kaggle.shape"
   ]
  },
  {
   "cell_type": "markdown",
   "id": "hairy-greene",
   "metadata": {
    "papermill": {
     "duration": 0.030406,
     "end_time": "2021-05-30T18:39:35.680660",
     "exception": false,
     "start_time": "2021-05-30T18:39:35.650254",
     "status": "completed"
    },
    "tags": []
   },
   "source": [
    "### Observation\n",
    "we have total of 9786 images in kaggle dataset. We will use data to train the deep learning model\n",
    "# Lets look at class distribution"
   ]
  },
  {
   "cell_type": "code",
   "execution_count": 4,
   "id": "therapeutic-spending",
   "metadata": {
    "execution": {
     "iopub.execute_input": "2021-05-30T18:39:35.750000Z",
     "iopub.status.busy": "2021-05-30T18:39:35.749277Z",
     "iopub.status.idle": "2021-05-30T18:39:35.918362Z",
     "shell.execute_reply": "2021-05-30T18:39:35.918766Z",
     "shell.execute_reply.started": "2021-05-30T09:28:41.597346Z"
    },
    "papermill": {
     "duration": 0.208649,
     "end_time": "2021-05-30T18:39:35.918905",
     "exception": false,
     "start_time": "2021-05-30T18:39:35.710256",
     "status": "completed"
    },
    "tags": []
   },
   "outputs": [
    {
     "data": {
      "text/plain": [
       "Text(0, 0.5, 'count')"
      ]
     },
     "execution_count": 4,
     "metadata": {},
     "output_type": "execute_result"
    },
    {
     "data": {
      "image/png": "[encoded data removed]",
      "text/plain": [
       "<Figure size 432x288 with 1 Axes>"
      ]
     },
     "metadata": {
      "needs_background": "light"
     },
     "output_type": "display_data"
    }
   ],
   "source": [
    "df_train_kaggle.label.value_counts().plot.bar()\n",
    "plt.xlabel(\"label\")\n",
    "plt.ylabel(\"count\")"
   ]
  },
  {
   "cell_type": "markdown",
   "id": "cognitive-calendar",
   "metadata": {
    "papermill": {
     "duration": 0.027966,
     "end_time": "2021-05-30T18:39:35.973791",
     "exception": false,
     "start_time": "2021-05-30T18:39:35.945825",
     "status": "completed"
    },
    "tags": []
   },
   "source": [
    "### Observation\n",
    "As our dataset is imbalanced, we will balance our class by weighting majority class less and minoiry class more"
   ]
  },
  {
   "cell_type": "markdown",
   "id": "dense-enzyme",
   "metadata": {
    "id": "VIH9d58o_DLz",
    "papermill": {
     "duration": 0.028255,
     "end_time": "2021-05-30T18:39:36.030250",
     "exception": false,
     "start_time": "2021-05-30T18:39:36.001995",
     "status": "completed"
    },
    "tags": []
   },
   "source": [
    "## DataGenerator train and validation\n",
    "We will use kaggle dataset as train set and compitition dataset as validation set. If train and validation metric is similar, it shows their distribution is similar and hence we can use kaggle dataset as well."
   ]
  },
  {
   "cell_type": "code",
   "execution_count": 5,
   "id": "encouraging-novel",
   "metadata": {
    "execution": {
     "iopub.execute_input": "2021-05-30T18:39:36.090553Z",
     "iopub.status.busy": "2021-05-30T18:39:36.089729Z",
     "iopub.status.idle": "2021-05-30T18:39:36.092340Z",
     "shell.execute_reply": "2021-05-30T18:39:36.091828Z",
     "shell.execute_reply.started": "2021-05-30T09:28:44.189248Z"
    },
    "id": "VrchCvl291RC",
    "papermill": {
     "duration": 0.035021,
     "end_time": "2021-05-30T18:39:36.092447",
     "exception": false,
     "start_time": "2021-05-30T18:39:36.057426",
     "status": "completed"
    },
    "tags": []
   },
   "outputs": [],
   "source": [
    "# train data generator object\n",
    "train_aug = ImageDataGenerator(rescale=1./255)\n",
    "\n",
    "# validation data generator object\n",
    "valid_aug = ImageDataGenerator(rescale=1./255)"
   ]
  },
  {
   "cell_type": "code",
   "execution_count": 6,
   "id": "geological-philadelphia",
   "metadata": {
    "execution": {
     "iopub.execute_input": "2021-05-30T18:39:36.172890Z",
     "iopub.status.busy": "2021-05-30T18:39:36.167698Z",
     "iopub.status.idle": "2021-05-30T18:39:39.954054Z",
     "shell.execute_reply": "2021-05-30T18:39:39.954888Z",
     "shell.execute_reply.started": "2021-05-30T09:28:47.478488Z"
    },
    "id": "nU1xBx-G91RD",
    "outputId": "347a1e8b-0517-443e-f7b5-dc0ee58ae8d4",
    "papermill": {
     "duration": 3.835127,
     "end_time": "2021-05-30T18:39:39.955083",
     "exception": false,
     "start_time": "2021-05-30T18:39:36.119956",
     "status": "completed"
    },
    "tags": []
   },
   "outputs": [
    {
     "name": "stdout",
     "output_type": "stream",
     "text": [
      "Found 9786 validated image filenames.\n"
     ]
    }
   ],
   "source": [
    "# create train generator\n",
    "train_generator = train_aug.flow_from_dataframe(\n",
    "dataframe=df_train_kaggle,\n",
    "directory=None,\n",
    "x_col=\"filepath\",\n",
    "y_col=\"label\",\n",
    "batch_size=32,\n",
    "seed=42,\n",
    "shuffle=True,\n",
    "class_mode=\"raw\",\n",
    "target_size=(224,224))"
   ]
  },
  {
   "cell_type": "markdown",
   "id": "asian-chest",
   "metadata": {
    "papermill": {
     "duration": 0.027295,
     "end_time": "2021-05-30T18:39:40.011354",
     "exception": false,
     "start_time": "2021-05-30T18:39:39.984059",
     "status": "completed"
    },
    "tags": []
   },
   "source": [
    "# Create validation dataframe using compitition dataset.\n",
    "We will download compition dataset from gdrive and use it as validation set to validated against kaggle dataset"
   ]
  },
  {
   "cell_type": "code",
   "execution_count": 7,
   "id": "opening-there",
   "metadata": {
    "execution": {
     "iopub.execute_input": "2021-05-30T18:39:40.083024Z",
     "iopub.status.busy": "2021-05-30T18:39:40.070866Z",
     "iopub.status.idle": "2021-05-30T18:39:59.971445Z",
     "shell.execute_reply": "2021-05-30T18:39:59.970929Z",
     "shell.execute_reply.started": "2021-05-30T08:33:03.440635Z"
    },
    "papermill": {
     "duration": 19.932071,
     "end_time": "2021-05-30T18:39:59.971577",
     "exception": false,
     "start_time": "2021-05-30T18:39:40.039506",
     "status": "completed"
    },
    "tags": []
   },
   "outputs": [
    {
     "name": "stdout",
     "output_type": "stream",
     "text": [
      "Collecting gdown\r\n",
      "  Downloading gdown-3.13.0.tar.gz (9.3 kB)\r\n",
      "  Installing build dependencies ... \u001b[?25l-\b \b\\\b \b|\b \b/\b \b-\b \bdone\r\n",
      "\u001b[?25h  Getting requirements to build wheel ... \u001b[?25l-\b \bdone\r\n",
      "\u001b[?25h    Preparing wheel metadata ... \u001b[?25l-\b \bdone\r\n",
      "\u001b[?25hRequirement already satisfied: tqdm in /opt/conda/lib/python3.7/site-packages (from gdown) (4.59.0)\r\n",
      "Requirement already satisfied: filelock in /opt/conda/lib/python3.7/site-packages (from gdown) (3.0.12)\r\n",
      "Requirement already satisfied: requests[socks]>=2.12.0 in /opt/conda/lib/python3.7/site-packages (from gdown) (2.25.1)\r\n",
      "Requirement already satisfied: six in /opt/conda/lib/python3.7/site-packages (from gdown) (1.15.0)\r\n",
      "Requirement already satisfied: idna<3,>=2.5 in /opt/conda/lib/python3.7/site-packages (from requests[socks]>=2.12.0->gdown) (2.10)\r\n",
      "Requirement already satisfied: certifi>=2017.4.17 in /opt/conda/lib/python3.7/site-packages (from requests[socks]>=2.12.0->gdown) (2020.12.5)\r\n",
      "Requirement already satisfied: chardet<5,>=3.0.2 in /opt/conda/lib/python3.7/site-packages (from requests[socks]>=2.12.0->gdown) (4.0.0)\r\n",
      "Requirement already satisfied: urllib3<1.27,>=1.21.1 in /opt/conda/lib/python3.7/site-packages (from requests[socks]>=2.12.0->gdown) (1.26.4)\r\n",
      "Requirement already satisfied: PySocks!=1.5.7,>=1.5.6 in /opt/conda/lib/python3.7/site-packages (from requests[socks]>=2.12.0->gdown) (1.7.1)\r\n",
      "Building wheels for collected packages: gdown\r\n",
      "  Building wheel for gdown (PEP 517) ... \u001b[?25l-\b \bdone\r\n",
      "\u001b[?25h  Created wheel for gdown: filename=gdown-3.13.0-py3-none-any.whl size=9034 sha256=c793beb0da2ea92b5e7a778b64d9e2e5abeb79380d94bd77a13e42f48534139f\r\n",
      "  Stored in directory: /root/.cache/pip/wheels/2f/2a/2f/86449b6bdbaa9aef873f68332b68be6bfbc386b9219f47157d\r\n",
      "Successfully built gdown\r\n",
      "Installing collected packages: gdown\r\n",
      "Successfully installed gdown-3.13.0\r\n",
      "Downloading...\r\n",
      "From: https://drive.google.com/uc?id=1NdDqPK4NLn2aV8ZdF5ilux1sfG6IyebC\r\n",
      "To: /kaggle/working/KneeXray.zip\r\n",
      "120MB [00:00, 128MB/s]\r\n"
     ]
    }
   ],
   "source": [
    "# download data from shared google drive link\n",
    "!pip install gdown\n",
    "!gdown --id \"1NdDqPK4NLn2aV8ZdF5ilux1sfG6IyebC\""
   ]
  },
  {
   "cell_type": "code",
   "execution_count": 8,
   "id": "controlled-macedonia",
   "metadata": {
    "execution": {
     "iopub.execute_input": "2021-05-30T18:40:00.065743Z",
     "iopub.status.busy": "2021-05-30T18:40:00.063845Z",
     "iopub.status.idle": "2021-05-30T18:40:02.157906Z",
     "shell.execute_reply": "2021-05-30T18:40:02.157449Z",
     "shell.execute_reply.started": "2021-05-30T08:33:21.245827Z"
    },
    "papermill": {
     "duration": 2.152312,
     "end_time": "2021-05-30T18:40:02.158032",
     "exception": false,
     "start_time": "2021-05-30T18:40:00.005720",
     "status": "completed"
    },
    "tags": []
   },
   "outputs": [],
   "source": [
    "# unzip the data\n",
    "!unzip -q -o /kaggle/working/KneeXray.zip -d /kaggle/working/"
   ]
  },
  {
   "cell_type": "code",
   "execution_count": 9,
   "id": "threaded-characterization",
   "metadata": {
    "execution": {
     "iopub.execute_input": "2021-05-30T18:40:02.229132Z",
     "iopub.status.busy": "2021-05-30T18:40:02.228400Z",
     "iopub.status.idle": "2021-05-30T18:40:02.250117Z",
     "shell.execute_reply": "2021-05-30T18:40:02.250642Z",
     "shell.execute_reply.started": "2021-05-30T08:33:23.833280Z"
    },
    "papermill": {
     "duration": 0.059732,
     "end_time": "2021-05-30T18:40:02.250775",
     "exception": false,
     "start_time": "2021-05-30T18:40:02.191043",
     "status": "completed"
    },
    "tags": []
   },
   "outputs": [
    {
     "data": {
      "text/html": [
       "<div>\n",
       "<style scoped>\n",
       "    .dataframe tbody tr th:only-of-type {\n",
       "        vertical-align: middle;\n",
       "    }\n",
       "\n",
       "    .dataframe tbody tr th {\n",
       "        vertical-align: top;\n",
       "    }\n",
       "\n",
       "    .dataframe thead th {\n",
       "        text-align: right;\n",
       "    }\n",
       "</style>\n",
       "<table border=\"1\" class=\"dataframe\">\n",
       "  <thead>\n",
       "    <tr style=\"text-align: right;\">\n",
       "      <th></th>\n",
       "      <th>filename</th>\n",
       "      <th>label</th>\n",
       "    </tr>\n",
       "  </thead>\n",
       "  <tbody>\n",
       "    <tr>\n",
       "      <th>0</th>\n",
       "      <td>/kaggle/working/KneeXray/train/Image_1.jpg</td>\n",
       "      <td>0</td>\n",
       "    </tr>\n",
       "    <tr>\n",
       "      <th>1</th>\n",
       "      <td>/kaggle/working/KneeXray/train/Image_2.jpg</td>\n",
       "      <td>1</td>\n",
       "    </tr>\n",
       "    <tr>\n",
       "      <th>2</th>\n",
       "      <td>/kaggle/working/KneeXray/train/Image_3.jpg</td>\n",
       "      <td>0</td>\n",
       "    </tr>\n",
       "    <tr>\n",
       "      <th>3</th>\n",
       "      <td>/kaggle/working/KneeXray/train/Image_4.jpg</td>\n",
       "      <td>1</td>\n",
       "    </tr>\n",
       "    <tr>\n",
       "      <th>4</th>\n",
       "      <td>/kaggle/working/KneeXray/train/Image_5.jpg</td>\n",
       "      <td>2</td>\n",
       "    </tr>\n",
       "  </tbody>\n",
       "</table>\n",
       "</div>"
      ],
      "text/plain": [
       "                                     filename  label\n",
       "0  /kaggle/working/KneeXray/train/Image_1.jpg      0\n",
       "1  /kaggle/working/KneeXray/train/Image_2.jpg      1\n",
       "2  /kaggle/working/KneeXray/train/Image_3.jpg      0\n",
       "3  /kaggle/working/KneeXray/train/Image_4.jpg      1\n",
       "4  /kaggle/working/KneeXray/train/Image_5.jpg      2"
      ]
     },
     "execution_count": 9,
     "metadata": {},
     "output_type": "execute_result"
    }
   ],
   "source": [
    "# read Train.csv file which contains image names and labels and preprocess them\n",
    "compi_root_path= \"/kaggle/working/KneeXray/\"\n",
    "df_val_compi = pd.read_csv(compi_root_path + \"Train.csv\")\n",
    "\n",
    "# add absolute path to the image names\n",
    "df_val_compi[\"filename\"] = df_val_compi.filename.apply(lambda x: compi_root_path+\"train/\" + x)\n",
    "df_val_compi.head()"
   ]
  },
  {
   "cell_type": "code",
   "execution_count": 10,
   "id": "suburban-shareware",
   "metadata": {
    "execution": {
     "iopub.execute_input": "2021-05-30T18:40:02.339459Z",
     "iopub.status.busy": "2021-05-30T18:40:02.324109Z",
     "iopub.status.idle": "2021-05-30T18:40:02.442504Z",
     "shell.execute_reply": "2021-05-30T18:40:02.442056Z",
     "shell.execute_reply.started": "2021-05-30T08:33:23.865039Z"
    },
    "papermill": {
     "duration": 0.158988,
     "end_time": "2021-05-30T18:40:02.442618",
     "exception": false,
     "start_time": "2021-05-30T18:40:02.283630",
     "status": "completed"
    },
    "tags": []
   },
   "outputs": [
    {
     "data": {
      "text/plain": [
       "Text(0, 0.5, 'count')"
      ]
     },
     "execution_count": 10,
     "metadata": {},
     "output_type": "execute_result"
    },
    {
     "data": {
      "image/png": "[encoded data removed]",
      "text/plain": [
       "<Figure size 432x288 with 1 Axes>"
      ]
     },
     "metadata": {
      "needs_background": "light"
     },
     "output_type": "display_data"
    }
   ],
   "source": [
    "# class count of compitition dataset\n",
    "df_val_compi.label.value_counts().plot.bar()\n",
    "plt.xlabel(\"label\")\n",
    "plt.ylabel(\"count\")"
   ]
  },
  {
   "cell_type": "code",
   "execution_count": 11,
   "id": "saving-homework",
   "metadata": {
    "execution": {
     "iopub.execute_input": "2021-05-30T18:40:02.529039Z",
     "iopub.status.busy": "2021-05-30T18:40:02.528305Z",
     "iopub.status.idle": "2021-05-30T18:40:02.574290Z",
     "shell.execute_reply": "2021-05-30T18:40:02.574903Z",
     "shell.execute_reply.started": "2021-05-30T08:54:21.600981Z"
    },
    "id": "p_d_De3_91RE",
    "outputId": "b4da3cb0-33e6-40eb-e4e4-710957e337a1",
    "papermill": {
     "duration": 0.098388,
     "end_time": "2021-05-30T18:40:02.575081",
     "exception": false,
     "start_time": "2021-05-30T18:40:02.476693",
     "status": "completed"
    },
    "tags": []
   },
   "outputs": [
    {
     "name": "stdout",
     "output_type": "stream",
     "text": [
      "Found 7828 validated image filenames.\n"
     ]
    }
   ],
   "source": [
    "# create validation generator\n",
    "valid_generator = valid_aug.flow_from_dataframe( \n",
    "dataframe= df_val_compi,\n",
    "x_col= \"filename\",\n",
    "y_col= \"label\",\n",
    "batch_size= 32,\n",
    "seed= 42,\n",
    "shuffle= True,\n",
    "class_mode= \"raw\",\n",
    "target_size= (224,224))"
   ]
  },
  {
   "cell_type": "markdown",
   "id": "marked-belarus",
   "metadata": {
    "id": "ui37veHu_ZGd",
    "papermill": {
     "duration": 0.033792,
     "end_time": "2021-05-30T18:40:02.643887",
     "exception": false,
     "start_time": "2021-05-30T18:40:02.610095",
     "status": "completed"
    },
    "tags": []
   },
   "source": [
    "### Model Architecture\n",
    "Here we will be using Xception by google. (I encourage you to try different architectures)"
   ]
  },
  {
   "cell_type": "code",
   "execution_count": 12,
   "id": "buried-tablet",
   "metadata": {
    "execution": {
     "iopub.execute_input": "2021-05-30T18:40:02.724467Z",
     "iopub.status.busy": "2021-05-30T18:40:02.723830Z",
     "iopub.status.idle": "2021-05-30T18:40:08.132744Z",
     "shell.execute_reply": "2021-05-30T18:40:08.131632Z",
     "shell.execute_reply.started": "2021-05-30T09:28:56.068101Z"
    },
    "id": "hCEJz92_91RF",
    "outputId": "1127ca7c-5c92-43c2-8e00-35460cd25e7f",
    "papermill": {
     "duration": 5.455093,
     "end_time": "2021-05-30T18:40:08.132878",
     "exception": false,
     "start_time": "2021-05-30T18:40:02.677785",
     "status": "completed"
    },
    "tags": []
   },
   "outputs": [
    {
     "name": "stdout",
     "output_type": "stream",
     "text": [
      "Downloading data from https://storage.googleapis.com/tensorflow/keras-applications/xception/xception_weights_tf_dim_ordering_tf_kernels.h5\n",
      "91889664/91884032 [==============================] - 1s 0us/step\n"
     ]
    }
   ],
   "source": [
    "xception = Xception(weights=\"imagenet\",)\n",
    "x=  xception.layers[-3].output\n",
    "\n",
    "x = tf.keras.layers.Conv2D(filters= 1024, kernel_size= 3, padding= \"same\")(x)\n",
    "x = tf.keras.layers.BatchNormalization()(x)\n",
    "x = tf.keras.layers.Activation(\"relu\")(x)\n",
    "\n",
    "x = tf.keras.layers.Conv2D(filters= 256, kernel_size= 3, padding= \"same\")(x)\n",
    "x = tf.keras.layers.BatchNormalization()(x)\n",
    "x = tf.keras.layers.Activation(\"relu\")(x)\n",
    "\n",
    "x = tf.keras.layers.Conv2D(filters= 64, kernel_size= 3, padding= \"same\")(x)\n",
    "x = tf.keras.layers.BatchNormalization()(x)\n",
    "x = tf.keras.layers.Activation(\"relu\")(x)\n",
    "\n",
    "x = tf.keras.layers.Conv2D(filters= n_class, kernel_size= 3, padding= \"same\")(x)\n",
    "x = tf.keras.layers.BatchNormalization()(x)\n",
    "x = tf.keras.layers.Activation(\"relu\")(x)\n",
    "\n",
    "GAP = tf.keras.layers.GlobalAveragePooling2D()(x)\n",
    "pred = tf.keras.activations.softmax(GAP)\n",
    "\n",
    "xception_model = Model(inputs=xception.input,outputs=pred)"
   ]
  },
  {
   "cell_type": "code",
   "execution_count": 13,
   "id": "norman-detector",
   "metadata": {
    "execution": {
     "iopub.execute_input": "2021-05-30T18:40:08.391663Z",
     "iopub.status.busy": "2021-05-30T18:40:08.385701Z",
     "iopub.status.idle": "2021-05-30T18:40:08.398432Z",
     "shell.execute_reply": "2021-05-30T18:40:08.397997Z",
     "shell.execute_reply.started": "2021-05-30T09:28:58.465217Z"
    },
    "id": "p9cMWPzr91RH",
    "papermill": {
     "duration": 0.226948,
     "end_time": "2021-05-30T18:40:08.398547",
     "exception": false,
     "start_time": "2021-05-30T18:40:08.171599",
     "status": "completed"
    },
    "tags": []
   },
   "outputs": [],
   "source": [
    "# compile\n",
    "xception_model.compile(optimizer = tf.keras.optimizers.Adam(learning_rate=0.00001,decay=0.0001),\n",
    "                 metrics=[\"acc\"],\n",
    "                 loss= tf.keras.losses.sparse_categorical_crossentropy)\n",
    "\n",
    "# callbacks and checkpoints\n",
    "checkpoint_path = \"xception_best.ckpt\"\n",
    "checkpoint_dir = os.path.dirname(checkpoint_path)\n",
    "my_callbacks = [\n",
    "               ModelCheckpoint(checkpoint_path,\n",
    "                               monitor = 'val_acc',\n",
    "                               verbose = 1,\n",
    "                               save_weights_only=True,\n",
    "                               save_best_only = True,\n",
    "                               mode=\"max\"),\n",
    "              EarlyStopping(monitor='val_loss',\n",
    "                            patience=5,\n",
    "                            verbose=0),\n",
    "              ReduceLROnPlateau(monitor='val_loss',\n",
    "                                patience=5,\n",
    "                                verbose=1)\n",
    "]"
   ]
  },
  {
   "cell_type": "markdown",
   "id": "crucial-administration",
   "metadata": {
    "id": "zZJxCg3B_k_f",
    "papermill": {
     "duration": 0.038495,
     "end_time": "2021-05-30T18:40:08.475329",
     "exception": false,
     "start_time": "2021-05-30T18:40:08.436834",
     "status": "completed"
    },
    "tags": []
   },
   "source": [
    "### Weighting classes\n",
    "As we have unevenly class distibution, we will weight them based on the number of samples"
   ]
  },
  {
   "cell_type": "code",
   "execution_count": 14,
   "id": "regional-indie",
   "metadata": {
    "execution": {
     "iopub.execute_input": "2021-05-30T18:40:08.558435Z",
     "iopub.status.busy": "2021-05-30T18:40:08.557616Z",
     "iopub.status.idle": "2021-05-30T18:40:09.060821Z",
     "shell.execute_reply": "2021-05-30T18:40:09.060357Z",
     "shell.execute_reply.started": "2021-05-30T09:30:11.007618Z"
    },
    "papermill": {
     "duration": 0.546357,
     "end_time": "2021-05-30T18:40:09.060960",
     "exception": false,
     "start_time": "2021-05-30T18:40:08.514603",
     "status": "completed"
    },
    "tags": []
   },
   "outputs": [],
   "source": [
    "from sklearn.utils import class_weight\n",
    "class_weights = class_weight.compute_class_weight('balanced',\n",
    "                                                 classes= np.unique(df_train_kaggle.label.values),\n",
    "                                                 y= df_train_kaggle.label.values)\n",
    "class_weights = dict(enumerate(class_weights))"
   ]
  },
  {
   "cell_type": "markdown",
   "id": "square-better",
   "metadata": {
    "papermill": {
     "duration": 0.037503,
     "end_time": "2021-05-30T18:40:09.136492",
     "exception": false,
     "start_time": "2021-05-30T18:40:09.098989",
     "status": "completed"
    },
    "tags": []
   },
   "source": [
    "# Train\n",
    "Lets roll"
   ]
  },
  {
   "cell_type": "code",
   "execution_count": 15,
   "id": "hidden-stephen",
   "metadata": {
    "execution": {
     "iopub.execute_input": "2021-05-30T18:40:09.218272Z",
     "iopub.status.busy": "2021-05-30T18:40:09.217728Z",
     "iopub.status.idle": "2021-05-30T20:12:12.156502Z",
     "shell.execute_reply": "2021-05-30T20:12:12.154537Z",
     "shell.execute_reply.started": "2021-05-26T18:49:57.904339Z"
    },
    "id": "ZS9ZDJBG91RI",
    "outputId": "4c864283-b7a2-4075-bb8c-46164c13244b",
    "papermill": {
     "duration": 5522.981999,
     "end_time": "2021-05-30T20:12:12.156678",
     "exception": false,
     "start_time": "2021-05-30T18:40:09.174679",
     "status": "completed"
    },
    "tags": []
   },
   "outputs": [
    {
     "name": "stdout",
     "output_type": "stream",
     "text": [
      "Epoch 1/100\n",
      "306/306 [==============================] - 160s 492ms/step - loss: 1.4874 - acc: 0.2672 - val_loss: 1.5530 - val_acc: 0.3222\n",
      "\n",
      "Epoch 00001: val_acc improved from -inf to 0.32218, saving model to xception_best.ckpt\n",
      "Epoch 2/100\n",
      "306/306 [==============================] - 148s 485ms/step - loss: 1.1988 - acc: 0.4614 - val_loss: 1.5651 - val_acc: 0.3591\n",
      "\n",
      "Epoch 00002: val_acc improved from 0.32218 to 0.35910, saving model to xception_best.ckpt\n",
      "Epoch 3/100\n",
      "306/306 [==============================] - 148s 484ms/step - loss: 1.0371 - acc: 0.5566 - val_loss: 1.2076 - val_acc: 0.5902\n",
      "\n",
      "Epoch 00003: val_acc improved from 0.35910 to 0.59019, saving model to xception_best.ckpt\n",
      "Epoch 4/100\n",
      "306/306 [==============================] - 149s 486ms/step - loss: 0.9348 - acc: 0.6363 - val_loss: 1.1493 - val_acc: 0.6316\n",
      "\n",
      "Epoch 00004: val_acc improved from 0.59019 to 0.63158, saving model to xception_best.ckpt\n",
      "Epoch 5/100\n",
      "306/306 [==============================] - 148s 485ms/step - loss: 0.8530 - acc: 0.7020 - val_loss: 1.0722 - val_acc: 0.6790\n",
      "\n",
      "Epoch 00005: val_acc improved from 0.63158 to 0.67897, saving model to xception_best.ckpt\n",
      "Epoch 6/100\n",
      "306/306 [==============================] - 148s 483ms/step - loss: 0.7746 - acc: 0.7695 - val_loss: 1.0340 - val_acc: 0.7029\n",
      "\n",
      "Epoch 00006: val_acc improved from 0.67897 to 0.70286, saving model to xception_best.ckpt\n",
      "Epoch 7/100\n",
      "306/306 [==============================] - 148s 484ms/step - loss: 0.7090 - acc: 0.8196 - val_loss: 1.0083 - val_acc: 0.7275\n",
      "\n",
      "Epoch 00007: val_acc improved from 0.70286 to 0.72752, saving model to xception_best.ckpt\n",
      "Epoch 8/100\n",
      "306/306 [==============================] - 148s 483ms/step - loss: 0.6454 - acc: 0.8630 - val_loss: 0.9438 - val_acc: 0.7583\n",
      "\n",
      "Epoch 00008: val_acc improved from 0.72752 to 0.75830, saving model to xception_best.ckpt\n",
      "Epoch 9/100\n",
      "306/306 [==============================] - 148s 484ms/step - loss: 0.6061 - acc: 0.8911 - val_loss: 0.9440 - val_acc: 0.7789\n",
      "\n",
      "Epoch 00009: val_acc improved from 0.75830 to 0.77887, saving model to xception_best.ckpt\n",
      "Epoch 10/100\n",
      "306/306 [==============================] - 148s 484ms/step - loss: 0.5803 - acc: 0.9061 - val_loss: 0.9142 - val_acc: 0.8066\n",
      "\n",
      "Epoch 00010: val_acc improved from 0.77887 to 0.80659, saving model to xception_best.ckpt\n",
      "Epoch 11/100\n",
      "306/306 [==============================] - 148s 483ms/step - loss: 0.5471 - acc: 0.9301 - val_loss: 0.8658 - val_acc: 0.8360\n",
      "\n",
      "Epoch 00011: val_acc improved from 0.80659 to 0.83597, saving model to xception_best.ckpt\n",
      "Epoch 12/100\n",
      "306/306 [==============================] - 148s 484ms/step - loss: 0.5287 - acc: 0.9421 - val_loss: 0.8679 - val_acc: 0.8422\n",
      "\n",
      "Epoch 00012: val_acc improved from 0.83597 to 0.84223, saving model to xception_best.ckpt\n",
      "Epoch 13/100\n",
      "306/306 [==============================] - 148s 484ms/step - loss: 0.5132 - acc: 0.9535 - val_loss: 0.8593 - val_acc: 0.8417\n",
      "\n",
      "Epoch 00013: val_acc did not improve from 0.84223\n",
      "Epoch 14/100\n",
      "306/306 [==============================] - 148s 483ms/step - loss: 0.5005 - acc: 0.9614 - val_loss: 0.8377 - val_acc: 0.8617\n",
      "\n",
      "Epoch 00014: val_acc improved from 0.84223 to 0.86165, saving model to xception_best.ckpt\n",
      "Epoch 15/100\n",
      "306/306 [==============================] - 148s 484ms/step - loss: 0.4864 - acc: 0.9702 - val_loss: 0.8055 - val_acc: 0.8853\n",
      "\n",
      "Epoch 00015: val_acc improved from 0.86165 to 0.88528, saving model to xception_best.ckpt\n",
      "Epoch 16/100\n",
      "306/306 [==============================] - 148s 483ms/step - loss: 0.4777 - acc: 0.9769 - val_loss: 0.8384 - val_acc: 0.8509\n",
      "\n",
      "Epoch 00016: val_acc did not improve from 0.88528\n",
      "Epoch 17/100\n",
      "306/306 [==============================] - 148s 484ms/step - loss: 0.4672 - acc: 0.9809 - val_loss: 0.8044 - val_acc: 0.8761\n",
      "\n",
      "Epoch 00017: val_acc did not improve from 0.88528\n",
      "Epoch 18/100\n",
      "306/306 [==============================] - 148s 483ms/step - loss: 0.4656 - acc: 0.9811 - val_loss: 0.7888 - val_acc: 0.8950\n",
      "\n",
      "Epoch 00018: val_acc improved from 0.88528 to 0.89499, saving model to xception_best.ckpt\n",
      "Epoch 19/100\n",
      "306/306 [==============================] - 148s 483ms/step - loss: 0.4561 - acc: 0.9874 - val_loss: 0.8072 - val_acc: 0.8657\n",
      "\n",
      "Epoch 00019: val_acc did not improve from 0.89499\n",
      "Epoch 20/100\n",
      "306/306 [==============================] - 148s 483ms/step - loss: 0.4577 - acc: 0.9811 - val_loss: 0.7691 - val_acc: 0.9060\n",
      "\n",
      "Epoch 00020: val_acc improved from 0.89499 to 0.90598, saving model to xception_best.ckpt\n",
      "Epoch 21/100\n",
      "306/306 [==============================] - 148s 483ms/step - loss: 0.4521 - acc: 0.9864 - val_loss: 0.7740 - val_acc: 0.8869\n",
      "\n",
      "Epoch 00021: val_acc did not improve from 0.90598\n",
      "Epoch 22/100\n",
      "306/306 [==============================] - 148s 484ms/step - loss: 0.4440 - acc: 0.9886 - val_loss: 0.8088 - val_acc: 0.8559\n",
      "\n",
      "Epoch 00022: val_acc did not improve from 0.90598\n",
      "Epoch 23/100\n",
      "306/306 [==============================] - 148s 483ms/step - loss: 0.4400 - acc: 0.9884 - val_loss: 0.7422 - val_acc: 0.9076\n",
      "\n",
      "Epoch 00023: val_acc improved from 0.90598 to 0.90764, saving model to xception_best.ckpt\n",
      "Epoch 24/100\n",
      "306/306 [==============================] - 148s 483ms/step - loss: 0.4299 - acc: 0.9929 - val_loss: 0.7588 - val_acc: 0.8868\n",
      "\n",
      "Epoch 00024: val_acc did not improve from 0.90764\n",
      "Epoch 25/100\n",
      "306/306 [==============================] - 148s 483ms/step - loss: 0.4358 - acc: 0.9909 - val_loss: 0.7410 - val_acc: 0.9024\n",
      "\n",
      "Epoch 00025: val_acc did not improve from 0.90764\n",
      "Epoch 26/100\n",
      "306/306 [==============================] - 148s 483ms/step - loss: 0.4276 - acc: 0.9928 - val_loss: 0.7550 - val_acc: 0.8890\n",
      "\n",
      "Epoch 00026: val_acc did not improve from 0.90764\n",
      "Epoch 27/100\n",
      "306/306 [==============================] - 148s 483ms/step - loss: 0.4255 - acc: 0.9931 - val_loss: 0.7110 - val_acc: 0.9280\n",
      "\n",
      "Epoch 00027: val_acc improved from 0.90764 to 0.92795, saving model to xception_best.ckpt\n",
      "Epoch 28/100\n",
      "306/306 [==============================] - 148s 483ms/step - loss: 0.4236 - acc: 0.9956 - val_loss: 0.7423 - val_acc: 0.8914\n",
      "\n",
      "Epoch 00028: val_acc did not improve from 0.92795\n",
      "Epoch 29/100\n",
      "306/306 [==============================] - 148s 483ms/step - loss: 0.4267 - acc: 0.9920 - val_loss: 0.7546 - val_acc: 0.8753\n",
      "\n",
      "Epoch 00029: val_acc did not improve from 0.92795\n",
      "Epoch 30/100\n",
      "306/306 [==============================] - 148s 483ms/step - loss: 0.4168 - acc: 0.9951 - val_loss: 0.7144 - val_acc: 0.9179\n",
      "\n",
      "Epoch 00030: val_acc did not improve from 0.92795\n",
      "Epoch 31/100\n",
      "306/306 [==============================] - 148s 482ms/step - loss: 0.4182 - acc: 0.9947 - val_loss: 0.7124 - val_acc: 0.9104\n",
      "\n",
      "Epoch 00031: val_acc did not improve from 0.92795\n",
      "Epoch 32/100\n",
      "306/306 [==============================] - 148s 484ms/step - loss: 0.4199 - acc: 0.9949 - val_loss: 0.6851 - val_acc: 0.9287\n",
      "\n",
      "Epoch 00032: val_acc improved from 0.92795 to 0.92872, saving model to xception_best.ckpt\n",
      "Epoch 33/100\n",
      "306/306 [==============================] - 148s 483ms/step - loss: 0.4115 - acc: 0.9956 - val_loss: 0.6989 - val_acc: 0.9165\n",
      "\n",
      "Epoch 00033: val_acc did not improve from 0.92872\n",
      "Epoch 34/100\n",
      "306/306 [==============================] - 148s 483ms/step - loss: 0.4112 - acc: 0.9959 - val_loss: 0.7117 - val_acc: 0.9016\n",
      "\n",
      "Epoch 00034: val_acc did not improve from 0.92872\n",
      "Epoch 35/100\n",
      "306/306 [==============================] - 148s 484ms/step - loss: 0.4095 - acc: 0.9955 - val_loss: 0.7291 - val_acc: 0.8803\n",
      "\n",
      "Epoch 00035: val_acc did not improve from 0.92872\n",
      "Epoch 36/100\n",
      "306/306 [==============================] - 148s 484ms/step - loss: 0.4090 - acc: 0.9953 - val_loss: 0.6901 - val_acc: 0.9186\n",
      "\n",
      "Epoch 00036: val_acc did not improve from 0.92872\n",
      "Epoch 37/100\n",
      "306/306 [==============================] - 148s 484ms/step - loss: 0.4066 - acc: 0.9941 - val_loss: 0.6861 - val_acc: 0.9162\n",
      "\n",
      "Epoch 00037: val_acc did not improve from 0.92872\n",
      "\n",
      "Epoch 00037: ReduceLROnPlateau reducing learning rate to 9.999999747378752e-07.\n"
     ]
    },
    {
     "data": {
      "text/plain": [
       "<tensorflow.python.training.tracking.util.CheckpointLoadStatus at 0x7f53b8f36fd0>"
      ]
     },
     "execution_count": 15,
     "metadata": {},
     "output_type": "execute_result"
    }
   ],
   "source": [
    "# train the model\n",
    "xception_model.fit(\n",
    "        train_generator,\n",
    "        epochs=100,\n",
    "        validation_data=valid_generator,\n",
    "        callbacks=[my_callbacks],\n",
    "        class_weight=class_weights)\n",
    "\n",
    "# load best saved weights\n",
    "xception_model.load_weights(checkpoint_path)"
   ]
  },
  {
   "cell_type": "markdown",
   "id": "pretty-morris",
   "metadata": {
    "id": "yY0voJHC_tQG",
    "papermill": {
     "duration": 3.201635,
     "end_time": "2021-05-30T20:12:18.344310",
     "exception": false,
     "start_time": "2021-05-30T20:12:15.142675",
     "status": "completed"
    },
    "tags": []
   },
   "source": [
    "### Observation\n",
    "As we can see train and validation accuracy is pretty close, which proves kaggle and competition data has come from the same distribution and we can freely use it to experiment with.\n",
    "\n",
    "## Retraining last trained model on competition data\n",
    "As we have used competition data as validation set previously, we will use it as train set now (and some part of it as validation set) hoping this additional training would give our model new information to perform better."
   ]
  },
  {
   "cell_type": "code",
   "execution_count": 16,
   "id": "cloudy-idaho",
   "metadata": {
    "execution": {
     "iopub.execute_input": "2021-05-30T20:12:24.238372Z",
     "iopub.status.busy": "2021-05-30T20:12:24.237660Z",
     "iopub.status.idle": "2021-05-30T20:12:24.305208Z",
     "shell.execute_reply": "2021-05-30T20:12:24.305579Z",
     "shell.execute_reply.started": "2021-05-30T09:30:16.948040Z"
    },
    "id": "xTZKY61591RJ",
    "papermill": {
     "duration": 3.027306,
     "end_time": "2021-05-30T20:12:24.305720",
     "exception": false,
     "start_time": "2021-05-30T20:12:21.278414",
     "status": "completed"
    },
    "tags": []
   },
   "outputs": [],
   "source": [
    "# train and validation split on competition data\n",
    "from sklearn.model_selection import train_test_split\n",
    "X_train, X_test = train_test_split(df_val_compi,\n",
    "                                   test_size=0.1,\n",
    "                                   random_state=42,\n",
    "                                   stratify= df_val_compi.label)"
   ]
  },
  {
   "cell_type": "code",
   "execution_count": 17,
   "id": "nervous-crisis",
   "metadata": {
    "execution": {
     "iopub.execute_input": "2021-05-30T20:12:30.429807Z",
     "iopub.status.busy": "2021-05-30T20:12:30.429001Z",
     "iopub.status.idle": "2021-05-30T20:12:30.472297Z",
     "shell.execute_reply": "2021-05-30T20:12:30.471634Z",
     "shell.execute_reply.started": "2021-05-30T09:30:18.098841Z"
    },
    "id": "gRZD_AQE91RK",
    "outputId": "3aec7767-0b06-410b-cf55-b2f6dc2c6ed4",
    "papermill": {
     "duration": 3.239148,
     "end_time": "2021-05-30T20:12:30.472465",
     "exception": false,
     "start_time": "2021-05-30T20:12:27.233317",
     "status": "completed"
    },
    "tags": []
   },
   "outputs": [
    {
     "name": "stdout",
     "output_type": "stream",
     "text": [
      "Found 7045 validated image filenames.\n"
     ]
    }
   ],
   "source": [
    "train_generator = train_aug.flow_from_dataframe(\n",
    "dataframe = X_train,\n",
    "x_col=\"filename\",\n",
    "y_col=\"label\",\n",
    "batch_size=32,\n",
    "seed=42,\n",
    "shuffle=True,\n",
    "class_mode=\"raw\",\n",
    "target_size=(224,224))"
   ]
  },
  {
   "cell_type": "code",
   "execution_count": 18,
   "id": "instrumental-indie",
   "metadata": {
    "execution": {
     "iopub.execute_input": "2021-05-30T20:12:36.309467Z",
     "iopub.status.busy": "2021-05-30T20:12:36.308631Z",
     "iopub.status.idle": "2021-05-30T20:12:36.318017Z",
     "shell.execute_reply": "2021-05-30T20:12:36.317530Z",
     "shell.execute_reply.started": "2021-05-30T09:30:23.206485Z"
    },
    "id": "XHls_W4B91RK",
    "outputId": "fc52d36f-8e70-45d2-a90c-4d530c554095",
    "papermill": {
     "duration": 2.927421,
     "end_time": "2021-05-30T20:12:36.318129",
     "exception": false,
     "start_time": "2021-05-30T20:12:33.390708",
     "status": "completed"
    },
    "tags": []
   },
   "outputs": [
    {
     "name": "stdout",
     "output_type": "stream",
     "text": [
      "Found 783 validated image filenames.\n"
     ]
    }
   ],
   "source": [
    "valid_generator = valid_aug.flow_from_dataframe( \n",
    "dataframe=X_test,\n",
    "x_col=\"filename\",\n",
    "y_col=\"label\",\n",
    "batch_size=32,\n",
    "seed=42,\n",
    "shuffle=True,\n",
    "class_mode=\"raw\",\n",
    "target_size=(224,224))"
   ]
  },
  {
   "cell_type": "code",
   "execution_count": 19,
   "id": "dedicated-chapel",
   "metadata": {
    "execution": {
     "iopub.execute_input": "2021-05-30T20:12:42.897491Z",
     "iopub.status.busy": "2021-05-30T20:12:42.895853Z",
     "iopub.status.idle": "2021-05-30T20:12:42.898202Z",
     "shell.execute_reply": "2021-05-30T20:12:42.898602Z",
     "shell.execute_reply.started": "2021-05-30T09:30:26.966513Z"
    },
    "id": "P67f-Nxn91RK",
    "papermill": {
     "duration": 3.108025,
     "end_time": "2021-05-30T20:12:42.898739",
     "exception": false,
     "start_time": "2021-05-30T20:12:39.790714",
     "status": "completed"
    },
    "tags": []
   },
   "outputs": [],
   "source": [
    "# number of steps to consider 1 as  epoch\n",
    "STEP_SIZE_TRAIN = train_generator.n//train_generator.batch_size\n",
    "STEP_SIZE_VALID =valid_generator.n//valid_generator.batch_size"
   ]
  },
  {
   "cell_type": "code",
   "execution_count": 20,
   "id": "sized-norfolk",
   "metadata": {
    "execution": {
     "iopub.execute_input": "2021-05-30T20:12:48.820785Z",
     "iopub.status.busy": "2021-05-30T20:12:48.819337Z",
     "iopub.status.idle": "2021-05-30T20:25:26.371458Z",
     "shell.execute_reply": "2021-05-30T20:25:26.371941Z",
     "shell.execute_reply.started": "2021-05-30T09:30:36.962285Z"
    },
    "id": "N8xX9ld391RL",
    "outputId": "eb60c9ed-cef3-45df-da38-ae926bf45f1a",
    "papermill": {
     "duration": 760.527609,
     "end_time": "2021-05-30T20:25:26.372105",
     "exception": false,
     "start_time": "2021-05-30T20:12:45.844496",
     "status": "completed"
    },
    "tags": []
   },
   "outputs": [
    {
     "name": "stdout",
     "output_type": "stream",
     "text": [
      "Epoch 1/50\n",
      "220/220 [==============================] - 97s 429ms/step - loss: 0.6779 - acc: 0.9090 - val_loss: 0.6368 - val_acc: 0.9076\n",
      "\n",
      "Epoch 00001: val_acc did not improve from 0.92872\n",
      "Epoch 2/50\n",
      "220/220 [==============================] - 94s 427ms/step - loss: 0.6138 - acc: 0.9507 - val_loss: 0.6104 - val_acc: 0.9349\n",
      "\n",
      "Epoch 00002: val_acc improved from 0.92872 to 0.93490, saving model to xception_best.ckpt\n",
      "Epoch 3/50\n",
      "220/220 [==============================] - 94s 426ms/step - loss: 0.5709 - acc: 0.9788 - val_loss: 0.5849 - val_acc: 0.9714\n",
      "\n",
      "Epoch 00003: val_acc improved from 0.93490 to 0.97135, saving model to xception_best.ckpt\n",
      "Epoch 4/50\n",
      "220/220 [==============================] - 94s 426ms/step - loss: 0.5659 - acc: 0.9815 - val_loss: 0.5907 - val_acc: 0.9570\n",
      "\n",
      "Epoch 00004: val_acc did not improve from 0.97135\n",
      "Epoch 5/50\n",
      "220/220 [==============================] - 94s 427ms/step - loss: 0.5560 - acc: 0.9859 - val_loss: 0.5901 - val_acc: 0.9583\n",
      "\n",
      "Epoch 00005: val_acc did not improve from 0.97135\n",
      "Epoch 6/50\n",
      "220/220 [==============================] - 94s 427ms/step - loss: 0.5524 - acc: 0.9890 - val_loss: 0.5919 - val_acc: 0.9544\n",
      "\n",
      "Epoch 00006: val_acc did not improve from 0.97135\n",
      "Epoch 7/50\n",
      "220/220 [==============================] - 94s 426ms/step - loss: 0.5478 - acc: 0.9906 - val_loss: 0.5856 - val_acc: 0.9648\n",
      "\n",
      "Epoch 00007: val_acc did not improve from 0.97135\n",
      "Epoch 8/50\n",
      "220/220 [==============================] - 94s 426ms/step - loss: 0.5455 - acc: 0.9922 - val_loss: 0.6064 - val_acc: 0.9557\n",
      "\n",
      "Epoch 00008: val_acc did not improve from 0.97135\n",
      "\n",
      "Epoch 00008: ReduceLROnPlateau reducing learning rate to 9.999999747378752e-07.\n"
     ]
    },
    {
     "data": {
      "text/plain": [
       "<tensorflow.python.keras.callbacks.History at 0x7f58259f1fd0>"
      ]
     },
     "execution_count": 20,
     "metadata": {},
     "output_type": "execute_result"
    }
   ],
   "source": [
    "# kick off training\n",
    "xception_model.fit(\n",
    "        train_generator,\n",
    "        steps_per_epoch=STEP_SIZE_TRAIN,\n",
    "        epochs=50,\n",
    "        validation_data=valid_generator,\n",
    "        validation_steps=STEP_SIZE_VALID,callbacks=[my_callbacks])"
   ]
  },
  {
   "cell_type": "code",
   "execution_count": 21,
   "id": "complete-spelling",
   "metadata": {
    "execution": {
     "iopub.execute_input": "2021-05-30T20:25:33.497837Z",
     "iopub.status.busy": "2021-05-30T20:25:33.496999Z",
     "iopub.status.idle": "2021-05-30T20:25:34.695800Z",
     "shell.execute_reply": "2021-05-30T20:25:34.695365Z",
     "shell.execute_reply.started": "2021-05-24T16:41:06.725854Z"
    },
    "id": "lSJjsKXu91RL",
    "outputId": "3fe99519-ff78-40bd-c632-74d12b41a4bb",
    "papermill": {
     "duration": 4.566888,
     "end_time": "2021-05-30T20:25:34.695951",
     "exception": false,
     "start_time": "2021-05-30T20:25:30.129063",
     "status": "completed"
    },
    "tags": []
   },
   "outputs": [
    {
     "data": {
      "text/plain": [
       "<tensorflow.python.training.tracking.util.CheckpointLoadStatus at 0x7f53b7cec510>"
      ]
     },
     "execution_count": 21,
     "metadata": {},
     "output_type": "execute_result"
    }
   ],
   "source": [
    "# load best saved weights\n",
    "xception_model.load_weights(checkpoint_path)"
   ]
  },
  {
   "cell_type": "markdown",
   "id": "intended-cylinder",
   "metadata": {
    "papermill": {
     "duration": 3.633537,
     "end_time": "2021-05-30T20:25:41.743104",
     "exception": false,
     "start_time": "2021-05-30T20:25:38.109567",
     "status": "completed"
    },
    "tags": []
   },
   "source": [
    "# Confusion Matrix\n",
    "As our data set is imbalaned, lets see where is our model making mistakes. I encourage to you to take initative for bringing FPs and FNs down."
   ]
  },
  {
   "cell_type": "code",
   "execution_count": 22,
   "id": "equivalent-album",
   "metadata": {
    "execution": {
     "iopub.execute_input": "2021-05-30T20:25:48.625234Z",
     "iopub.status.busy": "2021-05-30T20:25:48.624438Z",
     "iopub.status.idle": "2021-05-30T20:25:48.634216Z",
     "shell.execute_reply": "2021-05-30T20:25:48.633804Z",
     "shell.execute_reply.started": "2021-05-27T05:35:10.161826Z"
    },
    "papermill": {
     "duration": 3.430239,
     "end_time": "2021-05-30T20:25:48.634343",
     "exception": false,
     "start_time": "2021-05-30T20:25:45.204104",
     "status": "completed"
    },
    "tags": []
   },
   "outputs": [
    {
     "name": "stdout",
     "output_type": "stream",
     "text": [
      "Found 783 validated image filenames.\n"
     ]
    }
   ],
   "source": [
    "from sklearn.metrics import precision_recall_curve\n",
    "target_shape = 224\n",
    "BATCH_SIZE = 1\n",
    "\n",
    "# test generator\n",
    "compi_gen = valid_aug.flow_from_dataframe(dataframe= X_test,\n",
    "                            x_col= \"filename\",\n",
    "                            class_mode=None,\n",
    "                            target_size= (target_shape, target_shape),\n",
    "                            shuffle= False,\n",
    "                            batch_size= BATCH_SIZE\n",
    "                            )"
   ]
  },
  {
   "cell_type": "code",
   "execution_count": 23,
   "id": "preceding-delight",
   "metadata": {
    "execution": {
     "iopub.execute_input": "2021-05-30T20:25:56.117007Z",
     "iopub.status.busy": "2021-05-30T20:25:56.116264Z",
     "iopub.status.idle": "2021-05-30T20:26:05.659358Z",
     "shell.execute_reply": "2021-05-30T20:26:05.658569Z",
     "shell.execute_reply.started": "2021-05-27T05:35:17.324361Z"
    },
    "papermill": {
     "duration": 12.914933,
     "end_time": "2021-05-30T20:26:05.659489",
     "exception": false,
     "start_time": "2021-05-30T20:25:52.744556",
     "status": "completed"
    },
    "tags": []
   },
   "outputs": [
    {
     "name": "stdout",
     "output_type": "stream",
     "text": [
      "783/783 [==============================] - 10s 11ms/step\n"
     ]
    }
   ],
   "source": [
    "# prediction on train data\n",
    "predicition_compi = xception_model.predict(compi_gen, steps= compi_gen.n/ BATCH_SIZE, verbose= 1)"
   ]
  },
  {
   "cell_type": "code",
   "execution_count": 24,
   "id": "distinguished-midwest",
   "metadata": {
    "execution": {
     "iopub.execute_input": "2021-05-30T20:26:12.667940Z",
     "iopub.status.busy": "2021-05-30T20:26:12.649791Z",
     "iopub.status.idle": "2021-05-30T20:26:13.051891Z",
     "shell.execute_reply": "2021-05-30T20:26:13.051413Z",
     "shell.execute_reply.started": "2021-05-27T05:43:44.837052Z"
    },
    "papermill": {
     "duration": 3.832152,
     "end_time": "2021-05-30T20:26:13.052010",
     "exception": false,
     "start_time": "2021-05-30T20:26:09.219858",
     "status": "completed"
    },
    "tags": []
   },
   "outputs": [
    {
     "data": {
      "text/plain": [
       "<sklearn.metrics._plot.confusion_matrix.ConfusionMatrixDisplay at 0x7f53b7e1ba50>"
      ]
     },
     "execution_count": 24,
     "metadata": {},
     "output_type": "execute_result"
    },
    {
     "data": {
      "image/png": "[encoded data removed]",
      "text/plain": [
       "<Figure size 432x288 with 2 Axes>"
      ]
     },
     "metadata": {
      "needs_background": "light"
     },
     "output_type": "display_data"
    }
   ],
   "source": [
    "from sklearn.metrics import confusion_matrix, ConfusionMatrixDisplay\n",
    "class_prediction_compi =  np.argmax(predicition_compi, axis= 1)\n",
    "cm = confusion_matrix(X_test.label, class_prediction_compi, labels=[0, 1, 2, 3, 4])\n",
    "disp = ConfusionMatrixDisplay(confusion_matrix=cm,\n",
    "                              display_labels=[0, 1, 2, 3, 4])\n",
    "disp.plot()"
   ]
  },
  {
   "cell_type": "markdown",
   "id": "positive-wilson",
   "metadata": {
    "papermill": {
     "duration": 3.5306,
     "end_time": "2021-05-30T20:26:20.277590",
     "exception": false,
     "start_time": "2021-05-30T20:26:16.746990",
     "status": "completed"
    },
    "tags": []
   },
   "source": [
    "## Making prediction on test set (to make submission)\n",
    "Finally we save the predictions on disk in CSV format"
   ]
  },
  {
   "cell_type": "code",
   "execution_count": 25,
   "id": "constitutional-catholic",
   "metadata": {
    "execution": {
     "iopub.execute_input": "2021-05-30T20:26:28.031789Z",
     "iopub.status.busy": "2021-05-30T20:26:28.031111Z",
     "iopub.status.idle": "2021-05-30T20:26:28.058944Z",
     "shell.execute_reply": "2021-05-30T20:26:28.058161Z",
     "shell.execute_reply.started": "2021-05-27T09:08:20.550041Z"
    },
    "id": "NnkWdv8T91RM",
    "outputId": "fea0c8a7-0810-489a-9e62-69f11b5f1992",
    "papermill": {
     "duration": 4.034446,
     "end_time": "2021-05-30T20:26:28.059074",
     "exception": false,
     "start_time": "2021-05-30T20:26:24.024628",
     "status": "completed"
    },
    "tags": []
   },
   "outputs": [
    {
     "name": "stdout",
     "output_type": "stream",
     "text": [
      "Found 1958 validated image filenames.\n"
     ]
    }
   ],
   "source": [
    "# read the csv file\n",
    "test = pd.read_csv(compi_root_path + \"Test.csv\")\n",
    "\n",
    "# create test generator\n",
    "test_generator = valid_aug.flow_from_dataframe(\n",
    "dataframe= test,\n",
    "directory= compi_root_path + \"test\",\n",
    "x_col= \"filename\",\n",
    "y_col= None,\n",
    "batch_size= 1,\n",
    "seed= 42,\n",
    "shuffle= False,\n",
    "class_mode= None,\n",
    "target_size= (224,224))\n",
    "\n",
    "# number of steps to consider 1 epoch\n",
    "STEP_SIZE_TEST=test_generator.n//test_generator.batch_size"
   ]
  },
  {
   "cell_type": "code",
   "execution_count": 26,
   "id": "blocked-niagara",
   "metadata": {
    "execution": {
     "iopub.execute_input": "2021-05-30T20:26:34.994605Z",
     "iopub.status.busy": "2021-05-30T20:26:34.994000Z",
     "iopub.status.idle": "2021-05-30T20:26:56.340759Z",
     "shell.execute_reply": "2021-05-30T20:26:56.341118Z",
     "shell.execute_reply.started": "2021-05-27T05:51:39.116529Z"
    },
    "papermill": {
     "duration": 24.791614,
     "end_time": "2021-05-30T20:26:56.341303",
     "exception": false,
     "start_time": "2021-05-30T20:26:31.549689",
     "status": "completed"
    },
    "tags": []
   },
   "outputs": [
    {
     "name": "stdout",
     "output_type": "stream",
     "text": [
      "1958/1958 [==============================] - 21s 11ms/step\n"
     ]
    },
    {
     "data": {
      "text/plain": [
       "0    770\n",
       "2    508\n",
       "1    359\n",
       "3    262\n",
       "4     59\n",
       "Name: label, dtype: int64"
      ]
     },
     "execution_count": 26,
     "metadata": {},
     "output_type": "execute_result"
    }
   ],
   "source": [
    "# make prediction and create dataframe out of it\n",
    "pred = xception_model.predict(test_generator,steps=STEP_SIZE_TEST,verbose=1)\n",
    "df_submit = pd.DataFrame({\"label\":np.argmax(pred, axis= 1)})\n",
    "df_submit[\"label\"].value_counts()"
   ]
  },
  {
   "cell_type": "markdown",
   "id": "still-arthur",
   "metadata": {
    "papermill": {
     "duration": 3.549425,
     "end_time": "2021-05-30T20:27:04.148458",
     "exception": false,
     "start_time": "2021-05-30T20:27:00.599033",
     "status": "completed"
    },
    "tags": []
   },
   "source": [
    "### Clearing the working directory\n",
    "Because if don't, \"output\" tabl will show only images"
   ]
  },
  {
   "cell_type": "code",
   "execution_count": 27,
   "id": "decimal-hampshire",
   "metadata": {
    "execution": {
     "iopub.execute_input": "2021-05-30T20:27:11.522864Z",
     "iopub.status.busy": "2021-05-30T20:27:11.522085Z",
     "iopub.status.idle": "2021-05-30T20:27:11.842332Z",
     "shell.execute_reply": "2021-05-30T20:27:11.842916Z",
     "shell.execute_reply.started": "2021-05-27T05:51:43.875589Z"
    },
    "papermill": {
     "duration": 4.080149,
     "end_time": "2021-05-30T20:27:11.843118",
     "exception": false,
     "start_time": "2021-05-30T20:27:07.762969",
     "status": "completed"
    },
    "tags": []
   },
   "outputs": [
    {
     "name": "stdout",
     "output_type": "stream",
     "text": [
      "Error: /kaggle/working - Device or resource busy.\n"
     ]
    }
   ],
   "source": [
    "import sys\n",
    "import shutil\n",
    "\n",
    "# Get directory name\n",
    "mydir = \"/kaggle/working\"\n",
    "\n",
    "try:\n",
    "    shutil.rmtree(mydir)\n",
    "except OSError as e:\n",
    "    print(\"Error: %s - %s.\" % (e.filename, e.strerror))"
   ]
  },
  {
   "cell_type": "markdown",
   "id": "portable-yacht",
   "metadata": {
    "papermill": {
     "duration": 3.504245,
     "end_time": "2021-05-30T20:27:18.913681",
     "exception": false,
     "start_time": "2021-05-30T20:27:15.409436",
     "status": "completed"
    },
    "tags": []
   },
   "source": [
    "### Save best weights and output prediction file"
   ]
  },
  {
   "cell_type": "code",
   "execution_count": 28,
   "id": "liquid-tsunami",
   "metadata": {
    "execution": {
     "iopub.execute_input": "2021-05-30T20:27:26.290338Z",
     "iopub.status.busy": "2021-05-30T20:27:26.289493Z",
     "iopub.status.idle": "2021-05-30T20:27:26.809425Z",
     "shell.execute_reply": "2021-05-30T20:27:26.808879Z",
     "shell.execute_reply.started": "2021-05-27T05:51:46.57395Z"
    },
    "id": "qPbzHOhJ91RN",
    "papermill": {
     "duration": 4.073647,
     "end_time": "2021-05-30T20:27:26.809566",
     "exception": false,
     "start_time": "2021-05-30T20:27:22.735919",
     "status": "completed"
    },
    "tags": []
   },
   "outputs": [],
   "source": [
    "xception_model.save_weights(\"knee_xray_Xceptionnet_GPA.h5\")\n",
    "df_submit.to_csv(\"submission.csv\",index=False)"
   ]
  },
  {
   "cell_type": "markdown",
   "id": "sustainable-baptist",
   "metadata": {
    "papermill": {
     "duration": 3.563445,
     "end_time": "2021-05-30T20:27:34.549379",
     "exception": false,
     "start_time": "2021-05-30T20:27:30.985934",
     "status": "completed"
    },
    "tags": []
   },
   "source": [
    "The submission results in 96.8% on public leaderboard.\n",
    "\n",
    "**Suggestion to improve the score**\n",
    "* Using right data augmentations\n",
    "* Using different model architecture\n",
    "* Ensembling and stacking\n",
    "* Using pretrained model trained on xray images"
   ]
  }
 ],
 "metadata": {
  "kernelspec": {
   "display_name": "Python 3",
   "language": "python",
   "name": "python3"
  },
  "language_info": {
   "codemirror_mode": {
    "name": "ipython",
    "version": 3
   },
   "file_extension": ".py",
   "mimetype": "text/x-python",
   "name": "python",
   "nbconvert_exporter": "python",
   "pygments_lexer": "ipython3",
   "version": "3.7.10"
  },
  "papermill": {
   "default_parameters": {},
   "duration": 6499.620651,
   "end_time": "2021-05-30T20:27:40.898205",
   "environment_variables": {},
   "exception": null,
   "input_path": "__notebook__.ipynb",
   "output_path": "__notebook__.ipynb",
   "parameters": {},
   "start_time": "2021-05-30T18:39:21.277554",
   "version": "2.3.3"
  }
 },
 "nbformat": 4,
 "nbformat_minor": 5
}
