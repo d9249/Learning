{
  "nbformat": 4,
  "nbformat_minor": 5,
  "metadata": {
    "kernelspec": {
      "display_name": "Python 3 (ipykernel)",
      "language": "python",
      "name": "python3"
    },
    "language_info": {
      "codemirror_mode": {
        "name": "ipython",
        "version": 3
      },
      "file_extension": ".py",
      "mimetype": "text/x-python",
      "name": "python",
      "nbconvert_exporter": "python",
      "pygments_lexer": "ipython3",
      "version": "3.8.8"
    },
    "colab": {
      "name": "Train (Dataset statistics, pretrained, full).ipynb",
      "provenance": [],
      "collapsed_sections": [],
      "machine_shape": "hm",
      "include_colab_link": true
    },
    "accelerator": "GPU",
    "widgets": {
      "application/vnd.jupyter.widget-state+json": {
        "13bfe3a9affb4ff6b004bed5844cfa71": {
          "model_module": "@jupyter-widgets/controls",
          "model_name": "HBoxModel",
          "model_module_version": "1.5.0",
          "state": {
            "_view_name": "HBoxView",
            "_dom_classes": [],
            "_model_name": "HBoxModel",
            "_view_module": "@jupyter-widgets/controls",
            "_model_module_version": "1.5.0",
            "_view_count": null,
            "_view_module_version": "1.5.0",
            "box_style": "",
            "layout": "IPY_MODEL_694e99197d3b49e385a5b73c60233329",
            "_model_module": "@jupyter-widgets/controls",
            "children": [
              "IPY_MODEL_9ef43f91b06f4b699740c95b4eb53f49",
              "IPY_MODEL_ddd24270d05247b5a7a14d1912cac70a",
              "IPY_MODEL_b73d8f448b8b4ab08ae3668ad17db319"
            ]
          }
        },
        "694e99197d3b49e385a5b73c60233329": {
          "model_module": "@jupyter-widgets/base",
          "model_name": "LayoutModel",
          "model_module_version": "1.2.0",
          "state": {
            "_view_name": "LayoutView",
            "grid_template_rows": null,
            "right": null,
            "justify_content": null,
            "_view_module": "@jupyter-widgets/base",
            "overflow": null,
            "_model_module_version": "1.2.0",
            "_view_count": null,
            "flex_flow": null,
            "width": null,
            "min_width": null,
            "border": null,
            "align_items": null,
            "bottom": null,
            "_model_module": "@jupyter-widgets/base",
            "top": null,
            "grid_column": null,
            "overflow_y": null,
            "overflow_x": null,
            "grid_auto_flow": null,
            "grid_area": null,
            "grid_template_columns": null,
            "flex": null,
            "_model_name": "LayoutModel",
            "justify_items": null,
            "grid_row": null,
            "max_height": null,
            "align_content": null,
            "visibility": null,
            "align_self": null,
            "height": null,
            "min_height": null,
            "padding": null,
            "grid_auto_rows": null,
            "grid_gap": null,
            "max_width": null,
            "order": null,
            "_view_module_version": "1.2.0",
            "grid_template_areas": null,
            "object_position": null,
            "object_fit": null,
            "grid_auto_columns": null,
            "margin": null,
            "display": null,
            "left": null
          }
        },
        "9ef43f91b06f4b699740c95b4eb53f49": {
          "model_module": "@jupyter-widgets/controls",
          "model_name": "HTMLModel",
          "model_module_version": "1.5.0",
          "state": {
            "_view_name": "HTMLView",
            "style": "IPY_MODEL_0dc3de81f86248558b1a0eeac9d71fd8",
            "_dom_classes": [],
            "description": "",
            "_model_name": "HTMLModel",
            "placeholder": "​",
            "_view_module": "@jupyter-widgets/controls",
            "_model_module_version": "1.5.0",
            "value": "100%",
            "_view_count": null,
            "_view_module_version": "1.5.0",
            "description_tooltip": null,
            "_model_module": "@jupyter-widgets/controls",
            "layout": "IPY_MODEL_7ad2422ff9314eef988c7c4c0369746b"
          }
        },
        "ddd24270d05247b5a7a14d1912cac70a": {
          "model_module": "@jupyter-widgets/controls",
          "model_name": "FloatProgressModel",
          "model_module_version": "1.5.0",
          "state": {
            "_view_name": "ProgressView",
            "style": "IPY_MODEL_1051bda26c6c4bcc944375508e0905c7",
            "_dom_classes": [],
            "description": "",
            "_model_name": "FloatProgressModel",
            "bar_style": "success",
            "max": 46830571,
            "_view_module": "@jupyter-widgets/controls",
            "_model_module_version": "1.5.0",
            "value": 46830571,
            "_view_count": null,
            "_view_module_version": "1.5.0",
            "orientation": "horizontal",
            "min": 0,
            "description_tooltip": null,
            "_model_module": "@jupyter-widgets/controls",
            "layout": "IPY_MODEL_6be05c65c41d47c7b77076bc76b87aa1"
          }
        },
        "b73d8f448b8b4ab08ae3668ad17db319": {
          "model_module": "@jupyter-widgets/controls",
          "model_name": "HTMLModel",
          "model_module_version": "1.5.0",
          "state": {
            "_view_name": "HTMLView",
            "style": "IPY_MODEL_a45dad9d0b284d56a8deed6edd834a57",
            "_dom_classes": [],
            "description": "",
            "_model_name": "HTMLModel",
            "placeholder": "​",
            "_view_module": "@jupyter-widgets/controls",
            "_model_module_version": "1.5.0",
            "value": " 44.7M/44.7M [00:01&lt;00:00, 58.6MB/s]",
            "_view_count": null,
            "_view_module_version": "1.5.0",
            "description_tooltip": null,
            "_model_module": "@jupyter-widgets/controls",
            "layout": "IPY_MODEL_3e31577bc55641ce9e839b2747b5bbd6"
          }
        },
        "0dc3de81f86248558b1a0eeac9d71fd8": {
          "model_module": "@jupyter-widgets/controls",
          "model_name": "DescriptionStyleModel",
          "model_module_version": "1.5.0",
          "state": {
            "_view_name": "StyleView",
            "_model_name": "DescriptionStyleModel",
            "description_width": "",
            "_view_module": "@jupyter-widgets/base",
            "_model_module_version": "1.5.0",
            "_view_count": null,
            "_view_module_version": "1.2.0",
            "_model_module": "@jupyter-widgets/controls"
          }
        },
        "7ad2422ff9314eef988c7c4c0369746b": {
          "model_module": "@jupyter-widgets/base",
          "model_name": "LayoutModel",
          "model_module_version": "1.2.0",
          "state": {
            "_view_name": "LayoutView",
            "grid_template_rows": null,
            "right": null,
            "justify_content": null,
            "_view_module": "@jupyter-widgets/base",
            "overflow": null,
            "_model_module_version": "1.2.0",
            "_view_count": null,
            "flex_flow": null,
            "width": null,
            "min_width": null,
            "border": null,
            "align_items": null,
            "bottom": null,
            "_model_module": "@jupyter-widgets/base",
            "top": null,
            "grid_column": null,
            "overflow_y": null,
            "overflow_x": null,
            "grid_auto_flow": null,
            "grid_area": null,
            "grid_template_columns": null,
            "flex": null,
            "_model_name": "LayoutModel",
            "justify_items": null,
            "grid_row": null,
            "max_height": null,
            "align_content": null,
            "visibility": null,
            "align_self": null,
            "height": null,
            "min_height": null,
            "padding": null,
            "grid_auto_rows": null,
            "grid_gap": null,
            "max_width": null,
            "order": null,
            "_view_module_version": "1.2.0",
            "grid_template_areas": null,
            "object_position": null,
            "object_fit": null,
            "grid_auto_columns": null,
            "margin": null,
            "display": null,
            "left": null
          }
        },
        "1051bda26c6c4bcc944375508e0905c7": {
          "model_module": "@jupyter-widgets/controls",
          "model_name": "ProgressStyleModel",
          "model_module_version": "1.5.0",
          "state": {
            "_view_name": "StyleView",
            "_model_name": "ProgressStyleModel",
            "description_width": "",
            "_view_module": "@jupyter-widgets/base",
            "_model_module_version": "1.5.0",
            "_view_count": null,
            "_view_module_version": "1.2.0",
            "bar_color": null,
            "_model_module": "@jupyter-widgets/controls"
          }
        },
        "6be05c65c41d47c7b77076bc76b87aa1": {
          "model_module": "@jupyter-widgets/base",
          "model_name": "LayoutModel",
          "model_module_version": "1.2.0",
          "state": {
            "_view_name": "LayoutView",
            "grid_template_rows": null,
            "right": null,
            "justify_content": null,
            "_view_module": "@jupyter-widgets/base",
            "overflow": null,
            "_model_module_version": "1.2.0",
            "_view_count": null,
            "flex_flow": null,
            "width": null,
            "min_width": null,
            "border": null,
            "align_items": null,
            "bottom": null,
            "_model_module": "@jupyter-widgets/base",
            "top": null,
            "grid_column": null,
            "overflow_y": null,
            "overflow_x": null,
            "grid_auto_flow": null,
            "grid_area": null,
            "grid_template_columns": null,
            "flex": null,
            "_model_name": "LayoutModel",
            "justify_items": null,
            "grid_row": null,
            "max_height": null,
            "align_content": null,
            "visibility": null,
            "align_self": null,
            "height": null,
            "min_height": null,
            "padding": null,
            "grid_auto_rows": null,
            "grid_gap": null,
            "max_width": null,
            "order": null,
            "_view_module_version": "1.2.0",
            "grid_template_areas": null,
            "object_position": null,
            "object_fit": null,
            "grid_auto_columns": null,
            "margin": null,
            "display": null,
            "left": null
          }
        },
        "a45dad9d0b284d56a8deed6edd834a57": {
          "model_module": "@jupyter-widgets/controls",
          "model_name": "DescriptionStyleModel",
          "model_module_version": "1.5.0",
          "state": {
            "_view_name": "StyleView",
            "_model_name": "DescriptionStyleModel",
            "description_width": "",
            "_view_module": "@jupyter-widgets/base",
            "_model_module_version": "1.5.0",
            "_view_count": null,
            "_view_module_version": "1.2.0",
            "_model_module": "@jupyter-widgets/controls"
          }
        },
        "3e31577bc55641ce9e839b2747b5bbd6": {
          "model_module": "@jupyter-widgets/base",
          "model_name": "LayoutModel",
          "model_module_version": "1.2.0",
          "state": {
            "_view_name": "LayoutView",
            "grid_template_rows": null,
            "right": null,
            "justify_content": null,
            "_view_module": "@jupyter-widgets/base",
            "overflow": null,
            "_model_module_version": "1.2.0",
            "_view_count": null,
            "flex_flow": null,
            "width": null,
            "min_width": null,
            "border": null,
            "align_items": null,
            "bottom": null,
            "_model_module": "@jupyter-widgets/base",
            "top": null,
            "grid_column": null,
            "overflow_y": null,
            "overflow_x": null,
            "grid_auto_flow": null,
            "grid_area": null,
            "grid_template_columns": null,
            "flex": null,
            "_model_name": "LayoutModel",
            "justify_items": null,
            "grid_row": null,
            "max_height": null,
            "align_content": null,
            "visibility": null,
            "align_self": null,
            "height": null,
            "min_height": null,
            "padding": null,
            "grid_auto_rows": null,
            "grid_gap": null,
            "max_width": null,
            "order": null,
            "_view_module_version": "1.2.0",
            "grid_template_areas": null,
            "object_position": null,
            "object_fit": null,
            "grid_auto_columns": null,
            "margin": null,
            "display": null,
            "left": null
          }
        }
      }
    }
  },
  "cells": [
    {
      "cell_type": "markdown",
      "metadata": {
        "id": "view-in-github",
        "colab_type": "text"
      },
      "source": [
        "<a href=\"https://colab.research.google.com/github/d9249/DACON/blob/main/Train(Dataset%20statistics%2C%20pretrained%2C%20full).ipynb\" target=\"_parent\"><img src=\"https://colab.research.google.com/assets/colab-badge.svg\" alt=\"Open In Colab\"/></a>"
      ]
    },
    {
      "cell_type": "code",
      "metadata": {
        "colab": {
          "base_uri": "https://localhost:8080/"
        },
        "id": "MRmwJ7v-s4NO",
        "outputId": "27f580dc-a047-4773-eca2-a33ffffa4e90"
      },
      "source": [
        "!nvidia-smi"
      ],
      "id": "MRmwJ7v-s4NO",
      "execution_count": 1,
      "outputs": [
        {
          "output_type": "stream",
          "name": "stdout",
          "text": [
            "Wed Oct  6 01:32:09 2021       \n",
            "+-----------------------------------------------------------------------------+\n",
            "| NVIDIA-SMI 470.74       Driver Version: 460.32.03    CUDA Version: 11.2     |\n",
            "|-------------------------------+----------------------+----------------------+\n",
            "| GPU  Name        Persistence-M| Bus-Id        Disp.A | Volatile Uncorr. ECC |\n",
            "| Fan  Temp  Perf  Pwr:Usage/Cap|         Memory-Usage | GPU-Util  Compute M. |\n",
            "|                               |                      |               MIG M. |\n",
            "|===============================+======================+======================|\n",
            "|   0  Tesla P100-PCIE...  Off  | 00000000:00:04.0 Off |                    0 |\n",
            "| N/A   39C    P0    30W / 250W |      0MiB / 16280MiB |      0%      Default |\n",
            "|                               |                      |                  N/A |\n",
            "+-------------------------------+----------------------+----------------------+\n",
            "                                                                               \n",
            "+-----------------------------------------------------------------------------+\n",
            "| Processes:                                                                  |\n",
            "|  GPU   GI   CI        PID   Type   Process name                  GPU Memory |\n",
            "|        ID   ID                                                   Usage      |\n",
            "|=============================================================================|\n",
            "|  No running processes found                                                 |\n",
            "+-----------------------------------------------------------------------------+\n"
          ]
        }
      ]
    },
    {
      "cell_type": "code",
      "metadata": {
        "colab": {
          "base_uri": "https://localhost:8080/"
        },
        "id": "vl7w9Wass7ah",
        "outputId": "54a390f2-1a21-4d1e-a310-b37598f9416e"
      },
      "source": [
        "from google.colab import drive\n",
        "drive.mount('/content/drive')"
      ],
      "id": "vl7w9Wass7ah",
      "execution_count": 2,
      "outputs": [
        {
          "output_type": "stream",
          "name": "stdout",
          "text": [
            "Mounted at /content/drive\n"
          ]
        }
      ]
    },
    {
      "cell_type": "code",
      "metadata": {
        "id": "dbOlLdrZtUhy"
      },
      "source": [
        "# !mkdir open_data\n",
        "!unzip -uq \"/content/drive/MyDrive/DACON_2021_recognize_traffic_signal_motion/new_open.zip\" -d \"/content/\""
      ],
      "id": "dbOlLdrZtUhy",
      "execution_count": 3,
      "outputs": []
    },
    {
      "cell_type": "code",
      "metadata": {
        "id": "t6JPrj7etciK"
      },
      "source": [
        "!cp /content/drive/MyDrive/pytorch_python/dataset.py .\n",
        "!cp /content/drive/MyDrive/pytorch_python/specific_augmentation.py .\n",
        "!cp /content/drive/MyDrive/pytorch_python/specific_dataset.py .\n",
        "!cp /content/drive/MyDrive/pytorch_python/specific_train.py .\n",
        "!cp /content/drive/MyDrive/pytorch_python/train.py ."
      ],
      "id": "t6JPrj7etciK",
      "execution_count": 4,
      "outputs": []
    },
    {
      "cell_type": "code",
      "metadata": {
        "id": "93cd1408"
      },
      "source": [
        "from dataset import *\n",
        "from train import *\n",
        "\n",
        "import matplotlib.pyplot as plt\n",
        "\n",
        "import torch, torchvision\n",
        "import torchvision.transforms as transforms"
      ],
      "id": "93cd1408",
      "execution_count": 5,
      "outputs": []
    },
    {
      "cell_type": "code",
      "metadata": {
        "id": "d90fe259"
      },
      "source": [
        "import warnings\n",
        "\n",
        "warnings.filterwarnings('ignore')"
      ],
      "id": "d90fe259",
      "execution_count": 6,
      "outputs": []
    },
    {
      "cell_type": "code",
      "metadata": {
        "id": "6cfdfa00"
      },
      "source": [
        "batch_size = 32\n",
        "\n",
        "\n",
        "train_transform = transforms.Compose([\n",
        "    transforms.Resize(256), transforms.RandomCrop((224, 400)),\n",
        "    transforms.ToTensor(), transforms.Normalize(mean=[0.3005, 0.3035, 0.2712], std=[0.1519, 0.1252, 0.0996])])\n",
        "\n",
        "val_transform = transforms.Compose([\n",
        "    transforms.Resize(256), transforms.CenterCrop((224, 400)),\n",
        "    transforms.ToTensor(), transforms.Normalize(mean=[0.3005, 0.3035, 0.2712], std=[0.1519, 0.1252, 0.0996])])\n",
        "\n",
        "\n",
        "train_dataset = TrainDataset(transform=train_transform)\n",
        "val_dataset = ValDataset(transform=val_transform)\n",
        "\n",
        "train_loader = torch.utils.data.DataLoader(train_dataset, batch_size=batch_size, shuffle=True)\n",
        "val_loader = torch.utils.data.DataLoader(val_dataset, batch_size=batch_size, shuffle=False)"
      ],
      "id": "6cfdfa00",
      "execution_count": 7,
      "outputs": []
    },
    {
      "cell_type": "code",
      "metadata": {
        "id": "07134513",
        "colab": {
          "base_uri": "https://localhost:8080/",
          "height": 67,
          "referenced_widgets": [
            "13bfe3a9affb4ff6b004bed5844cfa71",
            "694e99197d3b49e385a5b73c60233329",
            "9ef43f91b06f4b699740c95b4eb53f49",
            "ddd24270d05247b5a7a14d1912cac70a",
            "b73d8f448b8b4ab08ae3668ad17db319",
            "0dc3de81f86248558b1a0eeac9d71fd8",
            "7ad2422ff9314eef988c7c4c0369746b",
            "1051bda26c6c4bcc944375508e0905c7",
            "6be05c65c41d47c7b77076bc76b87aa1",
            "a45dad9d0b284d56a8deed6edd834a57",
            "3e31577bc55641ce9e839b2747b5bbd6"
          ]
        },
        "outputId": "bde65b5f-47eb-4fe6-cd75-07b39167050d"
      },
      "source": [
        "model = Baseline(model='resnet18', num_classes=157, save=True)"
      ],
      "id": "07134513",
      "execution_count": 8,
      "outputs": [
        {
          "output_type": "stream",
          "name": "stderr",
          "text": [
            "Downloading: \"https://download.pytorch.org/models/resnet18-f37072fd.pth\" to /root/.cache/torch/hub/checkpoints/resnet18-f37072fd.pth\n"
          ]
        },
        {
          "output_type": "display_data",
          "data": {
            "application/vnd.jupyter.widget-view+json": {
              "model_id": "13bfe3a9affb4ff6b004bed5844cfa71",
              "version_minor": 0,
              "version_major": 2
            },
            "text/plain": [
              "  0%|          | 0.00/44.7M [00:00<?, ?B/s]"
            ]
          },
          "metadata": {}
        }
      ]
    },
    {
      "cell_type": "code",
      "metadata": {
        "id": "4d7c1175"
      },
      "source": [
        "epochs = 7\n",
        "lr = 0.0005\n",
        "weight_decay = 0.00001"
      ],
      "id": "4d7c1175",
      "execution_count": 9,
      "outputs": []
    },
    {
      "cell_type": "code",
      "metadata": {
        "scrolled": false,
        "id": "cc9b48e0",
        "colab": {
          "base_uri": "https://localhost:8080/"
        },
        "outputId": "91c83005-c87b-4b11-cc86-690b1fd2c635"
      },
      "source": [
        "model.train(train_loader, val_loader, epochs=epochs, lr=lr, weight_decay=weight_decay)"
      ],
      "id": "cc9b48e0",
      "execution_count": 10,
      "outputs": [
        {
          "output_type": "stream",
          "name": "stdout",
          "text": [
            "Epoch 1 Started...\n",
            "Best Model Saved\n",
            "Iteration : 1 - Train Loss : 5.332674, Test Loss : 5.122312, Train Acc : 0.000000, Test Acc : 2.241848\n",
            "Best Model Saved\n",
            "Iteration : 11 - Train Loss : 4.185303, Test Loss : 4.620860, Train Acc : 21.875000, Test Acc : 10.597826\n",
            "Best Model Saved\n",
            "Iteration : 21 - Train Loss : 3.552609, Test Loss : 3.763185, Train Acc : 28.125000, Test Acc : 24.116848\n",
            "Best Model Saved\n",
            "Iteration : 31 - Train Loss : 3.227426, Test Loss : 3.048697, Train Acc : 28.125000, Test Acc : 33.967391\n",
            "Best Model Saved\n",
            "Iteration : 41 - Train Loss : 2.885755, Test Loss : 2.461665, Train Acc : 37.500000, Test Acc : 46.942935\n",
            "Best Model Saved\n",
            "Iteration : 51 - Train Loss : 2.213652, Test Loss : 1.991828, Train Acc : 53.125000, Test Acc : 57.269022\n",
            "Best Model Saved\n",
            "Iteration : 61 - Train Loss : 1.878205, Test Loss : 1.758210, Train Acc : 53.125000, Test Acc : 64.334239\n",
            "Best Model Saved\n",
            "Iteration : 71 - Train Loss : 1.920529, Test Loss : 1.624837, Train Acc : 59.375000, Test Acc : 68.478261\n",
            "Best Model Saved\n",
            "Iteration : 81 - Train Loss : 1.381171, Test Loss : 1.357214, Train Acc : 68.750000, Test Acc : 69.089674\n",
            "Best Model Saved\n",
            "Iteration : 91 - Train Loss : 1.204020, Test Loss : 1.371790, Train Acc : 78.125000, Test Acc : 71.399457\n",
            "Best Model Saved\n",
            "Iteration : 101 - Train Loss : 1.093096, Test Loss : 0.980949, Train Acc : 68.750000, Test Acc : 78.532609\n",
            "Best Model Saved\n",
            "Iteration : 111 - Train Loss : 0.789305, Test Loss : 0.799980, Train Acc : 90.625000, Test Acc : 85.461957\n",
            "Iteration : 121 - Train Loss : 0.714965, Test Loss : 0.809707, Train Acc : 93.750000, Test Acc : 82.540761\n",
            "Best Model Saved\n",
            "Iteration : 131 - Train Loss : 0.696567, Test Loss : 0.565485, Train Acc : 81.250000, Test Acc : 89.334239\n",
            "\n",
            "Epoch 2 Started...\n",
            "Best Model Saved\n",
            "Iteration : 1 - Train Loss : 0.408065, Test Loss : 0.571955, Train Acc : 96.875000, Test Acc : 89.538043\n",
            "Best Model Saved\n",
            "Iteration : 11 - Train Loss : 0.443515, Test Loss : 0.504089, Train Acc : 93.750000, Test Acc : 90.489130\n",
            "Best Model Saved\n",
            "Iteration : 21 - Train Loss : 0.460902, Test Loss : 0.370074, Train Acc : 84.375000, Test Acc : 93.478261\n",
            "Iteration : 31 - Train Loss : 0.411276, Test Loss : 0.397378, Train Acc : 93.750000, Test Acc : 91.032609\n",
            "Iteration : 41 - Train Loss : 0.184325, Test Loss : 0.408357, Train Acc : 96.875000, Test Acc : 90.149457\n",
            "Iteration : 51 - Train Loss : 0.378348, Test Loss : 0.395833, Train Acc : 93.750000, Test Acc : 92.119565\n",
            "Best Model Saved\n",
            "Iteration : 61 - Train Loss : 0.490537, Test Loss : 0.343259, Train Acc : 93.750000, Test Acc : 93.885870\n",
            "Iteration : 71 - Train Loss : 0.380284, Test Loss : 0.361022, Train Acc : 87.500000, Test Acc : 92.323370\n",
            "Best Model Saved\n",
            "Iteration : 81 - Train Loss : 0.240076, Test Loss : 0.275358, Train Acc : 96.875000, Test Acc : 95.855978\n",
            "Best Model Saved\n",
            "Iteration : 91 - Train Loss : 0.201455, Test Loss : 0.216662, Train Acc : 93.750000, Test Acc : 95.312500\n",
            "Best Model Saved\n",
            "Iteration : 101 - Train Loss : 0.175437, Test Loss : 0.203501, Train Acc : 96.875000, Test Acc : 96.059783\n",
            "Iteration : 111 - Train Loss : 0.222201, Test Loss : 0.216223, Train Acc : 93.750000, Test Acc : 95.380435\n",
            "Iteration : 121 - Train Loss : 0.116987, Test Loss : 0.205123, Train Acc : 100.000000, Test Acc : 96.059783\n",
            "Best Model Saved\n",
            "Iteration : 131 - Train Loss : 0.166141, Test Loss : 0.123255, Train Acc : 96.875000, Test Acc : 97.146739\n",
            "\n",
            "Epoch 3 Started...\n",
            "Best Model Saved\n",
            "Iteration : 1 - Train Loss : 0.077082, Test Loss : 0.137230, Train Acc : 100.000000, Test Acc : 97.214674\n",
            "Best Model Saved\n",
            "Iteration : 11 - Train Loss : 0.055711, Test Loss : 0.103210, Train Acc : 100.000000, Test Acc : 98.029891\n",
            "Iteration : 21 - Train Loss : 0.078701, Test Loss : 0.132160, Train Acc : 100.000000, Test Acc : 96.671196\n",
            "Iteration : 31 - Train Loss : 0.081391, Test Loss : 0.147018, Train Acc : 100.000000, Test Acc : 96.942935\n",
            "Iteration : 41 - Train Loss : 0.322387, Test Loss : 0.264748, Train Acc : 90.625000, Test Acc : 95.108696\n",
            "Iteration : 51 - Train Loss : 0.073742, Test Loss : 0.259831, Train Acc : 100.000000, Test Acc : 93.206522\n",
            "Iteration : 61 - Train Loss : 0.120277, Test Loss : 0.158229, Train Acc : 96.875000, Test Acc : 96.535326\n",
            "Iteration : 71 - Train Loss : 0.119677, Test Loss : 0.123568, Train Acc : 96.875000, Test Acc : 96.671196\n",
            "Iteration : 81 - Train Loss : 0.087714, Test Loss : 0.137354, Train Acc : 100.000000, Test Acc : 96.195652\n",
            "Iteration : 91 - Train Loss : 0.038810, Test Loss : 0.204303, Train Acc : 100.000000, Test Acc : 96.263587\n",
            "Iteration : 101 - Train Loss : 0.079625, Test Loss : 0.124217, Train Acc : 96.875000, Test Acc : 97.078804\n",
            "Iteration : 111 - Train Loss : 0.051912, Test Loss : 0.158074, Train Acc : 100.000000, Test Acc : 95.923913\n",
            "Best Model Saved\n",
            "Iteration : 121 - Train Loss : 0.224695, Test Loss : 0.132119, Train Acc : 96.875000, Test Acc : 98.505435\n",
            "Iteration : 131 - Train Loss : 0.058636, Test Loss : 0.132396, Train Acc : 100.000000, Test Acc : 97.554348\n",
            "\n",
            "Epoch 4 Started...\n",
            "Best Model Saved\n",
            "Iteration : 1 - Train Loss : 0.085388, Test Loss : 0.113227, Train Acc : 96.875000, Test Acc : 97.961957\n",
            "Best Model Saved\n",
            "Iteration : 11 - Train Loss : 0.081634, Test Loss : 0.063251, Train Acc : 96.875000, Test Acc : 99.116848\n",
            "Iteration : 21 - Train Loss : 0.175910, Test Loss : 0.116127, Train Acc : 93.750000, Test Acc : 97.894022\n",
            "Iteration : 31 - Train Loss : 0.080064, Test Loss : 0.094833, Train Acc : 96.875000, Test Acc : 98.301630\n",
            "Iteration : 41 - Train Loss : 0.071109, Test Loss : 0.147595, Train Acc : 100.000000, Test Acc : 97.350543\n",
            "Iteration : 51 - Train Loss : 0.078184, Test Loss : 0.084673, Train Acc : 96.875000, Test Acc : 98.233696\n",
            "Best Model Saved\n",
            "Iteration : 61 - Train Loss : 0.043178, Test Loss : 0.051444, Train Acc : 100.000000, Test Acc : 99.728261\n",
            "Iteration : 71 - Train Loss : 0.091123, Test Loss : 0.064865, Train Acc : 96.875000, Test Acc : 98.777174\n",
            "Iteration : 81 - Train Loss : 0.023252, Test Loss : 0.198509, Train Acc : 100.000000, Test Acc : 96.195652\n",
            "Iteration : 91 - Train Loss : 0.026484, Test Loss : 0.099603, Train Acc : 100.000000, Test Acc : 97.486413\n",
            "Iteration : 101 - Train Loss : 0.048278, Test Loss : 0.083391, Train Acc : 100.000000, Test Acc : 98.097826\n",
            "Best Model Saved\n",
            "Iteration : 111 - Train Loss : 0.026468, Test Loss : 0.047249, Train Acc : 100.000000, Test Acc : 99.524457\n",
            "Iteration : 121 - Train Loss : 0.035555, Test Loss : 0.092565, Train Acc : 100.000000, Test Acc : 97.894022\n",
            "Iteration : 131 - Train Loss : 0.034168, Test Loss : 0.095774, Train Acc : 100.000000, Test Acc : 97.690217\n",
            "\n",
            "Epoch 5 Started...\n",
            "Iteration : 1 - Train Loss : 0.030487, Test Loss : 0.059391, Train Acc : 100.000000, Test Acc : 98.505435\n",
            "Iteration : 11 - Train Loss : 0.194666, Test Loss : 0.106516, Train Acc : 93.750000, Test Acc : 97.486413\n",
            "Iteration : 21 - Train Loss : 0.020305, Test Loss : 0.110665, Train Acc : 100.000000, Test Acc : 97.350543\n",
            "Iteration : 31 - Train Loss : 0.051222, Test Loss : 0.123473, Train Acc : 100.000000, Test Acc : 96.739130\n",
            "Iteration : 41 - Train Loss : 0.059019, Test Loss : 0.145645, Train Acc : 100.000000, Test Acc : 96.671196\n",
            "Iteration : 51 - Train Loss : 0.032442, Test Loss : 0.147325, Train Acc : 100.000000, Test Acc : 95.788043\n",
            "Iteration : 61 - Train Loss : 0.104645, Test Loss : 0.100380, Train Acc : 96.875000, Test Acc : 98.097826\n",
            "Iteration : 71 - Train Loss : 0.125231, Test Loss : 0.118040, Train Acc : 93.750000, Test Acc : 97.486413\n",
            "Iteration : 81 - Train Loss : 0.199102, Test Loss : 0.175835, Train Acc : 96.875000, Test Acc : 97.214674\n",
            "Iteration : 91 - Train Loss : 0.030700, Test Loss : 0.096912, Train Acc : 100.000000, Test Acc : 98.233696\n",
            "Iteration : 101 - Train Loss : 0.077678, Test Loss : 0.084888, Train Acc : 100.000000, Test Acc : 98.369565\n",
            "Iteration : 111 - Train Loss : 0.061057, Test Loss : 0.120957, Train Acc : 100.000000, Test Acc : 97.554348\n",
            "Iteration : 121 - Train Loss : 0.107965, Test Loss : 0.132430, Train Acc : 96.875000, Test Acc : 97.758152\n",
            "Iteration : 131 - Train Loss : 0.048928, Test Loss : 0.139100, Train Acc : 100.000000, Test Acc : 97.146739\n",
            "\n",
            "Epoch 6 Started...\n",
            "Iteration : 1 - Train Loss : 0.087735, Test Loss : 0.250640, Train Acc : 96.875000, Test Acc : 93.885870\n",
            "Iteration : 11 - Train Loss : 0.075808, Test Loss : 0.092132, Train Acc : 96.875000, Test Acc : 98.233696\n",
            "Iteration : 21 - Train Loss : 0.032569, Test Loss : 0.077768, Train Acc : 100.000000, Test Acc : 99.048913\n",
            "Iteration : 31 - Train Loss : 0.037028, Test Loss : 0.088900, Train Acc : 100.000000, Test Acc : 98.369565\n",
            "Best Model Saved\n",
            "Iteration : 41 - Train Loss : 0.016181, Test Loss : 0.032329, Train Acc : 100.000000, Test Acc : 99.592391\n",
            "Iteration : 51 - Train Loss : 0.053132, Test Loss : 0.083050, Train Acc : 100.000000, Test Acc : 97.554348\n",
            "Iteration : 61 - Train Loss : 0.027882, Test Loss : 0.093074, Train Acc : 100.000000, Test Acc : 98.301630\n",
            "Iteration : 71 - Train Loss : 0.028307, Test Loss : 0.080149, Train Acc : 100.000000, Test Acc : 98.165761\n",
            "Iteration : 81 - Train Loss : 0.038065, Test Loss : 0.133122, Train Acc : 100.000000, Test Acc : 98.301630\n",
            "Iteration : 91 - Train Loss : 0.045214, Test Loss : 0.175053, Train Acc : 100.000000, Test Acc : 96.603261\n",
            "Iteration : 101 - Train Loss : 0.028689, Test Loss : 0.079656, Train Acc : 100.000000, Test Acc : 98.165761\n",
            "Iteration : 111 - Train Loss : 0.018857, Test Loss : 0.269421, Train Acc : 100.000000, Test Acc : 94.565217\n",
            "Iteration : 121 - Train Loss : 0.109224, Test Loss : 0.084476, Train Acc : 96.875000, Test Acc : 98.709239\n",
            "Iteration : 131 - Train Loss : 0.027437, Test Loss : 0.163713, Train Acc : 100.000000, Test Acc : 95.855978\n",
            "\n",
            "Epoch 7 Started...\n",
            "Iteration : 1 - Train Loss : 0.133071, Test Loss : 0.120646, Train Acc : 96.875000, Test Acc : 97.282609\n",
            "Iteration : 11 - Train Loss : 0.233422, Test Loss : 0.170084, Train Acc : 96.875000, Test Acc : 96.603261\n",
            "Iteration : 21 - Train Loss : 0.087319, Test Loss : 0.147150, Train Acc : 96.875000, Test Acc : 97.010870\n",
            "Iteration : 31 - Train Loss : 0.119005, Test Loss : 0.207321, Train Acc : 96.875000, Test Acc : 95.312500\n",
            "Iteration : 41 - Train Loss : 0.186060, Test Loss : 0.144569, Train Acc : 96.875000, Test Acc : 97.010870\n",
            "Iteration : 51 - Train Loss : 0.150313, Test Loss : 0.102995, Train Acc : 96.875000, Test Acc : 98.301630\n",
            "Iteration : 61 - Train Loss : 0.027973, Test Loss : 0.148221, Train Acc : 100.000000, Test Acc : 96.739130\n",
            "Iteration : 71 - Train Loss : 0.053057, Test Loss : 0.101308, Train Acc : 100.000000, Test Acc : 97.826087\n",
            "Iteration : 81 - Train Loss : 0.012649, Test Loss : 0.046568, Train Acc : 100.000000, Test Acc : 98.980978\n",
            "Iteration : 91 - Train Loss : 0.028241, Test Loss : 0.080955, Train Acc : 100.000000, Test Acc : 98.029891\n",
            "Iteration : 101 - Train Loss : 0.013322, Test Loss : 0.050170, Train Acc : 100.000000, Test Acc : 98.777174\n",
            "Iteration : 111 - Train Loss : 0.012341, Test Loss : 0.066651, Train Acc : 100.000000, Test Acc : 98.097826\n",
            "Iteration : 121 - Train Loss : 0.018387, Test Loss : 0.051958, Train Acc : 100.000000, Test Acc : 98.913043\n",
            "Iteration : 131 - Train Loss : 0.018126, Test Loss : 0.042164, Train Acc : 100.000000, Test Acc : 99.456522\n",
            "\n"
          ]
        }
      ]
    },
    {
      "cell_type": "code",
      "metadata": {
        "id": "db0fb18b",
        "colab": {
          "base_uri": "https://localhost:8080/",
          "height": 620
        },
        "outputId": "ddbded78-c229-4edf-d4cd-6b468ccf16e6"
      },
      "source": [
        "label_fontsize = 25\n",
        "\n",
        "plt.figure(figsize=(20, 10))\n",
        "train_lossline, = plt.plot(model.train_losses, label='Train')\n",
        "test_lossline, = plt.plot(model.test_losses, color='red', label='Test')\n",
        "plt.legend(handles=[train_lossline, test_lossline], fontsize=20)\n",
        "plt.xlabel('Step', fontsize=label_fontsize)\n",
        "plt.ylabel('Loss', fontsize=label_fontsize)\n",
        "plt.show()"
      ],
      "id": "db0fb18b",
      "execution_count": 11,
      "outputs": [
        {
          "output_type": "display_data",
          "data": {
            "image/png": "[encoded data removed]",
            "text/plain": [
              "<Figure size 1440x720 with 1 Axes>"
            ]
          },
          "metadata": {
            "needs_background": "light"
          }
        }
      ]
    },
    {
      "cell_type": "code",
      "metadata": {
        "id": "f752da83",
        "colab": {
          "base_uri": "https://localhost:8080/",
          "height": 620
        },
        "outputId": "876a2487-fa77-4df3-932c-eb403db3734d"
      },
      "source": [
        "plt.figure(figsize=(20, 10))\n",
        "train_accline, = plt.plot(model.train_acc, label='Train')\n",
        "test_accline, = plt.plot(model.test_acc, color='red', label='Test')\n",
        "plt.legend(handles=[train_accline, test_accline], fontsize=20)\n",
        "plt.xlabel('Step', fontsize=label_fontsize)\n",
        "plt.ylabel('Acc', fontsize=label_fontsize)\n",
        "plt.show()"
      ],
      "id": "f752da83",
      "execution_count": 12,
      "outputs": [
        {
          "output_type": "display_data",
          "data": {
            "image/png": "[encoded data removed]",
            "text/plain": [
              "<Figure size 1440x720 with 1 Axes>"
            ]
          },
          "metadata": {
            "needs_background": "light"
          }
        }
      ]
    }
  ]
}