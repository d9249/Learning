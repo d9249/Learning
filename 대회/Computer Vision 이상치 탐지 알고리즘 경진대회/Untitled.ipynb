{
 "cells": [
  {
   "cell_type": "code",
   "execution_count": 1,
   "id": "military-jaguar",
   "metadata": {},
   "outputs": [
    {
     "name": "stdout",
     "output_type": "stream",
     "text": [
      "Cloning into 'DeepTextures'...\n",
      "remote: Enumerating objects: 50, done.\u001b[K\n",
      "remote: Total 50 (delta 0), reused 0 (delta 0), pack-reused 50\u001b[K\n",
      "Unpacking objects: 100% (50/50), done.\n"
     ]
    }
   ],
   "source": [
    "!git clone https://github.com/leongatys/DeepTextures.git"
   ]
  }
 ],
 "metadata": {
  "kernelspec": {
   "display_name": "Python 3",
   "language": "python",
   "name": "python3"
  },
  "language_info": {
   "codemirror_mode": {
    "name": "ipython",
    "version": 3
   },
   "file_extension": ".py",
   "mimetype": "text/x-python",
   "name": "python",
   "nbconvert_exporter": "python",
   "pygments_lexer": "ipython3",
   "version": "3.6.9"
  }
 },
 "nbformat": 4,
 "nbformat_minor": 5
}
