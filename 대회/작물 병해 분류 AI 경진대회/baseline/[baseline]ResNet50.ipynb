{
  "nbformat": 4,
  "nbformat_minor": 0,
  "metadata": {
    "kernelspec": {
      "name": "python3",
      "display_name": "Python 3"
    },
    "colab": {
      "name": "[baseline]ResNet50.ipynb",
      "provenance": [],
      "machine_shape": "hm",
      "include_colab_link": true
    },
    "language_info": {
      "name": "python"
    },
    "accelerator": "GPU",
    "widgets": {
      "application/vnd.jupyter.widget-state+json": {
        "2b2d84ee061f4af7aebf0e799f41e145": {
          "model_module": "@jupyter-widgets/controls",
          "model_name": "HBoxModel",
          "model_module_version": "1.5.0",
          "state": {
            "_view_name": "HBoxView",
            "_dom_classes": [],
            "_model_name": "HBoxModel",
            "_view_module": "@jupyter-widgets/controls",
            "_model_module_version": "1.5.0",
            "_view_count": null,
            "_view_module_version": "1.5.0",
            "box_style": "",
            "layout": "IPY_MODEL_f87e980a6bb34296b2bed6c2109b5353",
            "_model_module": "@jupyter-widgets/controls",
            "children": [
              "IPY_MODEL_fff37117b1aa4cc8b86348d136917d62",
              "IPY_MODEL_888cd37dae654534850388ba0fe88647",
              "IPY_MODEL_c3b361a7c1ac402e9228dc8cee994885"
            ]
          }
        },
        "f87e980a6bb34296b2bed6c2109b5353": {
          "model_module": "@jupyter-widgets/base",
          "model_name": "LayoutModel",
          "model_module_version": "1.2.0",
          "state": {
            "_view_name": "LayoutView",
            "grid_template_rows": null,
            "right": null,
            "justify_content": null,
            "_view_module": "@jupyter-widgets/base",
            "overflow": null,
            "_model_module_version": "1.2.0",
            "_view_count": null,
            "flex_flow": null,
            "width": null,
            "min_width": null,
            "border": null,
            "align_items": null,
            "bottom": null,
            "_model_module": "@jupyter-widgets/base",
            "top": null,
            "grid_column": null,
            "overflow_y": null,
            "overflow_x": null,
            "grid_auto_flow": null,
            "grid_area": null,
            "grid_template_columns": null,
            "flex": null,
            "_model_name": "LayoutModel",
            "justify_items": null,
            "grid_row": null,
            "max_height": null,
            "align_content": null,
            "visibility": null,
            "align_self": null,
            "height": null,
            "min_height": null,
            "padding": null,
            "grid_auto_rows": null,
            "grid_gap": null,
            "max_width": null,
            "order": null,
            "_view_module_version": "1.2.0",
            "grid_template_areas": null,
            "object_position": null,
            "object_fit": null,
            "grid_auto_columns": null,
            "margin": null,
            "display": null,
            "left": null
          }
        },
        "fff37117b1aa4cc8b86348d136917d62": {
          "model_module": "@jupyter-widgets/controls",
          "model_name": "HTMLModel",
          "model_module_version": "1.5.0",
          "state": {
            "_view_name": "HTMLView",
            "style": "IPY_MODEL_e632119a86cd4999886b2646f3758c07",
            "_dom_classes": [],
            "description": "",
            "_model_name": "HTMLModel",
            "placeholder": "​",
            "_view_module": "@jupyter-widgets/controls",
            "_model_module_version": "1.5.0",
            "value": "100%",
            "_view_count": null,
            "_view_module_version": "1.5.0",
            "description_tooltip": null,
            "_model_module": "@jupyter-widgets/controls",
            "layout": "IPY_MODEL_5c490bddcac9465d96fef31486d8f399"
          }
        },
        "888cd37dae654534850388ba0fe88647": {
          "model_module": "@jupyter-widgets/controls",
          "model_name": "FloatProgressModel",
          "model_module_version": "1.5.0",
          "state": {
            "_view_name": "ProgressView",
            "style": "IPY_MODEL_440fbfa0dc3a43338ce62ef9f7f0fb22",
            "_dom_classes": [],
            "description": "",
            "_model_name": "FloatProgressModel",
            "bar_style": "success",
            "max": 102530333,
            "_view_module": "@jupyter-widgets/controls",
            "_model_module_version": "1.5.0",
            "value": 102530333,
            "_view_count": null,
            "_view_module_version": "1.5.0",
            "orientation": "horizontal",
            "min": 0,
            "description_tooltip": null,
            "_model_module": "@jupyter-widgets/controls",
            "layout": "IPY_MODEL_b3b621f003fc4886b48bc33f21835a72"
          }
        },
        "c3b361a7c1ac402e9228dc8cee994885": {
          "model_module": "@jupyter-widgets/controls",
          "model_name": "HTMLModel",
          "model_module_version": "1.5.0",
          "state": {
            "_view_name": "HTMLView",
            "style": "IPY_MODEL_0b3fb3aa278a4cc4927a2e62bc0dd667",
            "_dom_classes": [],
            "description": "",
            "_model_name": "HTMLModel",
            "placeholder": "​",
            "_view_module": "@jupyter-widgets/controls",
            "_model_module_version": "1.5.0",
            "value": " 97.8M/97.8M [00:00&lt;00:00, 208MB/s]",
            "_view_count": null,
            "_view_module_version": "1.5.0",
            "description_tooltip": null,
            "_model_module": "@jupyter-widgets/controls",
            "layout": "IPY_MODEL_c76d54d0f5f74be6901dd310c1cca8ca"
          }
        },
        "e632119a86cd4999886b2646f3758c07": {
          "model_module": "@jupyter-widgets/controls",
          "model_name": "DescriptionStyleModel",
          "model_module_version": "1.5.0",
          "state": {
            "_view_name": "StyleView",
            "_model_name": "DescriptionStyleModel",
            "description_width": "",
            "_view_module": "@jupyter-widgets/base",
            "_model_module_version": "1.5.0",
            "_view_count": null,
            "_view_module_version": "1.2.0",
            "_model_module": "@jupyter-widgets/controls"
          }
        },
        "5c490bddcac9465d96fef31486d8f399": {
          "model_module": "@jupyter-widgets/base",
          "model_name": "LayoutModel",
          "model_module_version": "1.2.0",
          "state": {
            "_view_name": "LayoutView",
            "grid_template_rows": null,
            "right": null,
            "justify_content": null,
            "_view_module": "@jupyter-widgets/base",
            "overflow": null,
            "_model_module_version": "1.2.0",
            "_view_count": null,
            "flex_flow": null,
            "width": null,
            "min_width": null,
            "border": null,
            "align_items": null,
            "bottom": null,
            "_model_module": "@jupyter-widgets/base",
            "top": null,
            "grid_column": null,
            "overflow_y": null,
            "overflow_x": null,
            "grid_auto_flow": null,
            "grid_area": null,
            "grid_template_columns": null,
            "flex": null,
            "_model_name": "LayoutModel",
            "justify_items": null,
            "grid_row": null,
            "max_height": null,
            "align_content": null,
            "visibility": null,
            "align_self": null,
            "height": null,
            "min_height": null,
            "padding": null,
            "grid_auto_rows": null,
            "grid_gap": null,
            "max_width": null,
            "order": null,
            "_view_module_version": "1.2.0",
            "grid_template_areas": null,
            "object_position": null,
            "object_fit": null,
            "grid_auto_columns": null,
            "margin": null,
            "display": null,
            "left": null
          }
        },
        "440fbfa0dc3a43338ce62ef9f7f0fb22": {
          "model_module": "@jupyter-widgets/controls",
          "model_name": "ProgressStyleModel",
          "model_module_version": "1.5.0",
          "state": {
            "_view_name": "StyleView",
            "_model_name": "ProgressStyleModel",
            "description_width": "",
            "_view_module": "@jupyter-widgets/base",
            "_model_module_version": "1.5.0",
            "_view_count": null,
            "_view_module_version": "1.2.0",
            "bar_color": null,
            "_model_module": "@jupyter-widgets/controls"
          }
        },
        "b3b621f003fc4886b48bc33f21835a72": {
          "model_module": "@jupyter-widgets/base",
          "model_name": "LayoutModel",
          "model_module_version": "1.2.0",
          "state": {
            "_view_name": "LayoutView",
            "grid_template_rows": null,
            "right": null,
            "justify_content": null,
            "_view_module": "@jupyter-widgets/base",
            "overflow": null,
            "_model_module_version": "1.2.0",
            "_view_count": null,
            "flex_flow": null,
            "width": null,
            "min_width": null,
            "border": null,
            "align_items": null,
            "bottom": null,
            "_model_module": "@jupyter-widgets/base",
            "top": null,
            "grid_column": null,
            "overflow_y": null,
            "overflow_x": null,
            "grid_auto_flow": null,
            "grid_area": null,
            "grid_template_columns": null,
            "flex": null,
            "_model_name": "LayoutModel",
            "justify_items": null,
            "grid_row": null,
            "max_height": null,
            "align_content": null,
            "visibility": null,
            "align_self": null,
            "height": null,
            "min_height": null,
            "padding": null,
            "grid_auto_rows": null,
            "grid_gap": null,
            "max_width": null,
            "order": null,
            "_view_module_version": "1.2.0",
            "grid_template_areas": null,
            "object_position": null,
            "object_fit": null,
            "grid_auto_columns": null,
            "margin": null,
            "display": null,
            "left": null
          }
        },
        "0b3fb3aa278a4cc4927a2e62bc0dd667": {
          "model_module": "@jupyter-widgets/controls",
          "model_name": "DescriptionStyleModel",
          "model_module_version": "1.5.0",
          "state": {
            "_view_name": "StyleView",
            "_model_name": "DescriptionStyleModel",
            "description_width": "",
            "_view_module": "@jupyter-widgets/base",
            "_model_module_version": "1.5.0",
            "_view_count": null,
            "_view_module_version": "1.2.0",
            "_model_module": "@jupyter-widgets/controls"
          }
        },
        "c76d54d0f5f74be6901dd310c1cca8ca": {
          "model_module": "@jupyter-widgets/base",
          "model_name": "LayoutModel",
          "model_module_version": "1.2.0",
          "state": {
            "_view_name": "LayoutView",
            "grid_template_rows": null,
            "right": null,
            "justify_content": null,
            "_view_module": "@jupyter-widgets/base",
            "overflow": null,
            "_model_module_version": "1.2.0",
            "_view_count": null,
            "flex_flow": null,
            "width": null,
            "min_width": null,
            "border": null,
            "align_items": null,
            "bottom": null,
            "_model_module": "@jupyter-widgets/base",
            "top": null,
            "grid_column": null,
            "overflow_y": null,
            "overflow_x": null,
            "grid_auto_flow": null,
            "grid_area": null,
            "grid_template_columns": null,
            "flex": null,
            "_model_name": "LayoutModel",
            "justify_items": null,
            "grid_row": null,
            "max_height": null,
            "align_content": null,
            "visibility": null,
            "align_self": null,
            "height": null,
            "min_height": null,
            "padding": null,
            "grid_auto_rows": null,
            "grid_gap": null,
            "max_width": null,
            "order": null,
            "_view_module_version": "1.2.0",
            "grid_template_areas": null,
            "object_position": null,
            "object_fit": null,
            "grid_auto_columns": null,
            "margin": null,
            "display": null,
            "left": null
          }
        }
      }
    }
  },
  "cells": [
    {
      "cell_type": "markdown",
      "metadata": {
        "id": "view-in-github",
        "colab_type": "text"
      },
      "source": [
        "<a href=\"https://colab.research.google.com/github/d9249/DACON/blob/main/%5Bbaseline%5DResNet50.ipynb\" target=\"_parent\"><img src=\"https://colab.research.google.com/assets/colab-badge.svg\" alt=\"Open In Colab\"/></a>"
      ]
    },
    {
      "cell_type": "code",
      "metadata": {
        "colab": {
          "base_uri": "https://localhost:8080/"
        },
        "id": "CazxOt_4UQwY",
        "outputId": "ebe6e726-3f44-4c07-a9a1-fb1bdb4190ca"
      },
      "source": [
        "!nvidia-smi"
      ],
      "execution_count": 1,
      "outputs": [
        {
          "output_type": "stream",
          "name": "stdout",
          "text": [
            "Wed Oct 13 20:22:12 2021       \n",
            "+-----------------------------------------------------------------------------+\n",
            "| NVIDIA-SMI 470.74       Driver Version: 460.32.03    CUDA Version: 11.2     |\n",
            "|-------------------------------+----------------------+----------------------+\n",
            "| GPU  Name        Persistence-M| Bus-Id        Disp.A | Volatile Uncorr. ECC |\n",
            "| Fan  Temp  Perf  Pwr:Usage/Cap|         Memory-Usage | GPU-Util  Compute M. |\n",
            "|                               |                      |               MIG M. |\n",
            "|===============================+======================+======================|\n",
            "|   0  Tesla P100-PCIE...  Off  | 00000000:00:04.0 Off |                    0 |\n",
            "| N/A   35C    P0    28W / 250W |      0MiB / 16280MiB |      0%      Default |\n",
            "|                               |                      |                  N/A |\n",
            "+-------------------------------+----------------------+----------------------+\n",
            "                                                                               \n",
            "+-----------------------------------------------------------------------------+\n",
            "| Processes:                                                                  |\n",
            "|  GPU   GI   CI        PID   Type   Process name                  GPU Memory |\n",
            "|        ID   ID                                                   Usage      |\n",
            "|=============================================================================|\n",
            "|  No running processes found                                                 |\n",
            "+-----------------------------------------------------------------------------+\n"
          ]
        }
      ]
    },
    {
      "cell_type": "code",
      "metadata": {
        "colab": {
          "base_uri": "https://localhost:8080/"
        },
        "id": "t7UcyDC5UIu7",
        "outputId": "e9632d46-8496-4958-c72c-b27ed41c2635"
      },
      "source": [
        "from google.colab import drive\n",
        "drive.mount('/content/drive')"
      ],
      "execution_count": 2,
      "outputs": [
        {
          "output_type": "stream",
          "name": "stdout",
          "text": [
            "Mounted at /content/drive\n"
          ]
        }
      ]
    },
    {
      "cell_type": "code",
      "metadata": {
        "id": "TUAr_kpxUW1M"
      },
      "source": [
        "!unzip -uq \"/content/drive/MyDrive/DACON_CropsAreSick/sicks.zip\""
      ],
      "execution_count": 4,
      "outputs": []
    },
    {
      "cell_type": "markdown",
      "metadata": {
        "id": "qGoOaPLkTK2S"
      },
      "source": [
        "baseline.ipynb<br>\n",
        ".. ├ models<br>\n",
        ".. └ data<br>\n",
        ".... ├ train_imgs<br>\n",
        ".... ├ test_imgs<br>\n",
        ".... ├ train.csv<br>\n",
        ".... ├ test.csv<br>\n",
        ".... └ sample_submission.csv"
      ]
    },
    {
      "cell_type": "markdown",
      "metadata": {
        "id": "3DyyYcg5TK2Y"
      },
      "source": [
        "# 사용 패키지"
      ]
    },
    {
      "cell_type": "code",
      "metadata": {
        "id": "WUdmpZtKTK2Z"
      },
      "source": [
        "import numpy as np\n",
        "import pandas as pd\n",
        "import matplotlib.pyplot as plt\n",
        "import cv2\n",
        "from tqdm import tqdm\n",
        "\n",
        "import torch\n",
        "from torch import nn\n",
        "from torchvision import models\n",
        "from torch.utils.data import Dataset, DataLoader"
      ],
      "execution_count": 5,
      "outputs": []
    },
    {
      "cell_type": "markdown",
      "metadata": {
        "id": "q9HpWXHFTK2b"
      },
      "source": [
        "# 데이터 로드"
      ]
    },
    {
      "cell_type": "code",
      "metadata": {
        "id": "rGuJ_GzwTK2c"
      },
      "source": [
        "train_total = pd.read_csv('./train.csv')\n",
        "test = pd.read_csv('./test.csv')"
      ],
      "execution_count": 6,
      "outputs": []
    },
    {
      "cell_type": "code",
      "metadata": {
        "colab": {
          "base_uri": "https://localhost:8080/",
          "height": 204
        },
        "id": "ZrkcukFHTK2c",
        "outputId": "b95d81b0-92d4-4e4f-b13f-8da32a6b7be3"
      },
      "source": [
        "train_total.head()"
      ],
      "execution_count": 7,
      "outputs": [
        {
          "output_type": "execute_result",
          "data": {
            "text/html": [
              "<div>\n",
              "<style scoped>\n",
              "    .dataframe tbody tr th:only-of-type {\n",
              "        vertical-align: middle;\n",
              "    }\n",
              "\n",
              "    .dataframe tbody tr th {\n",
              "        vertical-align: top;\n",
              "    }\n",
              "\n",
              "    .dataframe thead th {\n",
              "        text-align: right;\n",
              "    }\n",
              "</style>\n",
              "<table border=\"1\" class=\"dataframe\">\n",
              "  <thead>\n",
              "    <tr style=\"text-align: right;\">\n",
              "      <th></th>\n",
              "      <th>uid</th>\n",
              "      <th>img_path</th>\n",
              "      <th>disease</th>\n",
              "      <th>disease_code</th>\n",
              "    </tr>\n",
              "  </thead>\n",
              "  <tbody>\n",
              "    <tr>\n",
              "      <th>0</th>\n",
              "      <td>10000</td>\n",
              "      <td>train_imgs/10000.jpg</td>\n",
              "      <td>시설포도노균병</td>\n",
              "      <td>1</td>\n",
              "    </tr>\n",
              "    <tr>\n",
              "      <th>1</th>\n",
              "      <td>10001</td>\n",
              "      <td>train_imgs/10001.jpg</td>\n",
              "      <td>시설포도노균병</td>\n",
              "      <td>1</td>\n",
              "    </tr>\n",
              "    <tr>\n",
              "      <th>2</th>\n",
              "      <td>10002</td>\n",
              "      <td>train_imgs/10002.jpg</td>\n",
              "      <td>시설포도노균병반응</td>\n",
              "      <td>2</td>\n",
              "    </tr>\n",
              "    <tr>\n",
              "      <th>3</th>\n",
              "      <td>10003</td>\n",
              "      <td>train_imgs/10003.jpg</td>\n",
              "      <td>축과병</td>\n",
              "      <td>4</td>\n",
              "    </tr>\n",
              "    <tr>\n",
              "      <th>4</th>\n",
              "      <td>10004</td>\n",
              "      <td>train_imgs/10004.jpg</td>\n",
              "      <td>시설포도노균병</td>\n",
              "      <td>1</td>\n",
              "    </tr>\n",
              "  </tbody>\n",
              "</table>\n",
              "</div>"
            ],
            "text/plain": [
              "     uid              img_path    disease  disease_code\n",
              "0  10000  train_imgs/10000.jpg    시설포도노균병             1\n",
              "1  10001  train_imgs/10001.jpg    시설포도노균병             1\n",
              "2  10002  train_imgs/10002.jpg  시설포도노균병반응             2\n",
              "3  10003  train_imgs/10003.jpg        축과병             4\n",
              "4  10004  train_imgs/10004.jpg    시설포도노균병             1"
            ]
          },
          "metadata": {},
          "execution_count": 7
        }
      ]
    },
    {
      "cell_type": "code",
      "metadata": {
        "colab": {
          "base_uri": "https://localhost:8080/",
          "height": 204
        },
        "id": "XXXTJ_fxTK2e",
        "outputId": "4aba9d18-d33d-41c0-b27d-601fdffbdf23"
      },
      "source": [
        "test.head()"
      ],
      "execution_count": 8,
      "outputs": [
        {
          "output_type": "execute_result",
          "data": {
            "text/html": [
              "<div>\n",
              "<style scoped>\n",
              "    .dataframe tbody tr th:only-of-type {\n",
              "        vertical-align: middle;\n",
              "    }\n",
              "\n",
              "    .dataframe tbody tr th {\n",
              "        vertical-align: top;\n",
              "    }\n",
              "\n",
              "    .dataframe thead th {\n",
              "        text-align: right;\n",
              "    }\n",
              "</style>\n",
              "<table border=\"1\" class=\"dataframe\">\n",
              "  <thead>\n",
              "    <tr style=\"text-align: right;\">\n",
              "      <th></th>\n",
              "      <th>uid</th>\n",
              "      <th>img_path</th>\n",
              "    </tr>\n",
              "  </thead>\n",
              "  <tbody>\n",
              "    <tr>\n",
              "      <th>0</th>\n",
              "      <td>20000</td>\n",
              "      <td>test_imgs/20000.jpg</td>\n",
              "    </tr>\n",
              "    <tr>\n",
              "      <th>1</th>\n",
              "      <td>20001</td>\n",
              "      <td>test_imgs/20001.jpg</td>\n",
              "    </tr>\n",
              "    <tr>\n",
              "      <th>2</th>\n",
              "      <td>20002</td>\n",
              "      <td>test_imgs/20002.jpg</td>\n",
              "    </tr>\n",
              "    <tr>\n",
              "      <th>3</th>\n",
              "      <td>20003</td>\n",
              "      <td>test_imgs/20003.jpg</td>\n",
              "    </tr>\n",
              "    <tr>\n",
              "      <th>4</th>\n",
              "      <td>20004</td>\n",
              "      <td>test_imgs/20004.jpg</td>\n",
              "    </tr>\n",
              "  </tbody>\n",
              "</table>\n",
              "</div>"
            ],
            "text/plain": [
              "     uid             img_path\n",
              "0  20000  test_imgs/20000.jpg\n",
              "1  20001  test_imgs/20001.jpg\n",
              "2  20002  test_imgs/20002.jpg\n",
              "3  20003  test_imgs/20003.jpg\n",
              "4  20004  test_imgs/20004.jpg"
            ]
          },
          "metadata": {},
          "execution_count": 8
        }
      ]
    },
    {
      "cell_type": "markdown",
      "metadata": {
        "id": "CfkNoBQaTK2f"
      },
      "source": [
        "# 하이퍼파라미터 및 변수"
      ]
    },
    {
      "cell_type": "code",
      "metadata": {
        "id": "BSEfcP0fTK2f"
      },
      "source": [
        "device = torch.device(\"cuda:0\")\n",
        "batch_size = 32\n",
        "class_n = len(train_total['disease_code'].unique())\n",
        "learning_rate = 1e-4\n",
        "epochs = 50\n",
        "save_path = '/content/drive/MyDrive/DACON_CropsAreSick/model.pt'"
      ],
      "execution_count": 26,
      "outputs": []
    },
    {
      "cell_type": "markdown",
      "metadata": {
        "id": "JJoEU2bpTK2g"
      },
      "source": [
        "# 데이터셋 구성"
      ]
    },
    {
      "cell_type": "code",
      "metadata": {
        "id": "N3_1FuRYTK2h"
      },
      "source": [
        "class CustomDataset(Dataset):\n",
        "    def __init__(self, files, labels=None, mode='train'):\n",
        "        self.mode = mode\n",
        "        self.files = files\n",
        "        if mode == 'train':\n",
        "            self.labels = labels\n",
        "            \n",
        "    def __len__(self):\n",
        "        return len(self.files)\n",
        "    \n",
        "    def __getitem__(self, i):\n",
        "        if self.mode == 'train':\n",
        "            img = cv2.imread('./train_imgs/'+self.files[i])\n",
        "            img = cv2.resize(img, dsize=(256, 256), interpolation=cv2.INTER_AREA)\n",
        "            img = img.astype(np.float32)/255\n",
        "            img = np.transpose(img, (2,0,1))\n",
        "            return {\n",
        "                'img' : torch.tensor(img, dtype=torch.float32),\n",
        "                'label' : torch.tensor(self.labels[i], dtype=torch.long)\n",
        "            }\n",
        "        else:\n",
        "            img = cv2.imread('./test_imgs/'+self.files[i])\n",
        "            img = cv2.resize(img, dsize=(256, 256), interpolation=cv2.INTER_AREA)\n",
        "            img = img.astype(np.float32)/255\n",
        "            img = np.transpose(img, (2,0,1))\n",
        "            return {\n",
        "                'img' : torch.tensor(img, dtype=torch.float32),\n",
        "            }"
      ],
      "execution_count": 10,
      "outputs": []
    },
    {
      "cell_type": "code",
      "metadata": {
        "id": "doD_-1nKTK2i"
      },
      "source": [
        "train = train_total.iloc[:200]\n",
        "val = train_total.iloc[200:]"
      ],
      "execution_count": 11,
      "outputs": []
    },
    {
      "cell_type": "code",
      "metadata": {
        "colab": {
          "base_uri": "https://localhost:8080/"
        },
        "id": "x9uRxOklTK2j",
        "outputId": "e29a4a84-73da-491d-81aa-22ccd3133c0d"
      },
      "source": [
        "train_dataset = CustomDataset(train['img_path'].str.split('/').str[-1].values, train['disease_code'].values)\n",
        "val_dataset = CustomDataset(val['img_path'].str.split('/').str[-1].values, val['disease_code'].values)\n",
        "\n",
        "train_dataloader = torch.utils.data.DataLoader(train_dataset, batch_size=batch_size, num_workers=16, shuffle=True)\n",
        "val_dataloader = torch.utils.data.DataLoader(val_dataset, batch_size=batch_size, num_workers=16, shuffle=False)\n",
        "\n",
        "test_dataset = CustomDataset(test['img_path'].str.split('/').str[-1], labels=None, mode='test')\n",
        "test_dataloader = torch.utils.data.DataLoader(test_dataset, batch_size=batch_size, num_workers=16, shuffle=False)"
      ],
      "execution_count": 12,
      "outputs": [
        {
          "output_type": "stream",
          "name": "stderr",
          "text": [
            "/usr/local/lib/python3.7/dist-packages/torch/utils/data/dataloader.py:481: UserWarning: This DataLoader will create 16 worker processes in total. Our suggested max number of worker in current system is 4, which is smaller than what this DataLoader is going to create. Please be aware that excessive worker creation might get DataLoader running slow or even freeze, lower the worker number to avoid potential slowness/freeze if necessary.\n",
            "  cpuset_checked))\n"
          ]
        }
      ]
    },
    {
      "cell_type": "markdown",
      "metadata": {
        "id": "R83h-PFoTK2j"
      },
      "source": [
        "# 모델"
      ]
    },
    {
      "cell_type": "code",
      "metadata": {
        "id": "linriOSHTK2k"
      },
      "source": [
        "class CNN_Model(nn.Module):\n",
        "    def __init__(self, class_n, rate=0.1):\n",
        "        super(CNN_Model, self).__init__()\n",
        "        self.model = models.resnet50(pretrained=True)\n",
        "        self.dropout = nn.Dropout(rate)\n",
        "        self.output_layer = nn.Linear(in_features=1000, out_features=class_n, bias=True)\n",
        "    \n",
        "    def forward(self, inputs):\n",
        "        output = self.output_layer(self.dropout(self.model(inputs)))\n",
        "        return output"
      ],
      "execution_count": 13,
      "outputs": []
    },
    {
      "cell_type": "code",
      "metadata": {
        "colab": {
          "base_uri": "https://localhost:8080/",
          "height": 67,
          "referenced_widgets": [
            "2b2d84ee061f4af7aebf0e799f41e145",
            "f87e980a6bb34296b2bed6c2109b5353",
            "fff37117b1aa4cc8b86348d136917d62",
            "888cd37dae654534850388ba0fe88647",
            "c3b361a7c1ac402e9228dc8cee994885",
            "e632119a86cd4999886b2646f3758c07",
            "5c490bddcac9465d96fef31486d8f399",
            "440fbfa0dc3a43338ce62ef9f7f0fb22",
            "b3b621f003fc4886b48bc33f21835a72",
            "0b3fb3aa278a4cc4927a2e62bc0dd667",
            "c76d54d0f5f74be6901dd310c1cca8ca"
          ]
        },
        "id": "M-IxRtenTK2l",
        "outputId": "59842469-e132-4801-dd50-08424c0efe66"
      },
      "source": [
        "model = CNN_Model(class_n).to(device)"
      ],
      "execution_count": 14,
      "outputs": [
        {
          "output_type": "stream",
          "name": "stderr",
          "text": [
            "Downloading: \"https://download.pytorch.org/models/resnet50-0676ba61.pth\" to /root/.cache/torch/hub/checkpoints/resnet50-0676ba61.pth\n"
          ]
        },
        {
          "output_type": "display_data",
          "data": {
            "application/vnd.jupyter.widget-view+json": {
              "model_id": "2b2d84ee061f4af7aebf0e799f41e145",
              "version_minor": 0,
              "version_major": 2
            },
            "text/plain": [
              "  0%|          | 0.00/97.8M [00:00<?, ?B/s]"
            ]
          },
          "metadata": {}
        }
      ]
    },
    {
      "cell_type": "code",
      "metadata": {
        "id": "2bAoZ66eTK2l"
      },
      "source": [
        "optimizer = torch.optim.Adam(model.parameters(), lr=learning_rate)\n",
        "criterion = nn.CrossEntropyLoss()"
      ],
      "execution_count": 15,
      "outputs": []
    },
    {
      "cell_type": "markdown",
      "metadata": {
        "id": "LRgHbcKaTK2m"
      },
      "source": [
        "# 학습"
      ]
    },
    {
      "cell_type": "code",
      "metadata": {
        "id": "5zQb1W0KTK2m"
      },
      "source": [
        "def train_step(batch_item, epoch, batch, training):\n",
        "    img = batch_item['img'].to(device)\n",
        "    label = batch_item['label'].to(device)\n",
        "    if training is True:\n",
        "        model.train()\n",
        "        optimizer.zero_grad()\n",
        "        with torch.cuda.amp.autocast():\n",
        "            output = model(img)\n",
        "            loss = criterion(output, label)\n",
        "        loss.backward()\n",
        "        optimizer.step()\n",
        "        \n",
        "        return loss\n",
        "    else:\n",
        "        model.eval()\n",
        "        with torch.no_grad():\n",
        "            output = model(img)\n",
        "            loss = criterion(output, label)\n",
        "            \n",
        "        return loss"
      ],
      "execution_count": 16,
      "outputs": []
    },
    {
      "cell_type": "code",
      "metadata": {
        "colab": {
          "base_uri": "https://localhost:8080/"
        },
        "id": "dcLa4O3rTK2n",
        "outputId": "8975c647-2b05-4d06-fecb-105f5e6c3bc0"
      },
      "source": [
        "loss_plot, val_loss_plot = [], []\n",
        "\n",
        "for epoch in range(epochs):\n",
        "    total_loss, total_val_loss = 0, 0\n",
        "    \n",
        "    tqdm_dataset = tqdm(enumerate(train_dataloader))\n",
        "    training = True\n",
        "    for batch, batch_item in tqdm_dataset:\n",
        "        batch_loss = train_step(batch_item, epoch, batch, training)\n",
        "        total_loss += batch_loss\n",
        "        \n",
        "        tqdm_dataset.set_postfix({\n",
        "            'Epoch': epoch + 1,\n",
        "            'Loss': '{:06f}'.format(batch_loss.item()),\n",
        "            'Total Loss' : '{:06f}'.format(total_loss/(batch+1))\n",
        "        })\n",
        "    loss_plot.append(total_loss/(batch+1))\n",
        "    \n",
        "    tqdm_dataset = tqdm(enumerate(val_dataloader))\n",
        "    training = False\n",
        "    for batch, batch_item in tqdm_dataset:\n",
        "        batch_loss = train_step(batch_item, epoch, batch, training)\n",
        "        total_val_loss += batch_loss\n",
        "        \n",
        "        tqdm_dataset.set_postfix({\n",
        "            'Epoch': epoch + 1,\n",
        "            'Val Loss': '{:06f}'.format(batch_loss.item()),\n",
        "            'Total Val Loss' : '{:06f}'.format(total_val_loss/(batch+1))\n",
        "        })\n",
        "    val_loss_plot.append(total_val_loss/(batch+1))\n",
        "    \n",
        "    if np.min(val_loss_plot) == val_loss_plot[-1]:\n",
        "        torch.save(model, save_path)"
      ],
      "execution_count": 27,
      "outputs": [
        {
          "output_type": "stream",
          "name": "stderr",
          "text": [
            "/usr/local/lib/python3.7/dist-packages/torch/utils/data/dataloader.py:481: UserWarning: This DataLoader will create 16 worker processes in total. Our suggested max number of worker in current system is 4, which is smaller than what this DataLoader is going to create. Please be aware that excessive worker creation might get DataLoader running slow or even freeze, lower the worker number to avoid potential slowness/freeze if necessary.\n",
            "  cpuset_checked))\n",
            "4it [00:08,  2.08s/it, Epoch=1, Loss=0.004057, Total Loss=0.031906]\n",
            "1it [00:04,  4.71s/it, Epoch=1, Val Loss=0.198715, Total Val Loss=0.198715]\n",
            "4it [00:08,  2.16s/it, Epoch=2, Loss=0.616810, Total Loss=0.156085]\n",
            "1it [00:04,  4.72s/it, Epoch=2, Val Loss=0.242032, Total Val Loss=0.242032]\n",
            "4it [00:09,  2.31s/it, Epoch=3, Loss=0.278155, Total Loss=0.071570]\n",
            "1it [00:04,  4.64s/it, Epoch=3, Val Loss=0.396901, Total Val Loss=0.396901]\n",
            "4it [00:08,  2.19s/it, Epoch=4, Loss=0.012582, Total Loss=0.011269]\n",
            "1it [00:04,  4.66s/it, Epoch=4, Val Loss=0.599628, Total Val Loss=0.599628]\n",
            "4it [00:08,  2.05s/it, Epoch=5, Loss=0.014529, Total Loss=0.034925]\n",
            "1it [00:04,  4.65s/it, Epoch=5, Val Loss=0.775881, Total Val Loss=0.775881]\n",
            "4it [00:08,  2.02s/it, Epoch=6, Loss=0.003285, Total Loss=0.017600]\n",
            "1it [00:04,  4.65s/it, Epoch=6, Val Loss=0.797136, Total Val Loss=0.797136]\n",
            "4it [00:09,  2.29s/it, Epoch=7, Loss=0.161468, Total Loss=0.049533]\n",
            "1it [00:04,  4.69s/it, Epoch=7, Val Loss=0.634339, Total Val Loss=0.634339]\n",
            "4it [00:09,  2.31s/it, Epoch=8, Loss=0.009616, Total Loss=0.007034]\n",
            "1it [00:04,  4.67s/it, Epoch=8, Val Loss=0.481322, Total Val Loss=0.481322]\n",
            "4it [00:08,  2.13s/it, Epoch=9, Loss=0.008922, Total Loss=0.004620]\n",
            "1it [00:04,  4.66s/it, Epoch=9, Val Loss=0.468940, Total Val Loss=0.468940]\n",
            "4it [00:08,  2.15s/it, Epoch=10, Loss=0.142724, Total Loss=0.038231]\n",
            "1it [00:04,  4.65s/it, Epoch=10, Val Loss=0.410363, Total Val Loss=0.410363]\n",
            "4it [00:08,  2.03s/it, Epoch=11, Loss=0.234839, Total Loss=0.063930]\n",
            "1it [00:04,  4.63s/it, Epoch=11, Val Loss=0.265208, Total Val Loss=0.265208]\n",
            "4it [00:08,  2.12s/it, Epoch=12, Loss=0.020801, Total Loss=0.018503]\n",
            "1it [00:04,  4.68s/it, Epoch=12, Val Loss=0.309966, Total Val Loss=0.309966]\n",
            "4it [00:08,  2.12s/it, Epoch=13, Loss=0.256324, Total Loss=0.073534]\n",
            "1it [00:04,  4.67s/it, Epoch=13, Val Loss=0.336435, Total Val Loss=0.336435]\n",
            "4it [00:09,  2.44s/it, Epoch=14, Loss=0.024594, Total Loss=0.021157]\n",
            "1it [00:04,  4.65s/it, Epoch=14, Val Loss=0.339318, Total Val Loss=0.339318]\n",
            "4it [00:08,  2.23s/it, Epoch=15, Loss=0.094386, Total Loss=0.043467]\n",
            "1it [00:04,  4.67s/it, Epoch=15, Val Loss=0.290290, Total Val Loss=0.290290]\n",
            "4it [00:08,  2.17s/it, Epoch=16, Loss=0.054429, Total Loss=0.019599]\n",
            "1it [00:04,  4.64s/it, Epoch=16, Val Loss=0.278482, Total Val Loss=0.278482]\n",
            "4it [00:08,  2.19s/it, Epoch=17, Loss=0.162057, Total Loss=0.055025]\n",
            "1it [00:04,  4.68s/it, Epoch=17, Val Loss=0.306307, Total Val Loss=0.306307]\n",
            "4it [00:08,  2.22s/it, Epoch=18, Loss=0.085837, Total Loss=0.046478]\n",
            "1it [00:04,  4.69s/it, Epoch=18, Val Loss=0.306769, Total Val Loss=0.306769]\n",
            "4it [00:08,  2.02s/it, Epoch=19, Loss=0.048968, Total Loss=0.015374]\n",
            "1it [00:04,  4.65s/it, Epoch=19, Val Loss=0.253164, Total Val Loss=0.253164]\n",
            "4it [00:08,  2.14s/it, Epoch=20, Loss=0.379625, Total Loss=0.097773]\n",
            "1it [00:04,  4.66s/it, Epoch=20, Val Loss=0.320301, Total Val Loss=0.320301]\n",
            "4it [00:08,  2.24s/it, Epoch=21, Loss=0.003108, Total Loss=0.011035]\n",
            "1it [00:04,  4.68s/it, Epoch=21, Val Loss=0.475373, Total Val Loss=0.475373]\n",
            "4it [00:08,  2.15s/it, Epoch=22, Loss=0.005509, Total Loss=0.029485]\n",
            "1it [00:04,  4.64s/it, Epoch=22, Val Loss=0.613306, Total Val Loss=0.613306]\n",
            "4it [00:08,  2.15s/it, Epoch=23, Loss=0.022604, Total Loss=0.022456]\n",
            "1it [00:04,  4.64s/it, Epoch=23, Val Loss=0.728486, Total Val Loss=0.728486]\n",
            "4it [00:09,  2.30s/it, Epoch=24, Loss=0.059660, Total Loss=0.024977]\n",
            "1it [00:04,  4.69s/it, Epoch=24, Val Loss=0.754651, Total Val Loss=0.754651]\n",
            "4it [00:09,  2.28s/it, Epoch=25, Loss=0.097757, Total Loss=0.026096]\n",
            "1it [00:04,  4.66s/it, Epoch=25, Val Loss=0.476631, Total Val Loss=0.476631]\n",
            "4it [00:08,  2.19s/it, Epoch=26, Loss=0.051227, Total Loss=0.015554]\n",
            "1it [00:04,  4.66s/it, Epoch=26, Val Loss=0.292533, Total Val Loss=0.292533]\n",
            "4it [00:08,  2.12s/it, Epoch=27, Loss=0.008785, Total Loss=0.005549]\n",
            "1it [00:04,  4.66s/it, Epoch=27, Val Loss=0.213459, Total Val Loss=0.213459]\n",
            "4it [00:08,  2.16s/it, Epoch=28, Loss=0.525789, Total Loss=0.153469]\n",
            "1it [00:04,  4.64s/it, Epoch=28, Val Loss=0.190589, Total Val Loss=0.190589]\n",
            "4it [00:09,  2.28s/it, Epoch=29, Loss=0.002603, Total Loss=0.001674]\n",
            "1it [00:04,  4.71s/it, Epoch=29, Val Loss=0.534256, Total Val Loss=0.534256]\n",
            "4it [00:09,  2.27s/it, Epoch=30, Loss=0.004316, Total Loss=0.011111]\n",
            "1it [00:04,  4.65s/it, Epoch=30, Val Loss=0.745514, Total Val Loss=0.745514]\n",
            "4it [00:08,  2.16s/it, Epoch=31, Loss=0.108821, Total Loss=0.050990]\n",
            "1it [00:04,  4.66s/it, Epoch=31, Val Loss=0.539569, Total Val Loss=0.539569]\n",
            "4it [00:08,  2.20s/it, Epoch=32, Loss=1.898131, Total Loss=0.480845]\n",
            "1it [00:04,  4.62s/it, Epoch=32, Val Loss=0.649691, Total Val Loss=0.649691]\n",
            "4it [00:08,  2.08s/it, Epoch=33, Loss=0.091027, Total Loss=0.055083]\n",
            "1it [00:04,  4.63s/it, Epoch=33, Val Loss=1.131814, Total Val Loss=1.131814]\n",
            "4it [00:09,  2.27s/it, Epoch=34, Loss=0.097263, Total Loss=0.161870]\n",
            "1it [00:04,  4.69s/it, Epoch=34, Val Loss=0.760965, Total Val Loss=0.760965]\n",
            "4it [00:08,  2.09s/it, Epoch=35, Loss=0.017040, Total Loss=0.031730]\n",
            "1it [00:04,  4.71s/it, Epoch=35, Val Loss=0.530980, Total Val Loss=0.530980]\n",
            "4it [00:08,  2.21s/it, Epoch=36, Loss=0.324034, Total Loss=0.087107]\n",
            "1it [00:04,  4.68s/it, Epoch=36, Val Loss=0.458852, Total Val Loss=0.458852]\n",
            "4it [00:09,  2.29s/it, Epoch=37, Loss=0.000680, Total Loss=0.001532]\n",
            "1it [00:04,  4.63s/it, Epoch=37, Val Loss=0.555094, Total Val Loss=0.555094]\n",
            "4it [00:08,  2.16s/it, Epoch=38, Loss=0.791853, Total Loss=0.236274]\n",
            "1it [00:04,  4.66s/it, Epoch=38, Val Loss=0.560818, Total Val Loss=0.560818]\n",
            "4it [00:08,  2.11s/it, Epoch=39, Loss=0.236079, Total Loss=0.068281]\n",
            "1it [00:04,  4.64s/it, Epoch=39, Val Loss=0.546622, Total Val Loss=0.546622]\n",
            "4it [00:09,  2.36s/it, Epoch=40, Loss=0.469103, Total Loss=0.146812]\n",
            "1it [00:04,  4.66s/it, Epoch=40, Val Loss=0.596277, Total Val Loss=0.596277]\n",
            "4it [00:08,  2.15s/it, Epoch=41, Loss=0.780973, Total Loss=0.216959]\n",
            "1it [00:04,  4.69s/it, Epoch=41, Val Loss=0.578757, Total Val Loss=0.578757]\n",
            "4it [00:08,  2.10s/it, Epoch=42, Loss=0.044251, Total Loss=0.033851]\n",
            "1it [00:04,  4.65s/it, Epoch=42, Val Loss=0.389111, Total Val Loss=0.389111]\n",
            "4it [00:08,  2.07s/it, Epoch=43, Loss=0.910184, Total Loss=0.238245]\n",
            "1it [00:04,  4.67s/it, Epoch=43, Val Loss=0.284453, Total Val Loss=0.284453]\n",
            "4it [00:08,  2.13s/it, Epoch=44, Loss=1.443648, Total Loss=0.382949]\n",
            "1it [00:04,  4.63s/it, Epoch=44, Val Loss=0.266983, Total Val Loss=0.266983]\n",
            "4it [00:08,  2.13s/it, Epoch=45, Loss=0.447413, Total Loss=0.167493]\n",
            "1it [00:04,  4.65s/it, Epoch=45, Val Loss=0.240026, Total Val Loss=0.240026]\n",
            "4it [00:09,  2.27s/it, Epoch=46, Loss=0.562142, Total Loss=0.150431]\n",
            "1it [00:04,  4.67s/it, Epoch=46, Val Loss=0.192367, Total Val Loss=0.192367]\n",
            "4it [00:08,  2.20s/it, Epoch=47, Loss=0.024872, Total Loss=0.023334]\n",
            "1it [00:04,  4.65s/it, Epoch=47, Val Loss=0.187057, Total Val Loss=0.187057]\n",
            "4it [00:09,  2.27s/it, Epoch=48, Loss=0.011695, Total Loss=0.023037]\n",
            "1it [00:04,  4.65s/it, Epoch=48, Val Loss=0.200265, Total Val Loss=0.200265]\n",
            "4it [00:08,  2.01s/it, Epoch=49, Loss=0.017934, Total Loss=0.019309]\n",
            "1it [00:04,  4.64s/it, Epoch=49, Val Loss=0.217005, Total Val Loss=0.217005]\n",
            "4it [00:08,  2.11s/it, Epoch=50, Loss=0.005891, Total Loss=0.007057]\n",
            "1it [00:04,  4.67s/it, Epoch=50, Val Loss=0.233299, Total Val Loss=0.233299]\n"
          ]
        }
      ]
    },
    {
      "cell_type": "markdown",
      "metadata": {
        "id": "MTPWDhihTK2n"
      },
      "source": [
        "# 학습 결과"
      ]
    },
    {
      "cell_type": "code",
      "metadata": {
        "colab": {
          "base_uri": "https://localhost:8080/",
          "height": 279
        },
        "id": "LlzTw2lBTK2o",
        "outputId": "20418e14-2351-4455-f3d9-1444b4b41410"
      },
      "source": [
        "plt.plot(loss_plot, label='train_loss')\n",
        "plt.plot(val_loss_plot, label='val_loss')\n",
        "plt.xlabel('epoch')\n",
        "plt.ylabel('loss')\n",
        "plt.legend()\n",
        "plt.show()"
      ],
      "execution_count": 28,
      "outputs": [
        {
          "output_type": "display_data",
          "data": {
            "image/png": "[encoded data removed]",
            "text/plain": [
              "<Figure size 432x288 with 1 Axes>"
            ]
          },
          "metadata": {
            "needs_background": "light"
          }
        }
      ]
    },
    {
      "cell_type": "markdown",
      "metadata": {
        "id": "xcDYF7xCTK2o"
      },
      "source": [
        "# 추론 및 제출"
      ]
    },
    {
      "cell_type": "code",
      "metadata": {
        "id": "KsbanrbhTK2o"
      },
      "source": [
        "def predict(dataset):\n",
        "    model.eval()\n",
        "    tqdm_dataset = tqdm(enumerate(dataset))\n",
        "    training = False\n",
        "    results = []\n",
        "    for batch, batch_item in tqdm_dataset:\n",
        "        img = batch_item['img'].to(device)\n",
        "        with torch.no_grad():\n",
        "            output = model(img)\n",
        "        output = torch.tensor(torch.argmax(output, axis=-1), dtype=torch.int32).cpu().numpy()\n",
        "        results.extend(output)\n",
        "    return results"
      ],
      "execution_count": 29,
      "outputs": []
    },
    {
      "cell_type": "code",
      "metadata": {
        "colab": {
          "base_uri": "https://localhost:8080/"
        },
        "id": "1pa0FOmFTK2p",
        "outputId": "1687008d-b06c-4264-bf09-004425cf8d07"
      },
      "source": [
        "preds = predict(test_dataloader)"
      ],
      "execution_count": 30,
      "outputs": [
        {
          "output_type": "stream",
          "name": "stderr",
          "text": [
            "/usr/local/lib/python3.7/dist-packages/torch/utils/data/dataloader.py:481: UserWarning: This DataLoader will create 16 worker processes in total. Our suggested max number of worker in current system is 4, which is smaller than what this DataLoader is going to create. Please be aware that excessive worker creation might get DataLoader running slow or even freeze, lower the worker number to avoid potential slowness/freeze if necessary.\n",
            "  cpuset_checked))\n",
            "0it [00:00, ?it/s]/usr/local/lib/python3.7/dist-packages/ipykernel_launcher.py:10: UserWarning: To copy construct from a tensor, it is recommended to use sourceTensor.clone().detach() or sourceTensor.clone().detach().requires_grad_(True), rather than torch.tensor(sourceTensor).\n",
            "  # Remove the CWD from sys.path while we load stuff.\n",
            "75it [02:22,  1.90s/it]\n"
          ]
        }
      ]
    },
    {
      "cell_type": "code",
      "metadata": {
        "id": "FXnct79rTK2p"
      },
      "source": [
        "submission = pd.read_csv('./sample_submission.csv')"
      ],
      "execution_count": 31,
      "outputs": []
    },
    {
      "cell_type": "code",
      "metadata": {
        "id": "epNFH3vqTK2q"
      },
      "source": [
        "submission.iloc[:,1] = preds"
      ],
      "execution_count": 32,
      "outputs": []
    },
    {
      "cell_type": "code",
      "metadata": {
        "id": "lhe07edpTK2q"
      },
      "source": [
        "submission.to_csv('baseline2.csv', index=False)"
      ],
      "execution_count": 35,
      "outputs": []
    }
  ]
}