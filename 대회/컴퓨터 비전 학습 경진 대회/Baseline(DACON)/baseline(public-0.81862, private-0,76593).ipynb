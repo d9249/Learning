{
  "nbformat": 4,
  "nbformat_minor": 0,
  "metadata": {
    "colab": {
      "name": "CVLC_05_No Data Argmentation(public_0.81862-private_0.76593).ipynb",
      "provenance": [],
      "collapsed_sections": [],
      "include_colab_link": true
    },
    "kernelspec": {
      "name": "python3",
      "display_name": "Python 3"
    }
  },
  "cells": [
    {
      "cell_type": "markdown",
      "metadata": {
        "id": "view-in-github",
        "colab_type": "text"
      },
      "source": [
        "<a href=\"https://colab.research.google.com/github/d9249/DACON/blob/main/CVLC_05_No_Data_Argmentation(public_0_81862_private_0_76593).ipynb\" target=\"_parent\"><img src=\"https://colab.research.google.com/assets/colab-badge.svg\" alt=\"Open In Colab\"/></a>"
      ]
    },
    {
      "cell_type": "code",
      "metadata": {
        "id": "LmEaPJckuX-D"
      },
      "source": [
        "from google.colab import drive\n",
        "drive.mount('/content/drive')"
      ],
      "execution_count": null,
      "outputs": []
    },
    {
      "cell_type": "code",
      "metadata": {
        "id": "742aRTq7uC_D"
      },
      "source": [
        "import pandas as pd\n",
        "import numpy as np\n",
        "import matplotlib.pyplot as plt\n",
        "import warnings \n",
        "warnings.filterwarnings('ignore')\n",
        "import tensorflow as tf"
      ],
      "execution_count": 1,
      "outputs": []
    },
    {
      "cell_type": "code",
      "metadata": {
        "id": "88GAtllsufPj"
      },
      "source": [
        "train = pd.read_csv('/content/drive/MyDrive/DACON_CVLC/data/train.csv')\n",
        "test = pd.read_csv('/content/drive/MyDrive/DACON_CVLC/data/test.csv')\n",
        "sub = pd.read_csv('/content/drive/MyDrive/DACON_CVLC/data/submission.csv')"
      ],
      "execution_count": 3,
      "outputs": []
    },
    {
      "cell_type": "code",
      "metadata": {
        "id": "dDXCBS3aviCs"
      },
      "source": [
        "# drop columns\n",
        "x_train = train.drop(['id','digit','letter'],1)\n",
        "x_train = x_train.values"
      ],
      "execution_count": 4,
      "outputs": []
    },
    {
      "cell_type": "code",
      "metadata": {
        "id": "QnuBxHdPwSBb"
      },
      "source": [
        "# reshape\n",
        "x_train = x_train.reshape(-1,28,28,1)"
      ],
      "execution_count": 5,
      "outputs": []
    },
    {
      "cell_type": "code",
      "metadata": {
        "id": "h4XLGVeXwY8b"
      },
      "source": [
        "# 정규화\n",
        "x_train = x_train/255"
      ],
      "execution_count": 6,
      "outputs": []
    },
    {
      "cell_type": "code",
      "metadata": {
        "id": "ytP23B6ywaVD"
      },
      "source": [
        "# one hot encoder\n",
        "def one_hot_encoder(x):\n",
        "    y = np.zeros((len(x), len(np.unique(x))))  # 모든 값이 0인 백터\n",
        "    for i, num in enumerate(x):\n",
        "        y[i][num] = 1  # Label에 해당하는 인덱스에 1을 입력\n",
        "    return y"
      ],
      "execution_count": 7,
      "outputs": []
    },
    {
      "cell_type": "code",
      "metadata": {
        "id": "W-53igZvwe0T"
      },
      "source": [
        "y_train = one_hot_encoder(train['digit'])"
      ],
      "execution_count": 8,
      "outputs": []
    },
    {
      "cell_type": "code",
      "metadata": {
        "id": "poF7vIhIwgh7"
      },
      "source": [
        "def create_cnn_model(x_train):\n",
        "    inputs = tf.keras.layers.Input(x_train.shape[1:])\n",
        "\n",
        "    bn = tf.keras.layers.BatchNormalization(trainable=False)(inputs)\n",
        "    conv = tf.keras.layers.Conv2D(128, kernel_size=5, strides=1, padding='same', activation='relu')(bn)\n",
        "    bn = tf.keras.layers.BatchNormalization()(conv)\n",
        "    conv = tf.keras.layers.Conv2D(128, kernel_size=2, strides=1, padding='same', activation='relu')(bn)\n",
        "    pool = tf.keras.layers.MaxPooling2D((2, 2))(conv)\n",
        "\n",
        "    bn = tf.keras.layers.BatchNormalization()(pool)\n",
        "    conv = tf.keras.layers.Conv2D(256, kernel_size=2, strides=1, padding='same', activation='relu')(bn)\n",
        "    bn = tf.keras.layers.BatchNormalization()(conv)\n",
        "    conv = tf.keras.layers.Conv2D(256, kernel_size=2, strides=1, padding='same', activation='relu')(bn)\n",
        "    pool = tf.keras.layers.MaxPooling2D((2, 2))(conv)\n",
        "    \n",
        "    bn = tf.keras.layers.BatchNormalization()(pool)\n",
        "    conv = tf.keras.layers.Conv2D(512, kernel_size=2, strides=1, padding='same', activation='relu')(bn)\n",
        "    bn = tf.keras.layers.BatchNormalization()(conv) \n",
        "    conv = tf.keras.layers.Conv2D(512, kernel_size=2, strides=1, padding='same', activation='relu')(bn)\n",
        "    pool = tf.keras.layers.MaxPooling2D((2, 2))(conv) \n",
        "\n",
        "    flatten = tf.keras.layers.Flatten()(pool)\n",
        "\n",
        "    bn = tf.keras.layers.BatchNormalization()(flatten)\n",
        "    dense = tf.keras.layers.Dense(1000, activation='relu')(bn)\n",
        "\n",
        "    bn = tf.keras.layers.BatchNormalization()(dense)\n",
        "    outputs = tf.keras.layers.Dense(10, activation='softmax')(bn)\n",
        "\n",
        "    model = tf.keras.models.Model(inputs=inputs, outputs=outputs)\n",
        "\n",
        "    return model"
      ],
      "execution_count": 9,
      "outputs": []
    },
    {
      "cell_type": "code",
      "metadata": {
        "id": "Y88ID-UMwoRL"
      },
      "source": [
        "# 모델만들기\n",
        "model = create_cnn_model(x_train)"
      ],
      "execution_count": 10,
      "outputs": []
    },
    {
      "cell_type": "code",
      "metadata": {
        "colab": {
          "base_uri": "https://localhost:8080/"
        },
        "id": "DlkGiNEjxNmb",
        "outputId": "86e72ba6-f141-473c-de9e-db3a9a2ea582"
      },
      "source": [
        "model.compile(loss='categorical_crossentropy', optimizer='adam', metrics=['accuracy'])\n",
        "model.summary()"
      ],
      "execution_count": 11,
      "outputs": [
        {
          "output_type": "stream",
          "text": [
            "Model: \"model\"\n",
            "_________________________________________________________________\n",
            "Layer (type)                 Output Shape              Param #   \n",
            "=================================================================\n",
            "input_1 (InputLayer)         [(None, 28, 28, 1)]       0         \n",
            "_________________________________________________________________\n",
            "batch_normalization (BatchNo (None, 28, 28, 1)         4         \n",
            "_________________________________________________________________\n",
            "conv2d (Conv2D)              (None, 28, 28, 128)       3328      \n",
            "_________________________________________________________________\n",
            "batch_normalization_1 (Batch (None, 28, 28, 128)       512       \n",
            "_________________________________________________________________\n",
            "conv2d_1 (Conv2D)            (None, 28, 28, 128)       65664     \n",
            "_________________________________________________________________\n",
            "max_pooling2d (MaxPooling2D) (None, 14, 14, 128)       0         \n",
            "_________________________________________________________________\n",
            "batch_normalization_2 (Batch (None, 14, 14, 128)       512       \n",
            "_________________________________________________________________\n",
            "conv2d_2 (Conv2D)            (None, 14, 14, 256)       131328    \n",
            "_________________________________________________________________\n",
            "batch_normalization_3 (Batch (None, 14, 14, 256)       1024      \n",
            "_________________________________________________________________\n",
            "conv2d_3 (Conv2D)            (None, 14, 14, 256)       262400    \n",
            "_________________________________________________________________\n",
            "max_pooling2d_1 (MaxPooling2 (None, 7, 7, 256)         0         \n",
            "_________________________________________________________________\n",
            "batch_normalization_4 (Batch (None, 7, 7, 256)         1024      \n",
            "_________________________________________________________________\n",
            "conv2d_4 (Conv2D)            (None, 7, 7, 512)         524800    \n",
            "_________________________________________________________________\n",
            "batch_normalization_5 (Batch (None, 7, 7, 512)         2048      \n",
            "_________________________________________________________________\n",
            "conv2d_5 (Conv2D)            (None, 7, 7, 512)         1049088   \n",
            "_________________________________________________________________\n",
            "max_pooling2d_2 (MaxPooling2 (None, 3, 3, 512)         0         \n",
            "_________________________________________________________________\n",
            "flatten (Flatten)            (None, 4608)              0         \n",
            "_________________________________________________________________\n",
            "batch_normalization_6 (Batch (None, 4608)              18432     \n",
            "_________________________________________________________________\n",
            "dense (Dense)                (None, 1000)              4609000   \n",
            "_________________________________________________________________\n",
            "batch_normalization_7 (Batch (None, 1000)              4000      \n",
            "_________________________________________________________________\n",
            "dense_1 (Dense)              (None, 10)                10010     \n",
            "=================================================================\n",
            "Total params: 6,683,174\n",
            "Trainable params: 6,669,394\n",
            "Non-trainable params: 13,780\n",
            "_________________________________________________________________\n"
          ],
          "name": "stdout"
        }
      ]
    },
    {
      "cell_type": "code",
      "metadata": {
        "colab": {
          "base_uri": "https://localhost:8080/"
        },
        "id": "8j0z40CXxSXj",
        "outputId": "388ff50c-0ef2-410c-d7f8-8b525fcf4e20"
      },
      "source": [
        "model.fit(x_train, y_train, epochs=14)"
      ],
      "execution_count": 12,
      "outputs": [
        {
          "output_type": "stream",
          "text": [
            "Epoch 1/14\n",
            "64/64 [==============================] - 53s 802ms/step - loss: 2.5155 - accuracy: 0.3838\n",
            "Epoch 2/14\n",
            "64/64 [==============================] - 52s 806ms/step - loss: 1.1378 - accuracy: 0.6362\n",
            "Epoch 3/14\n",
            "64/64 [==============================] - 52s 805ms/step - loss: 0.7396 - accuracy: 0.7549\n",
            "Epoch 4/14\n",
            "64/64 [==============================] - 51s 800ms/step - loss: 0.4703 - accuracy: 0.8384\n",
            "Epoch 5/14\n",
            "64/64 [==============================] - 51s 796ms/step - loss: 0.3329 - accuracy: 0.8789\n",
            "Epoch 6/14\n",
            "64/64 [==============================] - 51s 791ms/step - loss: 0.2634 - accuracy: 0.9038\n",
            "Epoch 7/14\n",
            "64/64 [==============================] - 51s 793ms/step - loss: 0.1745 - accuracy: 0.9414\n",
            "Epoch 8/14\n",
            "64/64 [==============================] - 51s 796ms/step - loss: 0.1505 - accuracy: 0.9429\n",
            "Epoch 9/14\n",
            "64/64 [==============================] - 51s 792ms/step - loss: 0.1634 - accuracy: 0.9385\n",
            "Epoch 10/14\n",
            "64/64 [==============================] - 51s 791ms/step - loss: 0.1314 - accuracy: 0.9570\n",
            "Epoch 11/14\n",
            "64/64 [==============================] - 51s 793ms/step - loss: 0.0922 - accuracy: 0.9658\n",
            "Epoch 12/14\n",
            "64/64 [==============================] - 51s 791ms/step - loss: 0.0749 - accuracy: 0.9736\n",
            "Epoch 13/14\n",
            "64/64 [==============================] - 51s 790ms/step - loss: 0.0639 - accuracy: 0.9780\n",
            "Epoch 14/14\n",
            "64/64 [==============================] - 51s 799ms/step - loss: 0.0690 - accuracy: 0.9761\n"
          ],
          "name": "stdout"
        },
        {
          "output_type": "execute_result",
          "data": {
            "text/plain": [
              "<tensorflow.python.keras.callbacks.History at 0x7faf8919b090>"
            ]
          },
          "metadata": {
            "tags": []
          },
          "execution_count": 12
        }
      ]
    },
    {
      "cell_type": "code",
      "metadata": {
        "colab": {
          "base_uri": "https://localhost:8080/",
          "height": 267
        },
        "id": "juikb2mj5w-o",
        "outputId": "4f63b758-95ea-4885-9b6c-3e1680ab5d99"
      },
      "source": [
        "import matplotlib.pyplot as plt\n",
        "\n",
        "plt.plot(model.history.history[\"accuracy\"], label='model_acc')\n",
        "plt.legend()\n",
        "plt.show()"
      ],
      "execution_count": 13,
      "outputs": [
        {
          "output_type": "display_data",
          "data": {
            "image/png": "[encoded data removed]",
            "text/plain": [
              "<Figure size 432x288 with 1 Axes>"
            ]
          },
          "metadata": {
            "tags": [],
            "needs_background": "light"
          }
        }
      ]
    },
    {
      "cell_type": "code",
      "metadata": {
        "id": "GEQGTle1xdE6"
      },
      "source": [
        "x_test = test.drop(['id', 'letter'], axis=1).values\n",
        "x_test = x_test.reshape(-1, 28, 28, 1)\n",
        "x_test = x_test/255"
      ],
      "execution_count": 14,
      "outputs": []
    },
    {
      "cell_type": "code",
      "metadata": {
        "colab": {
          "base_uri": "https://localhost:8080/",
          "height": 204
        },
        "id": "hLb6SW4G2rAb",
        "outputId": "3af27697-a6ba-44a6-d881-56ce4d755dc1"
      },
      "source": [
        "# 적용\n",
        "sub['digit'] = np.argmax(model.predict(x_test), axis=1)\n",
        "sub.head()"
      ],
      "execution_count": 15,
      "outputs": [
        {
          "output_type": "execute_result",
          "data": {
            "text/html": [
              "<div>\n",
              "<style scoped>\n",
              "    .dataframe tbody tr th:only-of-type {\n",
              "        vertical-align: middle;\n",
              "    }\n",
              "\n",
              "    .dataframe tbody tr th {\n",
              "        vertical-align: top;\n",
              "    }\n",
              "\n",
              "    .dataframe thead th {\n",
              "        text-align: right;\n",
              "    }\n",
              "</style>\n",
              "<table border=\"1\" class=\"dataframe\">\n",
              "  <thead>\n",
              "    <tr style=\"text-align: right;\">\n",
              "      <th></th>\n",
              "      <th>id</th>\n",
              "      <th>digit</th>\n",
              "    </tr>\n",
              "  </thead>\n",
              "  <tbody>\n",
              "    <tr>\n",
              "      <th>0</th>\n",
              "      <td>2049</td>\n",
              "      <td>6</td>\n",
              "    </tr>\n",
              "    <tr>\n",
              "      <th>1</th>\n",
              "      <td>2050</td>\n",
              "      <td>9</td>\n",
              "    </tr>\n",
              "    <tr>\n",
              "      <th>2</th>\n",
              "      <td>2051</td>\n",
              "      <td>6</td>\n",
              "    </tr>\n",
              "    <tr>\n",
              "      <th>3</th>\n",
              "      <td>2052</td>\n",
              "      <td>0</td>\n",
              "    </tr>\n",
              "    <tr>\n",
              "      <th>4</th>\n",
              "      <td>2053</td>\n",
              "      <td>3</td>\n",
              "    </tr>\n",
              "  </tbody>\n",
              "</table>\n",
              "</div>"
            ],
            "text/plain": [
              "     id  digit\n",
              "0  2049      6\n",
              "1  2050      9\n",
              "2  2051      6\n",
              "3  2052      0\n",
              "4  2053      3"
            ]
          },
          "metadata": {
            "tags": []
          },
          "execution_count": 15
        }
      ]
    },
    {
      "cell_type": "code",
      "metadata": {
        "id": "4ByvzIOl2yC6"
      },
      "source": [
        "# 파일저장\n",
        "sub.to_csv('baseline.csv', index=False)"
      ],
      "execution_count": 17,
      "outputs": []
    }
  ]
}