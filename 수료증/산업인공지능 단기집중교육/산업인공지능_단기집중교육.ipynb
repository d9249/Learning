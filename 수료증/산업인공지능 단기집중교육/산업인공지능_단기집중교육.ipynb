{
  "nbformat": 4,
  "nbformat_minor": 0,
  "metadata": {
    "colab": {
      "name": "산업인공지능 단기집중교육.ipynb",
      "provenance": [],
      "collapsed_sections": [],
      "machine_shape": "hm",
      "authorship_tag": "ABX9TyNYvJ0hvjQDrUhMQqN4vNC1",
      "include_colab_link": true
    },
    "kernelspec": {
      "name": "python3",
      "display_name": "Python 3"
    },
    "language_info": {
      "name": "python"
    }
  },
  "cells": [
    {
      "cell_type": "markdown",
      "metadata": {
        "id": "view-in-github",
        "colab_type": "text"
      },
      "source": [
        "<a href=\"https://colab.research.google.com/github/d9249/Undergraduate_researcher/blob/main/%EC%82%B0%EC%97%85%EC%9D%B8%EA%B3%B5%EC%A7%80%EB%8A%A5_%EB%8B%A8%EA%B8%B0%EC%A7%91%EC%A4%91%EA%B5%90%EC%9C%A1.ipynb\" target=\"_parent\"><img src=\"https://colab.research.google.com/assets/colab-badge.svg\" alt=\"Open In Colab\"/></a>"
      ]
    },
    {
      "cell_type": "code",
      "metadata": {
        "colab": {
          "base_uri": "https://localhost:8080/",
          "height": 35
        },
        "id": "RUlWLBU6Ea5x",
        "outputId": "531eee59-7937-4161-dcd8-42e7df06c548"
      },
      "source": [
        "import tensorflow as tf\n",
        "tf.__version__"
      ],
      "execution_count": null,
      "outputs": [
        {
          "output_type": "execute_result",
          "data": {
            "application/vnd.google.colaboratory.intrinsic+json": {
              "type": "string"
            },
            "text/plain": [
              "'1.15.0'"
            ]
          },
          "metadata": {
            "tags": []
          },
          "execution_count": 2
        }
      ]
    },
    {
      "cell_type": "code",
      "metadata": {
        "id": "Gr5FaGtOJ_cY"
      },
      "source": [
        "!pip uninstall tensorflow"
      ],
      "execution_count": null,
      "outputs": []
    },
    {
      "cell_type": "code",
      "metadata": {
        "id": "A41N2lUqKHj_"
      },
      "source": [
        "!pip install tensorflow==1.15 "
      ],
      "execution_count": null,
      "outputs": []
    },
    {
      "cell_type": "code",
      "metadata": {
        "id": "yIlDV-qbEg1w"
      },
      "source": [
        "scalar1 = tf.constant(10000)\n",
        "vector1 = tf.constant([1,2,3,4,5])\n",
        "matrix1= tf.constant([[1,2,3],[4,5,6]])\n",
        "cube1 = tf.constant([[[1],[2],[3]],[[4],[5],[6]],[[7],[8],[9]]])"
      ],
      "execution_count": null,
      "outputs": []
    },
    {
      "cell_type": "code",
      "metadata": {
        "colab": {
          "base_uri": "https://localhost:8080/"
        },
        "id": "dfEtPfxVFoY8",
        "outputId": "bcf13744-9d7a-4c63-f99c-c07cf8f40aad"
      },
      "source": [
        "print(scalar1, '\\n', vector1, '\\n', matrix1, '\\n',cube1)"
      ],
      "execution_count": null,
      "outputs": [
        {
          "output_type": "stream",
          "text": [
            "Tensor(\"Const:0\", shape=(), dtype=int32) \n",
            " Tensor(\"Const_1:0\", shape=(5,), dtype=int32) \n",
            " Tensor(\"Const_2:0\", shape=(2, 3), dtype=int32) \n",
            " Tensor(\"Const_3:0\", shape=(3, 3, 1), dtype=int32)\n"
          ],
          "name": "stdout"
        }
      ]
    },
    {
      "cell_type": "code",
      "metadata": {
        "colab": {
          "base_uri": "https://localhost:8080/"
        },
        "id": "Ft7RDyG_IsxF",
        "outputId": "60e4a63a-47ac-4da2-ee03-375120d66a35"
      },
      "source": [
        "print(tf.rank(scalar1), '\\n', tf.rank(vector1), '\\n', tf.rank(matrix1), '\\n', tf.rank(cube1))"
      ],
      "execution_count": null,
      "outputs": [
        {
          "output_type": "stream",
          "text": [
            "Tensor(\"Rank:0\", shape=(), dtype=int32) \n",
            " Tensor(\"Rank_1:0\", shape=(), dtype=int32) \n",
            " Tensor(\"Rank_2:0\", shape=(), dtype=int32) \n",
            " Tensor(\"Rank_3:0\", shape=(), dtype=int32)\n"
          ],
          "name": "stdout"
        }
      ]
    },
    {
      "cell_type": "code",
      "metadata": {
        "colab": {
          "base_uri": "https://localhost:8080/"
        },
        "id": "BfabF9ShJOgO",
        "outputId": "095494ff-daf8-40b7-eb19-d22ce2e72b52"
      },
      "source": [
        "with tf.Session() as sess:\n",
        "    print(sess.run([scalar1, vector1, matrix1, cube1]))\n",
        "    print(sess.run([tf.rank(scalar1), tf.rank(vector1), tf.rank(matrix1), tf.rank(cube1)]))"
      ],
      "execution_count": null,
      "outputs": [
        {
          "output_type": "stream",
          "text": [
            "[10000, array([1, 2, 3, 4, 5], dtype=int32), array([[1, 2, 3],\n",
            "       [4, 5, 6]], dtype=int32), array([[[1],\n",
            "        [2],\n",
            "        [3]],\n",
            "\n",
            "       [[4],\n",
            "        [5],\n",
            "        [6]],\n",
            "\n",
            "       [[7],\n",
            "        [8],\n",
            "        [9]]], dtype=int32)]\n",
            "[0, 1, 2, 3]\n"
          ],
          "name": "stdout"
        }
      ]
    },
    {
      "cell_type": "code",
      "metadata": {
        "colab": {
          "base_uri": "https://localhost:8080/"
        },
        "id": "z1fWE8_0HKAH",
        "outputId": "d4d5e939-c03d-4ba9-f1a3-353eef2cbe14"
      },
      "source": [
        "matrix1 = tf.constant([[3.,3.]])\n",
        "matrix2 = tf.constant([[2.],[2.]])\n",
        "product = tf.matmul(matrix1, matrix2)\n",
        "print(product)"
      ],
      "execution_count": null,
      "outputs": [
        {
          "output_type": "stream",
          "text": [
            "tf.Tensor([[12.]], shape=(1, 1), dtype=float32)\n"
          ],
          "name": "stdout"
        }
      ]
    },
    {
      "cell_type": "code",
      "metadata": {
        "colab": {
          "base_uri": "https://localhost:8080/",
          "height": 35
        },
        "id": "IIrq8TH9VFlL",
        "outputId": "909555ca-60a7-4eeb-d06c-1888c306f30a"
      },
      "source": [
        "import tensorflow as tf\n",
        "import numpy as np\n",
        "tf.__version__\n",
        "# os.environ['TF_CPP_MIN_LOG_LEVEL'] = '2'"
      ],
      "execution_count": null,
      "outputs": [
        {
          "output_type": "execute_result",
          "data": {
            "application/vnd.google.colaboratory.intrinsic+json": {
              "type": "string"
            },
            "text/plain": [
              "'1.15.0'"
            ]
          },
          "metadata": {
            "tags": []
          },
          "execution_count": 25
        }
      ]
    },
    {
      "cell_type": "code",
      "metadata": {
        "id": "cJKEva5eVPum"
      },
      "source": [
        "x_data = np.random.rand(100).astype(np.float32)"
      ],
      "execution_count": null,
      "outputs": []
    },
    {
      "cell_type": "code",
      "metadata": {
        "id": "opeGDEh5VaUS"
      },
      "source": [
        "y_data = x_data * .1 + .3"
      ],
      "execution_count": null,
      "outputs": []
    },
    {
      "cell_type": "code",
      "metadata": {
        "id": "bEk_Dve7VfTq"
      },
      "source": [
        "W = tf.Variable(tf.random_uniform([1], -1., 1.))"
      ],
      "execution_count": null,
      "outputs": []
    },
    {
      "cell_type": "code",
      "metadata": {
        "id": "rQtufrLsVsrG"
      },
      "source": [
        "b = tf.Variable(tf.zeros([1]))"
      ],
      "execution_count": null,
      "outputs": []
    },
    {
      "cell_type": "code",
      "metadata": {
        "id": "2GPxexxxVyat"
      },
      "source": [
        "y = W * x_data + b"
      ],
      "execution_count": null,
      "outputs": []
    },
    {
      "cell_type": "code",
      "metadata": {
        "id": "am3QyntsV8AW"
      },
      "source": [
        "loss = tf.reduce_mean(tf.square(y-y_data))"
      ],
      "execution_count": null,
      "outputs": []
    },
    {
      "cell_type": "code",
      "metadata": {
        "id": "7EMaWxkmWCil"
      },
      "source": [
        "optimizer = tf.train.GradientDescentOptimizer(0.5)"
      ],
      "execution_count": null,
      "outputs": []
    },
    {
      "cell_type": "code",
      "metadata": {
        "id": "hq6Wqs6KWIkH"
      },
      "source": [
        "train = optimizer.minimize(loss)"
      ],
      "execution_count": null,
      "outputs": []
    },
    {
      "cell_type": "code",
      "metadata": {
        "id": "Uerxj63OWP99"
      },
      "source": [
        "init = tf.global_variables_initializer()"
      ],
      "execution_count": null,
      "outputs": []
    },
    {
      "cell_type": "code",
      "metadata": {
        "id": "NughEb9jWZGv"
      },
      "source": [
        "sess = tf.Session()\n",
        "sess.run(init)"
      ],
      "execution_count": null,
      "outputs": []
    },
    {
      "cell_type": "code",
      "metadata": {
        "colab": {
          "base_uri": "https://localhost:8080/"
        },
        "id": "uvZ0NBRcWerE",
        "outputId": "7dcd9fde-7ea2-4447-dd9e-e0b3c1eee84d"
      },
      "source": [
        "for step in range(201):\n",
        "    sess.run(train)\n",
        "    if step % 20 == 0:\n",
        "        print(step, '%.4f'%sess.run(W), '%.4f'%sess.run(b))\n"
      ],
      "execution_count": null,
      "outputs": [
        {
          "output_type": "stream",
          "text": [
            "0 0.2255 0.3208\n",
            "20 0.1240 0.2870\n",
            "40 0.1066 0.2964\n",
            "60 0.1018 0.2990\n",
            "80 0.1005 0.2997\n",
            "100 0.1001 0.2999\n",
            "120 0.1000 0.3000\n",
            "140 0.1000 0.3000\n",
            "160 0.1000 0.3000\n",
            "180 0.1000 0.3000\n",
            "200 0.1000 0.3000\n"
          ],
          "name": "stdout"
        }
      ]
    }
  ]
}