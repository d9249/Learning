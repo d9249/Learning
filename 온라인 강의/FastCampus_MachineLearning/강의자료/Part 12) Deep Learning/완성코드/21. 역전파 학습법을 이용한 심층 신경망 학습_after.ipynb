{
 "cells": [
  {
   "cell_type": "markdown",
   "metadata": {},
   "source": [
    "## 역전파 학습법을 이용한 심층 신경망 학습"
   ]
  },
  {
   "cell_type": "markdown",
   "metadata": {},
   "source": [
    "## Import modules"
   ]
  },
  {
   "cell_type": "code",
   "execution_count": 1,
   "metadata": {},
   "outputs": [],
   "source": [
    "import time\n",
    "import numpy as np"
   ]
  },
  {
   "cell_type": "markdown",
   "metadata": {},
   "source": [
    "## 유틸리티 함수"
   ]
  },
  {
   "cell_type": "code",
   "execution_count": 2,
   "metadata": {},
   "outputs": [],
   "source": [
    "def _t(x):\n",
    "    return np.transpose(x)\n",
    "\n",
    "def _m(A, B):\n",
    "    return np.matmul(A, B)"
   ]
  },
  {
   "cell_type": "markdown",
   "metadata": {},
   "source": [
    "## Sigmoid 구현"
   ]
  },
  {
   "cell_type": "code",
   "execution_count": 3,
   "metadata": {},
   "outputs": [],
   "source": [
    "class Sigmoid:\n",
    "    def __init__(self):\n",
    "        self.last_o = 1\n",
    "\n",
    "    def __call__(self, x):\n",
    "        self.last_o = 1.0 / (1.0 + np.exp(-x))\n",
    "        return self.last_o\n",
    "\n",
    "    def grad(self): # sigmoid(x)(1 - sigmoid(x))\n",
    "        return self.last_o * (1.0 - self.last_o)"
   ]
  },
  {
   "cell_type": "markdown",
   "metadata": {},
   "source": [
    "## Mean Squared Error 구현"
   ]
  },
  {
   "cell_type": "code",
   "execution_count": 4,
   "metadata": {},
   "outputs": [],
   "source": [
    "class MeanSquaredError: # 1/2 * mean((h - y)^2)  --> h - y\n",
    "    def __init__(self):\n",
    "        self.dh = 1\n",
    "        self.last_diff = 1\n",
    "\n",
    "    def __call__(self, h, y):\n",
    "        self.last_diff = h - y\n",
    "        return 1 / 2 * np.mean(np.square(self.last_diff))\n",
    "\n",
    "    def grad(self):\n",
    "        return self.last_diff"
   ]
  },
  {
   "cell_type": "markdown",
   "metadata": {},
   "source": [
    "## Dense Layer 구현"
   ]
  },
  {
   "cell_type": "code",
   "execution_count": 5,
   "metadata": {},
   "outputs": [],
   "source": [
    "class Dense:\n",
    "    def __init__(self, W, b, a_obj):\n",
    "        self.W = W\n",
    "        self.b = b\n",
    "        self.a = a_obj()\n",
    "        \n",
    "        self.dW = np.zeros_like(self.W)\n",
    "        self.db = np.zeros_like(self.b)\n",
    "        self.dh = np.zeros_like(_t(self.W))\n",
    "        \n",
    "        self.last_x = np.zeros((self.W.shape[0]))\n",
    "        self.last_h = np.zeros((self.W.shape[1]))\n",
    "        \n",
    "\n",
    "    def __call__(self, x):\n",
    "        self.last_x = x\n",
    "        self.last_h = _m(_t(self.W), x) + self.b\n",
    "        return self.a(self.last_h)\n",
    "\n",
    "    def grad(self): # dy/dh = W\n",
    "        return self.W * self.a.grad()\n",
    "\n",
    "    def grad_W(self, dh):\n",
    "        grad = np.ones_like(self.W)\n",
    "        grad_a = self.a.grad()\n",
    "        for j in range(grad.shape[1]): # dy/dw = x\n",
    "            grad[:, j] = dh[j] * grad_a[j] * self.last_x\n",
    "        return grad\n",
    "\n",
    "    def grad_b(self, dh): # dy/db = 1\n",
    "        return dh * self.a.grad()"
   ]
  },
  {
   "cell_type": "markdown",
   "metadata": {},
   "source": [
    "## 심층신경망 구현"
   ]
  },
  {
   "cell_type": "code",
   "execution_count": 6,
   "metadata": {},
   "outputs": [],
   "source": [
    "class DNN:\n",
    "    def __init__(self, hidden_depth, num_neuron, input, output, activation=Sigmoid):\n",
    "        def init_var(i, o):\n",
    "            return np.random.normal(0.0, 0.01, (i, o)), np.zeros((o,))\n",
    "\n",
    "        self.sequence = list()\n",
    "        # First hidden layer\n",
    "        W, b = init_var(input, num_neuron)\n",
    "        self.sequence.append(Dense(W, b, activation))\n",
    "\n",
    "        # Hidden Layers\n",
    "        for index in range(hidden_depth):\n",
    "            W, b = init_var(num_neuron, num_neuron)\n",
    "            self.sequence.append(Dense(W, b, activation))\n",
    "\n",
    "        # Output Layer\n",
    "        W, b = init_var(num_neuron, output)\n",
    "        self.sequence.append(Dense(W, b, activation))\n",
    "\n",
    "    def __call__(self, x):\n",
    "        for layer in self.sequence:\n",
    "            x = layer(x)\n",
    "        return x\n",
    "\n",
    "    def calc_gradient(self, loss_obj):\n",
    "        loss_obj.dh = loss_obj.grad()\n",
    "        self.sequence.append(loss_obj)\n",
    "        \n",
    "        # back-prop loop\n",
    "        for i in range(len(self.sequence) - 1, 0, -1):\n",
    "            l1 = self.sequence[i]\n",
    "            l0 = self.sequence[i - 1]\n",
    "            \n",
    "            l0.dh = _m(l0.grad(), l1.dh)\n",
    "            l0.dW = l0.grad_W(l1.dh)\n",
    "            l0.db = l0.grad_b(l1.dh)\n",
    "        \n",
    "        self.sequence.remove(loss_obj)"
   ]
  },
  {
   "cell_type": "markdown",
   "metadata": {},
   "source": [
    "## 경사하강 학습법"
   ]
  },
  {
   "cell_type": "code",
   "execution_count": 7,
   "metadata": {},
   "outputs": [],
   "source": [
    "def gradient_descent(network, x, y, loss_obj, alpha=0.01):\n",
    "    loss = loss_obj(network(x), y)  # Forward inference\n",
    "    network.calc_gradient(loss_obj)  # Back-propagation\n",
    "    for layer in network.sequence:\n",
    "        layer.W += -alpha * layer.dW\n",
    "        layer.b += -alpha * layer.db\n",
    "    return loss"
   ]
  },
  {
   "cell_type": "markdown",
   "metadata": {},
   "source": [
    "## 동작 테스트"
   ]
  },
  {
   "cell_type": "code",
   "execution_count": 8,
   "metadata": {},
   "outputs": [
    {
     "name": "stdout",
     "output_type": "stream",
     "text": [
      "Epoch 0: Test loss 0.3182683687680617\n",
      "Epoch 1: Test loss 0.3146891341249889\n",
      "Epoch 2: Test loss 0.31114879485717495\n",
      "Epoch 3: Test loss 0.3076491187983329\n",
      "Epoch 4: Test loss 0.3041917419873376\n",
      "Epoch 5: Test loss 0.3007781671883635\n",
      "Epoch 6: Test loss 0.2974097633178307\n",
      "Epoch 7: Test loss 0.29408776573299544\n",
      "Epoch 8: Test loss 0.2908132773290851\n",
      "Epoch 9: Test loss 0.2875872703854246\n",
      "Epoch 10: Test loss 0.2844105890960265\n",
      "Epoch 11: Test loss 0.2812839527165982\n",
      "Epoch 12: Test loss 0.2782079592577895\n",
      "Epoch 13: Test loss 0.2751830896536695\n",
      "Epoch 14: Test loss 0.2722097123347691\n",
      "Epoch 15: Test loss 0.2692880881364291\n",
      "Epoch 16: Test loss 0.266418375475502\n",
      "Epoch 17: Test loss 0.2636006357315418\n",
      "Epoch 18: Test loss 0.26083483877230584\n",
      "Epoch 19: Test loss 0.2581208685675851\n",
      "Epoch 20: Test loss 0.2554585288398958\n",
      "Epoch 21: Test loss 0.25284754870532\n",
      "Epoch 22: Test loss 0.2502875882626387\n",
      "Epoch 23: Test loss 0.24777824409377067\n",
      "Epoch 24: Test loss 0.24531905464333068\n",
      "Epoch 25: Test loss 0.24290950544976356\n",
      "Epoch 26: Test loss 0.24054903420496543\n",
      "Epoch 27: Test loss 0.2382370356234947\n",
      "Epoch 28: Test loss 0.2359728661063942\n",
      "Epoch 29: Test loss 0.23375584818825376\n",
      "Epoch 30: Test loss 0.23158527475943066\n",
      "Epoch 31: Test loss 0.22946041305831477\n",
      "Epoch 32: Test loss 0.22738050843116375\n",
      "Epoch 33: Test loss 0.2253447878593616\n",
      "Epoch 34: Test loss 0.22335246325597793\n",
      "Epoch 35: Test loss 0.2214027345352378\n",
      "Epoch 36: Test loss 0.21949479245997783\n",
      "Epoch 37: Test loss 0.21762782127337485\n",
      "Epoch 38: Test loss 0.21580100112222156\n",
      "Epoch 39: Test loss 0.21401351027979143\n",
      "Epoch 40: Test loss 0.21226452717692934\n",
      "Epoch 41: Test loss 0.21055323225041836\n",
      "Epoch 42: Test loss 0.2088788096179502\n",
      "Epoch 43: Test loss 0.20724044858916918\n",
      "Epoch 44: Test loss 0.2056373450222948\n",
      "Epoch 45: Test loss 0.20406870253576828\n",
      "Epoch 46: Test loss 0.20253373358422758\n",
      "Epoch 47: Test loss 0.2010316604079138\n",
      "Epoch 48: Test loss 0.1995617158643522\n",
      "Epoch 49: Test loss 0.19812314415085094\n",
      "Epoch 50: Test loss 0.19671520142603074\n",
      "Epoch 51: Test loss 0.1953371563382403\n",
      "Epoch 52: Test loss 0.1939882904683417\n",
      "Epoch 53: Test loss 0.1926678986939662\n",
      "Epoch 54: Test loss 0.19137528948195376\n",
      "Epoch 55: Test loss 0.19010978511530516\n",
      "Epoch 56: Test loss 0.18887072186058737\n",
      "Epoch 57: Test loss 0.18765745008136248\n",
      "Epoch 58: Test loss 0.18646933430283802\n",
      "Epoch 59: Test loss 0.1853057532325877\n",
      "Epoch 60: Test loss 0.18416609974184234\n",
      "Epoch 61: Test loss 0.18304978081152995\n",
      "Epoch 62: Test loss 0.181956217446926\n",
      "Epoch 63: Test loss 0.1808848445644805\n",
      "Epoch 64: Test loss 0.17983511085410558\n",
      "Epoch 65: Test loss 0.1788064786199431\n",
      "Epoch 66: Test loss 0.17779842360237957\n",
      "Epoch 67: Test loss 0.17681043478384387\n",
      "Epoch 68: Test loss 0.17584201418070122\n",
      "Epoch 69: Test loss 0.1748926766233538\n",
      "Epoch 70: Test loss 0.1739619495264664\n",
      "Epoch 71: Test loss 0.17304937265105888\n",
      "Epoch 72: Test loss 0.1721544978600415\n",
      "Epoch 73: Test loss 0.1712768888686185\n",
      "Epoch 74: Test loss 0.1704161209908429\n",
      "Epoch 75: Test loss 0.16957178088347674\n",
      "Epoch 76: Test loss 0.16874346628819029\n",
      "Epoch 77: Test loss 0.1679307857730254\n",
      "Epoch 78: Test loss 0.16713335847394564\n",
      "Epoch 79: Test loss 0.16635081383720424\n",
      "Epoch 80: Test loss 0.1655827913631764\n",
      "Epoch 81: Test loss 0.16482894035222417\n",
      "Epoch 82: Test loss 0.16408891965309305\n",
      "Epoch 83: Test loss 0.16336239741427466\n",
      "Epoch 84: Test loss 0.16264905083871042\n",
      "Epoch 85: Test loss 0.1619485659421603\n",
      "Epoch 86: Test loss 0.16126063731551088\n",
      "Epoch 87: Test loss 0.16058496789125407\n",
      "Epoch 88: Test loss 0.1599212687143294\n",
      "Epoch 89: Test loss 0.1592692587174864\n",
      "Epoch 90: Test loss 0.15862866450129193\n",
      "Epoch 91: Test loss 0.1579992201188797\n",
      "Epoch 92: Test loss 0.15738066686551253\n",
      "Epoch 93: Test loss 0.15677275307300564\n",
      "Epoch 94: Test loss 0.1561752339090396\n",
      "Epoch 95: Test loss 0.15558787118137077\n",
      "Epoch 96: Test loss 0.1550104331469363\n",
      "Epoch 97: Test loss 0.15444269432582972\n",
      "Epoch 98: Test loss 0.15388443532011736\n",
      "Epoch 99: Test loss 0.15333544263745075\n",
      "0.07010412216186523 seconds elapsed.\n"
     ]
    }
   ],
   "source": [
    "x = np.random.normal(0.0, 1.0, (10,))\n",
    "y = np.random.normal(0.0, 1.0, (2,))\n",
    "\n",
    "t = time.time()\n",
    "dnn = DNN(hidden_depth=5, num_neuron=32, input=10, output=2, activation=Sigmoid)\n",
    "loss_obj = MeanSquaredError()\n",
    "for epoch in range(100):\n",
    "    loss = gradient_descent(dnn, x, y, loss_obj, alpha=0.01)\n",
    "    print('Epoch {}: Test loss {}'.format(epoch, loss))\n",
    "print('{} seconds elapsed.'.format(time.time() - t))"
   ]
  }
 ],
 "metadata": {
  "kernelspec": {
   "display_name": "Python 3",
   "language": "python",
   "name": "python3"
  },
  "language_info": {
   "codemirror_mode": {
    "name": "ipython",
    "version": 3
   },
   "file_extension": ".py",
   "mimetype": "text/x-python",
   "name": "python",
   "nbconvert_exporter": "python",
   "pygments_lexer": "ipython3",
   "version": "3.6.9"
  }
 },
 "nbformat": 4,
 "nbformat_minor": 2
}
