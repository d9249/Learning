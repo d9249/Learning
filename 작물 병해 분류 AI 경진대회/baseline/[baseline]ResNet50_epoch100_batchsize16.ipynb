{
  "nbformat": 4,
  "nbformat_minor": 0,
  "metadata": {
    "kernelspec": {
      "name": "python3",
      "display_name": "Python 3"
    },
    "colab": {
      "name": "[baseline]ResNet50_epoch100_batchsize16.ipynb",
      "provenance": [],
      "collapsed_sections": [],
      "machine_shape": "hm",
      "include_colab_link": true
    },
    "language_info": {
      "name": "python"
    },
    "accelerator": "GPU",
    "widgets": {
      "application/vnd.jupyter.widget-state+json": {
        "af8520d640e14e128761277f2732026c": {
          "model_module": "@jupyter-widgets/controls",
          "model_name": "HBoxModel",
          "model_module_version": "1.5.0",
          "state": {
            "_view_name": "HBoxView",
            "_dom_classes": [],
            "_model_name": "HBoxModel",
            "_view_module": "@jupyter-widgets/controls",
            "_model_module_version": "1.5.0",
            "_view_count": null,
            "_view_module_version": "1.5.0",
            "box_style": "",
            "layout": "IPY_MODEL_0440e5937651401793a3847e807f0b9d",
            "_model_module": "@jupyter-widgets/controls",
            "children": [
              "IPY_MODEL_27386c22d734485bb571e3b01f427bb8",
              "IPY_MODEL_215b1f7a3b23466dbbfbb57cb159a370",
              "IPY_MODEL_e580ab40e0594cfb9f0d4ee4ae8100e6"
            ]
          }
        },
        "0440e5937651401793a3847e807f0b9d": {
          "model_module": "@jupyter-widgets/base",
          "model_name": "LayoutModel",
          "model_module_version": "1.2.0",
          "state": {
            "_view_name": "LayoutView",
            "grid_template_rows": null,
            "right": null,
            "justify_content": null,
            "_view_module": "@jupyter-widgets/base",
            "overflow": null,
            "_model_module_version": "1.2.0",
            "_view_count": null,
            "flex_flow": null,
            "width": null,
            "min_width": null,
            "border": null,
            "align_items": null,
            "bottom": null,
            "_model_module": "@jupyter-widgets/base",
            "top": null,
            "grid_column": null,
            "overflow_y": null,
            "overflow_x": null,
            "grid_auto_flow": null,
            "grid_area": null,
            "grid_template_columns": null,
            "flex": null,
            "_model_name": "LayoutModel",
            "justify_items": null,
            "grid_row": null,
            "max_height": null,
            "align_content": null,
            "visibility": null,
            "align_self": null,
            "height": null,
            "min_height": null,
            "padding": null,
            "grid_auto_rows": null,
            "grid_gap": null,
            "max_width": null,
            "order": null,
            "_view_module_version": "1.2.0",
            "grid_template_areas": null,
            "object_position": null,
            "object_fit": null,
            "grid_auto_columns": null,
            "margin": null,
            "display": null,
            "left": null
          }
        },
        "27386c22d734485bb571e3b01f427bb8": {
          "model_module": "@jupyter-widgets/controls",
          "model_name": "HTMLModel",
          "model_module_version": "1.5.0",
          "state": {
            "_view_name": "HTMLView",
            "style": "IPY_MODEL_1bdcf14e04f4462e92a92309bf273c58",
            "_dom_classes": [],
            "description": "",
            "_model_name": "HTMLModel",
            "placeholder": "​",
            "_view_module": "@jupyter-widgets/controls",
            "_model_module_version": "1.5.0",
            "value": "100%",
            "_view_count": null,
            "_view_module_version": "1.5.0",
            "description_tooltip": null,
            "_model_module": "@jupyter-widgets/controls",
            "layout": "IPY_MODEL_e2b7006d3d5a41b585670a38f28910ba"
          }
        },
        "215b1f7a3b23466dbbfbb57cb159a370": {
          "model_module": "@jupyter-widgets/controls",
          "model_name": "FloatProgressModel",
          "model_module_version": "1.5.0",
          "state": {
            "_view_name": "ProgressView",
            "style": "IPY_MODEL_fdd16c82fc504d178a8be0b43f90232f",
            "_dom_classes": [],
            "description": "",
            "_model_name": "FloatProgressModel",
            "bar_style": "success",
            "max": 102530333,
            "_view_module": "@jupyter-widgets/controls",
            "_model_module_version": "1.5.0",
            "value": 102530333,
            "_view_count": null,
            "_view_module_version": "1.5.0",
            "orientation": "horizontal",
            "min": 0,
            "description_tooltip": null,
            "_model_module": "@jupyter-widgets/controls",
            "layout": "IPY_MODEL_80b0393132974a3c8825fc981c8257d5"
          }
        },
        "e580ab40e0594cfb9f0d4ee4ae8100e6": {
          "model_module": "@jupyter-widgets/controls",
          "model_name": "HTMLModel",
          "model_module_version": "1.5.0",
          "state": {
            "_view_name": "HTMLView",
            "style": "IPY_MODEL_19a13ef1d92b424ca356b25fb224e18b",
            "_dom_classes": [],
            "description": "",
            "_model_name": "HTMLModel",
            "placeholder": "​",
            "_view_module": "@jupyter-widgets/controls",
            "_model_module_version": "1.5.0",
            "value": " 97.8M/97.8M [00:03&lt;00:00, 26.5MB/s]",
            "_view_count": null,
            "_view_module_version": "1.5.0",
            "description_tooltip": null,
            "_model_module": "@jupyter-widgets/controls",
            "layout": "IPY_MODEL_c1c89a556622442eb474314f331d57a7"
          }
        },
        "1bdcf14e04f4462e92a92309bf273c58": {
          "model_module": "@jupyter-widgets/controls",
          "model_name": "DescriptionStyleModel",
          "model_module_version": "1.5.0",
          "state": {
            "_view_name": "StyleView",
            "_model_name": "DescriptionStyleModel",
            "description_width": "",
            "_view_module": "@jupyter-widgets/base",
            "_model_module_version": "1.5.0",
            "_view_count": null,
            "_view_module_version": "1.2.0",
            "_model_module": "@jupyter-widgets/controls"
          }
        },
        "e2b7006d3d5a41b585670a38f28910ba": {
          "model_module": "@jupyter-widgets/base",
          "model_name": "LayoutModel",
          "model_module_version": "1.2.0",
          "state": {
            "_view_name": "LayoutView",
            "grid_template_rows": null,
            "right": null,
            "justify_content": null,
            "_view_module": "@jupyter-widgets/base",
            "overflow": null,
            "_model_module_version": "1.2.0",
            "_view_count": null,
            "flex_flow": null,
            "width": null,
            "min_width": null,
            "border": null,
            "align_items": null,
            "bottom": null,
            "_model_module": "@jupyter-widgets/base",
            "top": null,
            "grid_column": null,
            "overflow_y": null,
            "overflow_x": null,
            "grid_auto_flow": null,
            "grid_area": null,
            "grid_template_columns": null,
            "flex": null,
            "_model_name": "LayoutModel",
            "justify_items": null,
            "grid_row": null,
            "max_height": null,
            "align_content": null,
            "visibility": null,
            "align_self": null,
            "height": null,
            "min_height": null,
            "padding": null,
            "grid_auto_rows": null,
            "grid_gap": null,
            "max_width": null,
            "order": null,
            "_view_module_version": "1.2.0",
            "grid_template_areas": null,
            "object_position": null,
            "object_fit": null,
            "grid_auto_columns": null,
            "margin": null,
            "display": null,
            "left": null
          }
        },
        "fdd16c82fc504d178a8be0b43f90232f": {
          "model_module": "@jupyter-widgets/controls",
          "model_name": "ProgressStyleModel",
          "model_module_version": "1.5.0",
          "state": {
            "_view_name": "StyleView",
            "_model_name": "ProgressStyleModel",
            "description_width": "",
            "_view_module": "@jupyter-widgets/base",
            "_model_module_version": "1.5.0",
            "_view_count": null,
            "_view_module_version": "1.2.0",
            "bar_color": null,
            "_model_module": "@jupyter-widgets/controls"
          }
        },
        "80b0393132974a3c8825fc981c8257d5": {
          "model_module": "@jupyter-widgets/base",
          "model_name": "LayoutModel",
          "model_module_version": "1.2.0",
          "state": {
            "_view_name": "LayoutView",
            "grid_template_rows": null,
            "right": null,
            "justify_content": null,
            "_view_module": "@jupyter-widgets/base",
            "overflow": null,
            "_model_module_version": "1.2.0",
            "_view_count": null,
            "flex_flow": null,
            "width": null,
            "min_width": null,
            "border": null,
            "align_items": null,
            "bottom": null,
            "_model_module": "@jupyter-widgets/base",
            "top": null,
            "grid_column": null,
            "overflow_y": null,
            "overflow_x": null,
            "grid_auto_flow": null,
            "grid_area": null,
            "grid_template_columns": null,
            "flex": null,
            "_model_name": "LayoutModel",
            "justify_items": null,
            "grid_row": null,
            "max_height": null,
            "align_content": null,
            "visibility": null,
            "align_self": null,
            "height": null,
            "min_height": null,
            "padding": null,
            "grid_auto_rows": null,
            "grid_gap": null,
            "max_width": null,
            "order": null,
            "_view_module_version": "1.2.0",
            "grid_template_areas": null,
            "object_position": null,
            "object_fit": null,
            "grid_auto_columns": null,
            "margin": null,
            "display": null,
            "left": null
          }
        },
        "19a13ef1d92b424ca356b25fb224e18b": {
          "model_module": "@jupyter-widgets/controls",
          "model_name": "DescriptionStyleModel",
          "model_module_version": "1.5.0",
          "state": {
            "_view_name": "StyleView",
            "_model_name": "DescriptionStyleModel",
            "description_width": "",
            "_view_module": "@jupyter-widgets/base",
            "_model_module_version": "1.5.0",
            "_view_count": null,
            "_view_module_version": "1.2.0",
            "_model_module": "@jupyter-widgets/controls"
          }
        },
        "c1c89a556622442eb474314f331d57a7": {
          "model_module": "@jupyter-widgets/base",
          "model_name": "LayoutModel",
          "model_module_version": "1.2.0",
          "state": {
            "_view_name": "LayoutView",
            "grid_template_rows": null,
            "right": null,
            "justify_content": null,
            "_view_module": "@jupyter-widgets/base",
            "overflow": null,
            "_model_module_version": "1.2.0",
            "_view_count": null,
            "flex_flow": null,
            "width": null,
            "min_width": null,
            "border": null,
            "align_items": null,
            "bottom": null,
            "_model_module": "@jupyter-widgets/base",
            "top": null,
            "grid_column": null,
            "overflow_y": null,
            "overflow_x": null,
            "grid_auto_flow": null,
            "grid_area": null,
            "grid_template_columns": null,
            "flex": null,
            "_model_name": "LayoutModel",
            "justify_items": null,
            "grid_row": null,
            "max_height": null,
            "align_content": null,
            "visibility": null,
            "align_self": null,
            "height": null,
            "min_height": null,
            "padding": null,
            "grid_auto_rows": null,
            "grid_gap": null,
            "max_width": null,
            "order": null,
            "_view_module_version": "1.2.0",
            "grid_template_areas": null,
            "object_position": null,
            "object_fit": null,
            "grid_auto_columns": null,
            "margin": null,
            "display": null,
            "left": null
          }
        }
      }
    }
  },
  "cells": [
    {
      "cell_type": "markdown",
      "metadata": {
        "id": "view-in-github",
        "colab_type": "text"
      },
      "source": [
        "<a href=\"https://colab.research.google.com/github/d9249/DACON/blob/main/%5Bbaseline%5DResNet50_epoch100_batchsize16.ipynb\" target=\"_parent\"><img src=\"https://colab.research.google.com/assets/colab-badge.svg\" alt=\"Open In Colab\"/></a>"
      ]
    },
    {
      "cell_type": "code",
      "metadata": {
        "colab": {
          "base_uri": "https://localhost:8080/"
        },
        "id": "CazxOt_4UQwY",
        "outputId": "885a37f1-b31f-4cbd-cfc1-2a973806465c"
      },
      "source": [
        "!nvidia-smi"
      ],
      "execution_count": 1,
      "outputs": [
        {
          "output_type": "stream",
          "name": "stdout",
          "text": [
            "Thu Oct 14 03:06:55 2021       \n",
            "+-----------------------------------------------------------------------------+\n",
            "| NVIDIA-SMI 470.74       Driver Version: 460.32.03    CUDA Version: 11.2     |\n",
            "|-------------------------------+----------------------+----------------------+\n",
            "| GPU  Name        Persistence-M| Bus-Id        Disp.A | Volatile Uncorr. ECC |\n",
            "| Fan  Temp  Perf  Pwr:Usage/Cap|         Memory-Usage | GPU-Util  Compute M. |\n",
            "|                               |                      |               MIG M. |\n",
            "|===============================+======================+======================|\n",
            "|   0  Tesla P100-PCIE...  Off  | 00000000:00:04.0 Off |                    0 |\n",
            "| N/A   48C    P0    30W / 250W |      0MiB / 16280MiB |      0%      Default |\n",
            "|                               |                      |                  N/A |\n",
            "+-------------------------------+----------------------+----------------------+\n",
            "                                                                               \n",
            "+-----------------------------------------------------------------------------+\n",
            "| Processes:                                                                  |\n",
            "|  GPU   GI   CI        PID   Type   Process name                  GPU Memory |\n",
            "|        ID   ID                                                   Usage      |\n",
            "|=============================================================================|\n",
            "|  No running processes found                                                 |\n",
            "+-----------------------------------------------------------------------------+\n"
          ]
        }
      ]
    },
    {
      "cell_type": "code",
      "metadata": {
        "colab": {
          "base_uri": "https://localhost:8080/"
        },
        "id": "t7UcyDC5UIu7",
        "outputId": "fa2c1f37-b837-4e98-8037-997901f731d4"
      },
      "source": [
        "from google.colab import drive\n",
        "drive.mount('/content/drive')"
      ],
      "execution_count": 2,
      "outputs": [
        {
          "output_type": "stream",
          "name": "stdout",
          "text": [
            "Mounted at /content/drive\n"
          ]
        }
      ]
    },
    {
      "cell_type": "code",
      "metadata": {
        "id": "TUAr_kpxUW1M"
      },
      "source": [
        "!unzip -uq \"/content/drive/MyDrive/DACON_CropsAreSick/sicks.zip\""
      ],
      "execution_count": 3,
      "outputs": []
    },
    {
      "cell_type": "markdown",
      "metadata": {
        "id": "qGoOaPLkTK2S"
      },
      "source": [
        "baseline.ipynb<br>\n",
        ".. ├ models<br>\n",
        ".. └ data<br>\n",
        ".... ├ train_imgs<br>\n",
        ".... ├ test_imgs<br>\n",
        ".... ├ train.csv<br>\n",
        ".... ├ test.csv<br>\n",
        ".... └ sample_submission.csv"
      ]
    },
    {
      "cell_type": "markdown",
      "metadata": {
        "id": "3DyyYcg5TK2Y"
      },
      "source": [
        "# 사용 패키지"
      ]
    },
    {
      "cell_type": "code",
      "metadata": {
        "id": "WUdmpZtKTK2Z"
      },
      "source": [
        "import numpy as np\n",
        "import pandas as pd\n",
        "import matplotlib.pyplot as plt\n",
        "import cv2\n",
        "from tqdm import tqdm\n",
        "\n",
        "import torch\n",
        "from torch import nn\n",
        "from torchvision import models\n",
        "from torch.utils.data import Dataset, DataLoader"
      ],
      "execution_count": 4,
      "outputs": []
    },
    {
      "cell_type": "markdown",
      "metadata": {
        "id": "q9HpWXHFTK2b"
      },
      "source": [
        "# 데이터 로드"
      ]
    },
    {
      "cell_type": "code",
      "metadata": {
        "id": "rGuJ_GzwTK2c"
      },
      "source": [
        "train_total = pd.read_csv('./train.csv')\n",
        "test = pd.read_csv('./test.csv')"
      ],
      "execution_count": 5,
      "outputs": []
    },
    {
      "cell_type": "code",
      "metadata": {
        "colab": {
          "base_uri": "https://localhost:8080/",
          "height": 204
        },
        "id": "ZrkcukFHTK2c",
        "outputId": "67c64347-173e-4412-e340-cdcb9a73b483"
      },
      "source": [
        "train_total.head()"
      ],
      "execution_count": 6,
      "outputs": [
        {
          "output_type": "execute_result",
          "data": {
            "text/html": [
              "<div>\n",
              "<style scoped>\n",
              "    .dataframe tbody tr th:only-of-type {\n",
              "        vertical-align: middle;\n",
              "    }\n",
              "\n",
              "    .dataframe tbody tr th {\n",
              "        vertical-align: top;\n",
              "    }\n",
              "\n",
              "    .dataframe thead th {\n",
              "        text-align: right;\n",
              "    }\n",
              "</style>\n",
              "<table border=\"1\" class=\"dataframe\">\n",
              "  <thead>\n",
              "    <tr style=\"text-align: right;\">\n",
              "      <th></th>\n",
              "      <th>uid</th>\n",
              "      <th>img_path</th>\n",
              "      <th>disease</th>\n",
              "      <th>disease_code</th>\n",
              "    </tr>\n",
              "  </thead>\n",
              "  <tbody>\n",
              "    <tr>\n",
              "      <th>0</th>\n",
              "      <td>10000</td>\n",
              "      <td>train_imgs/10000.jpg</td>\n",
              "      <td>시설포도노균병</td>\n",
              "      <td>1</td>\n",
              "    </tr>\n",
              "    <tr>\n",
              "      <th>1</th>\n",
              "      <td>10001</td>\n",
              "      <td>train_imgs/10001.jpg</td>\n",
              "      <td>시설포도노균병</td>\n",
              "      <td>1</td>\n",
              "    </tr>\n",
              "    <tr>\n",
              "      <th>2</th>\n",
              "      <td>10002</td>\n",
              "      <td>train_imgs/10002.jpg</td>\n",
              "      <td>시설포도노균병반응</td>\n",
              "      <td>2</td>\n",
              "    </tr>\n",
              "    <tr>\n",
              "      <th>3</th>\n",
              "      <td>10003</td>\n",
              "      <td>train_imgs/10003.jpg</td>\n",
              "      <td>축과병</td>\n",
              "      <td>4</td>\n",
              "    </tr>\n",
              "    <tr>\n",
              "      <th>4</th>\n",
              "      <td>10004</td>\n",
              "      <td>train_imgs/10004.jpg</td>\n",
              "      <td>시설포도노균병</td>\n",
              "      <td>1</td>\n",
              "    </tr>\n",
              "  </tbody>\n",
              "</table>\n",
              "</div>"
            ],
            "text/plain": [
              "     uid              img_path    disease  disease_code\n",
              "0  10000  train_imgs/10000.jpg    시설포도노균병             1\n",
              "1  10001  train_imgs/10001.jpg    시설포도노균병             1\n",
              "2  10002  train_imgs/10002.jpg  시설포도노균병반응             2\n",
              "3  10003  train_imgs/10003.jpg        축과병             4\n",
              "4  10004  train_imgs/10004.jpg    시설포도노균병             1"
            ]
          },
          "metadata": {},
          "execution_count": 6
        }
      ]
    },
    {
      "cell_type": "code",
      "metadata": {
        "colab": {
          "base_uri": "https://localhost:8080/",
          "height": 204
        },
        "id": "XXXTJ_fxTK2e",
        "outputId": "8cf3220f-9d30-44e6-a84a-cce8bd45a9be"
      },
      "source": [
        "test.head()"
      ],
      "execution_count": 7,
      "outputs": [
        {
          "output_type": "execute_result",
          "data": {
            "text/html": [
              "<div>\n",
              "<style scoped>\n",
              "    .dataframe tbody tr th:only-of-type {\n",
              "        vertical-align: middle;\n",
              "    }\n",
              "\n",
              "    .dataframe tbody tr th {\n",
              "        vertical-align: top;\n",
              "    }\n",
              "\n",
              "    .dataframe thead th {\n",
              "        text-align: right;\n",
              "    }\n",
              "</style>\n",
              "<table border=\"1\" class=\"dataframe\">\n",
              "  <thead>\n",
              "    <tr style=\"text-align: right;\">\n",
              "      <th></th>\n",
              "      <th>uid</th>\n",
              "      <th>img_path</th>\n",
              "    </tr>\n",
              "  </thead>\n",
              "  <tbody>\n",
              "    <tr>\n",
              "      <th>0</th>\n",
              "      <td>20000</td>\n",
              "      <td>test_imgs/20000.jpg</td>\n",
              "    </tr>\n",
              "    <tr>\n",
              "      <th>1</th>\n",
              "      <td>20001</td>\n",
              "      <td>test_imgs/20001.jpg</td>\n",
              "    </tr>\n",
              "    <tr>\n",
              "      <th>2</th>\n",
              "      <td>20002</td>\n",
              "      <td>test_imgs/20002.jpg</td>\n",
              "    </tr>\n",
              "    <tr>\n",
              "      <th>3</th>\n",
              "      <td>20003</td>\n",
              "      <td>test_imgs/20003.jpg</td>\n",
              "    </tr>\n",
              "    <tr>\n",
              "      <th>4</th>\n",
              "      <td>20004</td>\n",
              "      <td>test_imgs/20004.jpg</td>\n",
              "    </tr>\n",
              "  </tbody>\n",
              "</table>\n",
              "</div>"
            ],
            "text/plain": [
              "     uid             img_path\n",
              "0  20000  test_imgs/20000.jpg\n",
              "1  20001  test_imgs/20001.jpg\n",
              "2  20002  test_imgs/20002.jpg\n",
              "3  20003  test_imgs/20003.jpg\n",
              "4  20004  test_imgs/20004.jpg"
            ]
          },
          "metadata": {},
          "execution_count": 7
        }
      ]
    },
    {
      "cell_type": "markdown",
      "metadata": {
        "id": "CfkNoBQaTK2f"
      },
      "source": [
        "# 하이퍼파라미터 및 변수"
      ]
    },
    {
      "cell_type": "code",
      "metadata": {
        "id": "BSEfcP0fTK2f"
      },
      "source": [
        "device = torch.device(\"cuda:0\")\n",
        "batch_size = 16\n",
        "class_n = len(train_total['disease_code'].unique())\n",
        "learning_rate = 1e-4\n",
        "epochs = 100\n",
        "save_path = '/content/drive/MyDrive/DACON_CropsAreSick/model.pt'"
      ],
      "execution_count": 8,
      "outputs": []
    },
    {
      "cell_type": "markdown",
      "metadata": {
        "id": "JJoEU2bpTK2g"
      },
      "source": [
        "# 데이터셋 구성"
      ]
    },
    {
      "cell_type": "code",
      "metadata": {
        "id": "N3_1FuRYTK2h"
      },
      "source": [
        "class CustomDataset(Dataset):\n",
        "    def __init__(self, files, labels=None, mode='train'):\n",
        "        self.mode = mode\n",
        "        self.files = files\n",
        "        if mode == 'train':\n",
        "            self.labels = labels\n",
        "            \n",
        "    def __len__(self):\n",
        "        return len(self.files)\n",
        "    \n",
        "    def __getitem__(self, i):\n",
        "        if self.mode == 'train':\n",
        "            img = cv2.imread('./train_imgs/'+self.files[i])\n",
        "            img = cv2.resize(img, dsize=(256, 256), interpolation=cv2.INTER_AREA)\n",
        "            img = img.astype(np.float32)/255\n",
        "            img = np.transpose(img, (2,0,1))\n",
        "            return {\n",
        "                'img' : torch.tensor(img, dtype=torch.float32),\n",
        "                'label' : torch.tensor(self.labels[i], dtype=torch.long)\n",
        "            }\n",
        "        else:\n",
        "            img = cv2.imread('./test_imgs/'+self.files[i])\n",
        "            img = cv2.resize(img, dsize=(256, 256), interpolation=cv2.INTER_AREA)\n",
        "            img = img.astype(np.float32)/255\n",
        "            img = np.transpose(img, (2,0,1))\n",
        "            return {\n",
        "                'img' : torch.tensor(img, dtype=torch.float32),\n",
        "            }"
      ],
      "execution_count": 9,
      "outputs": []
    },
    {
      "cell_type": "code",
      "metadata": {
        "id": "doD_-1nKTK2i"
      },
      "source": [
        "train = train_total.iloc[:200]\n",
        "val = train_total.iloc[200:]"
      ],
      "execution_count": 10,
      "outputs": []
    },
    {
      "cell_type": "code",
      "metadata": {
        "colab": {
          "base_uri": "https://localhost:8080/"
        },
        "id": "x9uRxOklTK2j",
        "outputId": "58a637ff-c4e4-4f9d-e5c7-f68d8f046207"
      },
      "source": [
        "train_dataset = CustomDataset(train['img_path'].str.split('/').str[-1].values, train['disease_code'].values)\n",
        "val_dataset = CustomDataset(val['img_path'].str.split('/').str[-1].values, val['disease_code'].values)\n",
        "\n",
        "train_dataloader = torch.utils.data.DataLoader(train_dataset, batch_size=batch_size, num_workers=16, shuffle=True)\n",
        "val_dataloader = torch.utils.data.DataLoader(val_dataset, batch_size=batch_size, num_workers=16, shuffle=False)\n",
        "\n",
        "test_dataset = CustomDataset(test['img_path'].str.split('/').str[-1], labels=None, mode='test')\n",
        "test_dataloader = torch.utils.data.DataLoader(test_dataset, batch_size=batch_size, num_workers=16, shuffle=False)"
      ],
      "execution_count": 11,
      "outputs": [
        {
          "output_type": "stream",
          "name": "stderr",
          "text": [
            "/usr/local/lib/python3.7/dist-packages/torch/utils/data/dataloader.py:481: UserWarning: This DataLoader will create 16 worker processes in total. Our suggested max number of worker in current system is 4, which is smaller than what this DataLoader is going to create. Please be aware that excessive worker creation might get DataLoader running slow or even freeze, lower the worker number to avoid potential slowness/freeze if necessary.\n",
            "  cpuset_checked))\n"
          ]
        }
      ]
    },
    {
      "cell_type": "markdown",
      "metadata": {
        "id": "R83h-PFoTK2j"
      },
      "source": [
        "# 모델"
      ]
    },
    {
      "cell_type": "code",
      "metadata": {
        "id": "linriOSHTK2k"
      },
      "source": [
        "class CNN_Model(nn.Module):\n",
        "    def __init__(self, class_n, rate=0.1):\n",
        "        super(CNN_Model, self).__init__()\n",
        "        self.model = models.resnet50(pretrained=True)\n",
        "        self.dropout = nn.Dropout(rate)\n",
        "        self.output_layer = nn.Linear(in_features=1000, out_features=class_n, bias=True)\n",
        "    \n",
        "    def forward(self, inputs):\n",
        "        output = self.output_layer(self.dropout(self.model(inputs)))\n",
        "        return output"
      ],
      "execution_count": 12,
      "outputs": []
    },
    {
      "cell_type": "code",
      "metadata": {
        "colab": {
          "base_uri": "https://localhost:8080/",
          "height": 67,
          "referenced_widgets": [
            "af8520d640e14e128761277f2732026c",
            "0440e5937651401793a3847e807f0b9d",
            "27386c22d734485bb571e3b01f427bb8",
            "215b1f7a3b23466dbbfbb57cb159a370",
            "e580ab40e0594cfb9f0d4ee4ae8100e6",
            "1bdcf14e04f4462e92a92309bf273c58",
            "e2b7006d3d5a41b585670a38f28910ba",
            "fdd16c82fc504d178a8be0b43f90232f",
            "80b0393132974a3c8825fc981c8257d5",
            "19a13ef1d92b424ca356b25fb224e18b",
            "c1c89a556622442eb474314f331d57a7"
          ]
        },
        "id": "M-IxRtenTK2l",
        "outputId": "916ec138-862a-461a-b4db-b430392d9b4b"
      },
      "source": [
        "model = CNN_Model(class_n).to(device)"
      ],
      "execution_count": 13,
      "outputs": [
        {
          "output_type": "stream",
          "name": "stderr",
          "text": [
            "Downloading: \"https://download.pytorch.org/models/resnet50-0676ba61.pth\" to /root/.cache/torch/hub/checkpoints/resnet50-0676ba61.pth\n"
          ]
        },
        {
          "output_type": "display_data",
          "data": {
            "application/vnd.jupyter.widget-view+json": {
              "model_id": "af8520d640e14e128761277f2732026c",
              "version_minor": 0,
              "version_major": 2
            },
            "text/plain": [
              "  0%|          | 0.00/97.8M [00:00<?, ?B/s]"
            ]
          },
          "metadata": {}
        }
      ]
    },
    {
      "cell_type": "code",
      "metadata": {
        "id": "2bAoZ66eTK2l"
      },
      "source": [
        "optimizer = torch.optim.Adam(model.parameters(), lr=learning_rate)\n",
        "criterion = nn.CrossEntropyLoss()"
      ],
      "execution_count": 14,
      "outputs": []
    },
    {
      "cell_type": "markdown",
      "metadata": {
        "id": "LRgHbcKaTK2m"
      },
      "source": [
        "# 학습"
      ]
    },
    {
      "cell_type": "code",
      "metadata": {
        "id": "5zQb1W0KTK2m"
      },
      "source": [
        "def train_step(batch_item, epoch, batch, training):\n",
        "    img = batch_item['img'].to(device)\n",
        "    label = batch_item['label'].to(device)\n",
        "    if training is True:\n",
        "        model.train()\n",
        "        optimizer.zero_grad()\n",
        "        with torch.cuda.amp.autocast():\n",
        "            output = model(img)\n",
        "            loss = criterion(output, label)\n",
        "        loss.backward()\n",
        "        optimizer.step()\n",
        "        \n",
        "        return loss\n",
        "    else:\n",
        "        model.eval()\n",
        "        with torch.no_grad():\n",
        "            output = model(img)\n",
        "            loss = criterion(output, label)\n",
        "            \n",
        "        return loss"
      ],
      "execution_count": 15,
      "outputs": []
    },
    {
      "cell_type": "code",
      "metadata": {
        "colab": {
          "base_uri": "https://localhost:8080/"
        },
        "id": "dcLa4O3rTK2n",
        "outputId": "ee6cf8e6-49cb-4aae-c02a-d15b75c169a5"
      },
      "source": [
        "loss_plot, val_loss_plot = [], []\n",
        "\n",
        "for epoch in range(epochs):\n",
        "    total_loss, total_val_loss = 0, 0\n",
        "    \n",
        "    tqdm_dataset = tqdm(enumerate(train_dataloader))\n",
        "    training = True\n",
        "    for batch, batch_item in tqdm_dataset:\n",
        "        batch_loss = train_step(batch_item, epoch, batch, training)\n",
        "        total_loss += batch_loss\n",
        "        \n",
        "        tqdm_dataset.set_postfix({\n",
        "            'Epoch': epoch + 1,\n",
        "            'Loss': '{:06f}'.format(batch_loss.item()),\n",
        "            'Total Loss' : '{:06f}'.format(total_loss/(batch+1))\n",
        "        })\n",
        "    loss_plot.append(total_loss/(batch+1))\n",
        "    \n",
        "    tqdm_dataset = tqdm(enumerate(val_dataloader))\n",
        "    training = False\n",
        "    for batch, batch_item in tqdm_dataset:\n",
        "        batch_loss = train_step(batch_item, epoch, batch, training)\n",
        "        total_val_loss += batch_loss\n",
        "        \n",
        "        tqdm_dataset.set_postfix({\n",
        "            'Epoch': epoch + 1,\n",
        "            'Val Loss': '{:06f}'.format(batch_loss.item()),\n",
        "            'Total Val Loss' : '{:06f}'.format(total_val_loss/(batch+1))\n",
        "        })\n",
        "    val_loss_plot.append(total_val_loss/(batch+1))\n",
        "    \n",
        "    if np.min(val_loss_plot) == val_loss_plot[-1]:\n",
        "        torch.save(model, save_path)"
      ],
      "execution_count": 16,
      "outputs": [
        {
          "output_type": "stream",
          "name": "stderr",
          "text": [
            "/usr/local/lib/python3.7/dist-packages/torch/utils/data/dataloader.py:481: UserWarning: This DataLoader will create 16 worker processes in total. Our suggested max number of worker in current system is 4, which is smaller than what this DataLoader is going to create. Please be aware that excessive worker creation might get DataLoader running slow or even freeze, lower the worker number to avoid potential slowness/freeze if necessary.\n",
            "  cpuset_checked))\n",
            "0it [00:00, ?it/s]/usr/local/lib/python3.7/dist-packages/torch/nn/functional.py:718: UserWarning: Named tensors and all their associated APIs are an experimental feature and subject to change. Please do not use them for anything important until they are released as stable. (Triggered internally at  /pytorch/c10/core/TensorImpl.h:1156.)\n",
            "  return torch.max_pool2d(input, kernel_size, stride, padding, dilation, ceil_mode)\n",
            "13it [00:09,  1.40it/s, Epoch=1, Loss=0.326007, Total Loss=0.894928]\n",
            "4it [00:02,  1.39it/s, Epoch=1, Val Loss=1.982130, Total Val Loss=0.788623]\n",
            "13it [00:09,  1.42it/s, Epoch=2, Loss=0.010044, Total Loss=0.105954]\n",
            "4it [00:02,  1.43it/s, Epoch=2, Val Loss=0.829002, Total Val Loss=0.465317]\n",
            "13it [00:09,  1.36it/s, Epoch=3, Loss=0.047352, Total Loss=0.012506]\n",
            "4it [00:02,  1.38it/s, Epoch=3, Val Loss=0.298502, Total Val Loss=0.177157]\n",
            "13it [00:09,  1.35it/s, Epoch=4, Loss=0.062031, Total Loss=0.021982]\n",
            "4it [00:02,  1.37it/s, Epoch=4, Val Loss=0.095848, Total Val Loss=0.079609]\n",
            "13it [00:09,  1.39it/s, Epoch=5, Loss=0.182762, Total Loss=0.038707]\n",
            "4it [00:02,  1.43it/s, Epoch=5, Val Loss=0.095627, Total Val Loss=0.085633]\n",
            "13it [00:09,  1.40it/s, Epoch=6, Loss=0.015905, Total Loss=0.011347]\n",
            "4it [00:02,  1.45it/s, Epoch=6, Val Loss=0.206005, Total Val Loss=0.259806]\n",
            "13it [00:09,  1.41it/s, Epoch=7, Loss=0.089744, Total Loss=0.022015]\n",
            "4it [00:02,  1.38it/s, Epoch=7, Val Loss=0.152965, Total Val Loss=0.260258]\n",
            "13it [00:09,  1.33it/s, Epoch=8, Loss=0.000608, Total Loss=0.004670]\n",
            "4it [00:02,  1.36it/s, Epoch=8, Val Loss=0.208006, Total Val Loss=0.258234]\n",
            "13it [00:08,  1.46it/s, Epoch=9, Loss=0.002863, Total Loss=0.010701]\n",
            "4it [00:02,  1.45it/s, Epoch=9, Val Loss=0.023704, Total Val Loss=0.132645]\n",
            "13it [00:09,  1.36it/s, Epoch=10, Loss=0.001202, Total Loss=0.006000]\n",
            "4it [00:02,  1.33it/s, Epoch=10, Val Loss=0.016518, Total Val Loss=0.092081]\n",
            "13it [00:09,  1.37it/s, Epoch=11, Loss=0.143247, Total Loss=0.020108]\n",
            "4it [00:02,  1.35it/s, Epoch=11, Val Loss=0.040163, Total Val Loss=0.102320]\n",
            "13it [00:09,  1.36it/s, Epoch=12, Loss=0.006178, Total Loss=0.029511]\n",
            "4it [00:02,  1.36it/s, Epoch=12, Val Loss=1.126595, Total Val Loss=0.787990]\n",
            "13it [00:09,  1.33it/s, Epoch=13, Loss=0.189034, Total Loss=0.027306]\n",
            "4it [00:02,  1.45it/s, Epoch=13, Val Loss=0.023586, Total Val Loss=0.280475]\n",
            "13it [00:09,  1.39it/s, Epoch=14, Loss=1.848101, Total Loss=0.199935]\n",
            "4it [00:02,  1.35it/s, Epoch=14, Val Loss=0.034253, Total Val Loss=0.355070]\n",
            "13it [00:09,  1.36it/s, Epoch=15, Loss=0.020741, Total Loss=0.155131]\n",
            "4it [00:02,  1.36it/s, Epoch=15, Val Loss=0.292995, Total Val Loss=0.307262]\n",
            "13it [00:09,  1.38it/s, Epoch=16, Loss=0.589481, Total Loss=0.106852]\n",
            "4it [00:02,  1.40it/s, Epoch=16, Val Loss=0.112224, Total Val Loss=0.071400]\n",
            "13it [00:09,  1.32it/s, Epoch=17, Loss=0.062059, Total Loss=0.088049]\n",
            "4it [00:02,  1.33it/s, Epoch=17, Val Loss=0.000329, Total Val Loss=0.105797]\n",
            "13it [00:09,  1.34it/s, Epoch=18, Loss=0.150972, Total Loss=0.023384]\n",
            "4it [00:02,  1.36it/s, Epoch=18, Val Loss=0.000533, Total Val Loss=0.207500]\n",
            "13it [00:09,  1.36it/s, Epoch=19, Loss=1.380033, Total Loss=0.183016]\n",
            "4it [00:02,  1.36it/s, Epoch=19, Val Loss=0.000024, Total Val Loss=0.215207]\n",
            "13it [00:09,  1.33it/s, Epoch=20, Loss=0.264748, Total Loss=0.085196]\n",
            "4it [00:02,  1.44it/s, Epoch=20, Val Loss=0.001336, Total Val Loss=0.111117]\n",
            "13it [00:09,  1.36it/s, Epoch=21, Loss=0.029393, Total Loss=0.089725]\n",
            "4it [00:02,  1.35it/s, Epoch=21, Val Loss=0.011573, Total Val Loss=0.219086]\n",
            "13it [00:09,  1.39it/s, Epoch=22, Loss=0.014422, Total Loss=0.024266]\n",
            "4it [00:02,  1.36it/s, Epoch=22, Val Loss=0.004191, Total Val Loss=0.276446]\n",
            "13it [00:09,  1.32it/s, Epoch=23, Loss=0.042654, Total Loss=0.014350]\n",
            "4it [00:02,  1.45it/s, Epoch=23, Val Loss=0.001528, Total Val Loss=0.132157]\n",
            "13it [00:09,  1.38it/s, Epoch=24, Loss=0.028298, Total Loss=0.017504]\n",
            "4it [00:02,  1.44it/s, Epoch=24, Val Loss=0.002291, Total Val Loss=0.241888]\n",
            "13it [00:09,  1.41it/s, Epoch=25, Loss=0.849375, Total Loss=0.093385]\n",
            "4it [00:02,  1.36it/s, Epoch=25, Val Loss=0.000350, Total Val Loss=0.337647]\n",
            "13it [00:09,  1.36it/s, Epoch=26, Loss=0.005059, Total Loss=0.042160]\n",
            "4it [00:02,  1.44it/s, Epoch=26, Val Loss=0.000015, Total Val Loss=0.275442]\n",
            "13it [00:09,  1.38it/s, Epoch=27, Loss=0.159487, Total Loss=0.041873]\n",
            "4it [00:02,  1.35it/s, Epoch=27, Val Loss=0.005279, Total Val Loss=0.116930]\n",
            "13it [00:09,  1.38it/s, Epoch=28, Loss=0.153264, Total Loss=0.071697]\n",
            "4it [00:02,  1.43it/s, Epoch=28, Val Loss=0.000212, Total Val Loss=0.016756]\n",
            "13it [00:09,  1.35it/s, Epoch=29, Loss=0.006581, Total Loss=0.017108]\n",
            "4it [00:02,  1.41it/s, Epoch=29, Val Loss=0.002523, Total Val Loss=0.035838]\n",
            "13it [00:09,  1.43it/s, Epoch=30, Loss=0.001675, Total Loss=0.005507]\n",
            "4it [00:02,  1.36it/s, Epoch=30, Val Loss=0.040840, Total Val Loss=0.052503]\n",
            "13it [00:09,  1.35it/s, Epoch=31, Loss=0.020921, Total Loss=0.015559]\n",
            "4it [00:02,  1.44it/s, Epoch=31, Val Loss=0.112452, Total Val Loss=0.061184]\n",
            "13it [00:09,  1.35it/s, Epoch=32, Loss=0.001987, Total Loss=0.003708]\n",
            "4it [00:02,  1.43it/s, Epoch=32, Val Loss=0.088009, Total Val Loss=0.043932]\n",
            "13it [00:09,  1.38it/s, Epoch=33, Loss=0.149687, Total Loss=0.019813]\n",
            "4it [00:02,  1.44it/s, Epoch=33, Val Loss=0.079158, Total Val Loss=0.042452]\n",
            "13it [00:09,  1.44it/s, Epoch=34, Loss=0.002840, Total Loss=0.011488]\n",
            "4it [00:02,  1.45it/s, Epoch=34, Val Loss=0.149134, Total Val Loss=0.079679]\n",
            "13it [00:09,  1.39it/s, Epoch=35, Loss=0.000966, Total Loss=0.006082]\n",
            "4it [00:02,  1.35it/s, Epoch=35, Val Loss=0.072297, Total Val Loss=0.055360]\n",
            "13it [00:09,  1.37it/s, Epoch=36, Loss=0.000319, Total Loss=0.001528]\n",
            "4it [00:02,  1.44it/s, Epoch=36, Val Loss=0.059757, Total Val Loss=0.045361]\n",
            "13it [00:09,  1.42it/s, Epoch=37, Loss=0.000247, Total Loss=0.001456]\n",
            "4it [00:02,  1.34it/s, Epoch=37, Val Loss=0.076859, Total Val Loss=0.045683]\n",
            "13it [00:08,  1.45it/s, Epoch=38, Loss=0.000014, Total Loss=0.002855]\n",
            "4it [00:02,  1.37it/s, Epoch=38, Val Loss=0.034167, Total Val Loss=0.034581]\n",
            "13it [00:09,  1.42it/s, Epoch=39, Loss=0.000230, Total Loss=0.002749]\n",
            "4it [00:02,  1.34it/s, Epoch=39, Val Loss=0.043786, Total Val Loss=0.033664]\n",
            "13it [00:09,  1.38it/s, Epoch=40, Loss=0.000156, Total Loss=0.001732]\n",
            "4it [00:02,  1.37it/s, Epoch=40, Val Loss=0.023103, Total Val Loss=0.036722]\n",
            "13it [00:09,  1.38it/s, Epoch=41, Loss=0.000044, Total Loss=0.001614]\n",
            "4it [00:02,  1.45it/s, Epoch=41, Val Loss=0.012573, Total Val Loss=0.036770]\n",
            "13it [00:09,  1.39it/s, Epoch=42, Loss=0.000013, Total Loss=0.000323]\n",
            "4it [00:02,  1.37it/s, Epoch=42, Val Loss=0.012311, Total Val Loss=0.034355]\n",
            "13it [00:09,  1.37it/s, Epoch=43, Loss=0.053695, Total Loss=0.004683]\n",
            "4it [00:02,  1.44it/s, Epoch=43, Val Loss=0.014647, Total Val Loss=0.037307]\n",
            "13it [00:09,  1.37it/s, Epoch=44, Loss=0.000031, Total Loss=0.000354]\n",
            "4it [00:02,  1.41it/s, Epoch=44, Val Loss=0.032593, Total Val Loss=0.042323]\n",
            "13it [00:09,  1.36it/s, Epoch=45, Loss=0.003999, Total Loss=0.006708]\n",
            "4it [00:02,  1.38it/s, Epoch=45, Val Loss=0.012304, Total Val Loss=0.046182]\n",
            "13it [00:09,  1.40it/s, Epoch=46, Loss=0.029182, Total Loss=0.003029]\n",
            "4it [00:02,  1.36it/s, Epoch=46, Val Loss=0.009979, Total Val Loss=0.057941]\n",
            "13it [00:08,  1.46it/s, Epoch=47, Loss=0.000083, Total Loss=0.020305]\n",
            "4it [00:02,  1.44it/s, Epoch=47, Val Loss=0.008417, Total Val Loss=0.038110]\n",
            "13it [00:09,  1.41it/s, Epoch=48, Loss=0.040984, Total Loss=0.012033]\n",
            "4it [00:02,  1.45it/s, Epoch=48, Val Loss=0.007024, Total Val Loss=0.074843]\n",
            "13it [00:09,  1.44it/s, Epoch=49, Loss=0.001872, Total Loss=0.000475]\n",
            "4it [00:02,  1.36it/s, Epoch=49, Val Loss=0.011082, Total Val Loss=0.091193]\n",
            "13it [00:09,  1.44it/s, Epoch=50, Loss=0.122142, Total Loss=0.014693]\n",
            "4it [00:02,  1.36it/s, Epoch=50, Val Loss=0.017093, Total Val Loss=0.119497]\n",
            "13it [00:09,  1.44it/s, Epoch=51, Loss=0.059672, Total Loss=0.129807]\n",
            "4it [00:02,  1.36it/s, Epoch=51, Val Loss=0.007749, Total Val Loss=0.045464]\n",
            "13it [00:09,  1.43it/s, Epoch=52, Loss=0.120337, Total Loss=0.025743]\n",
            "4it [00:02,  1.34it/s, Epoch=52, Val Loss=0.000100, Total Val Loss=0.097213]\n",
            "13it [00:09,  1.40it/s, Epoch=53, Loss=0.000826, Total Loss=0.112966]\n",
            "4it [00:02,  1.44it/s, Epoch=53, Val Loss=0.005138, Total Val Loss=0.184046]\n",
            "13it [00:09,  1.41it/s, Epoch=54, Loss=0.604050, Total Loss=0.117511]\n",
            "4it [00:02,  1.46it/s, Epoch=54, Val Loss=0.462858, Total Val Loss=0.362370]\n",
            "13it [00:09,  1.39it/s, Epoch=55, Loss=0.000091, Total Loss=0.125876]\n",
            "4it [00:02,  1.41it/s, Epoch=55, Val Loss=0.000067, Total Val Loss=0.406910]\n",
            "13it [00:09,  1.40it/s, Epoch=56, Loss=0.000983, Total Loss=0.228054]\n",
            "4it [00:02,  1.37it/s, Epoch=56, Val Loss=0.032147, Total Val Loss=0.760222]\n",
            "13it [00:09,  1.44it/s, Epoch=57, Loss=0.407259, Total Loss=0.117310]\n",
            "4it [00:02,  1.44it/s, Epoch=57, Val Loss=1.155628, Total Val Loss=0.618664]\n",
            "13it [00:09,  1.38it/s, Epoch=58, Loss=0.553693, Total Loss=0.094390]\n",
            "4it [00:02,  1.38it/s, Epoch=58, Val Loss=0.014549, Total Val Loss=0.104429]\n",
            "13it [00:09,  1.40it/s, Epoch=59, Loss=0.002765, Total Loss=0.097014]\n",
            "4it [00:02,  1.45it/s, Epoch=59, Val Loss=0.322721, Total Val Loss=0.526091]\n",
            "13it [00:09,  1.36it/s, Epoch=60, Loss=0.081402, Total Loss=0.014193]\n",
            "4it [00:02,  1.43it/s, Epoch=60, Val Loss=0.403148, Total Val Loss=0.592440]\n",
            "13it [00:09,  1.38it/s, Epoch=61, Loss=0.000944, Total Loss=0.013929]\n",
            "4it [00:02,  1.36it/s, Epoch=61, Val Loss=0.112894, Total Val Loss=0.414197]\n",
            "13it [00:09,  1.42it/s, Epoch=62, Loss=0.049241, Total Loss=0.012499]\n",
            "4it [00:02,  1.36it/s, Epoch=62, Val Loss=0.237359, Total Val Loss=0.498357]\n",
            "13it [00:09,  1.39it/s, Epoch=63, Loss=0.057077, Total Loss=0.009271]\n",
            "4it [00:02,  1.37it/s, Epoch=63, Val Loss=0.123087, Total Val Loss=0.423918]\n",
            "13it [00:09,  1.44it/s, Epoch=64, Loss=0.000751, Total Loss=0.001953]\n",
            "4it [00:02,  1.37it/s, Epoch=64, Val Loss=0.003275, Total Val Loss=0.187682]\n",
            "13it [00:09,  1.37it/s, Epoch=65, Loss=0.000232, Total Loss=0.010972]\n",
            "4it [00:02,  1.37it/s, Epoch=65, Val Loss=0.001361, Total Val Loss=0.227062]\n",
            "13it [00:09,  1.37it/s, Epoch=66, Loss=0.000208, Total Loss=0.005032]\n",
            "4it [00:02,  1.34it/s, Epoch=66, Val Loss=0.001406, Total Val Loss=0.310609]\n",
            "13it [00:09,  1.39it/s, Epoch=67, Loss=0.001044, Total Loss=0.001216]\n",
            "4it [00:02,  1.34it/s, Epoch=67, Val Loss=0.000309, Total Val Loss=0.282157]\n",
            "13it [00:09,  1.40it/s, Epoch=68, Loss=0.022553, Total Loss=0.008076]\n",
            "4it [00:02,  1.36it/s, Epoch=68, Val Loss=0.000048, Total Val Loss=0.364865]\n",
            "13it [00:09,  1.39it/s, Epoch=69, Loss=0.000089, Total Loss=0.000972]\n",
            "4it [00:03,  1.33it/s, Epoch=69, Val Loss=0.000173, Total Val Loss=0.478052]\n",
            "13it [00:09,  1.36it/s, Epoch=70, Loss=0.070585, Total Loss=0.016242]\n",
            "4it [00:02,  1.43it/s, Epoch=70, Val Loss=0.001493, Total Val Loss=0.342499]\n",
            "13it [00:09,  1.37it/s, Epoch=71, Loss=0.021911, Total Loss=0.002163]\n",
            "4it [00:02,  1.37it/s, Epoch=71, Val Loss=0.000363, Total Val Loss=0.212815]\n",
            "13it [00:09,  1.40it/s, Epoch=72, Loss=0.001125, Total Loss=0.000507]\n",
            "4it [00:02,  1.42it/s, Epoch=72, Val Loss=0.000305, Total Val Loss=0.198432]\n",
            "13it [00:09,  1.35it/s, Epoch=73, Loss=0.002063, Total Loss=0.001173]\n",
            "4it [00:02,  1.34it/s, Epoch=73, Val Loss=0.000350, Total Val Loss=0.207836]\n",
            "13it [00:09,  1.38it/s, Epoch=74, Loss=0.000095, Total Loss=0.001369]\n",
            "4it [00:02,  1.43it/s, Epoch=74, Val Loss=0.000439, Total Val Loss=0.190508]\n",
            "13it [00:09,  1.42it/s, Epoch=75, Loss=0.030725, Total Loss=0.007956]\n",
            "4it [00:02,  1.42it/s, Epoch=75, Val Loss=0.005209, Total Val Loss=0.336718]\n",
            "13it [00:09,  1.39it/s, Epoch=76, Loss=0.000004, Total Loss=0.000311]\n",
            "4it [00:02,  1.44it/s, Epoch=76, Val Loss=0.031888, Total Val Loss=0.498863]\n",
            "13it [00:09,  1.41it/s, Epoch=77, Loss=0.030920, Total Loss=0.003827]\n",
            "4it [00:02,  1.45it/s, Epoch=77, Val Loss=0.072241, Total Val Loss=0.578431]\n",
            "13it [00:09,  1.41it/s, Epoch=78, Loss=0.000736, Total Loss=0.000595]\n",
            "4it [00:02,  1.35it/s, Epoch=78, Val Loss=0.159930, Total Val Loss=0.668844]\n",
            "13it [00:09,  1.37it/s, Epoch=79, Loss=0.000023, Total Loss=0.001252]\n",
            "4it [00:02,  1.43it/s, Epoch=79, Val Loss=0.079672, Total Val Loss=0.590659]\n",
            "13it [00:09,  1.40it/s, Epoch=80, Loss=0.055985, Total Loss=0.004686]\n",
            "4it [00:02,  1.43it/s, Epoch=80, Val Loss=0.044239, Total Val Loss=0.570118]\n",
            "13it [00:08,  1.45it/s, Epoch=81, Loss=0.005908, Total Loss=0.001028]\n",
            "4it [00:02,  1.34it/s, Epoch=81, Val Loss=0.101506, Total Val Loss=0.579782]\n",
            "13it [00:09,  1.38it/s, Epoch=82, Loss=0.000047, Total Loss=0.009143]\n",
            "4it [00:02,  1.34it/s, Epoch=82, Val Loss=0.050155, Total Val Loss=0.535773]\n",
            "13it [00:08,  1.45it/s, Epoch=83, Loss=0.000061, Total Loss=0.000105]\n",
            "4it [00:02,  1.36it/s, Epoch=83, Val Loss=0.033433, Total Val Loss=0.481094]\n",
            "13it [00:09,  1.41it/s, Epoch=84, Loss=1.077555, Total Loss=0.083723]\n",
            "4it [00:02,  1.35it/s, Epoch=84, Val Loss=0.051044, Total Val Loss=0.537614]\n",
            "13it [00:09,  1.37it/s, Epoch=85, Loss=0.173710, Total Loss=0.069327]\n",
            "4it [00:02,  1.42it/s, Epoch=85, Val Loss=0.046526, Total Val Loss=0.487175]\n",
            "13it [00:09,  1.42it/s, Epoch=86, Loss=0.000504, Total Loss=0.018315]\n",
            "4it [00:02,  1.45it/s, Epoch=86, Val Loss=0.019625, Total Val Loss=0.405558]\n",
            "13it [00:09,  1.39it/s, Epoch=87, Loss=0.966541, Total Loss=0.095381]\n",
            "4it [00:02,  1.43it/s, Epoch=87, Val Loss=0.003957, Total Val Loss=0.409403]\n",
            "13it [00:09,  1.40it/s, Epoch=88, Loss=0.005059, Total Loss=0.115937]\n",
            "4it [00:02,  1.36it/s, Epoch=88, Val Loss=0.000015, Total Val Loss=1.055850]\n",
            "13it [00:09,  1.36it/s, Epoch=89, Loss=0.021393, Total Loss=0.086288]\n",
            "4it [00:02,  1.44it/s, Epoch=89, Val Loss=0.035874, Total Val Loss=0.329953]\n",
            "13it [00:09,  1.34it/s, Epoch=90, Loss=0.052608, Total Loss=0.074500]\n",
            "4it [00:02,  1.36it/s, Epoch=90, Val Loss=0.033788, Total Val Loss=0.219263]\n",
            "13it [00:09,  1.42it/s, Epoch=91, Loss=0.000163, Total Loss=0.047064]\n",
            "4it [00:02,  1.36it/s, Epoch=91, Val Loss=0.107894, Total Val Loss=0.224470]\n",
            "13it [00:09,  1.33it/s, Epoch=92, Loss=0.088144, Total Loss=0.023556]\n",
            "4it [00:02,  1.37it/s, Epoch=92, Val Loss=0.286119, Total Val Loss=0.198747]\n",
            "13it [00:09,  1.41it/s, Epoch=93, Loss=0.000060, Total Loss=0.049909]\n",
            "4it [00:02,  1.35it/s, Epoch=93, Val Loss=0.187725, Total Val Loss=0.184898]\n",
            "13it [00:09,  1.37it/s, Epoch=94, Loss=0.002935, Total Loss=0.026765]\n",
            "4it [00:02,  1.43it/s, Epoch=94, Val Loss=1.325205, Total Val Loss=1.056003]\n",
            "13it [00:09,  1.44it/s, Epoch=95, Loss=0.017842, Total Loss=0.053839]\n",
            "4it [00:02,  1.45it/s, Epoch=95, Val Loss=1.936948, Total Val Loss=0.783409]\n",
            "13it [00:09,  1.42it/s, Epoch=96, Loss=0.000522, Total Loss=0.015727]\n",
            "4it [00:02,  1.40it/s, Epoch=96, Val Loss=0.272249, Total Val Loss=0.142912]\n",
            "13it [00:09,  1.40it/s, Epoch=97, Loss=0.000247, Total Loss=0.001683]\n",
            "4it [00:02,  1.39it/s, Epoch=97, Val Loss=0.029336, Total Val Loss=0.104403]\n",
            "13it [00:09,  1.37it/s, Epoch=98, Loss=0.000645, Total Loss=0.008674]\n",
            "4it [00:02,  1.35it/s, Epoch=98, Val Loss=0.009808, Total Val Loss=0.066330]\n",
            "13it [00:09,  1.39it/s, Epoch=99, Loss=0.000629, Total Loss=0.027724]\n",
            "4it [00:02,  1.35it/s, Epoch=99, Val Loss=0.007098, Total Val Loss=0.078696]\n",
            "13it [00:09,  1.43it/s, Epoch=100, Loss=0.164073, Total Loss=0.014085]\n",
            "4it [00:02,  1.34it/s, Epoch=100, Val Loss=0.293689, Total Val Loss=0.433603]\n"
          ]
        }
      ]
    },
    {
      "cell_type": "markdown",
      "metadata": {
        "id": "MTPWDhihTK2n"
      },
      "source": [
        "# 학습 결과"
      ]
    },
    {
      "cell_type": "code",
      "metadata": {
        "colab": {
          "base_uri": "https://localhost:8080/",
          "height": 279
        },
        "id": "LlzTw2lBTK2o",
        "outputId": "5990fb07-41cc-4d66-dd4f-347730a30dd7"
      },
      "source": [
        "plt.plot(loss_plot, label='train_loss')\n",
        "plt.plot(val_loss_plot, label='val_loss')\n",
        "plt.xlabel('epoch')\n",
        "plt.ylabel('loss')\n",
        "plt.legend()\n",
        "plt.show()"
      ],
      "execution_count": 17,
      "outputs": [
        {
          "output_type": "display_data",
          "data": {
            "image/png": "[encoded data removed]",
            "text/plain": [
              "<Figure size 432x288 with 1 Axes>"
            ]
          },
          "metadata": {
            "needs_background": "light"
          }
        }
      ]
    },
    {
      "cell_type": "markdown",
      "metadata": {
        "id": "xcDYF7xCTK2o"
      },
      "source": [
        "# 추론 및 제출"
      ]
    },
    {
      "cell_type": "code",
      "metadata": {
        "id": "KsbanrbhTK2o"
      },
      "source": [
        "def predict(dataset):\n",
        "    model.eval()\n",
        "    tqdm_dataset = tqdm(enumerate(dataset))\n",
        "    training = False\n",
        "    results = []\n",
        "    for batch, batch_item in tqdm_dataset:\n",
        "        img = batch_item['img'].to(device)\n",
        "        with torch.no_grad():\n",
        "            output = model(img)\n",
        "        output = torch.tensor(torch.argmax(output, axis=-1), dtype=torch.int32).cpu().numpy()\n",
        "        results.extend(output)\n",
        "    return results"
      ],
      "execution_count": 18,
      "outputs": []
    },
    {
      "cell_type": "code",
      "metadata": {
        "colab": {
          "base_uri": "https://localhost:8080/"
        },
        "id": "1pa0FOmFTK2p",
        "outputId": "38152635-7876-4464-bd52-2b372d266deb"
      },
      "source": [
        "preds = predict(test_dataloader)"
      ],
      "execution_count": 19,
      "outputs": [
        {
          "output_type": "stream",
          "name": "stderr",
          "text": [
            "/usr/local/lib/python3.7/dist-packages/torch/utils/data/dataloader.py:481: UserWarning: This DataLoader will create 16 worker processes in total. Our suggested max number of worker in current system is 4, which is smaller than what this DataLoader is going to create. Please be aware that excessive worker creation might get DataLoader running slow or even freeze, lower the worker number to avoid potential slowness/freeze if necessary.\n",
            "  cpuset_checked))\n",
            "0it [00:00, ?it/s]/usr/local/lib/python3.7/dist-packages/ipykernel_launcher.py:10: UserWarning: To copy construct from a tensor, it is recommended to use sourceTensor.clone().detach() or sourceTensor.clone().detach().requires_grad_(True), rather than torch.tensor(sourceTensor).\n",
            "  # Remove the CWD from sys.path while we load stuff.\n",
            "297it [02:58,  1.67it/s]\n"
          ]
        }
      ]
    },
    {
      "cell_type": "code",
      "metadata": {
        "id": "FXnct79rTK2p"
      },
      "source": [
        "submission = pd.read_csv('./sample_submission.csv')"
      ],
      "execution_count": 20,
      "outputs": []
    },
    {
      "cell_type": "code",
      "metadata": {
        "id": "epNFH3vqTK2q"
      },
      "source": [
        "submission.iloc[:,1] = preds"
      ],
      "execution_count": 21,
      "outputs": []
    },
    {
      "cell_type": "code",
      "metadata": {
        "id": "lhe07edpTK2q"
      },
      "source": [
        "submission.to_csv('baseline2.csv', index=False)"
      ],
      "execution_count": 22,
      "outputs": []
    }
  ]
}