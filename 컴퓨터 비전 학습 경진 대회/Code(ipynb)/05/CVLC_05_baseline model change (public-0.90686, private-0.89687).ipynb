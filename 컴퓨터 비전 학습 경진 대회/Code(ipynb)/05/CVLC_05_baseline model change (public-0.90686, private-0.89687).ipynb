{
  "nbformat": 4,
  "nbformat_minor": 0,
  "metadata": {
    "colab": {
      "name": "CVLC_05_No Data Argmentation(public_0.90686-private_0.89687).ipynb",
      "provenance": [],
      "collapsed_sections": [],
      "machine_shape": "hm",
      "include_colab_link": true
    },
    "kernelspec": {
      "name": "python3",
      "display_name": "Python 3"
    },
    "accelerator": "GPU"
  },
  "cells": [
    {
      "cell_type": "markdown",
      "metadata": {
        "id": "view-in-github",
        "colab_type": "text"
      },
      "source": [
        "<a href=\"https://colab.research.google.com/github/d9249/DACON/blob/main/CVLC_05_No_Data_Argmentation(public_0_90686_private_0_89687).ipynb\" target=\"_parent\"><img src=\"https://colab.research.google.com/assets/colab-badge.svg\" alt=\"Open In Colab\"/></a>"
      ]
    },
    {
      "cell_type": "code",
      "metadata": {
        "id": "LmEaPJckuX-D",
        "colab": {
          "base_uri": "https://localhost:8080/"
        },
        "outputId": "7aa0b31d-1f3e-4e66-8bfc-83d3432aee72"
      },
      "source": [
        "from google.colab import drive\n",
        "drive.mount('/content/drive')"
      ],
      "execution_count": null,
      "outputs": [
        {
          "output_type": "stream",
          "text": [
            "Drive already mounted at /content/drive; to attempt to forcibly remount, call drive.mount(\"/content/drive\", force_remount=True).\n"
          ],
          "name": "stdout"
        }
      ]
    },
    {
      "cell_type": "code",
      "metadata": {
        "id": "742aRTq7uC_D"
      },
      "source": [
        "import pandas as pd\n",
        "import numpy as np\n",
        "import matplotlib.pyplot as plt\n",
        "import warnings \n",
        "warnings.filterwarnings('ignore')\n",
        "import tensorflow as tf\n",
        "from tensorflow.keras import Sequential\n",
        "from keras.layers.convolutional import Conv2D\n",
        "from keras.layers import Dense\n",
        "from keras.layers.convolutional import MaxPooling2D\n",
        "from keras.layers import Flatten\n",
        "from tensorflow.keras.layers import BatchNormalization\n",
        "from keras.layers import Activation, Dense\n",
        "from keras.layers import Dropout"
      ],
      "execution_count": null,
      "outputs": []
    },
    {
      "cell_type": "code",
      "metadata": {
        "id": "88GAtllsufPj"
      },
      "source": [
        "train = pd.read_csv('/content/drive/MyDrive/DACON_CVLC/data/train.csv')\n",
        "test = pd.read_csv('/content/drive/MyDrive/DACON_CVLC/data/test.csv')\n",
        "sub = pd.read_csv('/content/drive/MyDrive/DACON_CVLC/data/submission.csv')"
      ],
      "execution_count": null,
      "outputs": []
    },
    {
      "cell_type": "code",
      "metadata": {
        "id": "dDXCBS3aviCs"
      },
      "source": [
        "# drop columns\n",
        "x_train = train.drop(['id','digit','letter'],1)\n",
        "x_train = x_train.values"
      ],
      "execution_count": null,
      "outputs": []
    },
    {
      "cell_type": "code",
      "metadata": {
        "id": "QnuBxHdPwSBb"
      },
      "source": [
        "# reshape\n",
        "x_train = x_train.reshape(-1,28,28,1)"
      ],
      "execution_count": null,
      "outputs": []
    },
    {
      "cell_type": "code",
      "metadata": {
        "id": "h4XLGVeXwY8b"
      },
      "source": [
        "# 정규화\n",
        "x_train = x_train/255"
      ],
      "execution_count": null,
      "outputs": []
    },
    {
      "cell_type": "code",
      "metadata": {
        "id": "ytP23B6ywaVD"
      },
      "source": [
        "# one hot encoder\n",
        "def one_hot_encoder(x):\n",
        "    y = np.zeros((len(x), len(np.unique(x))))  # 모든 값이 0인 백터\n",
        "    for i, num in enumerate(x):\n",
        "        y[i][num] = 1  # Label에 해당하는 인덱스에 1을 입력\n",
        "    return y"
      ],
      "execution_count": null,
      "outputs": []
    },
    {
      "cell_type": "code",
      "metadata": {
        "id": "W-53igZvwe0T"
      },
      "source": [
        "y_train = one_hot_encoder(train['digit'])"
      ],
      "execution_count": null,
      "outputs": []
    },
    {
      "cell_type": "code",
      "metadata": {
        "id": "yOWG2PbUEnay"
      },
      "source": [
        "from tensorflow.keras.preprocessing.image import ImageDataGenerator\n",
        "idg = ImageDataGenerator(height_shift_range=(-1,1), width_shift_range=(-1,1))"
      ],
      "execution_count": null,
      "outputs": []
    },
    {
      "cell_type": "code",
      "metadata": {
        "id": "NBZlXaJvETTA"
      },
      "source": [
        "def create_cnn_model(x_train):\n",
        "    inputs = tf.keras.layers.Input(x_train.shape[1:])\n",
        "    # add로 모델을 점진적으로 추가하기 위한 함수.\n",
        "    model = Sequential()\n",
        "    \n",
        "    model.add(Conv2D(16,(3,3),activation='relu',input_shape=(28,28,1),padding='same'))\n",
        "    model.add(BatchNormalization())\n",
        "    model.add(Dropout(0.3))\n",
        "    \n",
        "    model.add(Conv2D(32,(3,3),activation='relu',padding='same'))\n",
        "    model.add(BatchNormalization())\n",
        "    model.add(Conv2D(32,(5,5),activation='relu',padding='same')) \n",
        "    model.add(BatchNormalization())\n",
        "    model.add(Conv2D(32,(5,5),activation='relu',padding='same'))\n",
        "    model.add(BatchNormalization())\n",
        "    model.add(Conv2D(32,(5,5),activation='relu',padding='same'))\n",
        "    model.add(BatchNormalization())\n",
        "    model.add(MaxPooling2D((3,3)))\n",
        "    model.add(Dropout(0.3))\n",
        "    \n",
        "    model.add(Conv2D(64,(3,3),activation='relu',padding='same'))\n",
        "    model.add(BatchNormalization())\n",
        "    model.add(Conv2D(64,(5,5),activation='relu',padding='same')) \n",
        "    model.add(BatchNormalization())\n",
        "    model.add(MaxPooling2D((3,3)))\n",
        "    model.add(Dropout(0.3))\n",
        "    \n",
        "    model.add(Flatten())\n",
        "\n",
        "    model.add(Dense(128,activation='relu'))\n",
        "    model.add(BatchNormalization())\n",
        "    model.add(Dropout(0.3))\n",
        "    model.add(Dense(64,activation='relu'))\n",
        "    model.add(BatchNormalization())\n",
        "    model.add(Dropout(0.3))\n",
        "\n",
        "    model.add(Dense(10,activation='softmax'))\n",
        "\n",
        "    return model"
      ],
      "execution_count": null,
      "outputs": []
    },
    {
      "cell_type": "code",
      "metadata": {
        "id": "Y88ID-UMwoRL"
      },
      "source": [
        "# 모델만들기\n",
        "model = create_cnn_model(x_train)"
      ],
      "execution_count": null,
      "outputs": []
    },
    {
      "cell_type": "code",
      "metadata": {
        "id": "DlkGiNEjxNmb"
      },
      "source": [
        "model.compile(loss='categorical_crossentropy', optimizer='adam', metrics=['accuracy'])\n",
        "# model.summary()"
      ],
      "execution_count": null,
      "outputs": []
    },
    {
      "cell_type": "code",
      "metadata": {
        "colab": {
          "base_uri": "https://localhost:8080/"
        },
        "id": "8j0z40CXxSXj",
        "outputId": "317423f9-673a-4338-adb8-d4a5a7fe3593"
      },
      "source": [
        "model.fit(x_train, y_train, epochs=100)"
      ],
      "execution_count": null,
      "outputs": [
        {
          "output_type": "stream",
          "text": [
            "Epoch 1/100\n",
            "64/64 [==============================] - 1s 9ms/step - loss: 0.2370 - accuracy: 0.9229\n",
            "Epoch 2/100\n",
            "64/64 [==============================] - 1s 9ms/step - loss: 0.2153 - accuracy: 0.9263\n",
            "Epoch 3/100\n",
            "64/64 [==============================] - 1s 8ms/step - loss: 0.1723 - accuracy: 0.9429\n",
            "Epoch 4/100\n",
            "64/64 [==============================] - 1s 9ms/step - loss: 0.1854 - accuracy: 0.9390\n",
            "Epoch 5/100\n",
            "64/64 [==============================] - 1s 8ms/step - loss: 0.2261 - accuracy: 0.9238\n",
            "Epoch 6/100\n",
            "64/64 [==============================] - 1s 9ms/step - loss: 0.1835 - accuracy: 0.9395\n",
            "Epoch 7/100\n",
            "64/64 [==============================] - 1s 9ms/step - loss: 0.1843 - accuracy: 0.9419\n",
            "Epoch 8/100\n",
            "64/64 [==============================] - 1s 8ms/step - loss: 0.1795 - accuracy: 0.9404\n",
            "Epoch 9/100\n",
            "64/64 [==============================] - 1s 9ms/step - loss: 0.1947 - accuracy: 0.9316\n",
            "Epoch 10/100\n",
            "64/64 [==============================] - 1s 8ms/step - loss: 0.1682 - accuracy: 0.9438\n",
            "Epoch 11/100\n",
            "64/64 [==============================] - 1s 8ms/step - loss: 0.1866 - accuracy: 0.9409\n",
            "Epoch 12/100\n",
            "64/64 [==============================] - 1s 8ms/step - loss: 0.2100 - accuracy: 0.9321\n",
            "Epoch 13/100\n",
            "64/64 [==============================] - 1s 9ms/step - loss: 0.2021 - accuracy: 0.9321\n",
            "Epoch 14/100\n",
            "64/64 [==============================] - 1s 8ms/step - loss: 0.1705 - accuracy: 0.9434\n",
            "Epoch 15/100\n",
            "64/64 [==============================] - 1s 9ms/step - loss: 0.1667 - accuracy: 0.9404\n",
            "Epoch 16/100\n",
            "64/64 [==============================] - 1s 9ms/step - loss: 0.1678 - accuracy: 0.9478\n",
            "Epoch 17/100\n",
            "64/64 [==============================] - 1s 9ms/step - loss: 0.1229 - accuracy: 0.9595\n",
            "Epoch 18/100\n",
            "64/64 [==============================] - 1s 9ms/step - loss: 0.1341 - accuracy: 0.9556\n",
            "Epoch 19/100\n",
            "64/64 [==============================] - 1s 9ms/step - loss: 0.1206 - accuracy: 0.9634\n",
            "Epoch 20/100\n",
            "64/64 [==============================] - 1s 9ms/step - loss: 0.1186 - accuracy: 0.9570\n",
            "Epoch 21/100\n",
            "64/64 [==============================] - 1s 9ms/step - loss: 0.0978 - accuracy: 0.9663\n",
            "Epoch 22/100\n",
            "64/64 [==============================] - 1s 9ms/step - loss: 0.1095 - accuracy: 0.9570\n",
            "Epoch 23/100\n",
            "64/64 [==============================] - 1s 8ms/step - loss: 0.0896 - accuracy: 0.9722\n",
            "Epoch 24/100\n",
            "64/64 [==============================] - 1s 9ms/step - loss: 0.1113 - accuracy: 0.9604\n",
            "Epoch 25/100\n",
            "64/64 [==============================] - 1s 8ms/step - loss: 0.1216 - accuracy: 0.9580\n",
            "Epoch 26/100\n",
            "64/64 [==============================] - 1s 8ms/step - loss: 0.0823 - accuracy: 0.9702\n",
            "Epoch 27/100\n",
            "64/64 [==============================] - 1s 9ms/step - loss: 0.0990 - accuracy: 0.9639\n",
            "Epoch 28/100\n",
            "64/64 [==============================] - 1s 9ms/step - loss: 0.1227 - accuracy: 0.9619\n",
            "Epoch 29/100\n",
            "64/64 [==============================] - 1s 9ms/step - loss: 0.1050 - accuracy: 0.9648\n",
            "Epoch 30/100\n",
            "64/64 [==============================] - 1s 9ms/step - loss: 0.1166 - accuracy: 0.9624\n",
            "Epoch 31/100\n",
            "64/64 [==============================] - 1s 9ms/step - loss: 0.1279 - accuracy: 0.9551\n",
            "Epoch 32/100\n",
            "64/64 [==============================] - 1s 8ms/step - loss: 0.1208 - accuracy: 0.9648\n",
            "Epoch 33/100\n",
            "64/64 [==============================] - 1s 9ms/step - loss: 0.1065 - accuracy: 0.9634\n",
            "Epoch 34/100\n",
            "64/64 [==============================] - 1s 9ms/step - loss: 0.0870 - accuracy: 0.9717\n",
            "Epoch 35/100\n",
            "64/64 [==============================] - 1s 9ms/step - loss: 0.0816 - accuracy: 0.9741\n",
            "Epoch 36/100\n",
            "64/64 [==============================] - 1s 9ms/step - loss: 0.0847 - accuracy: 0.9761\n",
            "Epoch 37/100\n",
            "64/64 [==============================] - 1s 9ms/step - loss: 0.1236 - accuracy: 0.9629\n",
            "Epoch 38/100\n",
            "64/64 [==============================] - 1s 9ms/step - loss: 0.0849 - accuracy: 0.9692\n",
            "Epoch 39/100\n",
            "64/64 [==============================] - 1s 8ms/step - loss: 0.0814 - accuracy: 0.9727\n",
            "Epoch 40/100\n",
            "64/64 [==============================] - 1s 9ms/step - loss: 0.1145 - accuracy: 0.9614\n",
            "Epoch 41/100\n",
            "64/64 [==============================] - 1s 8ms/step - loss: 0.0972 - accuracy: 0.9707\n",
            "Epoch 42/100\n",
            "64/64 [==============================] - 1s 9ms/step - loss: 0.0767 - accuracy: 0.9775\n",
            "Epoch 43/100\n",
            "64/64 [==============================] - 1s 8ms/step - loss: 0.0768 - accuracy: 0.9741\n",
            "Epoch 44/100\n",
            "64/64 [==============================] - 1s 9ms/step - loss: 0.0664 - accuracy: 0.9756\n",
            "Epoch 45/100\n",
            "64/64 [==============================] - 1s 9ms/step - loss: 0.0833 - accuracy: 0.9727\n",
            "Epoch 46/100\n",
            "64/64 [==============================] - 1s 9ms/step - loss: 0.0755 - accuracy: 0.9731\n",
            "Epoch 47/100\n",
            "64/64 [==============================] - 1s 9ms/step - loss: 0.0798 - accuracy: 0.9741\n",
            "Epoch 48/100\n",
            "64/64 [==============================] - 1s 9ms/step - loss: 0.0788 - accuracy: 0.9727\n",
            "Epoch 49/100\n",
            "64/64 [==============================] - 1s 9ms/step - loss: 0.0838 - accuracy: 0.9727\n",
            "Epoch 50/100\n",
            "64/64 [==============================] - 1s 9ms/step - loss: 0.0758 - accuracy: 0.9766\n",
            "Epoch 51/100\n",
            "64/64 [==============================] - 1s 9ms/step - loss: 0.0960 - accuracy: 0.9712\n",
            "Epoch 52/100\n",
            "64/64 [==============================] - 1s 8ms/step - loss: 0.0846 - accuracy: 0.9712\n",
            "Epoch 53/100\n",
            "64/64 [==============================] - 1s 9ms/step - loss: 0.0564 - accuracy: 0.9795\n",
            "Epoch 54/100\n",
            "64/64 [==============================] - 1s 8ms/step - loss: 0.0637 - accuracy: 0.9814\n",
            "Epoch 55/100\n",
            "64/64 [==============================] - 1s 9ms/step - loss: 0.0633 - accuracy: 0.9785\n",
            "Epoch 56/100\n",
            "64/64 [==============================] - 1s 8ms/step - loss: 0.0676 - accuracy: 0.9795\n",
            "Epoch 57/100\n",
            "64/64 [==============================] - 1s 9ms/step - loss: 0.0672 - accuracy: 0.9795\n",
            "Epoch 58/100\n",
            "64/64 [==============================] - 1s 8ms/step - loss: 0.0692 - accuracy: 0.9785\n",
            "Epoch 59/100\n",
            "64/64 [==============================] - 1s 9ms/step - loss: 0.0762 - accuracy: 0.9771\n",
            "Epoch 60/100\n",
            "64/64 [==============================] - 1s 9ms/step - loss: 0.0716 - accuracy: 0.9736\n",
            "Epoch 61/100\n",
            "64/64 [==============================] - 1s 9ms/step - loss: 0.0765 - accuracy: 0.9736\n",
            "Epoch 62/100\n",
            "64/64 [==============================] - 1s 9ms/step - loss: 0.0697 - accuracy: 0.9766\n",
            "Epoch 63/100\n",
            "64/64 [==============================] - 1s 9ms/step - loss: 0.0675 - accuracy: 0.9785\n",
            "Epoch 64/100\n",
            "64/64 [==============================] - 1s 9ms/step - loss: 0.0561 - accuracy: 0.9814\n",
            "Epoch 65/100\n",
            "64/64 [==============================] - 1s 9ms/step - loss: 0.0650 - accuracy: 0.9810\n",
            "Epoch 66/100\n",
            "64/64 [==============================] - 1s 9ms/step - loss: 0.0639 - accuracy: 0.9800\n",
            "Epoch 67/100\n",
            "64/64 [==============================] - 1s 9ms/step - loss: 0.0578 - accuracy: 0.9810\n",
            "Epoch 68/100\n",
            "64/64 [==============================] - 1s 8ms/step - loss: 0.0845 - accuracy: 0.9731\n",
            "Epoch 69/100\n",
            "64/64 [==============================] - 1s 9ms/step - loss: 0.0735 - accuracy: 0.9795\n",
            "Epoch 70/100\n",
            "64/64 [==============================] - 1s 9ms/step - loss: 0.0587 - accuracy: 0.9810\n",
            "Epoch 71/100\n",
            "64/64 [==============================] - 1s 9ms/step - loss: 0.0542 - accuracy: 0.9790\n",
            "Epoch 72/100\n",
            "64/64 [==============================] - 1s 8ms/step - loss: 0.0665 - accuracy: 0.9790\n",
            "Epoch 73/100\n",
            "64/64 [==============================] - 1s 9ms/step - loss: 0.0707 - accuracy: 0.9785\n",
            "Epoch 74/100\n",
            "64/64 [==============================] - 1s 9ms/step - loss: 0.0430 - accuracy: 0.9883\n",
            "Epoch 75/100\n",
            "64/64 [==============================] - 1s 8ms/step - loss: 0.0499 - accuracy: 0.9858\n",
            "Epoch 76/100\n",
            "64/64 [==============================] - 1s 9ms/step - loss: 0.0620 - accuracy: 0.9785\n",
            "Epoch 77/100\n",
            "64/64 [==============================] - 1s 9ms/step - loss: 0.0621 - accuracy: 0.9795\n",
            "Epoch 78/100\n",
            "64/64 [==============================] - 1s 9ms/step - loss: 0.0419 - accuracy: 0.9893\n",
            "Epoch 79/100\n",
            "64/64 [==============================] - 1s 9ms/step - loss: 0.0582 - accuracy: 0.9805\n",
            "Epoch 80/100\n",
            "64/64 [==============================] - 1s 9ms/step - loss: 0.0521 - accuracy: 0.9849\n",
            "Epoch 81/100\n",
            "64/64 [==============================] - 1s 9ms/step - loss: 0.0476 - accuracy: 0.9839\n",
            "Epoch 82/100\n",
            "64/64 [==============================] - 1s 9ms/step - loss: 0.0432 - accuracy: 0.9868\n",
            "Epoch 83/100\n",
            "64/64 [==============================] - 1s 8ms/step - loss: 0.0616 - accuracy: 0.9819\n",
            "Epoch 84/100\n",
            "64/64 [==============================] - 1s 9ms/step - loss: 0.0425 - accuracy: 0.9849\n",
            "Epoch 85/100\n",
            "64/64 [==============================] - 1s 9ms/step - loss: 0.0420 - accuracy: 0.9873\n",
            "Epoch 86/100\n",
            "64/64 [==============================] - 1s 9ms/step - loss: 0.0645 - accuracy: 0.9775\n",
            "Epoch 87/100\n",
            "64/64 [==============================] - 1s 9ms/step - loss: 0.0466 - accuracy: 0.9873\n",
            "Epoch 88/100\n",
            "64/64 [==============================] - 1s 9ms/step - loss: 0.0398 - accuracy: 0.9883\n",
            "Epoch 89/100\n",
            "64/64 [==============================] - 1s 9ms/step - loss: 0.0519 - accuracy: 0.9839\n",
            "Epoch 90/100\n",
            "64/64 [==============================] - 1s 9ms/step - loss: 0.0393 - accuracy: 0.9868\n",
            "Epoch 91/100\n",
            "64/64 [==============================] - 1s 8ms/step - loss: 0.0534 - accuracy: 0.9844\n",
            "Epoch 92/100\n",
            "64/64 [==============================] - 1s 9ms/step - loss: 0.0492 - accuracy: 0.9839\n",
            "Epoch 93/100\n",
            "64/64 [==============================] - 1s 9ms/step - loss: 0.0448 - accuracy: 0.9858\n",
            "Epoch 94/100\n",
            "64/64 [==============================] - 1s 9ms/step - loss: 0.0510 - accuracy: 0.9814\n",
            "Epoch 95/100\n",
            "64/64 [==============================] - 1s 9ms/step - loss: 0.0551 - accuracy: 0.9824\n",
            "Epoch 96/100\n",
            "64/64 [==============================] - 1s 9ms/step - loss: 0.0624 - accuracy: 0.9800\n",
            "Epoch 97/100\n",
            "64/64 [==============================] - 1s 9ms/step - loss: 0.0454 - accuracy: 0.9829\n",
            "Epoch 98/100\n",
            "64/64 [==============================] - 1s 9ms/step - loss: 0.0392 - accuracy: 0.9883\n",
            "Epoch 99/100\n",
            "64/64 [==============================] - 1s 9ms/step - loss: 0.0375 - accuracy: 0.9893\n",
            "Epoch 100/100\n",
            "64/64 [==============================] - 1s 9ms/step - loss: 0.0314 - accuracy: 0.9902\n"
          ],
          "name": "stdout"
        },
        {
          "output_type": "execute_result",
          "data": {
            "text/plain": [
              "<tensorflow.python.keras.callbacks.History at 0x7f6372385e50>"
            ]
          },
          "metadata": {
            "tags": []
          },
          "execution_count": 65
        }
      ]
    },
    {
      "cell_type": "code",
      "metadata": {
        "colab": {
          "base_uri": "https://localhost:8080/",
          "height": 265
        },
        "id": "juikb2mj5w-o",
        "outputId": "2077173b-ebdb-4e9e-af25-3bd043792a77"
      },
      "source": [
        "import matplotlib.pyplot as plt\n",
        "\n",
        "plt.plot(model.history.history[\"accuracy\"], label='model_acc')\n",
        "plt.legend()\n",
        "plt.show()"
      ],
      "execution_count": null,
      "outputs": [
        {
          "output_type": "display_data",
          "data": {
            "image/png": "[encoded data removed]",
            "text/plain": [
              "<Figure size 432x288 with 1 Axes>"
            ]
          },
          "metadata": {
            "tags": [],
            "needs_background": "light"
          }
        }
      ]
    },
    {
      "cell_type": "code",
      "metadata": {
        "id": "GEQGTle1xdE6"
      },
      "source": [
        "x_test = test.drop(['id', 'letter'], axis=1).values\n",
        "x_test = x_test.reshape(-1, 28, 28, 1)\n",
        "x_test = x_test/255"
      ],
      "execution_count": null,
      "outputs": []
    },
    {
      "cell_type": "code",
      "metadata": {
        "colab": {
          "base_uri": "https://localhost:8080/",
          "height": 204
        },
        "id": "hLb6SW4G2rAb",
        "outputId": "13f9b410-b080-4042-ea62-a4aa7b12fc0f"
      },
      "source": [
        "# 적용\n",
        "sub['digit'] = np.argmax(model.predict(x_test), axis=1)\n",
        "sub.head()"
      ],
      "execution_count": null,
      "outputs": [
        {
          "output_type": "execute_result",
          "data": {
            "text/html": [
              "<div>\n",
              "<style scoped>\n",
              "    .dataframe tbody tr th:only-of-type {\n",
              "        vertical-align: middle;\n",
              "    }\n",
              "\n",
              "    .dataframe tbody tr th {\n",
              "        vertical-align: top;\n",
              "    }\n",
              "\n",
              "    .dataframe thead th {\n",
              "        text-align: right;\n",
              "    }\n",
              "</style>\n",
              "<table border=\"1\" class=\"dataframe\">\n",
              "  <thead>\n",
              "    <tr style=\"text-align: right;\">\n",
              "      <th></th>\n",
              "      <th>id</th>\n",
              "      <th>digit</th>\n",
              "    </tr>\n",
              "  </thead>\n",
              "  <tbody>\n",
              "    <tr>\n",
              "      <th>0</th>\n",
              "      <td>2049</td>\n",
              "      <td>6</td>\n",
              "    </tr>\n",
              "    <tr>\n",
              "      <th>1</th>\n",
              "      <td>2050</td>\n",
              "      <td>9</td>\n",
              "    </tr>\n",
              "    <tr>\n",
              "      <th>2</th>\n",
              "      <td>2051</td>\n",
              "      <td>8</td>\n",
              "    </tr>\n",
              "    <tr>\n",
              "      <th>3</th>\n",
              "      <td>2052</td>\n",
              "      <td>0</td>\n",
              "    </tr>\n",
              "    <tr>\n",
              "      <th>4</th>\n",
              "      <td>2053</td>\n",
              "      <td>3</td>\n",
              "    </tr>\n",
              "  </tbody>\n",
              "</table>\n",
              "</div>"
            ],
            "text/plain": [
              "     id  digit\n",
              "0  2049      6\n",
              "1  2050      9\n",
              "2  2051      8\n",
              "3  2052      0\n",
              "4  2053      3"
            ]
          },
          "metadata": {
            "tags": []
          },
          "execution_count": 68
        }
      ]
    },
    {
      "cell_type": "code",
      "metadata": {
        "id": "4ByvzIOl2yC6"
      },
      "source": [
        "# 파일저장\n",
        "sub.to_csv('baseline.csv', index=False)"
      ],
      "execution_count": null,
      "outputs": []
    }
  ]
}