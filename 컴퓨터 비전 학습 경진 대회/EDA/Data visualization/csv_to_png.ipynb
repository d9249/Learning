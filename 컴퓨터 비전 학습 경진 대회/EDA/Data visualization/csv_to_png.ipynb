{
  "nbformat": 4,
  "nbformat_minor": 0,
  "metadata": {
    "kernelspec": {
      "display_name": "Environment (conda_python3)",
      "language": "python",
      "name": "conda_python3"
    },
    "language_info": {
      "codemirror_mode": {
        "name": "ipython",
        "version": 3
      },
      "file_extension": ".py",
      "mimetype": "text/x-python",
      "name": "python",
      "nbconvert_exporter": "python",
      "pygments_lexer": "ipython3",
      "version": "3.6.5"
    },
    "colab": {
      "name": "csv to png.ipynb",
      "provenance": [],
      "collapsed_sections": [],
      "include_colab_link": true
    }
  },
  "cells": [
    {
      "cell_type": "markdown",
      "metadata": {
        "id": "view-in-github",
        "colab_type": "text"
      },
      "source": [
        "<a href=\"https://colab.research.google.com/github/d9249/DACON_Computer-Vision-Learning-Contest/blob/main/csv_to_png.ipynb\" target=\"_parent\"><img src=\"https://colab.research.google.com/assets/colab-badge.svg\" alt=\"Open In Colab\"/></a>"
      ]
    },
    {
      "cell_type": "code",
      "metadata": {
        "colab": {
          "base_uri": "https://localhost:8080/"
        },
        "id": "M9_7So3y4Krz",
        "outputId": "155e20c1-aefb-4696-8e09-904b9567774e"
      },
      "source": [
        "from google.colab import drive\n",
        "drive.mount('/content/drive')"
      ],
      "execution_count": 1,
      "outputs": [
        {
          "output_type": "stream",
          "text": [
            "Mounted at /content/drive\n"
          ],
          "name": "stdout"
        }
      ]
    },
    {
      "cell_type": "code",
      "metadata": {
        "id": "dhtfMD5V4Gzl"
      },
      "source": [
        "import pandas as pd\n",
        "import numpy as np\n",
        "import matplotlib.pyplot as plt\n",
        "import warnings\n",
        "warnings.filterwarnings(\"ignore\")\n",
        "\n",
        "train = pd.read_csv('/content/drive/MyDrive/DACON_Computer Vision Learning Contest/data/train.csv')\n",
        "test = pd.read_csv('/content/drive/MyDrive/DACON_Computer Vision Learning Contest/data/test.csv')"
      ],
      "execution_count": 2,
      "outputs": []
    },
    {
      "cell_type": "code",
      "metadata": {
        "id": "_CRnOnKU4Gzo"
      },
      "source": [
        "train image\n",
        "idx = 2048\n",
        "i = 0\n",
        "\n",
        "for i in range(idx):\n",
        "    idx = i\n",
        "    img = train.loc[idx, '0':].values.reshape(28, 28).astype(int)\n",
        "    digit = train.loc[idx, 'digit']\n",
        "    letter = train.loc[idx, 'letter']\n",
        "\n",
        "    plt.title('Index: %i, Digit: %s, Letter: %s'%(idx, digit, letter))\n",
        "    plt.imshow(img)\n",
        "    number = str(i)\n",
        "    plt.savefig('/content/drive/MyDrive/DACON_Computer Vision Learning Contest/result/train/'+number+'.png')"
      ],
      "execution_count": null,
      "outputs": []
    },
    {
      "cell_type": "code",
      "metadata": {
        "id": "iY3Fyu7_4Gzp"
      },
      "source": [
        "# test image\n",
        "idx = 20480\n",
        "i = 4281\n",
        "\n",
        "for i in range(idx):\n",
        "    idx = i\n",
        "    img = test.loc[idx, '0':].values.reshape(28, 28).astype(int)\n",
        "    letter = test.loc[idx, 'letter']\n",
        "\n",
        "    plt.title('Index: %i, Letter: %s'%(idx, letter))\n",
        "    plt.imshow(img)\n",
        "    number = str(i)\n",
        "    plt.savefig('/content/drive/MyDrive/DACON_Computer Vision Learning Contest/result/'+number+'.png')"
      ],
      "execution_count": null,
      "outputs": []
    }
  ]
}