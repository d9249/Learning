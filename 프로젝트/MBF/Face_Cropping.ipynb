{
  "nbformat": 4,
  "nbformat_minor": 0,
  "metadata": {
    "colab": {
      "name": "Face_Cropping.ipynb",
      "provenance": [],
      "collapsed_sections": [],
      "include_colab_link": true
    },
    "kernelspec": {
      "name": "python3",
      "display_name": "Python 3"
    },
    "language_info": {
      "name": "python"
    }
  },
  "cells": [
    {
      "cell_type": "markdown",
      "metadata": {
        "id": "view-in-github",
        "colab_type": "text"
      },
      "source": [
        "<a href=\"https://colab.research.google.com/github/d9249/MBTI_by_face/blob/main/Face_Cropping.ipynb\" target=\"_parent\"><img src=\"https://colab.research.google.com/assets/colab-badge.svg\" alt=\"Open In Colab\"/></a>"
      ]
    },
    {
      "cell_type": "code",
      "metadata": {
        "id": "ceosmWy8Ko_q"
      },
      "source": [
        "from google.colab import drive\n",
        "drive.mount('/content/dirve')"
      ],
      "execution_count": null,
      "outputs": []
    },
    {
      "cell_type": "code",
      "metadata": {
        "id": "Tp98YPjfwjsY"
      },
      "source": [
        "ISTJ_list = ['소녀시대써니','인피니트성규','IKON정찬우','업텐션선율','빅스혁','차태현','홍진경','GOT7마크', '김국헌', '남윤수', '보나', '이석훈', '이원석', '정찬우','제이크(ENHYPEN)', '조상우', '조현영','차준호(DRIPPIN)', '찬미(AOA)', '혁', '효연', 'BC(1TEAM)']\n",
        "INTJ_list = ['공민지','김법래','엄기준','유준상','류진(ITZY)','보아','빽가','에릭','은혁(슈퍼주니어)','이경규','이수혁','종섭(P1Harmony)','지웅(P1Harmony)','함영준','허영생']\n",
        "ESTJ_list = ['김구라','김동한(위아이)','김문수','김민규','김준수(JYJ)','노지선','데프콘','민영기','뱀뱀','손수호(변호사)','안다올(LIBERTY)','엔(VIXX)','양승조','여원(펜타곤)','이지혜','정원(ENHYPEN)','정세균','제시카','제인(모모랜드)','지수(BLACKPINK)','진태화','창조(틴탑)','치타','한채영','허경영']\n",
        "ENTJ_list = ['고영열','곽동연','김병관(A.C.E)','도영(TREASURE)','라비(VIXX)','마크튭','문가영','배승민','비토(업텐션)','서동성','서현(소녀시대)','소형준','손 심바','송영길','수아(드림캐쳐)','스윙스','시원(SUPER JUNIOR)','아샤(EVERGLOW)','여진구','유노윤호','윤하','이재경','이지영(강사)','이특','임은수','존오버','주학년','지코','지훈(TREASURE)','찬(TO1)','채인','트레이드엘','티파니영','팔로알토','한유미','허클베리피','희진(이달의소녀)','JOHA','Key(SHINEE)']"
      ],
      "execution_count": 2,
      "outputs": []
    },
    {
      "cell_type": "code",
      "metadata": {
        "id": "SI7m_1fF2N85"
      },
      "source": [
        "import cv2\n",
        "import glob\n",
        "import os\n",
        "for i in range(len(ISTJ_list)):\n",
        "    input_dir = \"/content/dirve/Shareddrives/Code-15/MBTI/ISTJ/\"+ISTJ_list[i] ## 사진이 들어있는 폴더\n",
        "    output_dir = \"/content/dirve/Shareddrives/Code-15/MBTI/ISTJ/\"+ISTJ_list[i]+'_Crop' ## 사진을 뱉는 폴더\n",
        "    files = os.listdir(input_dir)\n",
        "    print(files)\n",
        "    face_cascade = cv2.CascadeClassifier('/content/dirve/Shareddrives/Code-15/MBTI/haarcascade_frontalface.xml')\n",
        "\n",
        "    for el in files:\n",
        "        splt = el.split(\".\") # 파일 이름\n",
        "        ext = splt.pop() # 파일 확장자\n",
        "        if ext in \"jpg jpeg png bmp JPG JPEG PNG BMP\":\n",
        "            img_files = input_dir+'/'+ el\n",
        "            img = cv2.imread(img_files)\n",
        "            gray = cv2.cvtColor(img, cv2.COLOR_BGR2GRAY)\n",
        "            faces = face_cascade.detectMultiScale(gray, 1.3, 5)\n",
        "            for (x, y, w, h) in faces:\n",
        "                cropped = img[y - int(h / 4):y + h + int(h / 4), x - int(w / 4):x + w + int(w / 4)]\n",
        "                if cropped.size == 0:\n",
        "                    print(el+' 파일 출력실패')\n",
        "                    break\n",
        "                # 이미지를 저장\n",
        "                cv2.imwrite(output_dir+'/'+el, cropped)\n",
        "                print(ISTJ_list[i] + '/' + el +' 파일 출력성공')"
      ],
      "execution_count": null,
      "outputs": []
    }
  ]
}