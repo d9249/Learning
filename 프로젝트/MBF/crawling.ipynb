{
  "nbformat": 4,
  "nbformat_minor": 0,
  "metadata": {
    "colab": {
      "name": "crawling.ipynb",
      "provenance": [],
      "collapsed_sections": [],
      "authorship_tag": "ABX9TyP0KiqK64kgEhfpVV1x1KCQ",
      "include_colab_link": true
    },
    "kernelspec": {
      "name": "python3",
      "display_name": "Python 3"
    },
    "language_info": {
      "name": "python"
    }
  },
  "cells": [
    {
      "cell_type": "markdown",
      "metadata": {
        "id": "view-in-github",
        "colab_type": "text"
      },
      "source": [
        "<a href=\"https://colab.research.google.com/github/d9249/MBTI_by_face/blob/main/crawling.ipynb\" target=\"_parent\"><img src=\"https://colab.research.google.com/assets/colab-badge.svg\" alt=\"Open In Colab\"/></a>"
      ]
    },
    {
      "cell_type": "code",
      "metadata": {
        "id": "ZNB3K09sbzSP"
      },
      "source": [
        "!pip install Selenium\n",
        "!apt-get update\n",
        "!apt install chromium-chromedriver"
      ],
      "execution_count": null,
      "outputs": []
    },
    {
      "cell_type": "code",
      "metadata": {
        "id": "A4SNpcD_chO5"
      },
      "source": [
        "from google.colab import drive\n",
        "drive.mount('/content/drive')"
      ],
      "execution_count": null,
      "outputs": []
    },
    {
      "cell_type": "code",
      "metadata": {
        "id": "9YE8tz0xVDB7"
      },
      "source": [
        "ISTJ_list = ['GOT7마크', '김국헌', '남윤수', '보나', '이석훈', '이원석', '정찬우','제이크(ENHYPEN)', '조상우', '조현영','차준호(DRIPPIN)', '찬미(AOA)', '혁', '효연', 'BC(1TEAM)']\n",
        "INTJ_list = ['공민지','김법래','엄기준','유준상','류진(ITZY)','보아','빽가','에릭','은혁(슈퍼주니어)','이경규','이수혁','종섭(P1Harmony)','지웅(P1Harmony)','함영준','허영생']\n",
        "ESTJ_list = ['김구라','김동한(위아이)','김문수','김민규','김준수(JYJ)','노지선','데프콘','민영기','뱀뱀','손수호(변호사)','안다올(LIBERTY)','엔(VIXX)','양승조','여원(펜타곤)','이지혜','정원(ENHYPEN)','정세균','제시카','제인(모모랜드)','지수(BLACKPINK)','진태화','창조(틴탑)','치타','한채영','허경영']\n",
        "ENTJ_list = ['고영열','곽동연','김병관(A.C.E)','도영(TREASURE)','라비(VIXX)','마크튭','문가영','배승민','비토(업텐션)','서동성','서현(소녀시대)','소형준','송영길','수아(드림캐쳐)','스윙스','시원(SUPERJUNIOR)','아샤(EVERGLOW)','여진구','유노윤호','윤하','이재경','이지영(강사)','이특','임은수','존오버','주학년','지코','지훈(TREASURE)','찬(TO1)','채인','트레이드엘','티파니영','팔로알토','한유미','허클베리피','희진(이달의소녀)','JOHA','Key(SHINEE)']"
      ],
      "execution_count": 6,
      "outputs": []
    },
    {
      "cell_type": "code",
      "metadata": {
        "id": "ZqfINgRyb2yh"
      },
      "source": [
        "from selenium import webdriver\n",
        "from urllib.request import urlopen\n",
        "from bs4 import BeautifulSoup as bs\n",
        "from urllib.parse import quote_plus\n",
        "from selenium.webdriver.common.keys import Keys\n",
        "import time\n",
        "import urllib.request\n",
        "\n",
        "for i in range(len(ENTJ_list)):\n",
        "    chrome_options = webdriver.ChromeOptions()\n",
        "    chrome_options.add_argument('--headless')  # 내부 창을 띄울 수 없으므로 설정\n",
        "    chrome_options.add_argument('--no-sandbox')\n",
        "    chrome_options.add_argument('--disable-dev-shm-usage')\n",
        "    driver = webdriver.Chrome('chromedriver', chrome_options=chrome_options)\n",
        "    driver.get(\"https://www.google.co.kr/imghp?hl=ko&ogbl\")\n",
        "    elem = driver.find_element_by_name(\"q\")\n",
        "    elem.send_keys(ENTJ_list[i])\n",
        "    elem.send_keys(Keys.RETURN)\n",
        "    SCROLL_PAUSE_TIME = 1\n",
        "    last_height = driver.execute_script(\"return document.body.scrollHeight\")\n",
        "\n",
        "    while True:\n",
        "        driver.execute_script(\"window.scrollTo(0, document.body.scrollHeight);\")\n",
        "        time.sleep(SCROLL_PAUSE_TIME)\n",
        "        new_height = driver.execute_script(\"return document.body.scrollHeight\")\n",
        "        if new_height == last_height:\n",
        "            try:\n",
        "                driver.find_element_by_css_selector(\".mye4qd\").click()\n",
        "            except:\n",
        "                break\n",
        "        last_height = new_height\n",
        "\n",
        "    images = driver.find_elements_by_css_selector(\".rg_i.Q4LuWd\")\n",
        "    count = 1\n",
        "\n",
        "    for image in images:\n",
        "        try:\n",
        "            image.click()\n",
        "            # time.sleep(2)\n",
        "            imgUrl = driver.find_element_by_css_selector('.n3VNCb').get_attribute(\"src\")\n",
        "            imgName = '/content/drive/Shareddrives/Code-15/MBTI/ENTJ/' + ENTJ_list[i] +'/' + str(count)+'.jpg'\n",
        "            urllib.request.urlretrieve(imgUrl, imgName)\n",
        "            count = count + 1\n",
        "        except:\n",
        "            pass\n",
        "\n",
        "    driver.close()"
      ],
      "execution_count": null,
      "outputs": []
    }
  ]
}